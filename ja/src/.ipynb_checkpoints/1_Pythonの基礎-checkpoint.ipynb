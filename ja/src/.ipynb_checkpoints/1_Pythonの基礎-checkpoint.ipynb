{
 "cells": [
  {
   "cell_type": "markdown",
   "metadata": {
    "colab_type": "text",
    "id": "D3QflLv0qdiy"
   },
   "source": [
    "# Python入門\n",
    "\n",
    "この章では、 Python というプログラミング言語の基礎、およびプログラムの実行環境である Google Colaboratory の使用方法について学びます。\n",
    "\n",
    "## Google Colaboratory の基礎\n",
    "\n",
    "Google Colaboratory は Google 社が提供している Web サービスです。以下の URL からアクセスできます。\n",
    "https://colab.research.google.com/notebooks/\n",
    "\n",
    "早速、Google Colaboratory を開いてみましょう。（利用には Google のアカウントが必要です。）\n",
    "\n",
    "`NEW PYTHON 3 NOTEBOOK` をクリックすると Google Colaboratory 上で Jupyter Notebook というプログラムが実行できる環境を作る事ができます。\n",
    "\n",
    "### Google Colaboratory とは\n",
    "\n",
    "Google Colaboratory はデータ解析などで広く使用されている Jupyter Notebook 環境を、Google が用意したサーバー（クラウド）上に立ち上げ、それを利用者が自身のコンピュータ上でブラウザから使用することができるようにしたウェブサービスです。\n",
    "\n",
    "まずはこの Jupyter Notebook 環境の特徴を説明します。\n",
    "\n",
    "#### Jupyter Notebook 環境の特徴\n",
    "\n",
    "- ブラウザから利用可能なため、利用者は手元のコンピュータのメーカーやOSの違いを気にする必要がない\n",
    "- コードの実行結果が確認しやすく、デバックが容易\n",
    "- データの可視化も可能\n",
    "- Markdown を使用してメモを記入する事ができるためコメントや解説をコードと一緒に管理することができ、コードの共有の際に便利\n",
    "\n",
    "Jupyter Notebook には以上の様なメリットがあるため、現在データ解析の実務でも利用されることがあります。\n",
    "\n",
    "Jupyter Notebook 環境は利用者が自身のコンピュータ上（ローカル環境といいます）で立ち上げることもできます。一方、Google Colaboratory は upyter Notebook 環境を Google 用意しているクラウドサーバー上に作成し、そこへのアクセスをブラウザを介して可能にするものです。以降のチュートリアルでは全て Google Colaboratory を使って用意した Jupyter Notebook 環境を利用します。それには以下の様な理由があります。\n",
    "\n",
    "#### Google Colaboratory 使用のメリット\n",
    "\n",
    "- ブラウザから書いたコードを、クラウド上で実行することができ、その際ハードウェアアクセラレータ（計算を高速化するための追加ハードウェア）として **GPU を無料で使用する事ができる**\n",
    "- Google Docs などのウェブサービスと同様に、リアルタイムに複数人で使用することができる\n",
    "- データ解析によく用いられるツール（ライブラリなど）が予め整備されているため、**環境構築が不要**\n",
    "\n",
    "このような利点があるため、本チュートリアルではできる限り Google Colaboratory を使用して学習できるよう資料全体を構築しています。そのため、資料中のコードなどは Google Colaboratory 上で動作確認が行われています。\n",
    "\n",
    "それでは、Google Colaboratory の基本的な使用方法を説明します。\n",
    "\n",
    "### Google Colaboratory の基本的な使用方法\n",
    "\n",
    "Google Colaboratory ではブラウザ上でコードを記述し、そのコードを実行し、さらに実行結果を確認する事まで可能です。まず、下の四角い\n",
    "\n",
    "試しに、下の「1 + 1」と書かれたあたりをクリックして、コードセル（コードを記述し、実行することができるブロックのこと）を選択し、`Shift + Enter` を押してコードを実行してみましょう。"
   ]
  },
  {
   "cell_type": "code",
   "execution_count": 1,
   "metadata": {},
   "outputs": [
    {
     "data": {
      "text/plain": [
       "2"
      ]
     },
     "execution_count": 1,
     "metadata": {},
     "output_type": "execute_result"
    }
   ],
   "source": [
    "1 + 1"
   ]
  },
  {
   "cell_type": "markdown",
   "metadata": {},
   "source": [
    "コードセルの真下に「2」と表示されました。「1 + 1」が計算され、その結果が表示されました。"
   ]
  },
  {
   "cell_type": "markdown",
   "metadata": {
    "colab_type": "text",
    "id": "AfqUqCCb3ue8"
   },
   "source": [
    "#### GoogleDrive ディレクトリのマウント\n",
    "\n",
    "GoogleDrive 内のディレクトリを認識させ、GoogleDrive 内のファイルを使用する事ができます。  \n",
    "自身のデータを使用する場合などには GoogleDrive ディレクトリをマウントしてから使用すると便利です。"
   ]
  },
  {
   "cell_type": "code",
   "execution_count": 2,
   "metadata": {
    "colab": {
     "base_uri": "https://localhost:8080/",
     "height": 122
    },
    "colab_type": "code",
    "id": "TI3-V_gN3Ekr",
    "outputId": "093b6117-b169-4fa4-ca65-43d3f93c63a6"
   },
   "outputs": [
    {
     "ename": "ModuleNotFoundError",
     "evalue": "No module named 'google.colab'",
     "output_type": "error",
     "traceback": [
      "\u001b[0;31m---------------------------------------------------------------------------\u001b[0m",
      "\u001b[0;31mModuleNotFoundError\u001b[0m                       Traceback (most recent call last)",
      "\u001b[0;32m<ipython-input-2-d5df0069828e>\u001b[0m in \u001b[0;36m<module>\u001b[0;34m\u001b[0m\n\u001b[0;32m----> 1\u001b[0;31m \u001b[0;32mfrom\u001b[0m \u001b[0mgoogle\u001b[0m\u001b[0;34m.\u001b[0m\u001b[0mcolab\u001b[0m \u001b[0;32mimport\u001b[0m \u001b[0mdrive\u001b[0m\u001b[0;34m\u001b[0m\u001b[0;34m\u001b[0m\u001b[0m\n\u001b[0m\u001b[1;32m      2\u001b[0m \u001b[0mdrive\u001b[0m\u001b[0;34m.\u001b[0m\u001b[0mmount\u001b[0m\u001b[0;34m(\u001b[0m\u001b[0;34m'/content/drive'\u001b[0m\u001b[0;34m)\u001b[0m\u001b[0;34m\u001b[0m\u001b[0;34m\u001b[0m\u001b[0m\n",
      "\u001b[0;31mModuleNotFoundError\u001b[0m: No module named 'google.colab'"
     ]
    }
   ],
   "source": [
    "from google.colab import drive\n",
    "drive.mount('/content/drive')"
   ]
  },
  {
   "cell_type": "code",
   "execution_count": 3,
   "metadata": {
    "colab": {
     "base_uri": "https://localhost:8080/",
     "height": 34
    },
    "colab_type": "code",
    "id": "osShvuIQ3GFy",
    "outputId": "2d3846e4-1c2e-4cd3-c403-0813f6f40d99"
   },
   "outputs": [
    {
     "name": "stdout",
     "output_type": "stream",
     "text": [
      "'My Drive'\n"
     ]
    }
   ],
   "source": [
    "# 'My Drive'の表記が出ていればマウントがうまく行われています。\n",
    "!ls 'drive/'"
   ]
  },
  {
   "cell_type": "markdown",
   "metadata": {
    "colab_type": "text",
    "id": "jZNTuBQ54BSu"
   },
   "source": [
    "### Google Colaboratoryの便利なショートカット\n",
    "\n",
    "Google Colaboratory解析を行う上で、コード表記やMarkdown表記への変更など頻繁に行います。  \n",
    "\n",
    "そこで下記のショートカットキーを覚えておくと便利です。  \n",
    "基本的には`Ctrl`を押しながら`m`そして、それぞれの実行内容に合わせてコマンドを変更します。  \n",
    "\n",
    "| 説明                 | コマンド      |\n",
    "| -------------------- | ------------- |\n",
    "| Markdownモードへ変更 | Ctrl + m → m       |\n",
    "| Codeモードへ変更     | Ctrl + m → y       |\n",
    "| セルの実行           | shift + enter |\n",
    "| セルを上に追加       | Ctrl + m → a       |\n",
    "| セルを下に追加       | Ctrl + m → b       |\n",
    "| セルのコピー         | Ctrl + m → c       |\n",
    "| セルの貼り付け       | Ctrl + m → v       |\n",
    "| セルの消去       | Ctrl + m → d       |\n",
    "| コメントアウト       | Ctrl + /       |\n",
    "\n",
    "※macの場合は`Ctrl`の代わりに`command`を使用します。  \n",
    "※コメントアウトはコード記述の中にコメントを記入する際に用いられます。Pythonでは`#`の後にコメントを記述する事ができます。\n",
    "\n",
    "## Pythonの基礎\n",
    "\n",
    "環境が整いましたので、データ解析に必要なプログラミング言語であるPythonについて学んでいきます。  \n",
    "\n",
    "### 変数"
   ]
  },
  {
   "cell_type": "code",
   "execution_count": 0,
   "metadata": {
    "colab": {},
    "colab_type": "code",
    "id": "SjpDQJn-3Rct"
   },
   "outputs": [],
   "source": [
    "a = 1"
   ]
  },
  {
   "cell_type": "markdown",
   "metadata": {
    "colab_type": "text",
    "id": "aitz3Hri_a-n"
   },
   "source": [
    "これは`a`という変数に`1`を代入していることになります。\n",
    "\n",
    "変数の中身を確認したい時は`print(a)`のように`print`というコマンドを使用することを覚えておきましょう。  \n",
    "`print`は非常によく使います。"
   ]
  },
  {
   "cell_type": "code",
   "execution_count": 5,
   "metadata": {
    "colab": {
     "base_uri": "https://localhost:8080/",
     "height": 34
    },
    "colab_type": "code",
    "id": "VZDkbgKG_gNK",
    "outputId": "c65d0e1a-da5d-45a8-9f9a-8fd8fe5f9a76"
   },
   "outputs": [
    {
     "name": "stdout",
     "output_type": "stream",
     "text": [
      "1\n"
     ]
    }
   ],
   "source": [
    "print(a)"
   ]
  },
  {
   "cell_type": "markdown",
   "metadata": {
    "colab_type": "text",
    "id": "o5Ue2cHZ_gaW"
   },
   "source": [
    "またJupyter Notebook環境では`a`と変数のみで実行しても中身を確認することもできます。"
   ]
  },
  {
   "cell_type": "code",
   "execution_count": 6,
   "metadata": {
    "colab": {
     "base_uri": "https://localhost:8080/",
     "height": 34
    },
    "colab_type": "code",
    "id": "uVIFeoMF_vD6",
    "outputId": "de258deb-6210-49ba-8d45-c0b5d96de7a3"
   },
   "outputs": [
    {
     "data": {
      "text/plain": [
       "1"
      ]
     },
     "execution_count": 6,
     "metadata": {
      "tags": []
     },
     "output_type": "execute_result"
    }
   ],
   "source": [
    "a"
   ]
  },
  {
   "cell_type": "markdown",
   "metadata": {
    "colab_type": "text",
    "id": "I_Z6hhts_v4c"
   },
   "source": [
    "#### 数値の種類\n",
    "\n",
    "コンピュータの内部的処理の話になりますが、`int型`と呼ばれる整数と`float型`と呼ばれる実数（小数を含んだ数値）を扱うための数値型の２種類があります。  \n",
    "\n",
    "数値・変数の種類を確認するには`type()`を使用します。"
   ]
  },
  {
   "cell_type": "code",
   "execution_count": 7,
   "metadata": {
    "colab": {
     "base_uri": "https://localhost:8080/",
     "height": 34
    },
    "colab_type": "code",
    "id": "8gT1JiXV_9Bk",
    "outputId": "befb7a02-c5d2-461a-8100-0618cc73da4e"
   },
   "outputs": [
    {
     "data": {
      "text/plain": [
       "int"
      ]
     },
     "execution_count": 7,
     "metadata": {
      "tags": []
     },
     "output_type": "execute_result"
    }
   ],
   "source": [
    "type(a)"
   ]
  },
  {
   "cell_type": "code",
   "execution_count": 8,
   "metadata": {
    "colab": {
     "base_uri": "https://localhost:8080/",
     "height": 34
    },
    "colab_type": "code",
    "id": "9rIMaRvYAH2r",
    "outputId": "8ca71123-8d83-42ed-ddf4-14204faab844"
   },
   "outputs": [
    {
     "data": {
      "text/plain": [
       "float"
      ]
     },
     "execution_count": 8,
     "metadata": {
      "tags": []
     },
     "output_type": "execute_result"
    }
   ],
   "source": [
    "b = 1.5\n",
    "type(b)"
   ]
  },
  {
   "cell_type": "markdown",
   "metadata": {
    "colab_type": "text",
    "id": "Yx3jtaJsAKqV"
   },
   "source": [
    "Pythonでは、整数を代入すれば`int`、実数を代入すれば`float`と自動的に判定してくれるため、  \n",
    "最初はあまり気にする必要はありません。  \n",
    "但し、Chainerでは、この数値型の変数の取り扱いに制約があるということを覚えておきましょう。\n",
    "\n",
    "\n",
    "#### 文字の変数\n",
    "\n",
    "文字の代入も数値と同じように`=`を使うだけです。  \n",
    "但し、文字を扱う場合は、`' '`（シングルクォーテーション）もしくは `\" \"`（ダブルクォーテーション）のどちらかで文字を囲む必要があります。  \n",
    "\n",
    "機能的には同じになるので、どちらを使用しても問題ありません。  \n",
    "（一般的にシングルクオテーションを用います。）  \n",
    "\n",
    "また文字列は `string`型(`str`)になります。"
   ]
  },
  {
   "cell_type": "code",
   "execution_count": 0,
   "metadata": {
    "colab": {},
    "colab_type": "code",
    "id": "b3AdsWczAUan"
   },
   "outputs": [],
   "source": [
    "name = 'Chainer'"
   ]
  },
  {
   "cell_type": "code",
   "execution_count": 10,
   "metadata": {
    "colab": {
     "base_uri": "https://localhost:8080/",
     "height": 34
    },
    "colab_type": "code",
    "id": "_Hq16PxwArLG",
    "outputId": "500c4495-c17f-4b31-c2fc-d258edb45791"
   },
   "outputs": [
    {
     "name": "stdout",
     "output_type": "stream",
     "text": [
      "Chainer\n"
     ]
    }
   ],
   "source": [
    "print(name)"
   ]
  },
  {
   "cell_type": "code",
   "execution_count": 12,
   "metadata": {
    "colab": {
     "base_uri": "https://localhost:8080/",
     "height": 34
    },
    "colab_type": "code",
    "id": "HjP-MJsBAsxQ",
    "outputId": "b2d71f74-8f22-43de-da56-c204c2e35236"
   },
   "outputs": [
    {
     "data": {
      "text/plain": [
       "str"
      ]
     },
     "execution_count": 12,
     "metadata": {
      "tags": []
     },
     "output_type": "execute_result"
    }
   ],
   "source": [
    "type(name)"
   ]
  },
  {
   "cell_type": "markdown",
   "metadata": {
    "colab_type": "text",
    "id": "ki-hrMkNAuS8"
   },
   "source": [
    "文字列同士は足し算により、結合を行う事ができます。"
   ]
  },
  {
   "cell_type": "code",
   "execution_count": 0,
   "metadata": {
    "colab": {},
    "colab_type": "code",
    "id": "H_KPaflNBDn3"
   },
   "outputs": [],
   "source": [
    "name1 = 'Chainer'\n",
    "name2 = 'チュートリアル'"
   ]
  },
  {
   "cell_type": "code",
   "execution_count": 15,
   "metadata": {
    "colab": {
     "base_uri": "https://localhost:8080/",
     "height": 34
    },
    "colab_type": "code",
    "id": "SdnZ5eM1BIuN",
    "outputId": "4b3b5dd1-cc02-47ff-e9fa-c67ab42623a2"
   },
   "outputs": [
    {
     "name": "stdout",
     "output_type": "stream",
     "text": [
      "Chainerチュートリアル\n"
     ]
    }
   ],
   "source": [
    "print(name1 + name2)"
   ]
  },
  {
   "cell_type": "markdown",
   "metadata": {
    "colab_type": "text",
    "id": "lPCTw5RcBLx4"
   },
   "source": [
    "#### 四則演算\n",
    "\n",
    "足し算は`+`、引き算は`-`、掛け算は`*`、割り算は`/`で表現します。  \n",
    "べき乗は`**`です。  "
   ]
  },
  {
   "cell_type": "code",
   "execution_count": 16,
   "metadata": {
    "colab": {
     "base_uri": "https://localhost:8080/",
     "height": 34
    },
    "colab_type": "code",
    "id": "MBaRZ2RkBWbd",
    "outputId": "75693fac-ec8c-4f9d-b0eb-4a23dd932f26"
   },
   "outputs": [
    {
     "data": {
      "text/plain": [
       "2"
      ]
     },
     "execution_count": 16,
     "metadata": {
      "tags": []
     },
     "output_type": "execute_result"
    }
   ],
   "source": [
    "# 足し算\n",
    "1 + 1"
   ]
  },
  {
   "cell_type": "code",
   "execution_count": 17,
   "metadata": {
    "colab": {
     "base_uri": "https://localhost:8080/",
     "height": 34
    },
    "colab_type": "code",
    "id": "hL5QmnGgBYNF",
    "outputId": "d1617b8b-2389-4642-fc18-ffc70c6fde97"
   },
   "outputs": [
    {
     "data": {
      "text/plain": [
       "1"
      ]
     },
     "execution_count": 17,
     "metadata": {
      "tags": []
     },
     "output_type": "execute_result"
    }
   ],
   "source": [
    "# 引き算\n",
    "2 - 1"
   ]
  },
  {
   "cell_type": "code",
   "execution_count": 18,
   "metadata": {
    "colab": {
     "base_uri": "https://localhost:8080/",
     "height": 34
    },
    "colab_type": "code",
    "id": "v82yE4keBZeo",
    "outputId": "cddc246a-4376-4d16-c715-8a4e89351a68"
   },
   "outputs": [
    {
     "data": {
      "text/plain": [
       "15"
      ]
     },
     "execution_count": 18,
     "metadata": {
      "tags": []
     },
     "output_type": "execute_result"
    }
   ],
   "source": [
    "# 掛け算\n",
    "3 * 5"
   ]
  },
  {
   "cell_type": "code",
   "execution_count": 20,
   "metadata": {
    "colab": {
     "base_uri": "https://localhost:8080/",
     "height": 34
    },
    "colab_type": "code",
    "id": "KHRGnOcNBi05",
    "outputId": "aeddf7da-57bc-46ca-d3e4-4cd3c7457a14"
   },
   "outputs": [
    {
     "data": {
      "text/plain": [
       "5.0"
      ]
     },
     "execution_count": 20,
     "metadata": {
      "tags": []
     },
     "output_type": "execute_result"
    }
   ],
   "source": [
    "# 割り算\n",
    "10 / 2"
   ]
  },
  {
   "cell_type": "code",
   "execution_count": 19,
   "metadata": {
    "colab": {
     "base_uri": "https://localhost:8080/",
     "height": 34
    },
    "colab_type": "code",
    "id": "PFwX_4_pBbY0",
    "outputId": "624685e6-90a5-4421-f9b9-240d80e6af12"
   },
   "outputs": [
    {
     "data": {
      "text/plain": [
       "8"
      ]
     },
     "execution_count": 19,
     "metadata": {
      "tags": []
     },
     "output_type": "execute_result"
    }
   ],
   "source": [
    "# べき乗\n",
    "2 ** 3"
   ]
  },
  {
   "cell_type": "markdown",
   "metadata": {
    "colab_type": "text",
    "id": "Z62QzE-4Bc4a"
   },
   "source": [
    "### 基本構文\n",
    "\n",
    "#### 比較演算\n",
    "\n",
    "大小の比較は`<`（もしくは`>`）、等しい場合は`==`、等しくない場合は`!=`を使用します。"
   ]
  },
  {
   "cell_type": "code",
   "execution_count": 21,
   "metadata": {
    "colab": {
     "base_uri": "https://localhost:8080/",
     "height": 34
    },
    "colab_type": "code",
    "id": "5AXOptIWCN53",
    "outputId": "43f73105-74b1-48e9-b5c8-e0a182549113"
   },
   "outputs": [
    {
     "data": {
      "text/plain": [
       "True"
      ]
     },
     "execution_count": 21,
     "metadata": {
      "tags": []
     },
     "output_type": "execute_result"
    }
   ],
   "source": [
    "1 < 2"
   ]
  },
  {
   "cell_type": "code",
   "execution_count": 22,
   "metadata": {
    "colab": {
     "base_uri": "https://localhost:8080/",
     "height": 34
    },
    "colab_type": "code",
    "id": "wR2OPEwiCP5_",
    "outputId": "a8a10445-d102-4c4d-cfd5-63d435c0c75c"
   },
   "outputs": [
    {
     "data": {
      "text/plain": [
       "False"
      ]
     },
     "execution_count": 22,
     "metadata": {
      "tags": []
     },
     "output_type": "execute_result"
    }
   ],
   "source": [
    "2 == 5"
   ]
  },
  {
   "cell_type": "code",
   "execution_count": 23,
   "metadata": {
    "colab": {
     "base_uri": "https://localhost:8080/",
     "height": 34
    },
    "colab_type": "code",
    "id": "TfEDslvKCQ7o",
    "outputId": "963c02ad-92b4-4658-a8ea-2a830b466fc0"
   },
   "outputs": [
    {
     "data": {
      "text/plain": [
       "True"
      ]
     },
     "execution_count": 23,
     "metadata": {
      "tags": []
     },
     "output_type": "execute_result"
    }
   ],
   "source": [
    "1 != 2"
   ]
  },
  {
   "cell_type": "code",
   "execution_count": 25,
   "metadata": {
    "colab": {
     "base_uri": "https://localhost:8080/",
     "height": 34
    },
    "colab_type": "code",
    "id": "W1v_F8-7CWI-",
    "outputId": "bc08434e-82e4-4271-ab38-6a850a470461"
   },
   "outputs": [
    {
     "data": {
      "text/plain": [
       "True"
      ]
     },
     "execution_count": 25,
     "metadata": {
      "tags": []
     },
     "output_type": "execute_result"
    }
   ],
   "source": [
    "3 >= 3"
   ]
  },
  {
   "cell_type": "code",
   "execution_count": 24,
   "metadata": {
    "colab": {
     "base_uri": "https://localhost:8080/",
     "height": 34
    },
    "colab_type": "code",
    "id": "XapxlGSYCSOU",
    "outputId": "77526996-a092-4ae3-8f21-85b8be2bdc6f"
   },
   "outputs": [
    {
     "data": {
      "text/plain": [
       "True"
      ]
     },
     "execution_count": 24,
     "metadata": {
      "tags": []
     },
     "output_type": "execute_result"
    }
   ],
   "source": [
    "'test' == 'test'"
   ]
  },
  {
   "cell_type": "markdown",
   "metadata": {
    "colab_type": "text",
    "id": "Wr7NohtiCUN_"
   },
   "source": [
    "#### エスケープシーケンス\n",
    "\n",
    "通常の文字列では表せない特殊な文字や機能を、規定された特別な文字の並びにより表したものです。  \n",
    "  よく使用するものとして、`\\n`（もしくは`¥n`）による **改行** 、`\\t`（もしくは`¥t`） による**タブ**があります。"
   ]
  },
  {
   "cell_type": "code",
   "execution_count": 26,
   "metadata": {
    "colab": {
     "base_uri": "https://localhost:8080/",
     "height": 51
    },
    "colab_type": "code",
    "id": "m3CBKEsrC4L-",
    "outputId": "ebdda7a9-e514-4a1c-c2fa-a4e3073013a5"
   },
   "outputs": [
    {
     "name": "stdout",
     "output_type": "stream",
     "text": [
      "Chainerチュートリアルへ\n",
      "ようこそ\n"
     ]
    }
   ],
   "source": [
    "print('Chainerチュートリアルへ\\nようこそ')"
   ]
  },
  {
   "cell_type": "code",
   "execution_count": 27,
   "metadata": {
    "colab": {
     "base_uri": "https://localhost:8080/",
     "height": 34
    },
    "colab_type": "code",
    "id": "FosQ7-tzC_45",
    "outputId": "2721ff00-81e2-415f-c1b1-5284e891c6d1"
   },
   "outputs": [
    {
     "name": "stdout",
     "output_type": "stream",
     "text": [
      "Chainerチュートリアルへ\tようこそ\n"
     ]
    }
   ],
   "source": [
    "print('Chainerチュートリアルへ\\tようこそ')"
   ]
  },
  {
   "cell_type": "markdown",
   "metadata": {
    "colab_type": "text",
    "id": "BQhk7-XfDFhS"
   },
   "source": [
    "#### コメントアウト\n",
    "\n",
    "コメントアウトはプログラムとしては意味を持たないものです。  \n",
    "しかし他の人にプログラムの機能を伝えるためによく使用されるものです。  \n",
    "コメントアウトは`ctrl + /`（もしくは`command + /`）のショートカットキーでも切り替える事が可能です。"
   ]
  },
  {
   "cell_type": "code",
   "execution_count": 0,
   "metadata": {
    "colab": {},
    "colab_type": "code",
    "id": "YK_XjChXDXmH"
   },
   "outputs": [],
   "source": [
    "# これはコメントのため、実行時に無視されます。"
   ]
  },
  {
   "cell_type": "markdown",
   "metadata": {
    "colab_type": "text",
    "id": "S1TLaajMDtmr"
   },
   "source": [
    "### 複数の変数\n",
    "\n",
    "#### リスト\n",
    "\n",
    "変数を`[]`で囲んで並べたものです。  \n",
    "それぞれの変数のことを **要素** と呼びます。  \n",
    "\n",
    "`type()`を実行することによって`list`形式になっている事が確認できます。"
   ]
  },
  {
   "cell_type": "code",
   "execution_count": 0,
   "metadata": {
    "colab": {},
    "colab_type": "code",
    "id": "MJ7ZYj82D-a1"
   },
   "outputs": [],
   "source": [
    "numbers = [4, 5, 6, 7]"
   ]
  },
  {
   "cell_type": "code",
   "execution_count": 39,
   "metadata": {
    "colab": {
     "base_uri": "https://localhost:8080/",
     "height": 34
    },
    "colab_type": "code",
    "id": "buZVjXRaEMkE",
    "outputId": "f3eb8bb7-a9e5-43ac-8f39-71b29c4b1001"
   },
   "outputs": [
    {
     "name": "stdout",
     "output_type": "stream",
     "text": [
      "[4, 5, 6, 7]\n"
     ]
    }
   ],
   "source": [
    "print(numbers)"
   ]
  },
  {
   "cell_type": "code",
   "execution_count": 40,
   "metadata": {
    "colab": {
     "base_uri": "https://localhost:8080/",
     "height": 34
    },
    "colab_type": "code",
    "id": "HH3NT-y4EC4Z",
    "outputId": "f499e1ae-b868-477c-ba7d-9257a1a1ce1d"
   },
   "outputs": [
    {
     "data": {
      "text/plain": [
       "list"
      ]
     },
     "execution_count": 40,
     "metadata": {
      "tags": []
     },
     "output_type": "execute_result"
    }
   ],
   "source": [
    "type(numbers)"
   ]
  },
  {
   "cell_type": "markdown",
   "metadata": {
    "colab_type": "text",
    "id": "RiJeRUdrEEUq"
   },
   "source": [
    "##### リストへのアクセス（スライス）\n",
    "\n",
    "一番左側の要素にアクセスするには要素番号`0`を指定すると取得する事ができます。  \n",
    "Pythonで複数の変数の中から要素を取り出す際には基本的に`[]`を使用することを覚えておくといいでしょう。  "
   ]
  },
  {
   "cell_type": "code",
   "execution_count": 41,
   "metadata": {
    "colab": {
     "base_uri": "https://localhost:8080/",
     "height": 34
    },
    "colab_type": "code",
    "id": "DeCsf_L1Em29",
    "outputId": "79cf7e61-9858-40fb-a6b8-36e3ffede67e"
   },
   "outputs": [
    {
     "data": {
      "text/plain": [
       "4"
      ]
     },
     "execution_count": 41,
     "metadata": {
      "tags": []
     },
     "output_type": "execute_result"
    }
   ],
   "source": [
    "# Index番号0にアクセス\n",
    "numbers[0]"
   ]
  },
  {
   "cell_type": "markdown",
   "metadata": {
    "colab_type": "text",
    "id": "DLzLjTQ8EoG9"
   },
   "source": [
    "リストから部分的に取り出してみます。  \n",
    "`:（コロン）`を使うことで部分的な要素を取り出すことができます。"
   ]
  },
  {
   "cell_type": "code",
   "execution_count": 42,
   "metadata": {
    "colab": {
     "base_uri": "https://localhost:8080/",
     "height": 34
    },
    "colab_type": "code",
    "id": "MPI2H38DEy2N",
    "outputId": "9eee3403-5da2-48e4-e317-ec2e1587a76c"
   },
   "outputs": [
    {
     "data": {
      "text/plain": [
       "[4, 5, 6]"
      ]
     },
     "execution_count": 42,
     "metadata": {
      "tags": []
     },
     "output_type": "execute_result"
    }
   ],
   "source": [
    "numbers[0:3]"
   ]
  },
  {
   "cell_type": "markdown",
   "metadata": {
    "colab_type": "text",
    "id": "gK6_JXXTE2AY"
   },
   "source": [
    "ここで`0`から`3`と指定するのは、  \n",
    "「要素番号が0番目から3番目のひとつ手前までの要素を抜き出す」という仕様となっているためです。  \n",
    "\n",
    "一番最初の要素である`0`は省略することができるためこの様な仕様となっています。"
   ]
  },
  {
   "cell_type": "code",
   "execution_count": 43,
   "metadata": {
    "colab": {
     "base_uri": "https://localhost:8080/",
     "height": 34
    },
    "colab_type": "code",
    "id": "hBo2_C5aFPHR",
    "outputId": "753d5716-b7f9-4300-ae52-0bfc7044367e"
   },
   "outputs": [
    {
     "data": {
      "text/plain": [
       "[4, 5, 6]"
      ]
     },
     "execution_count": 43,
     "metadata": {
      "tags": []
     },
     "output_type": "execute_result"
    }
   ],
   "source": [
    "numbers[:3]"
   ]
  },
  {
   "cell_type": "markdown",
   "metadata": {
    "colab_type": "text",
    "id": "Qqem8sujFQVP"
   },
   "source": [
    "この様に記述すると「先頭から3つを取り出す」と、直感的に扱うことができます。  \n",
    "\n",
    "そして「1番目から最後まで」は下記になります。  "
   ]
  },
  {
   "cell_type": "code",
   "execution_count": 44,
   "metadata": {
    "colab": {
     "base_uri": "https://localhost:8080/",
     "height": 34
    },
    "colab_type": "code",
    "id": "gItFJqoUFYzX",
    "outputId": "5c1b88d3-bf21-40d1-e5fe-0bd81aef12d8"
   },
   "outputs": [
    {
     "data": {
      "text/plain": [
       "[5, 6, 7]"
      ]
     },
     "execution_count": 44,
     "metadata": {
      "tags": []
     },
     "output_type": "execute_result"
    }
   ],
   "source": [
    "numbers[1:]"
   ]
  },
  {
   "cell_type": "markdown",
   "metadata": {
    "colab_type": "text",
    "id": "HIIQZKIMFZ5x"
   },
   "source": [
    "よく使う「全て」は、次のように記述します。"
   ]
  },
  {
   "cell_type": "code",
   "execution_count": 46,
   "metadata": {
    "colab": {
     "base_uri": "https://localhost:8080/",
     "height": 34
    },
    "colab_type": "code",
    "id": "ybcCTDk7FdBm",
    "outputId": "ba980a4a-d05a-4a56-bfb6-4f2250e4a1a5"
   },
   "outputs": [
    {
     "data": {
      "text/plain": [
       "[4, 5, 6, 7]"
      ]
     },
     "execution_count": 46,
     "metadata": {
      "tags": []
     },
     "output_type": "execute_result"
    }
   ],
   "source": [
    "numbers[:]"
   ]
  },
  {
   "cell_type": "markdown",
   "metadata": {
    "colab_type": "text",
    "id": "AyoiOU5OFfET"
   },
   "source": [
    "    これだけですと`numbers`と全く変わりませんが、この記述方法は２次元以上の多次元配列となった際に効果を発揮します。  \n",
    "\n",
    "「matrixという多次元配列の特定列(0)の全ての行」といったときには、  \n",
    "`matrix[:, 0]`のように記述（こちらはNumpyの扱い方ですが）することがあります。  \n",
    "\n",
    "リストは数値以外に、文字列も扱えます。  \n"
   ]
  },
  {
   "cell_type": "code",
   "execution_count": 0,
   "metadata": {
    "colab": {},
    "colab_type": "code",
    "id": "9JglgRiWFyo8"
   },
   "outputs": [],
   "source": [
    "words = ['hello', 'world']"
   ]
  },
  {
   "cell_type": "code",
   "execution_count": 49,
   "metadata": {
    "colab": {
     "base_uri": "https://localhost:8080/",
     "height": 34
    },
    "colab_type": "code",
    "id": "rKJ9yFaXF13r",
    "outputId": "2edfd494-90db-48c2-8bf5-bc426a8924e9"
   },
   "outputs": [
    {
     "name": "stdout",
     "output_type": "stream",
     "text": [
      "['hello', 'world']\n"
     ]
    }
   ],
   "source": [
    "print(words)"
   ]
  },
  {
   "cell_type": "markdown",
   "metadata": {
    "colab_type": "text",
    "id": "5lYy-LP6F3wP"
   },
   "source": [
    "また、**空のリスト** を定義しておき、そこに新たな要素を追加（`append`）していく処理をよく行います。"
   ]
  },
  {
   "cell_type": "code",
   "execution_count": 0,
   "metadata": {
    "colab": {},
    "colab_type": "code",
    "id": "00AEmnpxGPky"
   },
   "outputs": [],
   "source": [
    "# 空のリストを定義\n",
    "names = []"
   ]
  },
  {
   "cell_type": "code",
   "execution_count": 0,
   "metadata": {
    "colab": {},
    "colab_type": "code",
    "id": "7EauWPxrF_YN"
   },
   "outputs": [],
   "source": [
    "# 空のリストに要素を追加\n",
    "names.append('Chainer')\n",
    "names.append('チュートリアル')"
   ]
  },
  {
   "cell_type": "code",
   "execution_count": 52,
   "metadata": {
    "colab": {
     "base_uri": "https://localhost:8080/",
     "height": 34
    },
    "colab_type": "code",
    "id": "nSPPEBuPGCm8",
    "outputId": "5fc66f9f-1e3e-4bf3-d445-c61f51d0ecdb"
   },
   "outputs": [
    {
     "name": "stdout",
     "output_type": "stream",
     "text": [
      "['Chainer', 'チュートリアル']\n"
     ]
    }
   ],
   "source": [
    "print(names)"
   ]
  },
  {
   "cell_type": "markdown",
   "metadata": {
    "colab_type": "text",
    "id": "CaQ_9Fc4GL13"
   },
   "source": [
    "リストの豆知識として、リストの変数名には**複数形**で名前を付けるこが一般的です。  \n",
    "変数名を見ただけでリストであることが把握でるためです。`for文`と相性が良い、この二つがその理由です。  \n",
    "\n",
    "※ 詳しくは`for文`の節で説明します。  \n"
   ]
  },
  {
   "cell_type": "markdown",
   "metadata": {
    "colab_type": "text",
    "id": "CV1072C3M7Qy"
   },
   "source": [
    "#### タプル\n",
    "\n",
    "リストとは異なり、定義した後には**変更ができない** 配列のことを**タプル**と呼びます。\n",
    "複数の要素を一つにまとめたもので、宣言は`( )`を使用し、要素にアクセスする際には`[ ]`を使用します。\n"
   ]
  },
  {
   "cell_type": "code",
   "execution_count": 0,
   "metadata": {
    "colab": {},
    "colab_type": "code",
    "id": "mo4lGZN6NGAI"
   },
   "outputs": [],
   "source": [
    "t = (4, 5, 6)"
   ]
  },
  {
   "cell_type": "code",
   "execution_count": 54,
   "metadata": {
    "colab": {
     "base_uri": "https://localhost:8080/",
     "height": 34
    },
    "colab_type": "code",
    "id": "Fq7zIHMfNIXG",
    "outputId": "a786f837-04a0-4657-ab13-f1b33a772bd1"
   },
   "outputs": [
    {
     "data": {
      "text/plain": [
       "4"
      ]
     },
     "execution_count": 54,
     "metadata": {
      "tags": []
     },
     "output_type": "execute_result"
    }
   ],
   "source": [
    "t[0]"
   ]
  },
  {
   "cell_type": "markdown",
   "metadata": {
    "colab_type": "text",
    "id": "KjdkYtSmNSl3"
   },
   "source": [
    "##### タプルの要素を書き換え\n",
    "\n",
    "タプルは**定数**など、書き換えられたくない値に使用してください。  \n",
    "要素の抽出方法は、基本的にはリストと同じになっています。\n",
    "\n",
    "書き換えは`[]`で要素にアクセスし、そこに新たな値を代入すると書き換えを実行する事ができます。　 \n",
    "ですが、この書き換えがタプルでは実行する事ができません。"
   ]
  },
  {
   "cell_type": "code",
   "execution_count": 55,
   "metadata": {
    "colab": {
     "base_uri": "https://localhost:8080/",
     "height": 168
    },
    "colab_type": "code",
    "id": "DRoToOjUNI51",
    "outputId": "85e43371-c2f8-4671-cf36-27ccfa1e2fe5"
   },
   "outputs": [
    {
     "ename": "TypeError",
     "evalue": "ignored",
     "output_type": "error",
     "traceback": [
      "\u001b[0;31m---------------------------------------------------------------------------\u001b[0m",
      "\u001b[0;31mTypeError\u001b[0m                                 Traceback (most recent call last)",
      "\u001b[0;32m<ipython-input-55-88963aa635fa>\u001b[0m in \u001b[0;36m<module>\u001b[0;34m()\u001b[0m\n\u001b[0;32m----> 1\u001b[0;31m \u001b[0mt\u001b[0m\u001b[0;34m[\u001b[0m\u001b[0;36m0\u001b[0m\u001b[0;34m]\u001b[0m \u001b[0;34m=\u001b[0m \u001b[0;36m10\u001b[0m\u001b[0;34m\u001b[0m\u001b[0;34m\u001b[0m\u001b[0m\n\u001b[0m",
      "\u001b[0;31mTypeError\u001b[0m: 'tuple' object does not support item assignment"
     ]
    }
   ],
   "source": [
    "t[0] = 10"
   ]
  },
  {
   "cell_type": "markdown",
   "metadata": {
    "colab_type": "text",
    "id": "nV8Lp5jLNO66"
   },
   "source": [
    "#### 辞書\n",
    "\n",
    "**キー（key）**と**値（value）**のペアを保持するリストのことです。  \n",
    "\n",
    "APIで使用されるJSONも、この形式で変数を保存することで値に対する説明を行うことができます。"
   ]
  },
  {
   "cell_type": "code",
   "execution_count": 0,
   "metadata": {
    "colab": {},
    "colab_type": "code",
    "id": "NyxphI5fNMO8"
   },
   "outputs": [],
   "source": [
    "results = {'数学': 90, '理科': 75, '英語': 80 }"
   ]
  },
  {
   "cell_type": "code",
   "execution_count": 57,
   "metadata": {
    "colab": {
     "base_uri": "https://localhost:8080/",
     "height": 34
    },
    "colab_type": "code",
    "id": "M-V2XOEdNu2a",
    "outputId": "b0c5c6ea-1eb9-4a94-8de1-de798bf95bf4"
   },
   "outputs": [
    {
     "data": {
      "text/plain": [
       "90"
      ]
     },
     "execution_count": 57,
     "metadata": {
      "tags": []
     },
     "output_type": "execute_result"
    }
   ],
   "source": [
    "results['数学'] "
   ]
  },
  {
   "cell_type": "markdown",
   "metadata": {
    "colab_type": "text",
    "id": "oELnTpERNwCQ"
   },
   "source": [
    "### 制御構文\n",
    "\n",
    "#### for文：繰り返し\n",
    "\n",
    "for文は**繰り返し**に使います。  \n",
    "繰り返しの処理はプログラミングで頻繁に使用する構文になります。  \n",
    "\n",
    "一番簡単な数値での繰り返しの方法を確認します。  "
   ]
  },
  {
   "cell_type": "code",
   "execution_count": 58,
   "metadata": {
    "colab": {
     "base_uri": "https://localhost:8080/",
     "height": 102
    },
    "colab_type": "code",
    "id": "f7Y4APgkON_7",
    "outputId": "7ae34cc8-c167-4940-ba37-97f8669f7fb4"
   },
   "outputs": [
    {
     "name": "stdout",
     "output_type": "stream",
     "text": [
      "0\n",
      "1\n",
      "2\n",
      "3\n",
      "4\n"
     ]
    }
   ],
   "source": [
    "#0から4まで繰り返す\n",
    "for i in range(5):\n",
    "    print(i)"
   ]
  },
  {
   "cell_type": "markdown",
   "metadata": {
    "colab_type": "text",
    "id": "oLpTgIv4OPnt"
   },
   "source": [
    "for文含め、Pythonの構文では、`:`の後からは処理ブロックが始まり、`スペース4つ`がそのブロック内であることを表します。  \n",
    "今回は、`print(i)`という処理がfor文の中に入っており、  \n",
    "これを繰り返すことがわかります。  \n",
    "\n",
    "`range`を使用することで、特定回数の繰り返しが行われます。  \n",
    "ここでの注意点は、`range(5)`と指定すると「0,1,2,3,4」のように、  \n",
    "0から始まることです。  \n",
    "0から始まることで、リストの要素番号へうまくアクセスすることができます。  \n",
    "\n",
    "この`range(5)`で作成されたリストの要素一つ一つを取り出し、  \n",
    "一時的な変数である`i`に格納して、処理を実行するという流れです。  \n",
    "\n",
    "一時的な変数名は`i`でなくても大丈夫ですが、  \n",
    "要素番号を指定するときには、よく `i` を使用します。  \n",
    "\n",
    "リストの要素番号として、各要素を取り出す時は以下のように記述できます。"
   ]
  },
  {
   "cell_type": "code",
   "execution_count": 59,
   "metadata": {
    "colab": {
     "base_uri": "https://localhost:8080/",
     "height": 68
    },
    "colab_type": "code",
    "id": "b6XXuQ_gOnxk",
    "outputId": "5d3bbd1d-0a89-458b-8936-6a43075e1db2"
   },
   "outputs": [
    {
     "name": "stdout",
     "output_type": "stream",
     "text": [
      "佐藤さん\n",
      "鈴木さん\n",
      "高橋さん\n"
     ]
    }
   ],
   "source": [
    "names = ['佐藤', '鈴木', '高橋']\n",
    "\n",
    "for i in range(3):\n",
    "    print( names[i] + 'さん' )"
   ]
  },
  {
   "cell_type": "markdown",
   "metadata": {
    "colab_type": "text",
    "id": "cinQvebxOpat"
   },
   "source": [
    "今回はリストの要素数を`range(3)`と数値で指定しましたが、  \n",
    "これは汎用性の低いプログラムです。  \n",
    "\n",
    "もう少し汎用性を高めるため、自動的に要素数を取得する方法を考えます。 "
   ]
  },
  {
   "cell_type": "code",
   "execution_count": 61,
   "metadata": {
    "colab": {
     "base_uri": "https://localhost:8080/",
     "height": 34
    },
    "colab_type": "code",
    "id": "e4gbC4CIOzve",
    "outputId": "e46fe567-c6e1-40b3-84e6-15140c4a1465"
   },
   "outputs": [
    {
     "data": {
      "text/plain": [
       "3"
      ]
     },
     "execution_count": 61,
     "metadata": {
      "tags": []
     },
     "output_type": "execute_result"
    }
   ],
   "source": [
    "len(names)"
   ]
  },
  {
   "cell_type": "markdown",
   "metadata": {
    "colab_type": "text",
    "id": "aRJlm8wNO0wO"
   },
   "source": [
    "`len`を使用することで、リストの要素数を取得できます。  \n",
    "（`len`はlengthの省略と覚えやすいです。）\n",
    "\n",
    "これを使用し汎用性を高めたfor文は、以下の通りです。\n"
   ]
  },
  {
   "cell_type": "code",
   "execution_count": 62,
   "metadata": {
    "colab": {
     "base_uri": "https://localhost:8080/",
     "height": 68
    },
    "colab_type": "code",
    "id": "4i21QYMwPB1C",
    "outputId": "ec22f98e-6bc4-40e7-bf4d-c6a8e4986098"
   },
   "outputs": [
    {
     "name": "stdout",
     "output_type": "stream",
     "text": [
      "佐藤さん\n",
      "鈴木さん\n",
      "高橋さん\n"
     ]
    }
   ],
   "source": [
    "names = ['佐藤', '鈴木', '高橋']\n",
    "\n",
    "for i in range(len(names)):\n",
    "    print( names[i] + 'さん' )"
   ]
  },
  {
   "cell_type": "markdown",
   "metadata": {
    "colab_type": "text",
    "id": "9wx-qJovPEC0"
   },
   "source": [
    "汎用性が高いプログラムにする事ができましたが、  \n",
    "Pythonではより簡潔に記述する事が可能です。  \n",
    "\n",
    "Pythonならでは書き方としては、要素番号を指定するのではなく、  \n",
    "以下のように記述します。"
   ]
  },
  {
   "cell_type": "code",
   "execution_count": 63,
   "metadata": {
    "colab": {
     "base_uri": "https://localhost:8080/",
     "height": 68
    },
    "colab_type": "code",
    "id": "LHFKIhnfPVY_",
    "outputId": "04b4c4b5-b0a6-4141-d76d-eb23e2bd14c0"
   },
   "outputs": [
    {
     "name": "stdout",
     "output_type": "stream",
     "text": [
      "佐藤さん\n",
      "鈴木さん\n",
      "高橋さん\n"
     ]
    }
   ],
   "source": [
    "#Pythonならではのfor文\n",
    "for name in names:\n",
    "    print(name + 'さん')"
   ]
  },
  {
   "cell_type": "markdown",
   "metadata": {
    "colab_type": "text",
    "id": "eeTHJ3hzPW7U"
   },
   "source": [
    "このようなプログラムを**可読性が高い**といいます。  \n",
    "可読性が高いと他の人に伝わりやすいだけでなく、バグを生み出しにくくなります。  \n",
    "プログラムを書く際は動作することはもちろん、可読性という観点ももち書くことを心がけましょう。  \n",
    "\n",
    "また、for文でよく使うのが、要素番号も取得しながら繰り返す`enumerate`と、２つのリストを同時に繰り返す`zip`です。  \n",
    "\n",
    "\n",
    "#### enumerateの使用方法\n",
    "\n",
    "`enumerate`はインデックスの番号が必要な場合に用いられます。  \n",
    "`(要素番号, 要素)`と入ってくるので、そのようなケースには最適です。 "
   ]
  },
  {
   "cell_type": "code",
   "execution_count": 64,
   "metadata": {
    "colab": {
     "base_uri": "https://localhost:8080/",
     "height": 68
    },
    "colab_type": "code",
    "id": "kiFk4NF9P2Bi",
    "outputId": "91fb08a1-484d-4ab6-9a38-000377992da9"
   },
   "outputs": [
    {
     "name": "stdout",
     "output_type": "stream",
     "text": [
      "0 番目:  佐藤 さん\n",
      "1 番目:  鈴木 さん\n",
      "2 番目:  高橋 さん\n"
     ]
    }
   ],
   "source": [
    "for (i, name) in enumerate(names):\n",
    "    print(i, '番目: ', name, 'さん')"
   ]
  },
  {
   "cell_type": "markdown",
   "metadata": {
    "colab_type": "text",
    "id": "wGwCa9wmP2r4"
   },
   "source": [
    "#### zipの使用方法\n",
    "\n",
    "`zip`では2つのリストを同時にfor文で扱いたい場合に使用します。  "
   ]
  },
  {
   "cell_type": "code",
   "execution_count": 0,
   "metadata": {
    "colab": {},
    "colab_type": "code",
    "id": "5w8huhHcQR8F"
   },
   "outputs": [],
   "source": [
    "names1 = ['佐藤', '鈴木', '高橋']\n",
    "names2 = ['亮介', '俊介', '大介']"
   ]
  },
  {
   "cell_type": "markdown",
   "metadata": {
    "colab_type": "text",
    "id": "YEUyROjbQZjd"
   },
   "source": [
    "`zip`を使用しない場合はこのように記述することできます。"
   ]
  },
  {
   "cell_type": "code",
   "execution_count": 67,
   "metadata": {
    "colab": {
     "base_uri": "https://localhost:8080/",
     "height": 68
    },
    "colab_type": "code",
    "id": "XjOCWee7QUuR",
    "outputId": "f9204e0f-40cd-4627-9259-0d9c6ac3a27d"
   },
   "outputs": [
    {
     "name": "stdout",
     "output_type": "stream",
     "text": [
      "佐藤 亮介\n",
      "鈴木 俊介\n",
      "高橋 大介\n"
     ]
    }
   ],
   "source": [
    "for i in range(3):\n",
    "  print(names1[i], names2[i])\n"
   ]
  },
  {
   "cell_type": "markdown",
   "metadata": {
    "colab_type": "text",
    "id": "qtniUsYmQfYz"
   },
   "source": [
    "`zip`を使用すると下記のように比較的見やすいコードにする事ができます。"
   ]
  },
  {
   "cell_type": "code",
   "execution_count": 68,
   "metadata": {
    "colab": {
     "base_uri": "https://localhost:8080/",
     "height": 68
    },
    "colab_type": "code",
    "id": "IeQCA00UQYDq",
    "outputId": "a1a234ae-abec-40a3-8dde-b3bc2b36b551"
   },
   "outputs": [
    {
     "name": "stdout",
     "output_type": "stream",
     "text": [
      "佐藤 亮介\n",
      "鈴木 俊介\n",
      "高橋 大介\n"
     ]
    }
   ],
   "source": [
    "for (name1, name2) in zip(names1, names2):\n",
    "    print(name1, name2)"
   ]
  },
  {
   "cell_type": "markdown",
   "metadata": {
    "colab_type": "text",
    "id": "WguFiYgqQnQT"
   },
   "source": [
    "### if文：条件分岐\n",
    "\n",
    "これもfor文と同じく、よく使う構文です。\n",
    "\n",
    "もう一度比較演算子を確認します。  \n",
    "\n",
    "-    `==` ： 等しい\n",
    "-    `!=` ： 等しくない\n",
    "-    `<, >` ： 大きい、小さい\n",
    "\n",
    "例えば、`val`という変数が0より大きい（正の値）か否かを判定するときは以下のように記述します。\n"
   ]
  },
  {
   "cell_type": "code",
   "execution_count": 69,
   "metadata": {
    "colab": {
     "base_uri": "https://localhost:8080/",
     "height": 34
    },
    "colab_type": "code",
    "id": "E-x_6gXwSsm7",
    "outputId": "50ecefec-6ed1-4c25-924c-208e9e75549f"
   },
   "outputs": [
    {
     "name": "stdout",
     "output_type": "stream",
     "text": [
      "正の値です\n"
     ]
    }
   ],
   "source": [
    "val = 1\n",
    "if val > 0:\n",
    "    print('正の値です')\n",
    "else:\n",
    "    print('負の値です')"
   ]
  },
  {
   "cell_type": "markdown",
   "metadata": {
    "colab_type": "text",
    "id": "u0F8tX6FStcQ"
   },
   "source": [
    "この実行結果は`正の値です`と表示されます。  \n",
    "if文もfor文と同様、`:（コロン）`でブロックを区切ります。  \n",
    "\n",
    "`else`は**それ以外**という意味であり、`val`が0よりも大きくなければ、全てこの処理が実行されます。  \n",
    "\n",
    "また、条件が当てはまらなくて追加する場合は、`elif`を使います。\n"
   ]
  },
  {
   "cell_type": "code",
   "execution_count": 70,
   "metadata": {
    "colab": {
     "base_uri": "https://localhost:8080/",
     "height": 34
    },
    "colab_type": "code",
    "id": "6li0UyjpStjg",
    "outputId": "728d13a9-ff6b-4e7a-b0cf-eaa745e5b03f"
   },
   "outputs": [
    {
     "name": "stdout",
     "output_type": "stream",
     "text": [
      "０です\n"
     ]
    }
   ],
   "source": [
    "val = 0\n",
    "if val > 0:\n",
    "    print('正の値です')\n",
    "elif val == 0:\n",
    "    print('０です')\n",
    "else:\n",
    "    print('負の値です')"
   ]
  },
  {
   "cell_type": "markdown",
   "metadata": {
    "colab_type": "text",
    "id": "gPXlXYd3StvS"
   },
   "source": [
    "### 関数\n",
    "\n",
    "#### 一番簡単な関数\n",
    "\n",
    "関数は、複数の処理をまとめて使いたい時、再利用性を高めるために使用するものです。  \n",
    "\n",
    "まずは一番簡単な関数を作成します。\n"
   ]
  },
  {
   "cell_type": "code",
   "execution_count": 0,
   "metadata": {
    "colab": {},
    "colab_type": "code",
    "id": "YFElEIibSt6G"
   },
   "outputs": [],
   "source": [
    "def say_hello():\n",
    "    print('こんにちは、田中さん')\n",
    "    print('ご機嫌いかがですか')"
   ]
  },
  {
   "cell_type": "markdown",
   "metadata": {
    "colab_type": "text",
    "id": "WU93CadKTJh7"
   },
   "source": [
    "実行には `関数名()`で実行する事ができます。"
   ]
  },
  {
   "cell_type": "code",
   "execution_count": 73,
   "metadata": {
    "colab": {
     "base_uri": "https://localhost:8080/",
     "height": 51
    },
    "colab_type": "code",
    "id": "wTA2j73mTPuH",
    "outputId": "fd1f27f8-a4ba-4972-96e4-73dffc5c03da"
   },
   "outputs": [
    {
     "name": "stdout",
     "output_type": "stream",
     "text": [
      "こんにちは、キカガクさん\n",
      "ご機嫌いかがですか\n"
     ]
    }
   ],
   "source": [
    "say_hello()"
   ]
  },
  {
   "cell_type": "markdown",
   "metadata": {
    "colab_type": "text",
    "id": "OQQNTal8TSbc"
   },
   "source": [
    "このように関数は定義した後に実行することで、いつでも再利用できます。\n",
    "\n",
    "#### 入力（引数）のある関数\n",
    "\n",
    "先の関数は、常に同じ処理しかできないため、汎用性が高いとはいえません。  \n",
    "\n",
    "そこで「田中」や「高橋」といった名前を自由に変えられるように、入力（引数）の値を変えられる関数を作成します。  "
   ]
  },
  {
   "cell_type": "code",
   "execution_count": 0,
   "metadata": {
    "colab": {},
    "colab_type": "code",
    "id": "WFfz0NrSTy0E"
   },
   "outputs": [],
   "source": [
    "def say_hello2(name):\n",
    "    print('こんにちは、{}さん'.format(name))\n",
    "    print('ご機嫌いかがですか')"
   ]
  },
  {
   "cell_type": "markdown",
   "metadata": {
    "colab_type": "text",
    "id": "ptA8mK4hTaC8"
   },
   "source": [
    "このように「こんにちは、○○さん」という入力の値によって、出力結果が変わります。  \n",
    "\n",
    "「○○」に対応する部分を一時的に`name`という変数が入力されると仮定して、この処理を書いていくわけですが文字列の中に`{ }`があり、その後に`.format(name)`が来てこの文法はまだ紹介していません。    \n",
    "\n",
    "これはPythonでよく使う、他の言語の`%s`のような機能で、`{ }`に対応した場所に、`.format()`で指定した変数を格納するといった意味です。  \n",
    "\n",
    "この関数を実行してみます。  \n",
    "実行時には、`name`に対応する入力の値を与える必要があります。  "
   ]
  },
  {
   "cell_type": "code",
   "execution_count": 77,
   "metadata": {
    "colab": {
     "base_uri": "https://localhost:8080/",
     "height": 51
    },
    "colab_type": "code",
    "id": "JXsFmISRUroq",
    "outputId": "4bc64007-64a8-4c2a-9736-c01f0116b9ef"
   },
   "outputs": [
    {
     "name": "stdout",
     "output_type": "stream",
     "text": [
      "こんにちは、高橋さん\n",
      "ご機嫌いかがですか\n"
     ]
    }
   ],
   "source": [
    "say_hello2('高橋')"
   ]
  },
  {
   "cell_type": "markdown",
   "metadata": {
    "colab_type": "text",
    "id": "qa3ob__WUvkL"
   },
   "source": [
    "#### 出力のある関数\n",
    "\n",
    "入力に引き続き、出力のある関数です。  \n",
    "先の実行結果は、`print`で表示されるにとどまっており、  \n",
    "計算した結果をあとで使い回せない状況です。  \n",
    "\n",
    "試しに、入力しか指定しない`say_hello2`から出力された先の値を確認してみます。\n"
   ]
  },
  {
   "cell_type": "code",
   "execution_count": 82,
   "metadata": {
    "colab": {
     "base_uri": "https://localhost:8080/",
     "height": 68
    },
    "colab_type": "code",
    "id": "TNEU-x3pU1cg",
    "outputId": "72fc66c8-1f14-422c-b4ea-56c6d70380a1"
   },
   "outputs": [
    {
     "name": "stdout",
     "output_type": "stream",
     "text": [
      "こんにちは、株式会社キカガクさん\n",
      "ご機嫌いかがですか\n",
      "None\n"
     ]
    }
   ],
   "source": [
    "message = say_hello2('株式会社キカガク')\n",
    "\n",
    "# 出力の値を確認\n",
    "print(message)"
   ]
  },
  {
   "cell_type": "markdown",
   "metadata": {
    "colab_type": "text",
    "id": "2ZRa-zdzU1tT"
   },
   "source": [
    "このように、`message`という変数には何も格納されておらず、  \n",
    "結果を使えない事が確認できます。\n",
    "\n",
    "では、出力を設定を行います。\n",
    "出力設定は単純に、`return`の後に出力したい変数を指定します。  "
   ]
  },
  {
   "cell_type": "code",
   "execution_count": 0,
   "metadata": {
    "colab": {},
    "colab_type": "code",
    "id": "2oHXT88pVPhq"
   },
   "outputs": [],
   "source": [
    "def say_hello3(name):\n",
    "    message = 'こんにちは、{}さん'.format(name)\n",
    "    return message  # 出力"
   ]
  },
  {
   "cell_type": "markdown",
   "metadata": {
    "colab_type": "text",
    "id": "ThZ6kQUkVSzQ"
   },
   "source": [
    "実行して出力が得られているか確認します。  "
   ]
  },
  {
   "cell_type": "code",
   "execution_count": 81,
   "metadata": {
    "colab": {
     "base_uri": "https://localhost:8080/",
     "height": 34
    },
    "colab_type": "code",
    "id": "eVhA08MrVask",
    "outputId": "7ad9b922-82f0-47ae-e9bc-fbb1b3a79bf3"
   },
   "outputs": [
    {
     "name": "stdout",
     "output_type": "stream",
     "text": [
      "こんにちは、株式会社キカガクさん\n"
     ]
    }
   ],
   "source": [
    "message = say_hello3('株式会社キカガク')\n",
    "\n",
    "# 出力の値を確認\n",
    "print(message)"
   ]
  },
  {
   "cell_type": "markdown",
   "metadata": {
    "colab_type": "text",
    "id": "z2HrXi6iVbjQ"
   },
   "source": [
    "出力の値が渡ったことがわかります。\n",
    "\n",
    "また、入力、出力ともに`,(カンマ)`を使うことで複数を指定できます。"
   ]
  },
  {
   "cell_type": "markdown",
   "metadata": {
    "colab_type": "text",
    "id": "FBe0bEnnVoE5"
   },
   "source": [
    "### クラス\n",
    "\n",
    "変数や関数をひとまとまりで扱うことの出来る概念のことです。  \n",
    "関数を作ることはあっても、クラスを作ることはあまりないかもしれません。  \n",
    "大きなプロジェクトを作ることがなければなかなか遭遇しないのですが、Chainerなどのプログラムを読む際に必要となる可能性があるため、ここでは必要最小限の説明をします。  \n",
    "\n",
    "クラスとして定義を行い、それを実態化させることを**インスタンス化**と呼びます。  \n",
    "\n",
    "\n",
    "#### 関数を持ったクラス\n",
    "\n",
    "Pythonでのクラスは以下のように定義します。  "
   ]
  },
  {
   "cell_type": "code",
   "execution_count": 0,
   "metadata": {
    "colab": {},
    "colab_type": "code",
    "id": "_qi929kVV069"
   },
   "outputs": [],
   "source": [
    "class MyClass1:\n",
    "    # 関数を定義\n",
    "    def say_hello():\n",
    "        print(\"こんにちは\")"
   ]
  },
  {
   "cell_type": "markdown",
   "metadata": {
    "colab_type": "text",
    "id": "PkU9_ZnSV6NW"
   },
   "source": [
    "クラスは定義するだけでは実態を持たず、概念のような存在です。\n",
    "\n",
    "#### MyClassクラスをインスタンス化\n",
    "\n",
    "実態を持たせるために**インスタンス化**を行います。"
   ]
  },
  {
   "cell_type": "code",
   "execution_count": 84,
   "metadata": {
    "colab": {
     "base_uri": "https://localhost:8080/",
     "height": 34
    },
    "colab_type": "code",
    "id": "MChFQmkwV8AT",
    "outputId": "088ed8ba-d2f5-4f86-fb08-b40899874925"
   },
   "outputs": [
    {
     "name": "stdout",
     "output_type": "stream",
     "text": [
      "こんにちは\n"
     ]
    }
   ],
   "source": [
    "# aにMyClass1インスタンスを代入\n",
    "a = MyClass1\n",
    "# MyClass1内のsay_hello関数を実行\n",
    "a.say_hello()"
   ]
  },
  {
   "cell_type": "markdown",
   "metadata": {
    "colab_type": "text",
    "id": "AfadTqBCWEUW"
   },
   "source": [
    "#### クラス変数を持ったクラス\n",
    "\n",
    "クラスには関数以外にも変数をもたせることができます。  \n",
    "基本的に、変数の値はインスタンス内で保持されます。  "
   ]
  },
  {
   "cell_type": "code",
   "execution_count": 0,
   "metadata": {
    "colab": {},
    "colab_type": "code",
    "id": "cjm-oK68WNQs"
   },
   "outputs": [],
   "source": [
    "class MyClass2:\n",
    "    name = \"Chainer チュートリアル\""
   ]
  },
  {
   "cell_type": "markdown",
   "metadata": {
    "colab_type": "text",
    "id": "HkDtidrBWQUB"
   },
   "source": [
    "インスタンス化を実行し中身を確認します。"
   ]
  },
  {
   "cell_type": "code",
   "execution_count": 88,
   "metadata": {
    "colab": {
     "base_uri": "https://localhost:8080/",
     "height": 34
    },
    "colab_type": "code",
    "id": "YicwP1c9WOUU",
    "outputId": "5f0d3871-50db-4afc-c3ac-1c56378a0687"
   },
   "outputs": [
    {
     "data": {
      "text/plain": [
       "'Chainer チュートリアル'"
      ]
     },
     "execution_count": 88,
     "metadata": {
      "tags": []
     },
     "output_type": "execute_result"
    }
   ],
   "source": [
    "a = MyClass2\n",
    "a.name # クラス変数にアクセス"
   ]
  },
  {
   "cell_type": "markdown",
   "metadata": {
    "colab_type": "text",
    "id": "6dTnMfI9WUzS"
   },
   "source": [
    "このクラス変数は簡単に代入もできます。\n"
   ]
  },
  {
   "cell_type": "code",
   "execution_count": 0,
   "metadata": {
    "colab": {},
    "colab_type": "code",
    "id": "bo5CZ8rhXJcB"
   },
   "outputs": [],
   "source": [
    "class MyClass2:\n",
    "    name = \"Chainer\"\n",
    "\n",
    "    def change():\n",
    "        MyClass2.name = \"チュートリアル\"       "
   ]
  },
  {
   "cell_type": "code",
   "execution_count": 130,
   "metadata": {
    "colab": {
     "base_uri": "https://localhost:8080/",
     "height": 34
    },
    "colab_type": "code",
    "id": "DTFnJZMIXf9m",
    "outputId": "e7521005-33ec-4909-8e73-1a78c65cd6a9"
   },
   "outputs": [
    {
     "name": "stdout",
     "output_type": "stream",
     "text": [
      "Chainer\n"
     ]
    }
   ],
   "source": [
    "a = MyClass2        \n",
    "print(a.name)"
   ]
  },
  {
   "cell_type": "code",
   "execution_count": 0,
   "metadata": {
    "colab": {},
    "colab_type": "code",
    "id": "lR4ERsw3XSDm"
   },
   "outputs": [],
   "source": [
    "a.change()"
   ]
  },
  {
   "cell_type": "code",
   "execution_count": 134,
   "metadata": {
    "colab": {
     "base_uri": "https://localhost:8080/",
     "height": 34
    },
    "colab_type": "code",
    "id": "s4BIU2c_XY8I",
    "outputId": "c8918516-2a0e-4d1b-a0c8-91c579b78f82"
   },
   "outputs": [
    {
     "name": "stdout",
     "output_type": "stream",
     "text": [
      "チュートリアル\n"
     ]
    }
   ],
   "source": [
    "print(a.name)"
   ]
  },
  {
   "cell_type": "markdown",
   "metadata": {
    "colab_type": "text",
    "id": "Iczq6FmRXjBj"
   },
   "source": [
    "クラス変数には思わぬ落とし穴があります。  \n",
    "クラス内で変数の値を保持するため、別のインスタンスを作成した際に、そのクラス変数の値が他のインスタンスへ共有されてしまうことです。  \n",
    "\n",
    "以下は、他のインスタンスを作っても最初からnameが\"チュートリアル\"となっている例です。\n"
   ]
  },
  {
   "cell_type": "code",
   "execution_count": 133,
   "metadata": {
    "colab": {
     "base_uri": "https://localhost:8080/",
     "height": 34
    },
    "colab_type": "code",
    "id": "Rx1zpSmSZwFp",
    "outputId": "07191ccc-cee8-4721-bbbc-5c9ce6f037ac"
   },
   "outputs": [
    {
     "name": "stdout",
     "output_type": "stream",
     "text": [
      "チュートリアル\n"
     ]
    }
   ],
   "source": [
    "b = MyClass2\n",
    "print(b.name)"
   ]
  },
  {
   "cell_type": "markdown",
   "metadata": {
    "colab_type": "text",
    "id": "pNVV9pkzZ0QE"
   },
   "source": [
    "#### インスタンス変数を持ったクラス\n",
    "\n",
    "インスタンス変数はクラス変数とは異なり、**インスタンスごとに独立に保持される変数**です。  \n",
    "クラス内の変数の状況を毎回気にする必要はなく、独自のインスタンスの状況のみ把握しておけば良いため、考え方はシンプルです。  \n",
    "\n",
    "クラス内で変数を使用したい場合は、基本的には**インスタンス変数**を使うようにしてください。  "
   ]
  },
  {
   "cell_type": "code",
   "execution_count": 0,
   "metadata": {
    "colab": {},
    "colab_type": "code",
    "id": "6D9TNe2KaOnF"
   },
   "outputs": [],
   "source": [
    "class MyClass3:\n",
    "    # イニシャライザ（最初に実行される:インスタンス変数の初期化を行う）\n",
    "    def __init__(self, name):\n",
    "        self.name = name"
   ]
  },
  {
   "cell_type": "code",
   "execution_count": 0,
   "metadata": {
    "colab": {},
    "colab_type": "code",
    "id": "YQ8QEsHdaV_J"
   },
   "outputs": [],
   "source": [
    "# ↓ 一番目の引数（入力）がイニシャライザのselfの次に相当\n",
    "a = MyClass3('Chainer')"
   ]
  },
  {
   "cell_type": "markdown",
   "metadata": {
    "colab_type": "text",
    "id": "MHDhrhDdaalc"
   },
   "source": [
    "インスタンス変数の確認"
   ]
  },
  {
   "cell_type": "code",
   "execution_count": 137,
   "metadata": {
    "colab": {
     "base_uri": "https://localhost:8080/",
     "height": 34
    },
    "colab_type": "code",
    "id": "jYoF63Fdac6e",
    "outputId": "b6f70054-7c0d-49c2-9fc1-c08ff7dd58c7"
   },
   "outputs": [
    {
     "name": "stdout",
     "output_type": "stream",
     "text": [
      "Chainer\n"
     ]
    }
   ],
   "source": [
    "print(a.name)"
   ]
  },
  {
   "cell_type": "markdown",
   "metadata": {
    "colab_type": "text",
    "id": "XvPJsAkrae37"
   },
   "source": [
    "#### call関数を持ったクラス\n",
    "\n",
    "`__call__`という事前に準備されている関数を使用することで、インスタンスを関数のように実行することができます。  \n",
    "\n",
    "これは実際にChainerでも使用するので、覚えておきましょう。"
   ]
  },
  {
   "cell_type": "code",
   "execution_count": 0,
   "metadata": {
    "colab": {},
    "colab_type": "code",
    "id": "GfpMHNRkbQDU"
   },
   "outputs": [],
   "source": [
    "class MyClass4:\n",
    "    # イニシャライザ\n",
    "    def __init__(self, name1, name2):\n",
    "        self.name1 = name1\n",
    "        self.name2 = name2\n",
    "\n",
    "    def __call__(self):\n",
    "        return '{}{}へようこそ！'.format(self.name1, self.name2)"
   ]
  },
  {
   "cell_type": "code",
   "execution_count": 0,
   "metadata": {
    "colab": {},
    "colab_type": "code",
    "id": "LiSI0LAIbiEG"
   },
   "outputs": [],
   "source": [
    "a = MyClass4('Chainer', 'チュートリアル')"
   ]
  },
  {
   "cell_type": "code",
   "execution_count": 144,
   "metadata": {
    "colab": {
     "base_uri": "https://localhost:8080/",
     "height": 34
    },
    "colab_type": "code",
    "id": "myuWUAVibmTT",
    "outputId": "e7d646a6-729a-4015-9ac8-0ec3f8cee2a1"
   },
   "outputs": [
    {
     "data": {
      "text/plain": [
       "'Chainerチュートリアルへようこそ！'"
      ]
     },
     "execution_count": 144,
     "metadata": {
      "tags": []
     },
     "output_type": "execute_result"
    }
   ],
   "source": [
    "a.__call__()"
   ]
  },
  {
   "cell_type": "markdown",
   "metadata": {
    "colab_type": "text",
    "id": "5uNWFVlnbnT8"
   },
   "source": [
    "このように通常通り関数名を指定して呼び出す事ができます。  \n",
    "ですが、この`__call__`を持った関数は下記のようにも記述する事ができます。"
   ]
  },
  {
   "cell_type": "code",
   "execution_count": 145,
   "metadata": {
    "colab": {
     "base_uri": "https://localhost:8080/",
     "height": 34
    },
    "colab_type": "code",
    "id": "8G-X1Gikb_7_",
    "outputId": "f793178d-b3eb-4fc5-b75c-a63bb72b2b33"
   },
   "outputs": [
    {
     "data": {
      "text/plain": [
       "'Chainerチュートリアルへようこそ！'"
      ]
     },
     "execution_count": 145,
     "metadata": {
      "tags": []
     },
     "output_type": "execute_result"
    }
   ],
   "source": [
    "a()"
   ]
  },
  {
   "cell_type": "markdown",
   "metadata": {
    "colab_type": "text",
    "id": "0M1dmJSacA7g"
   },
   "source": [
    "実際にcall関数を使用することは少ないかもしれませんが、  \n",
    "Chainer含めフレームワークでは暗黙の了解として使われていることがあるため、  \n",
    "ほかの人のコードを理解するためにも覚えておきましょう。  \n",
    "\n",
    "これでPythonの基礎はしっかり抑える事ができました。  \n",
    "続いてはChainerでディープラーニングを実装する前に数学的にどのような中身になっているのかをお伝えします。  "
   ]
  }
 ],
 "metadata": {
  "colab": {
   "collapsed_sections": [],
   "name": "(1) Pythonの基礎.ipynb",
   "provenance": [],
   "version": "0.3.2"
  },
  "kernelspec": {
   "display_name": "Python 3",
   "language": "python",
   "name": "python3"
  },
  "language_info": {
   "codemirror_mode": {
    "name": "ipython",
    "version": 3
   },
   "file_extension": ".py",
   "mimetype": "text/x-python",
   "name": "python",
   "nbconvert_exporter": "python",
   "pygments_lexer": "ipython3",
   "version": "3.6.7"
  }
 },
 "nbformat": 4,
 "nbformat_minor": 1
}
