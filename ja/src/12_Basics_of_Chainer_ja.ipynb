{
    "nbformat": 4,
    "nbformat_minor": 0,
    "metadata": {
        "kernelspec": {
            "display_name": "Python 3",
            "language": "python",
            "name": "python3"
        },
        "language_info": {
            "codemirror_mode": {
                "name": "ipython",
                "version": 3
            },
            "file_extension": ".py",
            "mimetype": "text/x-python",
            "name": "python",
            "nbconvert_exporter": "python",
            "pygments_lexer": "ipython3",
            "version": "3.6.8"
        }
    },
    "cells": [
        {
            "metadata": {
                "id": "MPN37waRNybq",
                "colab_type": "text"
            },
            "cell_type": "markdown",
            "source": [
                "# Chainer の基礎\n",
                "\n",
                "本章では、ディープラーニングフレームワーク Chainer の基本的な機能を使って、Chainer を使った訓練がどのような処理で構成されているかを簡潔に紹介します。\n",
                "\n",
                "Chainer を用いた訓練の工夫や、GPUを利用した訓練、`Trainer` クラスを使った簡潔な訓練コードの記述方法などの発展的な内容は次章以降に紹介します。\n",
                "\n",
                "Colab では予め Chainer がインストールされているため環境構築の必要はありません。\n",
                "もし自分の PC 等に Chaier をインストールしたい場合は、[chainer.org](https://chainer.org/) の Quick Start に書かれた手順を参考にインストールしてください。\n",
                "\n"
            ]
        },
        {
            "metadata": {
                "id": "IkubjvtRN1_3",
                "colab_type": "text"
            },
            "cell_type": "markdown",
            "source": [
                "## Chainer とは\n",
                "​\n",
                "Chainer はオープンソースのディープラーニングフレームワークです。\n",
                "こちらのGithubリポジトリ：[chainer/chainer](https://github.com/chainer/chainer) で活発に開発が行われています。\n",
                "**オープンソースソフトウェア (open source software; OSS)** であるため、誰でも Chainer の全てのコードを見ることができます。\n",
                "​\n",
                "ディープラーニングフレームワークとは、これまでの章で説明してきたようなニューラルネットワークの設計・訓練・評価などに必要な一連の実装を容易にするためのフレームワークです[<sup id=\"ref_what_is_framework\">*1</sup>](#what_is_framework)。\n",
                "特に層数の多いニューラルネットワークを GPU などを用いて高速に訓練できるようにする機能を備えたものを指すことが多く、Chainer の他にも様々なディープラーニングフレームワークが発表されています。\n",
                "​\n",
                "Chainer の特徴は、ディープラーニングを学び始めたばかりの初学者から、新しい手法の発見を目指す研究者、実用的なシステムへの応用を行いたい開発者まで、多岐にわたるユーザが、**様々なアイデアを試し、評価して、その結果に基づいてまた新たなアイデアを試す、という試行錯誤のループを高速に回せる**ことを目指しています。\n",
                "​\n",
                "より具体的な特徴として、以下のようなものがあります。\n",
                "​\n",
                "<ul>\n",
                "<li>\n",
                "試行錯誤のループを高速に回すには、思い浮かんだアイデアをソースコードに落とし込む作業がすばやく行えることが重要です。\n",
                "そのために Chainer は、**全ての機能が直感的なインターフェースを備えているように**、また**数式とコードの間で記述が大きく乖離しないように**、注意深くデザインされています。\n",
                "</li>\n",
                "<li>\n",
                "試行錯誤の過程で**間違ったコードを書いてしまったときにも、どの箇所が間違っているのかが発見しやすくなっている**ことも重要です。\n",
                "Chainer は、**エラーメッセージを分かりやすくし、デバッグ用の機能を提供する**などでこれを助けます。\n",
                "</li>\n",
                "<li>\n",
                "実装したアイデアが思ったとおりの効果を上げるどうかを調べるための実験を短い時間で終えられれば、次のアイデアを試すまでの時間も短くなり、結果として試行錯誤のループを高速に回すことができます。\n",
                "そのためには、実験結果が出るまでに掛かる時間を短くする必要があります。\n",
                "Chainer は、**時間の掛かる計算を複数のマシンやデバイスに分散させて高速に処理する**機能や、状況に合わせて少ない手間で様々な処理を最適化する機能も持っており、一つの実験結果が出るまでの時間を短くする色々な方法が提供されています。\n",
                "</li>\n",
                "<li>\n",
                "ニューラルネットワークが訓練されていく過程で出力される様々な値を、視覚的にチェックすることができる ChainerUI という拡張パッケージによって、 試行錯誤のループに直感的な判断を加えることが容易になります。\n",
                "</li>\n",
                "<li>\n",
                "ディープラーニングは様々な分野で応用されており、扱われるデータの種類や組み合わされるアルゴリズムの種類は多岐にわたります。 \n",
                "Chainer では画像認識、化学・生物学、強化学習などの分野における応用をスムーズに開始できるよう、\n",
                "<ul>\n",
                "    <li>画像認識タスク向けに ChainerCV</li>\n",
                "    <li>化学・生物学分野向けに Chainer Chemistry</li>\n",
                "    <li>深層強化学習のために ChainerRL</li>\n",
                "</ul>\n",
                "という拡張ライブラリも提供しています。\n",
                "これらのライブラリでは、それぞれの分野にディープラーニングを応用するための便利な機能や、最先端の手法の実装コード、学習済みニューラルネットワークなどが商用利用も可能な自由な形で提供されているため、各分野への入門から研究への活用、そして実用アプリケーションの開発に至るまで、広く利用することができます。\n",
                "<li>\n",
                "ディープラーニングにはニューラルネットワークを訓練する段階と、できあがったニューラルネットワークを活用する推論の段階があり、Chainer は推論を行うのに便利な機能やエコシステムもサポートしています。\n",
                "Chainer はディープラーニングのニューラルネットワークを表現するための標準フォーマットである ONNX での出力に対応しており、Chainer で訓練したニューラルネットワークを他のフレームワークや推論専用のライブラリで読み込むことができます。\n",
                "また、Chainer で作られたニューラルネットワークを公式にサポートしている推論ライブラリ Menoh も開発されており、デバイスやプログラミング言語を問わず、様々な環境にデプロイできます。\n",
                "</li>\n",
                "</ul>\n",
                "​\n",
                "Chainer は、**研究開発から実用化まで、一貫して用いられるよう意識されたフレームワークです。**\n",
                "\n",
                "以降の説明では、簡単のためにニューラルネットワークをネットワークと呼ぶようにします。"
            ]
        },
        {
            "metadata": {
                "id": "sUq-umH4SLl2",
                "colab_type": "text"
            },
            "cell_type": "markdown",
            "source": [
                "## Chainer の準備\n",
                "\n",
                "Colab 上では Chainer は予めインストールされているため、ノートブックを開くとすでに Chainer のモジュールを読み込む準備が整っています。\n",
                "\n",
                "最初にChainer を `import` して Chainer を使う準備をします。"
            ]
        },
        {
            "metadata": {
                "colab_type": "code",
                "id": "4HTUEiZVPqQO",
                "colab": {}
            },
            "cell_type": "code",
            "source": [
                "import chainer"
            ],
            "execution_count": 1,
            "outputs": []
        },
        {
            "metadata": {
                "colab_type": "text",
                "id": "BWJ07kf2QWRB"
            },
            "cell_type": "markdown",
            "source": [
                "Chainer のバージョンや実行環境を確認します。\n",
                "Chainer には `print_runtime_info()` という関数が用意されており、これを実行することでインストールされている Chainer のバージョンや、CuPy が利用可能か、などの情報を調べることができます。"
            ]
        },
        {
            "metadata": {
                "colab_type": "code",
                "id": "jgMiqMlWQT1d",
                "outputId": "0a2aa4a3-7178-46cf-ae1c-f3233577ccf4",
                "colab": {
                    "base_uri": "https://localhost:8080/",
                    "height": 106
                }
            },
            "cell_type": "code",
            "source": [
                "chainer.print_runtime_info()"
            ],
            "execution_count": 2,
            "outputs": [
                {
                    "output_type": "stream",
                    "text": [
                        "Platform: Linux-4.14.79+-x86_64-with-Ubuntu-18.04-bionic\n",
                        "Chainer: 5.0.0\n",
                        "NumPy: 1.14.6\n",
                        "CuPy: Not Available\n",
                        "iDeep: 2.0.0.post3\n"
                    ],
                    "name": "stdout"
                }
            ]
        },
        {
            "metadata": {
                "id": "-3hP19dhN6Jd",
                "colab_type": "text"
            },
            "cell_type": "markdown",
            "source": [
                "## Chainerによる訓練\n",
                "\n",
                "Chainer の訓練は以下の 5 つのステップに分けられます。\n",
                "\n",
                "- Step 1 : データセットの準備 \n",
                "- Step 2 : ネットワークを決める\n",
                "- Step 3 : 目的関数を決める\n",
                "- Step 4 : 最適化手法を選択する\n",
                "- Step 5 : ネットワークを訓練する\n",
                "\n",
                "この章では scikit-learn で用意されている iris という花を分類するデータセットを利用して、個々のステップについて以降で詳しく説明していきます。"
            ]
        },
        {
            "metadata": {
                "id": "_jEPB6MvOz7V",
                "colab_type": "text"
            },
            "cell_type": "markdown",
            "source": [
                "### Step 1 : データセットの準備\n",
                "\n",
                "ここでは iris のデータを読み込みからデータセットの分割までを行います。\n",
                "\n"
            ]
        },
        {
            "metadata": {
                "id": "A5BotWdKO3VM",
                "colab_type": "text"
            },
            "cell_type": "markdown",
            "source": [
                "#### データセットの読み込み"
            ]
        },
        {
            "metadata": {
                "id": "GfNxTPIgTIZ2",
                "colab_type": "text"
            },
            "cell_type": "markdown",
            "source": [
                "scikit-learn で用意されている iris のデータを読み込み、入力値を `x`、目標値を `t` とします。\n"
            ]
        },
        {
            "metadata": {
                "colab_type": "code",
                "id": "1djdJsjNHwQ3",
                "colab": {}
            },
            "cell_type": "code",
            "source": [
                "# irisデータセットの読み込み\n",
                "from sklearn.datasets import load_iris\n",
                "dataset = load_iris()\n",
                "x = dataset.data\n",
                "t = dataset.target"
            ],
            "execution_count": 3,
            "outputs": []
        },
        {
            "metadata": {
                "id": "PJzMV1RfUiIu",
                "colab_type": "text"
            },
            "cell_type": "markdown",
            "source": [
                "iris について詳しく知りたい方はこちらをご覧ください。\n",
                "\n",
                "https://archive.ics.uci.edu/ml/datasets/iris\n"
            ]
        },
        {
            "metadata": {
                "colab_type": "text",
                "id": "qr7rZ7izHwWP"
            },
            "cell_type": "markdown",
            "source": [
                "#### データの形式を Chainer に合わせる\n",
                "\n",
                "Chainer のデフォルトでは、データセットの `numpy.ndarray` のデータ型が、入力値では  `numpy.float32`、 分類の目標値では `numpy.int32` になっている必要があります。このため、Chainer に合わせてデータセットのデータ型を変更します。`numpy.ndarray` は `astype()` を使ってデータ型を変更することができます。"
            ]
        },
        {
            "metadata": {
                "colab_type": "code",
                "id": "ivwcazzPOuO3",
                "colab": {}
            },
            "cell_type": "code",
            "source": [
                "# それぞれデータ型を変換\n",
                "x = x.astype('float32')  \n",
                "t = t.astype('int32')  "
            ],
            "execution_count": 4,
            "outputs": []
        },
        {
            "metadata": {
                "id": "-Ffox9HqO6bj",
                "colab_type": "text"
            },
            "cell_type": "markdown",
            "source": [
                "#### データセットの分割\n",
                "\n",
                "scikit-learn の `sklearn.model_selection.train_test_split()` を使ってデータを訓練データ、検証データ、テストデータの3つに分割します。 訓練データ、検証データ、テストデータはそれぞれ接尾辞に `train`、`val`、`test` を付けるよういします。\n",
                "​\n",
                "​\n",
                "まずは 訓練データと検証データ を合わせたものとテストデータの2つに分割します。このときテストデータのサンプルサイズが全体の30%になるように ` test_size=0.3` と指定します。"
            ]
        },
        {
            "metadata": {
                "id": "_i6csYKabJKu",
                "colab_type": "code",
                "colab": {}
            },
            "cell_type": "code",
            "source": [
                "# データセットを分割するモジュールの読み込み\n",
                "from sklearn.model_selection import train_test_split"
            ],
            "execution_count": 5,
            "outputs": []
        },
        {
            "metadata": {
                "id": "i4qNaL4rbbqf",
                "colab_type": "code",
                "colab": {}
            },
            "cell_type": "code",
            "source": [
                "x_train_val, x_test, t_train_val, t_test = train_test_split(x, t, test_size=0.3, random_state=0)"
            ],
            "execution_count": 6,
            "outputs": []
        },
        {
            "metadata": {
                "id": "UPNoEMrGcAMO",
                "colab_type": "text"
            },
            "cell_type": "markdown",
            "source": [
                "次に訓練データと検証データに分割します。検証データは訓練データと検証データを合わせたものの30%になるようにします。"
            ]
        },
        {
            "metadata": {
                "id": "alvjz_bJczH3",
                "colab_type": "code",
                "colab": {}
            },
            "cell_type": "code",
            "source": [
                "x_train, x_val, t_train, t_val = train_test_split(x_train_val, t_train_val, test_size=0.3, random_state=0)"
            ],
            "execution_count": 7,
            "outputs": []
        },
        {
            "metadata": {
                "id": "H5NIop3gN_UK",
                "colab_type": "text"
            },
            "cell_type": "markdown",
            "source": [
                "### Step 2 : ネットワークを決める"
            ]
        },
        {
            "metadata": {
                "id": "7ybvb5HmBjPI",
                "colab_type": "text"
            },
            "cell_type": "markdown",
            "source": [
                "ここでは訓練に使用するネットワークを決めます。\n",
                "\n",
                "本章以降では、ニューラルネットワークを構成する「層 (layer) 」という言葉を、これまでの説明で用いてきたノードの縦の集まりに対してではなく、訓練可能なパラメータを持つ関数とします。\n",
                "\n",
                "よって下の図のニューラルネットワークは、全結合層 1 つからなる 1 層のニューラルネットワークということになります。 \n",
                "\n",
                "\n",
                "![ネットワークの定義](images/12/12_02.png)\n",
                "\n",
                "「層」が何を指すかは文献によっても異なっている場合もあるため、注意してください。\n",
                "\n",
                "Chainer はニューラルネットワークの層を構成するための微分可能な関数を多く提供しています。 それらの関数は以下の 2 つに大別されます。\n",
                "\n",
                "- パラメータを持つ関数 (層)：`Link`\n",
                "- パラメータを持たない関数： `Function`\n",
                "\n",
                "パラメータを持つ関数の例としては、上の図の全結合層のような層があります。一方、パラメータを持たない関数としては、シグモイド関数や ReLU 関数があります。\n",
                "\n",
                "`Link` は、`chainer.links` モジュール以下に、`Function` は、`chainer.functions` モジュール以下に定義されています。\n",
                "\n",
                "この二つのモジュールを読み込みます。\n"
            ]
        },
        {
            "metadata": {
                "colab_type": "code",
                "id": "obC35C9vZ0kn",
                "colab": {}
            },
            "cell_type": "code",
            "source": [
                "import chainer.links as L\n",
                "import chainer.functions as F"
            ],
            "execution_count": 8,
            "outputs": []
        },
        {
            "metadata": {
                "id": "Xtu1MY93ONF_",
                "colab_type": "text"
            },
            "cell_type": "markdown",
            "source": [
                "#### Sequentialによるネットワーク定義\n",
                "\n",
                "Chainer ではネットワークを作る方法がいくつか用意されています。ここでは簡単にネットワークが作ることができる `Sequential` クラスを利用し、全結合層が3つ、活性化関数に ReLU 関数を利用したネットワーク `net` を作ります。\n",
                "\n"
            ]
        },
        {
            "metadata": {
                "id": "K1okmso4OFxv",
                "colab_type": "text"
            },
            "cell_type": "markdown",
            "source": [
                "Chainerでは全結合層は `Linear` クラスとして定義されています。\n",
                "これは以下のように、インスタンス化の際に入力の次元数と出力の次元数を引数に取ります。"
            ]
        },
        {
            "metadata": {
                "id": "sS4-_ujCdmcD",
                "colab_type": "code",
                "colab": {}
            },
            "cell_type": "code",
            "source": [
                "# 入力次元が3、出力次元が2の全結合層\n",
                "l = L.Linear(3, 2)"
            ],
            "execution_count": 9,
            "outputs": []
        },
        {
            "metadata": {
                "id": "7Q1I0l0PH2uG",
                "colab_type": "text"
            },
            "cell_type": "markdown",
            "source": [
                "また、ReLU 関数は `relu()` として定義されています。\n",
                "\n",
                "それでは、`Sequential` クラスと `Linear` クラス、`relu()` を使ってネットワークを作ります。\n",
                "\n",
                "iris のデータセットは入力変数が4つですので、最初の全結合層の入力次元数が4になります。また、irisのクラス数は3なので、最後の全結合層の出力変数は3です。\n",
                "\n",
                "2つ目の全結合層の入力次元数は任意の値ですが、ここでは 6 としておきます。"
            ]
        },
        {
            "metadata": {
                "id": "70pSV6Ezda1A",
                "colab_type": "code",
                "colab": {}
            },
            "cell_type": "code",
            "source": [
                "from chainer import Sequential"
            ],
            "execution_count": 10,
            "outputs": []
        },
        {
            "metadata": {
                "id": "btqrMIMOdbeJ",
                "colab_type": "code",
                "colab": {}
            },
            "cell_type": "code",
            "source": [
                "# net としてインスタンス化\n",
                "n_input = 4\n",
                "n_hidden = 6\n",
                "n_output = 3\n",
                "\n",
                "net = Sequential(\n",
                "    L.Linear(n_input, n_hidden), F.relu,\n",
                "    L.Linear(n_hidden, n_hidden), F.relu,\n",
                "    L.Linear(n_hidden, n_output)\n",
                ")"
            ],
            "execution_count": 11,
            "outputs": []
        },
        {
            "metadata": {
                "id": "PUhw_Z7kOQDA",
                "colab_type": "text"
            },
            "cell_type": "markdown",
            "source": [
                "### Step 3 : 目的関数を決める\n",
                "\n",
                "訓練の際に利用する目的関数を決定します。\n",
                "\n",
                "今回は分類のため、目的関数として**交差エントロピー**を使用します。\n",
                "ただし、交差エントロピーの前に、ソフトマックス関数を適用します。\n",
                "\n",
                "Chainer ではソフトマックス関数を適用した後、交差エントロピーを計算する `sofmax_cross_entropy()` が定義されています。今回はこれを目的関数として利用します。\n"
            ]
        },
        {
            "metadata": {
                "id": "SkdKyNm3OYwg",
                "colab_type": "text"
            },
            "cell_type": "markdown",
            "source": [
                "### Step 4 : 最適化手法を選択する"
            ]
        },
        {
            "metadata": {
                "id": "E2-UB7AiOp91",
                "colab_type": "text"
            },
            "cell_type": "markdown",
            "source": [
                "訓練を行う上で、最適化手法を選択する必要があります。\n",
                "\n",
                "今回は、最適化手法として、**確率的勾配降下法 (SGD)** を利用します。\n",
                "Chainer では `chainer.optimizers` に各最適化手法を実行するためのクラスが用意されており、確率的勾配降下法は `SGD` という名前で定義されています。\n",
                "\n",
                "学習率 `lr` を 0.05としてインスタンス化し、`optimizer` という名前を付けます。"
            ]
        },
        {
            "metadata": {
                "id": "ExsYrBLak30E",
                "colab_type": "code",
                "colab": {}
            },
            "cell_type": "code",
            "source": [
                "optimizer = chainer.optimizers.SGD(lr=0.05)"
            ],
            "execution_count": 12,
            "outputs": []
        },
        {
            "metadata": {
                "id": "IzUKSF7uk4V6",
                "colab_type": "text"
            },
            "cell_type": "markdown",
            "source": [
                "次に `optimizer` に `net` をセットして、`net` のパラメータが確率的勾配降下法によって更新されるようにします。"
            ]
        },
        {
            "metadata": {
                "id": "G3S8AMt4kuc6",
                "colab_type": "code",
                "colab": {
                    "base_uri": "https://localhost:8080/",
                    "height": 35
                },
                "outputId": "f1fcd382-323a-4cec-96f6-459f97db8590"
            },
            "cell_type": "code",
            "source": [
                "optimizer.setup(net)"
            ],
            "execution_count": 13,
            "outputs": [
                {
                    "output_type": "execute_result",
                    "data": {
                        "text/plain": [
                            "<chainer.optimizers.sgd.SGD at 0x7f1add0ef470>"
                        ]
                    },
                    "metadata": {
                        "tags": []
                    },
                    "execution_count": 94
                }
            ]
        },
        {
            "metadata": {
                "id": "mAKj3hOyO9hi",
                "colab_type": "text"
            },
            "cell_type": "markdown",
            "source": [
                "### Step 5 : ネットワークを訓練する\n",
                "\n",
                "Step 1 から Step 4 までで準備したものを使ってネットワークの訓練を行います。\n",
                "ネットワークの訓練を行う前に、訓練の際のエポック数とバッチサイズを決めます。ここではエポック数 `n_epoch` と バッチサイズ `n_batchsize` を以下のようにします。"
            ]
        },
        {
            "metadata": {
                "id": "MWXgPwjinswf",
                "colab_type": "code",
                "colab": {}
            },
            "cell_type": "code",
            "source": [
                "n_epoch = 30\n",
                "n_batchsize = 16"
            ],
            "execution_count": 14,
            "outputs": []
        },
        {
            "metadata": {
                "id": "mtsDeZwjPA1v",
                "colab_type": "text"
            },
            "cell_type": "markdown",
            "source": [
                "#### 訓練の実行"
            ]
        },
        {
            "metadata": {
                "id": "_2bJMRKp5cj3",
                "colab_type": "text"
            },
            "cell_type": "markdown",
            "source": [
                "実際に訓練を実行します。\n",
                "訓練は以下の処理を繰り返します。\n",
                "\n",
                "1. 訓練用のバッチを準備\n",
                "2. 予測値を計算し、目的関数を適用 (順伝播)\n",
                "3. 勾配を計算 (逆伝播)\n",
                "4. パラメータを更新\n",
                "\n",
                "これに加えて、訓練がうまくいっているか判断するために、訓練データを利用した分類精度と検証データを利用した目的関数の値と分類精度を計算します。\n",
                "\n"
            ]
        },
        {
            "metadata": {
                "id": "so5ALppetayp",
                "colab_type": "code",
                "colab": {}
            },
            "cell_type": "code",
            "source": [
                "import numpy as np"
            ],
            "execution_count": 15,
            "outputs": []
        },
        {
            "metadata": {
                "id": "RUXrtcZanN5z",
                "colab_type": "code",
                "colab": {
                    "base_uri": "https://localhost:8080/",
                    "height": 550
                },
                "outputId": "26c2bbf4-3ce7-4697-848e-cb134958cf98"
            },
            "cell_type": "code",
            "source": [
                "iteration = 0\n",
                "\n",
                "# ログの保存用\n",
                "results_train = {\n",
                "    'loss': [],\n",
                "    'accuracy': []\n",
                "}\n",
                "results_valid = {\n",
                "    'loss': [],\n",
                "    'accuracy': []\n",
                "}\n",
                "\n",
                "\n",
                "for epoch in range(n_epoch):\n",
                "    \n",
                "    # データセット並べ替えた順番を取得\n",
                "    order = np.random.permutation(range(len(x_train)))\n",
                "    \n",
                "    # 各バッチ毎の目的関数の出力と分類精度の保存用\n",
                "    loss_list = []\n",
                "    accuracy_list = []\n",
                "    \n",
                "    for i in range(0, len(order), n_batchsize):\n",
                "        # バッチを準備\n",
                "        index = order[i:i+n_batchsize]\n",
                "        x_train_batch = x_train[index,:]\n",
                "        t_train_batch = t_train[index]\n",
                "\n",
                "        # 予測値を出力\n",
                "        y_train_batch = net(x_train_batch)\n",
                "        \n",
                "        # 目的関数を適用し、分類精度を計算\n",
                "        loss_train_batch = F.softmax_cross_entropy(y_train_batch, t_train_batch)\n",
                "        accuracy_train_batch = F.accuracy(y_train_batch, t_train_batch)\n",
                "        \n",
                "        loss_list.append(loss_train_batch.array)\n",
                "        accuracy_list.append(accuracy_train_batch.array)\n",
                "\n",
                "        # 勾配のリセットと勾配の計算\n",
                "        net.cleargrads()\n",
                "        loss_train_batch.backward()\n",
                "\n",
                "        # パラメータの更新\n",
                "        optimizer.update()\n",
                "\n",
                "        # カウントアップ\n",
                "        iteration += 1\n",
                "    \n",
                "    # 訓練データに対する目的関数の出力と分類精度を集計\n",
                "    loss_train = np.mean(loss_list)\n",
                "    accuracy_train = np.mean(accuracy_list)\n",
                "    \n",
                "    # 1エポック終えたら、検証データで評価\n",
                "    # 検証データで予測値を出力\n",
                "    with chainer.using_config('train', False), chainer.using_config('enable_backprop', False):\n",
                "        y_val = net(x_val)\n",
                "        \n",
                "    # 目的関数を適用し、分類精度を計算\n",
                "    loss_val = F.softmax_cross_entropy(y_val, t_val)\n",
                "    accuracy_val = F.accuracy(y_val, t_val)\n",
                "    \n",
                "    # 結果の表示\n",
                "    print('epoch: {}, iteration: {}, loss (train): {:.4f}, loss (valid): {:.4f}'.format(\n",
                "        epoch, iteration, loss_train, loss_val.array))\n",
                "        \n",
                "    # ログを保存\n",
                "    results_train['loss'] .append(loss_train)\n",
                "    results_train['accuracy'] .append(accuracy_train)\n",
                "    results_valid['loss'].append(loss_val.array)\n",
                "    results_valid['accuracy'].append(accuracy_val.array)\n",
                "            \n",
                "    "
            ],
            "execution_count": 16,
            "outputs": [
                {
                    "output_type": "stream",
                    "text": [
                        "epoch: 0, iteration: 5, loss (train): 1.0736, loss (valid): 1.0622\n",
                        "epoch: 1, iteration: 10, loss (train): 0.9508, loss (valid): 0.9858\n",
                        "epoch: 2, iteration: 15, loss (train): 0.8763, loss (valid): 0.9524\n",
                        "epoch: 3, iteration: 20, loss (train): 0.8323, loss (valid): 0.9092\n",
                        "epoch: 4, iteration: 25, loss (train): 0.8136, loss (valid): 0.8631\n",
                        "epoch: 5, iteration: 30, loss (train): 0.7906, loss (valid): 0.8461\n",
                        "epoch: 6, iteration: 35, loss (train): 0.7650, loss (valid): 0.8218\n",
                        "epoch: 7, iteration: 40, loss (train): 0.7553, loss (valid): 0.7902\n",
                        "epoch: 8, iteration: 45, loss (train): 0.7459, loss (valid): 0.7687\n",
                        "epoch: 9, iteration: 50, loss (train): 0.7395, loss (valid): 0.7513\n",
                        "epoch: 10, iteration: 55, loss (train): 0.7270, loss (valid): 0.7363\n",
                        "epoch: 11, iteration: 60, loss (train): 0.7062, loss (valid): 0.7211\n",
                        "epoch: 12, iteration: 65, loss (train): 0.7005, loss (valid): 0.7044\n",
                        "epoch: 13, iteration: 70, loss (train): 0.6967, loss (valid): 0.6932\n",
                        "epoch: 14, iteration: 75, loss (train): 0.6711, loss (valid): 0.6793\n",
                        "epoch: 15, iteration: 80, loss (train): 0.6642, loss (valid): 0.6680\n",
                        "epoch: 16, iteration: 85, loss (train): 0.6558, loss (valid): 0.6574\n",
                        "epoch: 17, iteration: 90, loss (train): 0.6462, loss (valid): 0.6463\n",
                        "epoch: 18, iteration: 95, loss (train): 0.6346, loss (valid): 0.6433\n",
                        "epoch: 19, iteration: 100, loss (train): 0.6335, loss (valid): 0.6268\n",
                        "epoch: 20, iteration: 105, loss (train): 0.6322, loss (valid): 0.6173\n",
                        "epoch: 21, iteration: 110, loss (train): 0.6153, loss (valid): 0.6067\n",
                        "epoch: 22, iteration: 115, loss (train): 0.6056, loss (valid): 0.6018\n",
                        "epoch: 23, iteration: 120, loss (train): 0.6073, loss (valid): 0.5893\n",
                        "epoch: 24, iteration: 125, loss (train): 0.5929, loss (valid): 0.5841\n",
                        "epoch: 25, iteration: 130, loss (train): 0.5841, loss (valid): 0.5869\n",
                        "epoch: 26, iteration: 135, loss (train): 0.5810, loss (valid): 0.5745\n",
                        "epoch: 27, iteration: 140, loss (train): 0.5792, loss (valid): 0.5582\n",
                        "epoch: 28, iteration: 145, loss (train): 0.5762, loss (valid): 0.5511\n",
                        "epoch: 29, iteration: 150, loss (train): 0.6047, loss (valid): 0.5519\n"
                    ],
                    "name": "stdout"
                }
            ]
        },
        {
            "metadata": {
                "id": "9jUGCwgPmzH_",
                "colab_type": "text"
            },
            "cell_type": "markdown",
            "source": [
                "ここでは簡単のために、1エポックの内で使用してないサンプル数がバッチサイズ以下になったら次のエポックに移るようにしています。\n",
                "\n",
                "上のコードからわかる通り、Chainer では勾配を計算する際はその前に `net.cleargrads()` を実行し、一つ前の勾配を削除した後、`loss_train_batch.backward()` で勾配を計算します。 \n",
                "\n",
                "\n",
                "さらに、検証データに対して予測値の計算を行う際に、`chainer.using_config('train', False)` と `chainer.using_config('enable_backprop', False)` の 2 つのスコープを指定しています。 `chainer.using_config('train', False)` は、このデータを使用した訓練を行わないときに使用します。 一方、`chainer.using_config('enable_backprop', False)` は、計算グラフの構築を行わない場合に使用します。 検証データでは勾配を計算しないため、計算グラフは必要ありません。このため、このように指定することで、計算グラフの構築を省き、メモリ消費量を節約することができます。"
            ]
        },
        {
            "metadata": {
                "id": "2qJ9Z7hM8kJS",
                "colab_type": "text"
            },
            "cell_type": "markdown",
            "source": [
                "訓練が終了したので、目的関数の出力と分類精度がエポック毎にどのように変化したかを可視化します。まずは、目的関数の出力を表示します。"
            ]
        },
        {
            "metadata": {
                "id": "r29tCUMtyk6N",
                "colab_type": "code",
                "colab": {}
            },
            "cell_type": "code",
            "source": [
                "%matplotlib inline\n",
                "import matplotlib.pyplot as plt"
            ],
            "execution_count": 17,
            "outputs": []
        },
        {
            "metadata": {
                "id": "BK_-GsnDyFCV",
                "colab_type": "code",
                "colab": {
                    "base_uri": "https://localhost:8080/",
                    "height": 287
                },
                "outputId": "958bab93-3d47-4506-b77b-5d11754e8131"
            },
            "cell_type": "code",
            "source": [
                "# 目的関数の出力 (loss)\n",
                "plt.plot(results_train['loss'], label='train')  # label で凡例の設定\n",
                "plt.plot(results_valid['loss'], label='valid')  # label で凡例の設定\n",
                "plt.legend()  # 凡例の表示"
            ],
            "execution_count": 18,
            "outputs": [
                {
                    "output_type": "execute_result",
                    "data": {
                        "text/plain": [
                            "<matplotlib.legend.Legend at 0x7f1add093c50>"
                        ]
                    },
                    "metadata": {
                        "tags": []
                    },
                    "execution_count": 99
                },
                {
                    "output_type": "display_data",
                    "data": {
                        "image/png": "[encoded data removed]",
                        "text/plain": [
                            "<Figure size 432x288 with 1 Axes>"
                        ]
                    },
                    "metadata": {
                        "tags": []
                    }
                }
            ]
        },
        {
            "metadata": {
                "id": "bNSgyGnp99Lq",
                "colab_type": "text"
            },
            "cell_type": "markdown",
            "source": [
                "横軸がエポック数、縦軸が目的関数の出力になっています。グラフを見ると、訓練が進むにつれて目的関数の出力が減っており、訓練がうまくいっていることがわかります。"
            ]
        },
        {
            "metadata": {
                "id": "H6fHNDPr-Nwv",
                "colab_type": "text"
            },
            "cell_type": "markdown",
            "source": [
                "次に、分類精度を表示します。"
            ]
        },
        {
            "metadata": {
                "id": "ClqdxxCSyR7e",
                "colab_type": "code",
                "colab": {
                    "base_uri": "https://localhost:8080/",
                    "height": 285
                },
                "outputId": "d3522da1-c561-45cb-a015-e4c53f81b21f"
            },
            "cell_type": "code",
            "source": [
                "# 分類精度 (accuracy)\n",
                "plt.plot(results_train['accuracy'], label='train')  # label で凡例の設定\n",
                "plt.plot(results_valid['accuracy'], label='valid')  # label で凡例の設定\n",
                "plt.legend()  # 凡例の表示"
            ],
            "execution_count": 19,
            "outputs": [
                {
                    "output_type": "execute_result",
                    "data": {
                        "text/plain": [
                            "<matplotlib.legend.Legend at 0x7f1add079f60>"
                        ]
                    },
                    "metadata": {
                        "tags": []
                    },
                    "execution_count": 100
                },
                {
                    "output_type": "display_data",
                    "data": {
                        "image/png": "[encoded data removed]",
                        "text/plain": [
                            "<Figure size 432x288 with 1 Axes>"
                        ]
                    },
                    "metadata": {
                        "tags": []
                    }
                }
            ]
        },
        {
            "metadata": {
                "id": "Fu-WNRgL9yox",
                "colab_type": "text"
            },
            "cell_type": "markdown",
            "source": [
                "横軸がエポック数、縦軸が分類精度になっています。こちらのグラフでも訓練が進むにつれて分類精度が上がっており、訓練がうまくいっていることがわかります。"
            ]
        },
        {
            "metadata": {
                "id": "pX2kbR9OVYnW",
                "colab_type": "text"
            },
            "cell_type": "markdown",
            "source": [
                "#### テストデータを用いた評価\n",
                "\n",
                "訓練済みのネットワークを使ってテストデータに対する評価を行います。まずは、テストデータで予測を行います。検証用データのときと同様に `chainer.using_config('train', False)` と `chainer.using_config('enable_backprop', False)` を使います。"
            ]
        },
        {
            "metadata": {
                "id": "ilL9B9RgVwK1",
                "colab_type": "code",
                "colab": {}
            },
            "cell_type": "code",
            "source": [
                "# テストデータで予測値を計算\n",
                "with chainer.using_config('train', False), chainer.using_config('enable_backprop', False):\n",
                "    y_test = net(x_test)"
            ],
            "execution_count": 20,
            "outputs": []
        },
        {
            "metadata": {
                "id": "PHK_3fYIV-wo",
                "colab_type": "text"
            },
            "cell_type": "markdown",
            "source": [
                "予測ができたら分類精度を計算を確認します。"
            ]
        },
        {
            "metadata": {
                "id": "WMiUqM-PVcaO",
                "colab_type": "code",
                "colab": {
                    "base_uri": "https://localhost:8080/",
                    "height": 35
                },
                "outputId": "624395dc-4d81-471b-8554-c81b7d972574"
            },
            "cell_type": "code",
            "source": [
                "accuracy_test = F.accuracy(x_test, t_test)\n",
                "accuracy_test.array"
            ],
            "execution_count": 21,
            "outputs": [
                {
                    "output_type": "execute_result",
                    "data": {
                        "text/plain": [
                            "array(0.35555556, dtype=float32)"
                        ]
                    },
                    "metadata": {
                        "tags": []
                    },
                    "execution_count": 102
                }
            ]
        },
        {
            "metadata": {
                "id": "HapDuposPJyH",
                "colab_type": "text"
            },
            "cell_type": "markdown",
            "source": [
                "#### ネットワークの保存"
            ]
        },
        {
            "metadata": {
                "id": "w86uXSod-cbx",
                "colab_type": "text"
            },
            "cell_type": "markdown",
            "source": [
                "最後に、訓練したネットワークを保存します。保存する場合は以下のようにします。"
            ]
        },
        {
            "metadata": {
                "id": "juPJvKXawLWA",
                "colab_type": "code",
                "colab": {}
            },
            "cell_type": "code",
            "source": [
                "chainer.serializers.save_npz('my_iris.net', net)"
            ],
            "execution_count": 22,
            "outputs": []
        },
        {
            "metadata": {
                "id": "ersAJMjewydR",
                "colab_type": "text"
            },
            "cell_type": "markdown",
            "source": [
                "`my_iris.net` という名前で保存しました。保存されたか確認します。"
            ]
        },
        {
            "metadata": {
                "id": "NV4DI1iOwvNc",
                "colab_type": "code",
                "colab": {
                    "base_uri": "https://localhost:8080/",
                    "height": 35
                },
                "outputId": "d0d8e076-12ad-465a-97bc-d14eaa628046"
            },
            "cell_type": "code",
            "source": [
                "!ls"
            ],
            "execution_count": 23,
            "outputs": [
                {
                    "output_type": "stream",
                    "text": [
                        "my_iris.net  sample_data\n"
                    ],
                    "name": "stdout"
                }
            ]
        },
        {
            "metadata": {
                "id": "nOInvJe2PMp3",
                "colab_type": "text"
            },
            "cell_type": "markdown",
            "source": [
                "## 訓練済みネットワークを用いた推論"
            ]
        },
        {
            "metadata": {
                "id": "BlwBegWr-4t6",
                "colab_type": "text"
            },
            "cell_type": "markdown",
            "source": [
                "訓練済みのネットワークを用いてテストデータに対して推論を行います。\n",
                "\n",
                "まずは保存したネットワークを読み込みます。\n",
                "ネットワークを読み込むには、最初に訓練済みのネットワークと同様のクラスのインスタンスを作ります。"
            ]
        },
        {
            "metadata": {
                "id": "ZosK85eSw9zx",
                "colab_type": "code",
                "colab": {}
            },
            "cell_type": "code",
            "source": [
                "loaded_net = Sequential(\n",
                "    L.Linear(n_input, n_hidden), F.relu,\n",
                "    L.Linear(n_hidden, n_hidden), F.relu,\n",
                "    L.Linear(n_hidden, n_output)\n",
                ")"
            ],
            "execution_count": 24,
            "outputs": []
        },
        {
            "metadata": {
                "id": "1QQRufXX_bSr",
                "colab_type": "text"
            },
            "cell_type": "markdown",
            "source": [
                "このネットワークのインスタンスに訓練済みのネットワークのパラメータを読み込みます。"
            ]
        },
        {
            "metadata": {
                "id": "uPjs4BzjxT7j",
                "colab_type": "code",
                "colab": {}
            },
            "cell_type": "code",
            "source": [
                "chainer.serializers.load_npz('my_iris.net', loaded_net)"
            ],
            "execution_count": 25,
            "outputs": []
        },
        {
            "metadata": {
                "id": "PwxazVcV_5y5",
                "colab_type": "text"
            },
            "cell_type": "markdown",
            "source": [
                "訓練済みのネットワークの読み込みができたら、実際に推論を行います。推論を行う際は検証用データのときと同様に `chainer.using_config('train', False)`、`chainer.using_config('enable_backprop', False)` を使います。"
            ]
        },
        {
            "metadata": {
                "id": "zC8xoBD9xXaA",
                "colab_type": "code",
                "colab": {}
            },
            "cell_type": "code",
            "source": [
                "with chainer.using_config('train', False), chainer.using_config('enable_backprop', False):\n",
                "    y_test = loaded_net(x_test)"
            ],
            "execution_count": 26,
            "outputs": []
        },
        {
            "metadata": {
                "id": "y5FiPpxVJc4M",
                "colab_type": "text"
            },
            "cell_type": "markdown",
            "source": [
                "テストデータに対して推論ができたので、テストデータの `0` 番目のサンプルの予測結果を確認してみます。分類では以下のようにして、予測されたラベルを出力できます。"
            ]
        },
        {
            "metadata": {
                "id": "iGzKD8MVJtRE",
                "colab_type": "code",
                "colab": {
                    "base_uri": "https://localhost:8080/",
                    "height": 35
                },
                "outputId": "77c1991b-2538-4abf-ec01-23fdc0193af5"
            },
            "cell_type": "code",
            "source": [
                "np.argmax(y_test[0,:].array)"
            ],
            "execution_count": 27,
            "outputs": [
                {
                    "output_type": "execute_result",
                    "data": {
                        "text/plain": [
                            "2"
                        ]
                    },
                    "metadata": {
                        "tags": []
                    },
                    "execution_count": 108
                }
            ]
        },
        {
            "metadata": {
                "id": "CzosHbIcV3ch",
                "colab_type": "text"
            },
            "cell_type": "markdown",
            "source": [
                "<hr />\n",
                "<span id=\"what_is_framework\"><sup>*1</sup> : <small>\n",
                "    **フレームワーク**の定義については、**制御の反転 (inversion of control)** という概念がキーになります。\n",
                "    ライブラリの場合は、ライブラリ側が制御フローを持っているのではなくユーザが書いた制御フローの中で要素となる処理を担うためにその機能が呼ばれるという使われ方になりますが、フレームワークの場合は、**フレームワーク側が制御フローを持っていて、その要素となる処理についてユーザがコードを記述し、そのコードがフレームワーク側から呼ばれる**という構造を持ちます。（参考：[Inversion of control](https://en.wikipedia.org/wiki/Inversion_of_control)）\n",
                "<br />\n",
                "<a href=\"#ref_what_is_framework\">上へ戻る▲</a>\n",
                "</small></span>"
            ]
        }
    ]
}