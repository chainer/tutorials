{
 "cells": [
  {
   "cell_type": "markdown",
   "metadata": {
    "colab_type": "text",
    "id": "mNPT_YbeNem3"
   },
   "source": [
    "# 6章 Chainerの基礎\n",
    "\n",
    "\n",
    "この章では、前章で取扱ったニューラルネットワークの数学を実際にディープラーニングのフレームワークである `Chainer` を用いて実装していきます。  \n",
    "最後には簡単なニューラルネットワークをChainerのsequentialと呼ばれる形式で実装するところまでをご紹介します。  \n",
    "\n",
    "Google Colaboratoryでは、Chainerの環境構築がすでに完了しているため、インストールなどは行う必要はありません。  \n",
    "早速Chainerの基礎について学んでいきます。\n",
    "\n",
    "\n",
    "## Chainerでニューラルネットワークの計算\n",
    "\n",
    "この節では、前章で学んだニューラルネットワークの数学をChainerを用いて実装していきます。\n",
    "\n",
    "### Chainerの読み込み\n",
    "\n",
    "Chainerの読み込みは、Pythonの他のモジュールと全く同じです。"
   ]
  },
  {
   "cell_type": "code",
   "execution_count": 0,
   "metadata": {
    "colab": {},
    "colab_type": "code",
    "id": "4HTUEiZVPqQO"
   },
   "outputs": [],
   "source": [
    "import chainer"
   ]
  },
  {
   "cell_type": "markdown",
   "metadata": {
    "colab_type": "text",
    "id": "BWJ07kf2QWRB"
   },
   "source": [
    "使用しているChainerのバージョンも確認しておきましょう。"
   ]
  },
  {
   "cell_type": "code",
   "execution_count": 120,
   "metadata": {
    "colab": {
     "base_uri": "https://localhost:8080/",
     "height": 34
    },
    "colab_type": "code",
    "executionInfo": {
     "elapsed": 1044,
     "status": "ok",
     "timestamp": 1547551026585,
     "user": {
      "displayName": "西沢衛",
      "photoUrl": "",
      "userId": "12011220225445512117"
     },
     "user_tz": -540
    },
    "id": "jgMiqMlWQT1d",
    "outputId": "6ebaa6b3-7abc-4992-87db-bb2d956663f6"
   },
   "outputs": [
    {
     "data": {
      "text/plain": [
       "'5.0.0'"
      ]
     },
     "execution_count": 120,
     "metadata": {
      "tags": []
     },
     "output_type": "execute_result"
    }
   ],
   "source": [
    "chainer.__version__"
   ]
  },
  {
   "cell_type": "markdown",
   "metadata": {
    "colab_type": "text",
    "id": "VN7rrP2tQVzr"
   },
   "source": [
    "2019年1月現在最新のChainerのバージョン5となっています。"
   ]
  },
  {
   "cell_type": "markdown",
   "metadata": {
    "colab_type": "text",
    "id": "AiVTAcCSQlUX"
   },
   "source": [
    "### リンクの定義\n",
    "\n",
    "数学においてもプログラミングにおいても、全結合層（fully-connected layer）では、2層で1セットとして扱います。  \n",
    "このセットのことを「リンク」と呼びます。\n",
    "まずは、3ノードの入力層と2ノードの出力層の部分を表現していきます。\n",
    "\n",
    "![](images/06_01.png)\n",
    "\n",
    "リンクの定義は`chainer.links`を使用します。  \n",
    "また、`chainer.links`は公式ドキュメントにもあるように`L`という略称で呼び出すのが一般的です。\n"
   ]
  },
  {
   "cell_type": "code",
   "execution_count": 0,
   "metadata": {
    "colab": {},
    "colab_type": "code",
    "id": "8ggPJscZQ5_W"
   },
   "outputs": [],
   "source": [
    "import chainer.links as L"
   ]
  },
  {
   "cell_type": "markdown",
   "metadata": {
    "colab_type": "text",
    "id": "oJ-VRwlCQ7u4"
   },
   "source": [
    "3 → 2 のリンクを`fc`（fully-connected layer（全結合層）の略）として、以下のように宣言します。"
   ]
  },
  {
   "cell_type": "code",
   "execution_count": 0,
   "metadata": {
    "colab": {},
    "colab_type": "code",
    "id": "lA1HFrE1RLaK"
   },
   "outputs": [],
   "source": [
    "# 全結合層の定義\n",
    "fc = L.Linear(3, 2)"
   ]
  },
  {
   "cell_type": "markdown",
   "metadata": {
    "colab_type": "text",
    "id": "CpQnSjqWRV7L"
   },
   "source": [
    "これだけで完了です。`L.Linear`は、前章で学んだ重回帰分析の線形結合という意味です。  \n",
    "\n",
    "宣言したリンクの **重み（W）** と **バイアス（b）** はランダムに初期化されています。  "
   ]
  },
  {
   "cell_type": "code",
   "execution_count": 123,
   "metadata": {
    "colab": {
     "base_uri": "https://localhost:8080/",
     "height": 51
    },
    "colab_type": "code",
    "executionInfo": {
     "elapsed": 1073,
     "status": "ok",
     "timestamp": 1547551028711,
     "user": {
      "displayName": "西沢衛",
      "photoUrl": "",
      "userId": "12011220225445512117"
     },
     "user_tz": -540
    },
    "id": "5vgE1nrfRj7l",
    "outputId": "4fc08b61-2f04-453d-ff03-12e398dc0cb2"
   },
   "outputs": [
    {
     "data": {
      "text/plain": [
       "variable W([[ 1.0928946 , -0.16202196,  1.198502  ],\n",
       "            [ 1.1838378 ,  0.15973558,  1.1929326 ]])"
      ]
     },
     "execution_count": 123,
     "metadata": {
      "tags": []
     },
     "output_type": "execute_result"
    }
   ],
   "source": [
    "# 重みの確認\n",
    "fc.W"
   ]
  },
  {
   "cell_type": "code",
   "execution_count": 124,
   "metadata": {
    "colab": {
     "base_uri": "https://localhost:8080/",
     "height": 34
    },
    "colab_type": "code",
    "executionInfo": {
     "elapsed": 926,
     "status": "ok",
     "timestamp": 1547551028712,
     "user": {
      "displayName": "西沢衛",
      "photoUrl": "",
      "userId": "12011220225445512117"
     },
     "user_tz": -540
    },
    "id": "5OEYnSK0Rl_Y",
    "outputId": "95ef6a2d-14ed-4663-d574-ece0c3da8bb6"
   },
   "outputs": [
    {
     "data": {
      "text/plain": [
       "variable b([0., 0.])"
      ]
     },
     "execution_count": 124,
     "metadata": {
      "tags": []
     },
     "output_type": "execute_result"
    }
   ],
   "source": [
    "# バイアスの確認\n",
    "fc.b"
   ]
  },
  {
   "cell_type": "markdown",
   "metadata": {
    "colab_type": "text",
    "id": "9oTeoGlBRnHC"
   },
   "source": [
    "3→2の全結合層なので合計で6つの重みがランダムに定義されていることが確認できます。  \n",
    "\n",
    "このパラメータを最適化の初期値に使用します。  \n",
    "\n",
    "\n",
    "### 乱数のシードを固定して再現性を確保\n",
    "\n",
    "重みやバイアスのパラメータの値がランダムに初期化されるため、実行する毎に結果が異なってしまいます。  \n",
    "この状態では次の日に同じ結果を出そうとしても、新たに重みの初期値がランダムに設定されてしまうため、再現性がありません。  \n",
    "\n",
    "そこで、乱数のシード（乱数を算出の際に初期状態を設定する数値）を固定するという方法を使います。  \n",
    "これにより**再現性の確保**ができます。\n",
    "\n",
    "実際に、乱数のシードを固定してみましょう。"
   ]
  },
  {
   "cell_type": "code",
   "execution_count": 0,
   "metadata": {
    "colab": {},
    "colab_type": "code",
    "id": "NJSVhGU1SYBk"
   },
   "outputs": [],
   "source": [
    "import numpy as np"
   ]
  },
  {
   "cell_type": "code",
   "execution_count": 0,
   "metadata": {
    "colab": {},
    "colab_type": "code",
    "id": "rrgw3mEwSaRI"
   },
   "outputs": [],
   "source": [
    "np.random.seed(3)"
   ]
  },
  {
   "cell_type": "markdown",
   "metadata": {
    "colab_type": "text",
    "id": "_4NuS8y8SbX3"
   },
   "source": [
    "ChainerはNumpyをベースに作られているため、Numpy上で乱数のシードを固定することにより、再現性の確保を実現できます。  \n",
    "\n",
    "※GPUを使用する場合は、NumpyではなくCupyをベースに計算しているため、Cupyで乱数のシードを固定する必要があります。  \n",
    "\n",
    "乱数のシードを固定した後で重みを確認してみましょう。  \n",
    "\n"
   ]
  },
  {
   "cell_type": "code",
   "execution_count": 127,
   "metadata": {
    "colab": {
     "base_uri": "https://localhost:8080/",
     "height": 51
    },
    "colab_type": "code",
    "executionInfo": {
     "elapsed": 825,
     "status": "ok",
     "timestamp": 1547551029528,
     "user": {
      "displayName": "西沢衛",
      "photoUrl": "",
      "userId": "12011220225445512117"
     },
     "user_tz": -540
    },
    "id": "S_rjcNiESj3k",
    "outputId": "d73882a8-a224-4cff-ff24-b4dbe1c51d26"
   },
   "outputs": [
    {
     "data": {
      "text/plain": [
       "variable W([[ 1.0928946 , -0.16202196,  1.198502  ],\n",
       "            [ 1.1838378 ,  0.15973558,  1.1929326 ]])"
      ]
     },
     "execution_count": 127,
     "metadata": {
      "tags": []
     },
     "output_type": "execute_result"
    }
   ],
   "source": [
    "fc.W"
   ]
  },
  {
   "cell_type": "code",
   "execution_count": 128,
   "metadata": {
    "colab": {
     "base_uri": "https://localhost:8080/",
     "height": 34
    },
    "colab_type": "code",
    "executionInfo": {
     "elapsed": 458,
     "status": "ok",
     "timestamp": 1547551029530,
     "user": {
      "displayName": "西沢衛",
      "photoUrl": "",
      "userId": "12011220225445512117"
     },
     "user_tz": -540
    },
    "id": "aZxQRr-bSpWe",
    "outputId": "ec6e67b5-8133-447b-e77b-cf0a2a11b3f9"
   },
   "outputs": [
    {
     "data": {
      "text/plain": [
       "variable b([0., 0.])"
      ]
     },
     "execution_count": 128,
     "metadata": {
      "tags": []
     },
     "output_type": "execute_result"
    }
   ],
   "source": [
    "fc.b"
   ]
  },
  {
   "cell_type": "markdown",
   "metadata": {
    "colab_type": "text",
    "id": "VeQiqWTRSqaY"
   },
   "source": [
    " 上記の値になっていれば、乱数のシードがうまく固定できています。"
   ]
  },
  {
   "cell_type": "markdown",
   "metadata": {
    "colab_type": "text",
    "id": "8s8awH9yS1js"
   },
   "source": [
    "### 線形変換の値を計算\n",
    "\n",
    "前章で学習した、`u`の値を計算してみます。  \n",
    "`u`の値は`chainer.links.Linear`の中に準備されているため、  \n",
    "以下のようにNumpyの形式で渡すことで計算が完了します。"
   ]
  },
  {
   "cell_type": "code",
   "execution_count": 0,
   "metadata": {
    "colab": {},
    "colab_type": "code",
    "id": "rZlRAUobTE9a"
   },
   "outputs": [],
   "source": [
    "x = np.array([[1, 2, 3]])"
   ]
  },
  {
   "cell_type": "code",
   "execution_count": 130,
   "metadata": {
    "colab": {
     "base_uri": "https://localhost:8080/",
     "height": 1154
    },
    "colab_type": "code",
    "executionInfo": {
     "elapsed": 687,
     "status": "error",
     "timestamp": 1547551030491,
     "user": {
      "displayName": "西沢衛",
      "photoUrl": "",
      "userId": "12011220225445512117"
     },
     "user_tz": -540
    },
    "id": "PP3iD8EdTGVx",
    "outputId": "9704ac5b-669e-4de4-d76f-39b07ad19d3a"
   },
   "outputs": [
    {
     "ename": "InvalidType",
     "evalue": "ignored",
     "output_type": "error",
     "traceback": [
      "\u001b[0;31m---------------------------------------------------------------------------\u001b[0m",
      "\u001b[0;31mInvalidType\u001b[0m                               Traceback (most recent call last)",
      "\u001b[0;32m<ipython-input-130-d2620a228d16>\u001b[0m in \u001b[0;36m<module>\u001b[0;34m()\u001b[0m\n\u001b[0;32m----> 1\u001b[0;31m \u001b[0mu\u001b[0m \u001b[0;34m=\u001b[0m \u001b[0mfc\u001b[0m\u001b[0;34m(\u001b[0m\u001b[0mx\u001b[0m\u001b[0;34m)\u001b[0m\u001b[0;34m\u001b[0m\u001b[0;34m\u001b[0m\u001b[0m\n\u001b[0m",
      "\u001b[0;32m/usr/local/lib/python3.6/dist-packages/chainer/link.py\u001b[0m in \u001b[0;36m__call__\u001b[0;34m(self, *args, **kwargs)\u001b[0m\n\u001b[1;32m    240\u001b[0m         \u001b[0;32mif\u001b[0m \u001b[0mforward\u001b[0m \u001b[0;32mis\u001b[0m \u001b[0;32mNone\u001b[0m\u001b[0;34m:\u001b[0m\u001b[0;34m\u001b[0m\u001b[0;34m\u001b[0m\u001b[0m\n\u001b[1;32m    241\u001b[0m             \u001b[0mforward\u001b[0m \u001b[0;34m=\u001b[0m \u001b[0mself\u001b[0m\u001b[0;34m.\u001b[0m\u001b[0mforward\u001b[0m\u001b[0;34m\u001b[0m\u001b[0;34m\u001b[0m\u001b[0m\n\u001b[0;32m--> 242\u001b[0;31m         \u001b[0mout\u001b[0m \u001b[0;34m=\u001b[0m \u001b[0mforward\u001b[0m\u001b[0;34m(\u001b[0m\u001b[0;34m*\u001b[0m\u001b[0margs\u001b[0m\u001b[0;34m,\u001b[0m \u001b[0;34m**\u001b[0m\u001b[0mkwargs\u001b[0m\u001b[0;34m)\u001b[0m\u001b[0;34m\u001b[0m\u001b[0;34m\u001b[0m\u001b[0m\n\u001b[0m\u001b[1;32m    243\u001b[0m \u001b[0;34m\u001b[0m\u001b[0m\n\u001b[1;32m    244\u001b[0m         \u001b[0;31m# Call forward_postprocess hook\u001b[0m\u001b[0;34m\u001b[0m\u001b[0;34m\u001b[0m\u001b[0;34m\u001b[0m\u001b[0m\n",
      "\u001b[0;32m/usr/local/lib/python3.6/dist-packages/chainer/links/connection/linear.py\u001b[0m in \u001b[0;36mforward\u001b[0;34m(self, x, n_batch_axes)\u001b[0m\n\u001b[1;32m    136\u001b[0m             \u001b[0min_size\u001b[0m \u001b[0;34m=\u001b[0m \u001b[0mfunctools\u001b[0m\u001b[0;34m.\u001b[0m\u001b[0mreduce\u001b[0m\u001b[0;34m(\u001b[0m\u001b[0moperator\u001b[0m\u001b[0;34m.\u001b[0m\u001b[0mmul\u001b[0m\u001b[0;34m,\u001b[0m \u001b[0mx\u001b[0m\u001b[0;34m.\u001b[0m\u001b[0mshape\u001b[0m\u001b[0;34m[\u001b[0m\u001b[0;36m1\u001b[0m\u001b[0;34m:\u001b[0m\u001b[0;34m]\u001b[0m\u001b[0;34m,\u001b[0m \u001b[0;36m1\u001b[0m\u001b[0;34m)\u001b[0m\u001b[0;34m\u001b[0m\u001b[0;34m\u001b[0m\u001b[0m\n\u001b[1;32m    137\u001b[0m             \u001b[0mself\u001b[0m\u001b[0;34m.\u001b[0m\u001b[0m_initialize_params\u001b[0m\u001b[0;34m(\u001b[0m\u001b[0min_size\u001b[0m\u001b[0;34m)\u001b[0m\u001b[0;34m\u001b[0m\u001b[0;34m\u001b[0m\u001b[0m\n\u001b[0;32m--> 138\u001b[0;31m         \u001b[0;32mreturn\u001b[0m \u001b[0mlinear\u001b[0m\u001b[0;34m.\u001b[0m\u001b[0mlinear\u001b[0m\u001b[0;34m(\u001b[0m\u001b[0mx\u001b[0m\u001b[0;34m,\u001b[0m \u001b[0mself\u001b[0m\u001b[0;34m.\u001b[0m\u001b[0mW\u001b[0m\u001b[0;34m,\u001b[0m \u001b[0mself\u001b[0m\u001b[0;34m.\u001b[0m\u001b[0mb\u001b[0m\u001b[0;34m,\u001b[0m \u001b[0mn_batch_axes\u001b[0m\u001b[0;34m=\u001b[0m\u001b[0mn_batch_axes\u001b[0m\u001b[0;34m)\u001b[0m\u001b[0;34m\u001b[0m\u001b[0;34m\u001b[0m\u001b[0m\n\u001b[0m",
      "\u001b[0;32m/usr/local/lib/python3.6/dist-packages/chainer/functions/connection/linear.py\u001b[0m in \u001b[0;36mlinear\u001b[0;34m(x, W, b, n_batch_axes)\u001b[0m\n\u001b[1;32m    287\u001b[0m         \u001b[0margs\u001b[0m \u001b[0;34m=\u001b[0m \u001b[0mx\u001b[0m\u001b[0;34m,\u001b[0m \u001b[0mW\u001b[0m\u001b[0;34m,\u001b[0m \u001b[0mb\u001b[0m\u001b[0;34m\u001b[0m\u001b[0;34m\u001b[0m\u001b[0m\n\u001b[1;32m    288\u001b[0m \u001b[0;34m\u001b[0m\u001b[0m\n\u001b[0;32m--> 289\u001b[0;31m     \u001b[0my\u001b[0m\u001b[0;34m,\u001b[0m \u001b[0;34m=\u001b[0m \u001b[0mLinearFunction\u001b[0m\u001b[0;34m(\u001b[0m\u001b[0;34m)\u001b[0m\u001b[0;34m.\u001b[0m\u001b[0mapply\u001b[0m\u001b[0;34m(\u001b[0m\u001b[0margs\u001b[0m\u001b[0;34m)\u001b[0m\u001b[0;34m\u001b[0m\u001b[0;34m\u001b[0m\u001b[0m\n\u001b[0m\u001b[1;32m    290\u001b[0m     \u001b[0;32mif\u001b[0m \u001b[0mn_batch_axes\u001b[0m \u001b[0;34m>\u001b[0m \u001b[0;36m1\u001b[0m\u001b[0;34m:\u001b[0m\u001b[0;34m\u001b[0m\u001b[0;34m\u001b[0m\u001b[0m\n\u001b[1;32m    291\u001b[0m         \u001b[0my\u001b[0m \u001b[0;34m=\u001b[0m \u001b[0my\u001b[0m\u001b[0;34m.\u001b[0m\u001b[0mreshape\u001b[0m\u001b[0;34m(\u001b[0m\u001b[0mbatch_shape\u001b[0m \u001b[0;34m+\u001b[0m \u001b[0;34m(\u001b[0m\u001b[0;34m-\u001b[0m\u001b[0;36m1\u001b[0m\u001b[0;34m,\u001b[0m\u001b[0;34m)\u001b[0m\u001b[0;34m)\u001b[0m\u001b[0;34m\u001b[0m\u001b[0;34m\u001b[0m\u001b[0m\n",
      "\u001b[0;32m/usr/local/lib/python3.6/dist-packages/chainer/function_node.py\u001b[0m in \u001b[0;36mapply\u001b[0;34m(self, inputs)\u001b[0m\n\u001b[1;32m    243\u001b[0m \u001b[0;34m\u001b[0m\u001b[0m\n\u001b[1;32m    244\u001b[0m         \u001b[0;32mif\u001b[0m \u001b[0mconfiguration\u001b[0m\u001b[0;34m.\u001b[0m\u001b[0mconfig\u001b[0m\u001b[0;34m.\u001b[0m\u001b[0mtype_check\u001b[0m\u001b[0;34m:\u001b[0m\u001b[0;34m\u001b[0m\u001b[0;34m\u001b[0m\u001b[0m\n\u001b[0;32m--> 245\u001b[0;31m             \u001b[0mself\u001b[0m\u001b[0;34m.\u001b[0m\u001b[0m_check_data_type_forward\u001b[0m\u001b[0;34m(\u001b[0m\u001b[0min_data\u001b[0m\u001b[0;34m)\u001b[0m\u001b[0;34m\u001b[0m\u001b[0;34m\u001b[0m\u001b[0m\n\u001b[0m\u001b[1;32m    246\u001b[0m \u001b[0;34m\u001b[0m\u001b[0m\n\u001b[1;32m    247\u001b[0m         \u001b[0mhooks\u001b[0m \u001b[0;34m=\u001b[0m \u001b[0mchainer\u001b[0m\u001b[0;34m.\u001b[0m\u001b[0mget_function_hooks\u001b[0m\u001b[0;34m(\u001b[0m\u001b[0;34m)\u001b[0m\u001b[0;34m\u001b[0m\u001b[0;34m\u001b[0m\u001b[0m\n",
      "\u001b[0;32m/usr/local/lib/python3.6/dist-packages/chainer/function_node.py\u001b[0m in \u001b[0;36m_check_data_type_forward\u001b[0;34m(self, in_data)\u001b[0m\n\u001b[1;32m    328\u001b[0m         \u001b[0min_type\u001b[0m \u001b[0;34m=\u001b[0m \u001b[0mtype_check\u001b[0m\u001b[0;34m.\u001b[0m\u001b[0mget_types\u001b[0m\u001b[0;34m(\u001b[0m\u001b[0min_data\u001b[0m\u001b[0;34m,\u001b[0m \u001b[0;34m'in_types'\u001b[0m\u001b[0;34m,\u001b[0m \u001b[0;32mFalse\u001b[0m\u001b[0;34m)\u001b[0m\u001b[0;34m\u001b[0m\u001b[0;34m\u001b[0m\u001b[0m\n\u001b[1;32m    329\u001b[0m         \u001b[0;32mwith\u001b[0m \u001b[0mtype_check\u001b[0m\u001b[0;34m.\u001b[0m\u001b[0mget_function_check_context\u001b[0m\u001b[0;34m(\u001b[0m\u001b[0mself\u001b[0m\u001b[0;34m)\u001b[0m\u001b[0;34m:\u001b[0m\u001b[0;34m\u001b[0m\u001b[0;34m\u001b[0m\u001b[0m\n\u001b[0;32m--> 330\u001b[0;31m             \u001b[0mself\u001b[0m\u001b[0;34m.\u001b[0m\u001b[0mcheck_type_forward\u001b[0m\u001b[0;34m(\u001b[0m\u001b[0min_type\u001b[0m\u001b[0;34m)\u001b[0m\u001b[0;34m\u001b[0m\u001b[0;34m\u001b[0m\u001b[0m\n\u001b[0m\u001b[1;32m    331\u001b[0m \u001b[0;34m\u001b[0m\u001b[0m\n\u001b[1;32m    332\u001b[0m     \u001b[0;32mdef\u001b[0m \u001b[0mcheck_type_forward\u001b[0m\u001b[0;34m(\u001b[0m\u001b[0mself\u001b[0m\u001b[0;34m,\u001b[0m \u001b[0min_types\u001b[0m\u001b[0;34m)\u001b[0m\u001b[0;34m:\u001b[0m\u001b[0;34m\u001b[0m\u001b[0;34m\u001b[0m\u001b[0m\n",
      "\u001b[0;32m/usr/local/lib/python3.6/dist-packages/chainer/functions/connection/linear.py\u001b[0m in \u001b[0;36mcheck_type_forward\u001b[0;34m(self, in_types)\u001b[0m\n\u001b[1;32m     25\u001b[0m             \u001b[0mx_type\u001b[0m\u001b[0;34m.\u001b[0m\u001b[0mndim\u001b[0m \u001b[0;34m==\u001b[0m \u001b[0;36m2\u001b[0m\u001b[0;34m,\u001b[0m\u001b[0;34m\u001b[0m\u001b[0;34m\u001b[0m\u001b[0m\n\u001b[1;32m     26\u001b[0m             \u001b[0mw_type\u001b[0m\u001b[0;34m.\u001b[0m\u001b[0mndim\u001b[0m \u001b[0;34m==\u001b[0m \u001b[0;36m2\u001b[0m\u001b[0;34m,\u001b[0m\u001b[0;34m\u001b[0m\u001b[0;34m\u001b[0m\u001b[0m\n\u001b[0;32m---> 27\u001b[0;31m             \u001b[0mx_type\u001b[0m\u001b[0;34m.\u001b[0m\u001b[0mshape\u001b[0m\u001b[0;34m[\u001b[0m\u001b[0;36m1\u001b[0m\u001b[0;34m]\u001b[0m \u001b[0;34m==\u001b[0m \u001b[0mw_type\u001b[0m\u001b[0;34m.\u001b[0m\u001b[0mshape\u001b[0m\u001b[0;34m[\u001b[0m\u001b[0;36m1\u001b[0m\u001b[0;34m]\u001b[0m\u001b[0;34m,\u001b[0m\u001b[0;34m\u001b[0m\u001b[0;34m\u001b[0m\u001b[0m\n\u001b[0m\u001b[1;32m     28\u001b[0m         )\n\u001b[1;32m     29\u001b[0m         \u001b[0;32mif\u001b[0m \u001b[0mtype_check\u001b[0m\u001b[0;34m.\u001b[0m\u001b[0meval\u001b[0m\u001b[0;34m(\u001b[0m\u001b[0mn_in\u001b[0m\u001b[0;34m)\u001b[0m \u001b[0;34m==\u001b[0m \u001b[0;36m3\u001b[0m\u001b[0;34m:\u001b[0m\u001b[0;34m\u001b[0m\u001b[0;34m\u001b[0m\u001b[0m\n",
      "\u001b[0;32m/usr/local/lib/python3.6/dist-packages/chainer/utils/type_check.py\u001b[0m in \u001b[0;36mexpect\u001b[0;34m(*bool_exprs)\u001b[0m\n\u001b[1;32m    544\u001b[0m         \u001b[0;32mfor\u001b[0m \u001b[0mexpr\u001b[0m \u001b[0;32min\u001b[0m \u001b[0mbool_exprs\u001b[0m\u001b[0;34m:\u001b[0m\u001b[0;34m\u001b[0m\u001b[0;34m\u001b[0m\u001b[0m\n\u001b[1;32m    545\u001b[0m             \u001b[0;32massert\u001b[0m \u001b[0misinstance\u001b[0m\u001b[0;34m(\u001b[0m\u001b[0mexpr\u001b[0m\u001b[0;34m,\u001b[0m \u001b[0mTestable\u001b[0m\u001b[0;34m)\u001b[0m\u001b[0;34m\u001b[0m\u001b[0;34m\u001b[0m\u001b[0m\n\u001b[0;32m--> 546\u001b[0;31m             \u001b[0mexpr\u001b[0m\u001b[0;34m.\u001b[0m\u001b[0mexpect\u001b[0m\u001b[0;34m(\u001b[0m\u001b[0;34m)\u001b[0m\u001b[0;34m\u001b[0m\u001b[0;34m\u001b[0m\u001b[0m\n\u001b[0m\u001b[1;32m    547\u001b[0m \u001b[0;34m\u001b[0m\u001b[0m\n\u001b[1;32m    548\u001b[0m \u001b[0;34m\u001b[0m\u001b[0m\n",
      "\u001b[0;32m/usr/local/lib/python3.6/dist-packages/chainer/utils/type_check.py\u001b[0m in \u001b[0;36mexpect\u001b[0;34m(self)\u001b[0m\n\u001b[1;32m    481\u001b[0m             raise InvalidType(\n\u001b[1;32m    482\u001b[0m                 \u001b[0;34m'{0} {1} {2}'\u001b[0m\u001b[0;34m.\u001b[0m\u001b[0mformat\u001b[0m\u001b[0;34m(\u001b[0m\u001b[0mself\u001b[0m\u001b[0;34m.\u001b[0m\u001b[0mlhs\u001b[0m\u001b[0;34m,\u001b[0m \u001b[0mself\u001b[0m\u001b[0;34m.\u001b[0m\u001b[0mexp\u001b[0m\u001b[0;34m,\u001b[0m \u001b[0mself\u001b[0m\u001b[0;34m.\u001b[0m\u001b[0mrhs\u001b[0m\u001b[0;34m)\u001b[0m\u001b[0;34m,\u001b[0m\u001b[0;34m\u001b[0m\u001b[0;34m\u001b[0m\u001b[0m\n\u001b[0;32m--> 483\u001b[0;31m                 '{0} {1} {2}'.format(left, self.inv, right))\n\u001b[0m\u001b[1;32m    484\u001b[0m \u001b[0;34m\u001b[0m\u001b[0m\n\u001b[1;32m    485\u001b[0m \u001b[0;34m\u001b[0m\u001b[0m\n",
      "\u001b[0;31mInvalidType\u001b[0m: \nInvalid operation is performed in: LinearFunction (Forward)\n\nExpect: x.dtype.kind == f\nActual: i != f"
     ]
    }
   ],
   "source": [
    "u = fc(x)"
   ]
  },
  {
   "cell_type": "markdown",
   "metadata": {
    "colab_type": "text",
    "id": "uKYkvNhTTHTR"
   },
   "source": [
    "本来であれば、このように計算できます。   \n",
    "これは`chainer.links.Linear`というクラスの`call`関数を呼び出しているわけです。  \n",
    "これで計算ができることを、今は覚えておいてください。\n",
    "\n",
    "しかし、多くの方はこれでエラーが起きます。 エラーの原因は一番下に書いてあるため、まずは原因の確認を行いましょう。\n",
    "\n",
    "Chainerが初めての方には、非常にわかりにくく、一番最初に悩むエラーです。  \n",
    "これは「int型（i）ではなく、float型（f）で宣言しないといけない」という内容を示しています。\n",
    "\n",
    "入力するデータをfloat型で宣言して再度計算しましょう。  \n",
    "\n"
   ]
  },
  {
   "cell_type": "code",
   "execution_count": 0,
   "metadata": {
    "colab": {},
    "colab_type": "code",
    "id": "ugPilsYeTuKx"
   },
   "outputs": [],
   "source": [
    "x = np.array([[1,2,3]])"
   ]
  },
  {
   "cell_type": "code",
   "execution_count": 132,
   "metadata": {
    "colab": {
     "base_uri": "https://localhost:8080/",
     "height": 34
    },
    "colab_type": "code",
    "executionInfo": {
     "elapsed": 774,
     "status": "ok",
     "timestamp": 1547551031413,
     "user": {
      "displayName": "西沢衛",
      "photoUrl": "",
      "userId": "12011220225445512117"
     },
     "user_tz": -540
    },
    "id": "OulSMMO1TujQ",
    "outputId": "e099aaf0-cbae-4c32-bd52-184d88d1616f"
   },
   "outputs": [
    {
     "data": {
      "text/plain": [
       "dtype('int64')"
      ]
     },
     "execution_count": 132,
     "metadata": {
      "tags": []
     },
     "output_type": "execute_result"
    }
   ],
   "source": [
    "x.dtype"
   ]
  },
  {
   "cell_type": "markdown",
   "metadata": {
    "colab_type": "text",
    "id": "YY5u59d5Tv13"
   },
   "source": [
    "Numpyでのデータ型は`.dtype`で確認を行うことができます。   \n",
    "初期状態だと整数を扱うint型の32bitで定義されていることがわかります。\n",
    "\n",
    "こちらをfloat型で定義しなおします。"
   ]
  },
  {
   "cell_type": "code",
   "execution_count": 0,
   "metadata": {
    "colab": {},
    "colab_type": "code",
    "id": "YjNnbVXBT25a"
   },
   "outputs": [],
   "source": [
    "x = np.array([[1,2,3]], dtype=np.float)"
   ]
  },
  {
   "cell_type": "code",
   "execution_count": 134,
   "metadata": {
    "colab": {
     "base_uri": "https://localhost:8080/",
     "height": 34
    },
    "colab_type": "code",
    "executionInfo": {
     "elapsed": 1326,
     "status": "ok",
     "timestamp": 1547551032672,
     "user": {
      "displayName": "西沢衛",
      "photoUrl": "",
      "userId": "12011220225445512117"
     },
     "user_tz": -540
    },
    "id": "zw852B9YT5mF",
    "outputId": "7951069b-9b37-4359-f854-92bc37a6a035"
   },
   "outputs": [
    {
     "data": {
      "text/plain": [
       "dtype('float64')"
      ]
     },
     "execution_count": 134,
     "metadata": {
      "tags": []
     },
     "output_type": "execute_result"
    }
   ],
   "source": [
    "x.dtype"
   ]
  },
  {
   "cell_type": "markdown",
   "metadata": {
    "colab_type": "text",
    "id": "pyi_Wl7iT57z"
   },
   "source": [
    "再度計算を実行します。"
   ]
  },
  {
   "cell_type": "code",
   "execution_count": 135,
   "metadata": {
    "colab": {
     "base_uri": "https://localhost:8080/",
     "height": 1154
    },
    "colab_type": "code",
    "executionInfo": {
     "elapsed": 1468,
     "status": "error",
     "timestamp": 1547551033228,
     "user": {
      "displayName": "西沢衛",
      "photoUrl": "",
      "userId": "12011220225445512117"
     },
     "user_tz": -540
    },
    "id": "VtObc7X3T82-",
    "outputId": "26bc4509-8dbb-4384-ba05-84788715e17f"
   },
   "outputs": [
    {
     "ename": "InvalidType",
     "evalue": "ignored",
     "output_type": "error",
     "traceback": [
      "\u001b[0;31m---------------------------------------------------------------------------\u001b[0m",
      "\u001b[0;31mInvalidType\u001b[0m                               Traceback (most recent call last)",
      "\u001b[0;32m<ipython-input-135-d2620a228d16>\u001b[0m in \u001b[0;36m<module>\u001b[0;34m()\u001b[0m\n\u001b[0;32m----> 1\u001b[0;31m \u001b[0mu\u001b[0m \u001b[0;34m=\u001b[0m \u001b[0mfc\u001b[0m\u001b[0;34m(\u001b[0m\u001b[0mx\u001b[0m\u001b[0;34m)\u001b[0m\u001b[0;34m\u001b[0m\u001b[0;34m\u001b[0m\u001b[0m\n\u001b[0m",
      "\u001b[0;32m/usr/local/lib/python3.6/dist-packages/chainer/link.py\u001b[0m in \u001b[0;36m__call__\u001b[0;34m(self, *args, **kwargs)\u001b[0m\n\u001b[1;32m    240\u001b[0m         \u001b[0;32mif\u001b[0m \u001b[0mforward\u001b[0m \u001b[0;32mis\u001b[0m \u001b[0;32mNone\u001b[0m\u001b[0;34m:\u001b[0m\u001b[0;34m\u001b[0m\u001b[0;34m\u001b[0m\u001b[0m\n\u001b[1;32m    241\u001b[0m             \u001b[0mforward\u001b[0m \u001b[0;34m=\u001b[0m \u001b[0mself\u001b[0m\u001b[0;34m.\u001b[0m\u001b[0mforward\u001b[0m\u001b[0;34m\u001b[0m\u001b[0;34m\u001b[0m\u001b[0m\n\u001b[0;32m--> 242\u001b[0;31m         \u001b[0mout\u001b[0m \u001b[0;34m=\u001b[0m \u001b[0mforward\u001b[0m\u001b[0;34m(\u001b[0m\u001b[0;34m*\u001b[0m\u001b[0margs\u001b[0m\u001b[0;34m,\u001b[0m \u001b[0;34m**\u001b[0m\u001b[0mkwargs\u001b[0m\u001b[0;34m)\u001b[0m\u001b[0;34m\u001b[0m\u001b[0;34m\u001b[0m\u001b[0m\n\u001b[0m\u001b[1;32m    243\u001b[0m \u001b[0;34m\u001b[0m\u001b[0m\n\u001b[1;32m    244\u001b[0m         \u001b[0;31m# Call forward_postprocess hook\u001b[0m\u001b[0;34m\u001b[0m\u001b[0;34m\u001b[0m\u001b[0;34m\u001b[0m\u001b[0m\n",
      "\u001b[0;32m/usr/local/lib/python3.6/dist-packages/chainer/links/connection/linear.py\u001b[0m in \u001b[0;36mforward\u001b[0;34m(self, x, n_batch_axes)\u001b[0m\n\u001b[1;32m    136\u001b[0m             \u001b[0min_size\u001b[0m \u001b[0;34m=\u001b[0m \u001b[0mfunctools\u001b[0m\u001b[0;34m.\u001b[0m\u001b[0mreduce\u001b[0m\u001b[0;34m(\u001b[0m\u001b[0moperator\u001b[0m\u001b[0;34m.\u001b[0m\u001b[0mmul\u001b[0m\u001b[0;34m,\u001b[0m \u001b[0mx\u001b[0m\u001b[0;34m.\u001b[0m\u001b[0mshape\u001b[0m\u001b[0;34m[\u001b[0m\u001b[0;36m1\u001b[0m\u001b[0;34m:\u001b[0m\u001b[0;34m]\u001b[0m\u001b[0;34m,\u001b[0m \u001b[0;36m1\u001b[0m\u001b[0;34m)\u001b[0m\u001b[0;34m\u001b[0m\u001b[0;34m\u001b[0m\u001b[0m\n\u001b[1;32m    137\u001b[0m             \u001b[0mself\u001b[0m\u001b[0;34m.\u001b[0m\u001b[0m_initialize_params\u001b[0m\u001b[0;34m(\u001b[0m\u001b[0min_size\u001b[0m\u001b[0;34m)\u001b[0m\u001b[0;34m\u001b[0m\u001b[0;34m\u001b[0m\u001b[0m\n\u001b[0;32m--> 138\u001b[0;31m         \u001b[0;32mreturn\u001b[0m \u001b[0mlinear\u001b[0m\u001b[0;34m.\u001b[0m\u001b[0mlinear\u001b[0m\u001b[0;34m(\u001b[0m\u001b[0mx\u001b[0m\u001b[0;34m,\u001b[0m \u001b[0mself\u001b[0m\u001b[0;34m.\u001b[0m\u001b[0mW\u001b[0m\u001b[0;34m,\u001b[0m \u001b[0mself\u001b[0m\u001b[0;34m.\u001b[0m\u001b[0mb\u001b[0m\u001b[0;34m,\u001b[0m \u001b[0mn_batch_axes\u001b[0m\u001b[0;34m=\u001b[0m\u001b[0mn_batch_axes\u001b[0m\u001b[0;34m)\u001b[0m\u001b[0;34m\u001b[0m\u001b[0;34m\u001b[0m\u001b[0m\n\u001b[0m",
      "\u001b[0;32m/usr/local/lib/python3.6/dist-packages/chainer/functions/connection/linear.py\u001b[0m in \u001b[0;36mlinear\u001b[0;34m(x, W, b, n_batch_axes)\u001b[0m\n\u001b[1;32m    287\u001b[0m         \u001b[0margs\u001b[0m \u001b[0;34m=\u001b[0m \u001b[0mx\u001b[0m\u001b[0;34m,\u001b[0m \u001b[0mW\u001b[0m\u001b[0;34m,\u001b[0m \u001b[0mb\u001b[0m\u001b[0;34m\u001b[0m\u001b[0;34m\u001b[0m\u001b[0m\n\u001b[1;32m    288\u001b[0m \u001b[0;34m\u001b[0m\u001b[0m\n\u001b[0;32m--> 289\u001b[0;31m     \u001b[0my\u001b[0m\u001b[0;34m,\u001b[0m \u001b[0;34m=\u001b[0m \u001b[0mLinearFunction\u001b[0m\u001b[0;34m(\u001b[0m\u001b[0;34m)\u001b[0m\u001b[0;34m.\u001b[0m\u001b[0mapply\u001b[0m\u001b[0;34m(\u001b[0m\u001b[0margs\u001b[0m\u001b[0;34m)\u001b[0m\u001b[0;34m\u001b[0m\u001b[0;34m\u001b[0m\u001b[0m\n\u001b[0m\u001b[1;32m    290\u001b[0m     \u001b[0;32mif\u001b[0m \u001b[0mn_batch_axes\u001b[0m \u001b[0;34m>\u001b[0m \u001b[0;36m1\u001b[0m\u001b[0;34m:\u001b[0m\u001b[0;34m\u001b[0m\u001b[0;34m\u001b[0m\u001b[0m\n\u001b[1;32m    291\u001b[0m         \u001b[0my\u001b[0m \u001b[0;34m=\u001b[0m \u001b[0my\u001b[0m\u001b[0;34m.\u001b[0m\u001b[0mreshape\u001b[0m\u001b[0;34m(\u001b[0m\u001b[0mbatch_shape\u001b[0m \u001b[0;34m+\u001b[0m \u001b[0;34m(\u001b[0m\u001b[0;34m-\u001b[0m\u001b[0;36m1\u001b[0m\u001b[0;34m,\u001b[0m\u001b[0;34m)\u001b[0m\u001b[0;34m)\u001b[0m\u001b[0;34m\u001b[0m\u001b[0;34m\u001b[0m\u001b[0m\n",
      "\u001b[0;32m/usr/local/lib/python3.6/dist-packages/chainer/function_node.py\u001b[0m in \u001b[0;36mapply\u001b[0;34m(self, inputs)\u001b[0m\n\u001b[1;32m    243\u001b[0m \u001b[0;34m\u001b[0m\u001b[0m\n\u001b[1;32m    244\u001b[0m         \u001b[0;32mif\u001b[0m \u001b[0mconfiguration\u001b[0m\u001b[0;34m.\u001b[0m\u001b[0mconfig\u001b[0m\u001b[0;34m.\u001b[0m\u001b[0mtype_check\u001b[0m\u001b[0;34m:\u001b[0m\u001b[0;34m\u001b[0m\u001b[0;34m\u001b[0m\u001b[0m\n\u001b[0;32m--> 245\u001b[0;31m             \u001b[0mself\u001b[0m\u001b[0;34m.\u001b[0m\u001b[0m_check_data_type_forward\u001b[0m\u001b[0;34m(\u001b[0m\u001b[0min_data\u001b[0m\u001b[0;34m)\u001b[0m\u001b[0;34m\u001b[0m\u001b[0;34m\u001b[0m\u001b[0m\n\u001b[0m\u001b[1;32m    246\u001b[0m \u001b[0;34m\u001b[0m\u001b[0m\n\u001b[1;32m    247\u001b[0m         \u001b[0mhooks\u001b[0m \u001b[0;34m=\u001b[0m \u001b[0mchainer\u001b[0m\u001b[0;34m.\u001b[0m\u001b[0mget_function_hooks\u001b[0m\u001b[0;34m(\u001b[0m\u001b[0;34m)\u001b[0m\u001b[0;34m\u001b[0m\u001b[0;34m\u001b[0m\u001b[0m\n",
      "\u001b[0;32m/usr/local/lib/python3.6/dist-packages/chainer/function_node.py\u001b[0m in \u001b[0;36m_check_data_type_forward\u001b[0;34m(self, in_data)\u001b[0m\n\u001b[1;32m    328\u001b[0m         \u001b[0min_type\u001b[0m \u001b[0;34m=\u001b[0m \u001b[0mtype_check\u001b[0m\u001b[0;34m.\u001b[0m\u001b[0mget_types\u001b[0m\u001b[0;34m(\u001b[0m\u001b[0min_data\u001b[0m\u001b[0;34m,\u001b[0m \u001b[0;34m'in_types'\u001b[0m\u001b[0;34m,\u001b[0m \u001b[0;32mFalse\u001b[0m\u001b[0;34m)\u001b[0m\u001b[0;34m\u001b[0m\u001b[0;34m\u001b[0m\u001b[0m\n\u001b[1;32m    329\u001b[0m         \u001b[0;32mwith\u001b[0m \u001b[0mtype_check\u001b[0m\u001b[0;34m.\u001b[0m\u001b[0mget_function_check_context\u001b[0m\u001b[0;34m(\u001b[0m\u001b[0mself\u001b[0m\u001b[0;34m)\u001b[0m\u001b[0;34m:\u001b[0m\u001b[0;34m\u001b[0m\u001b[0;34m\u001b[0m\u001b[0m\n\u001b[0;32m--> 330\u001b[0;31m             \u001b[0mself\u001b[0m\u001b[0;34m.\u001b[0m\u001b[0mcheck_type_forward\u001b[0m\u001b[0;34m(\u001b[0m\u001b[0min_type\u001b[0m\u001b[0;34m)\u001b[0m\u001b[0;34m\u001b[0m\u001b[0;34m\u001b[0m\u001b[0m\n\u001b[0m\u001b[1;32m    331\u001b[0m \u001b[0;34m\u001b[0m\u001b[0m\n\u001b[1;32m    332\u001b[0m     \u001b[0;32mdef\u001b[0m \u001b[0mcheck_type_forward\u001b[0m\u001b[0;34m(\u001b[0m\u001b[0mself\u001b[0m\u001b[0;34m,\u001b[0m \u001b[0min_types\u001b[0m\u001b[0;34m)\u001b[0m\u001b[0;34m:\u001b[0m\u001b[0;34m\u001b[0m\u001b[0;34m\u001b[0m\u001b[0m\n",
      "\u001b[0;32m/usr/local/lib/python3.6/dist-packages/chainer/functions/connection/linear.py\u001b[0m in \u001b[0;36mcheck_type_forward\u001b[0;34m(self, in_types)\u001b[0m\n\u001b[1;32m     33\u001b[0m                 \u001b[0mb_type\u001b[0m\u001b[0;34m.\u001b[0m\u001b[0mdtype\u001b[0m \u001b[0;34m==\u001b[0m \u001b[0mx_type\u001b[0m\u001b[0;34m.\u001b[0m\u001b[0mdtype\u001b[0m\u001b[0;34m,\u001b[0m\u001b[0;34m\u001b[0m\u001b[0;34m\u001b[0m\u001b[0m\n\u001b[1;32m     34\u001b[0m                 \u001b[0mb_type\u001b[0m\u001b[0;34m.\u001b[0m\u001b[0mndim\u001b[0m \u001b[0;34m==\u001b[0m \u001b[0;36m1\u001b[0m\u001b[0;34m,\u001b[0m\u001b[0;34m\u001b[0m\u001b[0;34m\u001b[0m\u001b[0m\n\u001b[0;32m---> 35\u001b[0;31m                 \u001b[0mb_type\u001b[0m\u001b[0;34m.\u001b[0m\u001b[0mshape\u001b[0m\u001b[0;34m[\u001b[0m\u001b[0;36m0\u001b[0m\u001b[0;34m]\u001b[0m \u001b[0;34m==\u001b[0m \u001b[0mw_type\u001b[0m\u001b[0;34m.\u001b[0m\u001b[0mshape\u001b[0m\u001b[0;34m[\u001b[0m\u001b[0;36m0\u001b[0m\u001b[0;34m]\u001b[0m\u001b[0;34m,\u001b[0m\u001b[0;34m\u001b[0m\u001b[0;34m\u001b[0m\u001b[0m\n\u001b[0m\u001b[1;32m     36\u001b[0m             )\n\u001b[1;32m     37\u001b[0m \u001b[0;34m\u001b[0m\u001b[0m\n",
      "\u001b[0;32m/usr/local/lib/python3.6/dist-packages/chainer/utils/type_check.py\u001b[0m in \u001b[0;36mexpect\u001b[0;34m(*bool_exprs)\u001b[0m\n\u001b[1;32m    544\u001b[0m         \u001b[0;32mfor\u001b[0m \u001b[0mexpr\u001b[0m \u001b[0;32min\u001b[0m \u001b[0mbool_exprs\u001b[0m\u001b[0;34m:\u001b[0m\u001b[0;34m\u001b[0m\u001b[0;34m\u001b[0m\u001b[0m\n\u001b[1;32m    545\u001b[0m             \u001b[0;32massert\u001b[0m \u001b[0misinstance\u001b[0m\u001b[0;34m(\u001b[0m\u001b[0mexpr\u001b[0m\u001b[0;34m,\u001b[0m \u001b[0mTestable\u001b[0m\u001b[0;34m)\u001b[0m\u001b[0;34m\u001b[0m\u001b[0;34m\u001b[0m\u001b[0m\n\u001b[0;32m--> 546\u001b[0;31m             \u001b[0mexpr\u001b[0m\u001b[0;34m.\u001b[0m\u001b[0mexpect\u001b[0m\u001b[0;34m(\u001b[0m\u001b[0;34m)\u001b[0m\u001b[0;34m\u001b[0m\u001b[0;34m\u001b[0m\u001b[0m\n\u001b[0m\u001b[1;32m    547\u001b[0m \u001b[0;34m\u001b[0m\u001b[0m\n\u001b[1;32m    548\u001b[0m \u001b[0;34m\u001b[0m\u001b[0m\n",
      "\u001b[0;32m/usr/local/lib/python3.6/dist-packages/chainer/utils/type_check.py\u001b[0m in \u001b[0;36mexpect\u001b[0;34m(self)\u001b[0m\n\u001b[1;32m    481\u001b[0m             raise InvalidType(\n\u001b[1;32m    482\u001b[0m                 \u001b[0;34m'{0} {1} {2}'\u001b[0m\u001b[0;34m.\u001b[0m\u001b[0mformat\u001b[0m\u001b[0;34m(\u001b[0m\u001b[0mself\u001b[0m\u001b[0;34m.\u001b[0m\u001b[0mlhs\u001b[0m\u001b[0;34m,\u001b[0m \u001b[0mself\u001b[0m\u001b[0;34m.\u001b[0m\u001b[0mexp\u001b[0m\u001b[0;34m,\u001b[0m \u001b[0mself\u001b[0m\u001b[0;34m.\u001b[0m\u001b[0mrhs\u001b[0m\u001b[0;34m)\u001b[0m\u001b[0;34m,\u001b[0m\u001b[0;34m\u001b[0m\u001b[0;34m\u001b[0m\u001b[0m\n\u001b[0;32m--> 483\u001b[0;31m                 '{0} {1} {2}'.format(left, self.inv, right))\n\u001b[0m\u001b[1;32m    484\u001b[0m \u001b[0;34m\u001b[0m\u001b[0m\n\u001b[1;32m    485\u001b[0m \u001b[0;34m\u001b[0m\u001b[0m\n",
      "\u001b[0;31mInvalidType\u001b[0m: \nInvalid operation is performed in: LinearFunction (Forward)\n\nExpect: b.dtype == x.dtype\nActual: float32 != float64"
     ]
    }
   ],
   "source": [
    "u = fc(x)"
   ]
  },
  {
   "cell_type": "markdown",
   "metadata": {
    "colab_type": "text",
    "id": "goawQiSHT9G3"
   },
   "source": [
    "しかし、float型に変換しても、またエラーが起きてしまいます。  \n",
    "今度のエラーの内容としては、`float64`ではなく、`float32`が望まれると記載されています。\n",
    "\n",
    "Chainerではデフォルトで`32bit`を扱うことになっているということを覚えておきましょう。  \n",
    "なぜこの32bit型を使用するかというとGPUで計算する上でこの形が最も適しているという認識を持っていれば問題ありません。"
   ]
  },
  {
   "cell_type": "code",
   "execution_count": 0,
   "metadata": {
    "colab": {},
    "colab_type": "code",
    "id": "613ho0WtULYr"
   },
   "outputs": [],
   "source": [
    "x = np.array([[1, 2, 3]], dtype=np.float32)"
   ]
  },
  {
   "cell_type": "code",
   "execution_count": 0,
   "metadata": {
    "colab": {},
    "colab_type": "code",
    "id": "h2QHYdExUOwQ"
   },
   "outputs": [],
   "source": [
    "x.dtype"
   ]
  },
  {
   "cell_type": "markdown",
   "metadata": {
    "colab_type": "text",
    "id": "XhreVEgRUPmA"
   },
   "source": [
    "また、float32型への変換は以下のように省略形で記述することができます。"
   ]
  },
  {
   "cell_type": "code",
   "execution_count": 0,
   "metadata": {
    "colab": {},
    "colab_type": "code",
    "id": "XwpQJIqhUWwQ"
   },
   "outputs": [],
   "source": [
    "x = np.array([[1, 2, 3]], 'f')"
   ]
  },
  {
   "cell_type": "code",
   "execution_count": 137,
   "metadata": {
    "colab": {
     "base_uri": "https://localhost:8080/",
     "height": 34
    },
    "colab_type": "code",
    "executionInfo": {
     "elapsed": 1307,
     "status": "ok",
     "timestamp": 1547551034215,
     "user": {
      "displayName": "西沢衛",
      "photoUrl": "",
      "userId": "12011220225445512117"
     },
     "user_tz": -540
    },
    "id": "-qsq0kgWUX6-",
    "outputId": "ca108723-5de3-4dd1-adb7-5d6d5926da7a"
   },
   "outputs": [
    {
     "data": {
      "text/plain": [
       "dtype('float32')"
      ]
     },
     "execution_count": 137,
     "metadata": {
      "tags": []
     },
     "output_type": "execute_result"
    }
   ],
   "source": [
    "x.dtype"
   ]
  },
  {
   "cell_type": "markdown",
   "metadata": {
    "colab_type": "text",
    "id": "CwN2bIM2UYuU"
   },
   "source": [
    "改めて、再度計算を実行します。"
   ]
  },
  {
   "cell_type": "code",
   "execution_count": 0,
   "metadata": {
    "colab": {},
    "colab_type": "code",
    "id": "zYwUtsvNUcXz"
   },
   "outputs": [],
   "source": [
    "u = fc(x)"
   ]
  },
  {
   "cell_type": "code",
   "execution_count": 139,
   "metadata": {
    "colab": {
     "base_uri": "https://localhost:8080/",
     "height": 34
    },
    "colab_type": "code",
    "executionInfo": {
     "elapsed": 1244,
     "status": "ok",
     "timestamp": 1547551034941,
     "user": {
      "displayName": "西沢衛",
      "photoUrl": "",
      "userId": "12011220225445512117"
     },
     "user_tz": -540
    },
    "id": "mEKXLjlZUfn-",
    "outputId": "447fb885-3b91-4124-c7fc-6008517ed597"
   },
   "outputs": [
    {
     "data": {
      "text/plain": [
       "variable([[4.3643565, 5.0821066]])"
      ]
     },
     "execution_count": 139,
     "metadata": {
      "tags": []
     },
     "output_type": "execute_result"
    }
   ],
   "source": [
    "u"
   ]
  },
  {
   "cell_type": "markdown",
   "metadata": {
    "colab_type": "text",
    "id": "Kjlx1sffUhVX"
   },
   "source": [
    "### 非線形変換の計算\n",
    "\n",
    "前章で学んだ活性化関数として、Relu関数をかける場合は以下のように記述します。  \n",
    "Chainerで使用する関数は全て `functions` にあります。"
   ]
  },
  {
   "cell_type": "code",
   "execution_count": 0,
   "metadata": {
    "colab": {},
    "colab_type": "code",
    "id": "ifAvlKisUyl2"
   },
   "outputs": [],
   "source": [
    "import chainer.functions as F"
   ]
  },
  {
   "cell_type": "code",
   "execution_count": 0,
   "metadata": {
    "colab": {},
    "colab_type": "code",
    "id": "tg1Qxqn0Uzl9"
   },
   "outputs": [],
   "source": [
    "z = F.relu(u)"
   ]
  },
  {
   "cell_type": "code",
   "execution_count": 142,
   "metadata": {
    "colab": {
     "base_uri": "https://localhost:8080/",
     "height": 34
    },
    "colab_type": "code",
    "executionInfo": {
     "elapsed": 1615,
     "status": "ok",
     "timestamp": 1547551036732,
     "user": {
      "displayName": "西沢衛",
      "photoUrl": "",
      "userId": "12011220225445512117"
     },
     "user_tz": -540
    },
    "id": "HmFEMLWSU0fn",
    "outputId": "60da9e1a-d0c2-4956-84ad-b20a6c60bd87"
   },
   "outputs": [
    {
     "data": {
      "text/plain": [
       "variable([[4.3643565, 5.0821066]])"
      ]
     },
     "execution_count": 142,
     "metadata": {
      "tags": []
     },
     "output_type": "execute_result"
    }
   ],
   "source": [
    "z"
   ]
  },
  {
   "cell_type": "markdown",
   "metadata": {
    "colab_type": "text",
    "id": "v45j9x1gU1ho"
   },
   "source": [
    "このように正の値はそのままで、負の値は0となるRelu関数が正しく適用できていることが確認できます。\n",
    "\n",
    "\n",
    "### 一連の流れを計算\n",
    "\n",
    "前章で学んだ数学の計算を一連の流れで計算してみます。  \n",
    "全体像は下記になります。  \n",
    "\n",
    "![NNイメージ](images/06_02.png)\n",
    "\n",
    "**構成**  \n",
    "\n",
    "リンクの定義\n",
    "\n",
    "- 左側のリンク：fc1 → (3, 2)\n",
    "- 右側のリンク：fc2 → (2, 1)\n",
    "\n",
    "データの準備\n",
    "\n",
    "- 入力変数 : x → (1, 2, 3)\n",
    "- 教師データ : t → (3)\n",
    "\n",
    "計算\n",
    "\n",
    "- fc1の線形変換 → u1\n",
    "- fc1の非線形変換（Relu）→ z1\n",
    "- fc2の線形変換 → 出力y\n",
    "- 損失関数 : mean_squared_error → loss\n",
    "\n",
    "なお、計算する前にシードの固定は下記で設定します。  \n",
    "（`np.random.seed(3)`）\n",
    "\n",
    "\n",
    "#### リンクの定義"
   ]
  },
  {
   "cell_type": "code",
   "execution_count": 0,
   "metadata": {
    "colab": {},
    "colab_type": "code",
    "id": "5h6lnMm_VAib"
   },
   "outputs": [],
   "source": [
    "# シードの固定\n",
    "np.random.seed(3)"
   ]
  },
  {
   "cell_type": "code",
   "execution_count": 0,
   "metadata": {
    "colab": {},
    "colab_type": "code",
    "id": "xnxT9QSS0jko"
   },
   "outputs": [],
   "source": [
    "# リンクの宣言\n",
    "fc1 = L.Linear(3, 2)\n",
    "fc2 = L.Linear(2, 1)"
   ]
  },
  {
   "cell_type": "markdown",
   "metadata": {
    "colab_type": "text",
    "id": "enIGdn1LFa52"
   },
   "source": [
    "#### データの定義"
   ]
  },
  {
   "cell_type": "code",
   "execution_count": 0,
   "metadata": {
    "colab": {},
    "colab_type": "code",
    "id": "rpCjupz_0lvv"
   },
   "outputs": [],
   "source": [
    "# 入力変数\n",
    "x = np.array([[1, 2, 3]], 'f')"
   ]
  },
  {
   "cell_type": "code",
   "execution_count": 0,
   "metadata": {
    "colab": {},
    "colab_type": "code",
    "id": "g3ppm-uuFeMu"
   },
   "outputs": [],
   "source": [
    "# 教師データ\n",
    "t = np.array([[3]], 'f')"
   ]
  },
  {
   "cell_type": "markdown",
   "metadata": {
    "colab_type": "text",
    "id": "bFBoI0UcEoH0"
   },
   "source": [
    "#### 線形変換と非線型変換の計算"
   ]
  },
  {
   "cell_type": "code",
   "execution_count": 147,
   "metadata": {
    "colab": {
     "base_uri": "https://localhost:8080/",
     "height": 34
    },
    "colab_type": "code",
    "executionInfo": {
     "elapsed": 586,
     "status": "ok",
     "timestamp": 1547551037448,
     "user": {
      "displayName": "西沢衛",
      "photoUrl": "",
      "userId": "12011220225445512117"
     },
     "user_tz": -540
    },
    "id": "3wxnDsoyEdC5",
    "outputId": "06add5dc-be5b-4f55-b3b8-d9b645f2d36c"
   },
   "outputs": [
    {
     "data": {
      "text/plain": [
       "variable([[ 1.7038419, -2.010649 ]])"
      ]
     },
     "execution_count": 147,
     "metadata": {
      "tags": []
     },
     "output_type": "execute_result"
    }
   ],
   "source": [
    "# 線形変換の計算\n",
    "u1 = fc1(x)\n",
    "u1"
   ]
  },
  {
   "cell_type": "code",
   "execution_count": 148,
   "metadata": {
    "colab": {
     "base_uri": "https://localhost:8080/",
     "height": 34
    },
    "colab_type": "code",
    "executionInfo": {
     "elapsed": 590,
     "status": "ok",
     "timestamp": 1547551037840,
     "user": {
      "displayName": "西沢衛",
      "photoUrl": "",
      "userId": "12011220225445512117"
     },
     "user_tz": -540
    },
    "id": "lVOnrBmJEfwg",
    "outputId": "34c64cb6-6644-43c4-e3a7-41115caebec2"
   },
   "outputs": [
    {
     "data": {
      "text/plain": [
       "variable([[1.7038419, 0.       ]])"
      ]
     },
     "execution_count": 148,
     "metadata": {
      "tags": []
     },
     "output_type": "execute_result"
    }
   ],
   "source": [
    "# 非線型変換の計算\n",
    "z1 = F.relu(u1)\n",
    "z1"
   ]
  },
  {
   "cell_type": "code",
   "execution_count": 149,
   "metadata": {
    "colab": {
     "base_uri": "https://localhost:8080/",
     "height": 34
    },
    "colab_type": "code",
    "executionInfo": {
     "elapsed": 702,
     "status": "ok",
     "timestamp": 1547551038218,
     "user": {
      "displayName": "西沢衛",
      "photoUrl": "",
      "userId": "12011220225445512117"
     },
     "user_tz": -540
    },
    "id": "PPgwNlOmEmMd",
    "outputId": "08cd841b-98a9-4336-cfda-5cb93a47f926"
   },
   "outputs": [
    {
     "data": {
      "text/plain": [
       "variable([[-0.09968679]])"
      ]
     },
     "execution_count": 149,
     "metadata": {
      "tags": []
     },
     "output_type": "execute_result"
    }
   ],
   "source": [
    "# 出力yの計算\n",
    "y = fc2(z1)\n",
    "y"
   ]
  },
  {
   "cell_type": "markdown",
   "metadata": {
    "colab_type": "text",
    "id": "JkZoNL9DEnGQ"
   },
   "source": [
    "#### 損失関数の値の計算\n",
    "\n",
    "出力の予測値が計算できたので、損失関数の値も計算を行います。 先の入力に対する教師データが`t=3`だとすると、以下のように計算できます。"
   ]
  },
  {
   "cell_type": "code",
   "execution_count": 150,
   "metadata": {
    "colab": {
     "base_uri": "https://localhost:8080/",
     "height": 34
    },
    "colab_type": "code",
    "executionInfo": {
     "elapsed": 880,
     "status": "ok",
     "timestamp": 1547551038701,
     "user": {
      "displayName": "西沢衛",
      "photoUrl": "",
      "userId": "12011220225445512117"
     },
     "user_tz": -540
    },
    "id": "8Y_muHlpHmKK",
    "outputId": "2b24d267-6b61-4314-d967-62c99e5bfe78"
   },
   "outputs": [
    {
     "data": {
      "text/plain": [
       "variable(9.608059)"
      ]
     },
     "execution_count": 150,
     "metadata": {
      "tags": []
     },
     "output_type": "execute_result"
    }
   ],
   "source": [
    "# 平均二乗誤差の計算\n",
    "loss = F.mean_squared_error(t, y)\n",
    "loss"
   ]
  },
  {
   "cell_type": "markdown",
   "metadata": {
    "colab_type": "text",
    "id": "bicgSNxzHoBD"
   },
   "source": [
    "こちらのように評価関数に関しても、Chainerでは`chainer.functions（F）`の中に定義されているため、特別発展的な内容でない限りはこちらを使用して進めていくことを推奨します。"
   ]
  },
  {
   "cell_type": "markdown",
   "metadata": {
    "colab_type": "text",
    "id": "q4r97vYJHwFr"
   },
   "source": [
    "### chainer.links（L）とchainer.functions（F）の違い\n",
    "\n",
    "これまで、Chainerの機能である`L`と`F`が何回か登場しましたが、どのように使い分けているかは以下の通りです。\n",
    "\n",
    "- chainer.links（L）：調整すべきパラメータを持つ関数\n",
    "- chainer.functions（F）：調整すべきパラメータを持たない関数\n",
    "\n",
    "具体的には、`L.Linear`のように内部で重み`W`やバイアス`b`のパラメータを持つ場合は`chainer.links`で用意されています。 逆にRelu関数では、`f(u)=max(0,u)`のように、内部でパラメータを持たないため、`chainer.functions`で用意されています。\n",
    "\n"
   ]
  },
  {
   "cell_type": "markdown",
   "metadata": {
    "colab_type": "text",
    "id": "yI-tJDoEEXpY"
   },
   "source": [
    "### ChainerのSequentialで順伝播の計算\n",
    "\n",
    "Chainerが用意している`Sequential`を使用することによって、  \n",
    "上記の流れの定義、計算を一度に実行することができます。  "
   ]
  },
  {
   "cell_type": "code",
   "execution_count": 0,
   "metadata": {
    "colab": {},
    "colab_type": "code",
    "id": "eZUJPTitEwU7"
   },
   "outputs": [],
   "source": [
    "from chainer import sequential"
   ]
  },
  {
   "cell_type": "code",
   "execution_count": 0,
   "metadata": {
    "colab": {},
    "colab_type": "code",
    "id": "LME5LpMbtZ7t"
   },
   "outputs": [],
   "source": [
    "# 順伝播の流れと計算を定義\n",
    "model = Sequential(\n",
    "    fc1,\n",
    "    F.relu,\n",
    "    fc2,\n",
    ")"
   ]
  },
  {
   "cell_type": "code",
   "execution_count": 0,
   "metadata": {
    "colab": {},
    "colab_type": "code",
    "id": "RqqDevzyE5rV"
   },
   "outputs": [],
   "source": [
    "# 順伝播の計算を実行\n",
    "y = model(x)"
   ]
  },
  {
   "cell_type": "code",
   "execution_count": 154,
   "metadata": {
    "colab": {
     "base_uri": "https://localhost:8080/",
     "height": 34
    },
    "colab_type": "code",
    "executionInfo": {
     "elapsed": 867,
     "status": "ok",
     "timestamp": 1547551040440,
     "user": {
      "displayName": "西沢衛",
      "photoUrl": "",
      "userId": "12011220225445512117"
     },
     "user_tz": -540
    },
    "id": "Tiv3YwQCX078",
    "outputId": "0c3559be-64f8-4c54-f77a-367eb89b318a"
   },
   "outputs": [
    {
     "data": {
      "text/plain": [
       "variable([[-0.09968679]])"
      ]
     },
     "execution_count": 154,
     "metadata": {
      "tags": []
     },
     "output_type": "execute_result"
    }
   ],
   "source": [
    "y"
   ]
  },
  {
   "cell_type": "code",
   "execution_count": 155,
   "metadata": {
    "colab": {
     "base_uri": "https://localhost:8080/",
     "height": 34
    },
    "colab_type": "code",
    "executionInfo": {
     "elapsed": 776,
     "status": "ok",
     "timestamp": 1547551040690,
     "user": {
      "displayName": "西沢衛",
      "photoUrl": "",
      "userId": "12011220225445512117"
     },
     "user_tz": -540
    },
    "id": "b1eGKyUBtjVP",
    "outputId": "2260c0a8-897f-482d-cb6a-768b9def11f4"
   },
   "outputs": [
    {
     "data": {
      "text/plain": [
       "variable(9.608059)"
      ]
     },
     "execution_count": 155,
     "metadata": {
      "tags": []
     },
     "output_type": "execute_result"
    }
   ],
   "source": [
    "# 損失関数を計算\n",
    "F.mean_squared_error(t, y)"
   ]
  },
  {
   "cell_type": "markdown",
   "metadata": {
    "colab_type": "text",
    "id": "1qPr0ItgHwKx"
   },
   "source": [
    "## Chainerでクラス分類\n",
    "\n",
    "順伝播の計算方法を理解したところで、実際にChainerを用いて学習済みモデルを構築していきます。  \n",
    "\n",
    "今回は「分類」の問題設定に取り組みます。  \n",
    "\n",
    "\n",
    "### データの読み込み\n",
    "\n",
    "今回はscikit-learn上で準備されているirisの分類のデータセットを使用します。  "
   ]
  },
  {
   "cell_type": "code",
   "execution_count": 0,
   "metadata": {
    "colab": {},
    "colab_type": "code",
    "id": "1djdJsjNHwQ3"
   },
   "outputs": [],
   "source": [
    "# irisデータセットの読み込み\n",
    "from sklearn.datasets import load_iris\n",
    "dataset = load_iris()\n",
    "x = dataset.data\n",
    "t = dataset.target"
   ]
  },
  {
   "cell_type": "markdown",
   "metadata": {
    "colab_type": "text",
    "id": "qr7rZ7izHwWP"
   },
   "source": [
    "### Chainerで計算できるデータ形式に変換\n",
    "\n",
    "Chainerで計算を行うために、下記の３点を満たしているか確認します。  \n",
    "こちらが指定された形式となっていない場合、学習の際にエラーが出てしまいます。  \n",
    "\n",
    "- 入力変数や教師データが `Numpy` で定義されているか\n",
    "- 分類の場合、ラベルが `0` から始まっているか\n",
    "- 入力変数が `float32` 、教師データが回帰の場合 `float32` 、分類の場合 `int32` で定義されているか\n",
    "\n",
    "\n",
    "#### Numpyに変換\n",
    "\n",
    "今回はscikit-learnからデータを読み込みんでいるため、データはNumpy型となっています。  \n",
    "そのため今回は特に変更を加える必要はありません。"
   ]
  },
  {
   "cell_type": "code",
   "execution_count": 157,
   "metadata": {
    "colab": {
     "base_uri": "https://localhost:8080/",
     "height": 34
    },
    "colab_type": "code",
    "executionInfo": {
     "elapsed": 818,
     "status": "ok",
     "timestamp": 1547551043661,
     "user": {
      "displayName": "西沢衛",
      "photoUrl": "",
      "userId": "12011220225445512117"
     },
     "user_tz": -540
    },
    "id": "mcwtvNebHwcC",
    "outputId": "08df924c-86d0-4e8c-f075-52d1c9140069"
   },
   "outputs": [
    {
     "data": {
      "text/plain": [
       "numpy.ndarray"
      ]
     },
     "execution_count": 157,
     "metadata": {
      "tags": []
     },
     "output_type": "execute_result"
    }
   ],
   "source": [
    "type(x)"
   ]
  },
  {
   "cell_type": "code",
   "execution_count": 158,
   "metadata": {
    "colab": {
     "base_uri": "https://localhost:8080/",
     "height": 34
    },
    "colab_type": "code",
    "executionInfo": {
     "elapsed": 634,
     "status": "ok",
     "timestamp": 1547551043662,
     "user": {
      "displayName": "西沢衛",
      "photoUrl": "",
      "userId": "12011220225445512117"
     },
     "user_tz": -540
    },
    "id": "ePRjydCwHwhK",
    "outputId": "a813267e-796d-446d-a808-21698b71fea0"
   },
   "outputs": [
    {
     "data": {
      "text/plain": [
       "numpy.ndarray"
      ]
     },
     "execution_count": 158,
     "metadata": {
      "tags": []
     },
     "output_type": "execute_result"
    }
   ],
   "source": [
    "type(t)"
   ]
  },
  {
   "cell_type": "markdown",
   "metadata": {
    "colab_type": "text",
    "id": "F10F5FHcNtg5"
   },
   "source": [
    "### 分類で使用するラベルを0から始める\n",
    "\n",
    "今回準備されている教師データのラベルを確認してみましょう。`min`と`max`で確認することができます。"
   ]
  },
  {
   "cell_type": "code",
   "execution_count": 159,
   "metadata": {
    "colab": {
     "base_uri": "https://localhost:8080/",
     "height": 34
    },
    "colab_type": "code",
    "executionInfo": {
     "elapsed": 506,
     "status": "ok",
     "timestamp": 1547551043934,
     "user": {
      "displayName": "西沢衛",
      "photoUrl": "",
      "userId": "12011220225445512117"
     },
     "user_tz": -540
    },
    "id": "WVlC7W1zN5l_",
    "outputId": "cbfa85e7-9cf7-4722-f122-98d0dce5d92c"
   },
   "outputs": [
    {
     "data": {
      "text/plain": [
       "0"
      ]
     },
     "execution_count": 159,
     "metadata": {
      "tags": []
     },
     "output_type": "execute_result"
    }
   ],
   "source": [
    "t.min()"
   ]
  },
  {
   "cell_type": "code",
   "execution_count": 160,
   "metadata": {
    "colab": {
     "base_uri": "https://localhost:8080/",
     "height": 34
    },
    "colab_type": "code",
    "executionInfo": {
     "elapsed": 684,
     "status": "ok",
     "timestamp": 1547551044288,
     "user": {
      "displayName": "西沢衛",
      "photoUrl": "",
      "userId": "12011220225445512117"
     },
     "user_tz": -540
    },
    "id": "E3Y9i8iCN7lp",
    "outputId": "048a6031-b259-4fd7-edc8-ff9673bf116c"
   },
   "outputs": [
    {
     "data": {
      "text/plain": [
       "2"
      ]
     },
     "execution_count": 160,
     "metadata": {
      "tags": []
     },
     "output_type": "execute_result"
    }
   ],
   "source": [
    "t.max()"
   ]
  },
  {
   "cell_type": "markdown",
   "metadata": {
    "colab_type": "text",
    "id": "YpVcSk5NN9Bi"
   },
   "source": [
    "教師データのラベルが0から始まっていることが確認できたので、今回は特に変更を加える必要はありません。  \n",
    "\n",
    "#### データ型を変更\n",
    "\n",
    "始めに現状のデータ型を確認します。"
   ]
  },
  {
   "cell_type": "code",
   "execution_count": 161,
   "metadata": {
    "colab": {
     "base_uri": "https://localhost:8080/",
     "height": 34
    },
    "colab_type": "code",
    "executionInfo": {
     "elapsed": 598,
     "status": "ok",
     "timestamp": 1547551044686,
     "user": {
      "displayName": "西沢衛",
      "photoUrl": "",
      "userId": "12011220225445512117"
     },
     "user_tz": -540
    },
    "id": "QN6gycltON97",
    "outputId": "4a6e753b-a232-4944-b090-3cdaf8559184"
   },
   "outputs": [
    {
     "data": {
      "text/plain": [
       "dtype('float64')"
      ]
     },
     "execution_count": 161,
     "metadata": {
      "tags": []
     },
     "output_type": "execute_result"
    }
   ],
   "source": [
    "x.dtype"
   ]
  },
  {
   "cell_type": "code",
   "execution_count": 162,
   "metadata": {
    "colab": {
     "base_uri": "https://localhost:8080/",
     "height": 34
    },
    "colab_type": "code",
    "executionInfo": {
     "elapsed": 648,
     "status": "ok",
     "timestamp": 1547551045017,
     "user": {
      "displayName": "西沢衛",
      "photoUrl": "",
      "userId": "12011220225445512117"
     },
     "user_tz": -540
    },
    "id": "PBGitPwbOPSr",
    "outputId": "5498ce21-96df-4af5-aab9-f93f77268248"
   },
   "outputs": [
    {
     "data": {
      "text/plain": [
       "dtype('int64')"
      ]
     },
     "execution_count": 162,
     "metadata": {
      "tags": []
     },
     "output_type": "execute_result"
    }
   ],
   "source": [
    "t.dtype"
   ]
  },
  {
   "cell_type": "markdown",
   "metadata": {
    "colab_type": "text",
    "id": "P82qbMIFOQnF"
   },
   "source": [
    " Numpyの基礎でご紹介したように、`.dtype`のコマンドで確認することができます。  \n",
    "このように、本来であれば`32bit`型で指定しないといけないところを`64bit`版のコンピュータであれば、デフォルトが`64bit`型で定義されてしまうため、変更する必要があります。\n",
    "\n",
    "Numpy側で準備されている`.astype()`を使用して、`32bit`型へと変換します。"
   ]
  },
  {
   "cell_type": "code",
   "execution_count": 0,
   "metadata": {
    "colab": {},
    "colab_type": "code",
    "id": "ivwcazzPOuO3"
   },
   "outputs": [],
   "source": [
    "# 32bitに変換\n",
    "x = x.astype('float32')\n",
    "t = t.astype('int32')"
   ]
  },
  {
   "cell_type": "code",
   "execution_count": 164,
   "metadata": {
    "colab": {
     "base_uri": "https://localhost:8080/",
     "height": 34
    },
    "colab_type": "code",
    "executionInfo": {
     "elapsed": 789,
     "status": "ok",
     "timestamp": 1547551045799,
     "user": {
      "displayName": "西沢衛",
      "photoUrl": "",
      "userId": "12011220225445512117"
     },
     "user_tz": -540
    },
    "id": "J6FawbGTOv3Y",
    "outputId": "17178993-9f08-41a6-9131-475f750fa513"
   },
   "outputs": [
    {
     "data": {
      "text/plain": [
       "dtype('float32')"
      ]
     },
     "execution_count": 164,
     "metadata": {
      "tags": []
     },
     "output_type": "execute_result"
    }
   ],
   "source": [
    "x.dtype"
   ]
  },
  {
   "cell_type": "code",
   "execution_count": 165,
   "metadata": {
    "colab": {
     "base_uri": "https://localhost:8080/",
     "height": 34
    },
    "colab_type": "code",
    "executionInfo": {
     "elapsed": 585,
     "status": "ok",
     "timestamp": 1547551045800,
     "user": {
      "displayName": "西沢衛",
      "photoUrl": "",
      "userId": "12011220225445512117"
     },
     "user_tz": -540
    },
    "id": "--Tsw6SkOxM4",
    "outputId": "69ee4759-228b-42e8-eae9-d17ce1b4e621"
   },
   "outputs": [
    {
     "data": {
      "text/plain": [
       "dtype('int32')"
      ]
     },
     "execution_count": 165,
     "metadata": {
      "tags": []
     },
     "output_type": "execute_result"
    }
   ],
   "source": [
    "t.dtype"
   ]
  },
  {
   "cell_type": "markdown",
   "metadata": {
    "colab_type": "text",
    "id": "Q6NsdXz9OyYB"
   },
   "source": [
    "### Chainerで使用するデータセットの形式\n",
    "\n",
    "メモリに乗る程度の小規模なデータの場合は、入力変数と教師データを**タプルで１セット**にし、それを**リスト化**しておくことがChainer推奨の形式です。\n",
    "\n",
    "![Chainer推奨のデータセット形式](images/06_03.png)"
   ]
  },
  {
   "cell_type": "code",
   "execution_count": 0,
   "metadata": {
    "colab": {},
    "colab_type": "code",
    "id": "P-0NxtAgPbZz"
   },
   "outputs": [],
   "source": [
    "# Chainerで使用できるデータセットの形式\n",
    "dataset = list(zip(x, t))"
   ]
  },
  {
   "cell_type": "markdown",
   "metadata": {
    "colab_type": "text",
    "id": "nDkMi732PfE-"
   },
   "source": [
    "このように、`zip(x, t)`で入力変数と教師データをタプル化した後、それを`list`でリスト化します。"
   ]
  },
  {
   "cell_type": "markdown",
   "metadata": {
    "colab_type": "text",
    "id": "jujGX8K4Pksg"
   },
   "source": [
    "### 訓練データ、検証データ、テストデータに分割\n",
    "\n",
    "機械学習には欠かせない訓練データ、検証データ、テストデータへの分割です。  \n",
    "Chainerでは`chainer.datasets.split_dataset_random`にその機能が準備されています。  \n",
    "\n",
    "ランダムでなく、前半の70%を訓練、後半の30%を検証といった分割が良い場合は、  \n",
    "`chainer.datasets.split_dataset`を使用することができます。  \n",
    "※ 詳しくは[こちら](https://docs.chainer.org/en/v5.0.0/reference/generated/chainer.datasets.split_dataset_random.html#chainer.datasets.split_dataset_random)のリファレンス参照\n",
    "\n",
    "\n",
    "引数には`dataset`（先ほど作成した形式）、`first_size`と指定されています。\n",
    "\n",
    "`first_size`では訓練データのサイズを指定するのですが、このとき全体の70%を訓練データと検証データにしようと決めておくと、記述が簡単かつ汎用性の高いプログラムになります。\n",
    "\n",
    "全体のサイズを取得する時には`len()`が便利です。"
   ]
  },
  {
   "cell_type": "code",
   "execution_count": 167,
   "metadata": {
    "colab": {
     "base_uri": "https://localhost:8080/",
     "height": 34
    },
    "colab_type": "code",
    "executionInfo": {
     "elapsed": 560,
     "status": "ok",
     "timestamp": 1547551047157,
     "user": {
      "displayName": "西沢衛",
      "photoUrl": "",
      "userId": "12011220225445512117"
     },
     "user_tz": -540
    },
    "id": "LghvmT1dQixA",
    "outputId": "418c7092-8c1d-45fc-f381-59453cdc7e84"
   },
   "outputs": [
    {
     "data": {
      "text/plain": [
       "150"
      ]
     },
     "execution_count": 167,
     "metadata": {
      "tags": []
     },
     "output_type": "execute_result"
    }
   ],
   "source": [
    "len(dataset)"
   ]
  },
  {
   "cell_type": "markdown",
   "metadata": {
    "colab_type": "text",
    "id": "NkTL3KksQlPJ"
   },
   "source": [
    "`split_dataset_random` を使用し分割します。"
   ]
  },
  {
   "cell_type": "code",
   "execution_count": 0,
   "metadata": {
    "colab": {},
    "colab_type": "code",
    "id": "y1xB-4WjQqr0"
   },
   "outputs": [],
   "source": [
    "# 訓練データのサンプル数\n",
    "n_train = int(len(dataset) * 0.7)\n",
    "# 訓練データ＆検証データ(train＆validation)とテストデータ(test)に分割\n",
    "train_val, test = chainer.datasets.split_dataset_random(dataset, n_train, seed=1)\n",
    "\n",
    "# 訓練データと検証データに分割\n",
    "n_train = int(len(train_val) * 0.7)\n",
    "train, valid = chainer.datasets.split_dataset_random(train_val, n_train, seed=1)"
   ]
  },
  {
   "cell_type": "markdown",
   "metadata": {
    "colab_type": "text",
    "id": "uaXNKgkPQsRw"
   },
   "source": [
    "`n_train` を計算する際 `int` と付けていますが、サイズは整数値しか受け付けません。小数が出たときは `int` によって小数値の切り捨てを行っています。\n",
    "\n",
    "`seed=1` は、乱数のシードを1で固定しますという意味で、何度か出てきた **再現性確保** のためです。\n",
    "\n",
    "出力として得られる `train` と` test` を確認します。"
   ]
  },
  {
   "cell_type": "code",
   "execution_count": 169,
   "metadata": {
    "colab": {
     "base_uri": "https://localhost:8080/",
     "height": 34
    },
    "colab_type": "code",
    "executionInfo": {
     "elapsed": 465,
     "status": "ok",
     "timestamp": 1547551048188,
     "user": {
      "displayName": "西沢衛",
      "photoUrl": "",
      "userId": "12011220225445512117"
     },
     "user_tz": -540
    },
    "id": "bDeqrmI5Q5TL",
    "outputId": "6d279aa2-3e34-44a2-91aa-c1805cab3e61"
   },
   "outputs": [
    {
     "data": {
      "text/plain": [
       "<chainer.datasets.sub_dataset.SubDataset at 0x7f2c365ed710>"
      ]
     },
     "execution_count": 169,
     "metadata": {
      "tags": []
     },
     "output_type": "execute_result"
    }
   ],
   "source": [
    "train"
   ]
  },
  {
   "cell_type": "code",
   "execution_count": 170,
   "metadata": {
    "colab": {
     "base_uri": "https://localhost:8080/",
     "height": 34
    },
    "colab_type": "code",
    "executionInfo": {
     "elapsed": 669,
     "status": "ok",
     "timestamp": 1547551048565,
     "user": {
      "displayName": "西沢衛",
      "photoUrl": "",
      "userId": "12011220225445512117"
     },
     "user_tz": -540
    },
    "id": "Y-l_HcwocSPG",
    "outputId": "dd14d47d-f8a4-4c7a-9227-10ab600002ea"
   },
   "outputs": [
    {
     "data": {
      "text/plain": [
       "<chainer.datasets.sub_dataset.SubDataset at 0x7f2c365ed6d8>"
      ]
     },
     "execution_count": 170,
     "metadata": {
      "tags": []
     },
     "output_type": "execute_result"
    }
   ],
   "source": [
    "valid"
   ]
  },
  {
   "cell_type": "code",
   "execution_count": 171,
   "metadata": {
    "colab": {
     "base_uri": "https://localhost:8080/",
     "height": 34
    },
    "colab_type": "code",
    "executionInfo": {
     "elapsed": 467,
     "status": "ok",
     "timestamp": 1547551048565,
     "user": {
      "displayName": "西沢衛",
      "photoUrl": "",
      "userId": "12011220225445512117"
     },
     "user_tz": -540
    },
    "id": "8IkcpS4lQ6U0",
    "outputId": "c8a6ceda-2f15-4b8a-f335-75dfb4af695c"
   },
   "outputs": [
    {
     "data": {
      "text/plain": [
       "<chainer.datasets.sub_dataset.SubDataset at 0x7f2c365ed630>"
      ]
     },
     "execution_count": 171,
     "metadata": {
      "tags": []
     },
     "output_type": "execute_result"
    }
   ],
   "source": [
    "test"
   ]
  },
  {
   "cell_type": "markdown",
   "metadata": {
    "colab_type": "text",
    "id": "-KwZTk2CQ96z"
   },
   "source": [
    "こちらのように数値が表示されず、どのような形式であるか迷いますが、`train[0]` のようにリストの要素番号を指定すると数値が表示され、リスト形式で保存されていることがわかります。 "
   ]
  },
  {
   "cell_type": "code",
   "execution_count": 172,
   "metadata": {
    "colab": {
     "base_uri": "https://localhost:8080/",
     "height": 34
    },
    "colab_type": "code",
    "executionInfo": {
     "elapsed": 640,
     "status": "ok",
     "timestamp": 1547551049395,
     "user": {
      "displayName": "西沢衛",
      "photoUrl": "",
      "userId": "12011220225445512117"
     },
     "user_tz": -540
    },
    "id": "iJGTyXsYQ66l",
    "outputId": "2044151f-7ffc-474f-e035-b57503c460ec"
   },
   "outputs": [
    {
     "data": {
      "text/plain": [
       "(array([6.5, 3. , 5.8, 2.2], dtype=float32), 2)"
      ]
     },
     "execution_count": 172,
     "metadata": {
      "tags": []
     },
     "output_type": "execute_result"
    }
   ],
   "source": [
    "train[0]"
   ]
  },
  {
   "cell_type": "code",
   "execution_count": 173,
   "metadata": {
    "colab": {
     "base_uri": "https://localhost:8080/",
     "height": 34
    },
    "colab_type": "code",
    "executionInfo": {
     "elapsed": 661,
     "status": "ok",
     "timestamp": 1547551049999,
     "user": {
      "displayName": "西沢衛",
      "photoUrl": "",
      "userId": "12011220225445512117"
     },
     "user_tz": -540
    },
    "id": "gtq1fGZQgjK1",
    "outputId": "080ff471-1034-4557-f06e-40c7d383fdd0"
   },
   "outputs": [
    {
     "data": {
      "text/plain": [
       "73"
      ]
     },
     "execution_count": 173,
     "metadata": {
      "tags": []
     },
     "output_type": "execute_result"
    }
   ],
   "source": [
    "len(train)"
   ]
  },
  {
   "cell_type": "code",
   "execution_count": 174,
   "metadata": {
    "colab": {
     "base_uri": "https://localhost:8080/",
     "height": 34
    },
    "colab_type": "code",
    "executionInfo": {
     "elapsed": 474,
     "status": "ok",
     "timestamp": 1547551050000,
     "user": {
      "displayName": "西沢衛",
      "photoUrl": "",
      "userId": "12011220225445512117"
     },
     "user_tz": -540
    },
    "id": "hs8ioLxmgkec",
    "outputId": "24fd95dc-b7e9-4685-91d3-d748d6fef83a"
   },
   "outputs": [
    {
     "data": {
      "text/plain": [
       "32"
      ]
     },
     "execution_count": 174,
     "metadata": {
      "tags": []
     },
     "output_type": "execute_result"
    }
   ],
   "source": [
    "len(valid)"
   ]
  },
  {
   "cell_type": "code",
   "execution_count": 175,
   "metadata": {
    "colab": {
     "base_uri": "https://localhost:8080/",
     "height": 34
    },
    "colab_type": "code",
    "executionInfo": {
     "elapsed": 611,
     "status": "ok",
     "timestamp": 1547551050319,
     "user": {
      "displayName": "西沢衛",
      "photoUrl": "",
      "userId": "12011220225445512117"
     },
     "user_tz": -540
    },
    "id": "qSF-XuuBcSPX",
    "outputId": "8007f7a0-4f4f-400b-bc56-097eebb632cf"
   },
   "outputs": [
    {
     "data": {
      "text/plain": [
       "45"
      ]
     },
     "execution_count": 175,
     "metadata": {
      "tags": []
     },
     "output_type": "execute_result"
    }
   ],
   "source": [
    "len(test)"
   ]
  },
  {
   "cell_type": "markdown",
   "metadata": {
    "colab_type": "text",
    "id": "LC788ZfHaeJq"
   },
   "source": [
    "またデータはPythonの標準的な記法でそれぞれ分割して取り出すことも可能です。"
   ]
  },
  {
   "cell_type": "code",
   "execution_count": 0,
   "metadata": {
    "colab": {},
    "colab_type": "code",
    "id": "V8LeU3DdalsW"
   },
   "outputs": [],
   "source": [
    "_x, _t = train[0]"
   ]
  },
  {
   "cell_type": "code",
   "execution_count": 177,
   "metadata": {
    "colab": {
     "base_uri": "https://localhost:8080/",
     "height": 34
    },
    "colab_type": "code",
    "executionInfo": {
     "elapsed": 732,
     "status": "ok",
     "timestamp": 1547551054084,
     "user": {
      "displayName": "西沢衛",
      "photoUrl": "",
      "userId": "12011220225445512117"
     },
     "user_tz": -540
    },
    "id": "0wZpdsMHaojy",
    "outputId": "5f5c0077-50e6-4fab-abc0-36a9f094131c"
   },
   "outputs": [
    {
     "data": {
      "text/plain": [
       "array([6.5, 3. , 5.8, 2.2], dtype=float32)"
      ]
     },
     "execution_count": 177,
     "metadata": {
      "tags": []
     },
     "output_type": "execute_result"
    }
   ],
   "source": [
    "_x"
   ]
  },
  {
   "cell_type": "code",
   "execution_count": 178,
   "metadata": {
    "colab": {
     "base_uri": "https://localhost:8080/",
     "height": 34
    },
    "colab_type": "code",
    "executionInfo": {
     "elapsed": 513,
     "status": "ok",
     "timestamp": 1547551054085,
     "user": {
      "displayName": "西沢衛",
      "photoUrl": "",
      "userId": "12011220225445512117"
     },
     "user_tz": -540
    },
    "id": "lpBJE244ap2u",
    "outputId": "9951e092-eaf8-48a1-e9bc-ca1031e83d60"
   },
   "outputs": [
    {
     "data": {
      "text/plain": [
       "2"
      ]
     },
     "execution_count": 178,
     "metadata": {
      "tags": []
     },
     "output_type": "execute_result"
    }
   ],
   "source": [
    "_t"
   ]
  },
  {
   "cell_type": "markdown",
   "metadata": {
    "colab_type": "text",
    "id": "ou8I0ezPglV-"
   },
   "source": [
    "これでデータセットの準備は整いました。  \n",
    "ChainerのSequentialというモジュールを使用して、ニューラルネットワークの定義を行なっていきます。  \n",
    "\n",
    "### ChainerのSequentialモデル\n",
    "\n",
    "Chainerには主にニューラルネットワークの定義の方法として2つの方法があります。  \n",
    "\n",
    "1. Sequentialを使用してのネットワークの定義\n",
    "2. クラスを用いてのネットワークの定義\n",
    "\n",
    "**1. Sequentialを使用してのネットワークの定義**\n",
    "\n",
    "ネットワークの構造と計算の流れを同時に表現することが可能です。  \n",
    "1方向の順伝播の流れの場合にのみ使用することが可能な方法になります。  \n",
    "（基礎的なネットワークに関してはこちらの方法で実装することが可能です。）\n",
    "\n",
    "\n",
    "**2. クラスを用いてのネットワークの定義**\n",
    "\n",
    "こちらは次章以降掘り下げて学んでいきます。\n",
    "\n",
    "\n",
    "#### ChainerのSquentialを使用してのネットワークの定義\n",
    "\n",
    "まずはネットワークの形を確認します。  \n",
    "今回は入力層→隠れ層1→隠れ層2→出力層というシンプルな4層のニューラルネットワークを定義します。  \n",
    "まずはそれぞれのノードの数を定義しておきます。\n"
   ]
  },
  {
   "cell_type": "code",
   "execution_count": 179,
   "metadata": {
    "colab": {
     "base_uri": "https://localhost:8080/",
     "height": 34
    },
    "colab_type": "code",
    "executionInfo": {
     "elapsed": 580,
     "status": "ok",
     "timestamp": 1547551056391,
     "user": {
      "displayName": "西沢衛",
      "photoUrl": "",
      "userId": "12011220225445512117"
     },
     "user_tz": -540
    },
    "id": "K2tcoMrlrd-y",
    "outputId": "25ac4bca-7a97-433d-c4e1-3b5e01b9ea1d"
   },
   "outputs": [
    {
     "data": {
      "text/plain": [
       "4"
      ]
     },
     "execution_count": 179,
     "metadata": {
      "tags": []
     },
     "output_type": "execute_result"
    }
   ],
   "source": [
    "# 入力層のノードの数\n",
    "n_in = len(x[0])\n",
    "n_in"
   ]
  },
  {
   "cell_type": "code",
   "execution_count": 180,
   "metadata": {
    "colab": {
     "base_uri": "https://localhost:8080/",
     "height": 34
    },
    "colab_type": "code",
    "executionInfo": {
     "elapsed": 396,
     "status": "ok",
     "timestamp": 1547551057364,
     "user": {
      "displayName": "西沢衛",
      "photoUrl": "",
      "userId": "12011220225445512117"
     },
     "user_tz": -540
    },
    "id": "sgVtskqhsQ6r",
    "outputId": "68489839-8931-49a1-83b7-3b3d1e7836d7"
   },
   "outputs": [
    {
     "data": {
      "text/plain": [
       "10"
      ]
     },
     "execution_count": 180,
     "metadata": {
      "tags": []
     },
     "output_type": "execute_result"
    }
   ],
   "source": [
    "# 隠れ層のノードの数\n",
    "n_hidden = 10\n",
    "n_hidden"
   ]
  },
  {
   "cell_type": "code",
   "execution_count": 181,
   "metadata": {
    "colab": {
     "base_uri": "https://localhost:8080/",
     "height": 34
    },
    "colab_type": "code",
    "executionInfo": {
     "elapsed": 582,
     "status": "ok",
     "timestamp": 1547551057725,
     "user": {
      "displayName": "西沢衛",
      "photoUrl": "",
      "userId": "12011220225445512117"
     },
     "user_tz": -540
    },
    "id": "3_L_JwxdsZDc",
    "outputId": "610f0760-c0fe-4b89-8ac0-0e877d538c24"
   },
   "outputs": [
    {
     "data": {
      "text/plain": [
       "3"
      ]
     },
     "execution_count": 181,
     "metadata": {
      "tags": []
     },
     "output_type": "execute_result"
    }
   ],
   "source": [
    "# 出力層のノードの数\n",
    "n_out = len(np.unique(t))\n",
    "n_out"
   ]
  },
  {
   "cell_type": "code",
   "execution_count": 0,
   "metadata": {
    "colab": {},
    "colab_type": "code",
    "id": "hUSV-2nHrS0Q"
   },
   "outputs": [],
   "source": [
    "from chainer import Sequential"
   ]
  },
  {
   "cell_type": "markdown",
   "metadata": {
    "colab_type": "text",
    "id": "0Fq-0-oebTZ5"
   },
   "source": [
    "今から上記で定義したノードの数を使用して、モデルを構築しますが、  \n",
    "モデルを定義する前に**再現性の確保**を行うために、シードの固定を行います。"
   ]
  },
  {
   "cell_type": "code",
   "execution_count": 0,
   "metadata": {
    "colab": {},
    "colab_type": "code",
    "id": "SsP3v31GbXrV"
   },
   "outputs": [],
   "source": [
    "# シードの固定\n",
    "np.random.seed(0)"
   ]
  },
  {
   "cell_type": "markdown",
   "metadata": {
    "colab_type": "text",
    "id": "FH_ex7sjb8ir"
   },
   "source": [
    "では、モデルの定義を行います。"
   ]
  },
  {
   "cell_type": "code",
   "execution_count": 0,
   "metadata": {
    "colab": {},
    "colab_type": "code",
    "id": "roztecyOtKRK"
   },
   "outputs": [],
   "source": [
    "# モデルの定義\n",
    "model = Sequential(\n",
    "    L.Linear(n_in, n_hidden), F.relu,\n",
    "    L.Linear(n_hidden, n_hidden), F.relu,\n",
    "    L.Linear(n_hidden, n_out)\n",
    ")"
   ]
  },
  {
   "cell_type": "markdown",
   "metadata": {
    "colab_type": "text",
    "id": "QqSuFYJSc5bR"
   },
   "source": [
    "Sequentialを使用して定義したモデルの重みは、  \n",
    "下記のようにスライスして`.W`を実行することにより確認することができます。"
   ]
  },
  {
   "cell_type": "code",
   "execution_count": 185,
   "metadata": {
    "colab": {
     "base_uri": "https://localhost:8080/",
     "height": 187
    },
    "colab_type": "code",
    "executionInfo": {
     "elapsed": 1318,
     "status": "ok",
     "timestamp": 1547551062771,
     "user": {
      "displayName": "西沢衛",
      "photoUrl": "",
      "userId": "12011220225445512117"
     },
     "user_tz": -540
    },
    "id": "dEQ0kDQh_26q",
    "outputId": "270fde79-f3ec-46a5-8ddd-9dbb33816455"
   },
   "outputs": [
    {
     "data": {
      "text/plain": [
       "variable W([[ 0.8820262 ,  0.2000786 ,  0.489369  ,  1.1204466 ],\n",
       "            [ 0.933779  , -0.48863894,  0.47504422, -0.0756786 ],\n",
       "            [-0.05160943,  0.20529926,  0.07202178,  0.72713673],\n",
       "            [ 0.38051885,  0.06083751,  0.22193162,  0.16683717],\n",
       "            [ 0.74703956, -0.10257913,  0.15653385, -0.42704788],\n",
       "            [-1.2764949 ,  0.3268093 ,  0.4322181 , -0.3710825 ],\n",
       "            [ 1.1348773 , -0.72718287,  0.02287926, -0.09359193],\n",
       "            [ 0.7663896 ,  0.7346794 ,  0.07747371,  0.18908127],\n",
       "            [-0.44389287, -0.9903982 , -0.17395608,  0.07817449],\n",
       "            [ 0.6151453 ,  0.6011899 , -0.1936634 , -0.15115137]])"
      ]
     },
     "execution_count": 185,
     "metadata": {
      "tags": []
     },
     "output_type": "execute_result"
    }
   ],
   "source": [
    "# 入力層→隠れ層1の重みの確認\n",
    "model[0].W"
   ]
  },
  {
   "cell_type": "markdown",
   "metadata": {
    "colab_type": "text",
    "id": "T0X9mt4fdfgN"
   },
   "source": [
    "### 学習の一連の流れを実行\n",
    "\n",
    "前章で取り扱ったニューラルネットワーク の計算（学習）の流れを一度動かしてみます。  \n",
    "流れは下記のようになっていました。  \n",
    "\n",
    "\n",
    "#### 学習の計算の流れ\n",
    "\n",
    "1. 順伝播の計算\n",
    "2. 損失関数の計算\n",
    "3. 逆伝播の計算（勾配の算出）\n",
    "4. パラメーターの更新\n",
    "\n",
    "この4ステップを繰り返すことによってニューラルネットワークはパラメーターを更新していきます。  \n",
    "\n",
    "実際に一連の流れを追ってみましょう。"
   ]
  },
  {
   "cell_type": "code",
   "execution_count": 0,
   "metadata": {
    "colab": {},
    "colab_type": "code",
    "id": "tTVGmwoDg2ga"
   },
   "outputs": [],
   "source": [
    "# trainデータをxとtに切り分け\n",
    "from chainer.dataset import concat_examples\n",
    "x, t = concat_examples(train)"
   ]
  },
  {
   "cell_type": "code",
   "execution_count": 0,
   "metadata": {
    "colab": {},
    "colab_type": "code",
    "id": "TKyED20U35Pr"
   },
   "outputs": [],
   "source": [
    "#  順伝播の計算\n",
    "y = model(x)"
   ]
  },
  {
   "cell_type": "code",
   "execution_count": 188,
   "metadata": {
    "colab": {
     "base_uri": "https://localhost:8080/",
     "height": 102
    },
    "colab_type": "code",
    "executionInfo": {
     "elapsed": 1589,
     "status": "ok",
     "timestamp": 1547551065449,
     "user": {
      "displayName": "西沢衛",
      "photoUrl": "",
      "userId": "12011220225445512117"
     },
     "user_tz": -540
    },
    "id": "WJUxgVFiCstM",
    "outputId": "79daf4e1-a7cb-41b5-ba63-789d9b1080b6"
   },
   "outputs": [
    {
     "data": {
      "text/plain": [
       "variable([[ 5.4008775, -7.1086593, -3.4392862],\n",
       "          [ 4.105389 , -5.076606 , -1.9480416],\n",
       "          [ 5.731492 , -6.329441 , -3.4108005],\n",
       "          [ 5.4999585, -6.4146657, -3.157786 ],\n",
       "          [ 5.859702 , -6.7279463, -3.4216907]])"
      ]
     },
     "execution_count": 188,
     "metadata": {
      "tags": []
     },
     "output_type": "execute_result"
    }
   ],
   "source": [
    "y[:5]"
   ]
  },
  {
   "cell_type": "markdown",
   "metadata": {
    "colab_type": "text",
    "id": "77cGjgI1ekbb"
   },
   "source": [
    "損失関数の計算では分類の問題設定のため、`softmax_cross_entropy`を使用します。"
   ]
  },
  {
   "cell_type": "code",
   "execution_count": 0,
   "metadata": {
    "colab": {},
    "colab_type": "code",
    "id": "v8RXztFKeeWm"
   },
   "outputs": [],
   "source": [
    "# 損失関数の計算\n",
    "loss = F.softmax_cross_entropy(y, t)"
   ]
  },
  {
   "cell_type": "code",
   "execution_count": 190,
   "metadata": {
    "colab": {
     "base_uri": "https://localhost:8080/",
     "height": 34
    },
    "colab_type": "code",
    "executionInfo": {
     "elapsed": 1205,
     "status": "ok",
     "timestamp": 1547551065795,
     "user": {
      "displayName": "西沢衛",
      "photoUrl": "",
      "userId": "12011220225445512117"
     },
     "user_tz": -540
    },
    "id": "kJ15z7uoe5W7",
    "outputId": "27ebbddd-4234-44a1-8a6b-8f299ab31225"
   },
   "outputs": [
    {
     "data": {
      "text/plain": [
       "variable(6.801705)"
      ]
     },
     "execution_count": 190,
     "metadata": {
      "tags": []
     },
     "output_type": "execute_result"
    }
   ],
   "source": [
    "loss"
   ]
  },
  {
   "cell_type": "code",
   "execution_count": 0,
   "metadata": {
    "colab": {},
    "colab_type": "code",
    "id": "bMjit9SX6sUt"
   },
   "outputs": [],
   "source": [
    "# 逆伝播の計算（勾配の算出）\n",
    "model.cleargrads() # 逆伝播の前に勾配の情報をリセット\n",
    "loss.backward()"
   ]
  },
  {
   "cell_type": "markdown",
   "metadata": {
    "colab_type": "text",
    "id": "U6lyEd1jkImO"
   },
   "source": [
    "#### Optimizerの定義\n",
    "\n",
    "Optimizerではパラメータの最適化を行うための最適化のアルゴリズムを選択します。  \n",
    "\n",
    "今回は`SGD`を使用してパラメータの更新を行います。"
   ]
  },
  {
   "cell_type": "code",
   "execution_count": 0,
   "metadata": {
    "colab": {},
    "colab_type": "code",
    "id": "rtnBGUx56Jnn"
   },
   "outputs": [],
   "source": [
    "# Optimizerの宣言とモデルへの適応\n",
    "optimizer = chainer.optimizers.SGD().setup(model)"
   ]
  },
  {
   "cell_type": "code",
   "execution_count": 0,
   "metadata": {
    "colab": {},
    "colab_type": "code",
    "id": "9gFF2Bnc2lRw"
   },
   "outputs": [],
   "source": [
    "# パラメータを更新\n",
    "optimizer.update()"
   ]
  },
  {
   "cell_type": "code",
   "execution_count": 194,
   "metadata": {
    "colab": {
     "base_uri": "https://localhost:8080/",
     "height": 357
    },
    "colab_type": "code",
    "executionInfo": {
     "elapsed": 724,
     "status": "ok",
     "timestamp": 1547551066389,
     "user": {
      "displayName": "西沢衛",
      "photoUrl": "",
      "userId": "12011220225445512117"
     },
     "user_tz": -540
    },
    "id": "jjeP1YB893oP",
    "outputId": "42398151-b134-4882-cd26-d365958a437d"
   },
   "outputs": [
    {
     "data": {
      "text/plain": [
       "variable W([[ 8.8774341e-01,  2.0271914e-01,  4.9349374e-01,\n",
       "              1.1217139e+00],\n",
       "            [ 8.9713800e-01, -5.0512981e-01,  4.4591171e-01,\n",
       "             -8.5498877e-02],\n",
       "            [-5.1778659e-02,  2.0512815e-01,  7.2333597e-02,\n",
       "              7.2735643e-01],\n",
       "            [ 3.9011896e-01,  6.5086685e-02,  2.3003805e-01,\n",
       "              1.6971117e-01],\n",
       "            [ 7.2059917e-01, -1.1446670e-01,  1.3542315e-01,\n",
       "             -4.3419120e-01],\n",
       "            [-1.2764949e+00,  3.2680929e-01,  4.3221810e-01,\n",
       "             -3.7108251e-01],\n",
       "            [ 1.1052747e+00, -7.4043900e-01, -9.6065924e-04,\n",
       "             -1.0170439e-01],\n",
       "            [ 7.7482784e-01,  7.3827040e-01,  8.5357040e-02,\n",
       "              1.9206931e-01],\n",
       "            [-4.4389287e-01, -9.9039823e-01, -1.7395608e-01,\n",
       "              7.8174487e-02],\n",
       "            [ 5.9784299e-01,  5.9348583e-01, -2.0787707e-01,\n",
       "             -1.5606952e-01]])"
      ]
     },
     "execution_count": 194,
     "metadata": {
      "tags": []
     },
     "output_type": "execute_result"
    }
   ],
   "source": [
    "# パラメータが更新されていることを確認\n",
    "model[0].W"
   ]
  },
  {
   "cell_type": "markdown",
   "metadata": {
    "colab_type": "text",
    "id": "kE1dCbuglXmt"
   },
   "source": [
    "微妙にですがパラメータが更新されていることが確認できます。  \n",
    "この計算の流れを繰り返すことによってニューラルネットワークのパラメータを更新を行うことができます。  \n",
    "\n",
    "\n",
    "### 学習の実行\n",
    "\n",
    "前項で確認した動作をプログラムに落とし込み、学習を実行していきます。  \n",
    "\n",
    "ここで**エポック**という言葉を理解する必要があります。  \n",
    "エポックは**全訓練データを何回繰り返して学習させるかという回数を表す単位**になります。  \n",
    "\n",
    "詳細は後ほどお伝えします。  \n",
    "今回はエポックを50と設定して、学習を行います。  \n",
    "\n",
    "また検証データと比較して、精度が向上しているか確認します。  \n",
    "分類の精度確認には `Accuracy(正解率)` を使用します。  \n",
    "正解率は `F.accuracy` で算出することができます。"
   ]
  },
  {
   "cell_type": "code",
   "execution_count": 0,
   "metadata": {
    "colab": {},
    "colab_type": "code",
    "id": "T0A1kLimlXgG"
   },
   "outputs": [],
   "source": [
    "epoch = 50"
   ]
  },
  {
   "cell_type": "code",
   "execution_count": 0,
   "metadata": {
    "colab": {},
    "colab_type": "code",
    "id": "lx8nQO2bnRWL"
   },
   "outputs": [],
   "source": [
    "# Optimizerの宣言と、モデルへの適応\n",
    "optimizer = chainer.optimizers.SGD().setup(model)"
   ]
  },
  {
   "cell_type": "code",
   "execution_count": 197,
   "metadata": {
    "colab": {
     "base_uri": "https://localhost:8080/",
     "height": 2567
    },
    "colab_type": "code",
    "executionInfo": {
     "elapsed": 1399,
     "status": "ok",
     "timestamp": 1547551069217,
     "user": {
      "displayName": "西沢衛",
      "photoUrl": "",
      "userId": "12011220225445512117"
     },
     "user_tz": -540
    },
    "id": "8rbBtVSclXUM",
    "outputId": "46d69a50-e182-495c-feae-16ac321b43cb"
   },
   "outputs": [
    {
     "name": "stdout",
     "output_type": "stream",
     "text": [
      "epoch:00 train_loss:3.1157 \n",
      "valid_loss:2.7341 valid_accuracy:0.3125\n",
      "---\n",
      "epoch:01 train_loss:2.1987 \n",
      "valid_loss:2.0906 valid_accuracy:0.1875\n",
      "---\n",
      "epoch:02 train_loss:1.7164 \n",
      "valid_loss:1.6127 valid_accuracy:0.3438\n",
      "---\n",
      "epoch:03 train_loss:1.3688 \n",
      "valid_loss:1.2745 valid_accuracy:0.4375\n",
      "---\n",
      "epoch:04 train_loss:1.1670 \n",
      "valid_loss:1.1192 valid_accuracy:0.3438\n",
      "---\n",
      "epoch:05 train_loss:1.0805 \n",
      "valid_loss:1.0530 valid_accuracy:0.4688\n",
      "---\n",
      "epoch:06 train_loss:1.0460 \n",
      "valid_loss:1.0358 valid_accuracy:0.3750\n",
      "---\n",
      "epoch:07 train_loss:1.0210 \n",
      "valid_loss:1.0118 valid_accuracy:0.5000\n",
      "---\n",
      "epoch:08 train_loss:0.9986 \n",
      "valid_loss:1.0004 valid_accuracy:0.4688\n",
      "---\n",
      "epoch:09 train_loss:0.9777 \n",
      "valid_loss:0.9829 valid_accuracy:0.5000\n",
      "---\n",
      "epoch:10 train_loss:0.9585 \n",
      "valid_loss:0.9719 valid_accuracy:0.5000\n",
      "---\n",
      "epoch:11 train_loss:0.9404 \n",
      "valid_loss:0.9573 valid_accuracy:0.5000\n",
      "---\n",
      "epoch:12 train_loss:0.9232 \n",
      "valid_loss:0.9470 valid_accuracy:0.5000\n",
      "---\n",
      "epoch:13 train_loss:0.9065 \n",
      "valid_loss:0.9338 valid_accuracy:0.5000\n",
      "---\n",
      "epoch:14 train_loss:0.8907 \n",
      "valid_loss:0.9233 valid_accuracy:0.5000\n",
      "---\n",
      "epoch:15 train_loss:0.8754 \n",
      "valid_loss:0.9117 valid_accuracy:0.5000\n",
      "---\n",
      "epoch:16 train_loss:0.8607 \n",
      "valid_loss:0.9010 valid_accuracy:0.5312\n",
      "---\n",
      "epoch:17 train_loss:0.8465 \n",
      "valid_loss:0.8902 valid_accuracy:0.5312\n",
      "---\n",
      "epoch:18 train_loss:0.8330 \n",
      "valid_loss:0.8800 valid_accuracy:0.5312\n",
      "---\n",
      "epoch:19 train_loss:0.8199 \n",
      "valid_loss:0.8698 valid_accuracy:0.5312\n",
      "---\n",
      "epoch:20 train_loss:0.8071 \n",
      "valid_loss:0.8608 valid_accuracy:0.5312\n",
      "---\n",
      "epoch:21 train_loss:0.7949 \n",
      "valid_loss:0.8506 valid_accuracy:0.5625\n",
      "---\n",
      "epoch:22 train_loss:0.7833 \n",
      "valid_loss:0.8423 valid_accuracy:0.5625\n",
      "---\n",
      "epoch:23 train_loss:0.7721 \n",
      "valid_loss:0.8338 valid_accuracy:0.5625\n",
      "---\n",
      "epoch:24 train_loss:0.7614 \n",
      "valid_loss:0.8259 valid_accuracy:0.5625\n",
      "---\n",
      "epoch:25 train_loss:0.7510 \n",
      "valid_loss:0.8180 valid_accuracy:0.5625\n",
      "---\n",
      "epoch:26 train_loss:0.7410 \n",
      "valid_loss:0.8104 valid_accuracy:0.5625\n",
      "---\n",
      "epoch:27 train_loss:0.7312 \n",
      "valid_loss:0.8030 valid_accuracy:0.5625\n",
      "---\n",
      "epoch:28 train_loss:0.7218 \n",
      "valid_loss:0.7957 valid_accuracy:0.5625\n",
      "---\n",
      "epoch:29 train_loss:0.7127 \n",
      "valid_loss:0.7884 valid_accuracy:0.5625\n",
      "---\n",
      "epoch:30 train_loss:0.7040 \n",
      "valid_loss:0.7812 valid_accuracy:0.5625\n",
      "---\n",
      "epoch:31 train_loss:0.6955 \n",
      "valid_loss:0.7747 valid_accuracy:0.5625\n",
      "---\n",
      "epoch:32 train_loss:0.6873 \n",
      "valid_loss:0.7679 valid_accuracy:0.5625\n",
      "---\n",
      "epoch:33 train_loss:0.6794 \n",
      "valid_loss:0.7612 valid_accuracy:0.5625\n",
      "---\n",
      "epoch:34 train_loss:0.6718 \n",
      "valid_loss:0.7556 valid_accuracy:0.5625\n",
      "---\n",
      "epoch:35 train_loss:0.6643 \n",
      "valid_loss:0.7486 valid_accuracy:0.5625\n",
      "---\n",
      "epoch:36 train_loss:0.6571 \n",
      "valid_loss:0.7433 valid_accuracy:0.5625\n",
      "---\n",
      "epoch:37 train_loss:0.6501 \n",
      "valid_loss:0.7372 valid_accuracy:0.5625\n",
      "---\n",
      "epoch:38 train_loss:0.6434 \n",
      "valid_loss:0.7314 valid_accuracy:0.5625\n",
      "---\n",
      "epoch:39 train_loss:0.6368 \n",
      "valid_loss:0.7260 valid_accuracy:0.5625\n",
      "---\n",
      "epoch:40 train_loss:0.6305 \n",
      "valid_loss:0.7203 valid_accuracy:0.5625\n",
      "---\n",
      "epoch:41 train_loss:0.6243 \n",
      "valid_loss:0.7150 valid_accuracy:0.5625\n",
      "---\n",
      "epoch:42 train_loss:0.6183 \n",
      "valid_loss:0.7098 valid_accuracy:0.5625\n",
      "---\n",
      "epoch:43 train_loss:0.6125 \n",
      "valid_loss:0.7047 valid_accuracy:0.5625\n",
      "---\n",
      "epoch:44 train_loss:0.6068 \n",
      "valid_loss:0.6995 valid_accuracy:0.5625\n",
      "---\n",
      "epoch:45 train_loss:0.6013 \n",
      "valid_loss:0.6948 valid_accuracy:0.5625\n",
      "---\n",
      "epoch:46 train_loss:0.5960 \n",
      "valid_loss:0.6901 valid_accuracy:0.5625\n",
      "---\n",
      "epoch:47 train_loss:0.5908 \n",
      "valid_loss:0.6855 valid_accuracy:0.5625\n",
      "---\n",
      "epoch:48 train_loss:0.5857 \n",
      "valid_loss:0.6803 valid_accuracy:0.5625\n",
      "---\n",
      "epoch:49 train_loss:0.5808 \n",
      "valid_loss:0.6764 valid_accuracy:0.5625\n",
      "---\n"
     ]
    }
   ],
   "source": [
    "for i in range(epoch):\n",
    "\n",
    "  #　------------  学習の1エポック  ------------\n",
    "  \n",
    "  # データの取得\n",
    "  x_train, t_train = concat_examples(train)\n",
    "\n",
    "\n",
    "  # 予測値の計算\n",
    "  y_train = model(x_train)\n",
    "\n",
    "  # ロスの計算\n",
    "  loss_train = F.softmax_cross_entropy(y_train, t_train)\n",
    "\n",
    "  # 勾配の計算\n",
    "  model.cleargrads()\n",
    "  loss_train.backward()\n",
    "\n",
    "  # パラメータの更新\n",
    "  optimizer.update()\n",
    "  \n",
    "  print('epoch:{:02d} train_loss:{:.04f} '.format(i, loss_train.data, end=''))\n",
    "  \n",
    "#   ----------------  ここまで  ----------------   \n",
    "\n",
    "  # 検証データの取得   \n",
    "  x_valid, t_valid = concat_examples(valid)\n",
    "\n",
    " # 検証用データで順伝播の計算を実行\n",
    "  with chainer.using_config('train', False), chainer.using_config('enable_backprop', False):\n",
    "    y_valid = model(x_valid)\n",
    "    \n",
    "    \n",
    "  # 検証データで損失関数を計算\n",
    "  loss_valid = F.softmax_cross_entropy(y_valid, t_valid)\n",
    "\n",
    "  # 検証データで精度を計算\n",
    "  accuracy_valid = F.accuracy(y_valid, t_valid)\n",
    "  \n",
    "  # 結果を表示  \n",
    "  print('valid_loss:{:.04f} valid_accuracy:{:.04f}'.format(loss_valid.data, accuracy_valid.data))\n",
    "  print('---')"
   ]
  },
  {
   "cell_type": "markdown",
   "metadata": {
    "colab_type": "text",
    "id": "9YWrQyDWxeb8"
   },
   "source": [
    "検証データに対しての正解率が上昇していることが確認でき、うまく学習が進んでいることが確認できます。  \n",
    "ここで学習の際に出てきたいくつかの新たな部分について確認します。\n",
    "\n",
    "\n",
    "#### 検証を行う際の注意点\n",
    "\n",
    "ニューラルネットワークの学習を行い「評価」を同時に行う際には注意すべき点があります。  \n",
    "具体的には、下記の設定を行う必要があります。  \n",
    "\n",
    "- 検証データを使用して学習を行わない（正当に評価するため）\n",
    "- 無駄な計算グラフの構築を行わない（メモリ消費量を節約するため）\n",
    "\n",
    "上記2つの設定は下記のように記述することによって実現できます。\n",
    "\n",
    "```python\n",
    "\n",
    "with chainer.using_config('train', False),　chainer.using_config('enable_backprop', False):\n",
    "    --- 何か推論処理 ---\n",
    "\n",
    "```\n",
    "\n"
   ]
  },
  {
   "cell_type": "markdown",
   "metadata": {
    "colab_type": "text",
    "id": "zZLpgqIMxeUv"
   },
   "source": [
    "## 学習済みモデルを保存\n",
    "\n",
    "学習が終わったら、その結果を保存します。  \n",
    "Chainerには、2種類のフォーマットで学習済みネットワークをシリアライズ（保存）する機能が用意されています。  \n",
    "一つはHDF5形式で、もう一つはNumPyのNPZ形式でネットワークを保存するものです。  \n",
    "今回は、追加ライブラリのインストールが必要なHDF5ではなく、NumPy標準機能で提供されているシリアライズ機能（`numpy.savez()`）を利用したNPZ形式でのモデルの保存を行います。\n"
   ]
  },
  {
   "cell_type": "code",
   "execution_count": 0,
   "metadata": {
    "colab": {},
    "colab_type": "code",
    "id": "YGjMRaYSxeOZ"
   },
   "outputs": [],
   "source": [
    "from chainer import serializers\n",
    "\n",
    "serializers.save_npz('my_iris.model', model)"
   ]
  },
  {
   "cell_type": "code",
   "execution_count": 201,
   "metadata": {
    "colab": {
     "base_uri": "https://localhost:8080/",
     "height": 34
    },
    "colab_type": "code",
    "executionInfo": {
     "elapsed": 2117,
     "status": "ok",
     "timestamp": 1547551097242,
     "user": {
      "displayName": "西沢衛",
      "photoUrl": "",
      "userId": "12011220225445512117"
     },
     "user_tz": -540
    },
    "id": "zlwCoYaFxeH4",
    "outputId": "5f36139f-9cdc-4b24-95f7-d78c98965132"
   },
   "outputs": [
    {
     "name": "stdout",
     "output_type": "stream",
     "text": [
      "drive  my_iris.model  sample_data\n"
     ]
    }
   ],
   "source": [
    "# 保存されたモデルを確認\n",
    "!ls"
   ]
  },
  {
   "cell_type": "markdown",
   "metadata": {
    "colab_type": "text",
    "id": "bWUN_AqVxeB2"
   },
   "source": [
    "もし、自身のGoogleドライブ（My Drive）にモデルを保存したい場合は下記のコマンドを実行して、My driveと紐付けを行うことによって保存可能です。"
   ]
  },
  {
   "cell_type": "code",
   "execution_count": 0,
   "metadata": {
    "colab": {},
    "colab_type": "code",
    "id": "F1KaHofsxd41"
   },
   "outputs": [],
   "source": [
    "# My Driveをマウント\n",
    "from google.colab import drive\n",
    "drive.mount('/content/drive')\n",
    "!ls 'drive/My Drive/Colab Notebooks'"
   ]
  },
  {
   "cell_type": "code",
   "execution_count": 0,
   "metadata": {
    "colab": {},
    "colab_type": "code",
    "id": "Az2svT8t1RTX"
   },
   "outputs": [],
   "source": [
    "# 指定パスを変更して保存\n",
    "serializers.save_npz('drive/My Drive/Colab Notebooks/my_iris.model', model)"
   ]
  },
  {
   "cell_type": "markdown",
   "metadata": {
    "colab_type": "text",
    "id": "PLenT7Gs1Rdr"
   },
   "source": [
    "## 保存済みモデルを読み込んで推論\n",
    "\n",
    "推論をする際にはモデルの読み込み（load）とモデルを定義しておく必要があります。  "
   ]
  },
  {
   "cell_type": "code",
   "execution_count": 0,
   "metadata": {
    "colab": {},
    "colab_type": "code",
    "id": "VztZ0GlS2QY9"
   },
   "outputs": [],
   "source": [
    "# モデルの定義\n",
    "model = Sequential(\n",
    "    L.Linear(n_in, n_hidden), F.relu,\n",
    "    L.Linear(n_hidden, n_hidden), F.relu,\n",
    "    L.Linear(n_hidden, n_out)\n",
    ")"
   ]
  },
  {
   "cell_type": "code",
   "execution_count": 0,
   "metadata": {
    "colab": {},
    "colab_type": "code",
    "id": "WGSbhNnF1RkT"
   },
   "outputs": [],
   "source": [
    "# 学習済みモデルの読み込み\n",
    "serializers.load_npz('my_iris.model', model)"
   ]
  },
  {
   "cell_type": "markdown",
   "metadata": {
    "colab_type": "text",
    "id": "etxORgQq1Rqp"
   },
   "source": [
    "### 推論の実行\n",
    "\n",
    "今回は練習に `train` の1つ目のデータを使用して、推論を実行します。"
   ]
  },
  {
   "cell_type": "code",
   "execution_count": 0,
   "metadata": {
    "colab": {},
    "colab_type": "code",
    "id": "LfTBGuro2YdZ"
   },
   "outputs": [],
   "source": [
    "x_new, t_new = train[0]"
   ]
  },
  {
   "cell_type": "code",
   "execution_count": 216,
   "metadata": {
    "colab": {
     "base_uri": "https://localhost:8080/",
     "height": 34
    },
    "colab_type": "code",
    "executionInfo": {
     "elapsed": 1976,
     "status": "ok",
     "timestamp": 1547551273055,
     "user": {
      "displayName": "西沢衛",
      "photoUrl": "",
      "userId": "12011220225445512117"
     },
     "user_tz": -540
    },
    "id": "_HlRJnKpPl-_",
    "outputId": "9f3deda6-d578-43b0-cb92-c278f772a738"
   },
   "outputs": [
    {
     "data": {
      "text/plain": [
       "array([6.5, 3. , 5.8, 2.2], dtype=float32)"
      ]
     },
     "execution_count": 216,
     "metadata": {
      "tags": []
     },
     "output_type": "execute_result"
    }
   ],
   "source": [
    "x_new"
   ]
  },
  {
   "cell_type": "code",
   "execution_count": 215,
   "metadata": {
    "colab": {
     "base_uri": "https://localhost:8080/",
     "height": 1103
    },
    "colab_type": "code",
    "executionInfo": {
     "elapsed": 465,
     "status": "error",
     "timestamp": 1547551250379,
     "user": {
      "displayName": "西沢衛",
      "photoUrl": "",
      "userId": "12011220225445512117"
     },
     "user_tz": -540
    },
    "id": "r-fRivArSmq_",
    "outputId": "d3cf6b3d-a487-43dc-e089-8535b612a5f4"
   },
   "outputs": [
    {
     "ename": "IndexError",
     "evalue": "ignored",
     "output_type": "error",
     "traceback": [
      "\u001b[0;31m---------------------------------------------------------------------------\u001b[0m",
      "\u001b[0;31mIndexError\u001b[0m                                Traceback (most recent call last)",
      "\u001b[0;32m<ipython-input-215-f0d91d8f5ede>\u001b[0m in \u001b[0;36m<module>\u001b[0;34m()\u001b[0m\n\u001b[1;32m      1\u001b[0m \u001b[0;32mwith\u001b[0m \u001b[0mchainer\u001b[0m\u001b[0;34m.\u001b[0m\u001b[0musing_config\u001b[0m\u001b[0;34m(\u001b[0m\u001b[0;34m'train'\u001b[0m\u001b[0;34m,\u001b[0m \u001b[0;32mFalse\u001b[0m\u001b[0;34m)\u001b[0m\u001b[0;34m,\u001b[0m \u001b[0mchainer\u001b[0m\u001b[0;34m.\u001b[0m\u001b[0musing_config\u001b[0m\u001b[0;34m(\u001b[0m\u001b[0;34m'enable_backprop'\u001b[0m\u001b[0;34m,\u001b[0m \u001b[0;32mFalse\u001b[0m\u001b[0;34m)\u001b[0m\u001b[0;34m:\u001b[0m\u001b[0;34m\u001b[0m\u001b[0;34m\u001b[0m\u001b[0m\n\u001b[0;32m----> 2\u001b[0;31m   \u001b[0my\u001b[0m \u001b[0;34m=\u001b[0m \u001b[0mmodel\u001b[0m\u001b[0;34m(\u001b[0m\u001b[0mx_new\u001b[0m\u001b[0;34m)\u001b[0m\u001b[0;34m\u001b[0m\u001b[0;34m\u001b[0m\u001b[0m\n\u001b[0m",
      "\u001b[0;32m/usr/local/lib/python3.6/dist-packages/chainer/link.py\u001b[0m in \u001b[0;36m__call__\u001b[0;34m(self, *args, **kwargs)\u001b[0m\n\u001b[1;32m    240\u001b[0m         \u001b[0;32mif\u001b[0m \u001b[0mforward\u001b[0m \u001b[0;32mis\u001b[0m \u001b[0;32mNone\u001b[0m\u001b[0;34m:\u001b[0m\u001b[0;34m\u001b[0m\u001b[0;34m\u001b[0m\u001b[0m\n\u001b[1;32m    241\u001b[0m             \u001b[0mforward\u001b[0m \u001b[0;34m=\u001b[0m \u001b[0mself\u001b[0m\u001b[0;34m.\u001b[0m\u001b[0mforward\u001b[0m\u001b[0;34m\u001b[0m\u001b[0;34m\u001b[0m\u001b[0m\n\u001b[0;32m--> 242\u001b[0;31m         \u001b[0mout\u001b[0m \u001b[0;34m=\u001b[0m \u001b[0mforward\u001b[0m\u001b[0;34m(\u001b[0m\u001b[0;34m*\u001b[0m\u001b[0margs\u001b[0m\u001b[0;34m,\u001b[0m \u001b[0;34m**\u001b[0m\u001b[0mkwargs\u001b[0m\u001b[0;34m)\u001b[0m\u001b[0;34m\u001b[0m\u001b[0;34m\u001b[0m\u001b[0m\n\u001b[0m\u001b[1;32m    243\u001b[0m \u001b[0;34m\u001b[0m\u001b[0m\n\u001b[1;32m    244\u001b[0m         \u001b[0;31m# Call forward_postprocess hook\u001b[0m\u001b[0;34m\u001b[0m\u001b[0;34m\u001b[0m\u001b[0;34m\u001b[0m\u001b[0m\n",
      "\u001b[0;32m/usr/local/lib/python3.6/dist-packages/chainer/sequential.py\u001b[0m in \u001b[0;36mforward\u001b[0;34m(self, *x)\u001b[0m\n\u001b[1;32m    208\u001b[0m         \u001b[0;32mfor\u001b[0m \u001b[0mlayer\u001b[0m \u001b[0;32min\u001b[0m \u001b[0mself\u001b[0m\u001b[0;34m.\u001b[0m\u001b[0m_layers\u001b[0m\u001b[0;34m:\u001b[0m\u001b[0;34m\u001b[0m\u001b[0;34m\u001b[0m\u001b[0m\n\u001b[1;32m    209\u001b[0m             \u001b[0;32mif\u001b[0m \u001b[0misinstance\u001b[0m\u001b[0;34m(\u001b[0m\u001b[0mx\u001b[0m\u001b[0;34m,\u001b[0m \u001b[0mtuple\u001b[0m\u001b[0;34m)\u001b[0m\u001b[0;34m:\u001b[0m\u001b[0;34m\u001b[0m\u001b[0;34m\u001b[0m\u001b[0m\n\u001b[0;32m--> 210\u001b[0;31m                 \u001b[0mx\u001b[0m \u001b[0;34m=\u001b[0m \u001b[0mlayer\u001b[0m\u001b[0;34m(\u001b[0m\u001b[0;34m*\u001b[0m\u001b[0mx\u001b[0m\u001b[0;34m)\u001b[0m\u001b[0;34m\u001b[0m\u001b[0;34m\u001b[0m\u001b[0m\n\u001b[0m\u001b[1;32m    211\u001b[0m             \u001b[0;32melse\u001b[0m\u001b[0;34m:\u001b[0m\u001b[0;34m\u001b[0m\u001b[0;34m\u001b[0m\u001b[0m\n\u001b[1;32m    212\u001b[0m                 \u001b[0mx\u001b[0m \u001b[0;34m=\u001b[0m \u001b[0mlayer\u001b[0m\u001b[0;34m(\u001b[0m\u001b[0mx\u001b[0m\u001b[0;34m)\u001b[0m\u001b[0;34m\u001b[0m\u001b[0;34m\u001b[0m\u001b[0m\n",
      "\u001b[0;32m/usr/local/lib/python3.6/dist-packages/chainer/link.py\u001b[0m in \u001b[0;36m__call__\u001b[0;34m(self, *args, **kwargs)\u001b[0m\n\u001b[1;32m    240\u001b[0m         \u001b[0;32mif\u001b[0m \u001b[0mforward\u001b[0m \u001b[0;32mis\u001b[0m \u001b[0;32mNone\u001b[0m\u001b[0;34m:\u001b[0m\u001b[0;34m\u001b[0m\u001b[0;34m\u001b[0m\u001b[0m\n\u001b[1;32m    241\u001b[0m             \u001b[0mforward\u001b[0m \u001b[0;34m=\u001b[0m \u001b[0mself\u001b[0m\u001b[0;34m.\u001b[0m\u001b[0mforward\u001b[0m\u001b[0;34m\u001b[0m\u001b[0;34m\u001b[0m\u001b[0m\n\u001b[0;32m--> 242\u001b[0;31m         \u001b[0mout\u001b[0m \u001b[0;34m=\u001b[0m \u001b[0mforward\u001b[0m\u001b[0;34m(\u001b[0m\u001b[0;34m*\u001b[0m\u001b[0margs\u001b[0m\u001b[0;34m,\u001b[0m \u001b[0;34m**\u001b[0m\u001b[0mkwargs\u001b[0m\u001b[0;34m)\u001b[0m\u001b[0;34m\u001b[0m\u001b[0;34m\u001b[0m\u001b[0m\n\u001b[0m\u001b[1;32m    243\u001b[0m \u001b[0;34m\u001b[0m\u001b[0m\n\u001b[1;32m    244\u001b[0m         \u001b[0;31m# Call forward_postprocess hook\u001b[0m\u001b[0;34m\u001b[0m\u001b[0;34m\u001b[0m\u001b[0;34m\u001b[0m\u001b[0m\n",
      "\u001b[0;32m/usr/local/lib/python3.6/dist-packages/chainer/links/connection/linear.py\u001b[0m in \u001b[0;36mforward\u001b[0;34m(self, x, n_batch_axes)\u001b[0m\n\u001b[1;32m    136\u001b[0m             \u001b[0min_size\u001b[0m \u001b[0;34m=\u001b[0m \u001b[0mfunctools\u001b[0m\u001b[0;34m.\u001b[0m\u001b[0mreduce\u001b[0m\u001b[0;34m(\u001b[0m\u001b[0moperator\u001b[0m\u001b[0;34m.\u001b[0m\u001b[0mmul\u001b[0m\u001b[0;34m,\u001b[0m \u001b[0mx\u001b[0m\u001b[0;34m.\u001b[0m\u001b[0mshape\u001b[0m\u001b[0;34m[\u001b[0m\u001b[0;36m1\u001b[0m\u001b[0;34m:\u001b[0m\u001b[0;34m]\u001b[0m\u001b[0;34m,\u001b[0m \u001b[0;36m1\u001b[0m\u001b[0;34m)\u001b[0m\u001b[0;34m\u001b[0m\u001b[0;34m\u001b[0m\u001b[0m\n\u001b[1;32m    137\u001b[0m             \u001b[0mself\u001b[0m\u001b[0;34m.\u001b[0m\u001b[0m_initialize_params\u001b[0m\u001b[0;34m(\u001b[0m\u001b[0min_size\u001b[0m\u001b[0;34m)\u001b[0m\u001b[0;34m\u001b[0m\u001b[0;34m\u001b[0m\u001b[0m\n\u001b[0;32m--> 138\u001b[0;31m         \u001b[0;32mreturn\u001b[0m \u001b[0mlinear\u001b[0m\u001b[0;34m.\u001b[0m\u001b[0mlinear\u001b[0m\u001b[0;34m(\u001b[0m\u001b[0mx\u001b[0m\u001b[0;34m,\u001b[0m \u001b[0mself\u001b[0m\u001b[0;34m.\u001b[0m\u001b[0mW\u001b[0m\u001b[0;34m,\u001b[0m \u001b[0mself\u001b[0m\u001b[0;34m.\u001b[0m\u001b[0mb\u001b[0m\u001b[0;34m,\u001b[0m \u001b[0mn_batch_axes\u001b[0m\u001b[0;34m=\u001b[0m\u001b[0mn_batch_axes\u001b[0m\u001b[0;34m)\u001b[0m\u001b[0;34m\u001b[0m\u001b[0;34m\u001b[0m\u001b[0m\n\u001b[0m",
      "\u001b[0;32m/usr/local/lib/python3.6/dist-packages/chainer/functions/connection/linear.py\u001b[0m in \u001b[0;36mlinear\u001b[0;34m(x, W, b, n_batch_axes)\u001b[0m\n\u001b[1;32m    287\u001b[0m         \u001b[0margs\u001b[0m \u001b[0;34m=\u001b[0m \u001b[0mx\u001b[0m\u001b[0;34m,\u001b[0m \u001b[0mW\u001b[0m\u001b[0;34m,\u001b[0m \u001b[0mb\u001b[0m\u001b[0;34m\u001b[0m\u001b[0;34m\u001b[0m\u001b[0m\n\u001b[1;32m    288\u001b[0m \u001b[0;34m\u001b[0m\u001b[0m\n\u001b[0;32m--> 289\u001b[0;31m     \u001b[0my\u001b[0m\u001b[0;34m,\u001b[0m \u001b[0;34m=\u001b[0m \u001b[0mLinearFunction\u001b[0m\u001b[0;34m(\u001b[0m\u001b[0;34m)\u001b[0m\u001b[0;34m.\u001b[0m\u001b[0mapply\u001b[0m\u001b[0;34m(\u001b[0m\u001b[0margs\u001b[0m\u001b[0;34m)\u001b[0m\u001b[0;34m\u001b[0m\u001b[0;34m\u001b[0m\u001b[0m\n\u001b[0m\u001b[1;32m    290\u001b[0m     \u001b[0;32mif\u001b[0m \u001b[0mn_batch_axes\u001b[0m \u001b[0;34m>\u001b[0m \u001b[0;36m1\u001b[0m\u001b[0;34m:\u001b[0m\u001b[0;34m\u001b[0m\u001b[0;34m\u001b[0m\u001b[0m\n\u001b[1;32m    291\u001b[0m         \u001b[0my\u001b[0m \u001b[0;34m=\u001b[0m \u001b[0my\u001b[0m\u001b[0;34m.\u001b[0m\u001b[0mreshape\u001b[0m\u001b[0;34m(\u001b[0m\u001b[0mbatch_shape\u001b[0m \u001b[0;34m+\u001b[0m \u001b[0;34m(\u001b[0m\u001b[0;34m-\u001b[0m\u001b[0;36m1\u001b[0m\u001b[0;34m,\u001b[0m\u001b[0;34m)\u001b[0m\u001b[0;34m)\u001b[0m\u001b[0;34m\u001b[0m\u001b[0;34m\u001b[0m\u001b[0m\n",
      "\u001b[0;32m/usr/local/lib/python3.6/dist-packages/chainer/function_node.py\u001b[0m in \u001b[0;36mapply\u001b[0;34m(self, inputs)\u001b[0m\n\u001b[1;32m    243\u001b[0m \u001b[0;34m\u001b[0m\u001b[0m\n\u001b[1;32m    244\u001b[0m         \u001b[0;32mif\u001b[0m \u001b[0mconfiguration\u001b[0m\u001b[0;34m.\u001b[0m\u001b[0mconfig\u001b[0m\u001b[0;34m.\u001b[0m\u001b[0mtype_check\u001b[0m\u001b[0;34m:\u001b[0m\u001b[0;34m\u001b[0m\u001b[0;34m\u001b[0m\u001b[0m\n\u001b[0;32m--> 245\u001b[0;31m             \u001b[0mself\u001b[0m\u001b[0;34m.\u001b[0m\u001b[0m_check_data_type_forward\u001b[0m\u001b[0;34m(\u001b[0m\u001b[0min_data\u001b[0m\u001b[0;34m)\u001b[0m\u001b[0;34m\u001b[0m\u001b[0;34m\u001b[0m\u001b[0m\n\u001b[0m\u001b[1;32m    246\u001b[0m \u001b[0;34m\u001b[0m\u001b[0m\n\u001b[1;32m    247\u001b[0m         \u001b[0mhooks\u001b[0m \u001b[0;34m=\u001b[0m \u001b[0mchainer\u001b[0m\u001b[0;34m.\u001b[0m\u001b[0mget_function_hooks\u001b[0m\u001b[0;34m(\u001b[0m\u001b[0;34m)\u001b[0m\u001b[0;34m\u001b[0m\u001b[0;34m\u001b[0m\u001b[0m\n",
      "\u001b[0;32m/usr/local/lib/python3.6/dist-packages/chainer/function_node.py\u001b[0m in \u001b[0;36m_check_data_type_forward\u001b[0;34m(self, in_data)\u001b[0m\n\u001b[1;32m    320\u001b[0m         \u001b[0;32mtry\u001b[0m\u001b[0;34m:\u001b[0m\u001b[0;34m\u001b[0m\u001b[0;34m\u001b[0m\u001b[0m\n\u001b[1;32m    321\u001b[0m             \u001b[0;32mwith\u001b[0m \u001b[0mtype_check\u001b[0m\u001b[0;34m.\u001b[0m\u001b[0mlight_mode\u001b[0m\u001b[0;34m:\u001b[0m\u001b[0;34m\u001b[0m\u001b[0;34m\u001b[0m\u001b[0m\n\u001b[0;32m--> 322\u001b[0;31m                 \u001b[0mself\u001b[0m\u001b[0;34m.\u001b[0m\u001b[0mcheck_type_forward\u001b[0m\u001b[0;34m(\u001b[0m\u001b[0min_type\u001b[0m\u001b[0;34m)\u001b[0m\u001b[0;34m\u001b[0m\u001b[0;34m\u001b[0m\u001b[0m\n\u001b[0m\u001b[1;32m    323\u001b[0m             \u001b[0;32mreturn\u001b[0m\u001b[0;34m\u001b[0m\u001b[0;34m\u001b[0m\u001b[0m\n\u001b[1;32m    324\u001b[0m         \u001b[0;32mexcept\u001b[0m \u001b[0mtype_check\u001b[0m\u001b[0;34m.\u001b[0m\u001b[0mInvalidType\u001b[0m\u001b[0;34m:\u001b[0m\u001b[0;34m\u001b[0m\u001b[0;34m\u001b[0m\u001b[0m\n",
      "\u001b[0;32m/usr/local/lib/python3.6/dist-packages/chainer/functions/connection/linear.py\u001b[0m in \u001b[0;36mcheck_type_forward\u001b[0;34m(self, in_types)\u001b[0m\n\u001b[1;32m     25\u001b[0m             \u001b[0mx_type\u001b[0m\u001b[0;34m.\u001b[0m\u001b[0mndim\u001b[0m \u001b[0;34m==\u001b[0m \u001b[0;36m2\u001b[0m\u001b[0;34m,\u001b[0m\u001b[0;34m\u001b[0m\u001b[0;34m\u001b[0m\u001b[0m\n\u001b[1;32m     26\u001b[0m             \u001b[0mw_type\u001b[0m\u001b[0;34m.\u001b[0m\u001b[0mndim\u001b[0m \u001b[0;34m==\u001b[0m \u001b[0;36m2\u001b[0m\u001b[0;34m,\u001b[0m\u001b[0;34m\u001b[0m\u001b[0;34m\u001b[0m\u001b[0m\n\u001b[0;32m---> 27\u001b[0;31m             \u001b[0mx_type\u001b[0m\u001b[0;34m.\u001b[0m\u001b[0mshape\u001b[0m\u001b[0;34m[\u001b[0m\u001b[0;36m1\u001b[0m\u001b[0;34m]\u001b[0m \u001b[0;34m==\u001b[0m \u001b[0mw_type\u001b[0m\u001b[0;34m.\u001b[0m\u001b[0mshape\u001b[0m\u001b[0;34m[\u001b[0m\u001b[0;36m1\u001b[0m\u001b[0;34m]\u001b[0m\u001b[0;34m,\u001b[0m\u001b[0;34m\u001b[0m\u001b[0;34m\u001b[0m\u001b[0m\n\u001b[0m\u001b[1;32m     28\u001b[0m         )\n\u001b[1;32m     29\u001b[0m         \u001b[0;32mif\u001b[0m \u001b[0mtype_check\u001b[0m\u001b[0;34m.\u001b[0m\u001b[0meval\u001b[0m\u001b[0;34m(\u001b[0m\u001b[0mn_in\u001b[0m\u001b[0;34m)\u001b[0m \u001b[0;34m==\u001b[0m \u001b[0;36m3\u001b[0m\u001b[0;34m:\u001b[0m\u001b[0;34m\u001b[0m\u001b[0;34m\u001b[0m\u001b[0m\n",
      "\u001b[0;31mIndexError\u001b[0m: tuple index out of range"
     ]
    }
   ],
   "source": [
    "# 予測値の計算\n",
    "with chainer.using_config('train', False), chainer.using_config('enable_backprop', False):\n",
    "  y = model(x_new)"
   ]
  },
  {
   "cell_type": "markdown",
   "metadata": {
    "colab_type": "text",
    "id": "F4L6u2GaSmrA"
   },
   "source": [
    "推論で使用する際には、`(バッチサイズ, 入力変数の数)` という形式となっていないとエラーが起きます。\n",
    "今回であれば、`(1, 4)`が望ましいデータの形といえます。"
   ]
  },
  {
   "cell_type": "code",
   "execution_count": 0,
   "metadata": {
    "colab": {},
    "colab_type": "code",
    "id": "3EXTEg_ySmrA"
   },
   "outputs": [],
   "source": [
    "x_new = x_new[np.newaxis]"
   ]
  },
  {
   "cell_type": "code",
   "execution_count": 218,
   "metadata": {
    "colab": {
     "base_uri": "https://localhost:8080/",
     "height": 34
    },
    "colab_type": "code",
    "executionInfo": {
     "elapsed": 402,
     "status": "ok",
     "timestamp": 1547551289686,
     "user": {
      "displayName": "西沢衛",
      "photoUrl": "",
      "userId": "12011220225445512117"
     },
     "user_tz": -540
    },
    "id": "0OcCMpPNSmrB",
    "outputId": "cfced992-fa5e-4108-d43c-52e606e6418c"
   },
   "outputs": [
    {
     "data": {
      "text/plain": [
       "(1, 4)"
      ]
     },
     "execution_count": 218,
     "metadata": {
      "tags": []
     },
     "output_type": "execute_result"
    }
   ],
   "source": [
    "x_new.shape"
   ]
  },
  {
   "cell_type": "code",
   "execution_count": 220,
   "metadata": {
    "colab": {
     "base_uri": "https://localhost:8080/",
     "height": 34
    },
    "colab_type": "code",
    "executionInfo": {
     "elapsed": 649,
     "status": "ok",
     "timestamp": 1547551298875,
     "user": {
      "displayName": "西沢衛",
      "photoUrl": "",
      "userId": "12011220225445512117"
     },
     "user_tz": -540
    },
    "id": "OKeaeNKRSmrC",
    "outputId": "4e80f598-57e9-4600-ffc5-774bb2b2537c"
   },
   "outputs": [
    {
     "data": {
      "text/plain": [
       "variable([[-4.090935  , -1.7532939 , -0.80239886]])"
      ]
     },
     "execution_count": 220,
     "metadata": {
      "tags": []
     },
     "output_type": "execute_result"
    }
   ],
   "source": [
    "# 予測値の計算\n",
    "with chainer.using_config('train', False), chainer.using_config('enable_backprop', False):\n",
    "  y = model(x_new)\n",
    "y"
   ]
  },
  {
   "cell_type": "code",
   "execution_count": 221,
   "metadata": {
    "colab": {
     "base_uri": "https://localhost:8080/",
     "height": 34
    },
    "colab_type": "code",
    "executionInfo": {
     "elapsed": 574,
     "status": "ok",
     "timestamp": 1547551304384,
     "user": {
      "displayName": "西沢衛",
      "photoUrl": "",
      "userId": "12011220225445512117"
     },
     "user_tz": -540
    },
    "id": "U9FAHAUR2Ylj",
    "outputId": "c11f8569-ac81-4270-d67f-42062a323e42"
   },
   "outputs": [
    {
     "data": {
      "text/plain": [
       "2"
      ]
     },
     "execution_count": 221,
     "metadata": {
      "tags": []
     },
     "output_type": "execute_result"
    }
   ],
   "source": [
    "t"
   ]
  },
  {
   "cell_type": "markdown",
   "metadata": {
    "colab_type": "text",
    "id": "2R_bJvht3tUw"
   },
   "source": [
    "それぞれの予測値が出ました。  \n",
    "ですが、このままでは分類結果とは呼べません。  \n",
    "分類結果を得るためには下記の2つの処理を行う必要があります。  \n",
    "\n",
    "1. `F.softmax()` で取得した予測値全ての合計が1になるように変換\n",
    "2. `np.argmax()` でその中で最も大きな値を取得\n",
    "\n"
   ]
  },
  {
   "cell_type": "code",
   "execution_count": 209,
   "metadata": {
    "colab": {
     "base_uri": "https://localhost:8080/",
     "height": 34
    },
    "colab_type": "code",
    "executionInfo": {
     "elapsed": 578,
     "status": "ok",
     "timestamp": 1547551131641,
     "user": {
      "displayName": "西沢衛",
      "photoUrl": "",
      "userId": "12011220225445512117"
     },
     "user_tz": -540
    },
    "id": "Ngxye6Oc2YuH",
    "outputId": "18500287-6184-4dda-a53c-5551dfff861c"
   },
   "outputs": [
    {
     "data": {
      "text/plain": [
       "variable([[0.02620519, 0.27140135, 0.7023935 ]])"
      ]
     },
     "execution_count": 209,
     "metadata": {
      "tags": []
     },
     "output_type": "execute_result"
    }
   ],
   "source": [
    "y = F.softmax(y)\n",
    "y"
   ]
  },
  {
   "cell_type": "code",
   "execution_count": 210,
   "metadata": {
    "colab": {
     "base_uri": "https://localhost:8080/",
     "height": 34
    },
    "colab_type": "code",
    "executionInfo": {
     "elapsed": 411,
     "status": "ok",
     "timestamp": 1547551132424,
     "user": {
      "displayName": "西沢衛",
      "photoUrl": "",
      "userId": "12011220225445512117"
     },
     "user_tz": -540
    },
    "id": "gxWKCsIa4N58",
    "outputId": "a453a2b4-a905-41ce-fe79-be1c29fccaf2"
   },
   "outputs": [
    {
     "data": {
      "text/plain": [
       "array([[0.02620519, 0.27140135, 0.7023935 ]], dtype=float32)"
      ]
     },
     "execution_count": 210,
     "metadata": {
      "tags": []
     },
     "output_type": "execute_result"
    }
   ],
   "source": [
    "# ChainerのValiable型からNumpyのarrayに変換\n",
    "y.array"
   ]
  },
  {
   "cell_type": "code",
   "execution_count": 211,
   "metadata": {
    "colab": {
     "base_uri": "https://localhost:8080/",
     "height": 34
    },
    "colab_type": "code",
    "executionInfo": {
     "elapsed": 409,
     "status": "ok",
     "timestamp": 1547551132680,
     "user": {
      "displayName": "西沢衛",
      "photoUrl": "",
      "userId": "12011220225445512117"
     },
     "user_tz": -540
    },
    "id": "ZRRjoS-V2Yws",
    "outputId": "038d2d8b-4c17-47ed-beb7-01b2d6f6fd52"
   },
   "outputs": [
    {
     "data": {
      "text/plain": [
       "2"
      ]
     },
     "execution_count": 211,
     "metadata": {
      "tags": []
     },
     "output_type": "execute_result"
    }
   ],
   "source": [
    "np.argmax(y.array)"
   ]
  },
  {
   "cell_type": "markdown",
   "metadata": {
    "colab_type": "text",
    "id": "wZGkHeFu93vR"
   },
   "source": [
    "推論結果が教師データ`t`ともあっており、うまく推論できていることが確認できました。"
   ]
  },
  {
   "cell_type": "markdown",
   "metadata": {
    "colab_type": "text",
    "id": "RCc3yHyu9302"
   },
   "source": [
    "## ミニバッチ学習\n",
    "\n",
    "先ほどまではデータを全て使用して学習を行なってきました。 \n",
    "ですが、ディープラーニングでは全てのデータがメモリに乗り切るようなケースの方が少ないのが一般的です。  \n",
    "\n",
    "また一般的な最適化の手法では訓練データを全データ使用するのではなく、  \n",
    "**バッチサイズ** という単位でまとめられた訓練データの一部である、  **ミニバッチ** を使用して学習を行います。  \n",
    "\n",
    "ミニバッチ学習はデータをメモリにのせる小ささに分割するだけではなく、いくつかのメリットがあります。  \n",
    "\n",
    "**ミニバッチ学習の主なメリット**\n",
    "\n",
    "- データセット内の外れ値の影響を受けにくくなる\n",
    "- パラメータの更新回数が増える為、学習がうまく進みやすくなる\n",
    "- 一回の更新までの計算時間が短くなる為、学習時間の見積もりや、学習の進捗を把握しやすい\n",
    "\n",
    "\n",
    "### Iteration（イテレーション）\n",
    "\n",
    "ミニバッチ学習の中でデータセットが**バッチサイズ**ごとに区切られて、学習が行われた際に、一回パラメータを更新する事（順伝播→逆伝播→パラメータの更新）をイテレーション（`Iteration`）と呼びます。  \n",
    "\n",
    "`Iteration`と混同しやすいのが`Epoch`になります。  \n",
    "Epochは**全訓練データを何回繰り返して学習させるかという回数を表す単位**です。  \n",
    "\n",
    "どのような関係性か数字で確認しておきましょう。  \n",
    "\n",
    "\n",
    "###  ミニバッチ、Epoch、Iterationの関係性\n",
    "\n",
    "- データセット：1,000,000サンプル\n",
    "- バッチサイズ：100\n",
    "- ミニバッチの数：10,000（1,000,000/100）\n",
    "- Epoch数：100\n",
    "- Iteration数：1,000,000（10,000×100）\n",
    "\n",
    "\n",
    "ミニバッチ学習、Epoch、Iterationの関係については下記の図で再度確認しておいてください。\n",
    "\n",
    "![ミニバッチ、Epoch、Iteration](images/06_04.png)\n",
    "\n",
    "\n",
    "### Iteratorの作成\n",
    "\n",
    "先ほど説明したミニバッチを作成するのがChainerで用意されている `Iterator` になります。  \n",
    "早速定義してみましょう。\n"
   ]
  },
  {
   "cell_type": "code",
   "execution_count": 0,
   "metadata": {
    "colab": {},
    "colab_type": "code",
    "id": "Dcs2JDSY9367"
   },
   "outputs": [],
   "source": [
    "from chainer import iterators"
   ]
  },
  {
   "cell_type": "code",
   "execution_count": 0,
   "metadata": {
    "colab": {},
    "colab_type": "code",
    "id": "-oAZG7Vx5zCa"
   },
   "outputs": [],
   "source": [
    "# バッチサイズの定義\n",
    "batchsize = 10"
   ]
  },
  {
   "cell_type": "code",
   "execution_count": 0,
   "metadata": {
    "colab": {},
    "colab_type": "code",
    "id": "5IV4L8o05zHr"
   },
   "outputs": [],
   "source": [
    "train_iter = iterators.SerialIterator(train, batchsize)\n",
    "valid_iter = iterators.SerialIterator(valid, batchsize, repeat=False, shuffle=False)"
   ]
  },
  {
   "cell_type": "markdown",
   "metadata": {
    "colab_type": "text",
    "id": "1QDUmTbZA4DS"
   },
   "source": [
    "Iteratorの定義ができました。  \n",
    "上記のように訓練データを定義する際には不要ですが、検証データのような繰り返しが不要、またランダムにシャッフルが不要な場合は`repeat=Flase, shuffle=False`と引数に設定する事で行うことができます。  \n",
    "\n",
    "また`iterator`の中からミニバッチを取り出すためには、`.next()`メソッドを使用することによって取得することができます。  \n",
    "このiteratorはエポックを記憶しているため、`.is_new_epoch`を使用することで新しいエポックに入った場合などで条件分岐を加えたりすることも可能です。"
   ]
  },
  {
   "cell_type": "code",
   "execution_count": 107,
   "metadata": {
    "colab": {
     "base_uri": "https://localhost:8080/",
     "height": 187
    },
    "colab_type": "code",
    "executionInfo": {
     "elapsed": 939,
     "status": "ok",
     "timestamp": 1547545182578,
     "user": {
      "displayName": "西沢衛",
      "photoUrl": "",
      "userId": "12011220225445512117"
     },
     "user_tz": -540
    },
    "id": "8LrzpqED5zNL",
    "outputId": "a20c03b7-c48b-41eb-86c2-38c319a9efbd"
   },
   "outputs": [
    {
     "data": {
      "text/plain": [
       "[(array([6.3, 3.3, 6. , 2.5], dtype=float32), 2),\n",
       " (array([6.8, 3. , 5.5, 2.1], dtype=float32), 2),\n",
       " (array([5.7, 3.8, 1.7, 0.3], dtype=float32), 0),\n",
       " (array([4.8, 3. , 1.4, 0.3], dtype=float32), 0),\n",
       " (array([5.4, 3. , 4.5, 1.5], dtype=float32), 1),\n",
       " (array([6.7, 3.1, 4.4, 1.4], dtype=float32), 1),\n",
       " (array([5.8, 4. , 1.2, 0.2], dtype=float32), 0),\n",
       " (array([6.3, 2.9, 5.6, 1.8], dtype=float32), 2),\n",
       " (array([5. , 3.2, 1.2, 0.2], dtype=float32), 0),\n",
       " (array([6.2, 2.8, 4.8, 1.8], dtype=float32), 2)]"
      ]
     },
     "execution_count": 107,
     "metadata": {
      "tags": []
     },
     "output_type": "execute_result"
    }
   ],
   "source": [
    "train_iter.next()"
   ]
  },
  {
   "cell_type": "markdown",
   "metadata": {
    "colab_type": "text",
    "id": "b0orPqzh5zSN"
   },
   "source": [
    "### Iteratorの種類について\n",
    "\n",
    "ChainerのIteratorにはいくつかの種類が存在します。  \n",
    "その一つが先ほど使用した`SerialIterator`になります。  \n",
    "`SerialIterator`は全データの中からバッチサイズのデータを単純に取り出してくるだけです。  \n",
    "\n",
    "そのほかのIteratorとしては、マルチプロセスで高速にデータを処理できるようにした`MultiprocessIterator`などがあります。  \n",
    "詳細については[公式のドキュメント](https://docs.chainer.org/en/stable/reference/iterators.html)  を確認してください。  \n",
    "\n",
    "\n",
    "### ミニバッチ学習で学習の実行\n",
    "\n",
    "では先ほどのコードをミニバッチ学習を用いて学習を実行します。"
   ]
  },
  {
   "cell_type": "code",
   "execution_count": 0,
   "metadata": {
    "colab": {},
    "colab_type": "code",
    "id": "Dp0XmaJRIasq"
   },
   "outputs": [],
   "source": [
    "# シードの固定\n",
    "np.random.seed(0)"
   ]
  },
  {
   "cell_type": "code",
   "execution_count": 0,
   "metadata": {
    "colab": {},
    "colab_type": "code",
    "id": "CPNUy2w-FMpO"
   },
   "outputs": [],
   "source": [
    "# モデルの定義\n",
    "model = Sequential(\n",
    "    L.Linear(n_in, n_hidden), F.relu,\n",
    "    L.Linear(n_hidden, n_hidden), F.relu,\n",
    "    L.Linear(n_hidden, n_out)\n",
    ")"
   ]
  },
  {
   "cell_type": "code",
   "execution_count": 0,
   "metadata": {
    "colab": {},
    "colab_type": "code",
    "id": "sskdK7LaFRmE"
   },
   "outputs": [],
   "source": [
    "optimizer = chainer.optimizers.SGD().setup(model)"
   ]
  },
  {
   "cell_type": "code",
   "execution_count": 0,
   "metadata": {
    "colab": {},
    "colab_type": "code",
    "id": "IkR0ha6sCzRw"
   },
   "outputs": [],
   "source": [
    "# バッチサイズの定義\n",
    "batchsize = 10"
   ]
  },
  {
   "cell_type": "code",
   "execution_count": 0,
   "metadata": {
    "colab": {},
    "colab_type": "code",
    "id": "rAaJg9kpCzRy"
   },
   "outputs": [],
   "source": [
    "train_iter = iterators.SerialIterator(train, batchsize)\n",
    "valid_iter = iterators.SerialIterator(valid, batchsize, repeat=False, shuffle=False)"
   ]
  },
  {
   "cell_type": "code",
   "execution_count": 0,
   "metadata": {
    "colab": {},
    "colab_type": "code",
    "id": "4jLueFpaIljQ"
   },
   "outputs": [],
   "source": [
    "epoch = 10"
   ]
  },
  {
   "cell_type": "code",
   "execution_count": 118,
   "metadata": {
    "colab": {
     "base_uri": "https://localhost:8080/",
     "height": 1598
    },
    "colab_type": "code",
    "executionInfo": {
     "elapsed": 678,
     "status": "ok",
     "timestamp": 1547545219848,
     "user": {
      "displayName": "西沢衛",
      "photoUrl": "",
      "userId": "12011220225445512117"
     },
     "user_tz": -540
    },
    "id": "scVqhUVE5zcc",
    "outputId": "dea26dfb-5004-4524-9b5a-18dca68f02d5"
   },
   "outputs": [
    {
     "name": "stdout",
     "output_type": "stream",
     "text": [
      "epoch:00 train_loss:0.7770 \n",
      "epoch:00 train_loss:0.5534 \n",
      "epoch:00 train_loss:1.0270 \n",
      "epoch:00 train_loss:0.6936 \n",
      "epoch:00 train_loss:0.5499 \n",
      "epoch:00 train_loss:0.9969 \n",
      "epoch:00 train_loss:0.7639 \n",
      "epoch:01 train_loss:0.7304 \n",
      "valid_loss:0.5194 valid_accuracy:0.5000\n",
      "---\n",
      "epoch:01 train_loss:0.6460 \n",
      "epoch:01 train_loss:0.5307 \n",
      "epoch:01 train_loss:0.4953 \n",
      "epoch:01 train_loss:0.8641 \n",
      "epoch:01 train_loss:0.6535 \n",
      "epoch:01 train_loss:0.6052 \n",
      "epoch:02 train_loss:0.6370 \n",
      "valid_loss:0.3017 valid_accuracy:1.0000\n",
      "---\n",
      "epoch:02 train_loss:0.6447 \n",
      "epoch:02 train_loss:0.5365 \n",
      "epoch:02 train_loss:0.7608 \n",
      "epoch:02 train_loss:0.6153 \n",
      "epoch:02 train_loss:0.5773 \n",
      "epoch:02 train_loss:0.3930 \n",
      "epoch:03 train_loss:0.5495 \n",
      "valid_loss:0.3299 valid_accuracy:1.0000\n",
      "---\n",
      "epoch:03 train_loss:0.5534 \n",
      "epoch:03 train_loss:0.5837 \n",
      "epoch:03 train_loss:0.4688 \n",
      "epoch:03 train_loss:0.6249 \n",
      "epoch:03 train_loss:0.5974 \n",
      "epoch:03 train_loss:0.5410 \n",
      "epoch:03 train_loss:0.6975 \n",
      "epoch:04 train_loss:0.6781 \n",
      "valid_loss:0.6432 valid_accuracy:0.5000\n",
      "---\n",
      "epoch:04 train_loss:0.7357 \n",
      "epoch:04 train_loss:0.4853 \n",
      "epoch:04 train_loss:0.3400 \n",
      "epoch:04 train_loss:0.8446 \n",
      "epoch:04 train_loss:0.5273 \n",
      "epoch:04 train_loss:0.4977 \n",
      "epoch:05 train_loss:0.6682 \n",
      "valid_loss:0.2515 valid_accuracy:1.0000\n",
      "---\n",
      "epoch:05 train_loss:0.4569 \n",
      "epoch:05 train_loss:0.6182 \n",
      "epoch:05 train_loss:0.4319 \n",
      "epoch:05 train_loss:0.4928 \n",
      "epoch:05 train_loss:0.4827 \n",
      "epoch:05 train_loss:0.3985 \n",
      "epoch:06 train_loss:0.5121 \n",
      "valid_loss:0.3116 valid_accuracy:1.0000\n",
      "---\n",
      "epoch:06 train_loss:0.4839 \n",
      "epoch:06 train_loss:0.5963 \n",
      "epoch:06 train_loss:0.2787 \n",
      "epoch:06 train_loss:0.5641 \n",
      "epoch:06 train_loss:0.3896 \n",
      "epoch:06 train_loss:0.6486 \n",
      "epoch:06 train_loss:0.5585 \n",
      "epoch:07 train_loss:0.6491 \n",
      "valid_loss:0.1929 valid_accuracy:1.0000\n",
      "---\n",
      "epoch:07 train_loss:0.5009 \n",
      "epoch:07 train_loss:0.6195 \n",
      "epoch:07 train_loss:0.4802 \n",
      "epoch:07 train_loss:0.4610 \n",
      "epoch:07 train_loss:0.4681 \n",
      "epoch:07 train_loss:0.3737 \n",
      "epoch:08 train_loss:0.4795 \n",
      "valid_loss:0.2253 valid_accuracy:1.0000\n",
      "---\n",
      "epoch:08 train_loss:0.3099 \n",
      "epoch:08 train_loss:0.6048 \n",
      "epoch:08 train_loss:0.3563 \n",
      "epoch:08 train_loss:0.4851 \n",
      "epoch:08 train_loss:0.5672 \n",
      "epoch:08 train_loss:0.4536 \n",
      "epoch:09 train_loss:0.4374 \n",
      "valid_loss:0.3638 valid_accuracy:1.0000\n",
      "---\n",
      "epoch:09 train_loss:0.3604 \n",
      "epoch:09 train_loss:0.5544 \n",
      "epoch:09 train_loss:0.3842 \n",
      "epoch:09 train_loss:0.4716 \n",
      "epoch:09 train_loss:0.4828 \n",
      "epoch:09 train_loss:0.4098 \n",
      "epoch:10 train_loss:0.4248 \n",
      "valid_loss:0.3820 valid_accuracy:1.0000\n",
      "---\n"
     ]
    }
   ],
   "source": [
    "train_iter.reset()\n",
    "valid_iter.reset()\n",
    "\n",
    "while train_iter.epoch < epoch: # 追加\n",
    "  \n",
    "\n",
    "  #　------------  学習の1イテレーション  ------------\n",
    "  \n",
    "  # データの取得\n",
    "  train_batch = train_iter.next() # 追加\n",
    "  x_train, t_train = concat_examples(train_batch)\n",
    "\n",
    "\n",
    "  # 予測値の計算\n",
    "  y_train = model(x_train)\n",
    "\n",
    "  # ロスの計算\n",
    "  loss_train = F.softmax_cross_entropy(y_train, t_train)\n",
    "\n",
    "  # 勾配の計算\n",
    "  model.cleargrads()\n",
    "  loss_train.backward()\n",
    "\n",
    "  # パラメータの更新\n",
    "  optimizer.update()\n",
    "  \n",
    "  print('epoch:{:02d} train_loss:{:.04f} '.format(train_iter.epoch, loss_train.data, end=''))\n",
    "  \n",
    "#   ----------------  ここまで  ----------------   \n",
    "\n",
    "\n",
    "  if train_iter.is_new_epoch: # 新しいエポックに入った時のみ計算\n",
    "\n",
    "    while True:\n",
    "      # 検証データの取得   \n",
    "      valid_batch = valid_iter.next() # 追加\n",
    "      x_valid, t_valid = concat_examples(valid_batch)\n",
    "\n",
    "     # 検証用データで順伝播の計算を実行\n",
    "      with chainer.using_config('train', False), chainer.using_config('enable_backprop', False):\n",
    "        y_valid = model(x_valid)\n",
    "\n",
    "\n",
    "      # 検証データで損失関数を計算\n",
    "      loss_valid = F.softmax_cross_entropy(y_valid, t_valid)\n",
    "\n",
    "      # 検証データで精度を計算\n",
    "      accuracy_valid = F.accuracy(y_valid, t_valid)\n",
    "\n",
    "      if valid_iter.is_new_epoch: # 追加：1エポック計算し終わると、イテレーターをリセット\n",
    "        valid_iter.reset()\n",
    "        break\n",
    "\n",
    "     # 結果を表示  \n",
    "    print('valid_loss:{:.04f} valid_accuracy:{:.04f}'.format(loss_valid.data, accuracy_valid.data))\n",
    "    print('---')"
   ]
  },
  {
   "cell_type": "markdown",
   "metadata": {
    "colab_type": "text",
    "id": "u7Q1ad4b5zmc"
   },
   "source": [
    "うまくミニバッチ学習でモデルの学習を行うことができました。  \n",
    "このようにモデルのChainerを使用することによってディープラーニングのモデルを構築することができます。  \n",
    "\n",
    "Chainerではネットワークの定義の方法が大きく分けて2つあるとお伝えしました。  \n",
    "次章では、手持ちのデータを使っての分類の実装とクラスを用いてのネットワークの定義の方法を解説します。"
   ]
  }
 ],
 "metadata": {
  "colab": {
   "collapsed_sections": [],
   "name": "6_Chainerの基礎（Sequential,_簡単なfor文）.ipynb",
   "provenance": [],
   "version": "0.3.2"
  },
  "kernelspec": {
   "display_name": "Python 3",
   "language": "python",
   "name": "python3"
  },
  "language_info": {
   "codemirror_mode": {
    "name": "ipython",
    "version": 3
   },
   "file_extension": ".py",
   "mimetype": "text/x-python",
   "name": "python",
   "nbconvert_exporter": "python",
   "pygments_lexer": "ipython3",
   "version": "3.6.7"
  }
 },
 "nbformat": 4,
 "nbformat_minor": 1
}
