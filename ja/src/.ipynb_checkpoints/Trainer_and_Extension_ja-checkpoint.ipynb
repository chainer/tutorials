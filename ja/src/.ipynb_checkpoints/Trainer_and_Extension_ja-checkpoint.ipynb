{
 "cells": [
  {
   "cell_type": "markdown",
   "metadata": {
    "colab_type": "text",
    "id": "AcUv8am-7QGl"
   },
   "source": [
    "# TrainerとExtensionの実装\n",
    "\n",
    "\n",
    "本章では、前章まで学習の際に使用していた学習ループの部分を隠蔽することのできる`Trainer`について詳しく解説をしていきます。  \n",
    "\n",
    "こちらを使用すると、学習ループを自ら書く必要がなくなります。また、便利な拡張機能(`Extention`)を使うことで、学習過程での学習曲線の可視化や、ログの保存なども簡単に行うことができます。  \n",
    "\n",
    "\n",
    "## Trainerの使用方法\n",
    "\n",
    "### Trainerの概要\n",
    "\n",
    "Trainerは学習全体を管理する立ち位置になります。  \n",
    "下記はTrainerに関連するオブジェクトの関係図になります。  \n",
    "Trainerが何を担っているのか、全体感を確認します。  \n",
    "\n",
    "![Trainerに関連するオブジェクト間の関係図](images/ex_01.png)\n",
    "\n",
    "それぞれの役割を確認します。  \n",
    "\n",
    "**それぞれのオブジェクトの役割**  \n",
    "\n",
    " - `Dataset`は学習や検証に使用するためのデータセットです。\n",
    " - `Iterator`は「ミニバッチ学習」を行うために、`Dataset`の一部をミニバッチ毎に切り出します。またこの`Iterator`はEpoch数を保持しています。\n",
    " - `Model`はネットワークが定義されている部分になります。  \n",
    " - `Optimizer`は最適化の手法を選択する部分になります。代表的なものには `SGD`や`MomentumSGD`、`Adam`などが挙げられます。\n",
    " - `Updater`は`Iterator`、`Optimizer`を統括して学習（パラメータの更新）を実行する部分になります。実際に学習ループを隠蔽しているのはこの部分になります。\n",
    " - `Trainer`は`Updater`を受け取り、学習全体の管理を行う機能を提供しています。学習終了のタイミングを決定する`iteration`数または`epoch`数を受け取り学習を行います。\n",
    " - `Extensions`は学習の結果の保存や、学習進捗の可視化など便利な機能を簡単に利用することができます。\n",
    "\n",
    "それぞれの役割の概要が理解できたところでTrainerを使用して実装し、中身を確認していきます。\n",
    "\n",
    "\n",
    "### データセット・Iterator・ネットワークの準備\n",
    "\n",
    "データセット、Iterator、ネットワークは、Trainerを使用する場合にも同様に準備します。  \n",
    "今回はscikit-learnのデータセットのirisデータを用いて実装を行います。\n",
    "\n",
    "\n",
    "#### データセットの準備"
   ]
  },
  {
   "cell_type": "code",
   "execution_count": 0,
   "metadata": {
    "colab": {},
    "colab_type": "code",
    "id": "Jrl-YDMTW9qi"
   },
   "outputs": [],
   "source": [
    "# 必要なモジュールの読み込み\n",
    "import numpy as np\n",
    "import pandas as pd\n",
    "import matplotlib.pyplot as plt\n",
    "\n",
    "import chainer\n",
    "import chainer.links as L\n",
    "import chainer.functions as F"
   ]
  },
  {
   "cell_type": "code",
   "execution_count": 0,
   "metadata": {
    "colab": {},
    "colab_type": "code",
    "id": "d5nUh_BDWD5T"
   },
   "outputs": [],
   "source": [
    "# データセットの読み込み\n",
    "from sklearn.datasets import load_iris\n",
    "dataset = load_iris()\n",
    "x = dataset.data\n",
    "t = dataset.target"
   ]
  },
  {
   "cell_type": "code",
   "execution_count": 0,
   "metadata": {
    "colab": {},
    "colab_type": "code",
    "id": "cojO_naMW9OV"
   },
   "outputs": [],
   "source": [
    "# 32ビット型に変換\n",
    "x = np.array(x, 'f')\n",
    "t = np.array(t, 'i')"
   ]
  },
  {
   "cell_type": "code",
   "execution_count": 0,
   "metadata": {
    "colab": {},
    "colab_type": "code",
    "id": "2qa-nuv4Xvkr"
   },
   "outputs": [],
   "source": [
    "from chainer.datasets import TupleDataset\n",
    "dataset = TupleDataset(x, t)"
   ]
  },
  {
   "cell_type": "markdown",
   "metadata": {
    "colab_type": "text",
    "id": "ZQp3AXHuahFl"
   },
   "source": [
    "本章では訓練と検証データのみ使用するため、テストデータは準備しません。"
   ]
  },
  {
   "cell_type": "code",
   "execution_count": 0,
   "metadata": {
    "colab": {},
    "colab_type": "code",
    "id": "1gPnZGDmXbIO"
   },
   "outputs": [],
   "source": [
    "from chainer.datasets import split_dataset_random\n",
    "n_train = int(len(dataset)*0.7)\n",
    "train, valid = split_dataset_random(dataset, n_train, seed=0)"
   ]
  },
  {
   "cell_type": "markdown",
   "metadata": {
    "colab_type": "text",
    "id": "bH-lLS6yZSMw"
   },
   "source": [
    "#### ネットワークの準備"
   ]
  },
  {
   "cell_type": "code",
   "execution_count": 0,
   "metadata": {
    "colab": {},
    "colab_type": "code",
    "id": "azPic1tTYMVI"
   },
   "outputs": [],
   "source": [
    "class NN(chainer.Chain):\n",
    "\n",
    "    def __init__(self, n_mid_units=10, n_out=3):\n",
    "        super().__init__()\n",
    "\n",
    "        with self.init_scope():\n",
    "            self.fc1 = L.Linear(None, n_mid_units)\n",
    "            self.fc2 = L.Linear(n_mid_units, n_mid_units)\n",
    "            self.fc3 = L.Linear(n_mid_units, n_out)\n",
    "\n",
    "    def forward(self, x):\n",
    "        h = F.relu(self.fc1(x))\n",
    "        h = F.relu(self.fc2(h))\n",
    "        h =self.fc3(h)\n",
    "        return h"
   ]
  },
  {
   "cell_type": "markdown",
   "metadata": {
    "colab_type": "text",
    "id": "5XRHJxjaZZHJ"
   },
   "source": [
    "#### Iteratorの準備"
   ]
  },
  {
   "cell_type": "code",
   "execution_count": 0,
   "metadata": {
    "colab": {},
    "colab_type": "code",
    "id": "VyBT8DSYWDuP"
   },
   "outputs": [],
   "source": [
    "from chainer import iterators\n",
    "batchsize = 32\n",
    "\n",
    "train_iter = iterators.SerialIterator(train, batchsize)\n",
    "valid_iter = iterators.SerialIterator(valid, batchsize, False, False)"
   ]
  },
  {
   "cell_type": "markdown",
   "metadata": {
    "colab_type": "text",
    "id": "uiJFb24VWDoz"
   },
   "source": [
    "### Updaterの準備\n",
    "\n",
    "学習ループを自分で書く場合の学習ステップについて再度確認すると、\n",
    " \n",
    " - 「データセットからミニバッチを作成」\n",
    " - 「フォーワード（順伝播）の計算」\n",
    " - 「損失（loss）の計算」\n",
    " - 「バックワード（誤差逆伝播）の計算」\n",
    " - 「Optimizerによってパラメータを更新」\n",
    " \n",
    " という一連のステップを以下のように書いていました。\n",
    "\n",
    "\n",
    "```python\n",
    "from chainer.dataset import concat_examples\n",
    "\n",
    "# ---------- 学習の1イテレーション ----------\n",
    "train_batch = train_iter.next()\n",
    "x, t = concat_examples(train_batch)\n",
    "\n",
    "# 予測値の計算\n",
    "y = nn(x)\n",
    "\n",
    "# 損失の計算\n",
    "loss = F.softmax_cross_entropy(y, t)\n",
    "\n",
    "# 勾配の計算\n",
    "nn.cleargrads()\n",
    "loss.backward()\n",
    "\n",
    "# パラメータの更新\n",
    "optimizer.update()\n",
    "\n",
    "```\n",
    "\n",
    "Chainerの機能として提供されている`Updater`を用いることで、これらの一連の処理を簡単に書けるようになります。  \n",
    "\n",
    "`Updater`には`Iterator`と`Optimizer`を渡します。  \n",
    "`Iterator`はデータセットオブジェクトを持っているため、  \n",
    "そこからミニバッチを作成します。  \n",
    "\n",
    "`Optimizer`は最適化対象のネットワークを持っているため、  \n",
    "それを使って順伝播と誤差計算・パラメータのアップデートをすることができます。  \n",
    "\n",
    "従って、この2つを渡すことで、`Updater`内で全ての処理が完結します。  \n",
    "さっそく、`Updater`オブジェクトを作成してみましょう。"
   ]
  },
  {
   "cell_type": "code",
   "execution_count": 0,
   "metadata": {
    "colab": {},
    "colab_type": "code",
    "id": "GcYn8dM3WDjD"
   },
   "outputs": [],
   "source": [
    "from chainer import optimizers\n",
    "from chainer import training\n",
    "\n",
    "# ネットワークをClassifierで包んで，損失の計算などをモデルに含める\n",
    "np.random.seed(0)\n",
    "model = L.Classifier(NN())\n",
    "\n",
    "# 最適化手法の選択\n",
    "optimizer = optimizers.SGD(lr=0.01).setup(model)\n",
    "\n",
    "# UpdaterにIteratorとOptimizerを渡す\n",
    "updater = training.StandardUpdater(train_iter, optimizer, device=-1) # device=-1でCPUでの計算実行を指定"
   ]
  },
  {
   "cell_type": "markdown",
   "metadata": {
    "colab_type": "text",
    "id": "G0K5AGu1WDdz"
   },
   "source": [
    "#### 損失計算のためのChain\n",
    "\n",
    "ここでは、ネットワークを`L.Classifier`で包んでいます。  \n",
    "\n",
    "`L.Classifier`は、渡されたネットワーク自体が`predictor`というメソッドを持ち、損失計算を行う機能を追加してくれます。  \n",
    "\n",
    "このようにすることで、`model`はデータ`x`だけでなくラベル`t`も取るようになり、受け取ったデータを`predictor`に通して予測値を計算し、正解ラベル`t`と比較して損失の`Variable`を返します。  \n",
    "\n",
    "損失関数はデフォルトで`F.softmax_cross_entropy`となっています。  \n",
    "\n",
    "しかし、`L.Classifier`の引数`lossfunc`に損失計算を行う関数を渡してやれば変更することができ、（`Classifier`という名前ながら）回帰問題などの損失計算機能の追加にも使うことができます。  \n",
    "（`L.Classifier(net, lossfun=L.mean_squared_error, compute_accuracy=False)`のようにする）  \n",
    "\n",
    "`StandardUpdater`は前述のような`Updater`の担当する処理を遂行するための最もシンプルなクラスです。  \n",
    "この他にも複数のGPUを用いるための`ParallelUpdater`などが用意されています。  \n",
    "\n",
    "GPUを用いての計算方法は13章をご参照ください。\n",
    "\n",
    "\n",
    "### Trainerの準備\n",
    "\n",
    "実際に学習ループ部分を隠蔽しているのは`Updater`ですが、　　\n",
    "\n",
    "`Trainer`はさらに`Updater`を受け取って学習全体の管理を行う機能を提供しています。  \n",
    "\n",
    "例えば、データセットを何周したら学習を終了するかを決める`stop_trigger`や、  \n",
    "途中の損失の値をどのファイルに保存したいか、学習曲線を可視化した画像ファイルを保存するかどうかなど、学習全体の設定として必須・もしくはあると便利な色々な機能を提供しています。  \n",
    "\n",
    "必須なものとしては学習終了のタイミングを指定する`stop_trigger`があります。  \n",
    "こちらはTrainerオブジェクトを作成するときのインスタンス化したときに実行される関数（コンストラクタ）で指定します。  \n",
    "\n",
    "指定の方法は単純に、`(長さ, 単位)`という形のタプルを与えることで指定する事ができます。  \n",
    "「長さ」には数字を、「単位」には`'iteration'`もしくは`'epoch'`のいずれかの文字列を指定します。  \n",
    "`(100, 'epoch')`のように指定することによって100 epoch （データセット100周）で学習を終了することを指定する事ができます。 \n",
    "文字列の部分を`iteration`に変更することによって100iteration後に学習を終了する事ができます。  \n",
    "\n",
    "`Trainer`を作るときに、`stop_trigger`を指定しないと、学習は自動的には止まりません。  \n",
    "では、実際に`Trainer`オブジェクトを作成します。"
   ]
  },
  {
   "cell_type": "code",
   "execution_count": 0,
   "metadata": {
    "colab": {},
    "colab_type": "code",
    "id": "tgMn4W8XWDYc"
   },
   "outputs": [],
   "source": [
    "epoch = 10\n",
    "\n",
    "# TrainerにUpdaterを渡す\n",
    "trainer = training.Trainer(updater, (epoch, 'epoch'), out='results/iris_result1')"
   ]
  },
  {
   "cell_type": "markdown",
   "metadata": {
    "colab_type": "text",
    "id": "Jsni7e8NWB2c"
   },
   "source": [
    "`out`引数では、この次に説明する`Extension`を使って、ログファイルや損失の変化の過程を描画したグラフの画像ファイルなどを保存するディレクトリを指定しています。  \n",
    "\n",
    "学習の実行には`trainer.run()`で実行する事ができます。  "
   ]
  },
  {
   "cell_type": "markdown",
   "metadata": {
    "colab_type": "text",
    "id": "FFmZB9GLPPhR"
   },
   "source": [
    "## TrainerのExtension\n",
    "\n",
    "実際に学習を始める前に学習の経過や結果を測定するための設定を行います。  \n",
    " \n",
    "そちらには`Extension`を`Trainer`に追加します。  \n",
    "`Extension`には様々な便利な機能を利用する事が可能です。  \n",
    "\n",
    "代表的な物を確認します。  \n",
    "\n",
    "\n",
    "### 代表的なExtension\n",
    "\n",
    "- ログを自動的にファイルに保存（`LogReport`)\n",
    "- ターミナルに定期的に損失などの情報を表示（`PrintReport`）\n",
    "- 損失を定期的にグラフで可視化して画像として保存（`PlotReport`)\n",
    "- 定期的にモデルやOptimizerの状態を自動シリアライズ（`snapshot`）\n",
    "- 学習の進捗を示すプログレスバーを表示（`ProgressBar`）\n",
    "- ネットワークの構造をGraphvizのdot形式で保存（`dump_graph`）\n",
    "- ネットワークのパラメータの平均や分散などの統計情報を出力（`ParameterStatistics`）\n",
    "- 学習の途中経過を可視化（`ProgressBar`）\n",
    "\n",
    "その他の`Extension`については[公式ドキュメント](https://docs.chainer.org/en/stable/reference/training.html#extensions)を確認してください。  \n",
    "\n",
    "早速、実装方法を確認します。  \n",
    "\n",
    "\n",
    "\n",
    "\n",
    "\n"
   ]
  },
  {
   "cell_type": "code",
   "execution_count": 0,
   "metadata": {
    "colab": {},
    "colab_type": "code",
    "id": "efO6EmvRfEkq"
   },
   "outputs": [],
   "source": [
    "from chainer.training import extensions\n",
    "\n",
    "trainer.extend(extensions.LogReport(trigger=(1, 'epoch'), log_name='log'))\n",
    "trainer.extend(extensions.snapshot(filename='snapshot_epoch-{.updater.epoch}'))\n",
    "trainer.extend(extensions.Evaluator(valid_iter, model, device=-1), name='val')\n",
    "trainer.extend(extensions.PrintReport(['epoch', 'iteration', 'main/loss', 'main/accuracy', 'val/main/loss', 'val/main/accuracy', 'fc1/W/data/mean', 'elapsed_time']))\n",
    "trainer.extend(extensions.ProgressBar(update_interval=10))\n",
    "trainer.extend(extensions.ParameterStatistics(model.predictor.fc1, {'mean': np.mean}, report_grads=True))\n",
    "trainer.extend(extensions.PlotReport(['fc1/W/grad/mean'], x_key='epoch', file_name='mean.png'))\n",
    "trainer.extend(extensions.PlotReport(['main/loss', 'val/main/loss'], x_key='epoch', file_name='loss.png'))\n",
    "trainer.extend(extensions.PlotReport(['main/accuracy', 'val/main/accuracy'], x_key='epoch', file_name='accuracy.png'))\n",
    "trainer.extend(extensions.dump_graph('main/loss'))"
   ]
  },
  {
   "cell_type": "markdown",
   "metadata": {
    "colab_type": "text",
    "id": "nGoSdLLQzbHH"
   },
   "source": [
    "### Extensionの詳細\n",
    "\n",
    "#### LogReport\n",
    "\n",
    "`epoch`や`iteration`ごとの`loss` 、 `accuracy`などを自動的に集計し、デフォルトでは`log`というファイル名で保存します。  \n",
    "\n",
    "ファイル名の指定には`log_name`に文字列を渡します。  \n",
    "また集計のタイミングには`trigger`という引数にタプル型で`(回数, 単位)`を指定します。  \n",
    "単位には`'epoch'`または`iteration`の文字列を使用する事が可能です。  \n",
    "\n",
    "\n",
    "#### snapshot\n",
    "\n",
    "`Trainer`オブジェクトを指定されたタイミング（デフォルトでは1エポックごと）で保存します。  \n",
    "`Trainer`オブジェクトは上述のように`Updater`を持っており、この中にOptimizerとモデルが保持されています。  \n",
    "\n",
    "この`Extension`でスナップショットをとっておけば、その時点から学習を再開させたり、  \n",
    "学習済みモデルを使った推論などが可能になります。\n",
    "\n",
    "\n",
    "#### dump_graph\n",
    "\n",
    "指定された`Variable`オブジェクトからたどることができる計算グラフをGraphvizのdot形式で保存します。\n",
    "\n",
    "\n",
    "#### Evaluator\n",
    "\n",
    "評価用のデータセットの`Iterator`と、学習に使うモデルのオブジェクトを渡しておくことで、  \n",
    "学習中のモデルを指定されたタイミングで評価用データセットを用いて評価します。  \n",
    "\n",
    "内部では、`chainer.config.using_config('train', False)`が自動的に行われます。  \n",
    "`backprop_enable`を`False`にすることは行われないため、メモリ使用効率はデフォルトでは最適ではありません。  \n",
    "しかし基本的には`Evaluator`を使えば評価を行うという点において問題はありません。\n",
    "\n",
    "\n",
    "#### PrintReport\n",
    "\n",
    "`LogReport`と同様に集計された値を標準出力に出力します。  \n",
    "この際、どの値を出力するかをリストの形で与えます。\n",
    "\n",
    "#### PlotReport\n",
    "\n",
    "引数のリストで指定された値の変遷を`matplotlib`ライブラリを使ってグラフに描画し、出力ディレクトリに`file_name`引数で指定されたファイル名で画像として保存します。\n",
    "\n",
    "#### ParameterStatistics\n",
    "\n",
    "指定したレイヤ（`Link`）が持つパラメータの平均・分散・最小値・最大値などなどの統計情報を計算して、ログに保存します。  \n",
    "パラメータが発散していないかなどをチェックするのに便利です。  \n",
    "\n",
    "#### ProgressBar\n",
    "\n",
    "引数で`update_interval`に整数値を設定すると、設定した数のIterationごとに学習の進捗具合をプログレスバーで表示する事ができます。  \n",
    "学習の進行具合を確認する際に役立ちます。  \n",
    "\n",
    "これらの`Extension`は、ここで紹介した以外にも様々なオプションを持っており、より柔軟に組み合わせることができます。詳しくは[公式のドキュメント](https://docs.chainer.org/en/stable/reference/training.html#extensions)を見てください。  \n",
    "\n",
    "\n",
    "### 学習の実行と結果の確認\n"
   ]
  },
  {
   "cell_type": "code",
   "execution_count": 0,
   "metadata": {
    "colab": {
     "base_uri": "https://localhost:8080/",
     "height": 428
    },
    "colab_type": "code",
    "executionInfo": {
     "elapsed": 6675,
     "status": "ok",
     "timestamp": 1545816474667,
     "user": {
      "displayName": "西沢衛",
      "photoUrl": "",
      "userId": "12011220225445512117"
     },
     "user_tz": -540
    },
    "id": "0aKrhvWFfErT",
    "outputId": "3e8faec2-8e25-47ff-f706-cb35dabd7cac"
   },
   "outputs": [
    {
     "name": "stdout",
     "output_type": "stream",
     "text": [
      "epoch       iteration   main/loss   main/accuracy  val/main/loss  val/main/accuracy  fc1/W/data/mean  elapsed_time\n",
      "\u001b[J1           4           1.86342     0.351562       1.14422        0.418269           -0.000827843     0.0187585     \n",
      "\u001b[J2           7           1.18351     0.333333       1.1294         0.123798           -0.00185479      0.463932      \n",
      "\u001b[J3           10          1.15922     0.197917       1.09067        0.139423           -0.00205794      0.920374      \n",
      "\u001b[J     total [###############...................................] 30.48%\n",
      "this epoch [##................................................]  4.76%\n",
      "        10 iter, 3 epoch / 10 epochs\n",
      "       inf iters/sec. Estimated time to finish: 0:00:00.\n",
      "\u001b[4A\u001b[J4           14          1.0933      0.289062       1.12714        0.25601            -0.00220496      1.66608       \n",
      "\u001b[J5           17          1.08174     0.1875         1.01848        0.674279           -0.0023032       2.24          \n",
      "\u001b[J6           20          1.03922     0.34375        1.03627        0.147837           -0.00240553      2.80786       \n",
      "\u001b[J     total [##############################....................] 60.95%\n",
      "this epoch [####..............................................]  9.52%\n",
      "        20 iter, 6 epoch / 10 epochs\n",
      "    5.2953 iters/sec. Estimated time to finish: 0:00:02.419609.\n",
      "\u001b[4A\u001b[J7           23          1.0325      0.229167       1.0291         0.22476            -0.00243507      3.33526       \n",
      "\u001b[J8           27          0.988932    0.3125         0.963806       0.433894           -0.00247446      3.87155       \n",
      "\u001b[J9           30          0.959509    0.458333       0.951946       0.489183           -0.00247545      4.4229        \n",
      "\u001b[J     total [#############################################.....] 91.43%\n",
      "this epoch [#######...........................................] 14.29%\n",
      "        30 iter, 9 epoch / 10 epochs\n",
      "    5.7082 iters/sec. Estimated time to finish: 0:00:00.492713.\n",
      "\u001b[4A\u001b[J10          33          0.939263    0.645833       0.90088        0.728365           -0.00248847      4.97319       \n",
      "\u001b[J"
     ]
    }
   ],
   "source": [
    "# 学習の実行\n",
    "trainer.run()"
   ]
  },
  {
   "cell_type": "markdown",
   "metadata": {
    "colab_type": "text",
    "id": "Y3feBrhi7W-A"
   },
   "source": [
    "学習ループを自分で書いた場合よりも遥かに簡単に、同様の結果を得ることができました。  \n",
    "\n",
    "さらに、`Extension`の機能を利用することで、様々なスコアや、学習曲線の可視化も自動で出力されます。  \n",
    "\n",
    "まずは`extension`で指定したフォルダ`result/iris_result1`のフォルダ内にを確認します。  "
   ]
  },
  {
   "cell_type": "code",
   "execution_count": 0,
   "metadata": {
    "colab": {
     "base_uri": "https://localhost:8080/",
     "height": 85
    },
    "colab_type": "code",
    "executionInfo": {
     "elapsed": 8252,
     "status": "ok",
     "timestamp": 1545816476260,
     "user": {
      "displayName": "西沢衛",
      "photoUrl": "",
      "userId": "12011220225445512117"
     },
     "user_tz": -540
    },
    "id": "m7c5Rfp6fExX",
    "outputId": "039f10c9-d574-4f9e-8138-0e21f367cb75"
   },
   "outputs": [
    {
     "name": "stdout",
     "output_type": "stream",
     "text": [
      "accuracy.png  mean.png\t\t snapshot_epoch-3  snapshot_epoch-7\n",
      "cg.dot\t      snapshot_epoch-1\t snapshot_epoch-4  snapshot_epoch-8\n",
      "log\t      snapshot_epoch-10  snapshot_epoch-5  snapshot_epoch-9\n",
      "loss.png      snapshot_epoch-2\t snapshot_epoch-6\n"
     ]
    }
   ],
   "source": [
    "!ls results/iris_result1"
   ]
  },
  {
   "cell_type": "markdown",
   "metadata": {
    "colab_type": "text",
    "id": "hsGviya-7kIJ"
   },
   "source": [
    "精度の学習中の変化を確認する事ができる`accuracy.png`や損失を確認できる`loss.png`など先ほど指定したファイルがある事が確認する事ができました。  \n",
    "\n",
    "#### logファイルの確認\n",
    "\n",
    "まず、学習中に集計した結果を`Pandas`を確認するために`log`ファイルを読み込んで、可視化を行います。"
   ]
  },
  {
   "cell_type": "code",
   "execution_count": 0,
   "metadata": {
    "colab": {},
    "colab_type": "code",
    "id": "tAFZsypP8tr4"
   },
   "outputs": [],
   "source": [
    "import json\n",
    "with open('results/iris_result1/log') as f:\n",
    "  result = json.load(f)\n",
    "  df_result = pd.DataFrame(result)"
   ]
  },
  {
   "cell_type": "code",
   "execution_count": 0,
   "metadata": {
    "colab": {
     "base_uri": "https://localhost:8080/",
     "height": 379
    },
    "colab_type": "code",
    "executionInfo": {
     "elapsed": 8238,
     "status": "ok",
     "timestamp": 1545816476263,
     "user": {
      "displayName": "西沢衛",
      "photoUrl": "",
      "userId": "12011220225445512117"
     },
     "user_tz": -540
    },
    "id": "qZkvZkis8-z5",
    "outputId": "cce01068-5738-4476-9a42-34bd48b1ee83"
   },
   "outputs": [
    {
     "data": {
      "text/html": [
       "<div>\n",
       "<style scoped>\n",
       "    .dataframe tbody tr th:only-of-type {\n",
       "        vertical-align: middle;\n",
       "    }\n",
       "\n",
       "    .dataframe tbody tr th {\n",
       "        vertical-align: top;\n",
       "    }\n",
       "\n",
       "    .dataframe thead th {\n",
       "        text-align: right;\n",
       "    }\n",
       "</style>\n",
       "<table border=\"1\" class=\"dataframe\">\n",
       "  <thead>\n",
       "    <tr style=\"text-align: right;\">\n",
       "      <th></th>\n",
       "      <th>elapsed_time</th>\n",
       "      <th>epoch</th>\n",
       "      <th>fc1/W/data/mean</th>\n",
       "      <th>fc1/W/grad/mean</th>\n",
       "      <th>fc1/b/data/mean</th>\n",
       "      <th>fc1/b/grad/mean</th>\n",
       "      <th>iteration</th>\n",
       "      <th>main/accuracy</th>\n",
       "      <th>main/loss</th>\n",
       "      <th>val/main/accuracy</th>\n",
       "      <th>val/main/loss</th>\n",
       "    </tr>\n",
       "  </thead>\n",
       "  <tbody>\n",
       "    <tr>\n",
       "      <th>0</th>\n",
       "      <td>0.018759</td>\n",
       "      <td>1</td>\n",
       "      <td>-0.000828</td>\n",
       "      <td>0.094473</td>\n",
       "      <td>-0.000723</td>\n",
       "      <td>0.021454</td>\n",
       "      <td>4</td>\n",
       "      <td>0.351562</td>\n",
       "      <td>1.863418</td>\n",
       "      <td>0.418269</td>\n",
       "      <td>1.144222</td>\n",
       "    </tr>\n",
       "    <tr>\n",
       "      <th>1</th>\n",
       "      <td>0.463932</td>\n",
       "      <td>2</td>\n",
       "      <td>-0.001855</td>\n",
       "      <td>0.014477</td>\n",
       "      <td>-0.000907</td>\n",
       "      <td>0.002049</td>\n",
       "      <td>7</td>\n",
       "      <td>0.333333</td>\n",
       "      <td>1.183510</td>\n",
       "      <td>0.123798</td>\n",
       "      <td>1.129395</td>\n",
       "    </tr>\n",
       "    <tr>\n",
       "      <th>2</th>\n",
       "      <td>0.920374</td>\n",
       "      <td>3</td>\n",
       "      <td>-0.002058</td>\n",
       "      <td>0.004498</td>\n",
       "      <td>-0.000920</td>\n",
       "      <td>-0.000001</td>\n",
       "      <td>10</td>\n",
       "      <td>0.197917</td>\n",
       "      <td>1.159218</td>\n",
       "      <td>0.139423</td>\n",
       "      <td>1.090669</td>\n",
       "    </tr>\n",
       "    <tr>\n",
       "      <th>3</th>\n",
       "      <td>1.666075</td>\n",
       "      <td>4</td>\n",
       "      <td>-0.002205</td>\n",
       "      <td>0.005376</td>\n",
       "      <td>-0.000922</td>\n",
       "      <td>0.000468</td>\n",
       "      <td>14</td>\n",
       "      <td>0.289062</td>\n",
       "      <td>1.093297</td>\n",
       "      <td>0.256010</td>\n",
       "      <td>1.127138</td>\n",
       "    </tr>\n",
       "    <tr>\n",
       "      <th>4</th>\n",
       "      <td>2.239996</td>\n",
       "      <td>5</td>\n",
       "      <td>-0.002303</td>\n",
       "      <td>-0.000482</td>\n",
       "      <td>-0.000926</td>\n",
       "      <td>-0.000736</td>\n",
       "      <td>17</td>\n",
       "      <td>0.187500</td>\n",
       "      <td>1.081736</td>\n",
       "      <td>0.674279</td>\n",
       "      <td>1.018476</td>\n",
       "    </tr>\n",
       "    <tr>\n",
       "      <th>5</th>\n",
       "      <td>2.807862</td>\n",
       "      <td>6</td>\n",
       "      <td>-0.002406</td>\n",
       "      <td>0.004814</td>\n",
       "      <td>-0.000928</td>\n",
       "      <td>0.000563</td>\n",
       "      <td>20</td>\n",
       "      <td>0.343750</td>\n",
       "      <td>1.039216</td>\n",
       "      <td>0.147837</td>\n",
       "      <td>1.036270</td>\n",
       "    </tr>\n",
       "    <tr>\n",
       "      <th>6</th>\n",
       "      <td>3.335256</td>\n",
       "      <td>7</td>\n",
       "      <td>-0.002435</td>\n",
       "      <td>0.001691</td>\n",
       "      <td>-0.000923</td>\n",
       "      <td>-0.000039</td>\n",
       "      <td>23</td>\n",
       "      <td>0.229167</td>\n",
       "      <td>1.032497</td>\n",
       "      <td>0.224760</td>\n",
       "      <td>1.029099</td>\n",
       "    </tr>\n",
       "    <tr>\n",
       "      <th>7</th>\n",
       "      <td>3.871546</td>\n",
       "      <td>8</td>\n",
       "      <td>-0.002474</td>\n",
       "      <td>-0.001124</td>\n",
       "      <td>-0.000925</td>\n",
       "      <td>-0.000434</td>\n",
       "      <td>27</td>\n",
       "      <td>0.312500</td>\n",
       "      <td>0.988932</td>\n",
       "      <td>0.433894</td>\n",
       "      <td>0.963806</td>\n",
       "    </tr>\n",
       "    <tr>\n",
       "      <th>8</th>\n",
       "      <td>4.422899</td>\n",
       "      <td>9</td>\n",
       "      <td>-0.002475</td>\n",
       "      <td>0.001672</td>\n",
       "      <td>-0.000923</td>\n",
       "      <td>0.000528</td>\n",
       "      <td>30</td>\n",
       "      <td>0.458333</td>\n",
       "      <td>0.959509</td>\n",
       "      <td>0.489183</td>\n",
       "      <td>0.951946</td>\n",
       "    </tr>\n",
       "    <tr>\n",
       "      <th>9</th>\n",
       "      <td>4.973187</td>\n",
       "      <td>10</td>\n",
       "      <td>-0.002488</td>\n",
       "      <td>-0.001363</td>\n",
       "      <td>-0.000929</td>\n",
       "      <td>-0.000280</td>\n",
       "      <td>33</td>\n",
       "      <td>0.645833</td>\n",
       "      <td>0.939263</td>\n",
       "      <td>0.728365</td>\n",
       "      <td>0.900880</td>\n",
       "    </tr>\n",
       "  </tbody>\n",
       "</table>\n",
       "</div>"
      ],
      "text/plain": [
       "   elapsed_time  epoch  fc1/W/data/mean  fc1/W/grad/mean  fc1/b/data/mean  \\\n",
       "0      0.018759      1        -0.000828         0.094473        -0.000723   \n",
       "1      0.463932      2        -0.001855         0.014477        -0.000907   \n",
       "2      0.920374      3        -0.002058         0.004498        -0.000920   \n",
       "3      1.666075      4        -0.002205         0.005376        -0.000922   \n",
       "4      2.239996      5        -0.002303        -0.000482        -0.000926   \n",
       "5      2.807862      6        -0.002406         0.004814        -0.000928   \n",
       "6      3.335256      7        -0.002435         0.001691        -0.000923   \n",
       "7      3.871546      8        -0.002474        -0.001124        -0.000925   \n",
       "8      4.422899      9        -0.002475         0.001672        -0.000923   \n",
       "9      4.973187     10        -0.002488        -0.001363        -0.000929   \n",
       "\n",
       "   fc1/b/grad/mean  iteration  main/accuracy  main/loss  val/main/accuracy  \\\n",
       "0         0.021454          4       0.351562   1.863418           0.418269   \n",
       "1         0.002049          7       0.333333   1.183510           0.123798   \n",
       "2        -0.000001         10       0.197917   1.159218           0.139423   \n",
       "3         0.000468         14       0.289062   1.093297           0.256010   \n",
       "4        -0.000736         17       0.187500   1.081736           0.674279   \n",
       "5         0.000563         20       0.343750   1.039216           0.147837   \n",
       "6        -0.000039         23       0.229167   1.032497           0.224760   \n",
       "7        -0.000434         27       0.312500   0.988932           0.433894   \n",
       "8         0.000528         30       0.458333   0.959509           0.489183   \n",
       "9        -0.000280         33       0.645833   0.939263           0.728365   \n",
       "\n",
       "   val/main/loss  \n",
       "0       1.144222  \n",
       "1       1.129395  \n",
       "2       1.090669  \n",
       "3       1.127138  \n",
       "4       1.018476  \n",
       "5       1.036270  \n",
       "6       1.029099  \n",
       "7       0.963806  \n",
       "8       0.951946  \n",
       "9       0.900880  "
      ]
     },
     "execution_count": 380,
     "metadata": {
      "tags": []
     },
     "output_type": "execute_result"
    }
   ],
   "source": [
    "df_result.tail(10)"
   ]
  },
  {
   "cell_type": "markdown",
   "metadata": {
    "colab_type": "text",
    "id": "HoCm7-KB8Yon"
   },
   "source": [
    "#### PlotReportで書き出された画像データの読み込み\n",
    "\n",
    "保存されている損失のグラフを確認します。  \n",
    "画像の読み込みは`IPython`というライブラリを使用します。"
   ]
  },
  {
   "cell_type": "code",
   "execution_count": 0,
   "metadata": {
    "colab": {
     "base_uri": "https://localhost:8080/",
     "height": 381
    },
    "colab_type": "code",
    "executionInfo": {
     "elapsed": 8227,
     "status": "ok",
     "timestamp": 1545816476263,
     "user": {
      "displayName": "西沢衛",
      "photoUrl": "",
      "userId": "12011220225445512117"
     },
     "user_tz": -540
    },
    "id": "jBIsTdGAfE8K",
    "outputId": "46a4a293-d298-43c1-e84b-14fdb5a0dca5"
   },
   "outputs": [
    {
     "data": {
      "image/png": "[encoded data removed]",
      "text/plain": [
       "<IPython.core.display.Image object>"
      ]
     },
     "execution_count": 381,
     "metadata": {
      "tags": []
     },
     "output_type": "execute_result"
    }
   ],
   "source": [
    "from IPython.display import Image\n",
    "Image('results/iris_result1/loss.png')"
   ]
  },
  {
   "cell_type": "markdown",
   "metadata": {
    "colab_type": "text",
    "id": "HAbdXaHd9dtk"
   },
   "source": [
    "精度（正解率）のグラフも確認します。"
   ]
  },
  {
   "cell_type": "code",
   "execution_count": 0,
   "metadata": {
    "colab": {
     "base_uri": "https://localhost:8080/",
     "height": 381
    },
    "colab_type": "code",
    "executionInfo": {
     "elapsed": 8424,
     "status": "ok",
     "timestamp": 1545816476470,
     "user": {
      "displayName": "西沢衛",
      "photoUrl": "",
      "userId": "12011220225445512117"
     },
     "user_tz": -540
    },
    "id": "jy1R7Ph38Nbb",
    "outputId": "46d40def-38d1-4a76-ce8a-cc89c9b3d720"
   },
   "outputs": [
    {
     "data": {
      "image/png": "[encoded data removed]",
      "text/plain": [
       "<IPython.core.display.Image object>"
      ]
     },
     "execution_count": 382,
     "metadata": {
      "tags": []
     },
     "output_type": "execute_result"
    }
   ],
   "source": [
    "Image('results/iris_result1/accuracy.png')"
   ]
  },
  {
   "cell_type": "markdown",
   "metadata": {
    "colab_type": "text",
    "id": "5KcEjdE39sy5"
   },
   "source": [
    "#### 計算グラフの可視化\n",
    "\n",
    "`dump_graph`という`Extension`によって出力された計算グラフのファイルを可視化します。  \n",
    "\n",
    "`dot`ファイルと呼ばれる形式で保存されるこのファイルは`pydot`というモジュールを使用し、pngファイルに書き換えてから表示します。"
   ]
  },
  {
   "cell_type": "code",
   "execution_count": 0,
   "metadata": {
    "colab": {
     "base_uri": "https://localhost:8080/",
     "height": 637
    },
    "colab_type": "code",
    "executionInfo": {
     "elapsed": 8830,
     "status": "ok",
     "timestamp": 1545816476888,
     "user": {
      "displayName": "西沢衛",
      "photoUrl": "",
      "userId": "12011220225445512117"
     },
     "user_tz": -540
    },
    "id": "11YjoT7GyHY0",
    "outputId": "60ab4754-8ba3-4839-9a0b-b5e8262eca81"
   },
   "outputs": [
    {
     "data": {
      "image/png": "[encoded data removed]",
      "text/plain": [
       "<IPython.core.display.Image object>"
      ]
     },
     "execution_count": 383,
     "metadata": {
      "image/png": {
       "height": 600,
       "width": 600
      },
      "tags": []
     },
     "output_type": "execute_result"
    }
   ],
   "source": [
    "import pydot\n",
    "\n",
    "file = pydot.graph_from_dot_file('results/iris_result1/cg.dot')\n",
    "file[0].write_png('graph.png')\n",
    "Image('graph.png', width=600, height=600)"
   ]
  },
  {
   "cell_type": "markdown",
   "metadata": {
    "colab_type": "text",
    "id": "CZ_Ki9wvWCtX"
   },
   "source": [
    "## 学習時によく使用するオプション\n",
    "\n",
    "Chainerで学習を行う際には学習の効率をあげたり、精度がうまく上がるように様々な設定を行う事が可能です。  \n",
    "\n",
    "ここでは代表的なものをお伝えしていきます。 \n",
    "\n",
    "\n",
    "### Weight Decay（重み減衰）\n",
    "\n",
    "ニューラルネットワークをはじめとするディープラーニングではネットワークの自由度が大きな特徴です。  \n",
    "\n",
    "しかし、そのトレードオフとして、**過学習**が起きやすいというデメリットが存在します。  \n",
    "その問題に対してChainerでは様々な過学習対策の機能が設けられています。  \n",
    "主にこのような過学習対策の手法のことを**正則化（regularization）**と呼ぶことも覚えておきましょう。\n",
    "\n",
    "\n",
    "その代表的な物の1つが**Weight Decay（重み減衰）**と呼ばれる手法です。  \n",
    "\n",
    "実装はコードを1行追加するだけで行うことができます。  \n",
    "\n",
    "\n",
    "#### 重みの確認（1）\n",
    "\n",
    "その前に先ほど学習させた際のパラメータを確認しておきます。 \n",
    "\n",
    "\n"
   ]
  },
  {
   "cell_type": "code",
   "execution_count": 0,
   "metadata": {
    "colab": {
     "base_uri": "https://localhost:8080/",
     "height": 170
    },
    "colab_type": "code",
    "executionInfo": {
     "elapsed": 8819,
     "status": "ok",
     "timestamp": 1545816476888,
     "user": {
      "displayName": "西沢衛",
      "photoUrl": "",
      "userId": "12011220225445512117"
     },
     "user_tz": -540
    },
    "id": "JpbVxpanfFW_",
    "outputId": "f8db39ca-1468-4f2f-ff7b-8ebd2db2d657"
   },
   "outputs": [
    {
     "data": {
      "text/plain": [
       "array([-0.3218092 , -1.1117016 ,  0.31261572, -0.80102885, -0.5521917 ,\n",
       "        0.02608254, -0.3697815 ,  0.7715073 , -0.64642847,  0.13352543,\n",
       "       -0.01964141, -0.5840467 ,  0.25173435, -0.09953826,  0.3836526 ,\n",
       "        0.40678227,  1.0793246 ,  0.6600068 , -0.17028297, -0.11284753,\n",
       "        0.4983147 ,  0.32949618,  0.22268727, -0.84859324, -0.01216306,\n",
       "       -0.36901546,  0.1399623 , -0.04907519,  0.4499402 ,  0.15290214,\n",
       "        0.39645198, -0.23129939, -0.47222313, -0.20502485, -0.00851021,\n",
       "        0.18957587,  1.1311586 , -0.0213247 , -0.46412638, -0.16338891],\n",
       "      dtype=float32)"
      ]
     },
     "execution_count": 384,
     "metadata": {
      "tags": []
     },
     "output_type": "execute_result"
    }
   ],
   "source": [
    "# 前回の学習後のパラメータを確認\n",
    "f_weight1 = np.ndarray.flatten(model.predictor.fc1.W.array)\n",
    "f_weight1"
   ]
  },
  {
   "cell_type": "markdown",
   "metadata": {
    "colab_type": "text",
    "id": "NCVkLCOnNONn"
   },
   "source": [
    "重みは基本的に行列の形で保存されていますが、今回は図に描画するので`numpy.ndarray.flatten`を使用してベクトルに変換しています。\n",
    "\n",
    "図の描画には`seaborn`というモジュールを使用します。  \n",
    "詳細の使用方法については[公式ドキュメント](https://seaborn.pydata.org/)を確認して下さい。  \n",
    "基本的には`Matplotlib`のような図の描画パッケージです。  "
   ]
  },
  {
   "cell_type": "code",
   "execution_count": 0,
   "metadata": {
    "colab": {
     "base_uri": "https://localhost:8080/",
     "height": 368
    },
    "colab_type": "code",
    "executionInfo": {
     "elapsed": 9066,
     "status": "ok",
     "timestamp": 1545816477144,
     "user": {
      "displayName": "西沢衛",
      "photoUrl": "",
      "userId": "12011220225445512117"
     },
     "user_tz": -540
    },
    "id": "VFjzYRv4LDIu",
    "outputId": "60921fc8-88f3-4e83-cc3c-87be9f0bb61e"
   },
   "outputs": [
    {
     "data": {
      "text/plain": [
       "<matplotlib.axes._subplots.AxesSubplot at 0x7fe1fb1d0198>"
      ]
     },
     "execution_count": 385,
     "metadata": {
      "tags": []
     },
     "output_type": "execute_result"
    },
    {
     "data": {
      "image/png": "[encoded data removed]",
      "text/plain": [
       "<matplotlib.figure.Figure at 0x7fe1f84f5a20>"
      ]
     },
     "metadata": {
      "tags": []
     },
     "output_type": "display_data"
    }
   ],
   "source": [
    "import seaborn as sns\n",
    "# y軸とx軸の幅を固定\n",
    "sns.plt.ylim(0, 1)\n",
    "sns.plt.xlim(-3, 3)\n",
    "# ヒストグラムの描画\n",
    "sns.distplot(f_weight1)"
   ]
  },
  {
   "cell_type": "markdown",
   "metadata": {
    "colab_type": "text",
    "id": "a3zheqTHFGPk"
   },
   "source": [
    "では、`WeightDecay`を実装します。  \n",
    "データセットなどは先ほどと同様の物を使用します。  \n",
    "\n",
    "#### モデルの準備"
   ]
  },
  {
   "cell_type": "code",
   "execution_count": 0,
   "metadata": {
    "colab": {},
    "colab_type": "code",
    "id": "9--je6ggFYkR"
   },
   "outputs": [],
   "source": [
    "# モデルのインスタンス化\n",
    "np.random.seed(0)\n",
    "model = L.Classifier(NN())"
   ]
  },
  {
   "cell_type": "markdown",
   "metadata": {
    "colab_type": "text",
    "id": "MsWf339I2ni0"
   },
   "source": [
    "#### Iteratorの準備"
   ]
  },
  {
   "cell_type": "code",
   "execution_count": 0,
   "metadata": {
    "colab": {},
    "colab_type": "code",
    "id": "qNESp75Y2ni1"
   },
   "outputs": [],
   "source": [
    "from chainer import iterators\n",
    "batchsize = 32\n",
    "\n",
    "train_iter = iterators.SerialIterator(train, batchsize)\n",
    "valid_iter = iterators.SerialIterator(valid, batchsize, False, False)"
   ]
  },
  {
   "cell_type": "markdown",
   "metadata": {
    "colab_type": "text",
    "id": "s6GRp1UfGYIR"
   },
   "source": [
    "#### WeightDecayの適応\n",
    "\n",
    "`WeightDecay`は`optimizer`の定義を行う際に設定を行います。  \n",
    "\n",
    "下記のように`optimizer.add_hook(chainer.optimizer.WeightDecay())`で設定を行う事ができます。  \n",
    "\n",
    "引数には正則化の強さを決定する実数値を `1~0` の間で設定します。  \n",
    " \n",
    "一般的には`0.0005`辺りで設定する事が経験則的に多いです。  \n",
    "今回は変化を観測するために大きめの値で試行します。"
   ]
  },
  {
   "cell_type": "code",
   "execution_count": 0,
   "metadata": {
    "colab": {},
    "colab_type": "code",
    "id": "PA0j73jlF_qN"
   },
   "outputs": [],
   "source": [
    "optimizer = optimizers.SGD(lr=0.01).setup(model)\n",
    "\n",
    "# この１行を追加\n",
    "optimizer.add_hook(chainer.optimizer.WeightDecay(0.5))"
   ]
  },
  {
   "cell_type": "code",
   "execution_count": 0,
   "metadata": {
    "colab": {},
    "colab_type": "code",
    "id": "PSw7SIDmF6A_"
   },
   "outputs": [],
   "source": [
    "updater = training.StandardUpdater(train_iter, optimizer, device=-1) "
   ]
  },
  {
   "cell_type": "markdown",
   "metadata": {
    "colab_type": "text",
    "id": "BcxComA2IBa4"
   },
   "source": [
    "学習結果の保存先を先ほどの物と変更するために `result/iris_result2`を指定します。"
   ]
  },
  {
   "cell_type": "code",
   "execution_count": 0,
   "metadata": {
    "colab": {},
    "colab_type": "code",
    "id": "qeAY8IIJFHP4"
   },
   "outputs": [],
   "source": [
    "epoch = 10\n",
    "\n",
    "trainer = training.Trainer(updater, (epoch, 'epoch'), out='results/iris_result2')"
   ]
  },
  {
   "cell_type": "markdown",
   "metadata": {
    "colab_type": "text",
    "id": "qVy1W8bkIKtL"
   },
   "source": [
    "また、今回は特に必要ではない `Extension`は使用せずに学習を行います。\n"
   ]
  },
  {
   "cell_type": "code",
   "execution_count": 0,
   "metadata": {
    "colab": {},
    "colab_type": "code",
    "id": "5zWPgzU2FHV8"
   },
   "outputs": [],
   "source": [
    "from chainer.training import extensions\n",
    "\n",
    "trainer.extend(extensions.LogReport(trigger=(1, 'epoch'), log_name='log'))\n",
    "trainer.extend(extensions.Evaluator(valid_iter, model, device=-1), name='val')\n",
    "trainer.extend(extensions.PrintReport(['epoch', 'iteration', 'main/loss', 'main/accuracy', 'val/main/loss', 'val/main/accuracy', 'fc1/W/data/mean', 'elapsed_time']))"
   ]
  },
  {
   "cell_type": "code",
   "execution_count": 0,
   "metadata": {
    "colab": {
     "base_uri": "https://localhost:8080/",
     "height": 224
    },
    "colab_type": "code",
    "executionInfo": {
     "elapsed": 753,
     "status": "ok",
     "timestamp": 1545816675098,
     "user": {
      "displayName": "西沢衛",
      "photoUrl": "",
      "userId": "12011220225445512117"
     },
     "user_tz": -540
    },
    "id": "49Jm-GShFHbI",
    "outputId": "ed57f42a-c748-40de-c154-1c36a46b6679"
   },
   "outputs": [
    {
     "name": "stdout",
     "output_type": "stream",
     "text": [
      "epoch       iteration   main/loss   main/accuracy  val/main/loss  val/main/accuracy  fc1/W/data/mean  elapsed_time\n",
      "\u001b[J1           4           1.85215     0.351562       1.13946        0.418269                            0.0242297     \n",
      "\u001b[J2           7           1.17813     0.354167       1.12077        0.139423                            0.0417116     \n",
      "\u001b[J3           10          1.14645     0.177083       1.08977        0.139423                            0.0606939     \n",
      "\u001b[J4           14          1.09048     0.289062       1.11779        0.25601                             0.0810909     \n",
      "\u001b[J5           17          1.08219     0.15625        1.03663        0.603365                            0.0981233     \n",
      "\u001b[J6           20          1.04929     0.3125         1.04907        0.147837                            0.114652      \n",
      "\u001b[J7           23          1.04344     0.25           1.04223        0.147837                            0.131827      \n",
      "\u001b[J8           27          1.01829     0.289062       1.01079        0.0697115                           0.150993      \n",
      "\u001b[J9           30          1.00238     0.104167       1.00393        0.25601                             0.168306      \n",
      "\u001b[J10          33          0.995594    0.5625         0.979463       0.449519                            0.184457      \n"
     ]
    }
   ],
   "source": [
    "trainer.run()"
   ]
  },
  {
   "cell_type": "markdown",
   "metadata": {
    "colab_type": "text",
    "id": "iUd0NjK8Odnn"
   },
   "source": [
    "今回は正則化の値が大き過ぎたため学習がうまく進んでいない事が確認できます。  \n",
    "\n",
    "#### 重みの確認（2）\n",
    "\n",
    "では、どのように学習に変化が出ているの確認します。"
   ]
  },
  {
   "cell_type": "code",
   "execution_count": 0,
   "metadata": {
    "colab": {
     "base_uri": "https://localhost:8080/",
     "height": 170
    },
    "colab_type": "code",
    "executionInfo": {
     "elapsed": 656,
     "status": "ok",
     "timestamp": 1545816677844,
     "user": {
      "displayName": "西沢衛",
      "photoUrl": "",
      "userId": "12011220225445512117"
     },
     "user_tz": -540
    },
    "id": "QTr0HvmuIrIg",
    "outputId": "5ddec943-7fca-466a-f37e-d7b8a818dad5"
   },
   "outputs": [
    {
     "data": {
      "text/plain": [
       "array([-0.2727471 , -0.9422148 ,  0.26495525, -0.6789063 , -0.4680061 ,\n",
       "        0.02210607, -0.31340572,  0.6538854 , -0.54787594,  0.11316853,\n",
       "       -0.01664693, -0.49500465,  0.21275087, -0.0847857 ,  0.32589865,\n",
       "        0.34544048,  0.91543156,  0.5597122 , -0.1437772 , -0.09542628,\n",
       "        0.42217696,  0.27800623,  0.19124894, -0.7180649 , -0.01030872,\n",
       "       -0.31275642,  0.11862405, -0.04159333,  0.38149673,  0.12993504,\n",
       "        0.33546638, -0.1963119 , -0.4002293 , -0.17376733, -0.00721276,\n",
       "        0.1606737 ,  0.95964533, -0.0171338 , -0.394459  , -0.13927409],\n",
       "      dtype=float32)"
      ]
     },
     "execution_count": 420,
     "metadata": {
      "tags": []
     },
     "output_type": "execute_result"
    }
   ],
   "source": [
    "# 学習後のパラメータの確認\n",
    "f_weight2 = np.ndarray.flatten(model.predictor.fc1.W.array)\n",
    "f_weight2"
   ]
  },
  {
   "cell_type": "code",
   "execution_count": 0,
   "metadata": {
    "colab": {
     "base_uri": "https://localhost:8080/",
     "height": 368
    },
    "colab_type": "code",
    "executionInfo": {
     "elapsed": 873,
     "status": "ok",
     "timestamp": 1545816679942,
     "user": {
      "displayName": "西沢衛",
      "photoUrl": "",
      "userId": "12011220225445512117"
     },
     "user_tz": -540
    },
    "id": "QIRQqRSUFHg9",
    "outputId": "01437bcb-9e7c-44d2-d1db-0f09e78007ae"
   },
   "outputs": [
    {
     "data": {
      "text/plain": [
       "<matplotlib.axes._subplots.AxesSubplot at 0x7fe1fb0751d0>"
      ]
     },
     "execution_count": 421,
     "metadata": {
      "tags": []
     },
     "output_type": "execute_result"
    },
    {
     "data": {
      "image/png": "[encoded data removed]",
      "text/plain": [
       "<matplotlib.figure.Figure at 0x7fe1f85e2470>"
      ]
     },
     "metadata": {
      "tags": []
     },
     "output_type": "display_data"
    }
   ],
   "source": [
    "# 学習後のパラメータの可視化\n",
    "sns.plt.ylim(0, 1)\n",
    "sns.plt.xlim(-3, 3)\n",
    "sns.distplot(f_weight2)"
   ]
  },
  {
   "cell_type": "markdown",
   "metadata": {
    "colab_type": "text",
    "id": "2d8bwIvaO9Qh"
   },
   "source": [
    "`WeightDecay` の追加により重みの更新の幅が小さくなっている事が上記のヒストグラムから確認する事ができます。  \n",
    "\n",
    "過学習が発生を抑制する1つの手法という事を抑えておきましょう。\n",
    "\n",
    "\n",
    "### GradientClipping（勾配クリッピング）\n",
    "\n",
    "`GradientClipping`は「勾配（Gradiant）の爆発」と呼ばれる問題に対して用いられる手法になります。  \n",
    "\n",
    "主に時系列データに対する手法である`LSTM`などを使用する際に主に用いられます。  \n",
    "\n",
    "簡単に説明すると、損失関数の勾配が大き過ぎる場合にパラメータの更新がうまくいかないケースを避けるために `GradientClipping`を用います。  \n",
    "\n",
    "\n",
    "![勾配の爆発](images/ex_02.png)\n",
    "\n",
    "\n",
    "基本的な最適化の手法ではパラメータの更新の際に勾配を利用します。  \n",
    "利用した勾配が大き過ぎた場合（勾配が崖のように垂直になっている場合など）では次のパラメータの更新される値は大きくなり過ぎることがあります。（この現象を「勾配の爆発」と呼びます。）\n",
    "\n",
    "そういった状況に対して、パラメータの更新をある閾値以上大きくならないように抑制するのがこの`GradientClipping`にあたります。  \n",
    "\n",
    "GradientClippingでは勾配に対してある「閾値」（threshold）を決定します。  \n",
    "そして、その勾配がもし、閾値が大きい場合は勾配の大きさがその閾値より小さくなるように変化させます。    \n",
    "\n",
    "また、Chainerでは閾値より大きな勾配の調整には、L2ノルムが使用されています。  \n",
    "数式では下記のように表す事が可能です。  \n",
    "\n",
    "\\begin{align}\n",
    "\\varepsilon = threshold \\\\\n",
    "1. \\quad & \\hat{g} \\leftarrow \\frac{\\partial \\mathcal{L}}{\\partial w} \\\\\n",
    "2. \\quad & if \\quad ||\\hat{g}|| \\geqq \\varepsilon \\quad then \\\\\n",
    "& \\qquad \\hat{g} \\leftarrow \\frac{\\varepsilon}{||\\hat{g}||} \\hat{g} \\\\\n",
    "&   end if\n",
    "\\end{align}\n",
    "\n",
    "\n",
    "Chainerの[公式のドキュメント](https://docs.chainer.org/en/stable/reference/generated/chainer.optimizer_hooks.GradientClipping.html#chainer.optimizer_hooks.GradientClipping)はこちらになります。  \n",
    "\n",
    "早速実装方法を確認します。  \n",
    "\n",
    "まずは比較対象として先ほどの勾配の値を確認します。  \n",
    "\n",
    "初めの結果を保存した`result1`の`Extensions`には`PlotReport`で可視化できるように保存していました。"
   ]
  },
  {
   "cell_type": "code",
   "execution_count": 0,
   "metadata": {
    "colab": {
     "base_uri": "https://localhost:8080/",
     "height": 381
    },
    "colab_type": "code",
    "executionInfo": {
     "elapsed": 705,
     "status": "ok",
     "timestamp": 1545816687357,
     "user": {
      "displayName": "西沢衛",
      "photoUrl": "",
      "userId": "12011220225445512117"
     },
     "user_tz": -540
    },
    "id": "x1wG2tpxptrS",
    "outputId": "d4f774bb-81db-4982-8698-34d08028ed95"
   },
   "outputs": [
    {
     "data": {
      "image/png": "[encoded data removed]",
      "text/plain": [
       "<IPython.core.display.Image object>"
      ]
     },
     "execution_count": 422,
     "metadata": {
      "tags": []
     },
     "output_type": "execute_result"
    }
   ],
   "source": [
    "# グラフで可視化\n",
    "Image('results/iris_result1/mean.png')"
   ]
  },
  {
   "cell_type": "code",
   "execution_count": 0,
   "metadata": {
    "colab": {
     "base_uri": "https://localhost:8080/",
     "height": 34
    },
    "colab_type": "code",
    "executionInfo": {
     "elapsed": 561,
     "status": "ok",
     "timestamp": 1545816688785,
     "user": {
      "displayName": "西沢衛",
      "photoUrl": "",
      "userId": "12011220225445512117"
     },
     "user_tz": -540
    },
    "id": "ApCDQlhQx0up",
    "outputId": "d9caba2e-1259-49b8-c8c1-de6f4dd0fc50"
   },
   "outputs": [
    {
     "data": {
      "text/plain": [
       "0.012403195567215638"
      ]
     },
     "execution_count": 423,
     "metadata": {
      "tags": []
     },
     "output_type": "execute_result"
    }
   ],
   "source": [
    "# 数値（平均値）で確認\n",
    "with open('results/iris_result1/log') as f:\n",
    "  df = pd.DataFrame(json.load(f))\n",
    "df['fc1/W/grad/mean'].mean()"
   ]
  },
  {
   "cell_type": "markdown",
   "metadata": {
    "colab_type": "text",
    "id": "qBDjO2CuSv0e"
   },
   "source": [
    "では、この勾配の値がGradientClipping実装後にどのように変化するのか確認します。  \n",
    "\n",
    "今回もデータセットなどは先ほどと同様の物を使用します。  \n",
    "\n",
    "\n",
    "#### モデルの準備"
   ]
  },
  {
   "cell_type": "code",
   "execution_count": 0,
   "metadata": {
    "colab": {},
    "colab_type": "code",
    "id": "3WeLCBOnkSOj"
   },
   "outputs": [],
   "source": [
    "# モデルのインスタンス化\n",
    "np.random.seed(0)\n",
    "model = L.Classifier(NN())"
   ]
  },
  {
   "cell_type": "markdown",
   "metadata": {
    "colab_type": "text",
    "id": "YBgBeXrs2u69"
   },
   "source": [
    "#### Iteratorの準備"
   ]
  },
  {
   "cell_type": "code",
   "execution_count": 0,
   "metadata": {
    "colab": {},
    "colab_type": "code",
    "id": "RT6Rj4Vm2u69"
   },
   "outputs": [],
   "source": [
    "from chainer import iterators\n",
    "batchsize = 32\n",
    "\n",
    "train_iter = iterators.SerialIterator(train, batchsize)\n",
    "valid_iter = iterators.SerialIterator(valid, batchsize, False, False)"
   ]
  },
  {
   "cell_type": "markdown",
   "metadata": {
    "colab_type": "text",
    "id": "Mz9AhqcHkSOm"
   },
   "source": [
    "#### GradientClippingの適応\n",
    "\n",
    "`GradientClipping`も先ほどの`WeightDecay`と同様に`optimizer`の定義を行う際に設定を行います。  \n",
    "\n",
    "下記のように`optimizer.add_hook(chainer.optimizer.GradientClipping())`で設定を行う事ができます。 \n",
    "\n",
    "`()`内には「閾値」に当たる実数値を入れます。  \n",
    "前回の勾配の平均が0.012あたりだったのでそのあたりに設定して、うまく勾配の大きさを抑制出来ているか確認します。  \n",
    "\n",
    "（今回は勾配の大きさには問題ないため、実際にはGradientClippingを行う必要はありません。）"
   ]
  },
  {
   "cell_type": "code",
   "execution_count": 0,
   "metadata": {
    "colab": {},
    "colab_type": "code",
    "id": "BdkC0VHQkSOm"
   },
   "outputs": [],
   "source": [
    "optimizer = optimizers.SGD(lr=0.01).setup(model)\n",
    "\n",
    "# この１行を追加\n",
    "optimizer.add_hook(chainer.optimizer.GradientClipping(0.006))"
   ]
  },
  {
   "cell_type": "code",
   "execution_count": 0,
   "metadata": {
    "colab": {},
    "colab_type": "code",
    "id": "eSvBEag2kSOq"
   },
   "outputs": [],
   "source": [
    "updater = training.StandardUpdater(train_iter, optimizer, device=-1) "
   ]
  },
  {
   "cell_type": "markdown",
   "metadata": {
    "colab_type": "text",
    "id": "nP3YgXppkSOt"
   },
   "source": [
    "学習結果の保存先を先ほどの物と変更するために`result/iris_result3`を指定します。"
   ]
  },
  {
   "cell_type": "code",
   "execution_count": 0,
   "metadata": {
    "colab": {},
    "colab_type": "code",
    "id": "328tDTKCkSOu"
   },
   "outputs": [],
   "source": [
    "epoch = 10\n",
    "\n",
    "trainer = training.Trainer(updater, (epoch, 'epoch'), out='results/iris_result3')"
   ]
  },
  {
   "cell_type": "markdown",
   "metadata": {
    "colab_type": "text",
    "id": "1pbH7hNAkSOv"
   },
   "source": [
    "#### Extensionの設定\n",
    "\n",
    "今回は勾配のデータを取得する`Extension`を入れておきます。\n"
   ]
  },
  {
   "cell_type": "code",
   "execution_count": 0,
   "metadata": {
    "colab": {},
    "colab_type": "code",
    "id": "Lc52fwKRkSOv"
   },
   "outputs": [],
   "source": [
    "from chainer.training import extensions\n",
    "\n",
    "trainer.extend(extensions.LogReport(trigger=(1, 'epoch'), log_name='log'))\n",
    "trainer.extend(extensions.Evaluator(valid_iter, model, device=-1), name='val')\n",
    "trainer.extend(extensions.PrintReport(['epoch', 'iteration', 'main/loss', 'main/accuracy', 'val/main/loss', 'val/main/accuracy', 'fc1/W/data/mean', 'elapsed_time']))\n",
    "trainer.extend(extensions.ParameterStatistics(model.predictor.fc1, {'mean': np.mean}, report_grads=True))\n",
    "trainer.extend(extensions.PlotReport(['fc1/W/grad/mean'], x_key='epoch', file_name='mean.png'))"
   ]
  },
  {
   "cell_type": "code",
   "execution_count": 0,
   "metadata": {
    "colab": {
     "base_uri": "https://localhost:8080/",
     "height": 224
    },
    "colab_type": "code",
    "executionInfo": {
     "elapsed": 2197,
     "status": "ok",
     "timestamp": 1545816707123,
     "user": {
      "displayName": "西沢衛",
      "photoUrl": "",
      "userId": "12011220225445512117"
     },
     "user_tz": -540
    },
    "id": "0C1G8ZsEkSOw",
    "outputId": "3be3a88b-983d-45ac-d8e1-87bf08398461"
   },
   "outputs": [
    {
     "name": "stdout",
     "output_type": "stream",
     "text": [
      "epoch       iteration   main/loss   main/accuracy  val/main/loss  val/main/accuracy  fc1/W/data/mean  elapsed_time\n",
      "\u001b[J1           4           2.6462      0.351562       2.3995         0.379808           0.00224738       0.0237716     \n",
      "\u001b[J2           7           2.89663     0.270833       2.3978         0.379808           0.00224356       0.183379      \n",
      "\u001b[J3           10          2.73068     0.3125         2.39616        0.379808           0.0022403        0.342827      \n",
      "\u001b[J4           14          2.90402     0.296875       2.39396        0.379808           0.00223654       0.516088      \n",
      "\u001b[J5           17          2.48445     0.34375        2.39227        0.379808           0.00223275       0.680775      \n",
      "\u001b[J6           20          2.81373     0.333333       2.39062        0.379808           0.00222939       0.848526      \n",
      "\u001b[J7           23          2.86867     0.28125        2.38895        0.379808           0.00222608       1.01432       \n",
      "\u001b[J8           27          2.78171     0.304688       2.38671        0.379808           0.00222217       1.18377       \n",
      "\u001b[J9           30          2.75939     0.3125         2.38504        0.379808           0.00221838       1.35266       \n",
      "\u001b[J10          33          2.5963      0.354167       2.38338        0.379808           0.00221498       1.5261        \n"
     ]
    }
   ],
   "source": [
    "trainer.run()"
   ]
  },
  {
   "cell_type": "markdown",
   "metadata": {
    "colab_type": "text",
    "id": "NIfuPVpM0V8c"
   },
   "source": [
    "#### 結果の確認\n",
    "\n",
    "先ほどと同様に各エポック毎の勾配の平均で確認します。"
   ]
  },
  {
   "cell_type": "code",
   "execution_count": 0,
   "metadata": {
    "colab": {
     "base_uri": "https://localhost:8080/",
     "height": 383
    },
    "colab_type": "code",
    "executionInfo": {
     "elapsed": 764,
     "status": "ok",
     "timestamp": 1545816709134,
     "user": {
      "displayName": "西沢衛",
      "photoUrl": "",
      "userId": "12011220225445512117"
     },
     "user_tz": -540
    },
    "id": "zAM0dXnEz3As",
    "outputId": "bd489757-c31c-453d-8c0f-7969e538856d"
   },
   "outputs": [
    {
     "data": {
      "image/png": "[encoded data removed]",
      "text/plain": [
       "<IPython.core.display.Image object>"
      ]
     },
     "execution_count": 435,
     "metadata": {
      "tags": []
     },
     "output_type": "execute_result"
    }
   ],
   "source": [
    "# グラフで可視化\n",
    "Image('results/iris_result3/mean.png')"
   ]
  },
  {
   "cell_type": "code",
   "execution_count": 0,
   "metadata": {
    "colab": {
     "base_uri": "https://localhost:8080/",
     "height": 34
    },
    "colab_type": "code",
    "executionInfo": {
     "elapsed": 490,
     "status": "ok",
     "timestamp": 1545816709352,
     "user": {
      "displayName": "西沢衛",
      "photoUrl": "",
      "userId": "12011220225445512117"
     },
     "user_tz": -540
    },
    "id": "Eha6fastv0pB",
    "outputId": "7bfcc9e0-9aff-4ef6-de23-7a08ebfeb0f7"
   },
   "outputs": [
    {
     "data": {
      "text/plain": [
       "0.00010946703193136878"
      ]
     },
     "execution_count": 436,
     "metadata": {
      "tags": []
     },
     "output_type": "execute_result"
    }
   ],
   "source": [
    "# 数値（平均値）で確認\n",
    "with open('results/iris_result3/log') as f:\n",
    "  df = pd.DataFrame(json.load(f))\n",
    "df['fc1/W/grad/mean'].mean()"
   ]
  },
  {
   "cell_type": "markdown",
   "metadata": {
    "colab_type": "text",
    "id": "xzaG0Gp6xN5Q"
   },
   "source": [
    "「GradientClippingの適応」で設定した閾値より勾配が小さくなっていることが確認できます。  \n",
    "今回は勾配がもともと大きくなかったため、あまりどのような効果が期待できるか明確にはなっていないと思います。  \n",
    "\n",
    "しかし、時系列データを取り扱う際には重要な手法の一つになるので覚えておいてください。\n",
    "\n",
    "\n",
    "### ExponentialShift\n",
    "\n",
    "先ほどまでは学習をうまく進め、精度を向上させる方法を伝えてきました。  \n",
    "\n",
    "続いては学習の効率化を行う方法をお伝えします。  \n",
    "\n",
    "まず1つ目は`ExponentialShift`と呼ばれる手法です。  \n",
    "こちらは`Learning Rate`（学習係数）の値を学習中に変化させる事によって、学習を効率化するものです。  \n",
    "一般的に学習の初めはパラメータを大きく更新したいというモチベーションが存在します。（学び始めで吸収する事が多いイメージ）  \n",
    "そして、学習が進むにつれ、パラメータの更新は小さい方がいいというモチベーションがあります。（学習を収束に持っていくため）  \n",
    "\n",
    "![ExponentialShift](images/ex_03.png)\n",
    "\n",
    "※こちらの画像はあくまでイメージになります。\n",
    "\n",
    "では、実装方法を確認しましょう。  \n",
    "今回もデータセットなどは先ほどと同様の物を使用します。  \n",
    "\n",
    "\n",
    "#### モデルの準備"
   ]
  },
  {
   "cell_type": "code",
   "execution_count": 0,
   "metadata": {
    "colab": {},
    "colab_type": "code",
    "id": "_uSwonon8HLw"
   },
   "outputs": [],
   "source": [
    "# モデルのインスタンス化\n",
    "np.random.seed(0)\n",
    "model = L.Classifier(NN())"
   ]
  },
  {
   "cell_type": "markdown",
   "metadata": {
    "colab_type": "text",
    "id": "nKqG-o3J8HLy"
   },
   "source": [
    "#### Iteratorの準備"
   ]
  },
  {
   "cell_type": "code",
   "execution_count": 0,
   "metadata": {
    "colab": {},
    "colab_type": "code",
    "id": "IqRJUm_M8HLy"
   },
   "outputs": [],
   "source": [
    "from chainer import iterators\n",
    "batchsize = 32\n",
    "\n",
    "train_iter = iterators.SerialIterator(train, batchsize)\n",
    "valid_iter = iterators.SerialIterator(valid, batchsize, False, False)"
   ]
  },
  {
   "cell_type": "markdown",
   "metadata": {
    "colab_type": "text",
    "id": "_IfavHAY8HL0"
   },
   "source": [
    "#### Optimizer&Updater&Trainerの準備"
   ]
  },
  {
   "cell_type": "code",
   "execution_count": 0,
   "metadata": {
    "colab": {},
    "colab_type": "code",
    "id": "ldbOMztU8HL1"
   },
   "outputs": [],
   "source": [
    "optimizer = optimizers.SGD(lr=0.01).setup(model)"
   ]
  },
  {
   "cell_type": "code",
   "execution_count": 0,
   "metadata": {
    "colab": {},
    "colab_type": "code",
    "id": "bM_N31Dw8HL4"
   },
   "outputs": [],
   "source": [
    "updater = training.StandardUpdater(train_iter, optimizer, device=-1) "
   ]
  },
  {
   "cell_type": "markdown",
   "metadata": {
    "colab_type": "text",
    "id": "LiTGxi-48HL6"
   },
   "source": [
    "学習結果の保存先を先ほどの物と変更するために `result/iris_result4` を指定します。"
   ]
  },
  {
   "cell_type": "code",
   "execution_count": 0,
   "metadata": {
    "colab": {},
    "colab_type": "code",
    "id": "l8whXWNb8HL6"
   },
   "outputs": [],
   "source": [
    "epoch = 10\n",
    "\n",
    "trainer = training.Trainer(updater, (epoch, 'epoch'), out='results/iris_result4')"
   ]
  },
  {
   "cell_type": "markdown",
   "metadata": {
    "colab_type": "text",
    "id": "noRXN7te8HL7"
   },
   "source": [
    "#### ExponentialShiftの設定（1）\n",
    "\n",
    "`ExponentialShift`の設定は`Extension`の中で行うことができます。  \n",
    "\n",
    "また`Learning Rate`の変化も`Extension`で設定を加えることによって、`LogReport`で記録することができます。"
   ]
  },
  {
   "cell_type": "code",
   "execution_count": 0,
   "metadata": {
    "colab": {},
    "colab_type": "code",
    "id": "s4eCYZdE8HL7"
   },
   "outputs": [],
   "source": [
    "from chainer.training import extensions\n",
    "\n",
    "trainer.extend(extensions.LogReport(trigger=(1, 'epoch'), log_name='log'))\n",
    "trainer.extend(extensions.Evaluator(valid_iter, model, device=-1), name='val')\n",
    "trainer.extend(extensions.ParameterStatistics(model.predictor.fc1, {'mean': np.mean}, report_grads=True))\n",
    "trainer.extend(extensions.PlotReport(['fc1/W/grad/mean'], x_key='epoch', file_name='mean.png'))\n",
    "\n",
    "# Learning　Rateの表示設定\n",
    "trainer.extend(extensions.observe_lr(), trigger=(1, 'epoch'))\n",
    "\n",
    "# ExponentialShiftの設定\n",
    "trainer.extend(extensions.ExponentialShift('lr', 0.1), trigger=(3, 'epoch'))\n",
    "\n",
    "# lrを追加してPrintReportに表示\n",
    "trainer.extend(extensions.PrintReport(['lr', 'epoch', 'iteration', 'main/loss', 'main/accuracy', 'val/main/loss', 'val/main/accuracy', 'fc1/W/data/mean', 'elapsed_time']))"
   ]
  },
  {
   "cell_type": "code",
   "execution_count": 0,
   "metadata": {
    "colab": {
     "base_uri": "https://localhost:8080/",
     "height": 224
    },
    "colab_type": "code",
    "executionInfo": {
     "elapsed": 4271,
     "status": "ok",
     "timestamp": 1545818490334,
     "user": {
      "displayName": "西沢衛",
      "photoUrl": "",
      "userId": "12011220225445512117"
     },
     "user_tz": -540
    },
    "id": "ht77xvfw8HL9",
    "outputId": "97fd0ef2-1048-4ee2-b925-7cfede868572"
   },
   "outputs": [
    {
     "name": "stdout",
     "output_type": "stream",
     "text": [
      "lr          epoch       iteration   main/loss   main/accuracy  val/main/loss  val/main/accuracy  fc1/W/data/mean  elapsed_time\n",
      "\u001b[J0.01        1           4           1.86342     0.351562       1.14422        0.418269           -0.000827843     0.0174584     \n",
      "\u001b[J0.01        2           7           1.18351     0.333333       1.1294         0.123798           -0.00185479      0.15973       \n",
      "\u001b[J0.01        3           10          1.15922     0.197917       1.09067        0.139423           -0.00205794      0.313431      \n",
      "\u001b[J0.001       4           14          1.10379     0.1875         1.09343        0.0853365          -0.00210788      0.46856       \n",
      "\u001b[J0.001       5           17          1.08565     0.177083       1.08601        0.139423           -0.00211969      0.635945      \n",
      "\u001b[J0.001       6           20          1.09983     0.114583       1.08701        0.0853365          -0.00212893      0.815886      \n",
      "\u001b[J0.0001      7           23          1.09167     0.135417       1.08696        0.0853365          -0.00213616      0.995636      \n",
      "\u001b[J0.0001      8           27          1.08945     0.125          1.08671        0.0853365          -0.00213733      1.18067       \n",
      "\u001b[J0.0001      9           30          1.08733     0.135417       1.08659        0.0853365          -0.00213796      1.36565       \n",
      "\u001b[J1e-05       10          33          1.08613     0.104167       1.08655        0.0853365          -0.00213853      1.55337       \n"
     ]
    }
   ],
   "source": [
    "trainer.run()"
   ]
  },
  {
   "cell_type": "markdown",
   "metadata": {
    "colab_type": "text",
    "id": "369U5a6228xn"
   },
   "source": [
    "`lr`の値が変化していることを確認できます。  \n",
    "\n",
    "`trainer.extend(extensions.ExponentialShift('lr', 0.1), trigger=(3, 'epoch'))`  \n",
    "このように設定の中身を確認してみましょう。  \n",
    "まず初めの`('lr', 0.1)`で「学習率を0.1倍にする」と設定しています。  \n",
    "\n",
    "次の`trigger=(3, 'epoch')`で「3epoch毎に」という先ほどの変化を実行するタイミングを設定しています。  \n",
    "（`epoch`の部分は`iteration`を指定することも可能です。）  \n",
    "\n",
    "\n",
    "#### ExponentialShiftの設定（2）\n",
    "\n",
    "`ExponentialShift`の設定方法はもう一つあります。  \n",
    "先ほどは「〇〇epoch **毎** 」となっていました。  \n",
    "ですが、状況によっては **特定のタイミング** を指定する必要があるかもしれません。  \n",
    "\n",
    "その場合の指定方法は下記で実行できます。\n",
    "\n",
    "```python\n",
    "\n",
    "trainer.extend(extensions.ExponentialShift('lr', 0.1), trigger=triggers.ManualScheduleTrigger([1,3,6],'epoch'))\n",
    "\n",
    "```\n",
    "\n",
    "`trigger`の指定を変更することによって指定する事ができます。  \n",
    "`triggers.ManualScheduleTrigger([1,3,6],'epoch'`  \n",
    "\n",
    "こちらのコードは「1, 3, 6epoch目に」というタイミングの指定になります。  \n",
    "\n",
    "\n",
    "### EarlyStopping\n",
    "\n",
    "`EarlyStopping`は「早期終了」という意味合いです。  \n",
    "この`EarlyStopping`も学習の効率をあげる手法の一つです。  \n",
    "\n",
    "学習がうまくいかない場合に、学習を完了する前に終了するというものです。  \n",
    "\n",
    "詳細は[公式ドキュメント](https://docs.chainer.org/en/stable/reference/generated/chainer.training.triggers.EarlyStoppingTrigger.html)を確認してください。  \n",
    "\n",
    "では、実装方法を確認します。  \n",
    "\n",
    "\n",
    "#### モデルの準備"
   ]
  },
  {
   "cell_type": "code",
   "execution_count": 0,
   "metadata": {
    "colab": {},
    "colab_type": "code",
    "id": "MElvCIgTDUo-"
   },
   "outputs": [],
   "source": [
    "# モデルのインスタンス化\n",
    "np.random.seed(0)\n",
    "model = L.Classifier(NN())"
   ]
  },
  {
   "cell_type": "markdown",
   "metadata": {
    "colab_type": "text",
    "id": "6R7BPUtrDUpC"
   },
   "source": [
    "#### Iteratorの準備"
   ]
  },
  {
   "cell_type": "code",
   "execution_count": 0,
   "metadata": {
    "colab": {},
    "colab_type": "code",
    "id": "aW6YbjPwDUpC"
   },
   "outputs": [],
   "source": [
    "from chainer import iterators\n",
    "batchsize = 32\n",
    "\n",
    "train_iter = iterators.SerialIterator(train, batchsize)\n",
    "valid_iter = iterators.SerialIterator(valid, batchsize, False, False)"
   ]
  },
  {
   "cell_type": "markdown",
   "metadata": {
    "colab_type": "text",
    "id": "OzJEkj3tDUpE"
   },
   "source": [
    "#### Optimizer&Updater&Trainerの準備"
   ]
  },
  {
   "cell_type": "code",
   "execution_count": 0,
   "metadata": {
    "colab": {},
    "colab_type": "code",
    "id": "yKUElc53DUpE"
   },
   "outputs": [],
   "source": [
    "# 今回は学習をうまく進めないために、学習係数を大きめに設定しておきます。\n",
    "optimizer = optimizers.SGD(lr=0.1).setup(model)"
   ]
  },
  {
   "cell_type": "code",
   "execution_count": 0,
   "metadata": {
    "colab": {},
    "colab_type": "code",
    "id": "lRseUab1DUpF"
   },
   "outputs": [],
   "source": [
    "updater = training.StandardUpdater(train_iter, optimizer, device=-1) "
   ]
  },
  {
   "cell_type": "markdown",
   "metadata": {
    "colab_type": "text",
    "id": "MkvEWrmSEUQK"
   },
   "source": [
    "#### EarlyStoppingの設定\n",
    "\n",
    "`EarlyStopping`の設定は`Trainer`に設定することです。  \n",
    "\n",
    "`Trainer`に`stop_trigger`という引数を渡すことによって、設定できます。  \n",
    "\n",
    "`EarlyStopping`の設定には`triggers.EarlyStoppingTrigger(moniter= , check_trigger=)`  \n",
    "\n",
    "`moniter`ではどのメトリックを元に評価するかを決定する引数になります。  \n",
    "`check_trigger`は`moniter`で設定した評価するメトリックをチェックするタイミングを指定する引数になります。  \n",
    "`max_trigger`は先ほどまで`Trainer`で設定していた、「どのタイミングで学習を終了させるか」というものになります。  \n",
    "\n",
    "\n",
    "そのほかにも`patients`という引数に整数値を与えることで、`EarlyStopping`の発火しやすさをコントロールすることなどが可能です。\n",
    "\n",
    "その他の設定に関しては[公式ドキュメント](https://docs.chainer.org/en/stable/reference/generated/chainer.training.triggers.EarlyStoppingTrigger.html)を確認してください。  \n"
   ]
  },
  {
   "cell_type": "code",
   "execution_count": 0,
   "metadata": {
    "colab": {},
    "colab_type": "code",
    "id": "u6mR58z4EjxX"
   },
   "outputs": [],
   "source": [
    "stop_trigger = chainer.training.triggers.EarlyStoppingTrigger(monitor='val/main/loss', check_trigger =(1, 'epoch'), patients=3, max_trigger=(30, 'epoch'))"
   ]
  },
  {
   "cell_type": "markdown",
   "metadata": {
    "colab_type": "text",
    "id": "-7T3QNyPDUpI"
   },
   "source": [
    "上記で定義した `stop_trigger` を `Trainer` に渡します。  \n",
    "\n",
    "また、学習結果の保存先を先ほどの物と変更するために `result/iris_result5` を指定します。 "
   ]
  },
  {
   "cell_type": "code",
   "execution_count": 0,
   "metadata": {
    "colab": {},
    "colab_type": "code",
    "id": "UCXKZuDpDUpJ"
   },
   "outputs": [],
   "source": [
    "trainer = training.Trainer(updater, stop_trigger, out='results/iris_result5')"
   ]
  },
  {
   "cell_type": "markdown",
   "metadata": {
    "colab_type": "text",
    "id": "EecK7zrvDUpJ"
   },
   "source": [
    "#### Extensionの設定\n",
    "\n",
    "見た目を整える為、必要最低限の `Extension`  で学習を行います。"
   ]
  },
  {
   "cell_type": "code",
   "execution_count": 0,
   "metadata": {
    "colab": {},
    "colab_type": "code",
    "id": "2Ef32HVUDUpJ"
   },
   "outputs": [],
   "source": [
    "from chainer.training import extensions\n",
    "\n",
    "trainer.extend(extensions.LogReport(trigger=(1, 'epoch'), log_name='log'))\n",
    "trainer.extend(extensions.Evaluator(valid_iter, model, device=-1), name='val')\n",
    "trainer.extend(extensions.PrintReport(['epoch', 'main/loss', 'main/accuracy', 'val/main/loss', 'val/main/accuracy', 'elapsed_time']))"
   ]
  },
  {
   "cell_type": "code",
   "execution_count": 0,
   "metadata": {
    "colab": {
     "base_uri": "https://localhost:8080/",
     "height": 255
    },
    "colab_type": "code",
    "executionInfo": {
     "elapsed": 637,
     "status": "ok",
     "timestamp": 1545822756338,
     "user": {
      "displayName": "西沢衛",
      "photoUrl": "",
      "userId": "12011220225445512117"
     },
     "user_tz": -540
    },
    "id": "04fZtVhUDUpL",
    "outputId": "1dbab15b-f56e-4b85-e886-cc0523f9f397"
   },
   "outputs": [
    {
     "name": "stdout",
     "output_type": "stream",
     "text": [
      "epoch       main/loss   main/accuracy  val/main/loss  val/main/accuracy  elapsed_time\n",
      "\u001b[J1           2.50593     0.398438       0.784236       0.74399            0.0216446     \n",
      "\u001b[J2           0.785771    0.583333       0.679537       0.635817           0.0393809     \n",
      "\u001b[J3           0.69771     0.635417       0.716272       0.635817           0.0580118     \n",
      "\u001b[J4           0.610174    0.695312       0.577789       0.635817           0.0773776     \n",
      "\u001b[J5           0.694001    0.5625         0.493339       0.74399            0.0936134     \n",
      "\u001b[J6           0.482395    0.75           0.432176       0.783654           0.111694      \n",
      "\u001b[J7           0.45558     0.864583       0.483449       0.635817           0.126935      \n",
      "\u001b[J8           0.495235    0.710938       0.84161        0.620192           0.144812      \n",
      "\u001b[J9           0.60645     0.604167       0.380929       0.876202           0.162363      \n",
      "\u001b[J10          0.365548    0.90625        0.33407        0.914663           0.17922       \n",
      "\u001b[J11          0.375977    0.898438       0.644668       0.635817           0.199764      \n",
      "\u001b[J12          0.811237    0.5625         0.373722       0.74399            0.216111      \n",
      "\u001b[J13          0.375374    0.84375        0.407725       0.74399            0.233202      \n"
     ]
    }
   ],
   "source": [
    "trainer.run()"
   ]
  },
  {
   "cell_type": "markdown",
   "metadata": {
    "colab_type": "text",
    "id": "apa_ayGy29Eb"
   },
   "source": [
    "今回最大epoch数は30を指定していましたが、13で停止しました。  \n",
    "\n",
    "うまく`EarlyStopping`を実装できていることが確認できました。  \n",
    "\n",
    "このように`EarlyStopping`を実行する事によって、効率よく学習を進めることができました。  \n",
    "本章は前章までのニューラルネットワークの実装方法をさらに簡易に、便利にするための方法をお伝えしました。  \n",
    "自身で実装する際にはぜひ活用してみてください。  \n",
    "\n",
    "次章では画像処理の基礎的な内容について解説します。  "
   ]
  }
 ],
 "metadata": {
  "colab": {
   "collapsed_sections": [],
   "name": "9_Trainerの中の解説 （Config, Concat, WeightDecay, ExponentialShift, Updater, Iterator）.ipynb",
   "provenance": [],
   "version": "0.3.2"
  },
  "kernelspec": {
   "display_name": "Python 3",
   "language": "python",
   "name": "python3"
  },
  "language_info": {
   "codemirror_mode": {
    "name": "ipython",
    "version": 3
   },
   "file_extension": ".py",
   "mimetype": "text/x-python",
   "name": "python",
   "nbconvert_exporter": "python",
   "pygments_lexer": "ipython3",
   "version": "3.6.7"
  }
 },
 "nbformat": 4,
 "nbformat_minor": 1
}
