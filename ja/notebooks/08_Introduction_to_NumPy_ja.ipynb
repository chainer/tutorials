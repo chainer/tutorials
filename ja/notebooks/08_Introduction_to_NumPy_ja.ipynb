{
 "cells": [
  {
   "cell_type": "markdown",
   "metadata": {
    "colab_type": "text",
    "id": "3-ewqmV8hszX"
   },
   "source": [
    "# NumPy 入門\n",
    "\n",
    "本章では、Python で数値計算を高速に行うためのライブラリ[<sup>*1</sup>](#fn1)である NumPy の使い方を学びます。\n",
    "本章の目標は、**NumPy を用いて 4 章で学んだ重回帰分析を行うアルゴリズムを実装すること**です。\n",
    "\n",
    "NumPy による**多次元配列（multidimensional array）**の扱い方を知ることは、他の様々なライブラリを利用する際に役立ちます。\n",
    "例えば、様々な機械学習アルゴリズムの実装を統一的なインターフェースで提供している **scikit-learn** や、ニューラルネットワークの記述・学習を行うためのフレームワークである **Chainer** は、NumPy に慣れておくことでとても使いやすくなります。\n",
    "\n",
    "それでは、まず NumPy の基礎的な使用方法を説明します。\n",
    "\n",
    "<span id=\"fn1\"><sup>\\*1</sup>：<small>ライブラリとは、汎用性の高い複数の関数やクラスなどを再利用可能な形でひとまとまりにしたもので、Python の世界では**パッケージ**とも呼ばれます。また、Python で関数やクラスの定義、文などが書かれたファイルのことを**モジュール**と呼び、パッケージはモジュールが集まったものです。</small></span>"
   ]
  },
  {
   "cell_type": "markdown",
   "metadata": {
    "colab_type": "text",
    "id": "iPmvXIQThszZ"
   },
   "source": [
    "## NumPy を import する\n",
    "\n",
    "NumPy は Google Colaboratory（以下 colab）上のノートブックにはデフォルトでインストールされているため、ここではインストールの方法は説明しません。自分のコンピュータに NumPy をインストールしたい場合は、こちらを参照してください。：[Installing packages](https://scipy.org/install.html)\n",
    "\n",
    "colab 上のノートブックには NumPy がインストールされていますが、まだ `numpy` モジュールが読み込まれていません。\n",
    "ライブラリの機能を利用するには、そのライブラリが提供するモジュールを読み込む必要があります。\n",
    "\n",
    "例えば `A` というモジュールを読み込みたいとき、一番シンプルな記述方法は `import A` です。\n",
    "ただ、もし `A` というモジュール名が長い場合は、`import A as B` のようにして別名を付けることができます。\n",
    "`as` を使って別名が与えられると、以降そのモジュールはその別名を用いて利用することができます。\n",
    "この例では、`A` というモジュールは `B` という名前で利用することができます。\n",
    "これは Python の機能なので NumPy を利用する場合でなくても同様に使用可能な方法です。\n",
    "\n",
    "慣習的に、NumPy にはしばしば `np` という別名が与えられます。\n",
    "このように、コード中で頻繁に使用するモジュールには、短い別名をつけて定義することがよく行われます。\n",
    "\n",
    "それでは、`numpy` を `np` という名前で `import` してみましょう。"
   ]
  },
  {
   "cell_type": "code",
   "execution_count": 0,
   "metadata": {
    "colab": {},
    "colab_type": "code",
    "id": "YGm0nN_vuWfY"
   },
   "outputs": [],
   "source": [
    "import numpy as np"
   ]
  },
  {
   "cell_type": "markdown",
   "metadata": {
    "colab_type": "text",
    "id": "SB5_Yx1qXAcN"
   },
   "source": [
    "## NumPy で多次元配列を定義する\n",
    "\n",
    "NumPy では、多次元配列を表現するための ndarray クラスを用いてベクトルや行列、テンソルを定義することができます[<sup>*2</sup>](#fn2)。早速、これを用いてベクトルを定義してみましょう。\n",
    "\n",
    "<span id=\"fn2\"><sup>*2</sup>：<small>NumPy には matrix というクラスも存在しますが、本チュートリアルでは基本的に多次元配列を表す ndarray をベクトルや行列を表すために用います。</small></span>"
   ]
  },
  {
   "cell_type": "code",
   "execution_count": 2,
   "metadata": {
    "colab": {
     "base_uri": "https://localhost:8080/",
     "height": 35
    },
    "colab_type": "code",
    "id": "HTartJBpvinm",
    "outputId": "f6154c7a-afbd-4dbe-e51c-cfb5ff80214b"
   },
   "outputs": [
    {
     "name": "stdout",
     "output_type": "stream",
     "text": [
      "[1 2 3]\n"
     ]
    }
   ],
   "source": [
    "# ベクトルの定義\n",
    "a = np.array([1, 2, 3])\n",
    "\n",
    "print(a)"
   ]
  },
  {
   "cell_type": "markdown",
   "metadata": {
    "colab_type": "text",
    "id": "LCbcrkX6hszo"
   },
   "source": [
    "このように、Python リスト `[1, 2, 3]` を `np.array()` に渡すことで、$[\\begin{matrix} 1 & 2 & 3 \\end{matrix}]$ というベクトルを表す ndarray オブジェクトを作ることができます。\n",
    "ndarray オブジェクトは `shape` という**属性（attribute）**を持っており、その多次元配列の**形（shape）**が保存されています。\n",
    "上で定義した `a` という ndarray オブジェクトの形を調べてみましょう。"
   ]
  },
  {
   "cell_type": "code",
   "execution_count": 3,
   "metadata": {
    "colab": {
     "base_uri": "https://localhost:8080/",
     "height": 35
    },
    "colab_type": "code",
    "id": "O2GmnrGVhszq",
    "outputId": "67da17e9-6d00-487d-aaf9-9f6b04380c4b"
   },
   "outputs": [
    {
     "data": {
      "text/plain": [
       "(3,)"
      ]
     },
     "execution_count": 3,
     "metadata": {
      "tags": []
     },
     "output_type": "execute_result"
    }
   ],
   "source": [
    "a.shape"
   ]
  },
  {
   "cell_type": "markdown",
   "metadata": {
    "colab_type": "text",
    "id": "YlU3JFZVhszw"
   },
   "source": [
    "`(3,)` という要素数が 1 である Python のタプルが表示されています。\n",
    "ndarray の形は、要素が整数のタプルで表され、要素数はその多次元配列の**次元数（dimensionality, number of dimensions）**と言います。\n",
    "形は、その多次元配列の各次元の大きさを順に並べた整数のタプルです。\n",
    "\n",
    "次元数は、ndarray の `ndim` という属性に保存されています。"
   ]
  },
  {
   "cell_type": "code",
   "execution_count": 4,
   "metadata": {
    "colab": {
     "base_uri": "https://localhost:8080/",
     "height": 35
    },
    "colab_type": "code",
    "id": "TClptSKihszx",
    "outputId": "5e6ca4bf-761b-434e-d77a-d06be52fbce8"
   },
   "outputs": [
    {
     "data": {
      "text/plain": [
       "1"
      ]
     },
     "execution_count": 4,
     "metadata": {
      "tags": []
     },
     "output_type": "execute_result"
    }
   ],
   "source": [
    "a.ndim"
   ]
  },
  {
   "cell_type": "markdown",
   "metadata": {
    "colab_type": "text",
    "id": "ALEfYmAuhsz1"
   },
   "source": [
    "これは、`len(a.shape)` と同じ値になります。\n",
    "今、`a` という ndarray は 1 次元配列なので、`a.shape` は要素数が 1 のタプルで、`ndim` の値は 1 でした[<sup>*3</sup>](#fn3)。\n",
    "\n",
    "<span id=\"fn3\"><sup>*3</sup>：<small>これは、その多次元配列が表すテンソルの**階数（rank、以下ランク）**と対応します。</small></span>"
   ]
  },
  {
   "cell_type": "markdown",
   "metadata": {
    "colab_type": "text",
    "id": "oQcB5yZvhsz2"
   },
   "source": [
    "では次に、$3 \\times 3$ 行列を定義してみましょう。"
   ]
  },
  {
   "cell_type": "code",
   "execution_count": 5,
   "metadata": {
    "colab": {
     "base_uri": "https://localhost:8080/",
     "height": 71
    },
    "colab_type": "code",
    "id": "u3MkTwo0jM1y",
    "outputId": "a1019954-c21d-497f-f97c-b4630a4f1823"
   },
   "outputs": [
    {
     "name": "stdout",
     "output_type": "stream",
     "text": [
      "[[1 2 3]\n",
      " [4 5 6]\n",
      " [7 8 9]]\n"
     ]
    }
   ],
   "source": [
    "# 行列の定義\n",
    "b = np.array(\n",
    "    [[1, 2, 3],\n",
    "     [4, 5, 6],\n",
    "     [7, 8, 9]]\n",
    ")\n",
    "\n",
    "print(b)"
   ]
  },
  {
   "cell_type": "markdown",
   "metadata": {
    "colab_type": "text",
    "id": "NEZor0zths0B"
   },
   "source": [
    "形と次元数を調べます。"
   ]
  },
  {
   "cell_type": "code",
   "execution_count": 6,
   "metadata": {
    "colab": {
     "base_uri": "https://localhost:8080/",
     "height": 53
    },
    "colab_type": "code",
    "id": "VdoPp_H3hs0C",
    "outputId": "4e3e22c7-6195-4245-d0e7-7bf12b395ba2"
   },
   "outputs": [
    {
     "name": "stdout",
     "output_type": "stream",
     "text": [
      "Shape: (3, 3)\n",
      "Rank: 2\n"
     ]
    }
   ],
   "source": [
    "print('Shape:', b.shape)\n",
    "print('Rank:', b.ndim)"
   ]
  },
  {
   "cell_type": "markdown",
   "metadata": {
    "colab_type": "text",
    "id": "GRcKmhhRhs0G"
   },
   "source": [
    "ここで、`size` という属性も見てみましょう。"
   ]
  },
  {
   "cell_type": "code",
   "execution_count": 7,
   "metadata": {
    "colab": {
     "base_uri": "https://localhost:8080/",
     "height": 35
    },
    "colab_type": "code",
    "id": "nL7kUxyThs0H",
    "outputId": "445357d6-7b9c-495c-ce6a-35307a298bba"
   },
   "outputs": [
    {
     "data": {
      "text/plain": [
       "9"
      ]
     },
     "execution_count": 7,
     "metadata": {
      "tags": []
     },
     "output_type": "execute_result"
    }
   ],
   "source": [
    "b.size"
   ]
  },
  {
   "cell_type": "markdown",
   "metadata": {
    "colab_type": "text",
    "id": "6qHL5knGhs0L"
   },
   "source": [
    "これは、`b` という ndarray が持つ要素の数を表しています。\n",
    "`b` は $3 \\times 3$ 行列なので、要素数は 9 です。\n",
    "「形」「次元数」「サイズ」という言葉がそれぞれ意味するものの違いを確認してください。\n",
    "\n",
    "NumPy は、`np.array()` を用いて Python のリストから多次元配列を作る方法以外にも、色々な ndarray オブジェクトの作成方法を提供しています。\n",
    "以下に代表的な例をいくつか紹介します。"
   ]
  },
  {
   "cell_type": "code",
   "execution_count": 8,
   "metadata": {
    "colab": {
     "base_uri": "https://localhost:8080/",
     "height": 71
    },
    "colab_type": "code",
    "id": "-E2Rtwq9hs0N",
    "outputId": "4bbbfe82-c053-4ab2-e5ea-e4eac5822aec"
   },
   "outputs": [
    {
     "name": "stdout",
     "output_type": "stream",
     "text": [
      "[[0. 0. 0.]\n",
      " [0. 0. 0.]\n",
      " [0. 0. 0.]]\n"
     ]
    }
   ],
   "source": [
    "# 形を指定して、要素が全て 0 で埋められた ndarray を作る\n",
    "a = np.zeros((3, 3))\n",
    "print(a)"
   ]
  },
  {
   "cell_type": "code",
   "execution_count": 9,
   "metadata": {
    "colab": {
     "base_uri": "https://localhost:8080/",
     "height": 53
    },
    "colab_type": "code",
    "id": "870IpdMyhs0R",
    "outputId": "4675cfd7-8769-46eb-edcb-6791c0efec22"
   },
   "outputs": [
    {
     "name": "stdout",
     "output_type": "stream",
     "text": [
      "[[1. 1. 1.]\n",
      " [1. 1. 1.]]\n"
     ]
    }
   ],
   "source": [
    "# 形を指定して、要素が全て 1 で埋められた ndarray を作る\n",
    "b = np.ones((2, 3))\n",
    "print(b)"
   ]
  },
  {
   "cell_type": "code",
   "execution_count": 10,
   "metadata": {
    "colab": {
     "base_uri": "https://localhost:8080/",
     "height": 71
    },
    "colab_type": "code",
    "id": "xndboQKyhs0W",
    "outputId": "5f6d5bd1-b7ea-44ef-c09f-c7d5babc593f"
   },
   "outputs": [
    {
     "name": "stdout",
     "output_type": "stream",
     "text": [
      "[[9 9]\n",
      " [9 9]\n",
      " [9 9]]\n"
     ]
    }
   ],
   "source": [
    "# 形と値を指定して、要素が指定した値で埋められた ndarray を作る\n",
    "c = np.full((3, 2), 9)\n",
    "print(c)"
   ]
  },
  {
   "cell_type": "code",
   "execution_count": 11,
   "metadata": {
    "colab": {
     "base_uri": "https://localhost:8080/",
     "height": 107
    },
    "colab_type": "code",
    "id": "WA5IUfrmhs0b",
    "outputId": "ec6e44d1-904e-43ea-d2c6-67a3ba9b5b64"
   },
   "outputs": [
    {
     "name": "stdout",
     "output_type": "stream",
     "text": [
      "[[1. 0. 0. 0. 0.]\n",
      " [0. 1. 0. 0. 0.]\n",
      " [0. 0. 1. 0. 0.]\n",
      " [0. 0. 0. 1. 0.]\n",
      " [0. 0. 0. 0. 1.]]\n"
     ]
    }
   ],
   "source": [
    "# 指定された大きさの単位行列を表す ndarray を作る\n",
    "d = np.eye(5)\n",
    "print(d)"
   ]
  },
  {
   "cell_type": "code",
   "execution_count": 12,
   "metadata": {
    "colab": {
     "base_uri": "https://localhost:8080/",
     "height": 89
    },
    "colab_type": "code",
    "id": "YLH4LMVThs0h",
    "outputId": "8ed86c75-4fb1-4e63-b3ad-94d5067b2bb6",
    "scrolled": true
   },
   "outputs": [
    {
     "name": "stdout",
     "output_type": "stream",
     "text": [
      "[[0.75843282 0.00903424 0.73277019 0.82194664 0.66959456]\n",
      " [0.78042335 0.9467308  0.59778721 0.09690589 0.88246079]\n",
      " [0.43402534 0.8328893  0.45395457 0.55583655 0.21523299]\n",
      " [0.4869484  0.84241404 0.87455424 0.51555522 0.60095224]]\n"
     ]
    }
   ],
   "source": [
    "# 形を指定して、 0 ~ 1 の間の乱数で要素を埋めた ndarray を作る\n",
    "e = np.random.random((4, 5))\n",
    "print(e)"
   ]
  },
  {
   "cell_type": "code",
   "execution_count": 13,
   "metadata": {
    "colab": {
     "base_uri": "https://localhost:8080/",
     "height": 35
    },
    "colab_type": "code",
    "id": "JrlPdcOths0r",
    "outputId": "84553bd4-dafc-4a0d-82d3-da849aec177e"
   },
   "outputs": [
    {
     "name": "stdout",
     "output_type": "stream",
     "text": [
      "[3 4 5 6 7 8 9]\n"
     ]
    }
   ],
   "source": [
    "# 3 から始まり 10 になるまで 1 ずつ増加する数列を作る（10 は含まない）\n",
    "f = np.arange(3, 10, 1)\n",
    "print(f)"
   ]
  },
  {
   "cell_type": "markdown",
   "metadata": {
    "colab_type": "text",
    "id": "1rPZMxVIhs0w"
   },
   "source": [
    "## 多次元配列の要素を選択する\n",
    "\n",
    "前節では NumPy を使って多次元配列を定義するいくつかの方法を紹介しました。\n",
    "本節では、作成した ndarray のうちの特定の要素を選択して、値を取り出す方法を紹介します。\n",
    "最もよく行われる方法は `[]` を使った**添字表記（subscription）**による要素の選択です。"
   ]
  },
  {
   "cell_type": "markdown",
   "metadata": {
    "colab_type": "text",
    "id": "yjqfy8AVhs0x"
   },
   "source": [
    "### 整数による要素の選択\n",
    "\n",
    "例えば、上で作成した `e` という $4 \\times 5$ 行列を表す多次元配列から、1 行 2 列目の値を取り出すには、以下のようにします。"
   ]
  },
  {
   "cell_type": "code",
   "execution_count": 14,
   "metadata": {
    "colab": {
     "base_uri": "https://localhost:8080/",
     "height": 35
    },
    "colab_type": "code",
    "id": "4wXjOOjyhs0y",
    "outputId": "f6c64814-7d19-458d-ab83-299c8aeab9d4",
    "scrolled": true
   },
   "outputs": [
    {
     "name": "stdout",
     "output_type": "stream",
     "text": [
      "0.0090342352543481\n"
     ]
    }
   ],
   "source": [
    "val = e[0, 1]\n",
    "\n",
    "print(val)"
   ]
  },
  {
   "cell_type": "markdown",
   "metadata": {
    "colab_type": "text",
    "id": "FPYVW5rqhs02"
   },
   "source": [
    "「1 行 2 列目」を指定するのに、インデックスは `[0, 1]` でした。\n",
    "これは、NumPy の ndarray の要素は Python リストと同じく、添字が 0 から始まる**ゼロベースインデックス（zero-based index）**が採用されているためです。\n",
    "つまり、この行列の i 行 j 列目の値は、`[i - 1, j - 1]` で取り出すことができます。"
   ]
  },
  {
   "cell_type": "markdown",
   "metadata": {
    "colab_type": "text",
    "id": "qWnR7Eurhs03"
   },
   "source": [
    "### スライスによる要素の選択\n",
    "\n",
    "NumPy の ndarray に対しても、Python のリストと同様に**スライス表記（slicing）**を用いて選択したい要素を範囲指定することができます。\n",
    "ndarray はさらに、カンマ区切りで複数の次元に対するスライスを指定できます。"
   ]
  },
  {
   "cell_type": "code",
   "execution_count": 15,
   "metadata": {
    "colab": {
     "base_uri": "https://localhost:8080/",
     "height": 53
    },
    "colab_type": "code",
    "id": "Q0nqhCpfhs04",
    "outputId": "0b7bb069-18d7-4326-eff0-503eefb5f9a1",
    "scrolled": true
   },
   "outputs": [
    {
     "name": "stdout",
     "output_type": "stream",
     "text": [
      "[[0.9467308  0.59778721 0.09690589]\n",
      " [0.8328893  0.45395457 0.55583655]]\n"
     ]
    }
   ],
   "source": [
    "# 4 x 5 行列 e の真ん中の 2 x 3 = 6 個の値を取り出す\n",
    "center = e[1:3, 1:4]\n",
    "\n",
    "print(center)"
   ]
  },
  {
   "cell_type": "markdown",
   "metadata": {
    "colab_type": "text",
    "id": "1FUL2bOkhs09"
   },
   "source": [
    "前節最後にある `e` の出力と見比べて、ちょうど真ん中の部分の $2 \\times 3$ 個の数字が取り出せていることを確認してください。\n",
    "ここで、`e` より `[1, 1]` の要素を起点として 2 行 3 列を取り出して作られた `center` の形を `e` の形と比較してみましょう。"
   ]
  },
  {
   "cell_type": "code",
   "execution_count": 16,
   "metadata": {
    "colab": {
     "base_uri": "https://localhost:8080/",
     "height": 53
    },
    "colab_type": "code",
    "id": "g57LOQJbhs0_",
    "outputId": "d4be52f8-19a3-4a8a-8a2a-43942b243b08"
   },
   "outputs": [
    {
     "name": "stdout",
     "output_type": "stream",
     "text": [
      "Shape of e: (4, 5)\n",
      "Shape of center: (2, 3)\n"
     ]
    }
   ],
   "source": [
    "print('Shape of e:', e.shape)\n",
    "print('Shape of center:', center.shape)"
   ]
  },
  {
   "cell_type": "markdown",
   "metadata": {
    "colab_type": "text",
    "id": "5tbJR05ehs1F"
   },
   "source": [
    "また、インデックスを指定したり、スライスを用いて取り出した ndarray の一部に対し、値を代入することもできます。"
   ]
  },
  {
   "cell_type": "code",
   "execution_count": 17,
   "metadata": {
    "colab": {
     "base_uri": "https://localhost:8080/",
     "height": 89
    },
    "colab_type": "code",
    "id": "pnJGJ0sOhs1G",
    "outputId": "bed87a2c-0a46-4c51-ddc7-a17ae7d2b6b5"
   },
   "outputs": [
    {
     "name": "stdout",
     "output_type": "stream",
     "text": [
      "[[0.75843282 0.00903424 0.73277019 0.82194664 0.66959456]\n",
      " [0.78042335 0.         0.         0.         0.88246079]\n",
      " [0.43402534 0.         0.         0.         0.21523299]\n",
      " [0.4869484  0.84241404 0.87455424 0.51555522 0.60095224]]\n"
     ]
    }
   ],
   "source": [
    "# 先程の真ん中の 6 個の値を 0 にする\n",
    "e[1:3, 1:4] = 0\n",
    "\n",
    "print(e)"
   ]
  },
  {
   "cell_type": "markdown",
   "metadata": {
    "colab_type": "text",
    "id": "7n7aJGJahs1J"
   },
   "source": [
    "### 整数配列による要素の選択\n",
    "\n",
    "ndarray の `[]` には、整数やスライスの他に、整数配列（整数を要素とする Python リストまたは ndarray）を渡すこともできます。\n",
    "まず、$3 \\times 3$ 行列を表す `a` という ndarray を定義します。"
   ]
  },
  {
   "cell_type": "code",
   "execution_count": 18,
   "metadata": {
    "colab": {
     "base_uri": "https://localhost:8080/",
     "height": 71
    },
    "colab_type": "code",
    "id": "XxgfjK2-hs1L",
    "outputId": "5d03e8b8-4075-40d4-f3e9-82fd6d116799"
   },
   "outputs": [
    {
     "name": "stdout",
     "output_type": "stream",
     "text": [
      "[[1 2 3]\n",
      " [4 5 6]\n",
      " [7 8 9]]\n"
     ]
    }
   ],
   "source": [
    "a = np.array(\n",
    "    [[1, 2, 3],\n",
    "     [4, 5, 6],\n",
    "     [7, 8, 9]]\n",
    ")\n",
    "\n",
    "print(a)"
   ]
  },
  {
   "cell_type": "markdown",
   "metadata": {
    "colab_type": "text",
    "id": "qjX-7iNths1R"
   },
   "source": [
    "この ndarray から、\n",
    "\n",
    "1. 1 行 2 列目：`a[0, 1]`\n",
    "2. 3 行 2 列目：`a[2, 1]`\n",
    "3. 2 行 1 列目：`a[1, 0]`\n",
    "\n",
    "の 3 つの要素を選択して並べ、形が `(3,)` であるような ndarray を作りたいとします。\n",
    "\n",
    "これは、以下のように、順に対象の要素を指定して並べて新しい ndarray にすることでももちろん実現できます。"
   ]
  },
  {
   "cell_type": "code",
   "execution_count": 19,
   "metadata": {
    "colab": {
     "base_uri": "https://localhost:8080/",
     "height": 35
    },
    "colab_type": "code",
    "id": "UvEgg_eHhs1S",
    "outputId": "60957a3e-d25d-41a3-e103-961321f9d29c"
   },
   "outputs": [
    {
     "data": {
      "text/plain": [
       "array([2, 8, 4])"
      ]
     },
     "execution_count": 19,
     "metadata": {
      "tags": []
     },
     "output_type": "execute_result"
    }
   ],
   "source": [
    "np.array([a[0, 1], a[2, 1], a[1, 0]])"
   ]
  },
  {
   "cell_type": "markdown",
   "metadata": {
    "colab_type": "text",
    "id": "r2aNYWNFhs1V"
   },
   "source": [
    "しかし、これは、選択したい行、選択したい列を、順にそれぞれリストとして与えることでも行えます。"
   ]
  },
  {
   "cell_type": "code",
   "execution_count": 20,
   "metadata": {
    "colab": {
     "base_uri": "https://localhost:8080/",
     "height": 35
    },
    "colab_type": "code",
    "id": "P1scHQiRhs1W",
    "outputId": "6314be4a-f28e-4416-aafa-ea186d82b097"
   },
   "outputs": [
    {
     "data": {
      "text/plain": [
       "array([2, 8, 4])"
      ]
     },
     "execution_count": 20,
     "metadata": {
      "tags": []
     },
     "output_type": "execute_result"
    }
   ],
   "source": [
    "a[[0, 2, 1], [1, 1, 0]]"
   ]
  },
  {
   "cell_type": "markdown",
   "metadata": {
    "colab_type": "text",
    "id": "0sHruq-ohs1Z"
   },
   "source": [
    "選択したい 3 つの値は、どの行にあるか、だけに着目すると、それぞれ 1 行目、3 行目、2 行目にある要素です。  \n",
    "ゼロベースインデックスでは、それぞれ 0, 2, 1 行目です。  \n",
    "これが `a` の `[]` に与えられた 1 つ目のリスト `[0, 2, 1]` の意味です。  \n",
    "同様に、列に着目すると、ゼロベースインデックスでそれぞれ 1, 1, 0 列目の要素です。  \n",
    "これが `a` の `[]` に与えられた 2 つ目のリスト `[1, 1, 0]` の意味です。"
   ]
  },
  {
   "cell_type": "markdown",
   "metadata": {
    "colab_type": "text",
    "id": "HDdtMWR4hs1a"
   },
   "source": [
    "## ndarray のデータ型\n",
    "\n",
    "NumPy の一つの ndarray の要素は全て同じ型を持ちます。\n",
    "NumPy では様々なデータ型を使うことができますが、ここでは一部だけを紹介します。\n",
    "NumPy は Python リストを渡して ndarray を作る際などには、その値からデータ型を推測します。\n",
    "値のデータ型は、ndarray の `dtype` という属性に保存されています。"
   ]
  },
  {
   "cell_type": "code",
   "execution_count": 21,
   "metadata": {
    "colab": {
     "base_uri": "https://localhost:8080/",
     "height": 35
    },
    "colab_type": "code",
    "id": "eU6frncOhs1d",
    "outputId": "e052824c-d9ae-468f-ac57-89d7d1b955a0"
   },
   "outputs": [
    {
     "name": "stdout",
     "output_type": "stream",
     "text": [
      "int64\n"
     ]
    }
   ],
   "source": [
    "# 整数（Python の int 型）の要素をもつリストを与えた場合\n",
    "x = np.array([1, 2, 3])\n",
    "\n",
    "print(x.dtype)"
   ]
  },
  {
   "cell_type": "code",
   "execution_count": 22,
   "metadata": {
    "colab": {
     "base_uri": "https://localhost:8080/",
     "height": 35
    },
    "colab_type": "code",
    "id": "3C4OQKq9hs1k",
    "outputId": "30d95c16-ab42-44b1-b553-70ab6721cd78"
   },
   "outputs": [
    {
     "name": "stdout",
     "output_type": "stream",
     "text": [
      "float64\n"
     ]
    }
   ],
   "source": [
    "# 浮動小数点数（Python の float 型）の要素をもつリストを与えた場合\n",
    "x = np.array([1., 2., 3.])\n",
    "\n",
    "print(x.dtype)"
   ]
  },
  {
   "cell_type": "markdown",
   "metadata": {
    "colab_type": "text",
    "id": "HTg_bqiuhs1o"
   },
   "source": [
    "以上のように、Python の int 型は自動的に NumPy の int64 型になりました。\n",
    "また、Python の float 型は自動的に NumPy の float64 型になりました。\n",
    "Python の int 型は NumPy の int_ 型に対応づけられており、Python の float 型は NumPy の float_ 型に対応づけられています。\n",
    "この int_ 型はプラットフォームによって int64 型と同じ場合と int32 型と同じ場合があります。\n",
    "float_ 型についても同様で、プラットフォームによって float64 型と同じ場合と float32 型と同じ場合があります。\n",
    "\n",
    "特定の型を指定して ndarray を作成するには、以下のようにします。"
   ]
  },
  {
   "cell_type": "code",
   "execution_count": 23,
   "metadata": {
    "colab": {
     "base_uri": "https://localhost:8080/",
     "height": 35
    },
    "colab_type": "code",
    "id": "3UZiigfFhs1p",
    "outputId": "f2c3f82e-03a5-406a-eb1b-ea227a369abd"
   },
   "outputs": [
    {
     "name": "stdout",
     "output_type": "stream",
     "text": [
      "float32\n"
     ]
    }
   ],
   "source": [
    "x = np.array([1, 2, 3], dtype=np.float32)\n",
    "\n",
    "print(x.dtype)"
   ]
  },
  {
   "cell_type": "markdown",
   "metadata": {
    "colab_type": "text",
    "id": "aWMTSehbhs1s"
   },
   "source": [
    "このように、`dtype` という引数に NumPy の dtype オブジェクトを渡します。\n",
    "これは 32 ビット浮動小数点数型を指定する例です。\n",
    "\n",
    "一度あるデータ型で定義した配列のデータ型を別のものに変更するには、以下のようにします。"
   ]
  },
  {
   "cell_type": "code",
   "execution_count": 24,
   "metadata": {
    "colab": {
     "base_uri": "https://localhost:8080/",
     "height": 35
    },
    "colab_type": "code",
    "id": "fnqEBxUMhs1t",
    "outputId": "151fa3fe-9623-4375-b95b-0f9b148515aa"
   },
   "outputs": [
    {
     "name": "stdout",
     "output_type": "stream",
     "text": [
      "float64\n"
     ]
    }
   ],
   "source": [
    "x = x.astype(np.float64)\n",
    "\n",
    "print(x.dtype)"
   ]
  },
  {
   "cell_type": "markdown",
   "metadata": {
    "colab_type": "text",
    "id": "gQtt_qLLjeLQ"
   },
   "source": [
    "## 多次元配列を用いた計算\n",
    "\n",
    "NumPy で行列やベクトルを表す ndarray オブジェクトを定義して、それらを用いていくつかの計算を行ってみましょう。\n",
    "ndarray として定義されたベクトルや行列同士の要素ごとの加減乗除は、Python の数値同士の四則演算に用いられる `+`、`-`、`*`、`/` という記号を用いることで行えます。\n",
    "\n",
    "それでは、同じ形の行列を 2 つ定義し、それらの要素を**要素ごとに**足す・引く・掛ける・割るという計算を行ってみましょう。"
   ]
  },
  {
   "cell_type": "code",
   "execution_count": 25,
   "metadata": {
    "colab": {
     "base_uri": "https://localhost:8080/",
     "height": 359
    },
    "colab_type": "code",
    "id": "_hpNMPZpw24s",
    "outputId": "5b00598f-cf3f-4811-ee57-45e1f30c505c"
   },
   "outputs": [
    {
     "name": "stdout",
     "output_type": "stream",
     "text": [
      "add:\n",
      " [[ 1  3  5]\n",
      " [ 7  9 11]\n",
      " [13 15 17]]\n",
      "\n",
      "subtract:\n",
      " [[-1 -1 -1]\n",
      " [-1 -1 -1]\n",
      " [-1 -1 -1]]\n",
      "\n",
      "multiply:\n",
      " [[ 0  2  6]\n",
      " [12 20 30]\n",
      " [42 56 72]]\n",
      "\n",
      "divide:\n",
      " [[0.         0.5        0.66666667]\n",
      " [0.75       0.8        0.83333333]\n",
      " [0.85714286 0.875      0.88888889]]\n"
     ]
    }
   ],
   "source": [
    "a = np.array([\n",
    "    [0, 1, 2],\n",
    "    [3, 4, 5],\n",
    "    [6, 7, 8]\n",
    "])\n",
    "\n",
    "b = np.array([\n",
    "    [1, 2, 3],\n",
    "    [4, 5, 6],\n",
    "    [7, 8, 9]\n",
    "])\n",
    "\n",
    "# 足し算\n",
    "c = a + b\n",
    "\n",
    "print('add:\\n', c)\n",
    "\n",
    "# 引き算\n",
    "c = a - b\n",
    "\n",
    "print('\\nsubtract:\\n', c)\n",
    "\n",
    "# 掛け算\n",
    "c = a * b\n",
    "\n",
    "print('\\nmultiply:\\n', c)\n",
    "\n",
    "# 割り算\n",
    "c = a / b\n",
    "\n",
    "print('\\ndivide:\\n', c)"
   ]
  },
  {
   "cell_type": "markdown",
   "metadata": {
    "colab_type": "text",
    "id": "HFZIVmCwhs13"
   },
   "source": [
    "NumPy では、与えられた多次元配列に対して要素ごとの計算を行う関数が色々と用意されています。\n",
    "以下にいくつかの例を示します。"
   ]
  },
  {
   "cell_type": "code",
   "execution_count": 26,
   "metadata": {
    "colab": {
     "base_uri": "https://localhost:8080/",
     "height": 179
    },
    "colab_type": "code",
    "id": "X9XlfvFths14",
    "outputId": "6905b64b-1f3a-45ec-e51d-79c5adecc27f"
   },
   "outputs": [
    {
     "name": "stdout",
     "output_type": "stream",
     "text": [
      "sqrt:\n",
      " [[1.         1.41421356 1.73205081]\n",
      " [2.         2.23606798 2.44948974]\n",
      " [2.64575131 2.82842712 3.        ]]\n",
      "\n",
      "power:\n",
      " [[ 1  4  9]\n",
      " [16 25 36]\n",
      " [49 64 81]]\n"
     ]
    }
   ],
   "source": [
    "# 要素ごとに平方根を計算する\n",
    "c = np.sqrt(b)\n",
    "\n",
    "print('sqrt:\\n', c)\n",
    "\n",
    "# 要素ごとに値を n 乗する\n",
    "n = 2\n",
    "c = np.power(b, n)\n",
    "\n",
    "print('\\npower:\\n', c)"
   ]
  },
  {
   "cell_type": "markdown",
   "metadata": {
    "colab_type": "text",
    "id": "XC-OB1s_hs19"
   },
   "source": [
    "要素ごとに値を n 乗する計算は、以下のようにしても書くことができます。"
   ]
  },
  {
   "cell_type": "code",
   "execution_count": 27,
   "metadata": {
    "colab": {
     "base_uri": "https://localhost:8080/",
     "height": 71
    },
    "colab_type": "code",
    "id": "7ekgNzVlhs2F",
    "outputId": "1962f435-1ff7-45fa-b61e-3917869e729d"
   },
   "outputs": [
    {
     "data": {
      "text/plain": [
       "array([[   1,   16,   81],\n",
       "       [ 256,  625, 1296],\n",
       "       [2401, 4096, 6561]])"
      ]
     },
     "execution_count": 27,
     "metadata": {
      "tags": []
     },
     "output_type": "execute_result"
    }
   ],
   "source": [
    "c ** n"
   ]
  },
  {
   "cell_type": "markdown",
   "metadata": {
    "colab_type": "text",
    "id": "9exqunixhs2K"
   },
   "source": [
    "本節の冒頭では、**同じ大きさの** 2 つの行列に対する加減乗除を行いました。\n",
    "ここで、$3 \\times 3$ 行列 `a` と 3 次元ベクトル `b` を定義して、それらを足してみましょう。"
   ]
  },
  {
   "cell_type": "code",
   "execution_count": 28,
   "metadata": {
    "colab": {
     "base_uri": "https://localhost:8080/",
     "height": 71
    },
    "colab_type": "code",
    "id": "geIUaMashs2L",
    "outputId": "fb5c79a4-8830-4455-92cc-a43159e7d125"
   },
   "outputs": [
    {
     "name": "stdout",
     "output_type": "stream",
     "text": [
      "[[ 1  3  5]\n",
      " [ 4  6  8]\n",
      " [ 7  9 11]]\n"
     ]
    }
   ],
   "source": [
    "a = np.array([\n",
    "    [0, 1, 2],\n",
    "    [3, 4, 5],\n",
    "    [6, 7, 8]\n",
    "])\n",
    "\n",
    "b = np.array([1, 2, 3])\n",
    "\n",
    "c = a + b\n",
    "\n",
    "print(c)"
   ]
  },
  {
   "cell_type": "markdown",
   "metadata": {
    "colab_type": "text",
    "id": "9dns4SENhs2T"
   },
   "source": [
    "**形が同じ行列同士の場合と同様に**計算することができました。\n",
    "これは NumPy が自動的に**ブロードキャスト（broadcast）**と呼ばれる操作を行っているためです。\n",
    "これについて次節で説明します。"
   ]
  },
  {
   "cell_type": "markdown",
   "metadata": {
    "colab_type": "text",
    "id": "zD5qR1Dvhs2V"
   },
   "source": [
    "## ブロードキャスト\n",
    "\n",
    "行列同士の要素ごとの四則演算は、行列の形が同じでなければ定義できません。\n",
    "しかし、前節の最後では $3 \\times 3$ 行列に 3 次元ベクトルを足すことができました。\n",
    "\n",
    "これが計算できた理由は、NumPy が自動的に 3 次元ベクトル `b` を 3 つ並べてできる $3 \\times 3$ 行列を想定し、`a` と同じ形に揃える操作を暗黙に行っているからです。\n",
    "この操作を、**ブロードキャスト**と呼びます。\n",
    "\n",
    "算術演算を異なる形の配列同士で行う場合、NumPyは自動的に小さい方の配列を**ブロードキャスト**し、大きい方の配列と形を合わせます。\n",
    "ただし、この自動的に行われるブロードキャストでは、行いたい算術演算が大きい方の配列の一部に対して繰り返し行われることで実現されるため、実際に小さい方の配列のデータをコピーして大きい配列をメモリ上に作成することは可能な限り避けられます。\n",
    "また、この繰り返しの計算は NumPy の内部の C 言語によって実装されたループで行われるため、高速です。\n",
    "\n",
    "よりシンプルな例で考えてみましょう。\n",
    "以下のような配列 `a` があり、この全ての要素を 2 倍にしたいとします。"
   ]
  },
  {
   "cell_type": "code",
   "execution_count": 0,
   "metadata": {
    "colab": {},
    "colab_type": "code",
    "id": "65YCT4dzhs2W"
   },
   "outputs": [],
   "source": [
    "a = np.array([1, 2, 3])"
   ]
  },
  {
   "cell_type": "markdown",
   "metadata": {
    "colab_type": "text",
    "id": "Zp1-yKjXhs2a"
   },
   "source": [
    "このとき、一つの方法は以下のように同じ形で要素が全て 2 である別の配列を定義し、これと要素ごとの積を計算するやり方です。"
   ]
  },
  {
   "cell_type": "code",
   "execution_count": 30,
   "metadata": {
    "colab": {
     "base_uri": "https://localhost:8080/",
     "height": 35
    },
    "colab_type": "code",
    "id": "-HXN6pyVhs2b",
    "outputId": "15af0989-68a1-4ff1-8c3b-d2878e7293bc"
   },
   "outputs": [
    {
     "name": "stdout",
     "output_type": "stream",
     "text": [
      "[2 4 6]\n"
     ]
    }
   ],
   "source": [
    "b = np.array([2, 2, 2])\n",
    "\n",
    "c = a * b\n",
    "\n",
    "print(c)"
   ]
  },
  {
   "cell_type": "markdown",
   "metadata": {
    "colab_type": "text",
    "id": "Y7XJ7T6Mhs2g"
   },
   "source": [
    "しかし、ただスカラの 2 を `a` に掛けるだけでも同じ結果が得られます。"
   ]
  },
  {
   "cell_type": "code",
   "execution_count": 31,
   "metadata": {
    "colab": {
     "base_uri": "https://localhost:8080/",
     "height": 35
    },
    "colab_type": "code",
    "id": "XUC3S8jqhs2h",
    "outputId": "fb438604-9a4f-4147-b2f1-697b81c5c5ec"
   },
   "outputs": [
    {
     "name": "stdout",
     "output_type": "stream",
     "text": [
      "[2 4 6]\n"
     ]
    }
   ],
   "source": [
    "c = a * 2\n",
    "\n",
    "print(c)"
   ]
  },
  {
   "cell_type": "markdown",
   "metadata": {
    "colab_type": "text",
    "id": "SLje0bp-hs2k"
   },
   "source": [
    "これは NumPy がスカラの 2 を `a` の要素数 3 だけ引き伸ばしてから掛けることと解釈してそのような計算を自動的に行なってくれるためです。\n",
    "\n",
    "形の異なる配列同士の計算がブロードキャストによって可能になるためにはルールがあります。\n",
    "それは、**「2 つの配列の各次元が同じ大きさになっているか、どちらかが 1 であること」**です。\n",
    "このルールを満たさない場合、NumPy は \"ValueError: operands could not be broadcast together with shapes (1 つ目の配列の形) (2 つ目の配列の形)\" というエラーを出します。\n",
    "\n",
    "ブロードキャストされた配列の各次元のサイズ[<sup>*4</sup>](#fn4)は、入力された配列のその次元のサイズの中で最大の値と同じになっています。\n",
    "入力された配列は、各次元のサイズが入力のうち大きい方のサイズと同じになるようブロードキャストされ、その拡張されたサイズで計算されます。\n",
    "\n",
    "<span id=\"fn4\"><sup>*4</sup>：<small>「次元のサイズ」と言った場合はその次元の大きさを意味し、配列の `size` 属性とは異なるものを指しています。</small></span>\n",
    "\n",
    "もう少し具体例を見てみましょう。\n",
    "以下のような 2 つの配列 `a` と `b` を定義し、足します。"
   ]
  },
  {
   "cell_type": "code",
   "execution_count": 32,
   "metadata": {
    "colab": {
     "base_uri": "https://localhost:8080/",
     "height": 449
    },
    "colab_type": "code",
    "id": "bD4dr8ilhs2l",
    "outputId": "8e137789-45d1-4e8a-9364-e051ece7c107"
   },
   "outputs": [
    {
     "name": "stdout",
     "output_type": "stream",
     "text": [
      "a:\n",
      " [[[6 3 3]]\n",
      "\n",
      " [[0 9 5]]]\n",
      "\n",
      "a.shape: (2, 1, 3)\n",
      "\n",
      "b:\n",
      " [[9]\n",
      " [5]\n",
      " [9]]\n",
      "\n",
      "b.shape: (3, 1)\n",
      "\n",
      "a + b:\n",
      " [[[15 12 12]\n",
      "  [11  8  8]\n",
      "  [15 12 12]]\n",
      "\n",
      " [[ 9 18 14]\n",
      "  [ 5 14 10]\n",
      "  [ 9 18 14]]]\n",
      "\n",
      "(a + b).shape: (2, 3, 3)\n"
     ]
    }
   ],
   "source": [
    "# 0 ~ 9 の範囲の値をランダムに用いて埋められた (2, 1, 3) と (3, 1) という大きさの配列を作る\n",
    "a = np.random.randint(0, 10, (2, 1, 3))\n",
    "b = np.random.randint(0, 10, (3, 1))\n",
    "\n",
    "print('a:\\n', a)\n",
    "print('\\na.shape:', a.shape)\n",
    "print('\\nb:\\n', b)\n",
    "print('\\nb.shape:', b.shape)\n",
    "\n",
    "# 加算\n",
    "c = a + b\n",
    "\n",
    "print('\\na + b:\\n', c)\n",
    "print('\\n(a + b).shape:', c.shape)"
   ]
  },
  {
   "cell_type": "markdown",
   "metadata": {
    "colab_type": "text",
    "id": "o90A_pvhhs2u"
   },
   "source": [
    "`a` の形は `(2, 1, 3)` で、`b` の形は `(3, 1)` でした。\n",
    "この 2 つの配列の末尾次元[<sup>*5</sup>](#fn5)はそれぞれ 3 と 1 なので、ルールにあった「次元が同じサイズであるか、どちらかが 1 であること」を満たしています。\n",
    "\n",
    "<span id=\"fn5\"><sup>*5</sup>：<small>末尾次元（trailing dimension）とは、その配列の形を表すタプルの一番最後の値のことを指します。</small></span>\n",
    "\n",
    "次に、各配列の第 2 次元に注目してみましょう。\n",
    "それぞれ 1 と 3 です。\n",
    "これもルールを満たしています。\n",
    "\n",
    "ここで、`a` は 3 次元配列ですが、`b` は 2 次元配列です。\n",
    "つまり、次元数が異なっています。\n",
    "このような場合は、`b` は一番上の次元に一つ、サイズが 1 の次元が追加された形 `(1, 3, 1)` として扱われます。\n",
    "これが 2 つの配列の各次元ごとのサイズの最大値をとった形 `(2, 3, 3)` にブロードキャストされ、足し算が行われます。\n",
    "\n",
    "このように、もし 2 つの配列のランクが異なる場合は、次元数が小さい方の配列が大きい方と同じ次元数になるまでその形の先頭に 1 が追加されます。\n",
    "\n",
    "NumPy がブロードキャストのために自動的に行う新しい次元の挿入は、`[]` を使った以下の表な表記で手動で行うこともできます。"
   ]
  },
  {
   "cell_type": "code",
   "execution_count": 33,
   "metadata": {
    "colab": {
     "base_uri": "https://localhost:8080/",
     "height": 71
    },
    "colab_type": "code",
    "id": "6TwzCz9khs2v",
    "outputId": "23d14527-c6e1-4f36-f965-e32ef5012676"
   },
   "outputs": [
    {
     "name": "stdout",
     "output_type": "stream",
     "text": [
      "Original shape: (3, 1)\n",
      "Added new axis to the top: (1, 3, 1)\n",
      "Added new axis to the middle: (3, 1, 1)\n"
     ]
    }
   ],
   "source": [
    "print('Original shape:', b.shape)\n",
    "\n",
    "b_expanded = b[np.newaxis, :, :]\n",
    "\n",
    "print('Added new axis to the top:', b_expanded.shape)\n",
    "\n",
    "b_expanded2 = b[:, np.newaxis, :]\n",
    "\n",
    "print('Added new axis to the middle:', b_expanded2.shape)"
   ]
  },
  {
   "cell_type": "markdown",
   "metadata": {
    "colab_type": "text",
    "id": "g3CSUaHAhs20"
   },
   "source": [
    "`np.newaxis` が指定された位置に、新しい次元が挿入されます。\n",
    "配列が持つ数値の数は変わっていません。\n",
    "そのため、挿入された次元のサイズは必ず 1 になります。"
   ]
  },
  {
   "cell_type": "code",
   "execution_count": 34,
   "metadata": {
    "colab": {
     "base_uri": "https://localhost:8080/",
     "height": 71
    },
    "colab_type": "code",
    "id": "eK7NmjCWhs21",
    "outputId": "72eacd47-a0a1-4b7e-e75e-43175d323a27"
   },
   "outputs": [
    {
     "data": {
      "text/plain": [
       "array([[9],\n",
       "       [5],\n",
       "       [9]])"
      ]
     },
     "execution_count": 34,
     "metadata": {
      "tags": []
     },
     "output_type": "execute_result"
    }
   ],
   "source": [
    "b"
   ]
  },
  {
   "cell_type": "code",
   "execution_count": 35,
   "metadata": {
    "colab": {
     "base_uri": "https://localhost:8080/",
     "height": 71
    },
    "colab_type": "code",
    "id": "wappsylzhs2_",
    "outputId": "a1bbf2b9-3712-4b77-90d2-d52aa1402830"
   },
   "outputs": [
    {
     "data": {
      "text/plain": [
       "array([[[9],\n",
       "        [5],\n",
       "        [9]]])"
      ]
     },
     "execution_count": 35,
     "metadata": {
      "tags": []
     },
     "output_type": "execute_result"
    }
   ],
   "source": [
    "b_expanded"
   ]
  },
  {
   "cell_type": "code",
   "execution_count": 36,
   "metadata": {
    "colab": {
     "base_uri": "https://localhost:8080/",
     "height": 107
    },
    "colab_type": "code",
    "id": "l-IHRhU1hs3E",
    "outputId": "df37fb5f-7a92-4c0c-c1e4-d15799617a41"
   },
   "outputs": [
    {
     "data": {
      "text/plain": [
       "array([[[9]],\n",
       "\n",
       "       [[5]],\n",
       "\n",
       "       [[9]]])"
      ]
     },
     "execution_count": 36,
     "metadata": {
      "tags": []
     },
     "output_type": "execute_result"
    }
   ],
   "source": [
    "b_expanded2"
   ]
  },
  {
   "cell_type": "markdown",
   "metadata": {
    "colab_type": "text",
    "id": "Mv8XZb4Bhs3I"
   },
   "source": [
    "NumPy のブロードキャストは慣れるまで直感に反するように感じる場合があるかもしれません。\n",
    "しかし、使いこなすと同じ計算が Python のループを使って行うよりも高速に行えるため、ブロードキャストを理解することは非常に重要です。\n",
    "一つ具体例を見てみます。\n",
    "\n",
    "$3 \\times 3$ 行列 `a` に、3 次元ベクトル `b` を足します。\n",
    "まず、`a`、`b` および結果を格納する配列 `c` を定義します。"
   ]
  },
  {
   "cell_type": "code",
   "execution_count": 0,
   "metadata": {
    "colab": {},
    "colab_type": "code",
    "id": "KW3-2Gz3hs3J"
   },
   "outputs": [],
   "source": [
    "a = np.array([\n",
    "    [0, 1, 2],\n",
    "    [3, 4, 5],\n",
    "    [6, 7, 8]\n",
    "])\n",
    "\n",
    "b = np.array([1, 2, 3])\n",
    "\n",
    "# 結果を格納する配列を先に作る\n",
    "c = np.empty((3, 3))"
   ]
  },
  {
   "cell_type": "markdown",
   "metadata": {
    "colab_type": "text",
    "id": "CaPTRYq1hs3L"
   },
   "source": [
    "`%%timeit` というJupyter Notebookで使用できるそのセルの実行時間を計測するためのマジックを使って、`a` の各行（1 次元目）に `b` の値を足していく計算を Python のループを使って 1 行ずつ処理していくコードの実行時間を測ってみます。"
   ]
  },
  {
   "cell_type": "code",
   "execution_count": 38,
   "metadata": {
    "colab": {
     "base_uri": "https://localhost:8080/",
     "height": 53
    },
    "colab_type": "code",
    "id": "aTJ5owYUhs3M",
    "outputId": "91e5e974-8db0-4f00-fa9b-f8fd9cd38d92"
   },
   "outputs": [
    {
     "name": "stdout",
     "output_type": "stream",
     "text": [
      "The slowest run took 127.79 times longer than the fastest. This could mean that an intermediate result is being cached.\n",
      "100000 loops, best of 3: 4.72 µs per loop\n"
     ]
    }
   ],
   "source": [
    "%%timeit\n",
    "for i in range(a.shape[0]):\n",
    "    c[i, :] = a[i, :] + b"
   ]
  },
  {
   "cell_type": "code",
   "execution_count": 39,
   "metadata": {
    "colab": {
     "base_uri": "https://localhost:8080/",
     "height": 71
    },
    "colab_type": "code",
    "id": "-6z4EGzXhs3Q",
    "outputId": "df8ab983-70cf-4b4f-8fdf-39a25d39ebf1"
   },
   "outputs": [
    {
     "data": {
      "text/plain": [
       "array([[ 1.,  3.,  5.],\n",
       "       [ 4.,  6.,  8.],\n",
       "       [ 7.,  9., 11.]])"
      ]
     },
     "execution_count": 39,
     "metadata": {
      "tags": []
     },
     "output_type": "execute_result"
    }
   ],
   "source": [
    "c"
   ]
  },
  {
   "cell_type": "markdown",
   "metadata": {
    "colab_type": "text",
    "id": "3KXentjEhs3T"
   },
   "source": [
    "次に、NumPy のブロードキャストを活用した方法で同じ計算を行ってみます。"
   ]
  },
  {
   "cell_type": "code",
   "execution_count": 40,
   "metadata": {
    "colab": {
     "base_uri": "https://localhost:8080/",
     "height": 53
    },
    "colab_type": "code",
    "id": "pCgJcwt7hs3T",
    "outputId": "ec62565d-81bf-4500-a47b-f63f7ddb7643"
   },
   "outputs": [
    {
     "name": "stdout",
     "output_type": "stream",
     "text": [
      "The slowest run took 33.07 times longer than the fastest. This could mean that an intermediate result is being cached.\n",
      "1000000 loops, best of 3: 1.12 µs per loop\n"
     ]
    }
   ],
   "source": [
    "%%timeit\n",
    "c = a + b"
   ]
  },
  {
   "cell_type": "code",
   "execution_count": 41,
   "metadata": {
    "colab": {
     "base_uri": "https://localhost:8080/",
     "height": 71
    },
    "colab_type": "code",
    "id": "EAetPXrphs3Z",
    "outputId": "7025b57a-f4ac-4f64-a3e2-2a5ceb53e9d9"
   },
   "outputs": [
    {
     "data": {
      "text/plain": [
       "array([[ 1.,  3.,  5.],\n",
       "       [ 4.,  6.,  8.],\n",
       "       [ 7.,  9., 11.]])"
      ]
     },
     "execution_count": 41,
     "metadata": {
      "tags": []
     },
     "output_type": "execute_result"
    }
   ],
   "source": [
    "c"
   ]
  },
  {
   "cell_type": "markdown",
   "metadata": {
    "colab_type": "text",
    "id": "USEUvvcChs3c"
   },
   "source": [
    "計算結果は当然同じになります。\n",
    "しかし、実行時間が 2.5 倍以上短くなっています。\n",
    "\n",
    "このように、ブロードキャストを理解して活用することで、記述が簡単になるだけでなく、実行速度という点においても有利になります。"
   ]
  },
  {
   "cell_type": "markdown",
   "metadata": {
    "colab_type": "text",
    "id": "8Fd_G9JckA0Z"
   },
   "source": [
    "## 行列積\n",
    "\n",
    "行列の要素ごとの積は `*` を用いて計算できました。\n",
    "一方、通常の行列同士の積（行列積）の計算は、`*` ではなく、別の方法で行います。\n",
    "方法は 2 種類あります。\n",
    "\n",
    "1つは、`np.dot()` 関数を用いる方法です。\n",
    "`np.dot()` は 2 つの引数をとり、それらの行列積を計算して返す関数です。\n",
    "今、`A` という行列と `B` という行列があり、行列積 `AB` を計算したいとします。\n",
    "これは `np.dot(A, B)` と書くことで計算できます。\n",
    "もし `BA` を計算したい場合は、`np.dot(B, A)` と書きます。\n",
    "\n",
    "もう 1 つは、ndarray オブジェクトが持つ `dot()` メソッドを使う方法です。\n",
    "これを用いると、同じ計算が `A.dot(B)` と書くことによって行えます。"
   ]
  },
  {
   "cell_type": "code",
   "execution_count": 0,
   "metadata": {
    "colab": {},
    "colab_type": "code",
    "id": "_rMylHNEhpFs"
   },
   "outputs": [],
   "source": [
    "# 行列 A の定義\n",
    "A = np.array([\n",
    "    [0, 1, 2],\n",
    "    [3, 4, 5],\n",
    "    [6, 7, 8]\n",
    "])\n",
    "\n",
    "# 行列 B の定義\n",
    "B = np.array([\n",
    "    [1, 2, 3],\n",
    "    [4, 5, 6],\n",
    "    [7, 8, 9]\n",
    "])"
   ]
  },
  {
   "cell_type": "markdown",
   "metadata": {
    "colab_type": "text",
    "id": "P-mVIroIhs3j"
   },
   "source": [
    "実際にこの $3 \\times 3$ の 2 つの行列の行列積を計算してみましょう。"
   ]
  },
  {
   "cell_type": "code",
   "execution_count": 43,
   "metadata": {
    "colab": {
     "base_uri": "https://localhost:8080/",
     "height": 71
    },
    "colab_type": "code",
    "id": "Go9DfbmXhs3l",
    "outputId": "a3a80f89-dfb3-4d9c-bfd7-fc312682a613"
   },
   "outputs": [
    {
     "name": "stdout",
     "output_type": "stream",
     "text": [
      "[[ 18  21  24]\n",
      " [ 54  66  78]\n",
      " [ 90 111 132]]\n"
     ]
    }
   ],
   "source": [
    "# 行列積の計算 (1)\n",
    "C = np.dot(A, B)\n",
    "\n",
    "print(C)"
   ]
  },
  {
   "cell_type": "markdown",
   "metadata": {
    "colab_type": "text",
    "id": "FNU92PFPhs3o"
   },
   "source": [
    "同じ計算をもう一つの記述方法で行ってみます。"
   ]
  },
  {
   "cell_type": "code",
   "execution_count": 44,
   "metadata": {
    "colab": {
     "base_uri": "https://localhost:8080/",
     "height": 71
    },
    "colab_type": "code",
    "id": "-YmjkeC8hs3p",
    "outputId": "e67596c8-9016-46b4-e039-b60bd092254e"
   },
   "outputs": [
    {
     "name": "stdout",
     "output_type": "stream",
     "text": [
      "[[ 18  21  24]\n",
      " [ 54  66  78]\n",
      " [ 90 111 132]]\n"
     ]
    }
   ],
   "source": [
    "C = A.dot(B)\n",
    "\n",
    "print(C)"
   ]
  },
  {
   "cell_type": "code",
   "execution_count": 45,
   "metadata": {
    "colab": {
     "base_uri": "https://localhost:8080/",
     "height": 35
    },
    "colab_type": "code",
    "id": "E6UqcewwoFOv",
    "outputId": "a20650f8-9a9e-4459-c2d0-03f993c6b8b2"
   },
   "outputs": [
    {
     "data": {
      "text/plain": [
       "dtype('int64')"
      ]
     },
     "execution_count": 45,
     "metadata": {
      "tags": []
     },
     "output_type": "execute_result"
    }
   ],
   "source": [
    "# データ型の確認（整数値）\n",
    "a.dtype"
   ]
  },
  {
   "cell_type": "markdown",
   "metadata": {
    "colab_type": "text",
    "id": "4SH7NONRpfO1"
   },
   "source": [
    "## 基本的な統計量の求め方\n",
    "\n",
    "本節では、多次元配列に含まれる値の平均・分散・標準偏差・最大値・最小値といった統計値を計算する方法を紹介します。\n",
    "$8 \\times 10$ の行列を作成し、この中に含まれる値全体に渡るこれらの統計値を計算してみましょう。"
   ]
  },
  {
   "cell_type": "code",
   "execution_count": 46,
   "metadata": {
    "colab": {
     "base_uri": "https://localhost:8080/",
     "height": 161
    },
    "colab_type": "code",
    "id": "QtRVfBYahs3w",
    "outputId": "49921a48-5173-48b6-88f1-e9076edee2f1"
   },
   "outputs": [
    {
     "name": "stdout",
     "output_type": "stream",
     "text": [
      "[[1 7 7 7 7 1 6 4 1 9]\n",
      " [6 0 4 4 6 1 8 9 1 6]\n",
      " [4 1 6 3 4 1 7 1 1 6]\n",
      " [5 3 0 3 9 8 0 4 5 9]\n",
      " [0 4 8 8 1 3 9 2 9 2]\n",
      " [2 1 8 5 0 1 6 9 0 0]\n",
      " [3 8 5 9 6 2 8 4 5 7]\n",
      " [3 2 4 9 5 0 0 6 8 5]]\n"
     ]
    }
   ],
   "source": [
    "x = np.random.randint(0, 10, (8, 10))\n",
    "\n",
    "print(x)"
   ]
  },
  {
   "cell_type": "code",
   "execution_count": 47,
   "metadata": {
    "colab": {
     "base_uri": "https://localhost:8080/",
     "height": 35
    },
    "colab_type": "code",
    "id": "Vrkpn1d4qBNF",
    "outputId": "c0f9a3e1-70ff-4c10-df79-412b4481d49c"
   },
   "outputs": [
    {
     "data": {
      "text/plain": [
       "4.4"
      ]
     },
     "execution_count": 47,
     "metadata": {
      "tags": []
     },
     "output_type": "execute_result"
    }
   ],
   "source": [
    "# 平均値\n",
    "x.mean()"
   ]
  },
  {
   "cell_type": "code",
   "execution_count": 48,
   "metadata": {
    "colab": {
     "base_uri": "https://localhost:8080/",
     "height": 35
    },
    "colab_type": "code",
    "id": "Y_50qftbhs34",
    "outputId": "75b02375-e09d-40ed-feb8-9521635d5211"
   },
   "outputs": [
    {
     "data": {
      "text/plain": [
       "8.94"
      ]
     },
     "execution_count": 48,
     "metadata": {
      "tags": []
     },
     "output_type": "execute_result"
    }
   ],
   "source": [
    "# 分散\n",
    "x.var()"
   ]
  },
  {
   "cell_type": "code",
   "execution_count": 49,
   "metadata": {
    "colab": {
     "base_uri": "https://localhost:8080/",
     "height": 35
    },
    "colab_type": "code",
    "id": "OwpUSNzeqMLq",
    "outputId": "5013fe0b-0e2f-474f-ed55-f75d12db1eec"
   },
   "outputs": [
    {
     "data": {
      "text/plain": [
       "2.9899832775452104"
      ]
     },
     "execution_count": 49,
     "metadata": {
      "tags": []
     },
     "output_type": "execute_result"
    }
   ],
   "source": [
    "# 標準偏差\n",
    "x.std()"
   ]
  },
  {
   "cell_type": "code",
   "execution_count": 50,
   "metadata": {
    "colab": {
     "base_uri": "https://localhost:8080/",
     "height": 35
    },
    "colab_type": "code",
    "id": "xw_9lddYqcHF",
    "outputId": "1dfdb0e4-4035-471b-e5b4-66ba0a9bce6f"
   },
   "outputs": [
    {
     "data": {
      "text/plain": [
       "9"
      ]
     },
     "execution_count": 50,
     "metadata": {
      "tags": []
     },
     "output_type": "execute_result"
    }
   ],
   "source": [
    "# 最大値\n",
    "x.max()"
   ]
  },
  {
   "cell_type": "code",
   "execution_count": 51,
   "metadata": {
    "colab": {
     "base_uri": "https://localhost:8080/",
     "height": 35
    },
    "colab_type": "code",
    "id": "zls9oBfsqfJn",
    "outputId": "3d59a9a2-644e-41cf-c362-d7eabd65ada8"
   },
   "outputs": [
    {
     "data": {
      "text/plain": [
       "0"
      ]
     },
     "execution_count": 51,
     "metadata": {
      "tags": []
     },
     "output_type": "execute_result"
    }
   ],
   "source": [
    "# 最小値\n",
    "x.min()"
   ]
  },
  {
   "cell_type": "markdown",
   "metadata": {
    "colab_type": "text",
    "id": "wLLCGMeLhs4I"
   },
   "source": [
    "ここで、`x` は 2 次元配列なので、各次元に沿ったこれらの統計値の計算も行えます。\n",
    "例えば、最後の次元内だけで平均をとると、8 個の平均値が得られるはずです。\n",
    "平均を計算したい軸（何次元目に沿って計算するか）を `axis` という引数に指定します。"
   ]
  },
  {
   "cell_type": "code",
   "execution_count": 52,
   "metadata": {
    "colab": {
     "base_uri": "https://localhost:8080/",
     "height": 35
    },
    "colab_type": "code",
    "id": "uvfzeCY3hs4I",
    "outputId": "9f3c73b8-2625-4d7f-f8f3-ac1edb485b56"
   },
   "outputs": [
    {
     "data": {
      "text/plain": [
       "array([5. , 4.5, 3.4, 4.6, 4.6, 3.2, 5.7, 4.2])"
      ]
     },
     "execution_count": 52,
     "metadata": {
      "tags": []
     },
     "output_type": "execute_result"
    }
   ],
   "source": [
    "x.mean(axis=1)"
   ]
  },
  {
   "cell_type": "markdown",
   "metadata": {
    "colab_type": "text",
    "id": "4be3BgZ6hs4M"
   },
   "source": [
    "これは、以下のように 1 次元目の値の平均を計算していったものを並べているのと同じことです。\n",
    "（ゼロベースインデックスで考えています。`x` の形は `(8, 10)` なので、0 次元目のサイズが 8、1 次元目のサイズが 10 です。）"
   ]
  },
  {
   "cell_type": "code",
   "execution_count": 53,
   "metadata": {
    "colab": {
     "base_uri": "https://localhost:8080/",
     "height": 35
    },
    "colab_type": "code",
    "id": "sjqqYnSths4N",
    "outputId": "f14efcea-fb12-418a-a0f0-0e685a6454e2"
   },
   "outputs": [
    {
     "data": {
      "text/plain": [
       "array([5. , 4.5, 3.4, 4.6, 4.6, 3.2, 5.7, 4.2])"
      ]
     },
     "execution_count": 53,
     "metadata": {
      "tags": []
     },
     "output_type": "execute_result"
    }
   ],
   "source": [
    "np.array([\n",
    "    x[0, :].mean(),\n",
    "    x[1, :].mean(),\n",
    "    x[2, :].mean(),\n",
    "    x[3, :].mean(),\n",
    "    x[4, :].mean(),\n",
    "    x[5, :].mean(),\n",
    "    x[6, :].mean(),\n",
    "    x[7, :].mean(),\n",
    "])"
   ]
  },
  {
   "cell_type": "markdown",
   "metadata": {
    "colab_type": "text",
    "id": "rulZyy5osZxR"
   },
   "source": [
    "## NumPy を用いた重回帰分析\n",
    "\n",
    "第 4 章で説明した重回帰分析を NumPy を用いて行いましょう。\n",
    "\n",
    "4 つのデータをまとめた、以下のようなデザイン行列が与えられたとします。"
   ]
  },
  {
   "cell_type": "code",
   "execution_count": 54,
   "metadata": {
    "colab": {
     "base_uri": "https://localhost:8080/",
     "height": 89
    },
    "colab_type": "code",
    "id": "0grPocVNvn3P",
    "outputId": "482406cc-0e3a-404f-f1d4-12965a8a3df3"
   },
   "outputs": [
    {
     "name": "stdout",
     "output_type": "stream",
     "text": [
      "[[2 3]\n",
      " [2 5]\n",
      " [3 4]\n",
      " [5 9]]\n"
     ]
    }
   ],
   "source": [
    "# Xの定義\n",
    "X = np.array([\n",
    "    [2, 3],\n",
    "    [2, 5],\n",
    "    [3, 4],\n",
    "    [5, 9],\n",
    "])\n",
    "\n",
    "print(X)"
   ]
  },
  {
   "cell_type": "markdown",
   "metadata": {
    "colab_type": "text",
    "id": "1T4NGECihs4b"
   },
   "source": [
    "4 章の解説と同様に、切片を重みベクトルに含めて扱うため、デザイン行列の 0 列目に 1 という値を付け加えます。"
   ]
  },
  {
   "cell_type": "code",
   "execution_count": 55,
   "metadata": {
    "colab": {
     "base_uri": "https://localhost:8080/",
     "height": 89
    },
    "colab_type": "code",
    "id": "aSSfzZoahs4d",
    "outputId": "78de7a58-c0cd-4cd8-8b2c-cb7c3cff4b01"
   },
   "outputs": [
    {
     "name": "stdout",
     "output_type": "stream",
     "text": [
      "[[1. 2. 3.]\n",
      " [1. 2. 5.]\n",
      " [1. 3. 4.]\n",
      " [1. 5. 9.]]\n"
     ]
    }
   ],
   "source": [
    "# データ数（X.shape[0]) と同じ数だけ 1 が並んだ配列\n",
    "ones = np.ones((X.shape[0], 1))\n",
    "\n",
    "# concatenate を使い、1 次元目に 1 を付け加える\n",
    "X = np.concatenate((ones, X), axis=1)\n",
    "\n",
    "# 先頭に 1 が付け加わったデザイン行列\n",
    "print(X)"
   ]
  },
  {
   "cell_type": "markdown",
   "metadata": {
    "colab_type": "text",
    "id": "DQ9Ybyrphs4g"
   },
   "source": [
    "また、目標値が以下で与えられたとします。"
   ]
  },
  {
   "cell_type": "code",
   "execution_count": 56,
   "metadata": {
    "colab": {
     "base_uri": "https://localhost:8080/",
     "height": 35
    },
    "colab_type": "code",
    "id": "eU0UlmKrvxVK",
    "outputId": "874926a3-9cd1-4e40-87b6-2fbbeda9abb6"
   },
   "outputs": [
    {
     "name": "stdout",
     "output_type": "stream",
     "text": [
      "[1 5 6 8]\n"
     ]
    }
   ],
   "source": [
    "# t の定義\n",
    "t = np.array([1, 5, 6, 8])\n",
    "\n",
    "print(t)"
   ]
  },
  {
   "cell_type": "markdown",
   "metadata": {
    "colab_type": "text",
    "id": "UX4hYhjtwBlK"
   },
   "source": [
    "重回帰分析は、正規方程式を解くことで最適な 1 次方程式の重みを決定することができました。\n",
    "正規方程式の解は以下のようなものでした。\n",
    "\n",
    "$$\n",
    "{\\bf w} = ({\\bf X}^{{\\rm T}}{\\bf X})^{\\rm -1}{\\bf X}^{\\rm T}{\\bf t}\n",
    "$$\n",
    "\n",
    "これを、4 つのステップに分けて計算していきます。\n",
    "\n",
    "まずは、${\\bf X}^{\\rm T}{\\bf X}$ の計算です。ndarrayに対して `.T` で転置した配列を得られます。"
   ]
  },
  {
   "cell_type": "code",
   "execution_count": 57,
   "metadata": {
    "colab": {
     "base_uri": "https://localhost:8080/",
     "height": 71
    },
    "colab_type": "code",
    "id": "r_s8lxK9wvFW",
    "outputId": "284d2e54-e7cd-41cc-f531-37d34bbda2c9"
   },
   "outputs": [
    {
     "name": "stdout",
     "output_type": "stream",
     "text": [
      "[[  4.  12.  21.]\n",
      " [ 12.  42.  73.]\n",
      " [ 21.  73. 131.]]\n"
     ]
    }
   ],
   "source": [
    "# Step 1\n",
    "xx = np.dot(X.T, X)\n",
    "print(xx)"
   ]
  },
  {
   "cell_type": "markdown",
   "metadata": {
    "colab_type": "text",
    "id": "1x4UD4Tghs4v"
   },
   "source": [
    "次に、この逆行列を計算します。"
   ]
  },
  {
   "cell_type": "code",
   "execution_count": 58,
   "metadata": {
    "colab": {
     "base_uri": "https://localhost:8080/",
     "height": 71
    },
    "colab_type": "code",
    "id": "V4ZpY_CLxuRX",
    "outputId": "377972ff-e293-4b47-fdc8-a3fbeb8714a4"
   },
   "outputs": [
    {
     "name": "stdout",
     "output_type": "stream",
     "text": [
      "[[ 1.76530612 -0.39795918 -0.06122449]\n",
      " [-0.39795918  0.84693878 -0.40816327]\n",
      " [-0.06122449 -0.40816327  0.24489796]]\n"
     ]
    }
   ],
   "source": [
    "# Step 2\n",
    "xx_inv = np.linalg.inv(xx)\n",
    "print(xx_inv)"
   ]
  },
  {
   "cell_type": "markdown",
   "metadata": {
    "colab_type": "text",
    "id": "s40OeZJ0yJw5"
   },
   "source": [
    "逆行列の計算は `np.linalg.inv()` で行うことができます。\n",
    "\n",
    "次に、${\\bf X}^{\\rm T}{\\bf t}$ の計算をします。"
   ]
  },
  {
   "cell_type": "code",
   "execution_count": 59,
   "metadata": {
    "colab": {
     "base_uri": "https://localhost:8080/",
     "height": 35
    },
    "colab_type": "code",
    "id": "YR6kbSD1x3XU",
    "outputId": "078fa560-cf5b-44a6-a942-588c404798e4",
    "scrolled": true
   },
   "outputs": [
    {
     "name": "stdout",
     "output_type": "stream",
     "text": [
      "[ 20.  70. 124.]\n"
     ]
    }
   ],
   "source": [
    "# Step 3\n",
    "xt = np.dot(X.T, t)\n",
    "print(xt)"
   ]
  },
  {
   "cell_type": "markdown",
   "metadata": {
    "colab_type": "text",
    "id": "94huqVEDhs40"
   },
   "source": [
    "最後に、求めた `xx_inv` と `xt` を掛け合わせます。"
   ]
  },
  {
   "cell_type": "code",
   "execution_count": 60,
   "metadata": {
    "colab": {
     "base_uri": "https://localhost:8080/",
     "height": 35
    },
    "colab_type": "code",
    "id": "oBBA-NRbybHK",
    "outputId": "1b074b13-4868-4e6a-d492-7086dd82149f"
   },
   "outputs": [
    {
     "name": "stdout",
     "output_type": "stream",
     "text": [
      "[-0.14285714  0.71428571  0.57142857]\n"
     ]
    }
   ],
   "source": [
    "# Step 4\n",
    "w = np.dot(xx_inv, xt)\n",
    "print(w)"
   ]
  },
  {
   "cell_type": "markdown",
   "metadata": {
    "colab_type": "text",
    "id": "XsIpR4_ehs43"
   },
   "source": [
    "以上の計算は、以下のように 1 行で行うこともできます。"
   ]
  },
  {
   "cell_type": "code",
   "execution_count": 61,
   "metadata": {
    "colab": {
     "base_uri": "https://localhost:8080/",
     "height": 35
    },
    "colab_type": "code",
    "id": "SXPsTsIxhs43",
    "outputId": "b07969a9-f430-4ee3-faab-5baa540d01e5"
   },
   "outputs": [
    {
     "name": "stdout",
     "output_type": "stream",
     "text": [
      "[-0.14285714  0.71428571  0.57142857]\n"
     ]
    }
   ],
   "source": [
    "w_ = np.linalg.inv(X.T.dot(X)).dot(X.T).dot(t)\n",
    "\n",
    "print(w_)"
   ]
  },
  {
   "cell_type": "markdown",
   "metadata": {
    "colab_type": "text",
    "id": "k9xtcA31mXD-"
   },
   "source": [
    "実際には逆行列を陽に求めることは稀で、連立一次方程式を解く、すなわち逆行列を計算してベクトルに掛けるのに等しい計算をひとまとめに行う関数 `numpy.linalg.solve` を呼ぶ方が速度面でも精度面でも有利です。"
   ]
  },
  {
   "cell_type": "code",
   "execution_count": 62,
   "metadata": {
    "colab": {
     "base_uri": "https://localhost:8080/",
     "height": 35
    },
    "colab_type": "code",
    "id": "rL5mO_Srm7Xe",
    "outputId": "7bc952c3-6362-4bcc-9e32-c7b29dee81ee"
   },
   "outputs": [
    {
     "name": "stdout",
     "output_type": "stream",
     "text": [
      "[-0.14285714  0.71428571  0.57142857]\n"
     ]
    }
   ],
   "source": [
    "w_ = np.linalg.solve(X.T.dot(X), X.T.dot(t))\n",
    "\n",
    "print(w_)"
   ]
  },
  {
   "cell_type": "markdown",
   "metadata": {
    "colab_type": "text",
    "id": "SxZkwFz8hs45"
   },
   "source": [
    "数式を NumPy による配列の計算に落とし込むことに慣れていくには少し時間がかかりますが、慣れると少ない量のコードで記述できるだけでなく、高速に計算が行なえるため、大きな恩恵があります。"
   ]
  }
 ],
 "metadata": {
  "colab": {
   "collapsed_sections": [],
   "name": "08_Introduction_to_NumPy_ja.ipynb のコピー",
   "provenance": [],
   "version": "0.3.2"
  },
  "kernelspec": {
   "display_name": "Python 3",
   "language": "python",
   "name": "python3"
  },
  "language_info": {
   "codemirror_mode": {
    "name": "ipython",
    "version": 3
   },
   "file_extension": ".py",
   "mimetype": "text/x-python",
   "name": "python",
   "nbconvert_exporter": "python",
   "pygments_lexer": "ipython3",
   "version": "3.6.8"
  },
  "toc": {
   "base_numbering": 1,
   "nav_menu": {},
   "number_sections": true,
   "sideBar": true,
   "skip_h1_title": false,
   "title_cell": "Table of Contents",
   "title_sidebar": "Contents",
   "toc_cell": false,
   "toc_position": {},
   "toc_section_display": true,
   "toc_window_display": false
  }
 },
 "nbformat": 4,
 "nbformat_minor": 1
}
