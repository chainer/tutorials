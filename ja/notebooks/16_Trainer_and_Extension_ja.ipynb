{
  "nbformat": 4,
  "nbformat_minor": 0,
  "metadata": {
    "colab": {
      "name": "14_Trainer_and_Extension_ja.ipynb",
      "version": "0.3.2",
      "provenance": []
    },
    "kernelspec": {
      "display_name": "Python 3",
      "language": "python",
      "name": "python3"
    }
  },
  "cells": [
    {
      "metadata": {
        "colab_type": "text",
        "id": "AcUv8am-7QGl"
      },
      "cell_type": "markdown",
      "source": [
        "# Trainer と 拡張機能\n",
        "\n",
        "\n",
        "\n",
        "前章までは、学習ループを Python の `while` 文を使って記述してきました。しかし、ミニバッチをイテレータから取り出し、順伝播、損失、逆伝播をそれぞれ計算しモデルのパラメータに反映する処理は定型的なものになりがちです。そういった定型的な処理をまとめたものが `Trainer` です。\n",
        "\n",
        "`Trainer` には拡張機能が用意されており、学習曲線の可視化や、学習の途中状態やログの保存など、付加的な処理を簡単に追加することができます。\n",
        "\n",
        "\n",
        "## `Trainer` の使用方法\n",
        "\n",
        "### `Trainer` の概要\n",
        "\n",
        "下図は `Trainer` に関連するオブジェクトの関係図です。  \n",
        "\n",
        "![Trainerに関連するオブジェクト間の関係図](images/14/14_01.png)\n",
        "\n",
        "それぞれの役割は以下のようになっています。  \n",
        "\n",
        "- **データセット**は学習や検証に使用するためのデータの集合です。\n",
        "-  **イテレータ**はデータセットの一部をミニバッチとして切り出します。\n",
        "- **モデル**はパラメータを保持し、ミニバッチを入力として損失値を計算します。\n",
        "- **オプティマイザ**は最適化の手法を選択し、モデルのパラメータの更新を行います。代表的なものに `SGD`や`MomentumSGD`、`Adam`などがあります。\n",
        "- **アップデータ**はイテレータ・オプティマイザを統括し、順伝播・損失計算・逆伝播・パラメータの更新（オプティマイザの呼び出し）を行います。学習ループ内の定型的な処理はここで実行されます。\n",
        "- **`Trainer`** クラスはアップデータを受け取り、学習全体の管理を行います。具体的には、ミニバッチのループ処理や、学習終了タイミングの決定、設定された拡張機能の呼び出しなどを行います。\n",
        "- `Trainer` は、付加的な機能を**拡張機能**（extension）として設定することができます。よく利用される拡張機能は、学習の途中結果の保存や、検証用データセットによる学習途中での検証、ログによる学習進捗の可視化などです。\n",
        "\n",
        "次に、それぞれの役割をもったオブジェクトを順番に準備します。\n",
        "\n",
        "まず、本章で利用するパッケージをいくつか予めインポートしておきます。"
      ]
    },
    {
      "metadata": {
        "colab_type": "code",
        "id": "Jrl-YDMTW9qi",
        "colab": {}
      },
      "cell_type": "code",
      "source": [
        "import numpy as np\n",
        "import matplotlib.pyplot as plt\n",
        "\n",
        "import chainer\n",
        "import chainer.links as L\n",
        "import chainer.functions as F"
      ],
      "execution_count": 0,
      "outputs": []
    },
    {
      "metadata": {
        "id": "dMykM7Cs1vJ9",
        "colab_type": "text"
      },
      "cell_type": "markdown",
      "source": [
        "### データセットの準備\n",
        "\n",
        "ここでは scikit-learn というライブラリの標準機能で用意されているデータセットのうち、 Iris というデータセットを利用します（11章にも登場しました）。これは、アヤメ科の植物のうち 3 種（Setosa、Versicolour、Virginica）のサンプル 150 個について、花弁の長さの幅、がく片（花弁の付け根にある緑の葉のようなもの）の長さと幅を測ったものです。\n",
        "\n",
        "ここでは、このデータから 3 種のうちどれに属するのかを推測します。\n",
        "\n",
        "まず、データセットを読み込みます。"
      ]
    },
    {
      "metadata": {
        "colab_type": "code",
        "id": "d5nUh_BDWD5T",
        "outputId": "57f177c6-cb46-4a90-dcce-fc959d64f6f2",
        "colab": {}
      },
      "cell_type": "code",
      "source": [
        "from sklearn.datasets import load_iris\n",
        "dataset = load_iris()\n",
        "x = dataset.data\n",
        "t = dataset.target\n",
        "x.dtype, t.dtype"
      ],
      "execution_count": 0,
      "outputs": [
        {
          "output_type": "execute_result",
          "data": {
            "text/plain": [
              "(dtype('float64'), dtype('int64'))"
            ]
          },
          "metadata": {
            "tags": []
          },
          "execution_count": 44
        }
      ]
    },
    {
      "metadata": {
        "id": "hOPZB4CA1vKL",
        "colab_type": "text"
      },
      "cell_type": "markdown",
      "source": [
        "デフォルトでは 64 ビット浮動小数点型および 64 ビット整数型の `ndarray` なので、32 ビットに変換しておきます。これによってメモリ消費を節約できます。\n",
        "また一般的な GPU の浮動小数点演算は 32 ビットに最適化されているため、速度的にも有利です。\n",
        "浮動小数点数の精度は落ちますが、機械学習の計算では、多くの場合 32 ビットで十分です。"
      ]
    },
    {
      "metadata": {
        "colab_type": "code",
        "id": "cojO_naMW9OV",
        "outputId": "081d2bbd-7b74-4f67-e55d-ec4c769e33c7",
        "colab": {}
      },
      "cell_type": "code",
      "source": [
        "x = np.array(x, np.float32)\n",
        "t = np.array(t, np.int32)\n",
        "x.dtype, t.dtype"
      ],
      "execution_count": 0,
      "outputs": [
        {
          "output_type": "execute_result",
          "data": {
            "text/plain": [
              "(dtype('float32'), dtype('int32'))"
            ]
          },
          "metadata": {
            "tags": []
          },
          "execution_count": 45
        }
      ]
    },
    {
      "metadata": {
        "id": "cFb6dCNB1vKV",
        "colab_type": "text"
      },
      "cell_type": "markdown",
      "source": [
        "Chainerにはさまざまな定型的なデータセットクラスが用意されていますが、ここでは `TupleDataset` を使います。 `TupleDataset` は主に、データと正解がそれぞれ別のリストや配列になっているのを、ひとつずつのペアに変換して取り出せるようにします。"
      ]
    },
    {
      "metadata": {
        "colab_type": "code",
        "id": "2qa-nuv4Xvkr",
        "colab": {}
      },
      "cell_type": "code",
      "source": [
        "from chainer.datasets import TupleDataset\n",
        "dataset = TupleDataset(x, t)"
      ],
      "execution_count": 0,
      "outputs": []
    },
    {
      "metadata": {
        "colab_type": "text",
        "id": "ZQp3AXHuahFl"
      },
      "cell_type": "markdown",
      "source": [
        "本章では訓練と検証データのみ使用するため、テストデータは準備しません。データセットの 7 割を学習用とし、残りの 3 割を検証用にします。"
      ]
    },
    {
      "metadata": {
        "colab_type": "code",
        "id": "1gPnZGDmXbIO",
        "outputId": "f9a9e590-3811-495e-a4b7-420fb22d41d4",
        "colab": {}
      },
      "cell_type": "code",
      "source": [
        "from chainer.datasets import split_dataset_random\n",
        "n_train = int(len(dataset)*0.7)\n",
        "train, valid = split_dataset_random(dataset, n_train, seed=0)\n",
        "n_train, len(train), len(dataset)"
      ],
      "execution_count": 0,
      "outputs": [
        {
          "output_type": "execute_result",
          "data": {
            "text/plain": [
              "(105, 105, 150)"
            ]
          },
          "metadata": {
            "tags": []
          },
          "execution_count": 47
        }
      ]
    },
    {
      "metadata": {
        "colab_type": "text",
        "id": "bH-lLS6yZSMw"
      },
      "cell_type": "markdown",
      "source": [
        "Iris のデータセット 150 件のうち、105 件があらためて訓練用のデータセットとして取り出されました。\n",
        "\n",
        "\n",
        "### モデルの準備\n",
        "\n",
        "ここでは、3 層のMLP（multilayer perceptron, 多層パーセプトロン）を用意します。"
      ]
    },
    {
      "metadata": {
        "colab_type": "code",
        "id": "azPic1tTYMVI",
        "colab": {}
      },
      "cell_type": "code",
      "source": [
        "class MLP(chainer.Chain):\n",
        "\n",
        "    def __init__(self, n_mid_units=10, n_out=3):\n",
        "        super().__init__()\n",
        "\n",
        "        with self.init_scope():\n",
        "            self.fc1 = L.Linear(None, n_mid_units)\n",
        "            self.fc2 = L.Linear(n_mid_units, n_mid_units)\n",
        "            self.fc3 = L.Linear(n_mid_units, n_out)\n",
        "\n",
        "    def forward(self, x):\n",
        "        h = F.relu(self.fc1(x))\n",
        "        h = F.relu(self.fc2(h))\n",
        "        h = self.fc3(h)\n",
        "        return h"
      ],
      "execution_count": 0,
      "outputs": []
    },
    {
      "metadata": {
        "colab_type": "text",
        "id": "5XRHJxjaZZHJ"
      },
      "cell_type": "markdown",
      "source": [
        "### イテレータの準備\n",
        "\n",
        "13章と同様に、訓練データと検証データそれぞれに対してイテレータを作成します。"
      ]
    },
    {
      "metadata": {
        "colab_type": "code",
        "id": "VyBT8DSYWDuP",
        "colab": {}
      },
      "cell_type": "code",
      "source": [
        "from chainer import iterators\n",
        "batchsize = 32\n",
        "\n",
        "train_iter = iterators.SerialIterator(train, batchsize)\n",
        "valid_iter = iterators.SerialIterator(valid, batchsize, shuffle=False, repeat=False)"
      ],
      "execution_count": 0,
      "outputs": []
    },
    {
      "metadata": {
        "colab_type": "text",
        "id": "uiJFb24VWDoz"
      },
      "cell_type": "markdown",
      "source": [
        "### アップデータの準備\n",
        "\n",
        "学習ループを自分で書く場合、各イテレーションでは\n",
        " \n",
        " - データセットからミニバッチを作成\n",
        " - 順伝播（forward）の計算\n",
        " - 損失（loss）の計算\n",
        " - 誤差逆伝播（backward）の計算\n",
        " - オプティマイザによってパラメータを更新\n",
        " \n",
        "という一連のステップを実行します。これまでは、これは以下のように書いていました。\n",
        "\n",
        "\n",
        "```python\n",
        "train_batch = train_iter.next()\n",
        "x, t = concat_examples(train_batch)\n",
        "\n",
        "# ミニバッチのデータを使った予測値の計算\n",
        "y = nn(x)\n",
        "\n",
        "# 予測値と正解データから損失を計算\n",
        "loss = F.softmax_cross_entropy(y, t)\n",
        "\n",
        "# 損失からの誤差逆伝播による勾配の計算\n",
        "nn.cleargrads()\n",
        "loss.backward()\n",
        "\n",
        "# 勾配を使ってモデル内のパラメータを更新\n",
        "optimizer.update()\n",
        "```\n",
        "\n",
        "Chainer の機能として提供されているアップデータを用いることで、これらの一連の処理を簡単に書けるようになります。  \n",
        "\n",
        "アップデータには、学習のイテレーションを実行するのに必要な イテレータとオプティマイザを渡します。  \n",
        "\n",
        "- イテレータはデータセットを持っています。データセットからバッチサイズの数だけサンプルを取り出し、ミニバッチにまとめます。\n",
        "- オプティマイザは最適化対象のネットワークを持っています。それを使って順伝播と逆伝播を計算し、パラメータを更新します。  \n",
        "\n",
        "さっそく、アップデータオブジェクトを作成してみましょう。"
      ]
    },
    {
      "metadata": {
        "colab_type": "code",
        "id": "GcYn8dM3WDjD",
        "colab": {}
      },
      "cell_type": "code",
      "source": [
        "from chainer import optimizers\n",
        "from chainer import training\n",
        "\n",
        "# ネットワークを L.Classifier で包んで，損失の計算などをモデルに含める\n",
        "np.random.seed(0)\n",
        "model = L.Classifier(MLP())\n",
        "\n",
        "# 最適化手法を選択してオプティマイザを作成し、最適化対象のモデルを持たせる\n",
        "optimizer = optimizers.SGD(lr=0.01).setup(model)\n",
        "\n",
        "# アップデータにイテレータとオプティマイザを渡す\n",
        "updater = training.StandardUpdater(train_iter, optimizer, device=-1) # device=-1でCPUでの計算実行を指定"
      ],
      "execution_count": 0,
      "outputs": []
    },
    {
      "metadata": {
        "colab_type": "text",
        "id": "G0K5AGu1WDdz"
      },
      "cell_type": "markdown",
      "source": [
        "\n",
        "ここで作成したモデル `MLP` は、データを入力して予測値を計算することしかできません。これに損失計算を行う機能を追加するために、 `L.Classifier` を作成します。\n",
        "`L.Classifier` は、データ `x` に加えて正解ラベル `t` も入力します。\n",
        "`L.Classifier` は、`x` を `MLP` （`predictor` と呼びます）に渡して予測値を計算し、`t` と比較して損失値を返します。\n",
        "\n",
        "このとき利用する損失関数はデフォルトではソフトマックス交差エントロピー（`F.softmax_cross_entropy`）ですが、他の損失関数を指定することもできます。次の例では、代わりに平均二乗誤差 `F.mean_squared_error` を指定しています。\n",
        "\n",
        "```python\n",
        "model = L.Classifier(MLP(), lossfun=F.mean_squared_error, compute_accuracy=False)\n",
        "```\n",
        "\n",
        "ここで、`compute_accuracy=False` は回帰では算出されない正解率（accuracy）の計算を行わないことを指定しています。\n",
        "これによって、`L.Classifier`（分類）という名前ながら、回帰問題にも使うことができます。  \n",
        "\n",
        "`StandardUpdater` は、複数あるアップデータの実装のうち、最もシンプルなものです。他にも、複数のGPUを用いるための `ParallelUpdater` があります。\n",
        "\n",
        "GPUを用いた計算方法は13章を参照してください。\n",
        "\n",
        "\n",
        "### `Trainer` の作成と終了タイミングの指定\n",
        "\n",
        "`Trainer`は、アップデータを通して実際にイテレーションを繰り返し実行しています。その繰り返しの終了タイミングは、 `Trainer` の作成時にコンストラクタに対して引数に`(整数, 単位)`というタプルを渡して指定します。 単位には `'iteration'` もしくは `'epoch'` のいずれかの文字列を指定します。1 イテレーションとはミニバッチ 1 個分を処理することを表し、1 エポックとは、イテレーションを繰り返してデータセット全体を 1 周することを表します。\n",
        "\n",
        "例えば、 `(100, 'epoch')` のように指定すると、`Trainer` は 100 エポックで学習を終了します。\n",
        "`(100, 'iteration')` と指定すると、100 イテレーション後に学習を終了します。\n",
        "\n",
        "`Trainer`を作るときにこの引数（`stop_trigger`という名前がついています）を指定しないと、学習は自動的には止まらず、永久にループが回り続けます。\n",
        "\n",
        "では、実際に 10 エポック分のループを実行したら停止する `Trainer` オブジェクトを作成します。ひとつめの引数にループ内の処理を実行するアップデータを渡し、2 つ目に停止条件を表すタプルを指定しています。"
      ]
    },
    {
      "metadata": {
        "colab_type": "code",
        "id": "tgMn4W8XWDYc",
        "colab": {}
      },
      "cell_type": "code",
      "source": [
        "trainer = training.Trainer(updater, (10, 'epoch'), out='results/iris_result1')"
      ],
      "execution_count": 0,
      "outputs": []
    },
    {
      "metadata": {
        "colab_type": "text",
        "id": "FFmZB9GLPPhR"
      },
      "cell_type": "markdown",
      "source": [
        "`out` 引数は、各種データを保存するときのディレクトリを指定しています。ディレクトリがない場合は自動的に作成します。主に、この次に説明する拡張機能で使われます。たとえば、学習のログや損失の変化のグラフの画像ファイルなどを保存します。\n",
        "\n",
        "### 拡張機能\n",
        "\n",
        "拡張機能を使うと、`Trainer` に機能を追加することができます。\n",
        "\n",
        "たとえば、学習は `trainer.run()` で実行しますが、データセットやモデルによっては、完了までに数時間、数日、あるいは数か月ととても長い時間を要します。このとき、「`PrintReport`」などの拡張機能を利用することによって途中経過を画面に表示し、学習の進行を確認することができます。\n",
        "\n",
        "また、「`snapshot`」拡張機能を使えば、定期的にファイルにモデルや状態を保存することによって、不意に学習が異常終了したときに備えることができます。\n",
        "\n",
        "よく使われる代表的な拡張機能には、次のようなものがあります。\n",
        "\n",
        "- `LogReport`: ログを自動的にファイルに保存する\n",
        "- `PrintReport`: ターミナルに損失などの情報を表示する\n",
        "- `PlotReport`: 損失をグラフで画像として保存する\n",
        "- `snapshot`: 定期的に `Trainer` の状態を自動で保存する\n",
        "- `ProgressBar`: 学習の進捗をプログレスバーで表示する\n",
        "- `dump_graph`: モデルのネットワーク構造を Graphviz 形式で保存\n",
        "- `ParameterStatistics`: ネットワークのパラメータの平均や分散などの統計情報を出力\n",
        "\n",
        "必要に応じて自分で作成することもできます。\n",
        "\n",
        "拡張機能を設定するためには `trainer.extend()` というメソッドを使います。"
      ]
    },
    {
      "metadata": {
        "colab_type": "code",
        "id": "efO6EmvRfEkq",
        "colab": {}
      },
      "cell_type": "code",
      "source": [
        "from chainer.training import extensions\n",
        "\n",
        "trainer.extend(extensions.LogReport(trigger=(1, 'epoch'), log_name='log'))\n",
        "trainer.extend(extensions.snapshot(filename='snapshot_epoch-{.updater.epoch}'))\n",
        "trainer.extend(extensions.Evaluator(valid_iter, model, device=-1), name='val')\n",
        "trainer.extend(extensions.PrintReport(['epoch', 'iteration', 'main/loss', 'main/accuracy', 'val/main/loss', 'val/main/accuracy', 'fc1/W/data/mean', 'elapsed_time']))\n",
        "trainer.extend(extensions.ParameterStatistics(model.predictor.fc1, {'mean': np.mean}, report_grads=True))\n",
        "trainer.extend(extensions.PlotReport(['fc1/W/grad/mean'], x_key='epoch', file_name='mean.png'))\n",
        "trainer.extend(extensions.PlotReport(['main/loss', 'val/main/loss'], x_key='epoch', file_name='loss.png'))\n",
        "trainer.extend(extensions.PlotReport(['main/accuracy', 'val/main/accuracy'], x_key='epoch', file_name='accuracy.png'))\n",
        "trainer.extend(extensions.dump_graph('main/loss'))"
      ],
      "execution_count": 0,
      "outputs": []
    },
    {
      "metadata": {
        "colab_type": "text",
        "id": "nGoSdLLQzbHH"
      },
      "cell_type": "markdown",
      "source": [
        "ここに挙げた拡張機能をひとつずつ解説していきます。\n",
        "\n",
        "#### LogReport\n",
        "\n",
        "指定した周期ごとに `loss` 、 `accuracy` などを自動的に集計し、デフォルトでは `result` で指定したディレクトリに `log`というファイル名で JSON 形式で保存します。ファイル名を変更したい場合は、`log_name` に文字列を渡します。  \n",
        "\n",
        "集計の周期には`trigger`という引数にタプル型で`(数, 単位)`を指定します。単位としては `'epoch' `または `'iteration'` の文字列を使用します。上記の例では `(1, 'epoch')` となっています。これはエポックが終わる度に毎回記録するという意味です。\n",
        "\n",
        "\n",
        "#### snapshot\n",
        "\n",
        "`Trainer`オブジェクトを指定されたタイミング（デフォルトでは 1 エポックごと）で保存します。 `Trainer` オブジェクトは上述のようにアップデータを持っており、この中にオプティマイザとモデルが保持されています。  \n",
        "\n",
        "このスナップショットを保存しておけば、その時点から学習を再開させることが可能になります。学習プログラムが異常終了した場合などに役立ちます。また、スナップショットから学習済みモデルをとりだして推論だけを行いたい場合に有用です。\n",
        "\n",
        "`filename` という名前つき引数で保存時のファイル名を決めることができます。このときファイル名にエポック数などの数字を指定できるようになっており、エポック毎のモデルを全て別の名前で保存できたりします。\n",
        "\n",
        "\n",
        "#### dump_graph\n",
        "\n",
        "指定された `Variable` オブジェクトからたどることができる計算グラフを Graphviz 形式で保存します。 `Variable` は名前で指定することもできます。ここの例では `main/loss` という文字列を指定しています。これは `Reporter` によって、 `L.Classifier` で計算される損失につけられた名前です。この名前については、次節で `Reporter` と共に説明します。\n",
        "\n",
        "\n",
        "#### Evaluator\n",
        "\n",
        "検証用のデータセットのイテレータ、学習に使うモデルのオブジェクトを渡しておくことで、学習中のモデルを指定されたタイミングで検証用データセットを用いて評価します。  \n",
        "\n",
        "#### PrintReport\n",
        "\n",
        "`LogReport` で集計した値を標準出力に出力します。どの値を表示するかをリストの形で与えます。\n",
        "\n",
        "#### PlotReport\n",
        "\n",
        "引数のリストで指定された値の変遷をグラフに描画し、出力ディレクトリに `file_name` 引数で指定されたファイル名で画像として保存します。\n",
        "\n",
        "#### ParameterStatistics\n",
        "\n",
        "指定した `Link` が持つパラメータの平均・分散・最小値・最大値などの統計情報を計算して、ログに保存します。パラメータが発散していないかなどをチェックするのに便利です。  \n",
        "\n",
        "### 他の代表的な拡張\n",
        "\n",
        "今回は使用しませんが、あると便利な拡張がいくつかあります。\n",
        "\n",
        "#### ProgressBar\n",
        "\n",
        "引数で`update_interval`に整数値を設定すると、設定した周期ごとに学習の進捗を標準出力に表示することができます。また、終了予想時間や、学習速度も表示されるので、実行中の学習完了を待つか中止するかといった判断に利用できます。\n",
        "\n",
        "ここで紹介した拡張機能は、ここで紹介した以外にも様々なオプションを持っており、より柔軟に組み合わせることができます。詳しくは[公式のドキュメント](https://docs.chainer.org/en/stable/reference/training.html#extensions)を見てください。  \n",
        "\n",
        "\n",
        "### 学習の実行と結果の確認\n",
        "\n",
        "各種拡張を実際にセットできたので、学習を実行します。"
      ]
    },
    {
      "metadata": {
        "colab_type": "code",
        "id": "0aKrhvWFfErT",
        "outputId": "3e8faec2-8e25-47ff-f706-cb35dabd7cac",
        "colab": {
          "base_uri": "https://localhost:8080/",
          "height": 428
        }
      },
      "cell_type": "code",
      "source": [
        "trainer.run()"
      ],
      "execution_count": 0,
      "outputs": [
        {
          "output_type": "stream",
          "text": [
            "epoch       iteration   main/loss   main/accuracy  val/main/loss  val/main/accuracy  fc1/W/data/mean  elapsed_time\n",
            "\u001b[J1           4           1.9518      0.328125       1.31142        0.364183           -0.0138531       0.0150813     \n",
            "\u001b[J2           7           1.3382      0.333333       1.14251        0.496394           -0.0174134       0.501527      \n",
            "\u001b[J3           10          1.19061     0.520833       1.02638        0.697115           -0.0186956       0.986432      \n",
            "\u001b[J4           14          1.02905     0.59375        0.963594       0.728365           -0.0195719       1.4343        \n",
            "\u001b[J5           17          0.963032    0.572917       0.941674       0.635817           -0.0199932       1.83119       \n",
            "\u001b[J6           20          0.933824    0.65625        0.927926       0.635817           -0.0201843       2.29013       \n",
            "\u001b[J7           23          0.898568    0.666667       0.922321       0.604567           -0.0202231       2.69171       \n",
            "\u001b[J8           27          0.880937    0.671875       0.91617        0.604567           -0.0202239       3.06856       \n",
            "\u001b[J9           30          0.884525    0.604167       0.900951       0.635817           -0.0201749       3.44684       \n",
            "\u001b[J10          33          0.865465    0.677083       0.894293       0.635817           -0.0200754       3.84633       \n"
          ],
          "name": "stdout"
        }
      ]
    },
    {
      "metadata": {
        "colab_type": "text",
        "id": "Y3feBrhi7W-A"
      },
      "cell_type": "markdown",
      "source": [
        "学習ループを自分で書いた場合よりも簡単に同様の結果を得ることができました。  \n",
        "さらに、このように拡張機能を利用することで、様々なスコアや、学習曲線の可視化も自動で出力できました。\n",
        "\n",
        "さて、実際の学習結果はどのように保存されているでしょうか。\n",
        "`extension` で指定したディレクトリ `result/iris_result1` 内を確認します。 "
      ]
    },
    {
      "metadata": {
        "colab_type": "code",
        "id": "m7c5Rfp6fExX",
        "outputId": "039f10c9-d574-4f9e-8138-0e21f367cb75",
        "colab": {
          "base_uri": "https://localhost:8080/",
          "height": 85
        }
      },
      "cell_type": "code",
      "source": [
        "!ls results/iris_result1"
      ],
      "execution_count": 0,
      "outputs": [
        {
          "output_type": "stream",
          "text": [
            "accuracy.png  mean.png\t\t snapshot_epoch-3  snapshot_epoch-7\r\n",
            "cg.dot\t      snapshot_epoch-1\t snapshot_epoch-4  snapshot_epoch-8\r\n",
            "log\t      snapshot_epoch-10  snapshot_epoch-5  snapshot_epoch-9\r\n",
            "loss.png      snapshot_epoch-2\t snapshot_epoch-6\r\n"
          ],
          "name": "stdout"
        }
      ]
    },
    {
      "metadata": {
        "colab_type": "text",
        "id": "hsGviya-7kIJ"
      },
      "cell_type": "markdown",
      "source": [
        "精度の学習中の変化を確認する事ができる `accuracy.png` や損失を確認できる `loss.png` など、先ほど指定したファイルがあることが確認できました。  \n",
        "\n",
        "#### ログファイルの確認\n",
        "\n",
        "まず、学習中に集計した結果を `Pandas` を確認するためにログファイルを読み込んで、内容を10行だけ表示してみます。ログファイルは JSON 形式で保存されますが、ここでは見やすくするために Pandas を使用して展開しています。"
      ]
    },
    {
      "metadata": {
        "colab_type": "code",
        "id": "tAFZsypP8tr4",
        "colab": {}
      },
      "cell_type": "code",
      "source": [
        "import json\n",
        "import pandas as pd\n",
        "with open('results/iris_result1/log') as f:\n",
        "  result = json.load(f)\n",
        "  df_result = pd.DataFrame(result)"
      ],
      "execution_count": 0,
      "outputs": []
    },
    {
      "metadata": {
        "colab_type": "code",
        "id": "qZkvZkis8-z5",
        "outputId": "cce01068-5738-4476-9a42-34bd48b1ee83",
        "colab": {
          "base_uri": "https://localhost:8080/",
          "height": 379
        }
      },
      "cell_type": "code",
      "source": [
        "df_result.tail(10)"
      ],
      "execution_count": 0,
      "outputs": [
        {
          "output_type": "execute_result",
          "data": {
            "text/html": [
              "<div>\n",
              "<style scoped>\n",
              "    .dataframe tbody tr th:only-of-type {\n",
              "        vertical-align: middle;\n",
              "    }\n",
              "\n",
              "    .dataframe tbody tr th {\n",
              "        vertical-align: top;\n",
              "    }\n",
              "\n",
              "    .dataframe thead th {\n",
              "        text-align: right;\n",
              "    }\n",
              "</style>\n",
              "<table border=\"1\" class=\"dataframe\">\n",
              "  <thead>\n",
              "    <tr style=\"text-align: right;\">\n",
              "      <th></th>\n",
              "      <th>elapsed_time</th>\n",
              "      <th>epoch</th>\n",
              "      <th>fc1/W/data/mean</th>\n",
              "      <th>fc1/W/grad/mean</th>\n",
              "      <th>fc1/b/data/mean</th>\n",
              "      <th>fc1/b/grad/mean</th>\n",
              "      <th>iteration</th>\n",
              "      <th>main/accuracy</th>\n",
              "      <th>main/loss</th>\n",
              "      <th>val/main/accuracy</th>\n",
              "      <th>val/main/loss</th>\n",
              "    </tr>\n",
              "  </thead>\n",
              "  <tbody>\n",
              "    <tr>\n",
              "      <th>0</th>\n",
              "      <td>0.015081</td>\n",
              "      <td>1</td>\n",
              "      <td>-0.013853</td>\n",
              "      <td>0.140541</td>\n",
              "      <td>-0.000789</td>\n",
              "      <td>0.032772</td>\n",
              "      <td>4</td>\n",
              "      <td>0.328125</td>\n",
              "      <td>1.951798</td>\n",
              "      <td>0.364183</td>\n",
              "      <td>1.311421</td>\n",
              "    </tr>\n",
              "    <tr>\n",
              "      <th>1</th>\n",
              "      <td>0.501527</td>\n",
              "      <td>2</td>\n",
              "      <td>-0.017413</td>\n",
              "      <td>0.059297</td>\n",
              "      <td>-0.001593</td>\n",
              "      <td>0.012503</td>\n",
              "      <td>7</td>\n",
              "      <td>0.333333</td>\n",
              "      <td>1.338196</td>\n",
              "      <td>0.496394</td>\n",
              "      <td>1.142508</td>\n",
              "    </tr>\n",
              "    <tr>\n",
              "      <th>2</th>\n",
              "      <td>0.986432</td>\n",
              "      <td>3</td>\n",
              "      <td>-0.018696</td>\n",
              "      <td>0.040050</td>\n",
              "      <td>-0.001874</td>\n",
              "      <td>0.008863</td>\n",
              "      <td>10</td>\n",
              "      <td>0.520833</td>\n",
              "      <td>1.190611</td>\n",
              "      <td>0.697115</td>\n",
              "      <td>1.026382</td>\n",
              "    </tr>\n",
              "    <tr>\n",
              "      <th>3</th>\n",
              "      <td>1.434304</td>\n",
              "      <td>4</td>\n",
              "      <td>-0.019572</td>\n",
              "      <td>0.017914</td>\n",
              "      <td>-0.002052</td>\n",
              "      <td>0.003401</td>\n",
              "      <td>14</td>\n",
              "      <td>0.593750</td>\n",
              "      <td>1.029055</td>\n",
              "      <td>0.728365</td>\n",
              "      <td>0.963594</td>\n",
              "    </tr>\n",
              "    <tr>\n",
              "      <th>4</th>\n",
              "      <td>1.831189</td>\n",
              "      <td>5</td>\n",
              "      <td>-0.019993</td>\n",
              "      <td>0.013107</td>\n",
              "      <td>-0.002120</td>\n",
              "      <td>0.002150</td>\n",
              "      <td>17</td>\n",
              "      <td>0.572917</td>\n",
              "      <td>0.963032</td>\n",
              "      <td>0.635817</td>\n",
              "      <td>0.941674</td>\n",
              "    </tr>\n",
              "    <tr>\n",
              "      <th>5</th>\n",
              "      <td>2.290132</td>\n",
              "      <td>6</td>\n",
              "      <td>-0.020184</td>\n",
              "      <td>0.000404</td>\n",
              "      <td>-0.002132</td>\n",
              "      <td>-0.001159</td>\n",
              "      <td>20</td>\n",
              "      <td>0.656250</td>\n",
              "      <td>0.933824</td>\n",
              "      <td>0.635817</td>\n",
              "      <td>0.927926</td>\n",
              "    </tr>\n",
              "    <tr>\n",
              "      <th>6</th>\n",
              "      <td>2.691707</td>\n",
              "      <td>7</td>\n",
              "      <td>-0.020223</td>\n",
              "      <td>0.002838</td>\n",
              "      <td>-0.002103</td>\n",
              "      <td>-0.000513</td>\n",
              "      <td>23</td>\n",
              "      <td>0.666667</td>\n",
              "      <td>0.898568</td>\n",
              "      <td>0.604567</td>\n",
              "      <td>0.922321</td>\n",
              "    </tr>\n",
              "    <tr>\n",
              "      <th>7</th>\n",
              "      <td>3.068565</td>\n",
              "      <td>8</td>\n",
              "      <td>-0.020224</td>\n",
              "      <td>-0.000685</td>\n",
              "      <td>-0.002061</td>\n",
              "      <td>-0.001445</td>\n",
              "      <td>27</td>\n",
              "      <td>0.671875</td>\n",
              "      <td>0.880937</td>\n",
              "      <td>0.604567</td>\n",
              "      <td>0.916170</td>\n",
              "    </tr>\n",
              "    <tr>\n",
              "      <th>8</th>\n",
              "      <td>3.446843</td>\n",
              "      <td>9</td>\n",
              "      <td>-0.020175</td>\n",
              "      <td>-0.002747</td>\n",
              "      <td>-0.002004</td>\n",
              "      <td>-0.001915</td>\n",
              "      <td>30</td>\n",
              "      <td>0.604167</td>\n",
              "      <td>0.884525</td>\n",
              "      <td>0.635817</td>\n",
              "      <td>0.900951</td>\n",
              "    </tr>\n",
              "    <tr>\n",
              "      <th>9</th>\n",
              "      <td>3.846334</td>\n",
              "      <td>10</td>\n",
              "      <td>-0.020075</td>\n",
              "      <td>-0.003339</td>\n",
              "      <td>-0.001938</td>\n",
              "      <td>-0.002206</td>\n",
              "      <td>33</td>\n",
              "      <td>0.677083</td>\n",
              "      <td>0.865465</td>\n",
              "      <td>0.635817</td>\n",
              "      <td>0.894293</td>\n",
              "    </tr>\n",
              "  </tbody>\n",
              "</table>\n",
              "</div>"
            ],
            "text/plain": [
              "   elapsed_time  epoch  fc1/W/data/mean  fc1/W/grad/mean  fc1/b/data/mean  \\\n",
              "0      0.015081      1        -0.013853         0.140541        -0.000789   \n",
              "1      0.501527      2        -0.017413         0.059297        -0.001593   \n",
              "2      0.986432      3        -0.018696         0.040050        -0.001874   \n",
              "3      1.434304      4        -0.019572         0.017914        -0.002052   \n",
              "4      1.831189      5        -0.019993         0.013107        -0.002120   \n",
              "5      2.290132      6        -0.020184         0.000404        -0.002132   \n",
              "6      2.691707      7        -0.020223         0.002838        -0.002103   \n",
              "7      3.068565      8        -0.020224        -0.000685        -0.002061   \n",
              "8      3.446843      9        -0.020175        -0.002747        -0.002004   \n",
              "9      3.846334     10        -0.020075        -0.003339        -0.001938   \n",
              "\n",
              "   fc1/b/grad/mean  iteration  main/accuracy  main/loss  val/main/accuracy  \\\n",
              "0         0.032772          4       0.328125   1.951798           0.364183   \n",
              "1         0.012503          7       0.333333   1.338196           0.496394   \n",
              "2         0.008863         10       0.520833   1.190611           0.697115   \n",
              "3         0.003401         14       0.593750   1.029055           0.728365   \n",
              "4         0.002150         17       0.572917   0.963032           0.635817   \n",
              "5        -0.001159         20       0.656250   0.933824           0.635817   \n",
              "6        -0.000513         23       0.666667   0.898568           0.604567   \n",
              "7        -0.001445         27       0.671875   0.880937           0.604567   \n",
              "8        -0.001915         30       0.604167   0.884525           0.635817   \n",
              "9        -0.002206         33       0.677083   0.865465           0.635817   \n",
              "\n",
              "   val/main/loss  \n",
              "0       1.311421  \n",
              "1       1.142508  \n",
              "2       1.026382  \n",
              "3       0.963594  \n",
              "4       0.941674  \n",
              "5       0.927926  \n",
              "6       0.922321  \n",
              "7       0.916170  \n",
              "8       0.900951  \n",
              "9       0.894293  "
            ]
          },
          "metadata": {
            "tags": []
          },
          "execution_count": 56
        }
      ]
    },
    {
      "metadata": {
        "colab_type": "text",
        "id": "HoCm7-KB8Yon"
      },
      "cell_type": "markdown",
      "source": [
        "#### PlotReportで作成されたグラフを確認する\n",
        "\n",
        "保存されている損失のグラフを確認します。画像は、 `result` で指定したディレクトリに、 `PlotReport` オブジェクト作成時に指定したファイル名で保存されます。ここでは、損失のグラフは `'results/iris_result1/loss.png'` にあるはずです。Jupyter Notebook で画像を表示する方法はいくつかありますが、最も簡単なのは `IPython` で画像を直接表示する方法です。"
      ]
    },
    {
      "metadata": {
        "colab_type": "code",
        "id": "jBIsTdGAfE8K",
        "outputId": "46a4a293-d298-43c1-e84b-14fdb5a0dca5",
        "colab": {
          "base_uri": "https://localhost:8080/",
          "height": 381
        }
      },
      "cell_type": "code",
      "source": [
        "from IPython.display import Image\n",
        "Image('results/iris_result1/loss.png')"
      ],
      "execution_count": 0,
      "outputs": [
        {
          "output_type": "execute_result",
          "data": {
            "image/png": "[encoded data removed]",
            "text/plain": [
              "<IPython.core.display.Image object>"
            ]
          },
          "metadata": {
            "tags": []
          },
          "execution_count": 57
        }
      ]
    },
    {
      "metadata": {
        "colab_type": "text",
        "id": "HAbdXaHd9dtk"
      },
      "cell_type": "markdown",
      "source": [
        "正解率のグラフも同様に確認します。"
      ]
    },
    {
      "metadata": {
        "colab_type": "code",
        "id": "jy1R7Ph38Nbb",
        "outputId": "46d40def-38d1-4a76-ce8a-cc89c9b3d720",
        "colab": {
          "base_uri": "https://localhost:8080/",
          "height": 381
        }
      },
      "cell_type": "code",
      "source": [
        "Image('results/iris_result1/accuracy.png')"
      ],
      "execution_count": 0,
      "outputs": [
        {
          "output_type": "execute_result",
          "data": {
            "image/png": "[encoded data removed]",
            "text/plain": [
              "<IPython.core.display.Image object>"
            ]
          },
          "metadata": {
            "tags": []
          },
          "execution_count": 58
        }
      ]
    },
    {
      "metadata": {
        "colab_type": "text",
        "id": "5KcEjdE39sy5"
      },
      "cell_type": "markdown",
      "source": [
        "#### 計算グラフの可視化\n",
        "\n",
        "`MLP` は自分で書いたネットワーク定義ではありますが、 実際に`dump_graph` によって出力された計算グラフのファイルを見てみましょう。Graphviz 形式で保存されています。`pydot` という Python パッケージを使って描画し、PNG 形式でファイルに保存します。"
      ]
    },
    {
      "metadata": {
        "colab_type": "code",
        "id": "11YjoT7GyHY0",
        "outputId": "60ab4754-8ba3-4839-9a0b-b5e8262eca81",
        "colab": {
          "base_uri": "https://localhost:8080/",
          "height": 637
        }
      },
      "cell_type": "code",
      "source": [
        "import pydot\n",
        "\n",
        "file = pydot.graph_from_dot_file('results/iris_result1/cg.dot')\n",
        "file[0].write_png('graph.png')\n",
        "Image('graph.png', width=600, height=600)"
      ],
      "execution_count": 0,
      "outputs": [
        {
          "output_type": "execute_result",
          "data": {
            "image/png": "[encoded data removed]",
            "text/plain": [
              "<IPython.core.display.Image object>"
            ]
          },
          "metadata": {
            "tags": [],
            "image/png": {
              "height": 600,
              "width": 600
            }
          },
          "execution_count": 59
        }
      ]
    },
    {
      "metadata": {
        "id": "tr1Luiv81vNC",
        "colab_type": "text"
      },
      "cell_type": "markdown",
      "source": [
        "## `Reporter` でいろいろな値を表示する\n",
        "\n",
        "これで、`Trainer` を一通り使うことができるようになりました。実際に学習中に、どのように損失値や正解率が推移していくかを見ることができるようになりました。たとえば、`PrintReport` を使うとエポック、イテレーション、正解率や損失値を訓練データセットと検証データセットそれぞれについて表示することができます。しかし、それ以外の好きな値を表示できるようにしたいときは、どうすればよいでしょうか？\n",
        "\n",
        "また、`PlotReport`・`PrintReport` で表示や保存する対象の値を名前で指定しましたが、それはどのようにして決まるのでしょうか？\n",
        "\n",
        "実際に深層学習のモデルを作成したり開発するときは、モデルの中の値を各イテレーションで表示して値の推移を眺めることによって、そのモデルの内部挙動を把握したり推測します。そのために `Trainer` が内部的に保持している仕組みが `Reporter` と観測値（observation）です。`Reporter` の仕組みは[公式ドキュメントで説明されています](https://docs.chainer.org/en/stable/guides/report.html)ので、ここでは簡単な使い方として、`Reporter` で表示する値を追加する例について説明します。本章で作成した `MLP` モデルをすこし変更して、途中の値を見られるようにしてみましょう。"
      ]
    },
    {
      "metadata": {
        "scrolled": true,
        "id": "12hrJ2cx1vNL",
        "colab_type": "code",
        "colab": {}
      },
      "cell_type": "code",
      "source": [
        "from chainer import reporter\n",
        "class MLP2(chainer.Chain):\n",
        "\n",
        "    def __init__(self, n_mid_units=10, n_out=3):\n",
        "        super().__init__()\n",
        "\n",
        "        with self.init_scope():\n",
        "            self.fc1 = L.Linear(None, n_mid_units)\n",
        "            self.fc2 = L.Linear(n_mid_units, n_mid_units)\n",
        "            self.fc3 = L.Linear(n_mid_units, n_out)\n",
        "\n",
        "    def forward(self, x):\n",
        "        h = F.relu(self.fc1(x))\n",
        "        h = F.relu(self.fc2(h))\n",
        "        reporter.report({'avg_y': F.average(h), 'var_y':F.cross_covariance(h, h)}, self)\n",
        "        h = self.fc3(h)\n",
        "        return h"
      ],
      "execution_count": 0,
      "outputs": []
    },
    {
      "metadata": {
        "id": "lYpg21Rj1vNS",
        "colab_type": "text"
      },
      "cell_type": "markdown",
      "source": [
        "この 2 つめのサンプル `MLP2` では、2 層目 `fc2` の出力値に ReLU を適用したあとの値について、それぞれ平均と分散を計算し、 `avg_y` と `var_y` という名前で `Reporter` に登録しています。これだけで、 `forward` が呼び出される度に値を `Reporter` に登録するようになります。つづいて、`Trainer` を作成します。"
      ]
    },
    {
      "metadata": {
        "id": "wc9uneyI1vNd",
        "colab_type": "code",
        "colab": {}
      },
      "cell_type": "code",
      "source": [
        "model = L.Classifier(MLP2())\n",
        "optimizer = optimizers.SGD(lr=0.01).setup(model)\n",
        "train_iter = iterators.SerialIterator(train, 32)\n",
        "updater = training.StandardUpdater(train_iter, optimizer, device=-1) # device=-1でCPUでの計算実行を指定\n",
        "\n",
        "trainer = training.Trainer(updater, (10, 'epoch'))"
      ],
      "execution_count": 0,
      "outputs": []
    },
    {
      "metadata": {
        "id": "HTVc8d7G1vNg",
        "colab_type": "text"
      },
      "cell_type": "markdown",
      "source": [
        "次に、 `LogReport` と `PrintReport` を設定します。このとき `LogReport` を設定しないとそもそも値の収集が行われないので、`LogReport` は必須です。 `PrintReport` には、表示したい値を設定します。以下に、それぞれ値を説明します。\n",
        "\n",
        "- `epoch`、`iteration`、`elapsed_time`: `Trainer` オブジェクトが報告する値で、それぞれエポック数、イテレーション数、経過時間を表します。\n",
        "- `main` は、オプティマイザが保持するモデル（今回は `L.Classifier`）を表します。階層的に `/` で連結して具体的な統計値を指定します。\n",
        "- `main/accuracy` は、`L.Classifier` が報告する正解率です。\n",
        "- `main/loss` は、`L.Classifier` が報告する損失値です。\n",
        "- `main/predictor` は、`L.Classifier` に渡されたモデル（今回は `MLP2`）を表します。\n",
        "- `main/predictor/avg_y`: `MLP2.forward()` で報告された `avg_y` の値を指します。\n",
        "- `main/predictor/var_y`: 同様に、`MLP2.forward()` で報告された `var_y` の値を指します。\n"
      ]
    },
    {
      "metadata": {
        "id": "bXyP5bi21vNi",
        "colab_type": "code",
        "colab": {}
      },
      "cell_type": "code",
      "source": [
        "trainer.extend(extensions.LogReport())\n",
        "trainer.extend(extensions.PrintReport([\n",
        "    'epoch', 'iteration',\n",
        "    'main/accuracy',\n",
        "    'main/predictor/avg_y','main/predictor/var_y',\n",
        "    'fc2/W/grad/mean']))"
      ],
      "execution_count": 0,
      "outputs": []
    },
    {
      "metadata": {
        "id": "B2J8ntsH1vNo",
        "colab_type": "text"
      },
      "cell_type": "markdown",
      "source": [
        "`fc2/W/grad/mean` という統計値も一緒に指定しました。\n",
        "これは、`ParameterStatistics` という拡張機能が報告する値です。\n"
      ]
    },
    {
      "metadata": {
        "id": "G6SwJt6M1vNq",
        "colab_type": "code",
        "colab": {}
      },
      "cell_type": "code",
      "source": [
        "trainer.extend(extensions.ParameterStatistics(\n",
        "    model.predictor.fc2, {'mean': np.mean}, report_grads=True))"
      ],
      "execution_count": 0,
      "outputs": []
    },
    {
      "metadata": {
        "id": "YA4WYtXUGZmm",
        "colab_type": "text"
      },
      "cell_type": "markdown",
      "source": [
        "このように `ParameterStatistics` を設定すると、`model.predictor.fc2`（実体は `MLP2` に定義された `L.Linear`）の保持する各パラメータについて、指定した演算（ここでは `np.mean` = 平均）を行った結果を報告させることができます。`report_grads=True` と指定することで、逆伝播計算で得られた勾配も対象に含められます。\n",
        "\n",
        "`fc2/W/grad/mean` は、「パラメータ `fc2/W` の勾配について、`'mean'` をキーにして指定した統計演算を適用した結果」を表しています。"
      ]
    },
    {
      "metadata": {
        "id": "pOAMd_WX1vNu",
        "colab_type": "text"
      },
      "cell_type": "markdown",
      "source": [
        "これで準備ができたので、学習を実行します。"
      ]
    },
    {
      "metadata": {
        "id": "kq7pSlkj1vNw",
        "colab_type": "code",
        "outputId": "62029558-ab71-401d-c7d5-b8a89d2f5ada",
        "colab": {}
      },
      "cell_type": "code",
      "source": [
        "trainer.run()"
      ],
      "execution_count": 0,
      "outputs": [
        {
          "output_type": "stream",
          "text": [
            "epoch       iteration   main/accuracy  main/predictor/avg_y  main/predictor/var_y  fc2/W/grad/mean\n",
            "\u001b[J1           4           0.382812       0.681731              12.0617               0.0190097        \n",
            "\u001b[J2           7           0.354167       0.60446               13.6155               0.0107964        \n",
            "\u001b[J3           10          0.333333       0.581176              12.1022               0.00818742       \n",
            "\u001b[J4           14          0.375          0.584361              12.7264               0.0035688        \n",
            "\u001b[J5           17          0.354167       0.566191              13.1966               0.00321733       \n",
            "\u001b[J6           20          0.354167       0.559133              10.6492               0.00323597       \n",
            "\u001b[J7           23          0.375          0.563325              11.0718               0.00205388       \n",
            "\u001b[J8           27          0.382812       0.563935              10.7043               0.00171556       \n",
            "\u001b[J9           30          0.3125         0.50785               10.1208               0.00474193       \n",
            "\u001b[J10          33          0.375          0.530737              11.6571               0.00212069       \n"
          ],
          "name": "stdout"
        }
      ]
    },
    {
      "metadata": {
        "id": "ZYpmnHhS3Rwf",
        "colab_type": "text"
      },
      "cell_type": "markdown",
      "source": [
        "実際に `avg_y`、`var_y` が報告、表示されていることがわかります。また、 `ParameterStatistics` で計算した勾配の平均値も表示されています。"
      ]
    },
    {
      "metadata": {
        "id": "0bOo_GLQ1vNz",
        "colab_type": "text"
      },
      "cell_type": "markdown",
      "source": [
        "## 学習の早期終了\n",
        "\n",
        "`Trainer` で学習ループを実行している途中に、精度（accuracy）の伸びがいまひとつよくないことがあります。そういうときには、これ以上学習を続けても意味がないですから、自動的に学習を終了させると便利なことがあります。そのようなテクニックを早期終了（early stopping）といい、Chainer では `EarlyStoppingTrigger` を使います。\n",
        "\n",
        "他にも、モデルが過学習する前に学習を止めるといったことにも利用できます。本来であれば、訓練用データセットだけでなく、検証用データセットでも精度が収束するような手法やモデルを利用して過学習を防ぐべきですが、どうしても過学習を防げない（訓練用データセットに対する精度は上がり続けるが、検証用データセットではある点で精度が下がり始める）場合に、検証用データセットでの精度が最も低いタイミングで学習をとめてモデルを保存し、そのモデルを利用するといったことがあります。\n",
        "\n",
        "以下では、精度が向上しない場合に強制終了する例を示します。途中までは本章の例と同様ですから、まとめて実行します。"
      ]
    },
    {
      "metadata": {
        "id": "rjMQELOl1vN0",
        "colab_type": "code",
        "colab": {}
      },
      "cell_type": "code",
      "source": [
        "# モデルのインスタンス化\n",
        "np.random.seed(0)\n",
        "model = L.Classifier(MLP())\n",
        "\n",
        "from chainer import iterators\n",
        "batchsize = 32\n",
        "\n",
        "train_iter = iterators.SerialIterator(train, batchsize)\n",
        "valid_iter = iterators.SerialIterator(valid, batchsize, False, False)"
      ],
      "execution_count": 0,
      "outputs": []
    },
    {
      "metadata": {
        "id": "yQyHYGlH1vN1",
        "colab_type": "text"
      },
      "cell_type": "markdown",
      "source": [
        "この例では、精度の向上を抑えるために学習率を大きめに設定しておきます。そのオプティマイザをアップデータに渡します。"
      ]
    },
    {
      "metadata": {
        "id": "a4Eh8S8n1vN3",
        "colab_type": "code",
        "colab": {}
      },
      "cell_type": "code",
      "source": [
        "optimizer = optimizers.SGD(lr=0.1).setup(model)\n",
        "updater = training.StandardUpdater(train_iter, optimizer, device=-1)"
      ],
      "execution_count": 0,
      "outputs": []
    },
    {
      "metadata": {
        "id": "sJUzfZJY1vN5",
        "colab_type": "text"
      },
      "cell_type": "markdown",
      "source": [
        "早期終了は、`EarlyStoppingTrigger`のインスタンスを `Trainer`のコンストラクタの `stop_trigger` 引数に渡すことで設定します。`EarlyStoppingTrigger`のコンストラクタに渡す引数で、挙動を定義します。\n",
        "\n",
        "- `monitor` には監視対象の変数（`Variable`）を指定します。これは、`Reporter` で報告される値であり、名前も`PrintReport`等で参照するのと同じものです。この値の平均値が前回のチェックよりも悪化していれば動作を停止します。この例では、`Evaluator`による検証データセットに対する精度をチェックします。\n",
        "- `check_trigger` は、監視対象の変数をチェックするタイミングを指定します。この例では、毎エポックトリガーでのチェックを行います。\n",
        "- `max_trigger` は、`Trainer`でのループの最大回数です。トリガーがいつまでも発火しない場合に、ループが永久に続くことを防止します。この例では、最大 30 エポック実行する指定です。\n",
        "- `patients` は、発火しやすさを整数で指定します。たとえば 3 を指定すると、3 回連続で値が悪化したら終了するという動作になります。\n",
        "\n",
        "トリガーと `Trainer` の作成は次のようにします。また、結果が上書きされないように、保存先ディレクトリを `result/iris_result5` に変更しています。"
      ]
    },
    {
      "metadata": {
        "id": "f0TCA6yd1vN7",
        "colab_type": "code",
        "colab": {}
      },
      "cell_type": "code",
      "source": [
        "from chainer.training.triggers import EarlyStoppingTrigger\n",
        "\n",
        "trigger = EarlyStoppingTrigger(monitor='val/main/loss', check_trigger=(1, 'epoch'),\n",
        "                               patients=3, max_trigger=(30, 'epoch'))\n",
        "trainer = training.Trainer(updater, stop_trigger, out='results/iris_result5')"
      ],
      "execution_count": 0,
      "outputs": []
    },
    {
      "metadata": {
        "id": "-TSZS4Ak1vN_",
        "colab_type": "text"
      },
      "cell_type": "markdown",
      "source": [
        "早期終了の様子をうまく表示できるように拡張機能を設定します。また、検証用データセットに対する精度が監視対象ですから、その検証用データセットに対する精度を毎エポック毎に計算します。"
      ]
    },
    {
      "metadata": {
        "id": "rm8ObGBF1vOB",
        "colab_type": "code",
        "colab": {}
      },
      "cell_type": "code",
      "source": [
        "from chainer.training import extensions\n",
        "\n",
        "trainer.extend(extensions.LogReport(trigger=(1, 'epoch'), log_name='log'))\n",
        "trainer.extend(extensions.Evaluator(valid_iter, model, device=-1), name='val')\n",
        "trainer.extend(extensions.PrintReport([\n",
        "    'epoch', 'main/loss', 'main/accuracy',\n",
        "    'val/main/loss', 'val/main/accuracy', 'elapsed_time']))"
      ],
      "execution_count": 0,
      "outputs": []
    },
    {
      "metadata": {
        "id": "ZFXuEQ1r1vOD",
        "colab_type": "text"
      },
      "cell_type": "markdown",
      "source": [
        "学習を実行します。"
      ]
    },
    {
      "metadata": {
        "id": "1XTWH5MV1vOE",
        "colab_type": "code",
        "outputId": "9c35294d-77e9-4a43-dc75-c097e5d48e1b",
        "colab": {}
      },
      "cell_type": "code",
      "source": [
        "trainer.run()"
      ],
      "execution_count": 0,
      "outputs": [
        {
          "output_type": "stream",
          "text": [
            "epoch       main/loss   main/accuracy  val/main/loss  val/main/accuracy  elapsed_time\n",
            "\u001b[J1           2.50593     0.398438       0.784236       0.74399            0.0163182     \n",
            "\u001b[J2           0.785771    0.583333       0.679537       0.635817           0.0283164     \n",
            "\u001b[J3           0.69771     0.635417       0.716272       0.635817           0.0423134     \n",
            "\u001b[J4           0.610174    0.695312       0.577789       0.635817           0.0586934     \n",
            "\u001b[J5           0.694001    0.5625         0.493339       0.74399            0.0720842     \n",
            "\u001b[J6           0.482395    0.75           0.432176       0.783654           0.092452      \n",
            "\u001b[J7           0.45558     0.864583       0.483449       0.635817           0.116958      \n",
            "\u001b[J8           0.495235    0.710938       0.84161        0.620192           0.148239      \n",
            "\u001b[J9           0.60645     0.604167       0.380929       0.876202           0.17473       \n"
          ],
          "name": "stdout"
        },
        {
          "output_type": "stream",
          "text": [
            "/home/kuenishi/src/chainer/chainer/training/triggers/early_stopping_trigger.py:102: UserWarning: val/main/loss is not in observation\n",
            "  warnings.warn('{} is not in observation'.format(self.monitor))\n"
          ],
          "name": "stderr"
        },
        {
          "output_type": "stream",
          "text": [
            "\u001b[J10          0.365548    0.90625        0.33407        0.914663           0.201811      \n",
            "\u001b[J11          0.375977    0.898438       0.644668       0.635817           0.231672      \n",
            "\u001b[J12          0.811237    0.5625         0.373722       0.74399            0.260793      \n",
            "\u001b[J13          0.375374    0.84375        0.407725       0.74399            0.284379      \n"
          ],
          "name": "stdout"
        }
      ]
    },
    {
      "metadata": {
        "id": "pwyCbDzT1vOQ",
        "colab_type": "text"
      },
      "cell_type": "markdown",
      "source": [
        "最大エポック数は 30 を指定していましたが、13 エポック目で停止しました。\n",
        "\n",
        "このように早期終了を設定することによって、精度向上が滞ったタイミングでうまく学習を止め、無駄な計算を行わずに済ませることができます。\n",
        "\n",
        "\n",
        "本章は前章までのニューラルネットワークの実装方法をさらに簡易に、便利にするための方法をお伝えしました。\n",
        "自身で実装する際にはぜひ活用してみてください。\n",
        "次章では画像処理の基礎的な内容について解説します。"
      ]
    }
  ]
}
