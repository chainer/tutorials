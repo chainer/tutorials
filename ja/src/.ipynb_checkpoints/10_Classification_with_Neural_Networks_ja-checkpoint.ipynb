{
 "cells": [
  {
   "cell_type": "markdown",
   "metadata": {
    "colab_type": "text",
    "id": "8uLLPvtcSmnz"
   },
   "source": [
    "# ニューラルネットワークによる分類\n",
    "\n",
    "前章で扱った `Sequential` モデルは、一方向の連続的な流れを表すネットワークを簡潔に定義することができました。本章では、より汎用的なモデルの実装方法を解説します。\n",
    "\n",
    "本章から読み始める方もいるかと思いますので、前章と重複のある部分もしっかりと説明します。"
   ]
  },
  {
   "cell_type": "markdown",
   "metadata": {
    "colab_type": "text",
    "id": "KCzzBAR-r_vZ"
   },
   "source": [
    "## 問題設定\n",
    "\n",
    "今回は**ワインの分類**を行います。入力変数として、ワインに含まれる 10 種類の化合物を使用します。そして、そのワインに対して、1 等級、2 等級、3 等級と 3 クラスの分類を行います。\n",
    "\n",
    "### データの読み込み\n",
    "\n",
    "今回は [wine_class.csv](data/wine_class.csv) を使用して回帰を実装します。  ファイルを確認します。"
   ]
  },
  {
   "cell_type": "code",
   "execution_count": null,
   "metadata": {
    "colab": {},
    "colab_type": "code",
    "id": "Lmps1-BCSmn1"
   },
   "outputs": [],
   "source": [
    "import pandas as pd\n",
    "import numpy as np"
   ]
  },
  {
   "cell_type": "code",
   "execution_count": null,
   "metadata": {
    "colab": {},
    "colab_type": "code",
    "id": "K5VUBneOSmn4"
   },
   "outputs": [],
   "source": [
    "# CSVファイルの読み込み\n",
    "df = pd.read_csv(\"data/wine_class.csv\")"
   ]
  },
  {
   "cell_type": "code",
   "execution_count": null,
   "metadata": {
    "colab": {
     "base_uri": "https://localhost:8080/",
     "height": 159
    },
    "colab_type": "code",
    "id": "SXmKBfbfSmn6",
    "outputId": "673139cd-41e0-4a4f-f69f-d8ef3fb93b6f"
   },
   "outputs": [],
   "source": [
    "# データの表示（先頭の３件）\n",
    "df.head(3)"
   ]
  },
  {
   "cell_type": "code",
   "execution_count": null,
   "metadata": {
    "colab": {
     "base_uri": "https://localhost:8080/",
     "height": 34
    },
    "colab_type": "code",
    "id": "0sW6hsZMSmn-",
    "outputId": "6654a651-ed77-43af-c2d5-a6e4f87ba5ce"
   },
   "outputs": [],
   "source": [
    "df.shape"
   ]
  },
  {
   "cell_type": "markdown",
   "metadata": {
    "colab_type": "text",
    "id": "TCiFGuHtSmoB"
   },
   "source": [
    "## データの前準備\n",
    "\n",
    "この節では前章で取り扱った内容を復習を兼ねてもう一度一つ一つ確認していきます。"
   ]
  },
  {
   "cell_type": "markdown",
   "metadata": {
    "colab_type": "text",
    "id": "OOVnE3CWSmoC"
   },
   "source": [
    "### 入力変数と教師データ（出力変数）に切り分ける\n",
    "\n",
    "前節で読み込んだデータ `df` には、入力変数と教師データ（出力変数）の両方が含まれています。「Class」列が教師データ、それ以外の列が入力変数です。\n",
    "まず、これをそれぞれの変数に分割してみます。"
   ]
  },
  {
   "cell_type": "code",
   "execution_count": null,
   "metadata": {
    "colab": {},
    "colab_type": "code",
    "id": "MzHImWlhSmoD"
   },
   "outputs": [],
   "source": [
    "# 教師データ （先頭の \"Class\" 列）\n",
    "dt = df.iloc[:, 0]\n",
    " \n",
    "# 入力変数 （\"Alcohol\" 列から最後まで）\n",
    "dx = df.iloc[:, 1:]"
   ]
  },
  {
   "cell_type": "markdown",
   "metadata": {
    "colab_type": "text",
    "id": "Kjir1vr9SmoF"
   },
   "source": [
    "正しく切り分けられているかデータの中身を表示して確認します。"
   ]
  },
  {
   "cell_type": "code",
   "execution_count": null,
   "metadata": {
    "colab": {
     "base_uri": "https://localhost:8080/",
     "height": 159
    },
    "colab_type": "code",
    "id": "GXvbIdALSmoG",
    "outputId": "a5ab3482-b72e-4541-e202-e7d2dfe02f8a"
   },
   "outputs": [],
   "source": [
    "# 表示して確認\n",
    "dx.head(3)"
   ]
  },
  {
   "cell_type": "code",
   "execution_count": null,
   "metadata": {
    "colab": {
     "base_uri": "https://localhost:8080/",
     "height": 34
    },
    "colab_type": "code",
    "id": "Dpsg7SRtSmoJ",
    "outputId": "8e415e98-efc4-4001-a88b-57c6c7b2c123"
   },
   "outputs": [],
   "source": [
    "# サイズの確認\n",
    "dx.shape"
   ]
  },
  {
   "cell_type": "markdown",
   "metadata": {
    "colab_type": "text",
    "id": "5EJEdadVSmoM"
   },
   "source": [
    "`shape` 属性を使うことで、サンプル数（今回は 178）と入力変数の数（今回は 10）を確認することができます。"
   ]
  },
  {
   "cell_type": "markdown",
   "metadata": {
    "colab_type": "text",
    "id": "3KMca-fsSmoN"
   },
   "source": [
    "### Chainerで計算できるデータ形式に変換\n",
    "\n",
    "前章でもお伝えしましたが、Chainer で計算を行うために、下記の3点を満たしている必要があります。\n",
    "再度確認します。\n",
    "\n",
    "- 入力変数や教師データが NumPy の形式で定義されているか\n",
    "- 分類の場合、ラベルが0から始まっているか\n",
    "- 入力変数が `float32`、教師データが回帰の場合 `float32`、分類の場合 `int32` で定義されているか"
   ]
  },
  {
   "cell_type": "markdown",
   "metadata": {
    "colab_type": "text",
    "id": "WW_43WqZSmoO"
   },
   "source": [
    "#### NumPy に変換\n",
    "\n",
    "Pandas で読み込んだ場合、Pandas の形式になっています。"
   ]
  },
  {
   "cell_type": "code",
   "execution_count": null,
   "metadata": {
    "colab": {
     "base_uri": "https://localhost:8080/",
     "height": 34
    },
    "colab_type": "code",
    "id": "XVu-GObzSmoO",
    "outputId": "5c972fae-24b9-4f8a-95e5-823546c8a176"
   },
   "outputs": [],
   "source": [
    "type(dx)"
   ]
  },
  {
   "cell_type": "markdown",
   "metadata": {
    "colab_type": "text",
    "id": "sz7K9IgTSmoR"
   },
   "source": [
    "これを NumPy の形式に変換するには、`values` 属性を使用します。"
   ]
  },
  {
   "cell_type": "code",
   "execution_count": null,
   "metadata": {
    "colab": {
     "base_uri": "https://localhost:8080/",
     "height": 34
    },
    "colab_type": "code",
    "id": "4lxy9RChSmoS",
    "outputId": "942eaf90-39dc-4df7-abc5-17a8cd81dad3"
   },
   "outputs": [],
   "source": [
    "# 入力変数を NumPy に変換する\n",
    "x = dx.values\n",
    "type(x)"
   ]
  },
  {
   "cell_type": "code",
   "execution_count": null,
   "metadata": {
    "colab": {
     "base_uri": "https://localhost:8080/",
     "height": 34
    },
    "colab_type": "code",
    "id": "4lxy9RChSmoS",
    "outputId": "942eaf90-39dc-4df7-abc5-17a8cd81dad3"
   },
   "outputs": [],
   "source": [
    "# 教師データを NumPy に変換する\n",
    "t = dt.values\n",
    "type(t)"
   ]
  },
  {
   "cell_type": "markdown",
   "metadata": {
    "colab_type": "text",
    "id": "2SmBWN21SmoV"
   },
   "source": [
    "#### 分類で使用するラベルを 0 から始める\n",
    "\n",
    "今回準備されている教師データのラベルを確認してみます。\n",
    "`min()` と `max()` で、ラベルの最小値と最大値を確認します。"
   ]
  },
  {
   "cell_type": "code",
   "execution_count": null,
   "metadata": {
    "colab": {
     "base_uri": "https://localhost:8080/",
     "height": 34
    },
    "colab_type": "code",
    "id": "a2n0UGavSmoW",
    "outputId": "f56bbc4d-fe18-4606-867a-753f01910566"
   },
   "outputs": [],
   "source": [
    "t.min()"
   ]
  },
  {
   "cell_type": "code",
   "execution_count": null,
   "metadata": {
    "colab": {
     "base_uri": "https://localhost:8080/",
     "height": 34
    },
    "colab_type": "code",
    "id": "pK7RPVCOSmoZ",
    "outputId": "e91820c0-e820-4177-e42a-132891143df9"
   },
   "outputs": [],
   "source": [
    "t.max()"
   ]
  },
  {
   "cell_type": "markdown",
   "metadata": {
    "colab_type": "text",
    "id": "CZwGXbN5Smoc"
   },
   "source": [
    "最小値が 1、 最大値が 3 であり、3 つのクラスに 1、2、3 という数値が割り振られているということがわかります。\n",
    "\n",
    "ラベルは 0 から始める必要があるため、全体から 1 を減算して 1、2、3 → 0、1、2 とします。"
   ]
  },
  {
   "cell_type": "code",
   "execution_count": null,
   "metadata": {
    "colab": {},
    "colab_type": "code",
    "id": "dZ0Sl4CJSmod"
   },
   "outputs": [],
   "source": [
    "# ラベルを 0 から始める\n",
    "t = t - 1"
   ]
  },
  {
   "cell_type": "code",
   "execution_count": null,
   "metadata": {
    "colab": {
     "base_uri": "https://localhost:8080/",
     "height": 34
    },
    "colab_type": "code",
    "id": "K26X_gLgSmoh",
    "outputId": "2ff44163-c3a1-4d8a-bd40-960200978c66"
   },
   "outputs": [],
   "source": [
    "t.min()"
   ]
  },
  {
   "cell_type": "code",
   "execution_count": null,
   "metadata": {
    "colab": {
     "base_uri": "https://localhost:8080/",
     "height": 34
    },
    "colab_type": "code",
    "id": "_fTYdwHDSmom",
    "outputId": "32865b12-80c4-4104-a53f-823968e880bf"
   },
   "outputs": [],
   "source": [
    "t.max()"
   ]
  },
  {
   "cell_type": "markdown",
   "metadata": {
    "colab_type": "text",
    "id": "nlpmaYmlSmoo"
   },
   "source": [
    "#### データ型を変更\n",
    "\n",
    "現状のデータ型を確認してみます。"
   ]
  },
  {
   "cell_type": "code",
   "execution_count": null,
   "metadata": {
    "colab": {
     "base_uri": "https://localhost:8080/",
     "height": 34
    },
    "colab_type": "code",
    "id": "2ZoB51zoSmor",
    "outputId": "6b824b67-3c16-4fee-918e-504aa76f0072"
   },
   "outputs": [],
   "source": [
    "x.dtype"
   ]
  },
  {
   "cell_type": "code",
   "execution_count": null,
   "metadata": {
    "colab": {
     "base_uri": "https://localhost:8080/",
     "height": 34
    },
    "colab_type": "code",
    "id": "oZl4gbYqSmou",
    "outputId": "58ef4498-1e7b-40c1-9717-a54ba31e9178"
   },
   "outputs": [],
   "source": [
    "t.dtype"
   ]
  },
  {
   "cell_type": "markdown",
   "metadata": {
    "colab_type": "text",
    "id": "diHWnWYHSmov"
   },
   "source": [
    "NumPy の `astype()` を使用して、32 ビット型へと変換します。"
   ]
  },
  {
   "cell_type": "code",
   "execution_count": null,
   "metadata": {
    "colab": {},
    "colab_type": "code",
    "id": "JjezaXb5Smox"
   },
   "outputs": [],
   "source": [
    "# 32 ビットに変換\n",
    "x = x.astype('float32')\n",
    "t = t.astype('int32')"
   ]
  },
  {
   "cell_type": "code",
   "execution_count": null,
   "metadata": {
    "colab": {
     "base_uri": "https://localhost:8080/",
     "height": 34
    },
    "colab_type": "code",
    "id": "ZuFNtHikSmo0",
    "outputId": "d0185e23-c278-40d6-88cf-1890956c899d"
   },
   "outputs": [],
   "source": [
    "x.dtype"
   ]
  },
  {
   "cell_type": "code",
   "execution_count": null,
   "metadata": {
    "colab": {
     "base_uri": "https://localhost:8080/",
     "height": 34
    },
    "colab_type": "code",
    "id": "j1UdsTcjSmo2",
    "outputId": "8b38a93e-87ec-4011-f88a-622edb3ab321"
   },
   "outputs": [],
   "source": [
    "t.dtype"
   ]
  },
  {
   "cell_type": "markdown",
   "metadata": {
    "colab_type": "text",
    "id": "otidc_6TSmo5"
   },
   "source": [
    "### Chainerで使用するデータセットの形式\n",
    "\n",
    "Chainer は、入力変数と教師データの対応するサンプルのペアをリスト形式にしたものをデータセットとして受け入れます。\n",
    "\n",
    "メモリに乗る程度の小規模なデータの場合は、Python の `list` 形式で表現することができます。\n",
    "\n",
    "![](https://github.com/mitmul/learn-chainer/blob/master/src/images/3-5/img02.png?raw=1)"
   ]
  },
  {
   "cell_type": "code",
   "execution_count": null,
   "metadata": {
    "colab": {},
    "colab_type": "code",
    "id": "I819y2UvSmo5"
   },
   "outputs": [],
   "source": [
    "# Chainer で使用できるデータセットの形式\n",
    "dataset = list(zip(x, t))"
   ]
  },
  {
   "cell_type": "markdown",
   "metadata": {
    "colab_type": "text",
    "id": "m3hMJBH8Smo7"
   },
   "source": [
    "このように、`zip(x, t)` で入力変数と教師データのペアをタプル化した後、それを `list()` でリスト化します。"
   ]
  },
  {
   "cell_type": "markdown",
   "metadata": {
    "colab_type": "text",
    "id": "07Z6682zSmo8"
   },
   "source": [
    "### 訓練データ、検証データ、テストデータに分割\n",
    "\n",
    "機械学習には欠かせない訓練データ、検証データ、テストデータへの分割です。  \n",
    "Chainer では [`chainer.datasets.split_dataset_random`](https://docs.chainer.org/en/v5.0.0/reference/generated/chainer.datasets.split_dataset_random.html) にその機能が準備されています。  \n",
    "ランダムでなく、前半・後半に分割したい場合は、 [`chainer.datasets.split_dataset`](https://docs.chainer.org/en/v5.0.0/reference/generated/chainer.datasets.split_dataset.html) を使用します。\n",
    "\n",
    "引数にはデータセット（先ほど作成した形式）、訓練データの数を指定します。"
   ]
  },
  {
   "cell_type": "code",
   "execution_count": null,
   "metadata": {
    "colab": {},
    "colab_type": "code",
    "id": "2cHaHCwCSmpA"
   },
   "outputs": [],
   "source": [
    "import chainer"
   ]
  },
  {
   "cell_type": "code",
   "execution_count": null,
   "metadata": {
    "colab": {},
    "colab_type": "code",
    "id": "AD_0YwvLSmpE"
   },
   "outputs": [],
   "source": [
    "n_train_valid = int(len(dataset) * 0.7)\n",
    "train_valid, test = chainer.datasets.split_dataset_random(dataset, n_train_valid, seed=1)"
   ]
  },
  {
   "cell_type": "markdown",
   "metadata": {
    "colab_type": "text",
    "id": "L3sGv26jSmpG"
   },
   "source": [
    "`len(dataset)` は、データセットに含まれるデータ数の全体を表します。その 70% を訓練データおよび検証データとしています。`int()` は、小数値の切り捨てです。このように、固定のデータ数を指定するのではなく、「全体の 70%」のような書き方にしておくと、異なるデータ数のデータセットを扱う場合にもそのまま対応することができます。\n",
    "\n",
    "`seed=1` は、乱数のシードを 1 で固定しますという意味で、何度か出てきた**再現性確保**のためです。\n",
    "\n",
    "出力として得られる `train_valid` と `test` を確認します。"
   ]
  },
  {
   "cell_type": "code",
   "execution_count": null,
   "metadata": {
    "colab": {
     "base_uri": "https://localhost:8080/",
     "height": 34
    },
    "colab_type": "code",
    "id": "LbR3KiSkSmpG",
    "outputId": "821cac94-ed0e-4a4d-c4b9-5c12cbaf240f"
   },
   "outputs": [],
   "source": [
    "type(train_valid)"
   ]
  },
  {
   "cell_type": "code",
   "execution_count": null,
   "metadata": {
    "colab": {
     "base_uri": "https://localhost:8080/",
     "height": 34
    },
    "colab_type": "code",
    "id": "Y0agvQpbSmpK",
    "outputId": "b014b53b-dbff-47a6-a1b4-bab872ff0f63",
    "scrolled": false
   },
   "outputs": [],
   "source": [
    "type(test)"
   ]
  },
  {
   "cell_type": "markdown",
   "metadata": {
    "colab_type": "text",
    "id": "zXOQ7bSXSmpO"
   },
   "source": [
    "このように、それぞれが個別の [`SubDataset`](https://docs.chainer.org/en/stable/reference/generated/chainer.datasets.SubDataset.html) クラスのインスタンスであることがわかります。\n",
    "`len()` を使うことで、それぞれのデータセットに格納されている要素の数を調べることができます。"
   ]
  },
  {
   "cell_type": "code",
   "execution_count": null,
   "metadata": {
    "colab": {
     "base_uri": "https://localhost:8080/",
     "height": 34
    },
    "colab_type": "code",
    "id": "Ofj63-_7SmpS",
    "outputId": "ad5f8cac-fe85-4146-d977-c51f1d4d04d0"
   },
   "outputs": [],
   "source": [
    "len(train_valid)"
   ]
  },
  {
   "cell_type": "code",
   "execution_count": null,
   "metadata": {
    "colab": {
     "base_uri": "https://localhost:8080/",
     "height": 34
    },
    "colab_type": "code",
    "id": "RQoieXdCSmpU",
    "outputId": "3299f6d4-7ab2-4784-d863-4c79beb22c19"
   },
   "outputs": [],
   "source": [
    "len(test)"
   ]
  },
  {
   "cell_type": "markdown",
   "metadata": {},
   "source": [
    "`train_valid[0]` のようにリストの要素番号を指定すると、データセットから要素を一つ取り出すことができます。"
   ]
  },
  {
   "cell_type": "code",
   "execution_count": null,
   "metadata": {
    "colab": {
     "base_uri": "https://localhost:8080/",
     "height": 51
    },
    "colab_type": "code",
    "id": "1aThGtEdSmpP",
    "outputId": "3c9a028d-9876-45e5-f992-a820f23d9cfa"
   },
   "outputs": [],
   "source": [
    "train_valid[0]"
   ]
  },
  {
   "cell_type": "markdown",
   "metadata": {
    "colab_type": "text",
    "id": "gxAH1gOj4Czs"
   },
   "source": [
    "### 検証用（Validation）データの作成\n",
    "\n",
    "先程作成した `train_valid` を訓練用データ（`train`）と検証用データ（`valid`）に分割します。  \n",
    "`train_valid` と `test` に分割したときと同様の方法で行います。\n"
   ]
  },
  {
   "cell_type": "code",
   "execution_count": null,
   "metadata": {
    "colab": {},
    "colab_type": "code",
    "id": "u43oqAQ33YrK"
   },
   "outputs": [],
   "source": [
    "n_train = int(len(train_valid) * 0.7)\n",
    "train, valid = chainer.datasets.split_dataset_random(train_valid, n_train, seed=1)"
   ]
  },
  {
   "cell_type": "code",
   "execution_count": null,
   "metadata": {
    "colab": {
     "base_uri": "https://localhost:8080/",
     "height": 34
    },
    "colab_type": "code",
    "id": "DA0Ffm6d3Y1c",
    "outputId": "dff61299-da44-44d9-8d01-01fde577fa72"
   },
   "outputs": [],
   "source": [
    "len(train)"
   ]
  },
  {
   "cell_type": "code",
   "execution_count": null,
   "metadata": {
    "colab": {
     "base_uri": "https://localhost:8080/",
     "height": 34
    },
    "colab_type": "code",
    "id": "-uGE2a8D3Y_1",
    "outputId": "55cc20e7-50a6-41f5-e3ad-467c1c654563"
   },
   "outputs": [],
   "source": [
    "len(valid)"
   ]
  },
  {
   "cell_type": "markdown",
   "metadata": {
    "colab_type": "text",
    "id": "Q3uWbBXbSmpW"
   },
   "source": [
    "## モデルの定義\n",
    "\n",
    "それでは、分類を行うためのニューラルネットワークの定義を行います。\n",
    "問題設定上、入力変数の数と分類数は次のようになっています。\n",
    "\n",
    "- 入力変数： 10\n",
    "- 分類数： 3\n",
    "\n",
    "今回は、隠れ層のユニット数を 5 とし、10 → 5 → 3 と全結合層（`L.Linear`）で変換していくようなニューラルネットワークを組みます。"
   ]
  },
  {
   "cell_type": "markdown",
   "metadata": {
    "colab_type": "text",
    "id": "JnStKvb4SmpX"
   },
   "source": [
    "### `Chain` を継承したネットワークの定義\n",
    "\n",
    "Chainer では、ネットワークは `Chain` クラスを継承したクラスとして定義されることが一般的です。  \n",
    "\n",
    "\n",
    "#### `Chain` クラス\n",
    "\n",
    "`Chain` は、パラメータを持つ層（`Link`）をまとめておくためのクラスです。  \n",
    "パラメータを持つということは、基本的にネットワークの学習の際にそれらを更新していく必要があるということです（更新されないパラメータを持たせることもできます）。  \n",
    "\n",
    "モデルのパラメータの更新は、オプティマイザが担います。  \n",
    "その際、更新すべき全てのパラメータを簡単に発見できるように、`Chain` で一箇所にまとめておきます。  \n",
    "そうすると、更新されるパラメータ一覧が `Chain.params()` メソッドを使って簡単に取得できます。  \n",
    "\n",
    "\n",
    "#### ネットワークの定義\n",
    "\n",
    "今回 `Chain` を継承することで、10 → 5 → 3 のニューラルネットワークは下記のように定義することができます。\n",
    "\n",
    "今回定義するネットワークは、データの流れが一方向のため、前章で紹介した `Sequential` を使っても定義することが可能です。ですが、`Chain` を使った書き方にすることで、より複雑なネットワークに拡張することが可能になります。"
   ]
  },
  {
   "cell_type": "code",
   "execution_count": null,
   "metadata": {
    "colab": {},
    "colab_type": "code",
    "id": "_3sqZRWOSmpY"
   },
   "outputs": [],
   "source": [
    "import chainer.links as L\n",
    "import chainer.functions as F"
   ]
  },
  {
   "cell_type": "code",
   "execution_count": null,
   "metadata": {
    "colab": {},
    "colab_type": "code",
    "id": "5G0r7AYNSmpZ"
   },
   "outputs": [],
   "source": [
    "class NN(chainer.Chain):\n",
    "\n",
    "    # モデルの構造\n",
    "    def __init__(self):\n",
    "        super().__init__()\n",
    "        with self.init_scope():\n",
    "            self.fc1 = L.Linear(10, 5)  # 10 → 5\n",
    "            self.fc2 = L.Linear(5, 3)  # 5 → 3\n",
    "\n",
    "    # 順伝播\n",
    "    def forward(self, x):\n",
    "        u1 = self.fc1(x)\n",
    "        z1 = F.relu(u1)\n",
    "        u2 = self.fc2(z1)\n",
    "        return u2"
   ]
  },
  {
   "cell_type": "markdown",
   "metadata": {
    "colab_type": "text",
    "id": "Wc_sMw7OSmpe"
   },
   "source": [
    "このように、 `forward()` の中に順伝播の計算を記述します。\n",
    "`forward()` は、引数としてデータ `x` を受け取り、出力として順伝播の計算結果を返すようにします。\n",
    "\n",
    "`__init__()` には、順伝播の計算で使用するリンク（具体的には、全結合層の `L.Linear`）を宣言します。`with self.init_scope()` の中で記述することで、オプティマイザはこれらが最適化対象となるパラメータを持つ層であると自動的に解釈してくれるようになります。\n"
   ]
  },
  {
   "cell_type": "code",
   "execution_count": null,
   "metadata": {
    "colab": {},
    "colab_type": "code",
    "id": "gdXF_2-BxyqQ"
   },
   "outputs": [],
   "source": [
    "# クラスのインスタンス化\n",
    "model = NN()"
   ]
  },
  {
   "cell_type": "markdown",
   "metadata": {
    "colab_type": "text",
    "id": "RFIHedDfxxCi"
   },
   "source": [
    "インスタンス化された `NN` クラスのオブジェクトは、関数のように使えるようになります（例：`output = model(data)`）。\n",
    "\n",
    "\n",
    "### クラスの定義のブラッシュアップ\n",
    "\n",
    "これが一番簡単な書き方ですが、さらに上級者向けの書き方にブラッシュアップしていきます。\n",
    "まずは、ノードの数を変更するためにはクラス内部を変更する必要がありますが、ここを変数で置き換えて、インスタンス化のタイミングで自由に変更できるようにしておきます。\n",
    "\n",
    "下記のように変数の初期値も設定しておくと、インスタンス化の際に何も指定しない場合にデフォルトの値が使用され便利です。"
   ]
  },
  {
   "cell_type": "code",
   "execution_count": null,
   "metadata": {
    "colab": {},
    "colab_type": "code",
    "id": "qtEjuuitSmpf"
   },
   "outputs": [],
   "source": [
    "class NN(chainer.Chain):\n",
    "\n",
    "    # モデルの構造\n",
    "    def __init__(self, n_mid_units=5, n_out=3):\n",
    "        super().__init__()\n",
    "        with self.init_scope():\n",
    "            self.fc1 = L.Linear(10, n_mid_units)  # 変数で置き換え\n",
    "            self.fc2 = L.Linear(n_mid_units, n_out)  # 変数で置き換え\n",
    "\n",
    "    # 順伝播\n",
    "    def __call__(self, x):\n",
    "        u1 = self.fc1(x)\n",
    "        z1 = F.relu(u1)\n",
    "        u2 = self.fc2(z1)\n",
    "        return u2"
   ]
  },
  {
   "cell_type": "markdown",
   "metadata": {
    "colab_type": "text",
    "id": "Kvo44VkvSmpi"
   },
   "source": [
    "もう少し改善してみます。\n",
    "\n",
    "`L.Linear` の最初の引数は、`None` と指定することで、入力されるデータから自動的に判断することができるため、明示的に指定する必要はありません。\n",
    "今回はノードの数を簡単に把握することができるため、その恩恵は少ないのですが、この後登場する画像向けの畳み込みニューラルネットワークなどでは、この機能が活躍します。"
   ]
  },
  {
   "cell_type": "code",
   "execution_count": null,
   "metadata": {
    "colab": {},
    "colab_type": "code",
    "id": "WjTqwLqPSmpi"
   },
   "outputs": [],
   "source": [
    "class NN(chainer.Chain):\n",
    "\n",
    "    # モデルの構造\n",
    "    def __init__(self, n_mid_units=5, n_out=3):\n",
    "        super().__init__()\n",
    "        with self.init_scope():\n",
    "            self.fc1 = L.Linear(None, n_mid_units)  # 10 → None で自動推定\n",
    "            self.fc2 = L.Linear(None, n_out)  # 5 → None で自動推定\n",
    "\n",
    "    # 順伝播\n",
    "    def __call__(self, x):\n",
    "        u1 = self.fc1(x)\n",
    "        z1 = F.relu(u1)\n",
    "        u2 = self.fc2(z1)\n",
    "        return u2"
   ]
  },
  {
   "cell_type": "markdown",
   "metadata": {
    "colab_type": "text",
    "id": "moBDDZ62Smpl"
   },
   "source": [
    "さらに、順伝播の計算は層の数が増えてくると変数名の管理が難しくなってくるため、`h` という変数で受け渡し続けると管理する部分が減ります。"
   ]
  },
  {
   "cell_type": "code",
   "execution_count": null,
   "metadata": {
    "colab": {},
    "colab_type": "code",
    "id": "6lKTppE7Smpl"
   },
   "outputs": [],
   "source": [
    "class NN(chainer.Chain):\n",
    "\n",
    "    # モデルの構造\n",
    "    def __init__(self, n_mid_units=5, n_out=3):\n",
    "        super().__init__()\n",
    "        with self.init_scope():\n",
    "            self.fc1 = L.Linear(None, n_mid_units)\n",
    "            self.fc2 = L.Linear(None, n_out)\n",
    "\n",
    "    # 順伝播\n",
    "    def __call__(self, x):\n",
    "        h = self.fc1(x)  # h で置きかえ\n",
    "        h = F.relu(h)  # h で置きかえ\n",
    "        h = self.fc2(h)  # h で置きかえ\n",
    "        return h"
   ]
  },
  {
   "cell_type": "markdown",
   "metadata": {
    "colab_type": "text",
    "id": "IFxz7u9pSmpo"
   },
   "source": [
    "モデルの定義が完了したため、もう一度インスタンス化します。  \n",
    "インスタンス化を行うとリンクの重みが定義されるため、  \n",
    "インスタンス化を実行する前に乱数シードの固定を行うことを忘れないように注意しましょう。"
   ]
  },
  {
   "cell_type": "code",
   "execution_count": null,
   "metadata": {
    "colab": {},
    "colab_type": "code",
    "id": "bsYKnmkdSmp2"
   },
   "outputs": [],
   "source": [
    "# シードの固定\n",
    "np.random.seed(1)"
   ]
  },
  {
   "cell_type": "code",
   "execution_count": null,
   "metadata": {
    "colab": {},
    "colab_type": "code",
    "id": "BDBvAfL_Smpo"
   },
   "outputs": [],
   "source": [
    "model = NN()  # 引数を指定しないため、デフォルトの n_mid_units=5, n_out=3 が使用される"
   ]
  },
  {
   "cell_type": "markdown",
   "metadata": {
    "colab_type": "text",
    "id": "0RYUo6kmSmpp"
   },
   "source": [
    "引数にデフォルトの値を使用しない場合は下記のように指定します。"
   ]
  },
  {
   "cell_type": "code",
   "execution_count": null,
   "metadata": {
    "colab": {},
    "colab_type": "code",
    "id": "dSMA5MDlSmpr"
   },
   "outputs": [],
   "source": [
    "# model = NN(n_mid_units=10, n_out=3)"
   ]
  },
  {
   "cell_type": "markdown",
   "metadata": {
    "colab_type": "text",
    "id": "FaMeCHQtSmp6"
   },
   "source": [
    "### オプティマイザの定義\n",
    "\n",
    "オプティマイザはパラメータの最適化を行うための最適化のアルゴリズムです。\n",
    "今回は確率的勾配降下法（stochastic gradient descent）オプティマイザを使います。"
   ]
  },
  {
   "cell_type": "code",
   "execution_count": null,
   "metadata": {
    "colab": {},
    "colab_type": "code",
    "id": "tajNR6DRSmp6"
   },
   "outputs": [],
   "source": [
    "from chainer import optimizers\n",
    "\n",
    "optimizer = optimizers.SGD(lr=0.01).setup(model) # 確率的勾配降下法 （SGD） を使用"
   ]
  },
  {
   "cell_type": "markdown",
   "metadata": {
    "colab_type": "text",
    "id": "PyveQHjcSmp8"
   },
   "source": [
    "#### 学習率（learning rate）\n",
    "\n",
    "今回は `SGD` の `lr` という引数に `0.01` を与えました。  \n",
    "これは学習率 (learning rate) といい、モデルをうまく訓練して良いパフォーマンスを発揮させるために調整する必要がある重要な値です。  \n",
    "\n",
    "このように、学習の設定に関するパラメータやネットワークの構造に関するパラメータは人手で与える必要があります。\n",
    "重みやバイアスのように自動的に学習されるパラメータと区別し、これらのことをハイパーパラメータといいます。\n",
    "\n",
    "層の数や、中間層のユニット数もハイパーパラメータの一種です。"
   ]
  },
  {
   "cell_type": "markdown",
   "metadata": {
    "colab_type": "text",
    "id": "aGtt8I_1SmqG"
   },
   "source": [
    "### イテレータの定義\n",
    "\n",
    "前章と同様にミニバッチを使用しての学習を実行するため、イテレータを使用して、データをミニバッチに区切って学習を行います。  \n",
    "\n",
    "訓練用データは下記のようにミニバッチに分けられ学習が行われます。  \n",
    "\n",
    "- データセット： 86サンプル\n",
    "- バッチサイズ：10\n",
    "- ミニバッチの数： 9（86/10 端数は補完される）\n",
    "- エポック数： 10\n",
    "- イテレーション数： 90（9×10）\n",
    "\n"
   ]
  },
  {
   "cell_type": "code",
   "execution_count": null,
   "metadata": {
    "colab": {},
    "colab_type": "code",
    "id": "Kxs4eLoV973V"
   },
   "outputs": [],
   "source": [
    "batchsize = 10"
   ]
  },
  {
   "cell_type": "code",
   "execution_count": null,
   "metadata": {
    "colab": {},
    "colab_type": "code",
    "id": "LJ2yl6jdSmqI"
   },
   "outputs": [],
   "source": [
    "train_iter = chainer.iterators.SerialIterator(train, batchsize)\n",
    "valid_iter  = chainer.iterators.SerialIterator(valid,  batchsize, repeat=False, shuffle=False)\n",
    "test_iter  = chainer.iterators.SerialIterator(test,  batchsize, repeat=False, shuffle=False)"
   ]
  },
  {
   "cell_type": "code",
   "execution_count": null,
   "metadata": {
    "colab": {},
    "colab_type": "code",
    "id": "_QIFzudo94G_"
   },
   "outputs": [],
   "source": [
    "epoch = 30"
   ]
  },
  {
   "cell_type": "markdown",
   "metadata": {
    "colab_type": "text",
    "id": "-0NtReVCSmqU"
   },
   "source": [
    "### 学習ループの実行\n"
   ]
  },
  {
   "cell_type": "code",
   "execution_count": null,
   "metadata": {
    "colab": {},
    "colab_type": "code",
    "id": "M_KK1e4U9vUp"
   },
   "outputs": [],
   "source": [
    "from chainer.dataset import concat_examples"
   ]
  },
  {
   "cell_type": "code",
   "execution_count": null,
   "metadata": {
    "colab": {
     "base_uri": "https://localhost:8080/",
     "height": 5423
    },
    "colab_type": "code",
    "id": "OwCIJWcR2pzC",
    "outputId": "6119fb6e-2a3c-4c43-9aa1-1004aa85e908"
   },
   "outputs": [],
   "source": [
    "train_iter.reset()\n",
    "valid_iter.reset()\n",
    "\n",
    "while train_iter.epoch < epoch:\n",
    "  \n",
    "\n",
    "  #　------------  学習の1イテレーション  ------------\n",
    "  \n",
    "  # データの取得\n",
    "  train_batch = train_iter.next()\n",
    "  x_train, t_train = concat_examples(train_batch)\n",
    "\n",
    "\n",
    "  # 予測値の計算\n",
    "  y_train = model(x_train)\n",
    "\n",
    "  # ロスの計算\n",
    "  loss_train = F.softmax_cross_entropy(y_train, t_train)\n",
    "\n",
    "  # 勾配の計算\n",
    "  model.cleargrads()\n",
    "  loss_train.backward()\n",
    "\n",
    "  # パラメータの更新\n",
    "  optimizer.update()\n",
    "\n",
    "  # 検証データで精度を計算\n",
    "  accuracy_train = F.accuracy(y_train, t_train)\n",
    "\n",
    "  \n",
    "  print('epoch:{:02d} train_accuracy:{:.04f} '.format(train_iter.epoch, accuracy_train.data, end=''))\n",
    "  \n",
    "#   ----------------  ここまで  ----------------   \n",
    "\n",
    "\n",
    "  if train_iter.is_new_epoch: # 新しいエポックに入った時のみ計算\n",
    "\n",
    "    sum_valid_loss = 0\n",
    "    sum_valid_accuracy = 0\n",
    "    \n",
    "    # 検証データの評価\n",
    "    for valid_batch in valid_iter:\n",
    "      x_valid, t_valid = concat_examples(valid_batch)\n",
    "\n",
    "     # 検証用データで順伝播の計算を実行\n",
    "      with chainer.using_config('train', False), chainer.using_config('enable_backprop', False):\n",
    "        y_valid = model(x_valid)\n",
    "\n",
    "\n",
    "      # 検証データで損失関数を計算\n",
    "      loss = F.softmax_cross_entropy(y_valid, t_valid)\n",
    "\n",
    "      # 検証データで精度を計算\n",
    "      accuracy = F.accuracy(y_valid, t_valid)\n",
    "        \n",
    "      # 損失と精度を累積\n",
    "      sum_valid_loss += float(loss.array) * len(t_valid)\n",
    "      sum_valid_accuracy += float(accuracy.array) * len(t_valid)\n",
    "\n",
    "    # 使い終わったイテレータをリセット\n",
    "    valid_iter.reset()\n",
    "\n",
    "    # 累積値を平均値に変換\n",
    "    valid_loss = sum_valid_loss / len(valid)\n",
    "    valid_accuracy = sum_valid_accuracy / len(valid)\n",
    "    \n",
    "     # 結果を表示  \n",
    "    print('valid_loss:{:.04f} valid_accuracy:{:.04f}'.format(valid_loss, valid_accuracy))\n",
    "    print('---')"
   ]
  },
  {
   "cell_type": "markdown",
   "metadata": {
    "colab_type": "text",
    "id": "Vg8WP94O-E73"
   },
   "source": [
    "学習は正常に行われていることが確認できました。  \n",
    "訓練データに対しての正解率が概算して約 40% 弱、検証データに対して約 60% 程度にとどまっています。  "
   ]
  },
  {
   "cell_type": "markdown",
   "metadata": {
    "colab_type": "text",
    "id": "3DK5aKivSmqh"
   },
   "source": [
    "## うまくいかないときの対処\n",
    "\n",
    "今回は一通りの流れを説明しましたが、まだまだ精度が良くないと不満に思った方もいるかと思います。\n",
    "まずいちばん手っ取り早く精度を上げることが出来る方法として、**バッチノーマリゼーション（batch normalization）**が挙げられます。\n",
    "\n",
    "実装としては、各バッチ毎に、平均と標準偏差を定めて正規化を行うといった非常に簡単な手法なのですが、これをかませることによって、各変数感のスケールによる差を吸収できます。\n",
    "\n",
    "それでは、バッチノーマリゼーションがある場合で試してみます。\n",
    "\n",
    "宣言していたニューラルネットワークのクラスを以下のように変更して、もう一度学習を行ってみます。"
   ]
  },
  {
   "cell_type": "code",
   "execution_count": null,
   "metadata": {
    "colab": {},
    "colab_type": "code",
    "id": "jdEx1GzeSmqi"
   },
   "outputs": [],
   "source": [
    "class NN(chainer.Chain):\n",
    "\n",
    "    # モデルの構造\n",
    "    def __init__(self, n_mid_units=5, n_out=3):\n",
    "        super().__init__()\n",
    "        with self.init_scope():\n",
    "            self.fc1 = L.Linear(None, n_mid_units)\n",
    "            self.fc2 = L.Linear(None, n_out)\n",
    "            self.bn = L.BatchNormalization(10)  # BatchNormalization は平均と分散がパラメータ、() 内には受け取る変数の数を記述\n",
    "\n",
    "    # 順伝播\n",
    "    def forward(self, x):\n",
    "        h = self.bn(x)  # BatchNormalization を適用\n",
    "        h = self.fc1(h)\n",
    "        h = F.relu(h)\n",
    "        h = self.fc2(h)\n",
    "        return h"
   ]
  },
  {
   "cell_type": "code",
   "execution_count": null,
   "metadata": {
    "colab": {},
    "colab_type": "code",
    "id": "dtETLsuiSmqk"
   },
   "outputs": [],
   "source": [
    "# 乱数のシードを固定\n",
    "np.random.seed(1)\n",
    "\n",
    "# モデルのインスタンス化\n",
    "model = NN()\n",
    "\n",
    "# オプティマイザの定義\n",
    "optimizer = chainer.optimizers.SGD().setup(model)  # model と紐付ける\n",
    "\n",
    "# イテレータの定義\n",
    "batchsize = 10\n",
    "train_iter = chainer.iterators.SerialIterator(train, batchsize)\n",
    "valid_iter = chainer.iterators.SerialIterator(valid, batchsize, repeat=False, shuffle=False)\n",
    "test_iter = chainer.iterators.SerialIterator(test, batchsize, repeat=False, shuffle=False)\n",
    "\n",
    "# trainer とその extensions の設定\n",
    "epoch = 30"
   ]
  },
  {
   "cell_type": "code",
   "execution_count": null,
   "metadata": {
    "colab": {
     "base_uri": "https://localhost:8080/",
     "height": 5423
    },
    "colab_type": "code",
    "id": "5bqW9lcaSmqo",
    "outputId": "adb7cebe-0ffd-4d08-f53b-37423755c1d3"
   },
   "outputs": [],
   "source": [
    "train_iter.reset()\n",
    "valid_iter.reset()\n",
    "\n",
    "while train_iter.epoch < epoch: # 追加\n",
    "  \n",
    "\n",
    "  #　------------  学習の1イテレーション  ------------\n",
    "  \n",
    "  # データの取得\n",
    "  train_batch = train_iter.next() # 追加\n",
    "  x_train, t_train = concat_examples(train_batch)\n",
    "\n",
    "\n",
    "  # 予測値の計算\n",
    "  y_train = model(x_train)\n",
    "\n",
    "  # ロスの計算\n",
    "  loss_train = F.softmax_cross_entropy(y_train, t_train)\n",
    "\n",
    "  # 勾配の計算\n",
    "  model.cleargrads()\n",
    "  loss_train.backward()\n",
    "\n",
    "  # パラメータの更新\n",
    "  optimizer.update()\n",
    "\n",
    "  # 検証データで精度を計算\n",
    "  accuracy_train = F.accuracy(y_train, t_train)\n",
    "\n",
    "  \n",
    "  print('epoch:{:02d} train_accuracy:{:.04f} '.format(train_iter.epoch, accuracy_train.data, end=''))\n",
    "  \n",
    "#   ----------------  ここまで  ----------------   \n",
    "\n",
    "\n",
    "  if train_iter.is_new_epoch: # 新しいエポックに入った時のみ計算\n",
    "\n",
    "    sum_valid_loss = 0\n",
    "    sum_valid_accuracy = 0\n",
    "    \n",
    "    # 検証データの評価\n",
    "    for valid_batch in valid_iter:\n",
    "      x_valid, t_valid = concat_examples(valid_batch)\n",
    "\n",
    "      # 検証用データで順伝播の計算を実行\n",
    "      with chainer.using_config('train', False), chainer.using_config('enable_backprop', False):\n",
    "        y_valid = model(x_valid)\n",
    "\n",
    "      # 検証データで損失関数を計算\n",
    "      loss = F.softmax_cross_entropy(y_valid, t_valid)\n",
    "\n",
    "      # 検証データで精度を計算\n",
    "      accuracy = F.accuracy(y_valid, t_valid)\n",
    "\n",
    "      # 損失と精度を累積\n",
    "      sum_valid_loss += float(loss.array) * len(t_valid)\n",
    "      sum_valid_accuracy += float(accuracy.array) * len(t_valid)\n",
    "\n",
    "    # 使い終わったイテレータをリセット\n",
    "    valid_iter.reset()\n",
    "\n",
    "    # 累積値を平均値に変換\n",
    "    valid_loss = sum_valid_loss / len(valid)\n",
    "    valid_accuracy = sum_valid_accuracy / len(valid)\n",
    "    \n",
    "     # 結果を表示  \n",
    "    print('valid_loss:{:.04f} valid_accuracy:{:.04f}'.format(valid_loss, valid_accuracy))\n",
    "    print('---')"
   ]
  },
  {
   "cell_type": "markdown",
   "metadata": {
    "colab_type": "text",
    "id": "f2s_2OcUSmqx"
   },
   "source": [
    "検証データに対する正解率の値が上がっていればうまくバッチノーマリゼーションがうまく適応されています。  \n",
    "\n",
    "このように、ディープラーニングでは、バッチノーマリゼーションを含めた細かなポイントがあったりするため、調べながら進めてみてください。  \n",
    "\n",
    "Chainer では、ほとんどの機能がすでに実装されているため、上記のコードのように少し付け加えるだけでその効果を検証できます。"
   ]
  },
  {
   "cell_type": "markdown",
   "metadata": {
    "colab_type": "text",
    "id": "icsi075ySmqy"
   },
   "source": [
    "## 学習済みモデルを使用した推論"
   ]
  },
  {
   "cell_type": "markdown",
   "metadata": {
    "colab_type": "text",
    "id": "pLEnpDrASmqy"
   },
   "source": [
    "## 学習済みモデルを保存\n",
    "\n",
    "前章と同様に `chainer.serializers.save_npz('ファイル名.npz', model)` を使用して学習済みモデルを保存します。"
   ]
  },
  {
   "cell_type": "code",
   "execution_count": null,
   "metadata": {
    "colab": {},
    "colab_type": "code",
    "id": "rrKSOP1ASmqy"
   },
   "outputs": [],
   "source": [
    "chainer.serializers.save_npz('wine.npz', model)"
   ]
  },
  {
   "cell_type": "code",
   "execution_count": null,
   "metadata": {
    "colab": {
     "base_uri": "https://localhost:8080/",
     "height": 34
    },
    "colab_type": "code",
    "id": "GB_zR7VtNhCb",
    "outputId": "e7df286c-8cc3-49fb-8cec-999e8c88c2f4"
   },
   "outputs": [],
   "source": [
    "!ls"
   ]
  },
  {
   "cell_type": "markdown",
   "metadata": {
    "colab_type": "text",
    "id": "U2xvJBPDSmq1"
   },
   "source": [
    "### 学習済みモデルのロード\n",
    "\n",
    "学習済みモデルは単にファイルをロードするだけでなく、まずはモデルの構造を明示しておき、そのモデルに対して、パラメータの値を当てはめながらロードしていくことになります。"
   ]
  },
  {
   "cell_type": "code",
   "execution_count": null,
   "metadata": {
    "colab": {},
    "colab_type": "code",
    "id": "_GwwzhRWSmq1"
   },
   "outputs": [],
   "source": [
    "model = NN()"
   ]
  },
  {
   "cell_type": "code",
   "execution_count": null,
   "metadata": {
    "colab": {},
    "colab_type": "code",
    "id": "mbxxyH1ASmq3"
   },
   "outputs": [],
   "source": [
    "# 保存されている学習済みパラメータをモデルに読み込む\n",
    "chainer.serializers.load_npz('wine.npz', model)"
   ]
  },
  {
   "cell_type": "markdown",
   "metadata": {
    "colab_type": "text",
    "id": "hLAy5X8rSmq6"
   },
   "source": [
    "### 予測値の計算\n",
    "\n",
    "今回はテストデータ一番最初のサンプルに対する予測値を計算します。\n",
    "\n",
    "その前に、データセットに格納されたデータの shape を確認してみましょう。"
   ]
  },
  {
   "cell_type": "code",
   "execution_count": null,
   "metadata": {
    "colab": {},
    "colab_type": "code",
    "id": "BQTkd4NySmq7"
   },
   "outputs": [],
   "source": [
    "x_test, t_test = test[0]"
   ]
  },
  {
   "cell_type": "code",
   "execution_count": null,
   "metadata": {},
   "outputs": [],
   "source": [
    "x_test.shape"
   ]
  },
  {
   "cell_type": "markdown",
   "metadata": {},
   "source": [
    "軸の数が (入力変数の数) の 1 つしかありません。\n",
    "\n",
    "推論で使用する際には、(バッチサイズ, 入力変数の数) という形式となっている必要があります。\n",
    "今回であれば、`(1, 10)` が望ましいデータの形といえます。\n",
    "\n",
    "そのままモデルに入力すると、次のようにエラーとなります。"
   ]
  },
  {
   "cell_type": "code",
   "execution_count": null,
   "metadata": {
    "colab": {
     "base_uri": "https://localhost:8080/",
     "height": 1429
    },
    "colab_type": "code",
    "id": "r-fRivArSmq_",
    "outputId": "c5ff17f4-7f2a-45f0-bc01-2685e04899d0"
   },
   "outputs": [],
   "source": [
    "# 予測値の計算\n",
    "with chainer.using_config('train', False), chainer.using_config('enable_backprop', False):\n",
    "    y = model(x_test)"
   ]
  },
  {
   "cell_type": "markdown",
   "metadata": {
    "colab_type": "text",
    "id": "F4L6u2GaSmrA"
   },
   "source": [
    "1 次元の軸を追加し、shape を `(1, 10)` に整えます。"
   ]
  },
  {
   "cell_type": "code",
   "execution_count": null,
   "metadata": {
    "colab": {},
    "colab_type": "code",
    "id": "3EXTEg_ySmrA"
   },
   "outputs": [],
   "source": [
    "x_test = x_test[np.newaxis]"
   ]
  },
  {
   "cell_type": "code",
   "execution_count": null,
   "metadata": {
    "colab": {
     "base_uri": "https://localhost:8080/",
     "height": 34
    },
    "colab_type": "code",
    "id": "0OcCMpPNSmrB",
    "outputId": "30cfcfc3-3ecd-434b-da84-284cd734ca68"
   },
   "outputs": [],
   "source": [
    "x_test.shape"
   ]
  },
  {
   "cell_type": "markdown",
   "metadata": {},
   "source": [
    "これでモデルに入力することができます。"
   ]
  },
  {
   "cell_type": "code",
   "execution_count": null,
   "metadata": {
    "colab": {
     "base_uri": "https://localhost:8080/",
     "height": 34
    },
    "colab_type": "code",
    "id": "OKeaeNKRSmrC",
    "outputId": "a6d223fd-09f1-4c0a-b300-128cc6bf3b83"
   },
   "outputs": [],
   "source": [
    "# 予測値の計算\n",
    "with chainer.using_config('train', False), chainer.using_config('enable_backprop', False):\n",
    "  y = model(x_test)\n",
    "y"
   ]
  },
  {
   "cell_type": "markdown",
   "metadata": {},
   "source": [
    "事後確率の分布は `F.softmax()` を適用することで計算できます。"
   ]
  },
  {
   "cell_type": "code",
   "execution_count": null,
   "metadata": {
    "colab": {
     "base_uri": "https://localhost:8080/",
     "height": 34
    },
    "colab_type": "code",
    "id": "yg2FoWk9SmrE",
    "outputId": "f67a82df-8db2-4a8b-e951-8eb565a56cae"
   },
   "outputs": [],
   "source": [
    "y = F.softmax(y)\n",
    "y"
   ]
  },
  {
   "cell_type": "code",
   "execution_count": null,
   "metadata": {
    "colab": {
     "base_uri": "https://localhost:8080/",
     "height": 34
    },
    "colab_type": "code",
    "id": "BcmwR6n9SmrF",
    "outputId": "0c44bd87-d10b-4455-a4be-79d28919438f"
   },
   "outputs": [],
   "source": [
    "y.array"
   ]
  },
  {
   "cell_type": "markdown",
   "metadata": {},
   "source": [
    "分類の結果は、事後確率が最大のラベルとなります。"
   ]
  },
  {
   "cell_type": "code",
   "execution_count": null,
   "metadata": {
    "colab": {
     "base_uri": "https://localhost:8080/",
     "height": 34
    },
    "colab_type": "code",
    "id": "16E4IaxaSmrH",
    "outputId": "670ea4be-d536-4666-d41f-dd79c185fce0"
   },
   "outputs": [],
   "source": [
    "np.argmax(y.array)"
   ]
  },
  {
   "cell_type": "markdown",
   "metadata": {},
   "source": [
    "正解ラベルを確認してみます。"
   ]
  },
  {
   "cell_type": "code",
   "execution_count": null,
   "metadata": {
    "colab": {
     "base_uri": "https://localhost:8080/",
     "height": 34
    },
    "colab_type": "code",
    "id": "e4p27VqaQHjT",
    "outputId": "ba25814c-24ef-467b-c384-19dfc6a9105b"
   },
   "outputs": [],
   "source": [
    "t_test"
   ]
  },
  {
   "cell_type": "markdown",
   "metadata": {
    "colab_type": "text",
    "id": "sUIrvzNsSmrH"
   },
   "source": [
    "このように学習済みモデルを使用した推論を実行できました。"
   ]
  },
  {
   "cell_type": "markdown",
   "metadata": {
    "colab_type": "text",
    "id": "oMqxJljhjFNI"
   },
   "source": [
    "次章では、回帰の実装方法についてお伝えします。分類とほとんど同じような実装方法になります。"
   ]
  }
 ],
 "metadata": {
  "colab": {
   "collapsed_sections": [],
   "name": "7_Chainer(分類).ipynb",
   "provenance": [],
   "toc_visible": true,
   "version": "0.3.2"
  },
  "kernelspec": {
   "display_name": "Python 3",
   "language": "python",
   "name": "python3"
  },
  "language_info": {
   "codemirror_mode": {
    "name": "ipython",
    "version": 3
   },
   "file_extension": ".py",
   "mimetype": "text/x-python",
   "name": "python",
   "nbconvert_exporter": "python",
   "pygments_lexer": "ipython3",
   "version": "3.6.8"
  },
  "toc": {
   "base_numbering": 1,
   "nav_menu": {},
   "number_sections": true,
   "sideBar": true,
   "skip_h1_title": false,
   "title_cell": "Table of Contents",
   "title_sidebar": "Contents",
   "toc_cell": false,
   "toc_position": {},
   "toc_section_display": true,
   "toc_window_display": false
  }
 },
 "nbformat": 4,
 "nbformat_minor": 1
}
