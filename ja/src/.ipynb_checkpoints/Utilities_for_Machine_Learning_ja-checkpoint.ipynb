{
 "cells": [
  {
   "cell_type": "markdown",
   "metadata": {
    "colab_type": "text",
    "id": "tSJvLhTUgWvl"
   },
   "source": [
    "# 機械学習の応用\n",
    "\n",
    "前章で解説したNumpyとscikit-learn以外にも解析を行う上で代表的なパッケージがいくつか存在します。  \n",
    "\n",
    "代表的な機械学習に用いられるパッケージ下記5つを紹介していきます。  \n",
    "\n",
    "- Numpy：数値計算に特化したパッケージ。高速に処理を実行する為、機械学習の計算には基本的にNumpyが採用されています。\n",
    "- Cupy：GPU環境での数値計算に特化したパッケージ。Numpyとの違いはGPU環境で数値計算を行うことができる点にあります。\n",
    "- Pandas： データ操作に特化したパッケージ。データの操作（表の作成、並び替え）のみならず、前処理も効率的に行うことができます。\n",
    "- Matplotlib： データの可視化に特化したパッケージ。棒グラフ、散布図、ヒストグラムなど幅広いものの可視化を行うことができます。\n",
    "- scikit-learn： 機械学習に特化したパッケージ。様々な手法の実装や、前処理を行うことができます。\n",
    "\n",
    "\n",
    "### 事前準備\n",
    "\n",
    "今回はCupyを使用してGPUを用いての計算も行います。（GPUの説明は本項下部で説明があります。）  \n",
    "その為まずはじめにGoogle Colaboratory上でGPUを使用できるように設定しておきます。  \n",
    "\n",
    "画面上部のタブの中の`Runtime`をクリックし、`Change runtime type`を選択します。  \n",
    "\n",
    "下記の画像の様に`Hardware accelerator`を`GPU`に変更します。  \n",
    "\n",
    "![GPUの設定](images/04_01.png)\n",
    "\n",
    "これでGoogle Colaboratory上でGPUを使用できるようになりました。\n",
    "\n",
    "\n",
    "#### GPUとは\n",
    "\n",
    "GPUとは「Graphics Processing Unit」の略称です。  \n",
    "近年のディープラーニングの発展はこのGPUの登場も大きく寄与しています。  \n",
    "なぜなら、GPUは定型的かつ膨大な計算処理を行うことに適しているからです。  \n",
    "\n",
    "コンピュータ全体の計算処理を行なっているCPUでも、同じく計算処理は行うことが可能です。  \n",
    "しかし、単純な処理の速度は圧倒的にGPUの方が速いです。  \n",
    "\n",
    "そのため、膨大な計算量かつ単純な処理内容を行うディープラーニングでは、GPUの使用により発展を遂げました。  \n",
    "（ディープラーニングの基礎的な数学については次章で解説します。）  \n",
    "\n",
    "\n",
    "## Numpyの復習\n",
    "\n",
    "前章でNumpyを使用し実装した重回帰分析を他のデータセットでも試してみます。\n",
    "\n",
    "\n",
    "### データセットの読み込み"
   ]
  },
  {
   "cell_type": "code",
   "execution_count": 0,
   "metadata": {
    "colab": {},
    "colab_type": "code",
    "id": "YURsAS1Ljuyt"
   },
   "outputs": [],
   "source": [
    "import numpy as np"
   ]
  },
  {
   "cell_type": "code",
   "execution_count": 0,
   "metadata": {
    "colab": {},
    "colab_type": "code",
    "id": "vSl9dgKdjtdG"
   },
   "outputs": [],
   "source": [
    "# データセットの読み込み\n",
    "from sklearn.datasets import load_boston\n",
    "dataset = load_boston()\n",
    "x = dataset.data\n",
    "t = dataset.target"
   ]
  },
  {
   "cell_type": "markdown",
   "metadata": {
    "colab_type": "text",
    "id": "ow69Rmo2zF7u"
   },
   "source": [
    "重回帰分析ではダミーの `1` で構成された配列が必要なので、そちらを追加しておきます。"
   ]
  },
  {
   "cell_type": "code",
   "execution_count": 23,
   "metadata": {
    "colab": {
     "base_uri": "https://localhost:8080/",
     "height": 136
    },
    "colab_type": "code",
    "id": "ydWSXYe4aVA_",
    "outputId": "14413251-18ea-4cc8-80ba-ff121b7e9765"
   },
   "outputs": [
    {
     "data": {
      "text/plain": [
       "array([[1],\n",
       "       [1],\n",
       "       [1],\n",
       "       ...,\n",
       "       [1],\n",
       "       [1],\n",
       "       [1]])"
      ]
     },
     "execution_count": 23,
     "metadata": {
      "tags": []
     },
     "output_type": "execute_result"
    }
   ],
   "source": [
    "# ダミーの変数の作成\n",
    "np.array([[1]] * len(X))"
   ]
  },
  {
   "cell_type": "code",
   "execution_count": 0,
   "metadata": {
    "colab": {},
    "colab_type": "code",
    "id": "jco0hqHPlMwo"
   },
   "outputs": [],
   "source": [
    "dummy = np.array([[1]] * len(X))"
   ]
  },
  {
   "cell_type": "code",
   "execution_count": 0,
   "metadata": {
    "colab": {},
    "colab_type": "code",
    "id": "5j2KAUKws6IH"
   },
   "outputs": [],
   "source": [
    "# ダミーの変数をXに追加\n",
    "X = np.concatenate([dummy, X], axis=1)"
   ]
  },
  {
   "cell_type": "markdown",
   "metadata": {
    "colab_type": "text",
    "id": "PkVWYlgLzWzu"
   },
   "source": [
    "計算にかかった時間を計測する為、 `time` というモジュールを使用して計測します。"
   ]
  },
  {
   "cell_type": "code",
   "execution_count": 0,
   "metadata": {
    "colab": {},
    "colab_type": "code",
    "id": "zChNyqioselN"
   },
   "outputs": [],
   "source": [
    "import time"
   ]
  },
  {
   "cell_type": "code",
   "execution_count": 0,
   "metadata": {
    "colab": {},
    "colab_type": "code",
    "id": "CO3245G_jvSc"
   },
   "outputs": [],
   "source": [
    "# 重回帰分析でモデルの構築\n",
    "start = time.time()\n",
    "xx = np.dot(x.T, x)\n",
    "xx_inv = np.linalg.inv(xx)\n",
    "xt = np.dot(x.T, t)\n",
    "w = np.dot(xx_inv, xt)\n",
    "finish = time.time() - start"
   ]
  },
  {
   "cell_type": "code",
   "execution_count": 28,
   "metadata": {
    "colab": {
     "base_uri": "https://localhost:8080/",
     "height": 34
    },
    "colab_type": "code",
    "id": "hnZ_ORvMs0rE",
    "outputId": "6cff7369-77f9-4790-d6b4-059213bc7c7d"
   },
   "outputs": [
    {
     "data": {
      "text/plain": [
       "0.008376836776733398"
      ]
     },
     "execution_count": 28,
     "metadata": {
      "tags": []
     },
     "output_type": "execute_result"
    }
   ],
   "source": [
    "finish"
   ]
  },
  {
   "cell_type": "code",
   "execution_count": 29,
   "metadata": {
    "colab": {
     "base_uri": "https://localhost:8080/",
     "height": 85
    },
    "colab_type": "code",
    "id": "o_kh4sJIrcnV",
    "outputId": "534daad8-96eb-48c2-e9df-aa687ef5e435"
   },
   "outputs": [
    {
     "name": "stdout",
     "output_type": "stream",
     "text": [
      "[-9.28965170e-02  4.87149552e-02 -4.05997958e-03  2.85399882e+00\n",
      " -2.86843637e+00  5.92814778e+00 -7.26933458e-03 -9.68514157e-01\n",
      "  1.71151128e-01 -9.39621540e-03 -3.92190926e-01  1.49056102e-02\n",
      " -4.16304471e-01]\n"
     ]
    }
   ],
   "source": [
    "# 重みの確認\n",
    "print(w)"
   ]
  },
  {
   "cell_type": "markdown",
   "metadata": {
    "colab_type": "text",
    "id": "XY7SAOQOzwHV"
   },
   "source": [
    "## Cupyの基礎\n",
    "\n",
    "CupyはGPUでの演算に特化した数値計算用のパッケージです。  \n",
    "膨大な量の数値計算を行う際にその力を発揮します。  \n",
    "データサイズの大きな画像や、計算量の多いディープラーニングの手法でモデルを学習させる際に使用されます。  \n",
    "\n",
    "（データサイズの大きくないデータセットや、CPUで計算する際には基本的にNumpyを使用します。）\n",
    "\n",
    "\n",
    "### Cupyの使用方法\n",
    "\n",
    "Cupyの使用方法はNumpyと同じです。  \n",
    "そのためNumpyの使用方法がわかればあとはNumpyの部分をCupyに置き換えることによって使用することができます。  \n",
    "\n",
    "注意点としてはCupyで計算を行う際にはCupyの配列型に変更する必要があります。   \n",
    "Numpyの形式のまま計算を行おうとするとエラーが出てしまいます。  \n",
    "\n",
    "CupyはGoogle Colaboratory上にすでにインストールされているので、インストールなどは行わずインポートすることが可能です。\n",
    "\n",
    "\n",
    "### Cupyで重回帰分析を実装"
   ]
  },
  {
   "cell_type": "code",
   "execution_count": 0,
   "metadata": {
    "colab": {},
    "colab_type": "code",
    "id": "q6Rywspxq_9D"
   },
   "outputs": [],
   "source": [
    "import cupy"
   ]
  },
  {
   "cell_type": "code",
   "execution_count": 0,
   "metadata": {
    "colab": {},
    "colab_type": "code",
    "id": "3wcclASqrKcx"
   },
   "outputs": [],
   "source": [
    "# Numpyの配列をCupyの配列に変換\n",
    "x = cupy.array(x)\n",
    "t = cupy.array(t)"
   ]
  },
  {
   "cell_type": "code",
   "execution_count": 0,
   "metadata": {
    "colab": {},
    "colab_type": "code",
    "id": "gEUTAlJArKi5"
   },
   "outputs": [],
   "source": [
    "# 重回帰分析でモデルの構築\n",
    "start = time.time()\n",
    "xx = cupy.dot(x.T, x)\n",
    "xx_inv = cupy.linalg.inv(xx)\n",
    "xt = cupy.dot(x.T, t)\n",
    "w = cupy.dot(xx_inv, xt)\n",
    "finish = time.time() - start"
   ]
  },
  {
   "cell_type": "code",
   "execution_count": 36,
   "metadata": {
    "colab": {
     "base_uri": "https://localhost:8080/",
     "height": 34
    },
    "colab_type": "code",
    "id": "qxIXkV34swyQ",
    "outputId": "8adf5888-4a02-4eaa-fbe9-93fec6400cc3"
   },
   "outputs": [
    {
     "data": {
      "text/plain": [
       "0.005779743194580078"
      ]
     },
     "execution_count": 36,
     "metadata": {
      "tags": []
     },
     "output_type": "execute_result"
    }
   ],
   "source": [
    "finish"
   ]
  },
  {
   "cell_type": "markdown",
   "metadata": {
    "colab_type": "text",
    "id": "nc2IJv8v0yhU"
   },
   "source": [
    "先ほどNumpyで計算を行った時よりも少し計算結果が早いことが確認できます。   \n",
    "（状況によっては、Numpyで計算した方が早いケースもある可能性があります。）  \n",
    "\n",
    "今はCupyというものを使用することによってGPU上で計算ができ、Chainerを使用してディープラーニングを実装する際にもGPUで計算する際にはこのCupyが使用されているということをおさえておきましょう。"
   ]
  },
  {
   "cell_type": "code",
   "execution_count": 37,
   "metadata": {
    "colab": {
     "base_uri": "https://localhost:8080/",
     "height": 85
    },
    "colab_type": "code",
    "id": "npM6DkDYrKp5",
    "outputId": "e18c3600-de0e-4372-ec42-29c71468970d"
   },
   "outputs": [
    {
     "name": "stdout",
     "output_type": "stream",
     "text": [
      "[-9.28965170e-02  4.87149552e-02 -4.05997958e-03  2.85399882e+00\n",
      " -2.86843637e+00  5.92814778e+00 -7.26933458e-03 -9.68514157e-01\n",
      "  1.71151128e-01 -9.39621540e-03 -3.92190926e-01  1.49056102e-02\n",
      " -4.16304471e-01]\n"
     ]
    }
   ],
   "source": [
    "# 重みの確認\n",
    "print(w)"
   ]
  },
  {
   "cell_type": "markdown",
   "metadata": {
    "colab_type": "text",
    "id": "x3NfPv7zrKxb"
   },
   "source": [
    "重みもNumpyで計算したものと同じ値になっており、計算も問題なく行われていることが確認できます。  "
   ]
  },
  {
   "cell_type": "markdown",
   "metadata": {
    "colab_type": "text",
    "id": "jEuKb9fhjovk"
   },
   "source": [
    "## Pandasの基礎\n",
    "\n",
    "続いて、データ操作に特化したパッケージであるPandasの使用方法をみていきます。  \n",
    "\n",
    "### データの読み込み\n",
    "\n",
    "データセットはGoogle Colaboratoryで用意されているサンプルデータを使用します。  \n",
    "\n",
    "Pandasも頻繁に使用するパッケージなので `pandas` という名前ではなく、 `pd` という短縮系で呼び出すことが基本的です。  \n",
    "\n",
    "データセットの読み込みは `pd.read_csv(ファイル名)`  で読み込むことができます。  \n",
    "読み込んだデータはPandas上で `DataFrame` と一般的に呼ばれる為、一般的に `df` という略称の変数に格納します。"
   ]
  },
  {
   "cell_type": "code",
   "execution_count": 0,
   "metadata": {
    "colab": {},
    "colab_type": "code",
    "id": "oOg-SRWp2OQz"
   },
   "outputs": [],
   "source": [
    "# Pandasのインポート\n",
    "import pandas as pd"
   ]
  },
  {
   "cell_type": "code",
   "execution_count": 0,
   "metadata": {
    "colab": {},
    "colab_type": "code",
    "id": "QvqC02GJ3V0a"
   },
   "outputs": [],
   "source": [
    "# データセットの読み込み\n",
    "df = pd.read_csv('sample_data/california_housing_train.csv')"
   ]
  },
  {
   "cell_type": "markdown",
   "metadata": {
    "colab_type": "text",
    "id": "1MgSOxlt3maP"
   },
   "source": [
    "`df`を実行すると中身を確認できますが、全てのデータを表示してしまうと邪魔になってしまうので、  \n",
    "`.head(5)`を使用して上位5件だけ表示します。"
   ]
  },
  {
   "cell_type": "code",
   "execution_count": 0,
   "metadata": {
    "colab": {
     "base_uri": "https://localhost:8080/",
     "height": 224
    },
    "colab_type": "code",
    "id": "UcPEPxhr300W",
    "outputId": "37302c9b-8eb2-46ab-935c-63aab234dbce"
   },
   "outputs": [
    {
     "data": {
      "text/html": [
       "<div>\n",
       "<style scoped>\n",
       "    .dataframe tbody tr th:only-of-type {\n",
       "        vertical-align: middle;\n",
       "    }\n",
       "\n",
       "    .dataframe tbody tr th {\n",
       "        vertical-align: top;\n",
       "    }\n",
       "\n",
       "    .dataframe thead th {\n",
       "        text-align: right;\n",
       "    }\n",
       "</style>\n",
       "<table border=\"1\" class=\"dataframe\">\n",
       "  <thead>\n",
       "    <tr style=\"text-align: right;\">\n",
       "      <th></th>\n",
       "      <th>longitude</th>\n",
       "      <th>latitude</th>\n",
       "      <th>housing_median_age</th>\n",
       "      <th>total_rooms</th>\n",
       "      <th>total_bedrooms</th>\n",
       "      <th>population</th>\n",
       "      <th>households</th>\n",
       "      <th>median_income</th>\n",
       "      <th>median_house_value</th>\n",
       "    </tr>\n",
       "  </thead>\n",
       "  <tbody>\n",
       "    <tr>\n",
       "      <th>0</th>\n",
       "      <td>-114.31</td>\n",
       "      <td>34.19</td>\n",
       "      <td>15.0</td>\n",
       "      <td>5612.0</td>\n",
       "      <td>1283.0</td>\n",
       "      <td>1015.0</td>\n",
       "      <td>472.0</td>\n",
       "      <td>1.4936</td>\n",
       "      <td>66900.0</td>\n",
       "    </tr>\n",
       "    <tr>\n",
       "      <th>1</th>\n",
       "      <td>-114.47</td>\n",
       "      <td>34.40</td>\n",
       "      <td>19.0</td>\n",
       "      <td>7650.0</td>\n",
       "      <td>1901.0</td>\n",
       "      <td>1129.0</td>\n",
       "      <td>463.0</td>\n",
       "      <td>1.8200</td>\n",
       "      <td>80100.0</td>\n",
       "    </tr>\n",
       "    <tr>\n",
       "      <th>2</th>\n",
       "      <td>-114.56</td>\n",
       "      <td>33.69</td>\n",
       "      <td>17.0</td>\n",
       "      <td>720.0</td>\n",
       "      <td>174.0</td>\n",
       "      <td>333.0</td>\n",
       "      <td>117.0</td>\n",
       "      <td>1.6509</td>\n",
       "      <td>85700.0</td>\n",
       "    </tr>\n",
       "    <tr>\n",
       "      <th>3</th>\n",
       "      <td>-114.57</td>\n",
       "      <td>33.64</td>\n",
       "      <td>14.0</td>\n",
       "      <td>1501.0</td>\n",
       "      <td>337.0</td>\n",
       "      <td>515.0</td>\n",
       "      <td>226.0</td>\n",
       "      <td>3.1917</td>\n",
       "      <td>73400.0</td>\n",
       "    </tr>\n",
       "    <tr>\n",
       "      <th>4</th>\n",
       "      <td>-114.57</td>\n",
       "      <td>33.57</td>\n",
       "      <td>20.0</td>\n",
       "      <td>1454.0</td>\n",
       "      <td>326.0</td>\n",
       "      <td>624.0</td>\n",
       "      <td>262.0</td>\n",
       "      <td>1.9250</td>\n",
       "      <td>65500.0</td>\n",
       "    </tr>\n",
       "  </tbody>\n",
       "</table>\n",
       "</div>"
      ],
      "text/plain": [
       "   longitude  latitude  housing_median_age  total_rooms  total_bedrooms  \\\n",
       "0    -114.31     34.19                15.0       5612.0          1283.0   \n",
       "1    -114.47     34.40                19.0       7650.0          1901.0   \n",
       "2    -114.56     33.69                17.0        720.0           174.0   \n",
       "3    -114.57     33.64                14.0       1501.0           337.0   \n",
       "4    -114.57     33.57                20.0       1454.0           326.0   \n",
       "\n",
       "   population  households  median_income  median_house_value  \n",
       "0      1015.0       472.0         1.4936             66900.0  \n",
       "1      1129.0       463.0         1.8200             80100.0  \n",
       "2       333.0       117.0         1.6509             85700.0  \n",
       "3       515.0       226.0         3.1917             73400.0  \n",
       "4       624.0       262.0         1.9250             65500.0  "
      ]
     },
     "execution_count": 4,
     "metadata": {
      "tags": []
     },
     "output_type": "execute_result"
    }
   ],
   "source": [
    "df.head(5)"
   ]
  },
  {
   "cell_type": "markdown",
   "metadata": {
    "colab_type": "text",
    "id": "33kVroZ235bY"
   },
   "source": [
    "データセットが読み込めていることが確認できました。  \n",
    "今回の問題設定も家賃の予測になります。  \n",
    "\n",
    "\n",
    "### データの切り分け\n",
    "\n",
    "機械学習のモデルで学習させるためには、入力変数xと教師データtに切り分ける必要がありました。  \n",
    "データの切り分けにはいくつかの方法がありますが、よく使用される `.iloc` の使用方法を確認します。\n",
    "\n",
    "切り出し方法は前章で取り扱ったNumpyのデータのスライス方法同じです。  "
   ]
  },
  {
   "cell_type": "code",
   "execution_count": 0,
   "metadata": {
    "colab": {},
    "colab_type": "code",
    "id": "iroJMRp42d3O"
   },
   "outputs": [],
   "source": [
    "# 全ての行を指定、最後から1行前までを取得\n",
    "x = df.iloc[:, :-1]"
   ]
  },
  {
   "cell_type": "code",
   "execution_count": 0,
   "metadata": {
    "colab": {
     "base_uri": "https://localhost:8080/",
     "height": 162
    },
    "colab_type": "code",
    "id": "ZBBBDFyE5FMg",
    "outputId": "334ff255-41d9-46d2-b9c7-ed8134280236"
   },
   "outputs": [
    {
     "data": {
      "text/html": [
       "<div>\n",
       "<style scoped>\n",
       "    .dataframe tbody tr th:only-of-type {\n",
       "        vertical-align: middle;\n",
       "    }\n",
       "\n",
       "    .dataframe tbody tr th {\n",
       "        vertical-align: top;\n",
       "    }\n",
       "\n",
       "    .dataframe thead th {\n",
       "        text-align: right;\n",
       "    }\n",
       "</style>\n",
       "<table border=\"1\" class=\"dataframe\">\n",
       "  <thead>\n",
       "    <tr style=\"text-align: right;\">\n",
       "      <th></th>\n",
       "      <th>longitude</th>\n",
       "      <th>latitude</th>\n",
       "      <th>housing_median_age</th>\n",
       "      <th>total_rooms</th>\n",
       "      <th>total_bedrooms</th>\n",
       "      <th>population</th>\n",
       "      <th>households</th>\n",
       "      <th>median_income</th>\n",
       "    </tr>\n",
       "  </thead>\n",
       "  <tbody>\n",
       "    <tr>\n",
       "      <th>0</th>\n",
       "      <td>-114.31</td>\n",
       "      <td>34.19</td>\n",
       "      <td>15.0</td>\n",
       "      <td>5612.0</td>\n",
       "      <td>1283.0</td>\n",
       "      <td>1015.0</td>\n",
       "      <td>472.0</td>\n",
       "      <td>1.4936</td>\n",
       "    </tr>\n",
       "    <tr>\n",
       "      <th>1</th>\n",
       "      <td>-114.47</td>\n",
       "      <td>34.40</td>\n",
       "      <td>19.0</td>\n",
       "      <td>7650.0</td>\n",
       "      <td>1901.0</td>\n",
       "      <td>1129.0</td>\n",
       "      <td>463.0</td>\n",
       "      <td>1.8200</td>\n",
       "    </tr>\n",
       "    <tr>\n",
       "      <th>2</th>\n",
       "      <td>-114.56</td>\n",
       "      <td>33.69</td>\n",
       "      <td>17.0</td>\n",
       "      <td>720.0</td>\n",
       "      <td>174.0</td>\n",
       "      <td>333.0</td>\n",
       "      <td>117.0</td>\n",
       "      <td>1.6509</td>\n",
       "    </tr>\n",
       "  </tbody>\n",
       "</table>\n",
       "</div>"
      ],
      "text/plain": [
       "   longitude  latitude  housing_median_age  total_rooms  total_bedrooms  \\\n",
       "0    -114.31     34.19                15.0       5612.0          1283.0   \n",
       "1    -114.47     34.40                19.0       7650.0          1901.0   \n",
       "2    -114.56     33.69                17.0        720.0           174.0   \n",
       "\n",
       "   population  households  median_income  \n",
       "0      1015.0       472.0         1.4936  \n",
       "1      1129.0       463.0         1.8200  \n",
       "2       333.0       117.0         1.6509  "
      ]
     },
     "execution_count": 6,
     "metadata": {
      "tags": []
     },
     "output_type": "execute_result"
    }
   ],
   "source": [
    "# 切り出したデータを確認\n",
    "x.head(3)"
   ]
  },
  {
   "cell_type": "markdown",
   "metadata": {
    "colab_type": "text",
    "id": "sRjVDqcZ5NkN"
   },
   "source": [
    "同様に教師データ`t`も切り出します。"
   ]
  },
  {
   "cell_type": "code",
   "execution_count": 0,
   "metadata": {
    "colab": {},
    "colab_type": "code",
    "id": "Uu4LCYNF5QkY"
   },
   "outputs": [],
   "source": [
    "# 全てのサンプルを指定、最後の1行のみを取得\n",
    "t = df.iloc[:, -1]"
   ]
  },
  {
   "cell_type": "code",
   "execution_count": 0,
   "metadata": {
    "colab": {
     "base_uri": "https://localhost:8080/",
     "height": 85
    },
    "colab_type": "code",
    "id": "zz4mYcMD5cn-",
    "outputId": "35e90210-38fd-4df7-f556-0a5d9b60d571"
   },
   "outputs": [
    {
     "data": {
      "text/plain": [
       "0    66900.0\n",
       "1    80100.0\n",
       "2    85700.0\n",
       "Name: median_house_value, dtype: float64"
      ]
     },
     "execution_count": 8,
     "metadata": {
      "tags": []
     },
     "output_type": "execute_result"
    }
   ],
   "source": [
    "# 切り出したデータを確認\n",
    "t.head(3)"
   ]
  },
  {
   "cell_type": "markdown",
   "metadata": {
    "colab_type": "text",
    "id": "9g9R9LyW5cih"
   },
   "source": [
    "### データの並び替え\n",
    "データの中身を確認するときに降順や昇順で確認したい場合もあると思います。  \n",
    "`sort_values('ソートする列名')` で行うことができます。"
   ]
  },
  {
   "cell_type": "code",
   "execution_count": 0,
   "metadata": {
    "colab": {},
    "colab_type": "code",
    "id": "aOoSzJq55ca_"
   },
   "outputs": [],
   "source": [
    "# total_roomsの列を基準に降順に並び替え\n",
    "_df = df.sort_values('total_rooms', ascending=False)"
   ]
  },
  {
   "cell_type": "code",
   "execution_count": 0,
   "metadata": {
    "colab": {
     "base_uri": "https://localhost:8080/",
     "height": 162
    },
    "colab_type": "code",
    "id": "fdTEKJtW5cVV",
    "outputId": "356e5c36-47fa-4558-82c4-125ea8db15c8"
   },
   "outputs": [
    {
     "data": {
      "text/html": [
       "<div>\n",
       "<style scoped>\n",
       "    .dataframe tbody tr th:only-of-type {\n",
       "        vertical-align: middle;\n",
       "    }\n",
       "\n",
       "    .dataframe tbody tr th {\n",
       "        vertical-align: top;\n",
       "    }\n",
       "\n",
       "    .dataframe thead th {\n",
       "        text-align: right;\n",
       "    }\n",
       "</style>\n",
       "<table border=\"1\" class=\"dataframe\">\n",
       "  <thead>\n",
       "    <tr style=\"text-align: right;\">\n",
       "      <th></th>\n",
       "      <th>longitude</th>\n",
       "      <th>latitude</th>\n",
       "      <th>housing_median_age</th>\n",
       "      <th>total_rooms</th>\n",
       "      <th>total_bedrooms</th>\n",
       "      <th>population</th>\n",
       "      <th>households</th>\n",
       "      <th>median_income</th>\n",
       "      <th>median_house_value</th>\n",
       "    </tr>\n",
       "  </thead>\n",
       "  <tbody>\n",
       "    <tr>\n",
       "      <th>2871</th>\n",
       "      <td>-117.74</td>\n",
       "      <td>33.89</td>\n",
       "      <td>4.0</td>\n",
       "      <td>37937.0</td>\n",
       "      <td>5471.0</td>\n",
       "      <td>16122.0</td>\n",
       "      <td>5189.0</td>\n",
       "      <td>7.4947</td>\n",
       "      <td>366300.0</td>\n",
       "    </tr>\n",
       "    <tr>\n",
       "      <th>12772</th>\n",
       "      <td>-121.79</td>\n",
       "      <td>36.64</td>\n",
       "      <td>11.0</td>\n",
       "      <td>32627.0</td>\n",
       "      <td>6445.0</td>\n",
       "      <td>28566.0</td>\n",
       "      <td>6082.0</td>\n",
       "      <td>2.3087</td>\n",
       "      <td>118800.0</td>\n",
       "    </tr>\n",
       "    <tr>\n",
       "      <th>2969</th>\n",
       "      <td>-117.78</td>\n",
       "      <td>34.03</td>\n",
       "      <td>8.0</td>\n",
       "      <td>32054.0</td>\n",
       "      <td>5290.0</td>\n",
       "      <td>15507.0</td>\n",
       "      <td>5050.0</td>\n",
       "      <td>6.0191</td>\n",
       "      <td>253900.0</td>\n",
       "    </tr>\n",
       "  </tbody>\n",
       "</table>\n",
       "</div>"
      ],
      "text/plain": [
       "       longitude  latitude  housing_median_age  total_rooms  total_bedrooms  \\\n",
       "2871     -117.74     33.89                 4.0      37937.0          5471.0   \n",
       "12772    -121.79     36.64                11.0      32627.0          6445.0   \n",
       "2969     -117.78     34.03                 8.0      32054.0          5290.0   \n",
       "\n",
       "       population  households  median_income  median_house_value  \n",
       "2871      16122.0      5189.0         7.4947            366300.0  \n",
       "12772     28566.0      6082.0         2.3087            118800.0  \n",
       "2969      15507.0      5050.0         6.0191            253900.0  "
      ]
     },
     "execution_count": 10,
     "metadata": {
      "tags": []
     },
     "output_type": "execute_result"
    }
   ],
   "source": [
    "_df.head(3)"
   ]
  },
  {
   "cell_type": "markdown",
   "metadata": {
    "colab_type": "text",
    "id": "BzCQSyXT5cOi"
   },
   "source": [
    "### データの詳細を確認\n",
    "データの様々な情報を知りたい場合には `.describe()` を使用すると便利です。  \n",
    "それぞれの値の内容は下記になります。  \n",
    "\n",
    "- count：値の数\n",
    "- mean：平均値\n",
    "- std：標準偏差\n",
    "- min：最小値\n",
    "- max：最大値"
   ]
  },
  {
   "cell_type": "code",
   "execution_count": 0,
   "metadata": {
    "colab": {
     "base_uri": "https://localhost:8080/",
     "height": 317
    },
    "colab_type": "code",
    "id": "vR5emKK55cHg",
    "outputId": "1ca5b83c-04bf-4af5-d84b-084715eef779"
   },
   "outputs": [
    {
     "data": {
      "text/html": [
       "<div>\n",
       "<style scoped>\n",
       "    .dataframe tbody tr th:only-of-type {\n",
       "        vertical-align: middle;\n",
       "    }\n",
       "\n",
       "    .dataframe tbody tr th {\n",
       "        vertical-align: top;\n",
       "    }\n",
       "\n",
       "    .dataframe thead th {\n",
       "        text-align: right;\n",
       "    }\n",
       "</style>\n",
       "<table border=\"1\" class=\"dataframe\">\n",
       "  <thead>\n",
       "    <tr style=\"text-align: right;\">\n",
       "      <th></th>\n",
       "      <th>longitude</th>\n",
       "      <th>latitude</th>\n",
       "      <th>housing_median_age</th>\n",
       "      <th>total_rooms</th>\n",
       "      <th>total_bedrooms</th>\n",
       "      <th>population</th>\n",
       "      <th>households</th>\n",
       "      <th>median_income</th>\n",
       "      <th>median_house_value</th>\n",
       "    </tr>\n",
       "  </thead>\n",
       "  <tbody>\n",
       "    <tr>\n",
       "      <th>count</th>\n",
       "      <td>17000.000000</td>\n",
       "      <td>17000.000000</td>\n",
       "      <td>17000.000000</td>\n",
       "      <td>17000.000000</td>\n",
       "      <td>17000.000000</td>\n",
       "      <td>17000.000000</td>\n",
       "      <td>17000.000000</td>\n",
       "      <td>17000.000000</td>\n",
       "      <td>17000.000000</td>\n",
       "    </tr>\n",
       "    <tr>\n",
       "      <th>mean</th>\n",
       "      <td>-119.562108</td>\n",
       "      <td>35.625225</td>\n",
       "      <td>28.589353</td>\n",
       "      <td>2643.664412</td>\n",
       "      <td>539.410824</td>\n",
       "      <td>1429.573941</td>\n",
       "      <td>501.221941</td>\n",
       "      <td>3.883578</td>\n",
       "      <td>207300.912353</td>\n",
       "    </tr>\n",
       "    <tr>\n",
       "      <th>std</th>\n",
       "      <td>2.005166</td>\n",
       "      <td>2.137340</td>\n",
       "      <td>12.586937</td>\n",
       "      <td>2179.947071</td>\n",
       "      <td>421.499452</td>\n",
       "      <td>1147.852959</td>\n",
       "      <td>384.520841</td>\n",
       "      <td>1.908157</td>\n",
       "      <td>115983.764387</td>\n",
       "    </tr>\n",
       "    <tr>\n",
       "      <th>min</th>\n",
       "      <td>-124.350000</td>\n",
       "      <td>32.540000</td>\n",
       "      <td>1.000000</td>\n",
       "      <td>2.000000</td>\n",
       "      <td>1.000000</td>\n",
       "      <td>3.000000</td>\n",
       "      <td>1.000000</td>\n",
       "      <td>0.499900</td>\n",
       "      <td>14999.000000</td>\n",
       "    </tr>\n",
       "    <tr>\n",
       "      <th>25%</th>\n",
       "      <td>-121.790000</td>\n",
       "      <td>33.930000</td>\n",
       "      <td>18.000000</td>\n",
       "      <td>1462.000000</td>\n",
       "      <td>297.000000</td>\n",
       "      <td>790.000000</td>\n",
       "      <td>282.000000</td>\n",
       "      <td>2.566375</td>\n",
       "      <td>119400.000000</td>\n",
       "    </tr>\n",
       "    <tr>\n",
       "      <th>50%</th>\n",
       "      <td>-118.490000</td>\n",
       "      <td>34.250000</td>\n",
       "      <td>29.000000</td>\n",
       "      <td>2127.000000</td>\n",
       "      <td>434.000000</td>\n",
       "      <td>1167.000000</td>\n",
       "      <td>409.000000</td>\n",
       "      <td>3.544600</td>\n",
       "      <td>180400.000000</td>\n",
       "    </tr>\n",
       "    <tr>\n",
       "      <th>75%</th>\n",
       "      <td>-118.000000</td>\n",
       "      <td>37.720000</td>\n",
       "      <td>37.000000</td>\n",
       "      <td>3151.250000</td>\n",
       "      <td>648.250000</td>\n",
       "      <td>1721.000000</td>\n",
       "      <td>605.250000</td>\n",
       "      <td>4.767000</td>\n",
       "      <td>265000.000000</td>\n",
       "    </tr>\n",
       "    <tr>\n",
       "      <th>max</th>\n",
       "      <td>-114.310000</td>\n",
       "      <td>41.950000</td>\n",
       "      <td>52.000000</td>\n",
       "      <td>37937.000000</td>\n",
       "      <td>6445.000000</td>\n",
       "      <td>35682.000000</td>\n",
       "      <td>6082.000000</td>\n",
       "      <td>15.000100</td>\n",
       "      <td>500001.000000</td>\n",
       "    </tr>\n",
       "  </tbody>\n",
       "</table>\n",
       "</div>"
      ],
      "text/plain": [
       "          longitude      latitude  housing_median_age   total_rooms  \\\n",
       "count  17000.000000  17000.000000        17000.000000  17000.000000   \n",
       "mean    -119.562108     35.625225           28.589353   2643.664412   \n",
       "std        2.005166      2.137340           12.586937   2179.947071   \n",
       "min     -124.350000     32.540000            1.000000      2.000000   \n",
       "25%     -121.790000     33.930000           18.000000   1462.000000   \n",
       "50%     -118.490000     34.250000           29.000000   2127.000000   \n",
       "75%     -118.000000     37.720000           37.000000   3151.250000   \n",
       "max     -114.310000     41.950000           52.000000  37937.000000   \n",
       "\n",
       "       total_bedrooms    population    households  median_income  \\\n",
       "count    17000.000000  17000.000000  17000.000000   17000.000000   \n",
       "mean       539.410824   1429.573941    501.221941       3.883578   \n",
       "std        421.499452   1147.852959    384.520841       1.908157   \n",
       "min          1.000000      3.000000      1.000000       0.499900   \n",
       "25%        297.000000    790.000000    282.000000       2.566375   \n",
       "50%        434.000000   1167.000000    409.000000       3.544600   \n",
       "75%        648.250000   1721.000000    605.250000       4.767000   \n",
       "max       6445.000000  35682.000000   6082.000000      15.000100   \n",
       "\n",
       "       median_house_value  \n",
       "count        17000.000000  \n",
       "mean        207300.912353  \n",
       "std         115983.764387  \n",
       "min          14999.000000  \n",
       "25%         119400.000000  \n",
       "50%         180400.000000  \n",
       "75%         265000.000000  \n",
       "max         500001.000000  "
      ]
     },
     "execution_count": 11,
     "metadata": {
      "tags": []
     },
     "output_type": "execute_result"
    }
   ],
   "source": [
    "_df.describe()"
   ]
  },
  {
   "cell_type": "markdown",
   "metadata": {
    "colab_type": "text",
    "id": "0xU2iX-Z5cAg"
   },
   "source": [
    "### データの操作： 列の削除、追加、結合、条件抽出、行ごとの操作\n",
    "\n",
    "Pandasでは様々なデータ操作も可能です。  \n",
    "\n",
    "\n",
    "#### 列の削除\n",
    "\n",
    "列の削除には`df.drop(['削除したい列名'], axis=1)`で実行できます。  \n",
    "`axis=`はデフォルトでは`0`になっています。  \n",
    "`0`が表すのは行方向  \n",
    "`1`が表すのは列方向です。そのため今回は`axis=1`と指定しています。"
   ]
  },
  {
   "cell_type": "code",
   "execution_count": 0,
   "metadata": {
    "colab": {
     "base_uri": "https://localhost:8080/",
     "height": 162
    },
    "colab_type": "code",
    "id": "ttAE7fH25b47",
    "outputId": "7a70b977-3c96-4b7f-c30e-cdac86faa516"
   },
   "outputs": [
    {
     "data": {
      "text/html": [
       "<div>\n",
       "<style scoped>\n",
       "    .dataframe tbody tr th:only-of-type {\n",
       "        vertical-align: middle;\n",
       "    }\n",
       "\n",
       "    .dataframe tbody tr th {\n",
       "        vertical-align: top;\n",
       "    }\n",
       "\n",
       "    .dataframe thead th {\n",
       "        text-align: right;\n",
       "    }\n",
       "</style>\n",
       "<table border=\"1\" class=\"dataframe\">\n",
       "  <thead>\n",
       "    <tr style=\"text-align: right;\">\n",
       "      <th></th>\n",
       "      <th>latitude</th>\n",
       "      <th>housing_median_age</th>\n",
       "      <th>total_rooms</th>\n",
       "      <th>total_bedrooms</th>\n",
       "      <th>population</th>\n",
       "      <th>households</th>\n",
       "      <th>median_income</th>\n",
       "      <th>median_house_value</th>\n",
       "    </tr>\n",
       "  </thead>\n",
       "  <tbody>\n",
       "    <tr>\n",
       "      <th>0</th>\n",
       "      <td>34.19</td>\n",
       "      <td>15.0</td>\n",
       "      <td>5612.0</td>\n",
       "      <td>1283.0</td>\n",
       "      <td>1015.0</td>\n",
       "      <td>472.0</td>\n",
       "      <td>1.4936</td>\n",
       "      <td>66900.0</td>\n",
       "    </tr>\n",
       "    <tr>\n",
       "      <th>1</th>\n",
       "      <td>34.40</td>\n",
       "      <td>19.0</td>\n",
       "      <td>7650.0</td>\n",
       "      <td>1901.0</td>\n",
       "      <td>1129.0</td>\n",
       "      <td>463.0</td>\n",
       "      <td>1.8200</td>\n",
       "      <td>80100.0</td>\n",
       "    </tr>\n",
       "    <tr>\n",
       "      <th>2</th>\n",
       "      <td>33.69</td>\n",
       "      <td>17.0</td>\n",
       "      <td>720.0</td>\n",
       "      <td>174.0</td>\n",
       "      <td>333.0</td>\n",
       "      <td>117.0</td>\n",
       "      <td>1.6509</td>\n",
       "      <td>85700.0</td>\n",
       "    </tr>\n",
       "  </tbody>\n",
       "</table>\n",
       "</div>"
      ],
      "text/plain": [
       "   latitude  housing_median_age  total_rooms  total_bedrooms  population  \\\n",
       "0     34.19                15.0       5612.0          1283.0      1015.0   \n",
       "1     34.40                19.0       7650.0          1901.0      1129.0   \n",
       "2     33.69                17.0        720.0           174.0       333.0   \n",
       "\n",
       "   households  median_income  median_house_value  \n",
       "0       472.0         1.4936             66900.0  \n",
       "1       463.0         1.8200             80100.0  \n",
       "2       117.0         1.6509             85700.0  "
      ]
     },
     "execution_count": 12,
     "metadata": {
      "tags": []
     },
     "output_type": "execute_result"
    }
   ],
   "source": [
    "# 　longitudeの列の削除\n",
    "_df = df.drop(['longitude'], axis=1)\n",
    "_df.head(3)"
   ]
  },
  {
   "cell_type": "markdown",
   "metadata": {
    "colab_type": "text",
    "id": "sd85LXIg5byI"
   },
   "source": [
    "#### 列の追加\n",
    "\n",
    "追加は`df['新しい列名']` = `新しい列`とすれば追加することが可能です。  \n",
    "今回は練習に `df['latitude']` を切り出し、`latitude2`という名前で追加します。\n",
    "\n"
   ]
  },
  {
   "cell_type": "code",
   "execution_count": 0,
   "metadata": {
    "colab": {
     "base_uri": "https://localhost:8080/",
     "height": 68
    },
    "colab_type": "code",
    "id": "j3QwQDrI8ifP",
    "outputId": "68ed86e7-f924-4e6b-e2fd-070ce05ed26c"
   },
   "outputs": [
    {
     "data": {
      "text/plain": [
       "0    34.19\n",
       "1    34.40\n",
       "Name: latitude, dtype: float64"
      ]
     },
     "execution_count": 13,
     "metadata": {
      "tags": []
     },
     "output_type": "execute_result"
    }
   ],
   "source": [
    "# 列の切り出し\n",
    "_df['latitude'].head(2)"
   ]
  },
  {
   "cell_type": "code",
   "execution_count": 0,
   "metadata": {
    "colab": {},
    "colab_type": "code",
    "id": "nk5EFLN47yO0"
   },
   "outputs": [],
   "source": [
    "# 列の追加\n",
    "_df['latitude2'] = _df['latitude']"
   ]
  },
  {
   "cell_type": "code",
   "execution_count": 0,
   "metadata": {
    "colab": {
     "base_uri": "https://localhost:8080/",
     "height": 131
    },
    "colab_type": "code",
    "id": "Db_8EXeI7qlU",
    "outputId": "44185f27-d166-44ba-c3a7-643ba817aeb9"
   },
   "outputs": [
    {
     "data": {
      "text/html": [
       "<div>\n",
       "<style scoped>\n",
       "    .dataframe tbody tr th:only-of-type {\n",
       "        vertical-align: middle;\n",
       "    }\n",
       "\n",
       "    .dataframe tbody tr th {\n",
       "        vertical-align: top;\n",
       "    }\n",
       "\n",
       "    .dataframe thead th {\n",
       "        text-align: right;\n",
       "    }\n",
       "</style>\n",
       "<table border=\"1\" class=\"dataframe\">\n",
       "  <thead>\n",
       "    <tr style=\"text-align: right;\">\n",
       "      <th></th>\n",
       "      <th>latitude</th>\n",
       "      <th>housing_median_age</th>\n",
       "      <th>total_rooms</th>\n",
       "      <th>total_bedrooms</th>\n",
       "      <th>population</th>\n",
       "      <th>households</th>\n",
       "      <th>median_income</th>\n",
       "      <th>median_house_value</th>\n",
       "      <th>latitude2</th>\n",
       "    </tr>\n",
       "  </thead>\n",
       "  <tbody>\n",
       "    <tr>\n",
       "      <th>0</th>\n",
       "      <td>34.19</td>\n",
       "      <td>15.0</td>\n",
       "      <td>5612.0</td>\n",
       "      <td>1283.0</td>\n",
       "      <td>1015.0</td>\n",
       "      <td>472.0</td>\n",
       "      <td>1.4936</td>\n",
       "      <td>66900.0</td>\n",
       "      <td>34.19</td>\n",
       "    </tr>\n",
       "    <tr>\n",
       "      <th>1</th>\n",
       "      <td>34.40</td>\n",
       "      <td>19.0</td>\n",
       "      <td>7650.0</td>\n",
       "      <td>1901.0</td>\n",
       "      <td>1129.0</td>\n",
       "      <td>463.0</td>\n",
       "      <td>1.8200</td>\n",
       "      <td>80100.0</td>\n",
       "      <td>34.40</td>\n",
       "    </tr>\n",
       "  </tbody>\n",
       "</table>\n",
       "</div>"
      ],
      "text/plain": [
       "   latitude  housing_median_age  total_rooms  total_bedrooms  population  \\\n",
       "0     34.19                15.0       5612.0          1283.0      1015.0   \n",
       "1     34.40                19.0       7650.0          1901.0      1129.0   \n",
       "\n",
       "   households  median_income  median_house_value  latitude2  \n",
       "0       472.0         1.4936             66900.0      34.19  \n",
       "1       463.0         1.8200             80100.0      34.40  "
      ]
     },
     "execution_count": 15,
     "metadata": {
      "tags": []
     },
     "output_type": "execute_result"
    }
   ],
   "source": [
    "_df.head(2)"
   ]
  },
  {
   "cell_type": "markdown",
   "metadata": {
    "colab_type": "text",
    "id": "Zqy4vGyq7qsc"
   },
   "source": [
    "#### 列の結合\n",
    "\n",
    "バラバラのデータフレームを結合するときには`pd.concat([df1, df2])`とすれば追加することができます。 \n",
    "また`axis`を指定することで行方向もしくは、列方向への追加を選択することができます。  \n",
    "\n",
    "練習に最初に切り出した`x`と`t`を列方向に結合します。"
   ]
  },
  {
   "cell_type": "code",
   "execution_count": 0,
   "metadata": {
    "colab": {
     "base_uri": "https://localhost:8080/",
     "height": 162
    },
    "colab_type": "code",
    "id": "COPZq8Zj7qzL",
    "outputId": "24af9b5c-d653-4aac-da95-9a57cf091b18"
   },
   "outputs": [
    {
     "data": {
      "text/html": [
       "<div>\n",
       "<style scoped>\n",
       "    .dataframe tbody tr th:only-of-type {\n",
       "        vertical-align: middle;\n",
       "    }\n",
       "\n",
       "    .dataframe tbody tr th {\n",
       "        vertical-align: top;\n",
       "    }\n",
       "\n",
       "    .dataframe thead th {\n",
       "        text-align: right;\n",
       "    }\n",
       "</style>\n",
       "<table border=\"1\" class=\"dataframe\">\n",
       "  <thead>\n",
       "    <tr style=\"text-align: right;\">\n",
       "      <th></th>\n",
       "      <th>longitude</th>\n",
       "      <th>latitude</th>\n",
       "      <th>housing_median_age</th>\n",
       "      <th>total_rooms</th>\n",
       "      <th>total_bedrooms</th>\n",
       "      <th>population</th>\n",
       "      <th>households</th>\n",
       "      <th>median_income</th>\n",
       "      <th>median_house_value</th>\n",
       "    </tr>\n",
       "  </thead>\n",
       "  <tbody>\n",
       "    <tr>\n",
       "      <th>0</th>\n",
       "      <td>-114.31</td>\n",
       "      <td>34.19</td>\n",
       "      <td>15.0</td>\n",
       "      <td>5612.0</td>\n",
       "      <td>1283.0</td>\n",
       "      <td>1015.0</td>\n",
       "      <td>472.0</td>\n",
       "      <td>1.4936</td>\n",
       "      <td>66900.0</td>\n",
       "    </tr>\n",
       "    <tr>\n",
       "      <th>1</th>\n",
       "      <td>-114.47</td>\n",
       "      <td>34.40</td>\n",
       "      <td>19.0</td>\n",
       "      <td>7650.0</td>\n",
       "      <td>1901.0</td>\n",
       "      <td>1129.0</td>\n",
       "      <td>463.0</td>\n",
       "      <td>1.8200</td>\n",
       "      <td>80100.0</td>\n",
       "    </tr>\n",
       "    <tr>\n",
       "      <th>2</th>\n",
       "      <td>-114.56</td>\n",
       "      <td>33.69</td>\n",
       "      <td>17.0</td>\n",
       "      <td>720.0</td>\n",
       "      <td>174.0</td>\n",
       "      <td>333.0</td>\n",
       "      <td>117.0</td>\n",
       "      <td>1.6509</td>\n",
       "      <td>85700.0</td>\n",
       "    </tr>\n",
       "  </tbody>\n",
       "</table>\n",
       "</div>"
      ],
      "text/plain": [
       "   longitude  latitude  housing_median_age  total_rooms  total_bedrooms  \\\n",
       "0    -114.31     34.19                15.0       5612.0          1283.0   \n",
       "1    -114.47     34.40                19.0       7650.0          1901.0   \n",
       "2    -114.56     33.69                17.0        720.0           174.0   \n",
       "\n",
       "   population  households  median_income  median_house_value  \n",
       "0      1015.0       472.0         1.4936             66900.0  \n",
       "1      1129.0       463.0         1.8200             80100.0  \n",
       "2       333.0       117.0         1.6509             85700.0  "
      ]
     },
     "execution_count": 16,
     "metadata": {
      "tags": []
     },
     "output_type": "execute_result"
    }
   ],
   "source": [
    "_df = pd.concat([x, t], axis=1)\n",
    "_df.head(3)"
   ]
  },
  {
   "cell_type": "markdown",
   "metadata": {
    "colab_type": "text",
    "id": "zeCTdqHL7q5i"
   },
   "source": [
    "#### データの条件抽出\n",
    "\n",
    "条件抽出は`df[df['条件を適応したい列名'] 条件文 ]`で行うことができます。  \n",
    "今回は家賃が400000の物のみを取り出します。  "
   ]
  },
  {
   "cell_type": "code",
   "execution_count": 0,
   "metadata": {
    "colab": {
     "base_uri": "https://localhost:8080/",
     "height": 162
    },
    "colab_type": "code",
    "id": "jv-19Jj_-K7v",
    "outputId": "638695e8-366e-4936-8bee-8ea17d7b3f67"
   },
   "outputs": [
    {
     "data": {
      "text/html": [
       "<div>\n",
       "<style scoped>\n",
       "    .dataframe tbody tr th:only-of-type {\n",
       "        vertical-align: middle;\n",
       "    }\n",
       "\n",
       "    .dataframe tbody tr th {\n",
       "        vertical-align: top;\n",
       "    }\n",
       "\n",
       "    .dataframe thead th {\n",
       "        text-align: right;\n",
       "    }\n",
       "</style>\n",
       "<table border=\"1\" class=\"dataframe\">\n",
       "  <thead>\n",
       "    <tr style=\"text-align: right;\">\n",
       "      <th></th>\n",
       "      <th>longitude</th>\n",
       "      <th>latitude</th>\n",
       "      <th>housing_median_age</th>\n",
       "      <th>total_rooms</th>\n",
       "      <th>total_bedrooms</th>\n",
       "      <th>population</th>\n",
       "      <th>households</th>\n",
       "      <th>median_income</th>\n",
       "      <th>median_house_value</th>\n",
       "    </tr>\n",
       "  </thead>\n",
       "  <tbody>\n",
       "    <tr>\n",
       "      <th>215</th>\n",
       "      <td>-116.43</td>\n",
       "      <td>33.75</td>\n",
       "      <td>24.0</td>\n",
       "      <td>2596.0</td>\n",
       "      <td>438.0</td>\n",
       "      <td>473.0</td>\n",
       "      <td>237.0</td>\n",
       "      <td>3.7727</td>\n",
       "      <td>500001.0</td>\n",
       "    </tr>\n",
       "    <tr>\n",
       "      <th>220</th>\n",
       "      <td>-116.44</td>\n",
       "      <td>33.74</td>\n",
       "      <td>5.0</td>\n",
       "      <td>846.0</td>\n",
       "      <td>249.0</td>\n",
       "      <td>117.0</td>\n",
       "      <td>67.0</td>\n",
       "      <td>7.9885</td>\n",
       "      <td>403300.0</td>\n",
       "    </tr>\n",
       "    <tr>\n",
       "      <th>260</th>\n",
       "      <td>-116.55</td>\n",
       "      <td>33.84</td>\n",
       "      <td>28.0</td>\n",
       "      <td>2992.0</td>\n",
       "      <td>562.0</td>\n",
       "      <td>676.0</td>\n",
       "      <td>346.0</td>\n",
       "      <td>5.7613</td>\n",
       "      <td>500001.0</td>\n",
       "    </tr>\n",
       "  </tbody>\n",
       "</table>\n",
       "</div>"
      ],
      "text/plain": [
       "     longitude  latitude  housing_median_age  total_rooms  total_bedrooms  \\\n",
       "215    -116.43     33.75                24.0       2596.0           438.0   \n",
       "220    -116.44     33.74                 5.0        846.0           249.0   \n",
       "260    -116.55     33.84                28.0       2992.0           562.0   \n",
       "\n",
       "     population  households  median_income  median_house_value  \n",
       "215       473.0       237.0         3.7727            500001.0  \n",
       "220       117.0        67.0         7.9885            403300.0  \n",
       "260       676.0       346.0         5.7613            500001.0  "
      ]
     },
     "execution_count": 17,
     "metadata": {
      "tags": []
     },
     "output_type": "execute_result"
    }
   ],
   "source": [
    "# 条件文で抽出\n",
    "_df = df[df['median_house_value'] > 400000]\n",
    "_df.head(3)"
   ]
  },
  {
   "cell_type": "markdown",
   "metadata": {
    "colab_type": "text",
    "id": "pXp4sI65_iwJ"
   },
   "source": [
    "### データを行方向に取り出し処理を加える\n",
    "\n",
    "データ操作を行なっていると、データフレームの中から行方向に値を取り出し、処理を加えていく必要なケースが出てくる場面があります。  \n",
    "データを行方向に取り出すには`df.iterrows()`を使用します。  \n",
    "`iterrows`を使用すると行要素と同時にindex番号同時に取得します。  \n",
    "\n",
    "試しにどのように動作するのか確認します。"
   ]
  },
  {
   "cell_type": "code",
   "execution_count": 0,
   "metadata": {
    "colab": {
     "base_uri": "https://localhost:8080/",
     "height": 629
    },
    "colab_type": "code",
    "id": "CZxzelIiAU1h",
    "outputId": "9f47b468-2f03-4e61-b8d5-489f514d50e9"
   },
   "outputs": [
    {
     "name": "stdout",
     "output_type": "stream",
     "text": [
      "0\n",
      "----\n",
      "longitude              -114.3100\n",
      "latitude                 34.1900\n",
      "housing_median_age       15.0000\n",
      "total_rooms            5612.0000\n",
      "total_bedrooms         1283.0000\n",
      "population             1015.0000\n",
      "households              472.0000\n",
      "median_income             1.4936\n",
      "median_house_value    66900.0000\n",
      "Name: 0, dtype: float64\n",
      "1\n",
      "----\n",
      "longitude              -114.47\n",
      "latitude                 34.40\n",
      "housing_median_age       19.00\n",
      "total_rooms            7650.00\n",
      "total_bedrooms         1901.00\n",
      "population             1129.00\n",
      "households              463.00\n",
      "median_income             1.82\n",
      "median_house_value    80100.00\n",
      "Name: 1, dtype: float64\n",
      "2\n",
      "----\n",
      "longitude              -114.5600\n",
      "latitude                 33.6900\n",
      "housing_median_age       17.0000\n",
      "total_rooms             720.0000\n",
      "total_bedrooms          174.0000\n",
      "population              333.0000\n",
      "households              117.0000\n",
      "median_income             1.6509\n",
      "median_house_value    85700.0000\n",
      "Name: 2, dtype: float64\n"
     ]
    }
   ],
   "source": [
    "for i , row in df.iterrows():\n",
    "  print(i)\n",
    "  print('----')\n",
    "  print(row)\n",
    "  if i == 2:\n",
    "    break\n",
    "  else:\n",
    "    continue"
   ]
  },
  {
   "cell_type": "markdown",
   "metadata": {
    "colab_type": "text",
    "id": "xqKlPNXBAU8s"
   },
   "source": [
    "index番号、行要素の順に出てきていることが確認できました。  \n",
    "この`iterrows`を使用してデータの操作を行います。  \n",
    "\n",
    "今回はもし`total_rooms`が4000以上であれば`2`、 4000未満1000以上であれば`1`、 それ未満であれば`0`を割り振り新たな特徴量作成を行います。"
   ]
  },
  {
   "cell_type": "code",
   "execution_count": 0,
   "metadata": {
    "colab": {},
    "colab_type": "code",
    "id": "ICrxesn7AVFS"
   },
   "outputs": [],
   "source": [
    "new = []\n",
    "for i, row in df.iterrows():\n",
    "  if row['total_rooms'] > 4000:\n",
    "    new.append(2)\n",
    "  elif row['total_rooms'] > 1000 and row['total_rooms'] <= 4000:\n",
    "    new.append(1)\n",
    "  else:\n",
    "    new.append(0)"
   ]
  },
  {
   "cell_type": "code",
   "execution_count": 0,
   "metadata": {
    "colab": {
     "base_uri": "https://localhost:8080/",
     "height": 34
    },
    "colab_type": "code",
    "id": "FyqnRFdWAVLs",
    "outputId": "6443d584-468f-4567-c6bd-f3ae4366a554"
   },
   "outputs": [
    {
     "data": {
      "text/plain": [
       "[2, 2, 0, 1, 1]"
      ]
     },
     "execution_count": 33,
     "metadata": {
      "tags": []
     },
     "output_type": "execute_result"
    }
   ],
   "source": [
    "new[:5]"
   ]
  },
  {
   "cell_type": "markdown",
   "metadata": {
    "colab_type": "text",
    "id": "MSKoKElq1kF4"
   },
   "source": [
    "## Matplotlibの基礎\n",
    "\n",
    "Matplotlibではデータの可視化を様々方法で行うことが可能です。  \n",
    "基礎的な図の描画方法を確認します。\n",
    "\n",
    "データは先ほど読み込んだデータを使用します。"
   ]
  },
  {
   "cell_type": "code",
   "execution_count": 0,
   "metadata": {
    "colab": {
     "base_uri": "https://localhost:8080/",
     "height": 162
    },
    "colab_type": "code",
    "id": "u7XXiyaB5bq1",
    "outputId": "40f76f9a-ea8e-4f01-dd70-f6aa7595c96a"
   },
   "outputs": [
    {
     "data": {
      "text/html": [
       "<div>\n",
       "<style scoped>\n",
       "    .dataframe tbody tr th:only-of-type {\n",
       "        vertical-align: middle;\n",
       "    }\n",
       "\n",
       "    .dataframe tbody tr th {\n",
       "        vertical-align: top;\n",
       "    }\n",
       "\n",
       "    .dataframe thead th {\n",
       "        text-align: right;\n",
       "    }\n",
       "</style>\n",
       "<table border=\"1\" class=\"dataframe\">\n",
       "  <thead>\n",
       "    <tr style=\"text-align: right;\">\n",
       "      <th></th>\n",
       "      <th>longitude</th>\n",
       "      <th>latitude</th>\n",
       "      <th>housing_median_age</th>\n",
       "      <th>total_rooms</th>\n",
       "      <th>total_bedrooms</th>\n",
       "      <th>population</th>\n",
       "      <th>households</th>\n",
       "      <th>median_income</th>\n",
       "      <th>median_house_value</th>\n",
       "    </tr>\n",
       "  </thead>\n",
       "  <tbody>\n",
       "    <tr>\n",
       "      <th>0</th>\n",
       "      <td>-114.31</td>\n",
       "      <td>34.19</td>\n",
       "      <td>15.0</td>\n",
       "      <td>5612.0</td>\n",
       "      <td>1283.0</td>\n",
       "      <td>1015.0</td>\n",
       "      <td>472.0</td>\n",
       "      <td>1.4936</td>\n",
       "      <td>66900.0</td>\n",
       "    </tr>\n",
       "    <tr>\n",
       "      <th>1</th>\n",
       "      <td>-114.47</td>\n",
       "      <td>34.40</td>\n",
       "      <td>19.0</td>\n",
       "      <td>7650.0</td>\n",
       "      <td>1901.0</td>\n",
       "      <td>1129.0</td>\n",
       "      <td>463.0</td>\n",
       "      <td>1.8200</td>\n",
       "      <td>80100.0</td>\n",
       "    </tr>\n",
       "    <tr>\n",
       "      <th>2</th>\n",
       "      <td>-114.56</td>\n",
       "      <td>33.69</td>\n",
       "      <td>17.0</td>\n",
       "      <td>720.0</td>\n",
       "      <td>174.0</td>\n",
       "      <td>333.0</td>\n",
       "      <td>117.0</td>\n",
       "      <td>1.6509</td>\n",
       "      <td>85700.0</td>\n",
       "    </tr>\n",
       "  </tbody>\n",
       "</table>\n",
       "</div>"
      ],
      "text/plain": [
       "   longitude  latitude  housing_median_age  total_rooms  total_bedrooms  \\\n",
       "0    -114.31     34.19                15.0       5612.0          1283.0   \n",
       "1    -114.47     34.40                19.0       7650.0          1901.0   \n",
       "2    -114.56     33.69                17.0        720.0           174.0   \n",
       "\n",
       "   population  households  median_income  median_house_value  \n",
       "0      1015.0       472.0         1.4936             66900.0  \n",
       "1      1129.0       463.0         1.8200             80100.0  \n",
       "2       333.0       117.0         1.6509             85700.0  "
      ]
     },
     "execution_count": 41,
     "metadata": {
      "tags": []
     },
     "output_type": "execute_result"
    }
   ],
   "source": [
    "df.head(3)"
   ]
  },
  {
   "cell_type": "markdown",
   "metadata": {
    "colab_type": "text",
    "id": "encTBRXeF51v"
   },
   "source": [
    "### 散布図\n",
    "\n",
    "`plt.scatter(x軸のデータ, y軸のデータ)`と指定するとデータの分布・相関関係を確認することができます。  \n",
    "今回は`population`と`median_house_value`がどのような関係があるのか確認します。"
   ]
  },
  {
   "cell_type": "code",
   "execution_count": 0,
   "metadata": {
    "colab": {},
    "colab_type": "code",
    "id": "tb2Un9U65bjd"
   },
   "outputs": [],
   "source": [
    "# matplotlibのインポート\n",
    "import matplotlib.pyplot as plt"
   ]
  },
  {
   "cell_type": "code",
   "execution_count": 0,
   "metadata": {
    "colab": {
     "base_uri": "https://localhost:8080/",
     "height": 364
    },
    "colab_type": "code",
    "id": "GRhhh_G2FVGW",
    "outputId": "13297b16-9dc3-42f5-c0d3-67b4f529571d"
   },
   "outputs": [
    {
     "data": {
      "text/plain": [
       "<matplotlib.collections.PathCollection at 0x7f9d02e91ba8>"
      ]
     },
     "execution_count": 48,
     "metadata": {
      "tags": []
     },
     "output_type": "execute_result"
    },
    {
     "data": {
      "image/png": "[encoded data removed]",
      "text/plain": [
       "<matplotlib.figure.Figure at 0x7f9d03387c18>"
      ]
     },
     "metadata": {
      "tags": []
     },
     "output_type": "display_data"
    }
   ],
   "source": [
    "plt.scatter(df['population'], df['median_house_value'])"
   ]
  },
  {
   "cell_type": "markdown",
   "metadata": {
    "colab_type": "text",
    "id": "DOkwF_e2HppH"
   },
   "source": [
    "### 棒グラフ\n",
    "\n",
    "`plt.bar(横軸の値, 高さ)`を指定して棒グラフを描画することができます。  \n",
    "\n",
    "今回は先ほど作成した変数`new`を用いて描画します。"
   ]
  },
  {
   "cell_type": "code",
   "execution_count": 0,
   "metadata": {
    "colab": {
     "base_uri": "https://localhost:8080/",
     "height": 34
    },
    "colab_type": "code",
    "id": "x-56I6AEHkrA",
    "outputId": "97d444e0-78eb-4d3d-eddf-94d65fa1290a"
   },
   "outputs": [
    {
     "data": {
      "text/plain": [
       "array([ 1887, 12652,  2461])"
      ]
     },
     "execution_count": 59,
     "metadata": {
      "tags": []
     },
     "output_type": "execute_result"
    }
   ],
   "source": [
    "# Numpyのユニークな値を数えるnp.uniqueを使用して、それぞれの値の数を取得\n",
    "new_value = np.unique(new, return_counts=True)[1]\n",
    "new_value"
   ]
  },
  {
   "cell_type": "code",
   "execution_count": 0,
   "metadata": {
    "colab": {
     "base_uri": "https://localhost:8080/",
     "height": 364
    },
    "colab_type": "code",
    "id": "2Fg61BK1FVNj",
    "outputId": "0b2ac691-6c2d-49ec-d376-921e3f9373eb"
   },
   "outputs": [
    {
     "data": {
      "text/plain": [
       "<Container object of 3 artists>"
      ]
     },
     "execution_count": 58,
     "metadata": {
      "tags": []
     },
     "output_type": "execute_result"
    },
    {
     "data": {
      "image/png": "[encoded data removed]",
      "text/plain": [
       "<matplotlib.figure.Figure at 0x7f9cfcab4f60>"
      ]
     },
     "metadata": {
      "tags": []
     },
     "output_type": "display_data"
    }
   ],
   "source": [
    "# 図の描画\n",
    "plt.bar([0,1,2], new_value)"
   ]
  },
  {
   "cell_type": "markdown",
   "metadata": {
    "colab_type": "text",
    "id": "ojtzCV-ZFVPv"
   },
   "source": [
    "### ヒストグラム\n",
    "\n",
    "ヒストグラムも分布を確認するために使用します。  \n",
    "`plt.hist(データ)`で描画できます。 "
   ]
  },
  {
   "cell_type": "code",
   "execution_count": 0,
   "metadata": {
    "colab": {
     "base_uri": "https://localhost:8080/",
     "height": 433
    },
    "colab_type": "code",
    "id": "G0icbrhoFVQ9",
    "outputId": "658af744-bcf0-4342-8b60-6fe506c3e461"
   },
   "outputs": [
    {
     "data": {
      "text/plain": [
       "(array([ 731., 2958., 3362., 3127., 2291., 1426., 1036.,  629.,  395.,\n",
       "        1045.]),\n",
       " array([ 14999. ,  63499.2, 111999.4, 160499.6, 208999.8, 257500. ,\n",
       "        306000.2, 354500.4, 403000.6, 451500.8, 500001. ]),\n",
       " <a list of 10 Patch objects>)"
      ]
     },
     "execution_count": 60,
     "metadata": {
      "tags": []
     },
     "output_type": "execute_result"
    },
    {
     "data": {
      "image/png": "[encoded data removed]",
      "text/plain": [
       "<matplotlib.figure.Figure at 0x7f9d01bf16a0>"
      ]
     },
     "metadata": {
      "tags": []
     },
     "output_type": "display_data"
    }
   ],
   "source": [
    "# 分布を表すことのできるヒストグラム\n",
    "plt.hist(df['median_house_value'])"
   ]
  },
  {
   "cell_type": "markdown",
   "metadata": {
    "colab_type": "text",
    "id": "o9SJUhlyFVS2"
   },
   "source": [
    "### 箱ひげ図\n",
    "\n",
    "箱ひげ図では`df.describe()`で確認した値を可視化して確認することが可能です。  "
   ]
  },
  {
   "cell_type": "code",
   "execution_count": 0,
   "metadata": {
    "colab": {
     "base_uri": "https://localhost:8080/",
     "height": 483
    },
    "colab_type": "code",
    "id": "s-q3hYgXIyDu",
    "outputId": "dc00be7a-8100-40e4-8532-18e318b42317"
   },
   "outputs": [
    {
     "data": {
      "text/plain": [
       "{'boxes': [<matplotlib.lines.Line2D at 0x7f9cf732d710>],\n",
       " 'caps': [<matplotlib.lines.Line2D at 0x7f9cf729a550>,\n",
       "  <matplotlib.lines.Line2D at 0x7f9cf7243c50>],\n",
       " 'fliers': [<matplotlib.lines.Line2D at 0x7f9cf7221a90>],\n",
       " 'means': [],\n",
       " 'medians': [<matplotlib.lines.Line2D at 0x7f9cf71f7390>],\n",
       " 'whiskers': [<matplotlib.lines.Line2D at 0x7f9cf72b7be0>,\n",
       "  <matplotlib.lines.Line2D at 0x7f9cf72eae10>]}"
      ]
     },
     "execution_count": 63,
     "metadata": {
      "tags": []
     },
     "output_type": "execute_result"
    },
    {
     "data": {
      "image/png": "[encoded data removed]",
      "text/plain": [
       "<matplotlib.figure.Figure at 0x7f9cf78968d0>"
      ]
     },
     "metadata": {
      "tags": []
     },
     "output_type": "display_data"
    }
   ],
   "source": [
    "# 箱ひげ図も分布を確認できます\n",
    "plt.boxplot(df['median_house_value'])"
   ]
  },
  {
   "cell_type": "markdown",
   "metadata": {
    "colab_type": "text",
    "id": "4DyNSIl_JQyQ"
   },
   "source": [
    "## 折れ線グラフ\n",
    "\n",
    "時系列データなどを取り扱う際には使用するグラフになります。  \n",
    "\n",
    "plt.plot(横軸の値, 縦軸の値) で描画することが可能です。  \n",
    "今回はサンプルとしてデータを作成して描画します。"
   ]
  },
  {
   "cell_type": "code",
   "execution_count": 0,
   "metadata": {
    "colab": {},
    "colab_type": "code",
    "id": "jzeVKX7aJiYl"
   },
   "outputs": [],
   "source": [
    "x = np.linspace(0, 10, 100) # 0~10の間を100分割して数値を返す\n",
    "y = x + np.random.randn(100) # 100次元の数値を返す"
   ]
  },
  {
   "cell_type": "code",
   "execution_count": 0,
   "metadata": {
    "colab": {
     "base_uri": "https://localhost:8080/",
     "height": 364
    },
    "colab_type": "code",
    "id": "RDRAWxyNJQ5p",
    "outputId": "39398a1e-7133-4cdb-c824-091300504028"
   },
   "outputs": [
    {
     "data": {
      "text/plain": [
       "[<matplotlib.lines.Line2D at 0x7f9cf64a4be0>]"
      ]
     },
     "execution_count": 67,
     "metadata": {
      "tags": []
     },
     "output_type": "execute_result"
    },
    {
     "data": {
      "image/png": "[encoded data removed]",
      "text/plain": [
       "<matplotlib.figure.Figure at 0x7f9cf6de8a90>"
      ]
     },
     "metadata": {
      "tags": []
     },
     "output_type": "display_data"
    }
   ],
   "source": [
    "plt.plot(x, y)"
   ]
  },
  {
   "cell_type": "markdown",
   "metadata": {
    "colab_type": "text",
    "id": "dxa_v2Jf5a0m"
   },
   "source": [
    "機械学習におけるパッケージはこの章でお伝えしたものを理解していれば事足りるケースが多いと思われます。  \n",
    "\n",
    "ですが、ディープラーニングに関してはこの章で紹介したパッケージだけでは不十分です。  \n",
    "次章ではディープラーニングのフレームワークであるChainerについて紹介する前に、ディープラーニングの基礎であるニューラルネットワークの数学について解説します。"
   ]
  }
 ],
 "metadata": {
  "accelerator": "GPU",
  "colab": {
   "collapsed_sections": [],
   "name": "(4) Numpy, Cupy, Pandas, Matplotlibの使い方.ipynb",
   "provenance": [],
   "version": "0.3.2"
  },
  "kernelspec": {
   "display_name": "Python 3",
   "language": "python",
   "name": "python3"
  },
  "language_info": {
   "codemirror_mode": {
    "name": "ipython",
    "version": 3
   },
   "file_extension": ".py",
   "mimetype": "text/x-python",
   "name": "python",
   "nbconvert_exporter": "python",
   "pygments_lexer": "ipython3",
   "version": "3.6.7"
  }
 },
 "nbformat": 4,
 "nbformat_minor": 1
}
