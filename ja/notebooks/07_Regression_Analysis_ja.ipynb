{
  "nbformat": 4,
  "nbformat_minor": 0,
  "metadata": {
    "colab": {
      "name": "07_Regression_Analysis_ja.ipynb のコピー",
      "version": "0.3.2",
      "provenance": [],
      "collapsed_sections": []
    },
    "kernelspec": {
      "display_name": "Python 3",
      "language": "python",
      "name": "python3"
    }
  },
  "cells": [
    {
      "metadata": {
        "id": "Bd0UfOLHznLh",
        "colab_type": "text"
      },
      "cell_type": "markdown",
      "source": [
        "# 単回帰分析と重回帰分析\n",
        "\n",
        "本章では、基礎的な機械学習手法として代表的な**単回帰分析**と**重回帰分析**の仕組みを、数式を用いて説明します。\n",
        "また次章では、本章で紹介した数式を Python によるプログラミングで実装する例も紹介します。本章と次章を通じて、数学とプログラミングの結びつきを体験して理解することができます。\n",
        "\n",
        "本チュートリアルの主題である深層学習の前に、単回帰分析と重回帰分析を紹介することには 2 つの理由があります。\n",
        "1 つ目は、単回帰分析と重回帰分析の数学がニューラルネットワーク含めた深層学習の数学の基礎となるためです。\n",
        "2 つ目は、単回帰分析のアルゴリズムを通して微分、重回帰分析のアルゴリズムを通して線形代数に関する理解を深めることができるためです。\n",
        "\n",
        "機械学習手法は、**教師あり学習 (supervised learning)** 、**教師なし学習 (unsupervised learning)** 、**強化学習 (reinforcement learning)** に大別され、単回帰分析は教師あり学習に含まれます。\n",
        "本チュートリアルで扱う多くの手法が教師あり学習です。\n",
        "\n",
        "教師あり学習の中でも典型的な問題設定は 2 つに大別されます。\n",
        "与えられた入力変数から、$10$ や $0.1$ といった実数値を予測する **回帰 (regression)** と、「赤ワイン」、「白ワイン」といったカテゴリを予測する**分類 (classification)** の 2 つです。\n",
        "\n",
        "単回帰分析は回帰を行うための手法であり、1 つの入力変数から 1 つの出力変数を予測します。\n",
        "それに対し、重回帰分析は、複数の入力変数から 1 つの出力変数を予測します。\n",
        "この両手法は教師あり学習であるため、訓練の際には、入力変数 $x$ と目的変数 $t$ がペアで準備されている必要があります。\n",
        "\n",
        "回帰分析を行うアルゴリズムでは、以下の 3 ステップを順番に考えていきます。\n",
        "\n",
        "- Step 1 : モデルを決める\n",
        "- Step 2 : 目的関数を決める\n",
        "- Step 3 : 最適なパラメータを求める"
      ]
    },
    {
      "metadata": {
        "id": "t613yD34znLk",
        "colab_type": "text"
      },
      "cell_type": "markdown",
      "source": [
        "## 単回帰分析\n"
      ]
    },
    {
      "metadata": {
        "id": "oEgFRmmrznLl",
        "colab_type": "text"
      },
      "cell_type": "markdown",
      "source": [
        "### 問題設定（単回帰分析）\n",
        "\n",
        "単回帰分析では、 1 つの入力変数から 1 つの出力変数を予測します。\n",
        "今回は身近な例として、部屋の広さ $x$ から家賃 $y$ を予測する問題を考えてみます。"
      ]
    },
    {
      "metadata": {
        "id": "twHqwGhDznLl",
        "colab_type": "text"
      },
      "cell_type": "markdown",
      "source": [
        "### Step 1：モデルを決める（単回帰分析）\n",
        "\n",
        "まずはじめに、入力変数 $x$ と出力変数 $y$ との関係をどのように定式化するかを決定します。\n",
        "この定式化したものを **モデル** もしくは **数理モデル** と呼びます。\n",
        "\n",
        "単回帰分析におけるモデルを具体的に考えていきましょう。\n",
        "例えば、家賃と部屋の広さの組で表されるデータを 3 つ集め、「家賃」を y 軸に、「部屋の広さ」を x 軸にとってそれらをプロットしたとき、次のようになっていたとします。\n",
        "\n",
        "![部屋の広さと家賃](images/04/04_01.png)\n"
      ]
    },
    {
      "metadata": {
        "id": "yVE8_dAZznLm",
        "colab_type": "text"
      },
      "cell_type": "markdown",
      "source": [
        "この場合、部屋が広くなるほど、家賃が高くなるという関係が予想されます。\n",
        "また、この 2 変数間の関係性は直線によって表現を行うことができそうだと考えられます。\n",
        "そこで、2 つのパラメータ $w$ と $b$ によって特徴づけられる直線の方程式 \n",
        "\n",
        "$$\n",
        "y = wx + b\n",
        "$$\n",
        "\n",
        "によって、部屋の広さと家賃の関係を表すことを考えます。\n",
        "ここで、$w$ は **重み (weight)** 、$b$ は **バイアス (bias)** の頭文字を採用しています。\n",
        "\n",
        "![部屋の広さと家賃の関係](images/04/04_02.png)"
      ]
    },
    {
      "metadata": {
        "id": "7UN94QHfznLn",
        "colab_type": "text"
      },
      "cell_type": "markdown",
      "source": [
        "単回帰分析では、このようにモデルとして直線 $y = wx + b$ を用います。\n",
        "そして、2 つのパラメータ $w$ と $b$ を、直線がデータによくフィットするように調整します。\n",
        "\n",
        "パラメータで特徴づけられたモデルを用いる場合、与えられた **データセット** に適合するように最適なパラメータを求めることが目標となります。\n",
        "今回はデータセットとして部屋の広さ $x$ と家賃 $t$ の組からなるデータの集合を用います。\n",
        "全部で $N$ 個のデータがあり、$n$ 番目のデータが $(x_n, t_n)$ と表されるとき、データセットは\n",
        "\n",
        "$$\n",
        "\\begin{align}\n",
        "\\mathcal{D} \n",
        "&= \\{(x_1, t_1), (x_2, t_2), \\dots, (x_N, t_N)\\} \\\\\n",
        "&= \\{(x_n, t_n)\\}_{n=1}^{N}\n",
        "\\end{align}\n",
        "$$\n",
        "\n",
        "と表すことができます。\n",
        "これを用いて、新しい $x$ を入力すると、それに対応する $t$ を予測するモデルを訓練します。"
      ]
    },
    {
      "metadata": {
        "id": "UJiXaFUFznLo",
        "colab_type": "text"
      },
      "cell_type": "markdown",
      "source": [
        "### 前処理\n",
        "\n",
        "次のステップに進む前に、データの**前処理 (pre-processing)** をひとつ紹介します。\n",
        "データの **中心化 (centering)** は、データの平均値が 0 になるように全てのデータを平行移動する処理を言います。\n",
        "下図は、データ集合 $(x_n, y_n) \\ (n=1,\\dots,11)$ を、平均が $(0, 0)$ になるように平行移動する例です。\n",
        "\n",
        "![データの中心化](images/04/04_03.png)\n"
      ]
    },
    {
      "metadata": {
        "id": "e82S4XPvznLp",
        "colab_type": "text"
      },
      "cell_type": "markdown",
      "source": [
        "中心化によるデータ前処理の利点の一つとして、調整すべきパラメータを削減できることが挙げられます。中心化処理を行うことで切片を考慮する必要がなくなるため、データ間の関係性を表現する直線の方程式を、 $y_c = wx_c$ のように、簡潔に表現可能となります。\n",
        "\n",
        "![中心化によるパラメータ削減](images/04/04_04.png)"
      ]
    },
    {
      "metadata": {
        "id": "Xm0XRRJiznLp",
        "colab_type": "text"
      },
      "cell_type": "markdown",
      "source": [
        "データセット内の入力変数と目的変数の平均をそれぞれ $\\bar{x}$, $\\bar{t}$ としたとき、中心化後の入力変数と目的変数は、\n",
        "\n",
        "$$\n",
        "\\begin{aligned}\n",
        "x_{c} &= x - \\bar{x} \\\\\n",
        "t_{c} &= t - \\bar{t}\n",
        "\\end{aligned}\n",
        "$$\n",
        "\n",
        "となります。\n",
        "\n",
        "<span id=\"fn1\"><sup>*1</sup>: <small>データセット中の各データのことをデータ点（datum）ということがあります。具体的には、上の説明で同上した $\\mathcal{D}$ 中の各 $(x_1, t_1)$ などのことです。</small></span>\n",
        "\n",
        "以降は記述を簡単にするため、$_c$ という添え字を省略し、事前に中心化を行っている前提でデータを扱います。\n",
        "また、そのデータにフィットさせたいモデルは、\n",
        "\n",
        "$$\n",
        "y = wx\n",
        "$$\n",
        "\n",
        "と、こちらも添え字 $_c$ を省略して説明を行います。"
      ]
    },
    {
      "metadata": {
        "id": "-9n_rdixznLr",
        "colab_type": "text"
      },
      "cell_type": "markdown",
      "source": [
        "### Step 2：目的関数を決める（単回帰分析）\n",
        "\n",
        "ここでの目標は、部屋の広さと家賃の関係を直線の方程式によってモデル化することです。\n",
        "このために、予め収集されたいくつかのデータセットを使って、モデルが部屋の広さの値から予測した家賃（予測値）と、その部屋の広さに対応する実際の家賃（目標値）の差が小さくなるように、モデルのパラメータを決定します。\n",
        "\n",
        "今回は、目的関数として前章ですでに紹介した予測値と目標値との**二乗和誤差 (sum-of-squares error)** を用います。\n",
        "二乗和誤差が $0$ のとき、またその時のみ予測値 $y$ は目標値 $t$ と完全に一致（$t = y$）しています。\n",
        "$n$ 個目のデータの部屋の広さ $x_n$ が与えられたときのモデルの予測値 $y_n$ と、対応する目標値 $t_n$ との間の二乗誤差は、\n",
        "\n",
        "$$\n",
        "(t_{n} - y_{n})^{2}\n",
        "$$\n",
        "\n",
        "となります。これを全データに渡って合計したものが以下の二乗和誤差です。\n",
        "\n",
        "$$\n",
        "\\begin{aligned}\n",
        "L\n",
        "&= (t_1 - y_1)^2\n",
        "+ (t_2 - y_2)^2\n",
        "+ \\cdots\n",
        "+ (t_N - y_N)^2 \\\\\n",
        "&= \\sum_{n=1}^N (t_n - y_n )^2 \\\\\n",
        "\\end{aligned}\n",
        "$$\n",
        "\n",
        "今回用いるモデルは\n",
        "\n",
        "$$\n",
        "y_{n} = wx_{n}\n",
        "$$\n",
        "\n",
        "であるため、目的関数は\n",
        "\n",
        "$$\n",
        "L = \\sum_{n=1}^N (t_n - wx_n)^2\n",
        "$$\n",
        "\n",
        "と書くこともできます。"
      ]
    },
    {
      "metadata": {
        "id": "tOcXnU5QznLs",
        "colab_type": "text"
      },
      "cell_type": "markdown",
      "source": [
        "### Step 3：最適なパラメータを求める（単回帰分析）\n",
        "\n",
        "この目的関数を最小化するようなパラメータを求めます。\n",
        "ここで、目的関数は差の二乗和であり、常に正の値または $0$ を取るような、下に凸な二次関数となっています。\n",
        "（一般的には多くの場合において、最適なパラメータを用いてもモデルがすべてのデータを完全に表現できず、目的関数の値は $0$ にはなりません。）\n",
        "\n"
      ]
    },
    {
      "metadata": {
        "id": "Rgr-oh4SznLt",
        "colab_type": "text"
      },
      "cell_type": "markdown",
      "source": [
        "目的関数の値が最小となる点を求める際には、微分の知識が有用です。\n",
        "微分では、対象とする関数の接線の傾きを求めることができます。凸関数では、この接線の傾きが 0 である点において、関数の最小値、もしくは最大値が得られます。\n",
        "今回は、目的関数が $x$ に関する二次関数となっているため、下図のように重み $w$ に関する接線の傾きが $0$ であるときに、目的関数の値が最小となります。\n",
        "\n",
        "![目的関数を最小化するパラメータ](images/04/04_05.png)"
      ]
    },
    {
      "metadata": {
        "id": "pTVrA4CLznLt",
        "colab_type": "text"
      },
      "cell_type": "markdown",
      "source": [
        "それでは、具体的に今回定めた目的関数 $L$ をパラメータである $w$ で微分してみましょう。\n",
        "微分に関する基本的な計算や性質は前章で紹介しました。"
      ]
    },
    {
      "metadata": {
        "id": "j08mKazHznLu",
        "colab_type": "text"
      },
      "cell_type": "markdown",
      "source": [
        "$$\n",
        "\\frac{\\partial}{\\partial w} L\n",
        "= \\frac{\\partial}{\\partial w} \\sum_{n=1}^N (t_n - wx_n)^2\n",
        "$$"
      ]
    },
    {
      "metadata": {
        "id": "QJQG21hyznLv",
        "colab_type": "text"
      },
      "cell_type": "markdown",
      "source": [
        "ここで、微分の**線形性**から、和の微分は、微分の和となるため、\n",
        "\n",
        "$$\n",
        "\\frac{\\partial}{\\partial w} \\mathcal{L}\n",
        "= \\sum_{n=1}^N \\frac{\\partial}{\\partial w} (t_n - wx_n)^2\n",
        "$$\n",
        "\n",
        "と変形できます。"
      ]
    },
    {
      "metadata": {
        "id": "wMH0P5c-znLw",
        "colab_type": "text"
      },
      "cell_type": "markdown",
      "source": [
        "次に、総和（$\\sum$）の中の各項に着目すると、\n",
        "\n",
        "$$\n",
        "\\frac{\\partial}{\\partial w} (t_n - wx_n)^2\n",
        "$$\n",
        "\n",
        "となっており、この部分は $t_n - wx_n$ と $(\\cdot)^2$ という関数の**合成関数**になっています。\n",
        "そこで、$u_n = t_n - wx_n$、$f(u_n) = u_n^2$ とおいて計算すると、\n",
        "\n",
        "$$\n",
        "\\begin{aligned}\n",
        "\\frac{\\partial}{\\partial w}(t_n - wx_n)^2\n",
        "&= \\frac{\\partial}{\\partial w} f(u_n) \\\\\n",
        "&= \\frac{\\partial u_n}{\\partial w}\\frac{\\partial f(u_n)}{\\partial u_n} \\\\\n",
        "&= -x_n (2 u_n) \\\\\n",
        "&= -2x_n(t_n - wx_n)\n",
        "\\end{aligned}\n",
        "$$\n",
        "\n",
        "が得られます。"
      ]
    },
    {
      "metadata": {
        "id": "D7dEeL4FznLx",
        "colab_type": "text"
      },
      "cell_type": "markdown",
      "source": [
        "これを $\\partial \\mathcal{L} / \\partial w$ の式に戻すと、\n",
        "\n",
        "$$\n",
        "\\begin{aligned}\n",
        "\\frac{\\partial}{\\partial w}\n",
        "\\mathcal{L}\n",
        "&= \\sum_{n=1}^N \\frac{\\partial}{\\partial w} (t_n - wx_n)^2 \\\\\n",
        "&= -\\sum_{n=1}^N 2x_n(t_n - wx_n)\n",
        "\\end{aligned}\n",
        "$$\n",
        "\n",
        "となります。"
      ]
    },
    {
      "metadata": {
        "id": "AQHdMWybznLx",
        "colab_type": "text"
      },
      "cell_type": "markdown",
      "source": [
        "この導関数の値が $0$ となるときの $w$ が、目的関数を最小にするパラメータです。\n",
        "そこで、$\\frac{\\partial}{\\partial w} L = 0$ とおいてこれを $w$ について解きます。\n",
        "\n",
        "$$\n",
        "\\begin{aligned}\n",
        "\\frac{\\partial}{\\partial w} \\mathcal{L} &= 0 \\\\\n",
        "-2 \\sum_{n=1}^N x_n (t_n - wx_n) &= 0 \\\\\n",
        "-2 \\sum_{n=1}^N x_n t_n + 2 \\sum_{n=1}^N wx^2_n &= 0 \\\\\n",
        "-2 \\sum_{n=1}^N x_n t_n + 2 w \\sum_{n=1}^N x^2_n &= 0 \\\\\n",
        "w \\sum_{n=1}^N x^2_n &= \\sum_{n=1}^N x_n t_n \\\\\n",
        "\\end{aligned}\n",
        "$$"
      ]
    },
    {
      "metadata": {
        "id": "OwCUwAa8znLy",
        "colab_type": "text"
      },
      "cell_type": "markdown",
      "source": [
        "以上より、\n",
        "\n",
        "$$\n",
        "w = \\frac{\\sum_{n=1}^N x_n t_n}{\\sum_{n=1}^N x^2_n}\n",
        "$$\n",
        "\n",
        "と求まりました。これを最適な $w$ と呼びます。\n",
        "この値は、与えられたデータセット $\\mathcal{D} = \\{x_n, t_n\\}_{n=1}^{N}$ のみから決定されています。"
      ]
    },
    {
      "metadata": {
        "id": "tzG4772eznLz",
        "colab_type": "text"
      },
      "cell_type": "markdown",
      "source": [
        "### 数値例\n",
        "\n",
        "例題にあげていた数値でパラメータ $w$ を求めてみましょう。\n",
        "\n",
        "まずはデータの中心化を行うために、平均の値を事前に算出します。\n",
        "\n",
        "$$\n",
        "\\begin{aligned}\n",
        "\\bar{x} &= \\frac{1}{3} (20 + 40 + 60) = 40 \\\\\n",
        "\\bar{t} &= \\frac{1}{3} (60000 + 115000 + 155000) = 110000\n",
        "\\end{aligned}\n",
        "$$\n",
        "\n",
        "この平均の値を使い、全変数に対して中心化を行うと、\n",
        "\n",
        "$$\n",
        "\\begin{aligned}\n",
        "x_{1} &= 20 - 40 = -20 \\\\\n",
        "x_{2} &= 40 -40 = 0 \\\\\n",
        "x_{3} &= 60- 40- = 20 \\\\\n",
        "t_{1} &= 60000 - 110000 = -50000 \\\\\n",
        "t_{2} &= 115000- 110000 = 5000 \\\\\n",
        "t_{3} &= 155000 - 110000 = 45000 \n",
        "\\end{aligned}\n",
        "$$\n",
        "\n",
        "となります。"
      ]
    },
    {
      "metadata": {
        "id": "jvCp7v4lznL0",
        "colab_type": "text"
      },
      "cell_type": "markdown",
      "source": [
        "これらの中心化後の値を用いて、最適なパラメータ $w$ を計算すると、\n",
        "\n",
        "$$\n",
        "\\begin{aligned}\n",
        "w\n",
        "&= \\frac{\\sum_{n=1}^N x_n t_n}{\\sum_{n=1}^N x_n^2} \\\\\n",
        "&= \\frac{x_1 t_1 + x_2 t_2 + x_3 t_3}{x_1^2 + x_2^2 + x_3^2} \\\\\n",
        "&= \\frac{-20 \\times (-50000) + 0 \\times 5000 + 20 \\times 45000}{(-20)^2 + 0^2 + 20^2} \\\\\n",
        "&= 2375\n",
        "\\end{aligned}\n",
        "$$\n",
        "\n",
        "と求まります。\n",
        "したがって、家賃が　$1$ m$^{2}$ 増えるごとに、$2375$ 円家賃が上昇しているとわかります。\n",
        "\n",
        "この $w$ を用いて決定される直線 $y = 2375 x$ と、学習データとして用いた 3 つの点をプロットした図が以下です。\n",
        "\n",
        "![家賃の予測値と目標値（中心化後）](images/04/04_08.png)"
      ]
    },
    {
      "metadata": {
        "id": "FZQU2qQ0znL1",
        "colab_type": "text"
      },
      "cell_type": "markdown",
      "source": [
        "この直線上の点の $y$ の値が、対応する $x$ の値に対するここで訓練したモデルによる予測値です。\n",
        "ここで、$x$ 軸で負の値をとっていますが、これは中心化後であることに注意してください。\n",
        "\n",
        "訓練済みのモデルを使って新しいサンプル $x_{q}$ に対する家賃の予測を行います。\n",
        "例えば、部屋の広さが 50 m$^2$ の場合の家賃に対する予測値を計算する推論を行いましょう。\n",
        "\n",
        "$$\n",
        "\\begin{aligned}\n",
        "y_c &= wx_c \\\\\n",
        "y_q - \\bar{t} &= w(x_q - \\bar{x}) \\\\\n",
        "\\Rightarrow y_q &= w(x_q - \\bar{x}) + \\bar{t} \\\\\n",
        "&= 2375 (50 - 40) + 110000 \\\\\n",
        "&= 133750\n",
        "\\end{aligned}\n",
        "$$\n",
        "\n",
        "このように、部屋の広さが　50 m$^{2}$ の場合の家賃が 133,750 円であると予測することができました。\n",
        "上記のように、モデル化の際に中心化を行っていた処理を推論の際には元に戻して計算しましょう。"
      ]
    },
    {
      "metadata": {
        "id": "dlz2iPKoznL2",
        "colab_type": "text"
      },
      "cell_type": "markdown",
      "source": [
        "## 重回帰分析\n",
        "\n",
        "### 問題設定（重回帰分析）\n",
        "\n",
        "重回帰分析も単回帰分析の場合と同様に家賃を予測する問題を題材にして説明します。\n",
        "単回帰分析の場合と異なり、入力変数として「部屋の広さ」だけでなく、「駅からの距離」や「犯罪発生率」などの変数を合わせて考慮することにします。\n",
        "部屋の広さを $x_{1}$、駅からの距離を $x_{2}$、…、犯罪発生率を $x_{M}$ といった形で表し、$M$ 個の入力変数を扱うことを考えてみましょう。\n"
      ]
    },
    {
      "metadata": {
        "id": "U5QacKFSznL2",
        "colab_type": "text"
      },
      "cell_type": "markdown",
      "source": [
        "### Step 1：モデルを決める（重回帰分析）\n",
        "\n",
        "単回帰分析では、\n",
        "\n",
        "$$\n",
        "y = wx + b\n",
        "$$\n",
        "\n",
        "のように直線の方程式をモデルとして用いていました。重回帰分析でも、\n",
        "\n",
        "$$\n",
        "y = w_{1}x_{1} + w_{2}x_{2} + \\cdots + w_{M}x_{M} + b\n",
        "$$\n",
        "\n",
        "のように、単回帰分析と似た形のモデルを定義します。\n",
        "単回帰分析の際は二次元平面を考え、その平面上に存在するデータに最もよくフィットする直線を考えましたが、今回は $M$ 次元空間に存在するデータに最もよくフィットする 直線を考えることになります。\n",
        "\n",
        "重回帰分析のモデルは総和の記号を使って表記すると、\n",
        "\n",
        "$$\n",
        "y = \\sum_{m=1}^{M} w_{m} x_{m} + b\n",
        "$$\n",
        "\n",
        "と書くことができます。\n",
        "\n",
        "ここでバイアス $b$ の扱い方を改めて考えます。\n",
        "単回帰分析では、中心化を前処理として施し、バイアス $b$ を省略することで、簡潔に定式化することができました。\n",
        "\n",
        "重回帰分析では、 $M$ 個の重み $w_{1}, w_{2}, \\dots, w_{M}$ と 1 個のバイアス $b$ があり、合わせて $M + 1$ 個のパラメータが存在します。これらのパラメータをうまく定式化することを考えます。\n",
        "そこで、今回は $x_0 = 1$、$w_0 = b$ とおくことで、\n",
        "\n",
        "$$\n",
        "\\begin{aligned}\n",
        "y\n",
        "&= w_{1}x_{1} + w_{2}x_{2} + \\cdots + w_{M}x_{M} + b \\\\\n",
        "&= w_{1}x_{1} + w_{2}x_{2} + \\cdots + w_{M}x_{M} + w_{0}x_{0} \\\\\n",
        "&= w_{0}x_{0} + w_{1}x_{1} + \\cdots + w_{M}x_{M} \\\\\n",
        "&= \\sum_{m=0}^M w_{m} x_{m}\n",
        "\\end{aligned}\n",
        "$$\n",
        "\n",
        "のように $b$ を総和の内側の項に含めて、簡潔に表記できるようにします。\n",
        "（ここで、 $\\sum$ 記号の下部が $m=1$ ではなく $m=0$ となっていることに注意してください。）\n"
      ]
    },
    {
      "metadata": {
        "id": "Z9UjRJ44znL4",
        "colab_type": "text"
      },
      "cell_type": "markdown",
      "source": [
        "さらに、ここから線形代数で学んだ知識を活かして、数式を整理していきます。\n",
        "上式をベクトルの内積を用いて表記しなおすと、\n",
        "\n",
        "$$\n",
        "\\begin{aligned}\n",
        "y\n",
        "&= w_{0}x_{0} + w_{1}x_{1} + \\cdots + w_{M}x_{M} \\\\\n",
        "&=\n",
        "\\begin{bmatrix}\n",
        "w_{0} & w_{1} & \\cdots  & w_{M}\n",
        "\\end{bmatrix}\n",
        "\\begin{bmatrix}\n",
        "x_{0} \\\\\n",
        "x_{1} \\\\\n",
        "\\vdots \\\\\n",
        "x_{M}\n",
        "\\end{bmatrix} \\\\\n",
        "&= {\\bf w}^{\\rm T}{\\bf x}\n",
        "\\end{aligned}\n",
        "$$\n",
        "\n",
        "のように、シンプルな形式で表現することができます。\n",
        "このモデルが持つパラメータは前述の通り $M + 1$ 個あり、$M + 1$ 次元のベクトル ${\\bf w}$ で表されています。\n",
        "重回帰分析では、この ${\\bf w}$ のすべての要素について最適な値を求めます。"
      ]
    },
    {
      "metadata": {
        "id": "tCGwBZv_znL5",
        "colab_type": "text"
      },
      "cell_type": "markdown",
      "source": [
        "### Step 2：目的関数を決める（重回帰分析）\n",
        "\n",
        "単回帰分析の例と比べると、入力変数は増えましたが、家賃を目標値としている点は変わっていません。\n",
        "そこで、単回帰分析と同じ目的関数\n",
        "\n",
        "$$\n",
        "\\mathcal{L} = (t_1 - y_1)^2 + (t_2 - y_2)^2 + \\cdots + (t_N - y_N)^2\n",
        "$$\n",
        "\n",
        "を用います。\n",
        "この目的関数は、ベクトルの内積を用いて表記し直すと、\n",
        "\n",
        "$$\n",
        "\\begin{aligned}\n",
        "\\mathcal{L}\n",
        "&= (t_1 - y_1)^2 + (t_2 - y_2)^2 + \\cdots + (t_N - y_N)^2 \\\\\n",
        "&= \\begin{bmatrix}\n",
        "t_1 - y_1 & t_2 - y_2 & \\cdots & t_N - y_N\n",
        "\\end{bmatrix}\n",
        "\\begin{bmatrix}\n",
        "t_1 - y_1 \\\\\n",
        "t_2 - y_2 \\\\\n",
        "\\vdots \\\\\n",
        "t_N - y_N\n",
        "\\end{bmatrix} \\\\\n",
        "&= ({\\bf t} - {\\bf y})^{\\rm T}({\\bf t} - {\\bf y})\n",
        "\\end{aligned}\n",
        "$$\n",
        "\n",
        "と書くことができます。"
      ]
    },
    {
      "metadata": {
        "id": "UwK0eDotznL6",
        "colab_type": "text"
      },
      "cell_type": "markdown",
      "source": [
        "ここで、内積には交換法則が成り立つため、${\\bf w}^{\\rm T}{\\bf x}$ は ${\\bf x}^{\\rm T}{\\bf w}$ と書くこともできます。これを利用して、モデルの方程式 ${\\bf y} = {\\bf w}^{\\rm T}{\\bf x}$ を、以下のように変形します。\n",
        "\n",
        "$$\n",
        "\\begin{aligned}\n",
        "{\\bf y} =\n",
        "\\begin{bmatrix}\n",
        "y_1 \\\\\n",
        "y_2 \\\\\n",
        "\\vdots \\\\\n",
        "y_N\n",
        "\\end{bmatrix} =\n",
        "\\begin{bmatrix}\n",
        "{\\bf x}_1^{\\rm T}{\\bf w} \\\\\n",
        "{\\bf x}_2^{\\rm T}{\\bf w} \\\\\n",
        "\\vdots \\\\\n",
        "{\\bf x}_N^{\\rm T}{\\bf w}\n",
        "\\end{bmatrix} =\n",
        "\\begin{bmatrix}\n",
        "{\\bf x}_1^{\\rm T} \\\\\n",
        "{\\bf x}_2^{\\rm T} \\\\\n",
        "\\vdots \\\\\n",
        "{\\bf x}_N^{\\rm T}\n",
        "\\end{bmatrix}\n",
        "{\\bf w}\n",
        "\\end{aligned}\n",
        "$$"
      ]
    },
    {
      "metadata": {
        "id": "AtWO-GcgznL6",
        "colab_type": "text"
      },
      "cell_type": "markdown",
      "source": [
        "さらに、${\\bf x}_n^{\\rm T} = \\bigl[ x_{n0},\\ x_{n1},\\  x_{n2},\\ \\dots,\\  x_{nM} \\bigr]$ $(n = 1, \\dots, N)$ と展開すると、\n",
        "\n",
        "$$\n",
        "\\begin{aligned}\n",
        "{\\bf y}\n",
        "&= \\begin{bmatrix}\n",
        "x_{10} & x_{11} & x_{12} & \\cdots & x_{1M} \\\\\n",
        "x_{20} & x_{21} & x_{22} & \\cdots & x_{2M} \\\\\n",
        "\\vdots & \\vdots & \\vdots & \\ddots & \\vdots \\\\\n",
        "x_{N0} & x_{N1} & x_{N2} & \\cdots & x_{NM}\n",
        "\\end{bmatrix}\n",
        "\\begin{bmatrix}\n",
        "w_{0} \\\\\n",
        "w_{1} \\\\\n",
        "w_{2} \\\\\n",
        "\\vdots \\\\\n",
        "w_{M}\n",
        "\\end{bmatrix} \\\\\n",
        "&= {\\bf X}{\\bf w}\n",
        "\\end{aligned}\n",
        "$$\n",
        "\n",
        "と表記できます。\n",
        "ここで、$N \\times M$ 行列 ${\\bf X}$ は、各行が各データを表しており、各列が各入力変数を表しています。\n",
        "このような行列を、**デザイン行列 (design matrix)** と呼びます。\n",
        "各列はそれぞれ入力変数の種類に対応しており、例えば、部屋の広さや、駅からの距離などです。\n",
        "\n",
        "各行が表すデータ点がどのように表されているかを説明するため、具体的な数値例を挙げます。\n",
        "部屋の広さ $= 50{\\rm m}^2$ 、駅からの距離 $= 600 {\\rm m}$ 、犯罪発生率 $= 2\\%$ という 3 つの入力変数を考える場合、$M = 3$ であり、これが $n$ 個目のデータのとき、${\\bf x}_n^{\\rm T}$ は、\n",
        "\n",
        "$$\n",
        "{\\bf x}_n^{\\rm T} =\n",
        "\\begin{bmatrix}\n",
        "1 & 50 & 600 & 0.02\n",
        "\\end{bmatrix}\n",
        "$$\n",
        "\n",
        "となります。先頭に $1$ があるのは、Step 1 で $x_0 = 1$ と定めたためです。"
      ]
    },
    {
      "metadata": {
        "id": "ln-h4HSWznL7",
        "colab_type": "text"
      },
      "cell_type": "markdown",
      "source": [
        "### Step 3：パラメータを最適化する（重回帰分析）\n",
        "\n",
        "それでは、目的関数 $\\mathcal{L}$ を最小化するモデルのパラメータベクトル ${\\bf w}$ を求めましょう。\n",
        "単回帰分析と同様に、目的関数をパラメータで微分して 0 とおき、${\\bf w}$ について解きます。\n",
        "\n",
        "まずは目的関数に登場している予測値 ${\\bf y}$ を、パラメータ ${\\bf w}$ を用いた表記に置き換えます。\n",
        "\n",
        "$$\n",
        "\\begin{aligned}\n",
        "\\mathcal{L}\n",
        "&= ({\\bf t} - {\\bf y})^{\\rm T} ({\\bf t} - {\\bf y}) \\\\\n",
        "&= ({\\bf t} - {\\bf X}{\\bf w})^{\\rm T} ({\\bf t} - {\\bf X}{\\bf w}) \\\\\n",
        "&= \\{ {\\bf t}^{\\rm T} - ({\\bf X}{\\bf w})^{\\rm T} \\} ({\\bf t} - {\\bf X}{\\bf w}) \\\\\n",
        "&= ({\\bf t}^{\\rm T} - {\\bf w}^{\\rm T}{\\bf X}^{\\rm T}) ({\\bf t} - {\\bf X}{\\bf w})\n",
        "\\end{aligned}\n",
        "$$\n",
        "\n",
        "ここで、転置の公式 $({\\bf A}{\\bf B})^{\\rm T} = {\\bf B}^{\\rm T}{\\bf A}^{\\rm T}$ を用いました。"
      ]
    },
    {
      "metadata": {
        "id": "7pCc5KANznL8",
        "colab_type": "text"
      },
      "cell_type": "markdown",
      "source": [
        "さらに分配法則を使って展開すると、\n",
        "\n",
        "$$\n",
        "L\n",
        "= {\\bf t}^{\\rm T}{\\bf t}\n",
        "- {\\bf t}^{\\rm T}{\\bf X}{\\bf w}\n",
        "- {\\bf w}^{\\rm T}{\\bf X}^{\\rm T}{\\bf t}\n",
        "+ {\\bf w}^{\\rm T}{\\bf X}^{\\rm T}{\\bf X}{\\bf w}\n",
        "$$\n",
        "\n",
        "となります。この目的関数に対しパラメータの ${\\bf w}$ についての偏微分を計算します。"
      ]
    },
    {
      "metadata": {
        "id": "1rZpnxcsznL8",
        "colab_type": "text"
      },
      "cell_type": "markdown",
      "source": [
        "その前に、この式をもう少し整理します。\n",
        "まず、$(1)^{\\rm T} = 1$ のように、スカラーは転置しても変化しません。\n",
        "また、${\\bf w} \\in \\mathbb{R}^{M+1}$、${\\bf X} \\in \\mathbb{R}^{N \\times (M+1)}$ であり、${\\bf X}{\\bf w} \\in \\mathbb{R}^{N}$ となることから、${\\bf t} \\in \\mathbb{R}^{N}$ との間の内積 ${\\bf t}^{\\rm T}{\\bf X}{\\bf w} \\in \\mathbb{R}$ は、スカラーになります。\n",
        "したがって、\n",
        "\n",
        "$$\n",
        "({\\bf t}^{\\rm T}{\\bf X}{\\bf w})^{\\rm T} = {\\bf t}^{\\rm T}{\\bf X}{\\bf w}\n",
        "$$\n",
        "\n",
        "が成り立ちます。"
      ]
    },
    {
      "metadata": {
        "id": "xiRBe2WfznL9",
        "colab_type": "text"
      },
      "cell_type": "markdown",
      "source": [
        "さらに、転置の公式 $({\\bf A}{\\bf B}{\\bf C})^{\\rm T} = {\\bf C}^{\\rm T}{\\bf B}^{\\rm T}{\\bf A}^{\\rm T}$ より、\n",
        "\n",
        "$$\n",
        "({\\bf t}^{\\rm T}{\\bf X}{\\bf w})^{\\rm T} = {\\bf w}^{\\rm T} {\\bf X}^{\\rm T} {\\bf t}\n",
        "$$\n",
        "\n",
        "も成り立ちます。以上から、\n",
        "\n",
        "$$({\\bf t}^{T}{\\bf X}{\\bf w})^{T} = {\\bf t}^{T}{\\bf X}{\\bf w} = {\\bf w}^{T} {\\bf X}^{T} {\\bf t}$$\n",
        "\n",
        "が導かれます。目的関数 $\\mathcal{L}$ は、この式を利用して、\n",
        "\n",
        "$$\n",
        "\\mathcal{L} = {\\bf t}^{\\rm T}{\\bf t} - 2{\\bf t}^{\\rm T}{\\bf X}{\\bf w}+ {\\bf w}^{\\rm T}{\\bf X}^{\\rm T}{\\bf X}{\\bf w}\n",
        "$$\n",
        "\n",
        "と変形できます。"
      ]
    },
    {
      "metadata": {
        "id": "pqgUDW9SznL-",
        "colab_type": "text"
      },
      "cell_type": "markdown",
      "source": [
        "ここで、${\\bf w}$ に関する偏微分を行いやすくするため、${\\bf w}$ 以外の定数項を一つにまとめます。\n",
        "\n",
        "$$\n",
        "\\begin{aligned}\n",
        "L\n",
        "&= {\\bf t}^{\\rm T}{\\bf t}\n",
        "- 2{\\bf t}^{\\rm T}{\\bf X}{\\bf w}\n",
        "+ {\\bf w}^{\\rm T}{\\bf X}^{\\rm T}{\\bf X}{\\bf w} \\\\\n",
        "&= {\\bf t}^{\\rm T}{\\bf t}\n",
        "- 2({\\bf X}^{\\rm T}{\\bf t})^{\\rm T} {\\bf w}\n",
        "+ {\\bf w}^{\\rm T}{\\bf X}^{\\rm T}{\\bf X}{\\bf w} \\\\\n",
        "&= c + {\\bf b}^{\\rm T}{\\bf w} + {\\bf w}^{\\rm T}{\\bf A}{\\bf w}\n",
        "\\end{aligned}\n",
        "$$"
      ]
    },
    {
      "metadata": {
        "id": "1dByME2iznL_",
        "colab_type": "text"
      },
      "cell_type": "markdown",
      "source": [
        "すると、${\\bf w}$ に関する二次形式で表現できました。\n",
        "ここで、\n",
        "\n",
        "$$\n",
        "\\begin{align}\n",
        "{\\bf A} &= {\\bf X}^{\\rm T}{\\bf X} \\\\\n",
        "{\\bf b} &= -2 {\\bf X}^{\\rm T}{\\bf t} \\\\\n",
        "c &= {\\bf t}^{\\rm T}{\\bf t}\n",
        "\\end{align}\n",
        "$$\n",
        "\n",
        "とおいていることに注意してください。"
      ]
    },
    {
      "metadata": {
        "id": "lgLDwqCUznL_",
        "colab_type": "text"
      },
      "cell_type": "markdown",
      "source": [
        "それでは、目的関数を最小にするパラメータ ${\\bf w}$ の求め方を考えます。\n",
        "目的関数はパラメータ ${\\bf w}$ に関して二次関数になっています。\n",
        "まずは、${\\bf w}$ 以外のベクトルや行列に、具体的な数値を当てはめて考えてみましょう。\n",
        "例えば、\n",
        "\n",
        "$$\n",
        "{\\bf w} =\n",
        "\\begin{bmatrix}\n",
        "w_1 \\\\ w_2\n",
        "\\end{bmatrix}, \n",
        "{\\bf A} = \n",
        "\\begin{bmatrix}\n",
        "1 & 2 \\\\\n",
        "3 & 4\n",
        "\\end{bmatrix},\n",
        "{\\bf b} =\n",
        "\\begin{bmatrix}\n",
        "1 \\\\\n",
        "2\n",
        "\\end{bmatrix},\n",
        "c = 1 \n",
        "$$ \n",
        "\n",
        "とおきます。すると、目的関数の値は\n",
        "\n",
        "$$\n",
        "\\begin{aligned} \n",
        "\\mathcal{L}\n",
        "&= {\\bf w}^{\\rm T}{\\bf A}{\\bf w} +{\\bf b}^{\\rm T}{\\bf w} + c \\\\\n",
        "&=\n",
        "\\begin{bmatrix}\n",
        "w_1 & w_2\n",
        "\\end{bmatrix}\n",
        "\\begin{bmatrix}\n",
        "1 & 2 \\\\\n",
        "3 & 4\n",
        "\\end{bmatrix}\n",
        "\\begin{bmatrix}\n",
        "w_1 \\\\\n",
        "w_2\n",
        "\\end{bmatrix}\n",
        "+\n",
        "\\begin{bmatrix}\n",
        "1 & 2\n",
        "\\end{bmatrix}\n",
        "\\begin{bmatrix} \n",
        "w_1 \\\\ \n",
        "w_2 \n",
        "\\end{bmatrix}\n",
        "+\n",
        "1 \\\\ \n",
        "&=\n",
        "\\begin{bmatrix} \n",
        "w_1 & w_2\n",
        "\\end{bmatrix} \n",
        "\\begin{bmatrix} \n",
        "w_1 + 2w_2 \\\\ \n",
        "3w_1 + 4w_2\n",
        "\\end{bmatrix}\n",
        "+ w_1 + 2w_2 + 1 \\\\\n",
        "&= w_1 (w_1 + 2w_2) + w_2 (3w_1 + 4w_2) + w_1 + 2w_2 + 1 \\\\ \n",
        "&= w_1^2 + 5 w_1 w_2 + 4 w_2^2 + w_1 + 2 w_2 + 1 \\\\\n",
        "\\end{aligned}\n",
        "$$\n",
        "\n",
        "となります。これを $w_1, w_2$ に関して整理すると、\n",
        "\n",
        "$$\n",
        "\\begin{aligned}\n",
        "\\mathcal{L}\n",
        "&= w_1^2 + (5 w_2 + 1) w_1 + (4 w_2^2 + 2 w_2 + 1) \\\\\n",
        "&= 4 w_2^2 + (5 w_1 + 2) w_2 + (w_1^2 + w_1 + 1)\n",
        "\\end{aligned} \n",
        "$$\n",
        "\n",
        "となり、$w_1, w_2$ それぞれについて二次関数になっていることが分かります。"
      ]
    },
    {
      "metadata": {
        "id": "cQJmCQzVznMA",
        "colab_type": "text"
      },
      "cell_type": "markdown",
      "source": [
        "目的関数 $\\mathcal{L}$ を $w_1$ の二次関数、$w_2$ の二次関数と見たとき、$\\mathcal{L}$ は、下図のような概形となっています。\n",
        "\n",
        "![目的関数の概形（2 次元）](images/04/04_06.png)\n",
        "\n",
        "さらに、各次元が $w_1, w_2, \\mathcal{L}$ を表す 3 次元空間上においては、 $\\mathcal{L}$ の概形は下図のようになっています。\n",
        "\n",
        "![目的関数の概形（3 次元）](images/04/04_07.png)"
      ]
    },
    {
      "metadata": {
        "id": "Fi01fyJGznMB",
        "colab_type": "text"
      },
      "cell_type": "markdown",
      "source": [
        "ここでは 2 つのパラメータ $w_1$ と $w_2$ について図示していますが、目的関数が 任意の $M$ 個の変数 $w_0, w_1, w_2, \\dots, w_M$ によって特徴づけられている場合でも、目的関数がそれぞれのパラメータについて二次形式になっている限り、同様のことが言えます。\n",
        "すなわち、$M + 1$ 個の連立方程式、\n",
        "\n",
        "$$\n",
        "\\begin{cases}\n",
        "\\frac {\\partial }{\\partial w_0}L = 0 \\\\\n",
        "\\frac {\\partial }{\\partial w_1}L = 0 \\\\\n",
        "\\ \\ \\ \\ \\ \\vdots \\\\\n",
        "\\frac {\\partial }{\\partial w_M}L = 0 \\\\\n",
        "\\end{cases}\n",
        "$$\n",
        "\n",
        "を解けば良いということになります。\n",
        "これはベクトルによる微分を用いて表記すると、以下のようになります。\n",
        "\n",
        "$$\n",
        "\\begin{aligned}\n",
        "\\begin{bmatrix}\n",
        "\\frac {\\partial}{\\partial w_0} L \\\\\n",
        "\\frac {\\partial}{\\partial w_1} L \\\\\n",
        "\\vdots  \\\\\n",
        "\\frac {\\partial}{\\partial w_M} L \\\\\n",
        "\\end{bmatrix}\n",
        "&=\n",
        "\\begin{bmatrix}\n",
        "0 \\\\\n",
        "0 \\\\\n",
        "\\vdots  \\\\\n",
        "0 \\\\\n",
        "\\end{bmatrix} \\\\\n",
        "\\Rightarrow \\frac {\\partial}{\\partial {\\bf w}} \\mathcal{L}\n",
        "&= {\\bf 0} \\\\\n",
        "\\end{aligned}\n",
        "$$"
      ]
    },
    {
      "metadata": {
        "id": "WnEZwMyKznMB",
        "colab_type": "text"
      },
      "cell_type": "markdown",
      "source": [
        "上式を ${\\bf w}$ について解くために、以下のような式変形を行います。\n",
        "式変形の途中で理解できない部分があった場合は、前章の線形代数の部分を読み返してみてください。\n",
        "まずは、左辺について整理を行います。\n",
        "$$\n",
        "\\begin{aligned}\n",
        "\\frac{\\partial}{\\partial {\\bf w}} L\n",
        "&= \\frac{\\partial}{\\partial {\\bf w}} (c + {\\bf b}^{\\rm T}{\\bf w} + {\\bf w}^{\\rm T}{\\bf A}{\\bf w}) \\\\\n",
        "&=\\frac{\\partial}{\\partial {\\bf w}} (c) + \\frac{\\partial}{\\partial {\\bf w}} ({\\bf b}^{\\rm T}{\\bf w}) + \\frac{\\partial}{\\partial {\\bf w}} ({\\bf w}^{\\rm T}{\\bf A}{\\bf w}) \\\\\n",
        "&={\\bf 0} + {\\bf b} + ({\\bf A} + {\\bf A}^{\\rm T}) {\\bf w}\n",
        "\\end{aligned}\n",
        "$$\n",
        "\n",
        "これを $0$ とおき、${\\bf A}$ 、${\\bf b}$ を展開すると\n",
        "\n",
        "$$\n",
        "\\begin{aligned}\n",
        "-2{\\bf X}^{\\rm T}{\\bf t} + \\{ {\\bf X}^{\\rm T}{\\bf X} + ({\\bf X}^{\\rm T}{\\bf X})^{\\rm T} \\} {\\bf w}\n",
        "&= {\\bf 0} \\\\\n",
        "-2{\\bf X}^{\\rm T}{\\bf t} + 2{\\bf X}^{\\rm T}{\\bf X}{\\bf w}\n",
        "&= {\\bf 0} \\\\\n",
        "{\\bf X}^{\\rm T}{\\bf X}{\\bf w}& = {\\bf X}^{\\rm T}{\\bf t} \\\\\n",
        "\\end{aligned}\n",
        "$$\n",
        "\n",
        "のように式変形できます。"
      ]
    },
    {
      "metadata": {
        "id": "9sGQkVYwznMC",
        "colab_type": "text"
      },
      "cell_type": "markdown",
      "source": [
        "ここで、${\\bf X}^{\\rm T}{\\bf X}$に**逆行列が存在すると仮定**して、両辺に左側から $({\\bf X}^{\\rm T}{\\bf X})^{-1}$ を掛けると、\n",
        "\n",
        "$$\n",
        "\\begin{aligned}\n",
        "({\\bf X}^{\\rm T}{\\bf X})^{-1} {\\bf X}^{\\rm T}{\\bf X} {\\bf w} &= ({\\bf X}^{\\rm T}{\\bf X})^{-1} {\\bf X}^{\\rm T}{\\bf t} \\\\\n",
        "{\\bf I}{\\bf w} &= ({\\bf X}^{\\rm T}{\\bf X})^{-1} {\\bf X}^{\\rm T}{\\bf t} \\\\\n",
        "{\\bf w} &= ({\\bf X}^{\\rm T}{\\bf X})^{-1}{\\bf X}^{\\rm T}{\\bf t}\n",
        "\\end{aligned}\n",
        "$$\n",
        "\n",
        "が導かれます。特に、この最後の式を**正規方程式 (normal equation)** と呼びます。\n",
        "上式は、与えられたデータを並べたデザイン行列 ${\\bf X}$ と、各データの目標値を並べたベクトル ${\\bf t}$ から、最適なパラメータ ${\\bf w}$ を計算しています。\n",
        "${\\bf I}$ は単位行列を表します。"
      ]
    },
    {
      "metadata": {
        "id": "2umAuAMPznMC",
        "colab_type": "text"
      },
      "cell_type": "markdown",
      "source": [
        "${\\bf w}$ を求める際に気をつけたいこととして、以下の誤った式変形をしてしまう例が挙げられます。\n",
        "\n",
        "$$\n",
        "\\begin{aligned}\n",
        "{\\bf X}^{\\rm T}{\\bf X}{\\bf w} &= {\\bf X}^{\\rm T}{\\bf t} \\\\\n",
        "({\\bf X}^{\\rm T})^{-1} {\\bf X}^{\\rm T}{\\bf X}{\\bf w} &= ({\\bf X}^{\\rm T})^{-1} {\\bf X}^{\\rm T}{\\bf t} \\\\\n",
        "{\\bf X}{\\bf w} &= {\\bf t} \\\\\n",
        "{\\bf X}^{-1}{\\bf X}{\\bf w} &= {\\bf X}^{-1}{\\bf t} \\\\\n",
        "{\\bf w} &= {\\bf X}^{-1}{\\bf t}\n",
        "\\end{aligned}\n",
        "$$\n",
        "\n",
        "上記の式変形は一般には成立しません。\n",
        "この式変形が可能かどうかは、${\\bf X}^{-1}$ が存在するかどうか、に関わっています。\n",
        "サンプル数 $N$ と独立変数の数 $M + 1$ が等しくない場合、${\\bf X} \\in \\mathbb{R}^{N \\times (M + 1)}$ は**正方行列ではない**ため、逆行列 ${\\bf X}^{-1}$ を持ちません。\n",
        "従って、上式の 2 行目の変形を行うことはできません（逆行列が求まるためのより厳密な条件についてはここでは省略します）。\n",
        "\n",
        "一方、 ${\\bf X}^{\\rm T}{\\bf X}$ は $(M + 1) \\times (M + 1)$ 行列であり、その形はサンプル数 $N$ に依存することなく、常に正方行列となるため、これを利用して式変形を行います。\n",
        "\n",
        "新しい入力変数の値 ${\\bf x}_q = [x_1, \\dots, x_M]^{\\rm T}$ に対して、対応する目標値 $y_q$ を予測するためには、訓練により決定されたパラメータ ${\\bf w}$ を用いて、\n",
        "\n",
        "$$\n",
        "y_q = {\\bf w}^{\\rm T}{\\bf x}_q\n",
        "$$\n",
        "\n",
        "のように計算します。"
      ]
    }
  ]
}
