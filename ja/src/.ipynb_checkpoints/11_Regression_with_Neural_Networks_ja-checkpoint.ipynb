{
 "cells": [
  {
   "cell_type": "markdown",
   "metadata": {
    "colab_type": "text",
    "id": "SHeBTW2CYM5w"
   },
   "source": [
    "# ニューラルネットワークによる回帰\n",
    "\n",
    "この章では、回帰問題に対して、Chainer を適用する方法を説明します。\n",
    "分類ではカテゴリを予測するモデルを作成しました。今回説明する回帰では連続値を予測します。\n",
    "\n",
    "\n",
    "## 問題設定\n",
    "\n",
    "今回はデータセットとして、ボストン近郊の住宅価格のデータセットである the boston house-prices dataset を利用します。\n",
    "このデータセットは入力変数の種類が13個あり、目標値が住宅価格になっています。"
   ]
  },
  {
   "cell_type": "markdown",
   "metadata": {
    "colab_type": "text",
    "id": "dOBSW43DqoYZ"
   },
   "source": [
    "## データセットの準備\n",
    "\n",
    "### データセットの読み込み\n",
    "\n",
    "the boston house-prices dataset は scikit-learn の `load_boston()` で取得できます。"
   ]
  },
  {
   "cell_type": "code",
   "execution_count": 2,
   "metadata": {
    "colab": {},
    "colab_type": "code",
    "id": "Hpr5wbSIrSb8"
   },
   "outputs": [],
   "source": [
    "import sklearn.datasets"
   ]
  },
  {
   "cell_type": "code",
   "execution_count": 3,
   "metadata": {
    "colab": {},
    "colab_type": "code",
    "id": "ITmwxtB-uxA8"
   },
   "outputs": [],
   "source": [
    "# データセットの読み込み\n",
    "boston = sklearn.datasets.load_boston()\n",
    "x = boston.data\n",
    "t = boston.target"
   ]
  },
  {
   "cell_type": "markdown",
   "metadata": {
    "colab_type": "text",
    "id": "ELwww5swqyjj"
   },
   "source": [
    "次にこのデータセットの中身を表示して確認してみます。\n",
    "まずは入力変数を見てみます。\n",
    "項目が多いので、綺麗に表示できる Pandas の DataFrame を使って表示してみます。\n",
    "入力変数のデータは `boston.data`、入力変数の各行の名前は `boston.feature_names` に入っています。"
   ]
  },
  {
   "cell_type": "code",
   "execution_count": 5,
   "metadata": {
    "colab": {},
    "colab_type": "code",
    "id": "lDxBj_09rAf9"
   },
   "outputs": [],
   "source": [
    "import pandas as pd"
   ]
  },
  {
   "cell_type": "code",
   "execution_count": 6,
   "metadata": {
    "colab": {
     "base_uri": "https://localhost:8080/",
     "height": 141
    },
    "colab_type": "code",
    "id": "tGqiR0aGq0yt",
    "outputId": "ae5523f9-665d-4812-cf14-c74ac1f0b318"
   },
   "outputs": [
    {
     "data": {
      "text/html": [
       "<div>\n",
       "<style scoped>\n",
       "    .dataframe tbody tr th:only-of-type {\n",
       "        vertical-align: middle;\n",
       "    }\n",
       "\n",
       "    .dataframe tbody tr th {\n",
       "        vertical-align: top;\n",
       "    }\n",
       "\n",
       "    .dataframe thead th {\n",
       "        text-align: right;\n",
       "    }\n",
       "</style>\n",
       "<table border=\"1\" class=\"dataframe\">\n",
       "  <thead>\n",
       "    <tr style=\"text-align: right;\">\n",
       "      <th></th>\n",
       "      <th>CRIM</th>\n",
       "      <th>ZN</th>\n",
       "      <th>INDUS</th>\n",
       "      <th>CHAS</th>\n",
       "      <th>NOX</th>\n",
       "      <th>RM</th>\n",
       "      <th>AGE</th>\n",
       "      <th>DIS</th>\n",
       "      <th>RAD</th>\n",
       "      <th>TAX</th>\n",
       "      <th>PTRATIO</th>\n",
       "      <th>B</th>\n",
       "      <th>LSTAT</th>\n",
       "    </tr>\n",
       "  </thead>\n",
       "  <tbody>\n",
       "    <tr>\n",
       "      <th>0</th>\n",
       "      <td>0.00632</td>\n",
       "      <td>18.0</td>\n",
       "      <td>2.31</td>\n",
       "      <td>0.0</td>\n",
       "      <td>0.538</td>\n",
       "      <td>6.575</td>\n",
       "      <td>65.2</td>\n",
       "      <td>4.0900</td>\n",
       "      <td>1.0</td>\n",
       "      <td>296.0</td>\n",
       "      <td>15.3</td>\n",
       "      <td>396.90</td>\n",
       "      <td>4.98</td>\n",
       "    </tr>\n",
       "    <tr>\n",
       "      <th>1</th>\n",
       "      <td>0.02731</td>\n",
       "      <td>0.0</td>\n",
       "      <td>7.07</td>\n",
       "      <td>0.0</td>\n",
       "      <td>0.469</td>\n",
       "      <td>6.421</td>\n",
       "      <td>78.9</td>\n",
       "      <td>4.9671</td>\n",
       "      <td>2.0</td>\n",
       "      <td>242.0</td>\n",
       "      <td>17.8</td>\n",
       "      <td>396.90</td>\n",
       "      <td>9.14</td>\n",
       "    </tr>\n",
       "    <tr>\n",
       "      <th>2</th>\n",
       "      <td>0.02729</td>\n",
       "      <td>0.0</td>\n",
       "      <td>7.07</td>\n",
       "      <td>0.0</td>\n",
       "      <td>0.469</td>\n",
       "      <td>7.185</td>\n",
       "      <td>61.1</td>\n",
       "      <td>4.9671</td>\n",
       "      <td>2.0</td>\n",
       "      <td>242.0</td>\n",
       "      <td>17.8</td>\n",
       "      <td>392.83</td>\n",
       "      <td>4.03</td>\n",
       "    </tr>\n",
       "  </tbody>\n",
       "</table>\n",
       "</div>"
      ],
      "text/plain": [
       "      CRIM    ZN  INDUS  CHAS    NOX     RM   AGE     DIS  RAD    TAX  \\\n",
       "0  0.00632  18.0   2.31   0.0  0.538  6.575  65.2  4.0900  1.0  296.0   \n",
       "1  0.02731   0.0   7.07   0.0  0.469  6.421  78.9  4.9671  2.0  242.0   \n",
       "2  0.02729   0.0   7.07   0.0  0.469  7.185  61.1  4.9671  2.0  242.0   \n",
       "\n",
       "   PTRATIO       B  LSTAT  \n",
       "0     15.3  396.90   4.98  \n",
       "1     17.8  396.90   9.14  \n",
       "2     17.8  392.83   4.03  "
      ]
     },
     "execution_count": 6,
     "metadata": {},
     "output_type": "execute_result"
    }
   ],
   "source": [
    "# 最初の3行を表示\n",
    "pd.DataFrame(boston.data, columns=boston.feature_names)[:3]"
   ]
  },
  {
   "cell_type": "markdown",
   "metadata": {
    "colab_type": "text",
    "id": "JzNOes_qrEYu"
   },
   "source": [
    "行が各入力変数、列がサンプルを表しています。各行が何を示しているかは以下に詳しく書かれていますので、気になる方はこちらをご覧ください。\n",
    "\n",
    "https://archive.ics.uci.edu/ml/machine-learning-databases/housing/housing.names\n",
    "\n",
    "\n",
    "次にモデルの出力となる目標値の確認をしてみます。\n",
    "目標値は `boston.target` に入ってますので、これを表示してみます。"
   ]
  },
  {
   "cell_type": "code",
   "execution_count": 7,
   "metadata": {
    "colab": {
     "base_uri": "https://localhost:8080/",
     "height": 35
    },
    "colab_type": "code",
    "id": "W4VV8C4nrHXN",
    "outputId": "cca7a7fb-7ac8-40a7-f2fd-6d862bd11e2e"
   },
   "outputs": [
    {
     "data": {
      "text/plain": [
       "array([24. , 21.6, 34.7])"
      ]
     },
     "execution_count": 7,
     "metadata": {},
     "output_type": "execute_result"
    }
   ],
   "source": [
    "# 最初の3つを表示\n",
    "boston.target[:3]"
   ]
  },
  {
   "cell_type": "markdown",
   "metadata": {
    "colab_type": "text",
    "id": "tt5JIK7jaNzU"
   },
   "source": [
    "### 入力変数と目標値に切り分ける\n",
    "\n",
    "それでは、入力変数と目標値を取り出し、それぞれ `x` と `t` に代入します。\n"
   ]
  },
  {
   "cell_type": "code",
   "execution_count": 8,
   "metadata": {
    "colab": {},
    "colab_type": "code",
    "id": "eZeYPrJCrTjZ"
   },
   "outputs": [],
   "source": [
    "x = boston.data\n",
    "t = boston.target"
   ]
  },
  {
   "cell_type": "markdown",
   "metadata": {
    "colab_type": "text",
    "id": "va8NhttJrXPD"
   },
   "source": [
    "### Chainerに合わせてデータセットを変換\n",
    "\n",
    "回帰問題の場合、Chainer を用いて計算を行うためには、下記の 4 点を満たしている必要があります。\n",
    "\n",
    "- 入力変数と目標値が NumPy や CuPy の `ndarray` の形式\n",
    "- 入力変数の形が `(サンプル数, 入力変数の種類)` \n",
    "- 目標値の形が `(サンプル数, 目標値の種類)` "
   ]
  },
  {
   "cell_type": "markdown",
   "metadata": {
    "colab_type": "text",
    "id": "wT5p3lekrzvK"
   },
   "source": [
    "回帰問題の場合に気をつけるべき点は 3 つめです。\n",
    "目標値の形は `(サンプル数, 目標値の数)` である必要があります。\n",
    "先ほど切り分けた目標値の `t` の形を確認すると、"
   ]
  },
  {
   "cell_type": "code",
   "execution_count": 9,
   "metadata": {
    "colab": {
     "base_uri": "https://localhost:8080/",
     "height": 35
    },
    "colab_type": "code",
    "id": "-RQ7nlOyr0vN",
    "outputId": "29b96112-60f9-4b20-ba68-6ca478b70ae2"
   },
   "outputs": [
    {
     "data": {
      "text/plain": [
       "(506,)"
      ]
     },
     "execution_count": 9,
     "metadata": {},
     "output_type": "execute_result"
    }
   ],
   "source": [
    "t.shape"
   ]
  },
  {
   "cell_type": "markdown",
   "metadata": {
    "colab_type": "text",
    "id": "czw8WSHRr4TZ"
   },
   "source": [
    "となっています。\n",
    "今、目標値の種類は 1 種類なので、この形を `(506, 1)` に変形する必要があります。\n",
    "\n",
    "変形は `reshape()` メソッドを用い、以下のようにして行います。"
   ]
  },
  {
   "cell_type": "code",
   "execution_count": 10,
   "metadata": {
    "colab": {},
    "colab_type": "code",
    "id": "yS4Fcj1xr9fF"
   },
   "outputs": [],
   "source": [
    "# 目標値の形の変更\n",
    "t = t.reshape(506, 1)"
   ]
  },
  {
   "cell_type": "markdown",
   "metadata": {
    "colab_type": "text",
    "id": "GoIU5Y-Os0fd"
   },
   "source": [
    "正しく変形できたか確認します。"
   ]
  },
  {
   "cell_type": "code",
   "execution_count": 12,
   "metadata": {
    "colab": {
     "base_uri": "https://localhost:8080/",
     "height": 35
    },
    "colab_type": "code",
    "id": "rDjpruyArScl",
    "outputId": "887e2385-e778-4cc3-bdf7-067a48cb7262"
   },
   "outputs": [
    {
     "data": {
      "text/plain": [
       "(506, 1)"
      ]
     },
     "execution_count": 12,
     "metadata": {},
     "output_type": "execute_result"
    }
   ],
   "source": [
    "t.shape"
   ]
  },
  {
   "cell_type": "markdown",
   "metadata": {
    "colab_type": "text",
    "id": "Cgg3__4IrScn"
   },
   "source": [
    "また、Chainer では浮動小数点数は `float32` 型で扱われるのがデフォルトである一方、今回は `x` も `t` も `float64` 型となっています。\n",
    "このため、データ型の変換も行います。"
   ]
  },
  {
   "cell_type": "code",
   "execution_count": 13,
   "metadata": {
    "colab": {},
    "colab_type": "code",
    "id": "cm6gdRbSrSco"
   },
   "outputs": [],
   "source": [
    "# データ型の変換\n",
    "x = x.astype('float32')\n",
    "t = t.astype('float32')"
   ]
  },
  {
   "cell_type": "markdown",
   "metadata": {
    "colab_type": "text",
    "id": "0Q-g7sg0tBp7"
   },
   "source": [
    "データ型も正しく変換されたか確認します。"
   ]
  },
  {
   "cell_type": "code",
   "execution_count": 14,
   "metadata": {
    "colab": {
     "base_uri": "https://localhost:8080/",
     "height": 35
    },
    "colab_type": "code",
    "id": "RG6ppSaerScr",
    "outputId": "1d70953d-f599-4dc9-f10f-ffba9314ecfb"
   },
   "outputs": [
    {
     "data": {
      "text/plain": [
       "dtype('float32')"
      ]
     },
     "execution_count": 14,
     "metadata": {},
     "output_type": "execute_result"
    }
   ],
   "source": [
    "# xのデータ型の確認\n",
    "x.dtype"
   ]
  },
  {
   "cell_type": "code",
   "execution_count": 15,
   "metadata": {
    "colab": {
     "base_uri": "https://localhost:8080/",
     "height": 35
    },
    "colab_type": "code",
    "id": "1SwQSFtorScv",
    "outputId": "8e303383-dd6b-448a-9a78-a569717a4ae1"
   },
   "outputs": [
    {
     "data": {
      "text/plain": [
       "dtype('float32')"
      ]
     },
     "execution_count": 15,
     "metadata": {},
     "output_type": "execute_result"
    }
   ],
   "source": [
    "# tのデータ型の確認\n",
    "t.dtype"
   ]
  },
  {
   "cell_type": "markdown",
   "metadata": {
    "colab_type": "text",
    "id": "D6kUXzrJrSc0"
   },
   "source": [
    "最後に、下図のように、`zip(x, t)` で入力変数と目標値のペアをタプルにして並べたものを `list()` 関数を用いてリストにし、Chainerで使用できるデータセットの形式に変換します。\n",
    "\n",
    "![入力変数と目標値のタプルのリスト](images/11/11_01.png)\n"
   ]
  },
  {
   "cell_type": "code",
   "execution_count": 16,
   "metadata": {
    "colab": {},
    "colab_type": "code",
    "id": "Mrczk54WYM6T"
   },
   "outputs": [],
   "source": [
    "# Chainerで使用できるデータセットの形式\n",
    "dataset = list(zip(x, t))"
   ]
  },
  {
   "cell_type": "markdown",
   "metadata": {
    "colab_type": "text",
    "id": "07Z6682zSmo8"
   },
   "source": [
    "### 訓練データ、検証データ、テストデータに分割\n",
    "\n",
    "次に下図のように、まずデータセットを `train_val` と `test` という 2 つに分割し、さらに `train_val` を `train` と `val` に分割することで、合計 3 つに分けます。\n",
    "\n",
    "![データセットの分割](images/11/11_02.png)"
   ]
  },
  {
   "cell_type": "code",
   "execution_count": 17,
   "metadata": {
    "colab": {},
    "colab_type": "code",
    "id": "2cHaHCwCSmpA"
   },
   "outputs": [],
   "source": [
    "import chainer\n",
    "\n",
    "# train_val と test に分割\n",
    "n_train_valid = int(len(dataset) * 0.7)\n",
    "train_valid, test = chainer.datasets.split_dataset_random(dataset, n_train_valid, seed=0)\n",
    "\n",
    "# train と val に分割\n",
    "n_train = int(len(train_valid) * 0.7)\n",
    "train, valid = chainer.datasets.split_dataset_random(train_valid, n_train, seed=0)"
   ]
  },
  {
   "cell_type": "markdown",
   "metadata": {
    "colab_type": "text",
    "id": "8uvcC7_7tnaL"
   },
   "source": [
    "分割して得られた `train` と `valid` 、`test` それぞれのサンプル数を確認します。"
   ]
  },
  {
   "cell_type": "code",
   "execution_count": 18,
   "metadata": {
    "colab": {
     "base_uri": "https://localhost:8080/",
     "height": 35
    },
    "colab_type": "code",
    "id": "DA0Ffm6d3Y1c",
    "outputId": "9639ca0b-eedb-434a-ca15-1b944c3d93c9"
   },
   "outputs": [
    {
     "data": {
      "text/plain": [
       "247"
      ]
     },
     "execution_count": 18,
     "metadata": {},
     "output_type": "execute_result"
    }
   ],
   "source": [
    "len(train)"
   ]
  },
  {
   "cell_type": "code",
   "execution_count": 19,
   "metadata": {
    "colab": {
     "base_uri": "https://localhost:8080/",
     "height": 35
    },
    "colab_type": "code",
    "id": "cUi0f3p1rSdB",
    "outputId": "42e72118-6551-4365-e9be-9f86689eda8e"
   },
   "outputs": [
    {
     "data": {
      "text/plain": [
       "152"
      ]
     },
     "execution_count": 19,
     "metadata": {},
     "output_type": "execute_result"
    }
   ],
   "source": [
    "len(test)"
   ]
  },
  {
   "cell_type": "code",
   "execution_count": 20,
   "metadata": {
    "colab": {
     "base_uri": "https://localhost:8080/",
     "height": 35
    },
    "colab_type": "code",
    "id": "-uGE2a8D3Y_1",
    "outputId": "6e2c89fb-58c6-49eb-8b6b-f39731574630",
    "scrolled": true
   },
   "outputs": [
    {
     "data": {
      "text/plain": [
       "107"
      ]
     },
     "execution_count": 20,
     "metadata": {},
     "output_type": "execute_result"
    }
   ],
   "source": [
    "len(valid)"
   ]
  },
  {
   "cell_type": "markdown",
   "metadata": {
    "colab_type": "text",
    "id": "DaglScMSYM6o"
   },
   "source": [
    "## Chain を継承したネットワークの定義\n",
    "\n",
    "今回は、3 層の全結合型ニューラルネットワークを定義します。\n",
    "回帰を行うネットワークも分類を行うネットワークと記述方法は基本的に同じです。\n",
    "異なる部分として、目標値が １ 変数の回帰問題の場合は、出力 `n_output` が `1` となる点があります。\n",
    "また、今回も 10 章で利用した`BatchNormalization` を利用します。"
   ]
  },
  {
   "cell_type": "code",
   "execution_count": 25,
   "metadata": {
    "colab": {},
    "colab_type": "code",
    "id": "DmE7VmKorSdH"
   },
   "outputs": [],
   "source": [
    "import numpy as np\n",
    "\n",
    "import chainer.links as L\n",
    "import chainer.functions as F\n",
    "\n",
    "# ネットワークの定義\n",
    "class NN(chainer.Chain):\n",
    "\n",
    "    def __init__(self, n_input=13, n_hidden=5, n_output=1):\n",
    "        super().__init__()\n",
    "        with self.init_scope():\n",
    "            self.l1 = L.Linear(None, n_hidden)\n",
    "            self.bn1 = L.BatchNormalization(n_input)\n",
    "            self.l2 = L.Linear(None, n_output)\n",
    "            self.bn2 = L.BatchNormalization(n_hidden)\n",
    "\n",
    "    def forward(self, x):\n",
    "        h = self.bn1(x)\n",
    "        h = self.l1(h)\n",
    "        h = F.relu(h)\n",
    "        h = self.bn2(h)\n",
    "        h = self.l2(h)\n",
    "        return h"
   ]
  },
  {
   "cell_type": "markdown",
   "metadata": {
    "colab_type": "text",
    "id": "G88wJtV_uRm8"
   },
   "source": [
    "モデルが定義できたら、インスタンス化します。この際、NumPy の seed を固定しておきます。"
   ]
  },
  {
   "cell_type": "code",
   "execution_count": 26,
   "metadata": {
    "colab": {},
    "colab_type": "code",
    "id": "pzF7l0SHrSdO"
   },
   "outputs": [],
   "source": [
    "# シードの固定\n",
    "np.random.seed(0)"
   ]
  },
  {
   "cell_type": "code",
   "execution_count": 27,
   "metadata": {
    "colab": {},
    "colab_type": "code",
    "id": "dYV66ECorSdQ"
   },
   "outputs": [],
   "source": [
    "# インスタンス化（デフォルトの引数値を使用）\n",
    "model = NN()"
   ]
  },
  {
   "cell_type": "markdown",
   "metadata": {
    "colab_type": "text",
    "id": "i3hmio0orSdS"
   },
   "source": [
    "## モデルの訓練\n",
    "\n",
    "確率的勾配降下法 (SGD) を最適化アルゴリズムとして採用し、モデルの訓練を行います。\n",
    "\n",
    "流れは前章で紹介した分類の場合と同じですが、以下の 2 点が分類を行った際からの変更点です。\n",
    "\n",
    "- 損失関数：`softmax_cross_entropy` -> `mean_squared_error`\n",
    "- 指標：`accuracy` -> `r2_score`\n",
    "\n",
    "ここで、`r2_score` は 6 章の重回帰分析の際に紹介していた[決定係数](https://docs.chainer.org/en/stable/reference/generated/chainer.functions.r2_score.html)を計算するための関数です。"
   ]
  },
  {
   "cell_type": "code",
   "execution_count": 28,
   "metadata": {
    "colab": {
     "base_uri": "https://localhost:8080/",
     "height": 1817
    },
    "colab_type": "code",
    "id": "TlOjUUXnrSdT",
    "outputId": "b2b0cd05-a21f-422e-e313-3d664fc5d0cd"
   },
   "outputs": [
    {
     "name": "stdout",
     "output_type": "stream",
     "text": [
      "1 iteration: loss (train) 652.1696, loss (valid) 547.3903\n",
      "2 iteration: loss (train) 482.8626, loss (valid) 392.5472\n",
      "3 iteration: loss (train) 451.9028, loss (valid) 455.7516\n",
      "4 iteration: loss (train) 456.2354, loss (valid) 304.1649\n",
      "5 iteration: loss (train) 368.4717, loss (valid) 252.8152\n",
      "6 iteration: loss (train) 243.4804, loss (valid) 66.9272\n",
      "7 iteration: loss (train) 93.1245, loss (valid) 39.3837\n",
      "8 iteration: loss (train) 96.6583, loss (valid) 63.5816\n",
      "9 iteration: loss (train) 53.2655, loss (valid) 94.1360\n",
      "10 iteration: loss (train) 47.1022, loss (valid) 54.1899\n",
      "11 iteration: loss (train) 29.4238, loss (valid) 41.8721\n",
      "12 iteration: loss (train) 22.9736, loss (valid) 34.4712\n",
      "13 iteration: loss (train) 14.2896, loss (valid) 37.8649\n",
      "14 iteration: loss (train) 21.2526, loss (valid) 31.9851\n",
      "15 iteration: loss (train) 41.4338, loss (valid) 37.5646\n",
      "16 iteration: loss (train) 33.8113, loss (valid) 16.6730\n",
      "17 iteration: loss (train) 16.0131, loss (valid) 27.4083\n",
      "18 iteration: loss (train) 33.0987, loss (valid) 20.5692\n",
      "19 iteration: loss (train) 12.4426, loss (valid) 24.3046\n",
      "20 iteration: loss (train) 23.1009, loss (valid) 12.4203\n",
      "21 iteration: loss (train) 8.5666, loss (valid) 21.9429\n",
      "22 iteration: loss (train) 28.8284, loss (valid) 12.4436\n",
      "23 iteration: loss (train) 28.8029, loss (valid) 23.1718\n",
      "24 iteration: loss (train) 24.3158, loss (valid) 19.4555\n",
      "25 iteration: loss (train) 26.3985, loss (valid) 19.3599\n",
      "26 iteration: loss (train) 23.3438, loss (valid) 12.3820\n",
      "27 iteration: loss (train) 11.5218, loss (valid) 18.8371\n",
      "28 iteration: loss (train) 30.8729, loss (valid) 12.6419\n",
      "29 iteration: loss (train) 24.0365, loss (valid) 20.3425\n",
      "30 iteration: loss (train) 16.4675, loss (valid) 11.7276\n",
      "31 iteration: loss (train) 20.8491, loss (valid) 17.1087\n",
      "32 iteration: loss (train) 13.4990, loss (valid) 14.3855\n",
      "33 iteration: loss (train) 23.2369, loss (valid) 16.5486\n",
      "34 iteration: loss (train) 24.7357, loss (valid) 9.6254\n",
      "35 iteration: loss (train) 30.9458, loss (valid) 22.6090\n",
      "36 iteration: loss (train) 20.5503, loss (valid) 9.6657\n",
      "37 iteration: loss (train) 10.1672, loss (valid) 16.6890\n",
      "38 iteration: loss (train) 32.7852, loss (valid) 13.1423\n",
      "39 iteration: loss (train) 20.1609, loss (valid) 22.9448\n",
      "40 iteration: loss (train) 23.9682, loss (valid) 16.9159\n",
      "41 iteration: loss (train) 13.0411, loss (valid) 17.4823\n",
      "42 iteration: loss (train) 34.6934, loss (valid) 10.2293\n",
      "43 iteration: loss (train) 10.9679, loss (valid) 17.1366\n",
      "44 iteration: loss (train) 29.5607, loss (valid) 13.4878\n",
      "45 iteration: loss (train) 17.3440, loss (valid) 17.3617\n",
      "46 iteration: loss (train) 17.0339, loss (valid) 10.1677\n",
      "47 iteration: loss (train) 18.2581, loss (valid) 19.8460\n",
      "48 iteration: loss (train) 26.9464, loss (valid) 10.3647\n",
      "49 iteration: loss (train) 10.8133, loss (valid) 17.3835\n",
      "50 iteration: loss (train) 19.6719, loss (valid) 11.4377\n",
      "51 iteration: loss (train) 15.7327, loss (valid) 20.1962\n",
      "52 iteration: loss (train) 25.0164, loss (valid) 9.6469\n",
      "53 iteration: loss (train) 37.5160, loss (valid) 18.9694\n",
      "54 iteration: loss (train) 14.0481, loss (valid) 10.2706\n",
      "55 iteration: loss (train) 28.2920, loss (valid) 17.9476\n",
      "56 iteration: loss (train) 18.5335, loss (valid) 11.5538\n",
      "57 iteration: loss (train) 10.3209, loss (valid) 17.7472\n",
      "58 iteration: loss (train) 23.9910, loss (valid) 10.2515\n",
      "59 iteration: loss (train) 14.7185, loss (valid) 18.5142\n",
      "60 iteration: loss (train) 20.6839, loss (valid) 9.7247\n",
      "61 iteration: loss (train) 26.6694, loss (valid) 16.5068\n",
      "62 iteration: loss (train) 9.1701, loss (valid) 9.9282\n",
      "63 iteration: loss (train) 25.6450, loss (valid) 16.6078\n",
      "64 iteration: loss (train) 15.4254, loss (valid) 9.8577\n",
      "65 iteration: loss (train) 17.5680, loss (valid) 16.0801\n",
      "66 iteration: loss (train) 14.8722, loss (valid) 9.8339\n",
      "67 iteration: loss (train) 23.6575, loss (valid) 17.0626\n",
      "68 iteration: loss (train) 10.6904, loss (valid) 10.5449\n",
      "69 iteration: loss (train) 22.0684, loss (valid) 15.7204\n",
      "70 iteration: loss (train) 10.4535, loss (valid) 10.0272\n",
      "71 iteration: loss (train) 15.4260, loss (valid) 17.0514\n",
      "72 iteration: loss (train) 24.3949, loss (valid) 10.1255\n",
      "73 iteration: loss (train) 12.8685, loss (valid) 18.5783\n",
      "74 iteration: loss (train) 30.8530, loss (valid) 10.5790\n",
      "75 iteration: loss (train) 15.2982, loss (valid) 15.4055\n",
      "76 iteration: loss (train) 24.0927, loss (valid) 10.9265\n",
      "77 iteration: loss (train) 13.2817, loss (valid) 15.1666\n",
      "78 iteration: loss (train) 21.4561, loss (valid) 11.4195\n",
      "79 iteration: loss (train) 20.6959, loss (valid) 18.8917\n",
      "80 iteration: loss (train) 33.3815, loss (valid) 14.1767\n",
      "81 iteration: loss (train) 16.0829, loss (valid) 16.4417\n",
      "82 iteration: loss (train) 34.8523, loss (valid) 9.4366\n",
      "83 iteration: loss (train) 20.1324, loss (valid) 16.9353\n",
      "84 iteration: loss (train) 10.0616, loss (valid) 9.5567\n",
      "85 iteration: loss (train) 10.5682, loss (valid) 16.1479\n",
      "86 iteration: loss (train) 14.5742, loss (valid) 10.0800\n",
      "87 iteration: loss (train) 13.2719, loss (valid) 14.7787\n",
      "88 iteration: loss (train) 17.0326, loss (valid) 10.4193\n",
      "89 iteration: loss (train) 20.3895, loss (valid) 19.6126\n",
      "90 iteration: loss (train) 19.7592, loss (valid) 10.0267\n",
      "91 iteration: loss (train) 20.3236, loss (valid) 18.5382\n",
      "92 iteration: loss (train) 16.1025, loss (valid) 10.2114\n",
      "93 iteration: loss (train) 23.5972, loss (valid) 17.8647\n",
      "94 iteration: loss (train) 14.9218, loss (valid) 10.4690\n",
      "95 iteration: loss (train) 17.0559, loss (valid) 16.1346\n",
      "96 iteration: loss (train) 20.5601, loss (valid) 10.6933\n",
      "97 iteration: loss (train) 10.4725, loss (valid) 14.9199\n",
      "98 iteration: loss (train) 10.0949, loss (valid) 10.9552\n",
      "99 iteration: loss (train) 20.2011, loss (valid) 15.8228\n",
      "100 iteration: loss (train) 22.7976, loss (valid) 9.6146\n"
     ]
    }
   ],
   "source": [
    "# 定数の定義\n",
    "n_batch = 64  # バッチサイズ\n",
    "n_epoch = 50  # エポック数\n",
    "\n",
    "# optimizer の定義と model との紐付け\n",
    "optimizer = chainer.optimizers.SGD()  # 学習率 lr はデフォルト値の 0.01\n",
    "optimizer.setup(model)\n",
    "\n",
    "# 可視化用のリスト\n",
    "results_train, results_valid = {}, {}\n",
    "results_train['loss'], results_train['r2_score'] = [], []\n",
    "results_valid['loss'], results_valid['r2_score'] = [], []\n",
    "\n",
    "# iterator の定義\n",
    "train_iter = chainer.iterators.SerialIterator(train, n_batch)\n",
    "valid_iter = chainer.iterators.SerialIterator(valid, n_batch, repeat=False, shuffle=False)\n",
    "\n",
    "count = 1\n",
    "\n",
    "for epoch in range(n_epoch):\n",
    "    \n",
    "    while True:\n",
    "        \n",
    "        # ミニバッチの取得\n",
    "        train_batch = train_iter.next()\n",
    "        valid_batch = valid_iter.next()\n",
    "        \n",
    "        # x と t の分割\n",
    "        x_train, t_train = chainer.dataset.concat_examples(train_batch)\n",
    "        x_valid, t_valid = chainer.dataset.concat_examples(valid_batch)\n",
    "\n",
    "        # 予測値と目的関数の計算\n",
    "        y_train = model(x_train)\n",
    "        loss_train = F.mean_squared_error(y_train, t_train)\n",
    "        r2_score_train = F.r2_score(y_train, t_train)\n",
    "\n",
    "        # 勾配の初期化と勾配の計算\n",
    "        model.cleargrads()\n",
    "        loss_train.backward()\n",
    "\n",
    "        # パラメータの更新\n",
    "        optimizer.update()\n",
    "    \n",
    "        # 検証用データに対する結果の確認\n",
    "        with chainer.using_config('train', False), chainer.using_config('enable_backprop', False):\n",
    "            y_valid = model(x_valid)\n",
    "            loss_valid = F.mean_squared_error(y_valid, t_valid)\n",
    "            r2_score_valid = F.r2_score(y_valid, t_valid)\n",
    "\n",
    "        # 結果の表示\n",
    "        # {:.4f} と指定することで、小数点以下4桁を指定できます\n",
    "        print('{} iteration: loss (train) {:.4f}, loss (valid) {:.4f}'.format(count, loss_train.array, loss_valid.array))\n",
    "\n",
    "        # 可視化用に保存\n",
    "        results_train['loss'] .append(loss_train.array)\n",
    "        results_train['r2_score'] .append(r2_score_train.array)\n",
    "        results_valid['loss'].append(loss_valid.array)\n",
    "        results_valid['r2_score'].append(r2_score_valid.array)\n",
    "\n",
    "        # カウントアップ\n",
    "        count += 1\n",
    "\n",
    "        # 1エポック終えると、valid_iter をリセットしてループを抜ける\n",
    "        if valid_iter.is_new_epoch:\n",
    "            valid_iter.reset()\n",
    "            break"
   ]
  },
  {
   "cell_type": "markdown",
   "metadata": {
    "colab_type": "text",
    "id": "Wp0Ie3ZoO6K2"
   },
   "source": [
    "学習が終わったので、損失と決定係数がイテレーション毎にどのように変化しているかを確認してみます。"
   ]
  },
  {
   "cell_type": "code",
   "execution_count": 29,
   "metadata": {
    "colab": {},
    "colab_type": "code",
    "id": "KZcW-oH8rSdY"
   },
   "outputs": [],
   "source": [
    "import matplotlib.pyplot as plt"
   ]
  },
  {
   "cell_type": "code",
   "execution_count": 31,
   "metadata": {
    "colab": {
     "base_uri": "https://localhost:8080/",
     "height": 283
    },
    "colab_type": "code",
    "id": "gKFHIWc3Dfcy",
    "outputId": "82d52eef-7995-4624-8c56-9720c76044ee"
   },
   "outputs": [
    {
     "data": {
      "image/png": "[encoded data removed]",
      "text/plain": [
       "<Figure size 432x288 with 1 Axes>"
      ]
     },
     "metadata": {
      "needs_background": "light"
     },
     "output_type": "display_data"
    }
   ],
   "source": [
    "# 損失 (loss)\n",
    "# 横軸はエポックではなく、イテレーション\n",
    "plt.plot(results_train['loss'], label='train')  # label で凡例の設定\n",
    "plt.plot(results_valid['loss'], label='valid')  # label で凡例の設定\n",
    "plt.legend()  # 凡例の表示\n",
    "plt.show()"
   ]
  },
  {
   "cell_type": "code",
   "execution_count": 32,
   "metadata": {
    "colab": {
     "base_uri": "https://localhost:8080/",
     "height": 283
    },
    "colab_type": "code",
    "id": "RiJ93XlsrSdg",
    "outputId": "361dbee8-35cd-4355-947d-1e1d61fed257"
   },
   "outputs": [
    {
     "data": {
      "image/png": "[encoded data removed]",
      "text/plain": [
       "<Figure size 432x288 with 1 Axes>"
      ]
     },
     "metadata": {
      "needs_background": "light"
     },
     "output_type": "display_data"
    }
   ],
   "source": [
    "# 決定係数 (r2_score)\n",
    "# 横軸はエポックではなく、イテレーション\n",
    "plt.plot(results_train['r2_score'], label='train')  # label で凡例の設定\n",
    "plt.plot(results_valid['r2_score'], label='valid')  # label で凡例の設定\n",
    "plt.legend()  # 凡例の表示\n",
    "plt.show()"
   ]
  },
  {
   "cell_type": "markdown",
   "metadata": {
    "colab_type": "text",
    "id": "9HviPsDkPIws"
   },
   "source": [
    "次にテストデータに対して、損失と決定係数を計算してみます。"
   ]
  },
  {
   "cell_type": "code",
   "execution_count": 33,
   "metadata": {
    "colab": {},
    "colab_type": "code",
    "id": "63XBc1v-rSdi"
   },
   "outputs": [],
   "source": [
    "# テストデータに対する結果の確認\n",
    "x_test, t_test = chainer.dataset.concat_examples(test)\n",
    "with chainer.using_config('train', False), chainer.using_config('enable_backprop', False):\n",
    "    y_test = model(x_test)\n",
    "    loss_test = F.mean_squared_error(y_test, t_test)\n",
    "    r2_score_test = F.r2_score(y_test, t_test)"
   ]
  },
  {
   "cell_type": "code",
   "execution_count": 34,
   "metadata": {
    "colab": {
     "base_uri": "https://localhost:8080/",
     "height": 35
    },
    "colab_type": "code",
    "id": "WfWVGDjXrSdk",
    "outputId": "69d23930-b5bc-4d52-9787-5ffe1052b476",
    "scrolled": true
   },
   "outputs": [
    {
     "data": {
      "text/plain": [
       "variable(17.29626)"
      ]
     },
     "execution_count": 34,
     "metadata": {},
     "output_type": "execute_result"
    }
   ],
   "source": [
    "loss_test"
   ]
  },
  {
   "cell_type": "code",
   "execution_count": 35,
   "metadata": {
    "colab": {
     "base_uri": "https://localhost:8080/",
     "height": 35
    },
    "colab_type": "code",
    "id": "h_LMxECWrSdn",
    "outputId": "db935798-444b-4aff-8412-c81b6cb923d7",
    "scrolled": true
   },
   "outputs": [
    {
     "data": {
      "text/plain": [
       "variable(0.8252464)"
      ]
     },
     "execution_count": 35,
     "metadata": {},
     "output_type": "execute_result"
    }
   ],
   "source": [
    "r2_score_test"
   ]
  },
  {
   "cell_type": "markdown",
   "metadata": {
    "colab_type": "text",
    "id": "SQsGjqhzrSeH"
   },
   "source": [
    "## GPU を用いた計算\n",
    "\n",
    "今回使用するデータセットでは、CPU においてもそれほど待ち時間がなく計算を進めることができますが、GPU を使って計算する方法も紹介します。\n",
    "\n",
    "まず、GPU が使える環境であることを確認しましょう。\n",
    "Google Colaboratory ではメニュー項目の「ランタイム」から「ランタイムのタイプを変更」を選択し、「ハードウェアアクセラレータ」と書かれたプルダウンメニューからから GPU を指定します。\n",
    "\n",
    "GPU を用いる際は、デバイス ID を意識する必要があります。\n",
    "Google Colaboratory では利用できる GPU が 1 枚だけなので、`gpu_id` は基本的に `0` です。"
   ]
  },
  {
   "cell_type": "code",
   "execution_count": 40,
   "metadata": {
    "colab": {},
    "colab_type": "code",
    "id": "gyb6ux7crSeI",
    "scrolled": true
   },
   "outputs": [
    {
     "ename": "RuntimeError",
     "evalue": "CUDA environment is not correctly set up\n(see https://github.com/chainer/chainer#installation).No module named 'cupy'",
     "output_type": "error",
     "traceback": [
      "\u001b[0;31m---------------------------------------------------------------------------\u001b[0m",
      "\u001b[0;31mRuntimeError\u001b[0m                              Traceback (most recent call last)",
      "\u001b[0;32m<ipython-input-40-3cc2a65a4f2c>\u001b[0m in \u001b[0;36m<module>\u001b[0;34m\u001b[0m\n\u001b[1;32m      3\u001b[0m \u001b[0;34m\u001b[0m\u001b[0m\n\u001b[1;32m      4\u001b[0m \u001b[0;31m# 計算に指定したデバイス ID の GPU を使うことを宣言\u001b[0m\u001b[0;34m\u001b[0m\u001b[0;34m\u001b[0m\u001b[0;34m\u001b[0m\u001b[0m\n\u001b[0;32m----> 5\u001b[0;31m \u001b[0mdevice\u001b[0m \u001b[0;34m=\u001b[0m \u001b[0mchainer\u001b[0m\u001b[0;34m.\u001b[0m\u001b[0mbackends\u001b[0m\u001b[0;34m.\u001b[0m\u001b[0mcuda\u001b[0m\u001b[0;34m.\u001b[0m\u001b[0mget_device_from_id\u001b[0m\u001b[0;34m(\u001b[0m\u001b[0mgpu_id\u001b[0m\u001b[0;34m)\u001b[0m\u001b[0;34m\u001b[0m\u001b[0;34m\u001b[0m\u001b[0m\n\u001b[0m\u001b[1;32m      6\u001b[0m \u001b[0mdevice\u001b[0m\u001b[0;34m.\u001b[0m\u001b[0muse\u001b[0m\u001b[0;34m(\u001b[0m\u001b[0;34m)\u001b[0m\u001b[0;34m\u001b[0m\u001b[0;34m\u001b[0m\u001b[0m\n",
      "\u001b[0;32m~/.pyenv/versions/miniconda3-4.3.30/lib/python3.6/site-packages/chainer/backends/cuda.py\u001b[0m in \u001b[0;36mget_device_from_id\u001b[0;34m(device_id)\u001b[0m\n\u001b[1;32m    161\u001b[0m     \"\"\"\n\u001b[1;32m    162\u001b[0m     \u001b[0;32mif\u001b[0m \u001b[0mdevice_id\u001b[0m \u001b[0;32mis\u001b[0m \u001b[0;32mnot\u001b[0m \u001b[0;32mNone\u001b[0m\u001b[0;34m:\u001b[0m\u001b[0;34m\u001b[0m\u001b[0;34m\u001b[0m\u001b[0m\n\u001b[0;32m--> 163\u001b[0;31m         \u001b[0mcheck_cuda_available\u001b[0m\u001b[0;34m(\u001b[0m\u001b[0;34m)\u001b[0m\u001b[0;34m\u001b[0m\u001b[0;34m\u001b[0m\u001b[0m\n\u001b[0m\u001b[1;32m    164\u001b[0m         \u001b[0;32mreturn\u001b[0m \u001b[0mDevice\u001b[0m\u001b[0;34m(\u001b[0m\u001b[0mdevice_id\u001b[0m\u001b[0;34m)\u001b[0m\u001b[0;34m\u001b[0m\u001b[0;34m\u001b[0m\u001b[0m\n\u001b[1;32m    165\u001b[0m     \u001b[0;32melse\u001b[0m\u001b[0;34m:\u001b[0m\u001b[0;34m\u001b[0m\u001b[0;34m\u001b[0m\u001b[0m\n",
      "\u001b[0;32m~/.pyenv/versions/miniconda3-4.3.30/lib/python3.6/site-packages/chainer/backends/cuda.py\u001b[0m in \u001b[0;36mcheck_cuda_available\u001b[0;34m()\u001b[0m\n\u001b[1;32m     91\u001b[0m                '(see https://github.com/chainer/chainer#installation).')\n\u001b[1;32m     92\u001b[0m         \u001b[0mmsg\u001b[0m \u001b[0;34m+=\u001b[0m \u001b[0mstr\u001b[0m\u001b[0;34m(\u001b[0m\u001b[0m_resolution_error\u001b[0m\u001b[0;34m)\u001b[0m\u001b[0;34m\u001b[0m\u001b[0;34m\u001b[0m\u001b[0m\n\u001b[0;32m---> 93\u001b[0;31m         \u001b[0;32mraise\u001b[0m \u001b[0mRuntimeError\u001b[0m\u001b[0;34m(\u001b[0m\u001b[0mmsg\u001b[0m\u001b[0;34m)\u001b[0m\u001b[0;34m\u001b[0m\u001b[0;34m\u001b[0m\u001b[0m\n\u001b[0m\u001b[1;32m     94\u001b[0m     if (not cudnn_enabled and\n\u001b[1;32m     95\u001b[0m             \u001b[0;32mnot\u001b[0m \u001b[0m_cudnn_disabled_by_user\u001b[0m \u001b[0;32mand\u001b[0m\u001b[0;34m\u001b[0m\u001b[0;34m\u001b[0m\u001b[0m\n",
      "\u001b[0;31mRuntimeError\u001b[0m: CUDA environment is not correctly set up\n(see https://github.com/chainer/chainer#installation).No module named 'cupy'"
     ]
    }
   ],
   "source": [
    "# GPU デバイスの指定\n",
    "gpu_id = 0\n",
    "\n",
    "# 計算に指定したデバイス ID の GPU を使うことを宣言\n",
    "device = chainer.backends.cuda.get_device_from_id(gpu_id)\n",
    "device.use()"
   ]
  },
  {
   "cell_type": "code",
   "execution_count": 43,
   "metadata": {
    "colab": {},
    "colab_type": "code",
    "id": "mJ9xtLRkrSeO"
   },
   "outputs": [
    {
     "ename": "ModuleNotFoundError",
     "evalue": "No module named 'cupy'",
     "output_type": "error",
     "traceback": [
      "\u001b[0;31m---------------------------------------------------------------------------\u001b[0m",
      "\u001b[0;31mModuleNotFoundError\u001b[0m                       Traceback (most recent call last)",
      "\u001b[0;32m<ipython-input-43-1e5c0bd39d4f>\u001b[0m in \u001b[0;36m<module>\u001b[0;34m\u001b[0m\n\u001b[0;32m----> 1\u001b[0;31m \u001b[0;32mimport\u001b[0m \u001b[0mcupy\u001b[0m \u001b[0;32mas\u001b[0m \u001b[0mcp\u001b[0m\u001b[0;34m\u001b[0m\u001b[0;34m\u001b[0m\u001b[0m\n\u001b[0m\u001b[1;32m      2\u001b[0m \u001b[0;34m\u001b[0m\u001b[0m\n\u001b[1;32m      3\u001b[0m \u001b[0;31m# 乱数のシードを固定\u001b[0m\u001b[0;34m\u001b[0m\u001b[0;34m\u001b[0m\u001b[0;34m\u001b[0m\u001b[0m\n\u001b[1;32m      4\u001b[0m \u001b[0mnp\u001b[0m\u001b[0;34m.\u001b[0m\u001b[0mrandom\u001b[0m\u001b[0;34m.\u001b[0m\u001b[0mseed\u001b[0m\u001b[0;34m(\u001b[0m\u001b[0;36m0\u001b[0m\u001b[0;34m)\u001b[0m\u001b[0;34m\u001b[0m\u001b[0;34m\u001b[0m\u001b[0m\n\u001b[1;32m      5\u001b[0m \u001b[0mcp\u001b[0m\u001b[0;34m.\u001b[0m\u001b[0mrandom\u001b[0m\u001b[0;34m.\u001b[0m\u001b[0mseed\u001b[0m\u001b[0;34m(\u001b[0m\u001b[0;36m0\u001b[0m\u001b[0;34m)\u001b[0m\u001b[0;34m\u001b[0m\u001b[0;34m\u001b[0m\u001b[0m\n",
      "\u001b[0;31mModuleNotFoundError\u001b[0m: No module named 'cupy'"
     ]
    }
   ],
   "source": [
    "import cupy as cp\n",
    "\n",
    "# 乱数のシードを固定\n",
    "np.random.seed(0)\n",
    "cp.random.seed(0)"
   ]
  },
  {
   "cell_type": "markdown",
   "metadata": {
    "colab_type": "text",
    "id": "ARoyaOxhPdxn"
   },
   "source": [
    "CPUと同様にモデルをインスタンス化します。\n",
    "その後、モデルをGPUに転送します。"
   ]
  },
  {
   "cell_type": "code",
   "execution_count": 44,
   "metadata": {
    "colab": {
     "base_uri": "https://localhost:8080/",
     "height": 35
    },
    "colab_type": "code",
    "id": "Urutf-WbrSeS",
    "outputId": "3471f340-f6d1-4ec0-83d8-f2bd7cbe791f"
   },
   "outputs": [
    {
     "ename": "RuntimeError",
     "evalue": "CUDA environment is not correctly set up\n(see https://github.com/chainer/chainer#installation).No module named 'cupy'",
     "output_type": "error",
     "traceback": [
      "\u001b[0;31m---------------------------------------------------------------------------\u001b[0m",
      "\u001b[0;31mRuntimeError\u001b[0m                              Traceback (most recent call last)",
      "\u001b[0;32m<ipython-input-44-d3133ee99aef>\u001b[0m in \u001b[0;36m<module>\u001b[0;34m\u001b[0m\n\u001b[1;32m      3\u001b[0m \u001b[0;34m\u001b[0m\u001b[0m\n\u001b[1;32m      4\u001b[0m  \u001b[0;31m# モデルをGPUへ転送\u001b[0m\u001b[0;34m\u001b[0m\u001b[0;34m\u001b[0m\u001b[0;34m\u001b[0m\u001b[0m\n\u001b[0;32m----> 5\u001b[0;31m \u001b[0mmodel\u001b[0m\u001b[0;34m.\u001b[0m\u001b[0mto_gpu\u001b[0m\u001b[0;34m(\u001b[0m\u001b[0mgpu_id\u001b[0m\u001b[0;34m)\u001b[0m\u001b[0;34m\u001b[0m\u001b[0;34m\u001b[0m\u001b[0m\n\u001b[0m",
      "\u001b[0;32m~/.pyenv/versions/miniconda3-4.3.30/lib/python3.6/site-packages/chainer/link.py\u001b[0m in \u001b[0;36mto_gpu\u001b[0;34m(self, device)\u001b[0m\n\u001b[1;32m    926\u001b[0m \u001b[0;34m\u001b[0m\u001b[0m\n\u001b[1;32m    927\u001b[0m     \u001b[0;32mdef\u001b[0m \u001b[0mto_gpu\u001b[0m\u001b[0;34m(\u001b[0m\u001b[0mself\u001b[0m\u001b[0;34m,\u001b[0m \u001b[0mdevice\u001b[0m\u001b[0;34m=\u001b[0m\u001b[0;32mNone\u001b[0m\u001b[0;34m)\u001b[0m\u001b[0;34m:\u001b[0m\u001b[0;34m\u001b[0m\u001b[0;34m\u001b[0m\u001b[0m\n\u001b[0;32m--> 928\u001b[0;31m         \u001b[0;32mwith\u001b[0m \u001b[0mcuda\u001b[0m\u001b[0;34m.\u001b[0m\u001b[0m_get_device\u001b[0m\u001b[0;34m(\u001b[0m\u001b[0mdevice\u001b[0m\u001b[0;34m)\u001b[0m\u001b[0;34m:\u001b[0m\u001b[0;34m\u001b[0m\u001b[0;34m\u001b[0m\u001b[0m\n\u001b[0m\u001b[1;32m    929\u001b[0m             \u001b[0msuper\u001b[0m\u001b[0;34m(\u001b[0m\u001b[0mChain\u001b[0m\u001b[0;34m,\u001b[0m \u001b[0mself\u001b[0m\u001b[0;34m)\u001b[0m\u001b[0;34m.\u001b[0m\u001b[0mto_gpu\u001b[0m\u001b[0;34m(\u001b[0m\u001b[0;34m)\u001b[0m\u001b[0;34m\u001b[0m\u001b[0;34m\u001b[0m\u001b[0m\n\u001b[1;32m    930\u001b[0m             \u001b[0md\u001b[0m \u001b[0;34m=\u001b[0m \u001b[0mself\u001b[0m\u001b[0;34m.\u001b[0m\u001b[0m__dict__\u001b[0m\u001b[0;34m\u001b[0m\u001b[0;34m\u001b[0m\u001b[0m\n",
      "\u001b[0;32m~/.pyenv/versions/miniconda3-4.3.30/lib/python3.6/site-packages/chainer/backends/cuda.py\u001b[0m in \u001b[0;36m_get_device\u001b[0;34m(*args)\u001b[0m\n\u001b[1;32m    230\u001b[0m     \u001b[0;32mfor\u001b[0m \u001b[0marg\u001b[0m \u001b[0;32min\u001b[0m \u001b[0margs\u001b[0m\u001b[0;34m:\u001b[0m\u001b[0;34m\u001b[0m\u001b[0;34m\u001b[0m\u001b[0m\n\u001b[1;32m    231\u001b[0m         \u001b[0;32mif\u001b[0m \u001b[0mtype\u001b[0m\u001b[0;34m(\u001b[0m\u001b[0marg\u001b[0m\u001b[0;34m)\u001b[0m \u001b[0;32mis\u001b[0m \u001b[0;32mnot\u001b[0m \u001b[0mbool\u001b[0m \u001b[0;32mand\u001b[0m \u001b[0misinstance\u001b[0m\u001b[0;34m(\u001b[0m\u001b[0marg\u001b[0m\u001b[0;34m,\u001b[0m \u001b[0m_integer_types\u001b[0m\u001b[0;34m)\u001b[0m\u001b[0;34m:\u001b[0m\u001b[0;34m\u001b[0m\u001b[0;34m\u001b[0m\u001b[0m\n\u001b[0;32m--> 232\u001b[0;31m             \u001b[0mcheck_cuda_available\u001b[0m\u001b[0;34m(\u001b[0m\u001b[0;34m)\u001b[0m\u001b[0;34m\u001b[0m\u001b[0;34m\u001b[0m\u001b[0m\n\u001b[0m\u001b[1;32m    233\u001b[0m             \u001b[0;32mreturn\u001b[0m \u001b[0mDevice\u001b[0m\u001b[0;34m(\u001b[0m\u001b[0marg\u001b[0m\u001b[0;34m)\u001b[0m\u001b[0;34m\u001b[0m\u001b[0;34m\u001b[0m\u001b[0m\n\u001b[1;32m    234\u001b[0m         \u001b[0;32mif\u001b[0m \u001b[0misinstance\u001b[0m\u001b[0;34m(\u001b[0m\u001b[0marg\u001b[0m\u001b[0;34m,\u001b[0m \u001b[0mndarray\u001b[0m\u001b[0;34m)\u001b[0m\u001b[0;34m:\u001b[0m\u001b[0;34m\u001b[0m\u001b[0;34m\u001b[0m\u001b[0m\n",
      "\u001b[0;32m~/.pyenv/versions/miniconda3-4.3.30/lib/python3.6/site-packages/chainer/backends/cuda.py\u001b[0m in \u001b[0;36mcheck_cuda_available\u001b[0;34m()\u001b[0m\n\u001b[1;32m     91\u001b[0m                '(see https://github.com/chainer/chainer#installation).')\n\u001b[1;32m     92\u001b[0m         \u001b[0mmsg\u001b[0m \u001b[0;34m+=\u001b[0m \u001b[0mstr\u001b[0m\u001b[0;34m(\u001b[0m\u001b[0m_resolution_error\u001b[0m\u001b[0;34m)\u001b[0m\u001b[0;34m\u001b[0m\u001b[0;34m\u001b[0m\u001b[0m\n\u001b[0;32m---> 93\u001b[0;31m         \u001b[0;32mraise\u001b[0m \u001b[0mRuntimeError\u001b[0m\u001b[0;34m(\u001b[0m\u001b[0mmsg\u001b[0m\u001b[0;34m)\u001b[0m\u001b[0;34m\u001b[0m\u001b[0;34m\u001b[0m\u001b[0m\n\u001b[0m\u001b[1;32m     94\u001b[0m     if (not cudnn_enabled and\n\u001b[1;32m     95\u001b[0m             \u001b[0;32mnot\u001b[0m \u001b[0m_cudnn_disabled_by_user\u001b[0m \u001b[0;32mand\u001b[0m\u001b[0;34m\u001b[0m\u001b[0;34m\u001b[0m\u001b[0m\n",
      "\u001b[0;31mRuntimeError\u001b[0m: CUDA environment is not correctly set up\n(see https://github.com/chainer/chainer#installation).No module named 'cupy'"
     ]
    }
   ],
   "source": [
    "# インスタンス化\n",
    "model = NN()\n",
    "\n",
    " # モデルをGPUへ転送\n",
    "model.to_gpu(gpu_id) "
   ]
  },
  {
   "cell_type": "code",
   "execution_count": 36,
   "metadata": {
    "colab": {
     "base_uri": "https://localhost:8080/",
     "height": 1817
    },
    "colab_type": "code",
    "id": "lwNeHo5wrSeV",
    "outputId": "c165ae01-ed5b-4e88-a4d3-2245c611dc03"
   },
   "outputs": [
    {
     "name": "stdout",
     "output_type": "stream",
     "text": [
      "1 iteration: loss (train) 637.5440, loss (valid) 695.3085\n",
      "2 iteration: loss (train) 436.9016, loss (valid) 635.3920\n",
      "3 iteration: loss (train) 372.0352, loss (valid) 617.4333\n",
      "4 iteration: loss (train) 303.2901, loss (valid) 427.1327\n",
      "5 iteration: loss (train) 145.9165, loss (valid) 327.9724\n",
      "6 iteration: loss (train) 121.6044, loss (valid) 191.0264\n",
      "7 iteration: loss (train) 28.8564, loss (valid) 153.4413\n",
      "8 iteration: loss (train) 28.0937, loss (valid) 92.0611\n",
      "9 iteration: loss (train) 29.0706, loss (valid) 137.1805\n",
      "10 iteration: loss (train) 23.1588, loss (valid) 115.5508\n",
      "11 iteration: loss (train) 32.2146, loss (valid) 68.9193\n",
      "12 iteration: loss (train) 21.7836, loss (valid) 72.7672\n",
      "13 iteration: loss (train) 20.1689, loss (valid) 34.2590\n",
      "14 iteration: loss (train) 34.0154, loss (valid) 59.1486\n",
      "15 iteration: loss (train) 27.3647, loss (valid) 37.9581\n",
      "16 iteration: loss (train) 20.9985, loss (valid) 36.2408\n",
      "17 iteration: loss (train) 26.5565, loss (valid) 24.0903\n",
      "18 iteration: loss (train) 12.5372, loss (valid) 34.9836\n",
      "19 iteration: loss (train) 11.7515, loss (valid) 36.6677\n",
      "20 iteration: loss (train) 11.7429, loss (valid) 21.2752\n",
      "21 iteration: loss (train) 20.6948, loss (valid) 21.2360\n",
      "22 iteration: loss (train) 12.6437, loss (valid) 15.9924\n",
      "23 iteration: loss (train) 25.6758, loss (valid) 17.9391\n",
      "24 iteration: loss (train) 26.5172, loss (valid) 12.0265\n",
      "25 iteration: loss (train) 20.3765, loss (valid) 13.6755\n",
      "26 iteration: loss (train) 8.0116, loss (valid) 12.0105\n",
      "27 iteration: loss (train) 17.2629, loss (valid) 28.4001\n",
      "28 iteration: loss (train) 32.0182, loss (valid) 10.3801\n",
      "29 iteration: loss (train) 24.7988, loss (valid) 15.7225\n",
      "30 iteration: loss (train) 14.4371, loss (valid) 11.6500\n",
      "31 iteration: loss (train) 16.2196, loss (valid) 25.2883\n",
      "32 iteration: loss (train) 28.1092, loss (valid) 11.9448\n",
      "33 iteration: loss (train) 14.8331, loss (valid) 17.9347\n",
      "34 iteration: loss (train) 24.4598, loss (valid) 9.1063\n",
      "35 iteration: loss (train) 15.7620, loss (valid) 13.8687\n",
      "36 iteration: loss (train) 7.9287, loss (valid) 9.3593\n",
      "37 iteration: loss (train) 23.6248, loss (valid) 15.3273\n",
      "38 iteration: loss (train) 23.8635, loss (valid) 13.6131\n",
      "39 iteration: loss (train) 21.5575, loss (valid) 16.2244\n",
      "40 iteration: loss (train) 12.0247, loss (valid) 10.5746\n",
      "41 iteration: loss (train) 23.4190, loss (valid) 14.2237\n",
      "42 iteration: loss (train) 11.0457, loss (valid) 9.4419\n",
      "43 iteration: loss (train) 25.5719, loss (valid) 17.8205\n",
      "44 iteration: loss (train) 20.5238, loss (valid) 10.1655\n",
      "45 iteration: loss (train) 9.5822, loss (valid) 14.5737\n",
      "46 iteration: loss (train) 20.6891, loss (valid) 9.7617\n",
      "47 iteration: loss (train) 14.0643, loss (valid) 15.6616\n",
      "48 iteration: loss (train) 23.1108, loss (valid) 10.1904\n",
      "49 iteration: loss (train) 17.7121, loss (valid) 18.0715\n",
      "50 iteration: loss (train) 28.8566, loss (valid) 9.8940\n",
      "51 iteration: loss (train) 13.9980, loss (valid) 15.5416\n",
      "52 iteration: loss (train) 16.6383, loss (valid) 14.3001\n",
      "53 iteration: loss (train) 6.8569, loss (valid) 18.4022\n",
      "54 iteration: loss (train) 34.7705, loss (valid) 12.2629\n",
      "55 iteration: loss (train) 12.4358, loss (valid) 14.5165\n",
      "56 iteration: loss (train) 21.0483, loss (valid) 10.2913\n",
      "57 iteration: loss (train) 20.4539, loss (valid) 16.7501\n",
      "58 iteration: loss (train) 23.8708, loss (valid) 11.2391\n",
      "59 iteration: loss (train) 24.6167, loss (valid) 19.4843\n",
      "60 iteration: loss (train) 19.5777, loss (valid) 14.8172\n",
      "61 iteration: loss (train) 22.7337, loss (valid) 17.6416\n",
      "62 iteration: loss (train) 17.3461, loss (valid) 10.5331\n",
      "63 iteration: loss (train) 11.2649, loss (valid) 16.8174\n",
      "64 iteration: loss (train) 18.1265, loss (valid) 11.9086\n",
      "65 iteration: loss (train) 12.5034, loss (valid) 17.5278\n",
      "66 iteration: loss (train) 35.2127, loss (valid) 10.3295\n",
      "67 iteration: loss (train) 25.3856, loss (valid) 20.6318\n",
      "68 iteration: loss (train) 9.9817, loss (valid) 14.2695\n",
      "69 iteration: loss (train) 28.5950, loss (valid) 19.9004\n",
      "70 iteration: loss (train) 9.4272, loss (valid) 11.1451\n",
      "71 iteration: loss (train) 28.7462, loss (valid) 15.5873\n",
      "72 iteration: loss (train) 11.0764, loss (valid) 9.0163\n",
      "73 iteration: loss (train) 24.1514, loss (valid) 15.2933\n",
      "74 iteration: loss (train) 12.7492, loss (valid) 12.3077\n",
      "75 iteration: loss (train) 25.1579, loss (valid) 15.7490\n",
      "76 iteration: loss (train) 10.5781, loss (valid) 9.8233\n",
      "77 iteration: loss (train) 19.9974, loss (valid) 15.2117\n",
      "78 iteration: loss (train) 17.6268, loss (valid) 10.2455\n",
      "79 iteration: loss (train) 18.7877, loss (valid) 16.3504\n",
      "80 iteration: loss (train) 21.8923, loss (valid) 11.2690\n",
      "81 iteration: loss (train) 8.8081, loss (valid) 14.6421\n",
      "82 iteration: loss (train) 29.3277, loss (valid) 12.9860\n",
      "83 iteration: loss (train) 9.2325, loss (valid) 25.4988\n",
      "84 iteration: loss (train) 17.2142, loss (valid) 10.1281\n",
      "85 iteration: loss (train) 10.3209, loss (valid) 15.1574\n",
      "86 iteration: loss (train) 11.3831, loss (valid) 11.0196\n",
      "87 iteration: loss (train) 25.1012, loss (valid) 15.0509\n",
      "88 iteration: loss (train) 20.0024, loss (valid) 11.0191\n",
      "89 iteration: loss (train) 10.8056, loss (valid) 14.6956\n",
      "90 iteration: loss (train) 20.9757, loss (valid) 10.2837\n",
      "91 iteration: loss (train) 10.5155, loss (valid) 15.2551\n",
      "92 iteration: loss (train) 9.7484, loss (valid) 11.0071\n",
      "93 iteration: loss (train) 22.4137, loss (valid) 20.8886\n",
      "94 iteration: loss (train) 22.1184, loss (valid) 11.9801\n",
      "95 iteration: loss (train) 18.7031, loss (valid) 19.1374\n",
      "96 iteration: loss (train) 20.5869, loss (valid) 12.1076\n",
      "97 iteration: loss (train) 9.8092, loss (valid) 13.7760\n",
      "98 iteration: loss (train) 7.6222, loss (valid) 9.9997\n",
      "99 iteration: loss (train) 25.3236, loss (valid) 15.4913\n",
      "100 iteration: loss (train) 16.9044, loss (valid) 12.7594\n"
     ]
    }
   ],
   "source": [
    "# 定数の定義\n",
    "n_batch = 64  # バッチサイズ\n",
    "n_epoch = 50  # エポック数\n",
    "\n",
    "# optimizer の定義と model と紐付け\n",
    "optimizer = chainer.optimizers.SGD()\n",
    "optimizer.setup(model)\n",
    "\n",
    "# 可視化用のリスト\n",
    "results_train, results_valid = {}, {}\n",
    "results_train['loss'], results_train['r2_score'] = [], []\n",
    "results_valid['loss'], results_valid['r2_score'] = [], []\n",
    "\n",
    "# iterator の定義\n",
    "train_iter = chainer.iterators.SerialIterator(train, n_batch)\n",
    "valid_iter = chainer.iterators.SerialIterator(valid, n_batch, repeat=False, shuffle=False)\n",
    "\n",
    "count = 1\n",
    "\n",
    "for epoch in range(n_epoch):\n",
    "    \n",
    "    while True:\n",
    "        \n",
    "        # ミニバッチの取得\n",
    "        train_batch = train_iter.next()\n",
    "        valid_batch = valid_iter.next()\n",
    "        \n",
    "        # x と t の分割 <- gpu_id を引数へ追加し、GPU の使用を宣言\n",
    "        x_train, t_train = chainer.dataset.concat_examples(train_batch, gpu_id)\n",
    "        x_valid, t_valid = chainer.dataset.concat_examples(valid_batch, gpu_id)\n",
    "\n",
    "        # 予測値と目的関数の計算\n",
    "        y_train = model(x_train)\n",
    "        loss_train = F.mean_squared_error(y_train, t_train)\n",
    "        r2_score_train = F.r2_score(y_train, t_train)\n",
    "\n",
    "        # 勾配の初期化と勾配の計算\n",
    "        model.cleargrads()\n",
    "        loss_train.backward()\n",
    "\n",
    "        # パラメータの更新\n",
    "        optimizer.update()\n",
    "    \n",
    "        # 検証用データに対する結果の確認\n",
    "        with chainer.using_config('train', False), chainer.using_config('enable_backprop', False):\n",
    "            y_valid = model(x_valid)\n",
    "            loss_valid = F.mean_squared_error(y_valid, t_valid)\n",
    "            r2_score_valid = F.r2_score(y_valid, t_valid)\n",
    "            \n",
    "        # 注意：GPU で計算するときは値はGPU上に存在し、print などでも表示できません\n",
    "        # そのため、GPU 以外で使用する場合には .to_cpu() メソッドを使って、CPU 上にデータ転送\n",
    "        loss_train.to_cpu()\n",
    "        loss_valid.to_cpu()\n",
    "        r2_score_train.to_cpu()\n",
    "        r2_score_valid.to_cpu()\n",
    "\n",
    "        # 結果の表示\n",
    "        print('{} iteration: loss (train) {:.4f}, loss (valid) {:.4f}'.format(count, loss_train.array, loss_valid.array))\n",
    "\n",
    "        # 可視化用に保存\n",
    "        results_train['loss'] .append(loss_train.array)\n",
    "        results_train['r2_score'] .append(r2_score_train.array)\n",
    "        results_valid['loss'].append(loss_valid.array)\n",
    "        results_valid['r2_score'].append(r2_score_valid.array)\n",
    "\n",
    "        # カウントアップ\n",
    "        count += 1\n",
    "\n",
    "        # 1エポック終えると、valid_iter をリセットしてループを抜ける\n",
    "        if valid_iter.is_new_epoch:\n",
    "            valid_iter.reset()\n",
    "            break"
   ]
  },
  {
   "cell_type": "markdown",
   "metadata": {
    "colab_type": "text",
    "id": "NkhIjYsJP5to"
   },
   "source": [
    "学習が終わったので、CPUで実行したときと同様に損失と決定係数がイテレーション毎にどのように変化しているかを確認してみます。"
   ]
  },
  {
   "cell_type": "code",
   "execution_count": 37,
   "metadata": {
    "colab": {
     "base_uri": "https://localhost:8080/",
     "height": 283
    },
    "colab_type": "code",
    "id": "Tsg_0OFku_Wh",
    "outputId": "445657a7-c8b4-450c-a2e3-ab76ff4a511c"
   },
   "outputs": [
    {
     "data": {
      "text/plain": [
       "<matplotlib.legend.Legend at 0x7f7ec9328ef0>"
      ]
     },
     "execution_count": 37,
     "metadata": {
      "tags": []
     },
     "output_type": "execute_result"
    },
    {
     "data": {
      "image/png": "[encoded data removed]",
      "text/plain": [
       "<Figure size 432x288 with 1 Axes>"
      ]
     },
     "metadata": {
      "tags": []
     },
     "output_type": "display_data"
    }
   ],
   "source": [
    "# 損失 (loss)\n",
    "# 横軸はエポックではなく、イテレーション\n",
    "plt.plot(results_train['loss'], label='train')  # label で凡例の設定\n",
    "plt.plot(results_valid['loss'], label='valid')  # label で凡例の設定\n",
    "plt.legend()  # 凡例の表示"
   ]
  },
  {
   "cell_type": "code",
   "execution_count": 38,
   "metadata": {
    "colab": {
     "base_uri": "https://localhost:8080/",
     "height": 283
    },
    "colab_type": "code",
    "id": "3QyxQ1yBrSef",
    "outputId": "4bfd832a-325d-4379-b6f8-f5e1da755813"
   },
   "outputs": [
    {
     "data": {
      "text/plain": [
       "<matplotlib.legend.Legend at 0x7f7ec6e91e80>"
      ]
     },
     "execution_count": 38,
     "metadata": {
      "tags": []
     },
     "output_type": "execute_result"
    },
    {
     "data": {
      "image/png": "[encoded data removed]",
      "text/plain": [
       "<Figure size 432x288 with 1 Axes>"
      ]
     },
     "metadata": {
      "tags": []
     },
     "output_type": "display_data"
    }
   ],
   "source": [
    "# 決定係数 (r2_score)\n",
    "# 横軸はエポックではなく、イテレーション\n",
    "plt.plot(results_train['r2_score'], label='train')  # label で凡例の設定\n",
    "plt.plot(results_valid['r2_score'], label='valid')  # label で凡例の設定\n",
    "plt.legend()  # 凡例の表示"
   ]
  },
  {
   "cell_type": "markdown",
   "metadata": {
    "colab_type": "text",
    "id": "YK3wBWVptjzx"
   },
   "source": [
    "上記の学習ループの中でもコメントで説明を行っていますが、モデルもデータも GPU 上で配置した上で計算しており、`print()` などの関数を使用する場合には CPU 上へ転送する必要があります。\n",
    "この CPU への転送には `to_cpu()` メソッドが便利です。\n",
    "\n",
    "最後にGPUで学習したモデルをテストデータで評価します。\n",
    "テストデータの推論もGPUで行うことは可能ですが、今回はCPUで推論します。"
   ]
  },
  {
   "cell_type": "code",
   "execution_count": 39,
   "metadata": {
    "colab": {
     "base_uri": "https://localhost:8080/",
     "height": 35
    },
    "colab_type": "code",
    "id": "iWAyjVD8t77Y",
    "outputId": "68753623-df8b-4f7d-dafa-f1072a1a5688"
   },
   "outputs": [
    {
     "data": {
      "text/plain": [
       "<__main__.NN at 0x7f7ec936e400>"
      ]
     },
     "execution_count": 39,
     "metadata": {
      "tags": []
     },
     "output_type": "execute_result"
    }
   ],
   "source": [
    "# モデルをCPUに転送\n",
    "model.to_cpu()"
   ]
  },
  {
   "cell_type": "code",
   "execution_count": 0,
   "metadata": {
    "colab": {},
    "colab_type": "code",
    "id": "eXZj-B4srSei"
   },
   "outputs": [],
   "source": [
    "# テストデータに対する損失と決定件数を計算\n",
    "x_test, t_test = chainer.dataset.concat_examples(test)\n",
    "with chainer.using_config('train', False), chainer.using_config('enable_backprop', False):\n",
    "    y_test = model(x_test)\n",
    "    loss_test = F.mean_squared_error(y_test, t_test)\n",
    "    r2_score_test = F.r2_score(y_test, t_test)"
   ]
  },
  {
   "cell_type": "code",
   "execution_count": 41,
   "metadata": {
    "colab": {
     "base_uri": "https://localhost:8080/",
     "height": 35
    },
    "colab_type": "code",
    "id": "Z05Z1Ec0rSek",
    "outputId": "6c6a7a3e-3fbb-4163-b82b-7f6e6c67e1b1",
    "scrolled": true
   },
   "outputs": [
    {
     "data": {
      "text/plain": [
       "variable(23.610655)"
      ]
     },
     "execution_count": 41,
     "metadata": {
      "tags": []
     },
     "output_type": "execute_result"
    }
   ],
   "source": [
    "loss_test"
   ]
  },
  {
   "cell_type": "code",
   "execution_count": 42,
   "metadata": {
    "colab": {
     "base_uri": "https://localhost:8080/",
     "height": 35
    },
    "colab_type": "code",
    "id": "dNwm9rJ4rSep",
    "outputId": "c7cbad56-53b4-430f-de27-37d4fd3a9a0b",
    "scrolled": true
   },
   "outputs": [
    {
     "data": {
      "text/plain": [
       "variable(0.76144856)"
      ]
     },
     "execution_count": 42,
     "metadata": {
      "tags": []
     },
     "output_type": "execute_result"
    }
   ],
   "source": [
    "r2_score_test"
   ]
  },
  {
   "cell_type": "markdown",
   "metadata": {
    "colab_type": "text",
    "id": "sPmM0MH-r62g"
   },
   "source": [
    "NumPy と CuPy の乱数に違いがあるため、全く同じ結果とはなりませんが、近しい結果を得ることができました。\n",
    "データセットの規模が大きくなってくると、GPU を用いるほうがはるかに高速に計算することができるため、この一連の手順を覚えておきましょう。"
   ]
  }
 ],
 "metadata": {
  "accelerator": "GPU",
  "colab": {
   "collapsed_sections": [],
   "name": "11_Regression_with_Neural_Networks_ja.ipynb",
   "provenance": [],
   "version": "0.3.2"
  },
  "kernelspec": {
   "display_name": "Python 3",
   "language": "python",
   "name": "python3"
  },
  "language_info": {
   "codemirror_mode": {
    "name": "ipython",
    "version": 3
   },
   "file_extension": ".py",
   "mimetype": "text/x-python",
   "name": "python",
   "nbconvert_exporter": "python",
   "pygments_lexer": "ipython3",
   "version": "3.6.8"
  },
  "toc": {
   "base_numbering": 1,
   "nav_menu": {},
   "number_sections": true,
   "sideBar": true,
   "skip_h1_title": false,
   "title_cell": "Table of Contents",
   "title_sidebar": "Contents",
   "toc_cell": false,
   "toc_position": {},
   "toc_section_display": true,
   "toc_window_display": false
  }
 },
 "nbformat": 4,
 "nbformat_minor": 1
}
