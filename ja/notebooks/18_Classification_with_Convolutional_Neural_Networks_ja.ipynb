{
    "cells": [
        {
            "cell_type": "markdown",
            "metadata": {
                "colab_type": "text",
                "id": "yISQXbEi6BV1"
            },
            "source": [
                "# CNNの実装、GPUでの計算\n",
                "\n",
                "この章では、前章で学んだCNNの構造を踏まえて、Chainerを用いたCNNの実装方法やGPUでの計算方法について学んでいきます。\n"
            ]
        },
        {
            "cell_type": "markdown",
            "metadata": {
                "colab_type": "text",
                "id": "P25rH5ch6BV_"
            },
            "source": [
                "\n",
                "\n",
                "\n",
                "## 問題設定\n",
                "\n",
                "CNNの中身を理解したところで早速、実装に移っていきます。\n",
                "それでは、サンプルとして有名である`MNIST`という0～9までの10種類の手書き数字の認識を行ってみます。"
            ]
        },
        {
            "cell_type": "code",
            "execution_count": 1,
            "metadata": {
                "colab": {},
                "colab_type": "code",
                "id": "0GUsGIrz6BWC"
            },
            "outputs": [],
            "source": [
                "import numpy as np\n",
                "import pandas as pd\n",
                "import matplotlib.pyplot as plt"
            ]
        },
        {
            "cell_type": "markdown",
            "metadata": {
                "colab_type": "text",
                "id": "q1R8bf3d6BWO"
            },
            "source": [
                "## データセットの読み込み\n",
                "\n",
                "`MNIST`に関してはchainerが用意しているため`get_mnist`をインポートし、データセットを読み込みます。"
            ]
        },
        {
            "cell_type": "code",
            "execution_count": 2,
            "metadata": {
                "colab": {},
                "colab_type": "code",
                "id": "lTdr5Ap-6BWP"
            },
            "outputs": [],
            "source": [
                "from chainer.datasets import get_mnist"
            ]
        },
        {
            "cell_type": "markdown",
            "metadata": {
                "colab_type": "text",
                "id": "EC7gLcfp6BWY"
            },
            "source": [
                "`ndim=3` と引数を指定することで、CNNに適した形式でデータセットを取得することができます。"
            ]
        },
        {
            "cell_type": "code",
            "execution_count": 3,
            "metadata": {
                "colab": {
                    "base_uri": "https://localhost:8080/",
                    "height": 85
                },
                "colab_type": "code",
                "executionInfo": {
                    "elapsed": 86264,
                    "status": "ok",
                    "timestamp": 1547044312054,
                    "user": {
                        "displayName": "今西航平",
                        "photoUrl": "",
                        "userId": "07749145107279807976"
                    },
                    "user_tz": -540
                },
                "id": "kfvlcNlS6BWj",
                "outputId": "43b9f5a4-d1bf-46bc-bdef-e9a0f9bd2307"
            },
            "outputs": [
                {
                    "name": "stderr",
                    "output_type": "stream",
                    "text": [
                        "Downloading from http://yann.lecun.com/exdb/mnist/train-images-idx3-ubyte.gz...\n",
                        "Downloading from http://yann.lecun.com/exdb/mnist/train-labels-idx1-ubyte.gz...\n",
                        "Downloading from http://yann.lecun.com/exdb/mnist/t10k-images-idx3-ubyte.gz...\n",
                        "Downloading from http://yann.lecun.com/exdb/mnist/t10k-labels-idx1-ubyte.gz...\n"
                    ]
                }
            ],
            "source": [
                "train_val, test = get_mnist(ndim=3)"
            ]
        },
        {
            "cell_type": "markdown",
            "metadata": {
                "colab_type": "text",
                "id": "Hnejf7De6BW2"
            },
            "source": [
                "サンプルとしてはデータセットの準備が不要で、CNNのモデル構築の練習になります。\n",
                "しかし、最終的に自作のデータセットに対して適用していくことを考えると、どのようなデータセットの形式であればよいかわからないのはまずいことです。\n",
                "そのため、データセットの形式をまず確認しておきます。"
            ]
        },
        {
            "cell_type": "code",
            "execution_count": 4,
            "metadata": {
                "colab": {
                    "base_uri": "https://localhost:8080/",
                    "height": 34
                },
                "colab_type": "code",
                "executionInfo": {
                    "elapsed": 81923,
                    "status": "ok",
                    "timestamp": 1547044312055,
                    "user": {
                        "displayName": "今西航平",
                        "photoUrl": "",
                        "userId": "07749145107279807976"
                    },
                    "user_tz": -540
                },
                "id": "9E3wTOEY6BW5",
                "outputId": "af19ef66-b9fa-4093-e3f6-875aa53953b1"
            },
            "outputs": [
                {
                    "data": {
                        "text/plain": [
                            "<chainer.datasets.tuple_dataset.TupleDataset at 0x7f34a5ede470>"
                        ]
                    },
                    "execution_count": 4,
                    "metadata": {
                        "tags": []
                    },
                    "output_type": "execute_result"
                }
            ],
            "source": [
                "train_val"
            ]
        },
        {
            "cell_type": "code",
            "execution_count": 5,
            "metadata": {
                "colab": {
                    "base_uri": "https://localhost:8080/",
                    "height": 34
                },
                "colab_type": "code",
                "executionInfo": {
                    "elapsed": 12474,
                    "status": "ok",
                    "timestamp": 1547044331846,
                    "user": {
                        "displayName": "今西航平",
                        "photoUrl": "",
                        "userId": "07749145107279807976"
                    },
                    "user_tz": -540
                },
                "id": "Yj4So5e66BXC",
                "outputId": "ebee7daf-5b43-4a7e-ef59-107a839f9226"
            },
            "outputs": [
                {
                    "data": {
                        "text/plain": [
                            "60000"
                        ]
                    },
                    "execution_count": 6,
                    "metadata": {
                        "tags": []
                    },
                    "output_type": "execute_result"
                }
            ],
            "source": [
                "len(train_val)"
            ]
        },
        {
            "cell_type": "code",
            "execution_count": 6,
            "metadata": {
                "colab": {
                    "base_uri": "https://localhost:8080/",
                    "height": 34
                },
                "colab_type": "code",
                "executionInfo": {
                    "elapsed": 11678,
                    "status": "ok",
                    "timestamp": 1547044331847,
                    "user": {
                        "displayName": "今西航平",
                        "photoUrl": "",
                        "userId": "07749145107279807976"
                    },
                    "user_tz": -540
                },
                "id": "OiDSvzbe6BXL",
                "outputId": "e9d0cb2e-da42-46e1-cbba-8ca959aacef7"
            },
            "outputs": [
                {
                    "data": {
                        "text/plain": [
                            "<chainer.datasets.tuple_dataset.TupleDataset at 0x7f345fa35fd0>"
                        ]
                    },
                    "execution_count": 7,
                    "metadata": {
                        "tags": []
                    },
                    "output_type": "execute_result"
                }
            ],
            "source": [
                "test"
            ]
        },
        {
            "cell_type": "code",
            "execution_count": 7,
            "metadata": {
                "colab": {
                    "base_uri": "https://localhost:8080/",
                    "height": 34
                },
                "colab_type": "code",
                "executionInfo": {
                    "elapsed": 11154,
                    "status": "ok",
                    "timestamp": 1547044331848,
                    "user": {
                        "displayName": "今西航平",
                        "photoUrl": "",
                        "userId": "07749145107279807976"
                    },
                    "user_tz": -540
                },
                "id": "5d7q661e6BXW",
                "outputId": "beeb07d5-931b-4087-b42b-84bfa7235ed2"
            },
            "outputs": [
                {
                    "data": {
                        "text/plain": [
                            "10000"
                        ]
                    },
                    "execution_count": 8,
                    "metadata": {
                        "tags": []
                    },
                    "output_type": "execute_result"
                }
            ],
            "source": [
                "len(test)"
            ]
        },
        {
            "cell_type": "code",
            "execution_count": 8,
            "metadata": {
                "colab": {},
                "colab_type": "code",
                "id": "xUT_fTPRCEEC"
            },
            "outputs": [],
            "source": [
                "from chainer.datasets import split_dataset_random\n",
                "\n",
                "train, valid = split_dataset_random(train_val, 50000, seed=0)"
            ]
        },
        {
            "cell_type": "markdown",
            "metadata": {
                "colab_type": "text",
                "id": "f5rEaHP96BXg"
            },
            "source": [
                "\n",
                "変数名を打って確認してみますが、どのような形式かわかりません。\n",
                "\n",
                "このchainerのデータセット形式はリストのような形式になっており、各サンプルに`（画像、ラベル）`のようにタプル形式で格納されています。\n",
                "\n",
                "- train[0]: １サンプル目の(画像、ラベル)が格納\n",
                "- train[0][0]: １サンプル目の画像（float32）\n",
                "- train[0][1]: １サンプル目のラベル（int32）\n",
                "\n",
                "\n",
                "サイズ等を確認します。"
            ]
        },
        {
            "cell_type": "code",
            "execution_count": 9,
            "metadata": {
                "colab": {
                    "base_uri": "https://localhost:8080/",
                    "height": 34
                },
                "colab_type": "code",
                "executionInfo": {
                    "elapsed": 1429,
                    "status": "ok",
                    "timestamp": 1547044513146,
                    "user": {
                        "displayName": "今西航平",
                        "photoUrl": "",
                        "userId": "07749145107279807976"
                    },
                    "user_tz": -540
                },
                "id": "Kimx3JeL6BXk",
                "outputId": "4052dfd5-c222-463a-b00b-6927f9e886de"
            },
            "outputs": [
                {
                    "data": {
                        "text/plain": [
                            "numpy.ndarray"
                        ]
                    },
                    "execution_count": 22,
                    "metadata": {
                        "tags": []
                    },
                    "output_type": "execute_result"
                }
            ],
            "source": [
                "type(train[0][0])"
            ]
        },
        {
            "cell_type": "code",
            "execution_count": 10,
            "metadata": {
                "colab": {
                    "base_uri": "https://localhost:8080/",
                    "height": 34
                },
                "colab_type": "code",
                "executionInfo": {
                    "elapsed": 1031,
                    "status": "ok",
                    "timestamp": 1547044515625,
                    "user": {
                        "displayName": "今西航平",
                        "photoUrl": "",
                        "userId": "07749145107279807976"
                    },
                    "user_tz": -540
                },
                "id": "3pVGITzO6BXu",
                "outputId": "d2ba8744-0eb0-4e6d-c107-b266563b3fe5"
            },
            "outputs": [
                {
                    "data": {
                        "text/plain": [
                            "(1, 28, 28)"
                        ]
                    },
                    "execution_count": 23,
                    "metadata": {
                        "tags": []
                    },
                    "output_type": "execute_result"
                }
            ],
            "source": [
                "train[0][0].shape  # 後述"
            ]
        },
        {
            "cell_type": "markdown",
            "metadata": {
                "colab_type": "text",
                "id": "uyGQtMQo6BXz"
            },
            "source": [
                "28×28のサイズ、1チャンネルで入っていることが確認できました。"
            ]
        },
        {
            "cell_type": "code",
            "execution_count": 11,
            "metadata": {
                "colab": {
                    "base_uri": "https://localhost:8080/",
                    "height": 34
                },
                "colab_type": "code",
                "executionInfo": {
                    "elapsed": 862,
                    "status": "ok",
                    "timestamp": 1547044523019,
                    "user": {
                        "displayName": "今西航平",
                        "photoUrl": "",
                        "userId": "07749145107279807976"
                    },
                    "user_tz": -540
                },
                "id": "-MubNu-26BX0",
                "outputId": "9d302b35-efbb-4b48-8bf6-6692dadc92ac"
            },
            "outputs": [
                {
                    "data": {
                        "text/plain": [
                            "dtype('float32')"
                        ]
                    },
                    "execution_count": 24,
                    "metadata": {
                        "tags": []
                    },
                    "output_type": "execute_result"
                }
            ],
            "source": [
                "train[0][0].dtype"
            ]
        },
        {
            "cell_type": "code",
            "execution_count": 12,
            "metadata": {
                "colab": {
                    "base_uri": "https://localhost:8080/",
                    "height": 34
                },
                "colab_type": "code",
                "executionInfo": {
                    "elapsed": 961,
                    "status": "ok",
                    "timestamp": 1547044526730,
                    "user": {
                        "displayName": "今西航平",
                        "photoUrl": "",
                        "userId": "07749145107279807976"
                    },
                    "user_tz": -540
                },
                "id": "kHoLcw-16BX7",
                "outputId": "25d1ac03-2979-4736-d093-899006e27c45"
            },
            "outputs": [
                {
                    "data": {
                        "text/plain": [
                            "numpy.int32"
                        ]
                    },
                    "execution_count": 25,
                    "metadata": {
                        "tags": []
                    },
                    "output_type": "execute_result"
                }
            ],
            "source": [
                "type(train[0][1])"
            ]
        },
        {
            "cell_type": "markdown",
            "metadata": {
                "colab_type": "text",
                "id": "_iRE8j8f6BX-"
            },
            "source": [
                "しっかりと32bitのnumpy形式で格納されていることも確認できました。"
            ]
        },
        {
            "cell_type": "code",
            "execution_count": 13,
            "metadata": {
                "colab": {
                    "base_uri": "https://localhost:8080/",
                    "height": 34
                },
                "colab_type": "code",
                "executionInfo": {
                    "elapsed": 885,
                    "status": "ok",
                    "timestamp": 1547044532348,
                    "user": {
                        "displayName": "今西航平",
                        "photoUrl": "",
                        "userId": "07749145107279807976"
                    },
                    "user_tz": -540
                },
                "id": "bymvoSSu6BYA",
                "outputId": "75a2c60c-1ac8-43f8-9c68-ce065f4ebf74"
            },
            "outputs": [
                {
                    "data": {
                        "text/plain": [
                            "()"
                        ]
                    },
                    "execution_count": 26,
                    "metadata": {
                        "tags": []
                    },
                    "output_type": "execute_result"
                }
            ],
            "source": [
                "train[0][1].shape"
            ]
        },
        {
            "cell_type": "code",
            "execution_count": 14,
            "metadata": {
                "colab": {
                    "base_uri": "https://localhost:8080/",
                    "height": 34
                },
                "colab_type": "code",
                "executionInfo": {
                    "elapsed": 868,
                    "status": "ok",
                    "timestamp": 1547044535267,
                    "user": {
                        "displayName": "今西航平",
                        "photoUrl": "",
                        "userId": "07749145107279807976"
                    },
                    "user_tz": -540
                },
                "id": "t1-MyCkb6BYG",
                "outputId": "04aa8b1f-f5f1-4248-c336-e798685c755d"
            },
            "outputs": [
                {
                    "data": {
                        "text/plain": [
                            "dtype('int32')"
                        ]
                    },
                    "execution_count": 27,
                    "metadata": {
                        "tags": []
                    },
                    "output_type": "execute_result"
                }
            ],
            "source": [
                "train[0][1].dtype"
            ]
        },
        {
            "cell_type": "markdown",
            "metadata": {
                "colab_type": "text",
                "id": "4KgVxgiq6BYO"
            },
            "source": [
                "ここでわかることとして、画像が(height, width, channel)の順ではなく、(channel, height, width)の順に格納されていることです。\n",
                "\n",
                "CNNで扱う際には、この順に並べておかないといけないため、覚えておいてください。  \n",
                "画像を表示させる際には、(height, width, channel)の順に戻しておく必要があるため、`transpose`を使用して順番を入れ替え、試しに１枚目をプロットしてみます。"
            ]
        },
        {
            "cell_type": "code",
            "execution_count": 15,
            "metadata": {
                "colab": {},
                "colab_type": "code",
                "id": "jOBAnLY76BYP"
            },
            "outputs": [],
            "source": [
                "# (channel:0 , height:1, width:2) -> (height:1, width:2, channel:0)\n",
                "img = np.transpose(train[0][0], (1, 2, 0))"
            ]
        },
        {
            "cell_type": "code",
            "execution_count": 16,
            "metadata": {
                "colab": {
                    "base_uri": "https://localhost:8080/",
                    "height": 34
                },
                "colab_type": "code",
                "executionInfo": {
                    "elapsed": 876,
                    "status": "ok",
                    "timestamp": 1547044542271,
                    "user": {
                        "displayName": "今西航平",
                        "photoUrl": "",
                        "userId": "07749145107279807976"
                    },
                    "user_tz": -540
                },
                "id": "KpUnZOoV6BYS",
                "outputId": "c8c5a68f-438e-4c19-fb71-fc6e0a9b6c06"
            },
            "outputs": [
                {
                    "data": {
                        "text/plain": [
                            "(28, 28, 1)"
                        ]
                    },
                    "execution_count": 29,
                    "metadata": {
                        "tags": []
                    },
                    "output_type": "execute_result"
                }
            ],
            "source": [
                "img.shape"
            ]
        },
        {
            "cell_type": "markdown",
            "metadata": {
                "colab_type": "text",
                "id": "_BxDVAzs6BYX"
            },
            "source": [
                "グレースケールでは最後の (.., .. ,1)の部分が邪魔になってエラーとなってしまうため、この部分をうまく取り除きます。"
            ]
        },
        {
            "cell_type": "code",
            "execution_count": 17,
            "metadata": {
                "colab": {
                    "base_uri": "https://localhost:8080/",
                    "height": 364
                },
                "colab_type": "code",
                "executionInfo": {
                    "elapsed": 986,
                    "status": "ok",
                    "timestamp": 1547044545376,
                    "user": {
                        "displayName": "今西航平",
                        "photoUrl": "",
                        "userId": "07749145107279807976"
                    },
                    "user_tz": -540
                },
                "id": "npeO-6mp6BYY",
                "outputId": "8f83a19b-f8f7-4895-adee-71e2761afef5"
            },
            "outputs": [
                {
                    "data": {
                        "text/plain": [
                            "<matplotlib.image.AxesImage at 0x7f345cba3828>"
                        ]
                    },
                    "execution_count": 30,
                    "metadata": {
                        "tags": []
                    },
                    "output_type": "execute_result"
                },
                {
                    "data": {
                        "image/png": "[encoded data removed]",
                        "text/plain": [
                            "<matplotlib.figure.Figure at 0x7f345f4535f8>"
                        ]
                    },
                    "metadata": {
                        "tags": []
                    },
                    "output_type": "display_data"
                }
            ],
            "source": [
                "plt.gray()\n",
                "plt.imshow(img.reshape(28, 28))"
            ]
        },
        {
            "cell_type": "markdown",
            "metadata": {
                "colab_type": "text",
                "id": "jz8GERrr6BYc"
            },
            "source": [
                "こちらのように手書き文字の3がデータとして格納されていることがわかりました。  \n",
                "データセットの形式を確認しながら試行錯誤する癖をつけておくようにしてください。"
            ]
        },
        {
            "cell_type": "markdown",
            "metadata": {
                "colab_type": "text",
                "id": "riAdXIQ06BYc"
            },
            "source": [
                "## CNNモデルの定義\n",
                "\n",
                "それでは、画像処理で近年では定番となっているConvolutional Neural Network（CNN）の実装を行っていきます。  \n",
                "まずは、chainerでよく使用するモジュールを読み込みます。"
            ]
        },
        {
            "cell_type": "code",
            "execution_count": 18,
            "metadata": {
                "colab": {},
                "colab_type": "code",
                "id": "Ev_rE7ZQ6BYd"
            },
            "outputs": [],
            "source": [
                "import chainer\n",
                "import chainer.links as L\n",
                "import chainer.functions as F"
            ]
        },
        {
            "cell_type": "markdown",
            "metadata": {
                "colab_type": "text",
                "id": "duo2eO-y6BYg"
            },
            "source": [
                "class内を定義していきます。今回は以下のような構造のCNNを作成します。\n",
                "\n",
                "![CNNの構造](images/11/01.png)\n"
            ]
        },
        {
            "cell_type": "code",
            "execution_count": 19,
            "metadata": {
                "colab": {},
                "colab_type": "code",
                "id": "-f-kSbjY6BYg"
            },
            "outputs": [],
            "source": [
                "class CNN(chainer.Chain):\n",
                "    \n",
                "    def __init__(self, n_mid=100, n_out=10):\n",
                "        super().__init__()\n",
                "        with self.init_scope():\n",
                "            self.conv1 = L.Convolution2D(in_channels=1, out_channels=3, ksize=3, stride=1, pad=1)\n",
                "            self.fc1 = L.Linear(None, n_mid)\n",
                "            self.fc2 = L.Linear(None, n_out)\n",
                "\n",
                "    def __call__(self, x):\n",
                "        h = F.relu(self.conv1(x))\n",
                "        h = F.max_pooling_2d(h, 3, 3)\n",
                "        h = self.fc1(h)\n",
                "        h = self.fc2(h)\n",
                "        return h"
            ]
        },
        {
            "cell_type": "markdown",
            "metadata": {},
            "source": [
                "### CNNのネットワークの中身\n",
                "\n",
                "#### init関数内\n",
                "\n",
                "畳み込みの計算には`chainer.links.Convolution2D`を使用します。  \n",
                "引数には前章で紹介した構成要素が入っていることが確認できます。  \n",
                "\n",
                "`in_channels`には入力となる画像のchannel数を指定します。  \n",
                "もしConvolution（畳み込み）を複数回行う際には増えたchannel数に合わせて変更する必要があります。  \n",
                "\n",
                "`out_channels`は畳み込みごに出力となるchannel数になります。  \n",
                "この数値は人間側が任意で決める必要のあるハイパーパラメータになります。  \n",
                "\n",
                "`ksize`はカーネル（フィルタ）のサイズを指定します。  \n",
                "基本的には3を使用します。指定方法はタプル型で縦、横の長さを指定することも可能です。  \n",
                "（`3`は`(3,3)`と同義になります。）  \n",
                "\n",
                "`stride`はストライドを、`pad`はパディングをあらわしています。  \n",
                "\n",
                "\n",
                "#### call関数内\n",
                "\n",
                "`F.maxpooling(h,3,3)`はMaxPoolingを示しています。  \n",
                "MaxPoolingは学習するパラメータを持たないためChainer.Functionsの中に準備されています。  \n",
                "また、引数は順に計算する値、カーネルサイズ、パディングの値を指定しています。  "
            ]
        },
        {
            "cell_type": "markdown",
            "metadata": {
                "colab_type": "text",
                "id": "6A204BUJ8Yfq"
            },
            "source": [
                "### CPUでの実装\n",
                "\n",
                "まずは、CPUで実装します。  \n",
                "ネットワークの定義の部分では少し異なる部分がありましたが、その他の部分に関してはほとんどニューラルネットワークの実装方法と変更はありません。  "
            ]
        },
        {
            "cell_type": "markdown",
            "metadata": {
                "colab_type": "text",
                "id": "dqutD-pN6BYi"
            },
            "source": [
                "モデルとなるクラスを定義したため、インスタンス化して、そのパラメータをOptimizerで調整していきます。\n",
                "モデルのインスタンス化の際にはシードを固定して**再現性の確保**ができるように気を付けてください。\n",
                "\n",
                "`np.random.seed(0)`\n",
                "\n"
            ]
        },
        {
            "cell_type": "code",
            "execution_count": 20,
            "metadata": {
                "colab": {},
                "colab_type": "code",
                "id": "c5PzI8br8wLG"
            },
            "outputs": [],
            "source": [
                "np.random.seed(0)"
            ]
        },
        {
            "cell_type": "code",
            "execution_count": 21,
            "metadata": {
                "colab": {},
                "colab_type": "code",
                "id": "LkvPKJgU88tF"
            },
            "outputs": [],
            "source": [
                "# インスタンス化\n",
                "model = L.Classifier(CNN())"
            ]
        },
        {
            "cell_type": "code",
            "execution_count": 22,
            "metadata": {
                "colab": {},
                "colab_type": "code",
                "id": "oqoVAfes88wL"
            },
            "outputs": [],
            "source": [
                "gpu_id = -1  # CPUの使用を宣言"
            ]
        },
        {
            "cell_type": "code",
            "execution_count": 23,
            "metadata": {
                "colab": {
                    "base_uri": "https://localhost:8080/",
                    "height": 34
                },
                "colab_type": "code",
                "executionInfo": {
                    "elapsed": 799,
                    "status": "ok",
                    "timestamp": 1547044563255,
                    "user": {
                        "displayName": "今西航平",
                        "photoUrl": "",
                        "userId": "07749145107279807976"
                    },
                    "user_tz": -540
                },
                "id": "gWCP2nKj884Z",
                "outputId": "20f50c34-9c71-4a17-c3fc-4f14a5ac4641"
            },
            "outputs": [
                {
                    "data": {
                        "text/plain": [
                            "<chainer.optimizers.adam.Adam at 0x7f345cb669e8>"
                        ]
                    },
                    "execution_count": 36,
                    "metadata": {
                        "tags": []
                    },
                    "output_type": "execute_result"
                }
            ],
            "source": [
                "# Optimizerの定義とmodelとの紐づけ\n",
                "optimizer = chainer.optimizers.Adam()\n",
                "optimizer.setup(model)"
            ]
        },
        {
            "cell_type": "markdown",
            "metadata": {
                "colab_type": "text",
                "id": "V6Jv_yqW9ocU"
            },
            "source": [
                "ミニバッチ学習のバッチサイズを決定して、SeriallIteratorでバッチごとに分割します。"
            ]
        },
        {
            "cell_type": "code",
            "execution_count": 24,
            "metadata": {
                "colab": {},
                "colab_type": "code",
                "id": "khH-OKAr9ocW"
            },
            "outputs": [],
            "source": [
                "batchsize = 4096\n",
                "train_iter = chainer.iterators.SerialIterator(train, batchsize)\n",
                "valid_iter = chainer.iterators.SerialIterator(valid, batchsize, repeat=False, shuffle=False)\n",
                "test_iter = chainer.iterators.SerialIterator(test, batchsize, repeat=False, shuffle=False)"
            ]
        },
        {
            "cell_type": "markdown",
            "metadata": {
                "colab_type": "text",
                "id": "HWYgw99_9occ"
            },
            "source": [
                "Updater、Extensions、Trainerの定義をします。"
            ]
        },
        {
            "cell_type": "code",
            "execution_count": 25,
            "metadata": {
                "colab": {},
                "colab_type": "code",
                "id": "N_IM2wlo9oce"
            },
            "outputs": [],
            "source": [
                "from chainer import training\n",
                "from chainer.training import extensions\n",
                "\n",
                "epoch = 30\n",
                "\n",
                "updater = training.StandardUpdater(train_iter, optimizer, device=gpu_id)\n",
                "\n",
                "trainer = training.Trainer(updater, (epoch, 'epoch'), out='mnist')\n",
                "\n",
                "# バリデーション用のデータで評価\n",
                "trainer.extend(extensions.Evaluator(valid_iter, model, device=gpu_id))\n",
                "\n",
                "# 学習結果の途中を表示する\n",
                "trainer.extend(extensions.LogReport(trigger=(1, 'epoch')))\n",
                "\n",
                "# １エポックごとに結果をlogファイルに出力させる\n",
                "trainer.extend(extensions.PrintReport(['epoch', 'main/accuracy', 'validation/main/accuracy', 'main/loss', 'validation/main/loss', 'elapsed_time']), trigger=(1, 'epoch'))"
            ]
        },
        {
            "cell_type": "markdown",
            "metadata": {
                "colab_type": "text",
                "id": "xrn4NGaf9ocg"
            },
            "source": [
                "設定が完了したため、trainerで学習を開始します。"
            ]
        },
        {
            "cell_type": "code",
            "execution_count": 26,
            "metadata": {
                "colab": {
                    "base_uri": "https://localhost:8080/",
                    "height": 544
                },
                "colab_type": "code",
                "executionInfo": {
                    "elapsed": 393609,
                    "status": "ok",
                    "timestamp": 1547044999411,
                    "user": {
                        "displayName": "今西航平",
                        "photoUrl": "",
                        "userId": "07749145107279807976"
                    },
                    "user_tz": -540
                },
                "id": "0igFPQdw9och",
                "outputId": "ec3e0ad2-262b-47ef-f767-6d3e5fa8cc6e"
            },
            "outputs": [
                {
                    "name": "stdout",
                    "output_type": "stream",
                    "text": [
                        "epoch       main/accuracy  validation/main/accuracy  main/loss   validation/main/loss  elapsed_time\n",
                        "\u001b[J1           0.425143       0.685532                  1.82843     1.33018               13.7039       \n",
                        "\u001b[J2           0.736348       0.783009                  1.09776     0.862582              26.5211       \n",
                        "\u001b[J3           0.805054       0.827364                  0.751719    0.636924              39.5725       \n",
                        "\u001b[J4           0.84198        0.849881                  0.584268    0.522144              52.4798       \n",
                        "\u001b[J5           0.861854       0.868785                  0.491363    0.450459              66.279        \n",
                        "\u001b[J6           0.876017       0.880419                  0.43467     0.409145              79.1233       \n",
                        "\u001b[J7           0.884359       0.887991                  0.399271    0.378996              91.8775       \n",
                        "\u001b[J8           0.890666       0.893009                  0.372702    0.35816               104.905       \n",
                        "\u001b[J9           0.89683        0.898515                  0.353049    0.339999              117.792       \n",
                        "\u001b[J10          0.901292       0.901959                  0.335352    0.324808              131.512       \n",
                        "\u001b[J11          0.904867       0.907487                  0.320931    0.313883              144.275       \n",
                        "\u001b[J12          0.907837       0.91028                   0.311505    0.305846              156.976       \n",
                        "\u001b[J13          0.909973       0.912992                  0.302929    0.298178              170.003       \n",
                        "\u001b[J14          0.912577       0.912363                  0.294727    0.29092               182.887       \n",
                        "\u001b[J15          0.914739       0.915075                  0.287938    0.283351              196.843       \n",
                        "\u001b[J16          0.917135       0.916968                  0.280168    0.280847              209.775       \n",
                        "\u001b[J17          0.91803        0.918905                  0.276176    0.274111              222.703       \n",
                        "\u001b[J18          0.920715       0.918742                  0.269438    0.269226              235.321       \n",
                        "\u001b[J19          0.922017       0.921373                  0.265667    0.265163              248.124       \n",
                        "\u001b[J20          0.922739       0.921845                  0.26136     0.263815              261.838       \n",
                        "\u001b[J21          0.924052       0.922469                  0.257594    0.258531              274.532       \n",
                        "\u001b[J22          0.924601       0.923147                  0.256976    0.257049              287.327       \n",
                        "\u001b[J23          0.925273       0.923614                  0.252272    0.256357              300.196       \n",
                        "\u001b[J24          0.926392       0.925713                  0.249656    0.251664              313.051       \n",
                        "\u001b[J25          0.927227       0.927166                  0.247757    0.249113              326.765       \n",
                        "\u001b[J26          0.927673       0.928511                  0.243429    0.247259              339.66        \n",
                        "\u001b[J27          0.929138       0.927963                  0.242453    0.244483              352.579       \n",
                        "\u001b[J28          0.929525       0.926738                  0.2399      0.244653              365.516       \n",
                        "\u001b[J29          0.929237       0.92747                   0.239845    0.242489              379.525       \n",
                        "\u001b[J30          0.930786       0.92849                   0.233447    0.239562              392.535       \n"
                    ]
                }
            ],
            "source": [
                "trainer.run()"
            ]
        },
        {
            "cell_type": "markdown",
            "metadata": {
                "colab_type": "text",
                "id": "SG9pjQcX-M2R"
            },
            "source": [
                "サンプル数は6万枚と多めのデータセットではありますが、画像サイズは小さく、非常にシンプルなCNN構造でありなのにも関わらず、7分半もかかってしまいました。CPUで計算しているためこれは仕方がない点ではあります。この速度を改善するために、基本的には画像などではGPUを扱うのがメインとなっておりますので、今からGoogleColab上でのGPU使用方法についてお伝えします。\n",
                "\n",
                "\n",
                "### GPUでの実装\n",
                "\n",
                "まずは、GoogleColab上でGPUが使用できる状態に変更します。\n",
                "\n",
                "メニューバーの「ランタイム」>「ランタイムのタイプを変更」をクリックし、「ハードウェア アクセラレータ」をGPUに変更してください。\n",
                "\n",
                "これで準備完了です。GPUが利用可能であるかを確認してみましょう。\n",
                "\n"
            ]
        },
        {
            "cell_type": "code",
            "execution_count": 27,
            "metadata": {
                "colab": {
                    "base_uri": "https://localhost:8080/",
                    "height": 51
                },
                "colab_type": "code",
                "executionInfo": {
                    "elapsed": 1471,
                    "status": "ok",
                    "timestamp": 1547045054465,
                    "user": {
                        "displayName": "今西航平",
                        "photoUrl": "",
                        "userId": "07749145107279807976"
                    },
                    "user_tz": -540
                },
                "id": "iodCZvGO887z",
                "outputId": "62ba3fef-04f1-48c2-e2f9-302682f3368b"
            },
            "outputs": [
                {
                    "name": "stdout",
                    "output_type": "stream",
                    "text": [
                        "GPU availability: True\n",
                        "cuDNN availablility: True\n"
                    ]
                }
            ],
            "source": [
                "import chainer\n",
                "print('GPU availability:', chainer.cuda.available)\n",
                "print('cuDNN availablility:', chainer.cuda.cudnn_enabled)"
            ]
        },
        {
            "cell_type": "markdown",
            "metadata": {
                "colab_type": "text",
                "id": "oiO0RuaTCMFd"
            },
            "source": [
                "GPUとcuDNNがともにTrueとなっていれば大丈夫です。cuDNNとは、NVIDIA社が開発し、GPUに最適化された深層学習開発用のパッケージのことを言います。利用できることが確認できたところで早速実装までおこないます。"
            ]
        },
        {
            "cell_type": "markdown",
            "metadata": {
                "colab_type": "text",
                "id": "yWYxmRY48n0Z"
            },
            "source": [
                "#### シードの固定\n",
                "\n",
                "CPU実装時と同様にシードの固定を行います。\n",
                "\n",
                "ただし、ここで気を付けないといけないこととして、numpyのシードを固定すると良いのですが、GPUで演算を行うときは`cupy`へと引き渡されるため、すべてのシードを固定しておく必要があり、この関数（`reset_seed`）を作っておくと便利です。"
            ]
        },
        {
            "cell_type": "code",
            "execution_count": 28,
            "metadata": {
                "colab": {},
                "colab_type": "code",
                "id": "JcKJifAg6BYi"
            },
            "outputs": [],
            "source": [
                "import random \n",
                "\n",
                "def reset_seed(seed=0):\n",
                "    random.seed(seed)\n",
                "    np.random.seed(seed)\n",
                "    if chainer.cuda.available:\n",
                "        chainer.cuda.cupy.random.seed(seed)"
            ]
        },
        {
            "cell_type": "markdown",
            "metadata": {
                "colab_type": "text",
                "id": "j6ybnU606BYm"
            },
            "source": [
                "こちらの関数をもとに、CPU、GPU問わずシードを固定します。\n",
                "cudaに関するif文では、GPU搭載されていないマシンの時にcupyを読み込めないため、その回避策として挿入しています。\n",
                "\n",
                "なお、引数の部分で記載していますが、デフォルトのseedは0としています。"
            ]
        },
        {
            "cell_type": "code",
            "execution_count": 29,
            "metadata": {
                "colab": {},
                "colab_type": "code",
                "id": "ra5qVmvi6BYo"
            },
            "outputs": [],
            "source": [
                "# CPUとGPU関連のシードをすべて固定\n",
                "reset_seed(0)"
            ]
        },
        {
            "cell_type": "code",
            "execution_count": 30,
            "metadata": {
                "colab": {},
                "colab_type": "code",
                "id": "A6vH7wjs6BYs"
            },
            "outputs": [],
            "source": [
                "# インスタンス化\n",
                "model = L.Classifier(CNN())"
            ]
        },
        {
            "cell_type": "markdown",
            "metadata": {
                "colab_type": "text",
                "id": "MtzZE0Af6BY0"
            },
            "source": [
                "GPUを使用する場合は、`to_gpu()`を使用し、modelをGPUへ転送しておきます。  \n",
                "ここで定義している`gpu_id`はどのマシンで計算するかをしてします。    \n",
                "GPUを使用する際には`0`を、CPUの場合は`-1`を設定します。  "
            ]
        },
        {
            "cell_type": "code",
            "execution_count": 31,
            "metadata": {
                "colab": {
                    "base_uri": "https://localhost:8080/",
                    "height": 34
                },
                "colab_type": "code",
                "executionInfo": {
                    "elapsed": 10352,
                    "status": "ok",
                    "timestamp": 1547045069634,
                    "user": {
                        "displayName": "今西航平",
                        "photoUrl": "",
                        "userId": "07749145107279807976"
                    },
                    "user_tz": -540
                },
                "id": "dq_ITW866BY1",
                "outputId": "94fc4b90-99c6-406a-86f4-77847fe12251"
            },
            "outputs": [
                {
                    "data": {
                        "text/plain": [
                            "<chainer.links.model.classifier.Classifier at 0x7f345cbfc7f0>"
                        ]
                    },
                    "execution_count": 44,
                    "metadata": {
                        "tags": []
                    },
                    "output_type": "execute_result"
                }
            ],
            "source": [
                "gpu_id = 0  # 使用したGPUに割り振られているID\n",
                "model.to_gpu(gpu_id)"
            ]
        },
        {
            "cell_type": "code",
            "execution_count": 32,
            "metadata": {
                "colab": {
                    "base_uri": "https://localhost:8080/",
                    "height": 34
                },
                "colab_type": "code",
                "executionInfo": {
                    "elapsed": 8888,
                    "status": "ok",
                    "timestamp": 1547045069635,
                    "user": {
                        "displayName": "今西航平",
                        "photoUrl": "",
                        "userId": "07749145107279807976"
                    },
                    "user_tz": -540
                },
                "id": "lQcgqaHT6BY3",
                "outputId": "5c4293c7-eb4e-4104-fd87-9fc96c3fbb97"
            },
            "outputs": [
                {
                    "data": {
                        "text/plain": [
                            "<chainer.optimizers.adam.Adam at 0x7f345cb66eb8>"
                        ]
                    },
                    "execution_count": 45,
                    "metadata": {
                        "tags": []
                    },
                    "output_type": "execute_result"
                }
            ],
            "source": [
                "# Optimizerの定義とmodelとの紐づけ\n",
                "optimizer = chainer.optimizers.Adam()\n",
                "optimizer.setup(model)"
            ]
        },
        {
            "cell_type": "markdown",
            "metadata": {
                "colab_type": "text",
                "id": "vYlECKzb6BY8"
            },
            "source": [
                "ミニバッチ学習のバッチサイズを決定して、SeriallIteratorでバッチごとに分割します。"
            ]
        },
        {
            "cell_type": "code",
            "execution_count": 33,
            "metadata": {
                "colab": {},
                "colab_type": "code",
                "id": "qQUTxe9U6BY9"
            },
            "outputs": [],
            "source": [
                "batchsize = 4096\n",
                "train_iter = chainer.iterators.SerialIterator(train, batchsize)\n",
                "valid_iter = chainer.iterators.SerialIterator(valid, batchsize, repeat=False, shuffle=False)\n",
                "test_iter = chainer.iterators.SerialIterator(test, batchsize, repeat=False, shuffle=False)"
            ]
        },
        {
            "cell_type": "markdown",
            "metadata": {
                "colab_type": "text",
                "id": "UrD7WGPA6BZA"
            },
            "source": [
                "更新規則をまとめているUpdaterを定義します。\n",
                "\n",
                "標準的なStandardUpdaterを使用していますが、複数GPUを使用するときには、ParallelUpdaterなど適宜条件に合わせて変更していきます。  \n",
                "\n",
                "またUpdater、Evaluator（検証データの精度を計算する）の定義の際にも`gpu_id`を渡す必要がある点に注意します。"
            ]
        },
        {
            "cell_type": "code",
            "execution_count": 34,
            "metadata": {
                "colab": {},
                "colab_type": "code",
                "id": "OoOJFZMW6BZB"
            },
            "outputs": [],
            "source": [
                "from chainer import training\n",
                "from chainer.training import extensions\n",
                "\n",
                "epoch = 30\n",
                "\n",
                "updater = training.StandardUpdater(train_iter, optimizer, device=gpu_id)\n",
                "\n",
                "trainer = training.Trainer(updater, (epoch, 'epoch'), out='mnist')\n",
                "\n",
                "# バリデーション用のデータで評価\n",
                "trainer.extend(extensions.Evaluator(valid_iter, model, device=gpu_id))\n",
                "\n",
                "# 学習結果の途中を表示する\n",
                "trainer.extend(extensions.LogReport(trigger=(1, 'epoch')))\n",
                "\n",
                "# １エポックごとに結果をlogファイルに出力させる\n",
                "trainer.extend(extensions.PrintReport(['epoch', 'main/accuracy', 'validation/main/accuracy', 'main/loss', 'validation/main/loss', 'elapsed_time']), trigger=(1, 'epoch'))"
            ]
        },
        {
            "cell_type": "markdown",
            "metadata": {
                "colab_type": "text",
                "id": "nA2ePDql6BZC"
            },
            "source": [
                "設定が完了したため、trainerで学習を開始します。"
            ]
        },
        {
            "cell_type": "code",
            "execution_count": 35,
            "metadata": {
                "colab": {
                    "base_uri": "https://localhost:8080/",
                    "height": 544
                },
                "colab_type": "code",
                "executionInfo": {
                    "elapsed": 27870,
                    "status": "ok",
                    "timestamp": 1547045107217,
                    "user": {
                        "displayName": "今西航平",
                        "photoUrl": "",
                        "userId": "07749145107279807976"
                    },
                    "user_tz": -540
                },
                "id": "_ZUw4FxX6BZD",
                "outputId": "20adc414-b8fc-453e-ddac-af1f22623a68"
            },
            "outputs": [
                {
                    "name": "stdout",
                    "output_type": "stream",
                    "text": [
                        "epoch       main/accuracy  validation/main/accuracy  main/loss   validation/main/loss  elapsed_time\n",
                        "\u001b[J1           0.359112       0.672939                  1.99333     1.45219               9.83383       \n",
                        "\u001b[J2           0.73468        0.794762                  1.18506     0.923352              10.4276       \n",
                        "\u001b[J3           0.810669       0.836347                  0.796       0.668213              11.0216       \n",
                        "\u001b[J4           0.845174       0.854051                  0.605392    0.541415              11.597        \n",
                        "\u001b[J5           0.862605       0.866794                  0.507106    0.466506              12.2073       \n",
                        "\u001b[J6           0.875285       0.877712                  0.445135    0.42285               12.7945       \n",
                        "\u001b[J7           0.882792       0.884688                  0.409387    0.39237               13.3653       \n",
                        "\u001b[J8           0.888529       0.890747                  0.384513    0.36935               13.945        \n",
                        "\u001b[J9           0.894531       0.896437                  0.361479    0.351774              14.5256       \n",
                        "\u001b[J10          0.899959       0.899838                  0.343021    0.335982              15.1593       \n",
                        "\u001b[J11          0.901367       0.904226                  0.333462    0.324306              15.7466       \n",
                        "\u001b[J12          0.90625        0.905773                  0.319486    0.313744              16.3273       \n",
                        "\u001b[J13          0.908549       0.909076                  0.308892    0.30628               16.9129       \n",
                        "\u001b[J14          0.910726       0.91079                   0.30105     0.29757               17.4916       \n",
                        "\u001b[J15          0.912616       0.913301                  0.2942      0.292234              18.1088       \n",
                        "\u001b[J16          0.914693       0.914484                  0.286958    0.284576              18.7017       \n",
                        "\u001b[J17          0.916951       0.916312                  0.280056    0.280293              19.3549       \n",
                        "\u001b[J18          0.918518       0.917397                  0.275749    0.276335              19.9458       \n",
                        "\u001b[J19          0.919698       0.918558                  0.271618    0.271195              20.5352       \n",
                        "\u001b[J20          0.921518       0.921905                  0.265008    0.265931              21.1759       \n",
                        "\u001b[J21          0.922445       0.923472                  0.262066    0.26286               21.7656       \n",
                        "\u001b[J22          0.923218       0.923472                  0.257194    0.259553              22.3529       \n",
                        "\u001b[J23          0.924174       0.924351                  0.255854    0.256278              22.9294       \n",
                        "\u001b[J24          0.924825       0.924758                  0.253177    0.25522               23.4923       \n",
                        "\u001b[J25          0.926608       0.926998                  0.247507    0.251819              24.1049       \n",
                        "\u001b[J26          0.926147       0.925251                  0.2479      0.251161              24.6652       \n",
                        "\u001b[J27          0.927856       0.926965                  0.244361    0.247422              25.2459       \n",
                        "\u001b[J28          0.928874       0.927796                  0.240316    0.244382              25.8266       \n",
                        "\u001b[J29          0.929049       0.927286                  0.238843    0.244815              26.4494       \n",
                        "\u001b[J30          0.930094       0.928262                  0.236502    0.240181              27.0367       \n"
                    ]
                }
            ],
            "source": [
                "trainer.run()"
            ]
        },
        {
            "cell_type": "markdown",
            "metadata": {
                "colab_type": "text",
                "id": "untPgWjH6BZE"
            },
            "source": [
                "GPUでの実装が終わりました。CPUの時と同じ条件で実装したにもかかわらず、たったの26秒で学習が終了し、CPUの時と比べると10倍以上速くなりました。\n",
                "CPUとGPUの速度の違いを実感していただけましたでしょうか。このようにGPUを使用したときの速度が圧倒的に早いため、このGoogleColab上で無料でGPUを使用できることは非常に便利です。\n",
                "\n",
                "結果の可視化まで行いましょう。\n",
                "\n",
                "![](images/parallel/20.PNG)\n",
                "\n",
                "学習の記録はlogファイルに記載されているため、推移を可視化してみます。"
            ]
        },
        {
            "cell_type": "code",
            "execution_count": 36,
            "metadata": {
                "colab": {},
                "colab_type": "code",
                "id": "9v7U9k-86BZF"
            },
            "outputs": [],
            "source": [
                "import json\n",
                "import pandas as pd"
            ]
        },
        {
            "cell_type": "code",
            "execution_count": 37,
            "metadata": {
                "colab": {},
                "colab_type": "code",
                "id": "hV4xJUwH6BZH"
            },
            "outputs": [],
            "source": [
                "with open('mnist/log') as f:\n",
                "    result = pd.DataFrame(json.load(f))"
            ]
        },
        {
            "cell_type": "code",
            "execution_count": 38,
            "metadata": {
                "colab": {
                    "base_uri": "https://localhost:8080/",
                    "height": 979
                },
                "colab_type": "code",
                "executionInfo": {
                    "elapsed": 777,
                    "status": "ok",
                    "timestamp": 1547045112607,
                    "user": {
                        "displayName": "今西航平",
                        "photoUrl": "",
                        "userId": "07749145107279807976"
                    },
                    "user_tz": -540
                },
                "id": "hFUOx5eF6BZJ",
                "outputId": "12d8a762-6889-471a-af74-82bb48d4035e"
            },
            "outputs": [
                {
                    "data": {
                        "text/html": [
                            "<div>\n",
                            "<style scoped>\n",
                            "    .dataframe tbody tr th:only-of-type {\n",
                            "        vertical-align: middle;\n",
                            "    }\n",
                            "\n",
                            "    .dataframe tbody tr th {\n",
                            "        vertical-align: top;\n",
                            "    }\n",
                            "\n",
                            "    .dataframe thead th {\n",
                            "        text-align: right;\n",
                            "    }\n",
                            "</style>\n",
                            "<table border=\"1\" class=\"dataframe\">\n",
                            "  <thead>\n",
                            "    <tr style=\"text-align: right;\">\n",
                            "      <th></th>\n",
                            "      <th>elapsed_time</th>\n",
                            "      <th>epoch</th>\n",
                            "      <th>iteration</th>\n",
                            "      <th>main/accuracy</th>\n",
                            "      <th>main/loss</th>\n",
                            "      <th>validation/main/accuracy</th>\n",
                            "      <th>validation/main/loss</th>\n",
                            "    </tr>\n",
                            "  </thead>\n",
                            "  <tbody>\n",
                            "    <tr>\n",
                            "      <th>0</th>\n",
                            "      <td>9.833828</td>\n",
                            "      <td>1</td>\n",
                            "      <td>13</td>\n",
                            "      <td>0.359112</td>\n",
                            "      <td>1.993328</td>\n",
                            "      <td>0.672939</td>\n",
                            "      <td>1.452192</td>\n",
                            "    </tr>\n",
                            "    <tr>\n",
                            "      <th>1</th>\n",
                            "      <td>10.427638</td>\n",
                            "      <td>2</td>\n",
                            "      <td>25</td>\n",
                            "      <td>0.734680</td>\n",
                            "      <td>1.185063</td>\n",
                            "      <td>0.794762</td>\n",
                            "      <td>0.923352</td>\n",
                            "    </tr>\n",
                            "    <tr>\n",
                            "      <th>2</th>\n",
                            "      <td>11.021647</td>\n",
                            "      <td>3</td>\n",
                            "      <td>37</td>\n",
                            "      <td>0.810669</td>\n",
                            "      <td>0.796000</td>\n",
                            "      <td>0.836347</td>\n",
                            "      <td>0.668213</td>\n",
                            "    </tr>\n",
                            "    <tr>\n",
                            "      <th>3</th>\n",
                            "      <td>11.597017</td>\n",
                            "      <td>4</td>\n",
                            "      <td>49</td>\n",
                            "      <td>0.845174</td>\n",
                            "      <td>0.605392</td>\n",
                            "      <td>0.854051</td>\n",
                            "      <td>0.541415</td>\n",
                            "    </tr>\n",
                            "    <tr>\n",
                            "      <th>4</th>\n",
                            "      <td>12.207337</td>\n",
                            "      <td>5</td>\n",
                            "      <td>62</td>\n",
                            "      <td>0.862605</td>\n",
                            "      <td>0.507106</td>\n",
                            "      <td>0.866794</td>\n",
                            "      <td>0.466506</td>\n",
                            "    </tr>\n",
                            "    <tr>\n",
                            "      <th>5</th>\n",
                            "      <td>12.794550</td>\n",
                            "      <td>6</td>\n",
                            "      <td>74</td>\n",
                            "      <td>0.875285</td>\n",
                            "      <td>0.445135</td>\n",
                            "      <td>0.877712</td>\n",
                            "      <td>0.422850</td>\n",
                            "    </tr>\n",
                            "    <tr>\n",
                            "      <th>6</th>\n",
                            "      <td>13.365323</td>\n",
                            "      <td>7</td>\n",
                            "      <td>86</td>\n",
                            "      <td>0.882792</td>\n",
                            "      <td>0.409387</td>\n",
                            "      <td>0.884688</td>\n",
                            "      <td>0.392370</td>\n",
                            "    </tr>\n",
                            "    <tr>\n",
                            "      <th>7</th>\n",
                            "      <td>13.945045</td>\n",
                            "      <td>8</td>\n",
                            "      <td>98</td>\n",
                            "      <td>0.888529</td>\n",
                            "      <td>0.384513</td>\n",
                            "      <td>0.890747</td>\n",
                            "      <td>0.369350</td>\n",
                            "    </tr>\n",
                            "    <tr>\n",
                            "      <th>8</th>\n",
                            "      <td>14.525622</td>\n",
                            "      <td>9</td>\n",
                            "      <td>110</td>\n",
                            "      <td>0.894531</td>\n",
                            "      <td>0.361479</td>\n",
                            "      <td>0.896437</td>\n",
                            "      <td>0.351774</td>\n",
                            "    </tr>\n",
                            "    <tr>\n",
                            "      <th>9</th>\n",
                            "      <td>15.159310</td>\n",
                            "      <td>10</td>\n",
                            "      <td>123</td>\n",
                            "      <td>0.899959</td>\n",
                            "      <td>0.343021</td>\n",
                            "      <td>0.899838</td>\n",
                            "      <td>0.335982</td>\n",
                            "    </tr>\n",
                            "    <tr>\n",
                            "      <th>10</th>\n",
                            "      <td>15.746584</td>\n",
                            "      <td>11</td>\n",
                            "      <td>135</td>\n",
                            "      <td>0.901367</td>\n",
                            "      <td>0.333462</td>\n",
                            "      <td>0.904226</td>\n",
                            "      <td>0.324306</td>\n",
                            "    </tr>\n",
                            "    <tr>\n",
                            "      <th>11</th>\n",
                            "      <td>16.327278</td>\n",
                            "      <td>12</td>\n",
                            "      <td>147</td>\n",
                            "      <td>0.906250</td>\n",
                            "      <td>0.319486</td>\n",
                            "      <td>0.905773</td>\n",
                            "      <td>0.313744</td>\n",
                            "    </tr>\n",
                            "    <tr>\n",
                            "      <th>12</th>\n",
                            "      <td>16.912935</td>\n",
                            "      <td>13</td>\n",
                            "      <td>159</td>\n",
                            "      <td>0.908549</td>\n",
                            "      <td>0.308892</td>\n",
                            "      <td>0.909076</td>\n",
                            "      <td>0.306280</td>\n",
                            "    </tr>\n",
                            "    <tr>\n",
                            "      <th>13</th>\n",
                            "      <td>17.491553</td>\n",
                            "      <td>14</td>\n",
                            "      <td>171</td>\n",
                            "      <td>0.910726</td>\n",
                            "      <td>0.301050</td>\n",
                            "      <td>0.910790</td>\n",
                            "      <td>0.297570</td>\n",
                            "    </tr>\n",
                            "    <tr>\n",
                            "      <th>14</th>\n",
                            "      <td>18.108814</td>\n",
                            "      <td>15</td>\n",
                            "      <td>184</td>\n",
                            "      <td>0.912616</td>\n",
                            "      <td>0.294200</td>\n",
                            "      <td>0.913301</td>\n",
                            "      <td>0.292234</td>\n",
                            "    </tr>\n",
                            "    <tr>\n",
                            "      <th>15</th>\n",
                            "      <td>18.701667</td>\n",
                            "      <td>16</td>\n",
                            "      <td>196</td>\n",
                            "      <td>0.914693</td>\n",
                            "      <td>0.286958</td>\n",
                            "      <td>0.914484</td>\n",
                            "      <td>0.284576</td>\n",
                            "    </tr>\n",
                            "    <tr>\n",
                            "      <th>16</th>\n",
                            "      <td>19.354921</td>\n",
                            "      <td>17</td>\n",
                            "      <td>208</td>\n",
                            "      <td>0.916951</td>\n",
                            "      <td>0.280056</td>\n",
                            "      <td>0.916312</td>\n",
                            "      <td>0.280293</td>\n",
                            "    </tr>\n",
                            "    <tr>\n",
                            "      <th>17</th>\n",
                            "      <td>19.945798</td>\n",
                            "      <td>18</td>\n",
                            "      <td>220</td>\n",
                            "      <td>0.918518</td>\n",
                            "      <td>0.275749</td>\n",
                            "      <td>0.917397</td>\n",
                            "      <td>0.276335</td>\n",
                            "    </tr>\n",
                            "    <tr>\n",
                            "      <th>18</th>\n",
                            "      <td>20.535158</td>\n",
                            "      <td>19</td>\n",
                            "      <td>232</td>\n",
                            "      <td>0.919698</td>\n",
                            "      <td>0.271618</td>\n",
                            "      <td>0.918558</td>\n",
                            "      <td>0.271195</td>\n",
                            "    </tr>\n",
                            "    <tr>\n",
                            "      <th>19</th>\n",
                            "      <td>21.175875</td>\n",
                            "      <td>20</td>\n",
                            "      <td>245</td>\n",
                            "      <td>0.921518</td>\n",
                            "      <td>0.265008</td>\n",
                            "      <td>0.921905</td>\n",
                            "      <td>0.265931</td>\n",
                            "    </tr>\n",
                            "    <tr>\n",
                            "      <th>20</th>\n",
                            "      <td>21.765569</td>\n",
                            "      <td>21</td>\n",
                            "      <td>257</td>\n",
                            "      <td>0.922445</td>\n",
                            "      <td>0.262066</td>\n",
                            "      <td>0.923472</td>\n",
                            "      <td>0.262860</td>\n",
                            "    </tr>\n",
                            "    <tr>\n",
                            "      <th>21</th>\n",
                            "      <td>22.352935</td>\n",
                            "      <td>22</td>\n",
                            "      <td>269</td>\n",
                            "      <td>0.923218</td>\n",
                            "      <td>0.257194</td>\n",
                            "      <td>0.923472</td>\n",
                            "      <td>0.259553</td>\n",
                            "    </tr>\n",
                            "    <tr>\n",
                            "      <th>22</th>\n",
                            "      <td>22.929412</td>\n",
                            "      <td>23</td>\n",
                            "      <td>281</td>\n",
                            "      <td>0.924174</td>\n",
                            "      <td>0.255854</td>\n",
                            "      <td>0.924351</td>\n",
                            "      <td>0.256278</td>\n",
                            "    </tr>\n",
                            "    <tr>\n",
                            "      <th>23</th>\n",
                            "      <td>23.492266</td>\n",
                            "      <td>24</td>\n",
                            "      <td>293</td>\n",
                            "      <td>0.924825</td>\n",
                            "      <td>0.253177</td>\n",
                            "      <td>0.924758</td>\n",
                            "      <td>0.255220</td>\n",
                            "    </tr>\n",
                            "    <tr>\n",
                            "      <th>24</th>\n",
                            "      <td>24.104910</td>\n",
                            "      <td>25</td>\n",
                            "      <td>306</td>\n",
                            "      <td>0.926608</td>\n",
                            "      <td>0.247507</td>\n",
                            "      <td>0.926998</td>\n",
                            "      <td>0.251819</td>\n",
                            "    </tr>\n",
                            "    <tr>\n",
                            "      <th>25</th>\n",
                            "      <td>24.665203</td>\n",
                            "      <td>26</td>\n",
                            "      <td>318</td>\n",
                            "      <td>0.926147</td>\n",
                            "      <td>0.247900</td>\n",
                            "      <td>0.925251</td>\n",
                            "      <td>0.251161</td>\n",
                            "    </tr>\n",
                            "    <tr>\n",
                            "      <th>26</th>\n",
                            "      <td>25.245916</td>\n",
                            "      <td>27</td>\n",
                            "      <td>330</td>\n",
                            "      <td>0.927856</td>\n",
                            "      <td>0.244361</td>\n",
                            "      <td>0.926965</td>\n",
                            "      <td>0.247422</td>\n",
                            "    </tr>\n",
                            "    <tr>\n",
                            "      <th>27</th>\n",
                            "      <td>25.826613</td>\n",
                            "      <td>28</td>\n",
                            "      <td>342</td>\n",
                            "      <td>0.928874</td>\n",
                            "      <td>0.240316</td>\n",
                            "      <td>0.927796</td>\n",
                            "      <td>0.244382</td>\n",
                            "    </tr>\n",
                            "    <tr>\n",
                            "      <th>28</th>\n",
                            "      <td>26.449423</td>\n",
                            "      <td>29</td>\n",
                            "      <td>355</td>\n",
                            "      <td>0.929049</td>\n",
                            "      <td>0.238843</td>\n",
                            "      <td>0.927286</td>\n",
                            "      <td>0.244815</td>\n",
                            "    </tr>\n",
                            "    <tr>\n",
                            "      <th>29</th>\n",
                            "      <td>27.036671</td>\n",
                            "      <td>30</td>\n",
                            "      <td>367</td>\n",
                            "      <td>0.930094</td>\n",
                            "      <td>0.236502</td>\n",
                            "      <td>0.928262</td>\n",
                            "      <td>0.240181</td>\n",
                            "    </tr>\n",
                            "  </tbody>\n",
                            "</table>\n",
                            "</div>"
                        ],
                        "text/plain": [
                            "    elapsed_time  epoch  iteration  main/accuracy  main/loss  \\\n",
                            "0       9.833828      1         13       0.359112   1.993328   \n",
                            "1      10.427638      2         25       0.734680   1.185063   \n",
                            "2      11.021647      3         37       0.810669   0.796000   \n",
                            "3      11.597017      4         49       0.845174   0.605392   \n",
                            "4      12.207337      5         62       0.862605   0.507106   \n",
                            "5      12.794550      6         74       0.875285   0.445135   \n",
                            "6      13.365323      7         86       0.882792   0.409387   \n",
                            "7      13.945045      8         98       0.888529   0.384513   \n",
                            "8      14.525622      9        110       0.894531   0.361479   \n",
                            "9      15.159310     10        123       0.899959   0.343021   \n",
                            "10     15.746584     11        135       0.901367   0.333462   \n",
                            "11     16.327278     12        147       0.906250   0.319486   \n",
                            "12     16.912935     13        159       0.908549   0.308892   \n",
                            "13     17.491553     14        171       0.910726   0.301050   \n",
                            "14     18.108814     15        184       0.912616   0.294200   \n",
                            "15     18.701667     16        196       0.914693   0.286958   \n",
                            "16     19.354921     17        208       0.916951   0.280056   \n",
                            "17     19.945798     18        220       0.918518   0.275749   \n",
                            "18     20.535158     19        232       0.919698   0.271618   \n",
                            "19     21.175875     20        245       0.921518   0.265008   \n",
                            "20     21.765569     21        257       0.922445   0.262066   \n",
                            "21     22.352935     22        269       0.923218   0.257194   \n",
                            "22     22.929412     23        281       0.924174   0.255854   \n",
                            "23     23.492266     24        293       0.924825   0.253177   \n",
                            "24     24.104910     25        306       0.926608   0.247507   \n",
                            "25     24.665203     26        318       0.926147   0.247900   \n",
                            "26     25.245916     27        330       0.927856   0.244361   \n",
                            "27     25.826613     28        342       0.928874   0.240316   \n",
                            "28     26.449423     29        355       0.929049   0.238843   \n",
                            "29     27.036671     30        367       0.930094   0.236502   \n",
                            "\n",
                            "    validation/main/accuracy  validation/main/loss  \n",
                            "0                   0.672939              1.452192  \n",
                            "1                   0.794762              0.923352  \n",
                            "2                   0.836347              0.668213  \n",
                            "3                   0.854051              0.541415  \n",
                            "4                   0.866794              0.466506  \n",
                            "5                   0.877712              0.422850  \n",
                            "6                   0.884688              0.392370  \n",
                            "7                   0.890747              0.369350  \n",
                            "8                   0.896437              0.351774  \n",
                            "9                   0.899838              0.335982  \n",
                            "10                  0.904226              0.324306  \n",
                            "11                  0.905773              0.313744  \n",
                            "12                  0.909076              0.306280  \n",
                            "13                  0.910790              0.297570  \n",
                            "14                  0.913301              0.292234  \n",
                            "15                  0.914484              0.284576  \n",
                            "16                  0.916312              0.280293  \n",
                            "17                  0.917397              0.276335  \n",
                            "18                  0.918558              0.271195  \n",
                            "19                  0.921905              0.265931  \n",
                            "20                  0.923472              0.262860  \n",
                            "21                  0.923472              0.259553  \n",
                            "22                  0.924351              0.256278  \n",
                            "23                  0.924758              0.255220  \n",
                            "24                  0.926998              0.251819  \n",
                            "25                  0.925251              0.251161  \n",
                            "26                  0.926965              0.247422  \n",
                            "27                  0.927796              0.244382  \n",
                            "28                  0.927286              0.244815  \n",
                            "29                  0.928262              0.240181  "
                        ]
                    },
                    "execution_count": 51,
                    "metadata": {
                        "tags": []
                    },
                    "output_type": "execute_result"
                }
            ],
            "source": [
                "# 結果の表示\n",
                "result"
            ]
        },
        {
            "cell_type": "code",
            "execution_count": 39,
            "metadata": {
                "colab": {
                    "base_uri": "https://localhost:8080/",
                    "height": 364
                },
                "colab_type": "code",
                "executionInfo": {
                    "elapsed": 1003,
                    "status": "ok",
                    "timestamp": 1547045114414,
                    "user": {
                        "displayName": "今西航平",
                        "photoUrl": "",
                        "userId": "07749145107279807976"
                    },
                    "user_tz": -540
                },
                "id": "0a_mlThM6BZL",
                "outputId": "dabfcdba-1e75-45e9-c835-68224301ff69"
            },
            "outputs": [
                {
                    "data": {
                        "text/plain": [
                            "<matplotlib.axes._subplots.AxesSubplot at 0x7f345cb82630>"
                        ]
                    },
                    "execution_count": 52,
                    "metadata": {
                        "tags": []
                    },
                    "output_type": "execute_result"
                },
                {
                    "data": {
                        "image/png": "[encoded data removed]",
                        "text/plain": [
                            "<matplotlib.figure.Figure at 0x7f345f977080>"
                        ]
                    },
                    "metadata": {
                        "tags": []
                    },
                    "output_type": "display_data"
                }
            ],
            "source": [
                "# 損失関数(loss)\n",
                "result[['main/loss', 'validation/main/loss']].plot()"
            ]
        },
        {
            "cell_type": "code",
            "execution_count": 40,
            "metadata": {
                "colab": {
                    "base_uri": "https://localhost:8080/",
                    "height": 364
                },
                "colab_type": "code",
                "executionInfo": {
                    "elapsed": 1048,
                    "status": "ok",
                    "timestamp": 1547045116374,
                    "user": {
                        "displayName": "今西航平",
                        "photoUrl": "",
                        "userId": "07749145107279807976"
                    },
                    "user_tz": -540
                },
                "id": "w0yIYIvz6BZT",
                "outputId": "9bfb6377-0e39-4fdd-d205-23045a8b75e9"
            },
            "outputs": [
                {
                    "data": {
                        "text/plain": [
                            "<matplotlib.axes._subplots.AxesSubplot at 0x7f345ca8be80>"
                        ]
                    },
                    "execution_count": 53,
                    "metadata": {
                        "tags": []
                    },
                    "output_type": "execute_result"
                },
                {
                    "data": {
                        "image/png": "[encoded data removed]",
                        "text/plain": [
                            "<matplotlib.figure.Figure at 0x7f345ca71a90>"
                        ]
                    },
                    "metadata": {
                        "tags": []
                    },
                    "output_type": "display_data"
                }
            ],
            "source": [
                "# 精度(accuracy)\n",
                "result[['main/accuracy', 'validation/main/accuracy']].plot()"
            ]
        },
        {
            "cell_type": "markdown",
            "metadata": {
                "colab_type": "text",
                "id": "E3wQxAJB6BZW"
            },
            "source": [
                "こちらのようにうまく学習できていること様子が確認できます。\n",
                "オーバーフィッティングすることもなく、学習できています。"
            ]
        },
        {
            "cell_type": "markdown",
            "metadata": {
                "colab_type": "text",
                "id": "YZ9sOhwF6BZX"
            },
            "source": [
                "## 学習済みモデルを保存\n",
                "\n",
                "CNNでも学習済みモデルの保存方法は同じです。  "
            ]
        },
        {
            "cell_type": "markdown",
            "metadata": {
                "colab_type": "text",
                "id": "8Ul2tz2M6BZX"
            },
            "source": [
                "### モデルをCPUに転送\n",
                "これからモデルを保存するにあたり、CPU側にモデルを転送しておかないとエラーが出てしまいます。\n",
                "意外と忘れがちな操作なのでよく覚えておいてください。"
            ]
        },
        {
            "cell_type": "code",
            "execution_count": 41,
            "metadata": {
                "colab": {
                    "base_uri": "https://localhost:8080/",
                    "height": 34
                },
                "colab_type": "code",
                "executionInfo": {
                    "elapsed": 943,
                    "status": "ok",
                    "timestamp": 1547045121945,
                    "user": {
                        "displayName": "今西航平",
                        "photoUrl": "",
                        "userId": "07749145107279807976"
                    },
                    "user_tz": -540
                },
                "id": "0TEXeMlf6BZZ",
                "outputId": "4f1aa4be-f00f-4c7e-bbf3-96b2832ad477"
            },
            "outputs": [
                {
                    "data": {
                        "text/plain": [
                            "<chainer.links.model.classifier.Classifier at 0x7f345cbfc7f0>"
                        ]
                    },
                    "execution_count": 54,
                    "metadata": {
                        "tags": []
                    },
                    "output_type": "execute_result"
                }
            ],
            "source": [
                "model.to_cpu()"
            ]
        },
        {
            "cell_type": "markdown",
            "metadata": {
                "colab_type": "text",
                "id": "RgSagfj_6BZb"
            },
            "source": [
                "### モデルのセーブ\n",
                "モデルの名前と学習済みモデルを指定します。"
            ]
        },
        {
            "cell_type": "code",
            "execution_count": 42,
            "metadata": {
                "colab": {},
                "colab_type": "code",
                "id": "hfpq8fkQ6BZb"
            },
            "outputs": [],
            "source": [
                "chainer.serializers.save_npz('model_mnist.npz', model)"
            ]
        },
        {
            "cell_type": "markdown",
            "metadata": {
                "colab_type": "text",
                "id": "gUydmDiG6BZf"
            },
            "source": [
                "## 学習済みモデルによる推論\n",
                "訓練に使用したデータですが、実際にうまく推論できるかを確認します。\n",
                "\n",
                "学習済みモデルのロードから始めていきます。\n",
                "\n",
                "### 学習済みモデルのロード\n",
                "\n",
                "学習済みモデルは単にファイルをロードするだけでなく、まずはモデルの構造を明示しておき、そのモデルに対して、パラメータの値を当てはめながらロードしていくことになります。"
            ]
        },
        {
            "cell_type": "code",
            "execution_count": 43,
            "metadata": {
                "colab": {},
                "colab_type": "code",
                "id": "BDmq5aMs6BZf"
            },
            "outputs": [],
            "source": [
                "model = L.Classifier(CNN())"
            ]
        },
        {
            "cell_type": "code",
            "execution_count": 44,
            "metadata": {
                "colab": {},
                "colab_type": "code",
                "id": "smEirZ2K6BZh"
            },
            "outputs": [],
            "source": [
                "chainer.serializers.load_npz('model_mnist.npz', model)"
            ]
        },
        {
            "cell_type": "markdown",
            "metadata": {
                "colab_type": "text",
                "id": "ZR23DnVl6BZj"
            },
            "source": [
                "### 推論\n",
                "\n",
                "訓練データの1枚目を使用し、推論を行います。  \n",
                "今回は訓練データを使用して推論を行うため特別な処理は必要ありませんが、新たなデータを推論させる際には学習時に使用した画像データの形式に変換（前処理）を行う必要がある点も覚えて置いてください。（その他の機械学習の手法と同様に）"
            ]
        },
        {
            "cell_type": "code",
            "execution_count": 45,
            "metadata": {
                "colab": {},
                "colab_type": "code",
                "id": "yDnJqRC66BZj"
            },
            "outputs": [],
            "source": [
                "x, t = train[0]"
            ]
        },
        {
            "cell_type": "code",
            "execution_count": 46,
            "metadata": {
                "colab": {
                    "base_uri": "https://localhost:8080/",
                    "height": 34
                },
                "colab_type": "code",
                "executionInfo": {
                    "elapsed": 767,
                    "status": "ok",
                    "timestamp": 1547045124657,
                    "user": {
                        "displayName": "今西航平",
                        "photoUrl": "",
                        "userId": "07749145107279807976"
                    },
                    "user_tz": -540
                },
                "id": "mv61uXB-6BZm",
                "outputId": "b00aa9a8-cde2-4166-da1f-d9465219de7a"
            },
            "outputs": [
                {
                    "data": {
                        "text/plain": [
                            "3"
                        ]
                    },
                    "execution_count": 59,
                    "metadata": {
                        "tags": []
                    },
                    "output_type": "execute_result"
                }
            ],
            "source": [
                "t"
            ]
        },
        {
            "cell_type": "code",
            "execution_count": 47,
            "metadata": {
                "colab": {
                    "base_uri": "https://localhost:8080/",
                    "height": 364
                },
                "colab_type": "code",
                "executionInfo": {
                    "elapsed": 1005,
                    "status": "ok",
                    "timestamp": 1547045125008,
                    "user": {
                        "displayName": "今西航平",
                        "photoUrl": "",
                        "userId": "07749145107279807976"
                    },
                    "user_tz": -540
                },
                "id": "NEM2b7x56BZs",
                "outputId": "f1b660be-1428-4c4c-a911-b8b38b1a824a"
            },
            "outputs": [
                {
                    "data": {
                        "text/plain": [
                            "<matplotlib.image.AxesImage at 0x7f345a7fe048>"
                        ]
                    },
                    "execution_count": 60,
                    "metadata": {
                        "tags": []
                    },
                    "output_type": "execute_result"
                },
                {
                    "data": {
                        "image/png": "[encoded data removed]",
                        "text/plain": [
                            "<matplotlib.figure.Figure at 0x7f345cb4e128>"
                        ]
                    },
                    "metadata": {
                        "tags": []
                    },
                    "output_type": "display_data"
                }
            ],
            "source": [
                "plt.imshow(x.reshape(28, 28))"
            ]
        },
        {
            "cell_type": "code",
            "execution_count": 48,
            "metadata": {
                "colab": {},
                "colab_type": "code",
                "id": "hT-D08e-6BZv"
            },
            "outputs": [],
            "source": [
                "with chainer.using_config('train', False), chainer.using_config('enable_backprop', False):\n",
                "    y = model.predictor(np.array([x], 'f'))"
            ]
        },
        {
            "cell_type": "markdown",
            "metadata": {
                "colab_type": "text",
                "id": "7k-beT-H6BZw"
            },
            "source": [
                "予測値`y`の値を確認してわかる通り、各クラスに属する値の回帰であるため、まだ分類の結果とは言えません。"
            ]
        },
        {
            "cell_type": "code",
            "execution_count": 49,
            "metadata": {
                "colab": {
                    "base_uri": "https://localhost:8080/",
                    "height": 51
                },
                "colab_type": "code",
                "executionInfo": {
                    "elapsed": 561,
                    "status": "ok",
                    "timestamp": 1547045125857,
                    "user": {
                        "displayName": "今西航平",
                        "photoUrl": "",
                        "userId": "07749145107279807976"
                    },
                    "user_tz": -540
                },
                "id": "v_WNxDX16BZx",
                "outputId": "608ee988-c1df-4727-90de-c5efaf024c18"
            },
            "outputs": [
                {
                    "data": {
                        "text/plain": [
                            "variable([[-2.612027 ,  1.0188488, -1.0129777,  5.6842365, -1.4658473,\n",
                            "            1.9359924, -3.3851867, -2.7561214,  2.248133 ,  0.5093903]])"
                        ]
                    },
                    "execution_count": 62,
                    "metadata": {
                        "tags": []
                    },
                    "output_type": "execute_result"
                }
            ],
            "source": [
                "y"
            ]
        },
        {
            "cell_type": "markdown",
            "metadata": {
                "colab_type": "text",
                "id": "sFaEIyAv6BZz"
            },
            "source": [
                "`softmax`関数をかけることで、総和が1となる確率の形式で表現できます。"
            ]
        },
        {
            "cell_type": "code",
            "execution_count": 50,
            "metadata": {
                "colab": {
                    "base_uri": "https://localhost:8080/",
                    "height": 68
                },
                "colab_type": "code",
                "executionInfo": {
                    "elapsed": 724,
                    "status": "ok",
                    "timestamp": 1547045126258,
                    "user": {
                        "displayName": "今西航平",
                        "photoUrl": "",
                        "userId": "07749145107279807976"
                    },
                    "user_tz": -540
                },
                "id": "aIk67Fm46BZ0",
                "outputId": "55e576dc-2fd6-4725-ea2e-89c7e1645d14"
            },
            "outputs": [
                {
                    "data": {
                        "text/plain": [
                            "variable([[2.3238509e-04, 8.7715778e-03, 1.1499175e-03, 9.3160075e-01,\n",
                            "           7.3111890e-04, 2.1947650e-02, 1.0725787e-04, 2.0120041e-04,\n",
                            "           2.9988101e-02, 5.2701463e-03]])"
                        ]
                    },
                    "execution_count": 63,
                    "metadata": {
                        "tags": []
                    },
                    "output_type": "execute_result"
                }
            ],
            "source": [
                "y = F.softmax(y)\n",
                "y"
            ]
        },
        {
            "cell_type": "code",
            "execution_count": 51,
            "metadata": {
                "colab": {
                    "base_uri": "https://localhost:8080/",
                    "height": 34
                },
                "colab_type": "code",
                "executionInfo": {
                    "elapsed": 579,
                    "status": "ok",
                    "timestamp": 1547045126259,
                    "user": {
                        "displayName": "今西航平",
                        "photoUrl": "",
                        "userId": "07749145107279807976"
                    },
                    "user_tz": -540
                },
                "id": "aRHRLCQP6BZ4",
                "outputId": "1239a6fd-d8f9-43df-eea2-1533fb689dbf"
            },
            "outputs": [
                {
                    "data": {
                        "text/plain": [
                            "variable(1.0000001)"
                        ]
                    },
                    "execution_count": 64,
                    "metadata": {
                        "tags": []
                    },
                    "output_type": "execute_result"
                }
            ],
            "source": [
                "np.sum(y)"
            ]
        },
        {
            "cell_type": "code",
            "execution_count": 52,
            "metadata": {
                "colab": {},
                "colab_type": "code",
                "id": "mlyRoy1e6BZ9"
            },
            "outputs": [],
            "source": [
                "y = y.array"
            ]
        },
        {
            "cell_type": "code",
            "execution_count": 53,
            "metadata": {
                "colab": {
                    "base_uri": "https://localhost:8080/",
                    "height": 34
                },
                "colab_type": "code",
                "executionInfo": {
                    "elapsed": 1645,
                    "status": "ok",
                    "timestamp": 1547045128677,
                    "user": {
                        "displayName": "今西航平",
                        "photoUrl": "",
                        "userId": "07749145107279807976"
                    },
                    "user_tz": -540
                },
                "id": "_3Mmme486BaB",
                "outputId": "5480ed97-6ec9-4f3e-9d6f-45228d154d0e"
            },
            "outputs": [
                {
                    "data": {
                        "text/plain": [
                            "numpy.ndarray"
                        ]
                    },
                    "execution_count": 66,
                    "metadata": {
                        "tags": []
                    },
                    "output_type": "execute_result"
                }
            ],
            "source": [
                "type(y)"
            ]
        },
        {
            "cell_type": "code",
            "execution_count": 54,
            "metadata": {
                "colab": {
                    "base_uri": "https://localhost:8080/",
                    "height": 34
                },
                "colab_type": "code",
                "executionInfo": {
                    "elapsed": 618,
                    "status": "ok",
                    "timestamp": 1547045129083,
                    "user": {
                        "displayName": "今西航平",
                        "photoUrl": "",
                        "userId": "07749145107279807976"
                    },
                    "user_tz": -540
                },
                "id": "aMbi2q8x6BaE",
                "outputId": "9fc79971-060d-4f64-e238-f28d809fdf4a"
            },
            "outputs": [
                {
                    "data": {
                        "text/plain": [
                            "array([3])"
                        ]
                    },
                    "execution_count": 67,
                    "metadata": {
                        "tags": []
                    },
                    "output_type": "execute_result"
                }
            ],
            "source": [
                "np.argmax(y, axis=1)"
            ]
        },
        {
            "cell_type": "markdown",
            "metadata": {
                "colab_type": "text",
                "id": "7Tqf_qtK6BaL"
            },
            "source": [
                "要素番号が3と推測されており、教師データである3と見事に一致します。\n",
                "\n",
                "次のデータセットでも確認してみます。"
            ]
        },
        {
            "cell_type": "code",
            "execution_count": 55,
            "metadata": {
                "colab": {},
                "colab_type": "code",
                "id": "GnRdImnA6BaN"
            },
            "outputs": [],
            "source": [
                "x, t = train[1]"
            ]
        },
        {
            "cell_type": "code",
            "execution_count": 56,
            "metadata": {
                "colab": {
                    "base_uri": "https://localhost:8080/",
                    "height": 34
                },
                "colab_type": "code",
                "executionInfo": {
                    "elapsed": 1175,
                    "status": "ok",
                    "timestamp": 1547045130869,
                    "user": {
                        "displayName": "今西航平",
                        "photoUrl": "",
                        "userId": "07749145107279807976"
                    },
                    "user_tz": -540
                },
                "id": "QOhcDmCa6BaR",
                "outputId": "21a6b60b-0c63-4ff4-eacf-3758c027a050"
            },
            "outputs": [
                {
                    "data": {
                        "text/plain": [
                            "6"
                        ]
                    },
                    "execution_count": 69,
                    "metadata": {
                        "tags": []
                    },
                    "output_type": "execute_result"
                }
            ],
            "source": [
                "t"
            ]
        },
        {
            "cell_type": "code",
            "execution_count": 57,
            "metadata": {
                "colab": {
                    "base_uri": "https://localhost:8080/",
                    "height": 364
                },
                "colab_type": "code",
                "executionInfo": {
                    "elapsed": 1405,
                    "status": "ok",
                    "timestamp": 1547045131259,
                    "user": {
                        "displayName": "今西航平",
                        "photoUrl": "",
                        "userId": "07749145107279807976"
                    },
                    "user_tz": -540
                },
                "id": "N24fN36q6BaU",
                "outputId": "7e8df577-4094-4db6-8f4e-f5095b106aad"
            },
            "outputs": [
                {
                    "data": {
                        "text/plain": [
                            "<matplotlib.image.AxesImage at 0x7f345a7df1d0>"
                        ]
                    },
                    "execution_count": 70,
                    "metadata": {
                        "tags": []
                    },
                    "output_type": "execute_result"
                },
                {
                    "data": {
                        "image/png": "[encoded data removed]",
                        "text/plain": [
                            "<matplotlib.figure.Figure at 0x7f345a81fcc0>"
                        ]
                    },
                    "metadata": {
                        "tags": []
                    },
                    "output_type": "display_data"
                }
            ],
            "source": [
                "plt.imshow(x.reshape(28, 28))"
            ]
        },
        {
            "cell_type": "code",
            "execution_count": 58,
            "metadata": {
                "colab": {
                    "base_uri": "https://localhost:8080/",
                    "height": 34
                },
                "colab_type": "code",
                "executionInfo": {
                    "elapsed": 1264,
                    "status": "ok",
                    "timestamp": 1547045131261,
                    "user": {
                        "displayName": "今西航平",
                        "photoUrl": "",
                        "userId": "07749145107279807976"
                    },
                    "user_tz": -540
                },
                "id": "xH3XbEF_6BaX",
                "outputId": "3843c3e3-1c32-4c86-80e4-1b1ea039e7dc"
            },
            "outputs": [
                {
                    "data": {
                        "text/plain": [
                            "array([6])"
                        ]
                    },
                    "execution_count": 71,
                    "metadata": {
                        "tags": []
                    },
                    "output_type": "execute_result"
                }
            ],
            "source": [
                "y = model.predictor(np.array([x], 'f'))\n",
                "y = F.softmax(y).array\n",
                "np.argmax(y, axis=1)"
            ]
        },
        {
            "cell_type": "markdown",
            "metadata": {
                "colab_type": "text",
                "id": "xd6Cnvvv6BaZ"
            },
            "source": [
                "こちらも正しく分類できていました。\n",
                "誤差が0ではないため、間違いがあることは許容していく必要があります。\n",
                "\n",
                "次章では、サンプルのMNISTではなく実際の画像を読み込み、CNNの実装までを行っていきます。"
            ]
        }
    ],
    "metadata": {
        "kernelspec": {
            "display_name": "Python 3",
            "language": "python",
            "name": "python3"
        },
        "language_info": {
            "codemirror_mode": {
                "name": "ipython",
                "version": 3
            },
            "file_extension": ".py",
            "mimetype": "text/x-python",
            "name": "python",
            "nbconvert_exporter": "python",
            "pygments_lexer": "ipython3",
            "version": "3.6.8"
        }
    },
    "nbformat": 4,
    "nbformat_minor": 1
}