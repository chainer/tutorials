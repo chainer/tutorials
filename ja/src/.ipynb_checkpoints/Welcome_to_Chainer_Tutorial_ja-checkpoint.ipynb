{
 "cells": [
  {
   "cell_type": "markdown",
   "metadata": {},
   "source": [
    "# このチュートリアルについて\n",
    "\n",
    "Chainer Tutorial へようこそ。このチュートリアルは、機械学習や深層学習に興味があり、その仕組みや使い方を理解したいと考えている、大学学部生以上の方へ向けて、機械学習の勉強を進めるために必要な数学の知識から、Python というプログラミング言語を用いたコーディングの基本、機械学習・深層学習の基礎的な理論、画像認識や自然言語処理などに機械学習を応用する方法に至るまで、幅広いトピックを一気通貫で学べるよう、多数の有志によって書かれたオンライン学習資料です。\n",
    "\n",
    "本チュートリアルサイトの最大の特徴は、多くのページに埋め込まれているプログラムコードが、（Google Colaboratory というサイトで開き直すことで）**そのままブラウザ上で実行できるようになっている**ことです。ブラウザだけでコードを書き、実行して、結果を確認することができれば、読者の方々は手元のコンピュータに Python のコードを実行できる環境を整備する必要がなくなります。このために本チュートリアルサイトでは Google が提供している Google Colaboratory というウェブサービスを利用します。これを利用するためには、Google アカウントを持っている必要があります。\n",
    "\n",
    "このページでは、Google Colaboratory の基本的な使い方を説明します。"
   ]
  },
  {
   "cell_type": "markdown",
   "metadata": {},
   "source": [
    "## 必要なもの\n",
    "\n",
    "- Google アカウント（お持ちでない場合は、こちらからお作りください：[Google アカウントの作成](https://accounts.google.com/signup)）\n",
    "- ウェブブラウザ（ Google Colaboratory はほとんどの主要なブラウザで動作します。PC 版の Chrome と Firefox では完全に動作するよう検証されています。）"
   ]
  },
  {
   "cell_type": "markdown",
   "metadata": {
    "colab_type": "text",
    "id": "D3QflLv0qdiy"
   },
   "source": [
    "## Google Colaboratory の基本\n",
    "\n",
    "Google Colaboratory（以下 Colab ）は、Jupyter Notebook（[jupyter.org](https://jupyter.org/)） という、ブラウザ上でコードを書き、実行結果を確認したり、Markdown （[Markdown とは](http://www.markdown.jp/what-is-markdown/)）と呼ばれる記法を使って、メモや解説などをコードのすぐそばに書き、きれいにレンダリングして表示することができるオープンソースのウェブアプリケーションです。データ分析や研究、教育などで広く用いられています。Colab は、Jupyter Notebook を設定不要で利用できるようにしたウェブサービスです。本節では、その基本的な使い方を説明します。"
   ]
  },
  {
   "cell_type": "markdown",
   "metadata": {},
   "source": [
    "### Colab を開く\n",
    "\n",
    "まずは以下のURLにアクセスして、ブラウザで Colab を開いてみましょう。\n",
    "[https://colab.research.google.com/](https://colab.research.google.com/)\n",
    "\n",
    "「こんにちはColaboratory」というタイトルの Jupyter Notebook が開きます。タイトルの下にある「ファイル」から、「Python 3 の新しいノートブック」を選択し、まっさらな Jupyter Notebook を作成しましょう。\n",
    "\n",
    "![create_new_Python3_notebook.png](images/1/create_new_Python3_notebook.png)\n",
    "\n",
    "もしまだ Google アカウントにログインしていなかった場合は、以下のようなメッセージが表示されます。\n",
    "\n",
    "![please_login.png](images/1/please_login.png)\n",
    "\n",
    "その場合は、「ログイン」をクリックして、Google アカウントでログインしましょう。\n",
    "\n",
    "ログインが完了すると、以下のような画面となり、準備完了です。これで、もう Python を使ったプログラミングをすぐに開始することができます。\n",
    "\n",
    "![new_python3_notebook.png](images/1/new_python3_notebook.png)"
   ]
  },
  {
   "cell_type": "markdown",
   "metadata": {},
   "source": [
    "### 「Open in Colab」ボタン\n",
    "\n",
    "このチュートリアルのほとんど全てのページには、「Open in Colab」と書かれた以下のようなボタンが付いています。\n",
    "\n",
    "[![open in colab](https://colab.research.google.com/assets/colab-badge.svg)](https://colab.research.google.com/github/mitmul/learn-chainer/blob/master/src/How_to_use_this_tutorial_ja.ipynb)\n",
    "\n",
    "このボタンを押すと、今ブラウザで見ているチュートリアルのページが、Google Colaboratory 上に準備された Jupyter Notebook として開くことができます。こうすると、チュートリアルの中で説明に用いられているコードを、実際に実行してみて結果を確認することができます。\n",
    "\n",
    "それでは、早速上のボタンか、このページの上部に配置されている「Open in Colab」ボタンを押して、このページを Colab で開いてください。すると、「Playground モード」という編集不可な状態でノートブックが Colab 上で開かれます。そこで、まずは下図の位置にある「ドライブにコピー」というボタンを押して、自分の Google Drive 上にこのノートブックをコピーしてください。このボタンを押すと、コピーされたノートブックが自動的に開くので、以降はそのページで作業を行います。\n",
    "\n",
    "![copy_to_mydrive.png](images/1/copy_to_mydrive.png)\n",
    "\n",
    "**この「Open in Colab」から Colab を開き、自分のドライブへノートブックをコピーして編集していくのが、本チュートリアルサイトの多くのページで共通した開始方法になります。**"
   ]
  },
  {
   "cell_type": "markdown",
   "metadata": {},
   "source": [
    "### Colab の基本的な使い方\n",
    "\n",
    "今 Colab で開いたこのチュートリアルのページのような、Colab 上の Jupyter Notebook を以降、単に「ノートブック」と呼びます。一つのノートブックは、「セル」と呼ばれるものが集まってできています。セルは、矢印キーや、そのセルの内側のどこかをクリックすることで「選択」状態にすることができ、選択されると周囲に影がつくようなものです。\n",
    "\n",
    "一つ一つのセルには、**タイプ**があります。タイプには2種類あり、一つは**コードセル**と呼ばれ、Python のコードを書き込むことができるセルです。もう一つは**テキストセル**と呼ばれ、Markdown 形式で装飾された文書を書き込むことができます。\n",
    "\n",
    "それぞれのセルは、そのセルの領域のどこかをクリックすると選択することができます。コードセルは、選択を行うとすぐに編集が開始できる状態になります。一方、テキストセルは、ダブルクリックをすると編集モードに入ることができます。それぞれのセルタイプについて具体的に見ていきます。"
   ]
  },
  {
   "cell_type": "markdown",
   "metadata": {},
   "source": [
    "#### コードセル\n",
    "\n",
    "コードセルは、Python で書かれたコードを書き入れる場所です。実行するには、コードセルを選択した状態で、「Ctrl + Enter」または「Shift + Enter」を押します。試しに、下のセルを選択して、「Ctrl + Enter」を押してみてください。"
   ]
  },
  {
   "cell_type": "code",
   "execution_count": 6,
   "metadata": {},
   "outputs": [
    {
     "name": "stdout",
     "output_type": "stream",
     "text": [
      "Hello world! Hello world! Hello world! \n"
     ]
    }
   ],
   "source": [
    "print('Hello world! ' * 3)"
   ]
  },
  {
   "cell_type": "markdown",
   "metadata": {},
   "source": [
    "すぐ下に、Hello world! という文字列が3回表示されたと思います。実はこれは、Python のコードです。Python については、次の章でもう少し詳しく説明をするため、ここではこれ以上触れません。"
   ]
  },
  {
   "cell_type": "markdown",
   "metadata": {},
   "source": [
    "#### テキストセル\n",
    "\n",
    "テキストセルは、Markdown 形式で記述された文書を書き入れる場所です。試しに、このセルを**ダブルクリック**してみてください。テキストセルが編集モードになり、Markdown 形式で文書を装飾するための、先程までは表示されていなかった記号が見えるようになったはずです。その状態で、「Shift + Enter」を押してみましょう。もとのレンダリングされた文章の表示に戻ったはずです。"
   ]
  },
  {
   "cell_type": "markdown",
   "metadata": {},
   "source": [
    "### Colab から Google Drive を使う\n",
    "\n",
    "ノートブックのコードセルから、簡単に Google Drive にファイルを保存したり、ファイルを読み込んだりすることができます。"
   ]
  },
  {
   "cell_type": "markdown",
   "metadata": {
    "colab_type": "text",
    "id": "AfqUqCCb3ue8"
   },
   "source": [
    "#### Google Drive 上のディレクトリをマウントする\n",
    "\n",
    "試しに以下のセルを実行してみましょう。これは、ノートブックを作成した時点で読み込まれている Colab 専用のツールを使って、`/content/drive` というパスに現在ログイン中の Google アカウントが持っている Google Drive をマウントするコードです。"
   ]
  },
  {
   "cell_type": "code",
   "execution_count": null,
   "metadata": {
    "colab": {
     "base_uri": "https://localhost:8080/",
     "height": 122
    },
    "colab_type": "code",
    "id": "TI3-V_gN3Ekr",
    "outputId": "093b6117-b169-4fa4-ca65-43d3f93c63a6"
   },
   "outputs": [],
   "source": [
    "from google.colab import drive\n",
    "drive.mount('/content/drive')"
   ]
  },
  {
   "cell_type": "markdown",
   "metadata": {},
   "source": [
    "このノートブックを Colab で開いてから初めて上のコードセルを実行した場合は、以下のようなメッセージが表示されます。\n",
    "\n",
    "![please_authorize.png](images/1/please_authorize.png)\n",
    "\n",
    "指示に従って表示されているURLへアクセスしましょう。すると、「アカウントの選択」と書かれたページに飛び、すでにログイン済みの場合はログイン中の Google アカウントのアドレス等が表示されています。これをクリックして次に進みましょう。すると次に、「Google Drive File Stream が Google アカウントへのアクセスをリクエストしています」と書かれたページに飛びます。\n",
    "\n",
    "![access_request.png](images/1/access_request.png)\n",
    "\n",
    "右下に「許可」と書かれたボタンが見えるはずです。こちらをクリックしてください。すると以下のように authorization code が記載されたページへ移動します。\n",
    "\n",
    "![access_code.png](images/1/access_code.png)\n",
    "\n",
    "（この画像では authorization code 部分をぼかしています）\n",
    "このコードを選択してコピーするか、右側にあるアイコンをクリックしてauthorization codeをコピーしてください。\n",
    "\n",
    "元のノートブックへ戻り、「Enter your authorization code:」というメッセージの下にある空欄にコピーした authorization code を貼り付けて、Enter キーを押してください。\n",
    "\n",
    "**「Mounted at /content/drive」と表示されたら、準備完了です。**\n",
    "\n",
    "以下のセルを実行して、自分の Google Drive が Colab からアクセス可能になっていることを確認しましょう。"
   ]
  },
  {
   "cell_type": "code",
   "execution_count": null,
   "metadata": {
    "colab": {
     "base_uri": "https://localhost:8080/",
     "height": 34
    },
    "colab_type": "code",
    "id": "osShvuIQ3GFy",
    "outputId": "2d3846e4-1c2e-4cd3-c403-0813f6f40d99"
   },
   "outputs": [],
   "source": [
    "# 'My Drive'の表記が出ていればマウントがうまく行われています。\n",
    "!ls 'drive/'"
   ]
  },
  {
   "cell_type": "markdown",
   "metadata": {
    "colab_type": "text",
    "id": "jZNTuBQ54BSu"
   },
   "source": [
    "### Colab の便利なショートカット\n",
    "\n",
    "Colab を使用中は、セルのタイプの変更やセルの複製・追加などの作業を頻繁に行います。そこで、下記のショートカットキーを覚えておくと便利です。多くのショートカットは**二段階**になっており、まず「Ctrl + m」を押してから、それぞれの機能によって異なるコマンドを入力します。\n",
    "\n",
    "| 説明                 | コマンド      |\n",
    "| -------------------- | ------------- |\n",
    "| Markdownモードへ変更 | Ctrl + m → m |\n",
    "| Codeモードへ変更     | Ctrl + m → y |\n",
    "| セルの実行           | shift + enter |\n",
    "| セルを上に追加       | Ctrl + m → a |\n",
    "| セルを下に追加       | Ctrl + m → b |\n",
    "| セルのコピー         | Ctrl + m → c |\n",
    "| セルの貼り付け       | Ctrl + m → v |\n",
    "| セルの消去           | Ctrl + m → d |\n",
    "| コメントアウト       | Ctrl + /      |\n",
    "\n",
    "※コメントアウトとは、コード中で実行時に無視したい行やコメントを選択した状態で行います。Python では、`#` の後に続く文字列は全て、コメントとして無視され、実行時に評価されません。"
   ]
  }
 ],
 "metadata": {
  "colab": {
   "collapsed_sections": [],
   "name": "Welcome to Chainer Tutorial",
   "provenance": [],
   "version": "0.3.2"
  },
  "kernelspec": {
   "display_name": "Python 3",
   "language": "python",
   "name": "python3"
  },
  "language_info": {
   "codemirror_mode": {
    "name": "ipython",
    "version": 3
   },
   "file_extension": ".py",
   "mimetype": "text/x-python",
   "name": "python",
   "nbconvert_exporter": "python",
   "pygments_lexer": "ipython3",
   "version": "3.6.7"
  }
 },
 "nbformat": 4,
 "nbformat_minor": 1
}
