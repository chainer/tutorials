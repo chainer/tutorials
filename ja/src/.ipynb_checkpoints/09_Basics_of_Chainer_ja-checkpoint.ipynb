{
 "cells": [
  {
   "cell_type": "markdown",
   "metadata": {
    "colab_type": "text",
    "id": "mNPT_YbeNem3"
   },
   "source": [
    "# Chainer の基礎\n",
    "\n",
    "本章では、ディープラーニングフレームワーク Chainer の基本的な使い方を説明します。\n",
    "\n",
    "Google Colaboratory では予め Chainer がインストールされているため環境構築の必要はありません。\n",
    "もし自分の PC 等に Chaier をインストールしたい場合は、[chainer.org](https://chainer.org/) の Quick Start に書かれた手順を参考にインストールしてください。"
   ]
  },
  {
   "cell_type": "markdown",
   "metadata": {},
   "source": [
    "## Chainer とは\n",
    "\n",
    "Chainer はオープンソースのディープラーニングフレームワークです。\n",
    "こちらのGithubリポジトリ：[chainer/chainer](https://github.com/chainer/chainer) で活発に開発が行われています。\n",
    "オープンソースソフトウェアであるため、誰でも Chainer の全てのコードを Github 上で見ることができます。\n",
    "\n",
    "ディープラーニングフレームワークとは、これまでの章で説明してきたようなニューラルネットワークの設計・訓練・評価などに必要な一連の実装を容易にするためのフレームワークです。\n",
    "特に層数の多いニューラルネットワークを GPU などを用いて高速に訓練できるようにする機能を備えたものを指すことが多く、Chainer の他にも様々なディープラーニングフレームワークが発表されています。\n",
    "\n",
    "Chainer の特徴は、ディープラーニングを学び始めたばかりの初学者から、新しい手法の発見を目指す研究者、実用的なシステムへの応用を行いたい開発者まで、多岐にわたるユーザが、様々なアイデアを試し、評価して、その結果に基づいてまた新たなアイデアを試す、という試行錯誤のループを高速に回せることを目指しているところにあります。\n",
    "\n",
    "まず第一に、思い浮かんだアイデアをソースコードに落とし込む作業がすばやく行えることが重要です。\n",
    "そのために Chainer は、**全ての機能が直感的なインターフェースを備えているように**、また**数式とコードの間で記述が大きく乖離しないように**、注意深くデザインされています。\n",
    "\n",
    "また、試行錯誤の過程で**間違ったコードを書いてしまったときにも、どの箇所が間違っているのかが発見しやすくなっている**ことも重要です。\n",
    "Chainer は、**エラーメッセージを分かりやすくし、デバッグ用の機能を提供する**などでこれを助けます。\n",
    "\n",
    "また、実装したアイデアが思ったとおりの効果を上げるどうかを調べるための実験を短い時間で終えられれば、次のアイデアを試すまでの時間も短くなり、結果として試行錯誤のループを高速に回すことができます。\n",
    "そのためには、実験結果が出るまでに掛かる時間を短くする必要があります。\n",
    "Chainer は、**時間の掛かる計算を複数のマシンやデバイスに分散させて高速に処理する**機能や、状況に合わせて少ない手間で様々な処理を最適化する機能も持っており、一つの実験結果が出るまでの時間を短くする色々な方法が提供されています。\n",
    "\n",
    "さらに、ニューラルネットワークが訓練されていく過程で出力される様々な値を、視覚的にチェックすることができる ChainerUI という拡張パッケージによって、 試行錯誤のループに直感的な判断を加えることが容易になります。\n",
    "\n",
    "また、ディープラーニングは様々な分野で応用されており、扱われるデータの種類や組み合わされるアルゴリズムの種類は多岐にわたります。 \n",
    "Chainer では画像認識、化学・生物学、強化学習などの分野における応用をスムーズに開始できるよう、\n",
    "\n",
    "- 画像認識タスク向けに ChainerCV\n",
    "- 化学・生物学分野向けに Chainer Chemistry\n",
    "- 深層強化学習のために ChainerRL\n",
    "\n",
    "という拡張ライブラリも提供しています。\n",
    "これらのライブラリでは、それぞれの分野にディープラーニングを応用するための便利な機能や、最先端の手法の実装コード、学習済みモデルなどが商用利用も可能な自由な形で提供されているため、各分野への入門から研究への活用、そして実用アプリケーションの開発に至るまで、広く利用することができます。\n",
    "\n",
    "さらに、ディープラーニングにはモデルを訓練する段階と、できあがったモデルを活用する推論の段階があり、Chainer は推論を行うのに便利な機能やエコシステムもサポートしています。\n",
    "Chainer はディープラーニングのモデルを表現するための標準フォーマットである ONNX での出力に対応しており、Chainer で訓練したモデルを他のフレームワークや推論専用のライブラリで読み込むことができます。\n",
    "また、Chainer で作られたモデルを公式にサポートしている推論ライブラリ Menoh も開発されており、デバイスやプログラミング言語を問わず、様々な環境にデプロイできます。\n",
    "\n",
    "Chainer は、**研究開発から実用化まで、一貫して用いられるよう意識されたフレームワークです。**"
   ]
  },
  {
   "cell_type": "markdown",
   "metadata": {
    "colab_type": "text",
    "id": "_CMCHQhNDfXm"
   },
   "source": [
    "## Chainer によるニューラルネットワークの実装\n",
    "\n",
    "本節では、全結合型のニューラルネットワークの定義、順伝播、重みの更新までの一連の流れを Chainer を用いて記述する方法を解説します。\n",
    "\n",
    "### Chainer の読み込み\n",
    "\n",
    "Google Colaboratory 上では Chainer は予めインストールされているため、ノートブックを開くとすでに Chainer のモジュールを読み込む準備が整っています。\n",
    "\n",
    "さっそく、Chainer を `import` して Chainer を使う準備をしましょう。"
   ]
  },
  {
   "cell_type": "code",
   "execution_count": 5,
   "metadata": {
    "colab": {},
    "colab_type": "code",
    "id": "4HTUEiZVPqQO"
   },
   "outputs": [],
   "source": [
    "import chainer"
   ]
  },
  {
   "cell_type": "markdown",
   "metadata": {
    "colab_type": "text",
    "id": "BWJ07kf2QWRB"
   },
   "source": [
    "Chainer には `print_runtime_info()` という関数が用意されており、これを実行することでインストールされている Chainer のバージョンや、計算に GPU が利用可能か、などの情報を調べることができます。"
   ]
  },
  {
   "cell_type": "code",
   "execution_count": 6,
   "metadata": {
    "colab": {
     "base_uri": "https://localhost:8080/",
     "height": 35
    },
    "colab_type": "code",
    "id": "jgMiqMlWQT1d",
    "outputId": "4185c08a-b1e2-4666-c69e-7c3577bfbf74"
   },
   "outputs": [
    {
     "name": "stdout",
     "output_type": "stream",
     "text": [
      "Platform: Darwin-18.5.0-x86_64-i386-64bit\n",
      "Chainer: 5.3.0\n",
      "NumPy: 1.16.2\n",
      "CuPy: Not Available\n",
      "iDeep: Not Available\n"
     ]
    }
   ],
   "source": [
    "chainer.print_runtime_info()"
   ]
  },
  {
   "cell_type": "markdown",
   "metadata": {
    "colab_type": "text",
    "id": "AiVTAcCSQlUX"
   },
   "source": [
    "### ニューラルネットワークの定義\n",
    "\n",
    "初めに、前章の説明文中でも用いた下の図のようなニューラルネットワークを Chainer を用いて定義する方法を説明します。\n",
    "図より、入力データは 3 次元ベクトル、出力は 2 次元ベクトルとなっています。\n",
    "下の図では、バイアスを重み行列に含めて扱うため常に 1 を出力するノードが入力に付け加えられていることに注意してください。\n",
    "\n",
    "![ネットワークの定義](images/09/09_02.png)\n",
    "\n",
    "本章では、ニューラルネットワークを構成する「層」という言葉を、これまでの説明で用いてきたノードの縦の集まりに対してではなく、ノードとノードの間の変換もしくはその変換を行う関数を指して、用います。\n",
    "よって上の図のニューラルネットワークは、全結合層 1 つからなる 1 層のニューラルネットワークということになります。\n",
    "「層」が何を指すかは文献によっても異なっている場合もあるため、注意してください。\n",
    "\n",
    "さて、Chainer はニューラルネットワークを定義するための色々なクラスや機能を提供していますが、各層をどのように定義するか、という点においては、以下の 2 点が共通した特徴となっています。\n",
    "\n",
    "Chainer では\n",
    "\n",
    "- パラメータを持つ関数で表される層は `Link`クラス\n",
    "- パラメータを持たない関数で表される層は `Function` クラス\n",
    "\n",
    "をそれぞれ用いて定義します。\n",
    "以降では、パラメータを持つ、もしくは持たない関数で表される層のことを、簡単に、パラメータを持つ層、持たない層、という言い方をします。\n",
    "\n",
    "パラメータを持つ層にも色々な種類があり、`Link` を継承して定義された様々なクラスが `chainer.links` モジュール以下に用意されています。\n",
    "パラメータを持たない層には、`chainer.functions` モジュール以下に用意されています。\n",
    "\n",
    "さっそく、この 2 つのモジュールを import して、よく使われる別名を与えてみましょう。"
   ]
  },
  {
   "cell_type": "code",
   "execution_count": 7,
   "metadata": {
    "colab": {},
    "colab_type": "code",
    "id": "obC35C9vZ0kn"
   },
   "outputs": [],
   "source": [
    "import chainer.links as L\n",
    "import chainer.functions as F"
   ]
  },
  {
   "cell_type": "markdown",
   "metadata": {
    "colab_type": "text",
    "id": "8ggPJscZQ5_W"
   },
   "source": [
    "このように、`chainer.links` には `L`、`chainer.functions` には `F` という別名を与えて使う慣習がありますが、特にこれが決まった書き方だというわけではありません。\n",
    "\n",
    "ニューラルネットワークは様々な層が結合してできていますが、そのような全体構成の定義の仕方を説明する前に、要素となる各層の定義の仕方を説明します。"
   ]
  },
  {
   "cell_type": "markdown",
   "metadata": {},
   "source": [
    "#### 全結合層の定義\n",
    "\n",
    "まずは、上の図の 3 次元ベクトルを受け取って 2 次元ベクトルを出力する全結合層を層単体で定義してみます。"
   ]
  },
  {
   "cell_type": "code",
   "execution_count": 8,
   "metadata": {
    "colab": {},
    "colab_type": "code",
    "id": "lA1HFrE1RLaK"
   },
   "outputs": [],
   "source": [
    "# 全結合層の定義\n",
    "l1 = L.Linear(3, 2)"
   ]
  },
  {
   "cell_type": "markdown",
   "metadata": {
    "colab_type": "text",
    "id": "CpQnSjqWRV7L"
   },
   "source": [
    "上記のコードは、`chainer.links` の下にある `Linear` というクラスを `3, 2` という引数で呼び出してインスタンス化し、結果を `l1` という名前の変数へ代入しています。\n",
    "Linear 層は第 1 引数に入力ベクトルのサイズをとり、第 2 引数に出力ベクトルのサイズをとります。\n",
    "そのため、上記コードは**「入力ベクトルのサイズが 3、出力ベクトルのサイズが 2 であるような全結合層を定義し、`l1` という名前をつける」**ということを行っています。\n",
    "\n",
    "この Linear という名前は、前章で学んだ**線形変換 (linear transform)** を行う層であることに由来しています。線形変換では、重み行列 ${\\bf W}$ とバイアスベクトル ${\\bf b}$ という 2 つのパラメータを用いていました。Chainer の Linear 層は `W` と `b` という属性をもち、それぞれ重み行列とバイアスベクトルに対応しています。先程定義した `l1` が持っているこれら 2 つのパラメータの値を確認してみましょう。"
   ]
  },
  {
   "cell_type": "code",
   "execution_count": 13,
   "metadata": {
    "colab": {
     "base_uri": "https://localhost:8080/",
     "height": 54
    },
    "colab_type": "code",
    "id": "5vgE1nrfRj7l",
    "outputId": "f96dce1f-4f1c-4883-a2e8-9792f7c9fe63"
   },
   "outputs": [
    {
     "data": {
      "text/plain": [
       "variable W([[ 0.7770832 ,  0.26944697,  0.3890561 ],\n",
       "            [ 0.2786976 , -0.4332351 ,  0.17117792]])"
      ]
     },
     "execution_count": 13,
     "metadata": {},
     "output_type": "execute_result"
    }
   ],
   "source": [
    "# 重み W の確認\n",
    "l1.W"
   ]
  },
  {
   "cell_type": "code",
   "execution_count": 11,
   "metadata": {
    "colab": {
     "base_uri": "https://localhost:8080/",
     "height": 35
    },
    "colab_type": "code",
    "id": "5OEYnSK0Rl_Y",
    "outputId": "6532ff33-93e4-419b-b05e-e5342ded7d00"
   },
   "outputs": [
    {
     "data": {
      "text/plain": [
       "variable b([0., 0.])"
      ]
     },
     "execution_count": 11,
     "metadata": {},
     "output_type": "execute_result"
    }
   ],
   "source": [
    "# バイアス b の確認\n",
    "l1.b"
   ]
  },
  {
   "cell_type": "markdown",
   "metadata": {
    "colab_type": "text",
    "id": "9oTeoGlBRnHC"
   },
   "source": [
    "これらの値は、層を定義した時に自動的にランダムな初期値でパラメータが初期化されることで、決定されています。\n",
    "\n",
    "また、上の図から、重み行列は $2 \\times 3$ 行列であり、バイアスベクトルは $2$ 次元ベクトルになっているはずです。\n",
    "それぞれの形を表示します。"
   ]
  },
  {
   "cell_type": "code",
   "execution_count": 15,
   "metadata": {},
   "outputs": [
    {
     "data": {
      "text/plain": [
       "(2, 3)"
      ]
     },
     "execution_count": 15,
     "metadata": {},
     "output_type": "execute_result"
    }
   ],
   "source": [
    "l1.W.shape"
   ]
  },
  {
   "cell_type": "code",
   "execution_count": 16,
   "metadata": {},
   "outputs": [
    {
     "data": {
      "text/plain": [
       "(2,)"
      ]
     },
     "execution_count": 16,
     "metadata": {},
     "output_type": "execute_result"
    }
   ],
   "source": [
    "l1.b.shape"
   ]
  },
  {
   "cell_type": "markdown",
   "metadata": {
    "colab_type": "text",
    "id": "88OcqAuoDfYH"
   },
   "source": [
    "予想していた通りの形となっています。"
   ]
  },
  {
   "cell_type": "markdown",
   "metadata": {
    "colab_type": "text",
    "id": "Hsz6Xok_DfYS"
   },
   "source": [
    "### 乱数のシードを固定して再現性を確保\n",
    "\n",
    "前述のように、パラメータは層を定義したときに自動的に乱数で初期化されます。\n",
    "そのため、同じ形の層でもインスタンス化するたびに異なる初期値が与えられることになります。\n",
    "初期値が異なれば、同じデータセットを用いて同じニューラルネットワークを訓練したとしても、毎回結果が少し異なるものになる可能性があります。\n",
    "しかし、これは毎回同じ初期値が与えられるようにすることで解決することができます。\n",
    "**ニューラルネットワークでは、同じデータを用いれば何度訓練しても毎回全く同じ結果になるようにすることが可能です。**\n",
    "\n",
    "初期化時に毎回同じ初期値が与えられるようにするには、まず**乱数シード (random seed)** の固定を行う必要があります。\n",
    "本章では GPU は用いないため、今回固定すべき乱数シードは Python の random モジュールの乱数シードと、NumPy の random モジュールの乱数シードの 2 つです。これら 2 つの乱数シードを固定するには、以下のようにします。"
   ]
  },
  {
   "cell_type": "code",
   "execution_count": 33,
   "metadata": {
    "colab": {},
    "colab_type": "code",
    "id": "NJSVhGU1SYBk"
   },
   "outputs": [],
   "source": [
    "import numpy as np\n",
    "import random\n",
    "\n",
    "# 再現性確保のために乱数シードを固定\n",
    "np.random.seed(0)\n",
    "random.seed(0)"
   ]
  },
  {
   "cell_type": "markdown",
   "metadata": {
    "colab": {},
    "colab_type": "code",
    "id": "rrgw3mEwSaRI"
   },
   "source": [
    "ただし、GPU を用いる場合は、CuPy の乱数シードの固定と Chainer が持つ `chainer.config.cudnn_deterministic` という Chainer の動作を変更するための設定キーに `True` を与えるというさらに 2 つのことを行う必要があります。\n",
    "このための方法は、後の章で解説を行います。\n",
    "\n",
    "それでは、乱数シードを固定した状態で再度、全結合層を作成し、内部のパラメータの値を確認してみましょう。"
   ]
  },
  {
   "cell_type": "code",
   "execution_count": 34,
   "metadata": {
    "colab": {},
    "colab_type": "code",
    "id": "UkIr5hHTDfYZ"
   },
   "outputs": [
    {
     "name": "stdout",
     "output_type": "stream",
     "text": [
      "variable W([[ 1.0184761   0.23103087  0.5650746 ]\n",
      "            [ 1.2937803   1.0782351  -0.56423163]])\n",
      "variable b([0. 0.])\n"
     ]
    }
   ],
   "source": [
    "l1 = L.Linear(3, 2)\n",
    "\n",
    "# 重み W の確認\n",
    "print(l1.W)\n",
    "\n",
    "# バイアス b の確認\n",
    "print(l1.b)"
   ]
  },
  {
   "cell_type": "markdown",
   "metadata": {
    "colab_type": "text",
    "id": "VeQiqWTRSqaY"
   },
   "source": [
    "再度、乱数シードを固定し直し、同じ形の全結合層を作り直してみます。"
   ]
  },
  {
   "cell_type": "code",
   "execution_count": 36,
   "metadata": {},
   "outputs": [
    {
     "name": "stdout",
     "output_type": "stream",
     "text": [
      "variable W([[ 1.0184761   0.23103087  0.5650746 ]\n",
      "            [ 1.2937803   1.0782351  -0.56423163]])\n",
      "variable b([0. 0.])\n"
     ]
    }
   ],
   "source": [
    "# 再現性確保のために乱数シードを固定\n",
    "np.random.seed(0)\n",
    "random.seed(0)\n",
    "\n",
    "l2 = L.Linear(3, 2)\n",
    "\n",
    "# 重み W の確認\n",
    "print(l2.W)\n",
    "\n",
    "# バイアス b の確認\n",
    "print(l2.b)"
   ]
  },
  {
   "cell_type": "markdown",
   "metadata": {},
   "source": [
    "`l1` が持つパラメータと、`l2` が持つパラメータが同じ値になっています。\n",
    "上のコードセルは、何度実行しても同じ値が表示されるようになっていることを確認してください。"
   ]
  },
  {
   "cell_type": "markdown",
   "metadata": {
    "colab_type": "text",
    "id": "8s8awH9yS1js"
   },
   "source": [
    "### 線形変換\n",
    "\n",
    "それでは、上で定義した Linear 層を表す `l1` を用いて、以下のような線形変換を実行してみます。\n",
    "\n",
    "3 次元の入力ベクトル ${\\bf x}$ を用意し、`l1` が持っている重み行列 ${\\bf W}$ とバイアス ${\\bf b}$ というパラメータを用いて、\n",
    "\n",
    "$$\n",
    "{\\bf u} = {\\bf W}{\\bf x} + {\\bf b}\n",
    "$$\n",
    "\n",
    "という計算を行います。\n",
    "\n",
    "まず、入力ベクトル ${\\bf x}$ を定義します。"
   ]
  },
  {
   "cell_type": "code",
   "execution_count": 38,
   "metadata": {
    "colab": {},
    "colab_type": "code",
    "id": "rZlRAUobTE9a"
   },
   "outputs": [],
   "source": [
    "x = np.array([\n",
    "    [2, 3, 1],\n",
    "])"
   ]
  },
  {
   "cell_type": "markdown",
   "metadata": {},
   "source": [
    "ここではベクトルを 2 次元配列として定義しました。\n",
    "これは、Chainer では一番初めの次元は常にデータの個数に対応していることが期待されているためです。\n",
    "この `x` は形は `(1, 3)` ですが、これは 1 つの 3 次元ベクトル、という意味となります。\n",
    "\n",
    "Chainer では、確率的勾配降下法で行われるように、1 個以上の入力データをひとまとめにしたものがニューラルネットワークへ入力されることが想定されています。\n",
    "そのため、入力データを表す多次元配列の第 1 次元は、データの個数と同じサイズの次元になっている事が前提となっています。\n",
    "この次元を、バッチ次元と呼ぶこともあります。\n",
    "このような前提をおいても、1 つしかデータを入力しないということは問題なく行えます。\n",
    "\n",
    "それでは、作成した入力データを全結合層に与えてみましょう。\n",
    "`l1` は Linear という Link の一種で、`()` を使って入力を与えることで線形変換を実行し、結果を返してくれます。"
   ]
  },
  {
   "cell_type": "code",
   "execution_count": 40,
   "metadata": {
    "colab": {},
    "colab_type": "code",
    "id": "PP3iD8EdTGVx",
    "scrolled": true
   },
   "outputs": [
    {
     "ename": "InvalidType",
     "evalue": "\nInvalid operation is performed in: LinearFunction (Forward)\n\nExpect: x.dtype.kind == f\nActual: i != f",
     "output_type": "error",
     "traceback": [
      "\u001b[0;31m---------------------------------------------------------------------------\u001b[0m",
      "\u001b[0;31mInvalidType\u001b[0m                               Traceback (most recent call last)",
      "\u001b[0;32m<ipython-input-40-402484d1cd84>\u001b[0m in \u001b[0;36m<module>\u001b[0;34m\u001b[0m\n\u001b[1;32m      1\u001b[0m \u001b[0;31m# error\u001b[0m\u001b[0;34m\u001b[0m\u001b[0;34m\u001b[0m\u001b[0;34m\u001b[0m\u001b[0m\n\u001b[0;32m----> 2\u001b[0;31m \u001b[0mu\u001b[0m \u001b[0;34m=\u001b[0m \u001b[0ml1\u001b[0m\u001b[0;34m(\u001b[0m\u001b[0mx\u001b[0m\u001b[0;34m)\u001b[0m\u001b[0;34m\u001b[0m\u001b[0;34m\u001b[0m\u001b[0m\n\u001b[0m",
      "\u001b[0;32m~/.pyenv/versions/miniconda3-4.3.30/lib/python3.6/site-packages/chainer/link.py\u001b[0m in \u001b[0;36m__call__\u001b[0;34m(self, *args, **kwargs)\u001b[0m\n\u001b[1;32m    240\u001b[0m         \u001b[0;32mif\u001b[0m \u001b[0mforward\u001b[0m \u001b[0;32mis\u001b[0m \u001b[0;32mNone\u001b[0m\u001b[0;34m:\u001b[0m\u001b[0;34m\u001b[0m\u001b[0;34m\u001b[0m\u001b[0m\n\u001b[1;32m    241\u001b[0m             \u001b[0mforward\u001b[0m \u001b[0;34m=\u001b[0m \u001b[0mself\u001b[0m\u001b[0;34m.\u001b[0m\u001b[0mforward\u001b[0m\u001b[0;34m\u001b[0m\u001b[0;34m\u001b[0m\u001b[0m\n\u001b[0;32m--> 242\u001b[0;31m         \u001b[0mout\u001b[0m \u001b[0;34m=\u001b[0m \u001b[0mforward\u001b[0m\u001b[0;34m(\u001b[0m\u001b[0;34m*\u001b[0m\u001b[0margs\u001b[0m\u001b[0;34m,\u001b[0m \u001b[0;34m**\u001b[0m\u001b[0mkwargs\u001b[0m\u001b[0;34m)\u001b[0m\u001b[0;34m\u001b[0m\u001b[0;34m\u001b[0m\u001b[0m\n\u001b[0m\u001b[1;32m    243\u001b[0m \u001b[0;34m\u001b[0m\u001b[0m\n\u001b[1;32m    244\u001b[0m         \u001b[0;31m# Call forward_postprocess hook\u001b[0m\u001b[0;34m\u001b[0m\u001b[0;34m\u001b[0m\u001b[0;34m\u001b[0m\u001b[0m\n",
      "\u001b[0;32m~/.pyenv/versions/miniconda3-4.3.30/lib/python3.6/site-packages/chainer/links/connection/linear.py\u001b[0m in \u001b[0;36mforward\u001b[0;34m(self, x, n_batch_axes)\u001b[0m\n\u001b[1;32m    136\u001b[0m             \u001b[0min_size\u001b[0m \u001b[0;34m=\u001b[0m \u001b[0mfunctools\u001b[0m\u001b[0;34m.\u001b[0m\u001b[0mreduce\u001b[0m\u001b[0;34m(\u001b[0m\u001b[0moperator\u001b[0m\u001b[0;34m.\u001b[0m\u001b[0mmul\u001b[0m\u001b[0;34m,\u001b[0m \u001b[0mx\u001b[0m\u001b[0;34m.\u001b[0m\u001b[0mshape\u001b[0m\u001b[0;34m[\u001b[0m\u001b[0;36m1\u001b[0m\u001b[0;34m:\u001b[0m\u001b[0;34m]\u001b[0m\u001b[0;34m,\u001b[0m \u001b[0;36m1\u001b[0m\u001b[0;34m)\u001b[0m\u001b[0;34m\u001b[0m\u001b[0;34m\u001b[0m\u001b[0m\n\u001b[1;32m    137\u001b[0m             \u001b[0mself\u001b[0m\u001b[0;34m.\u001b[0m\u001b[0m_initialize_params\u001b[0m\u001b[0;34m(\u001b[0m\u001b[0min_size\u001b[0m\u001b[0;34m)\u001b[0m\u001b[0;34m\u001b[0m\u001b[0;34m\u001b[0m\u001b[0m\n\u001b[0;32m--> 138\u001b[0;31m         \u001b[0;32mreturn\u001b[0m \u001b[0mlinear\u001b[0m\u001b[0;34m.\u001b[0m\u001b[0mlinear\u001b[0m\u001b[0;34m(\u001b[0m\u001b[0mx\u001b[0m\u001b[0;34m,\u001b[0m \u001b[0mself\u001b[0m\u001b[0;34m.\u001b[0m\u001b[0mW\u001b[0m\u001b[0;34m,\u001b[0m \u001b[0mself\u001b[0m\u001b[0;34m.\u001b[0m\u001b[0mb\u001b[0m\u001b[0;34m,\u001b[0m \u001b[0mn_batch_axes\u001b[0m\u001b[0;34m=\u001b[0m\u001b[0mn_batch_axes\u001b[0m\u001b[0;34m)\u001b[0m\u001b[0;34m\u001b[0m\u001b[0;34m\u001b[0m\u001b[0m\n\u001b[0m",
      "\u001b[0;32m~/.pyenv/versions/miniconda3-4.3.30/lib/python3.6/site-packages/chainer/functions/connection/linear.py\u001b[0m in \u001b[0;36mlinear\u001b[0;34m(x, W, b, n_batch_axes)\u001b[0m\n\u001b[1;32m    286\u001b[0m         \u001b[0margs\u001b[0m \u001b[0;34m=\u001b[0m \u001b[0mx\u001b[0m\u001b[0;34m,\u001b[0m \u001b[0mW\u001b[0m\u001b[0;34m,\u001b[0m \u001b[0mb\u001b[0m\u001b[0;34m\u001b[0m\u001b[0;34m\u001b[0m\u001b[0m\n\u001b[1;32m    287\u001b[0m \u001b[0;34m\u001b[0m\u001b[0m\n\u001b[0;32m--> 288\u001b[0;31m     \u001b[0my\u001b[0m\u001b[0;34m,\u001b[0m \u001b[0;34m=\u001b[0m \u001b[0mLinearFunction\u001b[0m\u001b[0;34m(\u001b[0m\u001b[0;34m)\u001b[0m\u001b[0;34m.\u001b[0m\u001b[0mapply\u001b[0m\u001b[0;34m(\u001b[0m\u001b[0margs\u001b[0m\u001b[0;34m)\u001b[0m\u001b[0;34m\u001b[0m\u001b[0;34m\u001b[0m\u001b[0m\n\u001b[0m\u001b[1;32m    289\u001b[0m     \u001b[0;32mif\u001b[0m \u001b[0mn_batch_axes\u001b[0m \u001b[0;34m>\u001b[0m \u001b[0;36m1\u001b[0m\u001b[0;34m:\u001b[0m\u001b[0;34m\u001b[0m\u001b[0;34m\u001b[0m\u001b[0m\n\u001b[1;32m    290\u001b[0m         \u001b[0my\u001b[0m \u001b[0;34m=\u001b[0m \u001b[0my\u001b[0m\u001b[0;34m.\u001b[0m\u001b[0mreshape\u001b[0m\u001b[0;34m(\u001b[0m\u001b[0mbatch_shape\u001b[0m \u001b[0;34m+\u001b[0m \u001b[0;34m(\u001b[0m\u001b[0;34m-\u001b[0m\u001b[0;36m1\u001b[0m\u001b[0;34m,\u001b[0m\u001b[0;34m)\u001b[0m\u001b[0;34m)\u001b[0m\u001b[0;34m\u001b[0m\u001b[0;34m\u001b[0m\u001b[0m\n",
      "\u001b[0;32m~/.pyenv/versions/miniconda3-4.3.30/lib/python3.6/site-packages/chainer/function_node.py\u001b[0m in \u001b[0;36mapply\u001b[0;34m(self, inputs)\u001b[0m\n\u001b[1;32m    243\u001b[0m \u001b[0;34m\u001b[0m\u001b[0m\n\u001b[1;32m    244\u001b[0m         \u001b[0;32mif\u001b[0m \u001b[0mconfiguration\u001b[0m\u001b[0;34m.\u001b[0m\u001b[0mconfig\u001b[0m\u001b[0;34m.\u001b[0m\u001b[0mtype_check\u001b[0m\u001b[0;34m:\u001b[0m\u001b[0;34m\u001b[0m\u001b[0;34m\u001b[0m\u001b[0m\n\u001b[0;32m--> 245\u001b[0;31m             \u001b[0mself\u001b[0m\u001b[0;34m.\u001b[0m\u001b[0m_check_data_type_forward\u001b[0m\u001b[0;34m(\u001b[0m\u001b[0min_data\u001b[0m\u001b[0;34m)\u001b[0m\u001b[0;34m\u001b[0m\u001b[0;34m\u001b[0m\u001b[0m\n\u001b[0m\u001b[1;32m    246\u001b[0m \u001b[0;34m\u001b[0m\u001b[0m\n\u001b[1;32m    247\u001b[0m         \u001b[0mhooks\u001b[0m \u001b[0;34m=\u001b[0m \u001b[0mchainer\u001b[0m\u001b[0;34m.\u001b[0m\u001b[0mget_function_hooks\u001b[0m\u001b[0;34m(\u001b[0m\u001b[0;34m)\u001b[0m\u001b[0;34m\u001b[0m\u001b[0;34m\u001b[0m\u001b[0m\n",
      "\u001b[0;32m~/.pyenv/versions/miniconda3-4.3.30/lib/python3.6/site-packages/chainer/function_node.py\u001b[0m in \u001b[0;36m_check_data_type_forward\u001b[0;34m(self, in_data)\u001b[0m\n\u001b[1;32m    328\u001b[0m         \u001b[0min_type\u001b[0m \u001b[0;34m=\u001b[0m \u001b[0mtype_check\u001b[0m\u001b[0;34m.\u001b[0m\u001b[0mget_types\u001b[0m\u001b[0;34m(\u001b[0m\u001b[0min_data\u001b[0m\u001b[0;34m,\u001b[0m \u001b[0;34m'in_types'\u001b[0m\u001b[0;34m,\u001b[0m \u001b[0;32mFalse\u001b[0m\u001b[0;34m)\u001b[0m\u001b[0;34m\u001b[0m\u001b[0;34m\u001b[0m\u001b[0m\n\u001b[1;32m    329\u001b[0m         \u001b[0;32mwith\u001b[0m \u001b[0mtype_check\u001b[0m\u001b[0;34m.\u001b[0m\u001b[0mget_function_check_context\u001b[0m\u001b[0;34m(\u001b[0m\u001b[0mself\u001b[0m\u001b[0;34m)\u001b[0m\u001b[0;34m:\u001b[0m\u001b[0;34m\u001b[0m\u001b[0;34m\u001b[0m\u001b[0m\n\u001b[0;32m--> 330\u001b[0;31m             \u001b[0mself\u001b[0m\u001b[0;34m.\u001b[0m\u001b[0mcheck_type_forward\u001b[0m\u001b[0;34m(\u001b[0m\u001b[0min_type\u001b[0m\u001b[0;34m)\u001b[0m\u001b[0;34m\u001b[0m\u001b[0;34m\u001b[0m\u001b[0m\n\u001b[0m\u001b[1;32m    331\u001b[0m \u001b[0;34m\u001b[0m\u001b[0m\n\u001b[1;32m    332\u001b[0m     \u001b[0;32mdef\u001b[0m \u001b[0mcheck_type_forward\u001b[0m\u001b[0;34m(\u001b[0m\u001b[0mself\u001b[0m\u001b[0;34m,\u001b[0m \u001b[0min_types\u001b[0m\u001b[0;34m)\u001b[0m\u001b[0;34m:\u001b[0m\u001b[0;34m\u001b[0m\u001b[0;34m\u001b[0m\u001b[0m\n",
      "\u001b[0;32m~/.pyenv/versions/miniconda3-4.3.30/lib/python3.6/site-packages/chainer/functions/connection/linear.py\u001b[0m in \u001b[0;36mcheck_type_forward\u001b[0;34m(self, in_types)\u001b[0m\n\u001b[1;32m     25\u001b[0m             \u001b[0mx_type\u001b[0m\u001b[0;34m.\u001b[0m\u001b[0mndim\u001b[0m \u001b[0;34m==\u001b[0m \u001b[0;36m2\u001b[0m\u001b[0;34m,\u001b[0m\u001b[0;34m\u001b[0m\u001b[0;34m\u001b[0m\u001b[0m\n\u001b[1;32m     26\u001b[0m             \u001b[0mw_type\u001b[0m\u001b[0;34m.\u001b[0m\u001b[0mndim\u001b[0m \u001b[0;34m==\u001b[0m \u001b[0;36m2\u001b[0m\u001b[0;34m,\u001b[0m\u001b[0;34m\u001b[0m\u001b[0;34m\u001b[0m\u001b[0m\n\u001b[0;32m---> 27\u001b[0;31m             \u001b[0mx_type\u001b[0m\u001b[0;34m.\u001b[0m\u001b[0mshape\u001b[0m\u001b[0;34m[\u001b[0m\u001b[0;36m1\u001b[0m\u001b[0;34m]\u001b[0m \u001b[0;34m==\u001b[0m \u001b[0mw_type\u001b[0m\u001b[0;34m.\u001b[0m\u001b[0mshape\u001b[0m\u001b[0;34m[\u001b[0m\u001b[0;36m1\u001b[0m\u001b[0;34m]\u001b[0m\u001b[0;34m,\u001b[0m\u001b[0;34m\u001b[0m\u001b[0;34m\u001b[0m\u001b[0m\n\u001b[0m\u001b[1;32m     28\u001b[0m         )\n\u001b[1;32m     29\u001b[0m         \u001b[0;32mif\u001b[0m \u001b[0mtype_check\u001b[0m\u001b[0;34m.\u001b[0m\u001b[0meval\u001b[0m\u001b[0;34m(\u001b[0m\u001b[0mn_in\u001b[0m\u001b[0;34m)\u001b[0m \u001b[0;34m==\u001b[0m \u001b[0;36m3\u001b[0m\u001b[0;34m:\u001b[0m\u001b[0;34m\u001b[0m\u001b[0;34m\u001b[0m\u001b[0m\n",
      "\u001b[0;32m~/.pyenv/versions/miniconda3-4.3.30/lib/python3.6/site-packages/chainer/utils/type_check.py\u001b[0m in \u001b[0;36mexpect\u001b[0;34m(*bool_exprs)\u001b[0m\n\u001b[1;32m    544\u001b[0m         \u001b[0;32mfor\u001b[0m \u001b[0mexpr\u001b[0m \u001b[0;32min\u001b[0m \u001b[0mbool_exprs\u001b[0m\u001b[0;34m:\u001b[0m\u001b[0;34m\u001b[0m\u001b[0;34m\u001b[0m\u001b[0m\n\u001b[1;32m    545\u001b[0m             \u001b[0;32massert\u001b[0m \u001b[0misinstance\u001b[0m\u001b[0;34m(\u001b[0m\u001b[0mexpr\u001b[0m\u001b[0;34m,\u001b[0m \u001b[0mTestable\u001b[0m\u001b[0;34m)\u001b[0m\u001b[0;34m\u001b[0m\u001b[0;34m\u001b[0m\u001b[0m\n\u001b[0;32m--> 546\u001b[0;31m             \u001b[0mexpr\u001b[0m\u001b[0;34m.\u001b[0m\u001b[0mexpect\u001b[0m\u001b[0;34m(\u001b[0m\u001b[0;34m)\u001b[0m\u001b[0;34m\u001b[0m\u001b[0;34m\u001b[0m\u001b[0m\n\u001b[0m\u001b[1;32m    547\u001b[0m \u001b[0;34m\u001b[0m\u001b[0m\n\u001b[1;32m    548\u001b[0m \u001b[0;34m\u001b[0m\u001b[0m\n",
      "\u001b[0;32m~/.pyenv/versions/miniconda3-4.3.30/lib/python3.6/site-packages/chainer/utils/type_check.py\u001b[0m in \u001b[0;36mexpect\u001b[0;34m(self)\u001b[0m\n\u001b[1;32m    481\u001b[0m             raise InvalidType(\n\u001b[1;32m    482\u001b[0m                 \u001b[0;34m'{0} {1} {2}'\u001b[0m\u001b[0;34m.\u001b[0m\u001b[0mformat\u001b[0m\u001b[0;34m(\u001b[0m\u001b[0mself\u001b[0m\u001b[0;34m.\u001b[0m\u001b[0mlhs\u001b[0m\u001b[0;34m,\u001b[0m \u001b[0mself\u001b[0m\u001b[0;34m.\u001b[0m\u001b[0mexp\u001b[0m\u001b[0;34m,\u001b[0m \u001b[0mself\u001b[0m\u001b[0;34m.\u001b[0m\u001b[0mrhs\u001b[0m\u001b[0;34m)\u001b[0m\u001b[0;34m,\u001b[0m\u001b[0;34m\u001b[0m\u001b[0;34m\u001b[0m\u001b[0m\n\u001b[0;32m--> 483\u001b[0;31m                 '{0} {1} {2}'.format(left, self.inv, right))\n\u001b[0m\u001b[1;32m    484\u001b[0m \u001b[0;34m\u001b[0m\u001b[0m\n\u001b[1;32m    485\u001b[0m \u001b[0;34m\u001b[0m\u001b[0m\n",
      "\u001b[0;31mInvalidType\u001b[0m: \nInvalid operation is performed in: LinearFunction (Forward)\n\nExpect: x.dtype.kind == f\nActual: i != f"
     ]
    }
   ],
   "source": [
    "# error\n",
    "u = l1(x)"
   ]
  },
  {
   "cell_type": "markdown",
   "metadata": {
    "colab_type": "text",
    "id": "uKYkvNhTTHTR"
   },
   "source": [
    "エラーが発生してしまいました。\n",
    "\n",
    "**エラーメッセージを読みましょう。**\n",
    "\n",
    "> InvalidType:  \n",
    "> Invalid operation is performed in: LinearFunction (Forward)\n",
    "> \n",
    "> Expect: x.dtype.kind == f  \n",
    "> Actual: i != f\n",
    "\n",
    "`LinearFunction` で向こうな操作が行われている、と書かれています。\n",
    "最後の 2 行に着目してください。\n",
    "これは、`x.dtype.kind == f` であることが期待されているのに、実際には `i != f` という状況になっていると言っています。\n",
    "つまり、`f` であるべきものが `i` になってしまっている、というエラーです。\n",
    "この `x.dtype` というのは、というのは、\n",
    "\n",
    "\n",
    "\n",
    "これからエラーにもよく遭遇するため、対処法を含めて紹介します。\n",
    "\n",
    "まずは一番下にあるエラー内容を見ることが解決のヒントになります。\n",
    "`Expected: x.dtype.kind ==f`, `Actual: i!=f` となっています。\n",
    "`Expected` は期待される内容であり、`Actual` は実際に入力されていた内容です。\n",
    "つまり、`f` が期待されているが、実際には `i` であったと理解できます。\n",
    "この `i` や `f` はすでに NumPy の章で登場していますが、それぞれ `int` と `float` の頭文字になります。\n",
    "したがって、実数値を扱う `float` が望ましいが、整数値を扱う `int` となっていたことが原因ということでした。\n",
    "\n",
    "実際に、`dtype` を使ってデータ型を確認してみます。"
   ]
  },
  {
   "cell_type": "code",
   "execution_count": 17,
   "metadata": {
    "colab": {
     "base_uri": "https://localhost:8080/",
     "height": 35
    },
    "colab_type": "code",
    "id": "XBT9JBvkDfYu",
    "outputId": "05cadd85-3345-4dd1-fab4-f38f7120ba30"
   },
   "outputs": [
    {
     "data": {
      "text/plain": [
       "dtype('int64')"
      ]
     },
     "execution_count": 17,
     "metadata": {},
     "output_type": "execute_result"
    }
   ],
   "source": [
    "# データ型\n",
    "x.dtype"
   ]
  },
  {
   "cell_type": "markdown",
   "metadata": {
    "colab_type": "text",
    "id": "Afa-n3LRDfYx"
   },
   "source": [
    "確かに `x` が `int` で定義されていました。\n",
    "\n",
    "そこで、`x` の定義の際に `dtype` を指定して、データ型を変更しましょう。\n",
    "また、`float` への変換は、`numpy.ndarray` で定義されている場合には、`astype` を使うこともできます。"
   ]
  },
  {
   "cell_type": "code",
   "execution_count": 18,
   "metadata": {
    "colab": {},
    "colab_type": "code",
    "id": "f9rkIhRPDfYx"
   },
   "outputs": [],
   "source": [
    "# dtype を指定して x を定義\n",
    "x = np.array([[2, 3, 1]], dtype=float)"
   ]
  },
  {
   "cell_type": "code",
   "execution_count": 19,
   "metadata": {
    "colab": {
     "base_uri": "https://localhost:8080/",
     "height": 35
    },
    "colab_type": "code",
    "id": "0PJGw9bGDfYz",
    "outputId": "ebed1d55-e3bb-4a10-ca3d-16e869d76722"
   },
   "outputs": [
    {
     "data": {
      "text/plain": [
       "dtype('float64')"
      ]
     },
     "execution_count": 19,
     "metadata": {},
     "output_type": "execute_result"
    }
   ],
   "source": [
    "# データ型の確認\n",
    "x.dtype"
   ]
  },
  {
   "cell_type": "markdown",
   "metadata": {
    "colab_type": "text",
    "id": "YY5u59d5Tv13"
   },
   "source": [
    "これで `float` へと変換ができたため、再度、線形変換の演算を試しましょう。"
   ]
  },
  {
   "cell_type": "code",
   "execution_count": 20,
   "metadata": {
    "colab": {},
    "colab_type": "code",
    "id": "VtObc7X3T82-"
   },
   "outputs": [],
   "source": [
    "# 再度、エラーが発生します\n",
    "# u = l(x)"
   ]
  },
  {
   "cell_type": "markdown",
   "metadata": {
    "colab_type": "text",
    "id": "6F1vex1EDfY5"
   },
   "source": [
    "しかし、これでもう一度線形変換の演算を行おうとしても、下記のエラーに遭遇します。\n",
    "\n",
    "![データ型のエラー](images/09/09_04.png)"
   ]
  },
  {
   "cell_type": "markdown",
   "metadata": {
    "colab_type": "text",
    "id": "goawQiSHT9G3"
   },
   "source": [
    "次のエラーの内容は、`float64` ではなく `float32` が望まれるというものです。\n",
    "つまり、`float32` が Chainer の中でデフォルトで扱うデータ型であるということです。\n",
    "\n",
    "多くのコンピュータのオペレーティング・システムが 32 bit から 64 bit へ以降している中で違和感を感じるかも知れません。\n",
    "GPU を用いた演算を行う際には、`64 bit -> 32 bit`, `32 bit -> 16 bit` へと新しい GPU が登場するたびに扱うデータ型のビット数が下がっています。\n",
    "\n",
    "参考：[VOLTA ARCHITECTURE\n",
    "DEEP DIVE](https://www.nvidia.com/content/apac/gtc/ja/pdf/2017/1040.pdf)\n",
    "\n",
    "現在では最新版以外の GPU でも安定して速度が出る **32 bit** が主流になっており、Chainer でもデフォルトの値として 32bit を採用しています。\n",
    "このデータ型の間違いによるエラーはよく遭遇するため、覚えておきましょう。\n",
    "\n",
    "参考：[NVIDIA Teslaスペック](https://qiita.com/yukoba/items/10d0ba3fb1d19a6ab6a5)"
   ]
  },
  {
   "cell_type": "code",
   "execution_count": 21,
   "metadata": {
    "colab": {},
    "colab_type": "code",
    "id": "613ho0WtULYr"
   },
   "outputs": [],
   "source": [
    "# float32 で再度宣言\n",
    "x = np.array([[2, 3, 1]], dtype=np.float32)"
   ]
  },
  {
   "cell_type": "code",
   "execution_count": 22,
   "metadata": {
    "colab": {},
    "colab_type": "code",
    "id": "o8ydhPAJDfY8"
   },
   "outputs": [],
   "source": [
    "# np.float32 は 'f' でも同じ\n",
    "x = np.array([[2, 3, 1]], dtype='f')"
   ]
  },
  {
   "cell_type": "code",
   "execution_count": 23,
   "metadata": {
    "colab": {
     "base_uri": "https://localhost:8080/",
     "height": 35
    },
    "colab_type": "code",
    "id": "h2QHYdExUOwQ",
    "outputId": "2581b81b-b83c-4bda-8ed9-9ab9db24940a"
   },
   "outputs": [
    {
     "data": {
      "text/plain": [
       "dtype('float32')"
      ]
     },
     "execution_count": 23,
     "metadata": {},
     "output_type": "execute_result"
    }
   ],
   "source": [
    "x.dtype"
   ]
  },
  {
   "cell_type": "code",
   "execution_count": 24,
   "metadata": {
    "colab": {},
    "colab_type": "code",
    "id": "zYwUtsvNUcXz"
   },
   "outputs": [],
   "source": [
    "# 線形変換\n",
    "u = l(x)"
   ]
  },
  {
   "cell_type": "code",
   "execution_count": 25,
   "metadata": {
    "colab": {
     "base_uri": "https://localhost:8080/",
     "height": 35
    },
    "colab_type": "code",
    "id": "mEKXLjlZUfn-",
    "outputId": "f6b9d465-6e12-4d9a-9fc6-8f4d9d897a60"
   },
   "outputs": [
    {
     "data": {
      "text/plain": [
       "variable([[ 0.5110992, -1.0688214]])"
      ]
     },
     "execution_count": 25,
     "metadata": {},
     "output_type": "execute_result"
    }
   ],
   "source": [
    "# 結果の確認\n",
    "u"
   ]
  },
  {
   "cell_type": "markdown",
   "metadata": {
    "colab_type": "text",
    "id": "Kjlx1sffUhVX"
   },
   "source": [
    "### 非線形変換（活性化関数）\n",
    "\n",
    "今回は活性化関数として、**ReLU 関数**を使用して、非線形変換を行います。\n",
    "\n",
    "![ReLU関数](images/09/09_05.png)\n",
    "\n",
    "先述の通り、ReLU 関数のようにパラメータを持たない関数は `chainer.functions` に用意されています。"
   ]
  },
  {
   "cell_type": "code",
   "execution_count": 26,
   "metadata": {
    "colab": {},
    "colab_type": "code",
    "id": "tg1Qxqn0Uzl9"
   },
   "outputs": [],
   "source": [
    "# Relu 関数による非線形変換\n",
    "h = F.relu(u)"
   ]
  },
  {
   "cell_type": "code",
   "execution_count": 27,
   "metadata": {
    "colab": {
     "base_uri": "https://localhost:8080/",
     "height": 35
    },
    "colab_type": "code",
    "id": "HmFEMLWSU0fn",
    "outputId": "3052aab8-6ece-433f-c1fb-e6a29cbe969a"
   },
   "outputs": [
    {
     "data": {
      "text/plain": [
       "variable([[0.5110992, 0.       ]])"
      ]
     },
     "execution_count": 27,
     "metadata": {},
     "output_type": "execute_result"
    }
   ],
   "source": [
    "# 結果の確認\n",
    "h"
   ]
  },
  {
   "cell_type": "markdown",
   "metadata": {
    "colab_type": "text",
    "id": "v45j9x1gU1ho"
   },
   "source": [
    "この結果の通り、`u` に格納されていた正の値はそのまま出力され、負の値は 0 となっています。\n",
    "\n",
    "前章で紹介したシグモイド関数も `chainer.functions` に用意されています。\n",
    "\n",
    "![シグモイド関数](images/09/09_06.png)"
   ]
  },
  {
   "cell_type": "code",
   "execution_count": 28,
   "metadata": {
    "colab": {},
    "colab_type": "code",
    "id": "bdcnpFKnDfZO"
   },
   "outputs": [],
   "source": [
    "# シグモイド関数による非線形変換\n",
    "h = F.sigmoid(u)"
   ]
  },
  {
   "cell_type": "code",
   "execution_count": 29,
   "metadata": {
    "colab": {
     "base_uri": "https://localhost:8080/",
     "height": 35
    },
    "colab_type": "code",
    "id": "6hdDf_o-DfZS",
    "outputId": "e81633b3-6860-436c-ed28-1d56f9be4d17"
   },
   "outputs": [
    {
     "data": {
      "text/plain": [
       "variable([[0.62506413, 0.25562727]])"
      ]
     },
     "execution_count": 29,
     "metadata": {},
     "output_type": "execute_result"
    }
   ],
   "source": [
    "# 結果の確認\n",
    "h"
   ]
  },
  {
   "cell_type": "markdown",
   "metadata": {
    "colab_type": "text",
    "id": "77KKvb1hDfZV"
   },
   "source": [
    "### 数値例\n",
    "  \n",
    "![順伝播の計算](images/09/09_07.png)\n",
    "\n",
    "上図に示すネットワークを定義し、目的関数（ここでは損失関数）まで順次、計算していきます。\n",
    "まず、コードを書く前にネットワークの構成を確認します。\n",
    "\n",
    "リンクの定義\n",
    "\n",
    "- 左側のリンク：l1 → (3, 2)\n",
    "- 右側のリンク：l2 → (2, 1)\n",
    "\n",
    "データの準備\n",
    "\n",
    "- 入力変数 : x → (2, 3, 1)\n",
    "- 教師データ : t → (3)\n",
    "\n",
    "計算の流れ\n",
    "\n",
    "- l1の線形変換 → u1\n",
    "- u1の非線形変換 (Relu) → h1\n",
    "- l2の線形変換 → 出力y\n",
    "- 損失関数 (mean_squared_error) → loss\n",
    "\n",
    "なお、計算する前にシードの固定は `np.random.seed(1)` で固定することとします。"
   ]
  },
  {
   "cell_type": "code",
   "execution_count": 30,
   "metadata": {
    "colab": {},
    "colab_type": "code",
    "id": "5h6lnMm_VAib"
   },
   "outputs": [],
   "source": [
    "# 乱数のシードを固定\n",
    "np.random.seed(1)"
   ]
  },
  {
   "cell_type": "code",
   "execution_count": 31,
   "metadata": {
    "colab": {},
    "colab_type": "code",
    "id": "xnxT9QSS0jko"
   },
   "outputs": [],
   "source": [
    "# ネットワークの定義\n",
    "l1 = L.Linear(3, 2)\n",
    "l2 = L.Linear(2, 1)"
   ]
  },
  {
   "cell_type": "code",
   "execution_count": 32,
   "metadata": {
    "colab": {},
    "colab_type": "code",
    "id": "rpCjupz_0lvv"
   },
   "outputs": [],
   "source": [
    "# 入力変数\n",
    "# np.float32 で定義\n",
    "x = np.array([[2, 3, 1]], 'f')"
   ]
  },
  {
   "cell_type": "code",
   "execution_count": 33,
   "metadata": {
    "colab": {},
    "colab_type": "code",
    "id": "g3ppm-uuFeMu"
   },
   "outputs": [],
   "source": [
    "# 教師データ\n",
    "# np.float32 で定義（分類の場合は np.int32 を使う）\n",
    "t = np.array([[3]], 'f')"
   ]
  },
  {
   "cell_type": "code",
   "execution_count": 34,
   "metadata": {
    "colab": {
     "base_uri": "https://localhost:8080/",
     "height": 35
    },
    "colab_type": "code",
    "id": "3wxnDsoyEdC5",
    "outputId": "933ca6b7-6a09-4916-da0e-2b2e18846e58"
   },
   "outputs": [
    {
     "data": {
      "text/plain": [
       "variable([[ 0.5110992, -1.0688214]])"
      ]
     },
     "execution_count": 34,
     "metadata": {},
     "output_type": "execute_result"
    }
   ],
   "source": [
    "# 線形変換\n",
    "u1 = l1(x)\n",
    "u1"
   ]
  },
  {
   "cell_type": "code",
   "execution_count": 35,
   "metadata": {
    "colab": {
     "base_uri": "https://localhost:8080/",
     "height": 35
    },
    "colab_type": "code",
    "id": "lVOnrBmJEfwg",
    "outputId": "d00e3be2-ec65-44b1-889d-0f83ee861472"
   },
   "outputs": [
    {
     "data": {
      "text/plain": [
       "variable([[0.5110992, 0.       ]])"
      ]
     },
     "execution_count": 35,
     "metadata": {},
     "output_type": "execute_result"
    }
   ],
   "source": [
    "# 非線型変換\n",
    "h1 = F.relu(u1)\n",
    "h1"
   ]
  },
  {
   "cell_type": "code",
   "execution_count": 36,
   "metadata": {
    "colab": {
     "base_uri": "https://localhost:8080/",
     "height": 35
    },
    "colab_type": "code",
    "id": "PPgwNlOmEmMd",
    "outputId": "538ac674-10c2-44d1-a667-961284012a78"
   },
   "outputs": [
    {
     "data": {
      "text/plain": [
       "variable([[0.630578]])"
      ]
     },
     "execution_count": 36,
     "metadata": {},
     "output_type": "execute_result"
    }
   ],
   "source": [
    "# 線形変換\n",
    "y = l2(h1)\n",
    "y"
   ]
  },
  {
   "cell_type": "markdown",
   "metadata": {
    "colab_type": "text",
    "id": "JkZoNL9DEnGQ"
   },
   "source": [
    "損失関数の計算には、 `chainer.functions` にある `mean_squared_error` を用いると簡単です。"
   ]
  },
  {
   "cell_type": "code",
   "execution_count": 37,
   "metadata": {
    "colab": {
     "base_uri": "https://localhost:8080/",
     "height": 35
    },
    "colab_type": "code",
    "id": "8Y_muHlpHmKK",
    "outputId": "b3fd35de-15f5-4175-d767-ce74d14c08ad"
   },
   "outputs": [
    {
     "data": {
      "text/plain": [
       "variable(5.6141605)"
      ]
     },
     "execution_count": 37,
     "metadata": {},
     "output_type": "execute_result"
    }
   ],
   "source": [
    "# 平均二乗誤差の計算\n",
    "loss = F.mean_squared_error(t, y)\n",
    "loss"
   ]
  },
  {
   "cell_type": "markdown",
   "metadata": {
    "colab_type": "text",
    "id": "bicgSNxzHoBD"
   },
   "source": [
    "一連の手順に関する計算方法を学びました。\n",
    "基本的には、ネットワークを定義し、その順伝播を記述していくだけで実装することができます。"
   ]
  },
  {
   "cell_type": "markdown",
   "metadata": {
    "colab_type": "text",
    "id": "yI-tJDoEEXpY"
   },
   "source": [
    "## Sequential\n",
    "\n",
    "Chainer が用意している`Sequential`を使用することによって、ネットワークの定義から実行までをさらにスマートに書くことができます。\n",
    "前節の数値例で紹介したネットワークを `Sequential` を用いて定義し、その違いを確認しましょう。"
   ]
  },
  {
   "cell_type": "code",
   "execution_count": 38,
   "metadata": {
    "colab": {},
    "colab_type": "code",
    "id": "eZUJPTitEwU7"
   },
   "outputs": [],
   "source": [
    "from chainer import Sequential"
   ]
  },
  {
   "cell_type": "code",
   "execution_count": 39,
   "metadata": {
    "colab": {},
    "colab_type": "code",
    "id": "LME5LpMbtZ7t"
   },
   "outputs": [],
   "source": [
    "# 数値例と同じ順伝播の計算を Sequential で記述\n",
    "# リンクや関数を実行順に引数へ指定\n",
    "# model としてインスタンス化\n",
    "model = Sequential(l1, F.relu, l2)"
   ]
  },
  {
   "cell_type": "code",
   "execution_count": 40,
   "metadata": {
    "colab": {},
    "colab_type": "code",
    "id": "RqqDevzyE5rV"
   },
   "outputs": [],
   "source": [
    "# 順伝播の計算を実行（call関数）\n",
    "# l1 -> relu -> l2  の順に計算される\n",
    "y = model(x)"
   ]
  },
  {
   "cell_type": "code",
   "execution_count": 41,
   "metadata": {
    "colab": {
     "base_uri": "https://localhost:8080/",
     "height": 35
    },
    "colab_type": "code",
    "id": "Tiv3YwQCX078",
    "outputId": "87ae30bf-8fa7-4417-994d-51e155349012"
   },
   "outputs": [
    {
     "data": {
      "text/plain": [
       "variable([[0.630578]])"
      ]
     },
     "execution_count": 41,
     "metadata": {},
     "output_type": "execute_result"
    }
   ],
   "source": [
    "# 上記の例題と同じ結果が得られていることを確認\n",
    "y"
   ]
  },
  {
   "cell_type": "code",
   "execution_count": 42,
   "metadata": {
    "colab": {
     "base_uri": "https://localhost:8080/",
     "height": 35
    },
    "colab_type": "code",
    "id": "b1eGKyUBtjVP",
    "outputId": "c1244dbf-c7dc-4dfe-ad98-151ca0d58ba8"
   },
   "outputs": [
    {
     "data": {
      "text/plain": [
       "variable(5.6141605)"
      ]
     },
     "execution_count": 42,
     "metadata": {},
     "output_type": "execute_result"
    }
   ],
   "source": [
    "# 損失関数を計算\n",
    "F.mean_squared_error(t, y)"
   ]
  },
  {
   "cell_type": "markdown",
   "metadata": {
    "colab_type": "text",
    "id": "TZ-iMsLpDfZ7"
   },
   "source": [
    "このように、`Sequential` を用いることで、ネットワークの記述から順伝播の計算まで少ないコードで実現できるようになりました。\n",
    "Chainer には `Sequential` を含め、いくつかのネットワークの書き方が存在するため、問題の難易度や習得具合に合わせて、選択すると良いでしょう。\n",
    "`Sequential` はその中でも、最もシンプルな記述法です。"
   ]
  },
  {
   "cell_type": "markdown",
   "metadata": {
    "colab_type": "text",
    "id": "1qPr0ItgHwKx"
   },
   "source": [
    "## 例題：クラス分類\n",
    "\n",
    "これまでの例題では小規模なネットワークながら、回帰の問題設定を例題で扱ってきました。\n",
    "教師あり学習のもうひとつのトピックである分類の実装を Chainer で行います。\n",
    "\n",
    "### データセットの準備\n",
    "\n",
    "今回は scikit-learn で容易されている iris という花を分類するデータセットを使用していきます。"
   ]
  },
  {
   "cell_type": "code",
   "execution_count": 43,
   "metadata": {
    "colab": {},
    "colab_type": "code",
    "id": "1djdJsjNHwQ3"
   },
   "outputs": [],
   "source": [
    "# irisデータセットの読み込み\n",
    "from sklearn.datasets import load_iris\n",
    "dataset = load_iris()\n",
    "x = dataset.data\n",
    "t = dataset.target"
   ]
  },
  {
   "cell_type": "code",
   "execution_count": 44,
   "metadata": {
    "colab": {
     "base_uri": "https://localhost:8080/",
     "height": 72
    },
    "colab_type": "code",
    "id": "8HAFjvuZDfZ9",
    "outputId": "0e6a4070-dec5-4aef-e30d-a1a793f4f384"
   },
   "outputs": [
    {
     "data": {
      "text/plain": [
       "array([[5.1, 3.5, 1.4, 0.2],\n",
       "       [4.9, 3. , 1.4, 0.2],\n",
       "       [4.7, 3.2, 1.3, 0.2]])"
      ]
     },
     "execution_count": 44,
     "metadata": {},
     "output_type": "execute_result"
    }
   ],
   "source": [
    "# 先頭3件の確認\n",
    "x[:3]"
   ]
  },
  {
   "cell_type": "code",
   "execution_count": 45,
   "metadata": {
    "colab": {
     "base_uri": "https://localhost:8080/",
     "height": 145
    },
    "colab_type": "code",
    "id": "vQghFZIKDfZ_",
    "outputId": "ddd715ae-ded0-4ae8-a525-947e3b3bb22a"
   },
   "outputs": [
    {
     "data": {
      "text/plain": [
       "array([0, 0, 0, 0, 0, 0, 0, 0, 0, 0, 0, 0, 0, 0, 0, 0, 0, 0, 0, 0, 0, 0,\n",
       "       0, 0, 0, 0, 0, 0, 0, 0, 0, 0, 0, 0, 0, 0, 0, 0, 0, 0, 0, 0, 0, 0,\n",
       "       0, 0, 0, 0, 0, 0, 1, 1, 1, 1, 1, 1, 1, 1, 1, 1, 1, 1, 1, 1, 1, 1,\n",
       "       1, 1, 1, 1, 1, 1, 1, 1, 1, 1, 1, 1, 1, 1, 1, 1, 1, 1, 1, 1, 1, 1,\n",
       "       1, 1, 1, 1, 1, 1, 1, 1, 1, 1, 1, 1, 2, 2, 2, 2, 2, 2, 2, 2, 2, 2,\n",
       "       2, 2, 2, 2, 2, 2, 2, 2, 2, 2, 2, 2, 2, 2, 2, 2, 2, 2, 2, 2, 2, 2,\n",
       "       2, 2, 2, 2, 2, 2, 2, 2, 2, 2, 2, 2, 2, 2, 2, 2, 2, 2])"
      ]
     },
     "execution_count": 45,
     "metadata": {},
     "output_type": "execute_result"
    }
   ],
   "source": [
    "# 教師データの確認\n",
    "t"
   ]
  },
  {
   "cell_type": "markdown",
   "metadata": {
    "colab_type": "text",
    "id": "kC3ylsMrDfaD"
   },
   "source": [
    "分類に関して本チュートリアルでは初めて扱いますが、上記のように目標値としては、`0`, `1`, `2` のような各カテゴリに対応するインデックス番号を用いることが一般的であるため、覚えておきましょう。"
   ]
  },
  {
   "cell_type": "markdown",
   "metadata": {
    "colab_type": "text",
    "id": "qr7rZ7izHwWP"
   },
   "source": [
    "### データの形式を合わせる\n",
    "\n",
    "Chainer で計算を行うにあたり、はじめのうちは下記の 3 点を満たしているか確認しておくことをおすすめします。\n",
    "\n",
    "- 入力変数や目標値が `numpy.ndarray` で定義されているか\n",
    "- 入力変数が `float32`, 教師データが回帰の場合 `float32`,分類の場合 `int32` で定義されているか\n",
    "- 分類の場合、ラベルが `0` から始まっているか\n",
    "\n",
    "今回は scikit-learn からデータを読み込んできたため、最初から `numpy.ndarray` の形式となっています。"
   ]
  },
  {
   "cell_type": "code",
   "execution_count": 46,
   "metadata": {
    "colab": {
     "base_uri": "https://localhost:8080/",
     "height": 35
    },
    "colab_type": "code",
    "id": "mcwtvNebHwcC",
    "outputId": "a63f71d1-57ce-466d-e36d-320029693111"
   },
   "outputs": [
    {
     "data": {
      "text/plain": [
       "numpy.ndarray"
      ]
     },
     "execution_count": 46,
     "metadata": {},
     "output_type": "execute_result"
    }
   ],
   "source": [
    "# 型の確認\n",
    "type(x)"
   ]
  },
  {
   "cell_type": "code",
   "execution_count": 47,
   "metadata": {
    "colab": {
     "base_uri": "https://localhost:8080/",
     "height": 35
    },
    "colab_type": "code",
    "id": "ePRjydCwHwhK",
    "outputId": "5b8f0ada-f537-45a3-8eba-61278792f03e"
   },
   "outputs": [
    {
     "data": {
      "text/plain": [
       "numpy.ndarray"
      ]
     },
     "execution_count": 47,
     "metadata": {},
     "output_type": "execute_result"
    }
   ],
   "source": [
    "# 型の確認\n",
    "type(t)"
   ]
  },
  {
   "cell_type": "markdown",
   "metadata": {
    "colab_type": "text",
    "id": "YpVcSk5NN9Bi"
   },
   "source": [
    "次に入力変数と教師データ、それぞれのデータ型を確認します。"
   ]
  },
  {
   "cell_type": "code",
   "execution_count": 48,
   "metadata": {
    "colab": {
     "base_uri": "https://localhost:8080/",
     "height": 35
    },
    "colab_type": "code",
    "id": "QN6gycltON97",
    "outputId": "2481d3da-954c-418b-b6cb-8ac7a0388578"
   },
   "outputs": [
    {
     "data": {
      "text/plain": [
       "dtype('float64')"
      ]
     },
     "execution_count": 48,
     "metadata": {},
     "output_type": "execute_result"
    }
   ],
   "source": [
    "# データ型の確認\n",
    "x.dtype"
   ]
  },
  {
   "cell_type": "code",
   "execution_count": 49,
   "metadata": {
    "colab": {
     "base_uri": "https://localhost:8080/",
     "height": 35
    },
    "colab_type": "code",
    "id": "PBGitPwbOPSr",
    "outputId": "d7d701f2-a201-46d8-9eff-560679863a07"
   },
   "outputs": [
    {
     "data": {
      "text/plain": [
       "dtype('int64')"
      ]
     },
     "execution_count": 49,
     "metadata": {},
     "output_type": "execute_result"
    }
   ],
   "source": [
    "# データ型の確認\n",
    "t.dtype"
   ]
  },
  {
   "cell_type": "markdown",
   "metadata": {
    "colab_type": "text",
    "id": "P82qbMIFOQnF"
   },
   "source": [
    "今回、64 bit となっているため、それぞれを 32bit へ変換する必要があります。\n",
    "`numpy.ndarray` ですでに定義されているため、`astype()` を使ってデータ型を変換します。"
   ]
  },
  {
   "cell_type": "code",
   "execution_count": 50,
   "metadata": {
    "colab": {},
    "colab_type": "code",
    "id": "ivwcazzPOuO3"
   },
   "outputs": [],
   "source": [
    "# それぞれ 32 bit へ変換\n",
    "x = x.astype('float32')  # x.astype('f') でもok\n",
    "t = t.astype('int32')  # t.astype('i')  でもok"
   ]
  },
  {
   "cell_type": "code",
   "execution_count": 51,
   "metadata": {
    "colab": {
     "base_uri": "https://localhost:8080/",
     "height": 35
    },
    "colab_type": "code",
    "id": "J6FawbGTOv3Y",
    "outputId": "333e75ce-e0e0-463d-e964-f60abf59773d"
   },
   "outputs": [
    {
     "data": {
      "text/plain": [
       "dtype('float32')"
      ]
     },
     "execution_count": 51,
     "metadata": {},
     "output_type": "execute_result"
    }
   ],
   "source": [
    "# 変換後のデータ型の確認\n",
    "x.dtype"
   ]
  },
  {
   "cell_type": "code",
   "execution_count": 52,
   "metadata": {
    "colab": {
     "base_uri": "https://localhost:8080/",
     "height": 35
    },
    "colab_type": "code",
    "id": "--Tsw6SkOxM4",
    "outputId": "ac526a46-4544-4f6d-c2f4-67af72f16af0"
   },
   "outputs": [
    {
     "data": {
      "text/plain": [
       "dtype('int32')"
      ]
     },
     "execution_count": 52,
     "metadata": {},
     "output_type": "execute_result"
    }
   ],
   "source": [
    "# 変換後のデータ型の確認\n",
    "t.dtype"
   ]
  },
  {
   "cell_type": "markdown",
   "metadata": {
    "colab_type": "text",
    "id": "bMKpdtNKDfaV"
   },
   "source": [
    "ラベルが 0 から始まっているかは最初に教師データを表示して確認した際に、`0`, `1`, `2` であったため条件を満たしています。\n",
    "\n",
    "もし、`1`, `2`, `3` のような場合で目標値が `numpy.ndarray` で定義されている場合、`t -= 1` と実行すると、全体に対して `1` が引かれ、`0`, `1`, `2` と変換できます。"
   ]
  },
  {
   "cell_type": "markdown",
   "metadata": {
    "colab_type": "text",
    "id": "RYeAslCqDfaV"
   },
   "source": [
    "### ネットワークを定義\n",
    "\n",
    "ひとまず、訓練データとテストデータへの分割は気にしないものとして、一連の流れを追っていきます。\n",
    "今回は「入力層→隠れ層 1→隠れ層 2→出力層」という 4 層のネットワークを定義することとします。\n",
    "\n",
    "それでは、まずはそれぞれの層で必要となるノードの数を定義しておきます。"
   ]
  },
  {
   "cell_type": "code",
   "execution_count": 53,
   "metadata": {
    "colab": {
     "base_uri": "https://localhost:8080/",
     "height": 35
    },
    "colab_type": "code",
    "id": "K2tcoMrlrd-y",
    "outputId": "920a5be8-50c4-42cb-8b58-60c16f69eeb4"
   },
   "outputs": [
    {
     "data": {
      "text/plain": [
       "4"
      ]
     },
     "execution_count": 53,
     "metadata": {},
     "output_type": "execute_result"
    }
   ],
   "source": [
    "# 入力層のノードの数は入力変数の数と一致する必要がある\n",
    "n_input = len(x[0])\n",
    "n_input"
   ]
  },
  {
   "cell_type": "code",
   "execution_count": 54,
   "metadata": {
    "colab": {
     "base_uri": "https://localhost:8080/",
     "height": 35
    },
    "colab_type": "code",
    "id": "sgVtskqhsQ6r",
    "outputId": "f0863e99-d243-463c-b92c-af9ef8bae889"
   },
   "outputs": [
    {
     "data": {
      "text/plain": [
       "3"
      ]
     },
     "execution_count": 54,
     "metadata": {},
     "output_type": "execute_result"
    }
   ],
   "source": [
    "# 隠れ層のノードの数（任意の数）\n",
    "# 隠れ層のノードの数や隠れ層の数もニューラルネットワークの\n",
    "# ハイパーパラメータ\n",
    "n_hidden = 3\n",
    "n_hidden"
   ]
  },
  {
   "cell_type": "code",
   "execution_count": 55,
   "metadata": {
    "colab": {
     "base_uri": "https://localhost:8080/",
     "height": 35
    },
    "colab_type": "code",
    "id": "3_L_JwxdsZDc",
    "outputId": "9ca3e9ad-d576-4e96-c94f-00533f0913b4"
   },
   "outputs": [
    {
     "data": {
      "text/plain": [
       "3"
      ]
     },
     "execution_count": 55,
     "metadata": {},
     "output_type": "execute_result"
    }
   ],
   "source": [
    "# 出力層のノードの数\n",
    "# 0, 1, 2 の 3 カテゴリある\n",
    "n_output = 3\n",
    "n_output"
   ]
  },
  {
   "cell_type": "code",
   "execution_count": 56,
   "metadata": {
    "colab": {},
    "colab_type": "code",
    "id": "hUSV-2nHrS0Q"
   },
   "outputs": [],
   "source": [
    "from chainer import Sequential"
   ]
  },
  {
   "cell_type": "markdown",
   "metadata": {
    "colab_type": "text",
    "id": "0Fq-0-oebTZ5"
   },
   "source": [
    "まずは、ネットワークを定義する前に、**再現性の確保**を行うためのシードを固定します。"
   ]
  },
  {
   "cell_type": "code",
   "execution_count": 57,
   "metadata": {
    "colab": {},
    "colab_type": "code",
    "id": "SsP3v31GbXrV"
   },
   "outputs": [],
   "source": [
    "# シードの固定\n",
    "np.random.seed(0)"
   ]
  },
  {
   "cell_type": "markdown",
   "metadata": {
    "colab_type": "text",
    "id": "FH_ex7sjb8ir"
   },
   "source": [
    "では、モデルの定義を行います。\n",
    "\n",
    "例題では `l1 = L.Linear(3, 2)` のように先に定義していましたが、以下のように、リンクの定義も合わせてネットワークの定義で行うことができます。"
   ]
  },
  {
   "cell_type": "code",
   "execution_count": 58,
   "metadata": {
    "colab": {},
    "colab_type": "code",
    "id": "roztecyOtKRK"
   },
   "outputs": [],
   "source": [
    "# モデルの定義\n",
    "model = Sequential(\n",
    "    L.Linear(n_input, n_hidden), F.relu,\n",
    "    L.Linear(n_hidden, n_hidden), F.relu,\n",
    "    L.Linear(n_hidden, n_output)\n",
    ")"
   ]
  },
  {
   "cell_type": "markdown",
   "metadata": {
    "colab_type": "text",
    "id": "QqSuFYJSc5bR"
   },
   "source": [
    "`Sequential` を使用して定義したモデルの重みは、下記のように確認することができます。"
   ]
  },
  {
   "cell_type": "code",
   "execution_count": 59,
   "metadata": {
    "colab": {
     "base_uri": "https://localhost:8080/",
     "height": 72
    },
    "colab_type": "code",
    "id": "dEQ0kDQh_26q",
    "outputId": "d6852288-86f3-4dce-da95-33b7139dc301"
   },
   "outputs": [
    {
     "data": {
      "text/plain": [
       "variable W([[ 0.8820262 ,  0.2000786 ,  0.489369  ,  1.1204466 ],\n",
       "            [ 0.933779  , -0.48863894,  0.47504422, -0.0756786 ],\n",
       "            [-0.05160943,  0.20529926,  0.07202178,  0.72713673]])"
      ]
     },
     "execution_count": 59,
     "metadata": {},
     "output_type": "execute_result"
    }
   ],
   "source": [
    "# 入力層→隠れ層1の重みの確認\n",
    "model[0].W"
   ]
  },
  {
   "cell_type": "markdown",
   "metadata": {
    "colab_type": "text",
    "id": "aaX9uHagDfar"
   },
   "source": [
    "すでにパラメータが初期化されているため、予測値の計算を行うことができます。"
   ]
  },
  {
   "cell_type": "code",
   "execution_count": 60,
   "metadata": {
    "colab": {},
    "colab_type": "code",
    "id": "nSR96fc8Dfas"
   },
   "outputs": [],
   "source": [
    "# 予測値の計算\n",
    "y = model(x)"
   ]
  },
  {
   "cell_type": "code",
   "execution_count": 61,
   "metadata": {
    "colab": {
     "base_uri": "https://localhost:8080/",
     "height": 108
    },
    "colab_type": "code",
    "id": "oRYBhMbCDfav",
    "outputId": "04c62893-bc67-46eb-f506-534055c9263b"
   },
   "outputs": [
    {
     "data": {
      "text/plain": [
       "variable([[3.3182302 , 0.49361277, 3.4561207 ],\n",
       "          [3.2686512 , 0.3025742 , 3.4778583 ],\n",
       "          [3.0700388 , 0.4549747 , 3.1983018 ],\n",
       "          [3.0903718 , 0.41835007, 3.2353206 ],\n",
       "          [3.2363245 , 0.5664945 , 3.3368258 ]])"
      ]
     },
     "execution_count": 61,
     "metadata": {},
     "output_type": "execute_result"
    }
   ],
   "source": [
    "# 先頭の5件を表示\n",
    "y[:5]"
   ]
  },
  {
   "cell_type": "markdown",
   "metadata": {
    "colab_type": "text",
    "id": "PVO7DVRGDfaw"
   },
   "source": [
    "### 損失関数を定義\n",
    "\n",
    "回帰の場合、損失関数として、平均二乗誤差 `mean_squared_error` を使用していましたが、分類の場合に異なる目的関数である交差エントロピー `cross_entropy` を使用します。\n",
    "ただし、`cross_entropy` の前に、**ソフトマックス関数**\n",
    "\n",
    "$$\n",
    "a(u_{m}) = \\dfrac{\\exp(u_{m})}{\\sum_{m=1}^{M} \\exp(u_{m})}\n",
    "$$\n",
    "\n",
    "を活性化関数として使用します。\n",
    "ここで、$M$ はノードの数を表しています。\n",
    "ソフトマックス関数を使用することで、出力される値の総和を `1` に調整することができます。"
   ]
  },
  {
   "cell_type": "code",
   "execution_count": 62,
   "metadata": {
    "colab": {
     "base_uri": "https://localhost:8080/",
     "height": 108
    },
    "colab_type": "code",
    "id": "M5l9kxyMZ0ng",
    "outputId": "f7886707-4779-4ba9-8154-3a9b252bc8a8"
   },
   "outputs": [
    {
     "data": {
      "text/plain": [
       "variable([[0.45306653, 0.02688105, 0.5200524 ],\n",
       "          [0.43778905, 0.02254831, 0.53966266],\n",
       "          [0.4524856 , 0.03310525, 0.5144092 ],\n",
       "          [0.4494195 , 0.03106044, 0.51952004],\n",
       "          [0.4597724 , 0.03184567, 0.5083819 ]])"
      ]
     },
     "execution_count": 62,
     "metadata": {},
     "output_type": "execute_result"
    }
   ],
   "source": [
    "# 予測値 y に対してソフトマックス関数を適用し、先頭の5件を表示\n",
    "F.softmax(y)[:5]"
   ]
  },
  {
   "cell_type": "markdown",
   "metadata": {
    "colab_type": "text",
    "id": "tEjgWBJpZ0ni"
   },
   "source": [
    "上記のように、各ノードの値の総和が 1 となっていることが確認できます。\n",
    "\n",
    "`softmax` -> `cross_entropy` の順に関数を計算していきますが、`chainer.functions` の中にこの 2 つの処理を合わせた `sofmax_cross_entropy` という関数があり、こちらを使用します。\n",
    "\n",
    "それでは、先程求めた予測値 `y` と目標値 `t` を用いて損失関数の値を計算します。"
   ]
  },
  {
   "cell_type": "code",
   "execution_count": 63,
   "metadata": {
    "colab": {
     "base_uri": "https://localhost:8080/",
     "height": 35
    },
    "colab_type": "code",
    "id": "DADADVIfDfaw",
    "outputId": "e9ae5b07-21ae-46ae-acc0-25aa747f68da"
   },
   "outputs": [
    {
     "data": {
      "text/plain": [
       "variable(2.2861714)"
      ]
     },
     "execution_count": 63,
     "metadata": {},
     "output_type": "execute_result"
    }
   ],
   "source": [
    "F.softmax_cross_entropy(y, t)"
   ]
  },
  {
   "cell_type": "code",
   "execution_count": 64,
   "metadata": {
    "colab": {
     "base_uri": "https://localhost:8080/",
     "height": 35
    },
    "colab_type": "code",
    "id": "Cm2bNtY9Dfa0",
    "outputId": "b9c5daac-1b3c-4f67-9ec9-0e6145da0ae6"
   },
   "outputs": [
    {
     "data": {
      "text/plain": [
       "variable(2.2861714)"
      ]
     },
     "execution_count": 64,
     "metadata": {},
     "output_type": "execute_result"
    }
   ],
   "source": [
    "loss = F.softmax_cross_entropy(y, t)\n",
    "loss"
   ]
  },
  {
   "cell_type": "markdown",
   "metadata": {
    "colab_type": "text",
    "id": "cobHy1tiDfa1"
   },
   "source": [
    "損失関数を最小化するようにパラメータの調整を行いますが、分類では損失関数以外に、**正解率 (accuracy)** を指標として用います。\n",
    "100 サンプルに対して、予測した分類の結果が 3 個間違っており、97 個が正解している場合は 正解率が 0.97 となります。\n",
    "正解率は損失関数と比較して、直感的に良し悪しを判断しやすいため、指標してよく用いられます。"
   ]
  },
  {
   "cell_type": "code",
   "execution_count": 65,
   "metadata": {
    "colab": {
     "base_uri": "https://localhost:8080/",
     "height": 35
    },
    "colab_type": "code",
    "id": "x19M_6yvDfa1",
    "outputId": "5a12144b-40ce-4d40-b101-ae161dc8a391"
   },
   "outputs": [
    {
     "data": {
      "text/plain": [
       "variable(0.31333333)"
      ]
     },
     "execution_count": 65,
     "metadata": {},
     "output_type": "execute_result"
    }
   ],
   "source": [
    "accuracy = F.accuracy(y, t)\n",
    "accuracy"
   ]
  },
  {
   "cell_type": "markdown",
   "metadata": {
    "colab_type": "text",
    "id": "cEH7whHSDfa3"
   },
   "source": [
    "この結果から、初期のパラメータでは、31.3 % のサンプルに対しては正解しており、残りは不正解であることがわかります。"
   ]
  },
  {
   "cell_type": "markdown",
   "metadata": {
    "colab_type": "text",
    "id": "etsGIRdiDfa3"
   },
   "source": [
    "### 勾配ベクトルの計算\n",
    "\n",
    "損失関数の値を用いて、前章で紹介した誤差逆伝播法でそれぞれのパラメータに対する勾配の値を計算していきます。\n",
    "この誤差逆伝播法を含めた勾配の計算は自前で書く必要はありません。\n",
    "`loss.backward()`が用意されており、この一行で勾配ベクトルの計算を行うことができます。\n",
    "\n",
    "ただし、ここで一点注意が必要であり、パラメータの情報を有しているのが `model` であることに対し、`loss` に対して `backward()` のメソッドを実行することです。\n",
    "Chainer では、各計算で使用した変数やモデルが紐付くようになっています。\n",
    "そのため、`model` -> `y` -> `loss` のような一連の流れであったため、`loss` に対して `backward()` を実行すると、それに紐付いていた `model` 内のパラメータに対して勾配の情報が保存されるようになっています。\n",
    "\n",
    "また、`backward()` を行う前に、モデル内のパラメータが保存している勾配情報を初期化 `cleargrads()` しておく必要があります。\n",
    "実装上の理由であるため、いまは気にする必要はありませんが、`backward()` を実行すると勾配情報が上書きされるのではなく、元の勾配に対して加算されるような設計となっているためです。"
   ]
  },
  {
   "cell_type": "code",
   "execution_count": 66,
   "metadata": {
    "colab": {
     "base_uri": "https://localhost:8080/",
     "height": 72
    },
    "colab_type": "code",
    "id": "ftdVVF38Dfa3",
    "outputId": "491b7e64-0b80-4e0c-c40d-8a7672877e1e"
   },
   "outputs": [
    {
     "data": {
      "text/plain": [
       "array([[nan, nan, nan, nan],\n",
       "       [nan, nan, nan, nan],\n",
       "       [nan, nan, nan, nan]], dtype=float32)"
      ]
     },
     "execution_count": 66,
     "metadata": {},
     "output_type": "execute_result"
    }
   ],
   "source": [
    "# 勾配の値は各パラメータの属性として保持しています\n",
    "# 初期は全て nan で初期化されています\n",
    "model[0].W.grad"
   ]
  },
  {
   "cell_type": "code",
   "execution_count": 67,
   "metadata": {
    "colab": {},
    "colab_type": "code",
    "id": "Scianp9nDfa4"
   },
   "outputs": [],
   "source": [
    "# 逆伝播の前に勾配の情報をリセット\n",
    "model.cleargrads()"
   ]
  },
  {
   "cell_type": "code",
   "execution_count": 68,
   "metadata": {
    "colab": {},
    "colab_type": "code",
    "id": "veFY3oXiDfa5"
   },
   "outputs": [],
   "source": [
    "# cleargrads 実行後は None となります\n",
    "model[0].W.grad"
   ]
  },
  {
   "cell_type": "code",
   "execution_count": 69,
   "metadata": {
    "colab": {},
    "colab_type": "code",
    "id": "HPu3UCjNDfa6"
   },
   "outputs": [],
   "source": [
    "# 誤差逆伝播法に依る勾配ベクトルの計算\n",
    "loss.backward()"
   ]
  },
  {
   "cell_type": "code",
   "execution_count": 70,
   "metadata": {
    "colab": {
     "base_uri": "https://localhost:8080/",
     "height": 90
    },
    "colab_type": "code",
    "id": "hYqRTNehDfa7",
    "outputId": "dda41b5b-f276-4e35-ee5c-30552d5201a1"
   },
   "outputs": [
    {
     "data": {
      "text/plain": [
       "array([[-0.4285984 , -0.22564623, -0.24223393, -0.06386641],\n",
       "       [ 2.3816435 ,  1.158132  ,  1.5835791 ,  0.46927246],\n",
       "       [-0.92983687, -0.46296883, -0.59143114, -0.17029424]],\n",
       "      dtype=float32)"
      ]
     },
     "execution_count": 70,
     "metadata": {},
     "output_type": "execute_result"
    }
   ],
   "source": [
    "# 逆伝播の計算後に勾配ベクトルの値が格納されています\n",
    "model[0].W.grad"
   ]
  },
  {
   "cell_type": "markdown",
   "metadata": {
    "colab_type": "text",
    "id": "WJIwxoUsDfa8"
   },
   "source": [
    "### パラメータの更新\n",
    "\n",
    "勾配の情報が取得できたため、**確率的勾配降下法 (SGD)** など最適化アルゴリズムを選択し、パラメータの更新を行います。\n",
    "Chainer では `chainer.optimizers` に最適化に関する関数をまとめられており、今回は SGD を使用した更新を行います。"
   ]
  },
  {
   "cell_type": "code",
   "execution_count": 71,
   "metadata": {
    "colab": {},
    "colab_type": "code",
    "id": "On8SePp9Dfa8"
   },
   "outputs": [],
   "source": [
    "# SGD のアルゴリズムを用いた　optimizer のインスタンス化\n",
    "optimizer = chainer.optimizers.SGD()"
   ]
  },
  {
   "cell_type": "markdown",
   "metadata": {
    "colab_type": "text",
    "id": "KslRhBnGDfa-"
   },
   "source": [
    "`SGD` の関数の引数 `lr=0.01` がデフォルトで設定されており、**学習率 (learning rate)** $\\eta = 0.01$ を意味しています。\n",
    "`chainer.optimizers.SGD()` に`SHIFT + Tab` でデフォルトの引数を確認することができます。\n",
    "この学習率は、ハイパーパラメータとして調整することが望ましいのですが、今回はまず一連の流れを優先するため、その調整は後述します。\n",
    "\n",
    "`optimizer` が最適化を行う対象として `setup()` を用いて、`model` との紐付けを行います。"
   ]
  },
  {
   "cell_type": "code",
   "execution_count": 72,
   "metadata": {
    "colab": {
     "base_uri": "https://localhost:8080/",
     "height": 35
    },
    "colab_type": "code",
    "id": "eFi2Zc_tDfa-",
    "outputId": "d821c145-fb52-44f6-c685-7c3a2c6629ab"
   },
   "outputs": [
    {
     "data": {
      "text/plain": [
       "<chainer.optimizers.sgd.SGD at 0x10d890438>"
      ]
     },
     "execution_count": 72,
     "metadata": {},
     "output_type": "execute_result"
    }
   ],
   "source": [
    "# optimizer と model の紐付け\n",
    "optimizer.setup(model)"
   ]
  },
  {
   "cell_type": "markdown",
   "metadata": {
    "colab_type": "text",
    "id": "rW6nxvZsDfa_"
   },
   "source": [
    "紐付けが完了すると、`model` 内にある各パラメータに紐づく勾配ベクトルの値を利用して、`optimizer.update()` により更新を行います。"
   ]
  },
  {
   "cell_type": "code",
   "execution_count": 73,
   "metadata": {
    "colab": {},
    "colab_type": "code",
    "id": "ECGgHKXDDfa_"
   },
   "outputs": [],
   "source": [
    "# パラメータの更新\n",
    "optimizer.update()"
   ]
  },
  {
   "cell_type": "markdown",
   "metadata": {
    "colab_type": "text",
    "id": "TtZgoCvlDfbA"
   },
   "source": [
    "ここまでが、最も簡単な順伝播からパラメータ更新までの逆伝播に関する一連の流れです。\n",
    "ネットワークの定義は最初の一回だけですが、今回行った以下の 4 つを何度も繰り返していきます。\n",
    "\n",
    "- 予測値の計算：`y = model(x)`\n",
    "- 損失関数の計算：`loss = F.sofmax_cross_entropy(y, t)`\n",
    "- 勾配の計算：`loss.backward()`\n",
    "- パラメータの更新：`optimizer.update()`"
   ]
  },
  {
   "cell_type": "markdown",
   "metadata": {
    "colab_type": "text",
    "id": "-wLddGxyDfbB"
   },
   "source": [
    "### パラメータ更新後の損失関数\n",
    "\n",
    "パラメータ更新後のネットワークにおける損失関数を計算してみましょう。"
   ]
  },
  {
   "cell_type": "code",
   "execution_count": 74,
   "metadata": {
    "colab": {},
    "colab_type": "code",
    "id": "k-LbOtIdDfbC"
   },
   "outputs": [],
   "source": [
    "# 予測値の計算\n",
    "y = model(x)"
   ]
  },
  {
   "cell_type": "code",
   "execution_count": 75,
   "metadata": {
    "colab": {
     "base_uri": "https://localhost:8080/",
     "height": 35
    },
    "colab_type": "code",
    "id": "XxuOUU3wDfbD",
    "outputId": "4b2759b6-ed6b-4825-c035-053b2499cf05"
   },
   "outputs": [
    {
     "data": {
      "text/plain": [
       "variable(1.6598166)"
      ]
     },
     "execution_count": 75,
     "metadata": {},
     "output_type": "execute_result"
    }
   ],
   "source": [
    "# 目的関数の計算\n",
    "loss = F.softmax_cross_entropy(y, t)\n",
    "loss"
   ]
  },
  {
   "cell_type": "code",
   "execution_count": 76,
   "metadata": {
    "colab": {
     "base_uri": "https://localhost:8080/",
     "height": 35
    },
    "colab_type": "code",
    "id": "7u7IFr9-DfbE",
    "outputId": "197d4384-e39b-4fa6-b70e-91442c0dc67d"
   },
   "outputs": [
    {
     "data": {
      "text/plain": [
       "variable(0.33333334)"
      ]
     },
     "execution_count": 76,
     "metadata": {},
     "output_type": "execute_result"
    }
   ],
   "source": [
    "# 正解率の確認\n",
    "accuracy = F.accuracy(y, t)\n",
    "accuracy"
   ]
  },
  {
   "cell_type": "markdown",
   "metadata": {
    "colab_type": "text",
    "id": "-W3s862_DfbG"
   },
   "source": [
    "初期での目的関数が `2.2861714` であり、更新後の目的関数の値が `1.6598166` となっており、改善が確認できます。\n",
    "正解率に関しても多少の改善が見られました。"
   ]
  },
  {
   "cell_type": "markdown",
   "metadata": {
    "colab_type": "text",
    "id": "1B_Ht1W2DfbG"
   },
   "source": [
    "### 一連の処理を繰り返し\n",
    "\n",
    "順伝播から逆伝播までの一連の処理を把握できたため、この処理を繰り返していきます。"
   ]
  },
  {
   "cell_type": "code",
   "execution_count": 77,
   "metadata": {
    "colab": {},
    "colab_type": "code",
    "id": "sCPjB55pDfbI"
   },
   "outputs": [],
   "source": [
    "# エポックの数\n",
    "n_epoch = 20"
   ]
  },
  {
   "cell_type": "markdown",
   "metadata": {
    "colab_type": "text",
    "id": "riigZwidDfbJ"
   },
   "source": [
    "モデルの定義を含めた初期設定を行います。"
   ]
  },
  {
   "cell_type": "code",
   "execution_count": 78,
   "metadata": {
    "colab": {},
    "colab_type": "code",
    "id": "1AUfRF9fDfbJ"
   },
   "outputs": [],
   "source": [
    "# シードの固定\n",
    "np.random.seed(0)"
   ]
  },
  {
   "cell_type": "code",
   "execution_count": 79,
   "metadata": {
    "colab": {},
    "colab_type": "code",
    "id": "iqRAbf9fDfbL"
   },
   "outputs": [],
   "source": [
    "# モデルの定義\n",
    "model = Sequential(\n",
    "    L.Linear(n_input, n_hidden), F.relu,\n",
    "    L.Linear(n_hidden, n_hidden), F.relu,\n",
    "    L.Linear(n_hidden, n_output)\n",
    ")"
   ]
  },
  {
   "cell_type": "code",
   "execution_count": 80,
   "metadata": {
    "colab": {
     "base_uri": "https://localhost:8080/",
     "height": 35
    },
    "colab_type": "code",
    "id": "sqe_gSV2DfbM",
    "outputId": "4e090c82-5ad9-4980-ded4-1cd7a680bff1"
   },
   "outputs": [
    {
     "data": {
      "text/plain": [
       "<chainer.optimizers.sgd.SGD at 0x10c8100b8>"
      ]
     },
     "execution_count": 80,
     "metadata": {},
     "output_type": "execute_result"
    }
   ],
   "source": [
    "# optimizer の定義と model と紐付け\n",
    "optimizer = chainer.optimizers.SGD()\n",
    "optimizer.setup(model)"
   ]
  },
  {
   "cell_type": "markdown",
   "metadata": {
    "colab_type": "text",
    "id": "_CJmJSXbDfbN"
   },
   "source": [
    "パラメータの更新を繰り返し、その結果を見ていきます。"
   ]
  },
  {
   "cell_type": "code",
   "execution_count": 81,
   "metadata": {
    "colab": {},
    "colab_type": "code",
    "id": "rOMqnEzgDfbO"
   },
   "outputs": [],
   "source": [
    "results = {}   # 結果格納用\n",
    "results['loss'], results['accuracy'] = [], []"
   ]
  },
  {
   "cell_type": "code",
   "execution_count": 82,
   "metadata": {
    "colab": {
     "base_uri": "https://localhost:8080/",
     "height": 381
    },
    "colab_type": "code",
    "id": "riojgB8NDfbP",
    "outputId": "44e83b11-9aa1-4dcc-8fe3-bd0256861e21"
   },
   "outputs": [
    {
     "name": "stdout",
     "output_type": "stream",
     "text": [
      "1 epoch: loss 2.2862\n",
      "2 epoch: loss 1.6598\n",
      "3 epoch: loss 1.3208\n",
      "4 epoch: loss 1.2426\n",
      "5 epoch: loss 1.2111\n",
      "6 epoch: loss 1.1916\n",
      "7 epoch: loss 1.1791\n",
      "8 epoch: loss 1.1709\n",
      "9 epoch: loss 1.1654\n",
      "10 epoch: loss 1.1615\n",
      "11 epoch: loss 1.1587\n",
      "12 epoch: loss 1.1566\n",
      "13 epoch: loss 1.1550\n",
      "14 epoch: loss 1.1538\n",
      "15 epoch: loss 1.1527\n",
      "16 epoch: loss 1.1518\n",
      "17 epoch: loss 1.1509\n",
      "18 epoch: loss 1.1502\n",
      "19 epoch: loss 1.1495\n",
      "20 epoch: loss 1.1488\n"
     ]
    }
   ],
   "source": [
    "for epoch in range(n_epoch):\n",
    "    \n",
    "    # 予測値と目的関数の計算\n",
    "    y = model(x)\n",
    "    loss = F.softmax_cross_entropy(y, t)\n",
    "    accuracy = F.accuracy(y, t)\n",
    "    \n",
    "    # 勾配ベクトルの初期化と計算\n",
    "    model.cleargrads()\n",
    "    loss.backward()\n",
    "    \n",
    "    # パラメータの更新\n",
    "    optimizer.update()\n",
    "    \n",
    "    # 結果の表示\n",
    "    # {:.4f} と指定することで、小数点以下4桁を指定できます\n",
    "    print('{} epoch: loss {:.4f}'.format(epoch+1, loss.array))\n",
    "    \n",
    "    # 可視化用に保存\n",
    "    results['loss'].append(loss.array)\n",
    "    results['accuracy'].append(accuracy.array)"
   ]
  },
  {
   "cell_type": "code",
   "execution_count": 83,
   "metadata": {
    "colab": {},
    "colab_type": "code",
    "id": "IyasYERwDfbQ"
   },
   "outputs": [],
   "source": [
    "%matplotlib inline\n",
    "import matplotlib.pyplot as plt"
   ]
  },
  {
   "cell_type": "code",
   "execution_count": 84,
   "metadata": {
    "colab": {
     "base_uri": "https://localhost:8080/",
     "height": 284
    },
    "colab_type": "code",
    "id": "cVmozZ-gDfbQ",
    "outputId": "607078b9-96bf-47c2-81db-65b6fc653282"
   },
   "outputs": [
    {
     "data": {
      "text/plain": [
       "[<matplotlib.lines.Line2D at 0x10e369978>]"
      ]
     },
     "execution_count": 84,
     "metadata": {},
     "output_type": "execute_result"
    },
    {
     "data": {
      "image/png": "[encoded data removed]",
      "text/plain": [
       "<Figure size 432x288 with 1 Axes>"
      ]
     },
     "metadata": {
      "needs_background": "light"
     },
     "output_type": "display_data"
    }
   ],
   "source": [
    "# 折れ線グラフ\n",
    "plt.plot(results['loss'])"
   ]
  },
  {
   "cell_type": "code",
   "execution_count": 85,
   "metadata": {
    "colab": {
     "base_uri": "https://localhost:8080/",
     "height": 284
    },
    "colab_type": "code",
    "id": "4lNurEylDfbS",
    "outputId": "fe7ba9a8-0e41-40a3-9333-12768315f4eb",
    "scrolled": true
   },
   "outputs": [
    {
     "data": {
      "text/plain": [
       "<matplotlib.collections.PathCollection at 0x11040c240>"
      ]
     },
     "execution_count": 85,
     "metadata": {},
     "output_type": "execute_result"
    },
    {
     "data": {
      "image/png": "[encoded data removed]",
      "text/plain": [
       "<Figure size 432x288 with 1 Axes>"
      ]
     },
     "metadata": {
      "needs_background": "light"
     },
     "output_type": "display_data"
    }
   ],
   "source": [
    "# 散布図も加える\n",
    "plt.plot(results['loss'])\n",
    "plt.scatter(list(range(n_epoch)), results['loss'])"
   ]
  },
  {
   "cell_type": "markdown",
   "metadata": {
    "colab_type": "text",
    "id": "Cj60u_1SDfbT"
   },
   "source": [
    "`list(range(n_epoch))` の点が x 軸の値 (x=0, 1, ..., 20) を表しています。"
   ]
  },
  {
   "cell_type": "code",
   "execution_count": 86,
   "metadata": {
    "colab": {
     "base_uri": "https://localhost:8080/",
     "height": 285
    },
    "colab_type": "code",
    "id": "4pb4b3VVDfbT",
    "outputId": "d5bfcf15-1923-45ed-f6fa-fd2ed1ff969a"
   },
   "outputs": [
    {
     "data": {
      "text/plain": [
       "<matplotlib.collections.PathCollection at 0x110450f98>"
      ]
     },
     "execution_count": 86,
     "metadata": {},
     "output_type": "execute_result"
    },
    {
     "data": {
      "image/png": "[encoded data removed]",
      "text/plain": [
       "<Figure size 432x288 with 1 Axes>"
      ]
     },
     "metadata": {
      "needs_background": "light"
     },
     "output_type": "display_data"
    }
   ],
   "source": [
    "# 正解率\n",
    "plt.plot(results['accuracy'])\n",
    "plt.scatter(list(range(n_epoch)), results['accuracy'])"
   ]
  },
  {
   "cell_type": "markdown",
   "metadata": {
    "colab_type": "text",
    "id": "PrbZfybuDfbU"
   },
   "source": [
    "`loss` が順調に下がっているように見えますが、正解率に関しては中盤でエポックが進むごとに、下がっており、この対策は後述していきます。"
   ]
  },
  {
   "cell_type": "markdown",
   "metadata": {
    "colab_type": "text",
    "id": "N9XSFnNsDfbU"
   },
   "source": [
    "### データセットの分割\n",
    "\n",
    "一連の流れを把握することができたため、さらに実践的な実装へと近づけていきます。\n",
    "\n",
    "まずはじめに、前回まではデータセットをすべて訓練に使用していましたが、本来は訓練データ、検証データ、テストデータに分割して、その訓練データのみをモデルの訓練に使用していました。\n",
    "そのため、データセットを分割していきます。\n",
    "\n",
    "Chainer ではデータセットを分割する関数が用意されていますが、その前に Chainer の関数で使用するデータセットの形式について把握しておきましょう。\n",
    "メモリに乗る程度の小規模なデータの場合は、下図のように `list(zip(x, t))` を用いて、各サンプルごとの入力変数と目標値のタプルを作成し、それをリストに変換します。"
   ]
  },
  {
   "cell_type": "markdown",
   "metadata": {
    "colab_type": "text",
    "id": "Q6NsdXz9OyYB"
   },
   "source": [
    "![Chainerで使用するデータセットの形式](images/09/09_08.png)\n",
    "\n",
    "逆に、データセットのサンプル数が多かったり、画像のように各サンプルでも容量が大きく、メモリに乗り切らないような場合は `chainer.dataset.TuppleDataset` などを使用します。\n",
    "この使い方については、後の章で解説していきます。"
   ]
  },
  {
   "cell_type": "code",
   "execution_count": 87,
   "metadata": {
    "colab": {},
    "colab_type": "code",
    "id": "P-0NxtAgPbZz"
   },
   "outputs": [],
   "source": [
    "# Chainer で使用できるデータセットの形式へ変換\n",
    "dataset = list(zip(x, t))"
   ]
  },
  {
   "cell_type": "markdown",
   "metadata": {
    "colab_type": "text",
    "id": "4QiV6vygDfbX"
   },
   "source": [
    "Chainerでは `chainer.datasets.split_dataset` と `chainer.datasets.split_dataset_random` の 2 つがデータセットの分割を行うことができます。\n",
    "前者がランダムではない分割で、後者がランダムに選択した分割です。\n",
    "これまでに何度か使用した Scikit-learn の `sklearn.model_selection.train_test_split` に相当するのが後者です。\n",
    "\n",
    "引数には`dataset`（先ほど作成した形式）、`first_size`と指定されています。\n",
    "\n",
    "`first_size`では訓練データのサイズを指定しますが、このとき全体の70%を訓練データと検証データにしようと決めておくと、記述が簡単かつ汎用性の高いプログラムになります。\n",
    "\n",
    "全体のサイズを取得する時には`len()`が便利です。"
   ]
  },
  {
   "cell_type": "code",
   "execution_count": 88,
   "metadata": {
    "colab": {
     "base_uri": "https://localhost:8080/",
     "height": 35
    },
    "colab_type": "code",
    "id": "LghvmT1dQixA",
    "outputId": "42b9ecb1-4a4a-4991-842c-d0cf751cbfd0"
   },
   "outputs": [
    {
     "data": {
      "text/plain": [
       "150"
      ]
     },
     "execution_count": 88,
     "metadata": {},
     "output_type": "execute_result"
    }
   ],
   "source": [
    "# 全体のサンプル数を確認\n",
    "len(dataset)"
   ]
  },
  {
   "cell_type": "code",
   "execution_count": 89,
   "metadata": {
    "colab": {
     "base_uri": "https://localhost:8080/",
     "height": 35
    },
    "colab_type": "code",
    "id": "GA5jHbRODfbb",
    "outputId": "b531d175-e1dd-4aa4-98da-c374119fe54a"
   },
   "outputs": [
    {
     "data": {
      "text/plain": [
       "105.0"
      ]
     },
     "execution_count": 89,
     "metadata": {},
     "output_type": "execute_result"
    }
   ],
   "source": [
    "# 全体のサンプル数の70%\n",
    "len(dataset) * 0.7"
   ]
  },
  {
   "cell_type": "markdown",
   "metadata": {
    "colab_type": "text",
    "id": "NkTL3KksQlPJ"
   },
   "source": [
    "組み込み関数である `int` を用いると、小数点は切り捨てて整数値に変換できます。"
   ]
  },
  {
   "cell_type": "code",
   "execution_count": 90,
   "metadata": {
    "colab": {
     "base_uri": "https://localhost:8080/",
     "height": 35
    },
    "colab_type": "code",
    "id": "y1xB-4WjQqr0",
    "outputId": "63d843f6-ebe8-43e2-93a7-bb144bbad77a"
   },
   "outputs": [
    {
     "data": {
      "text/plain": [
       "105"
      ]
     },
     "execution_count": 90,
     "metadata": {},
     "output_type": "execute_result"
    }
   ],
   "source": [
    "# 訓練データのサンプル数\n",
    "n_train_val = int(len(dataset) * 0.7)\n",
    "n_train_val"
   ]
  },
  {
   "cell_type": "markdown",
   "metadata": {
    "colab_type": "text",
    "id": "KokcfyVcDfbe"
   },
   "source": [
    "ここで、`n_` は「〜の数」を表す場合によく用いられます（the number of ... の `n_` ）。\n",
    "\n",
    "それでは、訓練データ、検証データとテストデータに分割します。\n",
    "\n",
    "![データセットの分割](images/09/09_09.png)"
   ]
  },
  {
   "cell_type": "code",
   "execution_count": 91,
   "metadata": {
    "colab": {},
    "colab_type": "code",
    "id": "eWA8T6Z0Dfbf"
   },
   "outputs": [],
   "source": [
    "# 訓練データ・検証データ (train and validation) とテストデータ (test) に分割\n",
    "train_val, test = chainer.datasets.split_dataset_random(dataset, n_train_val, seed=0)"
   ]
  },
  {
   "cell_type": "markdown",
   "metadata": {
    "colab_type": "text",
    "id": "ILUtVodTDfbf"
   },
   "source": [
    "その後、訓練データと検証データをそれぞれ分割します。"
   ]
  },
  {
   "cell_type": "code",
   "execution_count": 92,
   "metadata": {
    "colab": {},
    "colab_type": "code",
    "id": "jdwyhfKBDfbf"
   },
   "outputs": [],
   "source": [
    "# 訓練データ (train) と検証データ (valid) に分割\n",
    "n_train = int(len(train_val) * 0.7)\n",
    "train, valid = chainer.datasets.split_dataset_random(train_val, n_train, seed=0)"
   ]
  },
  {
   "cell_type": "markdown",
   "metadata": {
    "colab_type": "text",
    "id": "Di6vDEU0Dfbh"
   },
   "source": [
    "分割した結果得られた `train` や `valid` を確認します。"
   ]
  },
  {
   "cell_type": "code",
   "execution_count": 93,
   "metadata": {
    "colab": {
     "base_uri": "https://localhost:8080/",
     "height": 35
    },
    "colab_type": "code",
    "id": "bDeqrmI5Q5TL",
    "outputId": "46dff8fb-3e88-4557-dd2d-3b67e915469a"
   },
   "outputs": [
    {
     "data": {
      "text/plain": [
       "<chainer.datasets.sub_dataset.SubDataset at 0x10d82f0f0>"
      ]
     },
     "execution_count": 93,
     "metadata": {},
     "output_type": "execute_result"
    }
   ],
   "source": [
    "train"
   ]
  },
  {
   "cell_type": "code",
   "execution_count": 94,
   "metadata": {
    "colab": {
     "base_uri": "https://localhost:8080/",
     "height": 35
    },
    "colab_type": "code",
    "id": "Y-l_HcwocSPG",
    "outputId": "c286d8de-d3d9-4046-bb27-2ca51aee090f"
   },
   "outputs": [
    {
     "data": {
      "text/plain": [
       "<chainer.datasets.sub_dataset.SubDataset at 0x10d81eb00>"
      ]
     },
     "execution_count": 94,
     "metadata": {},
     "output_type": "execute_result"
    }
   ],
   "source": [
    "valid"
   ]
  },
  {
   "cell_type": "code",
   "execution_count": 95,
   "metadata": {
    "colab": {
     "base_uri": "https://localhost:8080/",
     "height": 35
    },
    "colab_type": "code",
    "id": "8IkcpS4lQ6U0",
    "outputId": "2b11cc52-27a5-459c-8934-b9021096253e"
   },
   "outputs": [
    {
     "data": {
      "text/plain": [
       "<chainer.datasets.sub_dataset.SubDataset at 0x10d839c88>"
      ]
     },
     "execution_count": 95,
     "metadata": {},
     "output_type": "execute_result"
    }
   ],
   "source": [
    "test"
   ]
  },
  {
   "cell_type": "markdown",
   "metadata": {
    "colab_type": "text",
    "id": "-KwZTk2CQ96z"
   },
   "source": [
    "この結果から分かる通り、変数名だけで数値などを確認することはできませんが、`train[0]` のようにリストの要素番号を指定すると内容を確認できます。"
   ]
  },
  {
   "cell_type": "code",
   "execution_count": 96,
   "metadata": {
    "colab": {
     "base_uri": "https://localhost:8080/",
     "height": 35
    },
    "colab_type": "code",
    "id": "iJGTyXsYQ66l",
    "outputId": "b029bfa4-b56e-44e4-949b-8dd60f581586"
   },
   "outputs": [
    {
     "data": {
      "text/plain": [
       "(array([5.1, 3.8, 1.9, 0.4], dtype=float32), 0)"
      ]
     },
     "execution_count": 96,
     "metadata": {},
     "output_type": "execute_result"
    }
   ],
   "source": [
    "# (x, t) がタプルで格納されています。\n",
    "train[0]"
   ]
  },
  {
   "cell_type": "code",
   "execution_count": 97,
   "metadata": {
    "colab": {
     "base_uri": "https://localhost:8080/",
     "height": 35
    },
    "colab_type": "code",
    "id": "EgGlr5_ZDfbn",
    "outputId": "82f866bd-2b3a-4d87-90af-3129cb34339f"
   },
   "outputs": [
    {
     "data": {
      "text/plain": [
       "array([5.1, 3.8, 1.9, 0.4], dtype=float32)"
      ]
     },
     "execution_count": 97,
     "metadata": {},
     "output_type": "execute_result"
    }
   ],
   "source": [
    "# x\n",
    "train[0][0]"
   ]
  },
  {
   "cell_type": "code",
   "execution_count": 98,
   "metadata": {
    "colab": {
     "base_uri": "https://localhost:8080/",
     "height": 35
    },
    "colab_type": "code",
    "id": "--cQjQ8mDfbo",
    "outputId": "8d3a0721-9c62-4e7f-8136-a05a16f70a4e"
   },
   "outputs": [
    {
     "data": {
      "text/plain": [
       "0"
      ]
     },
     "execution_count": 98,
     "metadata": {},
     "output_type": "execute_result"
    }
   ],
   "source": [
    "# t\n",
    "train[0][1]"
   ]
  },
  {
   "cell_type": "code",
   "execution_count": 99,
   "metadata": {
    "colab": {
     "base_uri": "https://localhost:8080/",
     "height": 35
    },
    "colab_type": "code",
    "id": "gtq1fGZQgjK1",
    "outputId": "b94a89f7-7f3a-48f9-ee67-29b6c3609c2b"
   },
   "outputs": [
    {
     "data": {
      "text/plain": [
       "73"
      ]
     },
     "execution_count": 99,
     "metadata": {},
     "output_type": "execute_result"
    }
   ],
   "source": [
    "# 訓練データのサンプル数\n",
    "len(train)"
   ]
  },
  {
   "cell_type": "code",
   "execution_count": 100,
   "metadata": {
    "colab": {
     "base_uri": "https://localhost:8080/",
     "height": 35
    },
    "colab_type": "code",
    "id": "hs8ioLxmgkec",
    "outputId": "ee867c3d-16f4-4349-cfdf-c6ca8dfb8c2b"
   },
   "outputs": [
    {
     "data": {
      "text/plain": [
       "32"
      ]
     },
     "execution_count": 100,
     "metadata": {},
     "output_type": "execute_result"
    }
   ],
   "source": [
    "# 検証データのサンプル数\n",
    "len(valid)"
   ]
  },
  {
   "cell_type": "code",
   "execution_count": 101,
   "metadata": {
    "colab": {
     "base_uri": "https://localhost:8080/",
     "height": 35
    },
    "colab_type": "code",
    "id": "qSF-XuuBcSPX",
    "outputId": "7fcbf467-e6d7-4aae-d7da-f92aa7123645"
   },
   "outputs": [
    {
     "data": {
      "text/plain": [
       "45"
      ]
     },
     "execution_count": 101,
     "metadata": {},
     "output_type": "execute_result"
    }
   ],
   "source": [
    "# テストデータのサンプル数\n",
    "len(test)"
   ]
  },
  {
   "cell_type": "markdown",
   "metadata": {
    "colab_type": "text",
    "id": "Ey_0Dll3Dfbz"
   },
   "source": [
    "Chainer で扱う dataset の形式では、入力 `x` と目標値 `t` が一組となっていますが、これから各動作についてひとつひとつ説明していく際には、`x` と `t ` が別れている方が取り扱いやすいため、一旦それぞれを分割します。\n",
    "Chainer であらかじめ準備されている `chainer.dataset.concat_examples` を使用します。\n",
    "この関数はよく使用されるため、覚えておきましょう。"
   ]
  },
  {
   "cell_type": "code",
   "execution_count": 102,
   "metadata": {
    "colab": {},
    "colab_type": "code",
    "id": "F0CsEmwrDfb0"
   },
   "outputs": [],
   "source": [
    "x_train, t_train = chainer.dataset.concat_examples(train)"
   ]
  },
  {
   "cell_type": "code",
   "execution_count": 103,
   "metadata": {
    "colab": {
     "base_uri": "https://localhost:8080/",
     "height": 108
    },
    "colab_type": "code",
    "id": "RllGA8ToDfb0",
    "outputId": "e16d0e6c-0161-4a12-bb21-4e6e0f008bda"
   },
   "outputs": [
    {
     "data": {
      "text/plain": [
       "array([[5.1, 3.8, 1.9, 0.4],\n",
       "       [4.8, 3.1, 1.6, 0.2],\n",
       "       [5.5, 4.2, 1.4, 0.2],\n",
       "       [5.8, 2.7, 5.1, 1.9],\n",
       "       [6.5, 3. , 5.8, 2.2]], dtype=float32)"
      ]
     },
     "execution_count": 103,
     "metadata": {},
     "output_type": "execute_result"
    }
   ],
   "source": [
    "# 先頭の5件\n",
    "x_train[:5]"
   ]
  },
  {
   "cell_type": "code",
   "execution_count": 104,
   "metadata": {
    "colab": {
     "base_uri": "https://localhost:8080/",
     "height": 35
    },
    "colab_type": "code",
    "id": "HL7usfdqDfb1",
    "outputId": "be99fcfe-74e1-468a-94a7-ba5076dd4d89"
   },
   "outputs": [
    {
     "data": {
      "text/plain": [
       "array([0, 0, 0, 2, 2], dtype=int32)"
      ]
     },
     "execution_count": 104,
     "metadata": {},
     "output_type": "execute_result"
    }
   ],
   "source": [
    "# 先頭の5件\n",
    "t_train[:5]"
   ]
  },
  {
   "cell_type": "markdown",
   "metadata": {
    "colab_type": "text",
    "id": "jVbVzkhIDfb2"
   },
   "source": [
    "データセットの分割ができたため、訓練の際の検証データに対する結果も合わせて表示していきます。\n",
    "なお、ニューラルネットワークでは、`層の数` や `各層のノードの数`、最適化アルゴリズムの`学習率`など多くのハイパーパラメータが存在しており、このハイパーパラメータを調整するために、検証データを確認しています。"
   ]
  },
  {
   "cell_type": "code",
   "execution_count": 105,
   "metadata": {
    "colab": {},
    "colab_type": "code",
    "id": "O4590MkaDfb2"
   },
   "outputs": [],
   "source": [
    "# シードの固定\n",
    "np.random.seed(0)"
   ]
  },
  {
   "cell_type": "code",
   "execution_count": 106,
   "metadata": {
    "colab": {},
    "colab_type": "code",
    "id": "RbyUsvgQDfb3"
   },
   "outputs": [],
   "source": [
    "# モデルの定義\n",
    "model = Sequential(\n",
    "    L.Linear(n_input, n_hidden), F.relu,\n",
    "    L.Linear(n_hidden, n_hidden), F.relu,\n",
    "    L.Linear(n_hidden, n_output)\n",
    ")"
   ]
  },
  {
   "cell_type": "code",
   "execution_count": 107,
   "metadata": {
    "colab": {
     "base_uri": "https://localhost:8080/",
     "height": 35
    },
    "colab_type": "code",
    "id": "hSVXN5BhDfb4",
    "outputId": "d60f012d-4de9-4ed6-d6d4-c80327d56779"
   },
   "outputs": [
    {
     "data": {
      "text/plain": [
       "<chainer.optimizers.sgd.SGD at 0x10d89b630>"
      ]
     },
     "execution_count": 107,
     "metadata": {},
     "output_type": "execute_result"
    }
   ],
   "source": [
    "# optimizer の定義と model と紐付け\n",
    "optimizer = chainer.optimizers.SGD()\n",
    "optimizer.setup(model)"
   ]
  },
  {
   "cell_type": "markdown",
   "metadata": {
    "colab_type": "text",
    "id": "IYq8a4hcDfb5"
   },
   "source": [
    "パラメータの更新を繰り返し、その結果を見ていきます。"
   ]
  },
  {
   "cell_type": "code",
   "execution_count": 108,
   "metadata": {
    "colab": {},
    "colab_type": "code",
    "id": "d2SuW4kJDfb5"
   },
   "outputs": [],
   "source": [
    "# 可視化用のリスト\n",
    "results_train, results_valid = {}, {}\n",
    "results_train['loss'], results_train['accuracy'] = [], []\n",
    "results_valid['loss'], results_valid['accuracy'] = [], []"
   ]
  },
  {
   "cell_type": "code",
   "execution_count": 109,
   "metadata": {
    "colab": {},
    "colab_type": "code",
    "id": "d_RaRBTTDfb6"
   },
   "outputs": [],
   "source": [
    "# epoch の数を変更\n",
    "n_epoch = 50"
   ]
  },
  {
   "cell_type": "code",
   "execution_count": 110,
   "metadata": {
    "colab": {
     "base_uri": "https://localhost:8080/",
     "height": 926
    },
    "colab_type": "code",
    "id": "CAFa5r8UDfb8",
    "outputId": "92f53de1-59c9-40c3-dbdc-7c6011afe150"
   },
   "outputs": [
    {
     "name": "stdout",
     "output_type": "stream",
     "text": [
      "1 epoch: loss (train) 2.1907, loss (valid) 1.6866\n",
      "2 epoch: loss (train) 1.6557, loss (valid) 1.3168\n",
      "3 epoch: loss (train) 1.3318, loss (valid) 1.2035\n",
      "4 epoch: loss (train) 1.2314, loss (valid) 1.1855\n",
      "5 epoch: loss (train) 1.1908, loss (valid) 1.1746\n",
      "6 epoch: loss (train) 1.1662, loss (valid) 1.1700\n",
      "7 epoch: loss (train) 1.1507, loss (valid) 1.1680\n",
      "8 epoch: loss (train) 1.1406, loss (valid) 1.1677\n",
      "9 epoch: loss (train) 1.1337, loss (valid) 1.1681\n",
      "10 epoch: loss (train) 1.1290, loss (valid) 1.1688\n",
      "11 epoch: loss (train) 1.1256, loss (valid) 1.1697\n",
      "12 epoch: loss (train) 1.1230, loss (valid) 1.1707\n",
      "13 epoch: loss (train) 1.1211, loss (valid) 1.1715\n",
      "14 epoch: loss (train) 1.1195, loss (valid) 1.1722\n",
      "15 epoch: loss (train) 1.1183, loss (valid) 1.1728\n",
      "16 epoch: loss (train) 1.1172, loss (valid) 1.1733\n",
      "17 epoch: loss (train) 1.1163, loss (valid) 1.1737\n",
      "18 epoch: loss (train) 1.1154, loss (valid) 1.1740\n",
      "19 epoch: loss (train) 1.1147, loss (valid) 1.1741\n",
      "20 epoch: loss (train) 1.1139, loss (valid) 1.1742\n",
      "21 epoch: loss (train) 1.1132, loss (valid) 1.1742\n",
      "22 epoch: loss (train) 1.1126, loss (valid) 1.1742\n",
      "23 epoch: loss (train) 1.1119, loss (valid) 1.1740\n",
      "24 epoch: loss (train) 1.1113, loss (valid) 1.1739\n",
      "25 epoch: loss (train) 1.1107, loss (valid) 1.1737\n",
      "26 epoch: loss (train) 1.1101, loss (valid) 1.1734\n",
      "27 epoch: loss (train) 1.1095, loss (valid) 1.1731\n",
      "28 epoch: loss (train) 1.1089, loss (valid) 1.1728\n",
      "29 epoch: loss (train) 1.1083, loss (valid) 1.1725\n",
      "30 epoch: loss (train) 1.1077, loss (valid) 1.1721\n",
      "31 epoch: loss (train) 1.1072, loss (valid) 1.1717\n",
      "32 epoch: loss (train) 1.1066, loss (valid) 1.1714\n",
      "33 epoch: loss (train) 1.1060, loss (valid) 1.1710\n",
      "34 epoch: loss (train) 1.1054, loss (valid) 1.1705\n",
      "35 epoch: loss (train) 1.1049, loss (valid) 1.1701\n",
      "36 epoch: loss (train) 1.1043, loss (valid) 1.1697\n",
      "37 epoch: loss (train) 1.1037, loss (valid) 1.1693\n",
      "38 epoch: loss (train) 1.1032, loss (valid) 1.1688\n",
      "39 epoch: loss (train) 1.1026, loss (valid) 1.1684\n",
      "40 epoch: loss (train) 1.1021, loss (valid) 1.1679\n",
      "41 epoch: loss (train) 1.1015, loss (valid) 1.1675\n",
      "42 epoch: loss (train) 1.1009, loss (valid) 1.1670\n",
      "43 epoch: loss (train) 1.1004, loss (valid) 1.1666\n",
      "44 epoch: loss (train) 1.0998, loss (valid) 1.1661\n",
      "45 epoch: loss (train) 1.0993, loss (valid) 1.1657\n",
      "46 epoch: loss (train) 1.0987, loss (valid) 1.1652\n",
      "47 epoch: loss (train) 1.0982, loss (valid) 1.1648\n",
      "48 epoch: loss (train) 1.0977, loss (valid) 1.1643\n",
      "49 epoch: loss (train) 1.0971, loss (valid) 1.1639\n",
      "50 epoch: loss (train) 1.0966, loss (valid) 1.1634\n"
     ]
    }
   ],
   "source": [
    "for epoch in range(n_epoch):\n",
    "    \n",
    "    # x と t の分割\n",
    "    x_train, t_train = chainer.dataset.concat_examples(train)\n",
    "    x_valid, t_valid = chainer.dataset.concat_examples(valid)\n",
    "    \n",
    "    # 予測値と目的関数の計算\n",
    "    y_train = model(x_train)\n",
    "    loss_train = F.softmax_cross_entropy(y_train, t_train)\n",
    "    accuracy_train = F.accuracy(y_train, t_train)\n",
    "    \n",
    "    # 勾配の初期化と勾配の計算\n",
    "    model.cleargrads()\n",
    "    loss_train.backward()\n",
    "    \n",
    "    # パラメータの更新\n",
    "    optimizer.update()\n",
    "    \n",
    "    # 検証用データに対する結果の確認\n",
    "    with chainer.using_config('train', False), chainer.using_config('enable_backprop', False):\n",
    "        y_valid = model(x_valid)\n",
    "        loss_valid = F.softmax_cross_entropy(y_valid, t_valid)\n",
    "        accuracy_valid = F.accuracy(y_valid, t_valid)\n",
    "    \n",
    "    # 結果の表示\n",
    "    # {:.4f} と指定することで、小数点以下4桁を指定できます\n",
    "    print('{} epoch: loss (train) {:.4f}, loss (valid) {:.4f}'.format(epoch+1, loss_train.array, loss_valid.array))\n",
    "    \n",
    "    # 可視化用に保存\n",
    "    results_train['loss'] .append(loss_train.array)\n",
    "    results_train['accuracy'] .append(accuracy_train.array)\n",
    "    results_valid['loss'].append(loss_valid.array)\n",
    "    results_valid['accuracy'].append(accuracy_valid.array)"
   ]
  },
  {
   "cell_type": "markdown",
   "metadata": {
    "colab_type": "text",
    "id": "qpZ5pJH3Dfb9"
   },
   "source": [
    "ここで、検証データに対して予測値の計算を行う際に、`chainer.using_config('train', False)` と `chainer.using_config('enable_backprop', False)` の 2 つが `with` と一緒に用いられていることがわかります。\n",
    "`chainer.using_config('train', False)` では、このデータを使用した学習を行わないという意味の宣言です。\n",
    "`chainer.using_config('enable_backprop', False)` では、無駄な計算グラフの構築を行わないことを意味します。\n",
    "検証データでは誤差逆伝播法を用いた勾配の計算等が必要ないため、構築を不要と宣言し、メモリ消費量を節約します。"
   ]
  },
  {
   "cell_type": "code",
   "execution_count": 111,
   "metadata": {
    "colab": {
     "base_uri": "https://localhost:8080/",
     "height": 284
    },
    "colab_type": "code",
    "id": "Z8qamVZ4Dfb-",
    "outputId": "143834e3-cabc-4381-8be9-641d5cf50c9f"
   },
   "outputs": [
    {
     "data": {
      "text/plain": [
       "<matplotlib.legend.Legend at 0x1105c9940>"
      ]
     },
     "execution_count": 111,
     "metadata": {},
     "output_type": "execute_result"
    },
    {
     "data": {
      "image/png": "[encoded data removed]",
      "text/plain": [
       "<Figure size 432x288 with 1 Axes>"
      ]
     },
     "metadata": {
      "needs_background": "light"
     },
     "output_type": "display_data"
    }
   ],
   "source": [
    "# 目的関数 (loss)\n",
    "plt.plot(results_train['loss'], label='train')  # label で凡例の設定\n",
    "plt.plot(results_valid['loss'], label='valid')  # label で凡例の設定\n",
    "plt.legend()  # 凡例の表示"
   ]
  },
  {
   "cell_type": "code",
   "execution_count": 112,
   "metadata": {
    "colab": {
     "base_uri": "https://localhost:8080/",
     "height": 284
    },
    "colab_type": "code",
    "id": "1okRf12-Dfb_",
    "outputId": "152826e6-4465-4e8c-864b-9449d9ea5c15"
   },
   "outputs": [
    {
     "data": {
      "text/plain": [
       "<matplotlib.legend.Legend at 0x1105f3588>"
      ]
     },
     "execution_count": 112,
     "metadata": {},
     "output_type": "execute_result"
    },
    {
     "data": {
      "image/png": "[encoded data removed]",
      "text/plain": [
       "<Figure size 432x288 with 1 Axes>"
      ]
     },
     "metadata": {
      "needs_background": "light"
     },
     "output_type": "display_data"
    }
   ],
   "source": [
    "# 正解率 (accuracy)\n",
    "plt.plot(results_train['accuracy'], label='train')  # label で凡例の設定\n",
    "plt.plot(results_valid['accuracy'], label='valid')  # label で凡例の設定\n",
    "plt.legend()  # 凡例の表示"
   ]
  },
  {
   "cell_type": "code",
   "execution_count": 113,
   "metadata": {
    "colab": {},
    "colab_type": "code",
    "id": "sqTcqEIZDfb_"
   },
   "outputs": [],
   "source": [
    "# テストデータに対する結果の確認\n",
    "x_test, t_test = chainer.dataset.concat_examples(test)\n",
    "with chainer.using_config('train', False), chainer.using_config('enable_backprop', False):\n",
    "    y_test = model(x_test)\n",
    "    loss_test = F.softmax_cross_entropy(y_test, t_test)\n",
    "    accuracy_test = F.accuracy(y_test, t_test)"
   ]
  },
  {
   "cell_type": "code",
   "execution_count": 114,
   "metadata": {
    "colab": {
     "base_uri": "https://localhost:8080/",
     "height": 35
    },
    "colab_type": "code",
    "id": "K4P9u6blDfcA",
    "outputId": "a53cf097-64ff-4ff7-9e47-c6042a7d0889"
   },
   "outputs": [
    {
     "data": {
      "text/plain": [
       "variable(1.194708)"
      ]
     },
     "execution_count": 114,
     "metadata": {},
     "output_type": "execute_result"
    }
   ],
   "source": [
    "loss_test"
   ]
  },
  {
   "cell_type": "code",
   "execution_count": 115,
   "metadata": {
    "colab": {
     "base_uri": "https://localhost:8080/",
     "height": 35
    },
    "colab_type": "code",
    "id": "RdC-Ymm7DfcC",
    "outputId": "5edaec3a-5d24-453b-f021-e7675212d823"
   },
   "outputs": [
    {
     "data": {
      "text/plain": [
       "variable(0.24444444)"
      ]
     },
     "execution_count": 115,
     "metadata": {},
     "output_type": "execute_result"
    }
   ],
   "source": [
    "accuracy_test"
   ]
  },
  {
   "cell_type": "markdown",
   "metadata": {
    "colab_type": "text",
    "id": "0tWIO8X5DfcD"
   },
   "source": [
    "### バッチ正規化\n",
    "\n",
    "scikit-learn の章でも紹介したように、ニューラルネットワークでは、入力変数のスケールによって結果への影響を及ぼします。\n",
    "線形変換の数式としては、\n",
    "\n",
    "$$\n",
    "{\\bf u} = {\\bf W}{\\bf x} + {\\bf b}\n",
    "$$\n",
    "\n",
    "であるため、パラメータを適切に調整すればスケールによる差はパラメータが吸収するように感じます。\n",
    "しかし、実際には、スケールが異なる場合、その結果がスケーリングを行う前と後では大きく異なります。\n",
    "\n",
    "ニューラルネットワークにおいては、**バッチ正規化 (Batch Normalization)** と呼ばれるバッチごとのスケーリングを行う手法が代表的です。\n",
    "ここで、バッチとは処理を行うまとまりのことを指し、今の状況だと全サンプルのデータセットです。\n",
    "詳細な説明は、後のミニバッチ学習で行います。\n",
    "\n",
    "通常の正規化は、平均 $\\mu$, 標準偏差 $\\sigma$ としたときに、$n$ 番目のサンプル $x_{n}$  に対し、\n",
    "\n",
    "$$\n",
    "x_{s, n} = \\dfrac{x_{n} - \\mu}{\\sigma}\n",
    "$$\n",
    "\n",
    "のような処理を施しますが、バッチ正規化では、それに加えて、$\\gamma$, $\\beta$ をパラメータとして、\n",
    "\n",
    "$$\n",
    "x_{{\\rm bn}, n} = \\gamma x_{s, n} + \\beta\n",
    "$$\n",
    "\n",
    "のような変換を行います。\n",
    "これまでの正規化は、平均 0, 標準偏差 1 に従うような分布に変換することを考えていましたが、これがどのタスクに対しても正しいとは限らないと考え、バッチ正規化では、平均 $\\beta$, 標準偏差 $\\gamma$ に分布が従うように変換しています。\n",
    "\n",
    "Chainer では、`chainer.links.BatchNormalization` として定義されており、簡単に使用することができます。\n",
    "$\\gamma$ と $\\beta$ がパラメータであるため、`chainer.functions` ではなく、`chainer.links` 内で定義されています。"
   ]
  },
  {
   "cell_type": "code",
   "execution_count": 116,
   "metadata": {
    "colab": {},
    "colab_type": "code",
    "id": "WVWafSxoDfcD"
   },
   "outputs": [],
   "source": [
    "# シードの固定\n",
    "np.random.seed(0)"
   ]
  },
  {
   "cell_type": "code",
   "execution_count": 117,
   "metadata": {
    "colab": {},
    "colab_type": "code",
    "id": "kYR44uFjDfcE"
   },
   "outputs": [],
   "source": [
    "# モデルの定義\n",
    "model = Sequential(\n",
    "    L.BatchNormalization(n_input),  # 追記\n",
    "    L.Linear(n_input, n_hidden), F.relu,\n",
    "    L.BatchNormalization(n_hidden),  # 追記\n",
    "    L.Linear(n_hidden, n_hidden), F.relu,\n",
    "    L.BatchNormalization(n_hidden),  # 追記\n",
    "    L.Linear(n_hidden, n_output)\n",
    ")"
   ]
  },
  {
   "cell_type": "code",
   "execution_count": 118,
   "metadata": {
    "colab": {
     "base_uri": "https://localhost:8080/",
     "height": 35
    },
    "colab_type": "code",
    "id": "CAoTGDohDfcF",
    "outputId": "9052e172-daee-46cd-886f-1a7069a2de9d"
   },
   "outputs": [
    {
     "data": {
      "text/plain": [
       "<chainer.optimizers.sgd.SGD at 0x1106d0198>"
      ]
     },
     "execution_count": 118,
     "metadata": {},
     "output_type": "execute_result"
    }
   ],
   "source": [
    "# optimizer の定義と model と紐付け\n",
    "optimizer = chainer.optimizers.SGD()\n",
    "optimizer.setup(model)"
   ]
  },
  {
   "cell_type": "markdown",
   "metadata": {
    "colab_type": "text",
    "id": "yIztiDvTDfcG"
   },
   "source": [
    "パラメータの更新を繰り返し、その結果を見ていきます。"
   ]
  },
  {
   "cell_type": "code",
   "execution_count": 119,
   "metadata": {
    "colab": {},
    "colab_type": "code",
    "id": "kRzRzTl4DfcH"
   },
   "outputs": [],
   "source": [
    "# 可視化用のリスト\n",
    "results_train, results_valid = {}, {}\n",
    "results_train['loss'], results_train['accuracy'] = [], []\n",
    "results_valid['loss'], results_valid['accuracy'] = [], []"
   ]
  },
  {
   "cell_type": "code",
   "execution_count": 120,
   "metadata": {
    "colab": {
     "base_uri": "https://localhost:8080/",
     "height": 926
    },
    "colab_type": "code",
    "id": "kUj5gdKbDfcJ",
    "outputId": "244e2e72-9298-49fa-d2f5-36b9415c4415"
   },
   "outputs": [
    {
     "name": "stdout",
     "output_type": "stream",
     "text": [
      "1 epoch: loss (train) 1.9504, loss (valid) 2.1888\n",
      "2 epoch: loss (train) 1.9227, loss (valid) 2.0892\n",
      "3 epoch: loss (train) 1.8959, loss (valid) 1.9936\n",
      "4 epoch: loss (train) 1.8704, loss (valid) 1.9029\n",
      "5 epoch: loss (train) 1.8459, loss (valid) 1.8199\n",
      "6 epoch: loss (train) 1.8220, loss (valid) 1.7499\n",
      "7 epoch: loss (train) 1.7989, loss (valid) 1.6959\n",
      "8 epoch: loss (train) 1.7765, loss (valid) 1.6627\n",
      "9 epoch: loss (train) 1.7549, loss (valid) 1.6393\n",
      "10 epoch: loss (train) 1.7339, loss (valid) 1.5998\n",
      "11 epoch: loss (train) 1.7137, loss (valid) 1.5533\n",
      "12 epoch: loss (train) 1.6941, loss (valid) 1.5059\n",
      "13 epoch: loss (train) 1.6752, loss (valid) 1.4665\n",
      "14 epoch: loss (train) 1.6569, loss (valid) 1.4279\n",
      "15 epoch: loss (train) 1.6391, loss (valid) 1.3970\n",
      "16 epoch: loss (train) 1.6219, loss (valid) 1.3737\n",
      "17 epoch: loss (train) 1.6052, loss (valid) 1.3550\n",
      "18 epoch: loss (train) 1.5891, loss (valid) 1.3396\n",
      "19 epoch: loss (train) 1.5734, loss (valid) 1.3264\n",
      "20 epoch: loss (train) 1.5582, loss (valid) 1.3118\n",
      "21 epoch: loss (train) 1.5434, loss (valid) 1.2958\n",
      "22 epoch: loss (train) 1.5286, loss (valid) 1.2866\n",
      "23 epoch: loss (train) 1.5136, loss (valid) 1.2817\n",
      "24 epoch: loss (train) 1.4990, loss (valid) 1.2792\n",
      "25 epoch: loss (train) 1.4847, loss (valid) 1.2772\n",
      "26 epoch: loss (train) 1.4708, loss (valid) 1.2718\n",
      "27 epoch: loss (train) 1.4573, loss (valid) 1.2677\n",
      "28 epoch: loss (train) 1.4440, loss (valid) 1.2630\n",
      "29 epoch: loss (train) 1.4306, loss (valid) 1.2564\n",
      "30 epoch: loss (train) 1.4175, loss (valid) 1.2499\n",
      "31 epoch: loss (train) 1.4048, loss (valid) 1.2434\n",
      "32 epoch: loss (train) 1.3924, loss (valid) 1.2369\n",
      "33 epoch: loss (train) 1.3805, loss (valid) 1.2311\n",
      "34 epoch: loss (train) 1.3689, loss (valid) 1.2259\n",
      "35 epoch: loss (train) 1.3577, loss (valid) 1.2205\n",
      "36 epoch: loss (train) 1.3466, loss (valid) 1.2150\n",
      "37 epoch: loss (train) 1.3357, loss (valid) 1.2094\n",
      "38 epoch: loss (train) 1.3252, loss (valid) 1.2038\n",
      "39 epoch: loss (train) 1.3150, loss (valid) 1.1980\n",
      "40 epoch: loss (train) 1.3051, loss (valid) 1.1920\n",
      "41 epoch: loss (train) 1.2954, loss (valid) 1.1856\n",
      "42 epoch: loss (train) 1.2860, loss (valid) 1.1793\n",
      "43 epoch: loss (train) 1.2768, loss (valid) 1.1730\n",
      "44 epoch: loss (train) 1.2678, loss (valid) 1.1667\n",
      "45 epoch: loss (train) 1.2591, loss (valid) 1.1606\n",
      "46 epoch: loss (train) 1.2508, loss (valid) 1.1545\n",
      "47 epoch: loss (train) 1.2426, loss (valid) 1.1488\n",
      "48 epoch: loss (train) 1.2347, loss (valid) 1.1433\n",
      "49 epoch: loss (train) 1.2269, loss (valid) 1.1377\n",
      "50 epoch: loss (train) 1.2193, loss (valid) 1.1322\n"
     ]
    }
   ],
   "source": [
    "for epoch in range(n_epoch):\n",
    "    \n",
    "    # x と t の分割\n",
    "    x_train, t_train = chainer.dataset.concat_examples(train)\n",
    "    x_valid, t_valid = chainer.dataset.concat_examples(valid)\n",
    "    \n",
    "    # 予測値と目的関数の計算\n",
    "    y_train = model(x_train)\n",
    "    loss_train = F.softmax_cross_entropy(y_train, t_train)\n",
    "    accuracy_train = F.accuracy(y_train, t_train)\n",
    "    \n",
    "    # 勾配の初期化と勾配の計算\n",
    "    model.cleargrads()\n",
    "    loss_train.backward()\n",
    "    \n",
    "    # パラメータの更新\n",
    "    optimizer.update()\n",
    "    \n",
    "    # 検証用データに対する結果の確認\n",
    "    with chainer.using_config('train', False), chainer.using_config('enable_backprop', False):\n",
    "        y_valid = model(x_valid)\n",
    "        loss_valid = F.softmax_cross_entropy(y_valid, t_valid)\n",
    "        accuracy_valid = F.accuracy(y_valid, t_valid)\n",
    "    \n",
    "    # 結果の表示\n",
    "    # {:.4f} と指定することで、小数点以下4桁を指定できます\n",
    "    print('{} epoch: loss (train) {:.4f}, loss (valid) {:.4f}'.format(epoch+1, loss_train.array, loss_valid.array))\n",
    "    \n",
    "    # 可視化用に保存\n",
    "    results_train['loss'] .append(loss_train.array)\n",
    "    results_train['accuracy'] .append(accuracy_train.array)\n",
    "    results_valid['loss'].append(loss_valid.array)\n",
    "    results_valid['accuracy'].append(accuracy_valid.array)"
   ]
  },
  {
   "cell_type": "markdown",
   "metadata": {
    "colab_type": "text",
    "id": "vEF1AWjqDfcL"
   },
   "source": [
    "ここで、検証データに対して予測値の計算を行う際に、`chainer.using_config('train', False)` と `chainer.using_config('enable_backprop', False)` の 2 つが `with` と一緒に用いられていることがわかります。\n",
    "`chainer.using_config('train', False)` では、このデータを使用した学習を行わないという意味の宣言です。\n",
    "`chainer.using_config('enable_backprop', False)` では、無駄な計算グラフの構築を行わないことを意味します。\n",
    "検証データでは誤差逆伝播法を用いた勾配の計算等が必要ないため、構築を不要と宣言し、メモリ消費量を節約します。"
   ]
  },
  {
   "cell_type": "code",
   "execution_count": 121,
   "metadata": {
    "colab": {
     "base_uri": "https://localhost:8080/",
     "height": 284
    },
    "colab_type": "code",
    "id": "VRbiZ-2LDfcL",
    "outputId": "77166c41-f4ed-4966-e990-3ca2aca89203"
   },
   "outputs": [
    {
     "data": {
      "text/plain": [
       "<matplotlib.legend.Legend at 0x110770b70>"
      ]
     },
     "execution_count": 121,
     "metadata": {},
     "output_type": "execute_result"
    },
    {
     "data": {
      "image/png": "[encoded data removed]",
      "text/plain": [
       "<Figure size 432x288 with 1 Axes>"
      ]
     },
     "metadata": {
      "needs_background": "light"
     },
     "output_type": "display_data"
    }
   ],
   "source": [
    "# 目的関数 (loss)\n",
    "plt.plot(results_train['loss'], label='train')  # label で凡例の設定\n",
    "plt.plot(results_valid['loss'], label='valid')  # label で凡例の設定\n",
    "plt.legend()  # 凡例の表示"
   ]
  },
  {
   "cell_type": "code",
   "execution_count": 122,
   "metadata": {
    "colab": {
     "base_uri": "https://localhost:8080/",
     "height": 284
    },
    "colab_type": "code",
    "id": "1wZZW2NsDfcM",
    "outputId": "97c80975-85cc-47fb-816d-1b038280614e"
   },
   "outputs": [
    {
     "data": {
      "text/plain": [
       "<matplotlib.legend.Legend at 0x1107b7898>"
      ]
     },
     "execution_count": 122,
     "metadata": {},
     "output_type": "execute_result"
    },
    {
     "data": {
      "image/png": "[encoded data removed]",
      "text/plain": [
       "<Figure size 432x288 with 1 Axes>"
      ]
     },
     "metadata": {
      "needs_background": "light"
     },
     "output_type": "display_data"
    }
   ],
   "source": [
    "# 正解率 (accuracy)\n",
    "plt.plot(results_train['accuracy'], label='train')  # label で凡例の設定\n",
    "plt.plot(results_valid['accuracy'], label='valid')  # label で凡例の設定\n",
    "plt.legend()  # 凡例の表示"
   ]
  },
  {
   "cell_type": "code",
   "execution_count": 123,
   "metadata": {
    "colab": {},
    "colab_type": "code",
    "id": "TbAFHh1LDfcN"
   },
   "outputs": [],
   "source": [
    "# テストデータに対する結果の確認\n",
    "x_test, t_test = chainer.dataset.concat_examples(test)\n",
    "with chainer.using_config('train', False), chainer.using_config('enable_backprop', False):\n",
    "    y_test = model(x_test)\n",
    "    loss_test = F.softmax_cross_entropy(y_test, t_test)\n",
    "    accuracy_test = F.accuracy(y_test, t_test)"
   ]
  },
  {
   "cell_type": "code",
   "execution_count": 124,
   "metadata": {
    "colab": {
     "base_uri": "https://localhost:8080/",
     "height": 35
    },
    "colab_type": "code",
    "id": "0K5QxT6lDfcN",
    "outputId": "4e2f8051-66ee-4e7c-bda8-6f3d875052f6"
   },
   "outputs": [
    {
     "data": {
      "text/plain": [
       "variable(1.2184079)"
      ]
     },
     "execution_count": 124,
     "metadata": {},
     "output_type": "execute_result"
    }
   ],
   "source": [
    "loss_test"
   ]
  },
  {
   "cell_type": "code",
   "execution_count": 125,
   "metadata": {
    "colab": {
     "base_uri": "https://localhost:8080/",
     "height": 35
    },
    "colab_type": "code",
    "id": "QEQFGk92DfcO",
    "outputId": "8f2115f8-61dd-4841-af3b-7db60eaa8844"
   },
   "outputs": [
    {
     "data": {
      "text/plain": [
       "variable(0.35555556)"
      ]
     },
     "execution_count": 125,
     "metadata": {},
     "output_type": "execute_result"
    }
   ],
   "source": [
    "accuracy_test"
   ]
  },
  {
   "cell_type": "markdown",
   "metadata": {
    "colab_type": "text",
    "id": "-oAZG7Vx5zCa"
   },
   "source": [
    "この結果からわかる通り、バッチ正規化の有無で結果に影響があることがわかります。\n",
    "パラメータがスケールの差を吸収することが望ましいのですが、実際には初期値のパラメータの値に依存して、スケールの大きな変数だけに注目が集まってしまうことがあります。\n",
    "パラメータに関する初期値のスケールを制御する方法も考えられますが、バッチ正規化を含めた正規化を使うことで、スケールの違いをほとんど気にせずに進めることができます。"
   ]
  },
  {
   "cell_type": "markdown",
   "metadata": {
    "colab_type": "text",
    "id": "aY8ygiiqDfcQ"
   },
   "source": [
    "### ミニバッチ学習\n",
    "\n",
    "バッチ正規化による改善が見込めましたが、さらなる改善策として、前章で紹介したミニバッチ学習を採用します。\n",
    "ミニバッチ学習では、下図のように局所最適解に陥って停滞する問題を避けることが期待できます。\n",
    "\n",
    "![局所最適解と大域的最適解](images/09/09_10.png)\n",
    "\n",
    "例えば、下図では、10 個のグループに分割しており、この分割したグループに所属するサンプル数が**バッチサイズ (batch size)** です。\n",
    "\n",
    "![ミニバッチ学習](images/09/09_11.png)\n",
    "\n",
    "それでは、Chainer で用意されている関数を使う前に、簡単にその実装方法を確認していきましょう。"
   ]
  },
  {
   "cell_type": "code",
   "execution_count": 126,
   "metadata": {
    "colab": {
     "base_uri": "https://localhost:8080/",
     "height": 35
    },
    "colab_type": "code",
    "id": "dnaVSJhlDfcQ",
    "outputId": "65f5098f-6522-4279-ed5c-e65122c87275"
   },
   "outputs": [
    {
     "data": {
      "text/plain": [
       "73"
      ]
     },
     "execution_count": 126,
     "metadata": {},
     "output_type": "execute_result"
    }
   ],
   "source": [
    "# 訓練データのサンプル数の確認\n",
    "n_train = len(train)\n",
    "n_train"
   ]
  },
  {
   "cell_type": "code",
   "execution_count": 127,
   "metadata": {
    "colab": {},
    "colab_type": "code",
    "id": "FxEgK_hhDfcT"
   },
   "outputs": [],
   "source": [
    "# バッチサイズ\n",
    "n_batch = 10"
   ]
  },
  {
   "cell_type": "code",
   "execution_count": 128,
   "metadata": {
    "colab": {
     "base_uri": "https://localhost:8080/",
     "height": 35
    },
    "colab_type": "code",
    "id": "g5sI2Ls4DfcU",
    "outputId": "84f7a0b1-45ab-4087-e4cc-2eb602668512"
   },
   "outputs": [
    {
     "data": {
      "text/plain": [
       "7"
      ]
     },
     "execution_count": 128,
     "metadata": {},
     "output_type": "execute_result"
    }
   ],
   "source": [
    "# 試行回数（iteration）\n",
    "n_iteration = n_train // n_batch\n",
    "n_iteration"
   ]
  },
  {
   "cell_type": "markdown",
   "metadata": {
    "colab_type": "text",
    "id": "XSYaZuoQDfcU"
   },
   "source": [
    "バッチサイズを 10 と指定した場合、サンプルが 7.3 個となり、現実的には、8, 8, 8, ..., 8, 1 のように最後のバッチが他のバッチよりもサンプル数が小さくなります。\n",
    "この問題が気になる場合は、重複を許して一度使用しているサンプルを再度利用するなどが考えられます。\n",
    "Chainer で用意されている関数ではこの点への配慮がされています。\n",
    "\n",
    "今回は実装の簡略化のため、特に気にせずに最後のグループを使用しないこととします。"
   ]
  },
  {
   "cell_type": "code",
   "execution_count": 129,
   "metadata": {
    "colab": {
     "base_uri": "https://localhost:8080/",
     "height": 108
    },
    "colab_type": "code",
    "id": "IG9kYoTMDfcU",
    "outputId": "797c39d7-141d-49bb-f9f4-b0f5ac1cd754"
   },
   "outputs": [
    {
     "data": {
      "text/plain": [
       "array([49, 53, 22, 43, 28, 26, 70, 50, 34,  7, 42, 55, 40, 60, 33, 65, 27,\n",
       "       71, 56, 52,  6, 48, 66,  4, 54, 63,  2, 72, 45, 11, 30,  3, 59, 10,\n",
       "       31, 61, 51, 62, 32, 14, 41, 19, 29, 57, 35, 18,  0, 15,  5, 16, 20,\n",
       "       68,  8, 13, 25, 37, 17, 24, 46, 23, 39, 38,  1, 58, 12, 36, 21,  9,\n",
       "       69, 67, 64, 47, 44])"
      ]
     },
     "execution_count": 129,
     "metadata": {},
     "output_type": "execute_result"
    }
   ],
   "source": [
    "# 指定された値までを整数をランダムに生成\n",
    "np.random.seed(0)\n",
    "perm = np.random.permutation(n_train)\n",
    "perm"
   ]
  },
  {
   "cell_type": "markdown",
   "metadata": {
    "colab_type": "text",
    "id": "mGp25dZMDfcV"
   },
   "source": [
    "このように、インデックス番号をランダムに並べ替えておき、これを用いて for 文で繰り返していきます。\n",
    "まずは、抽出するインデックスの確認を行います。"
   ]
  },
  {
   "cell_type": "code",
   "execution_count": 130,
   "metadata": {
    "colab": {
     "base_uri": "https://localhost:8080/",
     "height": 145
    },
    "colab_type": "code",
    "id": "GZeHHoaGDfcV",
    "outputId": "b1580f50-2c3f-4f4e-8a8d-f6f73541d47c"
   },
   "outputs": [
    {
     "name": "stdout",
     "output_type": "stream",
     "text": [
      "0 iteration, st: 0, fn: 10\n",
      "1 iteration, st: 10, fn: 20\n",
      "2 iteration, st: 20, fn: 30\n",
      "3 iteration, st: 30, fn: 40\n",
      "4 iteration, st: 40, fn: 50\n",
      "5 iteration, st: 50, fn: 60\n",
      "6 iteration, st: 60, fn: 70\n"
     ]
    }
   ],
   "source": [
    "for i in range(n_iteration):\n",
    "    st = n_batch * i\n",
    "    fn = n_batch * (i+1)\n",
    "    print('{} iteration, st: {}, fn: {}'.format(i, st, fn))"
   ]
  },
  {
   "cell_type": "markdown",
   "metadata": {
    "colab_type": "text",
    "id": "wCD1fm1lDfcW"
   },
   "source": [
    "インデックス番号が正しく指定できているため、次はこちらのインデックス番号にしたがってサンプルを抽出し、モデルの訓練を行っていきます。"
   ]
  },
  {
   "cell_type": "code",
   "execution_count": 131,
   "metadata": {
    "colab": {},
    "colab_type": "code",
    "id": "nA1QKMedDfcW"
   },
   "outputs": [],
   "source": [
    "# シードの固定\n",
    "np.random.seed(0)"
   ]
  },
  {
   "cell_type": "code",
   "execution_count": 132,
   "metadata": {
    "colab": {},
    "colab_type": "code",
    "id": "ngMjJbSuDfcX"
   },
   "outputs": [],
   "source": [
    "# モデルの定義\n",
    "model = Sequential(\n",
    "    L.BatchNormalization(n_input),\n",
    "    L.Linear(n_input, n_hidden), F.relu,\n",
    "    L.BatchNormalization(n_hidden),\n",
    "    L.Linear(n_hidden, n_hidden), F.relu,\n",
    "    L.BatchNormalization(n_hidden),\n",
    "    L.Linear(n_hidden, n_output)\n",
    ")"
   ]
  },
  {
   "cell_type": "code",
   "execution_count": 133,
   "metadata": {
    "colab": {
     "base_uri": "https://localhost:8080/",
     "height": 35
    },
    "colab_type": "code",
    "id": "pS5fDL5pDfcc",
    "outputId": "1a5f14b4-5157-4e09-d1dd-e9bf5243c8f5"
   },
   "outputs": [
    {
     "data": {
      "text/plain": [
       "<chainer.optimizers.sgd.SGD at 0x11088d7b8>"
      ]
     },
     "execution_count": 133,
     "metadata": {},
     "output_type": "execute_result"
    }
   ],
   "source": [
    "# optimizer の定義と model と紐付け\n",
    "optimizer = chainer.optimizers.SGD()\n",
    "optimizer.setup(model)"
   ]
  },
  {
   "cell_type": "code",
   "execution_count": 134,
   "metadata": {
    "colab": {
     "base_uri": "https://localhost:8080/",
     "height": 145
    },
    "colab_type": "code",
    "id": "QhKJKBrYDfcd",
    "outputId": "15103fde-a42e-40ef-f8e4-9cc46783aa7d"
   },
   "outputs": [
    {
     "name": "stdout",
     "output_type": "stream",
     "text": [
      "0 iteration: loss 1.8092\n",
      "1 iteration: loss 1.9625\n",
      "2 iteration: loss 2.1809\n",
      "3 iteration: loss 1.7611\n",
      "4 iteration: loss 1.9952\n",
      "5 iteration: loss 1.8209\n",
      "6 iteration: loss 1.6005\n"
     ]
    }
   ],
   "source": [
    "# x と t の分割\n",
    "x_train, t_train = chainer.dataset.concat_examples(train)\n",
    "\n",
    "for i in range(n_iteration):\n",
    " \n",
    "    # データセットの抽出\n",
    "    st, fn = n_batch * i, n_batch * (i+1)\n",
    "    x_batch = x_train[st:fn]\n",
    "    t_batch = t_train[st:fn]\n",
    "    \n",
    "    # 予測値と目的関数の計算\n",
    "    y_batch = model(x_batch)\n",
    "    loss = F.softmax_cross_entropy(y_batch, t_batch)\n",
    "    \n",
    "    # 勾配の初期化と勾配の計算\n",
    "    model.cleargrads()\n",
    "    loss_train.backward()\n",
    "    \n",
    "    # パラメータの更新\n",
    "    optimizer.update()\n",
    "    \n",
    "    # 結果の表示\n",
    "    print('{} iteration: loss {:.4f}'.format(i, loss.array))"
   ]
  },
  {
   "cell_type": "markdown",
   "metadata": {
    "colab_type": "text",
    "id": "71uubXavDfcg"
   },
   "source": [
    "このミニバッチの分割を Chainer で定義したパッケージが `chainer.iterators` です。\n",
    "`chainer.iterators` ではバッチサイズを決めておくだけでバッチを分割する便利な関数です。"
   ]
  },
  {
   "cell_type": "code",
   "execution_count": 135,
   "metadata": {
    "colab": {},
    "colab_type": "code",
    "id": "5IV4L8o05zHr"
   },
   "outputs": [],
   "source": [
    "# iterator の定義\n",
    "train_iter = chainer.iterators.SerialIterator(train, n_batch)\n",
    "valid_iter = chainer.iterators.SerialIterator(valid, n_batch, repeat=False, shuffle=False)"
   ]
  },
  {
   "cell_type": "markdown",
   "metadata": {
    "colab_type": "text",
    "id": "1QDUmTbZA4DS"
   },
   "source": [
    "検証データに対する iterator のインスタンス化の際に、`repeat=False`, `shuffle=False` と宣言しています。\n",
    "`repeat=False` は最後のサンプルに到達した際に、特に繰り返さない設定です。\n",
    "したがって、最後のミニバッチのサンプル数が他のミニバッチのサンプル数と比べて小さくなることがあります。\n",
    "`shuffle=False` はサンプルをランダムに選択せずに、前から順番にミニバッチとして設定していくことを指定します。\n",
    "\n",
    "`chainer.iterators.SerialIterator` では、`next()` を用いて、次のミニバッチのグループを取得できます。\n",
    "また、もうひとつ便利な機能として、iterator の `is_new_epoch` という属性に次のエポックへ進むか否かが設定されているため、こちらと while 文を使えば、簡単にイテレーションの実装ができます。"
   ]
  },
  {
   "cell_type": "code",
   "execution_count": 136,
   "metadata": {
    "colab": {
     "base_uri": "https://localhost:8080/",
     "height": 199
    },
    "colab_type": "code",
    "id": "8LrzpqED5zNL",
    "outputId": "871532cc-aae6-4603-8fd5-b30bcaaf5abc",
    "scrolled": true
   },
   "outputs": [
    {
     "data": {
      "text/plain": [
       "[(array([6.8, 2.8, 4.8, 1.4], dtype=float32), 1),\n",
       " (array([6.5, 3.2, 5.1, 2. ], dtype=float32), 2),\n",
       " (array([5. , 3.5, 1.3, 0.3], dtype=float32), 0),\n",
       " (array([4.9, 2.5, 4.5, 1.7], dtype=float32), 2),\n",
       " (array([4.5, 2.3, 1.3, 0.3], dtype=float32), 0),\n",
       " (array([5.9, 3. , 5.1, 1.8], dtype=float32), 2),\n",
       " (array([6.1, 2.6, 5.6, 1.4], dtype=float32), 2),\n",
       " (array([5.5, 2.6, 4.4, 1.2], dtype=float32), 1),\n",
       " (array([4.7, 3.2, 1.3, 0.2], dtype=float32), 0),\n",
       " (array([6.9, 3.2, 5.7, 2.3], dtype=float32), 2)]"
      ]
     },
     "execution_count": 136,
     "metadata": {},
     "output_type": "execute_result"
    }
   ],
   "source": [
    "train_iter.next()"
   ]
  },
  {
   "cell_type": "code",
   "execution_count": 137,
   "metadata": {
    "colab": {
     "base_uri": "https://localhost:8080/",
     "height": 35
    },
    "colab_type": "code",
    "id": "wD9BMppmDfcj",
    "outputId": "0c8a9d5e-d09f-4ea3-8907-1f5813fb697a"
   },
   "outputs": [
    {
     "data": {
      "text/plain": [
       "False"
      ]
     },
     "execution_count": 137,
     "metadata": {},
     "output_type": "execute_result"
    }
   ],
   "source": [
    "# まだ次のミニバッチも保有しているため、False が返ってくる\n",
    "train_iter.is_new_epoch"
   ]
  },
  {
   "cell_type": "code",
   "execution_count": 138,
   "metadata": {
    "colab": {
     "base_uri": "https://localhost:8080/",
     "height": 199
    },
    "colab_type": "code",
    "id": "ff5wz-wZDfck",
    "outputId": "64eafd81-0c6e-4ccb-cac8-89c828e5d61e"
   },
   "outputs": [
    {
     "data": {
      "text/plain": [
       "[(array([5.4, 3.9, 1.3, 0.4], dtype=float32), 0),\n",
       " (array([5. , 3.4, 1.6, 0.4], dtype=float32), 0),\n",
       " (array([6.7, 2.5, 5.8, 1.8], dtype=float32), 2),\n",
       " (array([5.5, 2.3, 4. , 1.3], dtype=float32), 1),\n",
       " (array([6.8, 3.2, 5.9, 2.3], dtype=float32), 2),\n",
       " (array([4.3, 3. , 1.1, 0.1], dtype=float32), 0),\n",
       " (array([5.6, 2.8, 4.9, 2. ], dtype=float32), 2),\n",
       " (array([5.1, 3.5, 1.4, 0.3], dtype=float32), 0),\n",
       " (array([5.4, 3.4, 1.7, 0.2], dtype=float32), 0),\n",
       " (array([5.1, 2.5, 3. , 1.1], dtype=float32), 1)]"
      ]
     },
     "execution_count": 138,
     "metadata": {},
     "output_type": "execute_result"
    }
   ],
   "source": [
    "valid_iter.next()"
   ]
  },
  {
   "cell_type": "markdown",
   "metadata": {
    "colab_type": "text",
    "id": "KmfjZmkcDfck"
   },
   "source": [
    "それでは、一連の流れを確認していきましょう。"
   ]
  },
  {
   "cell_type": "code",
   "execution_count": 139,
   "metadata": {
    "colab": {},
    "colab_type": "code",
    "id": "AtiTy2neDfcl"
   },
   "outputs": [],
   "source": [
    "# シードの固定\n",
    "np.random.seed(0)"
   ]
  },
  {
   "cell_type": "code",
   "execution_count": 140,
   "metadata": {
    "colab": {},
    "colab_type": "code",
    "id": "FhB7HPQSDfcl"
   },
   "outputs": [],
   "source": [
    "# モデルの定義\n",
    "model = Sequential(\n",
    "    L.BatchNormalization(n_input),\n",
    "    L.Linear(n_input, n_hidden), F.relu,\n",
    "    L.BatchNormalization(n_hidden),\n",
    "    L.Linear(n_hidden, n_hidden), F.relu,\n",
    "    L.BatchNormalization(n_hidden),\n",
    "    L.Linear(n_hidden, n_output)\n",
    ")"
   ]
  },
  {
   "cell_type": "code",
   "execution_count": 141,
   "metadata": {
    "colab": {
     "base_uri": "https://localhost:8080/",
     "height": 35
    },
    "colab_type": "code",
    "id": "A3s6GLyrDfcn",
    "outputId": "09ab9dae-f315-4c70-a988-3168fafa750a"
   },
   "outputs": [
    {
     "data": {
      "text/plain": [
       "<chainer.optimizers.sgd.SGD at 0x1108942e8>"
      ]
     },
     "execution_count": 141,
     "metadata": {},
     "output_type": "execute_result"
    }
   ],
   "source": [
    "# optimizer の定義と model と紐付け\n",
    "optimizer = chainer.optimizers.SGD()\n",
    "optimizer.setup(model)"
   ]
  },
  {
   "cell_type": "markdown",
   "metadata": {
    "colab_type": "text",
    "id": "fHNlo5JxDfco"
   },
   "source": [
    "パラメータの更新を繰り返し、その結果を見ていきます。"
   ]
  },
  {
   "cell_type": "code",
   "execution_count": 142,
   "metadata": {
    "colab": {},
    "colab_type": "code",
    "id": "G4vFsQzkDfcp"
   },
   "outputs": [],
   "source": [
    "# 可視化用のリスト\n",
    "results_train, results_valid = {}, {}\n",
    "results_train['loss'], results_train['accuracy'] = [], []\n",
    "results_valid['loss'], results_valid['accuracy'] = [], []"
   ]
  },
  {
   "cell_type": "code",
   "execution_count": 143,
   "metadata": {
    "colab": {
     "base_uri": "https://localhost:8080/",
     "height": 3654
    },
    "colab_type": "code",
    "id": "8N6jITYDDfcp",
    "outputId": "b2db774e-abf2-4916-c26b-3cf2feac66e9"
   },
   "outputs": [
    {
     "name": "stdout",
     "output_type": "stream",
     "text": [
      "1 iteration: loss (train) 2.2496, loss (valid) 1.4753\n",
      "2 iteration: loss (train) 2.0917, loss (valid) 3.1876\n",
      "3 iteration: loss (train) 1.6575, loss (valid) 1.6635\n",
      "4 iteration: loss (train) 1.5668, loss (valid) 0.7222\n",
      "5 iteration: loss (train) 1.8322, loss (valid) 1.2679\n",
      "6 iteration: loss (train) 1.6964, loss (valid) 2.6223\n",
      "7 iteration: loss (train) 1.8665, loss (valid) 1.3411\n",
      "8 iteration: loss (train) 1.6309, loss (valid) 0.9824\n",
      "9 iteration: loss (train) 1.7530, loss (valid) 1.2797\n",
      "10 iteration: loss (train) 1.6895, loss (valid) 2.1509\n",
      "11 iteration: loss (train) 1.5103, loss (valid) 1.2831\n",
      "12 iteration: loss (train) 1.5426, loss (valid) 1.1620\n",
      "13 iteration: loss (train) 2.1934, loss (valid) 1.2437\n",
      "14 iteration: loss (train) 1.7775, loss (valid) 1.7630\n",
      "15 iteration: loss (train) 1.5513, loss (valid) 1.1501\n",
      "16 iteration: loss (train) 1.7869, loss (valid) 1.2651\n",
      "17 iteration: loss (train) 1.3819, loss (valid) 1.2782\n",
      "18 iteration: loss (train) 1.6201, loss (valid) 1.5334\n",
      "19 iteration: loss (train) 1.3068, loss (valid) 1.1137\n",
      "20 iteration: loss (train) 2.1276, loss (valid) 1.4011\n",
      "21 iteration: loss (train) 1.4773, loss (valid) 1.2826\n",
      "22 iteration: loss (train) 1.7248, loss (valid) 1.3594\n",
      "23 iteration: loss (train) 1.3850, loss (valid) 1.0900\n",
      "24 iteration: loss (train) 1.6232, loss (valid) 1.4055\n",
      "25 iteration: loss (train) 1.6080, loss (valid) 1.2652\n",
      "26 iteration: loss (train) 1.3530, loss (valid) 1.3167\n",
      "27 iteration: loss (train) 1.4966, loss (valid) 1.0895\n",
      "28 iteration: loss (train) 1.4120, loss (valid) 1.4217\n",
      "29 iteration: loss (train) 1.4327, loss (valid) 1.2917\n",
      "30 iteration: loss (train) 1.2843, loss (valid) 1.2430\n",
      "31 iteration: loss (train) 1.4730, loss (valid) 1.0824\n",
      "32 iteration: loss (train) 1.3772, loss (valid) 1.3923\n",
      "33 iteration: loss (train) 1.5093, loss (valid) 1.2619\n",
      "34 iteration: loss (train) 1.1949, loss (valid) 1.2131\n",
      "35 iteration: loss (train) 1.3690, loss (valid) 1.0842\n",
      "36 iteration: loss (train) 1.2494, loss (valid) 1.4431\n",
      "37 iteration: loss (train) 1.2948, loss (valid) 1.2757\n",
      "38 iteration: loss (train) 1.2428, loss (valid) 1.1803\n",
      "39 iteration: loss (train) 1.2988, loss (valid) 1.0782\n",
      "40 iteration: loss (train) 1.1974, loss (valid) 1.4342\n",
      "41 iteration: loss (train) 1.2915, loss (valid) 1.2572\n",
      "42 iteration: loss (train) 1.3968, loss (valid) 1.1643\n",
      "43 iteration: loss (train) 1.1771, loss (valid) 1.0562\n",
      "44 iteration: loss (train) 1.3169, loss (valid) 1.3214\n",
      "45 iteration: loss (train) 1.4778, loss (valid) 1.2069\n",
      "46 iteration: loss (train) 1.1748, loss (valid) 1.1535\n",
      "47 iteration: loss (train) 1.4436, loss (valid) 0.9945\n",
      "48 iteration: loss (train) 1.1505, loss (valid) 1.2744\n",
      "49 iteration: loss (train) 1.2738, loss (valid) 1.1816\n",
      "50 iteration: loss (train) 1.2339, loss (valid) 1.1071\n",
      "51 iteration: loss (train) 1.3883, loss (valid) 0.9943\n",
      "52 iteration: loss (train) 1.0284, loss (valid) 1.2194\n",
      "53 iteration: loss (train) 1.1906, loss (valid) 1.1592\n",
      "54 iteration: loss (train) 1.4413, loss (valid) 1.1002\n",
      "55 iteration: loss (train) 1.3060, loss (valid) 0.9894\n",
      "56 iteration: loss (train) 1.0808, loss (valid) 1.1524\n",
      "57 iteration: loss (train) 1.6134, loss (valid) 1.1405\n",
      "58 iteration: loss (train) 1.0464, loss (valid) 1.0889\n",
      "59 iteration: loss (train) 1.0415, loss (valid) 0.9817\n",
      "60 iteration: loss (train) 1.0633, loss (valid) 1.1201\n",
      "61 iteration: loss (train) 1.0603, loss (valid) 1.1366\n",
      "62 iteration: loss (train) 1.1113, loss (valid) 1.0615\n",
      "63 iteration: loss (train) 1.0750, loss (valid) 0.9630\n",
      "64 iteration: loss (train) 1.3291, loss (valid) 1.1031\n",
      "65 iteration: loss (train) 0.9933, loss (valid) 1.1242\n",
      "66 iteration: loss (train) 1.0470, loss (valid) 1.0516\n",
      "67 iteration: loss (train) 1.5592, loss (valid) 0.9351\n",
      "68 iteration: loss (train) 1.1055, loss (valid) 1.0743\n",
      "69 iteration: loss (train) 1.0433, loss (valid) 1.1077\n",
      "70 iteration: loss (train) 1.2685, loss (valid) 1.0358\n",
      "71 iteration: loss (train) 0.8915, loss (valid) 0.9345\n",
      "72 iteration: loss (train) 1.2149, loss (valid) 1.0152\n",
      "73 iteration: loss (train) 0.9587, loss (valid) 1.0915\n",
      "74 iteration: loss (train) 1.1506, loss (valid) 1.0403\n",
      "75 iteration: loss (train) 1.0714, loss (valid) 0.8966\n",
      "76 iteration: loss (train) 1.1519, loss (valid) 0.9282\n",
      "77 iteration: loss (train) 1.0121, loss (valid) 1.0778\n",
      "78 iteration: loss (train) 1.1881, loss (valid) 1.0131\n",
      "79 iteration: loss (train) 1.0901, loss (valid) 0.9116\n",
      "80 iteration: loss (train) 1.0701, loss (valid) 0.9542\n",
      "81 iteration: loss (train) 1.0598, loss (valid) 1.0779\n",
      "82 iteration: loss (train) 1.1757, loss (valid) 1.0320\n",
      "83 iteration: loss (train) 0.9209, loss (valid) 0.8930\n",
      "84 iteration: loss (train) 1.0998, loss (valid) 0.8968\n",
      "85 iteration: loss (train) 0.9981, loss (valid) 1.0557\n",
      "86 iteration: loss (train) 1.0370, loss (valid) 1.0096\n",
      "87 iteration: loss (train) 1.4705, loss (valid) 0.8813\n",
      "88 iteration: loss (train) 1.1050, loss (valid) 0.8868\n",
      "89 iteration: loss (train) 1.1378, loss (valid) 1.0532\n",
      "90 iteration: loss (train) 1.0534, loss (valid) 1.0033\n",
      "91 iteration: loss (train) 1.0621, loss (valid) 0.8975\n",
      "92 iteration: loss (train) 1.1761, loss (valid) 0.8398\n",
      "93 iteration: loss (train) 1.1944, loss (valid) 1.0315\n",
      "94 iteration: loss (train) 0.9042, loss (valid) 0.9953\n",
      "95 iteration: loss (train) 0.9563, loss (valid) 0.8593\n",
      "96 iteration: loss (train) 1.0541, loss (valid) 0.8274\n",
      "97 iteration: loss (train) 0.8254, loss (valid) 1.0294\n",
      "98 iteration: loss (train) 0.9090, loss (valid) 0.9725\n",
      "99 iteration: loss (train) 0.9620, loss (valid) 0.8692\n",
      "100 iteration: loss (train) 0.8805, loss (valid) 0.8091\n",
      "101 iteration: loss (train) 0.9183, loss (valid) 1.0168\n",
      "102 iteration: loss (train) 1.0402, loss (valid) 0.9703\n",
      "103 iteration: loss (train) 0.8707, loss (valid) 0.8371\n",
      "104 iteration: loss (train) 1.0240, loss (valid) 0.7917\n",
      "105 iteration: loss (train) 1.1914, loss (valid) 1.0059\n",
      "106 iteration: loss (train) 1.0011, loss (valid) 0.9677\n",
      "107 iteration: loss (train) 0.8922, loss (valid) 0.8172\n",
      "108 iteration: loss (train) 1.1710, loss (valid) 0.7418\n",
      "109 iteration: loss (train) 0.9564, loss (valid) 0.9981\n",
      "110 iteration: loss (train) 0.9794, loss (valid) 0.9502\n",
      "111 iteration: loss (train) 1.2312, loss (valid) 0.8202\n",
      "112 iteration: loss (train) 1.0550, loss (valid) 0.7189\n",
      "113 iteration: loss (train) 0.9989, loss (valid) 0.9856\n",
      "114 iteration: loss (train) 1.0912, loss (valid) 0.9539\n",
      "115 iteration: loss (train) 1.0068, loss (valid) 0.8413\n",
      "116 iteration: loss (train) 1.2516, loss (valid) 0.7247\n",
      "117 iteration: loss (train) 1.0037, loss (valid) 0.9766\n",
      "118 iteration: loss (train) 0.9935, loss (valid) 0.9477\n",
      "119 iteration: loss (train) 0.9577, loss (valid) 0.8106\n",
      "120 iteration: loss (train) 0.9197, loss (valid) 0.7244\n",
      "121 iteration: loss (train) 1.0328, loss (valid) 0.9760\n",
      "122 iteration: loss (train) 0.9308, loss (valid) 0.9463\n",
      "123 iteration: loss (train) 1.0121, loss (valid) 0.7991\n",
      "124 iteration: loss (train) 0.9190, loss (valid) 0.7063\n",
      "125 iteration: loss (train) 0.9136, loss (valid) 0.9676\n",
      "126 iteration: loss (train) 0.8829, loss (valid) 0.9315\n",
      "127 iteration: loss (train) 0.9978, loss (valid) 0.8148\n",
      "128 iteration: loss (train) 1.0319, loss (valid) 0.6865\n",
      "129 iteration: loss (train) 1.0605, loss (valid) 0.9520\n",
      "130 iteration: loss (train) 0.9241, loss (valid) 0.9341\n",
      "131 iteration: loss (train) 0.9459, loss (valid) 0.8061\n",
      "132 iteration: loss (train) 0.8880, loss (valid) 0.7008\n",
      "133 iteration: loss (train) 0.8706, loss (valid) 0.9702\n",
      "134 iteration: loss (train) 1.0061, loss (valid) 0.9238\n",
      "135 iteration: loss (train) 1.1461, loss (valid) 0.8231\n",
      "136 iteration: loss (train) 0.8585, loss (valid) 0.6914\n",
      "137 iteration: loss (train) 1.0279, loss (valid) 0.9516\n",
      "138 iteration: loss (train) 1.0608, loss (valid) 0.9178\n",
      "139 iteration: loss (train) 1.0435, loss (valid) 0.7777\n",
      "140 iteration: loss (train) 0.9233, loss (valid) 0.6314\n",
      "141 iteration: loss (train) 0.8577, loss (valid) 0.9414\n",
      "142 iteration: loss (train) 0.9181, loss (valid) 0.9197\n",
      "143 iteration: loss (train) 0.8911, loss (valid) 0.7808\n",
      "144 iteration: loss (train) 1.0060, loss (valid) 0.6371\n",
      "145 iteration: loss (train) 0.9853, loss (valid) 0.9226\n",
      "146 iteration: loss (train) 0.9725, loss (valid) 0.9161\n",
      "147 iteration: loss (train) 0.9407, loss (valid) 0.7767\n",
      "148 iteration: loss (train) 1.1264, loss (valid) 0.6219\n",
      "149 iteration: loss (train) 0.7715, loss (valid) 0.9335\n",
      "150 iteration: loss (train) 0.8559, loss (valid) 0.9043\n"
     ]
    },
    {
     "name": "stdout",
     "output_type": "stream",
     "text": [
      "151 iteration: loss (train) 0.9566, loss (valid) 0.7775\n",
      "152 iteration: loss (train) 0.8540, loss (valid) 0.6328\n",
      "153 iteration: loss (train) 0.8384, loss (valid) 0.9200\n",
      "154 iteration: loss (train) 0.8916, loss (valid) 0.9054\n",
      "155 iteration: loss (train) 0.9376, loss (valid) 0.7762\n",
      "156 iteration: loss (train) 1.0564, loss (valid) 0.6486\n",
      "157 iteration: loss (train) 0.9071, loss (valid) 0.9440\n",
      "158 iteration: loss (train) 0.8415, loss (valid) 0.8977\n",
      "159 iteration: loss (train) 1.1155, loss (valid) 0.7669\n",
      "160 iteration: loss (train) 0.7441, loss (valid) 0.6176\n",
      "161 iteration: loss (train) 0.8112, loss (valid) 0.9164\n",
      "162 iteration: loss (train) 0.8229, loss (valid) 0.8888\n",
      "163 iteration: loss (train) 0.7499, loss (valid) 0.7643\n",
      "164 iteration: loss (train) 0.8976, loss (valid) 0.5907\n",
      "165 iteration: loss (train) 1.1027, loss (valid) 0.8820\n",
      "166 iteration: loss (train) 0.7926, loss (valid) 0.8857\n",
      "167 iteration: loss (train) 0.8839, loss (valid) 0.7380\n",
      "168 iteration: loss (train) 0.8520, loss (valid) 0.5968\n",
      "169 iteration: loss (train) 0.8731, loss (valid) 0.9115\n",
      "170 iteration: loss (train) 0.8246, loss (valid) 0.8844\n",
      "171 iteration: loss (train) 0.7754, loss (valid) 0.7548\n",
      "172 iteration: loss (train) 0.8848, loss (valid) 0.5989\n",
      "173 iteration: loss (train) 0.9718, loss (valid) 0.9176\n",
      "174 iteration: loss (train) 1.1808, loss (valid) 0.8856\n",
      "175 iteration: loss (train) 0.9488, loss (valid) 0.7584\n",
      "176 iteration: loss (train) 0.8966, loss (valid) 0.5779\n",
      "177 iteration: loss (train) 0.9860, loss (valid) 0.9065\n",
      "178 iteration: loss (train) 1.1292, loss (valid) 0.8882\n",
      "179 iteration: loss (train) 0.8363, loss (valid) 0.7609\n",
      "180 iteration: loss (train) 0.9116, loss (valid) 0.5904\n",
      "181 iteration: loss (train) 0.7235, loss (valid) 0.9025\n",
      "182 iteration: loss (train) 0.9668, loss (valid) 0.8792\n",
      "183 iteration: loss (train) 0.7499, loss (valid) 0.7420\n",
      "184 iteration: loss (train) 0.8101, loss (valid) 0.5707\n",
      "185 iteration: loss (train) 1.0069, loss (valid) 0.8867\n",
      "186 iteration: loss (train) 0.8536, loss (valid) 0.8798\n",
      "187 iteration: loss (train) 1.0239, loss (valid) 0.7379\n",
      "188 iteration: loss (train) 0.6974, loss (valid) 0.5625\n",
      "189 iteration: loss (train) 0.7323, loss (valid) 0.8855\n",
      "190 iteration: loss (train) 0.8151, loss (valid) 0.8681\n",
      "191 iteration: loss (train) 0.7192, loss (valid) 0.7487\n",
      "192 iteration: loss (train) 0.8958, loss (valid) 0.5672\n",
      "193 iteration: loss (train) 0.8681, loss (valid) 0.9020\n",
      "194 iteration: loss (train) 0.9106, loss (valid) 0.8716\n",
      "195 iteration: loss (train) 0.9155, loss (valid) 0.7428\n",
      "196 iteration: loss (train) 1.0066, loss (valid) 0.5498\n",
      "197 iteration: loss (train) 1.1709, loss (valid) 0.8510\n",
      "198 iteration: loss (train) 0.9653, loss (valid) 0.8498\n",
      "199 iteration: loss (train) 0.8143, loss (valid) 0.7212\n",
      "200 iteration: loss (train) 0.7423, loss (valid) 0.5322\n"
     ]
    }
   ],
   "source": [
    "# iterator の定義\n",
    "train_iter = chainer.iterators.SerialIterator(train, n_batch)\n",
    "valid_iter = chainer.iterators.SerialIterator(valid, n_batch, repeat=False, shuffle=False)\n",
    "\n",
    "count = 1\n",
    "\n",
    "for epoch in range(n_epoch):\n",
    "    \n",
    "    while True:\n",
    "        \n",
    "        # ミニバッチの取得\n",
    "        train_batch = train_iter.next()\n",
    "        valid_batch = valid_iter.next()\n",
    "        \n",
    "        # x と t の分割\n",
    "        x_train, t_train = chainer.dataset.concat_examples(train_batch)\n",
    "        x_valid, t_valid = chainer.dataset.concat_examples(valid_batch)\n",
    "\n",
    "        # 予測値と目的関数の計算\n",
    "        y_train = model(x_train)\n",
    "        loss_train = F.softmax_cross_entropy(y_train, t_train)\n",
    "        accuracy_train = F.accuracy(y_train, t_train)\n",
    "\n",
    "        # 勾配の初期化と勾配の計算\n",
    "        model.cleargrads()\n",
    "        loss_train.backward()\n",
    "\n",
    "        # パラメータの更新\n",
    "        optimizer.update()\n",
    "    \n",
    "        # 検証用データに対する結果の確認\n",
    "        with chainer.using_config('train', False), chainer.using_config('enable_backprop', False):\n",
    "            y_valid = model(x_valid)\n",
    "            loss_valid = F.softmax_cross_entropy(y_valid, t_valid)\n",
    "            accuracy_valid = F.accuracy(y_valid, t_valid)\n",
    "\n",
    "        # 結果の表示\n",
    "        # {:.4f} と指定することで、小数点以下4桁を指定できます\n",
    "        print('{} iteration: loss (train) {:.4f}, loss (valid) {:.4f}'.format(count, loss_train.array, loss_valid.array))\n",
    "\n",
    "        # 可視化用に保存\n",
    "        results_train['loss'] .append(loss_train.array)\n",
    "        results_train['accuracy'] .append(accuracy_train.array)\n",
    "        results_valid['loss'].append(loss_valid.array)\n",
    "        results_valid['accuracy'].append(accuracy_valid.array)\n",
    "\n",
    "        # カウントアップ\n",
    "        count += 1\n",
    "\n",
    "        # 1エポック終えると、valid_iter をリセットしてループを抜ける\n",
    "        if valid_iter.is_new_epoch:\n",
    "            valid_iter.reset()\n",
    "            break"
   ]
  },
  {
   "cell_type": "code",
   "execution_count": 144,
   "metadata": {
    "colab": {
     "base_uri": "https://localhost:8080/",
     "height": 284
    },
    "colab_type": "code",
    "id": "AgCSK60bDfcq",
    "outputId": "98d25608-8a0b-4a4a-9cbf-f29e9d6c2ab6"
   },
   "outputs": [
    {
     "data": {
      "text/plain": [
       "<matplotlib.legend.Legend at 0x110868c88>"
      ]
     },
     "execution_count": 144,
     "metadata": {},
     "output_type": "execute_result"
    },
    {
     "data": {
      "image/png": "[encoded data removed]",
      "text/plain": [
       "<Figure size 432x288 with 1 Axes>"
      ]
     },
     "metadata": {
      "needs_background": "light"
     },
     "output_type": "display_data"
    }
   ],
   "source": [
    "# 目的関数 (loss)\n",
    "# 横軸はエポックではなく、イテレーション\n",
    "plt.plot(results_train['loss'], label='train')  # label で凡例の設定\n",
    "plt.plot(results_valid['loss'], label='valid')  # label で凡例の設定\n",
    "plt.legend()  # 凡例の表示"
   ]
  },
  {
   "cell_type": "code",
   "execution_count": 145,
   "metadata": {
    "colab": {
     "base_uri": "https://localhost:8080/",
     "height": 284
    },
    "colab_type": "code",
    "id": "7dfzUlJzDfcr",
    "outputId": "686b356c-079d-4f97-aba4-440dc8e3eb88"
   },
   "outputs": [
    {
     "data": {
      "text/plain": [
       "<matplotlib.legend.Legend at 0x11096f4a8>"
      ]
     },
     "execution_count": 145,
     "metadata": {},
     "output_type": "execute_result"
    },
    {
     "data": {
      "image/png": "[encoded data removed]",
      "text/plain": [
       "<Figure size 432x288 with 1 Axes>"
      ]
     },
     "metadata": {
      "needs_background": "light"
     },
     "output_type": "display_data"
    }
   ],
   "source": [
    "# 正解率 (accuracy)\n",
    "# 横軸はエポックではなく、イテレーション\n",
    "plt.plot(results_train['accuracy'], label='train')  # label で凡例の設定\n",
    "plt.plot(results_valid['accuracy'], label='valid')  # label で凡例の設定\n",
    "plt.legend()  # 凡例の表示"
   ]
  },
  {
   "cell_type": "code",
   "execution_count": 146,
   "metadata": {
    "colab": {},
    "colab_type": "code",
    "id": "njdBUj-BDfcs"
   },
   "outputs": [],
   "source": [
    "# テストデータに対する結果の確認\n",
    "x_test, t_test = chainer.dataset.concat_examples(test)\n",
    "with chainer.using_config('train', False), chainer.using_config('enable_backprop', False):\n",
    "    y_test = model(x_test)\n",
    "    loss_test = F.softmax_cross_entropy(y_test, t_test)\n",
    "    accuracy_test = F.accuracy(y_test, t_test)"
   ]
  },
  {
   "cell_type": "code",
   "execution_count": 147,
   "metadata": {
    "colab": {
     "base_uri": "https://localhost:8080/",
     "height": 35
    },
    "colab_type": "code",
    "id": "ZiWAmn5JDfct",
    "outputId": "adc70dca-4ecb-43ee-d1c4-cfb214f37c15"
   },
   "outputs": [
    {
     "data": {
      "text/plain": [
       "variable(0.811562)"
      ]
     },
     "execution_count": 147,
     "metadata": {},
     "output_type": "execute_result"
    }
   ],
   "source": [
    "loss_test"
   ]
  },
  {
   "cell_type": "code",
   "execution_count": 148,
   "metadata": {
    "colab": {
     "base_uri": "https://localhost:8080/",
     "height": 35
    },
    "colab_type": "code",
    "id": "hqfRuP7MDfcu",
    "outputId": "bc6693bf-50a1-4628-b7df-efe5b0c4f921"
   },
   "outputs": [
    {
     "data": {
      "text/plain": [
       "variable(0.44444445)"
      ]
     },
     "execution_count": 148,
     "metadata": {},
     "output_type": "execute_result"
    }
   ],
   "source": [
    "accuracy_test"
   ]
  },
  {
   "cell_type": "markdown",
   "metadata": {
    "colab_type": "text",
    "id": "ew3pikaxDfcv"
   },
   "source": [
    "この結果から分かる通り、ミニバッチ学習を用いることで、前回よりもテストデータに対する正解率が向上しました。"
   ]
  },
  {
   "cell_type": "markdown",
   "metadata": {
    "colab_type": "text",
    "id": "ldfjssp1Dfcv"
   },
   "source": [
    "### 学習率を調整\n",
    "\n",
    "ニューラルネットワークにおけるハイパーパラメータのひとつである**学習率** を最後に調整していきましょう。\n",
    "SGD では、\n",
    "\n",
    "$$\n",
    "{\\bf {\\boldsymbol \\Theta}} \\leftarrow {\\boldsymbol \\Theta} - \\eta \\dfrac{d}{d{\\boldsymbol \\Theta}}L\n",
    "$$\n",
    "\n",
    "の $\\eta$ に当たる箇所です。\n",
    "$\\eta$ の値を大きくすると、パラメータ ${\\boldsymbol \\Theta}$ の更新される量が大きくなり、$\\eta$ を小さくすると更新される量も小さくなります。\n",
    "\n",
    "それでは、どのような $\\eta$ を設定すると良いのでしょうか。\n",
    "この明確な答えは存在せず、状況によって判断せざるを得ません。\n",
    "ただし、このハイパーパラメータを最適化する [Optuna](https://github.com/pfnet/optuna) のようなフレームワークも存在します。\n",
    "\n",
    "前回では、後半の `loss` がまだ収束していなかったため、もう少し $\\eta$ の値を大きくしてパラメータの更新する幅を大きくとり、精度の向上が見込めないか試してみましょう。\n",
    "`chainer.optimizers.SGD` の引数にある `lr` をデフォルトの値から変更します。"
   ]
  },
  {
   "cell_type": "code",
   "execution_count": 149,
   "metadata": {
    "colab": {},
    "colab_type": "code",
    "id": "txr2xiXcDfcv"
   },
   "outputs": [],
   "source": [
    "# 乱数のシードを固定\n",
    "np.random.seed(0)"
   ]
  },
  {
   "cell_type": "code",
   "execution_count": 150,
   "metadata": {
    "colab": {},
    "colab_type": "code",
    "id": "FTz_S9tvDfcw"
   },
   "outputs": [],
   "source": [
    "# モデルの定義\n",
    "model = Sequential(\n",
    "    L.BatchNormalization(n_input),\n",
    "    L.Linear(n_input, n_hidden), F.relu,\n",
    "    L.BatchNormalization(n_hidden),\n",
    "    L.Linear(n_hidden, n_hidden), F.relu,\n",
    "    L.BatchNormalization(n_hidden),\n",
    "    L.Linear(n_hidden, n_output)\n",
    ")"
   ]
  },
  {
   "cell_type": "code",
   "execution_count": 151,
   "metadata": {
    "colab": {
     "base_uri": "https://localhost:8080/",
     "height": 35
    },
    "colab_type": "code",
    "id": "Q5Eufm0vDfcw",
    "outputId": "b05a0845-e7af-45c0-cdc3-77768d776c3f"
   },
   "outputs": [
    {
     "data": {
      "text/plain": [
       "<chainer.optimizers.sgd.SGD at 0x110a5a6a0>"
      ]
     },
     "execution_count": 151,
     "metadata": {},
     "output_type": "execute_result"
    }
   ],
   "source": [
    "# optimizer の定義と model と紐付け\n",
    "optimizer = chainer.optimizers.SGD(lr=0.05)  # lr を 0.01 -> 0.05 へと変更\n",
    "optimizer.setup(model)"
   ]
  },
  {
   "cell_type": "markdown",
   "metadata": {
    "colab_type": "text",
    "id": "ZKplUwTSDfcx"
   },
   "source": [
    "パラメータの更新を繰り返し、その結果を見ていきます。"
   ]
  },
  {
   "cell_type": "code",
   "execution_count": 152,
   "metadata": {
    "colab": {},
    "colab_type": "code",
    "id": "4PbBg2smDfcx"
   },
   "outputs": [],
   "source": [
    "# 可視化用のリスト\n",
    "results_train, results_valid = {}, {}\n",
    "results_train['loss'], results_train['accuracy'] = [], []\n",
    "results_valid['loss'], results_valid['accuracy'] = [], []"
   ]
  },
  {
   "cell_type": "code",
   "execution_count": 153,
   "metadata": {
    "colab": {
     "base_uri": "https://localhost:8080/",
     "height": 3654
    },
    "colab_type": "code",
    "id": "PIjp61ZZDfcy",
    "outputId": "3943041e-ca90-4b2f-b932-cf0bb51caa73"
   },
   "outputs": [
    {
     "name": "stdout",
     "output_type": "stream",
     "text": [
      "1 iteration: loss (train) 2.2496, loss (valid) 1.5313\n",
      "2 iteration: loss (train) 1.9858, loss (valid) 3.6326\n",
      "3 iteration: loss (train) 1.5234, loss (valid) 1.8853\n",
      "4 iteration: loss (train) 1.4000, loss (valid) 0.6062\n",
      "5 iteration: loss (train) 1.5897, loss (valid) 1.3628\n",
      "6 iteration: loss (train) 1.4099, loss (valid) 3.0407\n",
      "7 iteration: loss (train) 1.4765, loss (valid) 1.4938\n",
      "8 iteration: loss (train) 1.2803, loss (valid) 0.5520\n",
      "9 iteration: loss (train) 1.3389, loss (valid) 1.1461\n",
      "10 iteration: loss (train) 1.2321, loss (valid) 2.7086\n",
      "11 iteration: loss (train) 1.0463, loss (valid) 1.3327\n",
      "12 iteration: loss (train) 1.0989, loss (valid) 0.6251\n",
      "13 iteration: loss (train) 1.5294, loss (valid) 0.9804\n",
      "14 iteration: loss (train) 1.1779, loss (valid) 2.0132\n",
      "15 iteration: loss (train) 1.1076, loss (valid) 1.0166\n",
      "16 iteration: loss (train) 1.1067, loss (valid) 0.6232\n",
      "17 iteration: loss (train) 1.0082, loss (valid) 0.9019\n",
      "18 iteration: loss (train) 1.0143, loss (valid) 1.5228\n",
      "19 iteration: loss (train) 0.8426, loss (valid) 0.8584\n",
      "20 iteration: loss (train) 1.2847, loss (valid) 0.6151\n",
      "21 iteration: loss (train) 0.9615, loss (valid) 0.8441\n",
      "22 iteration: loss (train) 1.0765, loss (valid) 1.1519\n",
      "23 iteration: loss (train) 0.8003, loss (valid) 0.7616\n",
      "24 iteration: loss (train) 1.0297, loss (valid) 0.5914\n",
      "25 iteration: loss (train) 1.1361, loss (valid) 0.8210\n",
      "26 iteration: loss (train) 0.9834, loss (valid) 1.0398\n",
      "27 iteration: loss (train) 1.0051, loss (valid) 0.7353\n",
      "28 iteration: loss (train) 0.7734, loss (valid) 0.5599\n",
      "29 iteration: loss (train) 1.0159, loss (valid) 0.8285\n",
      "30 iteration: loss (train) 0.9266, loss (valid) 0.9648\n",
      "31 iteration: loss (train) 0.8337, loss (valid) 0.7349\n",
      "32 iteration: loss (train) 0.9250, loss (valid) 0.5597\n",
      "33 iteration: loss (train) 0.7916, loss (valid) 0.8158\n",
      "34 iteration: loss (train) 1.1936, loss (valid) 0.9196\n",
      "35 iteration: loss (train) 1.1074, loss (valid) 0.7303\n",
      "36 iteration: loss (train) 0.7529, loss (valid) 0.5432\n",
      "37 iteration: loss (train) 1.0122, loss (valid) 0.8380\n",
      "38 iteration: loss (train) 0.8322, loss (valid) 0.9006\n",
      "39 iteration: loss (train) 0.8566, loss (valid) 0.7205\n",
      "40 iteration: loss (train) 0.7940, loss (valid) 0.5333\n",
      "41 iteration: loss (train) 0.8977, loss (valid) 0.8204\n",
      "42 iteration: loss (train) 0.8531, loss (valid) 0.8776\n",
      "43 iteration: loss (train) 0.7409, loss (valid) 0.7048\n",
      "44 iteration: loss (train) 0.7726, loss (valid) 0.5131\n",
      "45 iteration: loss (train) 1.0249, loss (valid) 0.7795\n",
      "46 iteration: loss (train) 0.8445, loss (valid) 0.8698\n",
      "47 iteration: loss (train) 0.8583, loss (valid) 0.6656\n",
      "48 iteration: loss (train) 0.8012, loss (valid) 0.5048\n",
      "49 iteration: loss (train) 0.7340, loss (valid) 0.7704\n",
      "50 iteration: loss (train) 0.8428, loss (valid) 0.8238\n",
      "51 iteration: loss (train) 0.9124, loss (valid) 0.6705\n",
      "52 iteration: loss (train) 0.6229, loss (valid) 0.4636\n",
      "53 iteration: loss (train) 0.7551, loss (valid) 0.7354\n",
      "54 iteration: loss (train) 0.7069, loss (valid) 0.8291\n",
      "55 iteration: loss (train) 0.8759, loss (valid) 0.6528\n",
      "56 iteration: loss (train) 0.6439, loss (valid) 0.4490\n",
      "57 iteration: loss (train) 0.9834, loss (valid) 0.7357\n",
      "58 iteration: loss (train) 0.7037, loss (valid) 0.8088\n",
      "59 iteration: loss (train) 0.6543, loss (valid) 0.6451\n",
      "60 iteration: loss (train) 0.7790, loss (valid) 0.4499\n",
      "61 iteration: loss (train) 0.5520, loss (valid) 0.7316\n",
      "62 iteration: loss (train) 0.6672, loss (valid) 0.7816\n",
      "63 iteration: loss (train) 0.7486, loss (valid) 0.6358\n",
      "64 iteration: loss (train) 0.7785, loss (valid) 0.4456\n",
      "65 iteration: loss (train) 0.6744, loss (valid) 0.7201\n",
      "66 iteration: loss (train) 0.5473, loss (valid) 0.7731\n",
      "67 iteration: loss (train) 0.9662, loss (valid) 0.6127\n",
      "68 iteration: loss (train) 0.7404, loss (valid) 0.4360\n",
      "69 iteration: loss (train) 0.6175, loss (valid) 0.6821\n",
      "70 iteration: loss (train) 0.6564, loss (valid) 0.7822\n",
      "71 iteration: loss (train) 0.6445, loss (valid) 0.6073\n",
      "72 iteration: loss (train) 0.8107, loss (valid) 0.4199\n",
      "73 iteration: loss (train) 0.6215, loss (valid) 0.6702\n",
      "74 iteration: loss (train) 0.8977, loss (valid) 0.7453\n",
      "75 iteration: loss (train) 0.6957, loss (valid) 0.5796\n",
      "76 iteration: loss (train) 0.7865, loss (valid) 0.3903\n",
      "77 iteration: loss (train) 0.6701, loss (valid) 0.6383\n",
      "78 iteration: loss (train) 0.4585, loss (valid) 0.7324\n",
      "79 iteration: loss (train) 0.6958, loss (valid) 0.5777\n",
      "80 iteration: loss (train) 0.7287, loss (valid) 0.3810\n",
      "81 iteration: loss (train) 0.7958, loss (valid) 0.6420\n",
      "82 iteration: loss (train) 1.0590, loss (valid) 0.7805\n",
      "83 iteration: loss (train) 0.6345, loss (valid) 0.5607\n",
      "84 iteration: loss (train) 0.6002, loss (valid) 0.3718\n",
      "85 iteration: loss (train) 0.6737, loss (valid) 0.6225\n",
      "86 iteration: loss (train) 0.5446, loss (valid) 0.7251\n",
      "87 iteration: loss (train) 0.7857, loss (valid) 0.5509\n",
      "88 iteration: loss (train) 0.7271, loss (valid) 0.3827\n",
      "89 iteration: loss (train) 0.9424, loss (valid) 0.6167\n",
      "90 iteration: loss (train) 0.7285, loss (valid) 0.7244\n",
      "91 iteration: loss (train) 0.8027, loss (valid) 0.5712\n",
      "92 iteration: loss (train) 1.0864, loss (valid) 0.3628\n",
      "93 iteration: loss (train) 0.6250, loss (valid) 0.5792\n",
      "94 iteration: loss (train) 0.5312, loss (valid) 0.6928\n",
      "95 iteration: loss (train) 0.5957, loss (valid) 0.5278\n",
      "96 iteration: loss (train) 0.5392, loss (valid) 0.3383\n",
      "97 iteration: loss (train) 0.5808, loss (valid) 0.5575\n",
      "98 iteration: loss (train) 0.5421, loss (valid) 0.6455\n",
      "99 iteration: loss (train) 0.5087, loss (valid) 0.5049\n",
      "100 iteration: loss (train) 0.7954, loss (valid) 0.3561\n",
      "101 iteration: loss (train) 0.5516, loss (valid) 0.5381\n",
      "102 iteration: loss (train) 0.6129, loss (valid) 0.6151\n",
      "103 iteration: loss (train) 0.5183, loss (valid) 0.4872\n",
      "104 iteration: loss (train) 0.4844, loss (valid) 0.3387\n",
      "105 iteration: loss (train) 0.9173, loss (valid) 0.5092\n",
      "106 iteration: loss (train) 0.4905, loss (valid) 0.5472\n",
      "107 iteration: loss (train) 0.4554, loss (valid) 0.4312\n",
      "108 iteration: loss (train) 0.4990, loss (valid) 0.2710\n",
      "109 iteration: loss (train) 0.7176, loss (valid) 0.4733\n",
      "110 iteration: loss (train) 0.4632, loss (valid) 0.5190\n",
      "111 iteration: loss (train) 0.9572, loss (valid) 0.4334\n",
      "112 iteration: loss (train) 0.3905, loss (valid) 0.2814\n",
      "113 iteration: loss (train) 0.5418, loss (valid) 0.4334\n",
      "114 iteration: loss (train) 1.2700, loss (valid) 0.4998\n",
      "115 iteration: loss (train) 0.5518, loss (valid) 0.4523\n",
      "116 iteration: loss (train) 0.8796, loss (valid) 0.2846\n",
      "117 iteration: loss (train) 0.7767, loss (valid) 0.4600\n",
      "118 iteration: loss (train) 0.3972, loss (valid) 0.4991\n",
      "119 iteration: loss (train) 0.3603, loss (valid) 0.4133\n",
      "120 iteration: loss (train) 0.3079, loss (valid) 0.2677\n",
      "121 iteration: loss (train) 0.3210, loss (valid) 0.4255\n",
      "122 iteration: loss (train) 0.4756, loss (valid) 0.4616\n",
      "123 iteration: loss (train) 0.9303, loss (valid) 0.4163\n",
      "124 iteration: loss (train) 0.3619, loss (valid) 0.3256\n",
      "125 iteration: loss (train) 0.3799, loss (valid) 0.4379\n",
      "126 iteration: loss (train) 0.3635, loss (valid) 0.4424\n",
      "127 iteration: loss (train) 0.6328, loss (valid) 0.3906\n",
      "128 iteration: loss (train) 0.6129, loss (valid) 0.2513\n",
      "129 iteration: loss (train) 0.5730, loss (valid) 0.3608\n",
      "130 iteration: loss (train) 0.6058, loss (valid) 0.4208\n",
      "131 iteration: loss (train) 0.3461, loss (valid) 0.4290\n",
      "132 iteration: loss (train) 0.4868, loss (valid) 0.4271\n",
      "133 iteration: loss (train) 0.3422, loss (valid) 0.6377\n",
      "134 iteration: loss (train) 0.6834, loss (valid) 0.5381\n",
      "135 iteration: loss (train) 0.7019, loss (valid) 0.4740\n",
      "136 iteration: loss (train) 0.5025, loss (valid) 0.1719\n",
      "137 iteration: loss (train) 0.3726, loss (valid) 0.3154\n",
      "138 iteration: loss (train) 0.5073, loss (valid) 0.3727\n",
      "139 iteration: loss (train) 1.0064, loss (valid) 0.3376\n",
      "140 iteration: loss (train) 0.3123, loss (valid) 0.1716\n",
      "141 iteration: loss (train) 0.3303, loss (valid) 0.2977\n",
      "142 iteration: loss (train) 0.2956, loss (valid) 0.3553\n",
      "143 iteration: loss (train) 0.2923, loss (valid) 0.3213\n",
      "144 iteration: loss (train) 0.4510, loss (valid) 0.1842\n",
      "145 iteration: loss (train) 0.3110, loss (valid) 0.3195\n",
      "146 iteration: loss (train) 0.7607, loss (valid) 0.4081\n",
      "147 iteration: loss (train) 0.3167, loss (valid) 0.3751\n",
      "148 iteration: loss (train) 1.5182, loss (valid) 0.3524\n",
      "149 iteration: loss (train) 0.5452, loss (valid) 0.2908\n",
      "150 iteration: loss (train) 0.7127, loss (valid) 0.3484\n",
      "151 iteration: loss (train) 0.3340, loss (valid) 0.3299\n",
      "152 iteration: loss (train) 0.4740, loss (valid) 0.1555\n",
      "153 iteration: loss (train) 0.2727, loss (valid) 0.2817\n",
      "154 iteration: loss (train) 0.3599, loss (valid) 0.3564\n",
      "155 iteration: loss (train) 0.4141, loss (valid) 0.3145\n",
      "156 iteration: loss (train) 1.3390, loss (valid) 0.2006\n",
      "157 iteration: loss (train) 0.3499, loss (valid) 0.3426\n"
     ]
    },
    {
     "name": "stdout",
     "output_type": "stream",
     "text": [
      "158 iteration: loss (train) 0.2708, loss (valid) 0.3596\n",
      "159 iteration: loss (train) 0.4324, loss (valid) 0.3431\n",
      "160 iteration: loss (train) 0.3384, loss (valid) 0.1945\n",
      "161 iteration: loss (train) 0.2970, loss (valid) 0.3156\n",
      "162 iteration: loss (train) 0.2425, loss (valid) 0.3278\n",
      "163 iteration: loss (train) 0.1915, loss (valid) 0.3240\n",
      "164 iteration: loss (train) 0.4965, loss (valid) 0.2129\n",
      "165 iteration: loss (train) 0.3645, loss (valid) 0.3153\n",
      "166 iteration: loss (train) 0.3701, loss (valid) 0.3523\n",
      "167 iteration: loss (train) 0.2197, loss (valid) 0.3019\n",
      "168 iteration: loss (train) 0.9920, loss (valid) 0.2252\n",
      "169 iteration: loss (train) 0.2909, loss (valid) 0.3194\n",
      "170 iteration: loss (train) 0.2347, loss (valid) 0.3870\n",
      "171 iteration: loss (train) 0.2273, loss (valid) 0.3133\n",
      "172 iteration: loss (train) 0.1905, loss (valid) 0.2041\n",
      "173 iteration: loss (train) 0.8133, loss (valid) 0.3205\n",
      "174 iteration: loss (train) 0.4683, loss (valid) 0.3230\n",
      "175 iteration: loss (train) 0.4041, loss (valid) 0.2856\n",
      "176 iteration: loss (train) 0.4241, loss (valid) 0.1909\n",
      "177 iteration: loss (train) 0.5631, loss (valid) 0.2562\n",
      "178 iteration: loss (train) 0.7470, loss (valid) 0.3256\n",
      "179 iteration: loss (train) 0.5555, loss (valid) 0.2534\n",
      "180 iteration: loss (train) 0.3953, loss (valid) 0.1447\n",
      "181 iteration: loss (train) 0.2243, loss (valid) 0.2248\n",
      "182 iteration: loss (train) 0.3248, loss (valid) 0.2654\n",
      "183 iteration: loss (train) 0.3620, loss (valid) 0.2309\n",
      "184 iteration: loss (train) 0.1826, loss (valid) 0.1238\n",
      "185 iteration: loss (train) 0.3858, loss (valid) 0.2061\n",
      "186 iteration: loss (train) 0.3776, loss (valid) 0.2745\n",
      "187 iteration: loss (train) 0.1413, loss (valid) 0.2317\n",
      "188 iteration: loss (train) 0.2321, loss (valid) 0.1544\n",
      "189 iteration: loss (train) 0.2561, loss (valid) 0.2146\n",
      "190 iteration: loss (train) 0.1455, loss (valid) 0.2854\n",
      "191 iteration: loss (train) 0.1770, loss (valid) 0.2287\n",
      "192 iteration: loss (train) 0.3665, loss (valid) 0.1046\n",
      "193 iteration: loss (train) 0.3639, loss (valid) 0.1907\n",
      "194 iteration: loss (train) 0.2447, loss (valid) 0.2958\n",
      "195 iteration: loss (train) 0.4849, loss (valid) 0.2347\n",
      "196 iteration: loss (train) 0.6778, loss (valid) 0.0992\n",
      "197 iteration: loss (train) 0.4156, loss (valid) 0.1687\n",
      "198 iteration: loss (train) 0.1399, loss (valid) 0.2354\n",
      "199 iteration: loss (train) 0.3374, loss (valid) 0.1966\n",
      "200 iteration: loss (train) 0.2431, loss (valid) 0.0842\n"
     ]
    }
   ],
   "source": [
    "# iterator の定義\n",
    "train_iter = chainer.iterators.SerialIterator(train, n_batch)\n",
    "valid_iter = chainer.iterators.SerialIterator(valid, n_batch, repeat=False, shuffle=False)\n",
    "\n",
    "count = 1\n",
    "\n",
    "for epoch in range(n_epoch):\n",
    "    \n",
    "    while True:\n",
    "        \n",
    "        # ミニバッチの取得\n",
    "        train_batch = train_iter.next()\n",
    "        valid_batch = valid_iter.next()\n",
    "        \n",
    "        # x と t の分割\n",
    "        x_train, t_train = chainer.dataset.concat_examples(train_batch)\n",
    "        x_valid, t_valid = chainer.dataset.concat_examples(valid_batch)\n",
    "\n",
    "        # 予測値と目的関数の計算\n",
    "        y_train = model(x_train)\n",
    "        loss_train = F.softmax_cross_entropy(y_train, t_train)\n",
    "        accuracy_train = F.accuracy(y_train, t_train)\n",
    "\n",
    "        # 勾配の初期化と勾配の計算\n",
    "        model.cleargrads()\n",
    "        loss_train.backward()\n",
    "\n",
    "        # パラメータの更新\n",
    "        optimizer.update()\n",
    "    \n",
    "        # 検証用データに対する結果の確認\n",
    "        with chainer.using_config('train', False), chainer.using_config('enable_backprop', False):\n",
    "            y_valid = model(x_valid)\n",
    "            loss_valid = F.softmax_cross_entropy(y_valid, t_valid)\n",
    "            accuracy_valid = F.accuracy(y_valid, t_valid)\n",
    "\n",
    "        # 結果の表示\n",
    "        # {:.4f} と指定することで、小数点以下4桁を指定できます\n",
    "        print('{} iteration: loss (train) {:.4f}, loss (valid) {:.4f}'.format(count, loss_train.array, loss_valid.array))\n",
    "\n",
    "        # 可視化用に保存\n",
    "        results_train['loss'] .append(loss_train.array)\n",
    "        results_train['accuracy'] .append(accuracy_train.array)\n",
    "        results_valid['loss'].append(loss_valid.array)\n",
    "        results_valid['accuracy'].append(accuracy_valid.array)\n",
    "\n",
    "        # カウントアップ\n",
    "        count += 1\n",
    "\n",
    "        # 1エポック終えると、valid_iter をリセットしてループを抜ける\n",
    "        if valid_iter.is_new_epoch:\n",
    "            valid_iter.reset()\n",
    "            break"
   ]
  },
  {
   "cell_type": "code",
   "execution_count": 154,
   "metadata": {
    "colab": {
     "base_uri": "https://localhost:8080/",
     "height": 284
    },
    "colab_type": "code",
    "id": "gKFHIWc3Dfcy",
    "outputId": "9d934e68-27ec-4a6e-ea4f-2d07a7fd6aeb"
   },
   "outputs": [
    {
     "data": {
      "text/plain": [
       "<matplotlib.legend.Legend at 0x110a67748>"
      ]
     },
     "execution_count": 154,
     "metadata": {},
     "output_type": "execute_result"
    },
    {
     "data": {
      "image/png": "[encoded data removed]",
      "text/plain": [
       "<Figure size 432x288 with 1 Axes>"
      ]
     },
     "metadata": {
      "needs_background": "light"
     },
     "output_type": "display_data"
    }
   ],
   "source": [
    "# 目的関数 (loss)\n",
    "# 横軸はエポックではなく、イテレーション\n",
    "plt.plot(results_train['loss'], label='train')  # label で凡例の設定\n",
    "plt.plot(results_valid['loss'], label='valid')  # label で凡例の設定\n",
    "plt.legend()  # 凡例の表示"
   ]
  },
  {
   "cell_type": "code",
   "execution_count": 155,
   "metadata": {
    "colab": {
     "base_uri": "https://localhost:8080/",
     "height": 284
    },
    "colab_type": "code",
    "id": "Wy5uWQGZDfcz",
    "outputId": "e9b67707-1ac9-4df8-d7a6-07a4e336c69e"
   },
   "outputs": [
    {
     "data": {
      "text/plain": [
       "<matplotlib.legend.Legend at 0x110b72ef0>"
      ]
     },
     "execution_count": 155,
     "metadata": {},
     "output_type": "execute_result"
    },
    {
     "data": {
      "image/png": "[encoded data removed]",
      "text/plain": [
       "<Figure size 432x288 with 1 Axes>"
      ]
     },
     "metadata": {
      "needs_background": "light"
     },
     "output_type": "display_data"
    }
   ],
   "source": [
    "# 正解率 (accuracy)\n",
    "# 横軸はエポックではなく、イテレーション\n",
    "plt.plot(results_train['accuracy'], label='train')  # label で凡例の設定\n",
    "plt.plot(results_valid['accuracy'], label='valid')  # label で凡例の設定\n",
    "plt.legend()  # 凡例の表示"
   ]
  },
  {
   "cell_type": "code",
   "execution_count": 156,
   "metadata": {
    "colab": {},
    "colab_type": "code",
    "id": "2aecI5T-Dfc0"
   },
   "outputs": [],
   "source": [
    "# テストデータに対する結果の確認\n",
    "x_test, t_test = chainer.dataset.concat_examples(test)\n",
    "with chainer.using_config('train', False), chainer.using_config('enable_backprop', False):\n",
    "    y_test = model(x_test)\n",
    "    loss_test = F.softmax_cross_entropy(y_test, t_test)\n",
    "    accuracy_test = F.accuracy(y_test, t_test)"
   ]
  },
  {
   "cell_type": "code",
   "execution_count": 157,
   "metadata": {
    "colab": {
     "base_uri": "https://localhost:8080/",
     "height": 35
    },
    "colab_type": "code",
    "id": "nuNXbHDRDfc0",
    "outputId": "657fa92e-795c-4c7f-d957-d64df33722ad"
   },
   "outputs": [
    {
     "data": {
      "text/plain": [
       "variable(0.22145894)"
      ]
     },
     "execution_count": 157,
     "metadata": {},
     "output_type": "execute_result"
    }
   ],
   "source": [
    "loss_test"
   ]
  },
  {
   "cell_type": "code",
   "execution_count": 158,
   "metadata": {
    "colab": {
     "base_uri": "https://localhost:8080/",
     "height": 35
    },
    "colab_type": "code",
    "id": "FB9Z8UrmDfc1",
    "outputId": "e8367aef-7088-429a-a890-8184bea39b5e"
   },
   "outputs": [
    {
     "data": {
      "text/plain": [
       "variable(0.9777778)"
      ]
     },
     "execution_count": 158,
     "metadata": {},
     "output_type": "execute_result"
    }
   ],
   "source": [
    "accuracy_test"
   ]
  },
  {
   "cell_type": "markdown",
   "metadata": {
    "colab_type": "text",
    "id": "qAPK1S0gDfc2"
   },
   "source": [
    "この結果から分かる通り、ハイパーパラメータである学習率を調整することで、精度を改善することができました。"
   ]
  },
  {
   "cell_type": "markdown",
   "metadata": {
    "colab_type": "text",
    "id": "zZLpgqIMxeUv"
   },
   "source": [
    "## 学習済みモデルを保存\n",
    "\n",
    "ハイパーパラメータも含めてモデルの訓練が完了すると、推論で使えるように訓練済みモデルを保存します。\n",
    "Chainerには、モデルを保存する形式として、2種類のフォーマット (HDF5, NPZ) が用意されています。\n",
    "\n",
    "今回は、追加ライブラリのインストールが必要な HDF5 ではなく、NumPy 標準機能で提供されているシリアライズ機能（`numpy.savez()`）を利用した NPZ 形式でのモデルの保存を行います。\n"
   ]
  },
  {
   "cell_type": "code",
   "execution_count": 159,
   "metadata": {
    "colab": {},
    "colab_type": "code",
    "id": "YGjMRaYSxeOZ"
   },
   "outputs": [],
   "source": [
    "# モデルの保存\n",
    "chainer.serializers.save_npz('my_iris.model', model)"
   ]
  },
  {
   "cell_type": "code",
   "execution_count": 160,
   "metadata": {
    "colab": {
     "base_uri": "https://localhost:8080/",
     "height": 35
    },
    "colab_type": "code",
    "id": "zlwCoYaFxeH4",
    "outputId": "63d67d88-6db9-4c2e-eecc-e1ca058e53dd"
   },
   "outputs": [
    {
     "name": "stdout",
     "output_type": "stream",
     "text": [
      "01_Welcome_to_Chainer_Tutorial_ja.ipynb\r\n",
      "02_Basics_of_Python_ja.ipynb\r\n",
      "\u001b[31m03_Basics_of_Math_for_Machine_Learning_ja.ipynb\u001b[m\u001b[m\r\n",
      "04_Regression_Analysis_ja.ipynb\r\n",
      "05_Introduction_to_NumPy_ja.ipynb\r\n",
      "06_Introduction_to_Scikit-learn_ja.ipynb\r\n",
      "07_Utilities_for_Machine_Learning_ja.ipynb\r\n",
      "08_Basics_of_Neural_Networks_ja.ipynb\r\n",
      "09_Basics_of_Chainer_ja.ipynb\r\n",
      "10_Classification_with_Neural_Networks_ja.ipynb\r\n",
      "\u001b[31m11_Regression_with_Neural_Networks_ja.ipynb\u001b[m\u001b[m\r\n",
      "12_Trainer_and_Extension_ja.ipynb\r\n",
      "13_Image_Processing_and_Convolutional_Neural_Networks_ja.ipynb\r\n",
      "\u001b[31m14_Classification_with_Convolutional_Neural_Networks_ja.ipynb\u001b[m\u001b[m\r\n",
      "\u001b[31m15_Train_Convolutional_Neural_Networks_with_your_own_dataset_ja.ipynb\u001b[m\u001b[m\r\n",
      "16_Data_Augmentation_ja.ipynb\r\n",
      "17_Transfer_Learning_and_Fine_Tuning_ja.ipynb\r\n",
      "18_Visualization_with_ChainerUI_ja.ipynb\r\n",
      "19_ONNX_and_Menoh_for_Inference_ja.ipynb\r\n",
      "\u001b[34mimages\u001b[m\u001b[m\r\n",
      "my_iris.model\r\n",
      "\u001b[34mresult\u001b[m\u001b[m\r\n"
     ]
    }
   ],
   "source": [
    "# 保存されたモデルを確認\n",
    "!ls"
   ]
  },
  {
   "cell_type": "markdown",
   "metadata": {
    "colab_type": "text",
    "id": "bWUN_AqVxeB2"
   },
   "source": [
    "もし、自身のGoogleドライブ（My Drive）にモデルを保存したい場合は下記のコマンドを実行して、My driveと紐付けを行うことによって保存可能です。"
   ]
  },
  {
   "cell_type": "code",
   "execution_count": 161,
   "metadata": {
    "colab": {
     "base_uri": "https://localhost:8080/",
     "height": 55
    },
    "colab_type": "code",
    "id": "F1KaHofsxd41",
    "outputId": "23198041-1b7f-4d2c-86b2-0958486600ae"
   },
   "outputs": [],
   "source": [
    "# My Driveをマウント\n",
    "# from google.colab import drive\n",
    "# drive.mount('/content/drive')"
   ]
  },
  {
   "cell_type": "code",
   "execution_count": 162,
   "metadata": {
    "colab": {},
    "colab_type": "code",
    "id": "Az2svT8t1RTX"
   },
   "outputs": [],
   "source": [
    "# 指定パスを変更して保存\n",
    "# chainer.serializers.save_npz('drive/My Drive/Colab Notebooks/my_iris.model', model)"
   ]
  },
  {
   "cell_type": "code",
   "execution_count": 163,
   "metadata": {
    "colab": {
     "base_uri": "https://localhost:8080/",
     "height": 254
    },
    "colab_type": "code",
    "id": "XUW8btxlEXpq",
    "outputId": "0ab38ab9-71c6-49e2-8417-f0a01abbf9e8"
   },
   "outputs": [],
   "source": [
    "# 保存されたモデルを確認\n",
    "# !ls 'drive/My Drive/Colab Notebooks'"
   ]
  },
  {
   "cell_type": "markdown",
   "metadata": {
    "colab_type": "text",
    "id": "jLsfldgREpwz"
   },
   "source": [
    "上記のように、`my_iris.model` が保存できていることを確認できます。"
   ]
  },
  {
   "cell_type": "markdown",
   "metadata": {
    "colab_type": "text",
    "id": "PLenT7Gs1Rdr"
   },
   "source": [
    "## 保存済みのモデルを読み込んで推論\n",
    "\n",
    "推論をする際にはモデルの読み込み（load）の前に、モデルを定義しておく必要があります。 "
   ]
  },
  {
   "cell_type": "code",
   "execution_count": 164,
   "metadata": {
    "colab": {},
    "colab_type": "code",
    "id": "VztZ0GlS2QY9"
   },
   "outputs": [],
   "source": [
    "# モデルの定義\n",
    "model = Sequential(\n",
    "    L.BatchNormalization(n_input),\n",
    "    L.Linear(n_input, n_hidden), F.relu,\n",
    "    L.BatchNormalization(n_hidden),\n",
    "    L.Linear(n_hidden, n_hidden), F.relu,\n",
    "    L.BatchNormalization(n_hidden),\n",
    "    L.Linear(n_hidden, n_output)\n",
    ")"
   ]
  },
  {
   "cell_type": "code",
   "execution_count": 165,
   "metadata": {
    "colab": {},
    "colab_type": "code",
    "id": "WGSbhNnF1RkT"
   },
   "outputs": [],
   "source": [
    "# 訓練済みモデル（重み）の読み込み\n",
    "chainer.serializers.load_npz('my_iris.model', model)"
   ]
  },
  {
   "cell_type": "markdown",
   "metadata": {
    "colab_type": "text",
    "id": "etxORgQq1Rqp"
   },
   "source": [
    "### 推論の実行\n",
    "\n",
    "今回は練習に `train` の1つ目のデータを使用して、推論を実行します。"
   ]
  },
  {
   "cell_type": "code",
   "execution_count": 166,
   "metadata": {
    "colab": {},
    "colab_type": "code",
    "id": "LfTBGuro2YdZ"
   },
   "outputs": [],
   "source": [
    "x_new, t_new = train[0]"
   ]
  },
  {
   "cell_type": "code",
   "execution_count": 167,
   "metadata": {
    "colab": {
     "base_uri": "https://localhost:8080/",
     "height": 35
    },
    "colab_type": "code",
    "id": "_HlRJnKpPl-_",
    "outputId": "e64e3c26-73e1-4a39-980d-8c17cc89995e"
   },
   "outputs": [
    {
     "data": {
      "text/plain": [
       "array([5.1, 3.8, 1.9, 0.4], dtype=float32)"
      ]
     },
     "execution_count": 167,
     "metadata": {},
     "output_type": "execute_result"
    }
   ],
   "source": [
    "x_new"
   ]
  },
  {
   "cell_type": "code",
   "execution_count": 168,
   "metadata": {
    "colab": {},
    "colab_type": "code",
    "id": "r-fRivArSmq_"
   },
   "outputs": [],
   "source": [
    "# 予測値の計算（エラーが発生）\n",
    "# with chainer.using_config('train', False), chainer.using_config('enable_backprop', False):\n",
    "#     y = model(x_new)"
   ]
  },
  {
   "cell_type": "markdown",
   "metadata": {
    "colab_type": "text",
    "id": "dFv9eWUnDfc-"
   },
   "source": [
    "上記のコードで予測値の計算を行うと、以下のエラーが発生します。\n",
    "\n",
    "![推論時のエラー](images/09/09_12.png)"
   ]
  },
  {
   "cell_type": "markdown",
   "metadata": {
    "colab_type": "text",
    "id": "VZRG-4XmDfc_"
   },
   "source": [
    "この原因は、入力データの形です。"
   ]
  },
  {
   "cell_type": "code",
   "execution_count": 169,
   "metadata": {
    "colab": {
     "base_uri": "https://localhost:8080/",
     "height": 35
    },
    "colab_type": "code",
    "id": "2yL1A8SMDfc_",
    "outputId": "1d5e983a-1aef-4834-f371-a61bc15bebc1"
   },
   "outputs": [
    {
     "data": {
      "text/plain": [
       "(4,)"
      ]
     },
     "execution_count": 169,
     "metadata": {},
     "output_type": "execute_result"
    }
   ],
   "source": [
    "x_new.shape"
   ]
  },
  {
   "cell_type": "markdown",
   "metadata": {
    "colab_type": "text",
    "id": "F4L6u2GaSmrA"
   },
   "source": [
    "推論で使用する際には、`(バッチサイズ, 入力変数の数)` という形式となっている必要があり、その形を満たしていない場合は、エラーが生じます。\n",
    "今回であれば、`(1, 4)`が望ましいデータの形といえます。"
   ]
  },
  {
   "cell_type": "code",
   "execution_count": 170,
   "metadata": {
    "colab": {},
    "colab_type": "code",
    "id": "3EXTEg_ySmrA"
   },
   "outputs": [],
   "source": [
    "# 形の変更（バッチサイズ分を追加）\n",
    "x_new = x_new[np.newaxis]"
   ]
  },
  {
   "cell_type": "code",
   "execution_count": 171,
   "metadata": {
    "colab": {
     "base_uri": "https://localhost:8080/",
     "height": 35
    },
    "colab_type": "code",
    "id": "0OcCMpPNSmrB",
    "outputId": "0c0ec192-090f-4143-c3b7-938b6c206a5c"
   },
   "outputs": [
    {
     "data": {
      "text/plain": [
       "(1, 4)"
      ]
     },
     "execution_count": 171,
     "metadata": {},
     "output_type": "execute_result"
    }
   ],
   "source": [
    "x_new.shape"
   ]
  },
  {
   "cell_type": "code",
   "execution_count": 172,
   "metadata": {
    "colab": {},
    "colab_type": "code",
    "id": "OKeaeNKRSmrC"
   },
   "outputs": [],
   "source": [
    "# 予測値の計算\n",
    "with chainer.using_config('train', False), chainer.using_config('enable_backprop', False):\n",
    "    y = model(x_new)"
   ]
  },
  {
   "cell_type": "code",
   "execution_count": 173,
   "metadata": {
    "colab": {
     "base_uri": "https://localhost:8080/",
     "height": 35
    },
    "colab_type": "code",
    "id": "r02vOOPBDfdH",
    "outputId": "d68f230e-b579-4f97-f9d2-419481277a80"
   },
   "outputs": [
    {
     "data": {
      "text/plain": [
       "variable([[ 1.0606382, -0.8979942, -2.6876633]])"
      ]
     },
     "execution_count": 173,
     "metadata": {},
     "output_type": "execute_result"
    }
   ],
   "source": [
    "# 予測値の確認\n",
    "y"
   ]
  },
  {
   "cell_type": "code",
   "execution_count": 174,
   "metadata": {
    "colab": {
     "base_uri": "https://localhost:8080/",
     "height": 35
    },
    "colab_type": "code",
    "id": "EUFzqClBDfdK",
    "outputId": "1ca45e77-4568-4d30-c947-618247cc5cd4"
   },
   "outputs": [
    {
     "data": {
      "text/plain": [
       "0"
      ]
     },
     "execution_count": 174,
     "metadata": {},
     "output_type": "execute_result"
    }
   ],
   "source": [
    "# 目標値の確認\n",
    "t_new"
   ]
  },
  {
   "cell_type": "markdown",
   "metadata": {
    "colab_type": "text",
    "id": "2R_bJvht3tUw"
   },
   "source": [
    "それぞれの予測値が計算できましたが、目標値は 0 であり、現状の $y$ をもう少し使いやすい形に変更していきます。\n",
    "\n",
    "カテゴリに対する分類結果を得るためには下記の2つの処理を行います。\n",
    "\n",
    "1. `chainer.functions.softmax()` で取得した予測値全ての合計が1になるように変換\n",
    "2. `numpy.argmax()` でその中で最も大きな値を取得\n",
    "\n",
    "ここでひとつ注意点ですが、Chainer では一般的に変数を `chainer.variable` という型で扱っています。\n",
    "`numpy.argmax` のように NumPy で定義されている関数を使用する場合には、`numpy.ndarray` に変換する必要があります。  \n",
    "`chainer.variable` から `numpy.ndarray` への変換には `.array` を用います。"
   ]
  },
  {
   "cell_type": "code",
   "execution_count": 175,
   "metadata": {
    "colab": {
     "base_uri": "https://localhost:8080/",
     "height": 35
    },
    "colab_type": "code",
    "id": "Ngxye6Oc2YuH",
    "outputId": "08076352-cf6b-4ace-defc-7b231be47813"
   },
   "outputs": [
    {
     "data": {
      "text/plain": [
       "variable([[0.8586573 , 0.12111463, 0.02022801]])"
      ]
     },
     "execution_count": 175,
     "metadata": {},
     "output_type": "execute_result"
    }
   ],
   "source": [
    "y = F.softmax(y)\n",
    "y"
   ]
  },
  {
   "cell_type": "code",
   "execution_count": 176,
   "metadata": {
    "colab": {
     "base_uri": "https://localhost:8080/",
     "height": 35
    },
    "colab_type": "code",
    "id": "E7-u4KSLDfdN",
    "outputId": "a6eb3fee-28c8-4f6c-cdef-6e1ca11aa13d"
   },
   "outputs": [
    {
     "data": {
      "text/plain": [
       "chainer.variable.Variable"
      ]
     },
     "execution_count": 176,
     "metadata": {},
     "output_type": "execute_result"
    }
   ],
   "source": [
    "type(y)"
   ]
  },
  {
   "cell_type": "code",
   "execution_count": 177,
   "metadata": {
    "colab": {
     "base_uri": "https://localhost:8080/",
     "height": 35
    },
    "colab_type": "code",
    "id": "Vh9uKv-GDfdQ",
    "outputId": "ec3e9c0c-40c0-4de3-a55b-0076f6e2ea4f"
   },
   "outputs": [
    {
     "data": {
      "text/plain": [
       "numpy.ndarray"
      ]
     },
     "execution_count": 177,
     "metadata": {},
     "output_type": "execute_result"
    }
   ],
   "source": [
    "# numpy.ndarray に変換\n",
    "type(y.array)"
   ]
  },
  {
   "cell_type": "code",
   "execution_count": 178,
   "metadata": {
    "colab": {
     "base_uri": "https://localhost:8080/",
     "height": 35
    },
    "colab_type": "code",
    "id": "ZRRjoS-V2Yws",
    "outputId": "ff5a20b2-5b2d-4a81-caa1-1e83e745e795"
   },
   "outputs": [
    {
     "data": {
      "text/plain": [
       "0"
      ]
     },
     "execution_count": 178,
     "metadata": {},
     "output_type": "execute_result"
    }
   ],
   "source": [
    "np.argmax(y.array)"
   ]
  },
  {
   "cell_type": "markdown",
   "metadata": {
    "colab_type": "text",
    "id": "wZGkHeFu93vR"
   },
   "source": [
    "このように、カテゴリの値に対する予測値を得ることができました。\n",
    "\n",
    "最後に補足として、Chainer におけるネットワークの定義は学習と推論の両方で使用するため、外部ファイルととして両方のプログラムから良い込めるようにしておくと、メンテナンス性の観点で優れています。"
   ]
  }
 ],
 "metadata": {
  "colab": {
   "collapsed_sections": [],
   "name": "09_Basics_of_Chainer_ja.ipynb",
   "provenance": [],
   "version": "0.3.2"
  },
  "kernelspec": {
   "display_name": "Python 3",
   "language": "python",
   "name": "python3"
  },
  "language_info": {
   "codemirror_mode": {
    "name": "ipython",
    "version": 3
   },
   "file_extension": ".py",
   "mimetype": "text/x-python",
   "name": "python",
   "nbconvert_exporter": "python",
   "pygments_lexer": "ipython3",
   "version": "3.6.8"
  },
  "toc": {
   "base_numbering": 1,
   "nav_menu": {},
   "number_sections": true,
   "sideBar": true,
   "skip_h1_title": false,
   "title_cell": "Table of Contents",
   "title_sidebar": "Contents",
   "toc_cell": false,
   "toc_position": {
    "height": "calc(100% - 180px)",
    "left": "10px",
    "top": "150px",
    "width": "200.594px"
   },
   "toc_section_display": true,
   "toc_window_display": true
  }
 },
 "nbformat": 4,
 "nbformat_minor": 1
}
