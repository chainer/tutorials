{
  "nbformat": 4,
  "nbformat_minor": 0,
  "metadata": {
    "colab": {
      "name": "01_Welcome_to_Chainer_Tutorial_ja.ipynb",
      "version": "0.3.2",
      "provenance": [],
      "collapsed_sections": []
    },
    "kernelspec": {
      "display_name": "Python 3",
      "language": "python",
      "name": "python3"
    }
  },
  "cells": [
    {
      "metadata": {
        "colab_type": "text",
        "id": "_CMW13uMBlpk"
      },
      "cell_type": "markdown",
      "source": [
        "# このチュートリアルについて\n",
        "\n",
        "Chainer チュートリアルへようこそ。 \n",
        "\n",
        "このチュートリアルは、機械学習や深層学習に興味があり、その仕組みや使い方を理解したいと考えている**大学学部生**以上の方に向けて書かれたオンライン学習資料です。\n",
        "\n",
        "機械学習の勉強を進めるために必要な数学の知識から、Python というプログラミング言語を用いたコーディングの基本、機械学習・深層学習の基礎的な理論、画像認識や自然言語処理などに機械学習を応用する方法に至るまで、幅広いトピックを解説しています。\n",
        "\n",
        "機械学習を学び始めようとすると、ある程度、線形代数や確率統計といった数学の知識から、何らかのプログラミング言語が使えることなどが必要となってきます。\n",
        "しかし、そういった数学やプログラミングの全てに極めて深く習熟していなければ機械学習について学び始められないかというと、必ずしもそうではありません。\n",
        "\n",
        "本チュートリアルでは、機械学習や深層学習に興味を持った方が、まず必要になる最低限の数学とプログラミングの知識から学び始められるように、資料を充実させています。\n",
        "\n",
        "そのため、できる限りこのサイト以外の教科書や資料を探さなくても、**このサイトだけで機械学習・深層学習に入門できる**ことを目指して、作られています。初学者の方が「何から学び始めればいいのか」と迷うことなく学習を始められることを目指したサイトです。\n",
        "\n",
        "また、本チュートリアルの特徴として、資料の中に登場するコードが、Google Colaboratory というサービスを利用することで**そのままブラウザ上で実行できるようになっている**という点があります。\n",
        "\n",
        "ブラウザだけでコードを書き、実行して、結果を確認することができれば、説明に使われたサンプルコードを実行して結果を確かめるために、手元のコンピュータで環境構築を行う必要がなくなります。 \n",
        "\n",
        "本章ではまず、この **Google Colaboratory** というサービスの利用方法を説明します。"
      ]
    },
    {
      "metadata": {
        "colab_type": "text",
        "id": "TK3cXCQuBlpm"
      },
      "cell_type": "markdown",
      "source": [
        "## 必要なもの\n",
        "\n",
        "- Google アカウント（お持ちでない場合は、こちらからお作りください：[Google アカウントの作成](https://accounts.google.com/signup)）\n",
        "- ウェブブラウザ（ Google Colaboratory はほとんどの主要なブラウザで動作します。PC 版の Chrome と Firefox では動作が検証されています。）"
      ]
    },
    {
      "metadata": {
        "colab_type": "text",
        "id": "D3QflLv0qdiy"
      },
      "cell_type": "markdown",
      "source": [
        "## Google Colaboratory の基本\n",
        "\n",
        "Google Colaboratory（以下 Colab ）は、クラウド上で [Jupyter Notebook](https://jupyter.org/)  環境を提供する Google のウェブサービスです。Jupyter Notebook はブラウザ上で主に以下のようなことが可能なオープンソースのウェブアプリケーションであり、データ分析の現場や研究、教育などで広く用いられています。\n",
        "\n",
        "- プログラムを実行し、その結果の確認\n",
        "- Markdown と呼ばれる文章を記述するためのマークアップ言語を使ってメモや解説などの記述の追加\n",
        "\n",
        "Colab では無料で GPU も使用することができますが、そのランタイムは**最大 12 時間**で消えてしまうため、長時間を要する処理などは別途環境を用意する必要があります。\n",
        "学びはじめのうちは、数分から数時間程度で終わる処理がほとんどであるため、気にする必要はありませんが、本格的に使っていく場合は有料のクラウドサービスを利用するなどして、環境を整えるようにしましょう。\n",
        "\n",
        "以降では、その基本的な使い方を説明します。"
      ]
    },
    {
      "metadata": {
        "colab_type": "text",
        "id": "SNVvaFdwBlpn"
      },
      "cell_type": "markdown",
      "source": [
        "### Colab を開く\n",
        "\n",
        "まずは以下のURLにアクセスして、ブラウザで Colab を開いてください。\n",
        "[https://colab.research.google.com/](https://colab.research.google.com/)\n",
        "\n",
        "「Colaboratory へようこそ」というタイトルの Jupyter Notebook が表示されます。\n",
        "\n",
        "次に、タイトルの下にある 「ファイル」 から、「Python 3 の新しいノートブック」 を選択し、まっさらな Jupyter Notebook を作成しましょう。\n",
        "\n",
        "![create_new_Python3_notebook](images/01/01_create_new_notebook.png)\n",
        "\n",
        "Google アカウントにまだログインしていなかった場合は、以下のようなメッセージが表示されます。\n",
        "\n",
        "![please_login](images/01/01_02.png)\n",
        "\n",
        "その場合は、「ログイン」 をクリックして、Google アカウントでログインしてください。\n",
        "\n",
        "ログインが完了すると、以下のような画面が表示され、準備完了です。\n",
        "もうすでに Python を使ったプログラミングを開始する準備が整っています。\n",
        "\n",
        "![new_python3_notebook](images/01/01_03.png)"
      ]
    },
    {
      "metadata": {
        "colab_type": "text",
        "id": "SWEJAKWMBlpo"
      },
      "cell_type": "markdown",
      "source": [
        "### Open in Colab ボタン\n",
        "\n",
        "このチュートリアルの一部の章には、`Open in Colab` と書かれた以下のようなボタンがページ上部に設置されています。\n",
        "\n",
        "[![open in colab](https://colab.research.google.com/assets/colab-badge.svg)](https://colab.research.google.com/github/chainer/tutorials/blob/master/ja/01_Welcome_to_Chainer_Tutorial_ja.ipynb)\n",
        "\n",
        "このボタンを押すと、ブラウザで見ている資料が、Google Colaboratory 上で  Jupyter Notebook として開かれます。\n",
        "すると、チュートリアルの中で説明に用いられているコードを、**実際に実行して結果を確認することができます。**\n",
        "\n",
        "それでは、早速上のボタンか、このページの上部に配置されている `Open in Colab` ボタンを押して、このページを Colab で開いてください。  \n",
        "すると、`Playground モード` という編集不可な状態でノートブックが Colab 上で開かれます。\n",
        "そこで、下図の位置にある `ドライブにコピー` というボタンを押して、自分の Google Drive 上にこのノートブックをコピーしてください。\n",
        "このボタンを押すと、コピーされたノートブックが自動的に開き、以降は内容に編集を加えたり、コードを実行したりすることができます。\n",
        "\n",
        "![copy_to_mydrive.png](images/01/01_04.png)\n",
        "\n",
        "この\n",
        "\n",
        "1. `Open in Colab` から Colab へ移動\n",
        "2. 自分のドライブへノートブックをコピーする\n",
        "3. コードを実行しながら解説を読んでいく\n",
        "\n",
        "という手順が、本チュートリアルサイトのおすすめの利用方法です。"
      ]
    },
    {
      "metadata": {
        "colab_type": "text",
        "id": "k4ak2UP9Blpp"
      },
      "cell_type": "markdown",
      "source": [
        "## Colab の基本的な使い方\n",
        "\n",
        "Colab 上の Jupyter Notebook を以降、単に**ノートブック**と呼びます。  \n",
        "\n",
        "ノートブックは、複数の**セル**と呼ばれるブロックを持つことができます。\n",
        "新しいノートブックを作った直後では、何も書かれていないセルが一つだけ存在している状態になっています。\n",
        "セルの内側のどこかをクリックすると、そのセルを選択することができます。\n",
        "\n",
        "セルには、**コードセル**と**テキストセル**の 2 種類があります。\n",
        "**コードセル** は Python のコードを書き込み、実行するためのセルであり、**テキストセル**は、Markdown 形式で文章を書くためのセルです。\n",
        "\n",
        "それぞれのセルタイプについてもう少し詳しく説明をします。"
      ]
    },
    {
      "metadata": {
        "colab_type": "text",
        "id": "9hYkVljaBlpq"
      },
      "cell_type": "markdown",
      "source": [
        "### コードセル\n",
        "\n",
        "コードセルは、Python のコードを書き込み、実行することができるセルです。\n",
        "実行するには、コードセルを選択した状態で、`Ctrl + Enter` または `Shift + Enter` を押します。\n",
        "試しに、下のセルを選択して、`Ctrl + Enter` を押してみてください。"
      ]
    },
    {
      "metadata": {
        "colab_type": "code",
        "id": "EaOJalpbBlpr",
        "outputId": "40291477-aa22-4151-da78-d2ae6d2eb627",
        "colab": {
          "base_uri": "https://localhost:8080/",
          "height": 35
        }
      },
      "cell_type": "code",
      "source": [
        "print('Hello world!')"
      ],
      "execution_count": 0,
      "outputs": [
        {
          "output_type": "stream",
          "text": [
            "Hello world!\n"
          ],
          "name": "stdout"
        }
      ]
    },
    {
      "metadata": {
        "colab_type": "text",
        "id": "8QsnHDylXQrb"
      },
      "cell_type": "markdown",
      "source": [
        "すぐ下に、Hello world! という文字列が表示されました。\n",
        "上のセルに書き込まれているのは Python のコードで、与えられた文字列を表示する関数である `print()` に、`'Hello world!'` という文字列を渡しています。\n",
        "これを今実行したため、その結果が下に表示されています。\n",
        "\n",
        "プログラミング言語の Python については、次の章でより詳しく解説します。"
      ]
    },
    {
      "metadata": {
        "colab_type": "text",
        "id": "f7vtQ2SmBlpx"
      },
      "cell_type": "markdown",
      "source": [
        "### テキストセル\n",
        "\n",
        "テキストセルでは、Markdown 形式で記述された文章を扱います。\n",
        "試しに、このセルを**ダブルクリック**してみてください。\n",
        "テキストセルが編集モードになり、Markdown 形式で文章を装飾するための、先程までは表示されていなかった記号が見えるようになります。\n",
        "\n",
        "その状態で `Shift + Enter` を押してみましょう。  \n",
        "\n",
        "もとのレンダリングされた文章の表示に戻ります。"
      ]
    },
    {
      "metadata": {
        "colab_type": "text",
        "id": "wEwqOW9bBlpy"
      },
      "cell_type": "markdown",
      "source": [
        "### Colab から Google Drive を使う\n",
        "\n",
        "Google Drive というオンラインストレージサービスを Colab で開いたノートブックから利用することができます。\n",
        "ノートブック中でコードを実行して作成したファイルなどを保存したり、逆に Google Drive 上に保存されているデータを読み込んだりすることができます。\n",
        "\n",
        "Colab 上のノートブックから Google Drive を使うには、Colab 専用のツールを使って、`/content/drive` というパスに現在ログイン中の Google アカウントが持っている Google Drive のスペースをマウントします。"
      ]
    },
    {
      "metadata": {
        "colab_type": "code",
        "id": "TI3-V_gN3Ekr",
        "colab": {}
      },
      "cell_type": "code",
      "source": [
        "from google.colab import drive\n",
        "drive.mount('/content/drive')"
      ],
      "execution_count": 0,
      "outputs": []
    },
    {
      "metadata": {
        "colab_type": "text",
        "id": "zllU5vanBlp2"
      },
      "cell_type": "markdown",
      "source": [
        "このノートブックを Colab で開いてから初めて上のコードセルを実行した場合は、以下のようなメッセージが表示されます。\n",
        "\n",
        "![please_authorize.png](images/01/01_05.png)\n",
        "\n",
        "指示に従って表示されているURLへアクセスしてください。\n",
        "すると、「アカウントの選択」と書かれたページに飛び、すでにログイン済みの場合はログイン中の Google アカウントのアイコンやメールアドレスが表示されています。\n",
        "利用したいアカウントをクリックして、次に進んで下さい。\n",
        "すると次に、`Google Drive File Stream が Google アカウントへのアクセスをリクエストしています` と書かれたページに飛びます。\n",
        "\n",
        "![access_request.png](images/01/01_06.png)\n",
        "\n",
        "右下に「許可」と書かれたボタンが見えます。\n",
        "こちらをクリックしてください。\n",
        "すると以下のように認証コードが記載されたページへ移動します。\n",
        "\n",
        "![access_code.png](images/01/01_07.png)\n",
        "\n",
        "（この画像では認証コード部分をぼかしています）\n",
        "このコードを選択してコピーするか、右側にあるアイコンをクリックしてコピーしてください。\n",
        "\n",
        "元のノートブックへ戻り、`Enter your authorization code:` というメッセージの下にある空欄に、先程コピーした認証コードを貼り付けて、Enter キーを押してください。\n",
        "\n",
        "**Mounted at /content/drive** と表示されたら、準備は完了です。\n",
        "\n",
        "以下のセルを実行して、自分の Google Drive が Colab からアクセス可能になっていることを確認してください。"
      ]
    },
    {
      "metadata": {
        "colab_type": "code",
        "id": "osShvuIQ3GFy",
        "outputId": "e244c570-af51-4af8-a9f1-5a68da0fa41b",
        "colab": {
          "base_uri": "https://localhost:8080/",
          "height": 35
        }
      },
      "cell_type": "code",
      "source": [
        "# 'My Drive'の表記が出ていればマウントがうまく行われています。\n",
        "!ls 'drive/'"
      ],
      "execution_count": 0,
      "outputs": [
        {
          "output_type": "stream",
          "text": [
            "'My Drive'\n"
          ],
          "name": "stdout"
        }
      ]
    },
    {
      "metadata": {
        "id": "DbvFPwpova8M",
        "colab_type": "text"
      },
      "cell_type": "markdown",
      "source": [
        "上のセルで実行しているのは、Python のコードではありません。\n",
        "Jupyter Notebook ではコードセル中で `!` が先頭に付いている行はシェルスクリプトと解釈されます。"
      ]
    },
    {
      "metadata": {
        "colab_type": "text",
        "id": "jZNTuBQ54BSu"
      },
      "cell_type": "markdown",
      "source": [
        "### Colab の便利なショートカット\n",
        "\n",
        "Colab を使用中に、セルのタイプの変更やセルの複製・追加などの操作をする場合は、メニューから該当する項目を選ぶ方法以外に、キーボードショートカットを利用する方法もあります。\n",
        "\n",
        "下記によく使う**ショートカットキー**をまとめておきます。\n",
        "多くのショートカットキーは**二段階**になっており、まず `Ctrl + M` を押してから、それぞれの機能によって異なるコマンドを入力する形になっています。\n",
        "\n",
        "| 説明                 | コマンド      |\n",
        "| -------------------- | ------------- |\n",
        "| Markdownモードへ変更 | Ctrl + M → M |\n",
        "| Codeモードへ変更     | Ctrl + M → Y |\n",
        "| セルの実行           | Shift + Enter |\n",
        "| セルを上に追加       | Ctrl + M → A |\n",
        "| セルを下に追加       | Ctrl + M → B |\n",
        "| セルのコピー         | Ctrl + M → C |\n",
        "| セルの貼り付け       | Ctrl + M → V |\n",
        "| セルの消去           | Ctrl + M → D |\n",
        "| コメントアウト       | Ctrl + /      |\n",
        "\n",
        "コメントアウトとは、コード中で実行時に無視したい行やコメントを選択した状態で行う操作です。\n",
        "Python では、`#` の後に続く文字列は全て、コメントとして無視され、実行時に評価されることはありません。"
      ]
    },
    {
      "metadata": {
        "id": "44vOyaBKEk3m",
        "colab_type": "text"
      },
      "cell_type": "markdown",
      "source": [
        "###  GPU を使用する\n",
        "\n",
        "Colab では GPU を無料で使用することができます。\n",
        "初期設定では GPU を使用しない設定となっているため、GPU を使用する場合は設定を変更する必要があります。\n",
        "\n",
        "GPU を使用する場合は、画面上部のタブの中の 「Runtime」 (または「ランタイム」) をクリックし、「Change runtime type」 (または「ランタイムのタイプを変更」)を選択します。  \n",
        "\n",
        "そして、下記の画像の様に 「Hardware accelerator」  (または「ハードウェアアクセラレータ」)を GPU に変更します。  \n",
        "\n",
        "![GPUの設定](images/01/01_08.png)\n",
        "\n",
        "これで Colab 上で GPU を使用できるようになりました。\n",
        "\n"
      ]
    },
    {
      "metadata": {
        "id": "QoQHVO6rva8O",
        "colab_type": "text"
      },
      "cell_type": "markdown",
      "source": [
        "これで、チュートリアルの本編に入っていく準備が完了しました。次の章では、Python というプログラミング言語の基本について解説します。"
      ]
    }
  ]
}