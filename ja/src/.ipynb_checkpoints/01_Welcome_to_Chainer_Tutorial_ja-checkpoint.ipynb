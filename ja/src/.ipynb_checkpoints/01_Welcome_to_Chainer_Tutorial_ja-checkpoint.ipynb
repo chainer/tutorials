{
 "cells": [
  {
   "cell_type": "markdown",
   "metadata": {
    "colab_type": "text",
    "id": "_CMW13uMBlpk"
   },
   "source": [
    "# このチュートリアルについて\n",
    "\n",
    "Chainer チュートリアルへようこそ。 \n",
    "\n",
    "このチュートリアルは、機械学習やディープラーニングに興味があり、その仕組みや使い方を理解したいと考えている**大学学部生**以上の方に向けて多数の有志によって書かれたオンライン学習資料です。\n",
    "\n",
    "機械学習の勉強を進めるために必要な数学の知識から、Python というプログラミング言語を用いたコーディングの基本、機械学習・ディープラーニングの基礎的な理論、画像認識や自然言語処理などに機械学習を応用する方法に至るまで、幅広いトピックを解説しています。\n",
    "\n",
    "機械学習を学び始めようとすると、ある程度、線形代数や確率統計といった数学の知識から、何らかのプログラミング言語が使えることなどが必要となってきます。\n",
    "しかし、そういった数学やプログラミングの全てに極めて深く習熟していなければ機械学習について学び始められないかというと、必ずしもそうではありません。\n",
    "\n",
    "本チュートリアルでは、機械学習やディープラーニングに興味を持った方が、まず必要になる最低限の数学とプログラミングの知識から学び始められるように、資料を充実させています。\n",
    "\n",
    "そのため、できる限りこのサイト以外の教科書や資料を探さなくても、**このサイトだけで機械学習・ディープラーニングに入門できる**ことを目指して、作られています。初学者の方が「何から学び始めればいいのか」と迷うことなく学習を始められることを目指したサイトです。\n",
    "\n",
    "また、本チュートリアルの特徴として、資料の中に登場するコードが、Google Colaboratory というサービスを利用することで**そのままブラウザ上で実行できるようになっている**という点があります。\n",
    "\n",
    "ブラウザだけでコードを書き、実行して、結果を確認することができれば、説明に使われたサンプルコードを実行して結果を確かめるために、手元のコンピュータで環境構築を行う必要がなくなります。 \n",
    "\n",
    "本章ではまず、この **Google Colaboratory** というサービスの利用方法を説明します。"
   ]
  },
  {
   "cell_type": "markdown",
   "metadata": {
    "colab_type": "text",
    "id": "TK3cXCQuBlpm"
   },
   "source": [
    "## 必要なもの\n",
    "\n",
    "- Google アカウント（お持ちでない場合は、こちらからお作りください：[Google アカウントの作成](https://accounts.google.com/signup)）\n",
    "- ウェブブラウザ（ Google Colaboratory はほとんどの主要なブラウザで動作します。PC 版の Chrome と Firefox では動作が検証されています。）"
   ]
  },
  {
   "cell_type": "markdown",
   "metadata": {
    "colab_type": "text",
    "id": "D3QflLv0qdiy"
   },
   "source": [
    "## Google Colaboratory の基本\n",
    "\n",
    "Google Colaboratory（以下 Colab ）は、[Jupyter Notebook](https://jupyter.org/) というブラウザ上でコードを書き、その場で実行結果を確認したり、Markdown と呼ばれる文書を記述するためのマークアップ言語を使ってメモや解説などを書くことができ、LaTeX 形式の数式もきれいにレンダリングして表示することができる、オープンソースのウェブアプリケーションです。\n",
    "\n",
    "データ分析の現場や研究、教育などで広く用いられています。\n",
    "Colab は Jupyter Notebook をセットアップ不要で利用できるようにした Google のウェブサービスです。\n",
    "本節では、その基本的な使い方を説明します。"
   ]
  },
  {
   "cell_type": "markdown",
   "metadata": {
    "colab_type": "text",
    "id": "SNVvaFdwBlpn"
   },
   "source": [
    "### Colab を開く\n",
    "\n",
    "まずは以下のURLにアクセスして、ブラウザで Colab を開いてください。\n",
    "[https://colab.research.google.com/](https://colab.research.google.com/)\n",
    "\n",
    "「Colaboratory へようこそ」というタイトルの Jupyter Notebook が表示されます。\n",
    "\n",
    "次に、タイトルの下にある `ファイル` から、`Python 3 の新しいノートブック` を選択し、まっさらな Jupyter Notebook を作成しましょう。\n",
    "\n",
    "![create_new_Python3_notebook.png](images/01/create_new_notebook.png)\n",
    "\n",
    "Google アカウントにまだログインしていなかった場合は、以下のようなメッセージが表示されます。\n",
    "\n",
    "![please_login.png](images/01/01_02.png)\n",
    "\n",
    "その場合は、`ログイン` をクリックして、Google アカウントでログインしてください。\n",
    "\n",
    "ログインが完了すると、以下のような画面が表示され、準備完了です。\n",
    "もうすでに Python を使ったプログラミングを開始する準備が整っています。\n",
    "\n",
    "![new_python3_notebook.png](images/01/01_03.png)"
   ]
  },
  {
   "cell_type": "markdown",
   "metadata": {
    "colab_type": "text",
    "id": "SWEJAKWMBlpo"
   },
   "source": [
    "### Open in Colab ボタン\n",
    "\n",
    "このチュートリアルの一部の章には、`Open in Colab` と書かれた以下のようなボタンがページ上部に設置されています。\n",
    "\n",
    "[![open in colab](https://colab.research.google.com/assets/colab-badge.svg)](https://colab.research.google.com/github/chainer/tutorials/blob/master/ja/01_Welcome_to_Chainer_Tutorial_ja.ipynb)\n",
    "\n",
    "このボタンを押すと、ブラウザで見ている資料が、Google Colaboratory 上で  Jupyter Notebook として開かれます。\n",
    "すると、チュートリアルの中で説明に用いられているコードを、**実際に実行して結果を確認することができます。**\n",
    "\n",
    "それでは、早速上のボタンか、このページの上部に配置されている `Open in Colab` ボタンを押して、このページを Colab で開いてください。  \n",
    "すると、`Playground モード` という編集不可な状態でノートブックが Colab 上で開かれます。\n",
    "そこで、下図の位置にある `ドライブにコピー` というボタンを押して、自分の Google Drive 上にこのノートブックをコピーしてください。\n",
    "このボタンを押すと、コピーされたノートブックが自動的に開き、以降は内容に編集を加えたり、コードを実行したりすることができます。\n",
    "\n",
    "![copy_to_mydrive.png](images/01/01_04.png)\n",
    "\n",
    "この\n",
    "\n",
    "1. `Open in Colab` から Colab へ移動\n",
    "2. 自分のドライブへノートブックをコピーする\n",
    "3. コードを実行しながら解説を読んでいく\n",
    "\n",
    "という手順が、本チュートリアルサイトのおすすめの利用方法です。"
   ]
  },
  {
   "cell_type": "markdown",
   "metadata": {
    "colab_type": "text",
    "id": "k4ak2UP9Blpp"
   },
   "source": [
    "## Colab の基本的な使い方\n",
    "\n",
    "Colab 上の Jupyter Notebook を以降、単に**ノートブック**と呼びます。  \n",
    "\n",
    "ノートブックは、複数の**セル**と呼ばれるブロックを持つことができます。\n",
    "新しいノートブックを作った直後では、何も書かれていないセルが一つだけ存在している状態になっています。\n",
    "セルの内側のどこかをクリックすると、そのセルを選択することができます。\n",
    "\n",
    "セルには、**コードセル**と**テキストセル**の 2 種類があります。\n",
    "**コードセル** は Python のコードを書き込み、実行するためのセルであり、**テキストセル**は、Markdown 形式で文書を書くためのセルです。\n",
    "\n",
    "それぞれのセルタイプについてもう少し詳しく説明をします。"
   ]
  },
  {
   "cell_type": "markdown",
   "metadata": {
    "colab_type": "text",
    "id": "9hYkVljaBlpq"
   },
   "source": [
    "### コードセル\n",
    "\n",
    "コードセルは、Python のコードを書き入れ、実行することができるセルです。\n",
    "実行するには、コードセルを選択した状態で、`Ctrl + Enter` または `Shift + Enter` を押します。\n",
    "試しに、下のセルを選択して、`Ctrl + Enter` を押してみてください。"
   ]
  },
  {
   "cell_type": "code",
   "execution_count": 1,
   "metadata": {
    "colab": {
     "base_uri": "https://localhost:8080/",
     "height": 35
    },
    "colab_type": "code",
    "id": "EaOJalpbBlpr",
    "outputId": "352a3cd7-2d65-4216-9e10-eb06f1d99222"
   },
   "outputs": [
    {
     "name": "stdout",
     "output_type": "stream",
     "text": [
      "Hello world! \n"
     ]
    }
   ],
   "source": [
    "print('Hello world! ')"
   ]
  },
  {
   "cell_type": "markdown",
   "metadata": {
    "colab_type": "text",
    "id": "8QsnHDylXQrb"
   },
   "source": [
    "すぐ下に、Hello world! という文字列が表示されました。\n",
    "上のセルに書き込まれているのは Python のコードで、与えられた文字列を表示する関数である `print()` に、`'Hello world!` という文字列を渡しています。\n",
    "これを今実行したため、その結果が下に表示されています。\n",
    "\n",
    "プログラミング言語の Python については、次の章でより詳しく解説します。"
   ]
  },
  {
   "cell_type": "markdown",
   "metadata": {
    "colab_type": "text",
    "id": "f7vtQ2SmBlpx"
   },
   "source": [
    "### テキストセル\n",
    "\n",
    "テキストセルでは、Markdown 形式で記述された文書を扱います。\n",
    "試しに、このセルを**ダブルクリック**してみてください。\n",
    "テキストセルが編集モードになり、Markdown 形式で文書を装飾するための、先程までは表示されていなかった記号が見えるようになります。\n",
    "\n",
    "その状態で `Shift + Enter` を押してみましょう。  \n",
    "\n",
    "もとのレンダリングされた文書の表示に戻ります。"
   ]
  },
  {
   "cell_type": "markdown",
   "metadata": {
    "colab_type": "text",
    "id": "wEwqOW9bBlpy"
   },
   "source": [
    "### Colab から Google Drive を使う\n",
    "\n",
    "Google Drive というオンラインストレージサービスを Colab で開いたノートブックから利用することができます。\n",
    "ノートブック中でコードを実行して作成したファイルなどを保存したり、逆に Google Drive 上に保存されているデータを読み込んだりすることができます。\n",
    "\n",
    "Colab 上のノートブックから Google Drive を使うには、Colab 専用のツールを使って、`/content/drive` というパスに現在ログイン中の Google アカウントが持っている Google Drive のスペースをマウントします。"
   ]
  },
  {
   "cell_type": "code",
   "execution_count": 2,
   "metadata": {
    "colab": {
     "base_uri": "https://localhost:8080/",
     "height": 128
    },
    "colab_type": "code",
    "id": "TI3-V_gN3Ekr",
    "outputId": "b1e93d11-2e0d-45a5-bba3-57cc098d2d4e"
   },
   "outputs": [
    {
     "name": "stdout",
     "output_type": "stream",
     "text": [
      "Go to this URL in a browser: https://accounts.google.com/o/oauth2/auth?client_id=947318989803-6bn6qk8qdgf4n4g3pfee6491hc0brc4i.apps.googleusercontent.com&redirect_uri=urn%3Aietf%3Awg%3Aoauth%3A2.0%3Aoob&scope=email%20https%3A%2F%2Fwww.googleapis.com%2Fauth%2Fdocs.test%20https%3A%2F%2Fwww.googleapis.com%2Fauth%2Fdrive%20https%3A%2F%2Fwww.googleapis.com%2Fauth%2Fdrive.photos.readonly%20https%3A%2F%2Fwww.googleapis.com%2Fauth%2Fpeopleapi.readonly&response_type=code\n",
      "\n",
      "Enter your authorization code:\n",
      "··········\n",
      "Mounted at /content/drive\n"
     ]
    }
   ],
   "source": [
    "from google.colab import drive\n",
    "drive.mount('/content/drive')"
   ]
  },
  {
   "cell_type": "markdown",
   "metadata": {
    "colab_type": "text",
    "id": "zllU5vanBlp2"
   },
   "source": [
    "このノートブックを Colab で開いてから初めて上のコードセルを実行した場合は、以下のようなメッセージが表示されます。\n",
    "\n",
    "![please_authorize.png](images/01/01_05.png)\n",
    "\n",
    "指示に従って表示されているURLへアクセスしてください。\n",
    "すると、「アカウントの選択」と書かれたページに飛び、すでにログイン済みの場合はログイン中の Google アカウントのアイコンやメールアドレスが表示されています。\n",
    "利用したいアカウントをクリックして、次に進んで下さい。\n",
    "すると次に、`Google Drive File Stream が Google アカウントへのアクセスをリクエストしています` と書かれたページに飛びます。\n",
    "\n",
    "![access_request.png](images/01/01_06.png)\n",
    "\n",
    "右下に「許可」と書かれたボタンが見えます。\n",
    "こちらをクリックしてください。\n",
    "すると以下のように authorization code が記載されたページへ移動します。\n",
    "\n",
    "![access_code.png](images/01/01_07.png)\n",
    "\n",
    "（この画像では authorization code 部分をぼかしています）\n",
    "このコードを選択してコピーするか、右側にあるアイコンをクリックしてコピーしてください。\n",
    "\n",
    "元のノートブックへ戻り、`Enter your authorization code:` というメッセージの下にある空欄に、先程コピーした authorization code を貼り付けて、Enter キーを押してください。\n",
    "\n",
    "**Mounted at /content/drive** と表示されたら、準備は完了です。\n",
    "\n",
    "以下のセルを実行して、自分の Google Drive が Colab からアクセス可能になっていることを確認してください。"
   ]
  },
  {
   "cell_type": "code",
   "execution_count": 3,
   "metadata": {
    "colab": {
     "base_uri": "https://localhost:8080/",
     "height": 35
    },
    "colab_type": "code",
    "id": "osShvuIQ3GFy",
    "outputId": "b732311c-28ff-4d9e-810a-acb3fe705a52"
   },
   "outputs": [
    {
     "name": "stdout",
     "output_type": "stream",
     "text": [
      "'My Drive'\n"
     ]
    }
   ],
   "source": [
    "# 'My Drive'の表記が出ていればマウントがうまく行われています。\n",
    "!ls 'drive/'"
   ]
  },
  {
   "cell_type": "markdown",
   "metadata": {},
   "source": [
    "上のセルで実行しているのは、Python のコードではありません。\n",
    "Jupyter Notebook ではコードセル中で `!` が先頭に付いている行はシェルスクリプトと解釈されます。"
   ]
  },
  {
   "cell_type": "markdown",
   "metadata": {
    "colab_type": "text",
    "id": "jZNTuBQ54BSu"
   },
   "source": [
    "### Colab の便利なショートカット\n",
    "\n",
    "Colab を使用中に、セルのタイプの変更やセルの複製・追加などの操作をする場合は、メニューから該当する項目を選ぶ方法以外に、キーボードショートカットを利用する方法もあります。\n",
    "\n",
    "下記によく使う**ショートカットキー**をまとめておきます。\n",
    "多くのショートカットキーは**二段階**になっており、まず `Ctrl + m` を押してから、それぞれの機能によって異なるコマンドを入力する形になっています。\n",
    "\n",
    "| 説明                 | コマンド      |\n",
    "| -------------------- | ------------- |\n",
    "| Markdownモードへ変更 | Ctrl + m → m |\n",
    "| Codeモードへ変更     | Ctrl + m → y |\n",
    "| セルの実行           | shift + enter |\n",
    "| セルを上に追加       | Ctrl + m → a |\n",
    "| セルを下に追加       | Ctrl + m → b |\n",
    "| セルのコピー         | Ctrl + m → c |\n",
    "| セルの貼り付け       | Ctrl + m → v |\n",
    "| セルの消去           | Ctrl + m → d |\n",
    "| コメントアウト       | Ctrl + /      |\n",
    "\n",
    "コメントアウトとは、コード中で実行時に無視したい行やコメントを選択した状態で行う操作です。\n",
    "Python では、`#` の後に続く文字列は全て、コメントとして無視され、実行時に評価されることはありません。"
   ]
  },
  {
   "cell_type": "markdown",
   "metadata": {},
   "source": [
    "これで、チュートリアルの本編に入っていく準備が完了しました。次の章では、Python というプログラミング言語の基本について解説します。"
   ]
  }
 ],
 "metadata": {
  "colab": {
   "collapsed_sections": [],
   "name": "01_Welcome_to_Chainer_Tutorial_ja.ipynb",
   "provenance": [],
   "version": "0.3.2"
  },
  "kernelspec": {
   "display_name": "Python 3",
   "language": "python",
   "name": "python3"
  },
  "language_info": {
   "codemirror_mode": {
    "name": "ipython",
    "version": 3
   },
   "file_extension": ".py",
   "mimetype": "text/x-python",
   "name": "python",
   "nbconvert_exporter": "python",
   "pygments_lexer": "ipython3",
   "version": "3.6.8"
  },
  "toc": {
   "base_numbering": 1,
   "nav_menu": {},
   "number_sections": true,
   "sideBar": true,
   "skip_h1_title": false,
   "title_cell": "Table of Contents",
   "title_sidebar": "Contents",
   "toc_cell": false,
   "toc_position": {},
   "toc_section_display": true,
   "toc_window_display": false
  }
 },
 "nbformat": 4,
 "nbformat_minor": 1
}
