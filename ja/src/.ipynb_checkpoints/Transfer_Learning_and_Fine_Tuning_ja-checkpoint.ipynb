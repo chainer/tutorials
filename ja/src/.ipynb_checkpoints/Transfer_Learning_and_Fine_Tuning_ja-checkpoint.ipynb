{
 "cells": [
  {
   "cell_type": "markdown",
   "metadata": {
    "colab_type": "text",
    "id": "7SnBhGPFEnW7"
   },
   "source": [
    "# 転移学習・FineTuning\n",
    "\n",
    "本章では前回取り扱った犬猫の分類問題に対していかに精度を向上できるのかをみていきます。  \n",
    "\n",
    "今回お伝えする方法は下記の2点になります。\n",
    "\n",
    "- 転移学習とファインチューニング\n",
    "- データオーギュメンテーション（データ拡張）\n",
    "\n",
    "また、ChainerではComputer Vision（画像認識）に特化したライブラリである `ChainerCV` と呼ばれるものが準備されています。  \n",
    "そのChainerCVの使用方法も確認します。  \n",
    "\n",
    "\n",
    "## 転移学習とファインチューニング\n",
    "\n",
    "ディープラーニングで精度向上のために最もよく用いられる方法のひとつが転移学習（Transfer learning）とファインチューニング（Fine tuning）です。  \n",
    "\n",
    "これらの手法はモデルを一から構築し、毎度学習させるのではなく、  \n",
    "既存の優秀なモデルから **構造** と **パラメータ** を引き継ぎ学習させるというものです。  \n",
    "\n",
    "両方とも意味合いはとても似ていて、かつ混同して使われるケースが多いですが、厳密には異なるものを示します。  \n",
    "両方の違いを簡単にまとめると以下のようになります。  \n",
    "\n",
    "\n",
    "- 転移学習：既存の学習済モデルを、重みデータは変更せずに特徴量抽出機として利用する。\n",
    "\n",
    "- ファインチューニング：既存の学習済モデルを、重みデータを一部再学習して特徴量抽出機として利用する。\n",
    "\n",
    "画像の領域では主に[ImageNet](http://www.image-net.org/)と呼ばれるコンペティションで優秀な成績を納めたモデルが使用されます。\n",
    "\n",
    "\n",
    "#### 代表的なモデル\n",
    "\n",
    "代表的なモデルには下記が挙げられます。\n",
    "\n",
    "- VGG16（2014）\n",
    "- Google Net（2014）\n",
    "- ResNet（2015）\n",
    "\n",
    "ResNetが最も精度の良いモデルと呼ばれていますが、ネットワークの構造が複雑で重いモデルです。今回は学習に時間がかかる可能性があるため、VGG16を使用しての実装方法についてお伝えします。  \n",
    "\n",
    "その他のモデルの転移学習、ファインチューニングについては下記の公式ドキュメントを確認してください。  \n",
    "\n",
    "- [Google Net](https://docs.chainer.org/en/stable/reference/generated/chainer.links.GoogLeNet.html)\n",
    "- [ResNet152Layers](https://docs.chainer.org/en/stable/reference/generated/chainer.links.ResNet152Layers.html#chainer.links.ResNet152Layers)\n",
    "- [学習済みモデル一覧](https://docs.chainer.org/en/stable/reference/links.html#pre-trained-models)\n",
    "\n",
    "\n",
    "#### VGG16のモデル\n",
    "\n",
    "VGG16が着目を集めた１つの理由として、その構造の規則性にあります。  \n",
    "\n",
    "実際にどのようなものか確認します。   \n",
    "\n",
    "![VGG16構造](images/13/01.png)\n",
    "\n",
    "このようにVGG16ではチャネル数が64→128→256とある規則を持ちながら増えていきます。  \n",
    "また、 `pooling` のフィルタのサイズは常に3で固定されています。  \n",
    "\n",
    "このようにただコンペティションに勝つためだけに作られたのモデルではなく、汎用性が高いモデルになっているのが注目を集めたポイントの1つとなっています。  \n",
    "\n",
    "詳細については[公式のドキュメント](https://docs.chainer.org/en/stable/reference/generated/chainer.links.VGG16Layers.html#chainer.links.VGG16Layers)を確認してください。\n",
    "\n",
    "早速実装に入りますが、まずは画像の準備をします。\n"
   ]
  },
  {
   "cell_type": "markdown",
   "metadata": {
    "colab_type": "text",
    "id": "lJssXFp8EnXK"
   },
   "source": [
    "### GoogleDriveディレクトリのマウント\n",
    "\n",
    "前回同様にGoogleDriveディレクトリのマウントを実行して自身のドライブと紐付けを行います。"
   ]
  },
  {
   "cell_type": "code",
   "execution_count": 2,
   "metadata": {
    "colab": {
     "base_uri": "https://localhost:8080/",
     "height": 54
    },
    "colab_type": "code",
    "id": "ryDxH2qEEnXK",
    "outputId": "f5130b5d-9fa6-4fbe-dee2-f855c9157040"
   },
   "outputs": [
    {
     "name": "stdout",
     "output_type": "stream",
     "text": [
      "Drive already mounted at /content/drive; to attempt to forcibly remount, call drive.mount(\"/content/drive\", force_remount=True).\n"
     ]
    }
   ],
   "source": [
    "from google.colab import drive\n",
    "drive.mount('/content/drive')"
   ]
  },
  {
   "cell_type": "markdown",
   "metadata": {
    "colab_type": "text",
    "id": "MLPWo417EnXN"
   },
   "source": [
    "認識されているかを確認を行います。"
   ]
  },
  {
   "cell_type": "code",
   "execution_count": 0,
   "metadata": {
    "colab": {
     "base_uri": "https://localhost:8080/",
     "height": 34
    },
    "colab_type": "code",
    "id": "Caoh3jfrEnXN",
    "outputId": "a9a3431a-92a3-4c8f-c82d-e1daade6a7b7"
   },
   "outputs": [
    {
     "name": "stdout",
     "output_type": "stream",
     "text": [
      "'My Drive'\n"
     ]
    }
   ],
   "source": [
    "!ls 'drive'"
   ]
  },
  {
   "cell_type": "markdown",
   "metadata": {
    "colab_type": "text",
    "id": "HBHBOe5ziidz"
   },
   "source": [
    "### 画像データの読み込みと前処理\n",
    "\n",
    "画像データを読み込み、ChainerおよびVGG16モデルに適した形に変換します。  \n",
    "そちらにはChainerが用意している `chainer.links.model.vision.vgg.prepare` という関数を使用すると簡単に行うことができます。  \n",
    "また、こちらの前処理は単にChainerの形に合わせるだけではなく、いくつかの特殊な前処理が施されています。  \n",
    "\n",
    "**VGG16の前処理**\n",
    "\n",
    "- channel, height, widthの順に並び替え\n",
    "- カラーのチャンネルの順番を (BGR) に変換\n",
    "- 各画素の値から平均値を引く（中心化）\n",
    "- 画像サイズを224×224に変換\n",
    "\n",
    "VGG16に限らず、ネットワークによって、最適な前処理を行う場合がほとんどです。  \n",
    "前処理についてはデータオーギュメンテーション（データ拡張）の章で詳細をお伝えします。  "
   ]
  },
  {
   "cell_type": "code",
   "execution_count": 0,
   "metadata": {
    "colab": {},
    "colab_type": "code",
    "id": "uUQECPz9iiX4"
   },
   "outputs": [],
   "source": [
    "from glob import glob"
   ]
  },
  {
   "cell_type": "code",
   "execution_count": 0,
   "metadata": {
    "colab": {},
    "colab_type": "code",
    "id": "X3l4-AJuYyak"
   },
   "outputs": [],
   "source": [
    "# ファイルパスの取得\n",
    "dog_filepaths = glob('drive/My Drive/Colab Notebooks/data/dog/*')\n",
    "cat_filepaths = glob('drive/My Drive/Colab Notebooks/data/cat/*')"
   ]
  },
  {
   "cell_type": "code",
   "execution_count": 0,
   "metadata": {
    "colab": {},
    "colab_type": "code",
    "id": "CxnHYzHKjh2Z"
   },
   "outputs": [],
   "source": [
    "import chainer\n",
    "import chainer.links as L\n",
    "import chainer.functions as F"
   ]
  },
  {
   "cell_type": "code",
   "execution_count": 0,
   "metadata": {
    "colab": {},
    "colab_type": "code",
    "id": "Sq037UuCkYtX"
   },
   "outputs": [],
   "source": [
    "import cv2"
   ]
  },
  {
   "cell_type": "markdown",
   "metadata": {},
   "source": [
    "`L.model.vision.vgg.prepare`を使用する際の注意点として、入力する画像は下記の要件を満たす必要があります。  \n",
    "\n",
    "- shape：Height, Width, Channelの順になっている\n",
    "- Channelの順番：RGBになっている\n",
    "\n",
    "今回Shapeは問題ありませんが、Channelの順番がBGRになっているためRGBに変換しておきます。  "
   ]
  },
  {
   "cell_type": "code",
   "execution_count": 0,
   "metadata": {
    "colab": {},
    "colab_type": "code",
    "id": "B1vJOAeCYyOK"
   },
   "outputs": [],
   "source": [
    "# 画像の読み込みとBGR→RGBに変換\n",
    "img = cv2.cvtColor(cv2.imread(dog_filepaths[0]), cv2.COLOR_BGR2RGB)"
   ]
  },
  {
   "cell_type": "code",
   "execution_count": 0,
   "metadata": {
    "colab": {},
    "colab_type": "code",
    "id": "kiaBYEDEmd_y"
   },
   "outputs": [],
   "source": [
    "# VGG16の前処理の適応\n",
    "img = L.model.vision.vgg.prepare(img)"
   ]
  },
  {
   "cell_type": "markdown",
   "metadata": {
    "colab_type": "text",
    "id": "rx3Gbg_VmlSQ"
   },
   "source": [
    "画像がどのように変換されているのか確認します。  \n",
    "Chainerの型に変換された画像データを簡単に表示するには `ChainerCV` を用います。  \n",
    "\n",
    "こちらはGoogle Colaboratoryでデフォルトで準備されていないため、 `pip` を使用してインストールを実行します。"
   ]
  },
  {
   "cell_type": "code",
   "execution_count": 9,
   "metadata": {
    "colab": {
     "base_uri": "https://localhost:8080/",
     "height": 190
    },
    "colab_type": "code",
    "id": "fNwNPH2xYyHA",
    "outputId": "1a088a10-9df8-4024-cfc3-ad1a42fdc92a"
   },
   "outputs": [
    {
     "name": "stdout",
     "output_type": "stream",
     "text": [
      "Requirement already satisfied: chainercv in /usr/local/lib/python3.6/dist-packages (0.11.0)\n",
      "Requirement already satisfied: Pillow in /usr/local/lib/python3.6/dist-packages (from chainercv) (4.0.0)\n",
      "Requirement already satisfied: chainer>=5.0 in /usr/local/lib/python3.6/dist-packages (from chainercv) (5.0.0)\n",
      "Requirement already satisfied: olefile in /usr/local/lib/python3.6/dist-packages (from Pillow->chainercv) (0.46)\n",
      "Requirement already satisfied: filelock in /usr/local/lib/python3.6/dist-packages (from chainer>=5.0->chainercv) (3.0.10)\n",
      "Requirement already satisfied: numpy>=1.9.0 in /usr/local/lib/python3.6/dist-packages (from chainer>=5.0->chainercv) (1.14.6)\n",
      "Requirement already satisfied: protobuf>=3.0.0 in /usr/local/lib/python3.6/dist-packages (from chainer>=5.0->chainercv) (3.6.1)\n",
      "Requirement already satisfied: six>=1.9.0 in /usr/local/lib/python3.6/dist-packages (from chainer>=5.0->chainercv) (1.11.0)\n",
      "Requirement already satisfied: setuptools in /usr/local/lib/python3.6/dist-packages (from protobuf>=3.0.0->chainer>=5.0->chainercv) (40.6.2)\n"
     ]
    }
   ],
   "source": [
    "!pip install chainercv"
   ]
  },
  {
   "cell_type": "code",
   "execution_count": 0,
   "metadata": {
    "colab": {},
    "colab_type": "code",
    "id": "2DJK2eyLYx-u"
   },
   "outputs": [],
   "source": [
    "import chainercv"
   ]
  },
  {
   "cell_type": "markdown",
   "metadata": {
    "colab_type": "text",
    "id": "gKHBcGdRnGy_"
   },
   "source": [
    "画像の表示には `chainercv.visualizations.vis_image()` というメソッドを使用します。"
   ]
  },
  {
   "cell_type": "code",
   "execution_count": 11,
   "metadata": {
    "colab": {
     "base_uri": "https://localhost:8080/",
     "height": 367
    },
    "colab_type": "code",
    "id": "F4wGXfxjk_77",
    "outputId": "6c7000fc-33cd-4b10-89fc-50ca22ba8974"
   },
   "outputs": [
    {
     "data": {
      "text/plain": [
       "<matplotlib.axes._subplots.AxesSubplot at 0x7fe7628c9400>"
      ]
     },
     "execution_count": 11,
     "metadata": {
      "tags": []
     },
     "output_type": "execute_result"
    },
    {
     "data": {
      "image/png": "[encoded data removed]",
      "text/plain": [
       "<matplotlib.figure.Figure at 0x7fe762938e48>"
      ]
     },
     "metadata": {
      "tags": []
     },
     "output_type": "display_data"
    }
   ],
   "source": [
    "# Chianer型に変換された画像を表示\n",
    "chainercv.visualizations.vis_image(img)"
   ]
  },
  {
   "cell_type": "markdown",
   "metadata": {
    "colab_type": "text",
    "id": "XP9Yp0OUlADp"
   },
   "source": [
    "画像全体から平均値が引かれているため、見た目は少し普通の画像とは異なりますが、  \n",
    "前処理が施されていることが確認できます。  "
   ]
  },
  {
   "cell_type": "code",
   "execution_count": 0,
   "metadata": {
    "colab": {
     "base_uri": "https://localhost:8080/",
     "height": 34
    },
    "colab_type": "code",
    "id": "t8rF5LspnpT1",
    "outputId": "f385309f-4573-4dc3-ccaf-a53b11a026fa"
   },
   "outputs": [
    {
     "data": {
      "text/plain": [
       "numpy.ndarray"
      ]
     },
     "execution_count": 12,
     "metadata": {
      "tags": []
     },
     "output_type": "execute_result"
    }
   ],
   "source": [
    "type(img)"
   ]
  },
  {
   "cell_type": "code",
   "execution_count": 0,
   "metadata": {
    "colab": {
     "base_uri": "https://localhost:8080/",
     "height": 34
    },
    "colab_type": "code",
    "id": "G4Slv8r3lAGH",
    "outputId": "1c455941-013c-4385-c94e-1f1ca8193748"
   },
   "outputs": [
    {
     "data": {
      "text/plain": [
       "dtype('float32')"
      ]
     },
     "execution_count": 13,
     "metadata": {
      "tags": []
     },
     "output_type": "execute_result"
    }
   ],
   "source": [
    "img.dtype"
   ]
  },
  {
   "cell_type": "code",
   "execution_count": 0,
   "metadata": {
    "colab": {
     "base_uri": "https://localhost:8080/",
     "height": 34
    },
    "colab_type": "code",
    "id": "k9vo8yRBlAIQ",
    "outputId": "c73767b3-2ee6-4e5d-a673-542343d95c26"
   },
   "outputs": [
    {
     "data": {
      "text/plain": [
       "(3, 224, 224)"
      ]
     },
     "execution_count": 14,
     "metadata": {
      "tags": []
     },
     "output_type": "execute_result"
    }
   ],
   "source": [
    "img.shape"
   ]
  },
  {
   "cell_type": "markdown",
   "metadata": {
    "colab_type": "text",
    "id": "pzkRGqlpnrbX"
   },
   "source": [
    "### データセットの作成\n",
    "\n",
    "` L.model.vision.vgg.prepare`の挙動を確認したところで、全ての画像に対して、処理を加えるプログラムを作成します。  "
   ]
  },
  {
   "cell_type": "code",
   "execution_count": 0,
   "metadata": {
    "colab": {},
    "colab_type": "code",
    "id": "1jUP7jFZnrVI"
   },
   "outputs": [],
   "source": [
    "_x, labels = [], []\n",
    "for dog_filepath in dog_filepaths:\n",
    "  img = cv2.cvtColor(cv2.imread(dog_filepath), cv2.COLOR_BGR2RGB)\n",
    "  img = L.model.vision.vgg.prepare(img)\n",
    "  _x.append(img)\n",
    "  labels.append(0)"
   ]
  },
  {
   "cell_type": "code",
   "execution_count": 0,
   "metadata": {
    "colab": {},
    "colab_type": "code",
    "id": "b1WyZ97DqWqR"
   },
   "outputs": [],
   "source": [
    "for cat_filepath in cat_filepaths:\n",
    "  img = cv2.cvtColor(cv2.imread(cat_filepath), cv2.COLOR_BGR2RGB)\n",
    "  img = L.model.vision.vgg.prepare(img)\n",
    "  _x.append(img)\n",
    "  labels.append(1)"
   ]
  },
  {
   "cell_type": "code",
   "execution_count": 0,
   "metadata": {
    "colab": {},
    "colab_type": "code",
    "id": "2L_B6Tw5qbE6"
   },
   "outputs": [],
   "source": [
    "import numpy as np"
   ]
  },
  {
   "cell_type": "code",
   "execution_count": 0,
   "metadata": {
    "colab": {},
    "colab_type": "code",
    "id": "kzLhUq1ZnrPi"
   },
   "outputs": [],
   "source": [
    "x = np.array(_x)\n",
    "t = np.array(labels, 'i')"
   ]
  },
  {
   "cell_type": "code",
   "execution_count": 0,
   "metadata": {
    "colab": {},
    "colab_type": "code",
    "id": "PFNt2qb4k_-J"
   },
   "outputs": [],
   "source": [
    "# データセットの作成\n",
    "from chainer.datasets import TupleDataset\n",
    "dataset = TupleDataset(x, t)"
   ]
  },
  {
   "cell_type": "code",
   "execution_count": 0,
   "metadata": {
    "colab": {},
    "colab_type": "code",
    "id": "SC5ohA3PoPx8"
   },
   "outputs": [],
   "source": [
    "# 訓練と検証データへ分割\n",
    "from chainer.datasets import split_dataset_random\n",
    "n_train = int(len(dataset)*0.7)\n",
    "train, test = split_dataset_random(dataset, n_train, seed=1)"
   ]
  },
  {
   "cell_type": "code",
   "execution_count": 18,
   "metadata": {
    "colab": {
     "base_uri": "https://localhost:8080/",
     "height": 34
    },
    "colab_type": "code",
    "id": "hwazNVCgoP4v",
    "outputId": "1fd400e8-76a7-4eba-d53b-561bdb807fbe"
   },
   "outputs": [
    {
     "data": {
      "text/plain": [
       "350"
      ]
     },
     "execution_count": 18,
     "metadata": {
      "tags": []
     },
     "output_type": "execute_result"
    }
   ],
   "source": [
    "len(train)"
   ]
  },
  {
   "cell_type": "code",
   "execution_count": 19,
   "metadata": {
    "colab": {
     "base_uri": "https://localhost:8080/",
     "height": 34
    },
    "colab_type": "code",
    "id": "YsS7JlyIoP-8",
    "outputId": "fdc94bd5-c4bf-43d3-932c-1126b1df6edb"
   },
   "outputs": [
    {
     "data": {
      "text/plain": [
       "150"
      ]
     },
     "execution_count": 19,
     "metadata": {
      "tags": []
     },
     "output_type": "execute_result"
    }
   ],
   "source": [
    "len(test)"
   ]
  },
  {
   "cell_type": "markdown",
   "metadata": {
    "colab_type": "text",
    "id": "jZuwkUpvoQE8"
   },
   "source": [
    "### 転移学習（Transfer Learning）\n",
    "\n",
    "転移学習では **引き継いだパラメータは更新しません。**  \n",
    "そのためVGG16のモデルの部分のパラメータを固定する必要があります。  \n",
    "\n",
    "\n",
    "#### ネットワークの定義\n",
    "\n",
    "転移学習、ファインチューニング の両方ともモデルの構築方法は同じです。  \n",
    "ChainerではVGG16のモデルがすでに用意されているので、  \n",
    "`L.VGG16Layers()` で呼び出して使用します。"
   ]
  },
  {
   "cell_type": "code",
   "execution_count": 0,
   "metadata": {
    "colab": {},
    "colab_type": "code",
    "id": "Hb2uCdtMoQKt"
   },
   "outputs": [],
   "source": [
    "vgg16 = L.VGG16Layers()"
   ]
  },
  {
   "cell_type": "markdown",
   "metadata": {
    "colab_type": "text",
    "id": "KPzdkpWZq1fx"
   },
   "source": [
    "`vgg16.available_layers` メソッドでVGG16の中の構造を確認することができます。  \n",
    "\n",
    "基本的に転移学習やファインチューニングでは **損失関数を計算する1つ前の層までを引き継ぐ** ことが一般的です。  "
   ]
  },
  {
   "cell_type": "code",
   "execution_count": 21,
   "metadata": {
    "colab": {
     "base_uri": "https://localhost:8080/",
     "height": 391
    },
    "colab_type": "code",
    "id": "j1TiGuCdoQQu",
    "outputId": "077b5280-c325-4864-a9f2-286f6ada033a"
   },
   "outputs": [
    {
     "data": {
      "text/plain": [
       "['conv1_1',\n",
       " 'conv1_2',\n",
       " 'pool1',\n",
       " 'conv2_1',\n",
       " 'conv2_2',\n",
       " 'pool2',\n",
       " 'conv3_1',\n",
       " 'conv3_2',\n",
       " 'conv3_3',\n",
       " 'pool3',\n",
       " 'conv4_1',\n",
       " 'conv4_2',\n",
       " 'conv4_3',\n",
       " 'pool4',\n",
       " 'conv5_1',\n",
       " 'conv5_2',\n",
       " 'conv5_3',\n",
       " 'pool5',\n",
       " 'fc6',\n",
       " 'fc7',\n",
       " 'fc8',\n",
       " 'prob']"
      ]
     },
     "execution_count": 21,
     "metadata": {
      "tags": []
     },
     "output_type": "execute_result"
    }
   ],
   "source": [
    "# 構造の確認\n",
    "vgg16.available_layers"
   ]
  },
  {
   "cell_type": "markdown",
   "metadata": {},
   "source": [
    "ネットワークのクラスの記述の方法は少し異なります。  \n",
    "`init`関数の部分で`L.VGG16Layers()`をインスタンス化して、`self.base`として定義します。  \n",
    "こちらは先ほど確認したVGG16のネットワークになります。  \n",
    "\n",
    "そして、全結合層も定義します。  \n",
    "\n",
    "`call`関数の部分でVGG16での計算は`self.base(x, layers=['fc7'])`と定義します。  \n",
    "`layers=['fc7']`は最後の全結合層の1つ手前の層である、`fc7`までを使用することを指定しています。  \n",
    "（この層の指定は必ずしもこの`fc7`である必要はありません。）  \n",
    "\n",
    "そして、VGG16での計算後に全結合層に流すという計算の流れになっています。  \n",
    "転移学習ではこの`self.base`の部分の学習を行わず、  \n",
    "ファインチューニングでは学習を行います。"
   ]
  },
  {
   "cell_type": "code",
   "execution_count": 0,
   "metadata": {
    "colab": {},
    "colab_type": "code",
    "id": "rCTkjf1GoQWu"
   },
   "outputs": [],
   "source": [
    "class VGG16(chainer.Chain):\n",
    "\n",
    "    def __init__(self, n_out=9):\n",
    "        super().__init__()\n",
    "        with self.init_scope():\n",
    "            self.base = L.VGG16Layers()\n",
    "            self.fc = L.Linear(None, n_out)\n",
    "\n",
    "    def __call__(self, x):\n",
    "        h = self.base(x, layers=['fc7'])\n",
    "        h = self.fc(h['fc7'])\n",
    "        return h"
   ]
  },
  {
   "cell_type": "code",
   "execution_count": 0,
   "metadata": {
    "colab": {},
    "colab_type": "code",
    "id": "ByvbYInZoQcu"
   },
   "outputs": [],
   "source": [
    "# 乱数のシード固定用の関数\n",
    "import random\n",
    "\n",
    "def reset_seed(seed=0):\n",
    "    random.seed(seed)\n",
    "    np.random.seed(seed)\n",
    "    if chainer.cuda.available:\n",
    "        chainer.cuda.cupy.random.seed(seed)"
   ]
  },
  {
   "cell_type": "code",
   "execution_count": 0,
   "metadata": {
    "colab": {},
    "colab_type": "code",
    "id": "VbZStYV9pda1"
   },
   "outputs": [],
   "source": [
    "# CPUとGPU関連のシードをすべて固定\n",
    "reset_seed(0)"
   ]
  },
  {
   "cell_type": "code",
   "execution_count": 0,
   "metadata": {
    "colab": {},
    "colab_type": "code",
    "id": "kTfQmTtGpdhC"
   },
   "outputs": [],
   "source": [
    "# インスタンス化\n",
    "vgg16 = VGG16()\n",
    "model = L.Classifier(vgg16)"
   ]
  },
  {
   "cell_type": "code",
   "execution_count": 26,
   "metadata": {
    "colab": {
     "base_uri": "https://localhost:8080/",
     "height": 34
    },
    "colab_type": "code",
    "id": "OwFXPwTlpdmf",
    "outputId": "065ef596-2dab-4333-dbb5-e94a38ca3c58"
   },
   "outputs": [
    {
     "data": {
      "text/plain": [
       "<chainer.links.model.classifier.Classifier at 0x7fe7b1dfd5c0>"
      ]
     },
     "execution_count": 26,
     "metadata": {
      "tags": []
     },
     "output_type": "execute_result"
    }
   ],
   "source": [
    "gpu_id = 0 \n",
    "model.to_gpu(gpu_id)"
   ]
  },
  {
   "cell_type": "code",
   "execution_count": 27,
   "metadata": {
    "colab": {
     "base_uri": "https://localhost:8080/",
     "height": 34
    },
    "colab_type": "code",
    "id": "7CY6dha9pdsP",
    "outputId": "eb435cbf-88d2-4267-fd06-af8da992a724"
   },
   "outputs": [
    {
     "data": {
      "text/plain": [
       "<chainer.optimizers.adam.Adam at 0x7fe76002b160>"
      ]
     },
     "execution_count": 27,
     "metadata": {
      "tags": []
     },
     "output_type": "execute_result"
    }
   ],
   "source": [
    "# Optimizerの定義とmodelとの紐づけ\n",
    "optimizer = chainer.optimizers.Adam()\n",
    "optimizer.setup(model)"
   ]
  },
  {
   "cell_type": "markdown",
   "metadata": {
    "colab_type": "text",
    "id": "5FJooSlCqoOi"
   },
   "source": [
    "ここまでは今までの実装と同じです。  \n",
    "転移学習は学習済みモデルの学習は行わないため、下記の1行を追加することによって、学習済みモデルの学習を行わないように設定します。"
   ]
  },
  {
   "cell_type": "code",
   "execution_count": 0,
   "metadata": {
    "colab": {},
    "colab_type": "code",
    "id": "KxrXP7B0pdyA"
   },
   "outputs": [],
   "source": [
    "model.predictor.base.disable_update()"
   ]
  },
  {
   "cell_type": "code",
   "execution_count": 0,
   "metadata": {
    "colab": {},
    "colab_type": "code",
    "id": "aZybe0nGpd33"
   },
   "outputs": [],
   "source": [
    "batchsize = 64\n",
    "train_iter = chainer.iterators.SerialIterator(train, batchsize)\n",
    "test_iter = chainer.iterators.SerialIterator(test, batchsize, repeat=False, shuffle=False)"
   ]
  },
  {
   "cell_type": "code",
   "execution_count": 0,
   "metadata": {
    "colab": {},
    "colab_type": "code",
    "id": "RA7vV0owpd9r"
   },
   "outputs": [],
   "source": [
    "from chainer import training\n",
    "from chainer.training import extensions\n",
    "\n",
    "epoch = 20\n",
    "\n",
    "updater = training.StandardUpdater(train_iter, optimizer, device=gpu_id)\n",
    "\n",
    "trainer = training.Trainer(updater, (epoch, 'epoch'), out='drive/My Drive/Colab Notebooks/result')\n",
    "\n",
    "# バリデーション用のデータで評価\n",
    "trainer.extend(extensions.Evaluator(test_iter, model, device=gpu_id))\n",
    "\n",
    "# 学習結果の途中を表示する\n",
    "trainer.extend(extensions.LogReport(trigger=(1, 'epoch'), log_name='dog-cat_transferlearning-vgg16'))\n",
    "\n",
    "# １エポックごとに結果をlogファイルに出力させる\n",
    "trainer.extend(extensions.PrintReport(['epoch', 'iteration', 'main/accuracy', 'validation/main/accuracy', 'main/loss', 'validation/main/loss', 'elapsed_time']), trigger=(1, 'epoch'))"
   ]
  },
  {
   "cell_type": "code",
   "execution_count": 31,
   "metadata": {
    "colab": {
     "base_uri": "https://localhost:8080/",
     "height": 374
    },
    "colab_type": "code",
    "id": "PS_dwCs4peDa",
    "outputId": "1fc92ca7-2a99-4191-da44-bc6ffe8f2ca9"
   },
   "outputs": [
    {
     "name": "stdout",
     "output_type": "stream",
     "text": [
      "epoch       iteration   main/accuracy  validation/main/accuracy  main/loss   validation/main/loss  elapsed_time\n",
      "\u001b[J1           6           0.585938       0.964015                  1.5289      0.0867641             26.8129       \n",
      "\u001b[J2           11          0.94375        0.984375                  0.190326    0.0383322             48.9626       \n",
      "\u001b[J3           17          0.960938       0.994792                  0.0950501   0.0294355             74.9837       \n",
      "\u001b[J4           22          0.965625       0.994792                  0.0948559   0.0204724             97.1872       \n",
      "\u001b[J5           28          0.96875        0.994792                  0.066611    0.0176631             123.274       \n",
      "\u001b[J6           33          0.98125        0.994792                  0.0359754   0.0167294             145.508       \n",
      "\u001b[J7           39          0.984375       0.994792                  0.0448962   0.0181189             171.582       \n",
      "\u001b[J8           44          0.996875       0.994792                  0.0102608   0.018003              193.819       \n",
      "\u001b[J9           50          1              0.994792                  0.00602318  0.0166149             219.878       \n",
      "\u001b[J10          55          0.996875       0.994792                  0.011998    0.0173241             242.096       \n",
      "\u001b[J11          61          0.989583       0.994792                  0.0232902   0.0134901             268.155       \n",
      "\u001b[J12          66          1              1                         0.00938173  0.0133647             290.382       \n",
      "\u001b[J13          72          0.994792       0.989583                  0.0125216   0.013575              316.43        \n",
      "\u001b[J14          77          1              0.989583                  0.00566851  0.0134087             338.662       \n",
      "\u001b[J15          83          0.992188       1                         0.0171411   0.0106676             364.742       \n",
      "\u001b[J16          88          0.996875       0.994792                  0.0097404   0.0134966             386.973       \n",
      "\u001b[J17          93          1              0.994792                  0.00105375  0.0176176             409.193       \n",
      "\u001b[J18          99          0.997396       0.994792                  0.00836175  0.0139426             435.279       \n",
      "\u001b[J19          104         0.996875       1                         0.0149845   0.00961519            457.505       \n",
      "\u001b[J20          110         0.997396       1                         0.00967346  0.00897374            483.576       \n"
     ]
    }
   ],
   "source": [
    "trainer.run()"
   ]
  },
  {
   "cell_type": "code",
   "execution_count": 0,
   "metadata": {
    "colab": {},
    "colab_type": "code",
    "id": "XbhxkjyXIgUG"
   },
   "outputs": [],
   "source": [
    "import pandas as pd\n",
    "import json"
   ]
  },
  {
   "cell_type": "code",
   "execution_count": 0,
   "metadata": {
    "colab": {},
    "colab_type": "code",
    "id": "ftUo5qDDEZ86"
   },
   "outputs": [],
   "source": [
    "with open('drive/My Drive/Colab Notebooks/result/dog-cat_transferlearning-vgg16') as f:\n",
    "    result = pd.DataFrame(json.load(f))"
   ]
  },
  {
   "cell_type": "code",
   "execution_count": 34,
   "metadata": {
    "colab": {
     "base_uri": "https://localhost:8080/",
     "height": 379
    },
    "colab_type": "code",
    "id": "tt6c9oBYEhIK",
    "outputId": "8270bbf9-c518-44b3-dfce-fe0a4a5d52c8"
   },
   "outputs": [
    {
     "data": {
      "text/html": [
       "<div>\n",
       "<style scoped>\n",
       "    .dataframe tbody tr th:only-of-type {\n",
       "        vertical-align: middle;\n",
       "    }\n",
       "\n",
       "    .dataframe tbody tr th {\n",
       "        vertical-align: top;\n",
       "    }\n",
       "\n",
       "    .dataframe thead th {\n",
       "        text-align: right;\n",
       "    }\n",
       "</style>\n",
       "<table border=\"1\" class=\"dataframe\">\n",
       "  <thead>\n",
       "    <tr style=\"text-align: right;\">\n",
       "      <th></th>\n",
       "      <th>elapsed_time</th>\n",
       "      <th>epoch</th>\n",
       "      <th>iteration</th>\n",
       "      <th>main/accuracy</th>\n",
       "      <th>main/loss</th>\n",
       "      <th>validation/main/accuracy</th>\n",
       "      <th>validation/main/loss</th>\n",
       "    </tr>\n",
       "  </thead>\n",
       "  <tbody>\n",
       "    <tr>\n",
       "      <th>10</th>\n",
       "      <td>268.155066</td>\n",
       "      <td>11</td>\n",
       "      <td>61</td>\n",
       "      <td>0.989583</td>\n",
       "      <td>0.023290</td>\n",
       "      <td>0.994792</td>\n",
       "      <td>0.013490</td>\n",
       "    </tr>\n",
       "    <tr>\n",
       "      <th>11</th>\n",
       "      <td>290.381582</td>\n",
       "      <td>12</td>\n",
       "      <td>66</td>\n",
       "      <td>1.000000</td>\n",
       "      <td>0.009382</td>\n",
       "      <td>1.000000</td>\n",
       "      <td>0.013365</td>\n",
       "    </tr>\n",
       "    <tr>\n",
       "      <th>12</th>\n",
       "      <td>316.430460</td>\n",
       "      <td>13</td>\n",
       "      <td>72</td>\n",
       "      <td>0.994792</td>\n",
       "      <td>0.012522</td>\n",
       "      <td>0.989583</td>\n",
       "      <td>0.013575</td>\n",
       "    </tr>\n",
       "    <tr>\n",
       "      <th>13</th>\n",
       "      <td>338.662025</td>\n",
       "      <td>14</td>\n",
       "      <td>77</td>\n",
       "      <td>1.000000</td>\n",
       "      <td>0.005669</td>\n",
       "      <td>0.989583</td>\n",
       "      <td>0.013409</td>\n",
       "    </tr>\n",
       "    <tr>\n",
       "      <th>14</th>\n",
       "      <td>364.742075</td>\n",
       "      <td>15</td>\n",
       "      <td>83</td>\n",
       "      <td>0.992188</td>\n",
       "      <td>0.017141</td>\n",
       "      <td>1.000000</td>\n",
       "      <td>0.010668</td>\n",
       "    </tr>\n",
       "    <tr>\n",
       "      <th>15</th>\n",
       "      <td>386.972610</td>\n",
       "      <td>16</td>\n",
       "      <td>88</td>\n",
       "      <td>0.996875</td>\n",
       "      <td>0.009740</td>\n",
       "      <td>0.994792</td>\n",
       "      <td>0.013497</td>\n",
       "    </tr>\n",
       "    <tr>\n",
       "      <th>16</th>\n",
       "      <td>409.193419</td>\n",
       "      <td>17</td>\n",
       "      <td>93</td>\n",
       "      <td>1.000000</td>\n",
       "      <td>0.001054</td>\n",
       "      <td>0.994792</td>\n",
       "      <td>0.017618</td>\n",
       "    </tr>\n",
       "    <tr>\n",
       "      <th>17</th>\n",
       "      <td>435.279145</td>\n",
       "      <td>18</td>\n",
       "      <td>99</td>\n",
       "      <td>0.997396</td>\n",
       "      <td>0.008362</td>\n",
       "      <td>0.994792</td>\n",
       "      <td>0.013943</td>\n",
       "    </tr>\n",
       "    <tr>\n",
       "      <th>18</th>\n",
       "      <td>457.505302</td>\n",
       "      <td>19</td>\n",
       "      <td>104</td>\n",
       "      <td>0.996875</td>\n",
       "      <td>0.014984</td>\n",
       "      <td>1.000000</td>\n",
       "      <td>0.009615</td>\n",
       "    </tr>\n",
       "    <tr>\n",
       "      <th>19</th>\n",
       "      <td>483.575873</td>\n",
       "      <td>20</td>\n",
       "      <td>110</td>\n",
       "      <td>0.997396</td>\n",
       "      <td>0.009673</td>\n",
       "      <td>1.000000</td>\n",
       "      <td>0.008974</td>\n",
       "    </tr>\n",
       "  </tbody>\n",
       "</table>\n",
       "</div>"
      ],
      "text/plain": [
       "    elapsed_time  epoch  iteration  main/accuracy  main/loss  \\\n",
       "10    268.155066     11         61       0.989583   0.023290   \n",
       "11    290.381582     12         66       1.000000   0.009382   \n",
       "12    316.430460     13         72       0.994792   0.012522   \n",
       "13    338.662025     14         77       1.000000   0.005669   \n",
       "14    364.742075     15         83       0.992188   0.017141   \n",
       "15    386.972610     16         88       0.996875   0.009740   \n",
       "16    409.193419     17         93       1.000000   0.001054   \n",
       "17    435.279145     18         99       0.997396   0.008362   \n",
       "18    457.505302     19        104       0.996875   0.014984   \n",
       "19    483.575873     20        110       0.997396   0.009673   \n",
       "\n",
       "    validation/main/accuracy  validation/main/loss  \n",
       "10                  0.994792              0.013490  \n",
       "11                  1.000000              0.013365  \n",
       "12                  0.989583              0.013575  \n",
       "13                  0.989583              0.013409  \n",
       "14                  1.000000              0.010668  \n",
       "15                  0.994792              0.013497  \n",
       "16                  0.994792              0.017618  \n",
       "17                  0.994792              0.013943  \n",
       "18                  1.000000              0.009615  \n",
       "19                  1.000000              0.008974  "
      ]
     },
     "execution_count": 34,
     "metadata": {
      "tags": []
     },
     "output_type": "execute_result"
    }
   ],
   "source": [
    "result.tail(10)"
   ]
  },
  {
   "cell_type": "code",
   "execution_count": 35,
   "metadata": {
    "colab": {
     "base_uri": "https://localhost:8080/",
     "height": 364
    },
    "colab_type": "code",
    "id": "0cIP2ZOEEoRN",
    "outputId": "91b0d47f-b08b-42ab-b55e-b2515d86f941"
   },
   "outputs": [
    {
     "data": {
      "text/plain": [
       "<matplotlib.axes._subplots.AxesSubplot at 0x7fe75d788080>"
      ]
     },
     "execution_count": 35,
     "metadata": {
      "tags": []
     },
     "output_type": "execute_result"
    },
    {
     "data": {
      "image/png": "[encoded data removed]",
      "text/plain": [
       "<matplotlib.figure.Figure at 0x7fe76b93e080>"
      ]
     },
     "metadata": {
      "tags": []
     },
     "output_type": "display_data"
    }
   ],
   "source": [
    "# 精度(accuracy)\n",
    "result[['main/accuracy', 'validation/main/accuracy']].plot()"
   ]
  },
  {
   "cell_type": "markdown",
   "metadata": {
    "colab_type": "text",
    "id": "oDOCIgJFfI0D"
   },
   "source": [
    "転移学習を行うことによってかなりいい精度を得ることができました。\n",
    "\n",
    "\n",
    "### ファインチューニング（Fine Tuning）\n",
    "\n",
    "\n",
    "先ほどとは異なり、学習済みモデルの重みも同時に学習を行なっていきます。  \n",
    "上記の方法とどちらがいいのかは試してみないとわからないのが正直な部分です。  \n",
    "まずは両方試してみることをオススメします。"
   ]
  },
  {
   "cell_type": "code",
   "execution_count": 0,
   "metadata": {
    "colab": {},
    "colab_type": "code",
    "id": "hDNEKASJ32oZ"
   },
   "outputs": [],
   "source": [
    "class VGG16(chainer.Chain):\n",
    "\n",
    "    def __init__(self, n_out=9):\n",
    "        super().__init__()\n",
    "        with self.init_scope():\n",
    "            self.base = L.VGG16Layers()\n",
    "            self.fc = L.Linear(None, n_out)\n",
    "\n",
    "    def __call__(self, x):\n",
    "        h = self.base(x, layers=['fc7'])\n",
    "        h = self.fc(h['fc7'])\n",
    "        return h"
   ]
  },
  {
   "cell_type": "code",
   "execution_count": 0,
   "metadata": {
    "colab": {},
    "colab_type": "code",
    "id": "vkLtjFmO32oc"
   },
   "outputs": [],
   "source": [
    "# 乱数のシード固定用の関数\n",
    "def reset_seed(seed=0):\n",
    "    random.seed(seed)\n",
    "    np.random.seed(seed)\n",
    "    if chainer.cuda.available:\n",
    "        chainer.cuda.cupy.random.seed(seed)"
   ]
  },
  {
   "cell_type": "code",
   "execution_count": 0,
   "metadata": {
    "colab": {},
    "colab_type": "code",
    "id": "HXst5xCY32oe"
   },
   "outputs": [],
   "source": [
    "# CPUとGPU関連のシードをすべて固定\n",
    "reset_seed(0)"
   ]
  },
  {
   "cell_type": "code",
   "execution_count": 0,
   "metadata": {
    "colab": {},
    "colab_type": "code",
    "id": "PiTZOoAj32oe"
   },
   "outputs": [],
   "source": [
    "# インスタンス化\n",
    "vgg16 = VGG16()\n",
    "model = L.Classifier(vgg16)"
   ]
  },
  {
   "cell_type": "code",
   "execution_count": 40,
   "metadata": {
    "colab": {
     "base_uri": "https://localhost:8080/",
     "height": 34
    },
    "colab_type": "code",
    "id": "ZqX_8b5632og",
    "outputId": "b8cbbd50-80d3-4dde-f396-22cb997b5754"
   },
   "outputs": [
    {
     "data": {
      "text/plain": [
       "<chainer.links.model.classifier.Classifier at 0x7fe75d1b6dd8>"
      ]
     },
     "execution_count": 40,
     "metadata": {
      "tags": []
     },
     "output_type": "execute_result"
    }
   ],
   "source": [
    "gpu_id = 0  # 使用したGPUに割り振られているID\n",
    "model.to_gpu(gpu_id)"
   ]
  },
  {
   "cell_type": "markdown",
   "metadata": {
    "colab_type": "text",
    "id": "8euwPVFj4WBw"
   },
   "source": [
    "#### 学習率を学習済みとそうでない部分で調整\n",
    "\n",
    "学習の内容にもよりますが、ファインチューニングでは基本的に学習済みのパラメータの更新は小さく、それ以外の部分の学習は大きくすることが一般的です。  \n",
    "（学習済みモデルはある程度学習が進んでいるため、微調整を加えるだけで問題ないためです。）  \n",
    "\n",
    "そのように二つの異なる部分のパラメータの更新を変更には `optimizer` の更新の規則の部分の設定を変更します。\n",
    "\n",
    "下記では、 `alpha` を `1e-4` と小さめに設定しておき、 `fc` の追加した層の部分のみ`update_rule` を用いて、その10倍に設定することで調整を行っています。  \n",
    "`update_rule`のクラスの詳細については[こちらの公式ドキュメント](https://docs.chainer.org/en/stable/reference/generated/chainer.UpdateRule.html)を確認してください。  "
   ]
  },
  {
   "cell_type": "code",
   "execution_count": 0,
   "metadata": {
    "colab": {},
    "colab_type": "code",
    "id": "igzFTQDI32ou"
   },
   "outputs": [],
   "source": [
    "# Optimizerの定義とmodelとの紐づけ\n",
    "alpha = 1e-4\n",
    "\n",
    "optimizer = chainer.optimizers.Adam(alpha=alpha)\n",
    "optimizer.setup(model)\n",
    "\n",
    "model.predictor['fc'].W.update_rule.hyperparam.alpha = alpha * 10\n",
    "model.predictor['fc'].b.update_rule.hyperparam.alpha = alpha * 10"
   ]
  },
  {
   "cell_type": "code",
   "execution_count": 0,
   "metadata": {
    "colab": {},
    "colab_type": "code",
    "id": "UQ_aXsWT32ow"
   },
   "outputs": [],
   "source": [
    "batchsize = 64\n",
    "train_iter = chainer.iterators.SerialIterator(train, batchsize)\n",
    "test_iter = chainer.iterators.SerialIterator(test, batchsize, repeat=False, shuffle=False)"
   ]
  },
  {
   "cell_type": "code",
   "execution_count": 0,
   "metadata": {
    "colab": {},
    "colab_type": "code",
    "id": "Ro8YArxb32o2"
   },
   "outputs": [],
   "source": [
    "from chainer import training\n",
    "from chainer.training import extensions\n",
    "\n",
    "epoch = 30\n",
    "\n",
    "updater = training.StandardUpdater(train_iter, optimizer, device=gpu_id)\n",
    "\n",
    "trainer = training.Trainer(updater, (epoch, 'epoch'), out='drive/My Drive/Colab Notebooks/result')\n",
    "\n",
    "# バリデーション用のデータで評価\n",
    "trainer.extend(extensions.Evaluator(test_iter, model, device=gpu_id))\n",
    "\n",
    "# 学習結果の途中を表示する\n",
    "trainer.extend(extensions.LogReport(trigger=(1, 'epoch'), log_name='dog-cat_finetuning-vgg16'))\n",
    "\n",
    "# １エポックごとに結果をlogファイルに出力させる\n",
    "trainer.extend(extensions.PrintReport(['epoch', 'iteration', 'main/accuracy', 'validation/main/accuracy', 'main/loss', 'validation/main/loss', 'elapsed_time']), trigger=(1, 'epoch'))"
   ]
  },
  {
   "cell_type": "code",
   "execution_count": 44,
   "metadata": {
    "colab": {
     "base_uri": "https://localhost:8080/",
     "height": 544
    },
    "colab_type": "code",
    "id": "ZkZy7Qx_32o3",
    "outputId": "1dabe35d-5bf2-4502-bfd6-9fad56ad4fe9"
   },
   "outputs": [
    {
     "name": "stdout",
     "output_type": "stream",
     "text": [
      "epoch       iteration   main/accuracy  validation/main/accuracy  main/loss   validation/main/loss  elapsed_time\n",
      "\u001b[J1           6           0.497396       0.859848                  1.52562     0.420331              26.1429       \n",
      "\u001b[J2           11          0.8625         0.906723                  0.342193    0.289741              48.3438       \n",
      "\u001b[J3           17          0.934896       0.886364                  0.157077    0.305631              74.4061       \n",
      "\u001b[J4           22          0.971875       0.804451                  0.0734455   0.686919              96.653        \n",
      "\u001b[J5           28          0.955729       0.830492                  0.103965    0.596771              122.707       \n",
      "\u001b[J6           33          0.978125       0.943182                  0.0796061   0.240667              144.953       \n",
      "\u001b[J7           39          0.997396       0.881629                  0.00914504  0.342885              171.039       \n",
      "\u001b[J8           44          1              0.907197                  0.0046623   0.340649              193.28        \n",
      "\u001b[J9           50          1              0.876894                  0.00180683  0.331747              219.369       \n",
      "\u001b[J10          55          1              0.897254                  0.000215606  0.363375              241.614       \n",
      "\u001b[J11          61          1              0.882102                  0.000857248  0.342187              267.716       \n",
      "\u001b[J12          66          1              0.922822                  4.27514e-05  0.313994              289.947       \n",
      "\u001b[J13          72          1              0.922822                  0.000317946  0.327616              316.022       \n",
      "\u001b[J14          77          1              0.92803                   3.03835e-05  0.329206              338.279       \n",
      "\u001b[J15          83          1              0.92803                   2.64595e-05  0.329186              364.337       \n",
      "\u001b[J16          88          1              0.92803                   1.40727e-05  0.327881              386.576       \n",
      "\u001b[J17          93          1              0.922822                  1.44869e-05  0.326937              408.807       \n",
      "\u001b[J18          99          1              0.917614                  1.41164e-05  0.32626               434.914       \n",
      "\u001b[J19          104         1              0.917614                  9.71556e-06  0.325569              457.151       \n",
      "\u001b[J20          110         1              0.917614                  1.30932e-05  0.324697              483.234       \n",
      "\u001b[J21          115         1              0.917614                  1.10149e-05  0.324523              505.5         \n",
      "\u001b[J22          121         1              0.917614                  5.5184e-06  0.324411              531.588       \n",
      "\u001b[J23          126         1              0.917614                  1.03652e-05  0.324714              553.811       \n",
      "\u001b[J24          132         1              0.917614                  8.12362e-06  0.324888              579.916       \n",
      "\u001b[J25          137         1              0.917614                  5.11706e-06  0.324991              602.146       \n",
      "\u001b[J26          143         1              0.917614                  6.91166e-06  0.325195              628.244       \n",
      "\u001b[J27          148         1              0.917614                  5.66244e-06  0.325575              650.495       \n",
      "\u001b[J28          154         1              0.917614                  3.5738e-06  0.325862              676.565       \n",
      "\u001b[J29          159         1              0.917614                  4.46439e-06  0.32604               698.834       \n",
      "\u001b[J30          165         1              0.917614                  5.85367e-06  0.326581              724.916       \n"
     ]
    }
   ],
   "source": [
    "trainer.run()"
   ]
  },
  {
   "cell_type": "code",
   "execution_count": 0,
   "metadata": {
    "colab": {},
    "colab_type": "code",
    "id": "pFs0bQmT6x2R"
   },
   "outputs": [],
   "source": [
    "with open('drive/My Drive/Colab Notebooks/result/dog-cat_finetuning-vgg16') as f:\n",
    "    result = pd.DataFrame(json.load(f))"
   ]
  },
  {
   "cell_type": "code",
   "execution_count": 46,
   "metadata": {
    "colab": {
     "base_uri": "https://localhost:8080/",
     "height": 379
    },
    "colab_type": "code",
    "id": "SO37MOwT6x2S",
    "outputId": "1d8e4494-7ff4-4d03-e248-05b465821286"
   },
   "outputs": [
    {
     "data": {
      "text/html": [
       "<div>\n",
       "<style scoped>\n",
       "    .dataframe tbody tr th:only-of-type {\n",
       "        vertical-align: middle;\n",
       "    }\n",
       "\n",
       "    .dataframe tbody tr th {\n",
       "        vertical-align: top;\n",
       "    }\n",
       "\n",
       "    .dataframe thead th {\n",
       "        text-align: right;\n",
       "    }\n",
       "</style>\n",
       "<table border=\"1\" class=\"dataframe\">\n",
       "  <thead>\n",
       "    <tr style=\"text-align: right;\">\n",
       "      <th></th>\n",
       "      <th>elapsed_time</th>\n",
       "      <th>epoch</th>\n",
       "      <th>iteration</th>\n",
       "      <th>main/accuracy</th>\n",
       "      <th>main/loss</th>\n",
       "      <th>validation/main/accuracy</th>\n",
       "      <th>validation/main/loss</th>\n",
       "    </tr>\n",
       "  </thead>\n",
       "  <tbody>\n",
       "    <tr>\n",
       "      <th>20</th>\n",
       "      <td>505.500265</td>\n",
       "      <td>21</td>\n",
       "      <td>115</td>\n",
       "      <td>1.0</td>\n",
       "      <td>0.000011</td>\n",
       "      <td>0.917614</td>\n",
       "      <td>0.324523</td>\n",
       "    </tr>\n",
       "    <tr>\n",
       "      <th>21</th>\n",
       "      <td>531.588444</td>\n",
       "      <td>22</td>\n",
       "      <td>121</td>\n",
       "      <td>1.0</td>\n",
       "      <td>0.000006</td>\n",
       "      <td>0.917614</td>\n",
       "      <td>0.324411</td>\n",
       "    </tr>\n",
       "    <tr>\n",
       "      <th>22</th>\n",
       "      <td>553.810534</td>\n",
       "      <td>23</td>\n",
       "      <td>126</td>\n",
       "      <td>1.0</td>\n",
       "      <td>0.000010</td>\n",
       "      <td>0.917614</td>\n",
       "      <td>0.324714</td>\n",
       "    </tr>\n",
       "    <tr>\n",
       "      <th>23</th>\n",
       "      <td>579.916105</td>\n",
       "      <td>24</td>\n",
       "      <td>132</td>\n",
       "      <td>1.0</td>\n",
       "      <td>0.000008</td>\n",
       "      <td>0.917614</td>\n",
       "      <td>0.324888</td>\n",
       "    </tr>\n",
       "    <tr>\n",
       "      <th>24</th>\n",
       "      <td>602.146486</td>\n",
       "      <td>25</td>\n",
       "      <td>137</td>\n",
       "      <td>1.0</td>\n",
       "      <td>0.000005</td>\n",
       "      <td>0.917614</td>\n",
       "      <td>0.324991</td>\n",
       "    </tr>\n",
       "    <tr>\n",
       "      <th>25</th>\n",
       "      <td>628.244368</td>\n",
       "      <td>26</td>\n",
       "      <td>143</td>\n",
       "      <td>1.0</td>\n",
       "      <td>0.000007</td>\n",
       "      <td>0.917614</td>\n",
       "      <td>0.325195</td>\n",
       "    </tr>\n",
       "    <tr>\n",
       "      <th>26</th>\n",
       "      <td>650.495418</td>\n",
       "      <td>27</td>\n",
       "      <td>148</td>\n",
       "      <td>1.0</td>\n",
       "      <td>0.000006</td>\n",
       "      <td>0.917614</td>\n",
       "      <td>0.325575</td>\n",
       "    </tr>\n",
       "    <tr>\n",
       "      <th>27</th>\n",
       "      <td>676.564711</td>\n",
       "      <td>28</td>\n",
       "      <td>154</td>\n",
       "      <td>1.0</td>\n",
       "      <td>0.000004</td>\n",
       "      <td>0.917614</td>\n",
       "      <td>0.325862</td>\n",
       "    </tr>\n",
       "    <tr>\n",
       "      <th>28</th>\n",
       "      <td>698.834169</td>\n",
       "      <td>29</td>\n",
       "      <td>159</td>\n",
       "      <td>1.0</td>\n",
       "      <td>0.000004</td>\n",
       "      <td>0.917614</td>\n",
       "      <td>0.326040</td>\n",
       "    </tr>\n",
       "    <tr>\n",
       "      <th>29</th>\n",
       "      <td>724.916468</td>\n",
       "      <td>30</td>\n",
       "      <td>165</td>\n",
       "      <td>1.0</td>\n",
       "      <td>0.000006</td>\n",
       "      <td>0.917614</td>\n",
       "      <td>0.326581</td>\n",
       "    </tr>\n",
       "  </tbody>\n",
       "</table>\n",
       "</div>"
      ],
      "text/plain": [
       "    elapsed_time  epoch  iteration  main/accuracy  main/loss  \\\n",
       "20    505.500265     21        115            1.0   0.000011   \n",
       "21    531.588444     22        121            1.0   0.000006   \n",
       "22    553.810534     23        126            1.0   0.000010   \n",
       "23    579.916105     24        132            1.0   0.000008   \n",
       "24    602.146486     25        137            1.0   0.000005   \n",
       "25    628.244368     26        143            1.0   0.000007   \n",
       "26    650.495418     27        148            1.0   0.000006   \n",
       "27    676.564711     28        154            1.0   0.000004   \n",
       "28    698.834169     29        159            1.0   0.000004   \n",
       "29    724.916468     30        165            1.0   0.000006   \n",
       "\n",
       "    validation/main/accuracy  validation/main/loss  \n",
       "20                  0.917614              0.324523  \n",
       "21                  0.917614              0.324411  \n",
       "22                  0.917614              0.324714  \n",
       "23                  0.917614              0.324888  \n",
       "24                  0.917614              0.324991  \n",
       "25                  0.917614              0.325195  \n",
       "26                  0.917614              0.325575  \n",
       "27                  0.917614              0.325862  \n",
       "28                  0.917614              0.326040  \n",
       "29                  0.917614              0.326581  "
      ]
     },
     "execution_count": 46,
     "metadata": {
      "tags": []
     },
     "output_type": "execute_result"
    }
   ],
   "source": [
    "# 結果の表示\n",
    "result.tail(10)"
   ]
  },
  {
   "cell_type": "code",
   "execution_count": 47,
   "metadata": {
    "colab": {
     "base_uri": "https://localhost:8080/",
     "height": 364
    },
    "colab_type": "code",
    "id": "Va3IJUnJ6x2X",
    "outputId": "43eab345-020a-418e-a8ff-556a8fbc1700"
   },
   "outputs": [
    {
     "data": {
      "text/plain": [
       "<matplotlib.axes._subplots.AxesSubplot at 0x7fe75e7f24e0>"
      ]
     },
     "execution_count": 47,
     "metadata": {
      "tags": []
     },
     "output_type": "execute_result"
    },
    {
     "data": {
      "image/png": "[encoded data removed]",
      "text/plain": [
       "<matplotlib.figure.Figure at 0x7fe75d1569b0>"
      ]
     },
     "metadata": {
      "tags": []
     },
     "output_type": "display_data"
    }
   ],
   "source": [
    "# 精度(accuracy)\n",
    "result[['main/accuracy', 'validation/main/accuracy']].plot()"
   ]
  },
  {
   "cell_type": "markdown",
   "metadata": {
    "colab_type": "text",
    "id": "6E-VKwNAdgbH"
   },
   "source": [
    "ファインチューニングを用いて良い精度を出すことができました。  \n",
    "この精度で十分のようですが、もう一つ代表的な精度向上の方法をお伝えしておきます。"
   ]
  }
 ],
 "metadata": {
  "accelerator": "GPU",
  "colab": {
   "collapsed_sections": [],
   "name": "(15) FineTuning と Data Augumentation (ChainerCV).ipynb",
   "provenance": [],
   "version": "0.3.2"
  },
  "kernelspec": {
   "display_name": "Python 3",
   "language": "python",
   "name": "python3"
  },
  "language_info": {
   "codemirror_mode": {
    "name": "ipython",
    "version": 3
   },
   "file_extension": ".py",
   "mimetype": "text/x-python",
   "name": "python",
   "nbconvert_exporter": "python",
   "pygments_lexer": "ipython3",
   "version": "3.6.7"
  }
 },
 "nbformat": 4,
 "nbformat_minor": 1
}
