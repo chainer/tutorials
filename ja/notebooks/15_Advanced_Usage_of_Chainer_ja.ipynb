{
  "nbformat": 4,
  "nbformat_minor": 0,
  "metadata": {
    "colab": {
      "name": "13_Advanced_Usage_of_Chainer_ja.ipynb のコピー",
      "version": "0.3.2",
      "provenance": [],
      "collapsed_sections": []
    },
    "kernelspec": {
      "name": "python3",
      "display_name": "Python 3"
    },
    "accelerator": "GPU"
  },
  "cells": [
    {
      "metadata": {
        "colab_type": "text",
        "id": "_CMCHQhNDfXm"
      },
      "cell_type": "markdown",
      "source": [
        "# Chainer の応用\n",
        "\n",
        "前章で説明した Chainer を用いてネットワークを訓練するまでに必要なステップは、以下の 5 つでした。\n",
        "\n",
        "- Step 1：データセットの準備\n",
        "- Step 2：ネットワークの定義\n",
        "- Step 3：目的関数を決める\n",
        "- Step 4：最適化手法の選択\n",
        "- Step 5：ネットワークの訓練\n",
        "\n",
        "本章では、これらの各ステップに対して Chainer の機能を活用した工夫を加え、結果を改善する方法を解説します。"
      ]
    },
    {
      "metadata": {
        "id": "Nj39v0RFB0mj",
        "colab_type": "text"
      },
      "cell_type": "markdown",
      "source": [
        "## Step 1 の改善: データセットの準備の工夫\n",
        "\n",
        "前章で用いた iris データセットは、ndarray のままスライスを用いてミニバッチに分割し、ネットワークに入力したり、誤差の計算に用いたりしていました。\n",
        "ここでは、Chainer が提供するいくつかのデータセットを扱うためのクラスを用いて同様のことを行ってみます。\n",
        "\n",
        "まずはデータセットを scikit-learn を用いて取得しておきます。"
      ]
    },
    {
      "metadata": {
        "id": "UhpWOem2B0mk",
        "colab_type": "code",
        "colab": {}
      },
      "cell_type": "code",
      "source": [
        "from sklearn.datasets import load_iris\n",
        "\n",
        "x, t = load_iris(return_X_y=True)\n",
        "x = x.astype('float32')\n",
        "t = t.astype('int32')"
      ],
      "execution_count": 0,
      "outputs": []
    },
    {
      "metadata": {
        "id": "adpwKOHsB0mo",
        "colab_type": "text"
      },
      "cell_type": "markdown",
      "source": [
        "### TupleDataset\n",
        "\n",
        "Chainer は `chainer.datasets` モジュール以下に色々なデータセットに対して用いられる便利なクラスが用意されています。\n",
        "その一つが `TupleDataset` で、これは上で取得したような入力値を並べた配列と目標値を並べた配列を与えると、1 つ 1 つを取り出して対応するペアを作って返してくれるものです。"
      ]
    },
    {
      "metadata": {
        "id": "JUC6d43_B0mp",
        "colab_type": "code",
        "colab": {}
      },
      "cell_type": "code",
      "source": [
        "from chainer.datasets import TupleDataset\n",
        "\n",
        "dataset = TupleDataset(x, t)"
      ],
      "execution_count": 0,
      "outputs": []
    },
    {
      "metadata": {
        "id": "KyVM_IN6B0ms",
        "colab_type": "text"
      },
      "cell_type": "markdown",
      "source": [
        "Chainer が提供する汎用のデータセットクラスは、ndarray をデータセットとして扱う場合と同様にして使えるよう、`[]` を使ったインデックスによる各データ（入力値と目標値のペタ）へのアクセスを可能としています。\n",
        "\n",
        "それでは、1 つ目の入力値と目標値のペアを取り出してみます。"
      ]
    },
    {
      "metadata": {
        "id": "g8N0gSYxB0mt",
        "colab_type": "code",
        "outputId": "1e54f3f3-f59b-4f5c-efdd-fca838b25b85",
        "colab": {
          "base_uri": "https://localhost:8080/",
          "height": 35
        }
      },
      "cell_type": "code",
      "source": [
        "dataset[0]"
      ],
      "execution_count": 3,
      "outputs": [
        {
          "output_type": "execute_result",
          "data": {
            "text/plain": [
              "(array([5.1, 3.5, 1.4, 0.2], dtype=float32), 0)"
            ]
          },
          "metadata": {
            "tags": []
          },
          "execution_count": 3
        }
      ]
    },
    {
      "metadata": {
        "id": "vIAwLLJOB0my",
        "colab_type": "text"
      },
      "cell_type": "markdown",
      "source": [
        "入力値と目標値を 1 つずつ持つタプルが返されました。\n",
        "それでは、2 つのデータを取り出してみます。"
      ]
    },
    {
      "metadata": {
        "id": "ZAMd5IdUB0mz",
        "colab_type": "code",
        "outputId": "a14c480e-2d77-4513-892c-e517e7403eaa",
        "colab": {
          "base_uri": "https://localhost:8080/",
          "height": 53
        }
      },
      "cell_type": "code",
      "source": [
        "dataset[:2]"
      ],
      "execution_count": 4,
      "outputs": [
        {
          "output_type": "execute_result",
          "data": {
            "text/plain": [
              "[(array([5.1, 3.5, 1.4, 0.2], dtype=float32), 0),\n",
              " (array([4.9, 3. , 1.4, 0.2], dtype=float32), 0)]"
            ]
          },
          "metadata": {
            "tags": []
          },
          "execution_count": 4
        }
      ]
    },
    {
      "metadata": {
        "id": "avdTs3N1B0m2",
        "colab_type": "text"
      },
      "cell_type": "markdown",
      "source": [
        "`(入力値, 目標値)` というタプルを 2 つ持つリストが返されました。\n",
        "このように、Python のリストで用いることができるスライスと同様の表記を Chainer のデータセットオブジェクトに対して用いることができます。\n",
        "\n",
        "例えば、先頭から 1 つおきに 5 つのデータを取り出したい場合、"
      ]
    },
    {
      "metadata": {
        "id": "gXxr1zEzB0m2",
        "colab_type": "code",
        "outputId": "e5372b09-32be-43a4-a468-bdc609d8fb01",
        "colab": {
          "base_uri": "https://localhost:8080/",
          "height": 107
        }
      },
      "cell_type": "code",
      "source": [
        "dataset[:10:2]"
      ],
      "execution_count": 5,
      "outputs": [
        {
          "output_type": "execute_result",
          "data": {
            "text/plain": [
              "[(array([5.1, 3.5, 1.4, 0.2], dtype=float32), 0),\n",
              " (array([4.7, 3.2, 1.3, 0.2], dtype=float32), 0),\n",
              " (array([5. , 3.6, 1.4, 0.2], dtype=float32), 0),\n",
              " (array([4.6, 3.4, 1.4, 0.3], dtype=float32), 0),\n",
              " (array([4.4, 2.9, 1.4, 0.2], dtype=float32), 0)]"
            ]
          },
          "metadata": {
            "tags": []
          },
          "execution_count": 5
        }
      ]
    },
    {
      "metadata": {
        "id": "4wauB7p-B0m6",
        "colab_type": "text"
      },
      "cell_type": "markdown",
      "source": [
        "のような記述が可能です。"
      ]
    },
    {
      "metadata": {
        "id": "Ry6kghPnB0m6",
        "colab_type": "text"
      },
      "cell_type": "markdown",
      "source": [
        "### データセットの分割\n",
        "\n",
        "データセットを訓練用・検証用・テスト用に分割するのに便利な関数が Chainer にも用意されています。\n",
        "これを用いて先程読み込んだ Iris データセットを 3 つに分割してみます。"
      ]
    },
    {
      "metadata": {
        "id": "48bTDHTqB0m7",
        "colab_type": "code",
        "colab": {}
      },
      "cell_type": "code",
      "source": [
        "from chainer.datasets import split_dataset_random\n",
        "\n",
        "train_val, test = split_dataset_random(dataset, int(len(dataset) * 0.7), seed=0)\n",
        "train, valid = split_dataset_random(train_val, int(len(train_val) * 0.7), seed=0)"
      ],
      "execution_count": 0,
      "outputs": []
    },
    {
      "metadata": {
        "id": "TDOqfNgyB0m9",
        "colab_type": "text"
      },
      "cell_type": "markdown",
      "source": [
        "`dataset` の中のデータのうち 70% を `train_val` に、残りを `test` にランダムに振り分け、さらに `train_test` のうち 70% を `train` に、残りを `valid` にランダムに振り分けています。"
      ]
    },
    {
      "metadata": {
        "id": "l-Li3p1HB0m-",
        "colab_type": "text"
      },
      "cell_type": "markdown",
      "source": [
        "### SerialIterator\n",
        "\n",
        "前章では、訓練データセットの順番を毎エポックシャッフルする方法として `np.random.permutation()` 関数が用いられていましたが、Chainer ではこのようなネットワークの訓練に際してよく行われるデータセットへの操作を抽象化した Iterator が提供されています。\n",
        "\n",
        "Iteratorは、データセットオブジェクトを与えると、順番のシャッフルやバッチサイズ個だけデータをまとめて返すなどの操作を自動的に行なってくれるものです。\n",
        "Python のイテレータと似たインターフェースを持ち、`next()` メソッドで順番にミニバッチを返してくれ、1 エポックが終了したら自動的にデータの順番をシャッフルしなおしてくれる便利なものです。\n",
        "\n",
        "ここでは最もシンプルな Iterator である `SerialIterator` を紹介します。"
      ]
    },
    {
      "metadata": {
        "id": "ns9-73_AB0m_",
        "colab_type": "code",
        "outputId": "e4a26875-e8e5-42dd-e2d4-ba94c44536df",
        "colab": {
          "base_uri": "https://localhost:8080/",
          "height": 89
        }
      },
      "cell_type": "code",
      "source": [
        "from chainer.iterators import SerialIterator\n",
        "\n",
        "train_iter = SerialIterator(train, batch_size=4, repeat=True, shuffle=True)\n",
        "\n",
        "minibatch = train_iter.next()\n",
        "\n",
        "minibatch"
      ],
      "execution_count": 7,
      "outputs": [
        {
          "output_type": "execute_result",
          "data": {
            "text/plain": [
              "[(array([5.7, 3. , 4.2, 1.2], dtype=float32), 1),\n",
              " (array([6.4, 3.1, 5.5, 1.8], dtype=float32), 2),\n",
              " (array([4.8, 3. , 1.4, 0.3], dtype=float32), 0),\n",
              " (array([6. , 2.2, 5. , 1.5], dtype=float32), 2)]"
            ]
          },
          "metadata": {
            "tags": []
          },
          "execution_count": 7
        }
      ]
    },
    {
      "metadata": {
        "id": "Hpca0QnmB0nC",
        "colab_type": "text"
      },
      "cell_type": "markdown",
      "source": [
        "上のコードは、iris データセットを分割して作成した訓練用データセット train を渡して作成した SerialIterator から、最初のミニバッチを取り出す例です。\n",
        "\n",
        "インスタンス化の際に引数として `batchsize=4` を指定しているため、返ってきたミニバッチには 4 つのデータが格納されていることが分かります。\n",
        "\n",
        "`repeat` 引数には、`next()` を繰り返し実行してデータセット内の全てのデータを取り出し終えたあとに、次の `next()` の呼び出しに対してまたデータセットの先頭からデータを取り出して次のミニバッチを返すかどうかを指定します。\n",
        "1 エポック以上訓練を行う場合は訓練データセット内のデータを複数回用いるので、これを `True` にします。\n",
        "\n",
        "`shuffle` 引数には、データセット内のデータの順番をエポックごとに自動的にシャッフルするかどうかを指定します。"
      ]
    },
    {
      "metadata": {
        "id": "ya8TdcFEB0nC",
        "colab_type": "text"
      },
      "cell_type": "markdown",
      "source": [
        "## Step 2 の改善: ネットワーク構造の工夫\n",
        "\n",
        "前章ではネットワークを Sequential クラスを用いて定義しました。\n",
        "ここでは Chain クラスを継承してネットワークを定義する方法を説明します。"
      ]
    },
    {
      "metadata": {
        "id": "L_7AE-2PB0nD",
        "colab_type": "text"
      },
      "cell_type": "markdown",
      "source": [
        "### Chain\n",
        "\n",
        "Link を複数まとめて Chain というまとまりを作ることが出来ます。\n",
        "Chain クラスは Link クラスを継承しており、前章で解説した Link と同様に扱うことができます。\n",
        "ただし、内部に複数の Link を保持しておくことができ、呼び出されたときに実行される巡伝播計算を `forward()` メソッドに記述しておくことで、複数の Link や Function を組み合わせた独自の層を作るのに使うことができます。\n",
        "また、ネットワークの部分構造を記述したり、それ自体で 1 つのネットワークの定義とすることもできます。\n",
        "\n",
        "それでは、前章で定義した Linear 層を 3 つ持つネットワークと同じものを Chain クラスを継承した `Net` というクラスを作って定義してみましょう。"
      ]
    },
    {
      "metadata": {
        "id": "5919dFTFB0nE",
        "colab_type": "code",
        "colab": {}
      },
      "cell_type": "code",
      "source": [
        "import chainer\n",
        "import chainer.links as L\n",
        "import chainer.functions as F\n",
        "\n",
        "\n",
        "class Net(chainer.Chain):\n",
        "    \n",
        "    def __init__(self, n_in=4, n_hidden=3, n_out=3):\n",
        "        super().__init__()\n",
        "        with self.init_scope():\n",
        "            self.l1 = L.Linear(n_in, n_hidden)\n",
        "            self.l2 = L.Linear(n_hidden, n_hidden)\n",
        "            self.l3 = L.Linear(n_hidden, n_out)\n",
        "\n",
        "    def forward(self, x):\n",
        "        h = F.relu(self.l1(x))\n",
        "        h = F.relu(self.l2(h))\n",
        "        h = self.l3(h)\n",
        "        \n",
        "        return h\n",
        "\n",
        "net = Net()"
      ],
      "execution_count": 0,
      "outputs": []
    },
    {
      "metadata": {
        "id": "-ifFFihVB0nJ",
        "colab_type": "text"
      },
      "cell_type": "markdown",
      "source": [
        "この Net クラスは 3 層の全結合型ニューラルネットワークを表しています。\n",
        "\n",
        "`__init__()` メソッドでは、`init_scope()` によって作られるコンテキストの中で Linear 層 を 3 つ作成し、それぞれ別々の名前の属性に代入しています。\n",
        "このコンテキストの中で属性に代入された Link が持つパラメータは、Optimizer によるパラメータ更新の対象として登録されます。\n",
        "このコンテキストの外で Link を作成し属性に代入を行っても、その Link が持つパラメータは Optimizer によるパラメータ更新の対象にならないため、注意が必要です。\n",
        "\n",
        "`init_scope()` コンテキストの中で定義されている Linear クラスのインスタンス化の際には `n_in`、`n_hidden`、`n_out` などの Net クラスの `__init__()` メソッドがとる引数が使われています。\n",
        "こうすることで Net クラスをインスタンス化する際に内部の Linear 層のパラメータ数などを変更することができます。\n",
        "例えば、`self.l1` の出力ノード数を 100 にするには、以下のようにします。"
      ]
    },
    {
      "metadata": {
        "id": "-5sQW4-jB0nK",
        "colab_type": "code",
        "colab": {}
      },
      "cell_type": "code",
      "source": [
        "net = Net(n_hidden=100)"
      ],
      "execution_count": 0,
      "outputs": []
    },
    {
      "metadata": {
        "id": "rkWYRPBnB0nL",
        "colab_type": "text"
      },
      "cell_type": "markdown",
      "source": [
        "このように、Chain を継承したクラスを用いてネットワークを定義すると、インスタンス化の際に各層の出力ノード数などを変更することができ、より柔軟性とコードの再利用性が高まります。"
      ]
    },
    {
      "metadata": {
        "id": "9zGKWoUKB0nN",
        "colab_type": "text"
      },
      "cell_type": "markdown",
      "source": [
        "## Step 3 の改善: 目的関数の工夫\n",
        "\n",
        "前章では、分類問題を解くために `F.softmax_cross_entorpy` という目的関数を使用しました。\n",
        "これはネットワークの出力を ${\\bf y}$ とおくと、以下のような式で表される計算を行っています。\n",
        "\n",
        "$$\n",
        "\\begin{align}\n",
        "\\hat{\\bf y} &= {\\rm softmax}({\\bf y}) \\\\\n",
        "L(\\boldsymbol\\Theta) &= \\sum_{k=1}^K \\hat{y}_k \\log t_k\n",
        "\\end{align}\n",
        "$$\n",
        "\n",
        "ただし、$\\hat{y}_k, t_k$ はそれぞれ $\\hat{\\bf y}$ の $k$ 番目の要素と、1-hotベクトル表現されたクラスラベルを表す目的変数 ${\\bf t}$ の $k$ 番目の要素をそれぞれ表しています。\n",
        "また、$\\boldsymbol\\Theta$ はネットワークが持つ全パラメータを指します。\n",
        "\n",
        "ここで、この目的関数に**正則化項 (regularization term)** を追加してみましょう。\n",
        "**正則化 (regularization)** とは、過学習を防ぐために、目的関数に新たな項を追加して、モデルの複雑さに罰則を科したり、パラメータのノルムの大きさに罰則をかけたりすることを指します。\n",
        "そのために目的関数に追加される項が正則化項です。\n",
        "\n",
        "ここでは、**重み減衰 (weight decay)** と呼ばれる正則化を適用してみましょう。\n",
        "これは、**L2正則化 (L2 regularization)** とも呼ばれます。\n",
        "重み減衰を行う場合、最適化する目的関数は以下になります。\n",
        "\n",
        "$$\n",
        "L(\\boldsymbol\\Theta) + \\lambda \\frac{1}{2} \\sum_w || w ||^2\n",
        "$$\n",
        "\n",
        "ここで、$w$ はネットワークのパラメータを指し、上式の第 2 項は全てのパラメータの値を二乗したものの総和を取り、2 で割るという計算を意味します。\n",
        "この項を目的関数に加えると、ネットワークの重みの絶対値が大きくなりすぎないようにする効果があり、過学習を防ぐために役立ちます。\n",
        "$\\lambda$ は正則化の強さをコントロールします。\n",
        "新しい目的関数を用いる場合のパラメータの更新式は一般に以下となります。\n",
        "\n",
        "$$\n",
        "w \\leftarrow w - \\eta \\left( \\frac{\\partial L(\\boldsymbol\\Theta)}{\\partial w} + \\lambda w \\right)\n",
        "$$\n",
        "\n",
        "ここで、$\\eta$ は学習率を表します。\n",
        "この式から、パラメータ更新の際にパラメータ自身の更新前の値に $\\lambda$ を乗じたものを更新量に加えればよいということが分かります。\n",
        "重み減衰はバイアスの更新式には通常適用しないことに注意してください[<sup>*1</sup>](#no_weight_decay_for_bias]。\n",
        "\n",
        "Chainer は、パラメータを更新する際に更新計算をカスタマイズする方法を 2 種類提供しています。\n",
        "\n",
        "1 つは、ネットワークが持つパラメータ全てに対して一様に、更新時にある処理を行いたい場合に使える、Optimizer hook という機能です。\n",
        "これは、Optimizer オブジェクトの `add_hook()` メソッドに更新時に全パラメータに対して行いたい処理を記述した関数を渡して使用します。\n",
        "\n",
        "もう 1 つは、パラメータごとに別々に処理を行いたい場合に使える方法で、ネットワークのパラメータが持っている UpdateRule というオブジェクトにフック関数を追加します。\n",
        "全ての訓練可能なパラメータは、Optimizer オブジェクトの `setup()` メソッドに渡された際に `update_rule` という属性に UpdateRule オブジェクトがセットされます。\n",
        "この UpdateRule オブジェクトは、最適化手法によって異なる更新ルールが記述されたもので、`add_hook()` メソッドを持ち、ここに Optimizer hook または任意の関数を追加することができます。\n",
        "これを用いると、更新時にパラメータごとに別の関数を読んで更新計算をカスタマイズすることができます。\n",
        "重み減衰は、前述のようにバイアスには適用しないため、今回は UpdateRule に対してフック関数を追加します。\n",
        "\n",
        "Chainer では、`chainer.optimizer_hooks` モジュール以下に数種類の正則化手法が定義されており、重み減衰は `WeightDecay` というクラスとして定義されています。それでは、これを用いて前章と同様に最適化手法として SGD を採用しつつ、新たに重み減衰を適用するような `optimizer` を定義しましょう。"
      ]
    },
    {
      "metadata": {
        "id": "tJ0SSjEbB0nN",
        "colab_type": "code",
        "colab": {}
      },
      "cell_type": "code",
      "source": [
        "from chainer import optimizers\n",
        "from chainer.optimizer_hooks import WeightDecay\n",
        "\n",
        "optimizer = optimizers.SGD(lr=0.001)  # 学習率を 0.01 に設定\n",
        "optimizer.setup(net)\n",
        "\n",
        "for param in net.params():\n",
        "    if param.name != 'b':  # バイアス以外だったら\n",
        "        param.update_rule.add_hook(WeightDecay(0.0001))  # 重み減衰を適用"
      ],
      "execution_count": 0,
      "outputs": []
    },
    {
      "metadata": {
        "id": "ibR__ayVB0nP",
        "colab_type": "text"
      },
      "cell_type": "markdown",
      "source": [
        "ネットワークの持つパラメータは、Chain クラスの `params()` メソッドを使って取得することができます。\n",
        "また、Linear クラスの中でバイアスは `b` という名前で定義されているため、各パラメータの名前をチェックして `b` という名前**でない**場合にだけ WeightDecay を UpdateRule にフック関数として追加しています。\n",
        "WeightDecay クラスはインスタンス化時に引数を 1 つとり、前述の $\\lambda$ に対応する係数を指定することができます。\n",
        "ここでは、`0.0001` を指定しています。"
      ]
    },
    {
      "metadata": {
        "id": "jrugJ9mnB0nR",
        "colab_type": "text"
      },
      "cell_type": "markdown",
      "source": [
        "## Step 4 の改善: 最適化手法の工夫\n",
        "\n",
        "前章では、Chainer が提供している最もシンプルな最適化手法の一つである SGD を用いていました。\n",
        "\n",
        "Chainer は SGD の他にも多くの最適化手法を提供しています。\n",
        "ここでは、その中でも代表的な手法の一つである MomentumSGD という手法を用いるように変更を加えてみましょう。\n",
        "\n",
        "MomentumSGD は SGD の改良版で、パラメータ更新の際に**前回の更新量**を使って更新方向がスムーズになるように工夫するもので、更新式は以下になります。\n",
        "\n",
        "$$\n",
        "\\Delta w_t = \\frac{\\partial L(\\boldsymbol\\Theta)}{\\partial w^{(t)}} \\\\\n",
        "w \\leftarrow w - \\eta \\Delta x_{t} + \\mu \\Delta x_{t - 1}\n",
        "$$\n",
        "\n",
        "ここで、$t$ 回目の更新量を $\\Delta x_t$ とおいています。\n",
        "また、$\\mu$ は前回更新量に掛ける係数で、多くの場合 $0.9$ 程度が用いられます。\n",
        "これを前節で解説した重み減衰と合わせて用いると、更新式は以下のようになります。\n",
        "\n",
        "$$\n",
        "w \\leftarrow w - \\eta \\Delta x_{t} + \\mu \\Delta x_{t - 1} - \\eta \\lambda w\n",
        "$$\n",
        "\n",
        "それでは、MomentumSGD に加えて重み減衰を用いる Optimizer を定義してみましょう。"
      ]
    },
    {
      "metadata": {
        "id": "WmAMfydDB0nR",
        "colab_type": "code",
        "colab": {}
      },
      "cell_type": "code",
      "source": [
        "from chainer import optimizers\n",
        "from chainer.optimizer_hooks import WeightDecay\n",
        "\n",
        "optimizer = optimizers.MomentumSGD(lr=0.001, momentum=0.9)\n",
        "optimizer.setup(net)\n",
        "\n",
        "for param in net.params():\n",
        "    if param.name != 'b':  # バイアス以外だったら\n",
        "        param.update_rule.add_hook(WeightDecay(0.0001))  # 重み減衰を適用"
      ],
      "execution_count": 0,
      "outputs": []
    },
    {
      "metadata": {
        "id": "hfOZ7GKBB0nU",
        "colab_type": "text"
      },
      "cell_type": "markdown",
      "source": [
        "## Step 5 の改善：ネットワークの訓練における工夫\n",
        "\n",
        "最後に、ネットワークの訓練を高速化するために GPU を用いる方法を紹介します。\n",
        "\n",
        "Iris データセットはデータ数が少なく、各データの次元数も小さい上に、前章では訓練したニューラルネットワークのパラメータ数も多くありませんでした。\n",
        "そのため、CPU を使ってもそこまで長く待たされることなく訓練が終了しました。\n",
        "\n",
        "しかし、より大きなデータセットを使い、より多くの層を持つニューラルネットワークを訓練しようとすると、CPU だけでは膨大な時間がかかってしまいます。\n",
        "そこで、GPU を使って計算を高速化する必要が出てきます。\n",
        "\n",
        "まず、GPU が使える環境であることを確認しましょう。\n",
        "こちらを参考に GPU を有効にしてください。参考：[GPU を使用する](01_Welcome_to_Chainer_Tutorial_ja.html#GPU-%E3%82%92%E4%BD%BF%E7%94%A8%E3%81%99%E3%82%8B)\n",
        "\n",
        "また、一台のマシンに複数の GPU を挿して用いる場合もあるため、GPU を用いる際はデバイス ID というものを意識する必要がありますが、Google Colaboratory では利用できる GPU が 1 枚だけなので、このデバイス ID としては基本的に 0 を指定すれば良いことになります。\n",
        "\n",
        "GPU を利用したい場合、ネットワークの訓練を開始する前に気をつけることは主に以下の 2 つです。\n",
        "\n",
        "- ネットワークを `to_gpu()` を用いて GPU メモリ上に転送しておく\n",
        "- ネットワークに入力するデータを CuPy の ndarray に変換しておく\n",
        "\n",
        "それでは、訓練ループを GPU を使用する形に変更してみましょう。"
      ]
    },
    {
      "metadata": {
        "scrolled": true,
        "id": "gnow4tVkB0nV",
        "colab_type": "code",
        "outputId": "0ebab6be-ba98-4142-bcbd-075aa98ebc7e",
        "colab": {
          "base_uri": "https://localhost:8080/",
          "height": 917
        }
      },
      "cell_type": "code",
      "source": [
        "gpu_id = 0  # 使用する GPU 番号\n",
        "n_batch = 64  # バッチサイズ\n",
        "n_epoch = 50  # エポック数\n",
        "\n",
        "# ネットワークを GPU メモリ上に転送\n",
        "net.to_gpu(gpu_id)\n",
        "\n",
        "# ログ\n",
        "results_train, results_valid = {}, {}\n",
        "results_train['loss'], results_train['accuracy'] = [], []\n",
        "results_valid['loss'], results_valid['accuracy'] = [], []\n",
        "\n",
        "train_iter.reset()  # 上で一度 next() が呼ばれているため\n",
        "\n",
        "count = 1\n",
        "\n",
        "for epoch in range(n_epoch):\n",
        "    \n",
        "    while True:\n",
        "        \n",
        "        # ミニバッチの取得\n",
        "        train_batch = train_iter.next()\n",
        "        \n",
        "        # x と t に分割\n",
        "        # データを GPU に転送するために、concat_examples に gpu_id を渡す\n",
        "        x_train, t_train = chainer.dataset.concat_examples(train_batch, gpu_id)\n",
        "\n",
        "        # 予測値と目的関数の計算\n",
        "        y_train = net(x_train)\n",
        "        loss_train = F.softmax_cross_entropy(y_train, t_train)\n",
        "        acc_train = F.accuracy(y_train, t_train)\n",
        "\n",
        "        # 勾配の初期化と勾配の計算\n",
        "        net.cleargrads()\n",
        "        loss_train.backward()\n",
        "\n",
        "        # パラメータの更新\n",
        "        optimizer.update()\n",
        "    \n",
        "        # カウントアップ\n",
        "        count += 1\n",
        "\n",
        "        # 1エポック終えたら、valid データで評価する\n",
        "        if train_iter.is_new_epoch:\n",
        "\n",
        "            # 検証用データに対する結果の確認\n",
        "            with chainer.using_config('train', False), chainer.using_config('enable_backprop', False):\n",
        "                x_valid, t_valid = chainer.dataset.concat_examples(valid, gpu_id)\n",
        "                y_valid = net(x_valid)\n",
        "                loss_valid = F.softmax_cross_entropy(y_valid, t_valid)\n",
        "                acc_valid = F.accuracy(y_valid, t_valid)\n",
        "            \n",
        "            # 注意：GPU で計算した結果はGPU上に存在するため、CPU上に転送します\n",
        "            loss_train.to_cpu()\n",
        "            loss_valid.to_cpu()\n",
        "            acc_train.to_cpu()\n",
        "            acc_valid.to_cpu()\n",
        "\n",
        "            # 結果の表示\n",
        "            print('epoch: {}, iteration: {}, loss (train): {:.4f}, loss (valid): {:.4f}'\n",
        "                  'acc (train): {:.4f}, acc (valid): {:.4f}'.format(\n",
        "                epoch, count, loss_train.array.mean(), loss_valid.array.mean(),\n",
        "                  acc_train.array.mean(), acc_valid.array.mean()))\n",
        "\n",
        "            # 可視化用に保存\n",
        "            results_train['loss'] .append(loss_train.array)\n",
        "            results_train['accuracy'] .append(acc_train.array)\n",
        "            results_valid['loss'].append(loss_valid.array)\n",
        "            results_valid['accuracy'].append(acc_valid.array)\n",
        "            \n",
        "            break"
      ],
      "execution_count": 12,
      "outputs": [
        {
          "output_type": "stream",
          "text": [
            "epoch: 0, iteration: 20, loss (train): 0.5593, loss (valid): 1.1641acc (train): 0.7500, acc (valid): 0.2812\n",
            "epoch: 1, iteration: 38, loss (train): 0.5643, loss (valid): 0.6651acc (train): 0.7500, acc (valid): 0.6562\n",
            "epoch: 2, iteration: 56, loss (train): 0.6048, loss (valid): 0.4401acc (train): 0.5000, acc (valid): 0.9375\n",
            "epoch: 3, iteration: 74, loss (train): 0.4558, loss (valid): 0.3911acc (train): 1.0000, acc (valid): 0.9062\n",
            "epoch: 4, iteration: 93, loss (train): 0.5761, loss (valid): 0.3446acc (train): 0.7500, acc (valid): 0.9375\n",
            "epoch: 5, iteration: 111, loss (train): 0.3042, loss (valid): 0.3256acc (train): 0.7500, acc (valid): 0.9062\n",
            "epoch: 6, iteration: 129, loss (train): 0.5116, loss (valid): 0.2832acc (train): 0.7500, acc (valid): 0.9688\n",
            "epoch: 7, iteration: 147, loss (train): 0.2061, loss (valid): 0.2661acc (train): 1.0000, acc (valid): 0.9688\n",
            "epoch: 8, iteration: 166, loss (train): 0.2615, loss (valid): 0.2774acc (train): 1.0000, acc (valid): 0.9062\n",
            "epoch: 9, iteration: 184, loss (train): 0.1087, loss (valid): 0.2717acc (train): 1.0000, acc (valid): 0.9062\n",
            "epoch: 10, iteration: 202, loss (train): 0.4066, loss (valid): 0.2312acc (train): 0.7500, acc (valid): 0.9062\n",
            "epoch: 11, iteration: 220, loss (train): 0.3363, loss (valid): 0.2006acc (train): 1.0000, acc (valid): 0.9688\n",
            "epoch: 12, iteration: 239, loss (train): 0.0416, loss (valid): 0.1949acc (train): 1.0000, acc (valid): 0.9688\n",
            "epoch: 13, iteration: 257, loss (train): 0.2825, loss (valid): 0.1808acc (train): 1.0000, acc (valid): 0.9688\n",
            "epoch: 14, iteration: 275, loss (train): 0.1560, loss (valid): 0.1756acc (train): 1.0000, acc (valid): 0.9688\n",
            "epoch: 15, iteration: 293, loss (train): 0.1390, loss (valid): 0.1652acc (train): 1.0000, acc (valid): 0.9688\n",
            "epoch: 16, iteration: 312, loss (train): 0.1830, loss (valid): 0.1681acc (train): 1.0000, acc (valid): 0.9688\n",
            "epoch: 17, iteration: 330, loss (train): 0.2390, loss (valid): 0.2024acc (train): 0.7500, acc (valid): 0.9375\n",
            "epoch: 18, iteration: 348, loss (train): 0.3004, loss (valid): 0.2069acc (train): 0.7500, acc (valid): 0.9375\n",
            "epoch: 19, iteration: 366, loss (train): 0.2484, loss (valid): 0.2422acc (train): 1.0000, acc (valid): 0.9062\n",
            "epoch: 20, iteration: 385, loss (train): 0.1464, loss (valid): 0.1604acc (train): 1.0000, acc (valid): 0.9688\n",
            "epoch: 21, iteration: 403, loss (train): 0.0658, loss (valid): 0.1955acc (train): 1.0000, acc (valid): 0.9375\n",
            "epoch: 22, iteration: 421, loss (train): 0.0356, loss (valid): 0.1353acc (train): 1.0000, acc (valid): 0.9688\n",
            "epoch: 23, iteration: 439, loss (train): 0.0311, loss (valid): 0.1364acc (train): 1.0000, acc (valid): 0.9688\n",
            "epoch: 24, iteration: 458, loss (train): 0.1637, loss (valid): 0.2239acc (train): 1.0000, acc (valid): 0.9375\n",
            "epoch: 25, iteration: 476, loss (train): 0.2006, loss (valid): 0.1916acc (train): 0.7500, acc (valid): 0.9375\n",
            "epoch: 26, iteration: 494, loss (train): 0.0653, loss (valid): 0.1236acc (train): 1.0000, acc (valid): 0.9688\n",
            "epoch: 27, iteration: 512, loss (train): 0.0439, loss (valid): 0.1450acc (train): 1.0000, acc (valid): 0.9688\n",
            "epoch: 28, iteration: 531, loss (train): 0.1530, loss (valid): 0.1344acc (train): 1.0000, acc (valid): 0.9688\n",
            "epoch: 29, iteration: 549, loss (train): 0.0254, loss (valid): 0.1868acc (train): 1.0000, acc (valid): 0.9375\n",
            "epoch: 30, iteration: 567, loss (train): 0.0116, loss (valid): 0.1161acc (train): 1.0000, acc (valid): 0.9688\n",
            "epoch: 31, iteration: 585, loss (train): 0.4323, loss (valid): 0.1480acc (train): 0.7500, acc (valid): 0.9688\n",
            "epoch: 32, iteration: 604, loss (train): 0.1224, loss (valid): 0.1690acc (train): 1.0000, acc (valid): 0.9375\n",
            "epoch: 33, iteration: 622, loss (train): 0.0210, loss (valid): 0.1609acc (train): 1.0000, acc (valid): 0.9688\n",
            "epoch: 34, iteration: 640, loss (train): 0.1189, loss (valid): 0.1293acc (train): 1.0000, acc (valid): 0.9688\n",
            "epoch: 35, iteration: 658, loss (train): 0.0847, loss (valid): 0.2146acc (train): 1.0000, acc (valid): 0.9375\n",
            "epoch: 36, iteration: 677, loss (train): 0.0386, loss (valid): 0.1923acc (train): 1.0000, acc (valid): 0.9375\n",
            "epoch: 37, iteration: 695, loss (train): 0.0031, loss (valid): 0.1275acc (train): 1.0000, acc (valid): 0.9688\n",
            "epoch: 38, iteration: 713, loss (train): 0.0507, loss (valid): 0.1597acc (train): 1.0000, acc (valid): 0.9688\n",
            "epoch: 39, iteration: 731, loss (train): 0.4128, loss (valid): 0.1880acc (train): 0.7500, acc (valid): 0.9375\n",
            "epoch: 40, iteration: 750, loss (train): 0.1969, loss (valid): 0.2146acc (train): 0.7500, acc (valid): 0.9375\n",
            "epoch: 41, iteration: 768, loss (train): 0.2036, loss (valid): 0.1166acc (train): 0.7500, acc (valid): 0.9688\n",
            "epoch: 42, iteration: 786, loss (train): 0.0283, loss (valid): 0.1864acc (train): 1.0000, acc (valid): 0.9375\n",
            "epoch: 43, iteration: 804, loss (train): 0.1069, loss (valid): 0.1909acc (train): 1.0000, acc (valid): 0.9375\n",
            "epoch: 44, iteration: 823, loss (train): 0.7707, loss (valid): 0.5453acc (train): 0.7500, acc (valid): 0.8125\n",
            "epoch: 45, iteration: 841, loss (train): 1.0361, loss (valid): 0.2338acc (train): 0.5000, acc (valid): 0.9375\n",
            "epoch: 46, iteration: 859, loss (train): 0.0143, loss (valid): 0.1414acc (train): 1.0000, acc (valid): 0.9688\n",
            "epoch: 47, iteration: 877, loss (train): 0.0228, loss (valid): 0.1150acc (train): 1.0000, acc (valid): 0.9688\n",
            "epoch: 48, iteration: 896, loss (train): 0.0280, loss (valid): 0.1984acc (train): 1.0000, acc (valid): 0.9375\n",
            "epoch: 49, iteration: 914, loss (train): 0.0225, loss (valid): 0.4470acc (train): 1.0000, acc (valid): 0.8438\n"
          ],
          "name": "stdout"
        }
      ]
    },
    {
      "metadata": {
        "id": "9ov7mFSpB0nX",
        "colab_type": "text"
      },
      "cell_type": "markdown",
      "source": [
        "GPU を用いて訓練することができました。\n",
        "\n",
        "前章で CPU を用いて訓練を行ったとき同様に、損失と精度が訓練が進むにつれてどのように変化していったかを確認してみましょう。"
      ]
    },
    {
      "metadata": {
        "id": "CR9PVafRB0nX",
        "colab_type": "code",
        "outputId": "8e5a223a-470c-4066-a10a-406baa20df1b",
        "colab": {
          "base_uri": "https://localhost:8080/",
          "height": 677
        }
      },
      "cell_type": "code",
      "source": [
        "import matplotlib.pyplot as plt\n",
        "\n",
        "# 損失 (loss)\n",
        "plt.plot(results_train['loss'], label='train')  # label で凡例の設定\n",
        "plt.plot(results_valid['loss'], label='valid')  # label で凡例の設定\n",
        "plt.legend()  # 凡例の表示\n",
        "plt.show()\n",
        "\n",
        "# 精度 (accuracy)\n",
        "plt.plot(results_train['accuracy'], label='train')  # label で凡例の設定\n",
        "plt.plot(results_valid['accuracy'], label='valid')  # label で凡例の設定\n",
        "plt.legend()  # 凡例の表示\n",
        "plt.show()"
      ],
      "execution_count": 13,
      "outputs": [
        {
          "output_type": "display_data",
          "data": {
            "image/png": "[encoded data removed]",
            "text/plain": [
              "<Figure size 576x396 with 1 Axes>"
            ]
          },
          "metadata": {
            "tags": []
          }
        },
        {
          "output_type": "display_data",
          "data": {
            "image/png": "[encoded data removed]",
            "text/plain": [
              "<Figure size 576x396 with 1 Axes>"
            ]
          },
          "metadata": {
            "tags": []
          }
        }
      ]
    },
    {
      "metadata": {
        "id": "y0OPzzLLB0nZ",
        "colab_type": "text"
      },
      "cell_type": "markdown",
      "source": [
        "テストデータに対する評価も行ってみましょう。"
      ]
    },
    {
      "metadata": {
        "id": "rBEWlrEQB0nZ",
        "colab_type": "code",
        "outputId": "6f33f8fe-51cd-410d-8ed8-a7136e0ea57c",
        "colab": {
          "base_uri": "https://localhost:8080/",
          "height": 53
        }
      },
      "cell_type": "code",
      "source": [
        "# テストデータに対する損失と精度を計算\n",
        "x_test, t_test = chainer.dataset.concat_examples(test, device=gpu_id)\n",
        "with chainer.using_config('train', False), chainer.using_config('enable_backprop', False):\n",
        "    y_test = net(x_test)\n",
        "    loss_test = F.softmax_cross_entropy(y_test, t_test)\n",
        "    acc_test = F.accuracy(y_test, t_test)\n",
        "\n",
        "print('test loss: {:.4f}'.format(loss_test.array.get()))\n",
        "print('test accuracy: {:.4f}'.format(acc_test.array.get()))"
      ],
      "execution_count": 14,
      "outputs": [
        {
          "output_type": "stream",
          "text": [
            "test loss: 0.3595\n",
            "test accuracy: 0.8889\n"
          ],
          "name": "stdout"
        }
      ]
    },
    {
      "metadata": {
        "id": "NR_SgKvCB0nb",
        "colab_type": "text"
      },
      "cell_type": "markdown",
      "source": [
        "### GPU を用いて訓練したネットワークの保存\n",
        "\n",
        "訓練に GPU を用いた場合は、`save_npz()` 関数を使ったネットワーク重みの保存の際に、まずネットワークのパラメータを CPU メモリ上に転送することを忘れないでください。"
      ]
    },
    {
      "metadata": {
        "id": "WLO02jJeB0nc",
        "colab_type": "code",
        "colab": {}
      },
      "cell_type": "code",
      "source": [
        "from chainer.serializers import save_npz\n",
        "\n",
        "net.to_cpu()\n",
        "\n",
        "save_npz('net.npz', net)"
      ],
      "execution_count": 0,
      "outputs": []
    },
    {
      "metadata": {
        "id": "mG01NSw2B0nd",
        "colab_type": "text"
      },
      "cell_type": "markdown",
      "source": [
        "正常に保存できているかどうか、読み込んで確認してみます。"
      ]
    },
    {
      "metadata": {
        "id": "smWRyj5vB0ne",
        "colab_type": "code",
        "outputId": "9c15365e-e355-46d3-8863-5fa1b5c0cc93",
        "colab": {
          "base_uri": "https://localhost:8080/",
          "height": 125
        }
      },
      "cell_type": "code",
      "source": [
        "import numpy as np\n",
        "\n",
        "params = np.load('net.npz')\n",
        "\n",
        "for key, param in params.items():\n",
        "    print(key, ':\\t', param.shape)"
      ],
      "execution_count": 16,
      "outputs": [
        {
          "output_type": "stream",
          "text": [
            "l2/W :\t (100, 100)\n",
            "l2/b :\t (100,)\n",
            "l3/W :\t (3, 100)\n",
            "l3/b :\t (3,)\n",
            "l1/W :\t (100, 4)\n",
            "l1/b :\t (100,)\n"
          ],
          "name": "stdout"
        }
      ]
    },
    {
      "metadata": {
        "id": "ZJ51mqRnB0nf",
        "colab_type": "text"
      },
      "cell_type": "markdown",
      "source": [
        "<hr />\n",
        "<span id=\"no_weight_decay_for_bias\"><sup>*1</sup> : <small>\n",
        "    重み減衰をバイアスに適用することは、大抵最終的なネットワークの訓練結果に小さな違いしかもたらしません。（参考：[Backpropagation Algorithm](http://deeplearning.stanford.edu/wiki/index.php/Backpropagation_Algorithm)）\n",
        "    </small></span>"
      ]
    }
  ]
}
