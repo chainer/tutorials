{
    "nbformat": 4,
    "nbformat_minor": 0,
    "metadata": {
        "kernelspec": {
            "display_name": "Python 3",
            "language": "python",
            "name": "python3"
        },
        "language_info": {
            "codemirror_mode": {
                "name": "ipython",
                "version": 3
            },
            "file_extension": ".py",
            "mimetype": "text/x-python",
            "name": "python",
            "nbconvert_exporter": "python",
            "pygments_lexer": "ipython3",
            "version": "3.6.8"
        }
    },
    "cells": [
        {
            "metadata": {
                "colab_type": "text",
                "id": "25uCzlEJ6aG0"
            },
            "cell_type": "markdown",
            "source": [
                "# ChainerUI で学習経過を可視化\n",
                "\n",
                "ChainerUI は Chainer で実験中の訓練ログの可視化や実験管理機能を追加するパッケージです。  \n",
                "詳細な ChainerUI の情報は[公式ドキュメント](https://github.com/chainer/chainerui)を参照してください。  \n",
                "\n",
                "ChainerUI の主な機能には下記の 3 点が挙げられます。  \n",
                "\n",
                "**ChainerUI の主な機能**\n",
                "\n",
                "- 訓練ログの可視化\n",
                "- 実験履歴の閲覧\n",
                "- 実行中の実験に対する操作（スナップショットの保存・ハイパーパラメータの修正）\n",
                "\n",
                "これらの機能によって、実行中の実験の進捗確認や、複数の実験の結果を手軽に管理できます。  \n",
                "\n",
                "\n",
                "## ローカルの環境構築\n",
                "\n",
                "本章で紹介する ChainerUI はローカル環境のコマンドラインを使用して実行します。\n",
                "そのため、前章までの Google Colaboratory の環境ではなく、お手元の PC で Chainer と ChainerUI を実行する必要があります。\n",
                "PC の実行環境の構築が完了していない方は、OS に合わせて下記の記事を参照してください。   \n",
                "\n",
                "**Mac の方**  \n",
                "[Mac 環境構築](https://qiita.com/yoshizaki_kkgk/items/4663148a2b3ca078ddbc)\n",
                "\n",
                "**Windows の方**  \n",
                "[Windows 環境構築](https://qiita.com/yoshizaki_kkgk/items/1057ed4dcc36ed9be7f5)\n"
            ]
        },
        {
            "metadata": {
                "id": "I0ttcvuO7PW4",
                "colab_type": "text"
            },
            "cell_type": "markdown",
            "source": [
                "## ChainerUI の設定\n",
                "\n",
                "設定は主にコマンドラインを使用して行います。  \n",
                "\n",
                "まずは ChainerUI をインストールしましょう。  \n",
                "\n",
                "`command line`\n",
                "\n",
                "```\n",
                "pip install chainerui\n",
                "```\n",
                "\n",
                "※本章ではコード表記の部分はコマンドラインでの実行するものとします。  \n",
                "\n",
                "データベースを作成します。  \n",
                "\n",
                "```\n",
                "chainerui db create\n",
                "chainerui db upgrade\n",
                "\n",
                "```\n",
                "\n",
                "最後にプロジェクトを作成して、サーバを起動すれば ChainerUI の画面をブラウザで確認することができます。  \n",
                "\n",
                "```\n",
                "chainerui project create -d result -n mnist-project\n",
                "chainerui server\n",
                "```\n",
                "\n",
                "このコマンドを実行後にブラウザで[ローカルホスト（http://localhost:5000/）](http://localhost:5000/)にアクセスすると ChainerUI の画面を表示することができます。  \n",
                "\n",
                "ブラウザには下記のようにプロジェクトの一覧が表示されています。   \n",
                "\n",
                "![ChainerUI Projects](images/15/15_01.png)\n",
                "\n",
                "\n",
                "なお、 `chainerui project create` 実行時に指定しているオプションは以下のとおりです。  \n",
                "\n",
                "- `-d` ：プロジェクトのディレクトリ（ `--project-dir` と同義）\n",
                "- `-n` ：プロジェクトの名前（ `--project-name` と同義）\n",
                "\n",
                "これで ChainerUI の設定は完了です。  \n",
                "実際にモデルの訓練を行い、その結果を確認します。"
            ]
        },
        {
            "metadata": {
                "id": "yu5-GFCL7PW5",
                "colab_type": "text"
            },
            "cell_type": "markdown",
            "source": [
                "## ChainerUI で訓練の経過を可視化\n",
                "\n",
                "今回は Chainer がデフォルトで用意してあるデータセットである `MNIST` を使用して、訓練結果を確認します。  \n",
                "\n",
                "今回は Colaboratory ではなく、手元の PC 上で Jupyter Notebook を立ち上げてブラウザで操作していきましょう。\n",
                "\n",
                "コマンドラインから `jupyter notebook` を実行してください。\n",
                "\n",
                "```\n",
                "pip install jupyter\n",
                "jupyter notebook\n",
                "```\n",
                "\n",
                "\n",
                "`jupyter notebook` を立ち上げる際には、先ほどプロジェクトを作成したディレクトリ階層と同じ階層で立ち上げてください。  \n",
                "\n",
                "立ち上げると、自動的にブラウザが `jupyter notebook` のページを開くと思います。\n",
                "画面右側の `New` と書かれたボタンから `Python 3` をクリックしてください。これで、今回使う新たなノートブック（ファイル名 `Untitled.ipynb`）ができました。このノートブック上では `Colaboratory` と基本操作は変わりませんので、これまで同様に以下のコードを実行しながらチュートリアルを進めていってください。\n",
                "\n",
                "\n",
                "### データの準備\n"
            ]
        },
        {
            "metadata": {
                "id": "gSkNUzyv7PW5",
                "colab_type": "code",
                "colab": {}
            },
            "cell_type": "code",
            "source": [
                "# 必要なモジュールのインポート\n",
                "%matplotlib inline\n",
                "import numpy as np\n",
                "import pandas as pd\n",
                "import matplotlib.pyplot as plt"
            ],
            "execution_count": 1,
            "outputs": []
        },
        {
            "metadata": {
                "id": "wyG4caxz7PW8",
                "colab_type": "code",
                "colab": {}
            },
            "cell_type": "code",
            "source": [
                "from chainer.datasets import get_mnist\n",
                "train, valid = get_mnist(ndim=3)"
            ],
            "execution_count": 2,
            "outputs": []
        },
        {
            "metadata": {
                "id": "qJgfL6Fq7PW-",
                "colab_type": "code",
                "outputId": "77518325-b5d3-4ad8-d43f-93e964353528",
                "colab": {}
            },
            "cell_type": "code",
            "source": [
                "len(train)"
            ],
            "execution_count": 3,
            "outputs": [
                {
                    "output_type": "execute_result",
                    "data": {
                        "text/plain": [
                            "60000"
                        ]
                    },
                    "metadata": {
                        "tags": []
                    },
                    "execution_count": 94
                }
            ]
        },
        {
            "metadata": {
                "id": "tiB4p3PG7PXC",
                "colab_type": "code",
                "outputId": "d7192e1e-97a6-4707-acd2-689598d55917",
                "colab": {}
            },
            "cell_type": "code",
            "source": [
                "len(valid)"
            ],
            "execution_count": 4,
            "outputs": [
                {
                    "output_type": "execute_result",
                    "data": {
                        "text/plain": [
                            "10000"
                        ]
                    },
                    "metadata": {
                        "tags": []
                    },
                    "execution_count": 95
                }
            ]
        },
        {
            "metadata": {
                "id": "KcbjkHV67PXE",
                "colab_type": "code",
                "outputId": "2bfe0cfb-e7b8-47e9-840f-07a892bc624e",
                "colab": {}
            },
            "cell_type": "code",
            "source": [
                "# 画像を表示\n",
                "img = train[0][0]\n",
                "plt.gray() # グレースケールの表示\n",
                "plt.imshow(img.transpose(1,2,0).reshape(28,28))"
            ],
            "execution_count": 5,
            "outputs": [
                {
                    "output_type": "execute_result",
                    "data": {
                        "text/plain": [
                            "<matplotlib.image.AxesImage at 0x182dca4da0>"
                        ]
                    },
                    "metadata": {
                        "tags": []
                    },
                    "execution_count": 96
                },
                {
                    "output_type": "display_data",
                    "data": {
                        "image/png": "[encoded data removed]",
                        "text/plain": [
                            "<matplotlib.figure.Figure at 0x182b0316a0>"
                        ]
                    },
                    "metadata": {
                        "tags": []
                    }
                }
            ]
        },
        {
            "metadata": {
                "id": "fP7KfuG07PXH",
                "colab_type": "text"
            },
            "cell_type": "markdown",
            "source": [
                "### モデルの構築\n",
                "\n",
                "今回はシンプルなネットワークで学習を行います。"
            ]
        },
        {
            "metadata": {
                "id": "qNrklbOU7PXI",
                "colab_type": "code",
                "colab": {}
            },
            "cell_type": "code",
            "source": [
                "import chainer\n",
                "import chainer.functions as F\n",
                "import chainer.links as L"
            ],
            "execution_count": 6,
            "outputs": []
        },
        {
            "metadata": {
                "id": "W7wmhkvW7PXK",
                "colab_type": "code",
                "colab": {}
            },
            "cell_type": "code",
            "source": [
                "class CNN(chainer.Chain):\n",
                "    \n",
                "    def __init__(self, n_mids, n_out=10):\n",
                "        super().__init__()\n",
                "        with self.init_scope():\n",
                "            self.conv1 = L.Convolution2D(1, 3, ksize=3, pad=1)\n",
                "            self.fc1 = L.Linear(None, n_mids)\n",
                "            self.fc2 = L.Linear(None, n_out)\n",
                "            \n",
                "    def __call__(self, x):\n",
                "        h = self.conv1(x)\n",
                "        h = self.fc1(h)\n",
                "        return self.fc2(h)"
            ],
            "execution_count": 7,
            "outputs": []
        },
        {
            "metadata": {
                "id": "3XFTHGlO7PXL",
                "colab_type": "code",
                "colab": {}
            },
            "cell_type": "code",
            "source": [
                "# 再現性の確保\n",
                "np.random.seed(0)"
            ],
            "execution_count": 8,
            "outputs": []
        },
        {
            "metadata": {
                "id": "z3vGhIW87PXO",
                "colab_type": "code",
                "colab": {}
            },
            "cell_type": "code",
            "source": [
                "# モデルの宣言\n",
                "model = L.Classifier(CNN(n_mids=100))"
            ],
            "execution_count": 9,
            "outputs": []
        },
        {
            "metadata": {
                "id": "j1gZVep07PXQ",
                "colab_type": "code",
                "outputId": "22a3a984-fab3-4526-ae38-250d21ceba4f",
                "colab": {}
            },
            "cell_type": "code",
            "source": [
                "# Optimizer の定義\n",
                "optimizer = chainer.optimizers.MomentumSGD()\n",
                "optimizer.setup(model)"
            ],
            "execution_count": 10,
            "outputs": [
                {
                    "output_type": "execute_result",
                    "data": {
                        "text/plain": [
                            "<chainer.optimizers.momentum_sgd.MomentumSGD at 0x10eee91d0>"
                        ]
                    },
                    "metadata": {
                        "tags": []
                    },
                    "execution_count": 109
                }
            ]
        },
        {
            "metadata": {
                "id": "nlaKh9wj7PXS",
                "colab_type": "code",
                "colab": {}
            },
            "cell_type": "code",
            "source": [
                "# Iterator の定義\n",
                "batchsize = 128\n",
                "train_iter = chainer.iterators.SerialIterator(train, batchsize)\n",
                "valid_iter = chainer.iterators.SerialIterator(valid, batchsize, repeat=False, shuffle=False)"
            ],
            "execution_count": 11,
            "outputs": []
        },
        {
            "metadata": {
                "id": "dJZRGeh97PXV",
                "colab_type": "code",
                "colab": {}
            },
            "cell_type": "code",
            "source": [
                "# Updater の定義\n",
                "epoch = 20\n",
                "updater = chainer.training.StandardUpdater(train_iter, optimizer, device=-1)"
            ],
            "execution_count": 12,
            "outputs": []
        },
        {
            "metadata": {
                "id": "d9pXad-F7PXY",
                "colab_type": "code",
                "colab": {}
            },
            "cell_type": "code",
            "source": [
                "# Trainer の定義\n",
                "trainer = chainer.training.Trainer(updater, (epoch, 'epoch'), out='result/result1')"
            ],
            "execution_count": 13,
            "outputs": []
        },
        {
            "metadata": {
                "id": "05qXbqAJ7PXa",
                "colab_type": "code",
                "colab": {}
            },
            "cell_type": "code",
            "source": [
                "# Extensions の定義\n",
                "from chainer.training import extensions\n",
                "\n",
                "trainer.extend(extensions.Evaluator(valid_iter, model, device=-1))\n",
                "trainer.extend(extensions.LogReport())\n",
                "trainer.extend(extensions.observe_lr())\n",
                "trainer.extend(extensions.PrintReport(['epoch',  'elapsed_time', 'main/loss', 'validation/main/loss','main/accuracy', 'validation/main/accuracy', 'lr']))"
            ],
            "execution_count": 14,
            "outputs": []
        },
        {
            "metadata": {
                "id": "fa0jqTLj7PXd",
                "colab_type": "code",
                "outputId": "4be9137b-65b0-42cd-f603-df657a4e75bd",
                "colab": {}
            },
            "cell_type": "code",
            "source": [
                "trainer.run()"
            ],
            "execution_count": 15,
            "outputs": [
                {
                    "output_type": "stream",
                    "text": [
                        "epoch       elapsed_time  main/loss   validation/main/loss  main/accuracy  validation/main/accuracy\n",
                        "\u001b[J1           8.24138       0.382281    0.30079               0.88736        0.914656                  \n",
                        "\u001b[J2           15.5793       0.303284    0.287084              0.913513       0.918513                  \n",
                        "\u001b[J3           23.4539       0.291399    0.280956              0.918094       0.919304                  \n",
                        "\u001b[J4           31.6198       0.284973    0.282258              0.919688       0.921282                  \n",
                        "\u001b[J5           39.6521       0.279567    0.278973              0.921908       0.923457                  \n",
                        "\u001b[J6           47.7481       0.276158    0.284074              0.922675       0.920194                  \n",
                        "\u001b[J7           55.6038       0.274972    0.274086              0.922958       0.924051                  \n",
                        "\u001b[J8           64.0174       0.269524    0.272165              0.925114       0.922765                  \n",
                        "\u001b[J9           71.7862       0.267383    0.274952              0.92574        0.922864                  \n",
                        "\u001b[J10          80.0123       0.265758    0.270579              0.925756       0.92415                   \n",
                        "\u001b[J11          87.5647       0.264621    0.272257              0.926139       0.925138                  \n",
                        "\u001b[J12          95.8557       0.262544    0.274347              0.927684       0.921282                  \n",
                        "\u001b[J13          103.518       0.260689    0.274131              0.927572       0.922369                  \n",
                        "\u001b[J14          111.335       0.259169    0.271484              0.927755       0.924248                  \n",
                        "\u001b[J15          119.391       0.258088    0.280343              0.928322       0.923556                  \n",
                        "\u001b[J16          127.157       0.256998    0.27546               0.92892        0.925534                  \n",
                        "\u001b[J17          135.355       0.255242    0.276131              0.928238       0.925633                  \n",
                        "\u001b[J18          143.561       0.254716    0.280343              0.929038       0.922468                  \n",
                        "\u001b[J19          150.957       0.253382    0.279625              0.929338       0.924545                  \n",
                        "\u001b[J20          159.422       0.251399    0.276035              0.929921       0.92415                   \n"
                    ],
                    "name": "stdout"
                }
            ]
        },
        {
            "metadata": {
                "id": "Wd99NTra7PXg",
                "colab_type": "text"
            },
            "cell_type": "markdown",
            "source": [
                "学習中に ChaienrUI を確認すると、訓練が下記のように進んでいることをリアルタイムで確認できます。\n",
                "\n",
                "![訓練の結果を確認](images/15/15_02.png)"
            ]
        },
        {
            "metadata": {
                "id": "MtBNlLb1YueG",
                "colab_type": "text"
            },
            "cell_type": "markdown",
            "source": [
                "## ChainerUI で実験内容を管理\n",
                "\n",
                "ここからは下記のような発展的な内容を紹介します。  \n",
                "\n",
                "- 訓練の設定の表示\n",
                "- 複数の訓練結果の表示\n",
                "- 訓練中のスナップショットの作成\n",
                "- 訓練中の学習係数の変更"
            ]
        },
        {
            "metadata": {
                "id": "dRdX7qyx7PXl",
                "colab_type": "text"
            },
            "cell_type": "markdown",
            "source": [
                "### 訓練の設定を表示\n",
                "\n",
                "実験時には、訓練やモデルについて様々な条件、設定、ハイパーパラメータを試すことになります。それらの値を忘れず毎回保存しておくことで、ChainerUI 上で訓練の結果とともに閲覧することができます。\n",
                "\n",
                "設定を以下のように辞書型に格納して保存しておきましょう。  \n",
                "\n",
                "この定義した辞書は `from chainerui.utils import save_args` で保存することが可能です。   \n",
                "`save_args(辞書, 保存先)` と指定すれば保存が実行されます。   \n",
                "\n",
                "\n",
                "※今回はそれぞれの値を直接ノートブック上に記述していますが、コマンドラインからスクリプトを実行する場合には、実行時に引数を設定できます。こちらの [GitHub](https://github.com/chainer/chainerui/blob/master/examples/train_mnist.py) のコード例を参照してください。  "
            ]
        },
        {
            "metadata": {
                "id": "4W_cQjI17PXn",
                "colab_type": "code",
                "colab": {}
            },
            "cell_type": "code",
            "source": [
                "# 引数の定義\n",
                "args = {\n",
                "    \"batchsize\":128,\n",
                "    \"epoch\":20,\n",
                "    \"frequency\":1,\n",
                "    \"resume\":'',\n",
                "    \"gpu\":-1,\n",
                "    \"out\":'result/result2',\n",
                "    \"unit\":50\n",
                "}"
            ],
            "execution_count": 16,
            "outputs": []
        },
        {
            "metadata": {
                "id": "FWoQIu2k7PXp",
                "colab_type": "code",
                "colab": {}
            },
            "cell_type": "code",
            "source": [
                "# 'result/result2' に保存\n",
                "import chainerui\n",
                "from chainerui.utils import save_args\n",
                "save_args(args, out_path=args[\"out\"])"
            ],
            "execution_count": 17,
            "outputs": []
        },
        {
            "metadata": {
                "id": "pY0_t9ws7PXr",
                "colab_type": "code",
                "colab": {}
            },
            "cell_type": "code",
            "source": [
                "# 再現性の確保\n",
                "np.random.seed(0)"
            ],
            "execution_count": 18,
            "outputs": []
        },
        {
            "metadata": {
                "id": "R9VuLlAi7PXt",
                "colab_type": "code",
                "colab": {}
            },
            "cell_type": "code",
            "source": [
                "# モデルの宣言\n",
                "model = L.Classifier(CNN(n_mids=args[\"unit\"]))"
            ],
            "execution_count": 19,
            "outputs": []
        },
        {
            "metadata": {
                "id": "xRv7j9e37PXu",
                "colab_type": "code",
                "outputId": "841b25ff-59f1-4858-d4a4-4f2e7ab62e0c",
                "colab": {}
            },
            "cell_type": "code",
            "source": [
                "# Optimizer の定義\n",
                "optimizer = chainer.optimizers.MomentumSGD()\n",
                "optimizer.setup(model)"
            ],
            "execution_count": 20,
            "outputs": [
                {
                    "output_type": "execute_result",
                    "data": {
                        "text/plain": [
                            "<chainer.optimizers.momentum_sgd.MomentumSGD at 0x182d7d2eb8>"
                        ]
                    },
                    "metadata": {
                        "tags": []
                    },
                    "execution_count": 125
                }
            ]
        },
        {
            "metadata": {
                "id": "1eyItQzd7PXy",
                "colab_type": "code",
                "colab": {}
            },
            "cell_type": "code",
            "source": [
                "# Iterator の定義\n",
                "train_iter = chainer.iterators.SerialIterator(train, args[\"batchsize\"])\n",
                "valid_iter = chainer.iterators.SerialIterator(valid, args[\"batchsize\"], repeat=False, shuffle=False)"
            ],
            "execution_count": 21,
            "outputs": []
        },
        {
            "metadata": {
                "id": "XOv5r6vW7PX0",
                "colab_type": "code",
                "colab": {}
            },
            "cell_type": "code",
            "source": [
                "# Updater の定義\n",
                "updater = chainer.training.StandardUpdater(train_iter, optimizer, device=args[\"gpu\"])"
            ],
            "execution_count": 22,
            "outputs": []
        },
        {
            "metadata": {
                "id": "4MVnRAiF7PX3",
                "colab_type": "text"
            },
            "cell_type": "markdown",
            "source": [
                "### 複数の訓練結果を表示\n",
                "\n",
                "複数の訓練結果を表示したい場合には、プロジェクトの階層の下に個別のディレクトリを作成してください。それぞれの訓練結果のログ（ファイル名 `log`）をまとめて表示することができます。\n",
                "\n",
                "例えば、先ほど訓練結果の出力先ディレクトリである `args.out` を `'result/result1'` や `'result/result2'` と指定しました。\n",
                "すると、下記のようなディレクトリ構造になっており、ChainerUI では `result/result1/log` と `result/result2/log` の両方から訓練結果を読み出して表示することができます。\n",
                "\n",
                "\n",
                "```bash\n",
                "作業ディレクトリ ─ Untitled.ipynb\n",
                "     　　　　└─  result\n",
                "         　   　　　└─  result1 ─ log\n",
                "         　　   　　└─  result2 ─ log\n",
                "```"
            ]
        },
        {
            "metadata": {
                "id": "vXDMfR3K7PX3",
                "colab_type": "code",
                "colab": {}
            },
            "cell_type": "code",
            "source": [
                "# Trainer の定義\n",
                "trainer = chainer.training.Trainer(updater, (args[\"epoch\"], 'epoch'), out=args[\"out\"])"
            ],
            "execution_count": 23,
            "outputs": []
        },
        {
            "metadata": {
                "id": "LL0qomNy7PX5",
                "colab_type": "text"
            },
            "cell_type": "markdown",
            "source": [
                "### 訓練中のスナップショットの作成・訓練中の学習係数の変更\n",
                "\n",
                "ChainerUI では、訓練中にコマンドを送ることで、訓練途中でスナップショットの作成や学習係数の変更を実行できます。\n",
                "そのための準備として `CommandsExtension` を `Trainer` に加えておく必要があります。以下のように新たにインポートした上で追加してください。  "
            ]
        },
        {
            "metadata": {
                "id": "9JYNDMk57PX7",
                "colab_type": "code",
                "colab": {}
            },
            "cell_type": "code",
            "source": [
                "# Extensions の設定\n",
                "from chainer.training import extensions\n",
                "from chainerui.extensions import CommandsExtension # import\n",
                "\n",
                "trainer.extend(extensions.Evaluator(valid_iter, model, device=args[\"gpu\"]))\n",
                "trainer.extend(extensions.LogReport())\n",
                "trainer.extend(extensions.observe_lr())\n",
                "trainer.extend(extensions.PrintReport(['epoch',  'elapsed_time', 'main/loss', 'validation/main/loss','main/accuracy', 'validation/main/accuracy', 'lr']))\n",
                "trainer.extend(CommandsExtension()) # 追加の extension"
            ],
            "execution_count": 24,
            "outputs": []
        },
        {
            "metadata": {
                "id": "rigAhtGZ7PX9",
                "colab_type": "code",
                "outputId": "1516b662-8858-4ffa-a3b6-7965c79e1418",
                "colab": {}
            },
            "cell_type": "code",
            "source": [
                "trainer.run()"
            ],
            "execution_count": 25,
            "outputs": [
                {
                    "output_type": "stream",
                    "text": [
                        "epoch       elapsed_time  main/loss   validation/main/loss  main/accuracy  validation/main/accuracy  lr        \n",
                        "\u001b[J1           12.7307       0.395813    0.227823              0.878432       0.933445                  0.01        \n",
                        "\u001b[J2           24.6422       0.205251    0.161081              0.93745        0.951345                  0.01        \n",
                        "\u001b[J3           36.3841       0.159259    0.148835              0.950926       0.952235                  0.01        \n",
                        "\u001b[J4           47.8973       0.13901     0.11666               0.9586         0.962322                  0.01        \n",
                        "\u001b[J5           58.7803       0.130257    0.115089              0.960904       0.963113                  0.01        \n",
                        "\u001b[J6           69.9611       0.124067    0.119879              0.961904       0.960938                  0.01        \n",
                        "\u001b[J7           80.7816       0.121443    0.109913              0.96257        0.96341                   0.01        \n",
                        "\u001b[J8           91.5325       0.11758     0.105396              0.964627       0.967563                  0.01        \n",
                        "\u001b[J9           102.796       0.113776    0.104832              0.964702       0.966475                  0.01        \n",
                        "\u001b[J10          114.068       0.112218    0.105945              0.965069       0.966179                  0.01        \n",
                        "\u001b[J11          125.162       0.109975    0.103039              0.966101       0.964992                  0.01        \n",
                        "\u001b[J12          135.979       0.107745    0.104691              0.967314       0.96519                   0.01        \n",
                        "\u001b[J13          147.265       0.107409    0.0934034             0.966784       0.968651                  0.01        \n",
                        "\u001b[J14          159.844       0.102962    0.0984434             0.968117       0.966772                  0.01        \n",
                        "\u001b[J15          170.656       0.10297     0.095586              0.967701       0.969739                  0.01        \n",
                        "\u001b[J16          182.385       0.101494    0.0945688             0.968566       0.968849                  0.01        \n",
                        "\u001b[J17          194.218       0.0999882   0.092947              0.969483       0.97053                   0.01        \n",
                        "\u001b[J18          206.439       0.0976936   0.0914445             0.96935        0.969937                  0.01        \n",
                        "\u001b[J19          217.21        0.0972756   0.0973795             0.969916       0.968453                  0.01        \n",
                        "\u001b[J20          228.025       0.0958941   0.0912694             0.969434       0.969937                  0.01        \n"
                    ],
                    "name": "stdout"
                }
            ]
        },
        {
            "metadata": {
                "id": "jxKrGHyZ7PYA",
                "colab_type": "text"
            },
            "cell_type": "markdown",
            "source": [
                "訓練を開始したら、ChainerUI の画面を確認して、上記の設定がうまく適用されているか確認しましょう。  \n",
                "\n",
                "### ChainerUI の画面確認\n",
                "\n",
                "現在 ChainerUI の画面では下記の画像のように表示されています。  \n",
                "\n",
                "![](images/15/15_03.png)\n",
                "\n",
                "グラフの赤色の線が前回の訓練結果、水色の線が今回の訓練結果を表しています。\n",
                "また、`last log` の部分の右に `args` という欄では訓練に使用した引数を確認できます。\n",
                "\n",
                "\n",
                "最後に、スナップショットの作成方法や学習係数の変更方法を確認しましょう。 \n",
                "\n",
                "\n",
                "**スナップショットの作成**\n",
                "\n",
                "スナップショットの作成は、下記の画面の通りに操作を行うと実行できます。  \n",
                "\n",
                "![](images/15/15_04.png)\n",
                "\n",
                "\n",
                "**学習係数の変更**  \n",
                "\n",
                "上記の画面内にある `Detail` と表記されたボタンをクリックすると、さらに詳細な設定を行うことができます。  \n",
                "\n",
                "`Adjust hyperparameters` の各欄を設定し `Adjust` ボタンを押すことで、学習係数を変更できます。  \n",
                "\n",
                "![](images/15/15_05.png)\n",
                "\n",
                "これまでが ChainerUI の主な使用方法になります。  \n",
                "実験の内容をわかりやすく視覚化できる ChainerUI は使いこなせると大変便利です。  \n",
                "\n",
                "次章では `ONNX` と呼ばれる、訓練済みモデルを他のプログラミング言語やフレームワークに移転して活用する場合の方法についてお伝えします。"
            ]
        }
    ]
}