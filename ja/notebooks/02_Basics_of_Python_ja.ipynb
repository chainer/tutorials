{
  "nbformat": 4,
  "nbformat_minor": 0,
  "metadata": {
    "colab": {
      "name": "02_Basics_of_Python_ja.ipynb",
      "version": "0.3.2",
      "provenance": [],
      "collapsed_sections": [
        "xIr4oyIav9a-",
        "S1TLaajMDtmr"
      ]
    },
    "kernelspec": {
      "name": "python3",
      "display_name": "Python 3"
    }
  },
  "cells": [
    {
      "metadata": {
        "colab_type": "text",
        "id": "D3QflLv0qdiy"
      },
      "cell_type": "markdown",
      "source": [
        "# Python 入門\n",
        "\n",
        "本章では、プログラミング言語 Python の基礎的な文法を学んでいきます。\n",
        "次章以降に登場するコードを理解するにあたって必要となる最低限の知識について、最短で習得するのが目標です。\n",
        "より正確かつ詳細な知識を確認したい場合には、[公式のチュートリアル](https://docs.python.jp/3/tutorial/index.html)などを参照してください。\n",
        "\n",
        "Pythonには 2 系と 3 系の 2 つの系統があり、互換性のない部分もあります。\n",
        "本チュートリアルでは、3 系である **Python 3.6** を前提とした解説を行っています。\n",
        "\n",
        "## Python の特徴\n",
        "\n",
        "![Pythonでプログラミング](images/02/02_01.png)\n",
        "\n",
        "プログラミング言語には、Python 以外にも C 言語や Java、Ruby、R のように様々なものがあります。それぞれの言語がすべての用途に適しているわけではなく、しばしば用途によって得手不得手があります。\n",
        "\n",
        "本チュートリアルでは基本的に Python というプログラミング言語を扱います。\n",
        "その理由は、Python はデータ解析・機械学習のためのライブラリが充実しており、データ解析や機械学習の分野で最もよく使われている言語だからです。\n",
        "また、Web アプリケーションフレームワークの開発も活発で、データ解析だけでなく Web サービス開発まで同じ言語で統一して行える点も魅力です。\n",
        "\n",
        "![Pythonが扱える領域](images/02/02_02.png)\n",
        "\n",
        "本チュートリアルのテーマである Chainer も Python 向けに開発されています。"
      ]
    },
    {
      "metadata": {
        "id": "unYvpNZCv9aF",
        "colab_type": "text"
      },
      "cell_type": "markdown",
      "source": [
        "さらには、初学者にとっても学びやすい言語です。\n",
        "初学者がプログラミングを学び始めるときにつまづきがちな難しい概念が他の言語と比べ多くなく、入門しやすい言語といえます。\n",
        "\n",
        "まとめると、Python には\n",
        "\n",
        "- データ解析や機械学習によく使われている\n",
        "- Web アプリケーションの開発などでもよく使われている\n",
        "- 初学者がはじめやすい言語\n",
        "\n",
        "のような魅力があります。"
      ]
    },
    {
      "metadata": {
        "colab_type": "text",
        "id": "jZNTuBQ54BSu"
      },
      "cell_type": "markdown",
      "source": [
        "### 文法とアルゴリズム\n",
        "\n",
        "プログラミングによってある特定の処理をコンピュータによって自動化したい場合、**文法**と**アルゴリズム**の 2 つを理解しておく必要があります。\n",
        "\n",
        "プログラムでは、まずはじめにコンピュータに命令を伝えるためのルールとなる**文法**を覚える必要があります。\n",
        "文法を無視した記述があるプログラムは、実行した際エラーとなり処理が停止します。そのため、文法はしっかりと理解しておく必要があります。\n",
        "\n",
        "ただし、文法さえ理解していれば十分かというとそうではありません。一般的に、初学者向けのプログラミングの参考書では、この文法だけを取り扱うことも多いのですが、コンピュータに処理を自動化させることが目的であれば、文法だけでなく**アルゴリズム**も理解する必要があいます。アルゴリズムとは、どういう順番でどのような処理をしていくかの一連の手順をまとめたものです。\n",
        "\n",
        "この章では、Python の文法について紹介し、機械学習や深層学習で必要となるアルゴリズムについてはこれ以降の章で紹介します。\n",
        "\n",
        "ここでは以下 4 つの文法に主眼を置きながら説明していきます。\n",
        "\n",
        "- 変数\n",
        "- 制御構文\n",
        "- 関数\n",
        "- クラス"
      ]
    },
    {
      "metadata": {
        "colab_type": "text",
        "id": "hO4YLiKjIfDi"
      },
      "cell_type": "markdown",
      "source": [
        "## 変数\n",
        "\n",
        "**変数 (variable)** とは、様々な値を格納することができる、**名前がついた入れ物**です。\n",
        "この変数に値を格納したり、更新したりすることで、計算結果を一時的に保持しておくことができます。\n",
        "\n",
        "### 代入と値の確認\n",
        "\n",
        "それでは、`a` という名前の変数に、`1` を**代入**してみましょう。"
      ]
    },
    {
      "metadata": {
        "colab_type": "code",
        "id": "SjpDQJn-3Rct",
        "colab": {}
      },
      "cell_type": "code",
      "source": [
        "a = 1"
      ],
      "execution_count": 0,
      "outputs": []
    },
    {
      "metadata": {
        "colab_type": "text",
        "id": "aitz3Hri_a-n"
      },
      "cell_type": "markdown",
      "source": [
        "代入は `=` の記号を用います。\n",
        "数学的には `=` は等しいという意味を持ちますが、**Python では「左辺の変数に、右辺の値を代入する」という意味**になります。\n",
        "\n",
        "Jupyter Notebook 上では、変数名だけ、もしくは変数名を最後の行に記述したセルを実行すると、値を確認することができます。"
      ]
    },
    {
      "metadata": {
        "id": "6SbAfM5Rv9aM",
        "colab_type": "code",
        "outputId": "7f85567a-7d09-4f87-9467-8c176dec06de",
        "colab": {
          "base_uri": "https://localhost:8080/",
          "height": 35
        }
      },
      "cell_type": "code",
      "source": [
        "a"
      ],
      "execution_count": 0,
      "outputs": [
        {
          "output_type": "execute_result",
          "data": {
            "text/plain": [
              "1"
            ]
          },
          "metadata": {
            "tags": []
          },
          "execution_count": 2
        }
      ]
    },
    {
      "metadata": {
        "id": "8b0i8oelv9aR",
        "colab_type": "text"
      },
      "cell_type": "markdown",
      "source": [
        "このように、変数に格納されている値を確認することができました。\n",
        "また、`print()` と呼ばれる**関数 (function)** を使用することで、値の確認を行うことができます。\n",
        "関数については後述します。ここでは、`print()` で値を確認ができるということを理解しておいてください。"
      ]
    },
    {
      "metadata": {
        "id": "oTHXMTjiv9aR",
        "colab_type": "code",
        "outputId": "f7973dab-637f-412d-d5f6-4a60843348fa",
        "colab": {
          "base_uri": "https://localhost:8080/",
          "height": 35
        }
      },
      "cell_type": "code",
      "source": [
        "print(a)"
      ],
      "execution_count": 0,
      "outputs": [
        {
          "output_type": "stream",
          "text": [
            "1\n"
          ],
          "name": "stdout"
        }
      ]
    },
    {
      "metadata": {
        "id": "9yizNcBvv9aU",
        "colab_type": "text"
      },
      "cell_type": "markdown",
      "source": [
        "変数名だけをセルに記入して実行する場合と`print()`を利用する場合の違いについては、後述します。"
      ]
    },
    {
      "metadata": {
        "id": "nGNlqHW_v9aV",
        "colab_type": "text"
      },
      "cell_type": "markdown",
      "source": [
        "変数につける名前は、コードを書く人が自由に決めることができます。\n",
        "ただし、わかりやすい名前をつけることがとても大切です。\n",
        "例えば、人の名前を格納するための変数が `a` という変数名だと、それがどのような使われ方をするのかを容易に類推することができません。\n",
        "`name` という名前であれば、ひと目で見て何のための変数かが分かるようになります。\n",
        "これは、自分のコードを読む他人や、未来の自分にとってコードを理解するための大きな手がかりとなります。"
      ]
    },
    {
      "metadata": {
        "colab_type": "text",
        "id": "BQhk7-XfDFhS"
      },
      "cell_type": "markdown",
      "source": [
        "### コメント\n",
        "\n",
        "Python では、`#` **の後からその行の終わりまでに存在する全ての文字列は無視されます。**\n",
        "この `#` の後ろに続く部分を**コメント (comment)**と呼び、すでに書かれたコードをコメントにすることを**コメントアウト (comment out)**と言います。\n",
        "コメントは、**コード中に変数の意味や処理の意味をコードを読む人に伝えるためによく使われます。**\n",
        "\n",
        "Jupyter Notebook のコードセルに書かれたコードを行ごとコメントアウトしたい場合は、その行を選択した状態で `Ctrl + /` を入力することで自動的に行の先頭に `#` 記号を挿入することができます。複数行を選択していれば、選択された複数の行が同時にコメントアウトされます。また、コメントアウトされている行を選択した状態で同じキー入力を送ると、コメントアウトが解除されます。これを**アンコメント (uncomment)**と呼ぶこともあります。\n",
        "\n",
        "下のセルを実行してみましょう。"
      ]
    },
    {
      "metadata": {
        "colab_type": "code",
        "id": "YK_XjChXDXmH",
        "colab": {}
      },
      "cell_type": "code",
      "source": [
        "# この行及び下の行はコメントアウトされているため実行時に無視されます\n",
        "# print(a)"
      ],
      "execution_count": 0,
      "outputs": []
    },
    {
      "metadata": {
        "colab_type": "text",
        "id": "_xAqta5WIfGJ"
      },
      "cell_type": "markdown",
      "source": [
        "`print(a)` が書かれているにも関わらず、何も表示されませんでした。\n",
        "これは、`print(a)` 関数が書かれた行がコメントアウトされていたためです。"
      ]
    },
    {
      "metadata": {
        "colab_type": "text",
        "id": "I_Z6hhts_v4c"
      },
      "cell_type": "markdown",
      "source": [
        "### 変数の型\n",
        "\n",
        "プログラミングで扱う値には種類があります。\n",
        "Python では、**整数 (integer)**、**実数 (real number)**、**文字列 (string)** などが代表的な値の種類です。\n",
        "それぞれの種類によって、コンピュータ内での取扱い方が異なり、この種類のことは一般に**型 (type)** と呼びます。\n",
        "\n",
        "例えば、整数、実数、そして文字列をそれぞれ別々の変数に代入するコードは以下のとおりです。"
      ]
    },
    {
      "metadata": {
        "id": "FChuhC8Jv9aa",
        "colab_type": "code",
        "colab": {}
      },
      "cell_type": "code",
      "source": [
        "a = 1"
      ],
      "execution_count": 0,
      "outputs": []
    },
    {
      "metadata": {
        "id": "qCdjuQqNv9ac",
        "colab_type": "code",
        "colab": {}
      },
      "cell_type": "code",
      "source": [
        "b = 1.2"
      ],
      "execution_count": 0,
      "outputs": []
    },
    {
      "metadata": {
        "id": "VLMovMgnv9ae",
        "colab_type": "code",
        "colab": {}
      },
      "cell_type": "code",
      "source": [
        "c = 'Chainer'"
      ],
      "execution_count": 0,
      "outputs": []
    },
    {
      "metadata": {
        "id": "DwMajDvAv9ag",
        "colab_type": "text"
      },
      "cell_type": "markdown",
      "source": [
        "コンピュータの中での取り扱い方は異なりますが、Python では**変数の型を自動的に決定する**ため、初めのうちはあまり気にする必要はありません。\n",
        "ただし、違う型同士の演算では場合によってエラーが発生するなどの問題が生じるため、簡単に型の特徴は把握しておく必要があります。\n",
        "\n",
        "まずは、上記の `a`, `b`, `c` の型を確認する方法を紹介します。\n",
        "型の確認は `type()` という組み込み関数を使用します。"
      ]
    },
    {
      "metadata": {
        "id": "RUflpSu6v9ag",
        "colab_type": "code",
        "outputId": "a9b52fa3-a9df-4f6a-8877-87b90801b791",
        "colab": {
          "base_uri": "https://localhost:8080/",
          "height": 35
        }
      },
      "cell_type": "code",
      "source": [
        "type(a)"
      ],
      "execution_count": 0,
      "outputs": [
        {
          "output_type": "execute_result",
          "data": {
            "text/plain": [
              "int"
            ]
          },
          "metadata": {
            "tags": []
          },
          "execution_count": 8
        }
      ]
    },
    {
      "metadata": {
        "id": "YBtHAigUv9aj",
        "colab_type": "code",
        "outputId": "ea3ad8c0-4979-471e-ed84-77c5fafb0479",
        "colab": {
          "base_uri": "https://localhost:8080/",
          "height": 35
        }
      },
      "cell_type": "code",
      "source": [
        "type(b)"
      ],
      "execution_count": 0,
      "outputs": [
        {
          "output_type": "execute_result",
          "data": {
            "text/plain": [
              "float"
            ]
          },
          "metadata": {
            "tags": []
          },
          "execution_count": 9
        }
      ]
    },
    {
      "metadata": {
        "id": "6PaQmlMCv9an",
        "colab_type": "code",
        "outputId": "15a0b115-b950-4065-8616-023475f03ad9",
        "colab": {
          "base_uri": "https://localhost:8080/",
          "height": 35
        }
      },
      "cell_type": "code",
      "source": [
        "type(c)"
      ],
      "execution_count": 0,
      "outputs": [
        {
          "output_type": "execute_result",
          "data": {
            "text/plain": [
              "str"
            ]
          },
          "metadata": {
            "tags": []
          },
          "execution_count": 10
        }
      ]
    },
    {
      "metadata": {
        "id": "gatuDQAyv9aq",
        "colab_type": "text"
      },
      "cell_type": "markdown",
      "source": [
        "`a` は `int` という整数の型をもつ変数であり、`b` は `float` という実数の型をもつ変数です。\n",
        "この `float` という型の名前は、コンピュータ内で実数を扱うときの形式である**浮動小数点数 (floating-point number)** に由来しています。\n",
        "\n",
        "`c` は `str` という文字列の型をもつ変数であり、値を定義するにはシングルクォーテーション `' '` もしくはダブルクォーテーション `\" \"` で対象の文字列をくくる必要があります。"
      ]
    },
    {
      "metadata": {
        "colab_type": "text",
        "id": "Chdmx6HGIfEV"
      },
      "cell_type": "markdown",
      "source": [
        "Python では、`.` を含まない連続した数字を `int`、直前・直後も含め `.` が含まれる連続した数字を `float` だと自動的に解釈します。\n",
        "例えば、`7` や `365` は `int` ですが、`2.718`、`.25`、`10.` などは `float` になります。\n",
        "\n",
        "実数の `0` は `0.0` とも `.0` とも `0.` とも書くことができます。"
      ]
    },
    {
      "metadata": {
        "colab_type": "code",
        "id": "sUKUmRgwIfEY",
        "outputId": "dd689cd8-8f19-440e-9ea3-fdb1ec23698a",
        "colab": {
          "base_uri": "https://localhost:8080/",
          "height": 35
        }
      },
      "cell_type": "code",
      "source": [
        "type(0)"
      ],
      "execution_count": 0,
      "outputs": [
        {
          "output_type": "execute_result",
          "data": {
            "text/plain": [
              "int"
            ]
          },
          "metadata": {
            "tags": []
          },
          "execution_count": 11
        }
      ]
    },
    {
      "metadata": {
        "colab_type": "code",
        "id": "VOiscn8OIfEc",
        "outputId": "ce486cd7-711a-4940-a10a-8e52810b5ada",
        "colab": {
          "base_uri": "https://localhost:8080/",
          "height": 35
        }
      },
      "cell_type": "code",
      "source": [
        "type(0.)"
      ],
      "execution_count": 0,
      "outputs": [
        {
          "output_type": "execute_result",
          "data": {
            "text/plain": [
              "float"
            ]
          },
          "metadata": {
            "tags": []
          },
          "execution_count": 12
        }
      ]
    },
    {
      "metadata": {
        "colab_type": "code",
        "id": "442-_TpmIfEf",
        "outputId": "6a202f47-4a0e-4d9d-f889-86cd68acf537",
        "colab": {
          "base_uri": "https://localhost:8080/",
          "height": 35
        }
      },
      "cell_type": "code",
      "source": [
        "type(.0)"
      ],
      "execution_count": 0,
      "outputs": [
        {
          "output_type": "execute_result",
          "data": {
            "text/plain": [
              "float"
            ]
          },
          "metadata": {
            "tags": []
          },
          "execution_count": 13
        }
      ]
    },
    {
      "metadata": {
        "colab_type": "text",
        "id": "by0V-W7nIfEj"
      },
      "cell_type": "markdown",
      "source": [
        "例えば、実数の `5` は以下のように書くことができます。"
      ]
    },
    {
      "metadata": {
        "colab_type": "code",
        "id": "uUYCOBaAIfEj",
        "outputId": "d8879753-19ab-4656-f442-832bc0f6f631",
        "colab": {
          "base_uri": "https://localhost:8080/",
          "height": 35
        }
      },
      "cell_type": "code",
      "source": [
        "type(5.0)"
      ],
      "execution_count": 0,
      "outputs": [
        {
          "output_type": "execute_result",
          "data": {
            "text/plain": [
              "float"
            ]
          },
          "metadata": {
            "tags": []
          },
          "execution_count": 14
        }
      ]
    },
    {
      "metadata": {
        "colab_type": "code",
        "id": "y26NMdQ2IfEo",
        "outputId": "7db1d4aa-5413-4393-e06d-a3cc096fae91",
        "colab": {
          "base_uri": "https://localhost:8080/",
          "height": 35
        }
      },
      "cell_type": "code",
      "source": [
        "type(5.)"
      ],
      "execution_count": 0,
      "outputs": [
        {
          "output_type": "execute_result",
          "data": {
            "text/plain": [
              "float"
            ]
          },
          "metadata": {
            "tags": []
          },
          "execution_count": 15
        }
      ]
    },
    {
      "metadata": {
        "colab_type": "text",
        "id": "g3BdGDJaIfEr"
      },
      "cell_type": "markdown",
      "source": [
        "一方、`.5` と書くと、これは `0.5` の略記と解釈されることに注意してください。"
      ]
    },
    {
      "metadata": {
        "colab_type": "code",
        "id": "aXpxR7WmIfEs",
        "outputId": "d98e67f7-9511-413a-b1b2-ef369de83cd5",
        "colab": {
          "base_uri": "https://localhost:8080/",
          "height": 35
        }
      },
      "cell_type": "code",
      "source": [
        "type(.5)"
      ],
      "execution_count": 0,
      "outputs": [
        {
          "output_type": "execute_result",
          "data": {
            "text/plain": [
              "float"
            ]
          },
          "metadata": {
            "tags": []
          },
          "execution_count": 16
        }
      ]
    },
    {
      "metadata": {
        "colab_type": "code",
        "id": "enBKbL9fIfEx",
        "outputId": "d522cb4c-0628-4317-8ebc-094c95e6cf7f",
        "colab": {
          "base_uri": "https://localhost:8080/",
          "height": 35
        }
      },
      "cell_type": "code",
      "source": [
        "print(.5)"
      ],
      "execution_count": 0,
      "outputs": [
        {
          "output_type": "stream",
          "text": [
            "0.5\n"
          ],
          "name": "stdout"
        }
      ]
    },
    {
      "metadata": {
        "id": "xIr4oyIav9a-",
        "colab_type": "text"
      },
      "cell_type": "markdown",
      "source": [
        "### 複数同時の代入\n",
        "\n",
        "Python では複数の変数に対する代入を一度に行うことができ、**複数同時の代入 (multiple assignment)** と呼びます。\n",
        "例えば、上記の `a = 1` と `b = 1.2` を同時に一行で記述すると以下のようになります。"
      ]
    },
    {
      "metadata": {
        "id": "GxERn_L6v9a-",
        "colab_type": "code",
        "colab": {}
      },
      "cell_type": "code",
      "source": [
        "a, b = 1, 1.2"
      ],
      "execution_count": 0,
      "outputs": []
    },
    {
      "metadata": {
        "id": "MrlNU5sQv9bA",
        "colab_type": "text"
      },
      "cell_type": "markdown",
      "source": [
        "3 つ以上の変数に対して、複数同時の代入を行うことも可能です。"
      ]
    },
    {
      "metadata": {
        "id": "pzzK0Ocfv9bB",
        "colab_type": "code",
        "colab": {}
      },
      "cell_type": "code",
      "source": [
        "a, b, c = 1, 1.2, 'Chainer'"
      ],
      "execution_count": 0,
      "outputs": []
    },
    {
      "metadata": {
        "id": "oJCqJg0jv9bD",
        "colab_type": "text"
      },
      "cell_type": "markdown",
      "source": [
        "複数同時の代入は後の章で頻出するため、覚えておきましょう。"
      ]
    },
    {
      "metadata": {
        "colab_type": "text",
        "id": "VsdsnV9uiQev"
      },
      "cell_type": "markdown",
      "source": [
        "### 算術演算子\n",
        "\n",
        "様々な計算を意味する**演算子**と呼ばれる記号があります。\n",
        "はじめに紹介するのは**算術演算子 (arithmetic operator)** と呼ばれるもので、 2 つの変数または値を取り、 1 つの演算結果を返します。\n",
        "\n",
        "代表的な演算として**四則演算（加算・減算・乗算・除算）**があります。\n",
        "四則演算にに対応する演算子として、Python では以下の記号が用いられます。\n",
        "\n",
        "| 演算 | 記号 |\n",
        "|------|------|\n",
        "| 加算（足し算） | `+` |\n",
        "| 減算（引き算） | `-` |\n",
        "| 乗算（掛け算） | `*` |\n",
        "| 除算（割り算） | `/` |\n",
        "\n",
        "具体例を見ながら使い方を説明します。"
      ]
    },
    {
      "metadata": {
        "colab_type": "code",
        "id": "MBaRZ2RkBWbd",
        "outputId": "afffa862-b1de-40d5-c0cb-980637f796d1",
        "colab": {
          "base_uri": "https://localhost:8080/",
          "height": 35
        }
      },
      "cell_type": "code",
      "source": [
        "# 整数と整数で加算 -> 結果は整数\n",
        "1+1"
      ],
      "execution_count": 0,
      "outputs": [
        {
          "output_type": "execute_result",
          "data": {
            "text/plain": [
              "2"
            ]
          },
          "metadata": {
            "tags": []
          },
          "execution_count": 20
        }
      ]
    },
    {
      "metadata": {
        "colab_type": "text",
        "id": "DE56EVRvIfFJ"
      },
      "cell_type": "markdown",
      "source": [
        "このように、演算子を使う際には、**記号の両側に値を書きます。**\n",
        "このとき、演算子の両側にひとつずつ空白を空けることが多いです。\n",
        "文法的な意味はありませんが、コードが読みやすくなります。\n",
        "この空白は Python のコーディング規約である [PEP8](https://www.python.org/dev/peps/pep-0008/#should-a-line-break-before-or-after-a-binary-operator) でも推奨されています。"
      ]
    },
    {
      "metadata": {
        "id": "BSsWGE_Ev9bH",
        "colab_type": "code",
        "outputId": "ee6a77e5-fa41-44e0-df11-e34cecd3b9b2",
        "colab": {
          "base_uri": "https://localhost:8080/",
          "height": 35
        }
      },
      "cell_type": "code",
      "source": [
        "1 + 1"
      ],
      "execution_count": 0,
      "outputs": [
        {
          "output_type": "execute_result",
          "data": {
            "text/plain": [
              "2"
            ]
          },
          "metadata": {
            "tags": []
          },
          "execution_count": 21
        }
      ]
    },
    {
      "metadata": {
        "id": "ai1hzuv6v9bJ",
        "colab_type": "text"
      },
      "cell_type": "markdown",
      "source": [
        "値が代入されている変数との演算も下記のように行うことができます。"
      ]
    },
    {
      "metadata": {
        "colab_type": "code",
        "id": "yvA4BP5hIfFJ",
        "outputId": "8dac74dd-5d90-4cbc-8bb0-b8f928c0c2bb",
        "colab": {
          "base_uri": "https://localhost:8080/",
          "height": 35
        }
      },
      "cell_type": "code",
      "source": [
        "a + 2"
      ],
      "execution_count": 0,
      "outputs": [
        {
          "output_type": "execute_result",
          "data": {
            "text/plain": [
              "3"
            ]
          },
          "metadata": {
            "tags": []
          },
          "execution_count": 22
        }
      ]
    },
    {
      "metadata": {
        "id": "y6xkeITrv9bL",
        "colab_type": "text"
      },
      "cell_type": "markdown",
      "source": [
        "また、`int` と `float` は異なる型同士ですが、計算を行うことができます。\n",
        "`int` と `float` の演算結果の型は `float` になります。"
      ]
    },
    {
      "metadata": {
        "colab_type": "code",
        "id": "IjU6vwcdIfFM",
        "outputId": "9d52b789-e698-48a1-eb40-8a36de14bec1",
        "colab": {
          "base_uri": "https://localhost:8080/",
          "height": 35
        }
      },
      "cell_type": "code",
      "source": [
        "# 整数と実数で加算 -> 結果は実数\n",
        "a + b"
      ],
      "execution_count": 0,
      "outputs": [
        {
          "output_type": "execute_result",
          "data": {
            "text/plain": [
              "2.2"
            ]
          },
          "metadata": {
            "tags": []
          },
          "execution_count": 23
        }
      ]
    },
    {
      "metadata": {
        "colab_type": "text",
        "id": "PwsK4SxPIfFN"
      },
      "cell_type": "markdown",
      "source": [
        "他の演算子の例を示します。"
      ]
    },
    {
      "metadata": {
        "colab_type": "code",
        "id": "hL5QmnGgBYNF",
        "outputId": "a11a77c5-9349-462a-f452-09890dbaadaa",
        "colab": {
          "base_uri": "https://localhost:8080/",
          "height": 35
        }
      },
      "cell_type": "code",
      "source": [
        "# 整数と整数で減算 -> 結果は整数\n",
        "2 - 1"
      ],
      "execution_count": 0,
      "outputs": [
        {
          "output_type": "execute_result",
          "data": {
            "text/plain": [
              "1"
            ]
          },
          "metadata": {
            "tags": []
          },
          "execution_count": 24
        }
      ]
    },
    {
      "metadata": {
        "id": "huifgJVkv9bR",
        "colab_type": "code",
        "outputId": "77b3be8e-e7fa-42a8-b173-4811b5bc4ea5",
        "colab": {
          "base_uri": "https://localhost:8080/",
          "height": 35
        }
      },
      "cell_type": "code",
      "source": [
        "# 実数と整数で減算 -> 結果は実数\n",
        "3.5 - 2"
      ],
      "execution_count": 0,
      "outputs": [
        {
          "output_type": "execute_result",
          "data": {
            "text/plain": [
              "1.5"
            ]
          },
          "metadata": {
            "tags": []
          },
          "execution_count": 25
        }
      ]
    },
    {
      "metadata": {
        "colab_type": "code",
        "id": "v82yE4keBZeo",
        "outputId": "1e1232a7-639e-4a06-be80-49f1c42010b8",
        "colab": {
          "base_uri": "https://localhost:8080/",
          "height": 35
        }
      },
      "cell_type": "code",
      "source": [
        "# 整数と整数で乗算 -> 結果は整数\n",
        "3 * 5"
      ],
      "execution_count": 0,
      "outputs": [
        {
          "output_type": "execute_result",
          "data": {
            "text/plain": [
              "15"
            ]
          },
          "metadata": {
            "tags": []
          },
          "execution_count": 26
        }
      ]
    },
    {
      "metadata": {
        "id": "kYYOMXTHv9bX",
        "colab_type": "code",
        "outputId": "74dead59-7623-4344-d10e-b563b5811ea4",
        "colab": {
          "base_uri": "https://localhost:8080/",
          "height": 35
        }
      },
      "cell_type": "code",
      "source": [
        "# 実数と整数で乗算 -> 結果は実数\n",
        "2.5 * 2"
      ],
      "execution_count": 0,
      "outputs": [
        {
          "output_type": "execute_result",
          "data": {
            "text/plain": [
              "5.0"
            ]
          },
          "metadata": {
            "tags": []
          },
          "execution_count": 27
        }
      ]
    },
    {
      "metadata": {
        "colab_type": "code",
        "id": "KHRGnOcNBi05",
        "outputId": "df722a15-10b0-4240-c8cd-c5737c3dce5f",
        "colab": {
          "base_uri": "https://localhost:8080/",
          "height": 35
        }
      },
      "cell_type": "code",
      "source": [
        "# 整数と整数で除算 -> 結果は実数\n",
        "3 / 2"
      ],
      "execution_count": 0,
      "outputs": [
        {
          "output_type": "execute_result",
          "data": {
            "text/plain": [
              "1.5"
            ]
          },
          "metadata": {
            "tags": []
          },
          "execution_count": 28
        }
      ]
    },
    {
      "metadata": {
        "id": "NxnIvty-v9bd",
        "colab_type": "code",
        "outputId": "1477549b-5200-454a-ca20-fab09ce15da3",
        "colab": {
          "base_uri": "https://localhost:8080/",
          "height": 35
        }
      },
      "cell_type": "code",
      "source": [
        "# 整数と整数で除算 -> 結果は実数\n",
        "4 / 2"
      ],
      "execution_count": 0,
      "outputs": [
        {
          "output_type": "execute_result",
          "data": {
            "text/plain": [
              "2.0"
            ]
          },
          "metadata": {
            "tags": []
          },
          "execution_count": 29
        }
      ]
    },
    {
      "metadata": {
        "colab_type": "text",
        "id": "TDJRJR5vIfFe"
      },
      "cell_type": "markdown",
      "source": [
        "Python 3 では、 `/` 記号を用いて除算を行う場合、除数（割る数）と被除数（割られる数）が整数であっても、計算結果として実数が返ります。\n",
        "計算結果として実数を返す除算のことを特に、**真の除算 (true division)** と言います。\n",
        "一方、商（整数部分）を返すような除算演算子として、 `//` 記号が用意されています。 `/` 記号を 2 回、間を空けずに繰り返します。計算結果として商を返す除算のことを、 **切り捨て除算 (floor division)** と呼びます。\n",
        "商を計算したい場合に便利な演算子であるため、こちらも覚えておきましょう。\n",
        "\n",
        "※ Python 2 では、除数も被除数も整数であった場合、 `/` 記号を用いても切り捨て除算が行われるので注意してください。"
      ]
    },
    {
      "metadata": {
        "colab_type": "code",
        "id": "PFwX_4_pBbY0",
        "outputId": "59480a17-8984-45e8-bc05-cce0fa783540",
        "colab": {
          "base_uri": "https://localhost:8080/",
          "height": 35
        }
      },
      "cell_type": "code",
      "source": [
        "# 整数と整数で切り捨て除算 -> 結果は整数\n",
        "3 // 2"
      ],
      "execution_count": 0,
      "outputs": [
        {
          "output_type": "execute_result",
          "data": {
            "text/plain": [
              "1"
            ]
          },
          "metadata": {
            "tags": []
          },
          "execution_count": 30
        }
      ]
    },
    {
      "metadata": {
        "id": "nCyFpJHKv9bh",
        "colab_type": "code",
        "outputId": "ff285aa2-c53c-4e27-bb1f-a2f75a029bbc",
        "colab": {
          "base_uri": "https://localhost:8080/",
          "height": 35
        }
      },
      "cell_type": "code",
      "source": [
        "# 整数と整数で切り捨て除算 -> 結果は整数\n",
        "4 // 2"
      ],
      "execution_count": 0,
      "outputs": [
        {
          "output_type": "execute_result",
          "data": {
            "text/plain": [
              "2"
            ]
          },
          "metadata": {
            "tags": []
          },
          "execution_count": 31
        }
      ]
    },
    {
      "metadata": {
        "id": "Mywi7srHv9bj",
        "colab_type": "text"
      },
      "cell_type": "markdown",
      "source": [
        "また、ここで注意すべき点として、整数や実数と文字列の演算は基本的にエラーになります。"
      ]
    },
    {
      "metadata": {
        "id": "ia8mAAr5v9bj",
        "colab_type": "code",
        "outputId": "8be291e4-6a9a-4eb9-dce0-54966fb32d3a",
        "colab": {
          "base_uri": "https://localhost:8080/",
          "height": 172
        }
      },
      "cell_type": "code",
      "source": [
        "# error\n",
        "a + c"
      ],
      "execution_count": 0,
      "outputs": [
        {
          "output_type": "error",
          "ename": "TypeError",
          "evalue": "ignored",
          "traceback": [
            "\u001b[0;31m---------------------------------------------------------------------------\u001b[0m",
            "\u001b[0;31mTypeError\u001b[0m                                 Traceback (most recent call last)",
            "\u001b[0;32m<ipython-input-32-e81e582b6fa9>\u001b[0m in \u001b[0;36m<module>\u001b[0;34m()\u001b[0m\n\u001b[0;32m----> 1\u001b[0;31m \u001b[0ma\u001b[0m \u001b[0;34m+\u001b[0m \u001b[0mc\u001b[0m\u001b[0;34m\u001b[0m\u001b[0;34m\u001b[0m\u001b[0m\n\u001b[0m",
            "\u001b[0;31mTypeError\u001b[0m: unsupported operand type(s) for +: 'int' and 'str'"
          ]
        }
      ]
    },
    {
      "metadata": {
        "id": "T24iNnwSv9bk",
        "colab_type": "text"
      },
      "cell_type": "markdown",
      "source": [
        "**エラーメッセージを読みましょう。**\n",
        "\n",
        "> TypeError: unsupported operand type(s) for +: 'int' and 'str'\n",
        "\n",
        "と言われています。「+ にとって int と str はサポートされていない被作用子（+ が作用する対象のこと。operand）です」と書かれています。「int に str を足す」ということはできないというわけです。\n",
        "\n",
        "`int` もしくは `float` と、 `str` の間の加算、減算、除算では上記のエラーが生じます。\n",
        "ただし、`str` と `int` の**乗算**は特別にサポートされており、計算を実行することができます。"
      ]
    },
    {
      "metadata": {
        "id": "oKJmWQKcv9bl",
        "colab_type": "code",
        "outputId": "b565c098-a17e-4969-e7a7-3b4da3f73911",
        "colab": {
          "base_uri": "https://localhost:8080/",
          "height": 35
        }
      },
      "cell_type": "code",
      "source": [
        "# str と int で乗算\n",
        "c * 3"
      ],
      "execution_count": 0,
      "outputs": [
        {
          "output_type": "execute_result",
          "data": {
            "text/plain": [
              "'ChainerChainerChainer'"
            ]
          },
          "metadata": {
            "tags": []
          },
          "execution_count": 33
        }
      ]
    },
    {
      "metadata": {
        "id": "xPX4dcGUv9bm",
        "colab_type": "text"
      },
      "cell_type": "markdown",
      "source": [
        "上のコードは、`c` という文字列を `3` 回繰り返す、という意味になります。"
      ]
    },
    {
      "metadata": {
        "id": "mmlvVMcIv9bm",
        "colab_type": "text"
      },
      "cell_type": "markdown",
      "source": [
        "`str` 同士は足し算を行う事ができます。"
      ]
    },
    {
      "metadata": {
        "id": "DOK7H8LJv9bn",
        "colab_type": "code",
        "outputId": "3aa83218-ecba-4814-b103-3ff05c4ef1b0",
        "colab": {
          "base_uri": "https://localhost:8080/",
          "height": 35
        }
      },
      "cell_type": "code",
      "source": [
        "name1 = 'Chainer'\n",
        "name2 = 'チュートリアル'\n",
        "\n",
        "name1 + name2"
      ],
      "execution_count": 0,
      "outputs": [
        {
          "output_type": "execute_result",
          "data": {
            "text/plain": [
              "'Chainerチュートリアル'"
            ]
          },
          "metadata": {
            "tags": []
          },
          "execution_count": 34
        }
      ]
    },
    {
      "metadata": {
        "id": "QoCq87hkv9bq",
        "colab_type": "text"
      },
      "cell_type": "markdown",
      "source": [
        "整数と文字列を連結したいこともあります。\n",
        "例えば、`1` という整数に、 `'番目'` という文字列を足して `'1番目'` という文字列を作りたいような場合です。\n",
        "その場合には、型を変換する**キャスト (cast)** という操作をする必要があります。\n",
        "\n",
        "何かを `int` にキャストしたい場合は `int()` という組み込み関数を使い、`str` にキャストしたい場合は `str()` という組み込み関数を使います。では、`1` という整数を `str` にキャストして、 `'番目'` という文字列と足し算を行ってみましょう。"
      ]
    },
    {
      "metadata": {
        "id": "H8E1Puhmv9bq",
        "colab_type": "code",
        "outputId": "9f85d309-95f7-4a18-9e08-99d98f90fb92",
        "colab": {
          "base_uri": "https://localhost:8080/",
          "height": 35
        }
      },
      "cell_type": "code",
      "source": [
        "1"
      ],
      "execution_count": 0,
      "outputs": [
        {
          "output_type": "execute_result",
          "data": {
            "text/plain": [
              "1"
            ]
          },
          "metadata": {
            "tags": []
          },
          "execution_count": 35
        }
      ]
    },
    {
      "metadata": {
        "id": "TlnTtXUnv9br",
        "colab_type": "code",
        "outputId": "acb0565c-63a0-4aa1-ff34-73dd4c9c23be",
        "colab": {
          "base_uri": "https://localhost:8080/",
          "height": 35
        }
      },
      "cell_type": "code",
      "source": [
        "type(1)"
      ],
      "execution_count": 0,
      "outputs": [
        {
          "output_type": "execute_result",
          "data": {
            "text/plain": [
              "int"
            ]
          },
          "metadata": {
            "tags": []
          },
          "execution_count": 36
        }
      ]
    },
    {
      "metadata": {
        "id": "EK9fF95av9bt",
        "colab_type": "code",
        "outputId": "b2601906-985c-418a-9294-e13b89d8fe6f",
        "colab": {
          "base_uri": "https://localhost:8080/",
          "height": 35
        }
      },
      "cell_type": "code",
      "source": [
        "str(1)"
      ],
      "execution_count": 0,
      "outputs": [
        {
          "output_type": "execute_result",
          "data": {
            "text/plain": [
              "'1'"
            ]
          },
          "metadata": {
            "tags": []
          },
          "execution_count": 37
        }
      ]
    },
    {
      "metadata": {
        "id": "JxGEBOZzv9bw",
        "colab_type": "code",
        "outputId": "851d1342-cf34-47d1-9fcd-de0a30540c73",
        "colab": {
          "base_uri": "https://localhost:8080/",
          "height": 35
        }
      },
      "cell_type": "code",
      "source": [
        "type(str(1))"
      ],
      "execution_count": 0,
      "outputs": [
        {
          "output_type": "execute_result",
          "data": {
            "text/plain": [
              "str"
            ]
          },
          "metadata": {
            "tags": []
          },
          "execution_count": 38
        }
      ]
    },
    {
      "metadata": {
        "id": "2boojYfbv9by",
        "colab_type": "code",
        "outputId": "f1f581dc-3ba4-49e0-a8e5-e30d6647e35f",
        "colab": {
          "base_uri": "https://localhost:8080/",
          "height": 35
        }
      },
      "cell_type": "code",
      "source": [
        "str(1) + '番目'"
      ],
      "execution_count": 0,
      "outputs": [
        {
          "output_type": "execute_result",
          "data": {
            "text/plain": [
              "'1番目'"
            ]
          },
          "metadata": {
            "tags": []
          },
          "execution_count": 39
        }
      ]
    },
    {
      "metadata": {
        "id": "RzvUMnTQv9bz",
        "colab_type": "text"
      },
      "cell_type": "markdown",
      "source": [
        "また、`+=` や `-=` もよく使います。\n",
        "これは、演算と代入を合わせて行うもので、**累積代入文 (augmented assignment statement)** と呼ばれます。\n",
        "\n",
        "下記に示すとおり、`+=` では左辺の変数に対して右辺の値を足した結果で、左辺の変数を更新します。"
      ]
    },
    {
      "metadata": {
        "id": "g7g0hOrOv9b0",
        "colab_type": "code",
        "outputId": "62d89f8d-4039-408b-bda1-a1f7f417b384",
        "colab": {
          "base_uri": "https://localhost:8080/",
          "height": 35
        }
      },
      "cell_type": "code",
      "source": [
        "# 累積代入文を使わない場合\n",
        "count = 0\n",
        "count = count + 1\n",
        "count"
      ],
      "execution_count": 0,
      "outputs": [
        {
          "output_type": "execute_result",
          "data": {
            "text/plain": [
              "1"
            ]
          },
          "metadata": {
            "tags": []
          },
          "execution_count": 40
        }
      ]
    },
    {
      "metadata": {
        "id": "bdgvqEjZv9b2",
        "colab_type": "code",
        "outputId": "b59262e9-4248-4cb6-8783-1d68ab6df832",
        "colab": {
          "base_uri": "https://localhost:8080/",
          "height": 35
        }
      },
      "cell_type": "code",
      "source": [
        "# 累積代入文を使う場合\n",
        "count = 0\n",
        "count += 1\n",
        "count"
      ],
      "execution_count": 0,
      "outputs": [
        {
          "output_type": "execute_result",
          "data": {
            "text/plain": [
              "1"
            ]
          },
          "metadata": {
            "tags": []
          },
          "execution_count": 41
        }
      ]
    },
    {
      "metadata": {
        "id": "AZ7QMIt-v9b3",
        "colab_type": "text"
      },
      "cell_type": "markdown",
      "source": [
        "四則演算の全てで累積代入文を利用することができます。\n",
        "つまり、`+=`, `-=`, `*=`, `/=` がそれぞれ利用可能です。"
      ]
    },
    {
      "metadata": {
        "colab_type": "text",
        "id": "36GMdun-IfFn"
      },
      "cell_type": "markdown",
      "source": [
        "Python には、他にも幾つかの算術演算子が用意されています。\n",
        "例えば以下の演算子です。\n",
        "\n",
        "| 演算 | 記号 |\n",
        "|------|------|\n",
        "| べき乗 | `**` |\n",
        "|  剰余　 | `%` |\n",
        "\n",
        "`**` を使うと、$2^3$ は以下のように記述することができます。"
      ]
    },
    {
      "metadata": {
        "colab_type": "code",
        "id": "cK6zHxguIfFo",
        "outputId": "c8430821-aa31-4434-852d-6b5a9e0cc5ab",
        "colab": {
          "base_uri": "https://localhost:8080/",
          "height": 35
        }
      },
      "cell_type": "code",
      "source": [
        "# べき乗\n",
        "2 ** 3"
      ],
      "execution_count": 0,
      "outputs": [
        {
          "output_type": "execute_result",
          "data": {
            "text/plain": [
              "8"
            ]
          },
          "metadata": {
            "tags": []
          },
          "execution_count": 42
        }
      ]
    },
    {
      "metadata": {
        "id": "g8RG0jTDv9b6",
        "colab_type": "text"
      },
      "cell_type": "markdown",
      "source": [
        "`%` を使って、`9` を `2` で割った余りを計算してみましょう。"
      ]
    },
    {
      "metadata": {
        "id": "CbsiwPcev9b6",
        "colab_type": "code",
        "outputId": "0f30222c-5d56-4a39-d65f-a4638e3f4795",
        "colab": {
          "base_uri": "https://localhost:8080/",
          "height": 35
        }
      },
      "cell_type": "code",
      "source": [
        "# 剰余\n",
        "9 % 2"
      ],
      "execution_count": 0,
      "outputs": [
        {
          "output_type": "execute_result",
          "data": {
            "text/plain": [
              "1"
            ]
          },
          "metadata": {
            "tags": []
          },
          "execution_count": 43
        }
      ]
    },
    {
      "metadata": {
        "colab_type": "text",
        "id": "Z62QzE-4Bc4a"
      },
      "cell_type": "markdown",
      "source": [
        "### 比較演算子\n",
        "\n",
    "比較演算子は、2 つの値の比較を行うための演算子です。\n",
        "\n",
        "| 演算 | 記号 |\n",
        "|------|------|\n",
        "| 小なり | `<` |\n",
        "| 大なり | `>` |\n",
        "| 以下 | `<=` |\n",
        "| 以上 | `>=` |\n",
        "| 等しい | `==` |\n",
        "| 等しくない | `!=` |\n",
        "\n",
    "比較演算子は、その両側に与えられた値が決められた条件を満たしているかどうか計算し、満たしている場合は `True` を、満たしていない場合は `False` を返します。\n",
    "`True` や `False` は、**ブール (bool) 型**と呼ばれる型を持った値です。\n",
    "ブール型の値は `True` もしくは `False` の 2 つしか存在しません。\n",
        "\n",
        "いくつかの比較演算子の計算例を示します。"
      ]
    },
    {
      "metadata": {
        "colab_type": "code",
        "id": "5AXOptIWCN53",
        "outputId": "dc889a62-939f-4945-b89b-6b7e5d38a0c4",
        "colab": {
          "base_uri": "https://localhost:8080/",
          "height": 35
        }
      },
      "cell_type": "code",
      "source": [
        "1 < 2"
      ],
      "execution_count": 0,
      "outputs": [
        {
          "output_type": "execute_result",
          "data": {
            "text/plain": [
              "True"
            ]
          },
          "metadata": {
            "tags": []
          },
          "execution_count": 44
        }
      ]
    },
    {
      "metadata": {
        "id": "ETSRMdkDv9b-",
        "colab_type": "code",
        "outputId": "b2fccb69-1cb4-400a-a307-5a7209ba84fc",
        "colab": {
          "base_uri": "https://localhost:8080/",
          "height": 35
        }
      },
      "cell_type": "code",
      "source": [
        "# 型の確認\n",
        "type(1 < 2)"
      ],
      "execution_count": 0,
      "outputs": [
        {
          "output_type": "execute_result",
          "data": {
            "text/plain": [
              "bool"
            ]
          },
          "metadata": {
            "tags": []
          },
          "execution_count": 45
        }
      ]
    },
    {
      "metadata": {
        "colab_type": "code",
        "id": "wR2OPEwiCP5_",
        "outputId": "74078f2f-e323-4039-bc06-96d962d62c1e",
        "colab": {
          "base_uri": "https://localhost:8080/",
          "height": 35
        }
      },
      "cell_type": "code",
      "source": [
        "2 == 5"
      ],
      "execution_count": 0,
      "outputs": [
        {
          "output_type": "execute_result",
          "data": {
            "text/plain": [
              "False"
            ]
          },
          "metadata": {
            "tags": []
          },
          "execution_count": 46
        }
      ]
    },
    {
      "metadata": {
        "colab_type": "code",
        "id": "TfEDslvKCQ7o",
        "outputId": "91927f8e-3a1f-461b-b327-4b52c6335047",
        "colab": {
          "base_uri": "https://localhost:8080/",
          "height": 35
        }
      },
      "cell_type": "code",
      "source": [
        "1 != 2"
      ],
      "execution_count": 0,
      "outputs": [
        {
          "output_type": "execute_result",
          "data": {
            "text/plain": [
              "True"
            ]
          },
          "metadata": {
            "tags": []
          },
          "execution_count": 47
        }
      ]
    },
    {
      "metadata": {
        "colab_type": "code",
        "id": "W1v_F8-7CWI-",
        "outputId": "6c5d95de-867d-4901-b566-b27f5a769404",
        "colab": {
          "base_uri": "https://localhost:8080/",
          "height": 35
        }
      },
      "cell_type": "code",
      "source": [
        "3 >= 3"
      ],
      "execution_count": 0,
      "outputs": [
        {
          "output_type": "execute_result",
          "data": {
            "text/plain": [
              "True"
            ]
          },
          "metadata": {
            "tags": []
          },
          "execution_count": 48
        }
      ]
    },
    {
      "metadata": {
        "colab_type": "code",
        "id": "XapxlGSYCSOU",
        "outputId": "fe9ba61c-a379-4a76-a3a1-614162232022",
        "colab": {
          "base_uri": "https://localhost:8080/",
          "height": 35
        }
      },
      "cell_type": "code",
      "source": [
        "'test' == 'test'"
      ],
      "execution_count": 0,
      "outputs": [
        {
          "output_type": "execute_result",
          "data": {
            "text/plain": [
              "True"
            ]
          },
          "metadata": {
            "tags": []
          },
          "execution_count": 49
        }
      ]
    },
    {
      "metadata": {
        "colab_type": "text",
        "id": "aBzVaMJ1IfF7"
      },
      "cell_type": "markdown",
      "source": [
    "等しいかどうかを判定する比較演算子 `==` を使う際は、代入演算子 `=` と間違えないように気をつけてください。"
      ]
    },
    {
      "metadata": {
        "colab_type": "text",
        "id": "Wr7NohtiCUN_"
      },
      "cell_type": "markdown",
      "source": [
        "## エスケープシーケンス\n",
        "\n",
        "通常の文字列では表せない特殊な文字を、規定された特別な文字の並びにより表したものを**エスケープシーケンス (escape sequence)** と呼びます。 \n",
        "\n",
        "よく使用するものとして、**改行**を意味する `\\n`（もしくは `¥n`）、**タブ**を意味する `\\t`（もしくは `¥t`）があります。"
      ]
    },
    {
      "metadata": {
        "colab_type": "code",
        "id": "m3CBKEsrC4L-",
        "outputId": "bd31be6d-871b-4a99-8dd9-b879977e693e",
        "colab": {
          "base_uri": "https://localhost:8080/",
          "height": 53
        }
      },
      "cell_type": "code",
      "source": [
        "print('Hello\\nWorld')"
      ],
      "execution_count": 0,
      "outputs": [
        {
          "output_type": "stream",
          "text": [
            "Hello\n",
            "World\n"
          ],
          "name": "stdout"
        }
      ]
    },
    {
      "metadata": {
        "colab_type": "code",
        "id": "FosQ7-tzC_45",
        "outputId": "94593cbe-b891-4efd-8ab4-ef9f58c1c067",
        "colab": {
          "base_uri": "https://localhost:8080/",
          "height": 35
        }
      },
      "cell_type": "code",
      "source": [
        "print('Hello\\tWorld')"
      ],
      "execution_count": 0,
      "outputs": [
        {
          "output_type": "stream",
          "text": [
            "Hello\tWorld\n"
          ],
          "name": "stdout"
        }
      ]
    },
    {
      "metadata": {
        "id": "2_FlL8P5v9cI",
        "colab_type": "text"
      },
      "cell_type": "markdown",
      "source": [
        "最初に Jupyter Notebook 上で変数の値を確認する際に、`print()` を使う場合と使わない場合の違いについて触れましたが、エスケープシーケンスを評価したい場合には、`print()` を使う必要があります。"
      ]
    },
    {
      "metadata": {
        "id": "cTxeZsrPv9cJ",
        "colab_type": "code",
        "colab": {}
      },
      "cell_type": "code",
      "source": [
        "d = 'Hello\\nWorld'"
      ],
      "execution_count": 0,
      "outputs": []
    },
    {
      "metadata": {
        "id": "ZgVfZOKRv9cL",
        "colab_type": "code",
        "outputId": "b7158257-39c2-402c-abfa-cb17bba9e841",
        "colab": {
          "base_uri": "https://localhost:8080/",
          "height": 35
        }
      },
      "cell_type": "code",
      "source": [
        "# エスケープシーケンスが評価されない\n",
        "d"
      ],
      "execution_count": 0,
      "outputs": [
        {
          "output_type": "execute_result",
          "data": {
            "text/plain": [
              "'Hello\\nWorld'"
            ]
          },
          "metadata": {
            "tags": []
          },
          "execution_count": 53
        }
      ]
    },
    {
      "metadata": {
        "id": "2DcxLEa1v9cM",
        "colab_type": "code",
        "outputId": "5f6c8182-febb-4d83-9747-de67ce848c20",
        "colab": {
          "base_uri": "https://localhost:8080/",
          "height": 53
        }
      },
      "cell_type": "code",
      "source": [
        "# エスケープシーケンスが評価される\n",
        "print(d)"
      ],
      "execution_count": 0,
      "outputs": [
        {
          "output_type": "stream",
          "text": [
            "Hello\n",
            "World\n"
          ],
          "name": "stdout"
        }
      ]
    },
    {
      "metadata": {
        "id": "Udw0u53Lv9cO",
        "colab_type": "text"
      },
      "cell_type": "markdown",
      "source": [
        "## 文字列メソッド\n",
        "\n",
        "`str` 型の変数には、いくつか便利な機能がついています。\n",
        "例えば、その変数が持つ全ての文字を小文字や大文字に変換する `lower()` や `upper()` といったメソッドが定義されています。"
      ]
    },
    {
      "metadata": {
        "id": "tDhIrHvev9cP",
        "colab_type": "code",
        "outputId": "de0b3fac-695c-4eb7-f414-0fb03f82b68f",
        "colab": {
          "base_uri": "https://localhost:8080/",
          "height": 35
        }
      },
      "cell_type": "code",
      "source": [
        "name = 'Chainer'\n",
        "\n",
        "name"
      ],
      "execution_count": 0,
      "outputs": [
        {
          "output_type": "execute_result",
          "data": {
            "text/plain": [
              "'Chainer'"
            ]
          },
          "metadata": {
            "tags": []
          },
          "execution_count": 55
        }
      ]
    },
    {
      "metadata": {
        "id": "pUb1lrhzv9cQ",
        "colab_type": "code",
        "outputId": "e5135ebf-af0a-4ff4-a56f-cbc8393209d9",
        "colab": {
          "base_uri": "https://localhost:8080/",
          "height": 35
        }
      },
      "cell_type": "code",
      "source": [
        "# すべてを小文字に変換\n",
        "name.lower()"
      ],
      "execution_count": 0,
      "outputs": [
        {
          "output_type": "execute_result",
          "data": {
            "text/plain": [
              "'chainer'"
            ]
          },
          "metadata": {
            "tags": []
          },
          "execution_count": 56
        }
      ]
    },
    {
      "metadata": {
        "id": "Ma-TiLUsv9cS",
        "colab_type": "code",
        "outputId": "be73a027-e40c-4cea-e924-dca4163c76a5",
        "colab": {
          "base_uri": "https://localhost:8080/",
          "height": 35
        }
      },
      "cell_type": "code",
      "source": [
        "# すべてを大文字に変換\n",
        "name.upper()"
      ],
      "execution_count": 0,
      "outputs": [
        {
          "output_type": "execute_result",
          "data": {
            "text/plain": [
              "'CHAINER'"
            ]
          },
          "metadata": {
            "tags": []
          },
          "execution_count": 57
        }
      ]
    },
    {
      "metadata": {
        "id": "qvpJWVYkv9cT",
        "colab_type": "text"
      },
      "cell_type": "markdown",
      "source": [
        "よく使う文字列メソッドの一つに、 `format()` があります。\n",
        "これは、ある文字列の一部分に、あとから別な文字列を埋め込むために使用します。\n",
        "対象の文字列には `{}` で予め値を埋め込みたい場所を指定しておきます。"
      ]
    },
    {
      "metadata": {
        "id": "UBDe56zvv9cT",
        "colab_type": "code",
        "outputId": "8bf615ea-9f02-4fb3-bb25-538ed3039e79",
        "colab": {
          "base_uri": "https://localhost:8080/",
          "height": 35
        }
      },
      "cell_type": "code",
      "source": [
        "name = 'Chainer'\n",
        "\n",
        "'{} チュートリアルへようこそ'.format(name)"
      ],
      "execution_count": 0,
      "outputs": [
        {
          "output_type": "execute_result",
          "data": {
            "text/plain": [
              "'Chainer チュートリアルへようこそ'"
            ]
          },
          "metadata": {
            "tags": []
          },
          "execution_count": 58
        }
      ]
    },
    {
      "metadata": {
        "id": "mN4n4NYMv9cV",
        "colab_type": "code",
        "outputId": "0c666e0e-31e4-47f5-c823-9612a0bde1a3",
        "colab": {
          "base_uri": "https://localhost:8080/",
          "height": 35
        }
      },
      "cell_type": "code",
      "source": [
        "name1 = 'Chainer'\n",
        "name2 = 'チュートリアル'\n",
        "\n",
        "'{} {}へようこそ'.format(name1, name2)"
      ],
      "execution_count": 0,
      "outputs": [
        {
          "output_type": "execute_result",
          "data": {
            "text/plain": [
              "'Chainer チュートリアルへようこそ'"
            ]
          },
          "metadata": {
            "tags": []
          },
          "execution_count": 59
        }
      ]
    },
    {
      "metadata": {
        "id": "G_LHyH7Uv9cW",
        "colab_type": "text"
      },
      "cell_type": "markdown",
      "source": [
        "`format()` メソッドを用いると `int` 型 や `float` 型の変数を、`str` 型へ明示的にキャストすることなく文字列に埋め込む事ができます。"
      ]
    },
    {
      "metadata": {
        "id": "hnNv40_Pv9cX",
        "colab_type": "code",
        "outputId": "7426f154-18ec-4e46-b43a-4f5aa74715a1",
        "colab": {
          "base_uri": "https://localhost:8080/",
          "height": 35
        }
      },
      "cell_type": "code",
      "source": [
        "version = 3.7\n",
        "\n",
        "'Python {}'.format(version)"
      ],
      "execution_count": 0,
      "outputs": [
        {
          "output_type": "execute_result",
          "data": {
            "text/plain": [
              "'Python 3.7'"
            ]
          },
          "metadata": {
            "tags": []
          },
          "execution_count": 60
        }
      ]
    },
    {
      "metadata": {
        "id": "Pm4cvrnQv9cY",
        "colab_type": "text"
      },
      "cell_type": "markdown",
      "source": [
        "## 浮動小数点数がもつメソッド\n",
        "\n",
        "「メソッド」は `str` 型の変数だけが持つものではありません。\n",
        "`int` 型の変数や、`float` 型の変数にも、その型の特徴に合わせた機能が、メソッドとして提供されています。\n",
        "\n",
        "例えば、`float` 型の変数には、`as_integer_ratio()` というメソッドがあり、比がその浮動小数点数の値となるような整数の組を返します。\n",
        "\n",
        "例えば、0.5 という値は、分数で表すと $\\frac{1}{2}$ です。\n",
        "これは、以下のようにして調べることができます。"
      ]
    },
    {
      "metadata": {
        "id": "pFPtOpz-v9cY",
        "colab_type": "code",
        "outputId": "888f0237-d4d4-45cb-99bc-4a5cb16642f1",
        "colab": {
          "base_uri": "https://localhost:8080/",
          "height": 35
        }
      },
      "cell_type": "code",
      "source": [
        "0.5.as_integer_ratio()"
      ],
      "execution_count": 0,
      "outputs": [
        {
          "output_type": "execute_result",
          "data": {
            "text/plain": [
              "(1, 2)"
            ]
          },
          "metadata": {
            "tags": []
          },
          "execution_count": 61
        }
      ]
    },
    {
      "metadata": {
        "id": "EZNdyQZLv9cZ",
        "colab_type": "text"
      },
      "cell_type": "markdown",
      "source": [
        "0.25 であれば、$\\frac{1}{4}$ となります。"
      ]
    },
    {
      "metadata": {
        "id": "OuwnCcupv9cZ",
        "colab_type": "code",
        "outputId": "a40da307-93b4-42a4-af50-3f93da52d43f",
        "colab": {
          "base_uri": "https://localhost:8080/",
          "height": 35
        }
      },
      "cell_type": "code",
      "source": [
        "0.25.as_integer_ratio()"
      ],
      "execution_count": 0,
      "outputs": [
        {
          "output_type": "execute_result",
          "data": {
            "text/plain": [
              "(1, 4)"
            ]
          },
          "metadata": {
            "tags": []
          },
          "execution_count": 62
        }
      ]
    },
    {
      "metadata": {
        "id": "P1-Ak83pv9ca",
        "colab_type": "text"
      },
      "cell_type": "markdown",
      "source": [
        "このような、型に紐付いたメソッドなどについては、この章の最後にある「クラス」という概念の説明の際にもう少し詳しく解説します。"
      ]
    },
    {
      "metadata": {
        "id": "VsBRE0Wyv9ca",
        "colab_type": "text"
      },
      "cell_type": "markdown",
      "source": [
        "## 複合データ型\n",
        "\n",
        "これまでは `a = 1` のように 1 つの変数に 1 つの値を代入する場合を扱ってきましたが、複数の値をまとめて取り扱いたい場面もあります。\n",
        "Python では複数の変数や値をまとめて扱うのに便利な、以下の 3 つの複合データ型があります。\n",
        "\n",
        "- リスト (list)\n",
        "- タプル (tuple)\n",
        "- 辞書 (dictionary)"
      ]
    },
    {
      "metadata": {
        "colab_type": "text",
        "id": "S1TLaajMDtmr"
      },
      "cell_type": "markdown",
      "source": [
        "### リスト\n",
        "\n",
        "複数の変数を `,` （カンマ）区切りで並べ、それらの全体を `[ ]` で囲んだものを **リスト (list)** と言います。\n",
        "リストに含まれる値を**要素**と呼び、整数の**インデックス** （要素番号）を使ってアクセスします。"
      ]
    },
    {
      "metadata": {
        "colab_type": "code",
        "id": "MJ7ZYj82D-a1",
        "outputId": "70f18858-c74d-4626-af82-9eb8bd9daf90",
        "colab": {
          "base_uri": "https://localhost:8080/",
          "height": 55
        }
      },
      "cell_type": "code",
      "source": [
        "# リスト型の変数を定義\n",
        "numbers = [4, 5, 6, 7]\n",
        "\n",
        "# 値の確認\n",
        "print(numbers)"
      ],
      "execution_count": 0,
      "outputs": [
        {
          "output_type": "stream",
          "text": [
            "[4, 5, 6, 7]\n"
          ],
          "name": "stdout"
        }
      ]
    },
    {
      "metadata": {
        "colab_type": "code",
        "id": "HH3NT-y4EC4Z",
        "outputId": "16b76298-ecea-4f19-9de9-b7f520592669",
        "colab": {
          "base_uri": "https://localhost:8080/",
          "height": 55
        }
      },
      "cell_type": "code",
      "source": [
        "# 型の確認\n",
        "type(numbers)"
      ],
      "execution_count": 0,
      "outputs": [
        {
          "output_type": "execute_result",
          "data": {
            "text/plain": [
              "list"
            ]
          },
          "metadata": {
            "tags": []
          },
          "execution_count": 64
        }
      ]
    },
    {
      "metadata": {
        "colab_type": "text",
        "id": "Rk_jY_TTIfGY"
      },
      "cell_type": "markdown",
      "source": [
        "`numbers` には 4 つの数値が入っており、**要素数** は 4 です。\n",
        "リストの要素数は、リストの**長さ (length)** とも呼ばれ、組み込み関数の `len()` を用いて取得することができます。\n",
        "`len()` はよく使う関数であるため、覚えておきましょう。"
      ]
    },
    {
      "metadata": {
        "colab_type": "code",
        "id": "DK6aH0AaoELi",
        "outputId": "cdea0aed-3ab3-418b-f100-93ce9f307ef8",
        "colab": {
          "base_uri": "https://localhost:8080/",
          "height": 55
        }
      },
      "cell_type": "code",
      "source": [
        "# 要素数の確認\n",
        "len(numbers)"
      ],
      "execution_count": 0,
      "outputs": [
        {
          "output_type": "execute_result",
          "data": {
            "text/plain": [
              "4"
            ]
          },
          "metadata": {
            "tags": []
          },
          "execution_count": 65
        }
      ]
    },
    {
      "metadata": {
        "colab_type": "text",
        "id": "RiJeRUdrEEUq"
      },
      "cell_type": "markdown",
      "source": [
        "リストの各要素へアクセスする方法はいくつかあります。\n",
        "最も簡単な方法は `[]` を使ってアクセスしたい要素番号を指定して、リストから値を取り出したり、その位置の値を書き換えたりする方法です。\n",
        "ここで、注意が必要な点として、Python では先頭の要素のインデックス番号が `0` である点があります。\n",
        "インデックス番号 `1` は 2 番目の要素を指します。"
      ]
    },
    {
      "metadata": {
        "colab_type": "code",
        "id": "DeCsf_L1Em29",
        "outputId": "ccf50023-88b1-4656-e2bf-690c0f94fe1e",
        "colab": {
          "base_uri": "https://localhost:8080/",
          "height": 55
        }
      },
      "cell_type": "code",
      "source": [
        "# 先頭の要素にアクセス\n",
        "numbers[0]"
      ],
      "execution_count": 0,
      "outputs": [
        {
          "output_type": "execute_result",
          "data": {
            "text/plain": [
              "4"
            ]
          },
          "metadata": {
            "tags": []
          },
          "execution_count": 66
        }
      ]
    },
    {
      "metadata": {
        "colab_type": "code",
        "id": "ox-Ma4yv5xqO",
        "outputId": "7ab18b8d-e461-4277-92cf-9de3571868e9",
        "colab": {
          "base_uri": "https://localhost:8080/",
          "height": 55
        }
      },
      "cell_type": "code",
      "source": [
        "# 先頭から3番目の要素にアクセス\n",
        "numbers[2]"
      ],
      "execution_count": 0,
      "outputs": [
        {
          "output_type": "execute_result",
          "data": {
            "text/plain": [
              "6"
            ]
          },
          "metadata": {
            "tags": []
          },
          "execution_count": 67
        }
      ]
    },
    {
      "metadata": {
        "id": "ve-ETFIrv9cg",
        "colab_type": "code",
        "colab": {}
      },
      "cell_type": "code",
      "source": [
        "# 2 番目の要素を書き換え\n",
        "numbers[1] = 10"
      ],
      "execution_count": 0,
      "outputs": []
    },
    {
      "metadata": {
        "id": "AXpG-tqNv9cg",
        "colab_type": "code",
        "outputId": "c86fc05f-18c0-4bed-bec4-92bcf486d1c4",
        "colab": {
          "base_uri": "https://localhost:8080/",
          "height": 55
        }
      },
      "cell_type": "code",
      "source": [
        "# 値の確認\n",
        "numbers"
      ],
      "execution_count": 0,
      "outputs": [
        {
          "output_type": "execute_result",
          "data": {
            "text/plain": [
              "[4, 10, 6, 7]"
            ]
          },
          "metadata": {
            "tags": []
          },
          "execution_count": 69
        }
      ]
    },
    {
      "metadata": {
        "colab_type": "text",
        "id": "kOVYiVOwIfGW"
      },
      "cell_type": "markdown",
      "source": [
        "また、インデックスに負の値を指定すると、末尾からの位置となります。\n",
        "要素番号 `-1` で最後の要素を参照することができます。"
      ]
    },
    {
      "metadata": {
        "colab_type": "code",
        "id": "WSaIdvb4IfGX",
        "outputId": "227aa7a7-3ee2-4cb3-b704-c15e290b5d1e",
        "colab": {
          "base_uri": "https://localhost:8080/",
          "height": 55
        }
      },
      "cell_type": "code",
      "source": [
        "# 末尾の要素にアクセス\n",
        "numbers[-1]"
      ],
      "execution_count": 0,
      "outputs": [
        {
          "output_type": "execute_result",
          "data": {
            "text/plain": [
              "7"
            ]
          },
          "metadata": {
            "tags": []
          },
          "execution_count": 70
        }
      ]
    },
    {
      "metadata": {
        "colab_type": "code",
        "id": "jP5fkl3V54WL",
        "outputId": "1b57fe7b-0267-4a4b-b3b0-30ac5d0c6af5",
        "colab": {
          "base_uri": "https://localhost:8080/",
          "height": 55
        }
      },
      "cell_type": "code",
      "source": [
        "# 末尾から3番目の要素にアクセス\n",
        "numbers[-3]"
      ],
      "execution_count": 0,
      "outputs": [
        {
          "output_type": "execute_result",
          "data": {
            "text/plain": [
              "10"
            ]
          },
          "metadata": {
            "tags": []
          },
          "execution_count": 71
        }
      ]
    },
    {
      "metadata": {
        "colab_type": "text",
        "id": "DLzLjTQ8EoG9"
      },
      "cell_type": "markdown",
      "source": [
        "次に、リストから一度に複数の要素を取り出す操作である**スライス (slice)** を紹介します。\n",
        "`開始位置:終了位置` のようにコロン `:` を用いてインデックスを範囲指定し、複数の部分要素にアクセスします。\n",
        "このスライスの処理は、この後の章でも多用するため、慣れておきましょう。\n",
        "\n",
        "例えば、先頭から 2 つの要素を取り出したい場合、以下のように指定します。"
      ]
    },
    {
      "metadata": {
        "colab_type": "code",
        "id": "MPI2H38DEy2N",
        "outputId": "04a097d8-ee2b-48a4-ecbf-f51c519289dc",
        "colab": {
          "base_uri": "https://localhost:8080/",
          "height": 55
        }
      },
      "cell_type": "code",
      "source": [
        "numbers[0:2]"
      ],
      "execution_count": 0,
      "outputs": [
        {
          "output_type": "execute_result",
          "data": {
            "text/plain": [
              "[4, 10]"
            ]
          },
          "metadata": {
            "tags": []
          },
          "execution_count": 72
        }
      ]
    },
    {
      "metadata": {
        "colab_type": "text",
        "id": "gK6_JXXTE2AY"
      },
      "cell_type": "markdown",
      "source": [
        "`開始位置:終了位置` と指定することで、開始位置から**終了位置のひとつ手前**までの要素を抽出します。 \n",
        "終了位置に指定したインデックスの値は含まれないことに注意してください。\n",
        "\n",
        "また、指定する開始番号が `0` である場合、以下のような略記がよく用いられます。"
      ]
    },
    {
      "metadata": {
        "colab_type": "code",
        "id": "hBo2_C5aFPHR",
        "outputId": "ea4f01e8-bde6-4fac-b0c7-8ce428345a5d",
        "colab": {
          "base_uri": "https://localhost:8080/",
          "height": 55
        }
      },
      "cell_type": "code",
      "source": [
        "numbers[:2]"
      ],
      "execution_count": 0,
      "outputs": [
        {
          "output_type": "execute_result",
          "data": {
            "text/plain": [
              "[4, 10]"
            ]
          },
          "metadata": {
            "tags": []
          },
          "execution_count": 73
        }
      ]
    },
    {
      "metadata": {
        "colab_type": "text",
        "id": "Qqem8sujFQVP"
      },
      "cell_type": "markdown",
      "source": [
        "このように、先頭のインデックスは省略することができます。\n",
        "このような記法を使う場合は、終了位置を示す数字を**取り出したい要素の個数**と捉えて、**先頭から 2 つを取り出す**操作だと考えると分かりやすくなります。\n",
        "\n",
        "同様に、ある位置からリストの末尾までを取り出す場合も、終了位置のインデックスを省略することができます。\n",
        "例えば、1 番目の要素から最後までを取り出すには以下のようにします。"
      ]
    },
    {
      "metadata": {
        "colab_type": "code",
        "id": "gItFJqoUFYzX",
        "outputId": "4300fb2d-7969-4677-d3a9-90ae4ad58d78",
        "colab": {
          "base_uri": "https://localhost:8080/",
          "height": 55
        }
      },
      "cell_type": "code",
      "source": [
        "numbers[1:]"
      ],
      "execution_count": 0,
      "outputs": [
        {
          "output_type": "execute_result",
          "data": {
            "text/plain": [
              "[10, 6, 7]"
            ]
          },
          "metadata": {
            "tags": []
          },
          "execution_count": 74
        }
      ]
    },
    {
      "metadata": {
        "id": "RRlf3vqOv9cq",
        "colab_type": "text"
      },
      "cell_type": "markdown",
      "source": [
        "この場合は、取り出される要素の個数は `len(numbers) - 1` 個となることに注意してください。\n",
        "\n",
        "以上から、`numbers[:2]` と `numbers[2:]` は、ちょうど 2 個目の要素を境に `numbers` の要素を 2 分割した前半部分と後半部分になっています。\n",
        "ここで、2 個目の要素自体は**後半部に含まれる**ということに注意してください。\n",
        "\n",
        "また、開始位置も終了位置も省略した場合は、すべての要素が選択されます。"
      ]
    },
    {
      "metadata": {
        "id": "nav8WoxNv9cq",
        "colab_type": "code",
        "outputId": "cd34e0c8-9e68-4bde-82ba-dd825dadca5a",
        "colab": {
          "base_uri": "https://localhost:8080/",
          "height": 55
        }
      },
      "cell_type": "code",
      "source": [
        "numbers[:]"
      ],
      "execution_count": 0,
      "outputs": [
        {
          "output_type": "execute_result",
          "data": {
            "text/plain": [
              "[4, 10, 6, 7]"
            ]
          },
          "metadata": {
            "tags": []
          },
          "execution_count": 75
        }
      ]
    },
    {
      "metadata": {
        "id": "9qPrP6sYv9cs",
        "colab_type": "text"
      },
      "cell_type": "markdown",
      "source": [
        "現状では、`numbers[:]` と `numbers` の結果が同じであるため、どのように使用するか疑問に思われるかも知れません。\n",
        "しかし、後の章では NumPy というライブラリを用いてリストの中にリストが入ったような**多次元配列 (multidimensional array)** を扱っていきます。\n",
        "そして多次元配列を用いて行列を表す場合には、`0 列目のすべての値`を抽出するために `[:, 0]` のような記法を用いるケースが登場します。\n",
        "これは Python 標準の機能ではありませんが、Python 標準のスライス表記を拡張したものになっています。"
      ]
    },
    {
      "metadata": {
        "colab_type": "text",
        "id": "AyoiOU5OFfET"
      },
      "cell_type": "markdown",
      "source": [
        "リストは数値以外に、文字列を扱うこともでき、また複数の型を同一のリスト内に混在させることもできます。"
      ]
    },
    {
      "metadata": {
        "colab_type": "code",
        "id": "9JglgRiWFyo8",
        "outputId": "f72cee34-e7b5-4c9b-fc8a-d096db41f778",
        "colab": {
          "base_uri": "https://localhost:8080/",
          "height": 55
        }
      },
      "cell_type": "code",
      "source": [
        "# 文字列を格納したリスト\n",
        "array = ['hello', 'world']\n",
        "array"
      ],
      "execution_count": 0,
      "outputs": [
        {
          "output_type": "execute_result",
          "data": {
            "text/plain": [
              "['hello', 'world']"
            ]
          },
          "metadata": {
            "tags": []
          },
          "execution_count": 76
        }
      ]
    },
    {
      "metadata": {
        "id": "Kcf8MyrBv9cu",
        "colab_type": "code",
        "outputId": "aaba77a2-fedc-44ae-cfb1-c6e84b4fdc67",
        "colab": {
          "base_uri": "https://localhost:8080/",
          "height": 55
        }
      },
      "cell_type": "code",
      "source": [
        "# 複数の型が混在したリスト\n",
        "array = [1, 1.2, 'Chainer']\n",
        "array"
      ],
      "execution_count": 0,
      "outputs": [
        {
          "output_type": "execute_result",
          "data": {
            "text/plain": [
              "[1, 1.2, 'Chainer']"
            ]
          },
          "metadata": {
            "tags": []
          },
          "execution_count": 77
        }
      ]
    },
    {
      "metadata": {
        "id": "9fKT2sjNv9cu",
        "colab_type": "text"
      },
      "cell_type": "markdown",
      "source": [
        "リストにリストを代入することもできます。\n",
        "また、Python 標準のリストでは入れ子になったリスト内の要素数がばらばらでも問題ありません。"
      ]
    },
    {
      "metadata": {
        "id": "Q8JxfHS8v9cv",
        "colab_type": "code",
        "outputId": "b4518533-0279-417d-b570-258b186360b3",
        "colab": {
          "base_uri": "https://localhost:8080/",
          "height": 55
        }
      },
      "cell_type": "code",
      "source": [
        "array = [[1, 1.2, 'Chainer', True], [3.2, 'Tutorial']]\n",
        "array"
      ],
      "execution_count": 0,
      "outputs": [
        {
          "output_type": "execute_result",
          "data": {
            "text/plain": [
              "[[1, 1.2, 'Chainer', True], [3.2, 'Tutorial']]"
            ]
          },
          "metadata": {
            "tags": []
          },
          "execution_count": 78
        }
      ]
    },
    {
      "metadata": {
        "colab_type": "text",
        "id": "5lYy-LP6F3wP"
      },
      "cell_type": "markdown",
      "source": [
        "リストを使う際に頻出する操作として、**リストへの値の追加**があります。\n",
        "リスト型には `append()` というメソッドが定義されており、これを用いてリストの末尾に新しい値を追加することができます。\n",
        "\n",
        "上記の `array` に値を追加してみましょう。"
      ]
    },
    {
      "metadata": {
        "id": "RmgtEN8Lv9cw",
        "colab_type": "code",
        "colab": {}
      },
      "cell_type": "code",
      "source": [
        "# 末尾に 2.5 を追加\n",
        "array.append(2.5)"
      ],
      "execution_count": 0,
      "outputs": []
    },
    {
      "metadata": {
        "id": "2E8q5y94v9cx",
        "colab_type": "code",
        "outputId": "661b7b87-601f-402b-ab2b-07c6affe5bb2",
        "colab": {
          "base_uri": "https://localhost:8080/",
          "height": 55
        }
      },
      "cell_type": "code",
      "source": [
        "# 値の確認\n",
        "array"
      ],
      "execution_count": 0,
      "outputs": [
        {
          "output_type": "execute_result",
          "data": {
            "text/plain": [
              "[[1, 1.2, 'Chainer', True], [3.2, 'Tutorial'], 2.5]"
            ]
          },
          "metadata": {
            "tags": []
          },
          "execution_count": 80
        }
      ]
    },
    {
      "metadata": {
        "id": "y5dQJA57v9cz",
        "colab_type": "text"
      },
      "cell_type": "markdown",
      "source": [
        "また、今後頻出する処理として、**空のリスト**を定義しておき、そこに後段の処理の中で適宜新たな要素を追加していくという使い方があります。"
      ]
    },
    {
      "metadata": {
        "colab_type": "code",
        "id": "00AEmnpxGPky",
        "outputId": "ca9c8bf3-247a-4de1-a3ed-dd9041e18b2e",
        "colab": {
          "base_uri": "https://localhost:8080/",
          "height": 55
        }
      },
      "cell_type": "code",
      "source": [
        "# 空のリストを定義\n",
        "array = []\n",
        "\n",
        "# 空のリストに要素を追加\n",
        "array.append('Chainer')\n",
        "array.append('チュートリアル')\n",
        "\n",
        "array"
      ],
      "execution_count": 0,
      "outputs": [
        {
          "output_type": "execute_result",
          "data": {
            "text/plain": [
              "['Chainer', 'チュートリアル']"
            ]
          },
          "metadata": {
            "tags": []
          },
          "execution_count": 81
        }
      ]
    },
    {
      "metadata": {
        "colab_type": "text",
        "id": "CV1072C3M7Qy"
      },
      "cell_type": "markdown",
      "source": [
        "### タプル\n",
        "\n",
        "**タプル (tuple)** はリストと同様に複数の要素をまとめた型ですが、リストとは異なる点として、定義した後に**中の要素を変更できない**という性質を持ちます。\n",
        "\n",
        "タプルの定義には `( )`を用います。"
      ]
    },
    {
      "metadata": {
        "colab_type": "code",
        "id": "mo4lGZN6NGAI",
        "outputId": "ceb1bc6b-decb-4654-a9bd-239614804654",
        "colab": {
          "base_uri": "https://localhost:8080/",
          "height": 35
        }
      },
      "cell_type": "code",
      "source": [
        "# タプルを定義\n",
        "array = (4, 5, 6, 7)\n",
        "array"
      ],
      "execution_count": 0,
      "outputs": [
        {
          "output_type": "execute_result",
          "data": {
            "text/plain": [
              "(4, 5, 6, 7)"
            ]
          },
          "metadata": {
            "tags": []
          },
          "execution_count": 82
        }
      ]
    },
    {
      "metadata": {
        "id": "LEUgknZov9c3",
        "colab_type": "code",
        "outputId": "91db1fa7-a50c-48ce-a433-083adc3063c3",
        "colab": {
          "base_uri": "https://localhost:8080/",
          "height": 35
        }
      },
      "cell_type": "code",
      "source": [
        "# 型の確認\n",
        "type(array)"
      ],
      "execution_count": 0,
      "outputs": [
        {
          "output_type": "execute_result",
          "data": {
            "text/plain": [
              "tuple"
            ]
          },
          "metadata": {
            "tags": []
          },
          "execution_count": 83
        }
      ]
    },
    {
      "metadata": {
        "id": "9w2M0A02v9c3",
        "colab_type": "text"
      },
      "cell_type": "markdown",
      "source": [
        "タプルの定義する際に `( )` を使用したため、要素へのアクセスも `( )` を使うように感じるかもしれませんが、実際にはリストと同様 `[ ]` を使用します。"
      ]
    },
    {
      "metadata": {
        "colab_type": "code",
        "id": "Fq7zIHMfNIXG",
        "outputId": "0573b889-5dc6-4f67-de1e-ea02cac81c14",
        "colab": {
          "base_uri": "https://localhost:8080/",
          "height": 35
        }
      },
      "cell_type": "code",
      "source": [
        "# 先頭の要素へアクセス\n",
        "array[0]"
      ],
      "execution_count": 0,
      "outputs": [
        {
          "output_type": "execute_result",
          "data": {
            "text/plain": [
              "4"
            ]
          },
          "metadata": {
            "tags": []
          },
          "execution_count": 84
        }
      ]
    },
    {
      "metadata": {
        "id": "3XdB2S5pv9c4",
        "colab_type": "code",
        "outputId": "c73cd211-8871-4319-e902-8ad7428eba4b",
        "colab": {
          "base_uri": "https://localhost:8080/",
          "height": 35
        }
      },
      "cell_type": "code",
      "source": [
        "# リストと同様、スライスも使用可能\n",
        "array[:3]"
      ],
      "execution_count": 0,
      "outputs": [
        {
          "output_type": "execute_result",
          "data": {
            "text/plain": [
              "(4, 5, 6)"
            ]
          },
          "metadata": {
            "tags": []
          },
          "execution_count": 85
        }
      ]
    },
    {
      "metadata": {
        "colab_type": "text",
        "id": "KjdkYtSmNSl3"
      },
      "cell_type": "markdown",
      "source": [
        "先述の通り、タプルは各要素の値を変更することができません。\n",
        "この性質は、定数項などプログラムの途中で書き換わってしまうことが望ましくないものをまとめて扱うのに便利です。\n",
        "\n",
        "実際に、タプルの要素に値の書き換えを行うとエラーが発生します。"
      ]
    },
    {
      "metadata": {
        "colab_type": "code",
        "id": "DRoToOjUNI51",
        "outputId": "158c7cd3-ea90-47ac-e43d-acf3e1706530",
        "colab": {
          "base_uri": "https://localhost:8080/",
          "height": 172
        }
      },
      "cell_type": "code",
      "source": [
        "# error\n",
        "array[0] = 10"
      ],
      "execution_count": 0,
      "outputs": [
        {
          "output_type": "error",
          "ename": "TypeError",
          "evalue": "ignored",
          "traceback": [
            "\u001b[0;31m---------------------------------------------------------------------------\u001b[0m",
            "\u001b[0;31mTypeError\u001b[0m                                 Traceback (most recent call last)",
            "\u001b[0;32m<ipython-input-86-a7859ae56fbe>\u001b[0m in \u001b[0;36m<module>\u001b[0;34m()\u001b[0m\n\u001b[0;32m----> 1\u001b[0;31m \u001b[0marray\u001b[0m\u001b[0;34m[\u001b[0m\u001b[0;36m0\u001b[0m\u001b[0;34m]\u001b[0m \u001b[0;34m=\u001b[0m \u001b[0;36m10\u001b[0m\u001b[0;34m\u001b[0m\u001b[0;34m\u001b[0m\u001b[0m\n\u001b[0m",
            "\u001b[0;31mTypeError\u001b[0m: 'tuple' object does not support item assignment"
          ]
        }
      ]
    },
    {
      "metadata": {
        "id": "6aq_3yNZv9c6",
        "colab_type": "text"
      },
      "cell_type": "markdown",
      "source": [
        "`tuple` のように中身が変更できない性質のことを**イミュータブル (immutable)**であると言います。反対に、`list` のように中身が変更できる性質のことを**ミュータブル (mutable)**であると言います\n",
        "\n",
        "タプルも Chainer でデータセットを扱うときなどに頻出する型です。その性質と取り扱い方を覚えておきましょう。"
      ]
    },
    {
      "metadata": {
        "colab_type": "text",
        "id": "nV8Lp5jLNO66"
      },
      "cell_type": "markdown",
      "source": [
        "### 辞書\n",
        "\n",
        "リストやタプルでは、複数の値をまとめて扱うことができました。\n",
        "そこで、定期テストの結果をまとめることを考えてみましょう。\n",
        "\n",
        "例えば、数学 90 点、理科 75 点、英語 80 点だったという結果を `scores = [90, 75, 80]` とリストで表してみます。\n",
        "しかし、これでは**何番目がどの教科の点数に対応するか、一見して分かりにくい**と思われます。\n",
        "\n",
        "Python の `dict` 型は、**キー (key)** とそれに対応する**値 (value)** をセットにして格納することができる型であり、このようなときに便利です。\n",
        "\n",
        "リストやタプルでは、各要素にアクセスする際に整数のインデックスを用いていましたが、辞書ではキーでインデックス化されているため、整数や文字列など、色々なものを使って要素を指定することができます。\n",
        "\n",
        "辞書は `{}` を用いて定義し、要素にアクセスする際には、リストやタプルと同様に `[ ]` を使用し、`[ ]` の中にキーを指定して対応する値を取り出します。"
      ]
    },
    {
      "metadata": {
        "colab_type": "code",
        "id": "NyxphI5fNMO8",
        "outputId": "9cbc25ab-334c-4d05-80d4-3f7ff9b64a44",
        "colab": {
          "base_uri": "https://localhost:8080/",
          "height": 35
        }
      },
      "cell_type": "code",
      "source": [
        "# 辞書を定義\n",
        "scores = {'Math': 90, 'Science': 75, 'English': 80 }\n",
        "scores"
      ],
      "execution_count": 0,
      "outputs": [
        {
          "output_type": "execute_result",
          "data": {
            "text/plain": [
              "{'English': 80, 'Math': 90, 'Science': 75}"
            ]
          },
          "metadata": {
            "tags": []
          },
          "execution_count": 87
        }
      ]
    },
    {
      "metadata": {
        "colab_type": "code",
        "id": "M-V2XOEdNu2a",
        "outputId": "28c49581-1a9c-45b9-8e11-1adc5d316f59",
        "colab": {
          "base_uri": "https://localhost:8080/",
          "height": 35
        }
      },
      "cell_type": "code",
      "source": [
        "# key が Math の value にアクセス\n",
        "scores['Math'] "
      ],
      "execution_count": 0,
      "outputs": [
        {
          "output_type": "execute_result",
          "data": {
            "text/plain": [
              "90"
            ]
          },
          "metadata": {
            "tags": []
          },
          "execution_count": 88
        }
      ]
    },
    {
      "metadata": {
        "id": "TA5V7SUBv9c8",
        "colab_type": "code",
        "outputId": "722f262b-a181-4548-ac76-55656c1e3e2f",
        "colab": {
          "base_uri": "https://localhost:8080/",
          "height": 35
        }
      },
      "cell_type": "code",
      "source": [
        "# key に日本語を使用することも可能\n",
        "scores = {'数学': 90, '理科': 75, '英語': 80}\n",
        "scores"
      ],
      "execution_count": 0,
      "outputs": [
        {
          "output_type": "execute_result",
          "data": {
            "text/plain": [
              "{'数学': 90, '理科': 75, '英語': 80}"
            ]
          },
          "metadata": {
            "tags": []
          },
          "execution_count": 89
        }
      ]
    },
    {
      "metadata": {
        "id": "IL2y81t-v9c9",
        "colab_type": "code",
        "outputId": "f92a6785-ec0c-4bfb-f634-b4bdacb60ff0",
        "colab": {
          "base_uri": "https://localhost:8080/",
          "height": 35
        }
      },
      "cell_type": "code",
      "source": [
        "scores['数学']"
      ],
      "execution_count": 0,
      "outputs": [
        {
          "output_type": "execute_result",
          "data": {
            "text/plain": [
              "90"
            ]
          },
          "metadata": {
            "tags": []
          },
          "execution_count": 90
        }
      ]
    },
    {
      "metadata": {
        "colab_type": "text",
        "id": "Jd_XpPMqfrSL"
      },
      "cell_type": "markdown",
      "source": [
        "他の人が定義した辞書に、**どのようなキーが存在するのか**を調べたいときがあります。\n",
        "辞書には、そのような場合に使える便利なメソッドがいくつか存在します。\n",
        "\n",
        "- `keys()`: キーをリストと性質が似た `dict_keys` として取得\n",
        "- `values()`: 値をリストと性質が似た `dict_values` して取得\n",
        "- `items()`: 各要素に対して (key, value) のタプルが作成され、リストと性質が似た `dict_items` として取得"
      ]
    },
    {
      "metadata": {
        "colab_type": "code",
        "id": "FkJjSlbShKjK",
        "outputId": "6498ffd1-5958-49c9-f7b6-5d257a709e30",
        "colab": {
          "base_uri": "https://localhost:8080/",
          "height": 35
        }
      },
      "cell_type": "code",
      "source": [
        "# キーのリスト\n",
        "scores.keys()"
      ],
      "execution_count": 0,
      "outputs": [
        {
          "output_type": "execute_result",
          "data": {
            "text/plain": [
              "dict_keys(['数学', '理科', '英語'])"
            ]
          },
          "metadata": {
            "tags": []
          },
          "execution_count": 91
        }
      ]
    },
    {
      "metadata": {
        "colab_type": "code",
        "id": "YOAOTDtUhNBz",
        "outputId": "13c2820a-16a5-4bd5-c721-d3c08f33149d",
        "colab": {
          "base_uri": "https://localhost:8080/",
          "height": 35
        }
      },
      "cell_type": "code",
      "source": [
        "# 値のリスト\n",
        "scores.values()"
      ],
      "execution_count": 0,
      "outputs": [
        {
          "output_type": "execute_result",
          "data": {
            "text/plain": [
              "dict_values([90, 75, 80])"
            ]
          },
          "metadata": {
            "tags": []
          },
          "execution_count": 92
        }
      ]
    },
    {
      "metadata": {
        "colab_type": "code",
        "id": "mWA7opwAhVEa",
        "outputId": "9db12509-10fc-4ecb-8b3d-4e66696ab4ed",
        "colab": {
          "base_uri": "https://localhost:8080/",
          "height": 35
        }
      },
      "cell_type": "code",
      "source": [
        "# (キー, 値)というタプルを要素とするリスト\n",
        "scores.items()"
      ],
      "execution_count": 0,
      "outputs": [
        {
          "output_type": "execute_result",
          "data": {
            "text/plain": [
              "dict_items([('数学', 90), ('理科', 75), ('英語', 80)])"
            ]
          },
          "metadata": {
            "tags": []
          },
          "execution_count": 93
        }
      ]
    },
    {
      "metadata": {
        "id": "I9WEXgSZv9dC",
        "colab_type": "text"
      },
      "cell_type": "markdown",
      "source": [
        "`dict_keys`, `dict_values`, `dict_items` と新しい型が登場しましたが、これは辞書型特有の型であり厳密には標準のリストとは異なりますが、リストと性質の似た型であるという程度の認識で問題ありません。"
      ]
    },
    {
      "metadata": {
        "colab_type": "text",
        "id": "qpoTmSY8bTDw"
      },
      "cell_type": "markdown",
      "source": [
        "辞書に要素を追加する場合は、新しいキーを指定して値を代入します。"
      ]
    },
    {
      "metadata": {
        "colab_type": "code",
        "id": "nDZ4RRcjnERu",
        "colab": {}
      },
      "cell_type": "code",
      "source": [
        "scores['国語'] = 85"
      ],
      "execution_count": 0,
      "outputs": []
    },
    {
      "metadata": {
        "colab_type": "code",
        "id": "P0HJVZJSnKal",
        "outputId": "e889581a-c12e-42bb-8ea9-6c61c4ba01fe",
        "colab": {
          "base_uri": "https://localhost:8080/",
          "height": 35
        }
      },
      "cell_type": "code",
      "source": [
        "scores"
      ],
      "execution_count": 0,
      "outputs": [
        {
          "output_type": "execute_result",
          "data": {
            "text/plain": [
              "{'国語': 85, '数学': 90, '理科': 75, '英語': 80}"
            ]
          },
          "metadata": {
            "tags": []
          },
          "execution_count": 95
        }
      ]
    },
    {
      "metadata": {
        "colab_type": "text",
        "id": "NIC2fwAknPf9"
      },
      "cell_type": "markdown",
      "source": [
        "また、既に存在するキーを指定した場合には、値が上書きされます。"
      ]
    },
    {
      "metadata": {
        "colab_type": "code",
        "id": "teLZbAHQnUfN",
        "colab": {}
      },
      "cell_type": "code",
      "source": [
        "scores['数学'] = 95"
      ],
      "execution_count": 0,
      "outputs": []
    },
    {
      "metadata": {
        "colab_type": "code",
        "id": "kQESKoXgnYRN",
        "outputId": "ef34e9bb-7964-48a4-f1e4-016fbb38e5ac",
        "colab": {
          "base_uri": "https://localhost:8080/",
          "height": 35
        }
      },
      "cell_type": "code",
      "source": [
        "scores"
      ],
      "execution_count": 0,
      "outputs": [
        {
          "output_type": "execute_result",
          "data": {
            "text/plain": [
              "{'国語': 85, '数学': 95, '理科': 75, '英語': 80}"
            ]
          },
          "metadata": {
            "tags": []
          },
          "execution_count": 97
        }
      ]
    },
    {
      "metadata": {
        "colab_type": "text",
        "id": "zTYLayT3qEzA"
      },
      "cell_type": "markdown",
      "source": [
        "## 制御構文\n",
        "\n",
        "複雑なプログラムを記述しようとすると、繰り返しの処理や、条件によって動作を変える処理が必要となります。\n",
        "これらは**制御構文**を用いて記述します。\n",
        "\n",
        "ここでは最も基本的な制御構文を 2 つ紹介します。\n",
        "\n",
        "- 繰り返し (`for`, `while`)\n",
        "- 条件分岐 (`if`)\n",
        "\n",
        "Python の制御構文は、**ヘッダ (header)** と **ブロック (block)** と呼ばれる 2 つの部分で構成されています。\n",
        "これらを合わせて **複合文 (compound statement)** と呼びます。\n",
        "\n",
        "![ヘッダーとブロック](images/02/02_05.png)"
      ]
    },
    {
      "metadata": {
        "id": "ciZc5_PCv9dJ",
        "colab_type": "text"
      },
      "cell_type": "markdown",
      "source": [
        "上図に示すように、制御構文ではヘッダ行に `for` 文や `if-else` 句を記述し、行末に `:` 記号を書きます。次に、ヘッダ行の条件で実行したい一連の処理文を、ブロックとしてその次の行以降に記述していきます。その際、 **インデント (indent)** と呼ばれる空白文字を先頭に挿入することで、ブロックを表現します。同じ数の空白でインデントされた文がブロックとみなされます。\n",
        "Python では、インデントとして**スペース 4 つ**を用いることが推奨されています。"
      ]
    },
    {
      "metadata": {
        "colab_type": "text",
        "id": "oELnTpERNwCQ"
      },
      "cell_type": "markdown",
      "source": [
        "### 繰り返し（for 文）\n",
        "\n",
        "同じ内容のメールを宛名だけ個別に変えて、1000 人に一斉送信したい場合など、繰り返す処理を記述する制御構文である `for` を使います。\n",
        "\n",
        "![for文](images/02/02_06.png)"
      ]
    },
    {
      "metadata": {
        "id": "_-50XwKOv9dJ",
        "colab_type": "text"
      },
      "cell_type": "markdown",
      "source": [
        "`for` 文の文法は上図のとおりです。\n",
        "\n",
        "**イテラブルオブジェクト (iterable object)** とは、反復可能オブジェクトのことであり、要素を一度に 1 つずつ返せるオブジェクトのことを指します。\n",
        "`range()` という組み込み関数を使うと、引数に与えた整数の回数だけ順番に整数を返すイテラブルオブジェクトを作ることができます。\n",
        "`range(5)` と書くと、0, 1, 2, 3, 4 という整数 5 つを順番に返すイテラブルオブジェクトになります。\n",
        "\n",
        "後述しますが、このイテラブルオブジェクトとして、リストやタプルも指定することができます。"
      ]
    },
    {
      "metadata": {
        "colab_type": "code",
        "id": "f7Y4APgkON_7",
        "outputId": "17c933fb-78b0-4534-8c87-2915210720f2",
        "colab": {
          "base_uri": "https://localhost:8080/",
          "height": 107
        }
      },
      "cell_type": "code",
      "source": [
        "# 5回繰り返す\n",
        "for i in range(5):\n",
        "    print(i)"
      ],
      "execution_count": 0,
      "outputs": [
        {
          "output_type": "stream",
          "text": [
            "0\n",
            "1\n",
            "2\n",
            "3\n",
            "4\n"
          ],
          "name": "stdout"
        }
      ]
    },
    {
      "metadata": {
        "colab_type": "text",
        "id": "oLpTgIv4OPnt"
      },
      "cell_type": "markdown",
      "source": [
        "上記の例では、イテラブルオブジェクトが1 つずつ返す値を変数 `i` で受け取っています。\n",
        "最初は `i = 0` から始まっていることに注意してください。\n",
        "最後の値も、`5` ではなく `4` となっています。\n",
        "このように、`range()` に 1 つの整数を与えた場合は、その整数 - 1 まで 0 から 1 つずつ増えていく整数を順番に返します。"
      ]
    },
    {
      "metadata": {
        "id": "SUTjSLuKv9dK",
        "colab_type": "code",
        "outputId": "14e3eef5-e20e-4d8f-b838-5c8f2f48ee2b",
        "colab": {
          "base_uri": "https://localhost:8080/",
          "height": 35
        }
      },
      "cell_type": "code",
      "source": [
        "# 繰り返し処理が終わった後の値の確認\n",
        "i"
      ],
      "execution_count": 0,
      "outputs": [
        {
          "output_type": "execute_result",
          "data": {
            "text/plain": [
              "4"
            ]
          },
          "metadata": {
            "tags": []
          },
          "execution_count": 99
        }
      ]
    },
    {
      "metadata": {
        "id": "4sMmj2Ewv9dL",
        "colab_type": "text"
      },
      "cell_type": "markdown",
      "source": [
        "Jupyter Notebook では変数名をコードセルの最後の行に書いて実行するとその変数に代入されている値を確認できましたが、for 文の中のブロックでは明示的に `print()` を使う必要があります。\n",
        "`print()` を用いないと、以下のように何も表示されません。"
      ]
    },
    {
      "metadata": {
        "id": "2SlR9vcGv9dL",
        "colab_type": "code",
        "colab": {}
      },
      "cell_type": "code",
      "source": [
        "# 変数の値は表示されない\n",
        "for i in range(5):\n",
        "    i"
      ],
      "execution_count": 0,
      "outputs": []
    },
    {
      "metadata": {
        "id": "tEczQdb9v9dM",
        "colab_type": "text"
      },
      "cell_type": "markdown",
      "source": [
        "for 文を使って、0 から始まって 1 ずつ大きくなっていく整数順番に取得し、これをリストのインデックスに利用すれば、リストの各要素に順番にアクセスすることができます。"
      ]
    },
    {
      "metadata": {
        "colab_type": "code",
        "id": "b6XXuQ_gOnxk",
        "outputId": "1e7f2924-6156-499f-dcce-1d0bdc3e7cef",
        "colab": {
          "base_uri": "https://localhost:8080/",
          "height": 71
        }
      },
      "cell_type": "code",
      "source": [
        "names = ['佐藤', '鈴木', '高橋']\n",
        "\n",
        "for i in range(3):\n",
        "    print(names[i])"
      ],
      "execution_count": 0,
      "outputs": [
        {
          "output_type": "stream",
          "text": [
            "佐藤\n",
            "鈴木\n",
            "高橋\n"
          ],
          "name": "stdout"
        }
      ]
    },
    {
      "metadata": {
        "id": "ci6hVBb-v9dN",
        "colab_type": "text"
      },
      "cell_type": "markdown",
      "source": [
        "少し応用して、自動的に敬称をつけて表示してみましょう。"
      ]
    },
    {
      "metadata": {
        "id": "B24Fyoe9v9dN",
        "colab_type": "code",
        "outputId": "c5c56a44-5a16-43f5-877f-d1616f688b25",
        "colab": {
          "base_uri": "https://localhost:8080/",
          "height": 71
        }
      },
      "cell_type": "code",
      "source": [
        "for i in range(3):\n",
        "    print('{}さん'.format(names[i]))"
      ],
      "execution_count": 0,
      "outputs": [
        {
          "output_type": "stream",
          "text": [
            "佐藤さん\n",
            "鈴木さん\n",
            "高橋さん\n"
          ],
          "name": "stdout"
        }
      ]
    },
    {
      "metadata": {
        "id": "msGhS1ISv9dN",
        "colab_type": "text"
      },
      "cell_type": "markdown",
      "source": [
        "つぎに、さらに汎用性の高いプログラムを目指します。\n",
        "\n",
        "上記のコードに関して、汎用性が低い点として、`range(3)` のように `3` という値を直接記述していることが挙げられます。\n",
        "この `3` はリストの要素の数を意味していますが、リストの要素の数が変わると、このプログラムも書き換える必要があり、手間がかかったり、ミスが発生する原因となったりします。\n",
        "\n",
        "リスト内の要素の数は、組み込み関数である `len()` を用いて取得できるため、これを使用した汎用性の高いプログラムに書き換えましょう。"
      ]
    },
    {
      "metadata": {
        "colab_type": "code",
        "id": "e4gbC4CIOzve",
        "outputId": "bf29b80b-b5fb-4657-d89d-e9d58d7d2289",
        "colab": {
          "base_uri": "https://localhost:8080/",
          "height": 35
        }
      },
      "cell_type": "code",
      "source": [
        "len(names)"
      ],
      "execution_count": 0,
      "outputs": [
        {
          "output_type": "execute_result",
          "data": {
            "text/plain": [
              "3"
            ]
          },
          "metadata": {
            "tags": []
          },
          "execution_count": 103
        }
      ]
    },
    {
      "metadata": {
        "colab_type": "code",
        "id": "4i21QYMwPB1C",
        "outputId": "4a18de5d-ac8c-4f15-e4d6-156ee37958f5",
        "colab": {
          "base_uri": "https://localhost:8080/",
          "height": 71
        }
      },
      "cell_type": "code",
      "source": [
        "for i in range(len(names)):\n",
        "    print('{}さん'.format(names[i]))"
      ],
      "execution_count": 0,
      "outputs": [
        {
          "output_type": "stream",
          "text": [
            "佐藤さん\n",
            "鈴木さん\n",
            "高橋さん\n"
          ],
          "name": "stdout"
        }
      ]
    },
    {
      "metadata": {
        "colab_type": "text",
        "id": "9wx-qJovPEC0"
      },
      "cell_type": "markdown",
      "source": [
        "これでリストの要素数に依存しないプログラムにすることができました。"
      ]
    },
    {
      "metadata": {
        "id": "KIO9gkUnv9dR",
        "colab_type": "text"
      },
      "cell_type": "markdown",
      "source": [
        "また、リスト自体をイテラブルオブジェクトとして指定することにより、リスト要素数の取得も `[]` でのインデックス番号の指定もせずに、より可読性の高いプログラムを書くことができます。"
      ]
    },
    {
      "metadata": {
        "id": "EDqeGWucv9dR",
        "colab_type": "code",
        "outputId": "fe01b96b-7faa-42fa-e0cd-045ae00a3056",
        "colab": {
          "base_uri": "https://localhost:8080/",
          "height": 71
        }
      },
      "cell_type": "code",
      "source": [
        "# リストをイテラブルオブジェクトに指定\n",
        "for name in names:\n",
        "    print('{}さん'.format(name))"
      ],
      "execution_count": 0,
      "outputs": [
        {
          "output_type": "stream",
          "text": [
            "佐藤さん\n",
            "鈴木さん\n",
            "高橋さん\n"
          ],
          "name": "stdout"
        }
      ]
    },
    {
      "metadata": {
        "id": "iWEhrw_9v9dS",
        "colab_type": "text"
      },
      "cell_type": "markdown",
      "source": [
        "最初のケースと比べていかがでしょうか。\n",
        "動作としては変わりがありませんが、可読性という観点も重要です。"
      ]
    },
    {
      "metadata": {
        "colab_type": "text",
        "id": "eeTHJ3hzPW7U"
      },
      "cell_type": "markdown",
      "source": [
        "リストをイテラブルオブジェクトとして指定した場合、要素番号を取得できませんが、状況によっては要素番号を使用したいことがあります。\n",
        "\n",
        "そのような場合は、`enumerate()` という組み込み関数を使います。\n",
        "これにイテラブルオブジェクトを渡すと、`(要素番号, 要素)` というタプルを 1 つずつ返すイテラブルオブジェクトになります。"
      ]
    },
    {
      "metadata": {
        "id": "8dT-qUhGv9dT",
        "colab_type": "code",
        "outputId": "8b57455f-a638-44c3-fde1-494b126bfdc1",
        "colab": {
          "base_uri": "https://localhost:8080/",
          "height": 71
        }
      },
      "cell_type": "code",
      "source": [
        "for i, name in enumerate(names):\n",
        "    message = '{}番目: {}さん'.format(i, name)\n",
        "    print(message)"
      ],
      "execution_count": 0,
      "outputs": [
        {
          "output_type": "stream",
          "text": [
            "0番目: 佐藤さん\n",
            "1番目: 鈴木さん\n",
            "2番目: 高橋さん\n"
          ],
          "name": "stdout"
        }
      ]
    },
    {
      "metadata": {
        "colab_type": "text",
        "id": "wGwCa9wmP2r4"
      },
      "cell_type": "markdown",
      "source": [
        "`enumerate()` と同様、`for` 文と合わせてよく使う組み込み関数に `zip()` があります。\n",
        "\n",
        "`zip()` は、複数のイテラブルオブジェクトを受け取り、その要素のペアを順番に返すイテラブルオブジェクトを作ります。\n",
        "このイテラブルオブジェクトは、渡されたイテラブルオブジェクトそれぞれの先頭の要素から順番に、タプルに束ねて返します。\n",
        "このイテラブルオブジェクトの長さは、渡されたイテラブルオブジェクトのうち最も短い長さと一致します。"
      ]
    },
    {
      "metadata": {
        "colab_type": "code",
        "id": "5w8huhHcQR8F",
        "outputId": "3b5c76e2-b698-4da8-802a-1c589a1969d3",
        "colab": {
          "base_uri": "https://localhost:8080/",
          "height": 53
        }
      },
      "cell_type": "code",
      "source": [
        "names = ['Python', 'Chainer']\n",
        "versions = ['3.7', '5.3.0']\n",
        "suffixes = ['!!', '!!', '?']\n",
        "\n",
        "for name, version, suffix in zip(names, versions, suffixes):\n",
        "    print('{} {} {}'.format(name, version, suffix))"
      ],
      "execution_count": 0,
      "outputs": [
        {
          "output_type": "stream",
          "text": [
            "Python 3.7 !!\n",
            "Chainer 5.3.0 !!\n"
          ],
          "name": "stdout"
        }
      ]
    },
    {
      "metadata": {
        "colab_type": "code",
        "id": "IeQCA00UQYDq",
        "outputId": "16b58b30-65f9-4610-a366-b93c8bc462cc",
        "colab": {
          "base_uri": "https://localhost:8080/",
          "height": 156
        }
      },
      "cell_type": "code",
      "source": [
        "`suffixes` の要素数は 3 ですが、より短いイテラブルオブジェクトと共に `zip` に渡されたため、先頭から 2 つ目までしか値が取り出されていません。"
      ],
      "execution_count": 0,
      "outputs": [
        {
          "output_type": "error",
          "ename": "SyntaxError",
          "evalue": "ignored",
          "traceback": [
            "\u001b[0;36m  File \u001b[0;32m\"<ipython-input-108-4e5974aceb89>\"\u001b[0;36m, line \u001b[0;32m1\u001b[0m\n\u001b[0;31m    `suffixes` の要素数は 3 ですが、より短いイテラブルオブジェクトと共に `zip` に渡されたため、先頭から 2 つ目までしか値が取り出されていません。\u001b[0m\n\u001b[0m    ^\u001b[0m\n\u001b[0;31mSyntaxError\u001b[0m\u001b[0;31m:\u001b[0m invalid syntax\n"
          ]
        }
      ]
    },
    {
      "metadata": {
        "colab_type": "text",
        "id": "WguFiYgqQnQT"
      },
      "cell_type": "markdown",
      "source": [
        "### 条件分岐（if 文）\n",
        "\n",
        "`if` は、指定した条件が `True` か `False` かによって、処理を変えるための制御構文です。\n",
        "\n",
        "![if文](images/02/02_08.png)"
      ]
    },
    {
      "metadata": {
        "id": "J-Z8g-Klv9dV",
        "colab_type": "text"
      },
      "cell_type": "markdown",
      "source": [
        "`elif` と `else` は任意であり、`elif` は 1 つだけでなく複数連ねることができます。\n",
        "\n",
        "例えば、0 より大きいことを条件とした処理を書いてみます。"
      ]
    },
    {
      "metadata": {
        "colab_type": "code",
        "id": "E-x_6gXwSsm7",
        "outputId": "7812a472-f5a3-4582-c493-cad195cd2194",
        "colab": {
          "base_uri": "https://localhost:8080/",
          "height": 35
        }
      },
      "cell_type": "code",
      "source": [
        "# if の条件を満たす場合\n",
        "a = 1\n",
        "\n",
        "if a > 0:\n",
        "    print('0より大きいです')\n",
        "else:\n",
        "    print('0以下です')"
      ],
      "execution_count": 0,
      "outputs": [
        {
          "output_type": "stream",
          "text": [
            "0より大きいです\n"
          ],
          "name": "stdout"
        }
      ]
    },
    {
      "metadata": {
        "id": "BmcHf-w5v9dV",
        "colab_type": "code",
        "outputId": "c3409cd0-0f6a-4200-920a-970ac8d48954",
        "colab": {
          "base_uri": "https://localhost:8080/",
          "height": 35
        }
      },
      "cell_type": "code",
      "source": [
        "# if の条件を満たさない場合\n",
        "a = -1\n",
        "\n",
        "if a > 0:\n",
        "    print('0より大きいです')\n",
        "else:\n",
        "    print('0以下です')"
      ],
      "execution_count": 0,
      "outputs": [
        {
          "output_type": "stream",
          "text": [
            "0以下です\n"
          ],
          "name": "stdout"
        }
      ]
    },
    {
      "metadata": {
        "colab_type": "text",
        "id": "u0F8tX6FStcQ"
      },
      "cell_type": "markdown",
      "source": [
        "また、`if` に対する条件以外の条件分岐を追加する場合は、下記のように `elif` を使います。"
      ]
    },
    {
      "metadata": {
        "colab_type": "code",
        "id": "6li0UyjpStjg",
        "outputId": "0877579a-576c-4fcf-b4ed-90433e9d3569",
        "colab": {
          "base_uri": "https://localhost:8080/",
          "height": 35
        }
      },
      "cell_type": "code",
      "source": [
        "a = 0\n",
        "\n",
        "if a > 0:    \n",
        "    print('0より大きいです')\n",
        "elif a == 0:\n",
        "    print('０です')\n",
        "else:\n",
        "    print('0より小さいです')"
      ],
      "execution_count": 0,
      "outputs": [
        {
          "output_type": "stream",
          "text": [
            "０です\n"
          ],
          "name": "stdout"
        }
      ]
    },
    {
      "metadata": {
        "id": "tZ15Hv9Gv9dY",
        "colab_type": "text"
      },
      "cell_type": "markdown",
      "source": [
        "### 繰り返し（while 文）\n",
        "\n",
        "繰り返し処理は、`for` 以外にも `while` を用いて記述することもできます。\n",
        "`while` 文では、以下のように**ループを継続する条件**を指定します。\n",
        "指定された条件文が `True` である限り、ブロックの部分に記述された処理が繰り返し実行されます。\n",
        "\n",
        "![while文](images/02/02_09.png)"
      ]
    },
    {
      "metadata": {
        "id": "Zjv8d3Rmv9dZ",
        "colab_type": "text"
      },
      "cell_type": "markdown",
      "source": [
        "`while` 文を使用した 3 回繰り返すプログラムは下記のとおりです。"
      ]
    },
    {
      "metadata": {
        "id": "aFhfzaDFv9dZ",
        "colab_type": "code",
        "outputId": "90799f45-d507-4075-f71f-ba3f3b309b68",
        "colab": {
          "base_uri": "https://localhost:8080/",
          "height": 71
        }
      },
      "cell_type": "code",
      "source": [
        "count = 0\n",
        "\n",
        "while count < 3:\n",
        "    print(count)\n",
        "    count += 1"
      ],
      "execution_count": 0,
      "outputs": [
        {
          "output_type": "stream",
          "text": [
            "0\n",
            "1\n",
            "2\n"
          ],
          "name": "stdout"
        }
      ]
    },
    {
      "metadata": {
        "id": "1Q3QReThv9da",
        "colab_type": "text"
      },
      "cell_type": "markdown",
      "source": [
        "ここで使われている `count` という変数は、ループの中身が何回実行されたかを数えるために使われています。\n",
        "まず `0` で初期化し、ループ内の処理が一度行われるたびに `count` の値に 1 を足しています。\n",
        "この `count` を使った条件式を `while` 文に与えることで、ループを回したい回数を指定しています。\n",
        "\n",
        "一方、`while True` と指定すると、`True` は変数ではなく値なので、変更されることはなく、ループは無限に回り続けます。\n",
        "`while` 文自体は無限ループの状態にしておき、ループの中で `if` 文を使って、ある条件が満たされた場合はループを中断する、という使い方ができます。\n",
        "これには `break` 文が用いられます。\n",
        "\n",
        "以下は、`break` 文を使って上のコードと同様に 3 回ループを回すコードです。"
      ]
    },
    {
      "metadata": {
        "id": "wj65vycFv9da",
        "colab_type": "code",
        "outputId": "7a438384-c14a-49a8-d4bb-8f29a71ec9a9",
        "colab": {
          "base_uri": "https://localhost:8080/",
          "height": 71
        }
      },
      "cell_type": "code",
      "source": [
        "count = 0\n",
        "\n",
        "while True:\n",
        "    print(count)\n",
        "    count += 1\n",
        "    \n",
        "    if count == 3:\n",
        "        break"
      ],
      "execution_count": 0,
      "outputs": [
        {
          "output_type": "stream",
          "text": [
            "0\n",
            "1\n",
            "2\n"
          ],
          "name": "stdout"
        }
      ]
    },
    {
      "metadata": {
        "id": "AQFnBfgEv9da",
        "colab_type": "text"
      },
      "cell_type": "markdown",
      "source": [
        "`count` の値が 3 と等しいかどうかが毎回チェックされ、等しくなっていれば `break` 文が実行されて `while` ループが終了します。"
      ]
    },
    {
      "metadata": {
        "id": "2rtEn2APv9db",
        "colab_type": "text"
      },
      "cell_type": "markdown",
      "source": [
        "`while` 文を使って、指定された条件を満たして**いない**間ループを繰り返すという処理も書くことができます。`while` 文自体の使い方は同じですが、条件を反転して与えることで、与えた条件が `False` である間繰り返されるようにすることができます。\n",
        "\n",
        "これには、真理値を反転する `not` を用います。\n",
        "`not True` は `False` を返し、`not False` は `True` を返します。"
      ]
    },
    {
      "metadata": {
        "id": "0PucNNA0v9db",
        "colab_type": "code",
        "outputId": "aa94fd91-98ca-4870-bebe-44a6d6c046bb",
        "colab": {
          "base_uri": "https://localhost:8080/",
          "height": 35
        }
      },
      "cell_type": "code",
      "source": [
        "not True"
      ],
      "execution_count": 0,
      "outputs": [
        {
          "output_type": "execute_result",
          "data": {
            "text/plain": [
              "False"
            ]
          },
          "metadata": {
            "tags": []
          },
          "execution_count": 114
        }
      ]
    },
    {
      "metadata": {
        "id": "9iX7JkEOv9db",
        "colab_type": "code",
        "outputId": "6edd1b78-175e-40a7-81cf-0e012cdbae77",
        "colab": {
          "base_uri": "https://localhost:8080/",
          "height": 35
        }
      },
      "cell_type": "code",
      "source": [
        "not False"
      ],
      "execution_count": 0,
      "outputs": [
        {
          "output_type": "execute_result",
          "data": {
            "text/plain": [
              "True"
            ]
          },
          "metadata": {
            "tags": []
          },
          "execution_count": 115
        }
      ]
    },
    {
      "metadata": {
        "id": "TkSUZ1iZv9dc",
        "colab_type": "code",
        "outputId": "7cc1009f-668f-4438-f47e-45f4b516e9ab",
        "colab": {
          "base_uri": "https://localhost:8080/",
          "height": 35
        }
      },
      "cell_type": "code",
      "source": [
        "not 1 == 2"
      ],
      "execution_count": 0,
      "outputs": [
        {
          "output_type": "execute_result",
          "data": {
            "text/plain": [
              "True"
            ]
          },
          "metadata": {
            "tags": []
          },
          "execution_count": 116
        }
      ]
    },
    {
      "metadata": {
        "id": "0aM2yZ7qv9dd",
        "colab_type": "text"
      },
      "cell_type": "markdown",
      "source": [
        "このように、`not` はあとに続く真理値を反転します。\n",
        "これを用いて、`count` が 3 **ではない**限りループを繰り返すというコードを `while` 文を使って書いてみましょう。"
      ]
    },
    {
      "metadata": {
        "id": "vhvBNYCXv9dd",
        "colab_type": "code",
        "outputId": "63bc8797-aa31-4cf0-cb96-54a4229c0204",
        "colab": {
          "base_uri": "https://localhost:8080/",
          "height": 71
        }
      },
      "cell_type": "code",
      "source": [
        "count = 0\n",
        "\n",
        "while not count == 3:\n",
        "    print(count)\n",
        "    count += 1"
      ],
      "execution_count": 0,
      "outputs": [
        {
          "output_type": "stream",
          "text": [
            "0\n",
            "1\n",
            "2\n"
          ],
          "name": "stdout"
        }
      ]
    },
    {
      "metadata": {
        "colab_type": "text",
        "id": "e96zsBv7IfDn"
      },
      "cell_type": "markdown",
      "source": [
        "## 関数\n",
        "\n",
        "何かひとまとまりの処理を書いた際には、その処理のためのコードをまとめて、プログラム全体の色々な箇所から再利用できるようにしておくと、便利な場合があります。\n",
        "ここでは、処理をひとまとめにする方法の一つとして**関数 (function)** を定義する方法を紹介します。"
      ]
    },
    {
      "metadata": {
        "id": "RCB98_8xv9df",
        "colab_type": "text"
      },
      "cell_type": "markdown",
      "source": [
        "### 関数を定義する\n",
        "\n",
        "![関数の定義](images/02/02_10.png)\n",
        "\n",
        "例えば、**受け取った値を 2 倍して表示する関数**を作ってみましょう。\n",
        "\n",
        "関数を定義するには、まず名前を決める必要があります。\n",
        "今回は `double` という名前の関数を定義してみます。\n",
        "\n",
        "関数も制御構文と同じく**ヘッダー**と**ブロック**を持っています。"
      ]
    },
    {
      "metadata": {
        "colab_type": "code",
        "id": "iDh3Mpi_IfDp",
        "colab": {}
      },
      "cell_type": "code",
      "source": [
        "# 関数 double の定義\n",
        "def double(x):\n",
        "    print(2 * x)"
      ],
      "execution_count": 0,
      "outputs": []
    },
    {
      "metadata": {
        "id": "yG-qN405v9dg",
        "colab_type": "text"
      },
      "cell_type": "markdown",
      "source": [
        "**関数は定義されただけでは実行されません。**\n",
        "定義した関数を使用するためには、定義を行うコードとは別に、実行を行うコードが必要です。"
      ]
    },
    {
      "metadata": {
        "id": "6QUecRiUv9dg",
        "colab_type": "code",
        "outputId": "f11e00a7-5b79-4c0c-a440-87877345242f",
        "colab": {
          "base_uri": "https://localhost:8080/",
          "height": 35
        }
      },
      "cell_type": "code",
      "source": [
        "# 関数の実行\n",
        "double(3)"
      ],
      "execution_count": 0,
      "outputs": [
        {
          "output_type": "stream",
          "text": [
            "6\n"
          ],
          "name": "stdout"
        }
      ]
    },
    {
      "metadata": {
        "id": "dR7DqN2fv9dh",
        "colab_type": "code",
        "outputId": "7c2a098d-aaee-43d7-e771-bbf6d7aa7aa8",
        "colab": {
          "base_uri": "https://localhost:8080/",
          "height": 35
        }
      },
      "cell_type": "code",
      "source": [
        "double(5)"
      ],
      "execution_count": 0,
      "outputs": [
        {
          "output_type": "stream",
          "text": [
            "10\n"
          ],
          "name": "stdout"
        }
      ]
    },
    {
      "metadata": {
        "id": "wjStuxcBv9di",
        "colab_type": "code",
        "outputId": "a1a8be74-8d9e-45a5-a7be-9c913208ff48",
        "colab": {
          "base_uri": "https://localhost:8080/",
          "height": 35
        }
      },
      "cell_type": "code",
      "source": [
        "double(1.5)"
      ],
      "execution_count": 0,
      "outputs": [
        {
          "output_type": "stream",
          "text": [
            "3.0\n"
          ],
          "name": "stdout"
        }
      ]
    },
    {
      "metadata": {
        "colab_type": "text",
        "id": "CRggp-QcIfDs"
      },
      "cell_type": "markdown",
      "source": [
        "`double(x)` における `x` のように、関数に渡される変数や値のことを**引数 (argument)** といいます。\n",
        "上の例は、名前が `double` で、1つの引数 `x` をとり、`2 * x` という計算を行い、その結果を表示しています。"
      ]
    },
    {
      "metadata": {
        "id": "VDqeEdX5v9dj",
        "colab_type": "text"
      },
      "cell_type": "markdown",
      "source": [
        "### 複数の引数をとる関数\n",
        "\n",
        "複数の引数をとる関数を定義する場合は、関数名に続く `()` の中に、カンマ `,` 区切りで引数名を並べます。\n",
        "\n",
        "例えば、引数を 2 つとり、足し算を行う関数 `add` を作ってみましょう。"
      ]
    },
    {
      "metadata": {
        "id": "ARE2LU8Qv9dl",
        "colab_type": "code",
        "colab": {}
      },
      "cell_type": "code",
      "source": [
        "# 関数の定義\n",
        "def add(a, b):\n",
        "    print(a + b)"
      ],
      "execution_count": 0,
      "outputs": []
    },
    {
      "metadata": {
        "id": "Zte-_M1-v9dl",
        "colab_type": "code",
        "outputId": "d8355d56-e6cc-4fd4-87c5-e96ba3a81906",
        "colab": {
          "base_uri": "https://localhost:8080/",
          "height": 35
        }
      },
      "cell_type": "code",
      "source": [
        "# 関数の実行\n",
        "add(1, 2)"
      ],
      "execution_count": 0,
      "outputs": [
        {
          "output_type": "stream",
          "text": [
            "3\n"
          ],
          "name": "stdout"
        }
      ]
    },
    {
      "metadata": {
        "id": "7HUAVoGhv9dm",
        "colab_type": "code",
        "outputId": "ba6024b2-3728-4f8d-a4ee-429c7a74c4eb",
        "colab": {
          "base_uri": "https://localhost:8080/",
          "height": 35
        }
      },
      "cell_type": "code",
      "source": [
        "add(3, 2.5)"
      ],
      "execution_count": 0,
      "outputs": [
        {
          "output_type": "stream",
          "text": [
            "5.5\n"
          ],
          "name": "stdout"
        }
      ]
    },
    {
      "metadata": {
        "id": "IjMBFjvmv9dm",
        "colab_type": "code",
        "outputId": "31004c71-492c-4a54-c184-040f8628a2c6",
        "colab": {
          "base_uri": "https://localhost:8080/",
          "height": 35
        }
      },
      "cell_type": "code",
      "source": [
        "add(1, -5)"
      ],
      "execution_count": 0,
      "outputs": [
        {
          "output_type": "stream",
          "text": [
            "-4\n"
          ],
          "name": "stdout"
        }
      ]
    },
    {
      "metadata": {
        "id": "mwZ-T1CTv9dn",
        "colab_type": "text"
      },
      "cell_type": "markdown",
      "source": [
        "今回の `double` や `add` は定義を行い自作した関数ですが、Python には予め多くの関数が定義されています。\n",
        "そのような関数を**組み込み関数 (built-in function)** と呼びます。\n",
        "すでに使用している `print()` や `len()`, `range()` などが、これに該当します。\n",
        "組み込み関数の一覧は[こちら](https://docs.python.org/ja/3/library/functions.html)で確認することができます。\n"
      ]
    },
    {
      "metadata": {
        "id": "A8XpuE_av9dn",
        "colab_type": "text"
      },
      "cell_type": "markdown",
      "source": [
        "### 引数をとらない関数\n",
        "\n",
        "引数をとらない関数を定義する場合でも、関数名の後に `()` を加える必要があります。\n",
        "\n",
        "例えば、実行するとメッセージを表示する関数を定義して、実行してみましょう。"
      ]
    },
    {
      "metadata": {
        "id": "z2Xej00Bv9dn",
        "colab_type": "code",
        "colab": {}
      },
      "cell_type": "code",
      "source": [
        "# 引数のない関数の定義\n",
        "def hello():\n",
        "    print('Chainerチュートリアルにようこそ')"
      ],
      "execution_count": 0,
      "outputs": []
    },
    {
      "metadata": {
        "id": "peShhHg2v9dn",
        "colab_type": "code",
        "outputId": "df61d272-4516-4402-abc6-1128c8778864",
        "colab": {
          "base_uri": "https://localhost:8080/",
          "height": 35
        }
      },
      "cell_type": "code",
      "source": [
        "# 引数のない関数の実行\n",
        "hello()"
      ],
      "execution_count": 0,
      "outputs": [
        {
          "output_type": "stream",
          "text": [
            "Chainerチュートリアルにようこそ\n"
          ],
          "name": "stdout"
        }
      ]
    },
    {
      "metadata": {
        "id": "BZGSKTbcv9do",
        "colab_type": "text"
      },
      "cell_type": "markdown",
      "source": [
        "### 引数のデフォルト値\n",
        "\n",
        "引数には、あらかじめ値を与えておくことができます。\n",
        "これは、引数をとる関数を定義する際に、何も引数に値が渡されなかったときにどのような値がその引数に渡されたことにするかをあらかじめ決めておける機能で、その値のことを**デフォルト値**と呼びます。\n",
        "\n",
        "例えば、上の `hello()` という関数に、`message` という引数をもたせ、そこにデフォルト値を設定しておきます。"
      ]
    },
    {
      "metadata": {
        "id": "uw2d8qDov9do",
        "colab_type": "code",
        "colab": {}
      },
      "cell_type": "code",
      "source": [
        "def hello(message='Chainerチュートリアルにようこそ'):\n",
        "    print(message)"
      ],
      "execution_count": 0,
      "outputs": []
    },
    {
      "metadata": {
        "id": "7i8TQcfzv9do",
        "colab_type": "text"
      },
      "cell_type": "markdown",
      "source": [
        "この関数は引数に何も与えずに呼び出すと、「Chainerチュートリアルにようこそ」というメッセージを表示し、引数に別な値が渡されると、その値を表示します。"
      ]
    },
    {
      "metadata": {
        "id": "Fh4VEHmMv9dp",
        "colab_type": "code",
        "outputId": "076e0074-2cc0-4b48-8354-2cf06ee7e406",
        "colab": {
          "base_uri": "https://localhost:8080/",
          "height": 35
        }
      },
      "cell_type": "code",
      "source": [
        "hello()"
      ],
      "execution_count": 0,
      "outputs": [
        {
          "output_type": "stream",
          "text": [
            "Chainerチュートリアルにようこそ\n"
          ],
          "name": "stdout"
        }
      ]
    },
    {
      "metadata": {
        "id": "p2g-ULOWv9dp",
        "colab_type": "code",
        "outputId": "9bb81c28-0b3d-4cf9-8752-0e057050f577",
        "colab": {
          "base_uri": "https://localhost:8080/",
          "height": 35
        }
      },
      "cell_type": "code",
      "source": [
        "hello('Welcome to Chainer tutorial')"
      ],
      "execution_count": 0,
      "outputs": [
        {
          "output_type": "stream",
          "text": [
            "Welcome to Chainer tutorial\n"
          ],
          "name": "stdout"
        }
      ]
    },
    {
      "metadata": {
        "id": "GWhAbt3ov9dq",
        "colab_type": "text"
      },
      "cell_type": "markdown",
      "source": [
        "デフォルト値が与えられていない引数は、関数呼び出しの際に必ず何らかの値が渡される必要がありますが、デフォルト値を持つ場合は、何も指定しなくても関数を呼び出すことができるようになります。"
      ]
    },
    {
      "metadata": {
        "id": "DpwRYy4ov9dq",
        "colab_type": "text"
      },
      "cell_type": "markdown",
      "source": [
        "### 返り値のある関数\n",
        "\n",
        "上で定義した足し算を行う関数 `add` では、計算結果を表示するだけで、計算結果を呼び出し元に戻していませんでした。\n",
        "そのため、このままでは計算結果を関数の外から利用することができません。\n",
        "\n",
        "そこで、`add()` 関数の末尾に `return` 文を追加して、計算結果を呼び出し元に返すように変更してみましょう。"
      ]
    },
    {
      "metadata": {
        "id": "ZCtzpxG1v9dq",
        "colab_type": "code",
        "colab": {}
      },
      "cell_type": "code",
      "source": [
        "# 返り値のある関数の定義\n",
        "def add(a, b):\n",
        "    return a + b"
      ],
      "execution_count": 0,
      "outputs": []
    },
    {
      "metadata": {
        "id": "M9c1_e-sv9dr",
        "colab_type": "text"
      },
      "cell_type": "markdown",
      "source": [
        "このように、呼び出し元に返したい値を `return` に続いて書くと、その値が `add` 関数を呼び出したところへ戻されます。\n",
        "`return` で返される値のことを**返り値 (return value)** と言います。\n",
        "\n",
        "以下に、計算結果を `result` という変数に格納し、表示する例を示します。"
      ]
    },
    {
      "metadata": {
        "id": "RPJnjuL5v9dr",
        "colab_type": "code",
        "outputId": "0e7bd50b-4af9-429d-df2d-9483034ae037",
        "colab": {
          "base_uri": "https://localhost:8080/",
          "height": 35
        }
      },
      "cell_type": "code",
      "source": [
        "result = add(1, 3)\n",
        "\n",
        "result"
      ],
      "execution_count": 0,
      "outputs": [
        {
          "output_type": "execute_result",
          "data": {
            "text/plain": [
              "4"
            ]
          },
          "metadata": {
            "tags": []
          },
          "execution_count": 132
        }
      ]
    },
    {
      "metadata": {
        "id": "tagr61vUv9ds",
        "colab_type": "text"
      },
      "cell_type": "markdown",
      "source": [
        "計算結果が `result` に格納されているので、この結果を用いてさらに別の処理を行うことができます。"
      ]
    },
    {
      "metadata": {
        "id": "Qe8Enb6Ev9ds",
        "colab_type": "code",
        "outputId": "9570a4bf-57d7-4350-b76b-849e0b264867",
        "colab": {
          "base_uri": "https://localhost:8080/",
          "height": 35
        }
      },
      "cell_type": "code",
      "source": [
        "result = add(1, 3)\n",
        "\n",
        "result_doubled = result * 2\n",
        "\n",
        "result_doubled"
      ],
      "execution_count": 0,
      "outputs": [
        {
          "output_type": "execute_result",
          "data": {
            "text/plain": [
              "8"
            ]
          },
          "metadata": {
            "tags": []
          },
          "execution_count": 133
        }
      ]
    },
    {
      "metadata": {
        "id": "fP4OdcI-v9ds",
        "colab_type": "text"
      },
      "cell_type": "markdown",
      "source": [
        "また、返り値は「呼び出し元」に返されると書きました。\n",
        "この「呼び出し元」というのは、関数を呼び出す部分のことで、上のコードは `add(1, 3)` の部分が `4` という結果の値になり、それが左辺の `result` に代入されています。\n",
        "\n",
        "これを用いると、例えば「2 と 3 を足した結果と、1 と 3 を足した結果を、掛け合わせる」という計算が、以下のように書けます。"
      ]
    },
    {
      "metadata": {
        "id": "gs0hBjg6v9ds",
        "colab_type": "code",
        "outputId": "f74359d6-cf25-402e-ef1f-23f564abfb58",
        "colab": {
          "base_uri": "https://localhost:8080/",
          "height": 35
        }
      },
      "cell_type": "code",
      "source": [
        "add(2, 3) * add(1, 3)"
      ],
      "execution_count": 0,
      "outputs": [
        {
          "output_type": "execute_result",
          "data": {
            "text/plain": [
              "20"
            ]
          },
          "metadata": {
            "tags": []
          },
          "execution_count": 134
        }
      ]
    },
    {
      "metadata": {
        "id": "BJnkcc_Qv9dt",
        "colab_type": "text"
      },
      "cell_type": "markdown",
      "source": [
        "### 変数のスコープ\n",
        "\n",
        "関数の中で定義した変数は基本的には関数の外では利用できません。\n",
        "例えば、以下の例を見てみましょう。"
      ]
    },
    {
      "metadata": {
        "id": "L8vtxEV7v9dt",
        "colab_type": "code",
        "outputId": "e80e10ef-e155-4b1f-bf3b-11a99711f2a0",
        "colab": {
          "base_uri": "https://localhost:8080/",
          "height": 35
        }
      },
      "cell_type": "code",
      "source": [
        "a = 1\n",
        "\n",
        "# 関数の内部で a に 2 を代入\n",
        "def change():\n",
        "    a = 2\n",
        "    \n",
        "change()\n",
        "\n",
        "a"
      ],
      "execution_count": 0,
      "outputs": [
        {
          "output_type": "execute_result",
          "data": {
            "text/plain": [
              "1"
            ]
          },
          "metadata": {
            "tags": []
          },
          "execution_count": 135
        }
      ]
    },
    {
      "metadata": {
        "id": "Z9slKEKXv9du",
        "colab_type": "text"
      },
      "cell_type": "markdown",
      "source": [
        "関数の外で `a = 1` と初期化した変数と同じ名前の変数に対して、`change` 関数の内部で `a = 2` という代入を行っているにもかかわらず、`change` 関数の実行後にも関数の外側では `a` の値は 1 のままになっています。\n",
        "**関数の外側で定義された変数 `a` に、関数内部での処理が影響していないことがわかります。**\n",
        "\n",
        "なぜこうなるかというと、関数の中で変数に値が代入されるとき、その変数はその関数の**スコープ**でだけ有効な**ローカル変数**になり、関数の外にある同じ名前の変数とは別のものを指すようになるためです。\n",
        "スコープとは、その変数が参照可能な範囲のことです。\n",
        "上の例では、`a = 2` の代入を行った時点で`change()` 関数のスコープに `a` という変数が作られ、`change()` 関数の中からは `a` といえばこれを指すようになります。関数から抜けると、`a` は 1 を値に持つ外側の変数を指すようになります。\n",
        "\n",
        "ただし、代入を行わずに、参照するだけであれば、関数の内側から外側で定義された変数を利用することができます。"
      ]
    },
    {
      "metadata": {
        "id": "XgGcEUSQv9du",
        "colab_type": "code",
        "outputId": "786157c4-7c1d-4336-b97b-ebef5449f136",
        "colab": {
          "base_uri": "https://localhost:8080/",
          "height": 53
        }
      },
      "cell_type": "code",
      "source": [
        "a = 1\n",
        "\n",
        "def change():\n",
        "    print('From inside:', a)\n",
        "    \n",
        "change()\n",
        "\n",
        "print('From outside:', a)"
      ],
      "execution_count": 0,
      "outputs": [
        {
          "output_type": "stream",
          "text": [
            "From inside: 1\n",
            "From outside: 1\n"
          ],
          "name": "stdout"
        }
      ]
    },
    {
      "metadata": {
        "id": "vAHe5xDGv9dv",
        "colab_type": "text"
      },
      "cell_type": "markdown",
      "source": [
        "この場合は、`change()` 関数のスコープには `a` という変数は作られないので、関数の中で `a` といえば外側で定義された変数を指します。\n",
        "\n",
        "関数の外で定義された変数は**グローバル変数**と呼ばれます。\n",
        "グローバル変数は、特に特別な記述を要せず参照することはできますが、関数の中で**代入**を行う場合は、`global` 文を使って、代入先をグローバル変数とする宣言を行う必要があります。"
      ]
    },
    {
      "metadata": {
        "id": "D1uNClamv9dv",
        "colab_type": "code",
        "outputId": "f20011e3-c14c-444a-9ee3-42f0464ce703",
        "colab": {
          "base_uri": "https://localhost:8080/",
          "height": 35
        }
      },
      "cell_type": "code",
      "source": [
        "a = 1\n",
        "\n",
        "def change():\n",
        "    global a  # a をグローバル変数である宣言\n",
        "    a = 2       # グローバル変数への代入\n",
        "\n",
        "# 関数の実行\n",
        "change()\n",
        "\n",
        "# 結果の確認 <- a の値が上書きされている\n",
        "a"
      ],
      "execution_count": 0,
      "outputs": [
        {
          "output_type": "execute_result",
          "data": {
            "text/plain": [
              "2"
            ]
          },
          "metadata": {
            "tags": []
          },
          "execution_count": 137
        }
      ]
    },
    {
      "metadata": {
        "id": "MSTyBWulv9dv",
        "colab_type": "text"
      },
      "cell_type": "markdown",
      "source": [
        "`global a` という行を `change()` 関数内で `a` という変数を使用する前に追加すると、その行以降は `a` という変数への代入も関数の外側で定義されたグローバル変数の `a` に対して行われます。"
      ]
    },
    {
      "metadata": {
        "colab_type": "text",
        "id": "FBe0bEnnVoE5"
      },
      "cell_type": "markdown",
      "source": [
        "## クラス\n",
        "\n",
        "**オブジェクト指向プログラミング (object-oriented programming)** の特徴の一つである**クラス (class)** は、**オブジェクト (object)** を生成するための設計図にあたるものです。\n",
        "まず、クラスとは何か、オブジェクトとは何かについて説明します。\n",
        "\n",
        "ここで、唐突に感じられるかもしれませんが、家を何軒も建てるときのことを考えましょう。\n",
        "それぞれの家の形や大きさ、構造は同じですが、表札に書かれている名前は異なっているとします。\n",
        "この場合、家の設計図は同じですが、表札に何と書くか、において多少の変更がそれぞれの家ごとに必要となります。\n",
        "この**全ての家に共通した設計図の役割を果たすのがクラス**です。\n",
        "そして、設計図は、家として現実に存在しているわけではありませんが、個別の家は、現実に家としての**実体**を持って存在しています。\n",
        "よって、**設計図に基づいて個別の家を建てる**ということを抽象的に言うと、**クラスから実体を作成する**、となります。\n",
        "クラスから作成された実体のことを**インスタンス (instance)** または**オブジェクト (object)** とも呼び、**クラスから実体を作成する**という操作のことを**インスタンス化 (instantiation)** と呼びます。"
      ]
    },
    {
      "metadata": {
        "id": "M1XEvf6Kv9dw",
        "colab_type": "text"
      },
      "cell_type": "markdown",
      "source": [
        "### クラスの定義\n",
        "\n",
        "それでは、家の設計図を表す `House` というクラスを定義してみましょう。\n",
        "`House` クラスには、インスタンス化されたあとに、各インスタンス、すなわち誰か特定の人の家ごとに異なる値を持つ、`name_plate` という変数を持たせてみます。\n",
        "\n",
        "`name_plate` という変数には、個別の家の表札に表示するための文字列が与えられますが、クラスを定義する際には「`name_plate` という変数を持つことができる」ようにしておくだけでよく、**実際にその変数に何か具体的な値を与える必要はありません。**\n",
        "クラスは、**設計図**であればよく、具体的な値を持たせなくてもよいためです。\n",
        "具体的な値は、個別の家を作成するとき、すなわちインスタンス化の際に与え、各インスタンスが `name_plate` という値に自分の家の表札の名前を保持するようにします。\n",
        "\n",
        "このような、インスタンスに属している変数を**属性 (attribute)** と呼びます。同様に、インスタンスから呼び出す事ができる関数のことを**メソッド (method)** と呼びます。\n",
        "\n",
        "クラスは、以下のような構文を使って定義します。\n",
        "\n",
        "![クラス](images/02/02_11.png)\n",
        "\n",
        "具体的には、以下のようになります。"
      ]
    },
    {
      "metadata": {
        "id": "9ZrUz4kHv9dw",
        "colab_type": "code",
        "colab": {}
      },
      "cell_type": "code",
      "source": [
        "# クラスの定義\n",
        "class House:\n",
        "\n",
        "    # __init__ メソッドの定義\n",
        "    def __init__(self, name):\n",
        "        self.name_plate = name"
      ],
      "execution_count": 0,
      "outputs": []
    },
    {
      "metadata": {
        "id": "151zWM4Dv9dw",
        "colab_type": "text"
      },
      "cell_type": "markdown",
      "source": [
        "ここで、`__init__` という名前のメソッドが `House` クラスの中に定義されています。\n",
        "メソッドの名前は自由に名付けることができますが、いくつか特別な意味を持つメソッド名が予め決められています。\n",
        "`__init__` はそういったメソッドの一つで、**インスタンス化する際に自動的に呼ばれるメソッド**です。\n",
        "\n",
        "`House` クラスの `__init__` は、`name` という引数をとり、これを `self.name_plate` という変数に代入しています。\n",
        "この `self` というのは、クラスがインスタンス化されたあと、作成されたインスタンス自身を参照するのに用いられます。\n",
        "これを使って、`self.name_plate = name` とすることで、作成された個別のインスタンスに属する変数 `self.name_plate` へ、引数に渡された `name` が持つ値を代入することができます。\n",
        "`self` が指すものは、各インスタンスから見た「自分自身」なので、各インスタンスごとに異なります。\n",
        "これによって、`self.name_plate` は各インスタンスに紐付いた別々の値を持つものとなります。\n",
        "\n",
        "メソッドは、インスタンスから呼び出されるとき自動的に第一引数にそのインスタンスへの参照を渡します。\n",
        "そのため、メソッドの第一引数は `self` とし、渡されてくる自分自身への参照を受け取るようにしています。\n",
        "ただし、呼び出す際には**そのインスタンスを引数に指定する必要はありません。**\n",
        "以下に具体例を示し、再度このことを確認します。\n",
        "\n",
        "それでは、上で定義した `House` クラスのインスタンスを作成してみます。\n",
        "クラスのインスタンス化には、クラス名のあとに `()` を追加して、クラスを呼び出すような記法を使います。\n",
        "この際、関数を呼び出すときと同様にして、`()` に引数を渡すことができます。\n",
        "その引数は、`__init__` メソッドに渡されます。"
      ]
    },
    {
      "metadata": {
        "id": "PE3dT2ytv9dx",
        "colab_type": "code",
        "colab": {}
      },
      "cell_type": "code",
      "source": [
        "my_house = House('Chainer')"
      ],
      "execution_count": 0,
      "outputs": []
    },
    {
      "metadata": {
        "id": "9xHHa6rwv9dx",
        "colab_type": "text"
      },
      "cell_type": "markdown",
      "source": [
        "`House` というクラスの `__init__` メソッドに、`'Chainer'` という文字列を渡しています。\n",
        "`my_house` が、`House` クラスから作成されたインスタンスです。\n",
        "ここで、クラス定義では `__init__` メソッドは `self` と `name` という 2 つの引数をとっていましたが、呼び出しの際には `'Chainer'` という一つの引数しか与えていませんでした。\n",
        "この `'Chainer'` という文字列は、1 つ目の引数であるにも関わらず、`__init__` メソッドの定義では 2 つ目の引数であった `name` に渡されます。\n",
        "前述のように、**メソッドは、インスタンスから呼び出されるとき自動的に第一引数にそのインスタンスへの参照を渡す**ためです。\n",
        "この自動的に渡される自身への参照は、呼び出しの際には明示的に指定しません。\n",
        "また、かならず 1 つ目の引数に自動的に渡されるため、呼び出し時に明示的に与えられた引数は 2 つ目以降の引数に渡されたものとして取り扱われます。\n",
        "\n",
        "それでは次に、このクラスに `hello()` というメソッドを追加し、呼び出すと誰の家であるかを表示するという機能を実装してみます。"
      ]
    },
    {
      "metadata": {
        "id": "k2Zcvs1xv9dx",
        "colab_type": "code",
        "colab": {}
      },
      "cell_type": "code",
      "source": [
        "# クラスの定義\n",
        "class House:\n",
        "\n",
        "    # __init__ の定義\n",
        "    def __init__(self, name):\n",
        "        self.name_plate = name\n",
        "\n",
        "    # メソッドの定義\n",
        "    def hello(self):\n",
        "        print('{}の家です。'.format(self.name_plate))"
      ],
      "execution_count": 0,
      "outputs": []
    },
    {
      "metadata": {
        "id": "oTQagqYdv9dz",
        "colab_type": "text"
      },
      "cell_type": "markdown",
      "source": [
        "それでは、2 つのインスタンスを作成して、それぞれから `hello()` メソッドを呼び出してみます。"
      ]
    },
    {
      "metadata": {
        "id": "MP8iXQM0v9dz",
        "colab_type": "code",
        "outputId": "c07ec704-6e5e-41bc-8b21-bdec6fe842bf",
        "colab": {
          "base_uri": "https://localhost:8080/",
          "height": 53
        }
      },
      "cell_type": "code",
      "source": [
        "sato = House('佐藤')\n",
        "suzuki = House('スズキ')\n",
        "\n",
        "sato.hello()   # 実行の際には hello() の引数にある self は無視\n",
        "suzuki.hello() # 実行の際には hello() の引数にある self は無視"
      ],
      "execution_count": 0,
      "outputs": [
        {
          "output_type": "stream",
          "text": [
            "佐藤の家です。\n",
            "スズキの家です。\n"
          ],
          "name": "stdout"
        }
      ]
    },
    {
      "metadata": {
        "id": "_vI_Dqjdv9d0",
        "colab_type": "text"
      },
      "cell_type": "markdown",
      "source": [
        "`sato` というインスタンスの `name_plate` 属性には、`'佐藤'` という文字列が格納されています。  \n",
        "`suzuki` というインスタンスの `name_plate` 属性には、`'鈴木'` という文字列が格納されています。  \n",
        "それぞれのインスタンスから呼び出された `hello()` メソッドは、`self.name_plate` に格納された別々の値を `print()` を用いて表示しています。\n",
        "\n",
        "このように、同じ機能を持つが、インスタンスによって保持するデータが異なったり、一部の動作が異なったりするようなケースを扱うのにクラスを利用します。\n",
        "Python の `int` 型、`float` 型、`str` 型…などは、実際には `int` クラス、`float` クラス、`str` クラスであり、それらの中では個別の変数（インスタンス）がどのような値になるかには関係なく、同じ型であれば共通して持っている機能が定義されています。\n",
        "`5` や `0.3` や `'Chainer'` などは、それぞれ `int` クラスのインスタンス、`float` クラスのインスタンス、`str` クラスのインスタンスです。\n",
        "\n",
        "以上から、クラスを定義するというのは、**新しい型を作る**ということでもあると分かります。"
      ]
    },
    {
      "metadata": {
        "colab_type": "text",
        "id": "0M1dmJSacA7g"
      },
      "cell_type": "markdown",
      "source": [
        "### 継承\n",
        "\n",
        "あるクラスを定義したら、その一部の機能を変更したり、新しい機能を付け足したりしたくなることがあります。\n",
        "これを実現する機能が**継承 (inheritance)** です。\n",
        "例えば、`Link` というクラスを定義し、そのクラスを継承した `Chain` という新しいクラスを作ってみましょう。\n",
        "まず、`Link` クラスを定義します。"
      ]
    },
    {
      "metadata": {
        "id": "wn9XJxjpv9d0",
        "colab_type": "code",
        "colab": {}
      },
      "cell_type": "code",
      "source": [
        "class Link:\n",
        "\n",
        "    def __init__(self):\n",
        "        self.a = 1\n",
        "        self.b = 2"
      ],
      "execution_count": 0,
      "outputs": []
    },
    {
      "metadata": {
        "id": "Qn0fSwvyv9d1",
        "colab_type": "text"
      },
      "cell_type": "markdown",
      "source": [
        "この `Link` というクラスは、インスタンス化を行う際には 1 つも引数をとりませんが、属性として `a` と `b` の 2 つの変数を保持し、それぞれには `__init__` メソッドで 1 と 2 という値が代入されます。\n",
        "このクラスのインスタンスを作成してみます。"
      ]
    },
    {
      "metadata": {
        "id": "BsfYK88qv9d1",
        "colab_type": "code",
        "outputId": "89402a8a-34b0-48e2-c662-4586e09d932a",
        "colab": {
          "base_uri": "https://localhost:8080/",
          "height": 35
        }
      },
      "cell_type": "code",
      "source": [
        "l = Link()\n",
        "\n",
        "l.a"
      ],
      "execution_count": 0,
      "outputs": [
        {
          "output_type": "execute_result",
          "data": {
            "text/plain": [
              "1"
            ]
          },
          "metadata": {
            "tags": []
          },
          "execution_count": 143
        }
      ]
    },
    {
      "metadata": {
        "id": "JA6sXOrvv9d2",
        "colab_type": "code",
        "outputId": "bc002df8-e803-4830-958d-17c8b9a68d82",
        "colab": {
          "base_uri": "https://localhost:8080/",
          "height": 35
        }
      },
      "cell_type": "code",
      "source": [
        "l.b"
      ],
      "execution_count": 0,
      "outputs": [
        {
          "output_type": "execute_result",
          "data": {
            "text/plain": [
              "2"
            ]
          },
          "metadata": {
            "tags": []
          },
          "execution_count": 144
        }
      ]
    },
    {
      "metadata": {
        "id": "DxipToKmv9d2",
        "colab_type": "text"
      },
      "cell_type": "markdown",
      "source": [
        "`l` という `Link` クラスのインスタンスが持つ 2 つの属性を表示しています。\n",
        "インスタンス化を行った際に `__init__` メソッドの中で代入していた値が、表示されています。\n",
        "\n",
        "次に、このクラスを**継承**する、`Chain` というクラスを定義してみます。\n",
        "継承を行う場合は、クラス定義の際にクラス名に続けて `()` を書き、その中にベースにしたいクラスの名前を書きます。\n",
        "`()` の中に書かれたクラスのことを、定義されるクラスの**親クラス**といいます。\n",
        "それに対し、`()` の中に書かれたクラスからみると、定義されるクラスは**子クラス**と呼ばれます。\n",
        "親から子へ機能が受け継がれるためです。"
      ]
    },
    {
      "metadata": {
        "id": "A4eTa6jZv9d3",
        "colab_type": "code",
        "colab": {}
      },
      "cell_type": "code",
      "source": [
        "class Chain(Link):\n",
        "    \n",
        "    def sum(self):\n",
        "        return self.a + self.b"
      ],
      "execution_count": 0,
      "outputs": []
    },
    {
      "metadata": {
        "id": "dhxR4J0mv9d3",
        "colab_type": "text"
      },
      "cell_type": "markdown",
      "source": [
        "`Chain` クラスは `__init__` メソッドの定義を持ちません。\n",
        "`__init__` メソッドが定義されていない場合、親クラスの `__init__`  メソッドが自動的に呼び出されます。\n",
        "そのため、`Chain` クラスでは一見何も属性を定義していないように見えますが、インスタンス化を行うと親クラスである `Link` の `__init__`  メソッドが自動的に実行され、`a`、`b` という属性が定義されます。\n",
        "以下のコードで確認してみましょう。"
      ]
    },
    {
      "metadata": {
        "id": "ipmqPwsKv9d3",
        "colab_type": "code",
        "outputId": "217a9725-9306-41f0-e993-a71b5f12f176",
        "colab": {
          "base_uri": "https://localhost:8080/",
          "height": 35
        }
      },
      "cell_type": "code",
      "source": [
        "# Chain クラスをインスタンス化\n",
        "c = Chain()\n",
        "\n",
        "c.a"
      ],
      "execution_count": 0,
      "outputs": [
        {
          "output_type": "execute_result",
          "data": {
            "text/plain": [
              "1"
            ]
          },
          "metadata": {
            "tags": []
          },
          "execution_count": 146
        }
      ]
    },
    {
      "metadata": {
        "id": "lWL0VTMOv9d4",
        "colab_type": "code",
        "outputId": "da1ded8d-2b7a-4ece-b87d-e8c33cb8036c",
        "colab": {
          "base_uri": "https://localhost:8080/",
          "height": 35
        }
      },
      "cell_type": "code",
      "source": [
        "c.b"
      ],
      "execution_count": 0,
      "outputs": [
        {
          "output_type": "execute_result",
          "data": {
            "text/plain": [
              "2"
            ]
          },
          "metadata": {
            "tags": []
          },
          "execution_count": 147
        }
      ]
    },
    {
      "metadata": {
        "id": "nVjBNK1Cv9d4",
        "colab_type": "text"
      },
      "cell_type": "markdown",
      "source": [
        "`Chain` クラスの `sum()` メソッドでは、この親クラスの `__init__`  メソッドで定義されている 2 つの属性を足し合わせて返しています。\n",
        "今作成したインスタンスから、この `sum()` メソッドを呼び出してみます。"
      ]
    },
    {
      "metadata": {
        "id": "pEf10A44v9d5",
        "colab_type": "code",
        "outputId": "ac581b89-b3a2-42b4-d784-f8a938c8804b",
        "colab": {
          "base_uri": "https://localhost:8080/",
          "height": 35
        }
      },
      "cell_type": "code",
      "source": [
        "# sum メソッドを実行\n",
        "c.sum()"
      ],
      "execution_count": 0,
      "outputs": [
        {
          "output_type": "execute_result",
          "data": {
            "text/plain": [
              "3"
            ]
          },
          "metadata": {
            "tags": []
          },
          "execution_count": 148
        }
      ]
    },
    {
      "metadata": {
        "id": "QI1v_Ib0v9d5",
        "colab_type": "text"
      },
      "cell_type": "markdown",
      "source": [
        "このように、**親クラスを継承し、親クラスに無かった新しい機能が追加された、新しいクラスを定義することができます。**\n",
        "\n",
        "それでは、この `Chain` というクラスにも `__init__`  メソッドを定義して、新しい属性 `c` を定義し、`sum()` メソッドでは親クラスの `a`、`b` という属性とこの新たな `c` という属性の 3 つの和を返すように変更してみます。"
      ]
    },
    {
      "metadata": {
        "id": "ds9A6Xfpv9d5",
        "colab_type": "code",
        "colab": {}
      },
      "cell_type": "code",
      "source": [
        "class Chain(Link):\n",
        "\n",
        "    def __init__(self):\n",
        "        self.c = 5  # self.c を新たに追加\n",
        "    \n",
        "    def sum(self):\n",
        "        return self.a + self.b + self.c\n",
        "\n",
        "# インスタンス化\n",
        "C = Chain()"
      ],
      "execution_count": 0,
      "outputs": []
    },
    {
      "metadata": {
        "id": "_2_7avSHv9d6",
        "colab_type": "code",
        "outputId": "f68a94f2-0bbc-459f-9517-c3ba7fb3a9b5",
        "colab": {
          "base_uri": "https://localhost:8080/",
          "height": 298
        }
      },
      "cell_type": "code",
      "source": [
        "# error\n",
        "C.sum()"
      ],
      "execution_count": 0,
      "outputs": [
        {
          "output_type": "error",
          "ename": "AttributeError",
          "evalue": "ignored",
          "traceback": [
            "\u001b[0;31m---------------------------------------------------------------------------\u001b[0m",
            "\u001b[0;31mAttributeError\u001b[0m                            Traceback (most recent call last)",
            "\u001b[0;32m<ipython-input-150-5d0c7cc9b080>\u001b[0m in \u001b[0;36m<module>\u001b[0;34m()\u001b[0m\n\u001b[0;32m----> 1\u001b[0;31m \u001b[0mC\u001b[0m\u001b[0;34m.\u001b[0m\u001b[0msum\u001b[0m\u001b[0;34m(\u001b[0m\u001b[0;34m)\u001b[0m\u001b[0;34m\u001b[0m\u001b[0;34m\u001b[0m\u001b[0m\n\u001b[0m",
            "\u001b[0;32m<ipython-input-149-1e932a4aed85>\u001b[0m in \u001b[0;36msum\u001b[0;34m(self)\u001b[0m\n\u001b[1;32m      5\u001b[0m \u001b[0;34m\u001b[0m\u001b[0m\n\u001b[1;32m      6\u001b[0m     \u001b[0;32mdef\u001b[0m \u001b[0msum\u001b[0m\u001b[0;34m(\u001b[0m\u001b[0mself\u001b[0m\u001b[0;34m)\u001b[0m\u001b[0;34m:\u001b[0m\u001b[0;34m\u001b[0m\u001b[0;34m\u001b[0m\u001b[0m\n\u001b[0;32m----> 7\u001b[0;31m         \u001b[0;32mreturn\u001b[0m \u001b[0mself\u001b[0m\u001b[0;34m.\u001b[0m\u001b[0ma\u001b[0m \u001b[0;34m+\u001b[0m \u001b[0mself\u001b[0m\u001b[0;34m.\u001b[0m\u001b[0mb\u001b[0m \u001b[0;34m+\u001b[0m \u001b[0mself\u001b[0m\u001b[0;34m.\u001b[0m\u001b[0mc\u001b[0m\u001b[0;34m\u001b[0m\u001b[0;34m\u001b[0m\u001b[0m\n\u001b[0m\u001b[1;32m      8\u001b[0m \u001b[0;34m\u001b[0m\u001b[0m\n\u001b[1;32m      9\u001b[0m \u001b[0;31m# インスタンス化\u001b[0m\u001b[0;34m\u001b[0m\u001b[0;34m\u001b[0m\u001b[0;34m\u001b[0m\u001b[0m\n",
            "\u001b[0;31mAttributeError\u001b[0m: 'Chain' object has no attribute 'a'"
          ]
        }
      ]
    },
    {
      "metadata": {
        "id": "ZfTe1NMUv9d6",
        "colab_type": "text"
      },
      "cell_type": "markdown",
      "source": [
        "エラーが出ました。\n",
        "\n",
        "**エラーメッセージを読みましょう。**\n",
        "\n",
        "> AttributeError: 'Chain' object has no attribute 'a'\n",
        "\n",
        "`'Chain'` というオブジェクトは、`'a'` という名前の属性を持っていない、と言われています。\n",
        "`a` という属性は、`Chain` の親クラスである `Link` の `__init__`  メソッドで定義されています。\n",
        "そのため、`Chain` クラスをインスタンス化する際に、親クラスである `Link` の `__init__`  メソッドが呼ばれているのであれば、このエラーは起こらないはずです。\n",
        "なぜエラーとなってしまったのでしょうか。\n",
        "\n",
        "それは、`Chain` クラスにも `__init__` メソッドを定義したため、親クラスである `Link` の `__init__`  メソッドが上書きされてしまい、実行されなかったためです。\n",
        "しかし、親クラスの `__init__`  メソッドを明示的に呼ぶことで、これは解決できます。\n",
        "\n",
        "それには、`super()` という組み込み関数を用います。\n",
        "これを用いると、子クラスから親クラスを参照することができます。"
      ]
    },
    {
      "metadata": {
        "id": "_NcT6aN7v9d6",
        "colab_type": "code",
        "colab": {}
      },
      "cell_type": "code",
      "source": [
        "class Chain(Link):\n",
        "\n",
        "    def __init__(self):\n",
        "        # 親クラスの `__init__` メソッドを呼び出す\n",
        "        super().__init__()\n",
        "        \n",
        "        # self.c を新たに追加\n",
        "        self.c = 5\n",
        "    \n",
        "    def sum(self):\n",
        "        return self.a + self.b + self.c\n",
        "\n",
        "# インスタンス化\n",
        "c = Chain()"
      ],
      "execution_count": 0,
      "outputs": []
    },
    {
      "metadata": {
        "id": "FW__tTtGv9d7",
        "colab_type": "code",
        "outputId": "49d3cf0e-33ca-490a-fc8e-05d45cdf6954",
        "colab": {
          "base_uri": "https://localhost:8080/",
          "height": 35
        }
      },
      "cell_type": "code",
      "source": [
        "c.sum()"
      ],
      "execution_count": 0,
      "outputs": [
        {
          "output_type": "execute_result",
          "data": {
            "text/plain": [
              "8"
            ]
          },
          "metadata": {
            "tags": []
          },
          "execution_count": 152
        }
      ]
    },
    {
      "metadata": {
        "id": "HcDciFKRv9d7",
        "colab_type": "text"
      },
      "cell_type": "markdown",
      "source": [
        "今回はエラーが起きませんでした。\n",
        "`Link` クラスの `__init__`  メソッドの冒頭で、まず親クラスの `__init__`  メソッドを実行し、`a`、`b` という属性を定義しているためです。\n",
        "\n",
        "あるクラスを継承して作られたクラスを、さらに継承して別のクラスを定義することもできます。"
      ]
    },
    {
      "metadata": {
        "id": "RmL3FvD-v9d7",
        "colab_type": "code",
        "colab": {}
      },
      "cell_type": "code",
      "source": [
        "class MyNetwork(Chain):\n",
        "    \n",
        "    def mul(self):\n",
        "        return self.a * self.b * self.c"
      ],
      "execution_count": 0,
      "outputs": []
    },
    {
      "metadata": {
        "id": "21eb0EOKv9d8",
        "colab_type": "text"
      },
      "cell_type": "markdown",
      "source": [
        "`MyNetwork` クラスは、`Link` クラスを継承した `Chain` クラスをさらに継承したクラスで、`a`、`b`、`c` という 3 つの属性を掛け合わせた結果を返す `mul()` というメソッドを持ちます。\n",
        "\n",
        "このクラスのインスタンスを作成し、`mul()` を実行してみましょう。"
      ]
    },
    {
      "metadata": {
        "id": "Cq4lJIm3v9d8",
        "colab_type": "code",
        "outputId": "d39a0d5f-3a33-44c4-e6e8-c97f5176fce0",
        "colab": {
          "base_uri": "https://localhost:8080/",
          "height": 35
        }
      },
      "cell_type": "code",
      "source": [
        "net = MyNetwork()\n",
        "\n",
        "net.mul()"
      ],
      "execution_count": 0,
      "outputs": [
        {
          "output_type": "execute_result",
          "data": {
            "text/plain": [
              "10"
            ]
          },
          "metadata": {
            "tags": []
          },
          "execution_count": 154
        }
      ]
    },
    {
      "metadata": {
        "id": "VujV1nqfv9d8",
        "colab_type": "text"
      },
      "cell_type": "markdown",
      "source": [
        "$1 \\times 2 \\times 5 = 10$ が返ってきました。"
      ]
    },
    {
      "metadata": {
        "id": "mIPsXEy0v9d9",
        "colab_type": "text"
      },
      "cell_type": "markdown",
      "source": [
        "以上で、Python の基本についての解説を終了します。\n",
        "Python には他にもここでは紹介されていない多くの特徴や機能があります。\n",
        "さらに詳しく学びたい方は、[Pythonチュートリアル](https://docs.python.org/ja/3/tutorial/index.html) などを参照してください。"
      ]
    }
  ]
}
