{
    "nbformat": 4,
    "nbformat_minor": 0,
    "metadata": {
        "kernelspec": {
            "display_name": "Python 3",
            "language": "python",
            "name": "python3"
        },
        "language_info": {
            "codemirror_mode": {
                "name": "ipython",
                "version": 3
            },
            "file_extension": ".py",
            "mimetype": "text/x-python",
            "name": "python",
            "nbconvert_exporter": "python",
            "pygments_lexer": "ipython3",
            "version": "3.6.8"
        }
    },
    "cells": [
        {
            "cell_type": "markdown",
            "metadata": {
                "id": "view-in-github",
                "colab_type": "text"
            },
            "source": [
                "<a href=\"https://colab.research.google.com/github/mitmul/learn-chainer/blob/master/src/11_Regression_with_Neural_Networks_ja.ipynb\" target=\"_parent\"><img src=\"https://colab.research.google.com/assets/colab-badge.svg\" alt=\"Open In Colab\"/></a>"
            ]
        },
        {
            "metadata": {
                "colab_type": "text",
                "id": "SHeBTW2CYM5w"
            },
            "cell_type": "markdown",
            "source": [
                "# ニューラルネットワークによる回帰\n",
                "\n",
                "この章では、回帰問題に Chainer を利用する方法を説明します。\n",
                "分類ではカテゴリを予測するモデルを作成しました。\n",
                "今回説明する回帰では 、連続値の予測を行います。\n",
                "\n",
                "\n",
                "## 問題設定\n",
                "\n",
                "今回は 6 章で用いたのと同じ住宅価格のデータを集めた Boston house prices dataset を利用します。\n",
                "このデータセットは入力変数の種類が13個あり、目標値が住宅価格になっています。"
            ]
        },
        {
            "metadata": {
                "colab_type": "text",
                "id": "dOBSW43DqoYZ"
            },
            "cell_type": "markdown",
            "source": [
                "## データセットの準備\n",
                "\n",
                "### データセットの読み込み\n",
                "\n",
                "Boston house prices dataset は scikit-learn の `load_boston()` で取得できます。"
            ]
        },
        {
            "metadata": {
                "colab_type": "code",
                "id": "Hpr5wbSIrSb8",
                "colab": {}
            },
            "cell_type": "code",
            "source": [
                "import sklearn.datasets\n",
                "\n",
                "# データセットの読み込み\n",
                "boston = sklearn.datasets.load_boston()\n",
                "x = boston.data\n",
                "t = boston.target"
            ],
            "execution_count": 1,
            "outputs": []
        },
        {
            "metadata": {
                "colab_type": "text",
                "id": "ELwww5swqyjj"
            },
            "cell_type": "markdown",
            "source": [
                "次にこのデータセットの中身を表示して確認してみます。\n",
                "まずは入力変数を見てみます。\n",
                "項目が多いので、綺麗に表示できる Pandas の DataFrame を使って表示してみます。\n",
                "入力変数のデータは `boston.data`、入力変数の各行の名前は `boston.feature_names` に入っています。"
            ]
        },
        {
            "metadata": {
                "colab_type": "code",
                "id": "lDxBj_09rAf9",
                "outputId": "60b8035c-d403-4577-d375-798621bf3e69",
                "colab": {
                    "base_uri": "https://localhost:8080/",
                    "height": 142
                }
            },
            "cell_type": "code",
            "source": [
                "import pandas as pd\n",
                "\n",
                "# 最初の3行を表示\n",
                "pd.DataFrame(boston.data, columns=boston.feature_names)[:3]"
            ],
            "execution_count": 2,
            "outputs": [
                {
                    "output_type": "execute_result",
                    "data": {
                        "text/html": [
                            "<div>\n",
                            "<style scoped>\n",
                            "    .dataframe tbody tr th:only-of-type {\n",
                            "        vertical-align: middle;\n",
                            "    }\n",
                            "\n",
                            "    .dataframe tbody tr th {\n",
                            "        vertical-align: top;\n",
                            "    }\n",
                            "\n",
                            "    .dataframe thead th {\n",
                            "        text-align: right;\n",
                            "    }\n",
                            "</style>\n",
                            "<table border=\"1\" class=\"dataframe\">\n",
                            "  <thead>\n",
                            "    <tr style=\"text-align: right;\">\n",
                            "      <th></th>\n",
                            "      <th>CRIM</th>\n",
                            "      <th>ZN</th>\n",
                            "      <th>INDUS</th>\n",
                            "      <th>CHAS</th>\n",
                            "      <th>NOX</th>\n",
                            "      <th>RM</th>\n",
                            "      <th>AGE</th>\n",
                            "      <th>DIS</th>\n",
                            "      <th>RAD</th>\n",
                            "      <th>TAX</th>\n",
                            "      <th>PTRATIO</th>\n",
                            "      <th>B</th>\n",
                            "      <th>LSTAT</th>\n",
                            "    </tr>\n",
                            "  </thead>\n",
                            "  <tbody>\n",
                            "    <tr>\n",
                            "      <th>0</th>\n",
                            "      <td>0.00632</td>\n",
                            "      <td>18.0</td>\n",
                            "      <td>2.31</td>\n",
                            "      <td>0.0</td>\n",
                            "      <td>0.538</td>\n",
                            "      <td>6.575</td>\n",
                            "      <td>65.2</td>\n",
                            "      <td>4.0900</td>\n",
                            "      <td>1.0</td>\n",
                            "      <td>296.0</td>\n",
                            "      <td>15.3</td>\n",
                            "      <td>396.90</td>\n",
                            "      <td>4.98</td>\n",
                            "    </tr>\n",
                            "    <tr>\n",
                            "      <th>1</th>\n",
                            "      <td>0.02731</td>\n",
                            "      <td>0.0</td>\n",
                            "      <td>7.07</td>\n",
                            "      <td>0.0</td>\n",
                            "      <td>0.469</td>\n",
                            "      <td>6.421</td>\n",
                            "      <td>78.9</td>\n",
                            "      <td>4.9671</td>\n",
                            "      <td>2.0</td>\n",
                            "      <td>242.0</td>\n",
                            "      <td>17.8</td>\n",
                            "      <td>396.90</td>\n",
                            "      <td>9.14</td>\n",
                            "    </tr>\n",
                            "    <tr>\n",
                            "      <th>2</th>\n",
                            "      <td>0.02729</td>\n",
                            "      <td>0.0</td>\n",
                            "      <td>7.07</td>\n",
                            "      <td>0.0</td>\n",
                            "      <td>0.469</td>\n",
                            "      <td>7.185</td>\n",
                            "      <td>61.1</td>\n",
                            "      <td>4.9671</td>\n",
                            "      <td>2.0</td>\n",
                            "      <td>242.0</td>\n",
                            "      <td>17.8</td>\n",
                            "      <td>392.83</td>\n",
                            "      <td>4.03</td>\n",
                            "    </tr>\n",
                            "  </tbody>\n",
                            "</table>\n",
                            "</div>"
                        ],
                        "text/plain": [
                            "      CRIM    ZN  INDUS  CHAS    NOX     RM   AGE     DIS  RAD    TAX  \\\n",
                            "0  0.00632  18.0   2.31   0.0  0.538  6.575  65.2  4.0900  1.0  296.0   \n",
                            "1  0.02731   0.0   7.07   0.0  0.469  6.421  78.9  4.9671  2.0  242.0   \n",
                            "2  0.02729   0.0   7.07   0.0  0.469  7.185  61.1  4.9671  2.0  242.0   \n",
                            "\n",
                            "   PTRATIO       B  LSTAT  \n",
                            "0     15.3  396.90   4.98  \n",
                            "1     17.8  396.90   9.14  \n",
                            "2     17.8  392.83   4.03  "
                        ]
                    },
                    "metadata": {
                        "tags": []
                    },
                    "execution_count": 2
                }
            ]
        },
        {
            "metadata": {
                "colab_type": "text",
                "id": "JzNOes_qrEYu"
            },
            "cell_type": "markdown",
            "source": [
                "行が各入力変数、列がサンプルを表しています。\n",
                "各列が何を意味しているかは[6.2 scikit-learn（応用編）]()で説明されていますので、参照してください。\n",
                "\n",
                "次に、モデルの出力となる目標値の確認をしてみます。\n",
                "目標値は `boston.target` に入ってますので、これを表示してみます。"
            ]
        },
        {
            "metadata": {
                "colab_type": "code",
                "id": "W4VV8C4nrHXN",
                "outputId": "10863151-e2cb-4160-abc5-ce86e5bd8fcf",
                "colab": {
                    "base_uri": "https://localhost:8080/",
                    "height": 35
                }
            },
            "cell_type": "code",
            "source": [
                "# 最初の3つを表示\n",
                "boston.target[:3]"
            ],
            "execution_count": 3,
            "outputs": [
                {
                    "output_type": "execute_result",
                    "data": {
                        "text/plain": [
                            "array([24. , 21.6, 34.7])"
                        ]
                    },
                    "metadata": {
                        "tags": []
                    },
                    "execution_count": 3
                }
            ]
        },
        {
            "metadata": {
                "colab_type": "text",
                "id": "tt5JIK7jaNzU"
            },
            "cell_type": "markdown",
            "source": [
                "### 入力変数と目標値に切り分ける\n",
                "\n",
                "それでは、入力変数と目標値を取り出し、それぞれ `x` と `t` に代入します。\n"
            ]
        },
        {
            "metadata": {
                "colab_type": "code",
                "id": "eZeYPrJCrTjZ",
                "colab": {}
            },
            "cell_type": "code",
            "source": [
                "x = boston.data\n",
                "t = boston.target"
            ],
            "execution_count": 4,
            "outputs": []
        },
        {
            "metadata": {
                "id": "6kFo1Tk31DdY",
                "colab_type": "text"
            },
            "cell_type": "markdown",
            "source": [
                "### 訓練データ・検証データ・テストデータに分割\n",
                "\n",
                "次に、下図のようにまずデータセットを `train_val` と `test` という 2 つに分割し、さらに `train_val` を `train` と `val` に分割することで、最終的に 3 つに分割します。\n",
                "\n",
                "![データセットの分割](images/11/11_02.png)"
            ]
        },
        {
            "metadata": {
                "id": "Xd7H3_w11N8p",
                "colab_type": "code",
                "outputId": "6dff1c18-d207-4be0-b9d7-c268df16ef23",
                "colab": {
                    "base_uri": "https://localhost:8080/",
                    "height": 73
                }
            },
            "cell_type": "code",
            "source": [
                "from sklearn.model_selection import train_test_split\n",
                "\n",
                "x_train_val, x_test, t_train_val, t_test = train_test_split(x, t, train_size=0.7, random_state=0)\n",
                "x_train, x_valid, t_train, t_valid = train_test_split(x_train_val, t_train_val, train_size=0.7, random_state=0)"
            ],
            "execution_count": 5,
            "outputs": [
                {
                    "output_type": "stream",
                    "text": [
                        "/usr/local/lib/python3.6/dist-packages/sklearn/model_selection/_split.py:2179: FutureWarning: From version 0.21, test_size will always complement train_size unless both are specified.\n",
                        "  FutureWarning)\n"
                    ],
                    "name": "stderr"
                }
            ]
        },
        {
            "metadata": {
                "id": "A01Va5W42vbh",
                "colab_type": "text"
            },
            "cell_type": "markdown",
            "source": [
                "### 前処理\n",
                "\n",
                "ここでは 6 章と同様にデータセットの標準化を行います。\n",
                "標準化に用いる平均値と分散の値を訓練データセットだけから計算し、検証データセットやテストデータセットのデータを用いないように注意します。"
            ]
        },
        {
            "metadata": {
                "id": "alz0sU_B3HqU",
                "colab_type": "code",
                "colab": {}
            },
            "cell_type": "code",
            "source": [
                "from sklearn.preprocessing import StandardScaler\n",
                "\n",
                "scaler = StandardScaler()\n",
                "scaler.fit(x_train)\n",
                "\n",
                "x_train = scaler.transform(x_train)\n",
                "x_valid = scaler.transform(x_valid)\n",
                "x_test = scaler.transform(x_test)"
            ],
            "execution_count": 6,
            "outputs": []
        },
        {
            "metadata": {
                "colab_type": "text",
                "id": "va8NhttJrXPD"
            },
            "cell_type": "markdown",
            "source": [
                "### Chainer で使うデータセットに変換\n",
                "\n",
                "Chainer を用いて定義した重回帰分析を行うニューラルネットワークにこのデータセットを入力する際には、以下の 3 点に注意する必要があります。\n",
                "\n",
                "- 入力変数と目標値が NumPy もしくは CuPy の `ndarray` の形式になっている\n",
                "- 入力変数の形が `(サンプル数, 入力変数の数)` になっている\n",
                "- 目標値の形が `(サンプル数, 目標値の数)` になっている\n"
            ]
        },
        {
            "metadata": {
                "colab_type": "text",
                "id": "wT5p3lekrzvK"
            },
            "cell_type": "markdown",
            "source": [
                "scikit-learn の `load_boston()` 関数で読み込んだデータセットは、既に NumPy の ndarray 形式になっています。\n",
                "また、入力変数の形は、"
            ]
        },
        {
            "metadata": {
                "id": "BV2nN2Cjie5c",
                "colab_type": "code",
                "outputId": "e3f5cf6d-6062-4c3a-9471-23ab50be6bd4",
                "colab": {
                    "base_uri": "https://localhost:8080/",
                    "height": 71
                }
            },
            "cell_type": "code",
            "source": [
                "print('x_train:', x_train.shape)\n",
                "print('x_valid:', x_valid.shape)\n",
                "print('x_test:', x_test.shape)"
            ],
            "execution_count": 7,
            "outputs": [
                {
                    "output_type": "stream",
                    "text": [
                        "x_train: (247, 13)\n",
                        "x_valid: (107, 13)\n",
                        "x_test: (152, 13)\n"
                    ],
                    "name": "stdout"
                }
            ]
        },
        {
            "metadata": {
                "id": "xUITmEdCikBU",
                "colab_type": "text"
            },
            "cell_type": "markdown",
            "source": [
                "です。\n",
                "すべて、`(サンプル数, 入力変数の数)` となっています。\n",
                "\n",
                "一方、目標値の `t` の形を確認すると、"
            ]
        },
        {
            "metadata": {
                "colab_type": "code",
                "id": "-RQ7nlOyr0vN",
                "outputId": "ec92fac8-5bb4-4f43-b840-19f36c433123",
                "colab": {
                    "base_uri": "https://localhost:8080/",
                    "height": 71
                }
            },
            "cell_type": "code",
            "source": [
                "print('t_train:', t_train.shape)\n",
                "print('t_valid:', t_valid.shape)\n",
                "print('t_test:', t_test.shape)"
            ],
            "execution_count": 8,
            "outputs": [
                {
                    "output_type": "stream",
                    "text": [
                        "t_train: (247,)\n",
                        "t_valid: (107,)\n",
                        "t_test: (152,)\n"
                    ],
                    "name": "stdout"
                }
            ]
        },
        {
            "metadata": {
                "colab_type": "text",
                "id": "czw8WSHRr4TZ"
            },
            "cell_type": "markdown",
            "source": [
                "となっています。\n",
                "今、目標値の種類数は 1 なので、これは `(サンプル数, 1)` という形に変形する必要があります。\n",
                "変形は以下のようにして行います。\n",
                "変形を行ったあとに、形を表示して目的の形になっていることを確認します。"
            ]
        },
        {
            "metadata": {
                "id": "QtwxQqll82Ev",
                "colab_type": "code",
                "outputId": "243f0f3e-eff6-49c0-de11-f855be638cb7",
                "colab": {
                    "base_uri": "https://localhost:8080/",
                    "height": 71
                }
            },
            "cell_type": "code",
            "source": [
                "t_train = t_train.reshape(len(t_train), 1)\n",
                "t_valid = t_valid.reshape(len(t_valid), 1)\n",
                "t_test = t_test.reshape(len(t_test), 1)\n",
                "\n",
                "print('t_train:', t_train.shape)\n",
                "print('t_valid:', t_valid.shape)\n",
                "print('t_test:', t_test.shape)"
            ],
            "execution_count": 9,
            "outputs": [
                {
                    "output_type": "stream",
                    "text": [
                        "t_train: (247, 1)\n",
                        "t_valid: (107, 1)\n",
                        "t_test: (152, 1)\n"
                    ],
                    "name": "stdout"
                }
            ]
        },
        {
            "metadata": {
                "colab_type": "text",
                "id": "Cgg3__4IrScn"
            },
            "cell_type": "markdown",
            "source": [
                "また、Chainer では浮動小数点数は `float32` 型で扱われるのがデフォルトとなっています。\n",
                "しかし、今回は `x` も `t` も `float64` 型となっています。\n",
                "このため、データ型の変換も行います。\n",
                "変換のあとに、データ型の確認も行います。"
            ]
        },
        {
            "metadata": {
                "colab_type": "code",
                "id": "cm6gdRbSrSco",
                "outputId": "06ebcbd4-35e0-4e6a-cea6-e175c76ef60c",
                "colab": {
                    "base_uri": "https://localhost:8080/",
                    "height": 125
                }
            },
            "cell_type": "code",
            "source": [
                "# データ型の変換\n",
                "x_train = x_train.astype('float32')\n",
                "x_valid = x_valid.astype('float32')\n",
                "x_test = x_test.astype('float32')\n",
                "\n",
                "t_train = t_train.astype('float32')\n",
                "t_valid = t_valid.astype('float32')\n",
                "t_test = t_test.astype('float32')\n",
                "\n",
                "# データ型の確認\n",
                "\n",
                "print('x_train:', x_train.dtype)\n",
                "print('x_val:', x_valid.dtype)\n",
                "print('x_test:', x_test.dtype)\n",
                "\n",
                "print('t_train:', t_train.dtype)\n",
                "print('t_val:', t_valid.dtype)\n",
                "print('t_test:', t_test.dtype)"
            ],
            "execution_count": 10,
            "outputs": [
                {
                    "output_type": "stream",
                    "text": [
                        "x_train: float32\n",
                        "x_val: float32\n",
                        "x_test: float32\n",
                        "t_train: float32\n",
                        "t_val: float32\n",
                        "t_test: float32\n"
                    ],
                    "name": "stdout"
                }
            ]
        },
        {
            "metadata": {
                "colab_type": "text",
                "id": "D6kUXzrJrSc0"
            },
            "cell_type": "markdown",
            "source": [
                "最後に、下図のように、`zip(x, t)` で入力変数と目標値のペアをタプルにして並べたものを `list()` 関数を用いてリストにし、Chainer で使用できるデータセットの形式に変換します。\n",
                "**Chainer で使用できるデータセットの形式**とは、端的には教師データ（入力と教師信号のペア）が並んだリストのことでした。\n",
                "\n",
                "![入力変数と目標値のタプルのリスト](images/11/11_01.png)\n",
                "\n",
                "Chainer のデータセットの形式にし、各データセットごとのサイズを確認します。"
            ]
        },
        {
            "metadata": {
                "colab_type": "code",
                "id": "Mrczk54WYM6T",
                "outputId": "cb80633f-46f6-4c14-e8c6-5c997af301ec",
                "colab": {
                    "base_uri": "https://localhost:8080/",
                    "height": 71
                }
            },
            "cell_type": "code",
            "source": [
                "# Chainerで使用できるデータセットの形式\n",
                "train = list(zip(x_train, t_train))\n",
                "valid = list(zip(x_valid, t_valid))\n",
                "test = list(zip(x_test, t_test))\n",
                "\n",
                "print(len(train))\n",
                "print(len(valid))\n",
                "print(len(test))"
            ],
            "execution_count": 11,
            "outputs": [
                {
                    "output_type": "stream",
                    "text": [
                        "247\n",
                        "107\n",
                        "152\n"
                    ],
                    "name": "stdout"
                }
            ]
        },
        {
            "metadata": {
                "colab_type": "text",
                "id": "DaglScMSYM6o"
            },
            "cell_type": "markdown",
            "source": [
                "## Chain を継承したネットワークの定義\n",
                "\n",
                "今回は、3 層の全結合型ニューラルネットワークを定義します。\n",
                "\n",
                "回帰を行うネットワークも分類を行うネットワークと記述方法は基本的に同じです。\n",
                "異なる部分として、目標値が １ 変数の回帰問題の場合は、出力 `n_output` が `1` となる点があります。"
            ]
        },
        {
            "metadata": {
                "colab_type": "code",
                "id": "DmE7VmKorSdH",
                "colab": {}
            },
            "cell_type": "code",
            "source": [
                "import numpy as np\n",
                "\n",
                "import chainer\n",
                "import chainer.links as L\n",
                "import chainer.functions as F\n",
                "\n",
                "\n",
                "# ネットワークの定義\n",
                "class NN(chainer.Chain):\n",
                "\n",
                "    def __init__(self, n_input=13, n_hidden=5, n_output=1):\n",
                "        super().__init__()\n",
                "        with self.init_scope():\n",
                "            self.l1 = L.Linear(n_input, n_hidden)\n",
                "            self.l2 = L.Linear(n_hidden, n_output)\n",
                "\n",
                "    def forward(self, x):\n",
                "        h = F.relu(self.l1(x))\n",
                "        h = self.l2(h)\n",
                "        return h"
            ],
            "execution_count": 12,
            "outputs": []
        },
        {
            "metadata": {
                "colab_type": "text",
                "id": "G88wJtV_uRm8"
            },
            "cell_type": "markdown",
            "source": [
                "モデルが定義できたら、インスタンス化します。\n",
                "この際、まず NumPy の seed を固定し、初期値が毎回同じになるようにしています。"
            ]
        },
        {
            "metadata": {
                "colab_type": "code",
                "id": "dYV66ECorSdQ",
                "colab": {}
            },
            "cell_type": "code",
            "source": [
                "# シードの固定\n",
                "np.random.seed(0)\n",
                "\n",
                "# インスタンス化（デフォルトの引数値を使用）\n",
                "model = NN()"
            ],
            "execution_count": 13,
            "outputs": []
        },
        {
            "metadata": {
                "colab_type": "text",
                "id": "i3hmio0orSdS"
            },
            "cell_type": "markdown",
            "source": [
                "## モデルの訓練\n",
                "\n",
                "確率的勾配降下法 (SGD) を最適化アルゴリズムとして採用し、モデルの訓練を行います。\n",
                "\n",
                "流れは前章で紹介した分類の場合と同じですが、以下の 2 点が分類を行う場合からの変更点です。\n",
                "\n",
                "- 損失関数：`softmax_cross_entropy` -> `mean_squared_error`\n",
                "- 指標：`accuracy` -> `r2_score`\n",
                "\n",
                "ここで、`r2_score` は 6 章の重回帰分析の説明の際に紹介した[決定係数](https://docs.chainer.org/en/stable/reference/generated/chainer.functions.r2_score.html)を計算するための Chainer の関数です。"
            ]
        },
        {
            "metadata": {
                "colab_type": "code",
                "id": "TlOjUUXnrSdT",
                "outputId": "ea7d8eae-e099-43c2-d899-73d6e6cf2d69",
                "colab": {
                    "base_uri": "https://localhost:8080/",
                    "height": 917
                }
            },
            "cell_type": "code",
            "source": [
                "from sklearn.preprocessing import StandardScaler\n",
                "\n",
                "# 定数の定義\n",
                "n_batch = 64  # バッチサイズ\n",
                "n_epoch = 50  # エポック数\n",
                "\n",
                "# optimizer の定義と model との紐付け\n",
                "optimizer = chainer.optimizers.SGD()\n",
                "optimizer.setup(model)\n",
                "\n",
                "# ログ記録用\n",
                "results_train, results_valid = {}, {}\n",
                "results_train['loss'], results_train['r2_score'] = [], []\n",
                "results_valid['loss'], results_valid['r2_score'] = [], []\n",
                "\n",
                "# iterator の定義\n",
                "train_iter = chainer.iterators.SerialIterator(train, n_batch)\n",
                "valid_iter = chainer.iterators.SerialIterator(valid, n_batch, repeat=False, shuffle=False)\n",
                "\n",
                "iteration = 1\n",
                "\n",
                "for epoch in range(n_epoch):\n",
                "    \n",
                "    while True:\n",
                "        \n",
                "        # ミニバッチの取得\n",
                "        train_batch = train_iter.next()\n",
                "        \n",
                "        # x と t に分割\n",
                "        x_train, t_train = chainer.dataset.concat_examples(train_batch)\n",
                "\n",
                "        # 予測値と目的関数の計算\n",
                "        y_train = model(x_train)\n",
                "        loss_train = F.mean_squared_error(y_train, t_train)\n",
                "        r2_score_train = F.r2_score(y_train, t_train)\n",
                "\n",
                "        # 勾配の初期化と勾配の計算\n",
                "        model.cleargrads()\n",
                "        loss_train.backward()\n",
                "\n",
                "        # パラメータの更新\n",
                "        optimizer.update()\n",
                "\n",
                "        # カウントアップ\n",
                "        iteration += 1\n",
                "\n",
                "        # 1エポック終えたら、valid データで評価する\n",
                "        if train_iter.is_new_epoch:\n",
                "            \n",
                "            # ミニバッチの取得\n",
                "            valid_batch = valid_iter.next()\n",
                "            \n",
                "            # x と t に分割\n",
                "            x_valid, t_valid = chainer.dataset.concat_examples(valid_batch)\n",
                "    \n",
                "            # 検証用データに対する結果の確認\n",
                "            with chainer.using_config('train', False), chainer.using_config('enable_backprop', False):\n",
                "                y_valid = model(x_valid)\n",
                "                loss_valid = F.mean_squared_error(y_valid, t_valid)\n",
                "                r2_score_valid = F.r2_score(y_valid, t_valid)\n",
                "\n",
                "            # 結果の表示\n",
                "            # {:.4f} と指定することで、小数点以下4桁までを表示します\n",
                "            print('epoch: {}, iteration: {}, loss (train): {:.4f}, loss (valid): {:.4f}'.format(\n",
                "                epoch, iteration, loss_train.array, loss_valid.array))\n",
                "\n",
                "            # ログを保存\n",
                "            results_train['loss'] .append(loss_train.array)\n",
                "            results_train['r2_score'] .append(r2_score_train.array)\n",
                "            results_valid['loss'].append(loss_valid.array)\n",
                "            results_valid['r2_score'].append(r2_score_valid.array)\n",
                "            \n",
                "            valid_iter.reset()\n",
                "            break"
            ],
            "execution_count": 14,
            "outputs": [
                {
                    "output_type": "stream",
                    "text": [
                        "epoch: 0, iteration: 5, loss (train): 457.2360, loss (valid): 462.2869\n",
                        "epoch: 1, iteration: 9, loss (train): 261.6778, loss (valid): 75.3184\n",
                        "epoch: 2, iteration: 13, loss (train): 31.9611, loss (valid): 29.2378\n",
                        "epoch: 3, iteration: 17, loss (train): 25.3223, loss (valid): 21.2279\n",
                        "epoch: 4, iteration: 21, loss (train): 21.8097, loss (valid): 20.6121\n",
                        "epoch: 5, iteration: 25, loss (train): 20.9949, loss (valid): 16.4250\n",
                        "epoch: 6, iteration: 29, loss (train): 8.6116, loss (valid): 16.1474\n",
                        "epoch: 7, iteration: 32, loss (train): 28.0595, loss (valid): 14.6034\n",
                        "epoch: 8, iteration: 36, loss (train): 22.2533, loss (valid): 13.8538\n",
                        "epoch: 9, iteration: 40, loss (train): 15.2179, loss (valid): 13.3275\n",
                        "epoch: 10, iteration: 44, loss (train): 23.7030, loss (valid): 13.6612\n",
                        "epoch: 11, iteration: 48, loss (train): 14.0824, loss (valid): 14.1666\n",
                        "epoch: 12, iteration: 52, loss (train): 12.6989, loss (valid): 13.8337\n",
                        "epoch: 13, iteration: 56, loss (train): 22.2217, loss (valid): 13.6566\n",
                        "epoch: 14, iteration: 59, loss (train): 17.4679, loss (valid): 13.4175\n",
                        "epoch: 15, iteration: 63, loss (train): 25.0491, loss (valid): 12.0352\n",
                        "epoch: 16, iteration: 67, loss (train): 17.2336, loss (valid): 11.6258\n",
                        "epoch: 17, iteration: 71, loss (train): 10.2663, loss (valid): 12.0253\n",
                        "epoch: 18, iteration: 75, loss (train): 16.3379, loss (valid): 11.1234\n",
                        "epoch: 19, iteration: 79, loss (train): 20.2599, loss (valid): 13.0839\n",
                        "epoch: 20, iteration: 83, loss (train): 17.5531, loss (valid): 12.3674\n",
                        "epoch: 21, iteration: 86, loss (train): 16.2070, loss (valid): 10.7324\n",
                        "epoch: 22, iteration: 90, loss (train): 12.4115, loss (valid): 11.3575\n",
                        "epoch: 23, iteration: 94, loss (train): 13.7355, loss (valid): 10.1065\n",
                        "epoch: 24, iteration: 98, loss (train): 9.9285, loss (valid): 10.8468\n",
                        "epoch: 25, iteration: 102, loss (train): 14.6826, loss (valid): 10.5339\n",
                        "epoch: 26, iteration: 106, loss (train): 15.6288, loss (valid): 12.8117\n",
                        "epoch: 27, iteration: 110, loss (train): 7.3203, loss (valid): 12.0862\n",
                        "epoch: 28, iteration: 113, loss (train): 16.4736, loss (valid): 11.1388\n",
                        "epoch: 29, iteration: 117, loss (train): 8.2511, loss (valid): 12.2275\n",
                        "epoch: 30, iteration: 121, loss (train): 6.5894, loss (valid): 12.5411\n",
                        "epoch: 31, iteration: 125, loss (train): 13.9448, loss (valid): 10.4379\n",
                        "epoch: 32, iteration: 129, loss (train): 11.9092, loss (valid): 10.5262\n",
                        "epoch: 33, iteration: 133, loss (train): 13.7200, loss (valid): 11.1196\n",
                        "epoch: 34, iteration: 137, loss (train): 10.8239, loss (valid): 12.2552\n",
                        "epoch: 35, iteration: 140, loss (train): 10.0234, loss (valid): 11.1072\n",
                        "epoch: 36, iteration: 144, loss (train): 16.8074, loss (valid): 10.1492\n",
                        "epoch: 37, iteration: 148, loss (train): 10.2154, loss (valid): 11.2650\n",
                        "epoch: 38, iteration: 152, loss (train): 9.4745, loss (valid): 9.8264\n",
                        "epoch: 39, iteration: 156, loss (train): 14.9580, loss (valid): 13.6148\n",
                        "epoch: 40, iteration: 160, loss (train): 16.0947, loss (valid): 10.0885\n",
                        "epoch: 41, iteration: 164, loss (train): 8.4206, loss (valid): 12.5135\n",
                        "epoch: 42, iteration: 167, loss (train): 10.4474, loss (valid): 10.9745\n",
                        "epoch: 43, iteration: 171, loss (train): 7.8425, loss (valid): 12.3723\n",
                        "epoch: 44, iteration: 175, loss (train): 9.3213, loss (valid): 9.7216\n",
                        "epoch: 45, iteration: 179, loss (train): 14.8203, loss (valid): 10.9203\n",
                        "epoch: 46, iteration: 183, loss (train): 11.0248, loss (valid): 15.2587\n",
                        "epoch: 47, iteration: 187, loss (train): 7.4640, loss (valid): 10.2742\n",
                        "epoch: 48, iteration: 191, loss (train): 11.1763, loss (valid): 9.4006\n",
                        "epoch: 49, iteration: 194, loss (train): 13.7273, loss (valid): 10.4936\n"
                    ],
                    "name": "stdout"
                }
            ]
        },
        {
            "metadata": {
                "colab_type": "text",
                "id": "Wp0Ie3ZoO6K2"
            },
            "cell_type": "markdown",
            "source": [
                "学習が終わりました。\n",
                "\n",
                "損失と決定係数が訓練が進むにつれてどのように変化したかを確認します。"
            ]
        },
        {
            "metadata": {
                "colab_type": "code",
                "id": "gKFHIWc3Dfcy",
                "outputId": "292047e6-35c2-4937-af8d-ecc53623cbb4",
                "colab": {
                    "base_uri": "https://localhost:8080/",
                    "height": 347
                }
            },
            "cell_type": "code",
            "source": [
                "import matplotlib.pyplot as plt\n",
                "\n",
                "# 損失 (loss)\n",
                "# 横軸はエポックではなく、イテレーション\n",
                "plt.plot(results_train['loss'], label='train')  # label で凡例の設定\n",
                "plt.plot(results_valid['loss'], label='valid')  # label で凡例の設定\n",
                "plt.legend()  # 凡例の表示\n",
                "plt.show()"
            ],
            "execution_count": 15,
            "outputs": [
                {
                    "output_type": "display_data",
                    "data": {
                        "image/png": "[encoded data removed]",
                        "text/plain": [
                            "<Figure size 576x396 with 1 Axes>"
                        ]
                    },
                    "metadata": {
                        "tags": []
                    }
                }
            ]
        },
        {
            "metadata": {
                "colab_type": "code",
                "id": "RiJ93XlsrSdg",
                "outputId": "305faebe-34c7-403a-a95c-40cbbe14b2c2",
                "colab": {
                    "base_uri": "https://localhost:8080/",
                    "height": 347
                }
            },
            "cell_type": "code",
            "source": [
                "# 決定係数 (r2_score)\n",
                "# 横軸はエポックではなく、イテレーション\n",
                "plt.plot(results_train['r2_score'], label='train')  # label で凡例の設定\n",
                "plt.plot(results_valid['r2_score'], label='valid')  # label で凡例の設定\n",
                "plt.legend()  # 凡例の表示\n",
                "plt.show()"
            ],
            "execution_count": 16,
            "outputs": [
                {
                    "output_type": "display_data",
                    "data": {
                        "image/png": "[encoded data removed]",
                        "text/plain": [
                            "<Figure size 576x396 with 1 Axes>"
                        ]
                    },
                    "metadata": {
                        "tags": []
                    }
                }
            ]
        },
        {
            "metadata": {
                "colab_type": "text",
                "id": "9HviPsDkPIws"
            },
            "cell_type": "markdown",
            "source": [
                "次にテストデータに対して、損失と決定係数を計算し、表示します。"
            ]
        },
        {
            "metadata": {
                "colab_type": "code",
                "id": "63XBc1v-rSdi",
                "outputId": "a2746e9c-3da2-4b53-9406-29131df81cb6",
                "colab": {
                    "base_uri": "https://localhost:8080/",
                    "height": 53
                }
            },
            "cell_type": "code",
            "source": [
                "# テストデータに対する結果の確認\n",
                "x_test, t_test = chainer.dataset.concat_examples(test)\n",
                "with chainer.using_config('train', False), chainer.using_config('enable_backprop', False):\n",
                "    y_test = model(x_test)\n",
                "    loss_test = F.mean_squared_error(y_test, t_test)\n",
                "    r2_score_test = F.r2_score(y_test, t_test)\n",
                "    \n",
                "print('test loss: {:.4f}'.format(loss_test.array))\n",
                "print('test_r2_score: {:.4f}'.format(r2_score_test.array))"
            ],
            "execution_count": 17,
            "outputs": [
                {
                    "output_type": "stream",
                    "text": [
                        "test loss: 18.3576\n",
                        "test_r2_score: 0.7795\n"
                    ],
                    "name": "stdout"
                }
            ]
        },
        {
            "metadata": {
                "colab_type": "text",
                "id": "SQsGjqhzrSeH"
            },
            "cell_type": "markdown",
            "source": [
                "## GPU を用いた計算\n",
                "\n",
                "今回使用したデータセットはデータ数が少なく、また訓練したニューラルネットワークもパラメータ数は多くありませんでした。\n",
                "そのため、CPU を使ってもそこまで長く待たされることなく訓練が終了しました。\n",
                "\n",
                "しかし、より大きなデータセットを使い、より多くの層を持つニューラルネットワークを訓練しようとすると、CPU だけでは膨大な時間がかかってしまいます。\n",
                "そこで、GPU を使って計算を高速化する方法についても、ここで紹介します。\n",
                "\n",
                "まず、GPU が使える環境であることを確認しましょう。\n",
                "\n",
                "Google Colaboratory ではメニュー項目の「ランタイム」から「ランタイムのタイプを変更」を選択し、「ハードウェアアクセラレータ」と書かれたプルダウンメニューからから GPU を指定することができます。\n",
                "さっそく GPU を有効にしてください。\n",
                "\n",
                "また、一台のマシンに複数の GPU を挿して用いる場合もあるため、GPU を用いる際は**デバイス ID** というものを意識する必要がありますが、Google Colaboratory では利用できる GPU が 1 枚だけなので、このデバイス ID としては基本的に `0` を指定すれば良いことになります。"
            ]
        },
        {
            "metadata": {
                "colab_type": "code",
                "id": "gyb6ux7crSeI",
                "scrolled": true,
                "colab": {}
            },
            "cell_type": "code",
            "source": [
                "# GPU デバイスの指定\n",
                "gpu_id = 0\n",
                "\n",
                "# 計算に指定したデバイス ID の GPU を使うことを宣言\n",
                "device = chainer.backends.cuda.get_device_from_id(gpu_id)\n",
                "device.use()"
            ],
            "execution_count": 18,
            "outputs": []
        },
        {
            "metadata": {
                "colab_type": "code",
                "id": "jVAnudTSQkcZ",
                "colab": {}
            },
            "cell_type": "code",
            "source": [
                "import cupy as cp\n",
                "\n",
                "# 乱数のシードを固定\n",
                "np.random.seed(0)\n",
                "cp.random.seed(0)"
            ],
            "execution_count": 19,
            "outputs": []
        },
        {
            "metadata": {
                "colab_type": "text",
                "id": "ARoyaOxhPdxn"
            },
            "cell_type": "markdown",
            "source": [
                "CPUと同様にモデルをインスタンス化します。\n",
                "その後、モデルをGPUに転送します。"
            ]
        },
        {
            "metadata": {
                "colab_type": "code",
                "id": "Urutf-WbrSeS",
                "outputId": "147fc164-6ace-45cc-fef8-939e44a22c10",
                "colab": {
                    "base_uri": "https://localhost:8080/",
                    "height": 35
                }
            },
            "cell_type": "code",
            "source": [
                "# インスタンス化\n",
                "model = NN()\n",
                "\n",
                " # モデルをGPUへ転送\n",
                "model.to_gpu(gpu_id) "
            ],
            "execution_count": 20,
            "outputs": [
                {
                    "output_type": "execute_result",
                    "data": {
                        "text/plain": [
                            "<__main__.NN at 0x7fab6abb3a90>"
                        ]
                    },
                    "metadata": {
                        "tags": []
                    },
                    "execution_count": 20
                }
            ]
        },
        {
            "metadata": {
                "colab_type": "code",
                "id": "lwNeHo5wrSeV",
                "outputId": "c6fad2d8-2e59-4042-a3d5-24dff52785e7",
                "colab": {
                    "base_uri": "https://localhost:8080/",
                    "height": 917
                }
            },
            "cell_type": "code",
            "source": [
                "# 定数の定義\n",
                "n_batch = 64  # バッチサイズ\n",
                "n_epoch = 50  # エポック数\n",
                "\n",
                "# optimizer の定義と model と紐付け\n",
                "optimizer = chainer.optimizers.SGD()\n",
                "optimizer.setup(model)\n",
                "\n",
                "# 可視化用のリスト\n",
                "results_train, results_valid = {}, {}\n",
                "results_train['loss'], results_train['r2_score'] = [], []\n",
                "results_valid['loss'], results_valid['r2_score'] = [], []\n",
                "\n",
                "# iterator の定義\n",
                "train_iter = chainer.iterators.SerialIterator(train, n_batch)\n",
                "valid_iter = chainer.iterators.SerialIterator(valid, n_batch, repeat=False, shuffle=False)\n",
                "\n",
                "count = 1\n",
                "\n",
                "for epoch in range(n_epoch):\n",
                "    \n",
                "    while True:\n",
                "        \n",
                "        # ミニバッチの取得\n",
                "        train_batch = train_iter.next()\n",
                "        \n",
                "        # x と t に分割\n",
                "        # データを GPU に転送するために、concat_examples に gpu_id を渡す\n",
                "        x_train, t_train = chainer.dataset.concat_examples(train_batch, gpu_id)\n",
                "\n",
                "        # 予測値と目的関数の計算\n",
                "        y_train = model(x_train)\n",
                "        loss_train = F.mean_squared_error(y_train, t_train)\n",
                "        r2_score_train = F.r2_score(y_train, t_train)\n",
                "\n",
                "        # 勾配の初期化と勾配の計算\n",
                "        model.cleargrads()\n",
                "        loss_train.backward()\n",
                "\n",
                "        # パラメータの更新\n",
                "        optimizer.update()\n",
                "    \n",
                "        # カウントアップ\n",
                "        count += 1\n",
                "\n",
                "        # 1エポック終えたら、valid データで評価する\n",
                "        if train_iter.is_new_epoch:\n",
                "\n",
                "            valid_batch = valid_iter.next()           \n",
                "            x_valid, t_valid = chainer.dataset.concat_examples(valid_batch, gpu_id)\n",
                "\n",
                "            # 検証用データに対する結果の確認\n",
                "            with chainer.using_config('train', False), chainer.using_config('enable_backprop', False):\n",
                "                y_valid = model(x_valid)\n",
                "                loss_valid = F.mean_squared_error(y_valid, t_valid)\n",
                "                r2_score_valid = F.r2_score(y_valid, t_valid)\n",
                "            \n",
                "            # 注意：GPU で計算した結果はGPU上に存在するため、CPU上に転送します\n",
                "            loss_train.to_cpu()\n",
                "            loss_valid.to_cpu()\n",
                "            r2_score_train.to_cpu()\n",
                "            r2_score_valid.to_cpu()\n",
                "\n",
                "            # 結果の表示\n",
                "            print('epoch: {}, iteration: {}, loss (train) {:.4f}, loss (valid) {:.4f}'.format(\n",
                "                epoch, count, loss_train.array, loss_valid.array))\n",
                "\n",
                "            # 可視化用に保存\n",
                "            results_train['loss'] .append(loss_train.array)\n",
                "            results_train['r2_score'] .append(r2_score_train.array)\n",
                "            results_valid['loss'].append(loss_valid.array)\n",
                "            results_valid['r2_score'].append(r2_score_valid.array)\n",
                "            \n",
                "            valid_iter.reset()\n",
                "            break"
            ],
            "execution_count": 21,
            "outputs": [
                {
                    "output_type": "stream",
                    "text": [
                        "epoch: 0, iteration: 5, loss (train) 457.2360, loss (valid) 462.2869\n",
                        "epoch: 1, iteration: 9, loss (train) 261.6778, loss (valid) 75.3184\n",
                        "epoch: 2, iteration: 13, loss (train) 31.9611, loss (valid) 29.2378\n",
                        "epoch: 3, iteration: 17, loss (train) 25.3223, loss (valid) 21.2279\n",
                        "epoch: 4, iteration: 21, loss (train) 21.8096, loss (valid) 20.6121\n",
                        "epoch: 5, iteration: 25, loss (train) 20.9949, loss (valid) 16.4250\n",
                        "epoch: 6, iteration: 29, loss (train) 8.6116, loss (valid) 16.1474\n",
                        "epoch: 7, iteration: 32, loss (train) 28.0595, loss (valid) 14.6034\n",
                        "epoch: 8, iteration: 36, loss (train) 22.2533, loss (valid) 13.8538\n",
                        "epoch: 9, iteration: 40, loss (train) 15.2179, loss (valid) 13.3275\n",
                        "epoch: 10, iteration: 44, loss (train) 23.7030, loss (valid) 13.6612\n",
                        "epoch: 11, iteration: 48, loss (train) 14.0824, loss (valid) 14.1666\n",
                        "epoch: 12, iteration: 52, loss (train) 12.6989, loss (valid) 13.8337\n",
                        "epoch: 13, iteration: 56, loss (train) 22.2217, loss (valid) 13.6566\n",
                        "epoch: 14, iteration: 59, loss (train) 17.4679, loss (valid) 13.4175\n",
                        "epoch: 15, iteration: 63, loss (train) 25.0491, loss (valid) 12.0352\n",
                        "epoch: 16, iteration: 67, loss (train) 17.2336, loss (valid) 11.6258\n",
                        "epoch: 17, iteration: 71, loss (train) 10.2663, loss (valid) 12.0253\n",
                        "epoch: 18, iteration: 75, loss (train) 16.3379, loss (valid) 11.1234\n",
                        "epoch: 19, iteration: 79, loss (train) 20.2599, loss (valid) 13.0839\n",
                        "epoch: 20, iteration: 83, loss (train) 17.5531, loss (valid) 12.3674\n",
                        "epoch: 21, iteration: 86, loss (train) 16.2070, loss (valid) 10.7324\n",
                        "epoch: 22, iteration: 90, loss (train) 12.4115, loss (valid) 11.3574\n",
                        "epoch: 23, iteration: 94, loss (train) 13.7355, loss (valid) 10.1065\n",
                        "epoch: 24, iteration: 98, loss (train) 9.9285, loss (valid) 10.8468\n",
                        "epoch: 25, iteration: 102, loss (train) 14.6826, loss (valid) 10.5339\n",
                        "epoch: 26, iteration: 106, loss (train) 15.6288, loss (valid) 12.8117\n",
                        "epoch: 27, iteration: 110, loss (train) 7.3203, loss (valid) 12.0862\n",
                        "epoch: 28, iteration: 113, loss (train) 16.4736, loss (valid) 11.1388\n",
                        "epoch: 29, iteration: 117, loss (train) 8.2511, loss (valid) 12.2275\n",
                        "epoch: 30, iteration: 121, loss (train) 6.5894, loss (valid) 12.5411\n",
                        "epoch: 31, iteration: 125, loss (train) 13.9448, loss (valid) 10.4379\n",
                        "epoch: 32, iteration: 129, loss (train) 11.9092, loss (valid) 10.5262\n",
                        "epoch: 33, iteration: 133, loss (train) 13.7200, loss (valid) 11.1196\n",
                        "epoch: 34, iteration: 137, loss (train) 10.8239, loss (valid) 12.2552\n",
                        "epoch: 35, iteration: 140, loss (train) 10.0234, loss (valid) 11.1072\n",
                        "epoch: 36, iteration: 144, loss (train) 16.8074, loss (valid) 10.1492\n",
                        "epoch: 37, iteration: 148, loss (train) 10.2154, loss (valid) 11.2650\n",
                        "epoch: 38, iteration: 152, loss (train) 9.4745, loss (valid) 9.8264\n",
                        "epoch: 39, iteration: 156, loss (train) 14.9580, loss (valid) 13.6148\n",
                        "epoch: 40, iteration: 160, loss (train) 16.0947, loss (valid) 10.0885\n",
                        "epoch: 41, iteration: 164, loss (train) 8.4206, loss (valid) 12.5135\n",
                        "epoch: 42, iteration: 167, loss (train) 10.4474, loss (valid) 10.9745\n",
                        "epoch: 43, iteration: 171, loss (train) 7.8425, loss (valid) 12.3723\n",
                        "epoch: 44, iteration: 175, loss (train) 9.3213, loss (valid) 9.7216\n",
                        "epoch: 45, iteration: 179, loss (train) 14.8203, loss (valid) 10.9203\n",
                        "epoch: 46, iteration: 183, loss (train) 11.0248, loss (valid) 15.2587\n",
                        "epoch: 47, iteration: 187, loss (train) 7.4640, loss (valid) 10.2742\n",
                        "epoch: 48, iteration: 191, loss (train) 11.1763, loss (valid) 9.4006\n",
                        "epoch: 49, iteration: 194, loss (train) 13.7273, loss (valid) 10.4936\n"
                    ],
                    "name": "stdout"
                }
            ]
        },
        {
            "metadata": {
                "colab_type": "text",
                "id": "NkhIjYsJP5to"
            },
            "cell_type": "markdown",
            "source": [
                "学習が終了しました。\n",
                "\n",
                "CPU で実行したときと同様に、損失と決定係数が訓練が進むにつれてどのように変化していったかを確認してみます。"
            ]
        },
        {
            "metadata": {
                "colab_type": "code",
                "id": "Tsg_0OFku_Wh",
                "outputId": "6f0a7b55-12a7-438e-f394-872e480a676b",
                "colab": {
                    "base_uri": "https://localhost:8080/",
                    "height": 365
                }
            },
            "cell_type": "code",
            "source": [
                "# 損失 (loss)\n",
                "# 横軸はエポックではなく、イテレーション\n",
                "plt.plot(results_train['loss'], label='train')  # label で凡例の設定\n",
                "plt.plot(results_valid['loss'], label='valid')  # label で凡例の設定\n",
                "plt.legend()  # 凡例の表示"
            ],
            "execution_count": 22,
            "outputs": [
                {
                    "output_type": "execute_result",
                    "data": {
                        "text/plain": [
                            "<matplotlib.legend.Legend at 0x7fab6950b6d8>"
                        ]
                    },
                    "metadata": {
                        "tags": []
                    },
                    "execution_count": 22
                },
                {
                    "output_type": "display_data",
                    "data": {
                        "image/png": "[encoded data removed]",
                        "text/plain": [
                            "<Figure size 576x396 with 1 Axes>"
                        ]
                    },
                    "metadata": {
                        "tags": []
                    }
                }
            ]
        },
        {
            "metadata": {
                "colab_type": "code",
                "id": "3QyxQ1yBrSef",
                "outputId": "139ca863-3c9f-4cc1-801e-23d13a330859",
                "colab": {
                    "base_uri": "https://localhost:8080/",
                    "height": 365
                }
            },
            "cell_type": "code",
            "source": [
                "# 決定係数 (r2_score)\n",
                "# 横軸はエポックではなく、イテレーション\n",
                "plt.plot(results_train['r2_score'], label='train')  # label で凡例の設定\n",
                "plt.plot(results_valid['r2_score'], label='valid')  # label で凡例の設定\n",
                "plt.legend()  # 凡例の表示"
            ],
            "execution_count": 23,
            "outputs": [
                {
                    "output_type": "execute_result",
                    "data": {
                        "text/plain": [
                            "<matplotlib.legend.Legend at 0x7fab694ed6d8>"
                        ]
                    },
                    "metadata": {
                        "tags": []
                    },
                    "execution_count": 23
                },
                {
                    "output_type": "display_data",
                    "data": {
                        "image/png": "[encoded data removed]",
                        "text/plain": [
                            "<Figure size 576x396 with 1 Axes>"
                        ]
                    },
                    "metadata": {
                        "tags": []
                    }
                }
            ]
        },
        {
            "metadata": {
                "colab_type": "text",
                "id": "YK3wBWVptjzx"
            },
            "cell_type": "markdown",
            "source": [
                "上記の学習ループの中でもコメントで説明を行っていますが、モデルもデータも GPU 上に転送した上で計算しているため、`print()` などの関数を使用する場合には、まず CPU 上へ転送する必要があります。\n",
                "この CPU への転送には `to_cpu()` メソッドが便利です。\n",
                "\n",
                "最後に GPU で学習したモデルをテストデータで評価します。\n"
            ]
        },
        {
            "metadata": {
                "colab_type": "code",
                "id": "eXZj-B4srSei",
                "outputId": "28531266-8bd7-4211-9eac-063143d317ab",
                "colab": {
                    "base_uri": "https://localhost:8080/",
                    "height": 53
                }
            },
            "cell_type": "code",
            "source": [
                "# テストデータに対する損失と決定件数を計算\n",
                "x_test, t_test = chainer.dataset.concat_examples(test, device=gpu_id)\n",
                "with chainer.using_config('train', False), chainer.using_config('enable_backprop', False):\n",
                "    y_test = model(x_test)\n",
                "    loss_test = F.mean_squared_error(y_test, t_test)\n",
                "    r2_score_test = F.r2_score(y_test, t_test)\n",
                "\n",
                "print('test loss: {:.4f}'.format(loss_test.array.get()))\n",
                "print('test_r2_score: {:.4f}'.format(r2_score_test.array.get()))"
            ],
            "execution_count": 24,
            "outputs": [
                {
                    "output_type": "stream",
                    "text": [
                        "test loss: 18.3576\n",
                        "test_r2_score: 0.7795\n"
                    ],
                    "name": "stdout"
                }
            ]
        },
        {
            "metadata": {
                "colab_type": "text",
                "id": "sPmM0MH-r62g"
            },
            "cell_type": "markdown",
            "source": [
                "CPU を使って訓練した際に得られたスコア\n",
                "\n",
                "> test loss: 18.3576  \n",
                "> test_r2_score: 0.7795\n",
                "\n",
                "と小数点以下 4 桁まで全く同じスコアが得られています。\n",
                "\n",
                "データセットの規模が大きくなってくると、GPU を用いるほうがはるかに高速に計算することができます。"
            ]
        }
    ]
}
