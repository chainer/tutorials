{
 "cells": [
  {
   "cell_type": "markdown",
   "metadata": {
    "colab_type": "text",
    "id": "D3QflLv0qdiy"
   },
   "source": [
    "# Python 入門\n",
    "\n",
    "この章では、Python というプログラミング言語の基礎的な文法を学びます。以降の章で登場するコードを理解するために最低限必要な知識を簡易的にまとめまるため、説明には厳密性を欠くものが含まれます。より正確で詳しい Python に関する知識を得たい場合は、以下の公式チュートリアルなどを参照してください。\n",
    "\n",
    "- [Python チュートリアル](https://docs.python.jp/3/tutorial/index.html)\n",
    "\n",
    "本チュートリアルサイトは、全体を通して、**Python 3** を使うことを前提としています。これから学び始める方は、書籍などを選ぶ際に必ず **Python 3 について解説したものであることを確認**してから学び始めるようにしてください。"
   ]
  },
  {
   "cell_type": "markdown",
   "metadata": {
    "colab_type": "text",
    "id": "jZNTuBQ54BSu"
   },
   "source": [
    "## Python の基礎"
   ]
  },
  {
   "cell_type": "markdown",
   "metadata": {},
   "source": [
    "### 変数（variable）\n",
    "\n",
    "「変数（variable）」とは、色々な値を格納することができる入れ物のようなものです。変数は、Python ではほとんどの場合アルファベットから始まる文字列で表します。例えば、`a` という名前の変数に、`1` という値を**代入**（`a` という入れ物に格納すること）してみましょう。"
   ]
  },
  {
   "cell_type": "code",
   "execution_count": 4,
   "metadata": {
    "colab": {},
    "colab_type": "code",
    "id": "SjpDQJn-3Rct"
   },
   "outputs": [],
   "source": [
    "a = 1"
   ]
  },
  {
   "cell_type": "markdown",
   "metadata": {
    "colab_type": "text",
    "id": "aitz3Hri_a-n"
   },
   "source": [
    "代入は、`=` という記号を用いて行われます。右辺に代入したい値を書き、左辺にその値が代入される変数名を書きます。"
   ]
  },
  {
   "cell_type": "markdown",
   "metadata": {},
   "source": [
    "### 関数（function）\n",
    "\n",
    "「関数（function）」とは、変数や値を受け取って、ひとまとめにされた計算を行い、結果を返すようなまとまりのことを言います。例えば、受け取った値を2倍にして返す関数 `double` は、以下のように定義することができます。"
   ]
  },
  {
   "cell_type": "code",
   "execution_count": 5,
   "metadata": {},
   "outputs": [],
   "source": [
    "def double(x):\n",
    "    return x * 2"
   ]
  },
  {
   "cell_type": "markdown",
   "metadata": {},
   "source": [
    "関数に渡される変数や値のことを、**引数（argument）**と呼びます。この `double` という関数は、名前が `double` で、1つの引数をとり、それを `x` という変数として受け取って、`x * 2` という式によって「2を掛ける」という計算をしたのち、その結果を返す（return する）ものです。\n",
    "\n",
    "Python には、予め多くの関数が定義されています。そのような関数を**組み込み関数（Built-in functions）**と言います。そのうちの一つに `print` 関数があります。これに変数や値を渡すと、文字列にして表示してくれます。変数の場合は、その変数が格納している値を表示します。関数を使用するには、関数名の後ろに `()` を付けて、そのカッコの中に引数に渡したい変数や値を `,` 区切りで書きます。一つの場合は、`,` は必要ありません。例えば、先程定義した `a` という変数を `print` 関数に渡して、`a` が格納している値を表示してみましょう。"
   ]
  },
  {
   "cell_type": "code",
   "execution_count": 6,
   "metadata": {
    "colab": {
     "base_uri": "https://localhost:8080/",
     "height": 34
    },
    "colab_type": "code",
    "id": "VZDkbgKG_gNK",
    "outputId": "c65d0e1a-da5d-45a8-9f9a-8fd8fe5f9a76"
   },
   "outputs": [
    {
     "name": "stdout",
     "output_type": "stream",
     "text": [
      "1\n"
     ]
    }
   ],
   "source": [
    "print(a)"
   ]
  },
  {
   "cell_type": "markdown",
   "metadata": {},
   "source": [
    "`1` を代入していたので、`1` が表示されました。では、先程新しく定義した `double` に、この `a` という変数を渡して、その結果を受け取って `b` という変数に代入してみましょう。"
   ]
  },
  {
   "cell_type": "code",
   "execution_count": 7,
   "metadata": {},
   "outputs": [],
   "source": [
    "b = double(a)"
   ]
  },
  {
   "cell_type": "markdown",
   "metadata": {},
   "source": [
    "`double` という関数は、`return x * 2` という中身を持つ関数でした。`x * 2` は、引数に渡されてきたものを2倍するという意味で、`return` は、その右側にあるもの（今は `x * 2` なので、その計算結果）をこの関数 `double` の呼び出し元に返してやるという意味です。上のコードでは、その帰ってきた値が、`b` という新しい変数に代入されています。\n",
    "\n",
    "それでは、`double` という関数による計算の結果を `print` 関数を使って表示してみましょう。"
   ]
  },
  {
   "cell_type": "code",
   "execution_count": 8,
   "metadata": {},
   "outputs": [
    {
     "name": "stdout",
     "output_type": "stream",
     "text": [
      "2\n"
     ]
    }
   ],
   "source": [
    "print(b)"
   ]
  },
  {
   "cell_type": "markdown",
   "metadata": {},
   "source": [
    "`1` を2倍したので、`2` が表示されています。これは、以下のように書くこともできます。"
   ]
  },
  {
   "cell_type": "code",
   "execution_count": 9,
   "metadata": {},
   "outputs": [
    {
     "name": "stdout",
     "output_type": "stream",
     "text": [
      "2\n"
     ]
    }
   ],
   "source": [
    "print(double(a))"
   ]
  },
  {
   "cell_type": "markdown",
   "metadata": {},
   "source": [
    "関数が返す値を**返り値（returned value）**とも呼び、これをそのまま別の関数に渡す事もできます。このように入れ子状に複数の関数を適用することもできます。"
   ]
  },
  {
   "cell_type": "markdown",
   "metadata": {
    "colab_type": "text",
    "id": "o5Ue2cHZ_gaW"
   },
   "source": [
    "また、Jupyter Notebook 環境では `a` とだけ書かれたセルを実行することでも、その変数が格納している値を表示することができます。"
   ]
  },
  {
   "cell_type": "code",
   "execution_count": 10,
   "metadata": {
    "colab": {
     "base_uri": "https://localhost:8080/",
     "height": 34
    },
    "colab_type": "code",
    "id": "uVIFeoMF_vD6",
    "outputId": "de258deb-6210-49ba-8d45-c0b5d96de7a3"
   },
   "outputs": [
    {
     "data": {
      "text/plain": [
       "1"
      ]
     },
     "execution_count": 10,
     "metadata": {},
     "output_type": "execute_result"
    }
   ],
   "source": [
    "a"
   ]
  },
  {
   "cell_type": "code",
   "execution_count": 11,
   "metadata": {},
   "outputs": [
    {
     "data": {
      "text/plain": [
       "2"
      ]
     },
     "execution_count": 11,
     "metadata": {},
     "output_type": "execute_result"
    }
   ],
   "source": [
    "b"
   ]
  },
  {
   "cell_type": "markdown",
   "metadata": {
    "colab_type": "text",
    "id": "I_Z6hhts_v4c"
   },
   "source": [
    "### 型（type）\n",
    "\n",
    "Python が扱える値には、いくつかの種類があります。ここでいう値の種類というのは、「整数」や「実数」、「文字列」などのことで、**型**と呼ばれます。例えば、上で `a` や `b` に代入した値は整数でした。Python には、引数に渡された値もしくは変数の型を調べて返してくれる組み込み関数 `type` があります。この `type` を使って、`a` と `b` の型を調べてみましょう。`type` 関数は、変数が渡されると、その変数が格納している値の型を返します。"
   ]
  },
  {
   "cell_type": "code",
   "execution_count": 14,
   "metadata": {
    "colab": {
     "base_uri": "https://localhost:8080/",
     "height": 34
    },
    "colab_type": "code",
    "id": "8gT1JiXV_9Bk",
    "outputId": "befb7a02-c5d2-461a-8100-0618cc73da4e"
   },
   "outputs": [
    {
     "data": {
      "text/plain": [
       "int"
      ]
     },
     "execution_count": 14,
     "metadata": {},
     "output_type": "execute_result"
    }
   ],
   "source": [
    "type(a)"
   ]
  },
  {
   "cell_type": "code",
   "execution_count": 15,
   "metadata": {
    "colab": {
     "base_uri": "https://localhost:8080/",
     "height": 34
    },
    "colab_type": "code",
    "id": "9rIMaRvYAH2r",
    "outputId": "8ca71123-8d83-42ed-ddf4-14204faab844"
   },
   "outputs": [
    {
     "data": {
      "text/plain": [
       "int"
      ]
     },
     "execution_count": 15,
     "metadata": {},
     "output_type": "execute_result"
    }
   ],
   "source": [
    "type(b)"
   ]
  },
  {
   "cell_type": "markdown",
   "metadata": {},
   "source": [
    "型が整数（integer）の場合は、`int` と表示されます。では、実数の場合はどうなるでしょうか。"
   ]
  },
  {
   "cell_type": "code",
   "execution_count": 16,
   "metadata": {},
   "outputs": [
    {
     "data": {
      "text/plain": [
       "float"
      ]
     },
     "execution_count": 16,
     "metadata": {},
     "output_type": "execute_result"
    }
   ],
   "source": [
    "type(0.5)"
   ]
  },
  {
   "cell_type": "markdown",
   "metadata": {},
   "source": [
    "実数（real number）が渡されたときは、`float` と表示されます。この「float」という言葉は、実数をコンピュータが扱うための方法の一つである浮動小数点数（floating point number）を意味します。"
   ]
  },
  {
   "cell_type": "markdown",
   "metadata": {},
   "source": [
    "Python では、直前・直後も含め `.` を含まない連続した数字を `int`、直前・直後も含め `.` が含まれる連続した数字を `float` だと自動的に解釈します。そのため、実数の `0` は `0.0` とも `.0` とも `0.` とも書くことができます。"
   ]
  },
  {
   "cell_type": "code",
   "execution_count": 19,
   "metadata": {},
   "outputs": [
    {
     "data": {
      "text/plain": [
       "int"
      ]
     },
     "execution_count": 19,
     "metadata": {},
     "output_type": "execute_result"
    }
   ],
   "source": [
    "type(0)"
   ]
  },
  {
   "cell_type": "code",
   "execution_count": 20,
   "metadata": {},
   "outputs": [
    {
     "data": {
      "text/plain": [
       "float"
      ]
     },
     "execution_count": 20,
     "metadata": {},
     "output_type": "execute_result"
    }
   ],
   "source": [
    "type(0.)"
   ]
  },
  {
   "cell_type": "code",
   "execution_count": 21,
   "metadata": {},
   "outputs": [
    {
     "data": {
      "text/plain": [
       "float"
      ]
     },
     "execution_count": 21,
     "metadata": {},
     "output_type": "execute_result"
    }
   ],
   "source": [
    "type(.0)"
   ]
  },
  {
   "cell_type": "markdown",
   "metadata": {},
   "source": [
    "例えば、実数の `5` は以下の二通りで書くことができます。"
   ]
  },
  {
   "cell_type": "code",
   "execution_count": 22,
   "metadata": {},
   "outputs": [
    {
     "data": {
      "text/plain": [
       "float"
      ]
     },
     "execution_count": 22,
     "metadata": {},
     "output_type": "execute_result"
    }
   ],
   "source": [
    "type(5.0)"
   ]
  },
  {
   "cell_type": "code",
   "execution_count": 23,
   "metadata": {},
   "outputs": [
    {
     "data": {
      "text/plain": [
       "float"
      ]
     },
     "execution_count": 23,
     "metadata": {},
     "output_type": "execute_result"
    }
   ],
   "source": [
    "type(5.)"
   ]
  },
  {
   "cell_type": "markdown",
   "metadata": {},
   "source": [
    "一方、`.5` と書くと、これは `0.5` の略記と解釈されることに注意してください。"
   ]
  },
  {
   "cell_type": "code",
   "execution_count": 24,
   "metadata": {},
   "outputs": [
    {
     "data": {
      "text/plain": [
       "float"
      ]
     },
     "execution_count": 24,
     "metadata": {},
     "output_type": "execute_result"
    }
   ],
   "source": [
    "type(.5)"
   ]
  },
  {
   "cell_type": "code",
   "execution_count": 25,
   "metadata": {},
   "outputs": [
    {
     "name": "stdout",
     "output_type": "stream",
     "text": [
      "0.5\n"
     ]
    }
   ],
   "source": [
    "print(.5)"
   ]
  },
  {
   "cell_type": "markdown",
   "metadata": {
    "colab_type": "text",
    "id": "Yx3jtaJsAKqV"
   },
   "source": [
    "### 文字列\n",
    "\n",
    "**文字列（string）**とは、複数の**文字（character）**が連続しているものを指します。ただし、Python では1文字を**長さが1の文字列**と考えるため、これらの型は同じ `str` となります。\n",
    "\n",
    "文字列は、`'`（シングルクオテーション）または `\"`（ダブルクォーテーション）で囲うことで表されます。例えば、「I have a pen.」という文字列を `s` という変数に代入してみましょう。"
   ]
  },
  {
   "cell_type": "code",
   "execution_count": 26,
   "metadata": {
    "colab": {},
    "colab_type": "code",
    "id": "b3AdsWczAUan"
   },
   "outputs": [],
   "source": [
    "s = 'I have a pen.'"
   ]
  },
  {
   "cell_type": "markdown",
   "metadata": {},
   "source": [
    "この変数を `print` 関数に渡して、中身を表示させてみます。"
   ]
  },
  {
   "cell_type": "code",
   "execution_count": 28,
   "metadata": {},
   "outputs": [
    {
     "name": "stdout",
     "output_type": "stream",
     "text": [
      "I have a pen.\n"
     ]
    }
   ],
   "source": [
    "print(s)"
   ]
  },
  {
   "cell_type": "markdown",
   "metadata": {
    "colab_type": "text",
    "id": "ki-hrMkNAuS8"
   },
   "source": [
    "文字列同士は足し算により、結合を行う事ができます。"
   ]
  },
  {
   "cell_type": "code",
   "execution_count": 29,
   "metadata": {
    "colab": {},
    "colab_type": "code",
    "id": "H_KPaflNBDn3"
   },
   "outputs": [],
   "source": [
    "s = 'I have a pen.'\n",
    "k = 'I have an apple.'"
   ]
  },
  {
   "cell_type": "code",
   "execution_count": 30,
   "metadata": {
    "colab": {
     "base_uri": "https://localhost:8080/",
     "height": 34
    },
    "colab_type": "code",
    "id": "SdnZ5eM1BIuN",
    "outputId": "4b3b5dd1-cc02-47ff-e9fa-c67ab42623a2"
   },
   "outputs": [
    {
     "name": "stdout",
     "output_type": "stream",
     "text": [
      "I have a pen.I have an apple.\n"
     ]
    }
   ],
   "source": [
    "print(s + k)"
   ]
  },
  {
   "cell_type": "markdown",
   "metadata": {
    "colab_type": "text",
    "id": "lPCTw5RcBLx4"
   },
   "source": [
    "### 四則演算\n",
    "\n",
    "すでに冒頭の「関数」の節で掛け算を表す `*` という記号が登場しましたが、他にも色々な計算を意味する「演算子」と呼ばれる記号があります。ここで紹介するものは**二項演算子（binary operator）**と呼ばれるもので、2つの変数または値を取り、一つの結果を返すものです。例えば、足し算・引き算・掛け算・割り算がそうです。\n",
    "\n",
    "用いる記号は、以下です。\n",
    "\n",
    "| 演算 | 記号 |\n",
    "|------|------|\n",
    "| 足し算 | `+` |\n",
    "| 引き算 | `-` |\n",
    "| 掛け算 | `*` |\n",
    "| 割り算 | `/` |\n",
    "\n",
    "具体例を見ながら使い方を説明します。"
   ]
  },
  {
   "cell_type": "code",
   "execution_count": 31,
   "metadata": {
    "colab": {
     "base_uri": "https://localhost:8080/",
     "height": 34
    },
    "colab_type": "code",
    "id": "MBaRZ2RkBWbd",
    "outputId": "75693fac-ec8c-4f9d-b0eb-4a23dd932f26"
   },
   "outputs": [
    {
     "data": {
      "text/plain": [
       "2"
      ]
     },
     "execution_count": 31,
     "metadata": {},
     "output_type": "execute_result"
    }
   ],
   "source": [
    "# 足し算\n",
    "1 + 1"
   ]
  },
  {
   "cell_type": "markdown",
   "metadata": {},
   "source": [
    "このように、二項演算子は記号の両側に値を書いて使います。変数の場合も同様です。"
   ]
  },
  {
   "cell_type": "code",
   "execution_count": 32,
   "metadata": {},
   "outputs": [
    {
     "data": {
      "text/plain": [
       "3"
      ]
     },
     "execution_count": 32,
     "metadata": {},
     "output_type": "execute_result"
    }
   ],
   "source": [
    "a + 2"
   ]
  },
  {
   "cell_type": "code",
   "execution_count": 33,
   "metadata": {},
   "outputs": [
    {
     "data": {
      "text/plain": [
       "3"
      ]
     },
     "execution_count": 33,
     "metadata": {},
     "output_type": "execute_result"
    }
   ],
   "source": [
    "a + b"
   ]
  },
  {
   "cell_type": "markdown",
   "metadata": {},
   "source": [
    "他の演算子の例を示します。"
   ]
  },
  {
   "cell_type": "code",
   "execution_count": 34,
   "metadata": {
    "colab": {
     "base_uri": "https://localhost:8080/",
     "height": 34
    },
    "colab_type": "code",
    "id": "hL5QmnGgBYNF",
    "outputId": "d1617b8b-2389-4642-fc18-ffc70c6fde97"
   },
   "outputs": [
    {
     "data": {
      "text/plain": [
       "1"
      ]
     },
     "execution_count": 34,
     "metadata": {},
     "output_type": "execute_result"
    }
   ],
   "source": [
    "# 引き算\n",
    "2 - 1"
   ]
  },
  {
   "cell_type": "code",
   "execution_count": 35,
   "metadata": {
    "colab": {
     "base_uri": "https://localhost:8080/",
     "height": 34
    },
    "colab_type": "code",
    "id": "v82yE4keBZeo",
    "outputId": "cddc246a-4376-4d16-c715-8a4e89351a68"
   },
   "outputs": [
    {
     "data": {
      "text/plain": [
       "15"
      ]
     },
     "execution_count": 35,
     "metadata": {},
     "output_type": "execute_result"
    }
   ],
   "source": [
    "# 掛け算\n",
    "3 * 5"
   ]
  },
  {
   "cell_type": "code",
   "execution_count": 39,
   "metadata": {
    "colab": {
     "base_uri": "https://localhost:8080/",
     "height": 34
    },
    "colab_type": "code",
    "id": "KHRGnOcNBi05",
    "outputId": "aeddf7da-57bc-46ca-d3e4-4cd3c7457a14"
   },
   "outputs": [
    {
     "data": {
      "text/plain": [
       "1.6666666666666667"
      ]
     },
     "execution_count": 39,
     "metadata": {},
     "output_type": "execute_result"
    }
   ],
   "source": [
    "# 割り算\n",
    "5 / 3"
   ]
  },
  {
   "cell_type": "markdown",
   "metadata": {},
   "source": [
    "ここで、割り算の演算子については、割る数も割られる数も整数だったとしても、`/` を用いると実数が返ります。このような、`5 / 3` が `1` ではなく `1.666...` となるような `a / b` を返し計算を** \"真の\" 割り算**とも言います。一方、このとき `1` を返すような割り算を計算する記号も用意されています。それは `//` で、割り算の記号を2回、あいだを空けずに繰り返し書きます。"
   ]
  },
  {
   "cell_type": "code",
   "execution_count": 42,
   "metadata": {
    "colab": {
     "base_uri": "https://localhost:8080/",
     "height": 34
    },
    "colab_type": "code",
    "id": "PFwX_4_pBbY0",
    "outputId": "624685e6-90a5-4421-f9b9-240d80e6af12"
   },
   "outputs": [
    {
     "data": {
      "text/plain": [
       "1"
      ]
     },
     "execution_count": 42,
     "metadata": {},
     "output_type": "execute_result"
    }
   ],
   "source": [
    "# 割り算\n",
    "5 // 3"
   ]
  },
  {
   "cell_type": "markdown",
   "metadata": {},
   "source": [
    "### その他の演算子\n",
    "\n",
    "Python には、他にも色々な演算子が用意されています。例えば以下です。\n",
    "\n",
    "| 演算 | 記号 |\n",
    "|------|------|\n",
    "| べき乗 | `**` |\n",
    "| あまり | `%` |\n",
    "\n",
    "例えば、`10` を `4` で割ったあまりを計算してみましょう。"
   ]
  },
  {
   "cell_type": "code",
   "execution_count": 43,
   "metadata": {},
   "outputs": [
    {
     "data": {
      "text/plain": [
       "2"
      ]
     },
     "execution_count": 43,
     "metadata": {},
     "output_type": "execute_result"
    }
   ],
   "source": [
    "10 % 4"
   ]
  },
  {
   "cell_type": "markdown",
   "metadata": {
    "colab_type": "text",
    "id": "Z62QzE-4Bc4a"
   },
   "source": [
    "### 比較演算\n",
    "\n",
    "さらに、2つの値の比較を行うための演算子も用意されています。例えば以下のものです。\n",
    "\n",
    "| 演算 | 記号 |\n",
    "|------|------|\n",
    "| 小なり | `<` |\n",
    "| 大なり | `>` |\n",
    "| 以下 | `<=` |\n",
    "| 以上 | `>=` |\n",
    "| 等しい | `==` |\n",
    "| 等しくない | `!=` |\n",
    "\n",
    "最後の4つは、比較演算子です。「演算」の列に書かれた言葉は、左辺が右辺に対して満たしている条件を表しています。これらの比較演算子は、その両側に与えられた値が決められた条件を満たしているかどうか計算し、満たしている場合、`True` という値を、満たしていない場合は `False` という値を返します。ここで、`'` や `\"` で囲まれていない `True` や `False` は、文字列ではなく、ブール（bool）型という型の1つの値です。いくつかの比較演算子の計算例を示します。"
   ]
  },
  {
   "cell_type": "code",
   "execution_count": 44,
   "metadata": {
    "colab": {
     "base_uri": "https://localhost:8080/",
     "height": 34
    },
    "colab_type": "code",
    "id": "5AXOptIWCN53",
    "outputId": "43f73105-74b1-48e9-b5c8-e0a182549113"
   },
   "outputs": [
    {
     "data": {
      "text/plain": [
       "True"
      ]
     },
     "execution_count": 44,
     "metadata": {},
     "output_type": "execute_result"
    }
   ],
   "source": [
    "1 < 2"
   ]
  },
  {
   "cell_type": "code",
   "execution_count": 45,
   "metadata": {
    "colab": {
     "base_uri": "https://localhost:8080/",
     "height": 34
    },
    "colab_type": "code",
    "id": "wR2OPEwiCP5_",
    "outputId": "a8a10445-d102-4c4d-cfd5-63d435c0c75c"
   },
   "outputs": [
    {
     "data": {
      "text/plain": [
       "False"
      ]
     },
     "execution_count": 45,
     "metadata": {},
     "output_type": "execute_result"
    }
   ],
   "source": [
    "2 == 5"
   ]
  },
  {
   "cell_type": "code",
   "execution_count": 46,
   "metadata": {
    "colab": {
     "base_uri": "https://localhost:8080/",
     "height": 34
    },
    "colab_type": "code",
    "id": "TfEDslvKCQ7o",
    "outputId": "963c02ad-92b4-4658-a8ea-2a830b466fc0"
   },
   "outputs": [
    {
     "data": {
      "text/plain": [
       "True"
      ]
     },
     "execution_count": 46,
     "metadata": {},
     "output_type": "execute_result"
    }
   ],
   "source": [
    "1 != 2"
   ]
  },
  {
   "cell_type": "code",
   "execution_count": 47,
   "metadata": {
    "colab": {
     "base_uri": "https://localhost:8080/",
     "height": 34
    },
    "colab_type": "code",
    "id": "W1v_F8-7CWI-",
    "outputId": "bc08434e-82e4-4271-ab38-6a850a470461"
   },
   "outputs": [
    {
     "data": {
      "text/plain": [
       "True"
      ]
     },
     "execution_count": 47,
     "metadata": {},
     "output_type": "execute_result"
    }
   ],
   "source": [
    "3 >= 3"
   ]
  },
  {
   "cell_type": "code",
   "execution_count": 48,
   "metadata": {
    "colab": {
     "base_uri": "https://localhost:8080/",
     "height": 34
    },
    "colab_type": "code",
    "id": "XapxlGSYCSOU",
    "outputId": "77526996-a092-4ae3-8f21-85b8be2bdc6f"
   },
   "outputs": [
    {
     "data": {
      "text/plain": [
       "True"
      ]
     },
     "execution_count": 48,
     "metadata": {},
     "output_type": "execute_result"
    }
   ],
   "source": [
    "'test' == 'test'"
   ]
  },
  {
   "cell_type": "markdown",
   "metadata": {},
   "source": [
    "ここで、「等しい」かどうかを計算する `==` という演算子を、`=` と間違えないように気をつけてください。`=` は二項演算子ではなく、「代入」を意味する記号でした。"
   ]
  },
  {
   "cell_type": "markdown",
   "metadata": {
    "colab_type": "text",
    "id": "Wr7NohtiCUN_"
   },
   "source": [
    "### エスケープシーケンス\n",
    "\n",
    "通常の文字列では表せない特殊な文字や機能を、規定された特別な文字の並びにより表したものをエスケープシーケンスと呼びます。  \n",
    "\n",
    "よく使用するものとして、**改行**を意味する `\\n`（もしくは `¥n`）、**タブ**を意味する `\\t`（もしくは `¥t`）があります。"
   ]
  },
  {
   "cell_type": "code",
   "execution_count": 52,
   "metadata": {
    "colab": {
     "base_uri": "https://localhost:8080/",
     "height": 51
    },
    "colab_type": "code",
    "id": "m3CBKEsrC4L-",
    "outputId": "ebdda7a9-e514-4a1c-c2fa-a4e3073013a5"
   },
   "outputs": [
    {
     "name": "stdout",
     "output_type": "stream",
     "text": [
      "Hello\n",
      "World\n"
     ]
    }
   ],
   "source": [
    "print('Hello\\nWorld')"
   ]
  },
  {
   "cell_type": "code",
   "execution_count": 51,
   "metadata": {
    "colab": {
     "base_uri": "https://localhost:8080/",
     "height": 34
    },
    "colab_type": "code",
    "id": "FosQ7-tzC_45",
    "outputId": "2721ff00-81e2-415f-c1b1-5284e891c6d1"
   },
   "outputs": [
    {
     "name": "stdout",
     "output_type": "stream",
     "text": [
      "Hello\tWorld\n"
     ]
    }
   ],
   "source": [
    "print('Hello\\tWorld')"
   ]
  },
  {
   "cell_type": "markdown",
   "metadata": {
    "colab_type": "text",
    "id": "BQhk7-XfDFhS"
   },
   "source": [
    "### コメント\n",
    "\n",
    "Python では、`#` の後からその行の終わりまでに存在する全ての文字列は無視されます。この `#` の後ろに続く文字列を**コメント**と呼び、すでに書かれた文字列をコメントにすることを**コメントアウト**と言います。コメントは、コード中に変数の意味や計算の意味をメモ書きする際によく使われます。Jupyter Notebook のコードセルに書かれたコードを行ごとコメントアウトしたい場合は、その行を選択した状態で `Ctrl + /` を入力することで自動的に行の先頭に `#` 記号を挿入することができます。複数行を選択していれば、選択された複数の行が同時にコメントアウトされます。また、コメントアウトされている行を選択した状態で同じキー入力を送ると、コメントアウトが解除されます。これをコメントインと呼ぶこともあります。\n",
    "\n",
    "下の行を実行してみましょう。"
   ]
  },
  {
   "cell_type": "code",
   "execution_count": 54,
   "metadata": {
    "colab": {},
    "colab_type": "code",
    "id": "YK_XjChXDXmH"
   },
   "outputs": [],
   "source": [
    "# この行及び下の行はコメントアウトされているため実行時に無視されます\n",
    "# print('It does not appear')"
   ]
  },
  {
   "cell_type": "markdown",
   "metadata": {},
   "source": [
    "`print` 関数を実行しているにも関わらず、何も表示されませんでした。これは、`print` 関数が書かれた行がコメントアウトされていたためです。"
   ]
  },
  {
   "cell_type": "markdown",
   "metadata": {
    "colab_type": "text",
    "id": "S1TLaajMDtmr"
   },
   "source": [
    "### リスト\n",
    "\n",
    "複数の変数を `,` 区切りで並べ、それらの全体を `[]` で囲んだものを**リスト**と言います。複数の変数や値をまとめて扱いたいときに便利です。リストに含まれる**要素**には、****\n",
    "\n",
    "`type()`を実行することによって`list`形式になっている事が確認できます。"
   ]
  },
  {
   "cell_type": "code",
   "execution_count": 0,
   "metadata": {
    "colab": {},
    "colab_type": "code",
    "id": "MJ7ZYj82D-a1"
   },
   "outputs": [],
   "source": [
    "numbers = [4, 5, 6, 7]"
   ]
  },
  {
   "cell_type": "code",
   "execution_count": 39,
   "metadata": {
    "colab": {
     "base_uri": "https://localhost:8080/",
     "height": 34
    },
    "colab_type": "code",
    "id": "buZVjXRaEMkE",
    "outputId": "f3eb8bb7-a9e5-43ac-8f39-71b29c4b1001"
   },
   "outputs": [
    {
     "name": "stdout",
     "output_type": "stream",
     "text": [
      "[4, 5, 6, 7]\n"
     ]
    }
   ],
   "source": [
    "print(numbers)"
   ]
  },
  {
   "cell_type": "code",
   "execution_count": 40,
   "metadata": {
    "colab": {
     "base_uri": "https://localhost:8080/",
     "height": 34
    },
    "colab_type": "code",
    "id": "HH3NT-y4EC4Z",
    "outputId": "f499e1ae-b868-477c-ba7d-9257a1a1ce1d"
   },
   "outputs": [
    {
     "data": {
      "text/plain": [
       "list"
      ]
     },
     "execution_count": 40,
     "metadata": {
      "tags": []
     },
     "output_type": "execute_result"
    }
   ],
   "source": [
    "type(numbers)"
   ]
  },
  {
   "cell_type": "markdown",
   "metadata": {
    "colab_type": "text",
    "id": "RiJeRUdrEEUq"
   },
   "source": [
    "##### リストへのアクセス（スライス）\n",
    "\n",
    "一番左側の要素にアクセスするには要素番号`0`を指定すると取得する事ができます。  \n",
    "Pythonで複数の変数の中から要素を取り出す際には基本的に`[]`を使用することを覚えておくといいでしょう。  "
   ]
  },
  {
   "cell_type": "code",
   "execution_count": 41,
   "metadata": {
    "colab": {
     "base_uri": "https://localhost:8080/",
     "height": 34
    },
    "colab_type": "code",
    "id": "DeCsf_L1Em29",
    "outputId": "79cf7e61-9858-40fb-a6b8-36e3ffede67e"
   },
   "outputs": [
    {
     "data": {
      "text/plain": [
       "4"
      ]
     },
     "execution_count": 41,
     "metadata": {
      "tags": []
     },
     "output_type": "execute_result"
    }
   ],
   "source": [
    "# Index番号0にアクセス\n",
    "numbers[0]"
   ]
  },
  {
   "cell_type": "markdown",
   "metadata": {
    "colab_type": "text",
    "id": "DLzLjTQ8EoG9"
   },
   "source": [
    "リストから部分的に取り出してみます。  \n",
    "`:（コロン）`を使うことで部分的な要素を取り出すことができます。"
   ]
  },
  {
   "cell_type": "code",
   "execution_count": 42,
   "metadata": {
    "colab": {
     "base_uri": "https://localhost:8080/",
     "height": 34
    },
    "colab_type": "code",
    "id": "MPI2H38DEy2N",
    "outputId": "9eee3403-5da2-48e4-e317-ec2e1587a76c"
   },
   "outputs": [
    {
     "data": {
      "text/plain": [
       "[4, 5, 6]"
      ]
     },
     "execution_count": 42,
     "metadata": {
      "tags": []
     },
     "output_type": "execute_result"
    }
   ],
   "source": [
    "numbers[0:3]"
   ]
  },
  {
   "cell_type": "markdown",
   "metadata": {
    "colab_type": "text",
    "id": "gK6_JXXTE2AY"
   },
   "source": [
    "ここで`0`から`3`と指定するのは、  \n",
    "「要素番号が0番目から3番目のひとつ手前までの要素を抜き出す」という仕様となっているためです。  \n",
    "\n",
    "一番最初の要素である`0`は省略することができるためこの様な仕様となっています。"
   ]
  },
  {
   "cell_type": "code",
   "execution_count": 43,
   "metadata": {
    "colab": {
     "base_uri": "https://localhost:8080/",
     "height": 34
    },
    "colab_type": "code",
    "id": "hBo2_C5aFPHR",
    "outputId": "753d5716-b7f9-4300-ae52-0bfc7044367e"
   },
   "outputs": [
    {
     "data": {
      "text/plain": [
       "[4, 5, 6]"
      ]
     },
     "execution_count": 43,
     "metadata": {
      "tags": []
     },
     "output_type": "execute_result"
    }
   ],
   "source": [
    "numbers[:3]"
   ]
  },
  {
   "cell_type": "markdown",
   "metadata": {
    "colab_type": "text",
    "id": "Qqem8sujFQVP"
   },
   "source": [
    "この様に記述すると「先頭から3つを取り出す」と、直感的に扱うことができます。  \n",
    "\n",
    "そして「1番目から最後まで」は下記になります。  "
   ]
  },
  {
   "cell_type": "code",
   "execution_count": 44,
   "metadata": {
    "colab": {
     "base_uri": "https://localhost:8080/",
     "height": 34
    },
    "colab_type": "code",
    "id": "gItFJqoUFYzX",
    "outputId": "5c1b88d3-bf21-40d1-e5fe-0bd81aef12d8"
   },
   "outputs": [
    {
     "data": {
      "text/plain": [
       "[5, 6, 7]"
      ]
     },
     "execution_count": 44,
     "metadata": {
      "tags": []
     },
     "output_type": "execute_result"
    }
   ],
   "source": [
    "numbers[1:]"
   ]
  },
  {
   "cell_type": "markdown",
   "metadata": {
    "colab_type": "text",
    "id": "HIIQZKIMFZ5x"
   },
   "source": [
    "よく使う「全て」は、次のように記述します。"
   ]
  },
  {
   "cell_type": "code",
   "execution_count": 46,
   "metadata": {
    "colab": {
     "base_uri": "https://localhost:8080/",
     "height": 34
    },
    "colab_type": "code",
    "id": "ybcCTDk7FdBm",
    "outputId": "ba980a4a-d05a-4a56-bfb6-4f2250e4a1a5"
   },
   "outputs": [
    {
     "data": {
      "text/plain": [
       "[4, 5, 6, 7]"
      ]
     },
     "execution_count": 46,
     "metadata": {
      "tags": []
     },
     "output_type": "execute_result"
    }
   ],
   "source": [
    "numbers[:]"
   ]
  },
  {
   "cell_type": "markdown",
   "metadata": {
    "colab_type": "text",
    "id": "AyoiOU5OFfET"
   },
   "source": [
    "    これだけですと`numbers`と全く変わりませんが、この記述方法は２次元以上の多次元配列となった際に効果を発揮します。  \n",
    "\n",
    "「matrixという多次元配列の特定列(0)の全ての行」といったときには、  \n",
    "`matrix[:, 0]`のように記述（こちらはNumpyの扱い方ですが）することがあります。  \n",
    "\n",
    "リストは数値以外に、文字列も扱えます。  \n"
   ]
  },
  {
   "cell_type": "code",
   "execution_count": 0,
   "metadata": {
    "colab": {},
    "colab_type": "code",
    "id": "9JglgRiWFyo8"
   },
   "outputs": [],
   "source": [
    "words = ['hello', 'world']"
   ]
  },
  {
   "cell_type": "code",
   "execution_count": 49,
   "metadata": {
    "colab": {
     "base_uri": "https://localhost:8080/",
     "height": 34
    },
    "colab_type": "code",
    "id": "rKJ9yFaXF13r",
    "outputId": "2edfd494-90db-48c2-8bf5-bc426a8924e9"
   },
   "outputs": [
    {
     "name": "stdout",
     "output_type": "stream",
     "text": [
      "['hello', 'world']\n"
     ]
    }
   ],
   "source": [
    "print(words)"
   ]
  },
  {
   "cell_type": "markdown",
   "metadata": {
    "colab_type": "text",
    "id": "5lYy-LP6F3wP"
   },
   "source": [
    "また、**空のリスト** を定義しておき、そこに新たな要素を追加（`append`）していく処理をよく行います。"
   ]
  },
  {
   "cell_type": "code",
   "execution_count": 0,
   "metadata": {
    "colab": {},
    "colab_type": "code",
    "id": "00AEmnpxGPky"
   },
   "outputs": [],
   "source": [
    "# 空のリストを定義\n",
    "names = []"
   ]
  },
  {
   "cell_type": "code",
   "execution_count": 0,
   "metadata": {
    "colab": {},
    "colab_type": "code",
    "id": "7EauWPxrF_YN"
   },
   "outputs": [],
   "source": [
    "# 空のリストに要素を追加\n",
    "names.append('Chainer')\n",
    "names.append('チュートリアル')"
   ]
  },
  {
   "cell_type": "code",
   "execution_count": 52,
   "metadata": {
    "colab": {
     "base_uri": "https://localhost:8080/",
     "height": 34
    },
    "colab_type": "code",
    "id": "nSPPEBuPGCm8",
    "outputId": "5fc66f9f-1e3e-4bf3-d445-c61f51d0ecdb"
   },
   "outputs": [
    {
     "name": "stdout",
     "output_type": "stream",
     "text": [
      "['Chainer', 'チュートリアル']\n"
     ]
    }
   ],
   "source": [
    "print(names)"
   ]
  },
  {
   "cell_type": "markdown",
   "metadata": {
    "colab_type": "text",
    "id": "CaQ_9Fc4GL13"
   },
   "source": [
    "リストの豆知識として、リストの変数名には**複数形**で名前を付けるこが一般的です。  \n",
    "変数名を見ただけでリストであることが把握でるためです。`for文`と相性が良い、この二つがその理由です。  \n",
    "\n",
    "※ 詳しくは`for文`の節で説明します。  \n"
   ]
  },
  {
   "cell_type": "markdown",
   "metadata": {
    "colab_type": "text",
    "id": "CV1072C3M7Qy"
   },
   "source": [
    "#### タプル\n",
    "\n",
    "リストとは異なり、定義した後には**変更ができない** 配列のことを**タプル**と呼びます。\n",
    "複数の要素を一つにまとめたもので、宣言は`( )`を使用し、要素にアクセスする際には`[ ]`を使用します。\n"
   ]
  },
  {
   "cell_type": "code",
   "execution_count": 0,
   "metadata": {
    "colab": {},
    "colab_type": "code",
    "id": "mo4lGZN6NGAI"
   },
   "outputs": [],
   "source": [
    "t = (4, 5, 6)"
   ]
  },
  {
   "cell_type": "code",
   "execution_count": 54,
   "metadata": {
    "colab": {
     "base_uri": "https://localhost:8080/",
     "height": 34
    },
    "colab_type": "code",
    "id": "Fq7zIHMfNIXG",
    "outputId": "a786f837-04a0-4657-ab13-f1b33a772bd1"
   },
   "outputs": [
    {
     "data": {
      "text/plain": [
       "4"
      ]
     },
     "execution_count": 54,
     "metadata": {
      "tags": []
     },
     "output_type": "execute_result"
    }
   ],
   "source": [
    "t[0]"
   ]
  },
  {
   "cell_type": "markdown",
   "metadata": {
    "colab_type": "text",
    "id": "KjdkYtSmNSl3"
   },
   "source": [
    "##### タプルの要素を書き換え\n",
    "\n",
    "タプルは**定数**など、書き換えられたくない値に使用してください。  \n",
    "要素の抽出方法は、基本的にはリストと同じになっています。\n",
    "\n",
    "書き換えは`[]`で要素にアクセスし、そこに新たな値を代入すると書き換えを実行する事ができます。　 \n",
    "ですが、この書き換えがタプルでは実行する事ができません。"
   ]
  },
  {
   "cell_type": "code",
   "execution_count": 55,
   "metadata": {
    "colab": {
     "base_uri": "https://localhost:8080/",
     "height": 168
    },
    "colab_type": "code",
    "id": "DRoToOjUNI51",
    "outputId": "85e43371-c2f8-4671-cf36-27ccfa1e2fe5"
   },
   "outputs": [
    {
     "ename": "TypeError",
     "evalue": "ignored",
     "output_type": "error",
     "traceback": [
      "\u001b[0;31m---------------------------------------------------------------------------\u001b[0m",
      "\u001b[0;31mTypeError\u001b[0m                                 Traceback (most recent call last)",
      "\u001b[0;32m<ipython-input-55-88963aa635fa>\u001b[0m in \u001b[0;36m<module>\u001b[0;34m()\u001b[0m\n\u001b[0;32m----> 1\u001b[0;31m \u001b[0mt\u001b[0m\u001b[0;34m[\u001b[0m\u001b[0;36m0\u001b[0m\u001b[0;34m]\u001b[0m \u001b[0;34m=\u001b[0m \u001b[0;36m10\u001b[0m\u001b[0;34m\u001b[0m\u001b[0;34m\u001b[0m\u001b[0m\n\u001b[0m",
      "\u001b[0;31mTypeError\u001b[0m: 'tuple' object does not support item assignment"
     ]
    }
   ],
   "source": [
    "t[0] = 10"
   ]
  },
  {
   "cell_type": "markdown",
   "metadata": {
    "colab_type": "text",
    "id": "nV8Lp5jLNO66"
   },
   "source": [
    "#### 辞書\n",
    "\n",
    "**キー（key）**と**値（value）**のペアを保持するリストのことです。  \n",
    "\n",
    "APIで使用されるJSONも、この形式で変数を保存することで値に対する説明を行うことができます。"
   ]
  },
  {
   "cell_type": "code",
   "execution_count": 0,
   "metadata": {
    "colab": {},
    "colab_type": "code",
    "id": "NyxphI5fNMO8"
   },
   "outputs": [],
   "source": [
    "results = {'数学': 90, '理科': 75, '英語': 80 }"
   ]
  },
  {
   "cell_type": "code",
   "execution_count": 57,
   "metadata": {
    "colab": {
     "base_uri": "https://localhost:8080/",
     "height": 34
    },
    "colab_type": "code",
    "id": "M-V2XOEdNu2a",
    "outputId": "b0c5c6ea-1eb9-4a94-8de1-de798bf95bf4"
   },
   "outputs": [
    {
     "data": {
      "text/plain": [
       "90"
      ]
     },
     "execution_count": 57,
     "metadata": {
      "tags": []
     },
     "output_type": "execute_result"
    }
   ],
   "source": [
    "results['数学'] "
   ]
  },
  {
   "cell_type": "markdown",
   "metadata": {
    "colab_type": "text",
    "id": "oELnTpERNwCQ"
   },
   "source": [
    "### 制御構文\n",
    "\n",
    "#### for文：繰り返し\n",
    "\n",
    "for文は**繰り返し**に使います。  \n",
    "繰り返しの処理はプログラミングで頻繁に使用する構文になります。  \n",
    "\n",
    "一番簡単な数値での繰り返しの方法を確認します。  "
   ]
  },
  {
   "cell_type": "code",
   "execution_count": 58,
   "metadata": {
    "colab": {
     "base_uri": "https://localhost:8080/",
     "height": 102
    },
    "colab_type": "code",
    "id": "f7Y4APgkON_7",
    "outputId": "7ae34cc8-c167-4940-ba37-97f8669f7fb4"
   },
   "outputs": [
    {
     "name": "stdout",
     "output_type": "stream",
     "text": [
      "0\n",
      "1\n",
      "2\n",
      "3\n",
      "4\n"
     ]
    }
   ],
   "source": [
    "#0から4まで繰り返す\n",
    "for i in range(5):\n",
    "    print(i)"
   ]
  },
  {
   "cell_type": "markdown",
   "metadata": {
    "colab_type": "text",
    "id": "oLpTgIv4OPnt"
   },
   "source": [
    "for文含め、Pythonの構文では、`:`の後からは処理ブロックが始まり、`スペース4つ`がそのブロック内であることを表します。  \n",
    "今回は、`print(i)`という処理がfor文の中に入っており、  \n",
    "これを繰り返すことがわかります。  \n",
    "\n",
    "`range`を使用することで、特定回数の繰り返しが行われます。  \n",
    "ここでの注意点は、`range(5)`と指定すると「0,1,2,3,4」のように、  \n",
    "0から始まることです。  \n",
    "0から始まることで、リストの要素番号へうまくアクセスすることができます。  \n",
    "\n",
    "この`range(5)`で作成されたリストの要素一つ一つを取り出し、  \n",
    "一時的な変数である`i`に格納して、処理を実行するという流れです。  \n",
    "\n",
    "一時的な変数名は`i`でなくても大丈夫ですが、  \n",
    "要素番号を指定するときには、よく `i` を使用します。  \n",
    "\n",
    "リストの要素番号として、各要素を取り出す時は以下のように記述できます。"
   ]
  },
  {
   "cell_type": "code",
   "execution_count": 59,
   "metadata": {
    "colab": {
     "base_uri": "https://localhost:8080/",
     "height": 68
    },
    "colab_type": "code",
    "id": "b6XXuQ_gOnxk",
    "outputId": "5d3bbd1d-0a89-458b-8936-6a43075e1db2"
   },
   "outputs": [
    {
     "name": "stdout",
     "output_type": "stream",
     "text": [
      "佐藤さん\n",
      "鈴木さん\n",
      "高橋さん\n"
     ]
    }
   ],
   "source": [
    "names = ['佐藤', '鈴木', '高橋']\n",
    "\n",
    "for i in range(3):\n",
    "    print( names[i] + 'さん' )"
   ]
  },
  {
   "cell_type": "markdown",
   "metadata": {
    "colab_type": "text",
    "id": "cinQvebxOpat"
   },
   "source": [
    "今回はリストの要素数を`range(3)`と数値で指定しましたが、  \n",
    "これは汎用性の低いプログラムです。  \n",
    "\n",
    "もう少し汎用性を高めるため、自動的に要素数を取得する方法を考えます。 "
   ]
  },
  {
   "cell_type": "code",
   "execution_count": 61,
   "metadata": {
    "colab": {
     "base_uri": "https://localhost:8080/",
     "height": 34
    },
    "colab_type": "code",
    "id": "e4gbC4CIOzve",
    "outputId": "e46fe567-c6e1-40b3-84e6-15140c4a1465"
   },
   "outputs": [
    {
     "data": {
      "text/plain": [
       "3"
      ]
     },
     "execution_count": 61,
     "metadata": {
      "tags": []
     },
     "output_type": "execute_result"
    }
   ],
   "source": [
    "len(names)"
   ]
  },
  {
   "cell_type": "markdown",
   "metadata": {
    "colab_type": "text",
    "id": "aRJlm8wNO0wO"
   },
   "source": [
    "`len`を使用することで、リストの要素数を取得できます。  \n",
    "（`len`はlengthの省略と覚えやすいです。）\n",
    "\n",
    "これを使用し汎用性を高めたfor文は、以下の通りです。\n"
   ]
  },
  {
   "cell_type": "code",
   "execution_count": 62,
   "metadata": {
    "colab": {
     "base_uri": "https://localhost:8080/",
     "height": 68
    },
    "colab_type": "code",
    "id": "4i21QYMwPB1C",
    "outputId": "ec22f98e-6bc4-40e7-bf4d-c6a8e4986098"
   },
   "outputs": [
    {
     "name": "stdout",
     "output_type": "stream",
     "text": [
      "佐藤さん\n",
      "鈴木さん\n",
      "高橋さん\n"
     ]
    }
   ],
   "source": [
    "names = ['佐藤', '鈴木', '高橋']\n",
    "\n",
    "for i in range(len(names)):\n",
    "    print( names[i] + 'さん' )"
   ]
  },
  {
   "cell_type": "markdown",
   "metadata": {
    "colab_type": "text",
    "id": "9wx-qJovPEC0"
   },
   "source": [
    "汎用性が高いプログラムにする事ができましたが、  \n",
    "Pythonではより簡潔に記述する事が可能です。  \n",
    "\n",
    "Pythonならでは書き方としては、要素番号を指定するのではなく、  \n",
    "以下のように記述します。"
   ]
  },
  {
   "cell_type": "code",
   "execution_count": 63,
   "metadata": {
    "colab": {
     "base_uri": "https://localhost:8080/",
     "height": 68
    },
    "colab_type": "code",
    "id": "LHFKIhnfPVY_",
    "outputId": "04b4c4b5-b0a6-4141-d76d-eb23e2bd14c0"
   },
   "outputs": [
    {
     "name": "stdout",
     "output_type": "stream",
     "text": [
      "佐藤さん\n",
      "鈴木さん\n",
      "高橋さん\n"
     ]
    }
   ],
   "source": [
    "#Pythonならではのfor文\n",
    "for name in names:\n",
    "    print(name + 'さん')"
   ]
  },
  {
   "cell_type": "markdown",
   "metadata": {
    "colab_type": "text",
    "id": "eeTHJ3hzPW7U"
   },
   "source": [
    "このようなプログラムを**可読性が高い**といいます。  \n",
    "可読性が高いと他の人に伝わりやすいだけでなく、バグを生み出しにくくなります。  \n",
    "プログラムを書く際は動作することはもちろん、可読性という観点ももち書くことを心がけましょう。  \n",
    "\n",
    "また、for文でよく使うのが、要素番号も取得しながら繰り返す`enumerate`と、２つのリストを同時に繰り返す`zip`です。  \n",
    "\n",
    "\n",
    "#### enumerateの使用方法\n",
    "\n",
    "`enumerate`はインデックスの番号が必要な場合に用いられます。  \n",
    "`(要素番号, 要素)`と入ってくるので、そのようなケースには最適です。 "
   ]
  },
  {
   "cell_type": "code",
   "execution_count": 64,
   "metadata": {
    "colab": {
     "base_uri": "https://localhost:8080/",
     "height": 68
    },
    "colab_type": "code",
    "id": "kiFk4NF9P2Bi",
    "outputId": "91fb08a1-484d-4ab6-9a38-000377992da9"
   },
   "outputs": [
    {
     "name": "stdout",
     "output_type": "stream",
     "text": [
      "0 番目:  佐藤 さん\n",
      "1 番目:  鈴木 さん\n",
      "2 番目:  高橋 さん\n"
     ]
    }
   ],
   "source": [
    "for (i, name) in enumerate(names):\n",
    "    print(i, '番目: ', name, 'さん')"
   ]
  },
  {
   "cell_type": "markdown",
   "metadata": {
    "colab_type": "text",
    "id": "wGwCa9wmP2r4"
   },
   "source": [
    "#### zipの使用方法\n",
    "\n",
    "`zip`では2つのリストを同時にfor文で扱いたい場合に使用します。  "
   ]
  },
  {
   "cell_type": "code",
   "execution_count": 0,
   "metadata": {
    "colab": {},
    "colab_type": "code",
    "id": "5w8huhHcQR8F"
   },
   "outputs": [],
   "source": [
    "names1 = ['佐藤', '鈴木', '高橋']\n",
    "names2 = ['亮介', '俊介', '大介']"
   ]
  },
  {
   "cell_type": "markdown",
   "metadata": {
    "colab_type": "text",
    "id": "YEUyROjbQZjd"
   },
   "source": [
    "`zip`を使用しない場合はこのように記述することできます。"
   ]
  },
  {
   "cell_type": "code",
   "execution_count": 67,
   "metadata": {
    "colab": {
     "base_uri": "https://localhost:8080/",
     "height": 68
    },
    "colab_type": "code",
    "id": "XjOCWee7QUuR",
    "outputId": "f9204e0f-40cd-4627-9259-0d9c6ac3a27d"
   },
   "outputs": [
    {
     "name": "stdout",
     "output_type": "stream",
     "text": [
      "佐藤 亮介\n",
      "鈴木 俊介\n",
      "高橋 大介\n"
     ]
    }
   ],
   "source": [
    "for i in range(3):\n",
    "  print(names1[i], names2[i])\n"
   ]
  },
  {
   "cell_type": "markdown",
   "metadata": {
    "colab_type": "text",
    "id": "qtniUsYmQfYz"
   },
   "source": [
    "`zip`を使用すると下記のように比較的見やすいコードにする事ができます。"
   ]
  },
  {
   "cell_type": "code",
   "execution_count": 68,
   "metadata": {
    "colab": {
     "base_uri": "https://localhost:8080/",
     "height": 68
    },
    "colab_type": "code",
    "id": "IeQCA00UQYDq",
    "outputId": "a1a234ae-abec-40a3-8dde-b3bc2b36b551"
   },
   "outputs": [
    {
     "name": "stdout",
     "output_type": "stream",
     "text": [
      "佐藤 亮介\n",
      "鈴木 俊介\n",
      "高橋 大介\n"
     ]
    }
   ],
   "source": [
    "for (name1, name2) in zip(names1, names2):\n",
    "    print(name1, name2)"
   ]
  },
  {
   "cell_type": "markdown",
   "metadata": {
    "colab_type": "text",
    "id": "WguFiYgqQnQT"
   },
   "source": [
    "### if文：条件分岐\n",
    "\n",
    "これもfor文と同じく、よく使う構文です。\n",
    "\n",
    "もう一度比較演算子を確認します。  \n",
    "\n",
    "-    `==` ： 等しい\n",
    "-    `!=` ： 等しくない\n",
    "-    `<, >` ： 大きい、小さい\n",
    "\n",
    "例えば、`val`という変数が0より大きい（正の値）か否かを判定するときは以下のように記述します。\n"
   ]
  },
  {
   "cell_type": "code",
   "execution_count": 69,
   "metadata": {
    "colab": {
     "base_uri": "https://localhost:8080/",
     "height": 34
    },
    "colab_type": "code",
    "id": "E-x_6gXwSsm7",
    "outputId": "50ecefec-6ed1-4c25-924c-208e9e75549f"
   },
   "outputs": [
    {
     "name": "stdout",
     "output_type": "stream",
     "text": [
      "正の値です\n"
     ]
    }
   ],
   "source": [
    "val = 1\n",
    "if val > 0:\n",
    "    print('正の値です')\n",
    "else:\n",
    "    print('負の値です')"
   ]
  },
  {
   "cell_type": "markdown",
   "metadata": {
    "colab_type": "text",
    "id": "u0F8tX6FStcQ"
   },
   "source": [
    "この実行結果は`正の値です`と表示されます。  \n",
    "if文もfor文と同様、`:（コロン）`でブロックを区切ります。  \n",
    "\n",
    "`else`は**それ以外**という意味であり、`val`が0よりも大きくなければ、全てこの処理が実行されます。  \n",
    "\n",
    "また、条件が当てはまらなくて追加する場合は、`elif`を使います。\n"
   ]
  },
  {
   "cell_type": "code",
   "execution_count": 70,
   "metadata": {
    "colab": {
     "base_uri": "https://localhost:8080/",
     "height": 34
    },
    "colab_type": "code",
    "id": "6li0UyjpStjg",
    "outputId": "728d13a9-ff6b-4e7a-b0cf-eaa745e5b03f"
   },
   "outputs": [
    {
     "name": "stdout",
     "output_type": "stream",
     "text": [
      "０です\n"
     ]
    }
   ],
   "source": [
    "val = 0\n",
    "if val > 0:\n",
    "    print('正の値です')\n",
    "elif val == 0:\n",
    "    print('０です')\n",
    "else:\n",
    "    print('負の値です')"
   ]
  },
  {
   "cell_type": "markdown",
   "metadata": {
    "colab_type": "text",
    "id": "gPXlXYd3StvS"
   },
   "source": [
    "### 関数\n",
    "\n",
    "#### 一番簡単な関数\n",
    "\n",
    "関数は、複数の処理をまとめて使いたい時、再利用性を高めるために使用するものです。  \n",
    "\n",
    "まずは一番簡単な関数を作成します。\n"
   ]
  },
  {
   "cell_type": "code",
   "execution_count": 0,
   "metadata": {
    "colab": {},
    "colab_type": "code",
    "id": "YFElEIibSt6G"
   },
   "outputs": [],
   "source": [
    "def say_hello():\n",
    "    print('こんにちは、田中さん')\n",
    "    print('ご機嫌いかがですか')"
   ]
  },
  {
   "cell_type": "markdown",
   "metadata": {
    "colab_type": "text",
    "id": "WU93CadKTJh7"
   },
   "source": [
    "実行には `関数名()`で実行する事ができます。"
   ]
  },
  {
   "cell_type": "code",
   "execution_count": 73,
   "metadata": {
    "colab": {
     "base_uri": "https://localhost:8080/",
     "height": 51
    },
    "colab_type": "code",
    "id": "wTA2j73mTPuH",
    "outputId": "fd1f27f8-a4ba-4972-96e4-73dffc5c03da"
   },
   "outputs": [
    {
     "name": "stdout",
     "output_type": "stream",
     "text": [
      "こんにちは、キカガクさん\n",
      "ご機嫌いかがですか\n"
     ]
    }
   ],
   "source": [
    "say_hello()"
   ]
  },
  {
   "cell_type": "markdown",
   "metadata": {
    "colab_type": "text",
    "id": "OQQNTal8TSbc"
   },
   "source": [
    "このように関数は定義した後に実行することで、いつでも再利用できます。\n",
    "\n",
    "#### 入力（引数）のある関数\n",
    "\n",
    "先の関数は、常に同じ処理しかできないため、汎用性が高いとはいえません。  \n",
    "\n",
    "そこで「田中」や「高橋」といった名前を自由に変えられるように、入力（引数）の値を変えられる関数を作成します。  "
   ]
  },
  {
   "cell_type": "code",
   "execution_count": 0,
   "metadata": {
    "colab": {},
    "colab_type": "code",
    "id": "WFfz0NrSTy0E"
   },
   "outputs": [],
   "source": [
    "def say_hello2(name):\n",
    "    print('こんにちは、{}さん'.format(name))\n",
    "    print('ご機嫌いかがですか')"
   ]
  },
  {
   "cell_type": "markdown",
   "metadata": {
    "colab_type": "text",
    "id": "ptA8mK4hTaC8"
   },
   "source": [
    "このように「こんにちは、○○さん」という入力の値によって、出力結果が変わります。  \n",
    "\n",
    "「○○」に対応する部分を一時的に`name`という変数が入力されると仮定して、この処理を書いていくわけですが文字列の中に`{ }`があり、その後に`.format(name)`が来てこの文法はまだ紹介していません。    \n",
    "\n",
    "これはPythonでよく使う、他の言語の`%s`のような機能で、`{ }`に対応した場所に、`.format()`で指定した変数を格納するといった意味です。  \n",
    "\n",
    "この関数を実行してみます。  \n",
    "実行時には、`name`に対応する入力の値を与える必要があります。  "
   ]
  },
  {
   "cell_type": "code",
   "execution_count": 77,
   "metadata": {
    "colab": {
     "base_uri": "https://localhost:8080/",
     "height": 51
    },
    "colab_type": "code",
    "id": "JXsFmISRUroq",
    "outputId": "4bc64007-64a8-4c2a-9736-c01f0116b9ef"
   },
   "outputs": [
    {
     "name": "stdout",
     "output_type": "stream",
     "text": [
      "こんにちは、高橋さん\n",
      "ご機嫌いかがですか\n"
     ]
    }
   ],
   "source": [
    "say_hello2('高橋')"
   ]
  },
  {
   "cell_type": "markdown",
   "metadata": {
    "colab_type": "text",
    "id": "qa3ob__WUvkL"
   },
   "source": [
    "#### 出力のある関数\n",
    "\n",
    "入力に引き続き、出力のある関数です。  \n",
    "先の実行結果は、`print`で表示されるにとどまっており、  \n",
    "計算した結果をあとで使い回せない状況です。  \n",
    "\n",
    "試しに、入力しか指定しない`say_hello2`から出力された先の値を確認してみます。\n"
   ]
  },
  {
   "cell_type": "code",
   "execution_count": 82,
   "metadata": {
    "colab": {
     "base_uri": "https://localhost:8080/",
     "height": 68
    },
    "colab_type": "code",
    "id": "TNEU-x3pU1cg",
    "outputId": "72fc66c8-1f14-422c-b4ea-56c6d70380a1"
   },
   "outputs": [
    {
     "name": "stdout",
     "output_type": "stream",
     "text": [
      "こんにちは、株式会社キカガクさん\n",
      "ご機嫌いかがですか\n",
      "None\n"
     ]
    }
   ],
   "source": [
    "message = say_hello2('株式会社キカガク')\n",
    "\n",
    "# 出力の値を確認\n",
    "print(message)"
   ]
  },
  {
   "cell_type": "markdown",
   "metadata": {
    "colab_type": "text",
    "id": "2ZRa-zdzU1tT"
   },
   "source": [
    "このように、`message`という変数には何も格納されておらず、  \n",
    "結果を使えない事が確認できます。\n",
    "\n",
    "では、出力を設定を行います。\n",
    "出力設定は単純に、`return`の後に出力したい変数を指定します。  "
   ]
  },
  {
   "cell_type": "code",
   "execution_count": 0,
   "metadata": {
    "colab": {},
    "colab_type": "code",
    "id": "2oHXT88pVPhq"
   },
   "outputs": [],
   "source": [
    "def say_hello3(name):\n",
    "    message = 'こんにちは、{}さん'.format(name)\n",
    "    return message  # 出力"
   ]
  },
  {
   "cell_type": "markdown",
   "metadata": {
    "colab_type": "text",
    "id": "ThZ6kQUkVSzQ"
   },
   "source": [
    "実行して出力が得られているか確認します。  "
   ]
  },
  {
   "cell_type": "code",
   "execution_count": 81,
   "metadata": {
    "colab": {
     "base_uri": "https://localhost:8080/",
     "height": 34
    },
    "colab_type": "code",
    "id": "eVhA08MrVask",
    "outputId": "7ad9b922-82f0-47ae-e9bc-fbb1b3a79bf3"
   },
   "outputs": [
    {
     "name": "stdout",
     "output_type": "stream",
     "text": [
      "こんにちは、株式会社キカガクさん\n"
     ]
    }
   ],
   "source": [
    "message = say_hello3('株式会社キカガク')\n",
    "\n",
    "# 出力の値を確認\n",
    "print(message)"
   ]
  },
  {
   "cell_type": "markdown",
   "metadata": {
    "colab_type": "text",
    "id": "z2HrXi6iVbjQ"
   },
   "source": [
    "出力の値が渡ったことがわかります。\n",
    "\n",
    "また、入力、出力ともに`,(カンマ)`を使うことで複数を指定できます。"
   ]
  },
  {
   "cell_type": "markdown",
   "metadata": {
    "colab_type": "text",
    "id": "FBe0bEnnVoE5"
   },
   "source": [
    "### クラス\n",
    "\n",
    "変数や関数をひとまとまりで扱うことの出来る概念のことです。  \n",
    "関数を作ることはあっても、クラスを作ることはあまりないかもしれません。  \n",
    "大きなプロジェクトを作ることがなければなかなか遭遇しないのですが、Chainerなどのプログラムを読む際に必要となる可能性があるため、ここでは必要最小限の説明をします。  \n",
    "\n",
    "クラスとして定義を行い、それを実態化させることを**インスタンス化**と呼びます。  \n",
    "\n",
    "\n",
    "#### 関数を持ったクラス\n",
    "\n",
    "Pythonでのクラスは以下のように定義します。  "
   ]
  },
  {
   "cell_type": "code",
   "execution_count": 0,
   "metadata": {
    "colab": {},
    "colab_type": "code",
    "id": "_qi929kVV069"
   },
   "outputs": [],
   "source": [
    "class MyClass1:\n",
    "    # 関数を定義\n",
    "    def say_hello():\n",
    "        print(\"こんにちは\")"
   ]
  },
  {
   "cell_type": "markdown",
   "metadata": {
    "colab_type": "text",
    "id": "PkU9_ZnSV6NW"
   },
   "source": [
    "クラスは定義するだけでは実態を持たず、概念のような存在です。\n",
    "\n",
    "#### MyClassクラスをインスタンス化\n",
    "\n",
    "実態を持たせるために**インスタンス化**を行います。"
   ]
  },
  {
   "cell_type": "code",
   "execution_count": 84,
   "metadata": {
    "colab": {
     "base_uri": "https://localhost:8080/",
     "height": 34
    },
    "colab_type": "code",
    "id": "MChFQmkwV8AT",
    "outputId": "088ed8ba-d2f5-4f86-fb08-b40899874925"
   },
   "outputs": [
    {
     "name": "stdout",
     "output_type": "stream",
     "text": [
      "こんにちは\n"
     ]
    }
   ],
   "source": [
    "# aにMyClass1インスタンスを代入\n",
    "a = MyClass1\n",
    "# MyClass1内のsay_hello関数を実行\n",
    "a.say_hello()"
   ]
  },
  {
   "cell_type": "markdown",
   "metadata": {
    "colab_type": "text",
    "id": "AfadTqBCWEUW"
   },
   "source": [
    "#### クラス変数を持ったクラス\n",
    "\n",
    "クラスには関数以外にも変数をもたせることができます。  \n",
    "基本的に、変数の値はインスタンス内で保持されます。  "
   ]
  },
  {
   "cell_type": "code",
   "execution_count": 0,
   "metadata": {
    "colab": {},
    "colab_type": "code",
    "id": "cjm-oK68WNQs"
   },
   "outputs": [],
   "source": [
    "class MyClass2:\n",
    "    name = \"Chainer チュートリアル\""
   ]
  },
  {
   "cell_type": "markdown",
   "metadata": {
    "colab_type": "text",
    "id": "HkDtidrBWQUB"
   },
   "source": [
    "インスタンス化を実行し中身を確認します。"
   ]
  },
  {
   "cell_type": "code",
   "execution_count": 88,
   "metadata": {
    "colab": {
     "base_uri": "https://localhost:8080/",
     "height": 34
    },
    "colab_type": "code",
    "id": "YicwP1c9WOUU",
    "outputId": "5f0d3871-50db-4afc-c3ac-1c56378a0687"
   },
   "outputs": [
    {
     "data": {
      "text/plain": [
       "'Chainer チュートリアル'"
      ]
     },
     "execution_count": 88,
     "metadata": {
      "tags": []
     },
     "output_type": "execute_result"
    }
   ],
   "source": [
    "a = MyClass2\n",
    "a.name # クラス変数にアクセス"
   ]
  },
  {
   "cell_type": "markdown",
   "metadata": {
    "colab_type": "text",
    "id": "6dTnMfI9WUzS"
   },
   "source": [
    "このクラス変数は簡単に代入もできます。\n"
   ]
  },
  {
   "cell_type": "code",
   "execution_count": 0,
   "metadata": {
    "colab": {},
    "colab_type": "code",
    "id": "bo5CZ8rhXJcB"
   },
   "outputs": [],
   "source": [
    "class MyClass2:\n",
    "    name = \"Chainer\"\n",
    "\n",
    "    def change():\n",
    "        MyClass2.name = \"チュートリアル\"       "
   ]
  },
  {
   "cell_type": "code",
   "execution_count": 130,
   "metadata": {
    "colab": {
     "base_uri": "https://localhost:8080/",
     "height": 34
    },
    "colab_type": "code",
    "id": "DTFnJZMIXf9m",
    "outputId": "e7521005-33ec-4909-8e73-1a78c65cd6a9"
   },
   "outputs": [
    {
     "name": "stdout",
     "output_type": "stream",
     "text": [
      "Chainer\n"
     ]
    }
   ],
   "source": [
    "a = MyClass2        \n",
    "print(a.name)"
   ]
  },
  {
   "cell_type": "code",
   "execution_count": 0,
   "metadata": {
    "colab": {},
    "colab_type": "code",
    "id": "lR4ERsw3XSDm"
   },
   "outputs": [],
   "source": [
    "a.change()"
   ]
  },
  {
   "cell_type": "code",
   "execution_count": 134,
   "metadata": {
    "colab": {
     "base_uri": "https://localhost:8080/",
     "height": 34
    },
    "colab_type": "code",
    "id": "s4BIU2c_XY8I",
    "outputId": "c8918516-2a0e-4d1b-a0c8-91c579b78f82"
   },
   "outputs": [
    {
     "name": "stdout",
     "output_type": "stream",
     "text": [
      "チュートリアル\n"
     ]
    }
   ],
   "source": [
    "print(a.name)"
   ]
  },
  {
   "cell_type": "markdown",
   "metadata": {
    "colab_type": "text",
    "id": "Iczq6FmRXjBj"
   },
   "source": [
    "クラス変数には思わぬ落とし穴があります。  \n",
    "クラス内で変数の値を保持するため、別のインスタンスを作成した際に、そのクラス変数の値が他のインスタンスへ共有されてしまうことです。  \n",
    "\n",
    "以下は、他のインスタンスを作っても最初からnameが\"チュートリアル\"となっている例です。\n"
   ]
  },
  {
   "cell_type": "code",
   "execution_count": 133,
   "metadata": {
    "colab": {
     "base_uri": "https://localhost:8080/",
     "height": 34
    },
    "colab_type": "code",
    "id": "Rx1zpSmSZwFp",
    "outputId": "07191ccc-cee8-4721-bbbc-5c9ce6f037ac"
   },
   "outputs": [
    {
     "name": "stdout",
     "output_type": "stream",
     "text": [
      "チュートリアル\n"
     ]
    }
   ],
   "source": [
    "b = MyClass2\n",
    "print(b.name)"
   ]
  },
  {
   "cell_type": "markdown",
   "metadata": {
    "colab_type": "text",
    "id": "pNVV9pkzZ0QE"
   },
   "source": [
    "#### インスタンス変数を持ったクラス\n",
    "\n",
    "インスタンス変数はクラス変数とは異なり、**インスタンスごとに独立に保持される変数**です。  \n",
    "クラス内の変数の状況を毎回気にする必要はなく、独自のインスタンスの状況のみ把握しておけば良いため、考え方はシンプルです。  \n",
    "\n",
    "クラス内で変数を使用したい場合は、基本的には**インスタンス変数**を使うようにしてください。  "
   ]
  },
  {
   "cell_type": "code",
   "execution_count": 0,
   "metadata": {
    "colab": {},
    "colab_type": "code",
    "id": "6D9TNe2KaOnF"
   },
   "outputs": [],
   "source": [
    "class MyClass3:\n",
    "    # イニシャライザ（最初に実行される:インスタンス変数の初期化を行う）\n",
    "    def __init__(self, name):\n",
    "        self.name = name"
   ]
  },
  {
   "cell_type": "code",
   "execution_count": 0,
   "metadata": {
    "colab": {},
    "colab_type": "code",
    "id": "YQ8QEsHdaV_J"
   },
   "outputs": [],
   "source": [
    "# ↓ 一番目の引数（入力）がイニシャライザのselfの次に相当\n",
    "a = MyClass3('Chainer')"
   ]
  },
  {
   "cell_type": "markdown",
   "metadata": {
    "colab_type": "text",
    "id": "MHDhrhDdaalc"
   },
   "source": [
    "インスタンス変数の確認"
   ]
  },
  {
   "cell_type": "code",
   "execution_count": 137,
   "metadata": {
    "colab": {
     "base_uri": "https://localhost:8080/",
     "height": 34
    },
    "colab_type": "code",
    "id": "jYoF63Fdac6e",
    "outputId": "b6f70054-7c0d-49c2-9fc1-c08ff7dd58c7"
   },
   "outputs": [
    {
     "name": "stdout",
     "output_type": "stream",
     "text": [
      "Chainer\n"
     ]
    }
   ],
   "source": [
    "print(a.name)"
   ]
  },
  {
   "cell_type": "markdown",
   "metadata": {
    "colab_type": "text",
    "id": "XvPJsAkrae37"
   },
   "source": [
    "#### call関数を持ったクラス\n",
    "\n",
    "`__call__`という事前に準備されている関数を使用することで、インスタンスを関数のように実行することができます。  \n",
    "\n",
    "これは実際にChainerでも使用するので、覚えておきましょう。"
   ]
  },
  {
   "cell_type": "code",
   "execution_count": 0,
   "metadata": {
    "colab": {},
    "colab_type": "code",
    "id": "GfpMHNRkbQDU"
   },
   "outputs": [],
   "source": [
    "class MyClass4:\n",
    "    # イニシャライザ\n",
    "    def __init__(self, name1, name2):\n",
    "        self.name1 = name1\n",
    "        self.name2 = name2\n",
    "\n",
    "    def __call__(self):\n",
    "        return '{}{}へようこそ！'.format(self.name1, self.name2)"
   ]
  },
  {
   "cell_type": "code",
   "execution_count": 0,
   "metadata": {
    "colab": {},
    "colab_type": "code",
    "id": "LiSI0LAIbiEG"
   },
   "outputs": [],
   "source": [
    "a = MyClass4('Chainer', 'チュートリアル')"
   ]
  },
  {
   "cell_type": "code",
   "execution_count": 144,
   "metadata": {
    "colab": {
     "base_uri": "https://localhost:8080/",
     "height": 34
    },
    "colab_type": "code",
    "id": "myuWUAVibmTT",
    "outputId": "e7d646a6-729a-4015-9ac8-0ec3f8cee2a1"
   },
   "outputs": [
    {
     "data": {
      "text/plain": [
       "'Chainerチュートリアルへようこそ！'"
      ]
     },
     "execution_count": 144,
     "metadata": {
      "tags": []
     },
     "output_type": "execute_result"
    }
   ],
   "source": [
    "a.__call__()"
   ]
  },
  {
   "cell_type": "markdown",
   "metadata": {
    "colab_type": "text",
    "id": "5uNWFVlnbnT8"
   },
   "source": [
    "このように通常通り関数名を指定して呼び出す事ができます。  \n",
    "ですが、この`__call__`を持った関数は下記のようにも記述する事ができます。"
   ]
  },
  {
   "cell_type": "code",
   "execution_count": 145,
   "metadata": {
    "colab": {
     "base_uri": "https://localhost:8080/",
     "height": 34
    },
    "colab_type": "code",
    "id": "8G-X1Gikb_7_",
    "outputId": "f793178d-b3eb-4fc5-b75c-a63bb72b2b33"
   },
   "outputs": [
    {
     "data": {
      "text/plain": [
       "'Chainerチュートリアルへようこそ！'"
      ]
     },
     "execution_count": 145,
     "metadata": {
      "tags": []
     },
     "output_type": "execute_result"
    }
   ],
   "source": [
    "a()"
   ]
  },
  {
   "cell_type": "markdown",
   "metadata": {
    "colab_type": "text",
    "id": "0M1dmJSacA7g"
   },
   "source": [
    "実際にcall関数を使用することは少ないかもしれませんが、  \n",
    "Chainer含めフレームワークでは暗黙の了解として使われていることがあるため、  \n",
    "ほかの人のコードを理解するためにも覚えておきましょう。  \n",
    "\n",
    "これでPythonの基礎はしっかり抑える事ができました。  \n",
    "続いてはChainerでディープラーニングを実装する前に数学的にどのような中身になっているのかをお伝えします。  "
   ]
  }
 ],
 "metadata": {
  "colab": {
   "collapsed_sections": [],
   "name": "(1) Pythonの基礎.ipynb",
   "provenance": [],
   "version": "0.3.2"
  },
  "kernelspec": {
   "display_name": "Python 3",
   "language": "python",
   "name": "python3"
  },
  "language_info": {
   "codemirror_mode": {
    "name": "ipython",
    "version": 3
   },
   "file_extension": ".py",
   "mimetype": "text/x-python",
   "name": "python",
   "nbconvert_exporter": "python",
   "pygments_lexer": "ipython3",
   "version": "3.6.7"
  }
 },
 "nbformat": 4,
 "nbformat_minor": 1
}
