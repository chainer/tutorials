{
 "cells": [
  {
   "cell_type": "markdown",
   "metadata": {
    "colab_type": "text",
    "id": "8uLLPvtcSmnz"
   },
   "source": [
    "# ニューラルネットワークの実装：分類\n",
    "\n",
    "この章では、前章でお伝えしたSequentialではなく、Classを用いたディープラーニングの実装方法をお伝えします。Class内にネットワーク構造を定義していく部分が大きく異なります。\n",
    "\n",
    "本章から読み始める方もいるかと思いますので、前章と重複のある部分もしっかりと説明しています。\n",
    "\n",
    "\n",
    "## 問題設定\n",
    "\n",
    "今回は**ワインの分類**を行います。入力変数として、ワインに含まれる10種類の化合物を使用します。そして、そのワインに対して、1等級、2等級、3等級と3クラスの分類になっています。\n",
    "\n",
    "### データの読み込み\n",
    "\n",
    "\n",
    "今回は[wine_class.csv]('data/wine_class.csv')を使用して回帰を実装します。  \n",
    "ファイルをダウンロードし、**Colab Notebooks** という黄色のフォルダにの中に`data`というフォルダを作成し、その中にアップロードします。  \n",
    "アップロードできたら、データを確認します。\n",
    "\n",
    "\n",
    "#### Driveのマウント\n",
    "\n",
    "\n"
   ]
  },
  {
   "cell_type": "code",
   "execution_count": 1,
   "metadata": {
    "colab": {
     "base_uri": "https://localhost:8080/",
     "height": 122
    },
    "colab_type": "code",
    "executionInfo": {
     "elapsed": 31008,
     "status": "ok",
     "timestamp": 1547541857148,
     "user": {
      "displayName": "西沢衛",
      "photoUrl": "",
      "userId": "12011220225445512117"
     },
     "user_tz": -540
    },
    "id": "DRVWBs2lci6d",
    "outputId": "831a1ad8-7e3d-4bad-d8a5-aed3645bfb3f"
   },
   "outputs": [
    {
     "name": "stdout",
     "output_type": "stream",
     "text": [
      "Go to this URL in a browser: https://accounts.google.com/o/oauth2/auth?client_id=947318989803-6bn6qk8qdgf4n4g3pfee6491hc0brc4i.apps.googleusercontent.com&redirect_uri=urn%3Aietf%3Awg%3Aoauth%3A2.0%3Aoob&scope=email%20https%3A%2F%2Fwww.googleapis.com%2Fauth%2Fdocs.test%20https%3A%2F%2Fwww.googleapis.com%2Fauth%2Fdrive%20https%3A%2F%2Fwww.googleapis.com%2Fauth%2Fdrive.photos.readonly%20https%3A%2F%2Fwww.googleapis.com%2Fauth%2Fpeopleapi.readonly&response_type=code\n",
      "\n",
      "Enter your authorization code:\n",
      "··········\n",
      "Mounted at /content/drive/\n"
     ]
    }
   ],
   "source": [
    "from google.colab import drive\n",
    "drive.mount('/content/drive/')"
   ]
  },
  {
   "cell_type": "code",
   "execution_count": 2,
   "metadata": {
    "colab": {
     "base_uri": "https://localhost:8080/",
     "height": 34
    },
    "colab_type": "code",
    "executionInfo": {
     "elapsed": 1865,
     "status": "ok",
     "timestamp": 1547541931307,
     "user": {
      "displayName": "西沢衛",
      "photoUrl": "",
      "userId": "12011220225445512117"
     },
     "user_tz": -540
    },
    "id": "mMQSvGb3clbt",
    "outputId": "e7353de8-9634-4e81-c987-9937ccb0bf8a"
   },
   "outputs": [
    {
     "name": "stdout",
     "output_type": "stream",
     "text": [
      "wine_class.csv\n"
     ]
    }
   ],
   "source": [
    "!ls drive/'My Drive'/'Colab Notebooks/data'"
   ]
  },
  {
   "cell_type": "markdown",
   "metadata": {
    "colab_type": "text",
    "id": "KCzzBAR-r_vZ"
   },
   "source": [
    "フォルダの中にファイルを確認することができました。  \n",
    "ファイルを展開し、中身を確認します。"
   ]
  },
  {
   "cell_type": "code",
   "execution_count": 0,
   "metadata": {
    "colab": {},
    "colab_type": "code",
    "id": "Lmps1-BCSmn1"
   },
   "outputs": [],
   "source": [
    "import pandas as pd\n",
    "import numpy as np"
   ]
  },
  {
   "cell_type": "code",
   "execution_count": 0,
   "metadata": {
    "colab": {},
    "colab_type": "code",
    "id": "K5VUBneOSmn4"
   },
   "outputs": [],
   "source": [
    "# CSVファイルの読み込み\n",
    "df = pd.read_csv(\"drive/My Drive/Colab Notebooks/data/wine_class.csv\")"
   ]
  },
  {
   "cell_type": "code",
   "execution_count": 5,
   "metadata": {
    "colab": {
     "base_uri": "https://localhost:8080/",
     "height": 159
    },
    "colab_type": "code",
    "executionInfo": {
     "elapsed": 422,
     "status": "ok",
     "timestamp": 1547541990711,
     "user": {
      "displayName": "西沢衛",
      "photoUrl": "",
      "userId": "12011220225445512117"
     },
     "user_tz": -540
    },
    "id": "SXmKBfbfSmn6",
    "outputId": "673139cd-41e0-4a4f-f69f-d8ef3fb93b6f"
   },
   "outputs": [
    {
     "data": {
      "text/html": [
       "<div>\n",
       "<style scoped>\n",
       "    .dataframe tbody tr th:only-of-type {\n",
       "        vertical-align: middle;\n",
       "    }\n",
       "\n",
       "    .dataframe tbody tr th {\n",
       "        vertical-align: top;\n",
       "    }\n",
       "\n",
       "    .dataframe thead th {\n",
       "        text-align: right;\n",
       "    }\n",
       "</style>\n",
       "<table border=\"1\" class=\"dataframe\">\n",
       "  <thead>\n",
       "    <tr style=\"text-align: right;\">\n",
       "      <th></th>\n",
       "      <th>Class</th>\n",
       "      <th>Alcohol</th>\n",
       "      <th>Ash</th>\n",
       "      <th>Alcalinity of ash</th>\n",
       "      <th>Magnesium</th>\n",
       "      <th>Total phenols</th>\n",
       "      <th>Flavanoids</th>\n",
       "      <th>Nonflavanoid phenols</th>\n",
       "      <th>Color intensity</th>\n",
       "      <th>Hue</th>\n",
       "      <th>Proline</th>\n",
       "    </tr>\n",
       "  </thead>\n",
       "  <tbody>\n",
       "    <tr>\n",
       "      <th>0</th>\n",
       "      <td>1</td>\n",
       "      <td>14.23</td>\n",
       "      <td>2.43</td>\n",
       "      <td>15.6</td>\n",
       "      <td>127</td>\n",
       "      <td>2.80</td>\n",
       "      <td>3.06</td>\n",
       "      <td>0.28</td>\n",
       "      <td>5.64</td>\n",
       "      <td>1.04</td>\n",
       "      <td>1065</td>\n",
       "    </tr>\n",
       "    <tr>\n",
       "      <th>1</th>\n",
       "      <td>1</td>\n",
       "      <td>13.20</td>\n",
       "      <td>2.14</td>\n",
       "      <td>11.2</td>\n",
       "      <td>100</td>\n",
       "      <td>2.65</td>\n",
       "      <td>2.76</td>\n",
       "      <td>0.26</td>\n",
       "      <td>4.38</td>\n",
       "      <td>1.05</td>\n",
       "      <td>1050</td>\n",
       "    </tr>\n",
       "    <tr>\n",
       "      <th>2</th>\n",
       "      <td>1</td>\n",
       "      <td>13.16</td>\n",
       "      <td>2.67</td>\n",
       "      <td>18.6</td>\n",
       "      <td>101</td>\n",
       "      <td>2.80</td>\n",
       "      <td>3.24</td>\n",
       "      <td>0.30</td>\n",
       "      <td>5.68</td>\n",
       "      <td>1.03</td>\n",
       "      <td>1185</td>\n",
       "    </tr>\n",
       "  </tbody>\n",
       "</table>\n",
       "</div>"
      ],
      "text/plain": [
       "   Class  Alcohol   Ash  Alcalinity of ash  Magnesium  Total phenols  \\\n",
       "0      1    14.23  2.43               15.6        127           2.80   \n",
       "1      1    13.20  2.14               11.2        100           2.65   \n",
       "2      1    13.16  2.67               18.6        101           2.80   \n",
       "\n",
       "   Flavanoids  Nonflavanoid phenols  Color intensity   Hue  Proline  \n",
       "0        3.06                  0.28             5.64  1.04     1065  \n",
       "1        2.76                  0.26             4.38  1.05     1050  \n",
       "2        3.24                  0.30             5.68  1.03     1185  "
      ]
     },
     "execution_count": 5,
     "metadata": {
      "tags": []
     },
     "output_type": "execute_result"
    }
   ],
   "source": [
    "# データの表示（先頭の３件）\n",
    "df.head(3)"
   ]
  },
  {
   "cell_type": "code",
   "execution_count": 6,
   "metadata": {
    "colab": {
     "base_uri": "https://localhost:8080/",
     "height": 34
    },
    "colab_type": "code",
    "executionInfo": {
     "elapsed": 704,
     "status": "ok",
     "timestamp": 1547541995182,
     "user": {
      "displayName": "西沢衛",
      "photoUrl": "",
      "userId": "12011220225445512117"
     },
     "user_tz": -540
    },
    "id": "0sW6hsZMSmn-",
    "outputId": "6654a651-ed77-43af-c2d5-a6e4f87ba5ce"
   },
   "outputs": [
    {
     "data": {
      "text/plain": [
       "(178, 11)"
      ]
     },
     "execution_count": 6,
     "metadata": {
      "tags": []
     },
     "output_type": "execute_result"
    }
   ],
   "source": [
    "df.shape"
   ]
  },
  {
   "cell_type": "markdown",
   "metadata": {
    "colab_type": "text",
    "id": "TCiFGuHtSmoB"
   },
   "source": [
    "## データの前準備\n",
    "\n",
    "この節では前章で取り扱った内容を復習を兼ねてもう一度一つ一つ確認していきます。"
   ]
  },
  {
   "cell_type": "markdown",
   "metadata": {
    "colab_type": "text",
    "id": "OOVnE3CWSmoC"
   },
   "source": [
    "### 入力変数と教師データ（出力変数）に切り分ける\n",
    "\n",
    "機械学習のプログラミングを行う上での最初のお題として、入力変数と教師データ（出力変数）の切り分けがあります。  \n",
    "こちらは、毎回行うため、スムーズに出来るように練習しておくことをおすすめします。"
   ]
  },
  {
   "cell_type": "code",
   "execution_count": 0,
   "metadata": {
    "colab": {},
    "colab_type": "code",
    "id": "MzHImWlhSmoD"
   },
   "outputs": [],
   "source": [
    "# 教師データ（先頭のClass）\n",
    "t = df.iloc[:, 0]\n",
    " \n",
    "# 入力変数（1番目から最後まで）\n",
    "x = df.iloc[:, 1:]"
   ]
  },
  {
   "cell_type": "markdown",
   "metadata": {
    "colab_type": "text",
    "id": "Kjir1vr9SmoF"
   },
   "source": [
    "こちらのように、正しく切り分けられているかデータの中身を表示して確認します。"
   ]
  },
  {
   "cell_type": "code",
   "execution_count": 8,
   "metadata": {
    "colab": {
     "base_uri": "https://localhost:8080/",
     "height": 159
    },
    "colab_type": "code",
    "executionInfo": {
     "elapsed": 693,
     "status": "ok",
     "timestamp": 1547542017065,
     "user": {
      "displayName": "西沢衛",
      "photoUrl": "",
      "userId": "12011220225445512117"
     },
     "user_tz": -540
    },
    "id": "GXvbIdALSmoG",
    "outputId": "a5ab3482-b72e-4541-e202-e7d2dfe02f8a"
   },
   "outputs": [
    {
     "data": {
      "text/html": [
       "<div>\n",
       "<style scoped>\n",
       "    .dataframe tbody tr th:only-of-type {\n",
       "        vertical-align: middle;\n",
       "    }\n",
       "\n",
       "    .dataframe tbody tr th {\n",
       "        vertical-align: top;\n",
       "    }\n",
       "\n",
       "    .dataframe thead th {\n",
       "        text-align: right;\n",
       "    }\n",
       "</style>\n",
       "<table border=\"1\" class=\"dataframe\">\n",
       "  <thead>\n",
       "    <tr style=\"text-align: right;\">\n",
       "      <th></th>\n",
       "      <th>Alcohol</th>\n",
       "      <th>Ash</th>\n",
       "      <th>Alcalinity of ash</th>\n",
       "      <th>Magnesium</th>\n",
       "      <th>Total phenols</th>\n",
       "      <th>Flavanoids</th>\n",
       "      <th>Nonflavanoid phenols</th>\n",
       "      <th>Color intensity</th>\n",
       "      <th>Hue</th>\n",
       "      <th>Proline</th>\n",
       "    </tr>\n",
       "  </thead>\n",
       "  <tbody>\n",
       "    <tr>\n",
       "      <th>0</th>\n",
       "      <td>14.23</td>\n",
       "      <td>2.43</td>\n",
       "      <td>15.6</td>\n",
       "      <td>127</td>\n",
       "      <td>2.80</td>\n",
       "      <td>3.06</td>\n",
       "      <td>0.28</td>\n",
       "      <td>5.64</td>\n",
       "      <td>1.04</td>\n",
       "      <td>1065</td>\n",
       "    </tr>\n",
       "    <tr>\n",
       "      <th>1</th>\n",
       "      <td>13.20</td>\n",
       "      <td>2.14</td>\n",
       "      <td>11.2</td>\n",
       "      <td>100</td>\n",
       "      <td>2.65</td>\n",
       "      <td>2.76</td>\n",
       "      <td>0.26</td>\n",
       "      <td>4.38</td>\n",
       "      <td>1.05</td>\n",
       "      <td>1050</td>\n",
       "    </tr>\n",
       "    <tr>\n",
       "      <th>2</th>\n",
       "      <td>13.16</td>\n",
       "      <td>2.67</td>\n",
       "      <td>18.6</td>\n",
       "      <td>101</td>\n",
       "      <td>2.80</td>\n",
       "      <td>3.24</td>\n",
       "      <td>0.30</td>\n",
       "      <td>5.68</td>\n",
       "      <td>1.03</td>\n",
       "      <td>1185</td>\n",
       "    </tr>\n",
       "  </tbody>\n",
       "</table>\n",
       "</div>"
      ],
      "text/plain": [
       "   Alcohol   Ash  Alcalinity of ash  Magnesium  Total phenols  Flavanoids  \\\n",
       "0    14.23  2.43               15.6        127           2.80        3.06   \n",
       "1    13.20  2.14               11.2        100           2.65        2.76   \n",
       "2    13.16  2.67               18.6        101           2.80        3.24   \n",
       "\n",
       "   Nonflavanoid phenols  Color intensity   Hue  Proline  \n",
       "0                  0.28             5.64  1.04     1065  \n",
       "1                  0.26             4.38  1.05     1050  \n",
       "2                  0.30             5.68  1.03     1185  "
      ]
     },
     "execution_count": 8,
     "metadata": {
      "tags": []
     },
     "output_type": "execute_result"
    }
   ],
   "source": [
    "# 表示して確認\n",
    "x.head(3)"
   ]
  },
  {
   "cell_type": "code",
   "execution_count": 9,
   "metadata": {
    "colab": {
     "base_uri": "https://localhost:8080/",
     "height": 34
    },
    "colab_type": "code",
    "executionInfo": {
     "elapsed": 1238,
     "status": "ok",
     "timestamp": 1547542018856,
     "user": {
      "displayName": "西沢衛",
      "photoUrl": "",
      "userId": "12011220225445512117"
     },
     "user_tz": -540
    },
    "id": "Dpsg7SRtSmoJ",
    "outputId": "8e415e98-efc4-4001-a88b-57c6c7b2c123"
   },
   "outputs": [
    {
     "data": {
      "text/plain": [
       "(178, 10)"
      ]
     },
     "execution_count": 9,
     "metadata": {
      "tags": []
     },
     "output_type": "execute_result"
    }
   ],
   "source": [
    "# サイズの確認\n",
    "x.shape"
   ]
  },
  {
   "cell_type": "markdown",
   "metadata": {
    "colab_type": "text",
    "id": "5EJEdadVSmoM"
   },
   "source": [
    "`.shape`を使うことで、サンプル数（今回は178）と入力変数の数（今回は10）を確認することができます。"
   ]
  },
  {
   "cell_type": "markdown",
   "metadata": {
    "colab_type": "text",
    "id": "3KMca-fsSmoN"
   },
   "source": [
    "### Chainerで計算できるデータ形式に変換\n",
    "\n",
    "前章でもお伝えしましたが、Chainerで計算を行うために、下記の３点を満たしている必要があります。\n",
    "再度確認します。\n",
    "\n",
    "- 入力変数や教師データがNumpyで定義されているか\n",
    "- 分類の場合、ラベルが0から始まっているか\n",
    "- 入力変数が `float32`、教師データが回帰の場合 `float32`、分類の場合 `int32` で定義されているか"
   ]
  },
  {
   "cell_type": "markdown",
   "metadata": {
    "colab_type": "text",
    "id": "WW_43WqZSmoO"
   },
   "source": [
    "#### Numpyに変換\n",
    "\n",
    "Pandasで読み込んだ場合、Pandasの形式となっています。"
   ]
  },
  {
   "cell_type": "code",
   "execution_count": 10,
   "metadata": {
    "colab": {
     "base_uri": "https://localhost:8080/",
     "height": 34
    },
    "colab_type": "code",
    "executionInfo": {
     "elapsed": 749,
     "status": "ok",
     "timestamp": 1547542031499,
     "user": {
      "displayName": "西沢衛",
      "photoUrl": "",
      "userId": "12011220225445512117"
     },
     "user_tz": -540
    },
    "id": "XVu-GObzSmoO",
    "outputId": "5c972fae-24b9-4f8a-95e5-823546c8a176"
   },
   "outputs": [
    {
     "data": {
      "text/plain": [
       "pandas.core.frame.DataFrame"
      ]
     },
     "execution_count": 10,
     "metadata": {
      "tags": []
     },
     "output_type": "execute_result"
    }
   ],
   "source": [
    "type(x)"
   ]
  },
  {
   "cell_type": "markdown",
   "metadata": {
    "colab_type": "text",
    "id": "sz7K9IgTSmoR"
   },
   "source": [
    "そのため、こちらをNumpyの形式に変換するのは、`.values`とつければ大丈夫です。"
   ]
  },
  {
   "cell_type": "code",
   "execution_count": 11,
   "metadata": {
    "colab": {
     "base_uri": "https://localhost:8080/",
     "height": 34
    },
    "colab_type": "code",
    "executionInfo": {
     "elapsed": 593,
     "status": "ok",
     "timestamp": 1547542033472,
     "user": {
      "displayName": "西沢衛",
      "photoUrl": "",
      "userId": "12011220225445512117"
     },
     "user_tz": -540
    },
    "id": "4lxy9RChSmoS",
    "outputId": "942eaf90-39dc-4df7-abc5-17a8cd81dad3"
   },
   "outputs": [
    {
     "data": {
      "text/plain": [
       "numpy.ndarray"
      ]
     },
     "execution_count": 11,
     "metadata": {
      "tags": []
     },
     "output_type": "execute_result"
    }
   ],
   "source": [
    "type(x.values)"
   ]
  },
  {
   "cell_type": "markdown",
   "metadata": {
    "colab_type": "text",
    "id": "2SmBWN21SmoV"
   },
   "source": [
    "#### 分類で使用するラベルを0から始める\n",
    "\n",
    "今回準備されている教師データのラベルを確認してみます。\n",
    "`min`と`max`で確認すると良いです。"
   ]
  },
  {
   "cell_type": "code",
   "execution_count": 12,
   "metadata": {
    "colab": {
     "base_uri": "https://localhost:8080/",
     "height": 34
    },
    "colab_type": "code",
    "executionInfo": {
     "elapsed": 616,
     "status": "ok",
     "timestamp": 1547542036669,
     "user": {
      "displayName": "西沢衛",
      "photoUrl": "",
      "userId": "12011220225445512117"
     },
     "user_tz": -540
    },
    "id": "a2n0UGavSmoW",
    "outputId": "f56bbc4d-fe18-4606-867a-753f01910566"
   },
   "outputs": [
    {
     "data": {
      "text/plain": [
       "1"
      ]
     },
     "execution_count": 12,
     "metadata": {
      "tags": []
     },
     "output_type": "execute_result"
    }
   ],
   "source": [
    "t.min()"
   ]
  },
  {
   "cell_type": "code",
   "execution_count": 13,
   "metadata": {
    "colab": {
     "base_uri": "https://localhost:8080/",
     "height": 34
    },
    "colab_type": "code",
    "executionInfo": {
     "elapsed": 416,
     "status": "ok",
     "timestamp": 1547542036930,
     "user": {
      "displayName": "西沢衛",
      "photoUrl": "",
      "userId": "12011220225445512117"
     },
     "user_tz": -540
    },
    "id": "pK7RPVCOSmoZ",
    "outputId": "e91820c0-e820-4177-e42a-132891143df9"
   },
   "outputs": [
    {
     "data": {
      "text/plain": [
       "3"
      ]
     },
     "execution_count": 13,
     "metadata": {
      "tags": []
     },
     "output_type": "execute_result"
    }
   ],
   "source": [
    "t.max()"
   ]
  },
  {
   "cell_type": "markdown",
   "metadata": {
    "colab_type": "text",
    "id": "CZwGXbN5Smoc"
   },
   "source": [
    "今回はラベルが`1`から始まって`3`で終わっているため、`1, 2, 3`というラベルが割り振られた3クラスの分類であることがわかります。\n",
    "0から始める必要があるため、`1, 2, 3` → `0, 1, 2` とします。\n",
    "\n",
    "Numpyでは、全体に対する引き算もサポートしているため、`t-1`とすればラベル全体に1が引かれ、`0, 1, 2`となります。"
   ]
  },
  {
   "cell_type": "code",
   "execution_count": 0,
   "metadata": {
    "colab": {},
    "colab_type": "code",
    "id": "dZ0Sl4CJSmod"
   },
   "outputs": [],
   "source": [
    "# Numpyにデータ型を変換し、ラベルを0から始める\n",
    "t = t.values - 1\n",
    "x = x.values"
   ]
  },
  {
   "cell_type": "code",
   "execution_count": 15,
   "metadata": {
    "colab": {
     "base_uri": "https://localhost:8080/",
     "height": 34
    },
    "colab_type": "code",
    "executionInfo": {
     "elapsed": 760,
     "status": "ok",
     "timestamp": 1547542045841,
     "user": {
      "displayName": "西沢衛",
      "photoUrl": "",
      "userId": "12011220225445512117"
     },
     "user_tz": -540
    },
    "id": "K26X_gLgSmoh",
    "outputId": "2ff44163-c3a1-4d8a-bd40-960200978c66"
   },
   "outputs": [
    {
     "data": {
      "text/plain": [
       "numpy.ndarray"
      ]
     },
     "execution_count": 15,
     "metadata": {
      "tags": []
     },
     "output_type": "execute_result"
    }
   ],
   "source": [
    "type(t)"
   ]
  },
  {
   "cell_type": "code",
   "execution_count": 16,
   "metadata": {
    "colab": {
     "base_uri": "https://localhost:8080/",
     "height": 34
    },
    "colab_type": "code",
    "executionInfo": {
     "elapsed": 416,
     "status": "ok",
     "timestamp": 1547542046676,
     "user": {
      "displayName": "西沢衛",
      "photoUrl": "",
      "userId": "12011220225445512117"
     },
     "user_tz": -540
    },
    "id": "_fTYdwHDSmom",
    "outputId": "32865b12-80c4-4104-a53f-823968e880bf"
   },
   "outputs": [
    {
     "data": {
      "text/plain": [
       "numpy.ndarray"
      ]
     },
     "execution_count": 16,
     "metadata": {
      "tags": []
     },
     "output_type": "execute_result"
    }
   ],
   "source": [
    "type(x)"
   ]
  },
  {
   "cell_type": "markdown",
   "metadata": {
    "colab_type": "text",
    "id": "nlpmaYmlSmoo"
   },
   "source": [
    "#### データ型を変更\n",
    "\n",
    "現状のデータ型を確認してみます。"
   ]
  },
  {
   "cell_type": "code",
   "execution_count": 17,
   "metadata": {
    "colab": {
     "base_uri": "https://localhost:8080/",
     "height": 34
    },
    "colab_type": "code",
    "executionInfo": {
     "elapsed": 2282,
     "status": "ok",
     "timestamp": 1547542050643,
     "user": {
      "displayName": "西沢衛",
      "photoUrl": "",
      "userId": "12011220225445512117"
     },
     "user_tz": -540
    },
    "id": "2ZoB51zoSmor",
    "outputId": "6b824b67-3c16-4fee-918e-504aa76f0072"
   },
   "outputs": [
    {
     "data": {
      "text/plain": [
       "dtype('float64')"
      ]
     },
     "execution_count": 17,
     "metadata": {
      "tags": []
     },
     "output_type": "execute_result"
    }
   ],
   "source": [
    "x.dtype"
   ]
  },
  {
   "cell_type": "code",
   "execution_count": 18,
   "metadata": {
    "colab": {
     "base_uri": "https://localhost:8080/",
     "height": 34
    },
    "colab_type": "code",
    "executionInfo": {
     "elapsed": 2086,
     "status": "ok",
     "timestamp": 1547542050645,
     "user": {
      "displayName": "西沢衛",
      "photoUrl": "",
      "userId": "12011220225445512117"
     },
     "user_tz": -540
    },
    "id": "oZl4gbYqSmou",
    "outputId": "58ef4498-1e7b-40c1-9717-a54ba31e9178"
   },
   "outputs": [
    {
     "data": {
      "text/plain": [
       "dtype('int64')"
      ]
     },
     "execution_count": 18,
     "metadata": {
      "tags": []
     },
     "output_type": "execute_result"
    }
   ],
   "source": [
    "t.dtype"
   ]
  },
  {
   "cell_type": "markdown",
   "metadata": {
    "colab_type": "text",
    "id": "diHWnWYHSmov"
   },
   "source": [
    "このように、本来であれば`32bit`型で指定しないといけないところを`64bit`版のコンピュータであれば、デフォルトが`64bit`型で定義されてしまうため、変更する必要があります。\n",
    "\n",
    "Numpy側で準備されている`.astype()`を使用して、`32bit`型へと変換します。"
   ]
  },
  {
   "cell_type": "code",
   "execution_count": 0,
   "metadata": {
    "colab": {},
    "colab_type": "code",
    "id": "JjezaXb5Smox"
   },
   "outputs": [],
   "source": [
    "# 32bitに変換\n",
    "x = x.astype('float32')\n",
    "t = t.astype('int32')"
   ]
  },
  {
   "cell_type": "code",
   "execution_count": 20,
   "metadata": {
    "colab": {
     "base_uri": "https://localhost:8080/",
     "height": 34
    },
    "colab_type": "code",
    "executionInfo": {
     "elapsed": 619,
     "status": "ok",
     "timestamp": 1547542104169,
     "user": {
      "displayName": "西沢衛",
      "photoUrl": "",
      "userId": "12011220225445512117"
     },
     "user_tz": -540
    },
    "id": "ZuFNtHikSmo0",
    "outputId": "d0185e23-c278-40d6-88cf-1890956c899d"
   },
   "outputs": [
    {
     "data": {
      "text/plain": [
       "dtype('float32')"
      ]
     },
     "execution_count": 20,
     "metadata": {
      "tags": []
     },
     "output_type": "execute_result"
    }
   ],
   "source": [
    "x.dtype"
   ]
  },
  {
   "cell_type": "code",
   "execution_count": 21,
   "metadata": {
    "colab": {
     "base_uri": "https://localhost:8080/",
     "height": 34
    },
    "colab_type": "code",
    "executionInfo": {
     "elapsed": 711,
     "status": "ok",
     "timestamp": 1547542104511,
     "user": {
      "displayName": "西沢衛",
      "photoUrl": "",
      "userId": "12011220225445512117"
     },
     "user_tz": -540
    },
    "id": "j1UdsTcjSmo2",
    "outputId": "8b38a93e-87ec-4011-f88a-622edb3ab321"
   },
   "outputs": [
    {
     "data": {
      "text/plain": [
       "dtype('int32')"
      ]
     },
     "execution_count": 21,
     "metadata": {
      "tags": []
     },
     "output_type": "execute_result"
    }
   ],
   "source": [
    "t.dtype"
   ]
  },
  {
   "cell_type": "markdown",
   "metadata": {
    "colab_type": "text",
    "id": "otidc_6TSmo5"
   },
   "source": [
    "### Chainerで使用するデータセットの形式\n",
    "\n",
    "メモリに乗る程度の小規模なデータの場合は、**入力変数と教師データをタプルで１セット**にし、それを**リスト化**しておくことがChainer推奨の形式です。\n",
    "\n",
    "![](images/3-5/img02.png)"
   ]
  },
  {
   "cell_type": "code",
   "execution_count": 0,
   "metadata": {
    "colab": {},
    "colab_type": "code",
    "id": "I819y2UvSmo5"
   },
   "outputs": [],
   "source": [
    "# Chainerで使用できるデータセットの形式\n",
    "dataset = list(zip(x, t))"
   ]
  },
  {
   "cell_type": "markdown",
   "metadata": {
    "colab_type": "text",
    "id": "m3hMJBH8Smo7"
   },
   "source": [
    "このように、`zip(x, t)`で入力変数と教師データをタプル化した後、それを`list`でリスト化します。"
   ]
  },
  {
   "cell_type": "markdown",
   "metadata": {
    "colab_type": "text",
    "id": "07Z6682zSmo8"
   },
   "source": [
    "### 訓練データ、検証データ、テストデータに分割\n",
    "\n",
    "機械学習には欠かせない訓練データ、検証データ、テストデータへの分割です。  \n",
    "Chainerでは`chainer.datasets.split_dataset_random`にその機能が準備されています。  \n",
    "ランダムでなく、前半の70%を訓練、後半の30%を検証といった分割が良い場合は、  \n",
    "`chainer.datasets.split_dataset`を使用することができます。   \n",
    "\n",
    "※ 詳しくは[こちら](https://docs.chainer.org/en/v5.0.0/reference/generated/chainer.datasets.split_dataset_random.html#chainer.datasets.split_dataset_random)のリファレンス参照\n",
    "\n",
    "\n",
    "引数には`dataset`（先ほど作成した形式）、`first_size`と指定されています。\n",
    "\n",
    "`first_size`では訓練データのサイズを指定するのですが、このとき全体の70%を訓練データと検証データにしようと決めておくと、記述が簡単かつ汎用性の高いプログラムになります。\n",
    "\n",
    "全体のサイズを取得する時には`len()`が便利です。"
   ]
  },
  {
   "cell_type": "code",
   "execution_count": 24,
   "metadata": {
    "colab": {
     "base_uri": "https://localhost:8080/",
     "height": 34
    },
    "colab_type": "code",
    "executionInfo": {
     "elapsed": 616,
     "status": "ok",
     "timestamp": 1547542176702,
     "user": {
      "displayName": "西沢衛",
      "photoUrl": "",
      "userId": "12011220225445512117"
     },
     "user_tz": -540
    },
    "id": "iuihy42wSmo8",
    "outputId": "00d3cf4b-a20b-4e1e-8c46-e9d160263d69"
   },
   "outputs": [
    {
     "data": {
      "text/plain": [
       "178"
      ]
     },
     "execution_count": 24,
     "metadata": {
      "tags": []
     },
     "output_type": "execute_result"
    }
   ],
   "source": [
    "len(dataset)"
   ]
  },
  {
   "cell_type": "markdown",
   "metadata": {
    "colab_type": "text",
    "id": "LMUTfn2BSmo_"
   },
   "source": [
    "`split_dataset_random`を使用した`train_val`と`test`の分割は以下のようになります。"
   ]
  },
  {
   "cell_type": "code",
   "execution_count": 0,
   "metadata": {
    "colab": {},
    "colab_type": "code",
    "id": "2cHaHCwCSmpA"
   },
   "outputs": [],
   "source": [
    "import chainer"
   ]
  },
  {
   "cell_type": "code",
   "execution_count": 0,
   "metadata": {
    "colab": {},
    "colab_type": "code",
    "id": "AD_0YwvLSmpE"
   },
   "outputs": [],
   "source": [
    "n_train_val = int(len(dataset) * 0.7)\n",
    "train_val, test = chainer.datasets.split_dataset_random(dataset, n_train_val, seed=1)"
   ]
  },
  {
   "cell_type": "markdown",
   "metadata": {
    "colab_type": "text",
    "id": "L3sGv26jSmpG"
   },
   "source": [
    "`n_train_val`を計算する際`int`と付けていますが、サイズは整数値しか受け付けません。小数が出たときは`int`によって小数値の切り捨てを行っています。\n",
    "\n",
    "`seed=1`は、乱数のシードを1で固定しますという意味で、何度か出てきた**再現性確保**のためです。\n",
    "\n",
    "出力として得られる`train_val`と`test`を確認します。"
   ]
  },
  {
   "cell_type": "code",
   "execution_count": 27,
   "metadata": {
    "colab": {
     "base_uri": "https://localhost:8080/",
     "height": 34
    },
    "colab_type": "code",
    "executionInfo": {
     "elapsed": 579,
     "status": "ok",
     "timestamp": 1547542202791,
     "user": {
      "displayName": "西沢衛",
      "photoUrl": "",
      "userId": "12011220225445512117"
     },
     "user_tz": -540
    },
    "id": "LbR3KiSkSmpG",
    "outputId": "821cac94-ed0e-4a4d-c4b9-5c12cbaf240f"
   },
   "outputs": [
    {
     "data": {
      "text/plain": [
       "<chainer.datasets.sub_dataset.SubDataset at 0x7fb530bdcb00>"
      ]
     },
     "execution_count": 27,
     "metadata": {
      "tags": []
     },
     "output_type": "execute_result"
    }
   ],
   "source": [
    "train_val"
   ]
  },
  {
   "cell_type": "code",
   "execution_count": 28,
   "metadata": {
    "colab": {
     "base_uri": "https://localhost:8080/",
     "height": 34
    },
    "colab_type": "code",
    "executionInfo": {
     "elapsed": 363,
     "status": "ok",
     "timestamp": 1547542203086,
     "user": {
      "displayName": "西沢衛",
      "photoUrl": "",
      "userId": "12011220225445512117"
     },
     "user_tz": -540
    },
    "id": "Y0agvQpbSmpK",
    "outputId": "b014b53b-dbff-47a6-a1b4-bab872ff0f63"
   },
   "outputs": [
    {
     "data": {
      "text/plain": [
       "<chainer.datasets.sub_dataset.SubDataset at 0x7fb530b3ea90>"
      ]
     },
     "execution_count": 28,
     "metadata": {
      "tags": []
     },
     "output_type": "execute_result"
    }
   ],
   "source": [
    "test"
   ]
  },
  {
   "cell_type": "markdown",
   "metadata": {
    "colab_type": "text",
    "id": "zXOQ7bSXSmpO"
   },
   "source": [
    "こちらのように数値が表示されず、どのような形式であるか迷いますが、`train_val[0]`のようにリストの要素番号を指定すると数値が表示され、リスト形式で保存されていることがわかります。\n",
    "このあたりは、なかなかリファレンスがないため、挙動を確認しながら進めていくことが必要です。"
   ]
  },
  {
   "cell_type": "code",
   "execution_count": 29,
   "metadata": {
    "colab": {
     "base_uri": "https://localhost:8080/",
     "height": 51
    },
    "colab_type": "code",
    "executionInfo": {
     "elapsed": 557,
     "status": "ok",
     "timestamp": 1547542211765,
     "user": {
      "displayName": "西沢衛",
      "photoUrl": "",
      "userId": "12011220225445512117"
     },
     "user_tz": -540
    },
    "id": "1aThGtEdSmpP",
    "outputId": "3c9a028d-9876-45e5-f992-a820f23d9cfa"
   },
   "outputs": [
    {
     "data": {
      "text/plain": [
       "(array([1.369e+01, 2.540e+00, 2.000e+01, 1.070e+02, 1.830e+00, 5.600e-01,\n",
       "        5.000e-01, 5.880e+00, 9.600e-01, 6.800e+02], dtype=float32), 2)"
      ]
     },
     "execution_count": 29,
     "metadata": {
      "tags": []
     },
     "output_type": "execute_result"
    }
   ],
   "source": [
    "train_val[0]"
   ]
  },
  {
   "cell_type": "code",
   "execution_count": 30,
   "metadata": {
    "colab": {
     "base_uri": "https://localhost:8080/",
     "height": 34
    },
    "colab_type": "code",
    "executionInfo": {
     "elapsed": 679,
     "status": "ok",
     "timestamp": 1547542212717,
     "user": {
      "displayName": "西沢衛",
      "photoUrl": "",
      "userId": "12011220225445512117"
     },
     "user_tz": -540
    },
    "id": "Ofj63-_7SmpS",
    "outputId": "ad5f8cac-fe85-4146-d977-c51f1d4d04d0"
   },
   "outputs": [
    {
     "data": {
      "text/plain": [
       "124"
      ]
     },
     "execution_count": 30,
     "metadata": {
      "tags": []
     },
     "output_type": "execute_result"
    }
   ],
   "source": [
    "len(train_val)"
   ]
  },
  {
   "cell_type": "code",
   "execution_count": 31,
   "metadata": {
    "colab": {
     "base_uri": "https://localhost:8080/",
     "height": 34
    },
    "colab_type": "code",
    "executionInfo": {
     "elapsed": 498,
     "status": "ok",
     "timestamp": 1547542212719,
     "user": {
      "displayName": "西沢衛",
      "photoUrl": "",
      "userId": "12011220225445512117"
     },
     "user_tz": -540
    },
    "id": "RQoieXdCSmpU",
    "outputId": "3299f6d4-7ab2-4784-d863-4c79beb22c19"
   },
   "outputs": [
    {
     "data": {
      "text/plain": [
       "54"
      ]
     },
     "execution_count": 31,
     "metadata": {
      "tags": []
     },
     "output_type": "execute_result"
    }
   ],
   "source": [
    "len(test)"
   ]
  },
  {
   "cell_type": "markdown",
   "metadata": {
    "colab_type": "text",
    "id": "gxAH1gOj4Czs"
   },
   "source": [
    "### 検証用（Validation）データの作成\n",
    "\n",
    "先程作成した`train_val`を訓練用（`train`）データと検証用（`valid`）データに分割します。  \n",
    "`train_valid`と`test`に分割したときと同様の方法で行います。\n"
   ]
  },
  {
   "cell_type": "code",
   "execution_count": 0,
   "metadata": {
    "colab": {},
    "colab_type": "code",
    "id": "u43oqAQ33YrK"
   },
   "outputs": [],
   "source": [
    "n_train = int(len(train_val) * 0.7)\n",
    "train, valid = chainer.datasets.split_dataset_random(train_val, n_train, seed=1)"
   ]
  },
  {
   "cell_type": "code",
   "execution_count": 33,
   "metadata": {
    "colab": {
     "base_uri": "https://localhost:8080/",
     "height": 34
    },
    "colab_type": "code",
    "executionInfo": {
     "elapsed": 397,
     "status": "ok",
     "timestamp": 1547542274059,
     "user": {
      "displayName": "西沢衛",
      "photoUrl": "",
      "userId": "12011220225445512117"
     },
     "user_tz": -540
    },
    "id": "DA0Ffm6d3Y1c",
    "outputId": "dff61299-da44-44d9-8d01-01fde577fa72"
   },
   "outputs": [
    {
     "data": {
      "text/plain": [
       "86"
      ]
     },
     "execution_count": 33,
     "metadata": {
      "tags": []
     },
     "output_type": "execute_result"
    }
   ],
   "source": [
    "len(train)"
   ]
  },
  {
   "cell_type": "code",
   "execution_count": 34,
   "metadata": {
    "colab": {
     "base_uri": "https://localhost:8080/",
     "height": 34
    },
    "colab_type": "code",
    "executionInfo": {
     "elapsed": 515,
     "status": "ok",
     "timestamp": 1547542274364,
     "user": {
      "displayName": "西沢衛",
      "photoUrl": "",
      "userId": "12011220225445512117"
     },
     "user_tz": -540
    },
    "id": "-uGE2a8D3Y_1",
    "outputId": "55cc20e7-50a6-41f5-e3ad-467c1c654563"
   },
   "outputs": [
    {
     "data": {
      "text/plain": [
       "38"
      ]
     },
     "execution_count": 34,
     "metadata": {
      "tags": []
     },
     "output_type": "execute_result"
    }
   ],
   "source": [
    "len(valid)"
   ]
  },
  {
   "cell_type": "markdown",
   "metadata": {
    "colab_type": "text",
    "id": "Q3uWbBXbSmpW"
   },
   "source": [
    "## モデルの定義\n",
    "\n",
    "それでは、分類を行うためのニューラルネットワークの定義を行います。\n",
    "\n",
    "- 入力変数：10\n",
    "- 分類数：3\n",
    "\n",
    "10 → 5 → 3 のニューラルネットワークを組みます。"
   ]
  },
  {
   "cell_type": "markdown",
   "metadata": {
    "colab_type": "text",
    "id": "JnStKvb4SmpX"
   },
   "source": [
    "### Chainを継承したネットワークの定義\n",
    "\n",
    "Chainerでは、ネットワークは`Chain`クラスを継承したクラスとして定義されることが一般的です。  \n",
    "\n",
    "\n",
    "#### Chainクラス\n",
    "\n",
    "Chainは、パラメータを持つ層（`Link`）をまとめておくためのクラスです。  \n",
    "パラメータを持つということは、基本的にネットワークの学習の際にそれらを更新していく必要があるということです（更新されないパラメータを持たせることもできます）。  \n",
    "\n",
    "モデルのパラメータの更新は、`Optimizer`が担います。  \n",
    "その際、更新すべき全てのパラメータを簡単に発見できるように、Chainで一箇所にまとめておきます。  \n",
    "そうすると、`Chain.params()`メソッドを使って更新されるパラメータ一覧が簡単に取得できます。  \n",
    "\n",
    "\n",
    "#### ネットワークの定義\n",
    "\n",
    "今回`Chain`を継承することで、10 → 5 → 3 のニューラルネットワークは下記のように定義することができます。  \n",
    "\n",
    "前章で紹介した`sequential`を使用したネットワークの定義の方法では、1方向の連続的な流れを表すネットワークを記述する際にはシンプルに記載することができました。  \n",
    "\n",
    "しかし、Chainを継承したネットワークの定義方法ではより複雑なネットワークを記述することが可能になります。"
   ]
  },
  {
   "cell_type": "code",
   "execution_count": 0,
   "metadata": {
    "colab": {},
    "colab_type": "code",
    "id": "_3sqZRWOSmpY"
   },
   "outputs": [],
   "source": [
    "import chainer.links as L\n",
    "import chainer.functions as F"
   ]
  },
  {
   "cell_type": "code",
   "execution_count": 0,
   "metadata": {
    "colab": {},
    "colab_type": "code",
    "id": "5G0r7AYNSmpZ"
   },
   "outputs": [],
   "source": [
    "class NN(chainer.Chain):\n",
    "\n",
    "    # モデルの構造\n",
    "    def __init__(self):\n",
    "        super().__init__()\n",
    "        with self.init_scope():\n",
    "            self.fc1 = L.Linear(10, 5)  # 10 → 5\n",
    "            self.fc2 = L.Linear(5, 3)  # 5 → 3\n",
    "\n",
    "    # 順伝播\n",
    "    def forward(self, x):\n",
    "        u1 = self.fc1(x)\n",
    "        z1 = F.relu(u1)\n",
    "        u2 = self.fc2(z1)\n",
    "        return u2"
   ]
  },
  {
   "cell_type": "markdown",
   "metadata": {
    "colab_type": "text",
    "id": "Wc_sMw7OSmpe"
   },
   "source": [
    "こちらのように、`__init__`にパラメータを持つリンクを宣言、つまり、モデルの構造を定義します。  \n",
    "`forward`の中には順伝播の計算を記述します。  \n",
    "\n",
    "定義したクラスの中身を確認します。  \n",
    "継承した`NN`クラス内で`with self.init_scope()`が呼ばれており、その中でネットワークに登場する`Link`（具体的には、全結合層の`L.Linear`）が定義されています．このような形で記述することで、`Optimizer`はこれらが最適化対象となるパラメータを持つ層であると自動的に解釈してくれるようになります。\n",
    "（継承とはクラス機能を再利用したり、追加できる機能をさします。）\n"
   ]
  },
  {
   "cell_type": "code",
   "execution_count": 0,
   "metadata": {
    "colab": {},
    "colab_type": "code",
    "id": "gdXF_2-BxyqQ"
   },
   "outputs": [],
   "source": [
    "# クラスのインスタンス化\n",
    "model = NN()"
   ]
  },
  {
   "cell_type": "markdown",
   "metadata": {
    "colab_type": "text",
    "id": "RFIHedDfxxCi"
   },
   "source": [
    "また、`forward`というメソッドには、関数の名前の通り、ネットワークの順伝播を記述します。  \n",
    "`forward`の引数としてデータ`x`を受け取り、出力として順伝播の計算結果を返すようにすることで、上記のように`NN`クラスをインスタンス化して作成されたオブジェクトを、関数のように使えるようになります。（例：`output = net(data)`）\n",
    "\n",
    "\n",
    "### クラスの定義のブラッシュアップ\n",
    "\n",
    "これが一番簡単な書き方ですが、さらに上級者向けの書き方にブラッシュアップしていきます。\n",
    "まずは、ノードの数を変更するためにはクラス内部を変更する必要がありますが、ここを変数で置き換えて、インスタンス化のタイミングで自由に変更できるようにしておきます。\n",
    "\n",
    "下記のように変数の初期値も設定しておくと、インスタンス化の際に何も指定しない場合にデフォルトの値が使用され便利です。"
   ]
  },
  {
   "cell_type": "code",
   "execution_count": 0,
   "metadata": {
    "colab": {},
    "colab_type": "code",
    "id": "qtEjuuitSmpf"
   },
   "outputs": [],
   "source": [
    "class NN(chainer.Chain):\n",
    "\n",
    "    # モデルの構造\n",
    "    def __init__(self, n_mid_units=5, n_out=3):\n",
    "        super().__init__()\n",
    "        with self.init_scope():\n",
    "            self.fc1 = L.Linear(10, n_mid_units)  # 変数で置き換え\n",
    "            self.fc2 = L.Linear(5, n_out)  # 変数で置き換え\n",
    "\n",
    "    # 順伝播\n",
    "    def __call__(self, x):\n",
    "        u1 = self.fc1(x)\n",
    "        z1 = F.relu(u1)\n",
    "        u2 = self.fc2(z1)\n",
    "        return u2"
   ]
  },
  {
   "cell_type": "markdown",
   "metadata": {
    "colab_type": "text",
    "id": "Kvo44VkvSmpi"
   },
   "source": [
    "つぎに、`L.Linear`の最初の引数は、`None`と指定することで、入力されるデータから自動的に判断することができるため、手動で入力しなくても良いです。\n",
    "今回はノードの数を簡単に把握することができるため、その恩恵は少ないのですが、この後登場する画像向けのConvolutional Neural Networkなどでは、この機能が活躍します。"
   ]
  },
  {
   "cell_type": "code",
   "execution_count": 0,
   "metadata": {
    "colab": {},
    "colab_type": "code",
    "id": "WjTqwLqPSmpi"
   },
   "outputs": [],
   "source": [
    "class NN(chainer.Chain):\n",
    "\n",
    "    # モデルの構造\n",
    "    def __init__(self, n_mid_units=5, n_out=3):\n",
    "        super().__init__()\n",
    "        with self.init_scope():\n",
    "            self.fc1 = L.Linear(None, n_mid_units)  # 10 → None で自動推定\n",
    "            self.fc2 = L.Linear(None, n_out)  # 5 → None で自動推定\n",
    "\n",
    "    # 順伝播\n",
    "    def __call__(self, x):\n",
    "        u1 = self.fc1(x)\n",
    "        z1 = F.relu(u1)\n",
    "        u2 = self.fc2(z1)\n",
    "        return u2"
   ]
  },
  {
   "cell_type": "markdown",
   "metadata": {
    "colab_type": "text",
    "id": "moBDDZ62Smpl"
   },
   "source": [
    "さらに、順伝播の計算は層の数がさらに増えてくると、変数名の管理が難しくなってくるため、`h`という変数で受け渡し続けると管理する部分が減ります。"
   ]
  },
  {
   "cell_type": "code",
   "execution_count": 0,
   "metadata": {
    "colab": {},
    "colab_type": "code",
    "id": "6lKTppE7Smpl"
   },
   "outputs": [],
   "source": [
    "class NN(chainer.Chain):\n",
    "\n",
    "    # モデルの構造\n",
    "    def __init__(self, n_mid_units=5, n_out=3):\n",
    "        super().__init__()\n",
    "        with self.init_scope():\n",
    "            self.fc1 = L.Linear(None, n_mid_units)\n",
    "            self.fc2 = L.Linear(None, n_out)\n",
    "\n",
    "    # 順伝播\n",
    "    def __call__(self, x):\n",
    "        h = self.fc1(x)  # hで置きかえ\n",
    "        h = F.relu(h)  # hで置きかえ\n",
    "        h = self.fc2(h)  # hで置きかえ\n",
    "        return h"
   ]
  },
  {
   "cell_type": "markdown",
   "metadata": {
    "colab_type": "text",
    "id": "IFxz7u9pSmpo"
   },
   "source": [
    "モデルの定義が完了したため、もう一度インスタンス化します。  \n",
    "インスタンス化を行うとリンクの重みが定義されるため、  \n",
    "インスタンス化を実行する前にランダムシードの固定を行う事を忘れないように注意しましょう。"
   ]
  },
  {
   "cell_type": "code",
   "execution_count": 0,
   "metadata": {
    "colab": {},
    "colab_type": "code",
    "id": "bsYKnmkdSmp2"
   },
   "outputs": [],
   "source": [
    "# シードの固定\n",
    "np.random.seed(1)"
   ]
  },
  {
   "cell_type": "code",
   "execution_count": 0,
   "metadata": {
    "colab": {},
    "colab_type": "code",
    "id": "BDBvAfL_Smpo"
   },
   "outputs": [],
   "source": [
    "model = NN()  # 引数を指定しないため、デフォルトの n_mid_units=5, n_out=3 が使用される"
   ]
  },
  {
   "cell_type": "markdown",
   "metadata": {
    "colab_type": "text",
    "id": "0RYUo6kmSmpp"
   },
   "source": [
    "もし、引数にデフォルトの値を使用しない場合は下記のように指定します。"
   ]
  },
  {
   "cell_type": "code",
   "execution_count": 0,
   "metadata": {
    "colab": {},
    "colab_type": "code",
    "id": "dSMA5MDlSmpr"
   },
   "outputs": [],
   "source": [
    "# model = NN(n_mid_units=10, n_out=3)"
   ]
  },
  {
   "cell_type": "markdown",
   "metadata": {
    "colab_type": "text",
    "id": "FaMeCHQtSmp6"
   },
   "source": [
    "### Optimizerの定義\n",
    "\n",
    "Optimizerではパラメータの最適化を行うための最適化のアルゴリズムを選択します。"
   ]
  },
  {
   "cell_type": "code",
   "execution_count": 0,
   "metadata": {
    "colab": {},
    "colab_type": "code",
    "id": "tajNR6DRSmp6"
   },
   "outputs": [],
   "source": [
    "from chainer import optimizers\n",
    "\n",
    "optimizer = optimizers.SGD(lr=0.01).setup(model) # 確率的勾配降下法（SGD）を使用"
   ]
  },
  {
   "cell_type": "markdown",
   "metadata": {
    "colab_type": "text",
    "id": "PyveQHjcSmp8"
   },
   "source": [
    "#### 学習率（learning rate）\n",
    "\n",
    "今回は`SGD`の`lr`という引数に`0.01`を与えました。  \n",
    "この値は学習率として知られ、モデルをうまく訓練して良いパフォーマンスを発揮させるために調整する必要がある重要なハイパーパラメータとして知られています。  \n",
    "ハイパーパラメータは学習されるパラメータとは異なり人が手で与える学習の設定に関するものやネットワークの構造に関するもののことを指します。"
   ]
  },
  {
   "cell_type": "markdown",
   "metadata": {
    "colab_type": "text",
    "id": "aGtt8I_1SmqG"
   },
   "source": [
    "### Iteratorの定義\n",
    "\n",
    "前章と同様にミニバッチを使用しての学習を実行するため、Iteratorを使用して、データをミニバッチに区切って学習を行います。  \n",
    "\n",
    "訓練用データは下記のようにミニバッチに分けられ学習が行われます。  \n",
    "\n",
    "- データセット：86サンプル\n",
    "- バッチサイズ：10\n",
    "- ミニバッチの数：9（86/10 端数は補完される）\n",
    "- Epoch数：10\n",
    "- Iteration数：90（9×10）\n",
    "\n"
   ]
  },
  {
   "cell_type": "code",
   "execution_count": 0,
   "metadata": {
    "colab": {},
    "colab_type": "code",
    "id": "Kxs4eLoV973V"
   },
   "outputs": [],
   "source": [
    "batchsize = 10"
   ]
  },
  {
   "cell_type": "code",
   "execution_count": 0,
   "metadata": {
    "colab": {},
    "colab_type": "code",
    "id": "LJ2yl6jdSmqI"
   },
   "outputs": [],
   "source": [
    "train_iter = chainer.iterators.SerialIterator(train, batchsize)\n",
    "valid_iter  = chainer.iterators.SerialIterator(valid,  batchsize, repeat=False, shuffle=False)\n",
    "test_iter  = chainer.iterators.SerialIterator(test,  batchsize, repeat=False, shuffle=False)"
   ]
  },
  {
   "cell_type": "code",
   "execution_count": 0,
   "metadata": {
    "colab": {},
    "colab_type": "code",
    "id": "_QIFzudo94G_"
   },
   "outputs": [],
   "source": [
    "epoch = 30"
   ]
  },
  {
   "cell_type": "markdown",
   "metadata": {
    "colab_type": "text",
    "id": "-0NtReVCSmqU"
   },
   "source": [
    "### 学習ループの実行\n"
   ]
  },
  {
   "cell_type": "code",
   "execution_count": 0,
   "metadata": {
    "colab": {},
    "colab_type": "code",
    "id": "M_KK1e4U9vUp"
   },
   "outputs": [],
   "source": [
    "from chainer.dataset import concat_examples"
   ]
  },
  {
   "cell_type": "code",
   "execution_count": 289,
   "metadata": {
    "colab": {
     "base_uri": "https://localhost:8080/",
     "height": 5423
    },
    "colab_type": "code",
    "executionInfo": {
     "elapsed": 1215,
     "status": "ok",
     "timestamp": 1547547346969,
     "user": {
      "displayName": "西沢衛",
      "photoUrl": "",
      "userId": "12011220225445512117"
     },
     "user_tz": -540
    },
    "id": "OwCIJWcR2pzC",
    "outputId": "6119fb6e-2a3c-4c43-9aa1-1004aa85e908"
   },
   "outputs": [
    {
     "name": "stdout",
     "output_type": "stream",
     "text": [
      "epoch:00 train_accuracy:0.4000 \n",
      "epoch:00 train_accuracy:0.5000 \n",
      "epoch:00 train_accuracy:0.4000 \n",
      "epoch:00 train_accuracy:0.4000 \n",
      "epoch:00 train_accuracy:0.2000 \n",
      "epoch:00 train_accuracy:0.2000 \n",
      "epoch:00 train_accuracy:0.3000 \n",
      "epoch:00 train_accuracy:0.3000 \n",
      "epoch:01 train_accuracy:0.3000 \n",
      "valid_loss:1.0985 valid_accuracy:0.6250\n",
      "---\n",
      "epoch:01 train_accuracy:0.6000 \n",
      "epoch:01 train_accuracy:0.4000 \n",
      "epoch:01 train_accuracy:0.5000 \n",
      "epoch:01 train_accuracy:0.3000 \n",
      "epoch:01 train_accuracy:0.2000 \n",
      "epoch:01 train_accuracy:0.1000 \n",
      "epoch:01 train_accuracy:0.2000 \n",
      "epoch:01 train_accuracy:0.2000 \n",
      "epoch:02 train_accuracy:0.4000 \n",
      "valid_loss:1.0985 valid_accuracy:0.6250\n",
      "---\n",
      "epoch:02 train_accuracy:0.4000 \n",
      "epoch:02 train_accuracy:0.3000 \n",
      "epoch:02 train_accuracy:0.5000 \n",
      "epoch:02 train_accuracy:0.4000 \n",
      "epoch:02 train_accuracy:0.4000 \n",
      "epoch:02 train_accuracy:0.6000 \n",
      "epoch:02 train_accuracy:0.4000 \n",
      "epoch:03 train_accuracy:0.1000 \n",
      "valid_loss:1.0984 valid_accuracy:0.6250\n",
      "---\n",
      "epoch:03 train_accuracy:0.3000 \n",
      "epoch:03 train_accuracy:0.3000 \n",
      "epoch:03 train_accuracy:0.5000 \n",
      "epoch:03 train_accuracy:0.5000 \n",
      "epoch:03 train_accuracy:0.4000 \n",
      "epoch:03 train_accuracy:0.4000 \n",
      "epoch:03 train_accuracy:0.4000 \n",
      "epoch:03 train_accuracy:0.5000 \n",
      "epoch:04 train_accuracy:0.4000 \n",
      "valid_loss:1.0979 valid_accuracy:0.6250\n",
      "---\n",
      "epoch:04 train_accuracy:0.5000 \n",
      "epoch:04 train_accuracy:0.3000 \n",
      "epoch:04 train_accuracy:0.4000 \n",
      "epoch:04 train_accuracy:0.6000 \n",
      "epoch:04 train_accuracy:0.5000 \n",
      "epoch:04 train_accuracy:0.4000 \n",
      "epoch:04 train_accuracy:0.1000 \n",
      "epoch:05 train_accuracy:0.3000 \n",
      "valid_loss:1.0982 valid_accuracy:0.6250\n",
      "---\n",
      "epoch:05 train_accuracy:0.6000 \n",
      "epoch:05 train_accuracy:0.4000 \n",
      "epoch:05 train_accuracy:0.5000 \n",
      "epoch:05 train_accuracy:0.3000 \n",
      "epoch:05 train_accuracy:0.5000 \n",
      "epoch:05 train_accuracy:0.4000 \n",
      "epoch:05 train_accuracy:0.3000 \n",
      "epoch:05 train_accuracy:0.3000 \n",
      "epoch:06 train_accuracy:0.3000 \n",
      "valid_loss:1.0984 valid_accuracy:0.6250\n",
      "---\n",
      "epoch:06 train_accuracy:0.5000 \n",
      "epoch:06 train_accuracy:0.2000 \n",
      "epoch:06 train_accuracy:0.3000 \n",
      "epoch:06 train_accuracy:0.3000 \n",
      "epoch:06 train_accuracy:0.4000 \n",
      "epoch:06 train_accuracy:0.4000 \n",
      "epoch:06 train_accuracy:0.5000 \n",
      "epoch:06 train_accuracy:0.6000 \n",
      "epoch:07 train_accuracy:0.3000 \n",
      "valid_loss:1.0985 valid_accuracy:0.6250\n",
      "---\n",
      "epoch:07 train_accuracy:0.4000 \n",
      "epoch:07 train_accuracy:0.4000 \n",
      "epoch:07 train_accuracy:0.1000 \n",
      "epoch:07 train_accuracy:0.5000 \n",
      "epoch:07 train_accuracy:0.5000 \n",
      "epoch:07 train_accuracy:0.6000 \n",
      "epoch:07 train_accuracy:0.2000 \n",
      "epoch:08 train_accuracy:0.4000 \n",
      "valid_loss:1.0992 valid_accuracy:0.6250\n",
      "---\n",
      "epoch:08 train_accuracy:0.4000 \n",
      "epoch:08 train_accuracy:0.5000 \n",
      "epoch:08 train_accuracy:0.5000 \n",
      "epoch:08 train_accuracy:0.3000 \n",
      "epoch:08 train_accuracy:0.2000 \n",
      "epoch:08 train_accuracy:0.5000 \n",
      "epoch:08 train_accuracy:0.5000 \n",
      "epoch:08 train_accuracy:0.3000 \n",
      "epoch:09 train_accuracy:0.6000 \n",
      "valid_loss:1.0978 valid_accuracy:0.6250\n",
      "---\n",
      "epoch:09 train_accuracy:0.4000 \n",
      "epoch:09 train_accuracy:0.5000 \n",
      "epoch:09 train_accuracy:0.4000 \n",
      "epoch:09 train_accuracy:0.6000 \n",
      "epoch:09 train_accuracy:0.2000 \n",
      "epoch:09 train_accuracy:0.2000 \n",
      "epoch:09 train_accuracy:0.4000 \n",
      "epoch:10 train_accuracy:0.3000 \n",
      "valid_loss:1.0989 valid_accuracy:0.6250\n",
      "---\n",
      "epoch:10 train_accuracy:0.3000 \n",
      "epoch:10 train_accuracy:0.5000 \n",
      "epoch:10 train_accuracy:0.4000 \n",
      "epoch:10 train_accuracy:0.2000 \n",
      "epoch:10 train_accuracy:0.6000 \n",
      "epoch:10 train_accuracy:0.7000 \n",
      "epoch:10 train_accuracy:0.3000 \n",
      "epoch:10 train_accuracy:0.3000 \n",
      "epoch:11 train_accuracy:0.2000 \n",
      "valid_loss:1.0990 valid_accuracy:0.6250\n",
      "---\n",
      "epoch:11 train_accuracy:0.6000 \n",
      "epoch:11 train_accuracy:0.3000 \n",
      "epoch:11 train_accuracy:0.5000 \n",
      "epoch:11 train_accuracy:0.3000 \n",
      "epoch:11 train_accuracy:0.2000 \n",
      "epoch:11 train_accuracy:0.6000 \n",
      "epoch:11 train_accuracy:0.3000 \n",
      "epoch:11 train_accuracy:0.4000 \n",
      "epoch:12 train_accuracy:0.5000 \n",
      "valid_loss:1.0992 valid_accuracy:0.6250\n",
      "---\n",
      "epoch:12 train_accuracy:0.4000 \n",
      "epoch:12 train_accuracy:0.5000 \n",
      "epoch:12 train_accuracy:0.4000 \n",
      "epoch:12 train_accuracy:0.5000 \n",
      "epoch:12 train_accuracy:0.2000 \n",
      "epoch:12 train_accuracy:0.3000 \n",
      "epoch:12 train_accuracy:0.6000 \n",
      "epoch:13 train_accuracy:0.3000 \n",
      "valid_loss:1.0990 valid_accuracy:0.6250\n",
      "---\n",
      "epoch:13 train_accuracy:0.5000 \n",
      "epoch:13 train_accuracy:0.2000 \n",
      "epoch:13 train_accuracy:0.4000 \n",
      "epoch:13 train_accuracy:0.6000 \n",
      "epoch:13 train_accuracy:0.2000 \n",
      "epoch:13 train_accuracy:0.3000 \n",
      "epoch:13 train_accuracy:0.5000 \n",
      "epoch:13 train_accuracy:0.4000 \n",
      "epoch:14 train_accuracy:0.3000 \n",
      "valid_loss:1.0998 valid_accuracy:0.6250\n",
      "---\n",
      "epoch:14 train_accuracy:0.2000 \n",
      "epoch:14 train_accuracy:0.2000 \n",
      "epoch:14 train_accuracy:0.3000 \n",
      "epoch:14 train_accuracy:0.4000 \n",
      "epoch:14 train_accuracy:0.7000 \n",
      "epoch:14 train_accuracy:0.6000 \n",
      "epoch:14 train_accuracy:0.4000 \n",
      "epoch:15 train_accuracy:0.4000 \n",
      "valid_loss:1.1000 valid_accuracy:0.6250\n",
      "---\n",
      "epoch:15 train_accuracy:0.4000 \n",
      "epoch:15 train_accuracy:0.6000 \n",
      "epoch:15 train_accuracy:0.4000 \n",
      "epoch:15 train_accuracy:0.2000 \n",
      "epoch:15 train_accuracy:0.6000 \n",
      "epoch:15 train_accuracy:0.3000 \n",
      "epoch:15 train_accuracy:0.2000 \n",
      "epoch:15 train_accuracy:0.5000 \n",
      "epoch:16 train_accuracy:0.5000 \n",
      "valid_loss:1.0994 valid_accuracy:0.6250\n",
      "---\n",
      "epoch:16 train_accuracy:0.2000 \n",
      "epoch:16 train_accuracy:0.4000 \n",
      "epoch:16 train_accuracy:0.3000 \n",
      "epoch:16 train_accuracy:0.5000 \n",
      "epoch:16 train_accuracy:0.3000 \n",
      "epoch:16 train_accuracy:0.4000 \n",
      "epoch:16 train_accuracy:0.7000 \n",
      "epoch:16 train_accuracy:0.3000 \n",
      "epoch:17 train_accuracy:0.1000 \n",
      "valid_loss:1.1019 valid_accuracy:0.6250\n",
      "---\n",
      "epoch:17 train_accuracy:0.6000 \n",
      "epoch:17 train_accuracy:0.2000 \n",
      "epoch:17 train_accuracy:0.2000 \n",
      "epoch:17 train_accuracy:0.6000 \n",
      "epoch:17 train_accuracy:0.8000 \n",
      "epoch:17 train_accuracy:0.2000 \n",
      "epoch:17 train_accuracy:0.5000 \n",
      "epoch:18 train_accuracy:0.3000 \n",
      "valid_loss:1.1005 valid_accuracy:0.6250\n",
      "---\n",
      "epoch:18 train_accuracy:0.3000 \n",
      "epoch:18 train_accuracy:0.5000 \n",
      "epoch:18 train_accuracy:0.3000 \n",
      "epoch:18 train_accuracy:0.3000 \n",
      "epoch:18 train_accuracy:0.5000 \n",
      "epoch:18 train_accuracy:0.4000 \n",
      "epoch:18 train_accuracy:0.5000 \n",
      "epoch:18 train_accuracy:0.3000 \n",
      "epoch:19 train_accuracy:0.2000 \n",
      "valid_loss:1.1023 valid_accuracy:0.6250\n",
      "---\n",
      "epoch:19 train_accuracy:0.3000 \n",
      "epoch:19 train_accuracy:0.5000 \n",
      "epoch:19 train_accuracy:0.4000 \n",
      "epoch:19 train_accuracy:0.4000 \n",
      "epoch:19 train_accuracy:0.4000 \n",
      "epoch:19 train_accuracy:0.6000 \n",
      "epoch:19 train_accuracy:0.5000 \n",
      "epoch:20 train_accuracy:0.3000 \n",
      "valid_loss:1.1014 valid_accuracy:0.6250\n",
      "---\n",
      "epoch:20 train_accuracy:0.2000 \n",
      "epoch:20 train_accuracy:0.5000 \n",
      "epoch:20 train_accuracy:0.3000 \n",
      "epoch:20 train_accuracy:0.3000 \n",
      "epoch:20 train_accuracy:0.4000 \n",
      "epoch:20 train_accuracy:0.3000 \n",
      "epoch:20 train_accuracy:0.5000 \n",
      "epoch:20 train_accuracy:0.5000 \n",
      "epoch:21 train_accuracy:0.7000 \n",
      "valid_loss:1.1008 valid_accuracy:0.6250\n",
      "---\n",
      "epoch:21 train_accuracy:0.6000 \n",
      "epoch:21 train_accuracy:0.2000 \n",
      "epoch:21 train_accuracy:0.4000 \n",
      "epoch:21 train_accuracy:0.4000 \n",
      "epoch:21 train_accuracy:0.5000 \n",
      "epoch:21 train_accuracy:0.4000 \n",
      "epoch:21 train_accuracy:0.3000 \n",
      "epoch:21 train_accuracy:0.1000 \n",
      "epoch:22 train_accuracy:0.4000 \n",
      "valid_loss:1.1027 valid_accuracy:0.6250\n",
      "---\n",
      "epoch:22 train_accuracy:0.2000 \n",
      "epoch:22 train_accuracy:0.1000 \n",
      "epoch:22 train_accuracy:0.6000 \n",
      "epoch:22 train_accuracy:0.5000 \n",
      "epoch:22 train_accuracy:0.5000 \n",
      "epoch:22 train_accuracy:0.5000 \n",
      "epoch:22 train_accuracy:0.4000 \n",
      "epoch:23 train_accuracy:0.4000 \n",
      "valid_loss:1.1026 valid_accuracy:0.6250\n",
      "---\n",
      "epoch:23 train_accuracy:0.4000 \n",
      "epoch:23 train_accuracy:0.6000 \n",
      "epoch:23 train_accuracy:0.3000 \n",
      "epoch:23 train_accuracy:0.5000 \n",
      "epoch:23 train_accuracy:0.4000 \n",
      "epoch:23 train_accuracy:0.3000 \n",
      "epoch:23 train_accuracy:0.4000 \n",
      "epoch:23 train_accuracy:0.3000 \n",
      "epoch:24 train_accuracy:0.7000 \n",
      "valid_loss:1.1012 valid_accuracy:0.6250\n",
      "---\n",
      "epoch:24 train_accuracy:0.3000 \n",
      "epoch:24 train_accuracy:0.5000 \n",
      "epoch:24 train_accuracy:0.4000 \n",
      "epoch:24 train_accuracy:0.3000 \n",
      "epoch:24 train_accuracy:0.6000 \n",
      "epoch:24 train_accuracy:0.1000 \n",
      "epoch:24 train_accuracy:0.4000 \n",
      "epoch:25 train_accuracy:0.3000 \n",
      "valid_loss:1.1030 valid_accuracy:0.6250\n",
      "---\n",
      "epoch:25 train_accuracy:0.2000 \n",
      "epoch:25 train_accuracy:0.4000 \n",
      "epoch:25 train_accuracy:0.5000 \n",
      "epoch:25 train_accuracy:0.4000 \n",
      "epoch:25 train_accuracy:0.4000 \n",
      "epoch:25 train_accuracy:0.3000 \n",
      "epoch:25 train_accuracy:0.6000 \n",
      "epoch:25 train_accuracy:0.3000 \n",
      "epoch:26 train_accuracy:0.3000 \n",
      "valid_loss:1.1038 valid_accuracy:0.6250\n",
      "---\n",
      "epoch:26 train_accuracy:0.6000 \n",
      "epoch:26 train_accuracy:0.3000 \n",
      "epoch:26 train_accuracy:0.4000 \n",
      "epoch:26 train_accuracy:0.3000 \n",
      "epoch:26 train_accuracy:0.2000 \n",
      "epoch:26 train_accuracy:0.5000 \n",
      "epoch:26 train_accuracy:0.4000 \n",
      "epoch:26 train_accuracy:0.6000 \n",
      "epoch:27 train_accuracy:0.3000 \n",
      "valid_loss:1.1043 valid_accuracy:0.6250\n",
      "---\n",
      "epoch:27 train_accuracy:0.5000 \n",
      "epoch:27 train_accuracy:0.3000 \n",
      "epoch:27 train_accuracy:0.4000 \n",
      "epoch:27 train_accuracy:0.4000 \n",
      "epoch:27 train_accuracy:0.3000 \n",
      "epoch:27 train_accuracy:0.4000 \n",
      "epoch:27 train_accuracy:0.7000 \n",
      "epoch:28 train_accuracy:0.3000 \n",
      "valid_loss:1.1040 valid_accuracy:0.6250\n",
      "---\n",
      "epoch:28 train_accuracy:0.2000 \n",
      "epoch:28 train_accuracy:0.4000 \n",
      "epoch:28 train_accuracy:0.4000 \n",
      "epoch:28 train_accuracy:0.6000 \n",
      "epoch:28 train_accuracy:0.7000 \n",
      "epoch:28 train_accuracy:0.1000 \n",
      "epoch:28 train_accuracy:0.5000 \n",
      "epoch:28 train_accuracy:0.3000 \n",
      "epoch:29 train_accuracy:0.4000 \n",
      "valid_loss:1.1041 valid_accuracy:0.6250\n",
      "---\n",
      "epoch:29 train_accuracy:0.5000 \n",
      "epoch:29 train_accuracy:0.4000 \n",
      "epoch:29 train_accuracy:0.3000 \n",
      "epoch:29 train_accuracy:0.4000 \n",
      "epoch:29 train_accuracy:0.4000 \n",
      "epoch:29 train_accuracy:0.5000 \n",
      "epoch:29 train_accuracy:0.4000 \n",
      "epoch:30 train_accuracy:0.2000 \n",
      "valid_loss:1.1046 valid_accuracy:0.6250\n",
      "---\n"
     ]
    }
   ],
   "source": [
    "train_iter.reset()\n",
    "valid_iter.reset()\n",
    "\n",
    "while train_iter.epoch < epoch:\n",
    "  \n",
    "\n",
    "  #　------------  学習の1イテレーション  ------------\n",
    "  \n",
    "  # データの取得\n",
    "  train_batch = train_iter.next()\n",
    "  x_train, t_train = concat_examples(train_batch)\n",
    "\n",
    "\n",
    "  # 予測値の計算\n",
    "  y_train = model(x_train)\n",
    "\n",
    "  # ロスの計算\n",
    "  loss_train = F.softmax_cross_entropy(y_train, t_train)\n",
    "\n",
    "  # 勾配の計算\n",
    "  model.cleargrads()\n",
    "  loss_train.backward()\n",
    "\n",
    "  # パラメータの更新\n",
    "  optimizer.update()\n",
    "\n",
    "  # 検証データで精度を計算\n",
    "  accuracy_train = F.accuracy(y_train, t_train)\n",
    "\n",
    "  \n",
    "  print('epoch:{:02d} train_accuracy:{:.04f} '.format(train_iter.epoch, accuracy_train.data, end=''))\n",
    "  \n",
    "#   ----------------  ここまで  ----------------   \n",
    "\n",
    "\n",
    "  if train_iter.is_new_epoch: # 新しいエポックに入った時のみ計算\n",
    "\n",
    "    while True:\n",
    "      # 検証データの取得   \n",
    "      valid_batch = valid_iter.next()\n",
    "      x_valid, t_valid = concat_examples(valid_batch)\n",
    "\n",
    "     # 検証用データで順伝播の計算を実行\n",
    "      with chainer.using_config('train', False), chainer.using_config('enable_backprop', False):\n",
    "        y_valid = model(x_valid)\n",
    "\n",
    "\n",
    "      # 検証データで損失関数を計算\n",
    "      loss_valid = F.softmax_cross_entropy(y_valid, t_valid)\n",
    "\n",
    "      # 検証データで精度を計算\n",
    "      accuracy_valid = F.accuracy(y_valid, t_valid)\n",
    "\n",
    "      if valid_iter.is_new_epoch: # 追加：1エポック計算し終わると、イテレーターをリセット\n",
    "        valid_iter.reset()\n",
    "        break\n",
    "\n",
    "     # 結果を表示  \n",
    "    print('valid_loss:{:.04f} valid_accuracy:{:.04f}'.format(loss_valid.data, accuracy_valid.data))\n",
    "    print('---')"
   ]
  },
  {
   "cell_type": "markdown",
   "metadata": {
    "colab_type": "text",
    "id": "Vg8WP94O-E73"
   },
   "source": [
    "学習は正常に行われていることが確認できました。  \n",
    "訓練データに対しての正解率が概算して約40%弱、検証データに対して約60%程度にとどまっています。  "
   ]
  },
  {
   "cell_type": "markdown",
   "metadata": {
    "colab_type": "text",
    "id": "3DK5aKivSmqh"
   },
   "source": [
    "## うまくいかないときの対処\n",
    "\n",
    "今回は一通りの流れを説明しましたが、まだまだ精度が良くないと不満に思った方もいるかと思います。\n",
    "ここからは試行錯誤の世界になるのですが、まずいちばん手っ取り早く精度を上げることが出来る方法として、**BatchNormalization**が挙げられます。\n",
    "\n",
    "実装としては、各バッチ毎に、平均と標準偏差を定めて正規化を行うといった非常に簡単な手法なのですが、これをかませることによって、各変数感のスケールによる差を吸収できます。\n",
    "\n",
    "BatchNormalizationの詳しい説明は[こちら](https://qiita.com/cfiken/items/b477c7878828ebdb0387)をご覧ください。\n",
    "\n",
    "\n",
    "それでは、BatchNormazliationがある場合で試してみます。\n",
    "\n",
    "宣言していたニューラルネットワークのクラスを以下のように変更して、もう一度学習を行ってみます。"
   ]
  },
  {
   "cell_type": "code",
   "execution_count": 0,
   "metadata": {
    "colab": {},
    "colab_type": "code",
    "id": "jdEx1GzeSmqi"
   },
   "outputs": [],
   "source": [
    "class NN(chainer.Chain):\n",
    "\n",
    "    # モデルの構造\n",
    "    def __init__(self, n_mid_units=5, n_out=3):\n",
    "        super().__init__()\n",
    "        with self.init_scope():\n",
    "            self.fc1 = L.Linear(None, n_mid_units)\n",
    "            self.fc2 = L.Linear(None, n_out)\n",
    "            self.bn = L.BatchNormalization(10)  # Batch Normalizationは平均と分散がパラメータ\n",
    "\n",
    "    # 順伝播\n",
    "    def forward(self, x):\n",
    "        h = self.bn(x)  # Batch Normalizationの処理を追加\n",
    "        h = self.fc1(h)\n",
    "        h = F.relu(h)\n",
    "        h = self.fc2(h)\n",
    "        return h"
   ]
  },
  {
   "cell_type": "code",
   "execution_count": 0,
   "metadata": {
    "colab": {},
    "colab_type": "code",
    "id": "dtETLsuiSmqk"
   },
   "outputs": [],
   "source": [
    "# 乱数のシードを固定\n",
    "np.random.seed(1)\n",
    "\n",
    "# モデルのインスタンス化\n",
    "model = NN()\n",
    "\n",
    "# Optimizerの定義\n",
    "optimizer = chainer.optimizers.SGD().setup(model)  # modelと紐付ける\n",
    "\n",
    "# Iteratorの定義\n",
    "batchsize = 10\n",
    "train_iter = chainer.iterators.SerialIterator(train, batchsize)\n",
    "valid_iter = chainer.iterators.SerialIterator(valid, batchsize, repeat=False, shuffle=False)\n",
    "test_iter = chainer.iterators.SerialIterator(test, batchsize, repeat=False, shuffle=False)\n",
    "\n",
    "# trainerとそのextensionsの設定\n",
    "epoch = 30"
   ]
  },
  {
   "cell_type": "code",
   "execution_count": 292,
   "metadata": {
    "colab": {
     "base_uri": "https://localhost:8080/",
     "height": 5423
    },
    "colab_type": "code",
    "executionInfo": {
     "elapsed": 2372,
     "status": "ok",
     "timestamp": 1547547371787,
     "user": {
      "displayName": "西沢衛",
      "photoUrl": "",
      "userId": "12011220225445512117"
     },
     "user_tz": -540
    },
    "id": "5bqW9lcaSmqo",
    "outputId": "adb7cebe-0ffd-4d08-f53b-37423755c1d3"
   },
   "outputs": [
    {
     "name": "stdout",
     "output_type": "stream",
     "text": [
      "epoch:00 train_accuracy:0.0000 \n",
      "epoch:00 train_accuracy:0.2000 \n",
      "epoch:00 train_accuracy:0.0000 \n",
      "epoch:00 train_accuracy:0.1000 \n",
      "epoch:00 train_accuracy:0.3000 \n",
      "epoch:00 train_accuracy:0.2000 \n",
      "epoch:00 train_accuracy:0.2000 \n",
      "epoch:00 train_accuracy:0.8000 \n",
      "epoch:01 train_accuracy:0.0000 \n",
      "valid_loss:0.7762 valid_accuracy:0.6250\n",
      "---\n",
      "epoch:01 train_accuracy:0.1000 \n",
      "epoch:01 train_accuracy:0.1000 \n",
      "epoch:01 train_accuracy:0.0000 \n",
      "epoch:01 train_accuracy:0.5000 \n",
      "epoch:01 train_accuracy:0.0000 \n",
      "epoch:01 train_accuracy:0.2000 \n",
      "epoch:01 train_accuracy:0.3000 \n",
      "epoch:01 train_accuracy:0.3000 \n",
      "epoch:02 train_accuracy:0.2000 \n",
      "valid_loss:1.0437 valid_accuracy:0.8750\n",
      "---\n",
      "epoch:02 train_accuracy:0.5000 \n",
      "epoch:02 train_accuracy:0.1000 \n",
      "epoch:02 train_accuracy:0.4000 \n",
      "epoch:02 train_accuracy:0.3000 \n",
      "epoch:02 train_accuracy:0.0000 \n",
      "epoch:02 train_accuracy:0.5000 \n",
      "epoch:02 train_accuracy:0.6000 \n",
      "epoch:03 train_accuracy:0.3000 \n",
      "valid_loss:1.0700 valid_accuracy:0.5000\n",
      "---\n",
      "epoch:03 train_accuracy:0.1000 \n",
      "epoch:03 train_accuracy:0.3000 \n",
      "epoch:03 train_accuracy:0.6000 \n",
      "epoch:03 train_accuracy:0.0000 \n",
      "epoch:03 train_accuracy:0.3000 \n",
      "epoch:03 train_accuracy:0.3000 \n",
      "epoch:03 train_accuracy:0.4000 \n",
      "epoch:03 train_accuracy:0.5000 \n",
      "epoch:04 train_accuracy:0.3000 \n",
      "valid_loss:1.0845 valid_accuracy:0.6250\n",
      "---\n",
      "epoch:04 train_accuracy:0.6000 \n",
      "epoch:04 train_accuracy:0.2000 \n",
      "epoch:04 train_accuracy:0.1000 \n",
      "epoch:04 train_accuracy:0.1000 \n",
      "epoch:04 train_accuracy:0.4000 \n",
      "epoch:04 train_accuracy:0.5000 \n",
      "epoch:04 train_accuracy:0.1000 \n",
      "epoch:05 train_accuracy:0.3000 \n",
      "valid_loss:1.0805 valid_accuracy:0.5000\n",
      "---\n",
      "epoch:05 train_accuracy:0.5000 \n",
      "epoch:05 train_accuracy:0.6000 \n",
      "epoch:05 train_accuracy:0.3000 \n",
      "epoch:05 train_accuracy:0.5000 \n",
      "epoch:05 train_accuracy:0.4000 \n",
      "epoch:05 train_accuracy:0.3000 \n",
      "epoch:05 train_accuracy:0.5000 \n",
      "epoch:05 train_accuracy:0.5000 \n",
      "epoch:06 train_accuracy:0.2000 \n",
      "valid_loss:1.0554 valid_accuracy:0.5000\n",
      "---\n",
      "epoch:06 train_accuracy:0.5000 \n",
      "epoch:06 train_accuracy:0.4000 \n",
      "epoch:06 train_accuracy:0.5000 \n",
      "epoch:06 train_accuracy:0.4000 \n",
      "epoch:06 train_accuracy:0.4000 \n",
      "epoch:06 train_accuracy:0.5000 \n",
      "epoch:06 train_accuracy:0.6000 \n",
      "epoch:06 train_accuracy:0.6000 \n",
      "epoch:07 train_accuracy:0.4000 \n",
      "valid_loss:1.0411 valid_accuracy:0.7500\n",
      "---\n",
      "epoch:07 train_accuracy:0.5000 \n",
      "epoch:07 train_accuracy:0.3000 \n",
      "epoch:07 train_accuracy:0.7000 \n",
      "epoch:07 train_accuracy:0.6000 \n",
      "epoch:07 train_accuracy:0.5000 \n",
      "epoch:07 train_accuracy:0.4000 \n",
      "epoch:07 train_accuracy:0.6000 \n",
      "epoch:08 train_accuracy:0.6000 \n",
      "valid_loss:1.0260 valid_accuracy:0.7500\n",
      "---\n",
      "epoch:08 train_accuracy:0.5000 \n",
      "epoch:08 train_accuracy:0.6000 \n",
      "epoch:08 train_accuracy:0.6000 \n",
      "epoch:08 train_accuracy:0.5000 \n",
      "epoch:08 train_accuracy:0.5000 \n",
      "epoch:08 train_accuracy:0.7000 \n",
      "epoch:08 train_accuracy:0.5000 \n",
      "epoch:08 train_accuracy:0.5000 \n",
      "epoch:09 train_accuracy:0.6000 \n",
      "valid_loss:0.9966 valid_accuracy:0.5000\n",
      "---\n",
      "epoch:09 train_accuracy:0.4000 \n",
      "epoch:09 train_accuracy:0.4000 \n",
      "epoch:09 train_accuracy:0.5000 \n",
      "epoch:09 train_accuracy:0.7000 \n",
      "epoch:09 train_accuracy:0.3000 \n",
      "epoch:09 train_accuracy:0.6000 \n",
      "epoch:09 train_accuracy:0.5000 \n",
      "epoch:10 train_accuracy:0.5000 \n",
      "valid_loss:0.9823 valid_accuracy:0.5000\n",
      "---\n",
      "epoch:10 train_accuracy:0.4000 \n",
      "epoch:10 train_accuracy:0.7000 \n",
      "epoch:10 train_accuracy:0.5000 \n",
      "epoch:10 train_accuracy:0.5000 \n",
      "epoch:10 train_accuracy:0.7000 \n",
      "epoch:10 train_accuracy:0.6000 \n",
      "epoch:10 train_accuracy:0.4000 \n",
      "epoch:10 train_accuracy:0.6000 \n",
      "epoch:11 train_accuracy:0.4000 \n",
      "valid_loss:0.9599 valid_accuracy:0.5000\n",
      "---\n",
      "epoch:11 train_accuracy:0.7000 \n",
      "epoch:11 train_accuracy:0.6000 \n",
      "epoch:11 train_accuracy:0.8000 \n",
      "epoch:11 train_accuracy:0.7000 \n",
      "epoch:11 train_accuracy:0.4000 \n",
      "epoch:11 train_accuracy:0.6000 \n",
      "epoch:11 train_accuracy:0.5000 \n",
      "epoch:11 train_accuracy:0.5000 \n",
      "epoch:12 train_accuracy:0.6000 \n",
      "valid_loss:0.9490 valid_accuracy:0.5000\n",
      "---\n",
      "epoch:12 train_accuracy:0.6000 \n",
      "epoch:12 train_accuracy:0.4000 \n",
      "epoch:12 train_accuracy:0.9000 \n",
      "epoch:12 train_accuracy:0.3000 \n",
      "epoch:12 train_accuracy:0.6000 \n",
      "epoch:12 train_accuracy:0.5000 \n",
      "epoch:12 train_accuracy:0.5000 \n",
      "epoch:13 train_accuracy:0.7000 \n",
      "valid_loss:0.9166 valid_accuracy:0.5000\n",
      "---\n",
      "epoch:13 train_accuracy:0.7000 \n",
      "epoch:13 train_accuracy:0.4000 \n",
      "epoch:13 train_accuracy:0.6000 \n",
      "epoch:13 train_accuracy:1.0000 \n",
      "epoch:13 train_accuracy:0.6000 \n",
      "epoch:13 train_accuracy:0.4000 \n",
      "epoch:13 train_accuracy:0.9000 \n",
      "epoch:13 train_accuracy:0.8000 \n",
      "epoch:14 train_accuracy:0.6000 \n",
      "valid_loss:0.9022 valid_accuracy:0.5000\n",
      "---\n",
      "epoch:14 train_accuracy:0.7000 \n",
      "epoch:14 train_accuracy:0.5000 \n",
      "epoch:14 train_accuracy:0.8000 \n",
      "epoch:14 train_accuracy:0.9000 \n",
      "epoch:14 train_accuracy:0.6000 \n",
      "epoch:14 train_accuracy:0.5000 \n",
      "epoch:14 train_accuracy:0.7000 \n",
      "epoch:15 train_accuracy:0.6000 \n",
      "valid_loss:0.8792 valid_accuracy:0.5000\n",
      "---\n",
      "epoch:15 train_accuracy:0.7000 \n",
      "epoch:15 train_accuracy:0.7000 \n",
      "epoch:15 train_accuracy:0.6000 \n",
      "epoch:15 train_accuracy:0.4000 \n",
      "epoch:15 train_accuracy:0.8000 \n",
      "epoch:15 train_accuracy:0.8000 \n",
      "epoch:15 train_accuracy:0.6000 \n",
      "epoch:15 train_accuracy:0.8000 \n",
      "epoch:16 train_accuracy:0.8000 \n",
      "valid_loss:0.8650 valid_accuracy:0.5000\n",
      "---\n",
      "epoch:16 train_accuracy:0.6000 \n",
      "epoch:16 train_accuracy:0.8000 \n",
      "epoch:16 train_accuracy:0.7000 \n",
      "epoch:16 train_accuracy:0.7000 \n",
      "epoch:16 train_accuracy:0.7000 \n",
      "epoch:16 train_accuracy:0.7000 \n",
      "epoch:16 train_accuracy:0.4000 \n",
      "epoch:16 train_accuracy:0.7000 \n",
      "epoch:17 train_accuracy:0.6000 \n",
      "valid_loss:0.8498 valid_accuracy:0.5000\n",
      "---\n",
      "epoch:17 train_accuracy:0.9000 \n",
      "epoch:17 train_accuracy:0.6000 \n",
      "epoch:17 train_accuracy:0.5000 \n",
      "epoch:17 train_accuracy:0.7000 \n",
      "epoch:17 train_accuracy:0.6000 \n",
      "epoch:17 train_accuracy:0.7000 \n",
      "epoch:17 train_accuracy:0.8000 \n",
      "epoch:18 train_accuracy:0.5000 \n",
      "valid_loss:0.8251 valid_accuracy:0.5000\n",
      "---\n",
      "epoch:18 train_accuracy:0.7000 \n",
      "epoch:18 train_accuracy:0.8000 \n",
      "epoch:18 train_accuracy:0.8000 \n",
      "epoch:18 train_accuracy:0.5000 \n",
      "epoch:18 train_accuracy:0.7000 \n",
      "epoch:18 train_accuracy:0.8000 \n",
      "epoch:18 train_accuracy:0.6000 \n",
      "epoch:18 train_accuracy:0.6000 \n",
      "epoch:19 train_accuracy:0.7000 \n",
      "valid_loss:0.8117 valid_accuracy:0.5000\n",
      "---\n",
      "epoch:19 train_accuracy:0.9000 \n",
      "epoch:19 train_accuracy:0.5000 \n",
      "epoch:19 train_accuracy:0.7000 \n",
      "epoch:19 train_accuracy:0.9000 \n",
      "epoch:19 train_accuracy:0.7000 \n",
      "epoch:19 train_accuracy:0.6000 \n",
      "epoch:19 train_accuracy:0.8000 \n",
      "epoch:20 train_accuracy:0.7000 \n",
      "valid_loss:0.8049 valid_accuracy:0.5000\n",
      "---\n",
      "epoch:20 train_accuracy:0.6000 \n",
      "epoch:20 train_accuracy:0.8000 \n",
      "epoch:20 train_accuracy:0.8000 \n",
      "epoch:20 train_accuracy:0.7000 \n",
      "epoch:20 train_accuracy:0.8000 \n",
      "epoch:20 train_accuracy:0.9000 \n",
      "epoch:20 train_accuracy:0.6000 \n",
      "epoch:20 train_accuracy:0.7000 \n",
      "epoch:21 train_accuracy:0.4000 \n",
      "valid_loss:0.7922 valid_accuracy:0.5000\n",
      "---\n",
      "epoch:21 train_accuracy:0.5000 \n",
      "epoch:21 train_accuracy:0.8000 \n",
      "epoch:21 train_accuracy:0.7000 \n",
      "epoch:21 train_accuracy:0.7000 \n",
      "epoch:21 train_accuracy:0.7000 \n",
      "epoch:21 train_accuracy:0.8000 \n",
      "epoch:21 train_accuracy:0.7000 \n",
      "epoch:21 train_accuracy:0.7000 \n",
      "epoch:22 train_accuracy:0.8000 \n",
      "valid_loss:0.7728 valid_accuracy:0.6250\n",
      "---\n",
      "epoch:22 train_accuracy:0.7000 \n",
      "epoch:22 train_accuracy:0.7000 \n",
      "epoch:22 train_accuracy:0.8000 \n",
      "epoch:22 train_accuracy:0.8000 \n",
      "epoch:22 train_accuracy:0.9000 \n",
      "epoch:22 train_accuracy:0.8000 \n",
      "epoch:22 train_accuracy:0.7000 \n",
      "epoch:23 train_accuracy:0.8000 \n",
      "valid_loss:0.7579 valid_accuracy:0.5000\n",
      "---\n",
      "epoch:23 train_accuracy:0.7000 \n",
      "epoch:23 train_accuracy:0.8000 \n",
      "epoch:23 train_accuracy:0.7000 \n",
      "epoch:23 train_accuracy:0.9000 \n",
      "epoch:23 train_accuracy:0.8000 \n",
      "epoch:23 train_accuracy:0.7000 \n",
      "epoch:23 train_accuracy:1.0000 \n",
      "epoch:23 train_accuracy:0.8000 \n",
      "epoch:24 train_accuracy:0.8000 \n",
      "valid_loss:0.7468 valid_accuracy:0.6250\n",
      "---\n",
      "epoch:24 train_accuracy:0.7000 \n",
      "epoch:24 train_accuracy:0.8000 \n",
      "epoch:24 train_accuracy:0.7000 \n",
      "epoch:24 train_accuracy:0.8000 \n",
      "epoch:24 train_accuracy:0.5000 \n",
      "epoch:24 train_accuracy:0.5000 \n",
      "epoch:24 train_accuracy:0.9000 \n",
      "epoch:25 train_accuracy:1.0000 \n",
      "valid_loss:0.7302 valid_accuracy:0.8750\n",
      "---\n",
      "epoch:25 train_accuracy:0.7000 \n",
      "epoch:25 train_accuracy:1.0000 \n",
      "epoch:25 train_accuracy:0.8000 \n",
      "epoch:25 train_accuracy:1.0000 \n",
      "epoch:25 train_accuracy:1.0000 \n",
      "epoch:25 train_accuracy:0.8000 \n",
      "epoch:25 train_accuracy:0.9000 \n",
      "epoch:25 train_accuracy:0.7000 \n",
      "epoch:26 train_accuracy:0.7000 \n",
      "valid_loss:0.7169 valid_accuracy:0.8750\n",
      "---\n",
      "epoch:26 train_accuracy:1.0000 \n",
      "epoch:26 train_accuracy:1.0000 \n",
      "epoch:26 train_accuracy:1.0000 \n",
      "epoch:26 train_accuracy:0.8000 \n",
      "epoch:26 train_accuracy:0.7000 \n",
      "epoch:26 train_accuracy:0.9000 \n",
      "epoch:26 train_accuracy:1.0000 \n",
      "epoch:26 train_accuracy:0.9000 \n",
      "epoch:27 train_accuracy:0.8000 \n",
      "valid_loss:0.7077 valid_accuracy:0.8750\n",
      "---\n",
      "epoch:27 train_accuracy:1.0000 \n",
      "epoch:27 train_accuracy:0.9000 \n",
      "epoch:27 train_accuracy:0.9000 \n",
      "epoch:27 train_accuracy:0.8000 \n",
      "epoch:27 train_accuracy:0.7000 \n",
      "epoch:27 train_accuracy:1.0000 \n",
      "epoch:27 train_accuracy:0.8000 \n",
      "epoch:28 train_accuracy:0.7000 \n",
      "valid_loss:0.7059 valid_accuracy:0.8750\n",
      "---\n",
      "epoch:28 train_accuracy:0.7000 \n",
      "epoch:28 train_accuracy:0.9000 \n",
      "epoch:28 train_accuracy:0.8000 \n",
      "epoch:28 train_accuracy:1.0000 \n",
      "epoch:28 train_accuracy:0.8000 \n",
      "epoch:28 train_accuracy:0.7000 \n",
      "epoch:28 train_accuracy:1.0000 \n",
      "epoch:28 train_accuracy:0.9000 \n",
      "epoch:29 train_accuracy:0.8000 \n",
      "valid_loss:0.6993 valid_accuracy:0.8750\n",
      "---\n",
      "epoch:29 train_accuracy:0.6000 \n",
      "epoch:29 train_accuracy:1.0000 \n",
      "epoch:29 train_accuracy:1.0000 \n",
      "epoch:29 train_accuracy:1.0000 \n",
      "epoch:29 train_accuracy:0.9000 \n",
      "epoch:29 train_accuracy:0.9000 \n",
      "epoch:29 train_accuracy:0.7000 \n",
      "epoch:30 train_accuracy:0.7000 \n",
      "valid_loss:0.6860 valid_accuracy:0.8750\n",
      "---\n"
     ]
    }
   ],
   "source": [
    "train_iter.reset()\n",
    "valid_iter.reset()\n",
    "\n",
    "while train_iter.epoch < epoch: # 追加\n",
    "  \n",
    "\n",
    "  #　------------  学習の1イテレーション  ------------\n",
    "  \n",
    "  # データの取得\n",
    "  train_batch = train_iter.next() # 追加\n",
    "  x_train, t_train = concat_examples(train_batch)\n",
    "\n",
    "\n",
    "  # 予測値の計算\n",
    "  y_train = model(x_train)\n",
    "\n",
    "  # ロスの計算\n",
    "  loss_train = F.softmax_cross_entropy(y_train, t_train)\n",
    "\n",
    "  # 勾配の計算\n",
    "  model.cleargrads()\n",
    "  loss_train.backward()\n",
    "\n",
    "  # パラメータの更新\n",
    "  optimizer.update()\n",
    "\n",
    "  # 検証データで精度を計算\n",
    "  accuracy_train = F.accuracy(y_train, t_train)\n",
    "\n",
    "  \n",
    "  print('epoch:{:02d} train_accuracy:{:.04f} '.format(train_iter.epoch, accuracy_train.data, end=''))\n",
    "  \n",
    "#   ----------------  ここまで  ----------------   \n",
    "\n",
    "\n",
    "  if train_iter.is_new_epoch: # 新しいエポックに入った時のみ計算\n",
    "\n",
    "    while True:\n",
    "      # 検証データの取得   \n",
    "      valid_batch = valid_iter.next() # 追加\n",
    "      x_valid, t_valid = concat_examples(valid_batch)\n",
    "\n",
    "     # 検証用データで順伝播の計算を実行\n",
    "      with chainer.using_config('train', False), chainer.using_config('enable_backprop', False):\n",
    "        y_valid = model(x_valid)\n",
    "\n",
    "\n",
    "      # 検証データで損失関数を計算\n",
    "      loss_valid = F.softmax_cross_entropy(y_valid, t_valid)\n",
    "\n",
    "      # 検証データで精度を計算\n",
    "      accuracy_valid = F.accuracy(y_valid, t_valid)\n",
    "\n",
    "      if valid_iter.is_new_epoch: # 追加：1エポック計算し終わると、イテレーターをリセット\n",
    "        valid_iter.reset()\n",
    "        break\n",
    "\n",
    "     # 結果を表示  \n",
    "    print('valid_loss:{:.04f} valid_accuracy:{:.04f}'.format(loss_valid.data, accuracy_valid.data))\n",
    "    print('---')"
   ]
  },
  {
   "cell_type": "markdown",
   "metadata": {
    "colab_type": "text",
    "id": "f2s_2OcUSmqx"
   },
   "source": [
    "検証データに対する正解率の値が上がっていればうまくバッチノーマリゼーションがうまく適応されています。  \n",
    "\n",
    "このように、ディープラーニングでは、BatchNormalizationを含めた細かなポイントがあったりするため、調べながら進めてみてください。  \n",
    "\n",
    "Chainerでは、ほとんどの機能がすでに実装されているため、上記のコードのように少し付け加えるだけでその効果を検証できるため、非常に便利です。"
   ]
  },
  {
   "cell_type": "markdown",
   "metadata": {
    "colab_type": "text",
    "id": "8kpUH0xTSmqx"
   },
   "source": [
    "こちらでmodelsのフォルダ内に `wine.npz` というファイルができていれば学習済みモデルの保存が完了です。"
   ]
  },
  {
   "cell_type": "markdown",
   "metadata": {
    "colab_type": "text",
    "id": "icsi075ySmqy"
   },
   "source": [
    "## 学習済みモデルを使用した推論"
   ]
  },
  {
   "cell_type": "markdown",
   "metadata": {
    "colab_type": "text",
    "id": "pLEnpDrASmqy"
   },
   "source": [
    "## 学習済みモデルを保存\n",
    "\n",
    "前章と同様に`chainer.serializers.save_npz('ファイル名.npz', model)`を使用して学習済みモデルを保存します。"
   ]
  },
  {
   "cell_type": "code",
   "execution_count": 0,
   "metadata": {
    "colab": {},
    "colab_type": "code",
    "id": "rrKSOP1ASmqy"
   },
   "outputs": [],
   "source": [
    "chainer.serializers.save_npz('wine.npz', model)"
   ]
  },
  {
   "cell_type": "code",
   "execution_count": 294,
   "metadata": {
    "colab": {
     "base_uri": "https://localhost:8080/",
     "height": 34
    },
    "colab_type": "code",
    "executionInfo": {
     "elapsed": 1903,
     "status": "ok",
     "timestamp": 1547550728776,
     "user": {
      "displayName": "西沢衛",
      "photoUrl": "",
      "userId": "12011220225445512117"
     },
     "user_tz": -540
    },
    "id": "GB_zR7VtNhCb",
    "outputId": "e7df286c-8cc3-49fb-8cec-999e8c88c2f4"
   },
   "outputs": [
    {
     "name": "stdout",
     "output_type": "stream",
     "text": [
      "drive  my_iris.model  sample_data  wine.npz\n"
     ]
    }
   ],
   "source": [
    "!ls"
   ]
  },
  {
   "cell_type": "markdown",
   "metadata": {
    "colab_type": "text",
    "id": "U2xvJBPDSmq1"
   },
   "source": [
    "### 学習済みモデルのロード\n",
    "\n",
    "学習済みモデルは単にファイルをロードするだけでなく、まずはモデルの構造を明示しておき、そのモデルに対して、パラメータの値を当てはめながらロードしていくことになります。"
   ]
  },
  {
   "cell_type": "code",
   "execution_count": 0,
   "metadata": {
    "colab": {},
    "colab_type": "code",
    "id": "_GwwzhRWSmq1"
   },
   "outputs": [],
   "source": [
    "model = NN()"
   ]
  },
  {
   "cell_type": "code",
   "execution_count": 0,
   "metadata": {
    "colab": {},
    "colab_type": "code",
    "id": "mbxxyH1ASmq3"
   },
   "outputs": [],
   "source": [
    "chainer.serializers.load_npz('wine.npz', model)"
   ]
  },
  {
   "cell_type": "markdown",
   "metadata": {
    "colab_type": "text",
    "id": "hLAy5X8rSmq6"
   },
   "source": [
    "### 予測値の計算\n",
    "\n",
    "今回はテストデータ一番最初のサンプルに対する予測値を計算します。"
   ]
  },
  {
   "cell_type": "code",
   "execution_count": 0,
   "metadata": {
    "colab": {},
    "colab_type": "code",
    "id": "BQTkd4NySmq7"
   },
   "outputs": [],
   "source": [
    "x_test, t_test = test[0]"
   ]
  },
  {
   "cell_type": "code",
   "execution_count": 303,
   "metadata": {
    "colab": {
     "base_uri": "https://localhost:8080/",
     "height": 1429
    },
    "colab_type": "code",
    "executionInfo": {
     "elapsed": 2749,
     "status": "error",
     "timestamp": 1547551377545,
     "user": {
      "displayName": "西沢衛",
      "photoUrl": "",
      "userId": "12011220225445512117"
     },
     "user_tz": -540
    },
    "id": "r-fRivArSmq_",
    "outputId": "c5ff17f4-7f2a-45f0-bc01-2685e04899d0"
   },
   "outputs": [
    {
     "ename": "InvalidType",
     "evalue": "ignored",
     "output_type": "error",
     "traceback": [
      "\u001b[0;31m---------------------------------------------------------------------------\u001b[0m",
      "\u001b[0;31mInvalidType\u001b[0m                               Traceback (most recent call last)",
      "\u001b[0;32m<ipython-input-303-703a63e0ef27>\u001b[0m in \u001b[0;36m<module>\u001b[0;34m()\u001b[0m\n\u001b[1;32m      1\u001b[0m \u001b[0;32mwith\u001b[0m \u001b[0mchainer\u001b[0m\u001b[0;34m.\u001b[0m\u001b[0musing_config\u001b[0m\u001b[0;34m(\u001b[0m\u001b[0;34m'train'\u001b[0m\u001b[0;34m,\u001b[0m \u001b[0;32mFalse\u001b[0m\u001b[0;34m)\u001b[0m\u001b[0;34m,\u001b[0m \u001b[0mchainer\u001b[0m\u001b[0;34m.\u001b[0m\u001b[0musing_config\u001b[0m\u001b[0;34m(\u001b[0m\u001b[0;34m'enable_backprop'\u001b[0m\u001b[0;34m,\u001b[0m \u001b[0;32mFalse\u001b[0m\u001b[0;34m)\u001b[0m\u001b[0;34m:\u001b[0m\u001b[0;34m\u001b[0m\u001b[0;34m\u001b[0m\u001b[0m\n\u001b[0;32m----> 2\u001b[0;31m   \u001b[0my\u001b[0m \u001b[0;34m=\u001b[0m \u001b[0mmodel\u001b[0m\u001b[0;34m(\u001b[0m\u001b[0mx_test\u001b[0m\u001b[0;34m)\u001b[0m\u001b[0;34m\u001b[0m\u001b[0;34m\u001b[0m\u001b[0m\n\u001b[0m",
      "\u001b[0;32m/usr/local/lib/python3.6/dist-packages/chainer/link.py\u001b[0m in \u001b[0;36m__call__\u001b[0;34m(self, *args, **kwargs)\u001b[0m\n\u001b[1;32m    240\u001b[0m         \u001b[0;32mif\u001b[0m \u001b[0mforward\u001b[0m \u001b[0;32mis\u001b[0m \u001b[0;32mNone\u001b[0m\u001b[0;34m:\u001b[0m\u001b[0;34m\u001b[0m\u001b[0;34m\u001b[0m\u001b[0m\n\u001b[1;32m    241\u001b[0m             \u001b[0mforward\u001b[0m \u001b[0;34m=\u001b[0m \u001b[0mself\u001b[0m\u001b[0;34m.\u001b[0m\u001b[0mforward\u001b[0m\u001b[0;34m\u001b[0m\u001b[0;34m\u001b[0m\u001b[0m\n\u001b[0;32m--> 242\u001b[0;31m         \u001b[0mout\u001b[0m \u001b[0;34m=\u001b[0m \u001b[0mforward\u001b[0m\u001b[0;34m(\u001b[0m\u001b[0;34m*\u001b[0m\u001b[0margs\u001b[0m\u001b[0;34m,\u001b[0m \u001b[0;34m**\u001b[0m\u001b[0mkwargs\u001b[0m\u001b[0;34m)\u001b[0m\u001b[0;34m\u001b[0m\u001b[0;34m\u001b[0m\u001b[0m\n\u001b[0m\u001b[1;32m    243\u001b[0m \u001b[0;34m\u001b[0m\u001b[0m\n\u001b[1;32m    244\u001b[0m         \u001b[0;31m# Call forward_postprocess hook\u001b[0m\u001b[0;34m\u001b[0m\u001b[0;34m\u001b[0m\u001b[0;34m\u001b[0m\u001b[0m\n",
      "\u001b[0;32m<ipython-input-290-7ed5b53a5ce6>\u001b[0m in \u001b[0;36mforward\u001b[0;34m(self, x)\u001b[0m\n\u001b[1;32m     11\u001b[0m     \u001b[0;31m# 順伝播\u001b[0m\u001b[0;34m\u001b[0m\u001b[0;34m\u001b[0m\u001b[0;34m\u001b[0m\u001b[0m\n\u001b[1;32m     12\u001b[0m     \u001b[0;32mdef\u001b[0m \u001b[0mforward\u001b[0m\u001b[0;34m(\u001b[0m\u001b[0mself\u001b[0m\u001b[0;34m,\u001b[0m \u001b[0mx\u001b[0m\u001b[0;34m)\u001b[0m\u001b[0;34m:\u001b[0m\u001b[0;34m\u001b[0m\u001b[0;34m\u001b[0m\u001b[0m\n\u001b[0;32m---> 13\u001b[0;31m         \u001b[0mh\u001b[0m \u001b[0;34m=\u001b[0m \u001b[0mself\u001b[0m\u001b[0;34m.\u001b[0m\u001b[0mbn\u001b[0m\u001b[0;34m(\u001b[0m\u001b[0mx\u001b[0m\u001b[0;34m)\u001b[0m  \u001b[0;31m# Batch Normalizationの処理を追加\u001b[0m\u001b[0;34m\u001b[0m\u001b[0;34m\u001b[0m\u001b[0m\n\u001b[0m\u001b[1;32m     14\u001b[0m         \u001b[0mh\u001b[0m \u001b[0;34m=\u001b[0m \u001b[0mself\u001b[0m\u001b[0;34m.\u001b[0m\u001b[0mfc1\u001b[0m\u001b[0;34m(\u001b[0m\u001b[0mh\u001b[0m\u001b[0;34m)\u001b[0m\u001b[0;34m\u001b[0m\u001b[0;34m\u001b[0m\u001b[0m\n\u001b[1;32m     15\u001b[0m         \u001b[0mh\u001b[0m \u001b[0;34m=\u001b[0m \u001b[0mF\u001b[0m\u001b[0;34m.\u001b[0m\u001b[0mrelu\u001b[0m\u001b[0;34m(\u001b[0m\u001b[0mh\u001b[0m\u001b[0;34m)\u001b[0m\u001b[0;34m\u001b[0m\u001b[0;34m\u001b[0m\u001b[0m\n",
      "\u001b[0;32m/usr/local/lib/python3.6/dist-packages/chainer/link.py\u001b[0m in \u001b[0;36m__call__\u001b[0;34m(self, *args, **kwargs)\u001b[0m\n\u001b[1;32m    240\u001b[0m         \u001b[0;32mif\u001b[0m \u001b[0mforward\u001b[0m \u001b[0;32mis\u001b[0m \u001b[0;32mNone\u001b[0m\u001b[0;34m:\u001b[0m\u001b[0;34m\u001b[0m\u001b[0;34m\u001b[0m\u001b[0m\n\u001b[1;32m    241\u001b[0m             \u001b[0mforward\u001b[0m \u001b[0;34m=\u001b[0m \u001b[0mself\u001b[0m\u001b[0;34m.\u001b[0m\u001b[0mforward\u001b[0m\u001b[0;34m\u001b[0m\u001b[0;34m\u001b[0m\u001b[0m\n\u001b[0;32m--> 242\u001b[0;31m         \u001b[0mout\u001b[0m \u001b[0;34m=\u001b[0m \u001b[0mforward\u001b[0m\u001b[0;34m(\u001b[0m\u001b[0;34m*\u001b[0m\u001b[0margs\u001b[0m\u001b[0;34m,\u001b[0m \u001b[0;34m**\u001b[0m\u001b[0mkwargs\u001b[0m\u001b[0;34m)\u001b[0m\u001b[0;34m\u001b[0m\u001b[0;34m\u001b[0m\u001b[0m\n\u001b[0m\u001b[1;32m    243\u001b[0m \u001b[0;34m\u001b[0m\u001b[0m\n\u001b[1;32m    244\u001b[0m         \u001b[0;31m# Call forward_postprocess hook\u001b[0m\u001b[0;34m\u001b[0m\u001b[0;34m\u001b[0m\u001b[0;34m\u001b[0m\u001b[0m\n",
      "\u001b[0;32m/usr/local/lib/python3.6/dist-packages/chainer/links/normalization/batch_normalization.py\u001b[0m in \u001b[0;36mforward\u001b[0;34m(self, x, **kwargs)\u001b[0m\n\u001b[1;32m    303\u001b[0m             \u001b[0mvar\u001b[0m \u001b[0;34m=\u001b[0m \u001b[0mself\u001b[0m\u001b[0;34m.\u001b[0m\u001b[0mavg_var\u001b[0m\u001b[0;34m\u001b[0m\u001b[0;34m\u001b[0m\u001b[0m\n\u001b[1;32m    304\u001b[0m             ret = functions.fixed_batch_normalization(\n\u001b[0;32m--> 305\u001b[0;31m                 x, gamma, beta, mean, var, self.eps, axis=self.axis)\n\u001b[0m\u001b[1;32m    306\u001b[0m         \u001b[0;32mreturn\u001b[0m \u001b[0mret\u001b[0m\u001b[0;34m\u001b[0m\u001b[0;34m\u001b[0m\u001b[0m\n\u001b[1;32m    307\u001b[0m \u001b[0;34m\u001b[0m\u001b[0m\n",
      "\u001b[0;32m/usr/local/lib/python3.6/dist-packages/chainer/functions/normalization/batch_normalization.py\u001b[0m in \u001b[0;36mfixed_batch_normalization\u001b[0;34m(x, gamma, beta, mean, var, eps, axis)\u001b[0m\n\u001b[1;32m    868\u001b[0m     \"\"\"\n\u001b[1;32m    869\u001b[0m     return FixedBatchNormalization(eps, axis).apply((x, gamma, beta, mean,\n\u001b[0;32m--> 870\u001b[0;31m                                                      var))[0]\n\u001b[0m",
      "\u001b[0;32m/usr/local/lib/python3.6/dist-packages/chainer/function_node.py\u001b[0m in \u001b[0;36mapply\u001b[0;34m(self, inputs)\u001b[0m\n\u001b[1;32m    243\u001b[0m \u001b[0;34m\u001b[0m\u001b[0m\n\u001b[1;32m    244\u001b[0m         \u001b[0;32mif\u001b[0m \u001b[0mconfiguration\u001b[0m\u001b[0;34m.\u001b[0m\u001b[0mconfig\u001b[0m\u001b[0;34m.\u001b[0m\u001b[0mtype_check\u001b[0m\u001b[0;34m:\u001b[0m\u001b[0;34m\u001b[0m\u001b[0;34m\u001b[0m\u001b[0m\n\u001b[0;32m--> 245\u001b[0;31m             \u001b[0mself\u001b[0m\u001b[0;34m.\u001b[0m\u001b[0m_check_data_type_forward\u001b[0m\u001b[0;34m(\u001b[0m\u001b[0min_data\u001b[0m\u001b[0;34m)\u001b[0m\u001b[0;34m\u001b[0m\u001b[0;34m\u001b[0m\u001b[0m\n\u001b[0m\u001b[1;32m    246\u001b[0m \u001b[0;34m\u001b[0m\u001b[0m\n\u001b[1;32m    247\u001b[0m         \u001b[0mhooks\u001b[0m \u001b[0;34m=\u001b[0m \u001b[0mchainer\u001b[0m\u001b[0;34m.\u001b[0m\u001b[0mget_function_hooks\u001b[0m\u001b[0;34m(\u001b[0m\u001b[0;34m)\u001b[0m\u001b[0;34m\u001b[0m\u001b[0;34m\u001b[0m\u001b[0m\n",
      "\u001b[0;32m/usr/local/lib/python3.6/dist-packages/chainer/function_node.py\u001b[0m in \u001b[0;36m_check_data_type_forward\u001b[0;34m(self, in_data)\u001b[0m\n\u001b[1;32m    328\u001b[0m         \u001b[0min_type\u001b[0m \u001b[0;34m=\u001b[0m \u001b[0mtype_check\u001b[0m\u001b[0;34m.\u001b[0m\u001b[0mget_types\u001b[0m\u001b[0;34m(\u001b[0m\u001b[0min_data\u001b[0m\u001b[0;34m,\u001b[0m \u001b[0;34m'in_types'\u001b[0m\u001b[0;34m,\u001b[0m \u001b[0;32mFalse\u001b[0m\u001b[0;34m)\u001b[0m\u001b[0;34m\u001b[0m\u001b[0;34m\u001b[0m\u001b[0m\n\u001b[1;32m    329\u001b[0m         \u001b[0;32mwith\u001b[0m \u001b[0mtype_check\u001b[0m\u001b[0;34m.\u001b[0m\u001b[0mget_function_check_context\u001b[0m\u001b[0;34m(\u001b[0m\u001b[0mself\u001b[0m\u001b[0;34m)\u001b[0m\u001b[0;34m:\u001b[0m\u001b[0;34m\u001b[0m\u001b[0;34m\u001b[0m\u001b[0m\n\u001b[0;32m--> 330\u001b[0;31m             \u001b[0mself\u001b[0m\u001b[0;34m.\u001b[0m\u001b[0mcheck_type_forward\u001b[0m\u001b[0;34m(\u001b[0m\u001b[0min_type\u001b[0m\u001b[0;34m)\u001b[0m\u001b[0;34m\u001b[0m\u001b[0;34m\u001b[0m\u001b[0m\n\u001b[0m\u001b[1;32m    331\u001b[0m \u001b[0;34m\u001b[0m\u001b[0m\n\u001b[1;32m    332\u001b[0m     \u001b[0;32mdef\u001b[0m \u001b[0mcheck_type_forward\u001b[0m\u001b[0;34m(\u001b[0m\u001b[0mself\u001b[0m\u001b[0;34m,\u001b[0m \u001b[0min_types\u001b[0m\u001b[0;34m)\u001b[0m\u001b[0;34m:\u001b[0m\u001b[0;34m\u001b[0m\u001b[0;34m\u001b[0m\u001b[0m\n",
      "\u001b[0;32m/usr/local/lib/python3.6/dist-packages/chainer/functions/normalization/batch_normalization.py\u001b[0m in \u001b[0;36mcheck_type_forward\u001b[0;34m(self, in_types)\u001b[0m\n\u001b[1;32m    490\u001b[0m         \u001b[0m_key_axis\u001b[0m \u001b[0;34m=\u001b[0m \u001b[0m_compute_key_axis\u001b[0m\u001b[0;34m(\u001b[0m\u001b[0m_x_ndim\u001b[0m\u001b[0;34m,\u001b[0m \u001b[0m_gamma_ndim\u001b[0m\u001b[0;34m,\u001b[0m \u001b[0m_axis\u001b[0m\u001b[0;34m)\u001b[0m\u001b[0;34m\u001b[0m\u001b[0;34m\u001b[0m\u001b[0m\n\u001b[1;32m    491\u001b[0m         type_check.expect(\n\u001b[0;32m--> 492\u001b[0;31m             \u001b[0mgamma_type\u001b[0m\u001b[0;34m.\u001b[0m\u001b[0mndim\u001b[0m \u001b[0;34m==\u001b[0m \u001b[0mlen\u001b[0m\u001b[0;34m(\u001b[0m\u001b[0m_key_axis\u001b[0m\u001b[0;34m)\u001b[0m\u001b[0;34m,\u001b[0m\u001b[0;34m\u001b[0m\u001b[0;34m\u001b[0m\u001b[0m\n\u001b[0m\u001b[1;32m    493\u001b[0m         )\n\u001b[1;32m    494\u001b[0m         \u001b[0;32mfor\u001b[0m \u001b[0mi\u001b[0m \u001b[0;32min\u001b[0m \u001b[0mrange\u001b[0m\u001b[0;34m(\u001b[0m\u001b[0mlen\u001b[0m\u001b[0;34m(\u001b[0m\u001b[0m_key_axis\u001b[0m\u001b[0;34m)\u001b[0m\u001b[0;34m)\u001b[0m\u001b[0;34m:\u001b[0m\u001b[0;34m\u001b[0m\u001b[0;34m\u001b[0m\u001b[0m\n",
      "\u001b[0;32m/usr/local/lib/python3.6/dist-packages/chainer/utils/type_check.py\u001b[0m in \u001b[0;36mexpect\u001b[0;34m(*bool_exprs)\u001b[0m\n\u001b[1;32m    544\u001b[0m         \u001b[0;32mfor\u001b[0m \u001b[0mexpr\u001b[0m \u001b[0;32min\u001b[0m \u001b[0mbool_exprs\u001b[0m\u001b[0;34m:\u001b[0m\u001b[0;34m\u001b[0m\u001b[0;34m\u001b[0m\u001b[0m\n\u001b[1;32m    545\u001b[0m             \u001b[0;32massert\u001b[0m \u001b[0misinstance\u001b[0m\u001b[0;34m(\u001b[0m\u001b[0mexpr\u001b[0m\u001b[0;34m,\u001b[0m \u001b[0mTestable\u001b[0m\u001b[0;34m)\u001b[0m\u001b[0;34m\u001b[0m\u001b[0;34m\u001b[0m\u001b[0m\n\u001b[0;32m--> 546\u001b[0;31m             \u001b[0mexpr\u001b[0m\u001b[0;34m.\u001b[0m\u001b[0mexpect\u001b[0m\u001b[0;34m(\u001b[0m\u001b[0;34m)\u001b[0m\u001b[0;34m\u001b[0m\u001b[0;34m\u001b[0m\u001b[0m\n\u001b[0m\u001b[1;32m    547\u001b[0m \u001b[0;34m\u001b[0m\u001b[0m\n\u001b[1;32m    548\u001b[0m \u001b[0;34m\u001b[0m\u001b[0m\n",
      "\u001b[0;32m/usr/local/lib/python3.6/dist-packages/chainer/utils/type_check.py\u001b[0m in \u001b[0;36mexpect\u001b[0;34m(self)\u001b[0m\n\u001b[1;32m    481\u001b[0m             raise InvalidType(\n\u001b[1;32m    482\u001b[0m                 \u001b[0;34m'{0} {1} {2}'\u001b[0m\u001b[0;34m.\u001b[0m\u001b[0mformat\u001b[0m\u001b[0;34m(\u001b[0m\u001b[0mself\u001b[0m\u001b[0;34m.\u001b[0m\u001b[0mlhs\u001b[0m\u001b[0;34m,\u001b[0m \u001b[0mself\u001b[0m\u001b[0;34m.\u001b[0m\u001b[0mexp\u001b[0m\u001b[0;34m,\u001b[0m \u001b[0mself\u001b[0m\u001b[0;34m.\u001b[0m\u001b[0mrhs\u001b[0m\u001b[0;34m)\u001b[0m\u001b[0;34m,\u001b[0m\u001b[0;34m\u001b[0m\u001b[0;34m\u001b[0m\u001b[0m\n\u001b[0;32m--> 483\u001b[0;31m                 '{0} {1} {2}'.format(left, self.inv, right))\n\u001b[0m\u001b[1;32m    484\u001b[0m \u001b[0;34m\u001b[0m\u001b[0m\n\u001b[1;32m    485\u001b[0m \u001b[0;34m\u001b[0m\u001b[0m\n",
      "\u001b[0;31mInvalidType\u001b[0m: \nInvalid operation is performed in: FixedBatchNormalization (Forward)\n\nExpect: in_types[1].ndim == 0\nActual: 1 != 0"
     ]
    }
   ],
   "source": [
    "# 予測値の計算\n",
    "with chainer.using_config('train', False), chainer.using_config('enable_backprop', False):\n",
    "  y = model(x_test)"
   ]
  },
  {
   "cell_type": "markdown",
   "metadata": {
    "colab_type": "text",
    "id": "F4L6u2GaSmrA"
   },
   "source": [
    "推論で使用する際には、`(バッチサイズ, 入力変数の数)` という形式となっていないとエラーが起きます。\n",
    "今回であれば、`(1, 10)`が望ましいデータの形といえます。"
   ]
  },
  {
   "cell_type": "code",
   "execution_count": 0,
   "metadata": {
    "colab": {},
    "colab_type": "code",
    "id": "3EXTEg_ySmrA"
   },
   "outputs": [],
   "source": [
    "x_test = x_test[np.newaxis]"
   ]
  },
  {
   "cell_type": "code",
   "execution_count": 305,
   "metadata": {
    "colab": {
     "base_uri": "https://localhost:8080/",
     "height": 34
    },
    "colab_type": "code",
    "executionInfo": {
     "elapsed": 543,
     "status": "ok",
     "timestamp": 1547551392840,
     "user": {
      "displayName": "西沢衛",
      "photoUrl": "",
      "userId": "12011220225445512117"
     },
     "user_tz": -540
    },
    "id": "0OcCMpPNSmrB",
    "outputId": "30cfcfc3-3ecd-434b-da84-284cd734ca68"
   },
   "outputs": [
    {
     "data": {
      "text/plain": [
       "(1, 10)"
      ]
     },
     "execution_count": 305,
     "metadata": {
      "tags": []
     },
     "output_type": "execute_result"
    }
   ],
   "source": [
    "x_test.shape"
   ]
  },
  {
   "cell_type": "code",
   "execution_count": 306,
   "metadata": {
    "colab": {
     "base_uri": "https://localhost:8080/",
     "height": 34
    },
    "colab_type": "code",
    "executionInfo": {
     "elapsed": 676,
     "status": "ok",
     "timestamp": 1547551400374,
     "user": {
      "displayName": "西沢衛",
      "photoUrl": "",
      "userId": "12011220225445512117"
     },
     "user_tz": -540
    },
    "id": "OKeaeNKRSmrC",
    "outputId": "a6d223fd-09f1-4c0a-b300-128cc6bf3b83"
   },
   "outputs": [
    {
     "data": {
      "text/plain": [
       "variable([[-0.01799808,  0.72122264, -0.16773805]])"
      ]
     },
     "execution_count": 306,
     "metadata": {
      "tags": []
     },
     "output_type": "execute_result"
    }
   ],
   "source": [
    "# 予測値の計算\n",
    "with chainer.using_config('train', False), chainer.using_config('enable_backprop', False):\n",
    "  y = model(x_test)\n",
    "y"
   ]
  },
  {
   "cell_type": "code",
   "execution_count": 307,
   "metadata": {
    "colab": {
     "base_uri": "https://localhost:8080/",
     "height": 34
    },
    "colab_type": "code",
    "executionInfo": {
     "elapsed": 646,
     "status": "ok",
     "timestamp": 1547551403137,
     "user": {
      "displayName": "西沢衛",
      "photoUrl": "",
      "userId": "12011220225445512117"
     },
     "user_tz": -540
    },
    "id": "yg2FoWk9SmrE",
    "outputId": "f67a82df-8db2-4a8b-e951-8eb565a56cae"
   },
   "outputs": [
    {
     "data": {
      "text/plain": [
       "variable([[0.2528295 , 0.52950156, 0.21766897]])"
      ]
     },
     "execution_count": 307,
     "metadata": {
      "tags": []
     },
     "output_type": "execute_result"
    }
   ],
   "source": [
    "y = F.softmax(y)\n",
    "y"
   ]
  },
  {
   "cell_type": "code",
   "execution_count": 308,
   "metadata": {
    "colab": {
     "base_uri": "https://localhost:8080/",
     "height": 34
    },
    "colab_type": "code",
    "executionInfo": {
     "elapsed": 601,
     "status": "ok",
     "timestamp": 1547551404717,
     "user": {
      "displayName": "西沢衛",
      "photoUrl": "",
      "userId": "12011220225445512117"
     },
     "user_tz": -540
    },
    "id": "BcmwR6n9SmrF",
    "outputId": "0c44bd87-d10b-4455-a4be-79d28919438f"
   },
   "outputs": [
    {
     "data": {
      "text/plain": [
       "array([[0.2528295 , 0.52950156, 0.21766897]], dtype=float32)"
      ]
     },
     "execution_count": 308,
     "metadata": {
      "tags": []
     },
     "output_type": "execute_result"
    }
   ],
   "source": [
    "y.array"
   ]
  },
  {
   "cell_type": "code",
   "execution_count": 309,
   "metadata": {
    "colab": {
     "base_uri": "https://localhost:8080/",
     "height": 34
    },
    "colab_type": "code",
    "executionInfo": {
     "elapsed": 584,
     "status": "ok",
     "timestamp": 1547551407001,
     "user": {
      "displayName": "西沢衛",
      "photoUrl": "",
      "userId": "12011220225445512117"
     },
     "user_tz": -540
    },
    "id": "16E4IaxaSmrH",
    "outputId": "670ea4be-d536-4666-d41f-dd79c185fce0"
   },
   "outputs": [
    {
     "data": {
      "text/plain": [
       "1"
      ]
     },
     "execution_count": 309,
     "metadata": {
      "tags": []
     },
     "output_type": "execute_result"
    }
   ],
   "source": [
    "np.argmax(y.array)"
   ]
  },
  {
   "cell_type": "code",
   "execution_count": 310,
   "metadata": {
    "colab": {
     "base_uri": "https://localhost:8080/",
     "height": 34
    },
    "colab_type": "code",
    "executionInfo": {
     "elapsed": 579,
     "status": "ok",
     "timestamp": 1547551416371,
     "user": {
      "displayName": "西沢衛",
      "photoUrl": "",
      "userId": "12011220225445512117"
     },
     "user_tz": -540
    },
    "id": "e4p27VqaQHjT",
    "outputId": "ba25814c-24ef-467b-c384-19dfc6a9105b"
   },
   "outputs": [
    {
     "data": {
      "text/plain": [
       "1"
      ]
     },
     "execution_count": 310,
     "metadata": {
      "tags": []
     },
     "output_type": "execute_result"
    }
   ],
   "source": [
    "t_test"
   ]
  },
  {
   "cell_type": "markdown",
   "metadata": {
    "colab_type": "text",
    "id": "sUIrvzNsSmrH"
   },
   "source": [
    "このように学習済みモデルを使用した推論を実行できました。"
   ]
  },
  {
   "cell_type": "markdown",
   "metadata": {
    "colab_type": "text",
    "id": "oMqxJljhjFNI"
   },
   "source": [
    "次章では、回帰の実装方法についてお伝えします。分類とほとんど同じような実装方法となっております。"
   ]
  }
 ],
 "metadata": {
  "colab": {
   "collapsed_sections": [],
   "name": "7_Chainer(分類).ipynb",
   "provenance": [],
   "toc_visible": true,
   "version": "0.3.2"
  },
  "kernelspec": {
   "display_name": "Python 3",
   "language": "python",
   "name": "python3"
  },
  "language_info": {
   "codemirror_mode": {
    "name": "ipython",
    "version": 3
   },
   "file_extension": ".py",
   "mimetype": "text/x-python",
   "name": "python",
   "nbconvert_exporter": "python",
   "pygments_lexer": "ipython3",
   "version": "3.6.7"
  }
 },
 "nbformat": 4,
 "nbformat_minor": 1
}
