{
 "cells": [
  {
   "cell_type": "markdown",
   "metadata": {
    "colab_type": "text",
    "id": "OB7zs8TbuJXI"
   },
   "source": [
    "# 機械学習の基礎\n",
    "\n",
    "この章では2章で学んだ重回帰分析を実装していきます。  \n",
    "実装は数値計算に特化したパッケージであるNumpyを使用します。  \n",
    "その後、機械学習に特化したパッケージのscikit-learnを使用して、実装を行います。  \n",
    "\n",
    "パッケージとは、汎用性の高い複数のプログラムを再利用可能な形でひとまとまりにしたものです。  \n",
    "パッケージに関する言葉をここでまとめておきます。  \n",
    "\n",
    "- パッケージは「モジュール」を集めたモジュール群を指します\n",
    "- モジュールは「関数」や「クラス」を集めたファイルを指します\n",
    "\n",
    "\n",
    "## Numpyの基礎\n",
    "\n",
    "数値計算に特化したパッケージであるNumpyは機械学習で多く用いられる行列の演算を得意としています。  \n",
    "機械学習に特化したパッケージであるscikit-learnやディープラーニングに特化したフレームワークであるChainerはこのNumpyが基礎となって作成されていますので、Numpyの基礎がわかるとその他のパッケージの使用もスムーズに学習することができます。  \n",
    "まずはNumpyの基礎的な使用方法を理解します。  \n",
    "\n",
    "\n",
    "### Numpyのimport\n",
    "\n",
    "NumpyはGoogle Colaboratory上ではデフォルトで準備してあるため、インストールなどを行う必要はありません。  \n",
    "Numpyを`import`して呼び出しましょう。  \n",
    "\n",
    "Numpyは`np`と名前をつけて定義して呼び出すことが一般的です。  \n",
    "（頻繁に使用するパッケージは短縮系の名前をつけて定義することが一般的です。）  "
   ]
  },
  {
   "cell_type": "code",
   "execution_count": 0,
   "metadata": {
    "colab": {},
    "colab_type": "code",
    "id": "YGm0nN_vuWfY"
   },
   "outputs": [],
   "source": [
    "import numpy as np"
   ]
  },
  {
   "cell_type": "markdown",
   "metadata": {
    "colab_type": "text",
    "id": "SB5_Yx1qXAcN"
   },
   "source": [
    "### Numpyでベクトル、行列の定義\n",
    "\n",
    "Numpyでは`np.array()`を実行することによってベクトルや行列を定義できます。  \n",
    "また、表示の際に`print()`を使用すると書式を崩さずに表示することが可能です。\n"
   ]
  },
  {
   "cell_type": "code",
   "execution_count": 0,
   "metadata": {
    "colab": {
     "base_uri": "https://localhost:8080/",
     "height": 68
    },
    "colab_type": "code",
    "id": "HTartJBpvinm",
    "outputId": "e49c8724-a07d-445f-9d29-3c33dcf0685d"
   },
   "outputs": [
    {
     "name": "stdout",
     "output_type": "stream",
     "text": [
      "[[1]\n",
      " [2]\n",
      " [3]]\n"
     ]
    }
   ],
   "source": [
    "# ベクトルの定義\n",
    "a = np.array([[1], [2], [3]])\n",
    "\n",
    "print(a)"
   ]
  },
  {
   "cell_type": "code",
   "execution_count": 0,
   "metadata": {
    "colab": {
     "base_uri": "https://localhost:8080/",
     "height": 68
    },
    "colab_type": "code",
    "id": "u3MkTwo0jM1y",
    "outputId": "3df34c92-3c80-45d9-ca34-1813e9a064d0"
   },
   "outputs": [
    {
     "name": "stdout",
     "output_type": "stream",
     "text": [
      "[[1 2 3]\n",
      " [4 5 6]\n",
      " [7 8 9]]\n"
     ]
    }
   ],
   "source": [
    "# 行列の定義\n",
    "b = np .array([\n",
    "    [1, 2, 3],\n",
    "    [4, 5, 6],\n",
    "    [7, 8, 9],\n",
    "])\n",
    "\n",
    "print(b)"
   ]
  },
  {
   "cell_type": "markdown",
   "metadata": {
    "colab_type": "text",
    "id": "gQtt_qLLjeLQ"
   },
   "source": [
    "### ベクトル、行列の演算\n",
    "\n",
    "Numpyでは線形代数の演算を容易に行うことが可能です。  \n",
    "計算方法を確認します。\n",
    "\n",
    "\n",
    "#### 足し算と引き算と要素積\n",
    "\n",
    "足し算と引き算、要素積は一般的なPythonでの四則演算と同じく`+`、`-`、`*`を用いることで計算を行うことができます。  "
   ]
  },
  {
   "cell_type": "code",
   "execution_count": 0,
   "metadata": {
    "colab": {
     "base_uri": "https://localhost:8080/",
     "height": 68
    },
    "colab_type": "code",
    "id": "_hpNMPZpw24s",
    "outputId": "437539a6-e294-4e68-bd8d-7ed52b7124c4"
   },
   "outputs": [
    {
     "name": "stdout",
     "output_type": "stream",
     "text": [
      "[[ 2  3  4]\n",
      " [ 6  7  8]\n",
      " [10 11 12]]\n"
     ]
    }
   ],
   "source": [
    "# 足し算\n",
    "c = a + b\n",
    "print(c)"
   ]
  },
  {
   "cell_type": "code",
   "execution_count": 0,
   "metadata": {
    "colab": {
     "base_uri": "https://localhost:8080/",
     "height": 68
    },
    "colab_type": "code",
    "id": "wvy6PD2UkAi2",
    "outputId": "8ecd33c8-e2f7-4d51-f0f8-4a39a5b37a14"
   },
   "outputs": [
    {
     "name": "stdout",
     "output_type": "stream",
     "text": [
      "[[ 0 -1 -2]\n",
      " [-2 -3 -4]\n",
      " [-4 -5 -6]]\n"
     ]
    }
   ],
   "source": [
    "# 引き算\n",
    "c = a - b\n",
    "print(c)"
   ]
  },
  {
   "cell_type": "code",
   "execution_count": 0,
   "metadata": {
    "colab": {
     "base_uri": "https://localhost:8080/",
     "height": 68
    },
    "colab_type": "code",
    "id": "YPYJiD3HkAu9",
    "outputId": "1fcb6d97-f64f-424a-c188-0a8893403d89"
   },
   "outputs": [
    {
     "name": "stdout",
     "output_type": "stream",
     "text": [
      "[[ 1  2  3]\n",
      " [ 8 10 12]\n",
      " [21 24 27]]\n"
     ]
    }
   ],
   "source": [
    "# 要素積\n",
    "c = a * b\n",
    "print(c)"
   ]
  },
  {
   "cell_type": "markdown",
   "metadata": {
    "colab_type": "text",
    "id": "8Fd_G9JckA0Z"
   },
   "source": [
    "#### 行列積\n",
    "\n",
    "行列積は`np.dot(計算したい行列1, 計算したい行列2)`を使用して計算を行うことができます。  \n",
    "また現在`a`のサイズ感が 3行×1列、`b`が3行×3列になっているので、`a`を転置して、 1行×3列に変換してから行列積の計算を行います。"
   ]
  },
  {
   "cell_type": "code",
   "execution_count": 0,
   "metadata": {
    "colab": {
     "base_uri": "https://localhost:8080/",
     "height": 34
    },
    "colab_type": "code",
    "id": "_rMylHNEhpFs",
    "outputId": "72fc1de8-20c5-4f9f-f9c9-2d7c91cae708"
   },
   "outputs": [
    {
     "name": "stdout",
     "output_type": "stream",
     "text": [
      "[[1 2 3]]\n"
     ]
    }
   ],
   "source": [
    "# aの転置\n",
    "a = a.T\n",
    "print(a)"
   ]
  },
  {
   "cell_type": "code",
   "execution_count": 0,
   "metadata": {
    "colab": {
     "base_uri": "https://localhost:8080/",
     "height": 34
    },
    "colab_type": "code",
    "id": "ZUlLahIDkA6C",
    "outputId": "f88ef2e7-4476-498f-f7b3-b470f8befb79"
   },
   "outputs": [
    {
     "name": "stdout",
     "output_type": "stream",
     "text": [
      "[[30 36 42]]\n"
     ]
    }
   ],
   "source": [
    "# 行列積\n",
    "c = np.dot(a, b)\n",
    "print(c)"
   ]
  },
  {
   "cell_type": "markdown",
   "metadata": {
    "colab_type": "text",
    "id": "SmP5TOm7kA_V"
   },
   "source": [
    "### Numpy基本的なメソッド\n",
    "\n",
    "行列の計算を行う場合やChainerなどを使用する上で、行列のサイズやデータ型の確認などを行う必要があるケースがよくあります。  \n",
    "また、平均などの基本的な統計量を求めることもあります。  \n",
    "\n",
    "Numpyではそのような行列の概要や計算を行うためにメソッドが用意されています。  \n",
    "メソッドとは汎用的な処理（平均を求めるなど）をまとめたものをさします。  \n",
    "（厳密にはクラス内の関数をメソッドと呼びます。）  \n",
    "\n",
    "\n",
    "#### 行列のサイズの確認\n",
    "\n",
    "`.shape`を実行すると`（行, 列）`の形でサイズを確認することができます。  \n"
   ]
  },
  {
   "cell_type": "code",
   "execution_count": 0,
   "metadata": {
    "colab": {
     "base_uri": "https://localhost:8080/",
     "height": 68
    },
    "colab_type": "code",
    "id": "sEVnRCyQkBEP",
    "outputId": "0b9dad89-1165-45b0-8a75-4a7c6af84c70"
   },
   "outputs": [
    {
     "name": "stdout",
     "output_type": "stream",
     "text": [
      "[[1.1 2.1 3.2]\n",
      " [4.2 5.6 6.5]\n",
      " [7.1 8.2 9.3]]\n"
     ]
    }
   ],
   "source": [
    "# 行列の定義\n",
    "x = np.array([\n",
    "    [1.1, 2.1, 3.2],\n",
    "    [4.2, 5.6, 6.5],\n",
    "    [7.1, 8.2, 9.3],\n",
    "])\n",
    "\n",
    "print(x)"
   ]
  },
  {
   "cell_type": "code",
   "execution_count": 0,
   "metadata": {
    "colab": {
     "base_uri": "https://localhost:8080/",
     "height": 34
    },
    "colab_type": "code",
    "id": "5S5r_BlfnP1O",
    "outputId": "d80e8705-c70a-4198-d6d2-a9b8907f5115"
   },
   "outputs": [
    {
     "data": {
      "text/plain": [
       "(3, 3)"
      ]
     },
     "execution_count": 21,
     "metadata": {
      "tags": []
     },
     "output_type": "execute_result"
    }
   ],
   "source": [
    "# シェイプの確認\n",
    "x.shape"
   ]
  },
  {
   "cell_type": "markdown",
   "metadata": {
    "colab_type": "text",
    "id": "rbwEPWf9nt41"
   },
   "source": [
    "#### データ型の確認と変更\n",
    "\n",
    "`.dtype`でデータの型を確認することができます。  \n",
    "整数値は`int`、 実数値は`float`と表示されます。"
   ]
  },
  {
   "cell_type": "code",
   "execution_count": 0,
   "metadata": {
    "colab": {
     "base_uri": "https://localhost:8080/",
     "height": 34
    },
    "colab_type": "code",
    "id": "YJWVBfg3oEAs",
    "outputId": "d548f968-d63a-432d-9a6f-c677c6f785b3"
   },
   "outputs": [
    {
     "data": {
      "text/plain": [
       "dtype('float64')"
      ]
     },
     "execution_count": 22,
     "metadata": {
      "tags": []
     },
     "output_type": "execute_result"
    }
   ],
   "source": [
    "#　データ型の確認(実数値)\n",
    "x.dtype"
   ]
  },
  {
   "cell_type": "code",
   "execution_count": 0,
   "metadata": {
    "colab": {
     "base_uri": "https://localhost:8080/",
     "height": 34
    },
    "colab_type": "code",
    "id": "E6UqcewwoFOv",
    "outputId": "7b4c312b-a0cc-49c0-ede0-3f911843a482"
   },
   "outputs": [
    {
     "data": {
      "text/plain": [
       "dtype('int64')"
      ]
     },
     "execution_count": 23,
     "metadata": {
      "tags": []
     },
     "output_type": "execute_result"
    }
   ],
   "source": [
    "# データ型の確認（整数値）\n",
    "a.dtype"
   ]
  },
  {
   "cell_type": "markdown",
   "metadata": {
    "colab_type": "text",
    "id": "z1CxNPhvohuy"
   },
   "source": [
    "`float64`の`64bit型`が表すのは64bitを取り扱う整数値です。  \n",
    "Numpyのデフォルトでは`64bit型`となっていますが、Chainerで使用する際には`32bit型`に変更する必要があります。  \n",
    "変更には`.astype('float32')`の様に指定することによって実行できます。"
   ]
  },
  {
   "cell_type": "code",
   "execution_count": 0,
   "metadata": {
    "colab": {
     "base_uri": "https://localhost:8080/",
     "height": 34
    },
    "colab_type": "code",
    "id": "lfPcEtiupXK3",
    "outputId": "f71c00b5-ba46-4c05-f4aa-e10bf2d54eff"
   },
   "outputs": [
    {
     "data": {
      "text/plain": [
       "dtype('float32')"
      ]
     },
     "execution_count": 24,
     "metadata": {
      "tags": []
     },
     "output_type": "execute_result"
    }
   ],
   "source": [
    "# データ型の変更\n",
    "x = x.astype('float32')\n",
    "x.dtype"
   ]
  },
  {
   "cell_type": "markdown",
   "metadata": {
    "colab_type": "text",
    "id": "4SH7NONRpfO1"
   },
   "source": [
    "#### 基本的な統計量の求め方\n",
    "\n",
    "基本的な統計量として下記の値の算出方法を紹介します。  \n",
    "\n",
    "- 平均値\n",
    "- 標準偏差\n",
    "- 最大値\n",
    "- 最小値\n",
    "\n",
    "Numpyではそれぞれメソッドが用意されているので、1行で処理をおこなことができます。  \n"
   ]
  },
  {
   "cell_type": "code",
   "execution_count": 0,
   "metadata": {
    "colab": {
     "base_uri": "https://localhost:8080/",
     "height": 34
    },
    "colab_type": "code",
    "id": "Vrkpn1d4qBNF",
    "outputId": "b12d73fb-4f14-4d42-8ae3-e371d974cd81"
   },
   "outputs": [
    {
     "data": {
      "text/plain": [
       "5.2555556"
      ]
     },
     "execution_count": 26,
     "metadata": {
      "tags": []
     },
     "output_type": "execute_result"
    }
   ],
   "source": [
    "# 平均値\n",
    "x.mean()"
   ]
  },
  {
   "cell_type": "code",
   "execution_count": 0,
   "metadata": {
    "colab": {
     "base_uri": "https://localhost:8080/",
     "height": 34
    },
    "colab_type": "code",
    "id": "OwpUSNzeqMLq",
    "outputId": "72782836-d190-4a10-ebeb-155378b2fb65"
   },
   "outputs": [
    {
     "data": {
      "text/plain": [
       "2.6386492"
      ]
     },
     "execution_count": 27,
     "metadata": {
      "tags": []
     },
     "output_type": "execute_result"
    }
   ],
   "source": [
    "# 標準偏差\n",
    "x.std()"
   ]
  },
  {
   "cell_type": "code",
   "execution_count": 0,
   "metadata": {
    "colab": {
     "base_uri": "https://localhost:8080/",
     "height": 34
    },
    "colab_type": "code",
    "id": "xw_9lddYqcHF",
    "outputId": "32f3b1f5-c130-42fa-ac9c-9941ea194d04"
   },
   "outputs": [
    {
     "data": {
      "text/plain": [
       "9.3"
      ]
     },
     "execution_count": 28,
     "metadata": {
      "tags": []
     },
     "output_type": "execute_result"
    }
   ],
   "source": [
    "# 最大値\n",
    "x.max()"
   ]
  },
  {
   "cell_type": "code",
   "execution_count": 0,
   "metadata": {
    "colab": {
     "base_uri": "https://localhost:8080/",
     "height": 34
    },
    "colab_type": "code",
    "id": "zls9oBfsqfJn",
    "outputId": "dd7dd7fb-98bb-4e10-aee2-38d895c55da2"
   },
   "outputs": [
    {
     "data": {
      "text/plain": [
       "1.1"
      ]
     },
     "execution_count": 29,
     "metadata": {
      "tags": []
     },
     "output_type": "execute_result"
    }
   ],
   "source": [
    "# 最小値\n",
    "x.min()"
   ]
  },
  {
   "cell_type": "markdown",
   "metadata": {
    "colab_type": "text",
    "id": "rizbDSYpqj_r"
   },
   "source": [
    "### スライス\n",
    "\n",
    "Pythonの基礎でも要素の中身を取り出す「スライス」を実行しましたが、  \n",
    "Numpyの行列でも実行することができます。\n",
    "\n",
    "行列でも同じく`[]`を使用して要素の取り出しを行うことが可能です。  "
   ]
  },
  {
   "cell_type": "code",
   "execution_count": 0,
   "metadata": {
    "colab": {
     "base_uri": "https://localhost:8080/",
     "height": 34
    },
    "colab_type": "code",
    "id": "K-fAZWMuq1lt",
    "outputId": "b975271e-09c8-43b6-8f58-94c171599ac0"
   },
   "outputs": [
    {
     "name": "stdout",
     "output_type": "stream",
     "text": [
      "[1.1 2.1 3.2]\n"
     ]
    }
   ],
   "source": [
    "# 行方向にスライス（0サンプル目を取得）\n",
    "print(x[0])"
   ]
  },
  {
   "cell_type": "markdown",
   "metadata": {
    "colab_type": "text",
    "id": "e7vQqvlprBNC"
   },
   "source": [
    "`:`を使用すると範囲を指定することができます。"
   ]
  },
  {
   "cell_type": "code",
   "execution_count": 0,
   "metadata": {
    "colab": {
     "base_uri": "https://localhost:8080/",
     "height": 51
    },
    "colab_type": "code",
    "id": "itpWNIPerX4b",
    "outputId": "743e5e72-f343-466d-c3a4-a6d44435197d"
   },
   "outputs": [
    {
     "name": "stdout",
     "output_type": "stream",
     "text": [
      "[[1.1 2.1 3.2]\n",
      " [4.2 5.6 6.5]]\n"
     ]
    }
   ],
   "source": [
    "# 0~2サンプル目までを取得\n",
    "print(x[0:2])"
   ]
  },
  {
   "cell_type": "markdown",
   "metadata": {
    "colab_type": "text",
    "id": "9Bs_84phrY2a"
   },
   "source": [
    "列方向に対しても取得する値を指定できます。"
   ]
  },
  {
   "cell_type": "code",
   "execution_count": 0,
   "metadata": {
    "colab": {
     "base_uri": "https://localhost:8080/",
     "height": 51
    },
    "colab_type": "code",
    "id": "p80HinbbruGO",
    "outputId": "a4f8ca5b-5ed6-4132-b054-c0295b2b6c0e"
   },
   "outputs": [
    {
     "name": "stdout",
     "output_type": "stream",
     "text": [
      "[[1.1 2.1]\n",
      " [4.2 5.6]]\n"
     ]
    }
   ],
   "source": [
    "# 0~2サンプル目の0~2列目までを取得\n",
    "print(x[0:2, 0:2])"
   ]
  },
  {
   "cell_type": "markdown",
   "metadata": {
    "colab_type": "text",
    "id": "7nYrs7F1r2Fe"
   },
   "source": [
    "`:`は開始の値を指定しないと「0」が入り、  \n",
    "終わりの値を指定しないと、「全て」を意味します。"
   ]
  },
  {
   "cell_type": "code",
   "execution_count": 0,
   "metadata": {
    "colab": {
     "base_uri": "https://localhost:8080/",
     "height": 68
    },
    "colab_type": "code",
    "id": "f2QortFosVRY",
    "outputId": "abdd2d23-c876-4c98-84ab-229aaf5dcf39"
   },
   "outputs": [
    {
     "name": "stdout",
     "output_type": "stream",
     "text": [
      "[[1.1 2.1]\n",
      " [4.2 5.6]\n",
      " [7.1 8.2]]\n"
     ]
    }
   ],
   "source": [
    "# 全てのサンプル、0から2列目までを取得\n",
    "print(x[:, :2])"
   ]
  },
  {
   "cell_type": "markdown",
   "metadata": {
    "colab_type": "text",
    "id": "rulZyy5osZxR"
   },
   "source": [
    "## Numpyを用いて重回帰分析の実装\n",
    "\n",
    "Numpyの使用方法を理解したところで、前章で学んだ重回帰分析をNumpyを使用して実装していきます。  \n",
    "\n",
    "重回帰分析の計算式は下記です。  \n",
    "\n",
    "$$\n",
    "{\\bf X} = \\left[\n",
    "    \\begin{array}{rrr}\n",
    "      1 & 2 & 3 \\\\\n",
    "      1 & 2 & 5 \\\\\n",
    "      1 & 3 & 4 \\\\\n",
    "      1 & 5 & 9\n",
    "    \\end{array}\n",
    "  \\right],\n",
    " {\\bf t} = \\left[\n",
    "    \\begin{array}{rrr}\n",
    "      1 \\\\\n",
    "      5 \\\\\n",
    "      6 \\\\\n",
    "      8\n",
    "    \\end{array}\n",
    "  \\right]  \n",
    "$$  \n",
    "  \n",
    "$$\n",
    "{\\bf w} = ({\\bf X}^{\\mathrm{T}}{\\bf X})^{\\mathrm{-1}}{\\bf X}^{\\mathrm{T}}{\\bf t}\n",
    "$$  \n",
    "  \n",
    "${\\bf X}, {\\bf t}$ を用いて ${\\bf w}$ の値をNumpyを使用して計算します。  \n",
    "\n",
    "### 行列の定義\n",
    "\n",
    "計算を行うために行列を定義します。  "
   ]
  },
  {
   "cell_type": "code",
   "execution_count": 0,
   "metadata": {
    "colab": {},
    "colab_type": "code",
    "id": "z3zd2AjNtfAz"
   },
   "outputs": [],
   "source": [
    "import numpy as np"
   ]
  },
  {
   "cell_type": "code",
   "execution_count": 0,
   "metadata": {
    "colab": {
     "base_uri": "https://localhost:8080/",
     "height": 85
    },
    "colab_type": "code",
    "id": "0grPocVNvn3P",
    "outputId": "84044dbb-f91b-4cbd-f491-2928585fead3"
   },
   "outputs": [
    {
     "name": "stdout",
     "output_type": "stream",
     "text": [
      "[[1 2 3]\n",
      " [1 2 5]\n",
      " [1 3 4]\n",
      " [1 5 9]]\n"
     ]
    }
   ],
   "source": [
    "# Xの定義\n",
    "x = np.array([\n",
    "    [1, 2, 3],\n",
    "    [1, 2, 5],\n",
    "    [1, 3, 4],\n",
    "    [1, 5, 9],\n",
    "])\n",
    "\n",
    "print(x)"
   ]
  },
  {
   "cell_type": "code",
   "execution_count": 0,
   "metadata": {
    "colab": {
     "base_uri": "https://localhost:8080/",
     "height": 85
    },
    "colab_type": "code",
    "id": "eU0UlmKrvxVK",
    "outputId": "9e6b7655-0ea9-4c77-fa43-e4b82fcc9898"
   },
   "outputs": [
    {
     "name": "stdout",
     "output_type": "stream",
     "text": [
      "[[1]\n",
      " [5]\n",
      " [6]\n",
      " [8]]\n"
     ]
    }
   ],
   "source": [
    "# yの定義\n",
    "t = np.array([\n",
    "    [1],\n",
    "    [5],\n",
    "    [6],\n",
    "    [8]\n",
    "])\n",
    "\n",
    "print(t)"
   ]
  },
  {
   "cell_type": "markdown",
   "metadata": {
    "colab_type": "text",
    "id": "BsRcgsRGwDdT"
   },
   "source": [
    "今回は行列の全体像が小さく、目視で確認することが可能です。  \n",
    "しかし、実際には全体の数を目視で確認することができないケースのほうがい多いです。  \n",
    "\n",
    "行列を定義した後は必ず中身を確認します。"
   ]
  },
  {
   "cell_type": "code",
   "execution_count": 0,
   "metadata": {
    "colab": {
     "base_uri": "https://localhost:8080/",
     "height": 34
    },
    "colab_type": "code",
    "id": "CH0YOVjlv8AH",
    "outputId": "6583caeb-43b3-462b-919a-ac31184649aa"
   },
   "outputs": [
    {
     "data": {
      "text/plain": [
       "(4, 3)"
      ]
     },
     "execution_count": 43,
     "metadata": {
      "tags": []
     },
     "output_type": "execute_result"
    }
   ],
   "source": [
    "# サイズ感の確認\n",
    "x.shape"
   ]
  },
  {
   "cell_type": "code",
   "execution_count": 0,
   "metadata": {
    "colab": {
     "base_uri": "https://localhost:8080/",
     "height": 34
    },
    "colab_type": "code",
    "id": "7xDFmdE4wArN",
    "outputId": "6716b0bf-3575-434f-eb76-823387cfc7dc"
   },
   "outputs": [
    {
     "data": {
      "text/plain": [
       "(4, 1)"
      ]
     },
     "execution_count": 44,
     "metadata": {
      "tags": []
     },
     "output_type": "execute_result"
    }
   ],
   "source": [
    "t.shape"
   ]
  },
  {
   "cell_type": "markdown",
   "metadata": {
    "colab_type": "text",
    "id": "UX4hYhjtwBlK"
   },
   "source": [
    "Xのシェイプを見ると4サンプル、2入力変数(1列目の1はダミーの列なため)ということが確認できます。  \n",
    "\n",
    "計算を行い ${\\bf w}$ の値を求めていきます。  \n",
    "計算は全体を一度に行うのではなく、要素ごとに分解して行います。  \n",
    "\n",
    "Step1 : ${\\bf X}^{\\mathrm{T}}{\\bf X}$  \n",
    "\n",
    "Step2 : $({\\bf X}^{\\mathrm{T}}{\\bf X})^{\\mathrm{-1}}$  \n",
    "\n",
    "Step3 : ${\\bf X}^{\\mathrm{T}}{\\bf t}$  \n",
    "\n",
    "Step4 : ${\\bf w} = \n",
    "({\\bf X}^{\\mathrm{T}}{\\bf X})^{\\mathrm{-1}}{\\bf X}^{\\mathrm{T}}{\\bf t}$  "
   ]
  },
  {
   "cell_type": "code",
   "execution_count": 0,
   "metadata": {
    "colab": {
     "base_uri": "https://localhost:8080/",
     "height": 68
    },
    "colab_type": "code",
    "id": "r_s8lxK9wvFW",
    "outputId": "5f69d92a-87c5-416e-d069-3f4e97b68fc6"
   },
   "outputs": [
    {
     "name": "stdout",
     "output_type": "stream",
     "text": [
      "[[  4  12  21]\n",
      " [ 12  42  73]\n",
      " [ 21  73 131]]\n"
     ]
    }
   ],
   "source": [
    "# Step1\n",
    "xx = np.dot(x.T, x)\n",
    "print(xx)"
   ]
  },
  {
   "cell_type": "code",
   "execution_count": 0,
   "metadata": {
    "colab": {
     "base_uri": "https://localhost:8080/",
     "height": 68
    },
    "colab_type": "code",
    "id": "V4ZpY_CLxuRX",
    "outputId": "22121af8-cf83-45c0-a5e8-28dc5fd37c37"
   },
   "outputs": [
    {
     "name": "stdout",
     "output_type": "stream",
     "text": [
      "[[ 1.76530612 -0.39795918 -0.06122449]\n",
      " [-0.39795918  0.84693878 -0.40816327]\n",
      " [-0.06122449 -0.40816327  0.24489796]]\n"
     ]
    }
   ],
   "source": [
    "# Step2\n",
    "xx_inv = np.linalg.inv(xx)\n",
    "print(xx_inv)"
   ]
  },
  {
   "cell_type": "markdown",
   "metadata": {
    "colab_type": "text",
    "id": "s40OeZJ0yJw5"
   },
   "source": [
    "逆行列の計算は`np.linalg.inv()`で行うことができます。  "
   ]
  },
  {
   "cell_type": "code",
   "execution_count": 0,
   "metadata": {
    "colab": {
     "base_uri": "https://localhost:8080/",
     "height": 68
    },
    "colab_type": "code",
    "id": "YR6kbSD1x3XU",
    "outputId": "2b7a7b9d-c5f4-4911-f38a-e847bef193f1"
   },
   "outputs": [
    {
     "name": "stdout",
     "output_type": "stream",
     "text": [
      "[[ 20]\n",
      " [ 70]\n",
      " [124]]\n"
     ]
    }
   ],
   "source": [
    "# Step３\n",
    "xt = np.dot(x.T, t)\n",
    "print(xt)"
   ]
  },
  {
   "cell_type": "code",
   "execution_count": 0,
   "metadata": {
    "colab": {
     "base_uri": "https://localhost:8080/",
     "height": 68
    },
    "colab_type": "code",
    "id": "oBBA-NRbybHK",
    "outputId": "1ca2f3eb-300a-4f1c-d7b6-ac647ac62d73"
   },
   "outputs": [
    {
     "name": "stdout",
     "output_type": "stream",
     "text": [
      "[[-0.14285714]\n",
      " [ 0.71428571]\n",
      " [ 0.57142857]]\n"
     ]
    }
   ],
   "source": [
    "# Step4\n",
    "w = np.dot(xx_inv, xt)\n",
    "print(w)"
   ]
  },
  {
   "cell_type": "markdown",
   "metadata": {
    "colab_type": "text",
    "id": "TgurslM3yidJ"
   },
   "source": [
    "この様にして、行列の演算をNumpyを使用して計算を行うことができました。  \n",
    "次に紹介するscikit-learnを使用すればこの様な行列の計算は不要ですが、機械学習の仕組み・中身を把握する上で実際に数値を取り扱って計算を行うことは重要だということは覚えておきましょう。  \n",
    "\n",
    "\n",
    "\n",
    "## scikit-learnの基礎\n",
    "\n",
    "前節で実装した重回帰分析を機械学習の特化したパッケージであるscikit-learnを用いて実装していきます。  \n",
    "ディープラーニング以外の手法に関してはこちらのscikit-learnを用いて実装することが一般的です。  \n",
    "\n",
    "ディープラーニングに関してはChainerを用いて実装を行なっていきます。その前に基本的な機械学習の手法をscikit-learnを用いて実装する方法を学び、機械学習の基礎を理解します。  \n",
    "\n",
    "scikit-learnでは様々な手法がすでに用意されており、簡単に使用することが可能です。  \n",
    "[公式のドキュメント](https://scikit-learn.org/stable/)を参照するとそれぞれの手法を確認することができます。  \n",
    "\n",
    "\n",
    "### scikit-learnが用意しているもの\n",
    "\n",
    "scikit-learnでは大きく分けて6つのセクションに分けて機械学習に関する機能を準備しています。  \n",
    "\n",
    "- Classification（分類）\n",
    "- Regression（回帰）\n",
    "- Clustering（クラスタリング）\n",
    "- Dimensionality reduction（次元削減）\n",
    "- Model selection（モデルのチューニング）\n",
    "- Preprocessing（前処理）\n",
    "\n",
    "これらの機能を使い分けること様々な機械学習に関する問題設定に対応することができます。  \n",
    "\n",
    "\n",
    "### scikit-learnで重回帰分析の実装\n",
    "\n",
    "今回は回帰の手法である重回帰分析を実装します。  \n",
    "重回帰分析は英語で`Linear Regression`と呼ばれます。  \n",
    "\n",
    "scikit-learnの中にも重回帰分析のモジュールが用意されているので、そちらを呼び出して使用します。  \n",
    "詳細は[公式のドキュメント](https://scikit-learn.org/stable/modules/linear_model.html#ordinary-least-squares)を確認してください。\n",
    "\n",
    "scikit-learnを全て読み込んで使用しても問題ありませんが、全て読み込むと重くなるので、使用するモジュールのみを指定して読み込みます。\n",
    "\n"
   ]
  },
  {
   "cell_type": "code",
   "execution_count": 0,
   "metadata": {
    "colab": {},
    "colab_type": "code",
    "id": "JE9OwbcFzUi_"
   },
   "outputs": [],
   "source": [
    "# 重回帰分析のみ読み込み\n",
    "from sklearn.linear_model import LinearRegression"
   ]
  },
  {
   "cell_type": "markdown",
   "metadata": {
    "colab_type": "text",
    "id": "p8-Fwbao2zp7"
   },
   "source": [
    "scikit-learnの使用方法は主に3つのステップに分けられることを覚えておきましょう。  \n",
    "\n",
    "1. モデルの宣言：どの手法を使うのか宣言を行います\n",
    "2. モデルの学習：宣言した手法を用いて学習を実行します\n",
    "3. モデルの検証：学習済みモデルを使用して、精度を検証します\n",
    "\n",
    "実際に実装していきます。"
   ]
  },
  {
   "cell_type": "code",
   "execution_count": 0,
   "metadata": {
    "colab": {},
    "colab_type": "code",
    "id": "QLxsQ11I3OG-"
   },
   "outputs": [],
   "source": [
    "# モデルの宣言 \n",
    "model = LinearRegression(fit_intercept=False)"
   ]
  },
  {
   "cell_type": "markdown",
   "metadata": {
    "colab_type": "text",
    "id": "fWcEwctR36Dj"
   },
   "source": [
    "scikit-learnのデフォルトで1列目のダミーの列を考慮する様な使用になっています。  \n",
    "そこで`fit_intercept=False`とすることによってダミーの1列目をこちら側で準備したと伝えています。  "
   ]
  },
  {
   "cell_type": "code",
   "execution_count": 0,
   "metadata": {
    "colab": {
     "base_uri": "https://localhost:8080/",
     "height": 51
    },
    "colab_type": "code",
    "id": "DJbiWfeg3V1L",
    "outputId": "e0bcfda1-71fa-43b2-852a-bb1b39c9c3d3"
   },
   "outputs": [
    {
     "data": {
      "text/plain": [
       "LinearRegression(copy_X=True, fit_intercept=False, n_jobs=None,\n",
       "         normalize=False)"
      ]
     },
     "execution_count": 54,
     "metadata": {
      "tags": []
     },
     "output_type": "execute_result"
    }
   ],
   "source": [
    "# モデルの学習\n",
    "model.fit(x, t)"
   ]
  },
  {
   "cell_type": "markdown",
   "metadata": {
    "colab_type": "text",
    "id": "4h-Isref4kCB"
   },
   "source": [
    "学習（パラメータの調整）が完了したので、パラメータがどの様な値になっているのか確認します。  \n",
    "確認には`model.coef_`とすれば確認することができます。  "
   ]
  },
  {
   "cell_type": "code",
   "execution_count": 0,
   "metadata": {
    "colab": {
     "base_uri": "https://localhost:8080/",
     "height": 34
    },
    "colab_type": "code",
    "id": "Q_-9poc-3cft",
    "outputId": "8476bac7-23fc-400f-d8ff-c2d6a6e807b0"
   },
   "outputs": [
    {
     "data": {
      "text/plain": [
       "array([[-0.14285714,  0.71428571,  0.57142857]])"
      ]
     },
     "execution_count": 55,
     "metadata": {
      "tags": []
     },
     "output_type": "execute_result"
    }
   ],
   "source": [
    "# 調整後のパラメータの確認\n",
    "model.coef_"
   ]
  },
  {
   "cell_type": "markdown",
   "metadata": {
    "colab_type": "text",
    "id": "hQXB57Gr4xd_"
   },
   "source": [
    "先ほどNumpyで計算した時の重みと同じ値になっていることが確認できます。  \n",
    "この様にscikit-learnを用いることによって簡単に機械学習のモデルを構築することができます。  \n",
    "\n",
    "学習ずみモデルができましたら、どれ程の予測精度があるのか確認する必要があります。  \n",
    "\n",
    "確認は`model.score(X, y)`で確認することができます。  \n",
    "回帰の場合は基本的に「決定係数」を用いて評価されます。  \n",
    "1に近づくほど結果がいい事を示しています。"
   ]
  },
  {
   "cell_type": "code",
   "execution_count": 0,
   "metadata": {
    "colab": {
     "base_uri": "https://localhost:8080/",
     "height": 34
    },
    "colab_type": "code",
    "id": "6uNksu9X3pMF",
    "outputId": "47cff76c-60e6-4a85-ed5d-ebbaddaa0cb8"
   },
   "outputs": [
    {
     "data": {
      "text/plain": [
       "0.6923076923076924"
      ]
     },
     "execution_count": 56,
     "metadata": {
      "tags": []
     },
     "output_type": "execute_result"
    }
   ],
   "source": [
    "# モデルの検証\n",
    "model.score(x, t)"
   ]
  },
  {
   "cell_type": "markdown",
   "metadata": {
    "colab_type": "text",
    "id": "ndGdp3kB4ZPZ"
   },
   "source": [
    "### 学習済みモデルで推論\n",
    "\n",
    "学習済みモデルができると、新たな入力を入れると予測値を算出することができます。"
   ]
  },
  {
   "cell_type": "code",
   "execution_count": 0,
   "metadata": {
    "colab": {},
    "colab_type": "code",
    "id": "e84j6bbh51Wg"
   },
   "outputs": [],
   "source": [
    "# 新たな入力xの定義\n",
    "x_new = np.array([[1, 2, 3]])"
   ]
  },
  {
   "cell_type": "code",
   "execution_count": 0,
   "metadata": {
    "colab": {
     "base_uri": "https://localhost:8080/",
     "height": 34
    },
    "colab_type": "code",
    "id": "zSiL_fmE56W4",
    "outputId": "338cf7e8-98b4-4400-9dba-6dad525f0289"
   },
   "outputs": [
    {
     "data": {
      "text/plain": [
       "array([[3.]])"
      ]
     },
     "execution_count": 58,
     "metadata": {
      "tags": []
     },
     "output_type": "execute_result"
    }
   ],
   "source": [
    "# 予測値の計算\n",
    "y = model.predict(x_new)\n",
    "y"
   ]
  },
  {
   "cell_type": "markdown",
   "metadata": {
    "colab_type": "text",
    "id": "zTcwDRhP5913"
   },
   "source": [
    "## scikit-learnの応用\n",
    "\n",
    "この節ではscikit-learnを用いて下記の内容の実装方法を学びます。  \n",
    "\n",
    "- 訓練データと検証データの分割\n",
    "- 重回帰分析以外の手法の実装\n",
    "- ハイパーパラメータのチューニング\n",
    "\n",
    "実装に入る前のデータセットの準備を行います。  \n",
    "データセットはscikit-learnが用意しているデモ用のボストンの家賃に関するデータセットを使用します。  \n",
    "\n",
    "\n",
    "### データセットの読み込み"
   ]
  },
  {
   "cell_type": "code",
   "execution_count": 0,
   "metadata": {
    "colab": {},
    "colab_type": "code",
    "id": "NfPsOvPi_ieo"
   },
   "outputs": [],
   "source": [
    "# データセットの読み込み\n",
    "from sklearn.datasets import load_boston"
   ]
  },
  {
   "cell_type": "code",
   "execution_count": 0,
   "metadata": {
    "colab": {},
    "colab_type": "code",
    "id": "9zGvI5vSA0JN"
   },
   "outputs": [],
   "source": [
    "dataset = load_boston()\n",
    "x = dataset.data # 入力変数xを取得\n",
    "t = dataset.target # 教師データtを取得"
   ]
  },
  {
   "cell_type": "code",
   "execution_count": 0,
   "metadata": {
    "colab": {
     "base_uri": "https://localhost:8080/",
     "height": 170
    },
    "colab_type": "code",
    "id": "bZUbMBbcA7v3",
    "outputId": "c23a7614-6fd1-4d3b-acdd-b560724499d2"
   },
   "outputs": [
    {
     "data": {
      "text/plain": [
       "array([[6.3200e-03, 1.8000e+01, 2.3100e+00, 0.0000e+00, 5.3800e-01,\n",
       "        6.5750e+00, 6.5200e+01, 4.0900e+00, 1.0000e+00, 2.9600e+02,\n",
       "        1.5300e+01, 3.9690e+02, 4.9800e+00],\n",
       "       [2.7310e-02, 0.0000e+00, 7.0700e+00, 0.0000e+00, 4.6900e-01,\n",
       "        6.4210e+00, 7.8900e+01, 4.9671e+00, 2.0000e+00, 2.4200e+02,\n",
       "        1.7800e+01, 3.9690e+02, 9.1400e+00],\n",
       "       [2.7290e-02, 0.0000e+00, 7.0700e+00, 0.0000e+00, 4.6900e-01,\n",
       "        7.1850e+00, 6.1100e+01, 4.9671e+00, 2.0000e+00, 2.4200e+02,\n",
       "        1.7800e+01, 3.9283e+02, 4.0300e+00]])"
      ]
     },
     "execution_count": 62,
     "metadata": {
      "tags": []
     },
     "output_type": "execute_result"
    }
   ],
   "source": [
    "# 入力データの確認\n",
    "x[:3]"
   ]
  },
  {
   "cell_type": "code",
   "execution_count": 0,
   "metadata": {
    "colab": {
     "base_uri": "https://localhost:8080/",
     "height": 34
    },
    "colab_type": "code",
    "id": "WtvKs6p9BdIC",
    "outputId": "94ad2f68-99f7-4cb5-f7db-3e5c46988061"
   },
   "outputs": [
    {
     "data": {
      "text/plain": [
       "(506, 13)"
      ]
     },
     "execution_count": 63,
     "metadata": {
      "tags": []
     },
     "output_type": "execute_result"
    }
   ],
   "source": [
    "# シェイプの確認\n",
    "x.shape"
   ]
  },
  {
   "cell_type": "code",
   "execution_count": 0,
   "metadata": {
    "colab": {
     "base_uri": "https://localhost:8080/",
     "height": 34
    },
    "colab_type": "code",
    "id": "4K5l3E3WBDdJ",
    "outputId": "280c2579-527a-443c-cf1f-f5e06d0b1af3"
   },
   "outputs": [
    {
     "data": {
      "text/plain": [
       "array([24. , 21.6, 34.7])"
      ]
     },
     "execution_count": 64,
     "metadata": {
      "tags": []
     },
     "output_type": "execute_result"
    }
   ],
   "source": [
    "# 教師データの確認\n",
    "t[:3]"
   ]
  },
  {
   "cell_type": "code",
   "execution_count": 0,
   "metadata": {
    "colab": {
     "base_uri": "https://localhost:8080/",
     "height": 34
    },
    "colab_type": "code",
    "id": "xSmuD0vkBf1q",
    "outputId": "b9595b93-7ead-4009-ab30-118ff9ed8fcc"
   },
   "outputs": [
    {
     "data": {
      "text/plain": [
       "(506,)"
      ]
     },
     "execution_count": 65,
     "metadata": {
      "tags": []
     },
     "output_type": "execute_result"
    }
   ],
   "source": [
    "# シェイプの確認\n",
    "t.shape"
   ]
  },
  {
   "cell_type": "markdown",
   "metadata": {
    "colab_type": "text",
    "id": "jRkdOI5eBLX_"
   },
   "source": [
    "入力変数`x`にはNumpyの行列の形で入っていることが確認できます。  \n",
    "また、こちらのデータセットは506サンプル、13の入力変数があることが確認できます。  \n",
    "\n",
    "教師データ`t`も同じくNumpyの形式で準備してあり、506サンプルあることが確認できます。  \n",
    "\n",
    "\n",
    "### 訓練データ、検証データに分割\n",
    "\n",
    "学習済みモデルを構築するうえで、訓練データ、検証データに分割する必要があります。  \n",
    "\n",
    "なぜならモデルは計算に使用するデータにうまくフィットしようとするためです。  \n",
    "そのため学習用のデータ（訓練データ）と精度を確認する為のデータ（検証データ）にデータを分割します。    \n",
    "\n",
    " 学習に使用するデータにフィットしすぎてしまい、新しいデータへの汎用性がなくなってしまうことが実務でもよくあります。\n",
    "これを **過学習（オーバーフィッティング）** といいます。  \n",
    "\n",
    "今回は訓練データ5割、検証データ5割でランダムに分割します。 \n"
   ]
  },
  {
   "cell_type": "code",
   "execution_count": 0,
   "metadata": {
    "colab": {},
    "colab_type": "code",
    "id": "6pshMYGuBocn"
   },
   "outputs": [],
   "source": [
    "# データセットを分割するモジュールの読み込み\n",
    "from sklearn.model_selection import train_test_split"
   ]
  },
  {
   "cell_type": "code",
   "execution_count": 0,
   "metadata": {
    "colab": {},
    "colab_type": "code",
    "id": "z_AL1uzGBotE"
   },
   "outputs": [],
   "source": [
    "# 分割の実行\n",
    "x_train, x_valid, t_train, t_valid = train_test_split(x, t, test_size=0.5, random_state=1)"
   ]
  },
  {
   "cell_type": "markdown",
   "metadata": {
    "colab_type": "text",
    "id": "CzCtD-sUCYg5"
   },
   "source": [
    "`test_size=0.5` で検証用のデータを50%と設定しています。  \n",
    "また、再現性の確保のため `random_state=1` としてランダムの分割を毎回同じになる様に設定しています。"
   ]
  },
  {
   "cell_type": "markdown",
   "metadata": {
    "colab_type": "text",
    "id": "02XnVLgVCYwu"
   },
   "source": [
    "#### 重回帰分析の実装\n",
    "\n",
    "こちらのデータを用いて、再度重回帰分析を実装します。"
   ]
  },
  {
   "cell_type": "code",
   "execution_count": 0,
   "metadata": {
    "colab": {},
    "colab_type": "code",
    "id": "BgmsizPKCY3V"
   },
   "outputs": [],
   "source": [
    "# モデルの宣言\n",
    "from sklearn.linear_model import LinearRegression\n",
    "model = LinearRegression() "
   ]
  },
  {
   "cell_type": "code",
   "execution_count": 0,
   "metadata": {
    "colab": {
     "base_uri": "https://localhost:8080/",
     "height": 51
    },
    "colab_type": "code",
    "id": "crtijJ3kCY8l",
    "outputId": "34ba8395-8215-45ca-d344-1ad7d3445f78"
   },
   "outputs": [
    {
     "data": {
      "text/plain": [
       "LinearRegression(copy_X=True, fit_intercept=True, n_jobs=None,\n",
       "         normalize=False)"
      ]
     },
     "execution_count": 69,
     "metadata": {
      "tags": []
     },
     "output_type": "execute_result"
    }
   ],
   "source": [
    "# モデルの学習\n",
    "model.fit(x_train, t_train) # 訓練データを使ってモデルの学習"
   ]
  },
  {
   "cell_type": "markdown",
   "metadata": {
    "colab_type": "text",
    "id": "sSoaPFq2DheR"
   },
   "source": [
    "モデルの検証において、1点注意点があります。  \n",
    "モデルの検証は、検証データのみではなく、訓練データも同様に検証する必要があります。  \n",
    "\n",
    "なぜなら訓練データにモデルがしっかりあてはまった上で、検証データについても考える必要があるからです。"
   ]
  },
  {
   "cell_type": "code",
   "execution_count": 0,
   "metadata": {
    "colab": {
     "base_uri": "https://localhost:8080/",
     "height": 34
    },
    "colab_type": "code",
    "id": "AvyBKGLQCZB2",
    "outputId": "2726973d-f13b-467d-ed2b-d4fd0877631a"
   },
   "outputs": [
    {
     "data": {
      "text/plain": [
       "0.7261473937551961"
      ]
     },
     "execution_count": 70,
     "metadata": {
      "tags": []
     },
     "output_type": "execute_result"
    }
   ],
   "source": [
    "# モデルの検証（train） ← 訓練データ\n",
    "model.score(x_train, t_train)"
   ]
  },
  {
   "cell_type": "code",
   "execution_count": 0,
   "metadata": {
    "colab": {
     "base_uri": "https://localhost:8080/",
     "height": 34
    },
    "colab_type": "code",
    "id": "887mZKOwCZG5",
    "outputId": "1a705174-dcbd-46b7-baf0-7d5ab3ce2627"
   },
   "outputs": [
    {
     "data": {
      "text/plain": [
       "0.7397314185094678"
      ]
     },
     "execution_count": 71,
     "metadata": {
      "tags": []
     },
     "output_type": "execute_result"
    }
   ],
   "source": [
    "# モデルの検証（validation） ← 検証データ\n",
    "model.score(x_valid, t_valid)"
   ]
  },
  {
   "cell_type": "markdown",
   "metadata": {
    "colab_type": "text",
    "id": "crnFPaziCZMk"
   },
   "source": [
    "訓練データと検証データに対しての決定係数がほとんど同じ精度となっているため、過学習が起きていないのがわかります。"
   ]
  },
  {
   "cell_type": "markdown",
   "metadata": {
    "colab_type": "text",
    "id": "6IWqtYWwCZR9"
   },
   "source": [
    "### 重回帰分析以外の手法の実装方法\n",
    "\n",
    "scikit-learnには様々な機械学習の手法が用意されています。  \n",
    "その他の代表的な手法の実装方法を確認します。  \n",
    "\n",
    "今回取り扱う手法は下記の2つです。  \n",
    "\n",
    "- Support Vector Regression\n",
    "- 決定木（回帰木）\n",
    "\n",
    "\n",
    "#### SVM（Support Vector Machine）\n",
    "\n",
    "カーネルトリックと呼ばれる物を使用し、非線形の分布を線形の分布に変換し、回帰分析を行う手法になります。  \n",
    "SVMの中でも回帰の手法として用いられるのはSVR（Support Vector Regression）と呼ばれます。  \n",
    "\n",
    "![SVRイメージ](images/03_01.png)\n",
    "\n",
    "\n",
    "手法の詳細についてはこちらの[公式ドキュメント](https://scikit-learn.org/stable/modules/svm.html#svr)を確認してください。  \n",
    "\n",
    "\n",
    "\n",
    "その他の手法でも使用する手法の宣言の部分を変更すれば、簡単に実装することが可能です。"
   ]
  },
  {
   "cell_type": "code",
   "execution_count": 0,
   "metadata": {
    "colab": {},
    "colab_type": "code",
    "id": "HYunZTN5Frh3"
   },
   "outputs": [],
   "source": [
    "# モデルの宣言\n",
    "from sklearn.svm import SVR\n",
    "model = SVR() "
   ]
  },
  {
   "cell_type": "code",
   "execution_count": 0,
   "metadata": {
    "colab": {
     "base_uri": "https://localhost:8080/",
     "height": 122
    },
    "colab_type": "code",
    "id": "iJtAk1o5Frh5",
    "outputId": "8ebc6db8-2a91-4cb3-dc70-18508fa766dc"
   },
   "outputs": [
    {
     "name": "stderr",
     "output_type": "stream",
     "text": [
      "/usr/local/lib/python3.6/dist-packages/sklearn/svm/base.py:196: FutureWarning: The default value of gamma will change from 'auto' to 'scale' in version 0.22 to account better for unscaled features. Set gamma explicitly to 'auto' or 'scale' to avoid this warning.\n",
      "  \"avoid this warning.\", FutureWarning)\n"
     ]
    },
    {
     "data": {
      "text/plain": [
       "SVR(C=1.0, cache_size=200, coef0=0.0, degree=3, epsilon=0.1,\n",
       "  gamma='auto_deprecated', kernel='rbf', max_iter=-1, shrinking=True,\n",
       "  tol=0.001, verbose=False)"
      ]
     },
     "execution_count": 73,
     "metadata": {
      "tags": []
     },
     "output_type": "execute_result"
    }
   ],
   "source": [
    "# モデルの学習\n",
    "model.fit(x_train, t_train) # 訓練データを使ってモデルの学習"
   ]
  },
  {
   "cell_type": "code",
   "execution_count": 0,
   "metadata": {
    "colab": {
     "base_uri": "https://localhost:8080/",
     "height": 34
    },
    "colab_type": "code",
    "id": "bjtcTTkiFrh8",
    "outputId": "f9f866f5-6d57-4721-b1d3-577cce709d54"
   },
   "outputs": [
    {
     "data": {
      "text/plain": [
       "0.1379106273959404"
      ]
     },
     "execution_count": 74,
     "metadata": {
      "tags": []
     },
     "output_type": "execute_result"
    }
   ],
   "source": [
    "# モデルの検証（train） ← 訓練データ\n",
    "model.score(x_train, t_train)"
   ]
  },
  {
   "cell_type": "code",
   "execution_count": 0,
   "metadata": {
    "colab": {
     "base_uri": "https://localhost:8080/",
     "height": 34
    },
    "colab_type": "code",
    "id": "Ryii-vvbFrh_",
    "outputId": "f304dc45-c6ad-4a53-a948-31b1ba56cc80"
   },
   "outputs": [
    {
     "data": {
      "text/plain": [
       "-0.045646756174610115"
      ]
     },
     "execution_count": 75,
     "metadata": {
      "tags": []
     },
     "output_type": "execute_result"
    }
   ],
   "source": [
    "# モデルの検証（test） ← 検証データ\n",
    "model.score(x_test, t_test)"
   ]
  },
  {
   "cell_type": "markdown",
   "metadata": {
    "colab_type": "text",
    "id": "dwpv2FxdFSYi"
   },
   "source": [
    "SVRを使用すると精度がかなり下がってしまいました。  \n",
    "この原因はSVRが前処理（標準化）を必要とする手法であるからです。  \n",
    "機械学習の手法には標準化（スケールの統一）が必須なものがあることがあります。 　　\n",
    "\n",
    "標準化は値(x)から平均($\\mu$)を引き、標準偏差($\\sigma$)で割ったものになります。  \n",
    "\n",
    "$$　\n",
    "\\frac{x-\\mu}{\\sigma}　\n",
    "$$  \n",
    "\n",
    "標準化後は平均0、標準偏差1となります。  \n",
    "\n",
    "Chainerでディープラーニングの手法（ニューラルネットワークなど）を実装する際にもスケールの統一が基本的に必要になります。  \n",
    "\n",
    "\n",
    "##### 標準化（Standard Scaling）\n",
    "\n",
    "こちらもscikit-learnに用意されています。  \n",
    "前処理系は`preprocessing`から使用します。\n"
   ]
  },
  {
   "cell_type": "code",
   "execution_count": 0,
   "metadata": {
    "colab": {},
    "colab_type": "code",
    "id": "GLQNMom0CZXA"
   },
   "outputs": [],
   "source": [
    "# モデルの宣言\n",
    "from sklearn.preprocessing import StandardScaler\n",
    "scaler = StandardScaler()"
   ]
  },
  {
   "cell_type": "code",
   "execution_count": 0,
   "metadata": {
    "colab": {
     "base_uri": "https://localhost:8080/",
     "height": 34
    },
    "colab_type": "code",
    "id": "YROpwqRhCZca",
    "outputId": "f1899b3f-7d31-42cf-ae66-eb7c17fd4bad"
   },
   "outputs": [
    {
     "data": {
      "text/plain": [
       "StandardScaler(copy=True, with_mean=True, with_std=True)"
      ]
     },
     "execution_count": 77,
     "metadata": {
      "tags": []
     },
     "output_type": "execute_result"
    }
   ],
   "source": [
    "# モデルの学習：基準となるデータを渡す\n",
    "scaler.fit(x_train)"
   ]
  },
  {
   "cell_type": "code",
   "execution_count": 0,
   "metadata": {
    "colab": {},
    "colab_type": "code",
    "id": "1sz88ORaLw3_"
   },
   "outputs": [],
   "source": [
    "x_train2 = scaler.transform(x_train) # 標準化(平均0, 標準偏差1)\n",
    "x_test2 = scaler.transform(x_test)"
   ]
  },
  {
   "cell_type": "markdown",
   "metadata": {
    "colab_type": "text",
    "id": "cjOkrnp1L2S3"
   },
   "source": [
    "検証用データに対しても標準化を適応しておきます。  \n",
    "標準化を行なったデータを取得が完了したので、こちらを使用して再度学習を行います。  \n",
    "\n",
    "\n",
    "##### 再度SVRで学習の実行"
   ]
  },
  {
   "cell_type": "code",
   "execution_count": 0,
   "metadata": {
    "colab": {
     "base_uri": "https://localhost:8080/",
     "height": 68
    },
    "colab_type": "code",
    "id": "kdGJ0lNnLxJY",
    "outputId": "222d4a2f-8236-44e4-ddba-569183888a9f"
   },
   "outputs": [
    {
     "data": {
      "text/plain": [
       "SVR(C=1.0, cache_size=200, coef0=0.0, degree=3, epsilon=0.1,\n",
       "  gamma='auto_deprecated', kernel='rbf', max_iter=-1, shrinking=True,\n",
       "  tol=0.001, verbose=False)"
      ]
     },
     "execution_count": 79,
     "metadata": {
      "tags": []
     },
     "output_type": "execute_result"
    }
   ],
   "source": [
    "# モデルの学習\n",
    "model.fit(x_train2, t_train)"
   ]
  },
  {
   "cell_type": "code",
   "execution_count": 0,
   "metadata": {
    "colab": {
     "base_uri": "https://localhost:8080/",
     "height": 51
    },
    "colab_type": "code",
    "id": "70X7rqb3LxW3",
    "outputId": "ff397a9b-c5e6-44a5-c91b-b09c20976d93"
   },
   "outputs": [
    {
     "name": "stdout",
     "output_type": "stream",
     "text": [
      "0.6249951867374572\n",
      "0.5783749183832338\n"
     ]
    }
   ],
   "source": [
    "# モデルの検証\n",
    "print(model.score(x_train2, t_train))\n",
    "print(model.score(x_test2, t_test))"
   ]
  },
  {
   "cell_type": "markdown",
   "metadata": {
    "colab_type": "text",
    "id": "-bQPeupGLxj6"
   },
   "source": [
    "精度が向上しましたが、重回帰分析の方が精度が良かったです。  \n",
    "手法の選択はこの様に一度試してみて、どの様な差があるのか確認するといいでしょう。  \n",
    "\n",
    "\n",
    "#### 決定木：回帰木\n",
    "\n",
    "木のような構造を用いて、条件分岐を繰り返すことによって数値を予測する手法\n",
    "決定木の1つの特徴として、条件分岐を繰り返し数値を予測するので前処理は必要ありません。  \n",
    "\n",
    "![決定木イメージ](images/03_02.png)\n",
    "\n",
    "手法の詳細についてはこちらの[公式ドキュメント](https://scikit-learn.org/stable/modules/tree.html#regression)を確認してください。  \n"
   ]
  },
  {
   "cell_type": "code",
   "execution_count": 0,
   "metadata": {
    "colab": {},
    "colab_type": "code",
    "id": "zppgQq6tMdCY"
   },
   "outputs": [],
   "source": [
    "# モデルの宣言\n",
    "from sklearn.tree import DecisionTreeRegressor\n",
    "model = DecisionTreeRegressor() "
   ]
  },
  {
   "cell_type": "code",
   "execution_count": 0,
   "metadata": {
    "colab": {
     "base_uri": "https://localhost:8080/",
     "height": 102
    },
    "colab_type": "code",
    "id": "ZQ_01XhYMdCb",
    "outputId": "b314fafa-f71d-4b3c-b28b-6391c26d772b"
   },
   "outputs": [
    {
     "data": {
      "text/plain": [
       "DecisionTreeRegressor(criterion='mse', max_depth=None, max_features=None,\n",
       "           max_leaf_nodes=None, min_impurity_decrease=0.0,\n",
       "           min_impurity_split=None, min_samples_leaf=1,\n",
       "           min_samples_split=2, min_weight_fraction_leaf=0.0,\n",
       "           presort=False, random_state=None, splitter='best')"
      ]
     },
     "execution_count": 82,
     "metadata": {
      "tags": []
     },
     "output_type": "execute_result"
    }
   ],
   "source": [
    "# モデルの学習\n",
    "model.fit(x_train, t_train) # 訓練データを使ってモデルの学習"
   ]
  },
  {
   "cell_type": "code",
   "execution_count": 0,
   "metadata": {
    "colab": {
     "base_uri": "https://localhost:8080/",
     "height": 34
    },
    "colab_type": "code",
    "id": "LlmyDfeoMdCf",
    "outputId": "54d2d1c9-33d1-4767-c733-867ac73362ec"
   },
   "outputs": [
    {
     "data": {
      "text/plain": [
       "1.0"
      ]
     },
     "execution_count": 83,
     "metadata": {
      "tags": []
     },
     "output_type": "execute_result"
    }
   ],
   "source": [
    "# モデルの検証（train） ← 訓練データ\n",
    "model.score(x_train, t_train)"
   ]
  },
  {
   "cell_type": "code",
   "execution_count": 0,
   "metadata": {
    "colab": {
     "base_uri": "https://localhost:8080/",
     "height": 34
    },
    "colab_type": "code",
    "id": "Yla1UoVZMdCh",
    "outputId": "d513a537-3e7d-41d7-f5a7-07db4909ab3d"
   },
   "outputs": [
    {
     "data": {
      "text/plain": [
       "0.7438306834291329"
      ]
     },
     "execution_count": 84,
     "metadata": {
      "tags": []
     },
     "output_type": "execute_result"
    }
   ],
   "source": [
    "# モデルの検証（test） ← 検証データ\n",
    "model.score(x_test, t_test)"
   ]
  },
  {
   "cell_type": "markdown",
   "metadata": {
    "colab_type": "text",
    "id": "-Ba6MPSFMlto"
   },
   "source": [
    "この様にSVRや決定木という他の手法も比較的容易に実装ができました。  \n",
    "\n",
    "\n",
    "### ハイパーパラメータのチューニング\n",
    "\n",
    "\n",
    "しかし、結果を確認すると過学習が起こっていることが確認できます。  \n",
    "過学習対策として、**ハイパーパラメータ**をチューニングするという方法があります。  \n",
    "\n",
    "**ハイパーパラメータ**とは「人間側」が調整する必要のあるパラメータの事を指します。  \n",
    "機械学習ではパラメータを自動で調整しますが、その調整方法を調整するのがこのハイパーパラメータにあたります。  \n",
    "\n",
    "ディープラーニングの手法では層の深さや、層の数など様々なハイパーパラメータをチューニングを行う必要があります。（詳細は次章以降で解説します。）  \n",
    "\n",
    "\n",
    "決定木は条件分岐を繰り返すというアルゴリズムの為、過学習を起こしやすい手法の1つになります。  \n",
    "\n",
    "ハイパーパラメータをチューニングして精度に変化が出る事を確認しましょう。  \n",
    "\n",
    "ハイパーパラメータはモデルを宣言する際に確認・設定を行うことができます。  \n",
    "\n",
    " `DecisionTreeRegressor()`の`()`の中で`tab`ボタンを2度押すと、その手法にどの様なハイパーパラメータが設けられているのか確認することができます。  \n",
    " \n",
    " 今回は`max_depth`を5に設定し、`max_leaf_nodes`を10と設定します。  \n",
    " （`max_depth`は木の深さを、`max_leaf_nodes`は木の末端の葉の数を表します。）"
   ]
  },
  {
   "cell_type": "code",
   "execution_count": 0,
   "metadata": {
    "colab": {},
    "colab_type": "code",
    "id": "8cbVElxRRYBW"
   },
   "outputs": [],
   "source": [
    "# ハイパーパラメータの設定\n",
    "model = DecisionTreeRegressor(max_depth=5, max_leaf_nodes=10) "
   ]
  },
  {
   "cell_type": "code",
   "execution_count": 0,
   "metadata": {
    "colab": {
     "base_uri": "https://localhost:8080/",
     "height": 102
    },
    "colab_type": "code",
    "id": "Vz-y-VE6RYBX",
    "outputId": "14952194-15cb-4e8a-b175-622b3598dc54"
   },
   "outputs": [
    {
     "data": {
      "text/plain": [
       "DecisionTreeRegressor(criterion='mse', max_depth=5, max_features=None,\n",
       "           max_leaf_nodes=10, min_impurity_decrease=0.0,\n",
       "           min_impurity_split=None, min_samples_leaf=1,\n",
       "           min_samples_split=2, min_weight_fraction_leaf=0.0,\n",
       "           presort=False, random_state=None, splitter='best')"
      ]
     },
     "execution_count": 86,
     "metadata": {
      "tags": []
     },
     "output_type": "execute_result"
    }
   ],
   "source": [
    "# モデルの学習\n",
    "model.fit(x_train, t_train) # 訓練データを使ってモデルの学習"
   ]
  },
  {
   "cell_type": "code",
   "execution_count": 0,
   "metadata": {
    "colab": {
     "base_uri": "https://localhost:8080/",
     "height": 34
    },
    "colab_type": "code",
    "id": "rv5ugocMRYBa",
    "outputId": "14b6bdd3-f1bd-4e3f-a73b-5ee5ed5eb203"
   },
   "outputs": [
    {
     "data": {
      "text/plain": [
       "0.886636874119038"
      ]
     },
     "execution_count": 87,
     "metadata": {
      "tags": []
     },
     "output_type": "execute_result"
    }
   ],
   "source": [
    "# モデルの検証（train） ← 訓練データ\n",
    "model.score(x_train, t_train)"
   ]
  },
  {
   "cell_type": "code",
   "execution_count": 0,
   "metadata": {
    "colab": {
     "base_uri": "https://localhost:8080/",
     "height": 34
    },
    "colab_type": "code",
    "id": "mFmZhAbdRYBb",
    "outputId": "9503c107-665a-45cf-eba7-b6d5e62d1662"
   },
   "outputs": [
    {
     "data": {
      "text/plain": [
       "0.8030731506825438"
      ]
     },
     "execution_count": 88,
     "metadata": {
      "tags": []
     },
     "output_type": "execute_result"
    }
   ],
   "source": [
    "# モデルの検証（validation） ← 検証データ\n",
    "model.score(x_valid, t_valid)"
   ]
  },
  {
   "cell_type": "markdown",
   "metadata": {
    "colab_type": "text",
    "id": "VEP_dMmQRPtN"
   },
   "source": [
    "過学習を抑えることができました。  \n",
    "この様にハイパーパラメータを調整することによって精度に向上させることができます。  \n",
    "\n",
    "また決定木には下記2つの特徴がある点をおさえておきます。  \n",
    "\n",
    "- `feature_importance`により特徴量の重要度を理解することができる\n",
    "- 木構造を確認することによってどの様な条件で予測を行なっているのか理解できる\n",
    "\n",
    "\n",
    "#### 決定木のfeature importance"
   ]
  },
  {
   "cell_type": "code",
   "execution_count": 0,
   "metadata": {
    "colab": {
     "base_uri": "https://localhost:8080/",
     "height": 68
    },
    "colab_type": "code",
    "id": "iT52vOswRPyf",
    "outputId": "46b2e4c9-3b15-4d04-9e2f-e31594956868"
   },
   "outputs": [
    {
     "data": {
      "text/plain": [
       "array([0.01856827, 0.        , 0.        , 0.        , 0.        ,\n",
       "       0.25776416, 0.        , 0.08429685, 0.        , 0.        ,\n",
       "       0.        , 0.        , 0.63937073])"
      ]
     },
     "execution_count": 89,
     "metadata": {
      "tags": []
     },
     "output_type": "execute_result"
    }
   ],
   "source": [
    "# 特徴量の重要度を確認\n",
    "model.feature_importances_"
   ]
  },
  {
   "cell_type": "markdown",
   "metadata": {
    "colab_type": "text",
    "id": "gZx_0Rd2RP6w"
   },
   "source": [
    "#### 決定木の木構造の確認\n",
    "\n",
    "木構造を確認するには`graphviz`というパッケージを使用します。  \n",
    "（Google Colaboratoryにはデフォルトでインストールされているのでインストールの必要はありません。）  "
   ]
  },
  {
   "cell_type": "code",
   "execution_count": 0,
   "metadata": {
    "colab": {},
    "colab_type": "code",
    "id": "BBQaHchQNU9I"
   },
   "outputs": [],
   "source": [
    "# 必要なモジュールのインポート\n",
    "import graphviz\n",
    "from sklearn.tree import export_graphviz"
   ]
  },
  {
   "cell_type": "code",
   "execution_count": 0,
   "metadata": {
    "colab": {},
    "colab_type": "code",
    "id": "LBbdbAO3NJwR"
   },
   "outputs": [],
   "source": [
    "# 木構造の書き出し\n",
    "dot_data = export_graphviz(model)"
   ]
  },
  {
   "cell_type": "code",
   "execution_count": 0,
   "metadata": {
    "colab": {
     "base_uri": "https://localhost:8080/",
     "height": 816
    },
    "colab_type": "code",
    "id": "XqCMn_oNNSrk",
    "outputId": "cb619e42-94a6-43b5-a3d4-8ba9a873f3d7"
   },
   "outputs": [
    {
     "data": {
      "image/svg+xml": [
       "<?xml version=\"1.0\" encoding=\"UTF-8\" standalone=\"no\"?>\n",
       "<!DOCTYPE svg PUBLIC \"-//W3C//DTD SVG 1.1//EN\"\n",
       " \"http://www.w3.org/Graphics/SVG/1.1/DTD/svg11.dtd\">\n",
       "<!-- Generated by graphviz version 2.40.1 (20161225.0304)\n",
       " -->\n",
       "<!-- Title: Tree Pages: 1 -->\n",
       "<svg width=\"782pt\" height=\"581pt\"\n",
       " viewBox=\"0.00 0.00 781.50 581.00\" xmlns=\"http://www.w3.org/2000/svg\" xmlns:xlink=\"http://www.w3.org/1999/xlink\">\n",
       "<g id=\"graph0\" class=\"graph\" transform=\"scale(1 1) rotate(0) translate(4 577)\">\n",
       "<title>Tree</title>\n",
       "<polygon fill=\"#ffffff\" stroke=\"transparent\" points=\"-4,4 -4,-577 777.5,-577 777.5,4 -4,4\"/>\n",
       "<!-- 0 -->\n",
       "<g id=\"node1\" class=\"node\">\n",
       "<title>0</title>\n",
       "<polygon fill=\"none\" stroke=\"#000000\" points=\"469.5,-573 360.5,-573 360.5,-505 469.5,-505 469.5,-573\"/>\n",
       "<text text-anchor=\"middle\" x=\"415\" y=\"-557.8\" font-family=\"Times,serif\" font-size=\"14.00\" fill=\"#000000\">X[12] &lt;= 9.755</text>\n",
       "<text text-anchor=\"middle\" x=\"415\" y=\"-542.8\" font-family=\"Times,serif\" font-size=\"14.00\" fill=\"#000000\">mse = 80.614</text>\n",
       "<text text-anchor=\"middle\" x=\"415\" y=\"-527.8\" font-family=\"Times,serif\" font-size=\"14.00\" fill=\"#000000\">samples = 253</text>\n",
       "<text text-anchor=\"middle\" x=\"415\" y=\"-512.8\" font-family=\"Times,serif\" font-size=\"14.00\" fill=\"#000000\">value = 22.047</text>\n",
       "</g>\n",
       "<!-- 1 -->\n",
       "<g id=\"node2\" class=\"node\">\n",
       "<title>1</title>\n",
       "<polygon fill=\"none\" stroke=\"#000000\" points=\"403,-469 299,-469 299,-401 403,-401 403,-469\"/>\n",
       "<text text-anchor=\"middle\" x=\"351\" y=\"-453.8\" font-family=\"Times,serif\" font-size=\"14.00\" fill=\"#000000\">X[5] &lt;= 7.513</text>\n",
       "<text text-anchor=\"middle\" x=\"351\" y=\"-438.8\" font-family=\"Times,serif\" font-size=\"14.00\" fill=\"#000000\">mse = 70.51</text>\n",
       "<text text-anchor=\"middle\" x=\"351\" y=\"-423.8\" font-family=\"Times,serif\" font-size=\"14.00\" fill=\"#000000\">samples = 98</text>\n",
       "<text text-anchor=\"middle\" x=\"351\" y=\"-408.8\" font-family=\"Times,serif\" font-size=\"14.00\" fill=\"#000000\">value = 29.794</text>\n",
       "</g>\n",
       "<!-- 0&#45;&gt;1 -->\n",
       "<g id=\"edge1\" class=\"edge\">\n",
       "<title>0&#45;&gt;1</title>\n",
       "<path fill=\"none\" stroke=\"#000000\" d=\"M394.044,-504.9465C388.6845,-496.2373 382.8539,-486.7626 377.2647,-477.6801\"/>\n",
       "<polygon fill=\"#000000\" stroke=\"#000000\" points=\"380.2249,-475.8122 372.0031,-469.13 374.2633,-479.481 380.2249,-475.8122\"/>\n",
       "<text text-anchor=\"middle\" x=\"366.2126\" y=\"-489.7502\" font-family=\"Times,serif\" font-size=\"14.00\" fill=\"#000000\">True</text>\n",
       "</g>\n",
       "<!-- 2 -->\n",
       "<g id=\"node11\" class=\"node\">\n",
       "<title>2</title>\n",
       "<polygon fill=\"none\" stroke=\"#000000\" points=\"537,-469 421,-469 421,-401 537,-401 537,-469\"/>\n",
       "<text text-anchor=\"middle\" x=\"479\" y=\"-453.8\" font-family=\"Times,serif\" font-size=\"14.00\" fill=\"#000000\">X[12] &lt;= 20.195</text>\n",
       "<text text-anchor=\"middle\" x=\"479\" y=\"-438.8\" font-family=\"Times,serif\" font-size=\"14.00\" fill=\"#000000\">mse = 25.061</text>\n",
       "<text text-anchor=\"middle\" x=\"479\" y=\"-423.8\" font-family=\"Times,serif\" font-size=\"14.00\" fill=\"#000000\">samples = 155</text>\n",
       "<text text-anchor=\"middle\" x=\"479\" y=\"-408.8\" font-family=\"Times,serif\" font-size=\"14.00\" fill=\"#000000\">value = 17.148</text>\n",
       "</g>\n",
       "<!-- 0&#45;&gt;2 -->\n",
       "<g id=\"edge10\" class=\"edge\">\n",
       "<title>0&#45;&gt;2</title>\n",
       "<path fill=\"none\" stroke=\"#000000\" d=\"M435.956,-504.9465C441.3155,-496.2373 447.1461,-486.7626 452.7353,-477.6801\"/>\n",
       "<polygon fill=\"#000000\" stroke=\"#000000\" points=\"455.7367,-479.481 457.9969,-469.13 449.7751,-475.8122 455.7367,-479.481\"/>\n",
       "<text text-anchor=\"middle\" x=\"463.7874\" y=\"-489.7502\" font-family=\"Times,serif\" font-size=\"14.00\" fill=\"#000000\">False</text>\n",
       "</g>\n",
       "<!-- 3 -->\n",
       "<g id=\"node3\" class=\"node\">\n",
       "<title>3</title>\n",
       "<polygon fill=\"none\" stroke=\"#000000\" points=\"281,-365 177,-365 177,-297 281,-297 281,-365\"/>\n",
       "<text text-anchor=\"middle\" x=\"229\" y=\"-349.8\" font-family=\"Times,serif\" font-size=\"14.00\" fill=\"#000000\">X[7] &lt;= 1.557</text>\n",
       "<text text-anchor=\"middle\" x=\"229\" y=\"-334.8\" font-family=\"Times,serif\" font-size=\"14.00\" fill=\"#000000\">mse = 43.631</text>\n",
       "<text text-anchor=\"middle\" x=\"229\" y=\"-319.8\" font-family=\"Times,serif\" font-size=\"14.00\" fill=\"#000000\">samples = 87</text>\n",
       "<text text-anchor=\"middle\" x=\"229\" y=\"-304.8\" font-family=\"Times,serif\" font-size=\"14.00\" fill=\"#000000\">value = 27.851</text>\n",
       "</g>\n",
       "<!-- 1&#45;&gt;3 -->\n",
       "<g id=\"edge2\" class=\"edge\">\n",
       "<title>1&#45;&gt;3</title>\n",
       "<path fill=\"none\" stroke=\"#000000\" d=\"M311.0526,-400.9465C300.0988,-391.6088 288.1127,-381.3911 276.768,-371.7203\"/>\n",
       "<polygon fill=\"#000000\" stroke=\"#000000\" points=\"278.9179,-368.9538 269.0371,-365.13 274.3767,-374.2809 278.9179,-368.9538\"/>\n",
       "</g>\n",
       "<!-- 4 -->\n",
       "<g id=\"node10\" class=\"node\">\n",
       "<title>4</title>\n",
       "<polygon fill=\"none\" stroke=\"#000000\" points=\"403,-357.5 299,-357.5 299,-304.5 403,-304.5 403,-357.5\"/>\n",
       "<text text-anchor=\"middle\" x=\"351\" y=\"-342.3\" font-family=\"Times,serif\" font-size=\"14.00\" fill=\"#000000\">mse = 17.002</text>\n",
       "<text text-anchor=\"middle\" x=\"351\" y=\"-327.3\" font-family=\"Times,serif\" font-size=\"14.00\" fill=\"#000000\">samples = 11</text>\n",
       "<text text-anchor=\"middle\" x=\"351\" y=\"-312.3\" font-family=\"Times,serif\" font-size=\"14.00\" fill=\"#000000\">value = 45.164</text>\n",
       "</g>\n",
       "<!-- 1&#45;&gt;4 -->\n",
       "<g id=\"edge9\" class=\"edge\">\n",
       "<title>1&#45;&gt;4</title>\n",
       "<path fill=\"none\" stroke=\"#000000\" d=\"M351,-400.9465C351,-390.2621 351,-378.4254 351,-367.5742\"/>\n",
       "<polygon fill=\"#000000\" stroke=\"#000000\" points=\"354.5001,-367.5421 351,-357.5422 347.5001,-367.5422 354.5001,-367.5421\"/>\n",
       "</g>\n",
       "<!-- 7 -->\n",
       "<g id=\"node4\" class=\"node\">\n",
       "<title>7</title>\n",
       "<polygon fill=\"none\" stroke=\"#000000\" points=\"165.5,-253.5 76.5,-253.5 76.5,-200.5 165.5,-200.5 165.5,-253.5\"/>\n",
       "<text text-anchor=\"middle\" x=\"121\" y=\"-238.3\" font-family=\"Times,serif\" font-size=\"14.00\" fill=\"#000000\">mse = 0.0</text>\n",
       "<text text-anchor=\"middle\" x=\"121\" y=\"-223.3\" font-family=\"Times,serif\" font-size=\"14.00\" fill=\"#000000\">samples = 3</text>\n",
       "<text text-anchor=\"middle\" x=\"121\" y=\"-208.3\" font-family=\"Times,serif\" font-size=\"14.00\" fill=\"#000000\">value = 50.0</text>\n",
       "</g>\n",
       "<!-- 3&#45;&gt;7 -->\n",
       "<g id=\"edge3\" class=\"edge\">\n",
       "<title>3&#45;&gt;7</title>\n",
       "<path fill=\"none\" stroke=\"#000000\" d=\"M193.6368,-296.9465C181.5119,-285.2707 167.9582,-272.219 155.8725,-260.5809\"/>\n",
       "<polygon fill=\"#000000\" stroke=\"#000000\" points=\"158.194,-257.9575 148.563,-253.5422 153.3385,-262.9997 158.194,-257.9575\"/>\n",
       "</g>\n",
       "<!-- 8 -->\n",
       "<g id=\"node5\" class=\"node\">\n",
       "<title>8</title>\n",
       "<polygon fill=\"none\" stroke=\"#000000\" points=\"284.5,-261 183.5,-261 183.5,-193 284.5,-193 284.5,-261\"/>\n",
       "<text text-anchor=\"middle\" x=\"234\" y=\"-245.8\" font-family=\"Times,serif\" font-size=\"14.00\" fill=\"#000000\">X[5] &lt;= 6.797</text>\n",
       "<text text-anchor=\"middle\" x=\"234\" y=\"-230.8\" font-family=\"Times,serif\" font-size=\"14.00\" fill=\"#000000\">mse = 27.042</text>\n",
       "<text text-anchor=\"middle\" x=\"234\" y=\"-215.8\" font-family=\"Times,serif\" font-size=\"14.00\" fill=\"#000000\">samples = 84</text>\n",
       "<text text-anchor=\"middle\" x=\"234\" y=\"-200.8\" font-family=\"Times,serif\" font-size=\"14.00\" fill=\"#000000\">value = 27.06</text>\n",
       "</g>\n",
       "<!-- 3&#45;&gt;8 -->\n",
       "<g id=\"edge4\" class=\"edge\">\n",
       "<title>3&#45;&gt;8</title>\n",
       "<path fill=\"none\" stroke=\"#000000\" d=\"M230.6372,-296.9465C231.03,-288.776 231.4552,-279.9318 231.8668,-271.3697\"/>\n",
       "<polygon fill=\"#000000\" stroke=\"#000000\" points=\"235.3748,-271.2866 232.3591,-261.13 228.3829,-270.9504 235.3748,-271.2866\"/>\n",
       "</g>\n",
       "<!-- 9 -->\n",
       "<g id=\"node6\" class=\"node\">\n",
       "<title>9</title>\n",
       "<polygon fill=\"none\" stroke=\"#000000\" points=\"165,-157 61,-157 61,-89 165,-89 165,-157\"/>\n",
       "<text text-anchor=\"middle\" x=\"113\" y=\"-141.8\" font-family=\"Times,serif\" font-size=\"14.00\" fill=\"#000000\">X[5] &lt;= 6.132</text>\n",
       "<text text-anchor=\"middle\" x=\"113\" y=\"-126.8\" font-family=\"Times,serif\" font-size=\"14.00\" fill=\"#000000\">mse = 13.241</text>\n",
       "<text text-anchor=\"middle\" x=\"113\" y=\"-111.8\" font-family=\"Times,serif\" font-size=\"14.00\" fill=\"#000000\">samples = 55</text>\n",
       "<text text-anchor=\"middle\" x=\"113\" y=\"-96.8\" font-family=\"Times,serif\" font-size=\"14.00\" fill=\"#000000\">value = 24.233</text>\n",
       "</g>\n",
       "<!-- 8&#45;&gt;9 -->\n",
       "<g id=\"edge5\" class=\"edge\">\n",
       "<title>8&#45;&gt;9</title>\n",
       "<path fill=\"none\" stroke=\"#000000\" d=\"M194.3801,-192.9465C183.516,-183.6088 171.6282,-173.3911 160.3765,-163.7203\"/>\n",
       "<polygon fill=\"#000000\" stroke=\"#000000\" points=\"162.5741,-160.994 152.7089,-157.13 158.0113,-166.3026 162.5741,-160.994\"/>\n",
       "</g>\n",
       "<!-- 10 -->\n",
       "<g id=\"node9\" class=\"node\">\n",
       "<title>10</title>\n",
       "<polygon fill=\"none\" stroke=\"#000000\" points=\"287,-149.5 183,-149.5 183,-96.5 287,-96.5 287,-149.5\"/>\n",
       "<text text-anchor=\"middle\" x=\"235\" y=\"-134.3\" font-family=\"Times,serif\" font-size=\"14.00\" fill=\"#000000\">mse = 9.318</text>\n",
       "<text text-anchor=\"middle\" x=\"235\" y=\"-119.3\" font-family=\"Times,serif\" font-size=\"14.00\" fill=\"#000000\">samples = 29</text>\n",
       "<text text-anchor=\"middle\" x=\"235\" y=\"-104.3\" font-family=\"Times,serif\" font-size=\"14.00\" fill=\"#000000\">value = 32.421</text>\n",
       "</g>\n",
       "<!-- 8&#45;&gt;10 -->\n",
       "<g id=\"edge8\" class=\"edge\">\n",
       "<title>8&#45;&gt;10</title>\n",
       "<path fill=\"none\" stroke=\"#000000\" d=\"M234.3274,-192.9465C234.4302,-182.2621 234.544,-170.4254 234.6483,-159.5742\"/>\n",
       "<polygon fill=\"#000000\" stroke=\"#000000\" points=\"238.1484,-159.5754 234.7448,-149.5422 231.1487,-159.508 238.1484,-159.5754\"/>\n",
       "</g>\n",
       "<!-- 15 -->\n",
       "<g id=\"node7\" class=\"node\">\n",
       "<title>15</title>\n",
       "<polygon fill=\"none\" stroke=\"#000000\" points=\"104,-53 0,-53 0,0 104,0 104,-53\"/>\n",
       "<text text-anchor=\"middle\" x=\"52\" y=\"-37.8\" font-family=\"Times,serif\" font-size=\"14.00\" fill=\"#000000\">mse = 2.783</text>\n",
       "<text text-anchor=\"middle\" x=\"52\" y=\"-22.8\" font-family=\"Times,serif\" font-size=\"14.00\" fill=\"#000000\">samples = 16</text>\n",
       "<text text-anchor=\"middle\" x=\"52\" y=\"-7.8\" font-family=\"Times,serif\" font-size=\"14.00\" fill=\"#000000\">value = 20.919</text>\n",
       "</g>\n",
       "<!-- 9&#45;&gt;15 -->\n",
       "<g id=\"edge6\" class=\"edge\">\n",
       "<title>9&#45;&gt;15</title>\n",
       "<path fill=\"none\" stroke=\"#000000\" d=\"M91.4937,-88.9777C85.9369,-80.187 79.9427,-70.7044 74.3441,-61.8477\"/>\n",
       "<polygon fill=\"#000000\" stroke=\"#000000\" points=\"77.2101,-59.8312 68.9084,-53.2485 71.2931,-63.5714 77.2101,-59.8312\"/>\n",
       "</g>\n",
       "<!-- 16 -->\n",
       "<g id=\"node8\" class=\"node\">\n",
       "<title>16</title>\n",
       "<polygon fill=\"none\" stroke=\"#000000\" points=\"226,-53 122,-53 122,0 226,0 226,-53\"/>\n",
       "<text text-anchor=\"middle\" x=\"174\" y=\"-37.8\" font-family=\"Times,serif\" font-size=\"14.00\" fill=\"#000000\">mse = 11.178</text>\n",
       "<text text-anchor=\"middle\" x=\"174\" y=\"-22.8\" font-family=\"Times,serif\" font-size=\"14.00\" fill=\"#000000\">samples = 39</text>\n",
       "<text text-anchor=\"middle\" x=\"174\" y=\"-7.8\" font-family=\"Times,serif\" font-size=\"14.00\" fill=\"#000000\">value = 25.592</text>\n",
       "</g>\n",
       "<!-- 9&#45;&gt;16 -->\n",
       "<g id=\"edge7\" class=\"edge\">\n",
       "<title>9&#45;&gt;16</title>\n",
       "<path fill=\"none\" stroke=\"#000000\" d=\"M134.5063,-88.9777C140.0631,-80.187 146.0573,-70.7044 151.6559,-61.8477\"/>\n",
       "<polygon fill=\"#000000\" stroke=\"#000000\" points=\"154.7069,-63.5714 157.0916,-53.2485 148.7899,-59.8312 154.7069,-63.5714\"/>\n",
       "</g>\n",
       "<!-- 5 -->\n",
       "<g id=\"node12\" class=\"node\">\n",
       "<title>5</title>\n",
       "<polygon fill=\"none\" stroke=\"#000000\" points=\"537,-365 421,-365 421,-297 537,-297 537,-365\"/>\n",
       "<text text-anchor=\"middle\" x=\"479\" y=\"-349.8\" font-family=\"Times,serif\" font-size=\"14.00\" fill=\"#000000\">X[12] &lt;= 14.795</text>\n",
       "<text text-anchor=\"middle\" x=\"479\" y=\"-334.8\" font-family=\"Times,serif\" font-size=\"14.00\" fill=\"#000000\">mse = 14.38</text>\n",
       "<text text-anchor=\"middle\" x=\"479\" y=\"-319.8\" font-family=\"Times,serif\" font-size=\"14.00\" fill=\"#000000\">samples = 112</text>\n",
       "<text text-anchor=\"middle\" x=\"479\" y=\"-304.8\" font-family=\"Times,serif\" font-size=\"14.00\" fill=\"#000000\">value = 19.145</text>\n",
       "</g>\n",
       "<!-- 2&#45;&gt;5 -->\n",
       "<g id=\"edge11\" class=\"edge\">\n",
       "<title>2&#45;&gt;5</title>\n",
       "<path fill=\"none\" stroke=\"#000000\" d=\"M479,-400.9465C479,-392.776 479,-383.9318 479,-375.3697\"/>\n",
       "<polygon fill=\"#000000\" stroke=\"#000000\" points=\"482.5001,-375.13 479,-365.13 475.5001,-375.13 482.5001,-375.13\"/>\n",
       "</g>\n",
       "<!-- 6 -->\n",
       "<g id=\"node17\" class=\"node\">\n",
       "<title>6</title>\n",
       "<polygon fill=\"none\" stroke=\"#000000\" points=\"659,-365 555,-365 555,-297 659,-297 659,-365\"/>\n",
       "<text text-anchor=\"middle\" x=\"607\" y=\"-349.8\" font-family=\"Times,serif\" font-size=\"14.00\" fill=\"#000000\">X[0] &lt;= 8.295</text>\n",
       "<text text-anchor=\"middle\" x=\"607\" y=\"-334.8\" font-family=\"Times,serif\" font-size=\"14.00\" fill=\"#000000\">mse = 15.466</text>\n",
       "<text text-anchor=\"middle\" x=\"607\" y=\"-319.8\" font-family=\"Times,serif\" font-size=\"14.00\" fill=\"#000000\">samples = 43</text>\n",
       "<text text-anchor=\"middle\" x=\"607\" y=\"-304.8\" font-family=\"Times,serif\" font-size=\"14.00\" fill=\"#000000\">value = 11.949</text>\n",
       "</g>\n",
       "<!-- 2&#45;&gt;6 -->\n",
       "<g id=\"edge16\" class=\"edge\">\n",
       "<title>2&#45;&gt;6</title>\n",
       "<path fill=\"none\" stroke=\"#000000\" d=\"M520.912,-400.9465C532.515,-391.519 545.2221,-381.1946 557.2259,-371.4415\"/>\n",
       "<polygon fill=\"#000000\" stroke=\"#000000\" points=\"559.4398,-374.1524 564.9939,-365.13 555.0256,-368.7196 559.4398,-374.1524\"/>\n",
       "</g>\n",
       "<!-- 11 -->\n",
       "<g id=\"node13\" class=\"node\">\n",
       "<title>11</title>\n",
       "<polygon fill=\"none\" stroke=\"#000000\" points=\"417,-261 313,-261 313,-193 417,-193 417,-261\"/>\n",
       "<text text-anchor=\"middle\" x=\"365\" y=\"-245.8\" font-family=\"Times,serif\" font-size=\"14.00\" fill=\"#000000\">X[5] &lt;= 6.687</text>\n",
       "<text text-anchor=\"middle\" x=\"365\" y=\"-230.8\" font-family=\"Times,serif\" font-size=\"14.00\" fill=\"#000000\">mse = 9.339</text>\n",
       "<text text-anchor=\"middle\" x=\"365\" y=\"-215.8\" font-family=\"Times,serif\" font-size=\"14.00\" fill=\"#000000\">samples = 62</text>\n",
       "<text text-anchor=\"middle\" x=\"365\" y=\"-200.8\" font-family=\"Times,serif\" font-size=\"14.00\" fill=\"#000000\">value = 20.737</text>\n",
       "</g>\n",
       "<!-- 5&#45;&gt;11 -->\n",
       "<g id=\"edge12\" class=\"edge\">\n",
       "<title>5&#45;&gt;11</title>\n",
       "<path fill=\"none\" stroke=\"#000000\" d=\"M441.6721,-296.9465C431.535,-287.6986 420.4517,-277.5876 409.9417,-267.9994\"/>\n",
       "<polygon fill=\"#000000\" stroke=\"#000000\" points=\"412.1583,-265.284 402.4117,-261.13 407.4405,-270.4553 412.1583,-265.284\"/>\n",
       "</g>\n",
       "<!-- 12 -->\n",
       "<g id=\"node16\" class=\"node\">\n",
       "<title>12</title>\n",
       "<polygon fill=\"none\" stroke=\"#000000\" points=\"532.5,-253.5 435.5,-253.5 435.5,-200.5 532.5,-200.5 532.5,-253.5\"/>\n",
       "<text text-anchor=\"middle\" x=\"484\" y=\"-238.3\" font-family=\"Times,serif\" font-size=\"14.00\" fill=\"#000000\">mse = 13.588</text>\n",
       "<text text-anchor=\"middle\" x=\"484\" y=\"-223.3\" font-family=\"Times,serif\" font-size=\"14.00\" fill=\"#000000\">samples = 50</text>\n",
       "<text text-anchor=\"middle\" x=\"484\" y=\"-208.3\" font-family=\"Times,serif\" font-size=\"14.00\" fill=\"#000000\">value = 17.17</text>\n",
       "</g>\n",
       "<!-- 5&#45;&gt;12 -->\n",
       "<g id=\"edge15\" class=\"edge\">\n",
       "<title>5&#45;&gt;12</title>\n",
       "<path fill=\"none\" stroke=\"#000000\" d=\"M480.6372,-296.9465C481.1509,-286.2621 481.7199,-274.4254 482.2416,-263.5742\"/>\n",
       "<polygon fill=\"#000000\" stroke=\"#000000\" points=\"485.7396,-263.6987 482.7239,-253.5422 478.7477,-263.3625 485.7396,-263.6987\"/>\n",
       "</g>\n",
       "<!-- 17 -->\n",
       "<g id=\"node14\" class=\"node\">\n",
       "<title>17</title>\n",
       "<polygon fill=\"none\" stroke=\"#000000\" points=\"412.5,-149.5 315.5,-149.5 315.5,-96.5 412.5,-96.5 412.5,-149.5\"/>\n",
       "<text text-anchor=\"middle\" x=\"364\" y=\"-134.3\" font-family=\"Times,serif\" font-size=\"14.00\" fill=\"#000000\">mse = 5.402</text>\n",
       "<text text-anchor=\"middle\" x=\"364\" y=\"-119.3\" font-family=\"Times,serif\" font-size=\"14.00\" fill=\"#000000\">samples = 58</text>\n",
       "<text text-anchor=\"middle\" x=\"364\" y=\"-104.3\" font-family=\"Times,serif\" font-size=\"14.00\" fill=\"#000000\">value = 20.25</text>\n",
       "</g>\n",
       "<!-- 11&#45;&gt;17 -->\n",
       "<g id=\"edge13\" class=\"edge\">\n",
       "<title>11&#45;&gt;17</title>\n",
       "<path fill=\"none\" stroke=\"#000000\" d=\"M364.6726,-192.9465C364.5698,-182.2621 364.456,-170.4254 364.3517,-159.5742\"/>\n",
       "<polygon fill=\"#000000\" stroke=\"#000000\" points=\"367.8513,-159.508 364.2552,-149.5422 360.8516,-159.5754 367.8513,-159.508\"/>\n",
       "</g>\n",
       "<!-- 18 -->\n",
       "<g id=\"node15\" class=\"node\">\n",
       "<title>18</title>\n",
       "<polygon fill=\"none\" stroke=\"#000000\" points=\"527,-149.5 431,-149.5 431,-96.5 527,-96.5 527,-149.5\"/>\n",
       "<text text-anchor=\"middle\" x=\"479\" y=\"-134.3\" font-family=\"Times,serif\" font-size=\"14.00\" fill=\"#000000\">mse = 13.095</text>\n",
       "<text text-anchor=\"middle\" x=\"479\" y=\"-119.3\" font-family=\"Times,serif\" font-size=\"14.00\" fill=\"#000000\">samples = 4</text>\n",
       "<text text-anchor=\"middle\" x=\"479\" y=\"-104.3\" font-family=\"Times,serif\" font-size=\"14.00\" fill=\"#000000\">value = 27.8</text>\n",
       "</g>\n",
       "<!-- 11&#45;&gt;18 -->\n",
       "<g id=\"edge14\" class=\"edge\">\n",
       "<title>11&#45;&gt;18</title>\n",
       "<path fill=\"none\" stroke=\"#000000\" d=\"M402.3279,-192.9465C415.1263,-181.2707 429.433,-168.219 442.1901,-156.5809\"/>\n",
       "<polygon fill=\"#000000\" stroke=\"#000000\" points=\"444.8769,-158.8675 449.9057,-149.5422 440.1591,-153.6961 444.8769,-158.8675\"/>\n",
       "</g>\n",
       "<!-- 13 -->\n",
       "<g id=\"node18\" class=\"node\">\n",
       "<title>13</title>\n",
       "<polygon fill=\"none\" stroke=\"#000000\" points=\"658,-253.5 554,-253.5 554,-200.5 658,-200.5 658,-253.5\"/>\n",
       "<text text-anchor=\"middle\" x=\"606\" y=\"-238.3\" font-family=\"Times,serif\" font-size=\"14.00\" fill=\"#000000\">mse = 8.967</text>\n",
       "<text text-anchor=\"middle\" x=\"606\" y=\"-223.3\" font-family=\"Times,serif\" font-size=\"14.00\" fill=\"#000000\">samples = 19</text>\n",
       "<text text-anchor=\"middle\" x=\"606\" y=\"-208.3\" font-family=\"Times,serif\" font-size=\"14.00\" fill=\"#000000\">value = 15.089</text>\n",
       "</g>\n",
       "<!-- 6&#45;&gt;13 -->\n",
       "<g id=\"edge17\" class=\"edge\">\n",
       "<title>6&#45;&gt;13</title>\n",
       "<path fill=\"none\" stroke=\"#000000\" d=\"M606.6726,-296.9465C606.5698,-286.2621 606.456,-274.4254 606.3517,-263.5742\"/>\n",
       "<polygon fill=\"#000000\" stroke=\"#000000\" points=\"609.8513,-263.508 606.2552,-253.5422 602.8516,-263.5754 609.8513,-263.508\"/>\n",
       "</g>\n",
       "<!-- 14 -->\n",
       "<g id=\"node19\" class=\"node\">\n",
       "<title>14</title>\n",
       "<polygon fill=\"none\" stroke=\"#000000\" points=\"773.5,-253.5 676.5,-253.5 676.5,-200.5 773.5,-200.5 773.5,-253.5\"/>\n",
       "<text text-anchor=\"middle\" x=\"725\" y=\"-238.3\" font-family=\"Times,serif\" font-size=\"14.00\" fill=\"#000000\">mse = 6.621</text>\n",
       "<text text-anchor=\"middle\" x=\"725\" y=\"-223.3\" font-family=\"Times,serif\" font-size=\"14.00\" fill=\"#000000\">samples = 24</text>\n",
       "<text text-anchor=\"middle\" x=\"725\" y=\"-208.3\" font-family=\"Times,serif\" font-size=\"14.00\" fill=\"#000000\">value = 9.462</text>\n",
       "</g>\n",
       "<!-- 6&#45;&gt;14 -->\n",
       "<g id=\"edge18\" class=\"edge\">\n",
       "<title>6&#45;&gt;14</title>\n",
       "<path fill=\"none\" stroke=\"#000000\" d=\"M645.6376,-296.9465C659.0101,-285.1606 673.9734,-271.9726 687.2719,-260.2519\"/>\n",
       "<polygon fill=\"#000000\" stroke=\"#000000\" points=\"689.697,-262.7799 694.8849,-253.5422 685.0685,-257.5285 689.697,-262.7799\"/>\n",
       "</g>\n",
       "</g>\n",
       "</svg>\n"
      ],
      "text/plain": [
       "<graphviz.files.Source at 0x7f6fd6ec3f60>"
      ]
     },
     "execution_count": 92,
     "metadata": {
      "tags": []
     },
     "output_type": "execute_result"
    }
   ],
   "source": [
    "# 木構造の表示\n",
    "graph = graphviz.Source(dot_data)  \n",
    "graph"
   ]
  },
  {
   "cell_type": "markdown",
   "metadata": {
    "colab_type": "text",
    "id": "aw-i-OLERUF0"
   },
   "source": [
    "ハイパーパラメータの調整で精度が向上しましたがいくつか問題点があります。  \n",
    "\n",
    "- 検証データに対してチューニングを行うことによって検証データに対して過学習が起こる可能性がある\n",
    "- 膨大なハイパーパラメータの中から最適な見つけるには手動では非効率である\n",
    "\n",
    "上記の問題点に対して、どの様なアプローチがあるのか確認します。\n",
    "\n",
    "\n",
    "#### 訓練（Train）、検証（ Validation）、テスト（Test）データへの分割\n",
    "\n",
    "今までは学習済みモデルを作成する際に、データを訓練データと検証データにのみ分けて行ってきました。  \n",
    "ですが、ハイパーパラメータのチューニングを行う際にはデータを3つに分割する必要があります。  \n",
    "\n",
    "| 名前   | 役割                                         |\n",
    "| ------ | -------------------------------------------- |\n",
    "| Train   | 学習を行うためのデータ                       |\n",
    "| Validation   | ハイパーパラメータの調整のために使用するデータ |\n",
    "| Test | 学習済みモデルの精度を評価するためのデータ     |\n",
    "\n",
    "上記のような役割を分ける事によって、ハイパーパラメータのチューニング後も正しくモデルを評価することが可能になります。  \n",
    "\n",
    "ですが、データを分割することが多くなることによってデータに偏りが生じるという危険性もあります。  \n",
    "そのような場合に対して最もよく使われる方法の1つにクロスバリデーション（K-fold cross-validation）と呼ばれるものがあります。  \n",
    "\n",
    "\n",
    "#### クロスバリデーション \n",
    "\n",
    "クロスバリデーションは視覚的に確認した方がわかりやすいため、  \n",
    "下記の図に沿って解説します。  \n",
    "\n",
    "`Step1`  \n",
    "まず第一ステップとして、データセットを`k個`に分割します。  \n",
    "（この`k`は基本的に`5`に設定することが多いです。）  \n",
    "\n",
    "このkの数字は特に制約はありません。  \n",
    "ただ数字が増えるごとに計算量が増えるので、`k`の数はは計算リソースと相談しながら決定する必要があります。  \n",
    "（例では5分割にしています。）  \n",
    "\n",
    "\n",
    "![クロスバリデーション1](images/03_03.png)\n",
    "\n",
    "  \n",
    "`Step2`  \n",
    "分割したデータの1つを`Validation`とし、残りのデータ（`Train`）で学習を行います。  \n",
    "\n",
    "\n",
    "![クロスバリデーション2](images/03_04.png)\n",
    "\n",
    "\n",
    "`Step3`  \n",
    "各検証の結果の総和の平均を元に、ハイパーパラメータのチューニングを行います。  \n",
    "このようにすれば、データに偏りなくハイパーパラメータのチューニングを行うことができます。\n",
    "\n",
    "\n",
    "#### グリッドサーチ\n",
    "\n",
    "手動で行うハイパーパラメータのチューニングを自動化する方法の1つがグリッドサーチです。  \n",
    "\n",
    "グリッドサーチのグリッドは格子を意味し、格子状に最低なハイパーパラメータを探索するという事を指します。  \n",
    "\n",
    "\n",
    "![グリッドサーチ](images/03_05.png)\n",
    "\n",
    "\n",
    "Grid Searchでは上記の図のように、格子状（Grid）にハイパーパラメータの探索を行い、  \n",
    "その中から最適なパラメータを見つけだします。  \n",
    "\n",
    "グリッドサーチのメリットとデメリットは下記になります。\n",
    "\n",
    "- 良い点：効率よく最適なハイパーパラメータの探索を行うことが可能\n",
    "- 悪い点：該当するすべてのハイパーパラメータを計算するため計算コストが高くなり、時間がかかる場合がある\n",
    "\n",
    " グリッドサーチとクロスバリデーション の実装方法を確認していきます。  "
   ]
  },
  {
   "cell_type": "code",
   "execution_count": 0,
   "metadata": {
    "colab": {},
    "colab_type": "code",
    "id": "8cauuqtTRRKE"
   },
   "outputs": [],
   "source": [
    "# モジュールのインポート\n",
    "from sklearn.model_selection import GridSearchCV"
   ]
  },
  {
   "cell_type": "markdown",
   "metadata": {
    "colab_type": "text",
    "id": "AcnraXdhRRPs"
   },
   "source": [
    "Grid SearchCVの使用には下記の二つを準備する必要があります。  \n",
    "`estimator` → こちらは使用するモデルのことです。  \n",
    "`param_grid` → こちらはGrid Searchで探索する範囲です。"
   ]
  },
  {
   "cell_type": "code",
   "execution_count": 0,
   "metadata": {
    "colab": {},
    "colab_type": "code",
    "id": "bek4ziQYRRVm"
   },
   "outputs": [],
   "source": [
    "# 使用する手法の宣言\n",
    "estimator = DecisionTreeRegressor(random_state=0) # 再現性を確保する為、random_stateの設定を行なっています。"
   ]
  },
  {
   "cell_type": "code",
   "execution_count": 0,
   "metadata": {
    "colab": {},
    "colab_type": "code",
    "id": "zDWlJYOWRRc7"
   },
   "outputs": [],
   "source": [
    "# 探索する範囲の指定\n",
    "param_grid = [\n",
    "    {\n",
    "        'max_depth':[3, 5, 10] , 'max_leaf_nodes':[5, 10, 15]\n",
    "    }\n",
    "]"
   ]
  },
  {
   "cell_type": "markdown",
   "metadata": {
    "colab_type": "text",
    "id": "2yRHezdaRRkT"
   },
   "source": [
    "下記のコードの`cv`が表しているのが`Cross Validation`です。  \n",
    "そして今回はデータセットを5分割して`train` と `validation`に振り分けます。その為使用するデータは`train`のデータのみを使用します。  "
   ]
  },
  {
   "cell_type": "code",
   "execution_count": 0,
   "metadata": {
    "colab": {},
    "colab_type": "code",
    "id": "foKQ3fBdRRrq"
   },
   "outputs": [],
   "source": [
    "# モデルの宣言\n",
    "tuned_model = GridSearchCV(estimator=estimator, param_grid=param_grid, cv=5, return_train_score=False)"
   ]
  },
  {
   "cell_type": "code",
   "execution_count": 0,
   "metadata": {
    "colab": {
     "base_uri": "https://localhost:8080/",
     "height": 241
    },
    "colab_type": "code",
    "id": "KkUuTwH5RRyc",
    "outputId": "f9806e45-9d29-42a5-c70f-10e0941c86c1"
   },
   "outputs": [
    {
     "name": "stderr",
     "output_type": "stream",
     "text": [
      "/usr/local/lib/python3.6/dist-packages/sklearn/model_selection/_search.py:841: DeprecationWarning: The default of the `iid` parameter will change from True to False in version 0.22 and will be removed in 0.24. This will change numeric results when test-set sizes are unequal.\n",
      "  DeprecationWarning)\n"
     ]
    },
    {
     "data": {
      "text/plain": [
       "GridSearchCV(cv=5, error_score='raise-deprecating',\n",
       "       estimator=DecisionTreeRegressor(criterion='mse', max_depth=None, max_features=None,\n",
       "           max_leaf_nodes=None, min_impurity_decrease=0.0,\n",
       "           min_impurity_split=None, min_samples_leaf=1,\n",
       "           min_samples_split=2, min_weight_fraction_leaf=0.0,\n",
       "           presort=False, random_state=0, splitter='best'),\n",
       "       fit_params=None, iid='warn', n_jobs=None,\n",
       "       param_grid=[{'max_depth': [3, 5, 10], 'max_leaf_nodes': [5, 10, 15]}],\n",
       "       pre_dispatch='2*n_jobs', refit=True, return_train_score=False,\n",
       "       scoring=None, verbose=0)"
      ]
     },
     "execution_count": 101,
     "metadata": {
      "tags": []
     },
     "output_type": "execute_result"
    }
   ],
   "source": [
    "# モデルの学習\n",
    "tuned_model.fit(x_train, t_train)"
   ]
  },
  {
   "cell_type": "markdown",
   "metadata": {
    "colab_type": "text",
    "id": "FToJRMnrbR2U"
   },
   "source": [
    "モデルの検証は少し今ままでと違う形式で表示されます。  \n",
    "そのため、表データを綺麗に表示することのできる`pandas`というパッケージを使用します。"
   ]
  },
  {
   "cell_type": "code",
   "execution_count": 0,
   "metadata": {
    "colab": {
     "base_uri": "https://localhost:8080/",
     "height": 568
    },
    "colab_type": "code",
    "id": "QflwNIrARR4p",
    "outputId": "84da1532-b032-4cec-dd42-ce33b76a97ad"
   },
   "outputs": [
    {
     "data": {
      "text/html": [
       "<div>\n",
       "<style scoped>\n",
       "    .dataframe tbody tr th:only-of-type {\n",
       "        vertical-align: middle;\n",
       "    }\n",
       "\n",
       "    .dataframe tbody tr th {\n",
       "        vertical-align: top;\n",
       "    }\n",
       "\n",
       "    .dataframe thead th {\n",
       "        text-align: right;\n",
       "    }\n",
       "</style>\n",
       "<table border=\"1\" class=\"dataframe\">\n",
       "  <thead>\n",
       "    <tr style=\"text-align: right;\">\n",
       "      <th></th>\n",
       "      <th>0</th>\n",
       "      <th>1</th>\n",
       "      <th>2</th>\n",
       "      <th>3</th>\n",
       "      <th>4</th>\n",
       "      <th>5</th>\n",
       "      <th>6</th>\n",
       "      <th>7</th>\n",
       "      <th>8</th>\n",
       "    </tr>\n",
       "  </thead>\n",
       "  <tbody>\n",
       "    <tr>\n",
       "      <th>mean_fit_time</th>\n",
       "      <td>0.0010911</td>\n",
       "      <td>0.000768328</td>\n",
       "      <td>0.00080142</td>\n",
       "      <td>0.000712442</td>\n",
       "      <td>0.000874805</td>\n",
       "      <td>0.000946474</td>\n",
       "      <td>0.000711823</td>\n",
       "      <td>0.000875711</td>\n",
       "      <td>0.000961447</td>\n",
       "    </tr>\n",
       "    <tr>\n",
       "      <th>mean_score_time</th>\n",
       "      <td>0.000587749</td>\n",
       "      <td>0.000426483</td>\n",
       "      <td>0.000406504</td>\n",
       "      <td>0.00041151</td>\n",
       "      <td>0.000430298</td>\n",
       "      <td>0.000435448</td>\n",
       "      <td>0.000434542</td>\n",
       "      <td>0.000425768</td>\n",
       "      <td>0.000473261</td>\n",
       "    </tr>\n",
       "    <tr>\n",
       "      <th>mean_test_score</th>\n",
       "      <td>0.570082</td>\n",
       "      <td>0.731388</td>\n",
       "      <td>0.721216</td>\n",
       "      <td>0.570082</td>\n",
       "      <td>0.733764</td>\n",
       "      <td>0.73984</td>\n",
       "      <td>0.570082</td>\n",
       "      <td>0.733764</td>\n",
       "      <td>0.73984</td>\n",
       "    </tr>\n",
       "    <tr>\n",
       "      <th>param_max_depth</th>\n",
       "      <td>3</td>\n",
       "      <td>3</td>\n",
       "      <td>3</td>\n",
       "      <td>5</td>\n",
       "      <td>5</td>\n",
       "      <td>5</td>\n",
       "      <td>10</td>\n",
       "      <td>10</td>\n",
       "      <td>10</td>\n",
       "    </tr>\n",
       "    <tr>\n",
       "      <th>param_max_leaf_nodes</th>\n",
       "      <td>5</td>\n",
       "      <td>10</td>\n",
       "      <td>15</td>\n",
       "      <td>5</td>\n",
       "      <td>10</td>\n",
       "      <td>15</td>\n",
       "      <td>5</td>\n",
       "      <td>10</td>\n",
       "      <td>15</td>\n",
       "    </tr>\n",
       "    <tr>\n",
       "      <th>params</th>\n",
       "      <td>{'max_depth': 3, 'max_leaf_nodes': 5}</td>\n",
       "      <td>{'max_depth': 3, 'max_leaf_nodes': 10}</td>\n",
       "      <td>{'max_depth': 3, 'max_leaf_nodes': 15}</td>\n",
       "      <td>{'max_depth': 5, 'max_leaf_nodes': 5}</td>\n",
       "      <td>{'max_depth': 5, 'max_leaf_nodes': 10}</td>\n",
       "      <td>{'max_depth': 5, 'max_leaf_nodes': 15}</td>\n",
       "      <td>{'max_depth': 10, 'max_leaf_nodes': 5}</td>\n",
       "      <td>{'max_depth': 10, 'max_leaf_nodes': 10}</td>\n",
       "      <td>{'max_depth': 10, 'max_leaf_nodes': 15}</td>\n",
       "    </tr>\n",
       "    <tr>\n",
       "      <th>rank_test_score</th>\n",
       "      <td>7</td>\n",
       "      <td>5</td>\n",
       "      <td>6</td>\n",
       "      <td>7</td>\n",
       "      <td>3</td>\n",
       "      <td>1</td>\n",
       "      <td>7</td>\n",
       "      <td>3</td>\n",
       "      <td>1</td>\n",
       "    </tr>\n",
       "    <tr>\n",
       "      <th>split0_test_score</th>\n",
       "      <td>0.424804</td>\n",
       "      <td>0.540686</td>\n",
       "      <td>0.533463</td>\n",
       "      <td>0.424804</td>\n",
       "      <td>0.540686</td>\n",
       "      <td>0.568387</td>\n",
       "      <td>0.424804</td>\n",
       "      <td>0.540686</td>\n",
       "      <td>0.568387</td>\n",
       "    </tr>\n",
       "    <tr>\n",
       "      <th>split1_test_score</th>\n",
       "      <td>0.583064</td>\n",
       "      <td>0.730235</td>\n",
       "      <td>0.711509</td>\n",
       "      <td>0.583064</td>\n",
       "      <td>0.730235</td>\n",
       "      <td>0.75119</td>\n",
       "      <td>0.583064</td>\n",
       "      <td>0.730235</td>\n",
       "      <td>0.75119</td>\n",
       "    </tr>\n",
       "    <tr>\n",
       "      <th>split2_test_score</th>\n",
       "      <td>0.600428</td>\n",
       "      <td>0.885019</td>\n",
       "      <td>0.85815</td>\n",
       "      <td>0.600428</td>\n",
       "      <td>0.885019</td>\n",
       "      <td>0.880105</td>\n",
       "      <td>0.600428</td>\n",
       "      <td>0.885019</td>\n",
       "      <td>0.880105</td>\n",
       "    </tr>\n",
       "    <tr>\n",
       "      <th>split3_test_score</th>\n",
       "      <td>0.629366</td>\n",
       "      <td>0.762856</td>\n",
       "      <td>0.749834</td>\n",
       "      <td>0.629366</td>\n",
       "      <td>0.762856</td>\n",
       "      <td>0.74141</td>\n",
       "      <td>0.629366</td>\n",
       "      <td>0.762856</td>\n",
       "      <td>0.74141</td>\n",
       "    </tr>\n",
       "    <tr>\n",
       "      <th>split4_test_score</th>\n",
       "      <td>0.614787</td>\n",
       "      <td>0.738909</td>\n",
       "      <td>0.754334</td>\n",
       "      <td>0.614787</td>\n",
       "      <td>0.750931</td>\n",
       "      <td>0.758502</td>\n",
       "      <td>0.614787</td>\n",
       "      <td>0.750931</td>\n",
       "      <td>0.758502</td>\n",
       "    </tr>\n",
       "    <tr>\n",
       "      <th>std_fit_time</th>\n",
       "      <td>0.000224291</td>\n",
       "      <td>2.98458e-05</td>\n",
       "      <td>6.10399e-05</td>\n",
       "      <td>7.28638e-05</td>\n",
       "      <td>4.67206e-05</td>\n",
       "      <td>2.66028e-05</td>\n",
       "      <td>3.70342e-05</td>\n",
       "      <td>3.95154e-05</td>\n",
       "      <td>4.56591e-05</td>\n",
       "    </tr>\n",
       "    <tr>\n",
       "      <th>std_score_time</th>\n",
       "      <td>0.000255538</td>\n",
       "      <td>3.64964e-05</td>\n",
       "      <td>2.00833e-05</td>\n",
       "      <td>1.88884e-05</td>\n",
       "      <td>2.33774e-05</td>\n",
       "      <td>1.30191e-05</td>\n",
       "      <td>1.76247e-05</td>\n",
       "      <td>2.56733e-05</td>\n",
       "      <td>6.4952e-05</td>\n",
       "    </tr>\n",
       "    <tr>\n",
       "      <th>std_test_score</th>\n",
       "      <td>0.0745899</td>\n",
       "      <td>0.110887</td>\n",
       "      <td>0.106223</td>\n",
       "      <td>0.0745899</td>\n",
       "      <td>0.111151</td>\n",
       "      <td>0.0999349</td>\n",
       "      <td>0.0745899</td>\n",
       "      <td>0.111151</td>\n",
       "      <td>0.0999349</td>\n",
       "    </tr>\n",
       "  </tbody>\n",
       "</table>\n",
       "</div>"
      ],
      "text/plain": [
       "                                                          0  \\\n",
       "mean_fit_time                                     0.0010911   \n",
       "mean_score_time                                 0.000587749   \n",
       "mean_test_score                                    0.570082   \n",
       "param_max_depth                                           3   \n",
       "param_max_leaf_nodes                                      5   \n",
       "params                {'max_depth': 3, 'max_leaf_nodes': 5}   \n",
       "rank_test_score                                           7   \n",
       "split0_test_score                                  0.424804   \n",
       "split1_test_score                                  0.583064   \n",
       "split2_test_score                                  0.600428   \n",
       "split3_test_score                                  0.629366   \n",
       "split4_test_score                                  0.614787   \n",
       "std_fit_time                                    0.000224291   \n",
       "std_score_time                                  0.000255538   \n",
       "std_test_score                                    0.0745899   \n",
       "\n",
       "                                                           1  \\\n",
       "mean_fit_time                                    0.000768328   \n",
       "mean_score_time                                  0.000426483   \n",
       "mean_test_score                                     0.731388   \n",
       "param_max_depth                                            3   \n",
       "param_max_leaf_nodes                                      10   \n",
       "params                {'max_depth': 3, 'max_leaf_nodes': 10}   \n",
       "rank_test_score                                            5   \n",
       "split0_test_score                                   0.540686   \n",
       "split1_test_score                                   0.730235   \n",
       "split2_test_score                                   0.885019   \n",
       "split3_test_score                                   0.762856   \n",
       "split4_test_score                                   0.738909   \n",
       "std_fit_time                                     2.98458e-05   \n",
       "std_score_time                                   3.64964e-05   \n",
       "std_test_score                                      0.110887   \n",
       "\n",
       "                                                           2  \\\n",
       "mean_fit_time                                     0.00080142   \n",
       "mean_score_time                                  0.000406504   \n",
       "mean_test_score                                     0.721216   \n",
       "param_max_depth                                            3   \n",
       "param_max_leaf_nodes                                      15   \n",
       "params                {'max_depth': 3, 'max_leaf_nodes': 15}   \n",
       "rank_test_score                                            6   \n",
       "split0_test_score                                   0.533463   \n",
       "split1_test_score                                   0.711509   \n",
       "split2_test_score                                    0.85815   \n",
       "split3_test_score                                   0.749834   \n",
       "split4_test_score                                   0.754334   \n",
       "std_fit_time                                     6.10399e-05   \n",
       "std_score_time                                   2.00833e-05   \n",
       "std_test_score                                      0.106223   \n",
       "\n",
       "                                                          3  \\\n",
       "mean_fit_time                                   0.000712442   \n",
       "mean_score_time                                  0.00041151   \n",
       "mean_test_score                                    0.570082   \n",
       "param_max_depth                                           5   \n",
       "param_max_leaf_nodes                                      5   \n",
       "params                {'max_depth': 5, 'max_leaf_nodes': 5}   \n",
       "rank_test_score                                           7   \n",
       "split0_test_score                                  0.424804   \n",
       "split1_test_score                                  0.583064   \n",
       "split2_test_score                                  0.600428   \n",
       "split3_test_score                                  0.629366   \n",
       "split4_test_score                                  0.614787   \n",
       "std_fit_time                                    7.28638e-05   \n",
       "std_score_time                                  1.88884e-05   \n",
       "std_test_score                                    0.0745899   \n",
       "\n",
       "                                                           4  \\\n",
       "mean_fit_time                                    0.000874805   \n",
       "mean_score_time                                  0.000430298   \n",
       "mean_test_score                                     0.733764   \n",
       "param_max_depth                                            5   \n",
       "param_max_leaf_nodes                                      10   \n",
       "params                {'max_depth': 5, 'max_leaf_nodes': 10}   \n",
       "rank_test_score                                            3   \n",
       "split0_test_score                                   0.540686   \n",
       "split1_test_score                                   0.730235   \n",
       "split2_test_score                                   0.885019   \n",
       "split3_test_score                                   0.762856   \n",
       "split4_test_score                                   0.750931   \n",
       "std_fit_time                                     4.67206e-05   \n",
       "std_score_time                                   2.33774e-05   \n",
       "std_test_score                                      0.111151   \n",
       "\n",
       "                                                           5  \\\n",
       "mean_fit_time                                    0.000946474   \n",
       "mean_score_time                                  0.000435448   \n",
       "mean_test_score                                      0.73984   \n",
       "param_max_depth                                            5   \n",
       "param_max_leaf_nodes                                      15   \n",
       "params                {'max_depth': 5, 'max_leaf_nodes': 15}   \n",
       "rank_test_score                                            1   \n",
       "split0_test_score                                   0.568387   \n",
       "split1_test_score                                    0.75119   \n",
       "split2_test_score                                   0.880105   \n",
       "split3_test_score                                    0.74141   \n",
       "split4_test_score                                   0.758502   \n",
       "std_fit_time                                     2.66028e-05   \n",
       "std_score_time                                   1.30191e-05   \n",
       "std_test_score                                     0.0999349   \n",
       "\n",
       "                                                           6  \\\n",
       "mean_fit_time                                    0.000711823   \n",
       "mean_score_time                                  0.000434542   \n",
       "mean_test_score                                     0.570082   \n",
       "param_max_depth                                           10   \n",
       "param_max_leaf_nodes                                       5   \n",
       "params                {'max_depth': 10, 'max_leaf_nodes': 5}   \n",
       "rank_test_score                                            7   \n",
       "split0_test_score                                   0.424804   \n",
       "split1_test_score                                   0.583064   \n",
       "split2_test_score                                   0.600428   \n",
       "split3_test_score                                   0.629366   \n",
       "split4_test_score                                   0.614787   \n",
       "std_fit_time                                     3.70342e-05   \n",
       "std_score_time                                   1.76247e-05   \n",
       "std_test_score                                     0.0745899   \n",
       "\n",
       "                                                            7  \\\n",
       "mean_fit_time                                     0.000875711   \n",
       "mean_score_time                                   0.000425768   \n",
       "mean_test_score                                      0.733764   \n",
       "param_max_depth                                            10   \n",
       "param_max_leaf_nodes                                       10   \n",
       "params                {'max_depth': 10, 'max_leaf_nodes': 10}   \n",
       "rank_test_score                                             3   \n",
       "split0_test_score                                    0.540686   \n",
       "split1_test_score                                    0.730235   \n",
       "split2_test_score                                    0.885019   \n",
       "split3_test_score                                    0.762856   \n",
       "split4_test_score                                    0.750931   \n",
       "std_fit_time                                      3.95154e-05   \n",
       "std_score_time                                    2.56733e-05   \n",
       "std_test_score                                       0.111151   \n",
       "\n",
       "                                                            8  \n",
       "mean_fit_time                                     0.000961447  \n",
       "mean_score_time                                   0.000473261  \n",
       "mean_test_score                                       0.73984  \n",
       "param_max_depth                                            10  \n",
       "param_max_leaf_nodes                                       15  \n",
       "params                {'max_depth': 10, 'max_leaf_nodes': 15}  \n",
       "rank_test_score                                             1  \n",
       "split0_test_score                                    0.568387  \n",
       "split1_test_score                                     0.75119  \n",
       "split2_test_score                                    0.880105  \n",
       "split3_test_score                                     0.74141  \n",
       "split4_test_score                                    0.758502  \n",
       "std_fit_time                                      4.56591e-05  \n",
       "std_score_time                                     6.4952e-05  \n",
       "std_test_score                                      0.0999349  "
      ]
     },
     "execution_count": 102,
     "metadata": {
      "tags": []
     },
     "output_type": "execute_result"
    }
   ],
   "source": [
    "# pandasのimport\n",
    "import pandas as pd\n",
    "\n",
    "# モデルの検証\n",
    "pd.DataFrame(tuned_model.cv_results_).T"
   ]
  },
  {
   "cell_type": "markdown",
   "metadata": {
    "colab_type": "text",
    "id": "oAs5yoH7RR-f"
   },
   "source": [
    "ハイパーパラメータの数が２つで、それぞれ3つずつ範囲を指定していたので、  \n",
    "合計9つのパターンの計算が行われていることが確認できます。　　\n",
    "\n",
    "またCross Validationにより結果がそれぞれ5個出ていることも確認できます。"
   ]
  },
  {
   "cell_type": "markdown",
   "metadata": {
    "colab_type": "text",
    "id": "kqZaDNYNctyD"
   },
   "source": [
    "##### テストデータでモデルの検証"
   ]
  },
  {
   "cell_type": "code",
   "execution_count": 0,
   "metadata": {
    "colab": {
     "base_uri": "https://localhost:8080/",
     "height": 34
    },
    "colab_type": "code",
    "id": "HaDQlo2BRSEq",
    "outputId": "d700184d-425d-400c-ca8f-2603143ccedb"
   },
   "outputs": [
    {
     "data": {
      "text/plain": [
       "{'max_depth': 5, 'max_leaf_nodes': 15}"
      ]
     },
     "execution_count": 103,
     "metadata": {
      "tags": []
     },
     "output_type": "execute_result"
    }
   ],
   "source": [
    "# 最適なハイパーパラメータの確認\n",
    "tuned_model.best_params_"
   ]
  },
  {
   "cell_type": "code",
   "execution_count": 0,
   "metadata": {
    "colab": {},
    "colab_type": "code",
    "id": "83R8KJayRSK9"
   },
   "outputs": [],
   "source": [
    "# 最適なモデルの引き継ぎ\n",
    "model = tuned_model.best_estimator_"
   ]
  },
  {
   "cell_type": "code",
   "execution_count": 0,
   "metadata": {
    "colab": {
     "base_uri": "https://localhost:8080/",
     "height": 51
    },
    "colab_type": "code",
    "id": "EU7HjAbPRSRD",
    "outputId": "e63ba337-4571-46a7-d142-a2003d29a4dd"
   },
   "outputs": [
    {
     "name": "stdout",
     "output_type": "stream",
     "text": [
      "0.9206313161489139\n",
      "0.8041461216213243\n"
     ]
    }
   ],
   "source": [
    "# モデルのテスト\n",
    "print(model.score(x_train, t_train))\n",
    "print(model.score(x_test, t_test))"
   ]
  },
  {
   "cell_type": "markdown",
   "metadata": {
    "colab_type": "text",
    "id": "AqqWBe_bRSXD"
   },
   "source": [
    "先ほどの結果より少し精度が向上しました。  \n",
    "この様にグリッドサーチを使用することによって、効率よくハイパーパラメータの探索を行うことがきます。  \n",
    "\n",
    "この内容で機械学習に関する基礎的な部分は網羅することができました。  \n",
    "\n",
    "次の章では機械学習で用いられる代表的なパッケージについて紹介していきます。  \n",
    "そして基礎的な機械学習について理解した上でディープラーニング、Chainerについて学びます。"
   ]
  }
 ],
 "metadata": {
  "accelerator": "GPU",
  "colab": {
   "collapsed_sections": [],
   "name": "(3) 機械学習の基礎（Numpy, Scikit-learn）.ipynb",
   "provenance": [],
   "version": "0.3.2"
  },
  "kernelspec": {
   "display_name": "Python 3",
   "language": "python",
   "name": "python3"
  },
  "language_info": {
   "codemirror_mode": {
    "name": "ipython",
    "version": 3
   },
   "file_extension": ".py",
   "mimetype": "text/x-python",
   "name": "python",
   "nbconvert_exporter": "python",
   "pygments_lexer": "ipython3",
   "version": "3.6.7"
  }
 },
 "nbformat": 4,
 "nbformat_minor": 1
}
